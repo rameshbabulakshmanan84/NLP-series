{
 "cells": [
  {
   "cell_type": "code",
   "execution_count": 51,
   "metadata": {},
   "outputs": [],
   "source": [
    "#The document fr processing\n",
    "cat_in_the_hat_docs=[\n",
    "       \"One Cent, Two Cents, Old Cent, New Cent: All About Money (Cat in the Hat's Learning Library)\",\n",
    "       \"Inside Your Outside: All About the Human Body (Cat in the Hat's Learning Library)\",\n",
    "       \"Oh, The Things You Can Do That Are Good for You: All About Staying Healthy (Cat in the Hat's Learning Library)\",\n",
    "       \"On Beyond Bugs: All About Insects (Cat in the Hat's Learning Library)\",\n",
    "       \"There's No Place Like Space: All About Our Solar System (Cat in the Hat's Learning Library)\" ]"
   ]
  },
  {
   "cell_type": "code",
   "execution_count": 52,
   "metadata": {},
   "outputs": [],
   "source": [
    "#import countvectorizer to perform transformation\n",
    "from sklearn.feature_extraction.text import CountVectorizer\n",
    "cv=CountVectorizer(cat_in_the_hat_docs)\n",
    "count_vector=cv.fit_transform(cat_in_the_hat_docs)\n",
    "#performs following\n",
    "#lowercases your text \n",
    "#split into tokens\n",
    "#igjnores the single characters\n",
    "#uses utf ecoding\n"
   ]
  },
  {
   "cell_type": "code",
   "execution_count": 53,
   "metadata": {},
   "outputs": [
    {
     "data": {
      "text/plain": [
       "{'about': 0,\n",
       " 'all': 1,\n",
       " 'are': 2,\n",
       " 'beyond': 3,\n",
       " 'body': 4,\n",
       " 'bugs': 5,\n",
       " 'can': 6,\n",
       " 'cat': 7,\n",
       " 'cent': 8,\n",
       " 'cents': 9,\n",
       " 'do': 10,\n",
       " 'for': 11,\n",
       " 'good': 12,\n",
       " 'hat': 13,\n",
       " 'healthy': 14,\n",
       " 'human': 15,\n",
       " 'in': 16,\n",
       " 'insects': 17,\n",
       " 'inside': 18,\n",
       " 'learning': 19,\n",
       " 'library': 20,\n",
       " 'like': 21,\n",
       " 'money': 22,\n",
       " 'new': 23,\n",
       " 'no': 24,\n",
       " 'oh': 25,\n",
       " 'old': 26,\n",
       " 'on': 27,\n",
       " 'one': 28,\n",
       " 'our': 29,\n",
       " 'outside': 30,\n",
       " 'place': 31,\n",
       " 'solar': 32,\n",
       " 'space': 33,\n",
       " 'staying': 34,\n",
       " 'system': 35,\n",
       " 'that': 36,\n",
       " 'the': 37,\n",
       " 'there': 38,\n",
       " 'things': 39,\n",
       " 'two': 40,\n",
       " 'you': 41,\n",
       " 'your': 42}"
      ]
     },
     "execution_count": 53,
     "metadata": {},
     "output_type": "execute_result"
    }
   ],
   "source": [
    "#look at the vocabulary\n",
    "#word : position\n",
    "cv.vocabulary_"
   ]
  },
  {
   "cell_type": "code",
   "execution_count": 54,
   "metadata": {},
   "outputs": [
    {
     "data": {
      "text/plain": [
       "(5, 43)"
      ]
     },
     "execution_count": 54,
     "metadata": {},
     "output_type": "execute_result"
    }
   ],
   "source": [
    "#print the shape\n",
    "count_vector.shape\n"
   ]
  },
  {
   "cell_type": "code",
   "execution_count": 55,
   "metadata": {},
   "outputs": [
    {
     "data": {
      "text/plain": [
       "(5, 40)"
      ]
     },
     "execution_count": 55,
     "metadata": {},
     "output_type": "execute_result"
    }
   ],
   "source": [
    "#remove the stopwords to reduce the dim\n",
    "#1.custom stopword list\n",
    "cv=CountVectorizer(cat_in_the_hat_docs,stop_words=[\"all\",\"in\",\"the\",\"is\",\"and\"])\n",
    "CountVector=cv.fit_transform(cat_in_the_hat_docs)\n",
    "#print the shape\n",
    "CountVector.shape\n",
    "#Observe the reduction of columns"
   ]
  },
  {
   "cell_type": "code",
   "execution_count": 56,
   "metadata": {},
   "outputs": [
    {
     "data": {
      "text/plain": [
       "['all', 'in', 'the', 'is', 'and']"
      ]
     },
     "execution_count": 56,
     "metadata": {},
     "output_type": "execute_result"
    }
   ],
   "source": [
    "#print the stop words\n",
    "cv.stop_words"
   ]
  },
  {
   "cell_type": "code",
   "execution_count": 57,
   "metadata": {},
   "outputs": [],
   "source": [
    "#min_df-->how many documents contained a term\n",
    "cv=CountVectorizer(cat_in_the_hat_docs,min_df=3)\n",
    "CountVector=cv.fit_transform(cat_in_the_hat_docs)"
   ]
  },
  {
   "cell_type": "code",
   "execution_count": 58,
   "metadata": {},
   "outputs": [
    {
     "data": {
      "text/plain": [
       "{'are',\n",
       " 'beyond',\n",
       " 'body',\n",
       " 'bugs',\n",
       " 'can',\n",
       " 'cent',\n",
       " 'cents',\n",
       " 'do',\n",
       " 'for',\n",
       " 'good',\n",
       " 'healthy',\n",
       " 'human',\n",
       " 'insects',\n",
       " 'inside',\n",
       " 'like',\n",
       " 'money',\n",
       " 'new',\n",
       " 'no',\n",
       " 'oh',\n",
       " 'old',\n",
       " 'on',\n",
       " 'one',\n",
       " 'our',\n",
       " 'outside',\n",
       " 'place',\n",
       " 'solar',\n",
       " 'space',\n",
       " 'staying',\n",
       " 'system',\n",
       " 'that',\n",
       " 'there',\n",
       " 'things',\n",
       " 'two',\n",
       " 'you',\n",
       " 'your'}"
      ]
     },
     "execution_count": 58,
     "metadata": {},
     "output_type": "execute_result"
    }
   ],
   "source": [
    "#find the words that have been eliminated\n",
    "cv.stop_words_"
   ]
  },
  {
   "cell_type": "code",
   "execution_count": 59,
   "metadata": {},
   "outputs": [
    {
     "data": {
      "text/plain": [
       "{'about': 0,\n",
       " 'all': 1,\n",
       " 'cat': 2,\n",
       " 'hat': 3,\n",
       " 'in': 4,\n",
       " 'learning': 5,\n",
       " 'library': 6,\n",
       " 'the': 7}"
      ]
     },
     "execution_count": 59,
     "metadata": {},
     "output_type": "execute_result"
    }
   ],
   "source": [
    "#display the vocabularyt\n",
    "cv.vocabulary_"
   ]
  },
  {
   "cell_type": "code",
   "execution_count": 60,
   "metadata": {},
   "outputs": [],
   "source": [
    "#Ignore terms based on the max_df\n",
    "cv=CountVectorizer(cat_in_the_hat_docs,max_df=0.2)\n",
    "Count_Vector=cv.fit_transform(cat_in_the_hat_docs)"
   ]
  },
  {
   "cell_type": "code",
   "execution_count": 61,
   "metadata": {},
   "outputs": [
    {
     "data": {
      "text/plain": [
       "{'about', 'all', 'cat', 'hat', 'in', 'learning', 'library', 'the'}"
      ]
     },
     "execution_count": 61,
     "metadata": {},
     "output_type": "execute_result"
    }
   ],
   "source": [
    "#display the stop words\n",
    "cv.stop_words_"
   ]
  },
  {
   "cell_type": "code",
   "execution_count": 62,
   "metadata": {},
   "outputs": [],
   "source": [
    "#working with n-grams\n",
    "#ngram_range=(2,2)\n",
    "cv=CountVectorizer(cat_in_the_hat_docs,ngram_range=(2,2))\n",
    "CountVector=cv.fit_transform(cat_in_the_hat_docs)"
   ]
  },
  {
   "cell_type": "code",
   "execution_count": 63,
   "metadata": {},
   "outputs": [
    {
     "data": {
      "text/plain": [
       "{'about insects': 0,\n",
       " 'about money': 1,\n",
       " 'about our': 2,\n",
       " 'about staying': 3,\n",
       " 'about the': 4,\n",
       " 'all about': 5,\n",
       " 'are good': 6,\n",
       " 'beyond bugs': 7,\n",
       " 'body cat': 8,\n",
       " 'bugs all': 9,\n",
       " 'can do': 10,\n",
       " 'cat in': 11,\n",
       " 'cent all': 12,\n",
       " 'cent new': 13,\n",
       " 'cent two': 14,\n",
       " 'cents old': 15,\n",
       " 'do that': 16,\n",
       " 'for you': 17,\n",
       " 'good for': 18,\n",
       " 'hat learning': 19,\n",
       " 'healthy cat': 20,\n",
       " 'human body': 21,\n",
       " 'in the': 22,\n",
       " 'insects cat': 23,\n",
       " 'inside your': 24,\n",
       " 'learning library': 25,\n",
       " 'like space': 26,\n",
       " 'money cat': 27,\n",
       " 'new cent': 28,\n",
       " 'no place': 29,\n",
       " 'oh the': 30,\n",
       " 'old cent': 31,\n",
       " 'on beyond': 32,\n",
       " 'one cent': 33,\n",
       " 'our solar': 34,\n",
       " 'outside all': 35,\n",
       " 'place like': 36,\n",
       " 'solar system': 37,\n",
       " 'space all': 38,\n",
       " 'staying healthy': 39,\n",
       " 'system cat': 40,\n",
       " 'that are': 41,\n",
       " 'the hat': 42,\n",
       " 'the human': 43,\n",
       " 'the things': 44,\n",
       " 'there no': 45,\n",
       " 'things you': 46,\n",
       " 'two cents': 47,\n",
       " 'you all': 48,\n",
       " 'you can': 49,\n",
       " 'your outside': 50}"
      ]
     },
     "execution_count": 63,
     "metadata": {},
     "output_type": "execute_result"
    }
   ],
   "source": [
    "cv.vocabulary_"
   ]
  },
  {
   "cell_type": "code",
   "execution_count": 64,
   "metadata": {},
   "outputs": [],
   "source": [
    "#working with n-grams[1 gram, 2 gram]\n",
    "cv=CountVectorizer(cat_in_the_hat_docs,ngram_range=(1,2))\n",
    "CountVector=cv.fit_transform(cat_in_the_hat_docs)"
   ]
  },
  {
   "cell_type": "code",
   "execution_count": 65,
   "metadata": {},
   "outputs": [
    {
     "data": {
      "text/plain": [
       "{'about': 0,\n",
       " 'about insects': 1,\n",
       " 'about money': 2,\n",
       " 'about our': 3,\n",
       " 'about staying': 4,\n",
       " 'about the': 5,\n",
       " 'all': 6,\n",
       " 'all about': 7,\n",
       " 'are': 8,\n",
       " 'are good': 9,\n",
       " 'beyond': 10,\n",
       " 'beyond bugs': 11,\n",
       " 'body': 12,\n",
       " 'body cat': 13,\n",
       " 'bugs': 14,\n",
       " 'bugs all': 15,\n",
       " 'can': 16,\n",
       " 'can do': 17,\n",
       " 'cat': 18,\n",
       " 'cat in': 19,\n",
       " 'cent': 20,\n",
       " 'cent all': 21,\n",
       " 'cent new': 22,\n",
       " 'cent two': 23,\n",
       " 'cents': 24,\n",
       " 'cents old': 25,\n",
       " 'do': 26,\n",
       " 'do that': 27,\n",
       " 'for': 28,\n",
       " 'for you': 29,\n",
       " 'good': 30,\n",
       " 'good for': 31,\n",
       " 'hat': 32,\n",
       " 'hat learning': 33,\n",
       " 'healthy': 34,\n",
       " 'healthy cat': 35,\n",
       " 'human': 36,\n",
       " 'human body': 37,\n",
       " 'in': 38,\n",
       " 'in the': 39,\n",
       " 'insects': 40,\n",
       " 'insects cat': 41,\n",
       " 'inside': 42,\n",
       " 'inside your': 43,\n",
       " 'learning': 44,\n",
       " 'learning library': 45,\n",
       " 'library': 46,\n",
       " 'like': 47,\n",
       " 'like space': 48,\n",
       " 'money': 49,\n",
       " 'money cat': 50,\n",
       " 'new': 51,\n",
       " 'new cent': 52,\n",
       " 'no': 53,\n",
       " 'no place': 54,\n",
       " 'oh': 55,\n",
       " 'oh the': 56,\n",
       " 'old': 57,\n",
       " 'old cent': 58,\n",
       " 'on': 59,\n",
       " 'on beyond': 60,\n",
       " 'one': 61,\n",
       " 'one cent': 62,\n",
       " 'our': 63,\n",
       " 'our solar': 64,\n",
       " 'outside': 65,\n",
       " 'outside all': 66,\n",
       " 'place': 67,\n",
       " 'place like': 68,\n",
       " 'solar': 69,\n",
       " 'solar system': 70,\n",
       " 'space': 71,\n",
       " 'space all': 72,\n",
       " 'staying': 73,\n",
       " 'staying healthy': 74,\n",
       " 'system': 75,\n",
       " 'system cat': 76,\n",
       " 'that': 77,\n",
       " 'that are': 78,\n",
       " 'the': 79,\n",
       " 'the hat': 80,\n",
       " 'the human': 81,\n",
       " 'the things': 82,\n",
       " 'there': 83,\n",
       " 'there no': 84,\n",
       " 'things': 85,\n",
       " 'things you': 86,\n",
       " 'two': 87,\n",
       " 'two cents': 88,\n",
       " 'you': 89,\n",
       " 'you all': 90,\n",
       " 'you can': 91,\n",
       " 'your': 92,\n",
       " 'your outside': 93}"
      ]
     },
     "execution_count": 65,
     "metadata": {},
     "output_type": "execute_result"
    }
   ],
   "source": [
    "cv.vocabulary_"
   ]
  },
  {
   "cell_type": "code",
   "execution_count": 66,
   "metadata": {},
   "outputs": [],
   "source": [
    "#Char level unigram\n",
    "cv=CountVectorizer(cat_in_the_hat_docs,ngram_range=(1,2),analyzer=\"char_wb\")\n",
    "CountVector=cv.fit_transform(cat_in_the_hat_docs)"
   ]
  },
  {
   "cell_type": "code",
   "execution_count": 67,
   "metadata": {},
   "outputs": [
    {
     "data": {
      "text/plain": [
       "{' ': 0,\n",
       " ' (': 1,\n",
       " ' a': 2,\n",
       " ' b': 3,\n",
       " ' c': 4,\n",
       " ' d': 5,\n",
       " ' f': 6,\n",
       " ' g': 7,\n",
       " ' h': 8,\n",
       " ' i': 9,\n",
       " ' l': 10,\n",
       " ' m': 11,\n",
       " ' n': 12,\n",
       " ' o': 13,\n",
       " ' p': 14,\n",
       " ' s': 15,\n",
       " ' t': 16,\n",
       " ' y': 17,\n",
       " \"'\": 18,\n",
       " \"'s\": 19,\n",
       " '(': 20,\n",
       " '(c': 21,\n",
       " ')': 22,\n",
       " ') ': 23,\n",
       " ',': 24,\n",
       " ', ': 25,\n",
       " ':': 26,\n",
       " ': ': 27,\n",
       " 'a': 28,\n",
       " 'ab': 29,\n",
       " 'ac': 30,\n",
       " 'al': 31,\n",
       " 'an': 32,\n",
       " 'ar': 33,\n",
       " 'at': 34,\n",
       " 'ay': 35,\n",
       " 'b': 36,\n",
       " 'be': 37,\n",
       " 'bo': 38,\n",
       " 'br': 39,\n",
       " 'bu': 40,\n",
       " 'c': 41,\n",
       " 'ca': 42,\n",
       " 'ce': 43,\n",
       " 'ct': 44,\n",
       " 'd': 45,\n",
       " 'd ': 46,\n",
       " 'de': 47,\n",
       " 'do': 48,\n",
       " 'dy': 49,\n",
       " 'e': 50,\n",
       " 'e ': 51,\n",
       " \"e'\": 52,\n",
       " 'e:': 53,\n",
       " 'ea': 54,\n",
       " 'ec': 55,\n",
       " 'em': 56,\n",
       " 'en': 57,\n",
       " 'er': 58,\n",
       " 'ew': 59,\n",
       " 'ey': 60,\n",
       " 'f': 61,\n",
       " 'fo': 62,\n",
       " 'g': 63,\n",
       " 'g ': 64,\n",
       " 'go': 65,\n",
       " 'gs': 66,\n",
       " 'h': 67,\n",
       " 'h,': 68,\n",
       " 'ha': 69,\n",
       " 'he': 70,\n",
       " 'hi': 71,\n",
       " 'hu': 72,\n",
       " 'hy': 73,\n",
       " 'i': 74,\n",
       " 'ib': 75,\n",
       " 'id': 76,\n",
       " 'ik': 77,\n",
       " 'in': 78,\n",
       " 'k': 79,\n",
       " 'ke': 80,\n",
       " 'l': 81,\n",
       " 'l ': 82,\n",
       " 'la': 83,\n",
       " 'ld': 84,\n",
       " 'le': 85,\n",
       " 'li': 86,\n",
       " 'll': 87,\n",
       " 'lt': 88,\n",
       " 'm': 89,\n",
       " 'm ': 90,\n",
       " 'ma': 91,\n",
       " 'mo': 92,\n",
       " 'n': 93,\n",
       " 'n ': 94,\n",
       " 'nd': 95,\n",
       " 'ne': 96,\n",
       " 'ng': 97,\n",
       " 'ni': 98,\n",
       " 'no': 99,\n",
       " 'ns': 100,\n",
       " 'nt': 101,\n",
       " 'o': 102,\n",
       " 'o ': 103,\n",
       " 'od': 104,\n",
       " 'oh': 105,\n",
       " 'ol': 106,\n",
       " 'on': 107,\n",
       " 'oo': 108,\n",
       " 'or': 109,\n",
       " 'ou': 110,\n",
       " 'p': 111,\n",
       " 'pa': 112,\n",
       " 'pl': 113,\n",
       " 'r': 114,\n",
       " 'r ': 115,\n",
       " 'ra': 116,\n",
       " 're': 117,\n",
       " 'rn': 118,\n",
       " 'ry': 119,\n",
       " 's': 120,\n",
       " 's ': 121,\n",
       " 's,': 122,\n",
       " 's:': 123,\n",
       " 'se': 124,\n",
       " 'si': 125,\n",
       " 'so': 126,\n",
       " 'sp': 127,\n",
       " 'st': 128,\n",
       " 'sy': 129,\n",
       " 't': 130,\n",
       " 't ': 131,\n",
       " \"t'\": 132,\n",
       " 't,': 133,\n",
       " 't:': 134,\n",
       " 'ta': 135,\n",
       " 'te': 136,\n",
       " 'th': 137,\n",
       " 'ts': 138,\n",
       " 'tw': 139,\n",
       " 'u': 140,\n",
       " 'u ': 141,\n",
       " 'u:': 142,\n",
       " 'ug': 143,\n",
       " 'um': 144,\n",
       " 'ur': 145,\n",
       " 'ut': 146,\n",
       " 'w': 147,\n",
       " 'w ': 148,\n",
       " 'wo': 149,\n",
       " 'y': 150,\n",
       " 'y ': 151,\n",
       " 'y)': 152,\n",
       " 'yi': 153,\n",
       " 'yo': 154,\n",
       " 'ys': 155}"
      ]
     },
     "execution_count": 67,
     "metadata": {},
     "output_type": "execute_result"
    }
   ],
   "source": [
    "cv.vocabulary_"
   ]
  },
  {
   "cell_type": "code",
   "execution_count": 69,
   "metadata": {},
   "outputs": [
    {
     "data": {
      "text/plain": [
       "{'about': 0,\n",
       " 'all': 1,\n",
       " 'cat': 2,\n",
       " 'cent': 3,\n",
       " 'hat': 4,\n",
       " 'in': 5,\n",
       " 'learning': 6,\n",
       " 'library': 7,\n",
       " 'the': 8,\n",
       " 'you': 9}"
      ]
     },
     "execution_count": 69,
     "metadata": {},
     "output_type": "execute_result"
    }
   ],
   "source": [
    "#limited vocabulary\n",
    "cv1=CountVectorizer(cat_in_the_hat_docs,max_features=10)\n",
    "CountVector=cv1.fit_transform(cat_in_the_hat_docs)\n",
    "#print the vocabulary\n",
    "cv1.vocabulary_"
   ]
  },
  {
   "cell_type": "code",
   "execution_count": 71,
   "metadata": {},
   "outputs": [
    {
     "data": {
      "text/plain": [
       "(5, 10)"
      ]
     },
     "execution_count": 71,
     "metadata": {},
     "output_type": "execute_result"
    }
   ],
   "source": [
    "#Print the shape\n",
    "CountVector.shape"
   ]
  },
  {
   "cell_type": "code",
   "execution_count": 73,
   "metadata": {},
   "outputs": [
    {
     "data": {
      "text/plain": [
       "{'are',\n",
       " 'beyond',\n",
       " 'body',\n",
       " 'bugs',\n",
       " 'can',\n",
       " 'cents',\n",
       " 'do',\n",
       " 'for',\n",
       " 'good',\n",
       " 'healthy',\n",
       " 'human',\n",
       " 'insects',\n",
       " 'inside',\n",
       " 'like',\n",
       " 'money',\n",
       " 'new',\n",
       " 'no',\n",
       " 'oh',\n",
       " 'old',\n",
       " 'on',\n",
       " 'one',\n",
       " 'our',\n",
       " 'outside',\n",
       " 'place',\n",
       " 'solar',\n",
       " 'space',\n",
       " 'staying',\n",
       " 'system',\n",
       " 'that',\n",
       " 'there',\n",
       " 'things',\n",
       " 'two',\n",
       " 'your'}"
      ]
     },
     "execution_count": 73,
     "metadata": {},
     "output_type": "execute_result"
    }
   ],
   "source": [
    "#removed words\n",
    "cv1.stop_words_"
   ]
  },
  {
   "cell_type": "code",
   "execution_count": 76,
   "metadata": {},
   "outputs": [
    {
     "data": {
      "text/plain": [
       "{'about': 0,\n",
       " 'all': 1,\n",
       " 'are': 2,\n",
       " 'beyond': 3,\n",
       " 'body': 4,\n",
       " 'bugs': 5,\n",
       " 'can': 6,\n",
       " 'cat': 7,\n",
       " 'cent': 8,\n",
       " 'cents': 9,\n",
       " 'do': 10,\n",
       " 'for': 11,\n",
       " 'good': 12,\n",
       " 'hat': 13,\n",
       " 'healthy': 14,\n",
       " 'human': 15,\n",
       " 'in': 16,\n",
       " 'insects': 17,\n",
       " 'inside': 18,\n",
       " 'learning': 19,\n",
       " 'library': 20,\n",
       " 'like': 21,\n",
       " 'money': 22,\n",
       " 'new': 23,\n",
       " 'no': 24,\n",
       " 'oh': 25,\n",
       " 'old': 26,\n",
       " 'on': 27,\n",
       " 'one': 28,\n",
       " 'our': 29,\n",
       " 'outside': 30,\n",
       " 'place': 31,\n",
       " 'solar': 32,\n",
       " 'space': 33,\n",
       " 'staying': 34,\n",
       " 'system': 35,\n",
       " 'that': 36,\n",
       " 'the': 37,\n",
       " 'there': 38,\n",
       " 'things': 39,\n",
       " 'two': 40,\n",
       " 'you': 41,\n",
       " 'your': 42}"
      ]
     },
     "execution_count": 76,
     "metadata": {},
     "output_type": "execute_result"
    }
   ],
   "source": [
    "#Ignore the counts and use binary values\n",
    "cv2=CountVectorizer(cat_in_the_hat_docs,binary=True)\n",
    "CountVector=cv2.fit_transform(cat_in_the_hat_docs)\n",
    "cv2.vocabulary_"
   ]
  },
  {
   "cell_type": "code",
   "execution_count": 81,
   "metadata": {},
   "outputs": [],
   "source": [
    "#Obtain count of n-grams\n",
    "def sort_coo(coo_matrix):\n",
    "    tuples=zip(coo_matrix.col,coo_matrix.data)\n",
    "    return sorted(tuples,key=lambda x:(x[1],x[0]),reverse=True)\n",
    "\n",
    "def extract_topn_from_vector(feature_names,sorted_items,topn=10):\n",
    "    #return n-gram counts in desceneding order\n",
    "    \n",
    "    #use topn items from the vector\n",
    "    sorted_items=sorted_items[:topn]\n",
    "    results=[]\n",
    "    \n",
    "    #word index,count\n",
    "    for idx,count in sorted_items:\n",
    "        \n",
    "        #get the ngram name\n",
    "        n_gram=feature_names[idx]\n",
    "        \n",
    "        #collect as list of \n",
    "        results.append((n_gram,count))\n",
    "        \n",
    "        return results"
   ]
  },
  {
   "cell_type": "code",
   "execution_count": 82,
   "metadata": {},
   "outputs": [],
   "source": [
    "#run the count vectorizer\n",
    "cv=CountVectorizer(cat_in_the_hat_docs,ngram_range=(1,2),max_features=100)\n",
    "CountVector=cv.fit_transform(cat_in_the_hat_docs)\n",
    "\n",
    "#sort by descending order\n",
    "sorted_items=sort_coo(CountVector[0].tocoo())\n",
    "\n",
    "#get feature names\n",
    "feature_names=cv.get_feature_names()\n",
    "n_grams=extract_topn_from_vector(feature_names,sorted_items,10)"
   ]
  },
  {
   "cell_type": "code",
   "execution_count": 80,
   "metadata": {},
   "outputs": [
    {
     "name": "stdout",
     "output_type": "stream",
     "text": [
      "['about', 'about insects', 'about money', 'about our', 'about staying', 'about the', 'all', 'all about', 'are', 'are good', 'beyond', 'beyond bugs', 'body', 'body cat', 'bugs', 'bugs all', 'can', 'can do', 'cat', 'cat in', 'cent', 'cent all', 'cent new', 'cent two', 'cents', 'cents old', 'do', 'do that', 'for', 'for you', 'good', 'good for', 'hat', 'hat learning', 'healthy', 'healthy cat', 'human', 'human body', 'in', 'in the', 'insects', 'insects cat', 'inside', 'inside your', 'learning', 'learning library', 'library', 'like', 'like space', 'money', 'money cat', 'new', 'new cent', 'no', 'no place', 'oh', 'oh the', 'old', 'old cent', 'on', 'on beyond', 'one', 'one cent', 'our', 'our solar', 'outside', 'outside all', 'place', 'place like', 'solar', 'solar system', 'space', 'space all', 'staying', 'staying healthy', 'system', 'system cat', 'that', 'that are', 'the', 'the hat', 'the human', 'the things', 'there', 'there no', 'things', 'things you', 'two', 'two cents', 'you', 'you all', 'you can', 'your', 'your outside']\n"
     ]
    }
   ],
   "source": [
    "#print\n",
    "print(feature_names)"
   ]
  },
  {
   "cell_type": "code",
   "execution_count": 83,
   "metadata": {},
   "outputs": [
    {
     "name": "stdout",
     "output_type": "stream",
     "text": [
      "[('cent', 3)]\n"
     ]
    }
   ],
   "source": [
    "#print n-grams\n",
    "print(n_grams)"
   ]
  },
  {
   "cell_type": "code",
   "execution_count": null,
   "metadata": {},
   "outputs": [],
   "source": []
  }
 ],
 "metadata": {
  "kernelspec": {
   "display_name": "Python 3",
   "language": "python",
   "name": "python3"
  },
  "language_info": {
   "codemirror_mode": {
    "name": "ipython",
    "version": 3
   },
   "file_extension": ".py",
   "mimetype": "text/x-python",
   "name": "python",
   "nbconvert_exporter": "python",
   "pygments_lexer": "ipython3",
   "version": "3.6.4"
  }
 },
 "nbformat": 4,
 "nbformat_minor": 2
}
