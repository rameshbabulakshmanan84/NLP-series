{
  "nbformat": 4,
  "nbformat_minor": 0,
  "metadata": {
    "colab": {
      "name": "Sep7-Biobert-workingmodel.ipynb",
      "provenance": [],
      "collapsed_sections": [],
      "authorship_tag": "ABX9TyNY0zWknEG32ocAD35l3OCn",
      "include_colab_link": true
    },
    "kernelspec": {
      "name": "python3",
      "display_name": "Python 3"
    },
    "accelerator": "GPU",
    "widgets": {
      "application/vnd.jupyter.widget-state+json": {
        "03d2ec9896584340bf0d6ae554b522fc": {
          "model_module": "@jupyter-widgets/controls",
          "model_name": "HBoxModel",
          "state": {
            "_view_name": "HBoxView",
            "_dom_classes": [],
            "_model_name": "HBoxModel",
            "_view_module": "@jupyter-widgets/controls",
            "_model_module_version": "1.5.0",
            "_view_count": null,
            "_view_module_version": "1.5.0",
            "box_style": "",
            "layout": "IPY_MODEL_d816903713ec48999a9950f5a69e6b02",
            "_model_module": "@jupyter-widgets/controls",
            "children": [
              "IPY_MODEL_99b99fab545243afbfd001a5216cf9e9",
              "IPY_MODEL_a82cb90b84d34d2eb8b2010a901a7832"
            ]
          }
        },
        "d816903713ec48999a9950f5a69e6b02": {
          "model_module": "@jupyter-widgets/base",
          "model_name": "LayoutModel",
          "state": {
            "_view_name": "LayoutView",
            "grid_template_rows": null,
            "right": null,
            "justify_content": null,
            "_view_module": "@jupyter-widgets/base",
            "overflow": null,
            "_model_module_version": "1.2.0",
            "_view_count": null,
            "flex_flow": null,
            "width": null,
            "min_width": null,
            "border": null,
            "align_items": null,
            "bottom": null,
            "_model_module": "@jupyter-widgets/base",
            "top": null,
            "grid_column": null,
            "overflow_y": null,
            "overflow_x": null,
            "grid_auto_flow": null,
            "grid_area": null,
            "grid_template_columns": null,
            "flex": null,
            "_model_name": "LayoutModel",
            "justify_items": null,
            "grid_row": null,
            "max_height": null,
            "align_content": null,
            "visibility": null,
            "align_self": null,
            "height": null,
            "min_height": null,
            "padding": null,
            "grid_auto_rows": null,
            "grid_gap": null,
            "max_width": null,
            "order": null,
            "_view_module_version": "1.2.0",
            "grid_template_areas": null,
            "object_position": null,
            "object_fit": null,
            "grid_auto_columns": null,
            "margin": null,
            "display": null,
            "left": null
          }
        },
        "99b99fab545243afbfd001a5216cf9e9": {
          "model_module": "@jupyter-widgets/controls",
          "model_name": "FloatProgressModel",
          "state": {
            "_view_name": "ProgressView",
            "style": "IPY_MODEL_0f04e4e3957d4ff989acda235e2f6f2a",
            "_dom_classes": [],
            "description": "Downloading: 100%",
            "_model_name": "FloatProgressModel",
            "bar_style": "success",
            "max": 385,
            "_view_module": "@jupyter-widgets/controls",
            "_model_module_version": "1.5.0",
            "value": 385,
            "_view_count": null,
            "_view_module_version": "1.5.0",
            "orientation": "horizontal",
            "min": 0,
            "description_tooltip": null,
            "_model_module": "@jupyter-widgets/controls",
            "layout": "IPY_MODEL_3c0bd84539e448c6abfeea10fd473d69"
          }
        },
        "a82cb90b84d34d2eb8b2010a901a7832": {
          "model_module": "@jupyter-widgets/controls",
          "model_name": "HTMLModel",
          "state": {
            "_view_name": "HTMLView",
            "style": "IPY_MODEL_437d5f43398b47d08edb2f0285bac5b1",
            "_dom_classes": [],
            "description": "",
            "_model_name": "HTMLModel",
            "placeholder": "​",
            "_view_module": "@jupyter-widgets/controls",
            "_model_module_version": "1.5.0",
            "value": " 385/385 [00:00&lt;00:00, 9.22kB/s]",
            "_view_count": null,
            "_view_module_version": "1.5.0",
            "description_tooltip": null,
            "_model_module": "@jupyter-widgets/controls",
            "layout": "IPY_MODEL_e607ef0a450e4277b973ce00c31f03e3"
          }
        },
        "0f04e4e3957d4ff989acda235e2f6f2a": {
          "model_module": "@jupyter-widgets/controls",
          "model_name": "ProgressStyleModel",
          "state": {
            "_view_name": "StyleView",
            "_model_name": "ProgressStyleModel",
            "description_width": "initial",
            "_view_module": "@jupyter-widgets/base",
            "_model_module_version": "1.5.0",
            "_view_count": null,
            "_view_module_version": "1.2.0",
            "bar_color": null,
            "_model_module": "@jupyter-widgets/controls"
          }
        },
        "3c0bd84539e448c6abfeea10fd473d69": {
          "model_module": "@jupyter-widgets/base",
          "model_name": "LayoutModel",
          "state": {
            "_view_name": "LayoutView",
            "grid_template_rows": null,
            "right": null,
            "justify_content": null,
            "_view_module": "@jupyter-widgets/base",
            "overflow": null,
            "_model_module_version": "1.2.0",
            "_view_count": null,
            "flex_flow": null,
            "width": null,
            "min_width": null,
            "border": null,
            "align_items": null,
            "bottom": null,
            "_model_module": "@jupyter-widgets/base",
            "top": null,
            "grid_column": null,
            "overflow_y": null,
            "overflow_x": null,
            "grid_auto_flow": null,
            "grid_area": null,
            "grid_template_columns": null,
            "flex": null,
            "_model_name": "LayoutModel",
            "justify_items": null,
            "grid_row": null,
            "max_height": null,
            "align_content": null,
            "visibility": null,
            "align_self": null,
            "height": null,
            "min_height": null,
            "padding": null,
            "grid_auto_rows": null,
            "grid_gap": null,
            "max_width": null,
            "order": null,
            "_view_module_version": "1.2.0",
            "grid_template_areas": null,
            "object_position": null,
            "object_fit": null,
            "grid_auto_columns": null,
            "margin": null,
            "display": null,
            "left": null
          }
        },
        "437d5f43398b47d08edb2f0285bac5b1": {
          "model_module": "@jupyter-widgets/controls",
          "model_name": "DescriptionStyleModel",
          "state": {
            "_view_name": "StyleView",
            "_model_name": "DescriptionStyleModel",
            "description_width": "",
            "_view_module": "@jupyter-widgets/base",
            "_model_module_version": "1.5.0",
            "_view_count": null,
            "_view_module_version": "1.2.0",
            "_model_module": "@jupyter-widgets/controls"
          }
        },
        "e607ef0a450e4277b973ce00c31f03e3": {
          "model_module": "@jupyter-widgets/base",
          "model_name": "LayoutModel",
          "state": {
            "_view_name": "LayoutView",
            "grid_template_rows": null,
            "right": null,
            "justify_content": null,
            "_view_module": "@jupyter-widgets/base",
            "overflow": null,
            "_model_module_version": "1.2.0",
            "_view_count": null,
            "flex_flow": null,
            "width": null,
            "min_width": null,
            "border": null,
            "align_items": null,
            "bottom": null,
            "_model_module": "@jupyter-widgets/base",
            "top": null,
            "grid_column": null,
            "overflow_y": null,
            "overflow_x": null,
            "grid_auto_flow": null,
            "grid_area": null,
            "grid_template_columns": null,
            "flex": null,
            "_model_name": "LayoutModel",
            "justify_items": null,
            "grid_row": null,
            "max_height": null,
            "align_content": null,
            "visibility": null,
            "align_self": null,
            "height": null,
            "min_height": null,
            "padding": null,
            "grid_auto_rows": null,
            "grid_gap": null,
            "max_width": null,
            "order": null,
            "_view_module_version": "1.2.0",
            "grid_template_areas": null,
            "object_position": null,
            "object_fit": null,
            "grid_auto_columns": null,
            "margin": null,
            "display": null,
            "left": null
          }
        },
        "981fc7681a2a4364a1b273dc716bc5f9": {
          "model_module": "@jupyter-widgets/controls",
          "model_name": "HBoxModel",
          "state": {
            "_view_name": "HBoxView",
            "_dom_classes": [],
            "_model_name": "HBoxModel",
            "_view_module": "@jupyter-widgets/controls",
            "_model_module_version": "1.5.0",
            "_view_count": null,
            "_view_module_version": "1.5.0",
            "box_style": "",
            "layout": "IPY_MODEL_2123a50d22bc4e848ebc3bf656fed717",
            "_model_module": "@jupyter-widgets/controls",
            "children": [
              "IPY_MODEL_239d0c0f1c56491ea03959417cdfb79f",
              "IPY_MODEL_e3e29afa540b43a09e6bc56e40a5fbc4"
            ]
          }
        },
        "2123a50d22bc4e848ebc3bf656fed717": {
          "model_module": "@jupyter-widgets/base",
          "model_name": "LayoutModel",
          "state": {
            "_view_name": "LayoutView",
            "grid_template_rows": null,
            "right": null,
            "justify_content": null,
            "_view_module": "@jupyter-widgets/base",
            "overflow": null,
            "_model_module_version": "1.2.0",
            "_view_count": null,
            "flex_flow": null,
            "width": null,
            "min_width": null,
            "border": null,
            "align_items": null,
            "bottom": null,
            "_model_module": "@jupyter-widgets/base",
            "top": null,
            "grid_column": null,
            "overflow_y": null,
            "overflow_x": null,
            "grid_auto_flow": null,
            "grid_area": null,
            "grid_template_columns": null,
            "flex": null,
            "_model_name": "LayoutModel",
            "justify_items": null,
            "grid_row": null,
            "max_height": null,
            "align_content": null,
            "visibility": null,
            "align_self": null,
            "height": null,
            "min_height": null,
            "padding": null,
            "grid_auto_rows": null,
            "grid_gap": null,
            "max_width": null,
            "order": null,
            "_view_module_version": "1.2.0",
            "grid_template_areas": null,
            "object_position": null,
            "object_fit": null,
            "grid_auto_columns": null,
            "margin": null,
            "display": null,
            "left": null
          }
        },
        "239d0c0f1c56491ea03959417cdfb79f": {
          "model_module": "@jupyter-widgets/controls",
          "model_name": "FloatProgressModel",
          "state": {
            "_view_name": "ProgressView",
            "style": "IPY_MODEL_07e561cbe2034c3ba3405dc799428f06",
            "_dom_classes": [],
            "description": "Downloading: 100%",
            "_model_name": "FloatProgressModel",
            "bar_style": "success",
            "max": 213450,
            "_view_module": "@jupyter-widgets/controls",
            "_model_module_version": "1.5.0",
            "value": 213450,
            "_view_count": null,
            "_view_module_version": "1.5.0",
            "orientation": "horizontal",
            "min": 0,
            "description_tooltip": null,
            "_model_module": "@jupyter-widgets/controls",
            "layout": "IPY_MODEL_c2c9b5c95b6745fd96f8b1df0647f237"
          }
        },
        "e3e29afa540b43a09e6bc56e40a5fbc4": {
          "model_module": "@jupyter-widgets/controls",
          "model_name": "HTMLModel",
          "state": {
            "_view_name": "HTMLView",
            "style": "IPY_MODEL_ffa3e50c8e0940e393222edeebc5e2d2",
            "_dom_classes": [],
            "description": "",
            "_model_name": "HTMLModel",
            "placeholder": "​",
            "_view_module": "@jupyter-widgets/controls",
            "_model_module_version": "1.5.0",
            "value": " 213k/213k [00:01&lt;00:00, 120kB/s]",
            "_view_count": null,
            "_view_module_version": "1.5.0",
            "description_tooltip": null,
            "_model_module": "@jupyter-widgets/controls",
            "layout": "IPY_MODEL_481a799a69284d00925849d5c646a666"
          }
        },
        "07e561cbe2034c3ba3405dc799428f06": {
          "model_module": "@jupyter-widgets/controls",
          "model_name": "ProgressStyleModel",
          "state": {
            "_view_name": "StyleView",
            "_model_name": "ProgressStyleModel",
            "description_width": "initial",
            "_view_module": "@jupyter-widgets/base",
            "_model_module_version": "1.5.0",
            "_view_count": null,
            "_view_module_version": "1.2.0",
            "bar_color": null,
            "_model_module": "@jupyter-widgets/controls"
          }
        },
        "c2c9b5c95b6745fd96f8b1df0647f237": {
          "model_module": "@jupyter-widgets/base",
          "model_name": "LayoutModel",
          "state": {
            "_view_name": "LayoutView",
            "grid_template_rows": null,
            "right": null,
            "justify_content": null,
            "_view_module": "@jupyter-widgets/base",
            "overflow": null,
            "_model_module_version": "1.2.0",
            "_view_count": null,
            "flex_flow": null,
            "width": null,
            "min_width": null,
            "border": null,
            "align_items": null,
            "bottom": null,
            "_model_module": "@jupyter-widgets/base",
            "top": null,
            "grid_column": null,
            "overflow_y": null,
            "overflow_x": null,
            "grid_auto_flow": null,
            "grid_area": null,
            "grid_template_columns": null,
            "flex": null,
            "_model_name": "LayoutModel",
            "justify_items": null,
            "grid_row": null,
            "max_height": null,
            "align_content": null,
            "visibility": null,
            "align_self": null,
            "height": null,
            "min_height": null,
            "padding": null,
            "grid_auto_rows": null,
            "grid_gap": null,
            "max_width": null,
            "order": null,
            "_view_module_version": "1.2.0",
            "grid_template_areas": null,
            "object_position": null,
            "object_fit": null,
            "grid_auto_columns": null,
            "margin": null,
            "display": null,
            "left": null
          }
        },
        "ffa3e50c8e0940e393222edeebc5e2d2": {
          "model_module": "@jupyter-widgets/controls",
          "model_name": "DescriptionStyleModel",
          "state": {
            "_view_name": "StyleView",
            "_model_name": "DescriptionStyleModel",
            "description_width": "",
            "_view_module": "@jupyter-widgets/base",
            "_model_module_version": "1.5.0",
            "_view_count": null,
            "_view_module_version": "1.2.0",
            "_model_module": "@jupyter-widgets/controls"
          }
        },
        "481a799a69284d00925849d5c646a666": {
          "model_module": "@jupyter-widgets/base",
          "model_name": "LayoutModel",
          "state": {
            "_view_name": "LayoutView",
            "grid_template_rows": null,
            "right": null,
            "justify_content": null,
            "_view_module": "@jupyter-widgets/base",
            "overflow": null,
            "_model_module_version": "1.2.0",
            "_view_count": null,
            "flex_flow": null,
            "width": null,
            "min_width": null,
            "border": null,
            "align_items": null,
            "bottom": null,
            "_model_module": "@jupyter-widgets/base",
            "top": null,
            "grid_column": null,
            "overflow_y": null,
            "overflow_x": null,
            "grid_auto_flow": null,
            "grid_area": null,
            "grid_template_columns": null,
            "flex": null,
            "_model_name": "LayoutModel",
            "justify_items": null,
            "grid_row": null,
            "max_height": null,
            "align_content": null,
            "visibility": null,
            "align_self": null,
            "height": null,
            "min_height": null,
            "padding": null,
            "grid_auto_rows": null,
            "grid_gap": null,
            "max_width": null,
            "order": null,
            "_view_module_version": "1.2.0",
            "grid_template_areas": null,
            "object_position": null,
            "object_fit": null,
            "grid_auto_columns": null,
            "margin": null,
            "display": null,
            "left": null
          }
        },
        "c541c4cb51c3468ea8dc49e03e1b11f1": {
          "model_module": "@jupyter-widgets/controls",
          "model_name": "HBoxModel",
          "state": {
            "_view_name": "HBoxView",
            "_dom_classes": [],
            "_model_name": "HBoxModel",
            "_view_module": "@jupyter-widgets/controls",
            "_model_module_version": "1.5.0",
            "_view_count": null,
            "_view_module_version": "1.5.0",
            "box_style": "",
            "layout": "IPY_MODEL_a10249e248cc47808fb71e027b1a9dc3",
            "_model_module": "@jupyter-widgets/controls",
            "children": [
              "IPY_MODEL_23952b8c9aea4cd4a022e4d9664744c6",
              "IPY_MODEL_14a9246276804cdab5d89cf7510ae8ec"
            ]
          }
        },
        "a10249e248cc47808fb71e027b1a9dc3": {
          "model_module": "@jupyter-widgets/base",
          "model_name": "LayoutModel",
          "state": {
            "_view_name": "LayoutView",
            "grid_template_rows": null,
            "right": null,
            "justify_content": null,
            "_view_module": "@jupyter-widgets/base",
            "overflow": null,
            "_model_module_version": "1.2.0",
            "_view_count": null,
            "flex_flow": null,
            "width": null,
            "min_width": null,
            "border": null,
            "align_items": null,
            "bottom": null,
            "_model_module": "@jupyter-widgets/base",
            "top": null,
            "grid_column": null,
            "overflow_y": null,
            "overflow_x": null,
            "grid_auto_flow": null,
            "grid_area": null,
            "grid_template_columns": null,
            "flex": null,
            "_model_name": "LayoutModel",
            "justify_items": null,
            "grid_row": null,
            "max_height": null,
            "align_content": null,
            "visibility": null,
            "align_self": null,
            "height": null,
            "min_height": null,
            "padding": null,
            "grid_auto_rows": null,
            "grid_gap": null,
            "max_width": null,
            "order": null,
            "_view_module_version": "1.2.0",
            "grid_template_areas": null,
            "object_position": null,
            "object_fit": null,
            "grid_auto_columns": null,
            "margin": null,
            "display": null,
            "left": null
          }
        },
        "23952b8c9aea4cd4a022e4d9664744c6": {
          "model_module": "@jupyter-widgets/controls",
          "model_name": "FloatProgressModel",
          "state": {
            "_view_name": "ProgressView",
            "style": "IPY_MODEL_194ce2e36c2f404cbbb5eb860381533d",
            "_dom_classes": [],
            "description": "Downloading: 100%",
            "_model_name": "FloatProgressModel",
            "bar_style": "success",
            "max": 435778770,
            "_view_module": "@jupyter-widgets/controls",
            "_model_module_version": "1.5.0",
            "value": 435778770,
            "_view_count": null,
            "_view_module_version": "1.5.0",
            "orientation": "horizontal",
            "min": 0,
            "description_tooltip": null,
            "_model_module": "@jupyter-widgets/controls",
            "layout": "IPY_MODEL_130513a79f924b71a4d019eb6c224c5b"
          }
        },
        "14a9246276804cdab5d89cf7510ae8ec": {
          "model_module": "@jupyter-widgets/controls",
          "model_name": "HTMLModel",
          "state": {
            "_view_name": "HTMLView",
            "style": "IPY_MODEL_789a8daa41f143f386c28522a4544178",
            "_dom_classes": [],
            "description": "",
            "_model_name": "HTMLModel",
            "placeholder": "​",
            "_view_module": "@jupyter-widgets/controls",
            "_model_module_version": "1.5.0",
            "value": " 436M/436M [00:28&lt;00:00, 15.2MB/s]",
            "_view_count": null,
            "_view_module_version": "1.5.0",
            "description_tooltip": null,
            "_model_module": "@jupyter-widgets/controls",
            "layout": "IPY_MODEL_3a0d7aeb8e004417945496d4e5703b98"
          }
        },
        "194ce2e36c2f404cbbb5eb860381533d": {
          "model_module": "@jupyter-widgets/controls",
          "model_name": "ProgressStyleModel",
          "state": {
            "_view_name": "StyleView",
            "_model_name": "ProgressStyleModel",
            "description_width": "initial",
            "_view_module": "@jupyter-widgets/base",
            "_model_module_version": "1.5.0",
            "_view_count": null,
            "_view_module_version": "1.2.0",
            "bar_color": null,
            "_model_module": "@jupyter-widgets/controls"
          }
        },
        "130513a79f924b71a4d019eb6c224c5b": {
          "model_module": "@jupyter-widgets/base",
          "model_name": "LayoutModel",
          "state": {
            "_view_name": "LayoutView",
            "grid_template_rows": null,
            "right": null,
            "justify_content": null,
            "_view_module": "@jupyter-widgets/base",
            "overflow": null,
            "_model_module_version": "1.2.0",
            "_view_count": null,
            "flex_flow": null,
            "width": null,
            "min_width": null,
            "border": null,
            "align_items": null,
            "bottom": null,
            "_model_module": "@jupyter-widgets/base",
            "top": null,
            "grid_column": null,
            "overflow_y": null,
            "overflow_x": null,
            "grid_auto_flow": null,
            "grid_area": null,
            "grid_template_columns": null,
            "flex": null,
            "_model_name": "LayoutModel",
            "justify_items": null,
            "grid_row": null,
            "max_height": null,
            "align_content": null,
            "visibility": null,
            "align_self": null,
            "height": null,
            "min_height": null,
            "padding": null,
            "grid_auto_rows": null,
            "grid_gap": null,
            "max_width": null,
            "order": null,
            "_view_module_version": "1.2.0",
            "grid_template_areas": null,
            "object_position": null,
            "object_fit": null,
            "grid_auto_columns": null,
            "margin": null,
            "display": null,
            "left": null
          }
        },
        "789a8daa41f143f386c28522a4544178": {
          "model_module": "@jupyter-widgets/controls",
          "model_name": "DescriptionStyleModel",
          "state": {
            "_view_name": "StyleView",
            "_model_name": "DescriptionStyleModel",
            "description_width": "",
            "_view_module": "@jupyter-widgets/base",
            "_model_module_version": "1.5.0",
            "_view_count": null,
            "_view_module_version": "1.2.0",
            "_model_module": "@jupyter-widgets/controls"
          }
        },
        "3a0d7aeb8e004417945496d4e5703b98": {
          "model_module": "@jupyter-widgets/base",
          "model_name": "LayoutModel",
          "state": {
            "_view_name": "LayoutView",
            "grid_template_rows": null,
            "right": null,
            "justify_content": null,
            "_view_module": "@jupyter-widgets/base",
            "overflow": null,
            "_model_module_version": "1.2.0",
            "_view_count": null,
            "flex_flow": null,
            "width": null,
            "min_width": null,
            "border": null,
            "align_items": null,
            "bottom": null,
            "_model_module": "@jupyter-widgets/base",
            "top": null,
            "grid_column": null,
            "overflow_y": null,
            "overflow_x": null,
            "grid_auto_flow": null,
            "grid_area": null,
            "grid_template_columns": null,
            "flex": null,
            "_model_name": "LayoutModel",
            "justify_items": null,
            "grid_row": null,
            "max_height": null,
            "align_content": null,
            "visibility": null,
            "align_self": null,
            "height": null,
            "min_height": null,
            "padding": null,
            "grid_auto_rows": null,
            "grid_gap": null,
            "max_width": null,
            "order": null,
            "_view_module_version": "1.2.0",
            "grid_template_areas": null,
            "object_position": null,
            "object_fit": null,
            "grid_auto_columns": null,
            "margin": null,
            "display": null,
            "left": null
          }
        }
      }
    }
  },
  "cells": [
    {
      "cell_type": "markdown",
      "metadata": {
        "id": "view-in-github",
        "colab_type": "text"
      },
      "source": [
        "<a href=\"https://colab.research.google.com/github/rameshbabulakshmanan84/NLP-series/blob/master/Oct%2013_Biobert_workingmodel.ipynb\" target=\"_parent\"><img src=\"https://colab.research.google.com/assets/colab-badge.svg\" alt=\"Open In Colab\"/></a>"
      ]
    },
    {
      "cell_type": "code",
      "metadata": {
        "id": "glY9AR2Wpflj",
        "outputId": "25ec1d74-1682-4e4d-b150-5fc054814ecb",
        "colab": {
          "base_uri": "https://localhost:8080/",
          "height": 33
        }
      },
      "source": [
        "from google.colab import drive\n",
        "drive.mount('/content/drive')"
      ],
      "execution_count": 1,
      "outputs": [
        {
          "output_type": "stream",
          "text": [
            "Mounted at /content/drive\n"
          ],
          "name": "stdout"
        }
      ]
    },
    {
      "cell_type": "code",
      "metadata": {
        "id": "ErwaFGeqp7qb"
      },
      "source": [
        "#Read the contents of the NER file \n",
        "\n",
        "def readfile():\n",
        "  path='/content/drive/My Drive/biobert-Sep6/datasets/NER/NCBI-disease/train.tsv'\n",
        "  f = open(path)\n",
        "  data = []\n",
        "  data1=[]\n",
        "  sentence=[]\n",
        "  label=[]\n",
        "  i=0\n",
        "  for line in f:\n",
        "    #print(i)\n",
        "  #i+=1\n",
        "  #print(line)\n",
        "    #print(\"line\",line)\n",
        "  #print(\"line-l\",len(line))\n",
        "    if len(line)==0 or line[0]==\"\\n\":\n",
        "      data1.append((sentence,label))\n",
        "      data=[]\n",
        "      sentence=[]\n",
        "      label=[]\n",
        "      continue\n",
        "    else:\n",
        "      a=line.split()\n",
        "  #print(a[0])\n",
        "  #print(a[1])\n",
        "      sentence.append(a[0])\n",
        "      label.append(a[1])\n",
        "  #print(data1)\n",
        "  return data1"
      ],
      "execution_count": null,
      "outputs": []
    },
    {
      "cell_type": "code",
      "metadata": {
        "id": "2AOHNxTEqQce"
      },
      "source": [
        "#Call the functiona\n",
        "data=readfile()"
      ],
      "execution_count": null,
      "outputs": []
    },
    {
      "cell_type": "code",
      "metadata": {
        "id": "RO3eOojZqbQm"
      },
      "source": [
        "import os\n",
        "os.environ['CUDA_LAUNCH_BLOCKING']='1'"
      ],
      "execution_count": 2,
      "outputs": []
    },
    {
      "cell_type": "code",
      "metadata": {
        "id": "Gtp1YCw9qe72"
      },
      "source": [
        "import pandas as pd\n",
        "import csv"
      ],
      "execution_count": 3,
      "outputs": []
    },
    {
      "cell_type": "code",
      "metadata": {
        "id": "ocxSpSBhqhGu",
        "outputId": "754ae891-a062-4a29-d410-4c48f522e648",
        "colab": {
          "base_uri": "https://localhost:8080/",
          "height": 33
        }
      },
      "source": [
        "#data['tags'].isnull().sum()\n",
        "#data['tags'].unique()\n",
        "#Define the tags\n",
        "tags=['O','B','I',\"PAD\"]\n",
        "labels_map={}\n",
        "for i,t in enumerate(tags):\n",
        "  labels_map[t]=i\n",
        "print(labels_map)\n"
      ],
      "execution_count": null,
      "outputs": [
        {
          "output_type": "stream",
          "text": [
            "{'O': 0, 'B': 1, 'I': 2, 'PAD': 3}\n"
          ],
          "name": "stdout"
        }
      ]
    },
    {
      "cell_type": "code",
      "metadata": {
        "id": "gKc1xd3fqkBm"
      },
      "source": [
        "import pandas as pd\n",
        "import numpy as np\n",
        "from tqdm import tqdm, trange"
      ],
      "execution_count": 4,
      "outputs": []
    },
    {
      "cell_type": "code",
      "metadata": {
        "id": "6i7A8M1eqnXn",
        "outputId": "db10b08f-bf86-4f6b-cbd4-02a6859de04c",
        "colab": {
          "base_uri": "https://localhost:8080/",
          "height": 590
        }
      },
      "source": [
        "!pip3 install transformers"
      ],
      "execution_count": 5,
      "outputs": [
        {
          "output_type": "stream",
          "text": [
            "Collecting transformers\n",
            "\u001b[?25l  Downloading https://files.pythonhosted.org/packages/19/22/aff234f4a841f8999e68a7a94bdd4b60b4cebcfeca5d67d61cd08c9179de/transformers-3.3.1-py3-none-any.whl (1.1MB)\n",
            "\u001b[K     |████████████████████████████████| 1.1MB 7.8MB/s \n",
            "\u001b[?25hRequirement already satisfied: regex!=2019.12.17 in /usr/local/lib/python3.6/dist-packages (from transformers) (2019.12.20)\n",
            "Collecting sacremoses\n",
            "\u001b[?25l  Downloading https://files.pythonhosted.org/packages/7d/34/09d19aff26edcc8eb2a01bed8e98f13a1537005d31e95233fd48216eed10/sacremoses-0.0.43.tar.gz (883kB)\n",
            "\u001b[K     |████████████████████████████████| 890kB 29.7MB/s \n",
            "\u001b[?25hRequirement already satisfied: numpy in /usr/local/lib/python3.6/dist-packages (from transformers) (1.18.5)\n",
            "Requirement already satisfied: tqdm>=4.27 in /usr/local/lib/python3.6/dist-packages (from transformers) (4.41.1)\n",
            "Requirement already satisfied: packaging in /usr/local/lib/python3.6/dist-packages (from transformers) (20.4)\n",
            "Collecting tokenizers==0.8.1.rc2\n",
            "\u001b[?25l  Downloading https://files.pythonhosted.org/packages/80/83/8b9fccb9e48eeb575ee19179e2bdde0ee9a1904f97de5f02d19016b8804f/tokenizers-0.8.1rc2-cp36-cp36m-manylinux1_x86_64.whl (3.0MB)\n",
            "\u001b[K     |████████████████████████████████| 3.0MB 51.5MB/s \n",
            "\u001b[?25hCollecting sentencepiece!=0.1.92\n",
            "\u001b[?25l  Downloading https://files.pythonhosted.org/packages/d4/a4/d0a884c4300004a78cca907a6ff9a5e9fe4f090f5d95ab341c53d28cbc58/sentencepiece-0.1.91-cp36-cp36m-manylinux1_x86_64.whl (1.1MB)\n",
            "\u001b[K     |████████████████████████████████| 1.1MB 51.3MB/s \n",
            "\u001b[?25hRequirement already satisfied: requests in /usr/local/lib/python3.6/dist-packages (from transformers) (2.23.0)\n",
            "Requirement already satisfied: dataclasses; python_version < \"3.7\" in /usr/local/lib/python3.6/dist-packages (from transformers) (0.7)\n",
            "Requirement already satisfied: filelock in /usr/local/lib/python3.6/dist-packages (from transformers) (3.0.12)\n",
            "Requirement already satisfied: six in /usr/local/lib/python3.6/dist-packages (from sacremoses->transformers) (1.15.0)\n",
            "Requirement already satisfied: click in /usr/local/lib/python3.6/dist-packages (from sacremoses->transformers) (7.1.2)\n",
            "Requirement already satisfied: joblib in /usr/local/lib/python3.6/dist-packages (from sacremoses->transformers) (0.16.0)\n",
            "Requirement already satisfied: pyparsing>=2.0.2 in /usr/local/lib/python3.6/dist-packages (from packaging->transformers) (2.4.7)\n",
            "Requirement already satisfied: chardet<4,>=3.0.2 in /usr/local/lib/python3.6/dist-packages (from requests->transformers) (3.0.4)\n",
            "Requirement already satisfied: urllib3!=1.25.0,!=1.25.1,<1.26,>=1.21.1 in /usr/local/lib/python3.6/dist-packages (from requests->transformers) (1.24.3)\n",
            "Requirement already satisfied: certifi>=2017.4.17 in /usr/local/lib/python3.6/dist-packages (from requests->transformers) (2020.6.20)\n",
            "Requirement already satisfied: idna<3,>=2.5 in /usr/local/lib/python3.6/dist-packages (from requests->transformers) (2.10)\n",
            "Building wheels for collected packages: sacremoses\n",
            "  Building wheel for sacremoses (setup.py) ... \u001b[?25l\u001b[?25hdone\n",
            "  Created wheel for sacremoses: filename=sacremoses-0.0.43-cp36-none-any.whl size=893257 sha256=778b89de44f80c006d7a725070f683362bb2ac12332ffc8439c9f8d6673d145f\n",
            "  Stored in directory: /root/.cache/pip/wheels/29/3c/fd/7ce5c3f0666dab31a50123635e6fb5e19ceb42ce38d4e58f45\n",
            "Successfully built sacremoses\n",
            "Installing collected packages: sacremoses, tokenizers, sentencepiece, transformers\n",
            "Successfully installed sacremoses-0.0.43 sentencepiece-0.1.91 tokenizers-0.8.1rc2 transformers-3.3.1\n"
          ],
          "name": "stdout"
        }
      ]
    },
    {
      "cell_type": "code",
      "metadata": {
        "id": "NMAjO4ZZqrnm"
      },
      "source": [
        "#Apply the Bert\n",
        "#use pytorch implementation of bert\n",
        "import torch\n",
        "#pip install --no-cache-dir torch==1.6.0+cu101 torchvision==0.7.0+cu101 -f https://download.pytorch.org/whl/torch_stable.html\n",
        "#Dataset from a tensor or array or list or dict - TensorDataset\n",
        "#DataLoader - represents a Python iterable over a dataset, with support for many datasets\n",
        "#RandomSampler - A Sampler that returns random indices.\n",
        "#SequentialSampler - A Sampler that returns indices sequentially.\n",
        "from torch.utils.data import TensorDataset,DataLoader,RandomSampler,SequentialSampler\n",
        "#BertTokenizer -- constructs a tokenizer class - based on wordpiece tokenizer\n",
        "#Bertconfg Config file for all parameters\n",
        "#from transformers import BertTokenizer,BertConfig\n",
        "from transformers import AutoTokenizer,AutoModelForTokenClassification,AutoModel\n",
        "import logging\n",
        "logging.basicConfig(level=logging.INFO)\n"
      ],
      "execution_count": 13,
      "outputs": []
    },
    {
      "cell_type": "code",
      "metadata": {
        "id": "yEO03gMZqyf9",
        "outputId": "e5caf1cb-6855-4632-fb72-b9c1c61d1474",
        "colab": {
          "base_uri": "https://localhost:8080/",
          "height": 278,
          "referenced_widgets": [
            "03d2ec9896584340bf0d6ae554b522fc",
            "d816903713ec48999a9950f5a69e6b02",
            "99b99fab545243afbfd001a5216cf9e9",
            "a82cb90b84d34d2eb8b2010a901a7832",
            "0f04e4e3957d4ff989acda235e2f6f2a",
            "3c0bd84539e448c6abfeea10fd473d69",
            "437d5f43398b47d08edb2f0285bac5b1",
            "e607ef0a450e4277b973ce00c31f03e3",
            "981fc7681a2a4364a1b273dc716bc5f9",
            "2123a50d22bc4e848ebc3bf656fed717",
            "239d0c0f1c56491ea03959417cdfb79f",
            "e3e29afa540b43a09e6bc56e40a5fbc4",
            "07e561cbe2034c3ba3405dc799428f06",
            "c2c9b5c95b6745fd96f8b1df0647f237",
            "ffa3e50c8e0940e393222edeebc5e2d2",
            "481a799a69284d00925849d5c646a666",
            "c541c4cb51c3468ea8dc49e03e1b11f1",
            "a10249e248cc47808fb71e027b1a9dc3",
            "23952b8c9aea4cd4a022e4d9664744c6",
            "14a9246276804cdab5d89cf7510ae8ec",
            "194ce2e36c2f404cbbb5eb860381533d",
            "130513a79f924b71a4d019eb6c224c5b",
            "789a8daa41f143f386c28522a4544178",
            "3a0d7aeb8e004417945496d4e5703b98"
          ]
        }
      },
      "source": [
        "#import clinicalbiobert\n",
        "#Load the clinical biobert model\n",
        "Clinicalbert_tokenizer=AutoTokenizer.from_pretrained(\"emilyalsentzer/Bio_ClinicalBERT\")\n",
        "Clinicalbert_model=AutoModel.from_pretrained(\"emilyalsentzer/Bio_ClinicalBERT\")"
      ],
      "execution_count": 14,
      "outputs": [
        {
          "output_type": "stream",
          "text": [
            "INFO:filelock:Lock 140422397928728 acquired on /root/.cache/torch/transformers/f1b766d4011bf16cfd52c7be6150a4f5d4c2256eaca3c2edb073f468005f08a2.e99f38979b92a72e708709cb38397fa864caf99dd2e2ed75826560450aa14a0c.lock\n"
          ],
          "name": "stderr"
        },
        {
          "output_type": "display_data",
          "data": {
            "application/vnd.jupyter.widget-view+json": {
              "model_id": "03d2ec9896584340bf0d6ae554b522fc",
              "version_minor": 0,
              "version_major": 2
            },
            "text/plain": [
              "HBox(children=(FloatProgress(value=0.0, description='Downloading', max=385.0, style=ProgressStyle(description_…"
            ]
          },
          "metadata": {
            "tags": []
          }
        },
        {
          "output_type": "stream",
          "text": [
            "INFO:filelock:Lock 140422397928728 released on /root/.cache/torch/transformers/f1b766d4011bf16cfd52c7be6150a4f5d4c2256eaca3c2edb073f468005f08a2.e99f38979b92a72e708709cb38397fa864caf99dd2e2ed75826560450aa14a0c.lock\n"
          ],
          "name": "stderr"
        },
        {
          "output_type": "stream",
          "text": [
            "\n"
          ],
          "name": "stdout"
        },
        {
          "output_type": "stream",
          "text": [
            "INFO:filelock:Lock 140422384296008 acquired on /root/.cache/torch/transformers/e20dcab02f7204e65e966b14f29431339b9a092314e9160a6fa5ce83de398002.e13dbb970cb325137104fb2e5f36fe865f27746c6b526f6352861b1980eb80b1.lock\n"
          ],
          "name": "stderr"
        },
        {
          "output_type": "display_data",
          "data": {
            "application/vnd.jupyter.widget-view+json": {
              "model_id": "981fc7681a2a4364a1b273dc716bc5f9",
              "version_minor": 0,
              "version_major": 2
            },
            "text/plain": [
              "HBox(children=(FloatProgress(value=0.0, description='Downloading', max=213450.0, style=ProgressStyle(descripti…"
            ]
          },
          "metadata": {
            "tags": []
          }
        },
        {
          "output_type": "stream",
          "text": [
            "INFO:filelock:Lock 140422384296008 released on /root/.cache/torch/transformers/e20dcab02f7204e65e966b14f29431339b9a092314e9160a6fa5ce83de398002.e13dbb970cb325137104fb2e5f36fe865f27746c6b526f6352861b1980eb80b1.lock\n"
          ],
          "name": "stderr"
        },
        {
          "output_type": "stream",
          "text": [
            "\n"
          ],
          "name": "stdout"
        },
        {
          "output_type": "stream",
          "text": [
            "INFO:filelock:Lock 140419422453376 acquired on /root/.cache/torch/transformers/91c95541a292980d2ab0942afab21efcaabbcb767f850bdac4b829126f15b35c.7c0f86182853d46a0efe8b1427d50fe6421bb8346d105db81ee98e35f4b35e14.lock\n"
          ],
          "name": "stderr"
        },
        {
          "output_type": "display_data",
          "data": {
            "application/vnd.jupyter.widget-view+json": {
              "model_id": "c541c4cb51c3468ea8dc49e03e1b11f1",
              "version_minor": 0,
              "version_major": 2
            },
            "text/plain": [
              "HBox(children=(FloatProgress(value=0.0, description='Downloading', max=435778770.0, style=ProgressStyle(descri…"
            ]
          },
          "metadata": {
            "tags": []
          }
        },
        {
          "output_type": "stream",
          "text": [
            "INFO:filelock:Lock 140419422453376 released on /root/.cache/torch/transformers/91c95541a292980d2ab0942afab21efcaabbcb767f850bdac4b829126f15b35c.7c0f86182853d46a0efe8b1427d50fe6421bb8346d105db81ee98e35f4b35e14.lock\n"
          ],
          "name": "stderr"
        },
        {
          "output_type": "stream",
          "text": [
            "\n"
          ],
          "name": "stdout"
        }
      ]
    },
    {
      "cell_type": "code",
      "metadata": {
        "id": "zYF48gGvp--n"
      },
      "source": [
        "sentences=[]\n",
        "label=[]\n",
        "for i in data:\n",
        "  sentence=i[0]\n",
        "  tags=i[1]\n",
        "  tokenized_sentence=[]\n",
        "  labels=[]\n",
        "  for word,tag in zip(sentence,tags):\n",
        "    #print(tag)\n",
        "    #print(word)\n",
        "    #print(\"words\",word)\n",
        "    #print(\"tags\",tag)\n",
        "    tokenized_word=Clinicalbert_tokenizer.tokenize(word)\n",
        "    #print(tokenized_word)\n",
        "    n_subwords=len(tokenized_word)\n",
        "    tokenized_sentence.extend(tokenized_word)\n",
        "    labels.extend([tag] * n_subwords)\n",
        "  sentences.append(tokenized_sentence)\n",
        "  label.append(labels)"
      ],
      "execution_count": null,
      "outputs": []
    },
    {
      "cell_type": "code",
      "metadata": {
        "id": "_z_fKYc-rI7U",
        "outputId": "0aab2989-75fe-49af-99f1-a0085f945f91",
        "colab": {
          "base_uri": "https://localhost:8080/",
          "height": 33
        }
      },
      "source": [
        "print(len(sentences))"
      ],
      "execution_count": null,
      "outputs": [
        {
          "output_type": "stream",
          "text": [
            "5424\n"
          ],
          "name": "stdout"
        }
      ]
    },
    {
      "cell_type": "code",
      "metadata": {
        "id": "32PpAsoBrK81",
        "outputId": "058605fe-f8fa-4c52-b50e-1f396e2a76c6",
        "colab": {
          "base_uri": "https://localhost:8080/",
          "height": 33
        }
      },
      "source": [
        "print(len(label))"
      ],
      "execution_count": null,
      "outputs": [
        {
          "output_type": "stream",
          "text": [
            "5424\n"
          ],
          "name": "stdout"
        }
      ]
    },
    {
      "cell_type": "code",
      "metadata": {
        "id": "FocLb9IQrX68"
      },
      "source": [
        "from keras.preprocessing.sequence import pad_sequences\n",
        "from sklearn.model_selection import train_test_split"
      ],
      "execution_count": null,
      "outputs": []
    },
    {
      "cell_type": "code",
      "metadata": {
        "id": "TnGR_dGEra1V"
      },
      "source": [
        "MAX_LEN = 128\n",
        "Batch_Size = 32"
      ],
      "execution_count": null,
      "outputs": []
    },
    {
      "cell_type": "code",
      "metadata": {
        "id": "5Ow4q6FDreOF"
      },
      "source": [
        "input_ids = pad_sequences([Clinicalbert_tokenizer.convert_tokens_to_ids(txt) for txt in sentences],maxlen=MAX_LEN, dtype=\"long\", value=0.0,\n",
        "                          truncating=\"post\", padding=\"post\")"
      ],
      "execution_count": null,
      "outputs": []
    },
    {
      "cell_type": "code",
      "metadata": {
        "id": "xcDgifZfrgns"
      },
      "source": [
        "tags = pad_sequences([[labels_map.get(l) for l in lab] for lab in label],\n",
        "                     maxlen=MAX_LEN, value=labels_map[\"PAD\"], padding=\"post\",\n",
        "                     dtype=\"long\", truncating=\"post\")"
      ],
      "execution_count": null,
      "outputs": []
    },
    {
      "cell_type": "code",
      "metadata": {
        "id": "1DfF5wXWrjNN"
      },
      "source": [
        "attention_masks = [[float(i!= 0.0) for i in ii] for ii in input_ids]"
      ],
      "execution_count": null,
      "outputs": []
    },
    {
      "cell_type": "code",
      "metadata": {
        "id": "YaLQ6pd4rk1k"
      },
      "source": [
        "tr_inputs, val_inputs, tr_tags, val_tags = train_test_split(input_ids,tags,random_state=2018, test_size=0.4)\n",
        "tr_masks, val_masks, _, _ = train_test_split(attention_masks, input_ids,random_state=2018, test_size=0.4)"
      ],
      "execution_count": null,
      "outputs": []
    },
    {
      "cell_type": "code",
      "metadata": {
        "id": "4FR_gf32rnuF"
      },
      "source": [
        "#convert all tensor format\n",
        "tr_inputs = torch.tensor(tr_inputs)\n",
        "val_inputs = torch.tensor(val_inputs)\n",
        "tr_tags = torch.tensor(tr_tags)\n",
        "val_tags = torch.tensor(val_tags)\n",
        "tr_masks = torch.tensor(tr_masks)\n",
        "val_masks = torch.tensor(val_masks)"
      ],
      "execution_count": null,
      "outputs": []
    },
    {
      "cell_type": "code",
      "metadata": {
        "id": "tPt2a0uWrsOL"
      },
      "source": [
        "#train_data in the form - input tokens, attention masks for the corresponding tokens and the tags for the tokens\n",
        "train_data = TensorDataset(tr_inputs,tr_masks,tr_tags)\n",
        "#returns random indices from the data source\n",
        "train_sampler = RandomSampler(train_data)\n",
        "#dataloader combines the dataset and the sampler \n",
        "train_dataloader = DataLoader(train_data, sampler=train_sampler, batch_size=32)\n",
        "valid_data = TensorDataset(val_inputs, val_masks, val_tags)\n",
        "#samples elements sequentially in the same order\n",
        "valid_sampler = SequentialSampler(valid_data)\n",
        "valid_dataloader = DataLoader(valid_data,sampler=valid_sampler, batch_size=32)"
      ],
      "execution_count": null,
      "outputs": []
    },
    {
      "cell_type": "code",
      "metadata": {
        "id": "moCWJkBTr0gV"
      },
      "source": [
        "import transformers\n",
        "#bertfortokenclassification addsa classifier on top of bert model\n",
        "from transformers import AutoModelForTokenClassification,AdamW,AutoConfig"
      ],
      "execution_count": null,
      "outputs": []
    },
    {
      "cell_type": "code",
      "metadata": {
        "id": "RCbt5u3cr3ZT",
        "outputId": "b10a7d54-6629-4a14-d95c-7b860ab5c8df",
        "colab": {
          "base_uri": "https://localhost:8080/",
          "height": 33
        }
      },
      "source": [
        "print(len(labels_map))"
      ],
      "execution_count": null,
      "outputs": [
        {
          "output_type": "stream",
          "text": [
            "4\n"
          ],
          "name": "stdout"
        }
      ]
    },
    {
      "cell_type": "code",
      "metadata": {
        "id": "O2nayurar6tI",
        "outputId": "c512fb24-3441-45c1-b8ce-a497618998ea",
        "colab": {
          "base_uri": "https://localhost:8080/",
          "height": 118
        }
      },
      "source": [
        "from transformers import BertForTokenClassification,AdamW,AutoConfig\n",
        "\n",
        "model1 = BertForTokenClassification.from_pretrained(\"emilyalsentzer/Bio_ClinicalBERT\",num_labels=len(labels_map), output_attentions = False,output_hidden_states = False)"
      ],
      "execution_count": null,
      "outputs": [
        {
          "output_type": "stream",
          "text": [
            "Some weights of the model checkpoint at emilyalsentzer/Bio_ClinicalBERT were not used when initializing BertForTokenClassification: ['cls.predictions.bias', 'cls.predictions.transform.dense.weight', 'cls.predictions.transform.dense.bias', 'cls.predictions.transform.LayerNorm.weight', 'cls.predictions.transform.LayerNorm.bias', 'cls.predictions.decoder.weight', 'cls.seq_relationship.weight', 'cls.seq_relationship.bias']\n",
            "- This IS expected if you are initializing BertForTokenClassification from the checkpoint of a model trained on another task or with another architecture (e.g. initializing a BertForSequenceClassification model from a BertForPretraining model).\n",
            "- This IS NOT expected if you are initializing BertForTokenClassification from the checkpoint of a model that you expect to be exactly identical (initializing a BertForSequenceClassification model from a BertForSequenceClassification model).\n",
            "Some weights of BertForTokenClassification were not initialized from the model checkpoint at emilyalsentzer/Bio_ClinicalBERT and are newly initialized: ['classifier.weight', 'classifier.bias']\n",
            "You should probably TRAIN this model on a down-stream task to be able to use it for predictions and inference.\n"
          ],
          "name": "stderr"
        }
      ]
    },
    {
      "cell_type": "code",
      "metadata": {
        "id": "CkcmY1Q_r-_m",
        "outputId": "394b6476-719a-45a0-cf7d-4d03e8a95273",
        "colab": {
          "base_uri": "https://localhost:8080/",
          "height": 50
        }
      },
      "source": [
        "import torch\n",
        "#specify GPU as device\n",
        "if torch.cuda.is_available():\n",
        "  device=torch.device(\"cuda\")\n",
        "  print('There are %d GPU(s) available.' % torch.cuda.device_count())\n",
        "  print('We will use the GPU:', torch.cuda.get_device_name(0))"
      ],
      "execution_count": 6,
      "outputs": [
        {
          "output_type": "stream",
          "text": [
            "There are 1 GPU(s) available.\n",
            "We will use the GPU: Tesla T4\n"
          ],
          "name": "stdout"
        }
      ]
    },
    {
      "cell_type": "code",
      "metadata": {
        "id": "c2LyyKzzsDzD",
        "outputId": "e504ff23-8b1d-45b4-befa-d2c296dad498",
        "colab": {
          "base_uri": "https://localhost:8080/",
          "height": 175
        }
      },
      "source": [
        "# Tell pytorch to run this model on the GPU.\n",
        "model1.cuda()"
      ],
      "execution_count": 7,
      "outputs": [
        {
          "output_type": "error",
          "ename": "NameError",
          "evalue": "ignored",
          "traceback": [
            "\u001b[0;31m---------------------------------------------------------------------------\u001b[0m",
            "\u001b[0;31mNameError\u001b[0m                                 Traceback (most recent call last)",
            "\u001b[0;32m<ipython-input-7-714d3f589ac0>\u001b[0m in \u001b[0;36m<module>\u001b[0;34m()\u001b[0m\n\u001b[1;32m      1\u001b[0m \u001b[0;31m# Tell pytorch to run this model on the GPU.\u001b[0m\u001b[0;34m\u001b[0m\u001b[0;34m\u001b[0m\u001b[0;34m\u001b[0m\u001b[0m\n\u001b[0;32m----> 2\u001b[0;31m \u001b[0mmodel1\u001b[0m\u001b[0;34m.\u001b[0m\u001b[0mcuda\u001b[0m\u001b[0;34m(\u001b[0m\u001b[0;34m)\u001b[0m\u001b[0;34m\u001b[0m\u001b[0;34m\u001b[0m\u001b[0m\n\u001b[0m",
            "\u001b[0;31mNameError\u001b[0m: name 'model1' is not defined"
          ]
        }
      ]
    },
    {
      "cell_type": "code",
      "metadata": {
        "id": "fQBXPROksUaL"
      },
      "source": [
        "#grab the optimzer\n",
        "optimizer=AdamW(model1.parameters(),\n",
        "               lr=2e-5, # args.learning_rate - default is 5e-5, our notebook had 2e-5 \n",
        "               eps=1e-8) #a very small number to prevent any division by zero in the implementation)"
      ],
      "execution_count": null,
      "outputs": []
    },
    {
      "cell_type": "code",
      "metadata": {
        "id": "26VCyE1jsXs9"
      },
      "source": [
        "from transformers import get_linear_schedule_with_warmup"
      ],
      "execution_count": null,
      "outputs": []
    },
    {
      "cell_type": "code",
      "metadata": {
        "id": "yVN_-EO7saSz"
      },
      "source": [
        "epochs = 2"
      ],
      "execution_count": null,
      "outputs": []
    },
    {
      "cell_type": "code",
      "metadata": {
        "id": "-UxZ9tQ5scjs"
      },
      "source": [
        "total_steps = len(train_dataloader) * epochs"
      ],
      "execution_count": null,
      "outputs": []
    },
    {
      "cell_type": "code",
      "metadata": {
        "id": "AiasKuAIse9a"
      },
      "source": [
        "#Create a schedule with a learning rate that decreases linearly from the initial lr set in the optimizer to 0, after a warmup period during which it increases linearly from 0 to the initial lr set in the optimizer.\n",
        "\n",
        "scheduler=get_linear_schedule_with_warmup(\n",
        "    optimizer,\n",
        "    num_warmup_steps=0,#deafault value\n",
        "    num_training_steps=total_steps)\n"
      ],
      "execution_count": null,
      "outputs": []
    },
    {
      "cell_type": "code",
      "metadata": {
        "id": "VUmNkwrwsker"
      },
      "source": [
        "from sklearn.metrics import f1_score, accuracy_score\n"
      ],
      "execution_count": null,
      "outputs": []
    },
    {
      "cell_type": "code",
      "metadata": {
        "id": "FYfPv4DKsm6p"
      },
      "source": [
        "import random\n",
        "import numpy as np"
      ],
      "execution_count": null,
      "outputs": []
    },
    {
      "cell_type": "code",
      "metadata": {
        "id": "V89IFswBspqX"
      },
      "source": [
        "\n",
        "# Set the seed value all over the place to make this reproducible.\n",
        "seed_val=42\n",
        "random.seed(seed_val)\n",
        "np.random.seed(seed_val)\n",
        "torch.manual_seed(seed_val)\n",
        "torch.cuda.manual_seed_all(seed_val)"
      ],
      "execution_count": null,
      "outputs": []
    },
    {
      "cell_type": "code",
      "metadata": {
        "id": "32yVX8f6sylR",
        "outputId": "e4a29b3d-5303-4e15-834c-23c1de74d063",
        "colab": {
          "base_uri": "https://localhost:8080/",
          "height": 1000
        }
      },
      "source": [
        "#for ech epoch\n",
        "#Run the training for the given epochs - typically between 2 and 4\n",
        "#range 0 to 3\n",
        "\n",
        "loss_values, validation_loss_values = [], []\n",
        "\n",
        "\n",
        "for _ in trange(epochs,desc=\"EPOCH\"):\n",
        "  print(\"\")\n",
        "  #print ---Epoch 1/2 ----\n",
        "  #print('======== Epoch {:} / {:} ========'.format(epoch_i + 1, epochs))\n",
        "  print('Training...')\n",
        "\n",
        "  #Reset the total loss for this epoch\n",
        "  total_train_loss=0\n",
        "  \n",
        "  #train the model\n",
        "  model1.train()\n",
        "\n",
        "  for step,batch in enumerate(train_dataloader):\n",
        "    print(step)\n",
        "    #print(batch)\n",
        "\n",
        "    #add the batch to the GPU\n",
        "    batch=tuple(t.to(device) for t in batch)\n",
        "    #print(batch.shape)\n",
        "    b_input_ids,b_input_mask,b_labels=batch\n",
        "    #print(b_labels)\n",
        "  #always clear the gradients before doing a backward pass\n",
        "    model1.zero_grad()\n",
        "\n",
        "   #perform a forward pass\n",
        "    loss,logits=model1(b_input_ids,token_type_ids=None,attention_mask=b_input_mask,labels=b_labels)\n",
        "    \n",
        "    logits = logits.detach().cpu().numpy()\n",
        "    #print(\"step number -\", step)\n",
        "    #print(\"score--\",logits.shape)\n",
        "    #outout shape in the form : 32*75*18 --32 batch size,75 --> sequence size, 18 --> Tags \n",
        "    #print(\"argmax--\")\n",
        "    #print(\"logits--\",logits)\n",
        "    #print(\"argmax--\",np.argmax(logits,axis=1))\n",
        "   #calculate the accumulating loss\n",
        "   #`loss` is a Tensor containing a # single value; the `.item()` function just returns the Python value \n",
        "    total_train_loss+=loss.item()\n",
        "\n",
        "   # Perform a backward pass to calculate the gradients.\n",
        "   #compute gradient of loss w.r.t all the parameters in loss that have requires_grad = True and store them in parameter.grad attribute for every parameter.\n",
        "    loss.backward()\n",
        "\n",
        "   # Clip the norm of the gradients to 1.0.\n",
        "   # This is to help prevent the \"exploding gradients\" problem\n",
        "   #within a specific range (clip)\n",
        "    torch.nn.utils.clip_grad_norm_(model1.parameters(), 1.0)\n",
        "\n",
        "     \n",
        "   # Update parameters and take a step using the computed gradient.\n",
        "   # The optimizer dictates the \"update rule\"--how the parameters are\n",
        "   # modified based on their gradients, the learning rate, etc.\n",
        "   #updates all the parameters based on parameter.grad\n",
        "    optimizer.step()\n",
        "\n",
        "   # Update the learning rate.\n",
        "    scheduler.step()\n",
        "#Return to the epoch\n",
        "   # Calculate the average loss over all of the batches.  \n",
        "  avg_train_loss= total_train_loss/len(train_dataloader)\n",
        "  print(\"Average train loss: {}\".format(avg_train_loss))\n",
        "  #append the loss for trainig\n",
        "  loss_values.append(avg_train_loss)\n",
        "  print(\" Training is completed\")\n",
        "  print(\"Running Validation... \")\n",
        "\n",
        "  #put the model in evaluation mode\n",
        "  model1.eval()\n",
        "\n",
        "  # Tracking variables \n",
        "  total_eval_accuracy = 0\n",
        "  total_eval_loss = 0\n",
        "  nb_eval_steps = 0\n",
        "  predictions , true_labels = [], []\n",
        "\n",
        "  for batch in valid_dataloader:\n",
        "\n",
        "    #add the batch to the GPU\n",
        "    batch=tuple(t.to(device) for t in batch)\n",
        "    b_input_ids,b_input_mask,b_labels=batch\n",
        "   \n",
        "    #print(\"validation labels:\",b_labels)\n",
        "     #always clear the gradients\n",
        "     #in evaluation mode, you can't do backprog, to save time, dont compute the gradients\n",
        "    with torch.no_grad():\n",
        "      #perform a forward pass\n",
        "      loss,logits=model1(b_input_ids,token_type_ids=None,attention_mask=b_input_mask,labels=b_labels)\n",
        "\n",
        "    logits=logits.detach().cpu().numpy()\n",
        "    label_ids=b_labels.to('cpu').numpy()\n",
        "    label_ids=b_labels\n",
        "\n",
        "\n",
        "   #calculate the accumulating loss\n",
        "   #`loss` is a Tensor containing a # single value; the `.item()` function just returns the Python value \n",
        "    total_eval_loss+=loss.mean().item()\n",
        "    predictions.extend([list(p) for p in np.argmax(logits,axis=2)])\n",
        "    true_labels.extend(label_ids)\n",
        "\n",
        "  eval_loss=total_eval_loss/len(valid_dataloader) \n",
        "  validation_loss_values.append(eval_loss)\n",
        "  print(\"Validation loss: {}\".format(eval_loss))\n",
        "\n",
        "  pred_tags=[tags[p_i] for p,l in zip(predictions,true_labels) for p_i,l_i in zip(p,l) if tags[l_i] != \"PAD\"]\n",
        "\n",
        "  valid_tags=[tags[l_i] for l in true_labels for l_i in l if tags[l_i]!=\"PAD\"]\n",
        "\n",
        "  #print(\"Validation Accuracy: {}\".format(accuracy_score(pred_tags, valid_tags)))\n",
        "  #print(\"Validation F1-Score: {}\".format(f1_score(pred_tags, valid_tags,average='weighted')))"
      ],
      "execution_count": null,
      "outputs": [
        {
          "output_type": "stream",
          "text": [
            "\rEPOCH:   0%|          | 0/2 [00:00<?, ?it/s]"
          ],
          "name": "stderr"
        },
        {
          "output_type": "stream",
          "text": [
            "\n",
            "Training...\n",
            "0\n",
            "1\n",
            "2\n",
            "3\n",
            "4\n",
            "5\n",
            "6\n",
            "7\n",
            "8\n",
            "9\n",
            "10\n",
            "11\n",
            "12\n",
            "13\n",
            "14\n",
            "15\n",
            "16\n",
            "17\n",
            "18\n",
            "19\n",
            "20\n",
            "21\n",
            "22\n",
            "23\n",
            "24\n",
            "25\n",
            "26\n",
            "27\n",
            "28\n",
            "29\n",
            "30\n",
            "31\n",
            "32\n",
            "33\n",
            "34\n",
            "35\n",
            "36\n",
            "37\n",
            "38\n",
            "39\n",
            "40\n",
            "41\n",
            "42\n",
            "43\n",
            "44\n",
            "45\n",
            "46\n",
            "47\n",
            "48\n",
            "49\n",
            "50\n",
            "51\n",
            "52\n",
            "53\n",
            "54\n",
            "55\n",
            "56\n",
            "57\n",
            "58\n",
            "59\n",
            "60\n",
            "61\n",
            "62\n",
            "63\n",
            "64\n",
            "65\n",
            "66\n",
            "67\n",
            "68\n",
            "69\n",
            "70\n",
            "71\n",
            "72\n",
            "73\n",
            "74\n",
            "75\n",
            "76\n",
            "77\n",
            "78\n",
            "79\n",
            "80\n",
            "81\n",
            "82\n",
            "83\n",
            "84\n",
            "85\n",
            "86\n",
            "87\n",
            "88\n",
            "89\n",
            "90\n",
            "91\n",
            "92\n",
            "93\n",
            "94\n",
            "95\n",
            "96\n",
            "97\n",
            "98\n",
            "99\n",
            "100\n",
            "101\n",
            "Average train loss: 0.2940281465211335\n",
            " Training is completed\n",
            "Running Validation... \n",
            "Validation loss: 0.16738703507272637\n"
          ],
          "name": "stdout"
        },
        {
          "output_type": "stream",
          "text": [
            "/usr/local/lib/python3.6/dist-packages/ipykernel_launcher.py:110: FutureWarning: elementwise comparison failed; returning scalar instead, but in the future will perform elementwise comparison\n",
            "/usr/local/lib/python3.6/dist-packages/ipykernel_launcher.py:112: FutureWarning: elementwise comparison failed; returning scalar instead, but in the future will perform elementwise comparison\n",
            "EPOCH:  50%|█████     | 1/2 [02:18<02:18, 138.57s/it]"
          ],
          "name": "stderr"
        },
        {
          "output_type": "stream",
          "text": [
            "\n",
            "Training...\n",
            "0\n",
            "1\n",
            "2\n",
            "3\n",
            "4\n",
            "5\n",
            "6\n",
            "7\n",
            "8\n",
            "9\n",
            "10\n",
            "11\n",
            "12\n",
            "13\n",
            "14\n",
            "15\n",
            "16\n",
            "17\n",
            "18\n",
            "19\n",
            "20\n",
            "21\n",
            "22\n",
            "23\n",
            "24\n",
            "25\n",
            "26\n",
            "27\n",
            "28\n",
            "29\n",
            "30\n",
            "31\n",
            "32\n",
            "33\n",
            "34\n",
            "35\n",
            "36\n",
            "37\n",
            "38\n",
            "39\n",
            "40\n",
            "41\n",
            "42\n",
            "43\n",
            "44\n",
            "45\n",
            "46\n",
            "47\n",
            "48\n",
            "49\n",
            "50\n",
            "51\n",
            "52\n",
            "53\n",
            "54\n",
            "55\n",
            "56\n",
            "57\n",
            "58\n",
            "59\n",
            "60\n",
            "61\n",
            "62\n",
            "63\n",
            "64\n",
            "65\n",
            "66\n",
            "67\n",
            "68\n",
            "69\n",
            "70\n",
            "71\n",
            "72\n",
            "73\n",
            "74\n",
            "75\n",
            "76\n",
            "77\n",
            "78\n",
            "79\n",
            "80\n",
            "81\n",
            "82\n",
            "83\n",
            "84\n",
            "85\n",
            "86\n",
            "87\n",
            "88\n",
            "89\n",
            "90\n",
            "91\n",
            "92\n",
            "93\n",
            "94\n",
            "95\n",
            "96\n",
            "97\n",
            "98\n",
            "99\n",
            "100\n",
            "101\n",
            "Average train loss: 0.12940889282845983\n",
            " Training is completed\n",
            "Running Validation... \n",
            "Validation loss: 0.12757858749040785\n"
          ],
          "name": "stdout"
        },
        {
          "output_type": "stream",
          "text": [
            "EPOCH: 100%|██████████| 2/2 [04:39<00:00, 139.94s/it]\n"
          ],
          "name": "stderr"
        }
      ]
    },
    {
      "cell_type": "code",
      "metadata": {
        "id": "W7Wa3yCfyQQK"
      },
      "source": [
        "#test_sentence = \"To study the safety and efficacy of  methylphenidate in children with the dual diagnosis of  epilepsy and attention deficit hyperactivity disorder  and double-blind, crossover design was used to compare the effects \"\n",
        "test_sentence=\"It was the unanimous view of the Emergency Committee that Ebola virus disease outbreak in Democratic Republic of the Congo still constitutes a public health emergency of international concern (PHEIC)\""
      ],
      "execution_count": null,
      "outputs": []
    },
    {
      "cell_type": "code",
      "metadata": {
        "id": "I-rrFdTeEzN0"
      },
      "source": [
        "def evaluate(test_sentence):\n",
        "  tokenized_sentence=Clinicalbert_tokenizer.encode(test_sentence)\n",
        "  #conver to tensor format\n",
        "  input_ids = torch.tensor([tokenized_sentence])\n",
        "  input_ids=input_ids.cuda()\n",
        "  print(input_ids)\n",
        "  #run the sentence through the model\n",
        "  with torch.no_grad():\n",
        "    output=model1(input_ids)\n",
        "  label_indices=torch.argmax(output[0],axis=2)\n",
        "  tokens=Clinicalbert_tokenizer.convert_ids_to_tokens(input_ids[0])\n",
        "  tags=['O','B-Disease','I-Disease',\"PAD\"]\n",
        "  new_token,new_labels=[],[]\n",
        "  for token,label_idx in zip(tokens,label_indices[0]):\n",
        "  #print(token)\n",
        "  #print(tags[label_idx])\n",
        "    if token.startswith(\"##\"):\n",
        "    #add at the end\n",
        "      new_token[-1]=new_token[-1]+token[2:]\n",
        "    else:\n",
        "    #if its not special token\n",
        "      new_labels.append(tags[label_idx])\n",
        "      new_token.append(token)\n",
        "  for token,label in zip(new_token,new_labels):\n",
        "    print(\"{}\\t{}\".format(token,label))      \n"
      ],
      "execution_count": 16,
      "outputs": []
    },
    {
      "cell_type": "code",
      "metadata": {
        "id": "4VXEiQrkYspG"
      },
      "source": [
        "#Load the pretrained model\n",
        "model1=torch.load('/content/drive/My Drive/NLP/Sep8Biobert/pytorch_model.bin')"
      ],
      "execution_count": 10,
      "outputs": []
    },
    {
      "cell_type": "code",
      "metadata": {
        "id": "c1xZQqZGZg1P",
        "outputId": "82d69344-1037-405e-e060-b5693b9aafd4",
        "colab": {
          "base_uri": "https://localhost:8080/",
          "height": 386
        }
      },
      "source": [
        "#call the function to evaluate the output\n",
        "evaluate('To study the safety and efficacy of  methylphenidate in children with the dual diagnosis of  epilepsy and attention deficit hyperactivity disorder  and double-blind, crossover design was used to compare the effects')"
      ],
      "execution_count": 17,
      "outputs": [
        {
          "output_type": "stream",
          "text": [
            "tensor([[  101,  1106,  2025,  1103,  3429,  1105, 23891,  1104,  1899, 18873,\n",
            "         27801,  2605,  9216,  1107,  1482,  1114,  1103,  7058, 12645,  1104,\n",
            "           174, 24898, 12685,  1105,  2209, 16312,   177, 24312, 11179,  6366,\n",
            "          8936,  1105,  2702,   118,  7198,   117, 18847,  1902,  1108,  1215,\n",
            "          1106, 14133,  1103,  3154,   102]], device='cuda:0')\n"
          ],
          "name": "stdout"
        },
        {
          "output_type": "error",
          "ename": "TypeError",
          "evalue": "ignored",
          "traceback": [
            "\u001b[0;31m---------------------------------------------------------------------------\u001b[0m",
            "\u001b[0;31mTypeError\u001b[0m                                 Traceback (most recent call last)",
            "\u001b[0;32m<ipython-input-17-82a517cf4b7c>\u001b[0m in \u001b[0;36m<module>\u001b[0;34m()\u001b[0m\n\u001b[1;32m      1\u001b[0m \u001b[0;31m#call the function to evaluate the output\u001b[0m\u001b[0;34m\u001b[0m\u001b[0;34m\u001b[0m\u001b[0;34m\u001b[0m\u001b[0m\n\u001b[0;32m----> 2\u001b[0;31m \u001b[0mevaluate\u001b[0m\u001b[0;34m(\u001b[0m\u001b[0;34m'To study the safety and efficacy of  methylphenidate in children with the dual diagnosis of  epilepsy and attention deficit hyperactivity disorder  and double-blind, crossover design was used to compare the effects'\u001b[0m\u001b[0;34m)\u001b[0m\u001b[0;34m\u001b[0m\u001b[0;34m\u001b[0m\u001b[0m\n\u001b[0m",
            "\u001b[0;32m<ipython-input-16-22e8eadbd816>\u001b[0m in \u001b[0;36mevaluate\u001b[0;34m(test_sentence)\u001b[0m\n\u001b[1;32m      7\u001b[0m   \u001b[0;31m#run the sentence through the model\u001b[0m\u001b[0;34m\u001b[0m\u001b[0;34m\u001b[0m\u001b[0;34m\u001b[0m\u001b[0m\n\u001b[1;32m      8\u001b[0m   \u001b[0;32mwith\u001b[0m \u001b[0mtorch\u001b[0m\u001b[0;34m.\u001b[0m\u001b[0mno_grad\u001b[0m\u001b[0;34m(\u001b[0m\u001b[0;34m)\u001b[0m\u001b[0;34m:\u001b[0m\u001b[0;34m\u001b[0m\u001b[0;34m\u001b[0m\u001b[0m\n\u001b[0;32m----> 9\u001b[0;31m     \u001b[0moutput\u001b[0m\u001b[0;34m=\u001b[0m\u001b[0mmodel1\u001b[0m\u001b[0;34m(\u001b[0m\u001b[0minput_ids\u001b[0m\u001b[0;34m)\u001b[0m\u001b[0;34m\u001b[0m\u001b[0;34m\u001b[0m\u001b[0m\n\u001b[0m\u001b[1;32m     10\u001b[0m   \u001b[0mlabel_indices\u001b[0m\u001b[0;34m=\u001b[0m\u001b[0mtorch\u001b[0m\u001b[0;34m.\u001b[0m\u001b[0margmax\u001b[0m\u001b[0;34m(\u001b[0m\u001b[0moutput\u001b[0m\u001b[0;34m[\u001b[0m\u001b[0;36m0\u001b[0m\u001b[0;34m]\u001b[0m\u001b[0;34m,\u001b[0m\u001b[0maxis\u001b[0m\u001b[0;34m=\u001b[0m\u001b[0;36m2\u001b[0m\u001b[0;34m)\u001b[0m\u001b[0;34m\u001b[0m\u001b[0;34m\u001b[0m\u001b[0m\n\u001b[1;32m     11\u001b[0m   \u001b[0mtokens\u001b[0m\u001b[0;34m=\u001b[0m\u001b[0mClinicalbert_tokenizer\u001b[0m\u001b[0;34m.\u001b[0m\u001b[0mconvert_ids_to_tokens\u001b[0m\u001b[0;34m(\u001b[0m\u001b[0minput_ids\u001b[0m\u001b[0;34m[\u001b[0m\u001b[0;36m0\u001b[0m\u001b[0;34m]\u001b[0m\u001b[0;34m)\u001b[0m\u001b[0;34m\u001b[0m\u001b[0;34m\u001b[0m\u001b[0m\n",
            "\u001b[0;31mTypeError\u001b[0m: 'collections.OrderedDict' object is not callable"
          ]
        }
      ]
    },
    {
      "cell_type": "code",
      "metadata": {
        "id": "wEMWgsneF2gW",
        "outputId": "59ffa207-1be7-42ad-f20b-a647ba1bb2bb",
        "colab": {
          "base_uri": "https://localhost:8080/",
          "height": 602
        }
      },
      "source": [
        ""
      ],
      "execution_count": null,
      "outputs": [
        {
          "output_type": "stream",
          "text": [
            "[CLS]\tO\n",
            "to\tO\n",
            "study\tO\n",
            "the\tO\n",
            "safety\tO\n",
            "and\tO\n",
            "efficacy\tO\n",
            "of\tO\n",
            "methylphenidate\tO\n",
            "in\tO\n",
            "children\tO\n",
            "with\tO\n",
            "the\tO\n",
            "dual\tO\n",
            "diagnosis\tO\n",
            "of\tO\n",
            "epilepsy\tB-Disease\n",
            "and\tO\n",
            "attention\tO\n",
            "deficit\tI-Disease\n",
            "hyperactivity\tI-Disease\n",
            "disorder\tI-Disease\n",
            "and\tO\n",
            "double\tO\n",
            "-\tO\n",
            "blind\tO\n",
            ",\tO\n",
            "crossover\tO\n",
            "design\tO\n",
            "was\tO\n",
            "used\tO\n",
            "to\tO\n",
            "compare\tO\n",
            "the\tO\n",
            "effects\tO\n",
            "[SEP]\tO\n"
          ],
          "name": "stdout"
        }
      ]
    },
    {
      "cell_type": "code",
      "metadata": {
        "id": "UEKk4f6_7fiA"
      },
      "source": [
        "model1.save_pretrained('/content/drive/My Drive/NLP/Sep8Biobert')"
      ],
      "execution_count": null,
      "outputs": []
    },
    {
      "cell_type": "code",
      "metadata": {
        "id": "CR05u7dj8R6w",
        "outputId": "58b3b28d-0bd6-489a-e751-d4e28be7aeed",
        "colab": {
          "base_uri": "https://localhost:8080/",
          "height": 66
        }
      },
      "source": [
        "Clinicalbert_tokenizer.save_pretrained('/content/drive/My Drive/NLP/Sep8Biobert')"
      ],
      "execution_count": null,
      "outputs": [
        {
          "output_type": "execute_result",
          "data": {
            "text/plain": [
              "('/content/drive/My Drive/NLP/Sep8Biobert/vocab.txt',\n",
              " '/content/drive/My Drive/NLP/Sep8Biobert/special_tokens_map.json',\n",
              " '/content/drive/My Drive/NLP/Sep8Biobert/added_tokens.json')"
            ]
          },
          "metadata": {
            "tags": []
          },
          "execution_count": 40
        }
      ]
    },
    {
      "cell_type": "code",
      "metadata": {
        "id": "Jj6bKc9-EKE5"
      },
      "source": [
        "tags=['O','B-Disease','I-Disease',\"PAD\"]"
      ],
      "execution_count": null,
      "outputs": []
    },
    {
      "cell_type": "code",
      "metadata": {
        "id": "uni5POtNAn4H",
        "outputId": "b664a80d-1e09-4b7a-ad98-894a1f966923",
        "colab": {
          "base_uri": "https://localhost:8080/",
          "height": 33
        }
      },
      "source": [
        "label_map = {i : label for i, label in enumerate(tags,1)}\n",
        "print(label_map)"
      ],
      "execution_count": null,
      "outputs": [
        {
          "output_type": "stream",
          "text": [
            "{1: 'O', 2: 'B-Disease', 3: 'I-Disease', 4: 'PAD'}\n"
          ],
          "name": "stdout"
        }
      ]
    },
    {
      "cell_type": "code",
      "metadata": {
        "id": "wRqjGAdRCvQe",
        "outputId": "cb49764b-f19f-476d-d170-0efd4cd67c7c",
        "colab": {
          "base_uri": "https://localhost:8080/",
          "height": 33
        }
      },
      "source": [
        "print(len(label_map))"
      ],
      "execution_count": null,
      "outputs": [
        {
          "output_type": "stream",
          "text": [
            "4\n"
          ],
          "name": "stdout"
        }
      ]
    },
    {
      "cell_type": "code",
      "metadata": {
        "id": "cqnPFC01DOwx"
      },
      "source": [
        "bert_model='emilyalsentzer/Bio_ClinicalBERT'"
      ],
      "execution_count": null,
      "outputs": []
    },
    {
      "cell_type": "code",
      "metadata": {
        "id": "JzRVjMO7Dmnd"
      },
      "source": [
        "import json"
      ],
      "execution_count": null,
      "outputs": []
    },
    {
      "cell_type": "code",
      "metadata": {
        "id": "kutna-n57cwS"
      },
      "source": [
        "label_map = {i : label for i, label in enumerate(tags,1)}\n",
        "model_config={\"bert_model\":bert_model,\"max_seq_length\":128,\"num_labels\":len(label_map),\"label_map\":label_map}\n"
      ],
      "execution_count": null,
      "outputs": []
    },
    {
      "cell_type": "code",
      "metadata": {
        "id": "QrSiCDtODxrm",
        "outputId": "d3b65f68-78c2-430e-8433-9c7a3adff808",
        "colab": {
          "base_uri": "https://localhost:8080/",
          "height": 82
        }
      },
      "source": [
        "model_config"
      ],
      "execution_count": null,
      "outputs": [
        {
          "output_type": "execute_result",
          "data": {
            "text/plain": [
              "{'bert_model': 'emilyalsentzer/Bio_ClinicalBERT',\n",
              " 'label_map': {1: 'O', 2: 'B-Disease', 3: 'I-Disease', 4: 'PAD'},\n",
              " 'max_seq_length': 128,\n",
              " 'num_labels': 4}"
            ]
          },
          "metadata": {
            "tags": []
          },
          "execution_count": 59
        }
      ]
    },
    {
      "cell_type": "code",
      "metadata": {
        "id": "-Bg00eOuDKGR"
      },
      "source": [
        "json.dump(model_config,open(os.path.join('/content/drive/My Drive/NLP/Sep8Biobert',\"model_config.json\"),\"w\"))"
      ],
      "execution_count": null,
      "outputs": []
    }
  ]
}