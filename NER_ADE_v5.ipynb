{
  "nbformat": 4,
  "nbformat_minor": 0,
  "metadata": {
    "colab": {
      "name": "NER-ADE_v5.ipynb",
      "provenance": [],
      "collapsed_sections": [],
      "authorship_tag": "ABX9TyOsGysPQ6Zy5juRbtCm6A5M",
      "include_colab_link": true
    },
    "kernelspec": {
      "name": "python3",
      "display_name": "Python 3"
    },
    "accelerator": "GPU",
    "widgets": {
      "application/vnd.jupyter.widget-state+json": {
        "7da813a0d50447d9a63bb556d303be69": {
          "model_module": "@jupyter-widgets/controls",
          "model_name": "HBoxModel",
          "state": {
            "_view_name": "HBoxView",
            "_dom_classes": [],
            "_model_name": "HBoxModel",
            "_view_module": "@jupyter-widgets/controls",
            "_model_module_version": "1.5.0",
            "_view_count": null,
            "_view_module_version": "1.5.0",
            "box_style": "",
            "layout": "IPY_MODEL_ac0831488632494d9c0e06b086d520bb",
            "_model_module": "@jupyter-widgets/controls",
            "children": [
              "IPY_MODEL_b9031913ed3b49cfa1d7aafa41794ecb",
              "IPY_MODEL_9d619389b4f8404f98896d03e84b51de"
            ]
          }
        },
        "ac0831488632494d9c0e06b086d520bb": {
          "model_module": "@jupyter-widgets/base",
          "model_name": "LayoutModel",
          "state": {
            "_view_name": "LayoutView",
            "grid_template_rows": null,
            "right": null,
            "justify_content": null,
            "_view_module": "@jupyter-widgets/base",
            "overflow": null,
            "_model_module_version": "1.2.0",
            "_view_count": null,
            "flex_flow": null,
            "width": null,
            "min_width": null,
            "border": null,
            "align_items": null,
            "bottom": null,
            "_model_module": "@jupyter-widgets/base",
            "top": null,
            "grid_column": null,
            "overflow_y": null,
            "overflow_x": null,
            "grid_auto_flow": null,
            "grid_area": null,
            "grid_template_columns": null,
            "flex": null,
            "_model_name": "LayoutModel",
            "justify_items": null,
            "grid_row": null,
            "max_height": null,
            "align_content": null,
            "visibility": null,
            "align_self": null,
            "height": null,
            "min_height": null,
            "padding": null,
            "grid_auto_rows": null,
            "grid_gap": null,
            "max_width": null,
            "order": null,
            "_view_module_version": "1.2.0",
            "grid_template_areas": null,
            "object_position": null,
            "object_fit": null,
            "grid_auto_columns": null,
            "margin": null,
            "display": null,
            "left": null
          }
        },
        "b9031913ed3b49cfa1d7aafa41794ecb": {
          "model_module": "@jupyter-widgets/controls",
          "model_name": "FloatProgressModel",
          "state": {
            "_view_name": "ProgressView",
            "style": "IPY_MODEL_bd11fdb4bfc249adb75feae9e045e85b",
            "_dom_classes": [],
            "description": "Downloading: 100%",
            "_model_name": "FloatProgressModel",
            "bar_style": "success",
            "max": 462,
            "_view_module": "@jupyter-widgets/controls",
            "_model_module_version": "1.5.0",
            "value": 462,
            "_view_count": null,
            "_view_module_version": "1.5.0",
            "orientation": "horizontal",
            "min": 0,
            "description_tooltip": null,
            "_model_module": "@jupyter-widgets/controls",
            "layout": "IPY_MODEL_5a6bf9b7543245f6a97d720fe1ba8961"
          }
        },
        "9d619389b4f8404f98896d03e84b51de": {
          "model_module": "@jupyter-widgets/controls",
          "model_name": "HTMLModel",
          "state": {
            "_view_name": "HTMLView",
            "style": "IPY_MODEL_b146ae814b50490b80e016219a25d599",
            "_dom_classes": [],
            "description": "",
            "_model_name": "HTMLModel",
            "placeholder": "​",
            "_view_module": "@jupyter-widgets/controls",
            "_model_module_version": "1.5.0",
            "value": " 462/462 [00:00&lt;00:00, 13.3kB/s]",
            "_view_count": null,
            "_view_module_version": "1.5.0",
            "description_tooltip": null,
            "_model_module": "@jupyter-widgets/controls",
            "layout": "IPY_MODEL_316a82ea02734872b4c56be50e1c6d35"
          }
        },
        "bd11fdb4bfc249adb75feae9e045e85b": {
          "model_module": "@jupyter-widgets/controls",
          "model_name": "ProgressStyleModel",
          "state": {
            "_view_name": "StyleView",
            "_model_name": "ProgressStyleModel",
            "description_width": "initial",
            "_view_module": "@jupyter-widgets/base",
            "_model_module_version": "1.5.0",
            "_view_count": null,
            "_view_module_version": "1.2.0",
            "bar_color": null,
            "_model_module": "@jupyter-widgets/controls"
          }
        },
        "5a6bf9b7543245f6a97d720fe1ba8961": {
          "model_module": "@jupyter-widgets/base",
          "model_name": "LayoutModel",
          "state": {
            "_view_name": "LayoutView",
            "grid_template_rows": null,
            "right": null,
            "justify_content": null,
            "_view_module": "@jupyter-widgets/base",
            "overflow": null,
            "_model_module_version": "1.2.0",
            "_view_count": null,
            "flex_flow": null,
            "width": null,
            "min_width": null,
            "border": null,
            "align_items": null,
            "bottom": null,
            "_model_module": "@jupyter-widgets/base",
            "top": null,
            "grid_column": null,
            "overflow_y": null,
            "overflow_x": null,
            "grid_auto_flow": null,
            "grid_area": null,
            "grid_template_columns": null,
            "flex": null,
            "_model_name": "LayoutModel",
            "justify_items": null,
            "grid_row": null,
            "max_height": null,
            "align_content": null,
            "visibility": null,
            "align_self": null,
            "height": null,
            "min_height": null,
            "padding": null,
            "grid_auto_rows": null,
            "grid_gap": null,
            "max_width": null,
            "order": null,
            "_view_module_version": "1.2.0",
            "grid_template_areas": null,
            "object_position": null,
            "object_fit": null,
            "grid_auto_columns": null,
            "margin": null,
            "display": null,
            "left": null
          }
        },
        "b146ae814b50490b80e016219a25d599": {
          "model_module": "@jupyter-widgets/controls",
          "model_name": "DescriptionStyleModel",
          "state": {
            "_view_name": "StyleView",
            "_model_name": "DescriptionStyleModel",
            "description_width": "",
            "_view_module": "@jupyter-widgets/base",
            "_model_module_version": "1.5.0",
            "_view_count": null,
            "_view_module_version": "1.2.0",
            "_model_module": "@jupyter-widgets/controls"
          }
        },
        "316a82ea02734872b4c56be50e1c6d35": {
          "model_module": "@jupyter-widgets/base",
          "model_name": "LayoutModel",
          "state": {
            "_view_name": "LayoutView",
            "grid_template_rows": null,
            "right": null,
            "justify_content": null,
            "_view_module": "@jupyter-widgets/base",
            "overflow": null,
            "_model_module_version": "1.2.0",
            "_view_count": null,
            "flex_flow": null,
            "width": null,
            "min_width": null,
            "border": null,
            "align_items": null,
            "bottom": null,
            "_model_module": "@jupyter-widgets/base",
            "top": null,
            "grid_column": null,
            "overflow_y": null,
            "overflow_x": null,
            "grid_auto_flow": null,
            "grid_area": null,
            "grid_template_columns": null,
            "flex": null,
            "_model_name": "LayoutModel",
            "justify_items": null,
            "grid_row": null,
            "max_height": null,
            "align_content": null,
            "visibility": null,
            "align_self": null,
            "height": null,
            "min_height": null,
            "padding": null,
            "grid_auto_rows": null,
            "grid_gap": null,
            "max_width": null,
            "order": null,
            "_view_module_version": "1.2.0",
            "grid_template_areas": null,
            "object_position": null,
            "object_fit": null,
            "grid_auto_columns": null,
            "margin": null,
            "display": null,
            "left": null
          }
        },
        "e8db630d9c5f447090ba950d249ff141": {
          "model_module": "@jupyter-widgets/controls",
          "model_name": "HBoxModel",
          "state": {
            "_view_name": "HBoxView",
            "_dom_classes": [],
            "_model_name": "HBoxModel",
            "_view_module": "@jupyter-widgets/controls",
            "_model_module_version": "1.5.0",
            "_view_count": null,
            "_view_module_version": "1.5.0",
            "box_style": "",
            "layout": "IPY_MODEL_0806aa0a72c1408592527b64bf510be9",
            "_model_module": "@jupyter-widgets/controls",
            "children": [
              "IPY_MODEL_aa6d5da2cf334e22b5a57ae0b75e5960",
              "IPY_MODEL_a226e1b4a6614a6198381c50e5e19cec"
            ]
          }
        },
        "0806aa0a72c1408592527b64bf510be9": {
          "model_module": "@jupyter-widgets/base",
          "model_name": "LayoutModel",
          "state": {
            "_view_name": "LayoutView",
            "grid_template_rows": null,
            "right": null,
            "justify_content": null,
            "_view_module": "@jupyter-widgets/base",
            "overflow": null,
            "_model_module_version": "1.2.0",
            "_view_count": null,
            "flex_flow": null,
            "width": null,
            "min_width": null,
            "border": null,
            "align_items": null,
            "bottom": null,
            "_model_module": "@jupyter-widgets/base",
            "top": null,
            "grid_column": null,
            "overflow_y": null,
            "overflow_x": null,
            "grid_auto_flow": null,
            "grid_area": null,
            "grid_template_columns": null,
            "flex": null,
            "_model_name": "LayoutModel",
            "justify_items": null,
            "grid_row": null,
            "max_height": null,
            "align_content": null,
            "visibility": null,
            "align_self": null,
            "height": null,
            "min_height": null,
            "padding": null,
            "grid_auto_rows": null,
            "grid_gap": null,
            "max_width": null,
            "order": null,
            "_view_module_version": "1.2.0",
            "grid_template_areas": null,
            "object_position": null,
            "object_fit": null,
            "grid_auto_columns": null,
            "margin": null,
            "display": null,
            "left": null
          }
        },
        "aa6d5da2cf334e22b5a57ae0b75e5960": {
          "model_module": "@jupyter-widgets/controls",
          "model_name": "FloatProgressModel",
          "state": {
            "_view_name": "ProgressView",
            "style": "IPY_MODEL_bd165f1645164b72bf65b65e13ad9987",
            "_dom_classes": [],
            "description": "Downloading: 100%",
            "_model_name": "FloatProgressModel",
            "bar_style": "success",
            "max": 213450,
            "_view_module": "@jupyter-widgets/controls",
            "_model_module_version": "1.5.0",
            "value": 213450,
            "_view_count": null,
            "_view_module_version": "1.5.0",
            "orientation": "horizontal",
            "min": 0,
            "description_tooltip": null,
            "_model_module": "@jupyter-widgets/controls",
            "layout": "IPY_MODEL_5d1afb22f8c94cf2adbfcc135a9d3420"
          }
        },
        "a226e1b4a6614a6198381c50e5e19cec": {
          "model_module": "@jupyter-widgets/controls",
          "model_name": "HTMLModel",
          "state": {
            "_view_name": "HTMLView",
            "style": "IPY_MODEL_f80f9578e9f747b0bf96fb57630fe88b",
            "_dom_classes": [],
            "description": "",
            "_model_name": "HTMLModel",
            "placeholder": "​",
            "_view_module": "@jupyter-widgets/controls",
            "_model_module_version": "1.5.0",
            "value": " 213k/213k [00:01&lt;00:00, 136kB/s]",
            "_view_count": null,
            "_view_module_version": "1.5.0",
            "description_tooltip": null,
            "_model_module": "@jupyter-widgets/controls",
            "layout": "IPY_MODEL_6273b79a9b7d4a7f93b7b99aee596e1e"
          }
        },
        "bd165f1645164b72bf65b65e13ad9987": {
          "model_module": "@jupyter-widgets/controls",
          "model_name": "ProgressStyleModel",
          "state": {
            "_view_name": "StyleView",
            "_model_name": "ProgressStyleModel",
            "description_width": "initial",
            "_view_module": "@jupyter-widgets/base",
            "_model_module_version": "1.5.0",
            "_view_count": null,
            "_view_module_version": "1.2.0",
            "bar_color": null,
            "_model_module": "@jupyter-widgets/controls"
          }
        },
        "5d1afb22f8c94cf2adbfcc135a9d3420": {
          "model_module": "@jupyter-widgets/base",
          "model_name": "LayoutModel",
          "state": {
            "_view_name": "LayoutView",
            "grid_template_rows": null,
            "right": null,
            "justify_content": null,
            "_view_module": "@jupyter-widgets/base",
            "overflow": null,
            "_model_module_version": "1.2.0",
            "_view_count": null,
            "flex_flow": null,
            "width": null,
            "min_width": null,
            "border": null,
            "align_items": null,
            "bottom": null,
            "_model_module": "@jupyter-widgets/base",
            "top": null,
            "grid_column": null,
            "overflow_y": null,
            "overflow_x": null,
            "grid_auto_flow": null,
            "grid_area": null,
            "grid_template_columns": null,
            "flex": null,
            "_model_name": "LayoutModel",
            "justify_items": null,
            "grid_row": null,
            "max_height": null,
            "align_content": null,
            "visibility": null,
            "align_self": null,
            "height": null,
            "min_height": null,
            "padding": null,
            "grid_auto_rows": null,
            "grid_gap": null,
            "max_width": null,
            "order": null,
            "_view_module_version": "1.2.0",
            "grid_template_areas": null,
            "object_position": null,
            "object_fit": null,
            "grid_auto_columns": null,
            "margin": null,
            "display": null,
            "left": null
          }
        },
        "f80f9578e9f747b0bf96fb57630fe88b": {
          "model_module": "@jupyter-widgets/controls",
          "model_name": "DescriptionStyleModel",
          "state": {
            "_view_name": "StyleView",
            "_model_name": "DescriptionStyleModel",
            "description_width": "",
            "_view_module": "@jupyter-widgets/base",
            "_model_module_version": "1.5.0",
            "_view_count": null,
            "_view_module_version": "1.2.0",
            "_model_module": "@jupyter-widgets/controls"
          }
        },
        "6273b79a9b7d4a7f93b7b99aee596e1e": {
          "model_module": "@jupyter-widgets/base",
          "model_name": "LayoutModel",
          "state": {
            "_view_name": "LayoutView",
            "grid_template_rows": null,
            "right": null,
            "justify_content": null,
            "_view_module": "@jupyter-widgets/base",
            "overflow": null,
            "_model_module_version": "1.2.0",
            "_view_count": null,
            "flex_flow": null,
            "width": null,
            "min_width": null,
            "border": null,
            "align_items": null,
            "bottom": null,
            "_model_module": "@jupyter-widgets/base",
            "top": null,
            "grid_column": null,
            "overflow_y": null,
            "overflow_x": null,
            "grid_auto_flow": null,
            "grid_area": null,
            "grid_template_columns": null,
            "flex": null,
            "_model_name": "LayoutModel",
            "justify_items": null,
            "grid_row": null,
            "max_height": null,
            "align_content": null,
            "visibility": null,
            "align_self": null,
            "height": null,
            "min_height": null,
            "padding": null,
            "grid_auto_rows": null,
            "grid_gap": null,
            "max_width": null,
            "order": null,
            "_view_module_version": "1.2.0",
            "grid_template_areas": null,
            "object_position": null,
            "object_fit": null,
            "grid_auto_columns": null,
            "margin": null,
            "display": null,
            "left": null
          }
        },
        "749846810fac43579f34cd29c596617a": {
          "model_module": "@jupyter-widgets/controls",
          "model_name": "HBoxModel",
          "state": {
            "_view_name": "HBoxView",
            "_dom_classes": [],
            "_model_name": "HBoxModel",
            "_view_module": "@jupyter-widgets/controls",
            "_model_module_version": "1.5.0",
            "_view_count": null,
            "_view_module_version": "1.5.0",
            "box_style": "",
            "layout": "IPY_MODEL_64f3f1f88ed64829a2889f9c6dc21a2e",
            "_model_module": "@jupyter-widgets/controls",
            "children": [
              "IPY_MODEL_6947ec5fa92a40b59494ba273d7f4da5",
              "IPY_MODEL_0d084498d36142b5a47baa24827ec3d4"
            ]
          }
        },
        "64f3f1f88ed64829a2889f9c6dc21a2e": {
          "model_module": "@jupyter-widgets/base",
          "model_name": "LayoutModel",
          "state": {
            "_view_name": "LayoutView",
            "grid_template_rows": null,
            "right": null,
            "justify_content": null,
            "_view_module": "@jupyter-widgets/base",
            "overflow": null,
            "_model_module_version": "1.2.0",
            "_view_count": null,
            "flex_flow": null,
            "width": null,
            "min_width": null,
            "border": null,
            "align_items": null,
            "bottom": null,
            "_model_module": "@jupyter-widgets/base",
            "top": null,
            "grid_column": null,
            "overflow_y": null,
            "overflow_x": null,
            "grid_auto_flow": null,
            "grid_area": null,
            "grid_template_columns": null,
            "flex": null,
            "_model_name": "LayoutModel",
            "justify_items": null,
            "grid_row": null,
            "max_height": null,
            "align_content": null,
            "visibility": null,
            "align_self": null,
            "height": null,
            "min_height": null,
            "padding": null,
            "grid_auto_rows": null,
            "grid_gap": null,
            "max_width": null,
            "order": null,
            "_view_module_version": "1.2.0",
            "grid_template_areas": null,
            "object_position": null,
            "object_fit": null,
            "grid_auto_columns": null,
            "margin": null,
            "display": null,
            "left": null
          }
        },
        "6947ec5fa92a40b59494ba273d7f4da5": {
          "model_module": "@jupyter-widgets/controls",
          "model_name": "FloatProgressModel",
          "state": {
            "_view_name": "ProgressView",
            "style": "IPY_MODEL_360d1cc0cbbd4b48b7c1548684b8797f",
            "_dom_classes": [],
            "description": "Downloading: 100%",
            "_model_name": "FloatProgressModel",
            "bar_style": "success",
            "max": 112,
            "_view_module": "@jupyter-widgets/controls",
            "_model_module_version": "1.5.0",
            "value": 112,
            "_view_count": null,
            "_view_module_version": "1.5.0",
            "orientation": "horizontal",
            "min": 0,
            "description_tooltip": null,
            "_model_module": "@jupyter-widgets/controls",
            "layout": "IPY_MODEL_17b029ea65694b1eaf7603126219cbc5"
          }
        },
        "0d084498d36142b5a47baa24827ec3d4": {
          "model_module": "@jupyter-widgets/controls",
          "model_name": "HTMLModel",
          "state": {
            "_view_name": "HTMLView",
            "style": "IPY_MODEL_d988c30ec2bc404681b3f9f4e7dcc369",
            "_dom_classes": [],
            "description": "",
            "_model_name": "HTMLModel",
            "placeholder": "​",
            "_view_module": "@jupyter-widgets/controls",
            "_model_module_version": "1.5.0",
            "value": " 112/112 [00:00&lt;00:00, 244B/s]",
            "_view_count": null,
            "_view_module_version": "1.5.0",
            "description_tooltip": null,
            "_model_module": "@jupyter-widgets/controls",
            "layout": "IPY_MODEL_d13187890bf348a3a747968f22424468"
          }
        },
        "360d1cc0cbbd4b48b7c1548684b8797f": {
          "model_module": "@jupyter-widgets/controls",
          "model_name": "ProgressStyleModel",
          "state": {
            "_view_name": "StyleView",
            "_model_name": "ProgressStyleModel",
            "description_width": "initial",
            "_view_module": "@jupyter-widgets/base",
            "_model_module_version": "1.5.0",
            "_view_count": null,
            "_view_module_version": "1.2.0",
            "bar_color": null,
            "_model_module": "@jupyter-widgets/controls"
          }
        },
        "17b029ea65694b1eaf7603126219cbc5": {
          "model_module": "@jupyter-widgets/base",
          "model_name": "LayoutModel",
          "state": {
            "_view_name": "LayoutView",
            "grid_template_rows": null,
            "right": null,
            "justify_content": null,
            "_view_module": "@jupyter-widgets/base",
            "overflow": null,
            "_model_module_version": "1.2.0",
            "_view_count": null,
            "flex_flow": null,
            "width": null,
            "min_width": null,
            "border": null,
            "align_items": null,
            "bottom": null,
            "_model_module": "@jupyter-widgets/base",
            "top": null,
            "grid_column": null,
            "overflow_y": null,
            "overflow_x": null,
            "grid_auto_flow": null,
            "grid_area": null,
            "grid_template_columns": null,
            "flex": null,
            "_model_name": "LayoutModel",
            "justify_items": null,
            "grid_row": null,
            "max_height": null,
            "align_content": null,
            "visibility": null,
            "align_self": null,
            "height": null,
            "min_height": null,
            "padding": null,
            "grid_auto_rows": null,
            "grid_gap": null,
            "max_width": null,
            "order": null,
            "_view_module_version": "1.2.0",
            "grid_template_areas": null,
            "object_position": null,
            "object_fit": null,
            "grid_auto_columns": null,
            "margin": null,
            "display": null,
            "left": null
          }
        },
        "d988c30ec2bc404681b3f9f4e7dcc369": {
          "model_module": "@jupyter-widgets/controls",
          "model_name": "DescriptionStyleModel",
          "state": {
            "_view_name": "StyleView",
            "_model_name": "DescriptionStyleModel",
            "description_width": "",
            "_view_module": "@jupyter-widgets/base",
            "_model_module_version": "1.5.0",
            "_view_count": null,
            "_view_module_version": "1.2.0",
            "_model_module": "@jupyter-widgets/controls"
          }
        },
        "d13187890bf348a3a747968f22424468": {
          "model_module": "@jupyter-widgets/base",
          "model_name": "LayoutModel",
          "state": {
            "_view_name": "LayoutView",
            "grid_template_rows": null,
            "right": null,
            "justify_content": null,
            "_view_module": "@jupyter-widgets/base",
            "overflow": null,
            "_model_module_version": "1.2.0",
            "_view_count": null,
            "flex_flow": null,
            "width": null,
            "min_width": null,
            "border": null,
            "align_items": null,
            "bottom": null,
            "_model_module": "@jupyter-widgets/base",
            "top": null,
            "grid_column": null,
            "overflow_y": null,
            "overflow_x": null,
            "grid_auto_flow": null,
            "grid_area": null,
            "grid_template_columns": null,
            "flex": null,
            "_model_name": "LayoutModel",
            "justify_items": null,
            "grid_row": null,
            "max_height": null,
            "align_content": null,
            "visibility": null,
            "align_self": null,
            "height": null,
            "min_height": null,
            "padding": null,
            "grid_auto_rows": null,
            "grid_gap": null,
            "max_width": null,
            "order": null,
            "_view_module_version": "1.2.0",
            "grid_template_areas": null,
            "object_position": null,
            "object_fit": null,
            "grid_auto_columns": null,
            "margin": null,
            "display": null,
            "left": null
          }
        },
        "284a2e9348b1427a908448687bba4dd5": {
          "model_module": "@jupyter-widgets/controls",
          "model_name": "HBoxModel",
          "state": {
            "_view_name": "HBoxView",
            "_dom_classes": [],
            "_model_name": "HBoxModel",
            "_view_module": "@jupyter-widgets/controls",
            "_model_module_version": "1.5.0",
            "_view_count": null,
            "_view_module_version": "1.5.0",
            "box_style": "",
            "layout": "IPY_MODEL_af97fa700a444b2ca46d524163e856c8",
            "_model_module": "@jupyter-widgets/controls",
            "children": [
              "IPY_MODEL_16755ef9f1244a099852fd7526499a9a",
              "IPY_MODEL_cdd38836812d4c14900fe74215d11d2e"
            ]
          }
        },
        "af97fa700a444b2ca46d524163e856c8": {
          "model_module": "@jupyter-widgets/base",
          "model_name": "LayoutModel",
          "state": {
            "_view_name": "LayoutView",
            "grid_template_rows": null,
            "right": null,
            "justify_content": null,
            "_view_module": "@jupyter-widgets/base",
            "overflow": null,
            "_model_module_version": "1.2.0",
            "_view_count": null,
            "flex_flow": null,
            "width": null,
            "min_width": null,
            "border": null,
            "align_items": null,
            "bottom": null,
            "_model_module": "@jupyter-widgets/base",
            "top": null,
            "grid_column": null,
            "overflow_y": null,
            "overflow_x": null,
            "grid_auto_flow": null,
            "grid_area": null,
            "grid_template_columns": null,
            "flex": null,
            "_model_name": "LayoutModel",
            "justify_items": null,
            "grid_row": null,
            "max_height": null,
            "align_content": null,
            "visibility": null,
            "align_self": null,
            "height": null,
            "min_height": null,
            "padding": null,
            "grid_auto_rows": null,
            "grid_gap": null,
            "max_width": null,
            "order": null,
            "_view_module_version": "1.2.0",
            "grid_template_areas": null,
            "object_position": null,
            "object_fit": null,
            "grid_auto_columns": null,
            "margin": null,
            "display": null,
            "left": null
          }
        },
        "16755ef9f1244a099852fd7526499a9a": {
          "model_module": "@jupyter-widgets/controls",
          "model_name": "FloatProgressModel",
          "state": {
            "_view_name": "ProgressView",
            "style": "IPY_MODEL_2a630c92345f49aaaadb3017881202d8",
            "_dom_classes": [],
            "description": "Downloading: 100%",
            "_model_name": "FloatProgressModel",
            "bar_style": "success",
            "max": 49,
            "_view_module": "@jupyter-widgets/controls",
            "_model_module_version": "1.5.0",
            "value": 49,
            "_view_count": null,
            "_view_module_version": "1.5.0",
            "orientation": "horizontal",
            "min": 0,
            "description_tooltip": null,
            "_model_module": "@jupyter-widgets/controls",
            "layout": "IPY_MODEL_b8b369487e17449aa5a57ad1ff7f2f46"
          }
        },
        "cdd38836812d4c14900fe74215d11d2e": {
          "model_module": "@jupyter-widgets/controls",
          "model_name": "HTMLModel",
          "state": {
            "_view_name": "HTMLView",
            "style": "IPY_MODEL_f0a04ada81a04c3fa4b3d1aa453b47bf",
            "_dom_classes": [],
            "description": "",
            "_model_name": "HTMLModel",
            "placeholder": "​",
            "_view_module": "@jupyter-widgets/controls",
            "_model_module_version": "1.5.0",
            "value": " 49.0/49.0 [00:00&lt;00:00, 650B/s]",
            "_view_count": null,
            "_view_module_version": "1.5.0",
            "description_tooltip": null,
            "_model_module": "@jupyter-widgets/controls",
            "layout": "IPY_MODEL_ea468167994a4f16be465800a9f31cf1"
          }
        },
        "2a630c92345f49aaaadb3017881202d8": {
          "model_module": "@jupyter-widgets/controls",
          "model_name": "ProgressStyleModel",
          "state": {
            "_view_name": "StyleView",
            "_model_name": "ProgressStyleModel",
            "description_width": "initial",
            "_view_module": "@jupyter-widgets/base",
            "_model_module_version": "1.5.0",
            "_view_count": null,
            "_view_module_version": "1.2.0",
            "bar_color": null,
            "_model_module": "@jupyter-widgets/controls"
          }
        },
        "b8b369487e17449aa5a57ad1ff7f2f46": {
          "model_module": "@jupyter-widgets/base",
          "model_name": "LayoutModel",
          "state": {
            "_view_name": "LayoutView",
            "grid_template_rows": null,
            "right": null,
            "justify_content": null,
            "_view_module": "@jupyter-widgets/base",
            "overflow": null,
            "_model_module_version": "1.2.0",
            "_view_count": null,
            "flex_flow": null,
            "width": null,
            "min_width": null,
            "border": null,
            "align_items": null,
            "bottom": null,
            "_model_module": "@jupyter-widgets/base",
            "top": null,
            "grid_column": null,
            "overflow_y": null,
            "overflow_x": null,
            "grid_auto_flow": null,
            "grid_area": null,
            "grid_template_columns": null,
            "flex": null,
            "_model_name": "LayoutModel",
            "justify_items": null,
            "grid_row": null,
            "max_height": null,
            "align_content": null,
            "visibility": null,
            "align_self": null,
            "height": null,
            "min_height": null,
            "padding": null,
            "grid_auto_rows": null,
            "grid_gap": null,
            "max_width": null,
            "order": null,
            "_view_module_version": "1.2.0",
            "grid_template_areas": null,
            "object_position": null,
            "object_fit": null,
            "grid_auto_columns": null,
            "margin": null,
            "display": null,
            "left": null
          }
        },
        "f0a04ada81a04c3fa4b3d1aa453b47bf": {
          "model_module": "@jupyter-widgets/controls",
          "model_name": "DescriptionStyleModel",
          "state": {
            "_view_name": "StyleView",
            "_model_name": "DescriptionStyleModel",
            "description_width": "",
            "_view_module": "@jupyter-widgets/base",
            "_model_module_version": "1.5.0",
            "_view_count": null,
            "_view_module_version": "1.2.0",
            "_model_module": "@jupyter-widgets/controls"
          }
        },
        "ea468167994a4f16be465800a9f31cf1": {
          "model_module": "@jupyter-widgets/base",
          "model_name": "LayoutModel",
          "state": {
            "_view_name": "LayoutView",
            "grid_template_rows": null,
            "right": null,
            "justify_content": null,
            "_view_module": "@jupyter-widgets/base",
            "overflow": null,
            "_model_module_version": "1.2.0",
            "_view_count": null,
            "flex_flow": null,
            "width": null,
            "min_width": null,
            "border": null,
            "align_items": null,
            "bottom": null,
            "_model_module": "@jupyter-widgets/base",
            "top": null,
            "grid_column": null,
            "overflow_y": null,
            "overflow_x": null,
            "grid_auto_flow": null,
            "grid_area": null,
            "grid_template_columns": null,
            "flex": null,
            "_model_name": "LayoutModel",
            "justify_items": null,
            "grid_row": null,
            "max_height": null,
            "align_content": null,
            "visibility": null,
            "align_self": null,
            "height": null,
            "min_height": null,
            "padding": null,
            "grid_auto_rows": null,
            "grid_gap": null,
            "max_width": null,
            "order": null,
            "_view_module_version": "1.2.0",
            "grid_template_areas": null,
            "object_position": null,
            "object_fit": null,
            "grid_auto_columns": null,
            "margin": null,
            "display": null,
            "left": null
          }
        },
        "7067276680b740a9b75175a733d0ad9c": {
          "model_module": "@jupyter-widgets/controls",
          "model_name": "HBoxModel",
          "state": {
            "_view_name": "HBoxView",
            "_dom_classes": [],
            "_model_name": "HBoxModel",
            "_view_module": "@jupyter-widgets/controls",
            "_model_module_version": "1.5.0",
            "_view_count": null,
            "_view_module_version": "1.5.0",
            "box_style": "",
            "layout": "IPY_MODEL_0679a1972c674d6f8464bdc16e023b91",
            "_model_module": "@jupyter-widgets/controls",
            "children": [
              "IPY_MODEL_836438d344714b3f88cb605f7d5688c0",
              "IPY_MODEL_b8d672329a4a462b9c09799124f9227f"
            ]
          }
        },
        "0679a1972c674d6f8464bdc16e023b91": {
          "model_module": "@jupyter-widgets/base",
          "model_name": "LayoutModel",
          "state": {
            "_view_name": "LayoutView",
            "grid_template_rows": null,
            "right": null,
            "justify_content": null,
            "_view_module": "@jupyter-widgets/base",
            "overflow": null,
            "_model_module_version": "1.2.0",
            "_view_count": null,
            "flex_flow": null,
            "width": null,
            "min_width": null,
            "border": null,
            "align_items": null,
            "bottom": null,
            "_model_module": "@jupyter-widgets/base",
            "top": null,
            "grid_column": null,
            "overflow_y": null,
            "overflow_x": null,
            "grid_auto_flow": null,
            "grid_area": null,
            "grid_template_columns": null,
            "flex": null,
            "_model_name": "LayoutModel",
            "justify_items": null,
            "grid_row": null,
            "max_height": null,
            "align_content": null,
            "visibility": null,
            "align_self": null,
            "height": null,
            "min_height": null,
            "padding": null,
            "grid_auto_rows": null,
            "grid_gap": null,
            "max_width": null,
            "order": null,
            "_view_module_version": "1.2.0",
            "grid_template_areas": null,
            "object_position": null,
            "object_fit": null,
            "grid_auto_columns": null,
            "margin": null,
            "display": null,
            "left": null
          }
        },
        "836438d344714b3f88cb605f7d5688c0": {
          "model_module": "@jupyter-widgets/controls",
          "model_name": "FloatProgressModel",
          "state": {
            "_view_name": "ProgressView",
            "style": "IPY_MODEL_d1c3c5aa29a44b3da1fa89cb04566482",
            "_dom_classes": [],
            "description": "Downloading: 100%",
            "_model_name": "FloatProgressModel",
            "bar_style": "success",
            "max": 433286112,
            "_view_module": "@jupyter-widgets/controls",
            "_model_module_version": "1.5.0",
            "value": 433286112,
            "_view_count": null,
            "_view_module_version": "1.5.0",
            "orientation": "horizontal",
            "min": 0,
            "description_tooltip": null,
            "_model_module": "@jupyter-widgets/controls",
            "layout": "IPY_MODEL_316ede21f9074be6b60cd95b9381e41d"
          }
        },
        "b8d672329a4a462b9c09799124f9227f": {
          "model_module": "@jupyter-widgets/controls",
          "model_name": "HTMLModel",
          "state": {
            "_view_name": "HTMLView",
            "style": "IPY_MODEL_b92f1d27e54d454ca1abbbc5fa3729cf",
            "_dom_classes": [],
            "description": "",
            "_model_name": "HTMLModel",
            "placeholder": "​",
            "_view_module": "@jupyter-widgets/controls",
            "_model_module_version": "1.5.0",
            "value": " 433M/433M [00:11&lt;00:00, 38.8MB/s]",
            "_view_count": null,
            "_view_module_version": "1.5.0",
            "description_tooltip": null,
            "_model_module": "@jupyter-widgets/controls",
            "layout": "IPY_MODEL_fcf6b540979e45de96018cb46df77427"
          }
        },
        "d1c3c5aa29a44b3da1fa89cb04566482": {
          "model_module": "@jupyter-widgets/controls",
          "model_name": "ProgressStyleModel",
          "state": {
            "_view_name": "StyleView",
            "_model_name": "ProgressStyleModel",
            "description_width": "initial",
            "_view_module": "@jupyter-widgets/base",
            "_model_module_version": "1.5.0",
            "_view_count": null,
            "_view_module_version": "1.2.0",
            "bar_color": null,
            "_model_module": "@jupyter-widgets/controls"
          }
        },
        "316ede21f9074be6b60cd95b9381e41d": {
          "model_module": "@jupyter-widgets/base",
          "model_name": "LayoutModel",
          "state": {
            "_view_name": "LayoutView",
            "grid_template_rows": null,
            "right": null,
            "justify_content": null,
            "_view_module": "@jupyter-widgets/base",
            "overflow": null,
            "_model_module_version": "1.2.0",
            "_view_count": null,
            "flex_flow": null,
            "width": null,
            "min_width": null,
            "border": null,
            "align_items": null,
            "bottom": null,
            "_model_module": "@jupyter-widgets/base",
            "top": null,
            "grid_column": null,
            "overflow_y": null,
            "overflow_x": null,
            "grid_auto_flow": null,
            "grid_area": null,
            "grid_template_columns": null,
            "flex": null,
            "_model_name": "LayoutModel",
            "justify_items": null,
            "grid_row": null,
            "max_height": null,
            "align_content": null,
            "visibility": null,
            "align_self": null,
            "height": null,
            "min_height": null,
            "padding": null,
            "grid_auto_rows": null,
            "grid_gap": null,
            "max_width": null,
            "order": null,
            "_view_module_version": "1.2.0",
            "grid_template_areas": null,
            "object_position": null,
            "object_fit": null,
            "grid_auto_columns": null,
            "margin": null,
            "display": null,
            "left": null
          }
        },
        "b92f1d27e54d454ca1abbbc5fa3729cf": {
          "model_module": "@jupyter-widgets/controls",
          "model_name": "DescriptionStyleModel",
          "state": {
            "_view_name": "StyleView",
            "_model_name": "DescriptionStyleModel",
            "description_width": "",
            "_view_module": "@jupyter-widgets/base",
            "_model_module_version": "1.5.0",
            "_view_count": null,
            "_view_module_version": "1.2.0",
            "_model_module": "@jupyter-widgets/controls"
          }
        },
        "fcf6b540979e45de96018cb46df77427": {
          "model_module": "@jupyter-widgets/base",
          "model_name": "LayoutModel",
          "state": {
            "_view_name": "LayoutView",
            "grid_template_rows": null,
            "right": null,
            "justify_content": null,
            "_view_module": "@jupyter-widgets/base",
            "overflow": null,
            "_model_module_version": "1.2.0",
            "_view_count": null,
            "flex_flow": null,
            "width": null,
            "min_width": null,
            "border": null,
            "align_items": null,
            "bottom": null,
            "_model_module": "@jupyter-widgets/base",
            "top": null,
            "grid_column": null,
            "overflow_y": null,
            "overflow_x": null,
            "grid_auto_flow": null,
            "grid_area": null,
            "grid_template_columns": null,
            "flex": null,
            "_model_name": "LayoutModel",
            "justify_items": null,
            "grid_row": null,
            "max_height": null,
            "align_content": null,
            "visibility": null,
            "align_self": null,
            "height": null,
            "min_height": null,
            "padding": null,
            "grid_auto_rows": null,
            "grid_gap": null,
            "max_width": null,
            "order": null,
            "_view_module_version": "1.2.0",
            "grid_template_areas": null,
            "object_position": null,
            "object_fit": null,
            "grid_auto_columns": null,
            "margin": null,
            "display": null,
            "left": null
          }
        }
      }
    }
  },
  "cells": [
    {
      "cell_type": "markdown",
      "metadata": {
        "id": "view-in-github",
        "colab_type": "text"
      },
      "source": [
        "<a href=\"https://colab.research.google.com/github/rameshbabulakshmanan84/NLP-series/blob/master/NER_ADE_v5.ipynb\" target=\"_parent\"><img src=\"https://colab.research.google.com/assets/colab-badge.svg\" alt=\"Open In Colab\"/></a>"
      ]
    },
    {
      "cell_type": "code",
      "metadata": {
        "colab": {
          "base_uri": "https://localhost:8080/"
        },
        "id": "aZYvqzazpXp7",
        "outputId": "669d50b7-cfc4-45d0-9481-4e35db12565a"
      },
      "source": [
        "from google.colab import drive\n",
        "drive.mount('/content/drive')"
      ],
      "execution_count": 1,
      "outputs": [
        {
          "output_type": "stream",
          "text": [
            "Mounted at /content/drive\n"
          ],
          "name": "stdout"
        }
      ]
    },
    {
      "cell_type": "code",
      "metadata": {
        "id": "dqhGzxIkqI8e"
      },
      "source": [
        "def readfile():\n",
        "  path='/content/drive/MyDrive/NLP/ADE/Dataset/ADEtrain.tsv'\n",
        "  f=open(path)\n",
        "  data1=[]\n",
        "  data = []\n",
        "  sentence=[]\n",
        "  label=[]\n",
        "  for line in f:\n",
        "  #print(line)\n",
        "  #print(len(line))\n",
        "    line1=line.split('\\t')\n",
        "  #print(len(line1))\n",
        "  #print(line1)\n",
        "    if line1[0]==\"\\n\" or len(line1)==0:\n",
        "      if len(sentence) >0:\n",
        "      #print(\"Sentence Length\",)\n",
        "    #if len(sentence) != 0:\n",
        "      #print(\"New line\")\n",
        "    #print(line1)\n",
        "        data1.append((sentence,label))\n",
        "        data=[]\n",
        "        sentence=[]\n",
        "        label=[]\n",
        "      continue\n",
        "    #else:\n",
        "      #continue\n",
        "    elif len(line1)<=5:    \n",
        "      #print(\"other\")\n",
        "      #print(line1)\n",
        "      continue \n",
        "    else:\n",
        "    #line1=line.split('\\t')\n",
        "      #print(line1)\n",
        "      sentence.append(line1[5])\n",
        "      label.append(line1[1])\n",
        "  return data1    "
      ],
      "execution_count": 2,
      "outputs": []
    },
    {
      "cell_type": "code",
      "metadata": {
        "id": "77j5pj-Uq-2M"
      },
      "source": [
        "#Call the functiona\n",
        "data1=readfile()"
      ],
      "execution_count": 3,
      "outputs": []
    },
    {
      "cell_type": "code",
      "metadata": {
        "colab": {
          "base_uri": "https://localhost:8080/"
        },
        "id": "3-tSNwyC_cQd",
        "outputId": "683fc4ba-f95b-4855-e8c2-67c6e081d4ae"
      },
      "source": [
        "#Print a sample data\n",
        "data1[0]"
      ],
      "execution_count": 4,
      "outputs": [
        {
          "output_type": "execute_result",
          "data": {
            "text/plain": [
              "(['Intravenous', 'azithromycin', '-', 'induced', 'ototoxicity', '.'],\n",
              " ['O', 'S-DRUG', 'O', 'O', 'S-AE', 'O'])"
            ]
          },
          "metadata": {
            "tags": []
          },
          "execution_count": 4
        }
      ]
    },
    {
      "cell_type": "code",
      "metadata": {
        "colab": {
          "base_uri": "https://localhost:8080/"
        },
        "id": "ywiGR9rDqyh9",
        "outputId": "67ebd3dc-b6d7-4709-9716-e87f5a3512da"
      },
      "source": [
        "#Length of the sentence\n",
        "leng=[]\n",
        "for i in range(len(data1)):\n",
        "  leng.append(len(data1[i][0]))\n",
        "#print(len(leng))\n",
        "print(sum(leng)/len(leng))\n"
      ],
      "execution_count": 5,
      "outputs": [
        {
          "output_type": "stream",
          "text": [
            "21.599762752075918\n"
          ],
          "name": "stdout"
        }
      ]
    },
    {
      "cell_type": "code",
      "metadata": {
        "id": "4P8mmx7gq1NM"
      },
      "source": [
        "import os\n",
        "os.environ['CUDA_LAUNCH_BLOCKING']='1'"
      ],
      "execution_count": 6,
      "outputs": []
    },
    {
      "cell_type": "code",
      "metadata": {
        "id": "X-fKM7E8q2uU"
      },
      "source": [
        "import pandas as pd\n",
        "import csv"
      ],
      "execution_count": 7,
      "outputs": []
    },
    {
      "cell_type": "code",
      "metadata": {
        "colab": {
          "base_uri": "https://localhost:8080/"
        },
        "id": "QENXp55oq5kc",
        "outputId": "c55570a4-c449-43ac-9948-f339b5a07dff"
      },
      "source": [
        "tags=['O','B-AE','I-AE','E-AE','S-AE','B-DRUG','I-DRUG','E-DRUG','S-DRUG','PAD']\n",
        "labels_map={}\n",
        "for i,t in enumerate(tags):\n",
        "  labels_map[t]=i\n",
        "print(labels_map)"
      ],
      "execution_count": 8,
      "outputs": [
        {
          "output_type": "stream",
          "text": [
            "{'O': 0, 'B-AE': 1, 'I-AE': 2, 'E-AE': 3, 'S-AE': 4, 'B-DRUG': 5, 'I-DRUG': 6, 'E-DRUG': 7, 'S-DRUG': 8, 'PAD': 9}\n"
          ],
          "name": "stdout"
        }
      ]
    },
    {
      "cell_type": "code",
      "metadata": {
        "id": "a5wsoTXVtBa8"
      },
      "source": [
        "import pandas as pd\n",
        "import numpy as np\n",
        "from tqdm import tqdm, trange"
      ],
      "execution_count": 9,
      "outputs": []
    },
    {
      "cell_type": "code",
      "metadata": {
        "colab": {
          "base_uri": "https://localhost:8080/"
        },
        "id": "cQ2vwo2dtDgx",
        "outputId": "8ee91ae4-7cdf-4b5b-b5c6-afaddd930e70"
      },
      "source": [
        "!pip3 install transformers"
      ],
      "execution_count": 10,
      "outputs": [
        {
          "output_type": "stream",
          "text": [
            "Collecting transformers\n",
            "\u001b[?25l  Downloading https://files.pythonhosted.org/packages/99/84/7bc03215279f603125d844bf81c3fb3f2d50fe8e511546eb4897e4be2067/transformers-4.0.0-py3-none-any.whl (1.4MB)\n",
            "\r\u001b[K     |▎                               | 10kB 19.2MB/s eta 0:00:01\r\u001b[K     |▌                               | 20kB 16.9MB/s eta 0:00:01\r\u001b[K     |▊                               | 30kB 13.5MB/s eta 0:00:01\r\u001b[K     |█                               | 40kB 12.7MB/s eta 0:00:01\r\u001b[K     |█▏                              | 51kB 8.4MB/s eta 0:00:01\r\u001b[K     |█▌                              | 61kB 9.0MB/s eta 0:00:01\r\u001b[K     |█▊                              | 71kB 8.8MB/s eta 0:00:01\r\u001b[K     |██                              | 81kB 9.7MB/s eta 0:00:01\r\u001b[K     |██▏                             | 92kB 9.4MB/s eta 0:00:01\r\u001b[K     |██▍                             | 102kB 8.1MB/s eta 0:00:01\r\u001b[K     |██▋                             | 112kB 8.1MB/s eta 0:00:01\r\u001b[K     |███                             | 122kB 8.1MB/s eta 0:00:01\r\u001b[K     |███▏                            | 133kB 8.1MB/s eta 0:00:01\r\u001b[K     |███▍                            | 143kB 8.1MB/s eta 0:00:01\r\u001b[K     |███▋                            | 153kB 8.1MB/s eta 0:00:01\r\u001b[K     |███▉                            | 163kB 8.1MB/s eta 0:00:01\r\u001b[K     |████▏                           | 174kB 8.1MB/s eta 0:00:01\r\u001b[K     |████▍                           | 184kB 8.1MB/s eta 0:00:01\r\u001b[K     |████▋                           | 194kB 8.1MB/s eta 0:00:01\r\u001b[K     |████▉                           | 204kB 8.1MB/s eta 0:00:01\r\u001b[K     |█████                           | 215kB 8.1MB/s eta 0:00:01\r\u001b[K     |█████▎                          | 225kB 8.1MB/s eta 0:00:01\r\u001b[K     |█████▋                          | 235kB 8.1MB/s eta 0:00:01\r\u001b[K     |█████▉                          | 245kB 8.1MB/s eta 0:00:01\r\u001b[K     |██████                          | 256kB 8.1MB/s eta 0:00:01\r\u001b[K     |██████▎                         | 266kB 8.1MB/s eta 0:00:01\r\u001b[K     |██████▌                         | 276kB 8.1MB/s eta 0:00:01\r\u001b[K     |██████▉                         | 286kB 8.1MB/s eta 0:00:01\r\u001b[K     |███████                         | 296kB 8.1MB/s eta 0:00:01\r\u001b[K     |███████▎                        | 307kB 8.1MB/s eta 0:00:01\r\u001b[K     |███████▌                        | 317kB 8.1MB/s eta 0:00:01\r\u001b[K     |███████▊                        | 327kB 8.1MB/s eta 0:00:01\r\u001b[K     |████████                        | 337kB 8.1MB/s eta 0:00:01\r\u001b[K     |████████▎                       | 348kB 8.1MB/s eta 0:00:01\r\u001b[K     |████████▌                       | 358kB 8.1MB/s eta 0:00:01\r\u001b[K     |████████▊                       | 368kB 8.1MB/s eta 0:00:01\r\u001b[K     |█████████                       | 378kB 8.1MB/s eta 0:00:01\r\u001b[K     |█████████▏                      | 389kB 8.1MB/s eta 0:00:01\r\u001b[K     |█████████▌                      | 399kB 8.1MB/s eta 0:00:01\r\u001b[K     |█████████▊                      | 409kB 8.1MB/s eta 0:00:01\r\u001b[K     |██████████                      | 419kB 8.1MB/s eta 0:00:01\r\u001b[K     |██████████▏                     | 430kB 8.1MB/s eta 0:00:01\r\u001b[K     |██████████▍                     | 440kB 8.1MB/s eta 0:00:01\r\u001b[K     |██████████▋                     | 450kB 8.1MB/s eta 0:00:01\r\u001b[K     |███████████                     | 460kB 8.1MB/s eta 0:00:01\r\u001b[K     |███████████▏                    | 471kB 8.1MB/s eta 0:00:01\r\u001b[K     |███████████▍                    | 481kB 8.1MB/s eta 0:00:01\r\u001b[K     |███████████▋                    | 491kB 8.1MB/s eta 0:00:01\r\u001b[K     |███████████▉                    | 501kB 8.1MB/s eta 0:00:01\r\u001b[K     |████████████▏                   | 512kB 8.1MB/s eta 0:00:01\r\u001b[K     |████████████▍                   | 522kB 8.1MB/s eta 0:00:01\r\u001b[K     |████████████▋                   | 532kB 8.1MB/s eta 0:00:01\r\u001b[K     |████████████▉                   | 542kB 8.1MB/s eta 0:00:01\r\u001b[K     |█████████████                   | 552kB 8.1MB/s eta 0:00:01\r\u001b[K     |█████████████▎                  | 563kB 8.1MB/s eta 0:00:01\r\u001b[K     |█████████████▋                  | 573kB 8.1MB/s eta 0:00:01\r\u001b[K     |█████████████▉                  | 583kB 8.1MB/s eta 0:00:01\r\u001b[K     |██████████████                  | 593kB 8.1MB/s eta 0:00:01\r\u001b[K     |██████████████▎                 | 604kB 8.1MB/s eta 0:00:01\r\u001b[K     |██████████████▌                 | 614kB 8.1MB/s eta 0:00:01\r\u001b[K     |██████████████▉                 | 624kB 8.1MB/s eta 0:00:01\r\u001b[K     |███████████████                 | 634kB 8.1MB/s eta 0:00:01\r\u001b[K     |███████████████▎                | 645kB 8.1MB/s eta 0:00:01\r\u001b[K     |███████████████▌                | 655kB 8.1MB/s eta 0:00:01\r\u001b[K     |███████████████▊                | 665kB 8.1MB/s eta 0:00:01\r\u001b[K     |████████████████                | 675kB 8.1MB/s eta 0:00:01\r\u001b[K     |████████████████▎               | 686kB 8.1MB/s eta 0:00:01\r\u001b[K     |████████████████▌               | 696kB 8.1MB/s eta 0:00:01\r\u001b[K     |████████████████▊               | 706kB 8.1MB/s eta 0:00:01\r\u001b[K     |█████████████████               | 716kB 8.1MB/s eta 0:00:01\r\u001b[K     |█████████████████▏              | 727kB 8.1MB/s eta 0:00:01\r\u001b[K     |█████████████████▌              | 737kB 8.1MB/s eta 0:00:01\r\u001b[K     |█████████████████▊              | 747kB 8.1MB/s eta 0:00:01\r\u001b[K     |██████████████████              | 757kB 8.1MB/s eta 0:00:01\r\u001b[K     |██████████████████▏             | 768kB 8.1MB/s eta 0:00:01\r\u001b[K     |██████████████████▍             | 778kB 8.1MB/s eta 0:00:01\r\u001b[K     |██████████████████▋             | 788kB 8.1MB/s eta 0:00:01\r\u001b[K     |███████████████████             | 798kB 8.1MB/s eta 0:00:01\r\u001b[K     |███████████████████▏            | 808kB 8.1MB/s eta 0:00:01\r\u001b[K     |███████████████████▍            | 819kB 8.1MB/s eta 0:00:01\r\u001b[K     |███████████████████▋            | 829kB 8.1MB/s eta 0:00:01\r\u001b[K     |███████████████████▉            | 839kB 8.1MB/s eta 0:00:01\r\u001b[K     |████████████████████▏           | 849kB 8.1MB/s eta 0:00:01\r\u001b[K     |████████████████████▍           | 860kB 8.1MB/s eta 0:00:01\r\u001b[K     |████████████████████▋           | 870kB 8.1MB/s eta 0:00:01\r\u001b[K     |████████████████████▉           | 880kB 8.1MB/s eta 0:00:01\r\u001b[K     |█████████████████████           | 890kB 8.1MB/s eta 0:00:01\r\u001b[K     |█████████████████████▎          | 901kB 8.1MB/s eta 0:00:01\r\u001b[K     |█████████████████████▋          | 911kB 8.1MB/s eta 0:00:01\r\u001b[K     |█████████████████████▉          | 921kB 8.1MB/s eta 0:00:01\r\u001b[K     |██████████████████████          | 931kB 8.1MB/s eta 0:00:01\r\u001b[K     |██████████████████████▎         | 942kB 8.1MB/s eta 0:00:01\r\u001b[K     |██████████████████████▌         | 952kB 8.1MB/s eta 0:00:01\r\u001b[K     |██████████████████████▉         | 962kB 8.1MB/s eta 0:00:01\r\u001b[K     |███████████████████████         | 972kB 8.1MB/s eta 0:00:01\r\u001b[K     |███████████████████████▎        | 983kB 8.1MB/s eta 0:00:01\r\u001b[K     |███████████████████████▌        | 993kB 8.1MB/s eta 0:00:01\r\u001b[K     |███████████████████████▊        | 1.0MB 8.1MB/s eta 0:00:01\r\u001b[K     |████████████████████████        | 1.0MB 8.1MB/s eta 0:00:01\r\u001b[K     |████████████████████████▎       | 1.0MB 8.1MB/s eta 0:00:01\r\u001b[K     |████████████████████████▌       | 1.0MB 8.1MB/s eta 0:00:01\r\u001b[K     |████████████████████████▊       | 1.0MB 8.1MB/s eta 0:00:01\r\u001b[K     |█████████████████████████       | 1.1MB 8.1MB/s eta 0:00:01\r\u001b[K     |█████████████████████████▏      | 1.1MB 8.1MB/s eta 0:00:01\r\u001b[K     |█████████████████████████▌      | 1.1MB 8.1MB/s eta 0:00:01\r\u001b[K     |█████████████████████████▊      | 1.1MB 8.1MB/s eta 0:00:01\r\u001b[K     |██████████████████████████      | 1.1MB 8.1MB/s eta 0:00:01\r\u001b[K     |██████████████████████████▏     | 1.1MB 8.1MB/s eta 0:00:01\r\u001b[K     |██████████████████████████▍     | 1.1MB 8.1MB/s eta 0:00:01\r\u001b[K     |██████████████████████████▋     | 1.1MB 8.1MB/s eta 0:00:01\r\u001b[K     |███████████████████████████     | 1.1MB 8.1MB/s eta 0:00:01\r\u001b[K     |███████████████████████████▏    | 1.1MB 8.1MB/s eta 0:00:01\r\u001b[K     |███████████████████████████▍    | 1.2MB 8.1MB/s eta 0:00:01\r\u001b[K     |███████████████████████████▋    | 1.2MB 8.1MB/s eta 0:00:01\r\u001b[K     |███████████████████████████▉    | 1.2MB 8.1MB/s eta 0:00:01\r\u001b[K     |████████████████████████████▏   | 1.2MB 8.1MB/s eta 0:00:01\r\u001b[K     |████████████████████████████▍   | 1.2MB 8.1MB/s eta 0:00:01\r\u001b[K     |████████████████████████████▋   | 1.2MB 8.1MB/s eta 0:00:01\r\u001b[K     |████████████████████████████▉   | 1.2MB 8.1MB/s eta 0:00:01\r\u001b[K     |█████████████████████████████   | 1.2MB 8.1MB/s eta 0:00:01\r\u001b[K     |█████████████████████████████▎  | 1.2MB 8.1MB/s eta 0:00:01\r\u001b[K     |█████████████████████████████▋  | 1.2MB 8.1MB/s eta 0:00:01\r\u001b[K     |█████████████████████████████▉  | 1.3MB 8.1MB/s eta 0:00:01\r\u001b[K     |██████████████████████████████  | 1.3MB 8.1MB/s eta 0:00:01\r\u001b[K     |██████████████████████████████▎ | 1.3MB 8.1MB/s eta 0:00:01\r\u001b[K     |██████████████████████████████▌ | 1.3MB 8.1MB/s eta 0:00:01\r\u001b[K     |██████████████████████████████▉ | 1.3MB 8.1MB/s eta 0:00:01\r\u001b[K     |███████████████████████████████ | 1.3MB 8.1MB/s eta 0:00:01\r\u001b[K     |███████████████████████████████▎| 1.3MB 8.1MB/s eta 0:00:01\r\u001b[K     |███████████████████████████████▌| 1.3MB 8.1MB/s eta 0:00:01\r\u001b[K     |███████████████████████████████▊| 1.3MB 8.1MB/s eta 0:00:01\r\u001b[K     |████████████████████████████████| 1.4MB 8.1MB/s eta 0:00:01\r\u001b[K     |████████████████████████████████| 1.4MB 8.1MB/s \n",
            "\u001b[?25hRequirement already satisfied: numpy in /usr/local/lib/python3.6/dist-packages (from transformers) (1.18.5)\n",
            "Requirement already satisfied: requests in /usr/local/lib/python3.6/dist-packages (from transformers) (2.23.0)\n",
            "Collecting tokenizers==0.9.4\n",
            "\u001b[?25l  Downloading https://files.pythonhosted.org/packages/0f/1c/e789a8b12e28be5bc1ce2156cf87cb522b379be9cadc7ad8091a4cc107c4/tokenizers-0.9.4-cp36-cp36m-manylinux2010_x86_64.whl (2.9MB)\n",
            "\u001b[K     |████████████████████████████████| 2.9MB 44.6MB/s \n",
            "\u001b[?25hRequirement already satisfied: tqdm>=4.27 in /usr/local/lib/python3.6/dist-packages (from transformers) (4.41.1)\n",
            "Requirement already satisfied: filelock in /usr/local/lib/python3.6/dist-packages (from transformers) (3.0.12)\n",
            "Collecting sacremoses\n",
            "\u001b[?25l  Downloading https://files.pythonhosted.org/packages/7d/34/09d19aff26edcc8eb2a01bed8e98f13a1537005d31e95233fd48216eed10/sacremoses-0.0.43.tar.gz (883kB)\n",
            "\u001b[K     |████████████████████████████████| 890kB 39.6MB/s \n",
            "\u001b[?25hRequirement already satisfied: regex!=2019.12.17 in /usr/local/lib/python3.6/dist-packages (from transformers) (2019.12.20)\n",
            "Requirement already satisfied: dataclasses; python_version < \"3.7\" in /usr/local/lib/python3.6/dist-packages (from transformers) (0.8)\n",
            "Requirement already satisfied: packaging in /usr/local/lib/python3.6/dist-packages (from transformers) (20.4)\n",
            "Requirement already satisfied: certifi>=2017.4.17 in /usr/local/lib/python3.6/dist-packages (from requests->transformers) (2020.11.8)\n",
            "Requirement already satisfied: urllib3!=1.25.0,!=1.25.1,<1.26,>=1.21.1 in /usr/local/lib/python3.6/dist-packages (from requests->transformers) (1.24.3)\n",
            "Requirement already satisfied: idna<3,>=2.5 in /usr/local/lib/python3.6/dist-packages (from requests->transformers) (2.10)\n",
            "Requirement already satisfied: chardet<4,>=3.0.2 in /usr/local/lib/python3.6/dist-packages (from requests->transformers) (3.0.4)\n",
            "Requirement already satisfied: six in /usr/local/lib/python3.6/dist-packages (from sacremoses->transformers) (1.15.0)\n",
            "Requirement already satisfied: click in /usr/local/lib/python3.6/dist-packages (from sacremoses->transformers) (7.1.2)\n",
            "Requirement already satisfied: joblib in /usr/local/lib/python3.6/dist-packages (from sacremoses->transformers) (0.17.0)\n",
            "Requirement already satisfied: pyparsing>=2.0.2 in /usr/local/lib/python3.6/dist-packages (from packaging->transformers) (2.4.7)\n",
            "Building wheels for collected packages: sacremoses\n",
            "  Building wheel for sacremoses (setup.py) ... \u001b[?25l\u001b[?25hdone\n",
            "  Created wheel for sacremoses: filename=sacremoses-0.0.43-cp36-none-any.whl size=893257 sha256=d9e0da94bd066d40f7a4216348f186c7cfd82a7b6822dacd43c397f50752cea0\n",
            "  Stored in directory: /root/.cache/pip/wheels/29/3c/fd/7ce5c3f0666dab31a50123635e6fb5e19ceb42ce38d4e58f45\n",
            "Successfully built sacremoses\n",
            "Installing collected packages: tokenizers, sacremoses, transformers\n",
            "Successfully installed sacremoses-0.0.43 tokenizers-0.9.4 transformers-4.0.0\n"
          ],
          "name": "stdout"
        }
      ]
    },
    {
      "cell_type": "code",
      "metadata": {
        "id": "GO3CMmmctJjp"
      },
      "source": [
        "#Apply the Bert\n",
        "#use pytorch implementation of bert\n",
        "import torch\n",
        "from torch.utils.data import TensorDataset,DataLoader,RandomSampler,SequentialSampler\n",
        "from transformers import AutoTokenizer,AutoModelForTokenClassification,AutoModel\n",
        "import logging\n",
        "logging.basicConfig(format='%(asctime)s - %(levelname)s - %(name)s -   %(message)s',\n",
        "                    datefmt='%m/%d/%Y %H:%M:%S',\n",
        "                    level=logging.INFO)\n",
        "logger = logging.getLogger(__name__)"
      ],
      "execution_count": 11,
      "outputs": []
    },
    {
      "cell_type": "code",
      "metadata": {
        "colab": {
          "base_uri": "https://localhost:8080/",
          "height": 440,
          "referenced_widgets": [
            "7da813a0d50447d9a63bb556d303be69",
            "ac0831488632494d9c0e06b086d520bb",
            "b9031913ed3b49cfa1d7aafa41794ecb",
            "9d619389b4f8404f98896d03e84b51de",
            "bd11fdb4bfc249adb75feae9e045e85b",
            "5a6bf9b7543245f6a97d720fe1ba8961",
            "b146ae814b50490b80e016219a25d599",
            "316a82ea02734872b4c56be50e1c6d35",
            "e8db630d9c5f447090ba950d249ff141",
            "0806aa0a72c1408592527b64bf510be9",
            "aa6d5da2cf334e22b5a57ae0b75e5960",
            "a226e1b4a6614a6198381c50e5e19cec",
            "bd165f1645164b72bf65b65e13ad9987",
            "5d1afb22f8c94cf2adbfcc135a9d3420",
            "f80f9578e9f747b0bf96fb57630fe88b",
            "6273b79a9b7d4a7f93b7b99aee596e1e",
            "749846810fac43579f34cd29c596617a",
            "64f3f1f88ed64829a2889f9c6dc21a2e",
            "6947ec5fa92a40b59494ba273d7f4da5",
            "0d084498d36142b5a47baa24827ec3d4",
            "360d1cc0cbbd4b48b7c1548684b8797f",
            "17b029ea65694b1eaf7603126219cbc5",
            "d988c30ec2bc404681b3f9f4e7dcc369",
            "d13187890bf348a3a747968f22424468",
            "284a2e9348b1427a908448687bba4dd5",
            "af97fa700a444b2ca46d524163e856c8",
            "16755ef9f1244a099852fd7526499a9a",
            "cdd38836812d4c14900fe74215d11d2e",
            "2a630c92345f49aaaadb3017881202d8",
            "b8b369487e17449aa5a57ad1ff7f2f46",
            "f0a04ada81a04c3fa4b3d1aa453b47bf",
            "ea468167994a4f16be465800a9f31cf1",
            "7067276680b740a9b75175a733d0ad9c",
            "0679a1972c674d6f8464bdc16e023b91",
            "836438d344714b3f88cb605f7d5688c0",
            "b8d672329a4a462b9c09799124f9227f",
            "d1c3c5aa29a44b3da1fa89cb04566482",
            "316ede21f9074be6b60cd95b9381e41d",
            "b92f1d27e54d454ca1abbbc5fa3729cf",
            "fcf6b540979e45de96018cb46df77427"
          ]
        },
        "id": "3M3nS_0LtQKJ",
        "outputId": "0dae9193-85ce-45f4-a394-028bb45a041e"
      },
      "source": [
        "#download the biobert models from dmis lab - korea univ\n",
        "from transformers import AutoTokenizer, AutoModel\n",
        "tokenizer = AutoTokenizer.from_pretrained(\"dmis-lab/biobert-v1.1\")\n",
        "model = AutoModel.from_pretrained(\"dmis-lab/biobert-v1.1\")"
      ],
      "execution_count": 12,
      "outputs": [
        {
          "output_type": "stream",
          "text": [
            "12/09/2020 10:40:56 - INFO - filelock -   Lock 140083959919000 acquired on /root/.cache/huggingface/transformers/f048b8136bae2b3abe91e9e82949295fb205887c84db3be2775e1cdb0ecfeeb9.d7812d36d3371e4d43299a0c4a938622c5251db0efa17a5d4d9b57037fcec823.lock\n"
          ],
          "name": "stderr"
        },
        {
          "output_type": "display_data",
          "data": {
            "application/vnd.jupyter.widget-view+json": {
              "model_id": "7da813a0d50447d9a63bb556d303be69",
              "version_minor": 0,
              "version_major": 2
            },
            "text/plain": [
              "HBox(children=(FloatProgress(value=0.0, description='Downloading', max=462.0, style=ProgressStyle(description_…"
            ]
          },
          "metadata": {
            "tags": []
          }
        },
        {
          "output_type": "stream",
          "text": [
            "12/09/2020 10:40:57 - INFO - filelock -   Lock 140083959919000 released on /root/.cache/huggingface/transformers/f048b8136bae2b3abe91e9e82949295fb205887c84db3be2775e1cdb0ecfeeb9.d7812d36d3371e4d43299a0c4a938622c5251db0efa17a5d4d9b57037fcec823.lock\n"
          ],
          "name": "stderr"
        },
        {
          "output_type": "stream",
          "text": [
            "\n"
          ],
          "name": "stdout"
        },
        {
          "output_type": "stream",
          "text": [
            "12/09/2020 10:40:57 - INFO - filelock -   Lock 140083959918720 acquired on /root/.cache/huggingface/transformers/cda52d3a8283b321708097045e27f11cd70bbf3ad8cdefa2c0a56f187855f5d5.437aa611e89f6fc6675a049d2b5545390adbc617e7d655286421c191d2be2791.lock\n"
          ],
          "name": "stderr"
        },
        {
          "output_type": "display_data",
          "data": {
            "application/vnd.jupyter.widget-view+json": {
              "model_id": "e8db630d9c5f447090ba950d249ff141",
              "version_minor": 0,
              "version_major": 2
            },
            "text/plain": [
              "HBox(children=(FloatProgress(value=0.0, description='Downloading', max=213450.0, style=ProgressStyle(descripti…"
            ]
          },
          "metadata": {
            "tags": []
          }
        },
        {
          "output_type": "stream",
          "text": [
            "12/09/2020 10:40:57 - INFO - filelock -   Lock 140083959918720 released on /root/.cache/huggingface/transformers/cda52d3a8283b321708097045e27f11cd70bbf3ad8cdefa2c0a56f187855f5d5.437aa611e89f6fc6675a049d2b5545390adbc617e7d655286421c191d2be2791.lock\n"
          ],
          "name": "stderr"
        },
        {
          "output_type": "stream",
          "text": [
            "\n"
          ],
          "name": "stdout"
        },
        {
          "output_type": "stream",
          "text": [
            "12/09/2020 10:40:58 - INFO - filelock -   Lock 140081533726224 acquired on /root/.cache/huggingface/transformers/118da8438a7854000cfcf052566f83ae4f4159ac25796e49e16c3b18746041b4.dd8bd9bfd3664b530ea4e645105f557769387b3da9f79bdb55ed556bdd80611d.lock\n"
          ],
          "name": "stderr"
        },
        {
          "output_type": "display_data",
          "data": {
            "application/vnd.jupyter.widget-view+json": {
              "model_id": "749846810fac43579f34cd29c596617a",
              "version_minor": 0,
              "version_major": 2
            },
            "text/plain": [
              "HBox(children=(FloatProgress(value=0.0, description='Downloading', max=112.0, style=ProgressStyle(description_…"
            ]
          },
          "metadata": {
            "tags": []
          }
        },
        {
          "output_type": "stream",
          "text": [
            "12/09/2020 10:40:58 - INFO - filelock -   Lock 140081533726224 released on /root/.cache/huggingface/transformers/118da8438a7854000cfcf052566f83ae4f4159ac25796e49e16c3b18746041b4.dd8bd9bfd3664b530ea4e645105f557769387b3da9f79bdb55ed556bdd80611d.lock\n"
          ],
          "name": "stderr"
        },
        {
          "output_type": "stream",
          "text": [
            "\n"
          ],
          "name": "stdout"
        },
        {
          "output_type": "stream",
          "text": [
            "12/09/2020 10:40:58 - INFO - filelock -   Lock 140081533726224 acquired on /root/.cache/huggingface/transformers/2fb6c5805404829e9c10c33b38ae59ae3011225799f3177f769a06a7411fa46c.25d8d06fb0679146a3ed2a3463e3585380bff882fe6e1ebc497196e40dbbd7fa.lock\n"
          ],
          "name": "stderr"
        },
        {
          "output_type": "display_data",
          "data": {
            "application/vnd.jupyter.widget-view+json": {
              "model_id": "284a2e9348b1427a908448687bba4dd5",
              "version_minor": 0,
              "version_major": 2
            },
            "text/plain": [
              "HBox(children=(FloatProgress(value=0.0, description='Downloading', max=49.0, style=ProgressStyle(description_w…"
            ]
          },
          "metadata": {
            "tags": []
          }
        },
        {
          "output_type": "stream",
          "text": [
            "12/09/2020 10:40:59 - INFO - filelock -   Lock 140081533726224 released on /root/.cache/huggingface/transformers/2fb6c5805404829e9c10c33b38ae59ae3011225799f3177f769a06a7411fa46c.25d8d06fb0679146a3ed2a3463e3585380bff882fe6e1ebc497196e40dbbd7fa.lock\n"
          ],
          "name": "stderr"
        },
        {
          "output_type": "stream",
          "text": [
            "\n"
          ],
          "name": "stdout"
        },
        {
          "output_type": "stream",
          "text": [
            "12/09/2020 10:40:59 - INFO - filelock -   Lock 140081533513512 acquired on /root/.cache/huggingface/transformers/65231a5792b14eb81b9a6bdccccfffda18575eb3bafbb730c9fa4235e56c3c17.74cc2087932cb523a583bd5e65732ee1aaade59dfc0b62f88101de7567d92e42.lock\n"
          ],
          "name": "stderr"
        },
        {
          "output_type": "display_data",
          "data": {
            "application/vnd.jupyter.widget-view+json": {
              "model_id": "7067276680b740a9b75175a733d0ad9c",
              "version_minor": 0,
              "version_major": 2
            },
            "text/plain": [
              "HBox(children=(FloatProgress(value=0.0, description='Downloading', max=433286112.0, style=ProgressStyle(descri…"
            ]
          },
          "metadata": {
            "tags": []
          }
        },
        {
          "output_type": "stream",
          "text": [
            "12/09/2020 10:41:11 - INFO - filelock -   Lock 140081533513512 released on /root/.cache/huggingface/transformers/65231a5792b14eb81b9a6bdccccfffda18575eb3bafbb730c9fa4235e56c3c17.74cc2087932cb523a583bd5e65732ee1aaade59dfc0b62f88101de7567d92e42.lock\n"
          ],
          "name": "stderr"
        },
        {
          "output_type": "stream",
          "text": [
            "\n"
          ],
          "name": "stdout"
        }
      ]
    },
    {
      "cell_type": "code",
      "metadata": {
        "id": "tyR_Oo65tWKo"
      },
      "source": [
        "#convert the sequences to tokens \n",
        "sentences=[]\n",
        "label=[]\n",
        "for i in data1:\n",
        "  sentence=i[0]\n",
        "  tags=i[1]\n",
        "  tokenized_sentence=[]\n",
        "  labels=[]\n",
        "  for word,tag in zip(sentence,tags):      \n",
        "    tokenized_word=tokenizer.tokenize(word)\n",
        "    #print(tokenized_word)\n",
        "    n_subwords=len(tokenized_word)\n",
        "    tokenized_sentence.extend(tokenized_word)\n",
        "    labels.extend([tag] * n_subwords)\n",
        "  sentences.append(tokenized_sentence)\n",
        "  label.append(labels)"
      ],
      "execution_count": 13,
      "outputs": []
    },
    {
      "cell_type": "code",
      "metadata": {
        "colab": {
          "base_uri": "https://localhost:8080/"
        },
        "id": "tKQ9T3b5tfQB",
        "outputId": "f4119a2b-f2e7-4bcb-df24-398b1ae7cf4f"
      },
      "source": [
        "print(len(sentences))"
      ],
      "execution_count": 14,
      "outputs": [
        {
          "output_type": "stream",
          "text": [
            "4215\n"
          ],
          "name": "stdout"
        }
      ]
    },
    {
      "cell_type": "code",
      "metadata": {
        "colab": {
          "base_uri": "https://localhost:8080/"
        },
        "id": "b3N-UDzrthR4",
        "outputId": "10f5a253-1d2e-44cb-f990-d8926e9c1d91"
      },
      "source": [
        "print(len(label))"
      ],
      "execution_count": 15,
      "outputs": [
        {
          "output_type": "stream",
          "text": [
            "4215\n"
          ],
          "name": "stdout"
        }
      ]
    },
    {
      "cell_type": "code",
      "metadata": {
        "colab": {
          "base_uri": "https://localhost:8080/"
        },
        "id": "fmIBNOmgtkax",
        "outputId": "82832cc2-5bb2-4bbf-afa4-427730dae227"
      },
      "source": [
        "#print a sample sentence\n",
        "sentences[5]"
      ],
      "execution_count": 16,
      "outputs": [
        {
          "output_type": "execute_result",
          "data": {
            "text/plain": [
              "['R',\n",
              " '##ES',\n",
              " '##U',\n",
              " '##LT',\n",
              " '##S',\n",
              " ':',\n",
              " 'A',\n",
              " '44',\n",
              " '-',\n",
              " 'year',\n",
              " '-',\n",
              " 'old',\n",
              " 'man',\n",
              " 'taking',\n",
              " 'nap',\n",
              " '##ro',\n",
              " '##xen',\n",
              " 'for',\n",
              " 'chronic',\n",
              " 'low',\n",
              " 'back',\n",
              " 'pain',\n",
              " 'and',\n",
              " 'a',\n",
              " '20',\n",
              " '-',\n",
              " 'year',\n",
              " '-',\n",
              " 'old',\n",
              " 'woman',\n",
              " 'on',\n",
              " 'o',\n",
              " '##xa',\n",
              " '##p',\n",
              " '##ro',\n",
              " '##zin',\n",
              " 'for',\n",
              " 'r',\n",
              " '##he',\n",
              " '##uma',\n",
              " '##to',\n",
              " '##id',\n",
              " 'art',\n",
              " '##hr',\n",
              " '##itis',\n",
              " 'presented',\n",
              " 'with',\n",
              " 'tense',\n",
              " 'bull',\n",
              " '##ae',\n",
              " 'and',\n",
              " 'cut',\n",
              " '##aneous',\n",
              " 'f',\n",
              " '##rag',\n",
              " '##ility',\n",
              " 'on',\n",
              " 'the',\n",
              " 'face',\n",
              " 'and',\n",
              " 'the',\n",
              " 'back',\n",
              " 'of',\n",
              " 'the',\n",
              " 'hands',\n",
              " '.']"
            ]
          },
          "metadata": {
            "tags": []
          },
          "execution_count": 16
        }
      ]
    },
    {
      "cell_type": "code",
      "metadata": {
        "colab": {
          "base_uri": "https://localhost:8080/"
        },
        "id": "Ket4LkFOtnfI",
        "outputId": "8ce91b71-ad31-4f75-d168-ce2e3b2e3260"
      },
      "source": [
        "#print a sample label\n",
        "label[5]"
      ],
      "execution_count": 17,
      "outputs": [
        {
          "output_type": "execute_result",
          "data": {
            "text/plain": [
              "['O',\n",
              " 'O',\n",
              " 'O',\n",
              " 'O',\n",
              " 'O',\n",
              " 'O',\n",
              " 'O',\n",
              " 'O',\n",
              " 'O',\n",
              " 'O',\n",
              " 'O',\n",
              " 'O',\n",
              " 'O',\n",
              " 'O',\n",
              " 'S-DRUG',\n",
              " 'S-DRUG',\n",
              " 'S-DRUG',\n",
              " 'O',\n",
              " 'O',\n",
              " 'O',\n",
              " 'O',\n",
              " 'O',\n",
              " 'O',\n",
              " 'O',\n",
              " 'O',\n",
              " 'O',\n",
              " 'O',\n",
              " 'O',\n",
              " 'O',\n",
              " 'O',\n",
              " 'O',\n",
              " 'S-DRUG',\n",
              " 'S-DRUG',\n",
              " 'S-DRUG',\n",
              " 'S-DRUG',\n",
              " 'S-DRUG',\n",
              " 'O',\n",
              " 'O',\n",
              " 'O',\n",
              " 'O',\n",
              " 'O',\n",
              " 'O',\n",
              " 'O',\n",
              " 'O',\n",
              " 'O',\n",
              " 'O',\n",
              " 'O',\n",
              " 'B-AE',\n",
              " 'E-AE',\n",
              " 'E-AE',\n",
              " 'O',\n",
              " 'B-AE',\n",
              " 'B-AE',\n",
              " 'E-AE',\n",
              " 'E-AE',\n",
              " 'E-AE',\n",
              " 'O',\n",
              " 'O',\n",
              " 'O',\n",
              " 'O',\n",
              " 'O',\n",
              " 'O',\n",
              " 'O',\n",
              " 'O',\n",
              " 'O',\n",
              " 'O']"
            ]
          },
          "metadata": {
            "tags": []
          },
          "execution_count": 17
        }
      ]
    },
    {
      "cell_type": "code",
      "metadata": {
        "id": "RAbeLsatt22o"
      },
      "source": [
        "#pad_sequences is used to ensure that all sequences in a list have the same length\n",
        "from keras.preprocessing.sequence import pad_sequences\n",
        "from sklearn.model_selection import train_test_split\n",
        "from sklearn.metrics import classification_report,confusion_matrix"
      ],
      "execution_count": 18,
      "outputs": []
    },
    {
      "cell_type": "code",
      "metadata": {
        "id": "9JFoFhoat5LQ"
      },
      "source": [
        "#setting the maximum size to be 128 since only few sequences have above 128\n",
        "MAX_LEN = 128\n",
        "#keep the batch size as 16 \n",
        "Batch_Size = 16"
      ],
      "execution_count": 19,
      "outputs": []
    },
    {
      "cell_type": "code",
      "metadata": {
        "id": "cTzzZp7Lt7TQ"
      },
      "source": [
        "#Convert tokens to ids and pad with 0's till the max seq length of 128\n",
        "input_ids = pad_sequences([tokenizer.convert_tokens_to_ids(txt) for txt in sentences],maxlen=MAX_LEN, dtype=\"long\", value=0.0,\n",
        "                          truncating=\"post\", padding=\"post\")"
      ],
      "execution_count": 20,
      "outputs": []
    },
    {
      "cell_type": "code",
      "metadata": {
        "colab": {
          "base_uri": "https://localhost:8080/",
          "height": 35
        },
        "id": "FpZoMUjlGjYi",
        "outputId": "61371562-8abc-456a-ee45-217f3c439428"
      },
      "source": [
        "label[2][5]"
      ],
      "execution_count": 21,
      "outputs": [
        {
          "output_type": "execute_result",
          "data": {
            "application/vnd.google.colaboratory.intrinsic+json": {
              "type": "string"
            },
            "text/plain": [
              "'S-AE'"
            ]
          },
          "metadata": {
            "tags": []
          },
          "execution_count": 21
        }
      ]
    },
    {
      "cell_type": "code",
      "metadata": {
        "id": "Jb7wCjdbOsqb"
      },
      "source": [
        "label[2][5]='B-AE'"
      ],
      "execution_count": null,
      "outputs": []
    },
    {
      "cell_type": "code",
      "metadata": {
        "colab": {
          "base_uri": "https://localhost:8080/"
        },
        "id": "LrL4YAtOEI5T",
        "outputId": "49b99d1d-e10f-4ef0-9bc0-031d17ffc9b4"
      },
      "source": [
        "p=[[labels_map.get(l) for l in lab] for lab in label]\n",
        "p[2]"
      ],
      "execution_count": null,
      "outputs": [
        {
          "output_type": "execute_result",
          "data": {
            "text/plain": [
              "[0,\n",
              " 0,\n",
              " 0,\n",
              " 0,\n",
              " 0,\n",
              " 1,\n",
              " 0,\n",
              " 0,\n",
              " 0,\n",
              " 0,\n",
              " 0,\n",
              " 0,\n",
              " 0,\n",
              " 0,\n",
              " 0,\n",
              " 0,\n",
              " 0,\n",
              " 0,\n",
              " 0,\n",
              " 0,\n",
              " 0,\n",
              " 0,\n",
              " 0,\n",
              " 0,\n",
              " 0,\n",
              " 0,\n",
              " 0]"
            ]
          },
          "metadata": {
            "tags": []
          },
          "execution_count": 33
        }
      ]
    },
    {
      "cell_type": "code",
      "metadata": {
        "id": "Mwgo_-ChHyRQ"
      },
      "source": [
        "#Convert tags to ids and pad with 0's till the max seq length of 128\n",
        "tags = pad_sequences([[labels_map.get(l) for l in lab] for lab in label],\n",
        "                     maxlen=MAX_LEN, value=labels_map[\"PAD\"], padding=\"post\",\n",
        "                     dtype=\"long\", truncating=\"post\")"
      ],
      "execution_count": 22,
      "outputs": []
    },
    {
      "cell_type": "code",
      "metadata": {
        "colab": {
          "base_uri": "https://localhost:8080/"
        },
        "id": "gIT_UwmbAs5D",
        "outputId": "354fea5d-3d34-4bd1-8eb5-a2fba48677d3"
      },
      "source": [
        "tags[56]"
      ],
      "execution_count": 25,
      "outputs": [
        {
          "output_type": "execute_result",
          "data": {
            "text/plain": [
              "array([0, 0, 0, 0, 0, 0, 0, 0, 8, 0, 0, 0, 0, 0, 1, 3, 3, 3, 3, 0, 4, 4,\n",
              "       4, 4, 0, 0, 0, 4, 4, 4, 0, 0, 0, 8, 0, 0, 9, 9, 9, 9, 9, 9, 9, 9,\n",
              "       9, 9, 9, 9, 9, 9, 9, 9, 9, 9, 9, 9, 9, 9, 9, 9, 9, 9, 9, 9, 9, 9,\n",
              "       9, 9, 9, 9, 9, 9, 9, 9, 9, 9, 9, 9, 9, 9, 9, 9, 9, 9, 9, 9, 9, 9,\n",
              "       9, 9, 9, 9, 9, 9, 9, 9, 9, 9, 9, 9, 9, 9, 9, 9, 9, 9, 9, 9, 9, 9,\n",
              "       9, 9, 9, 9, 9, 9, 9, 9, 9, 9, 9, 9, 9, 9, 9, 9, 9, 9])"
            ]
          },
          "metadata": {
            "tags": []
          },
          "execution_count": 25
        }
      ]
    },
    {
      "cell_type": "code",
      "metadata": {
        "colab": {
          "base_uri": "https://localhost:8080/"
        },
        "id": "aH71wSsO_tx4",
        "outputId": "6086e8ad-8d27-4a30-ef0e-bf64befba6a9"
      },
      "source": [
        "input_ids[56]"
      ],
      "execution_count": 26,
      "outputs": [
        {
          "output_type": "execute_result",
          "data": {
            "text/plain": [
              "array([22157, 24162, 15609,  1708,   131,  1109,  5351,  2320, 26825,\n",
              "        3532,  5026, 17030,  8569,  1111,  5199,   190,  3740,  4578,\n",
              "        3464,   117,  1126, 10712, 15018,  1918,   117,  1105,  7957,\n",
              "         192, 19989,  6185,  3694,  1121,  1123, 26825, 13753,   119,\n",
              "           0,     0,     0,     0,     0,     0,     0,     0,     0,\n",
              "           0,     0,     0,     0,     0,     0,     0,     0,     0,\n",
              "           0,     0,     0,     0,     0,     0,     0,     0,     0,\n",
              "           0,     0,     0,     0,     0,     0,     0,     0,     0,\n",
              "           0,     0,     0,     0,     0,     0,     0,     0,     0,\n",
              "           0,     0,     0,     0,     0,     0,     0,     0,     0,\n",
              "           0,     0,     0,     0,     0,     0,     0,     0,     0,\n",
              "           0,     0,     0,     0,     0,     0,     0,     0,     0,\n",
              "           0,     0,     0,     0,     0,     0,     0,     0,     0,\n",
              "           0,     0,     0,     0,     0,     0,     0,     0,     0,\n",
              "           0,     0])"
            ]
          },
          "metadata": {
            "tags": []
          },
          "execution_count": 26
        }
      ]
    },
    {
      "cell_type": "code",
      "metadata": {
        "id": "QKDEJy8SuIO5"
      },
      "source": [
        "#attenton masks to ensure padding trainin is not impacted\n",
        "attention_masks = [[float(i!= 0.0) for i in ii] for ii in input_ids]"
      ],
      "execution_count": 27,
      "outputs": []
    },
    {
      "cell_type": "code",
      "metadata": {
        "id": "YeJuVys1uKsu"
      },
      "source": [
        "tr_inputs, val_inputs, tr_tags, val_tags = train_test_split(input_ids,tags,random_state=2018, test_size=0.3)\n",
        "tr_masks, val_masks, _, _ = train_test_split(attention_masks, input_ids,random_state=2018, test_size=0.3)"
      ],
      "execution_count": 28,
      "outputs": []
    },
    {
      "cell_type": "code",
      "metadata": {
        "id": "rKilZ3f5uOhZ"
      },
      "source": [
        "#convert all tensor format\n",
        "tr_inputs = torch.tensor(tr_inputs)\n",
        "val_inputs = torch.tensor(val_inputs)\n",
        "tr_tags = torch.tensor(tr_tags)\n",
        "val_tags = torch.tensor(val_tags)\n",
        "tr_masks = torch.tensor(tr_masks)\n",
        "val_masks = torch.tensor(val_masks)"
      ],
      "execution_count": 29,
      "outputs": []
    },
    {
      "cell_type": "code",
      "metadata": {
        "id": "27sGU1sSLz46"
      },
      "source": [
        "val_inputs=val_inputs[:1264]\n",
        "val_tags=val_tags[:1264]\n",
        "val_masks=val_masks[:1264]"
      ],
      "execution_count": 30,
      "outputs": []
    },
    {
      "cell_type": "code",
      "metadata": {
        "colab": {
          "base_uri": "https://localhost:8080/"
        },
        "id": "eMJBm3toL62N",
        "outputId": "628c73ad-a779-4a7c-87d2-8e7887ba74d6"
      },
      "source": [
        "val_inputs.shape"
      ],
      "execution_count": 31,
      "outputs": [
        {
          "output_type": "execute_result",
          "data": {
            "text/plain": [
              "torch.Size([1264, 128])"
            ]
          },
          "metadata": {
            "tags": []
          },
          "execution_count": 31
        }
      ]
    },
    {
      "cell_type": "code",
      "metadata": {
        "id": "OOTNWOLKuRun"
      },
      "source": [
        "#train_data in the form - input tokens, attention masks for the corresponding tokens and the tags for the tokens\n",
        "train_data = TensorDataset(tr_inputs,tr_masks,tr_tags)\n",
        "#returns random indices from the data source\n",
        "train_sampler = RandomSampler(train_data)\n",
        "#dataloader combines the dataset and the sampler \n",
        "train_dataloader = DataLoader(train_data, sampler=train_sampler, batch_size=Batch_Size)\n",
        "valid_data = TensorDataset(val_inputs, val_masks, val_tags)\n",
        "#samples elements sequentially in the same order\n",
        "valid_sampler = SequentialSampler(valid_data)\n",
        "valid_dataloader = DataLoader(valid_data,sampler=valid_sampler, batch_size=Batch_Size)"
      ],
      "execution_count": 32,
      "outputs": []
    },
    {
      "cell_type": "code",
      "metadata": {
        "id": "GMq5M-pKLo4j"
      },
      "source": [
        ""
      ],
      "execution_count": null,
      "outputs": []
    },
    {
      "cell_type": "code",
      "metadata": {
        "colab": {
          "base_uri": "https://localhost:8080/"
        },
        "id": "vNJBYG0-LOQo",
        "outputId": "8ab7ea72-682c-4e6e-ab2b-22687684c96a"
      },
      "source": [
        "val_inputs.shape"
      ],
      "execution_count": 33,
      "outputs": [
        {
          "output_type": "execute_result",
          "data": {
            "text/plain": [
              "torch.Size([1264, 128])"
            ]
          },
          "metadata": {
            "tags": []
          },
          "execution_count": 33
        }
      ]
    },
    {
      "cell_type": "code",
      "metadata": {
        "id": "q8HYvnLcuUnx"
      },
      "source": [
        "import transformers\n",
        "#bertfortokenclassification addsa classifier on top of bert model\n",
        "from transformers import AutoModelForTokenClassification,AdamW,AutoConfig"
      ],
      "execution_count": 34,
      "outputs": []
    },
    {
      "cell_type": "code",
      "metadata": {
        "colab": {
          "base_uri": "https://localhost:8080/"
        },
        "id": "bAQCssrou8wZ",
        "outputId": "ca2a749a-c461-4a25-c838-615e296afdf1"
      },
      "source": [
        "print(len(labels_map))"
      ],
      "execution_count": 35,
      "outputs": [
        {
          "output_type": "stream",
          "text": [
            "10\n"
          ],
          "name": "stdout"
        }
      ]
    },
    {
      "cell_type": "code",
      "metadata": {
        "colab": {
          "base_uri": "https://localhost:8080/"
        },
        "id": "vUvuaItovBL4",
        "outputId": "d9789e84-e7d8-4d0d-f5d2-92d422de7b7c"
      },
      "source": [
        "from transformers import BertForTokenClassification,AdamW,AutoConfig\n",
        "\n",
        "model2 = BertForTokenClassification.from_pretrained(\"dmis-lab/biobert-v1.1\",num_labels=len(labels_map), output_attentions = False,output_hidden_states = False)"
      ],
      "execution_count": 36,
      "outputs": [
        {
          "output_type": "stream",
          "text": [
            "Some weights of BertForTokenClassification were not initialized from the model checkpoint at dmis-lab/biobert-v1.1 and are newly initialized: ['classifier.bias', 'classifier.weight']\n",
            "You should probably TRAIN this model on a down-stream task to be able to use it for predictions and inference.\n"
          ],
          "name": "stderr"
        }
      ]
    },
    {
      "cell_type": "code",
      "metadata": {
        "colab": {
          "base_uri": "https://localhost:8080/"
        },
        "id": "u-I4A8CtvFmC",
        "outputId": "0e11c749-02f2-454d-f228-e2c871743079"
      },
      "source": [
        "import torch\n",
        "#specify GPU as device\n",
        "if torch.cuda.is_available():\n",
        "  device=torch.device(\"cuda\")\n",
        "  print('There are %d GPU(s) available.' % torch.cuda.device_count())\n",
        "  print('We will use the GPU:', torch.cuda.get_device_name(0))"
      ],
      "execution_count": 37,
      "outputs": [
        {
          "output_type": "stream",
          "text": [
            "There are 1 GPU(s) available.\n",
            "We will use the GPU: Tesla T4\n"
          ],
          "name": "stdout"
        }
      ]
    },
    {
      "cell_type": "code",
      "metadata": {
        "colab": {
          "base_uri": "https://localhost:8080/"
        },
        "id": "xVf1fTJUvHsf",
        "outputId": "21cb7840-219c-4361-e1db-85d324260730"
      },
      "source": [
        "# Tell pytorch to run this model on the GPU.\n",
        "model2.cuda()"
      ],
      "execution_count": 38,
      "outputs": [
        {
          "output_type": "execute_result",
          "data": {
            "text/plain": [
              "BertForTokenClassification(\n",
              "  (bert): BertModel(\n",
              "    (embeddings): BertEmbeddings(\n",
              "      (word_embeddings): Embedding(28996, 768, padding_idx=0)\n",
              "      (position_embeddings): Embedding(512, 768)\n",
              "      (token_type_embeddings): Embedding(2, 768)\n",
              "      (LayerNorm): LayerNorm((768,), eps=1e-12, elementwise_affine=True)\n",
              "      (dropout): Dropout(p=0.1, inplace=False)\n",
              "    )\n",
              "    (encoder): BertEncoder(\n",
              "      (layer): ModuleList(\n",
              "        (0): BertLayer(\n",
              "          (attention): BertAttention(\n",
              "            (self): BertSelfAttention(\n",
              "              (query): Linear(in_features=768, out_features=768, bias=True)\n",
              "              (key): Linear(in_features=768, out_features=768, bias=True)\n",
              "              (value): Linear(in_features=768, out_features=768, bias=True)\n",
              "              (dropout): Dropout(p=0.1, inplace=False)\n",
              "            )\n",
              "            (output): BertSelfOutput(\n",
              "              (dense): Linear(in_features=768, out_features=768, bias=True)\n",
              "              (LayerNorm): LayerNorm((768,), eps=1e-12, elementwise_affine=True)\n",
              "              (dropout): Dropout(p=0.1, inplace=False)\n",
              "            )\n",
              "          )\n",
              "          (intermediate): BertIntermediate(\n",
              "            (dense): Linear(in_features=768, out_features=3072, bias=True)\n",
              "          )\n",
              "          (output): BertOutput(\n",
              "            (dense): Linear(in_features=3072, out_features=768, bias=True)\n",
              "            (LayerNorm): LayerNorm((768,), eps=1e-12, elementwise_affine=True)\n",
              "            (dropout): Dropout(p=0.1, inplace=False)\n",
              "          )\n",
              "        )\n",
              "        (1): BertLayer(\n",
              "          (attention): BertAttention(\n",
              "            (self): BertSelfAttention(\n",
              "              (query): Linear(in_features=768, out_features=768, bias=True)\n",
              "              (key): Linear(in_features=768, out_features=768, bias=True)\n",
              "              (value): Linear(in_features=768, out_features=768, bias=True)\n",
              "              (dropout): Dropout(p=0.1, inplace=False)\n",
              "            )\n",
              "            (output): BertSelfOutput(\n",
              "              (dense): Linear(in_features=768, out_features=768, bias=True)\n",
              "              (LayerNorm): LayerNorm((768,), eps=1e-12, elementwise_affine=True)\n",
              "              (dropout): Dropout(p=0.1, inplace=False)\n",
              "            )\n",
              "          )\n",
              "          (intermediate): BertIntermediate(\n",
              "            (dense): Linear(in_features=768, out_features=3072, bias=True)\n",
              "          )\n",
              "          (output): BertOutput(\n",
              "            (dense): Linear(in_features=3072, out_features=768, bias=True)\n",
              "            (LayerNorm): LayerNorm((768,), eps=1e-12, elementwise_affine=True)\n",
              "            (dropout): Dropout(p=0.1, inplace=False)\n",
              "          )\n",
              "        )\n",
              "        (2): BertLayer(\n",
              "          (attention): BertAttention(\n",
              "            (self): BertSelfAttention(\n",
              "              (query): Linear(in_features=768, out_features=768, bias=True)\n",
              "              (key): Linear(in_features=768, out_features=768, bias=True)\n",
              "              (value): Linear(in_features=768, out_features=768, bias=True)\n",
              "              (dropout): Dropout(p=0.1, inplace=False)\n",
              "            )\n",
              "            (output): BertSelfOutput(\n",
              "              (dense): Linear(in_features=768, out_features=768, bias=True)\n",
              "              (LayerNorm): LayerNorm((768,), eps=1e-12, elementwise_affine=True)\n",
              "              (dropout): Dropout(p=0.1, inplace=False)\n",
              "            )\n",
              "          )\n",
              "          (intermediate): BertIntermediate(\n",
              "            (dense): Linear(in_features=768, out_features=3072, bias=True)\n",
              "          )\n",
              "          (output): BertOutput(\n",
              "            (dense): Linear(in_features=3072, out_features=768, bias=True)\n",
              "            (LayerNorm): LayerNorm((768,), eps=1e-12, elementwise_affine=True)\n",
              "            (dropout): Dropout(p=0.1, inplace=False)\n",
              "          )\n",
              "        )\n",
              "        (3): BertLayer(\n",
              "          (attention): BertAttention(\n",
              "            (self): BertSelfAttention(\n",
              "              (query): Linear(in_features=768, out_features=768, bias=True)\n",
              "              (key): Linear(in_features=768, out_features=768, bias=True)\n",
              "              (value): Linear(in_features=768, out_features=768, bias=True)\n",
              "              (dropout): Dropout(p=0.1, inplace=False)\n",
              "            )\n",
              "            (output): BertSelfOutput(\n",
              "              (dense): Linear(in_features=768, out_features=768, bias=True)\n",
              "              (LayerNorm): LayerNorm((768,), eps=1e-12, elementwise_affine=True)\n",
              "              (dropout): Dropout(p=0.1, inplace=False)\n",
              "            )\n",
              "          )\n",
              "          (intermediate): BertIntermediate(\n",
              "            (dense): Linear(in_features=768, out_features=3072, bias=True)\n",
              "          )\n",
              "          (output): BertOutput(\n",
              "            (dense): Linear(in_features=3072, out_features=768, bias=True)\n",
              "            (LayerNorm): LayerNorm((768,), eps=1e-12, elementwise_affine=True)\n",
              "            (dropout): Dropout(p=0.1, inplace=False)\n",
              "          )\n",
              "        )\n",
              "        (4): BertLayer(\n",
              "          (attention): BertAttention(\n",
              "            (self): BertSelfAttention(\n",
              "              (query): Linear(in_features=768, out_features=768, bias=True)\n",
              "              (key): Linear(in_features=768, out_features=768, bias=True)\n",
              "              (value): Linear(in_features=768, out_features=768, bias=True)\n",
              "              (dropout): Dropout(p=0.1, inplace=False)\n",
              "            )\n",
              "            (output): BertSelfOutput(\n",
              "              (dense): Linear(in_features=768, out_features=768, bias=True)\n",
              "              (LayerNorm): LayerNorm((768,), eps=1e-12, elementwise_affine=True)\n",
              "              (dropout): Dropout(p=0.1, inplace=False)\n",
              "            )\n",
              "          )\n",
              "          (intermediate): BertIntermediate(\n",
              "            (dense): Linear(in_features=768, out_features=3072, bias=True)\n",
              "          )\n",
              "          (output): BertOutput(\n",
              "            (dense): Linear(in_features=3072, out_features=768, bias=True)\n",
              "            (LayerNorm): LayerNorm((768,), eps=1e-12, elementwise_affine=True)\n",
              "            (dropout): Dropout(p=0.1, inplace=False)\n",
              "          )\n",
              "        )\n",
              "        (5): BertLayer(\n",
              "          (attention): BertAttention(\n",
              "            (self): BertSelfAttention(\n",
              "              (query): Linear(in_features=768, out_features=768, bias=True)\n",
              "              (key): Linear(in_features=768, out_features=768, bias=True)\n",
              "              (value): Linear(in_features=768, out_features=768, bias=True)\n",
              "              (dropout): Dropout(p=0.1, inplace=False)\n",
              "            )\n",
              "            (output): BertSelfOutput(\n",
              "              (dense): Linear(in_features=768, out_features=768, bias=True)\n",
              "              (LayerNorm): LayerNorm((768,), eps=1e-12, elementwise_affine=True)\n",
              "              (dropout): Dropout(p=0.1, inplace=False)\n",
              "            )\n",
              "          )\n",
              "          (intermediate): BertIntermediate(\n",
              "            (dense): Linear(in_features=768, out_features=3072, bias=True)\n",
              "          )\n",
              "          (output): BertOutput(\n",
              "            (dense): Linear(in_features=3072, out_features=768, bias=True)\n",
              "            (LayerNorm): LayerNorm((768,), eps=1e-12, elementwise_affine=True)\n",
              "            (dropout): Dropout(p=0.1, inplace=False)\n",
              "          )\n",
              "        )\n",
              "        (6): BertLayer(\n",
              "          (attention): BertAttention(\n",
              "            (self): BertSelfAttention(\n",
              "              (query): Linear(in_features=768, out_features=768, bias=True)\n",
              "              (key): Linear(in_features=768, out_features=768, bias=True)\n",
              "              (value): Linear(in_features=768, out_features=768, bias=True)\n",
              "              (dropout): Dropout(p=0.1, inplace=False)\n",
              "            )\n",
              "            (output): BertSelfOutput(\n",
              "              (dense): Linear(in_features=768, out_features=768, bias=True)\n",
              "              (LayerNorm): LayerNorm((768,), eps=1e-12, elementwise_affine=True)\n",
              "              (dropout): Dropout(p=0.1, inplace=False)\n",
              "            )\n",
              "          )\n",
              "          (intermediate): BertIntermediate(\n",
              "            (dense): Linear(in_features=768, out_features=3072, bias=True)\n",
              "          )\n",
              "          (output): BertOutput(\n",
              "            (dense): Linear(in_features=3072, out_features=768, bias=True)\n",
              "            (LayerNorm): LayerNorm((768,), eps=1e-12, elementwise_affine=True)\n",
              "            (dropout): Dropout(p=0.1, inplace=False)\n",
              "          )\n",
              "        )\n",
              "        (7): BertLayer(\n",
              "          (attention): BertAttention(\n",
              "            (self): BertSelfAttention(\n",
              "              (query): Linear(in_features=768, out_features=768, bias=True)\n",
              "              (key): Linear(in_features=768, out_features=768, bias=True)\n",
              "              (value): Linear(in_features=768, out_features=768, bias=True)\n",
              "              (dropout): Dropout(p=0.1, inplace=False)\n",
              "            )\n",
              "            (output): BertSelfOutput(\n",
              "              (dense): Linear(in_features=768, out_features=768, bias=True)\n",
              "              (LayerNorm): LayerNorm((768,), eps=1e-12, elementwise_affine=True)\n",
              "              (dropout): Dropout(p=0.1, inplace=False)\n",
              "            )\n",
              "          )\n",
              "          (intermediate): BertIntermediate(\n",
              "            (dense): Linear(in_features=768, out_features=3072, bias=True)\n",
              "          )\n",
              "          (output): BertOutput(\n",
              "            (dense): Linear(in_features=3072, out_features=768, bias=True)\n",
              "            (LayerNorm): LayerNorm((768,), eps=1e-12, elementwise_affine=True)\n",
              "            (dropout): Dropout(p=0.1, inplace=False)\n",
              "          )\n",
              "        )\n",
              "        (8): BertLayer(\n",
              "          (attention): BertAttention(\n",
              "            (self): BertSelfAttention(\n",
              "              (query): Linear(in_features=768, out_features=768, bias=True)\n",
              "              (key): Linear(in_features=768, out_features=768, bias=True)\n",
              "              (value): Linear(in_features=768, out_features=768, bias=True)\n",
              "              (dropout): Dropout(p=0.1, inplace=False)\n",
              "            )\n",
              "            (output): BertSelfOutput(\n",
              "              (dense): Linear(in_features=768, out_features=768, bias=True)\n",
              "              (LayerNorm): LayerNorm((768,), eps=1e-12, elementwise_affine=True)\n",
              "              (dropout): Dropout(p=0.1, inplace=False)\n",
              "            )\n",
              "          )\n",
              "          (intermediate): BertIntermediate(\n",
              "            (dense): Linear(in_features=768, out_features=3072, bias=True)\n",
              "          )\n",
              "          (output): BertOutput(\n",
              "            (dense): Linear(in_features=3072, out_features=768, bias=True)\n",
              "            (LayerNorm): LayerNorm((768,), eps=1e-12, elementwise_affine=True)\n",
              "            (dropout): Dropout(p=0.1, inplace=False)\n",
              "          )\n",
              "        )\n",
              "        (9): BertLayer(\n",
              "          (attention): BertAttention(\n",
              "            (self): BertSelfAttention(\n",
              "              (query): Linear(in_features=768, out_features=768, bias=True)\n",
              "              (key): Linear(in_features=768, out_features=768, bias=True)\n",
              "              (value): Linear(in_features=768, out_features=768, bias=True)\n",
              "              (dropout): Dropout(p=0.1, inplace=False)\n",
              "            )\n",
              "            (output): BertSelfOutput(\n",
              "              (dense): Linear(in_features=768, out_features=768, bias=True)\n",
              "              (LayerNorm): LayerNorm((768,), eps=1e-12, elementwise_affine=True)\n",
              "              (dropout): Dropout(p=0.1, inplace=False)\n",
              "            )\n",
              "          )\n",
              "          (intermediate): BertIntermediate(\n",
              "            (dense): Linear(in_features=768, out_features=3072, bias=True)\n",
              "          )\n",
              "          (output): BertOutput(\n",
              "            (dense): Linear(in_features=3072, out_features=768, bias=True)\n",
              "            (LayerNorm): LayerNorm((768,), eps=1e-12, elementwise_affine=True)\n",
              "            (dropout): Dropout(p=0.1, inplace=False)\n",
              "          )\n",
              "        )\n",
              "        (10): BertLayer(\n",
              "          (attention): BertAttention(\n",
              "            (self): BertSelfAttention(\n",
              "              (query): Linear(in_features=768, out_features=768, bias=True)\n",
              "              (key): Linear(in_features=768, out_features=768, bias=True)\n",
              "              (value): Linear(in_features=768, out_features=768, bias=True)\n",
              "              (dropout): Dropout(p=0.1, inplace=False)\n",
              "            )\n",
              "            (output): BertSelfOutput(\n",
              "              (dense): Linear(in_features=768, out_features=768, bias=True)\n",
              "              (LayerNorm): LayerNorm((768,), eps=1e-12, elementwise_affine=True)\n",
              "              (dropout): Dropout(p=0.1, inplace=False)\n",
              "            )\n",
              "          )\n",
              "          (intermediate): BertIntermediate(\n",
              "            (dense): Linear(in_features=768, out_features=3072, bias=True)\n",
              "          )\n",
              "          (output): BertOutput(\n",
              "            (dense): Linear(in_features=3072, out_features=768, bias=True)\n",
              "            (LayerNorm): LayerNorm((768,), eps=1e-12, elementwise_affine=True)\n",
              "            (dropout): Dropout(p=0.1, inplace=False)\n",
              "          )\n",
              "        )\n",
              "        (11): BertLayer(\n",
              "          (attention): BertAttention(\n",
              "            (self): BertSelfAttention(\n",
              "              (query): Linear(in_features=768, out_features=768, bias=True)\n",
              "              (key): Linear(in_features=768, out_features=768, bias=True)\n",
              "              (value): Linear(in_features=768, out_features=768, bias=True)\n",
              "              (dropout): Dropout(p=0.1, inplace=False)\n",
              "            )\n",
              "            (output): BertSelfOutput(\n",
              "              (dense): Linear(in_features=768, out_features=768, bias=True)\n",
              "              (LayerNorm): LayerNorm((768,), eps=1e-12, elementwise_affine=True)\n",
              "              (dropout): Dropout(p=0.1, inplace=False)\n",
              "            )\n",
              "          )\n",
              "          (intermediate): BertIntermediate(\n",
              "            (dense): Linear(in_features=768, out_features=3072, bias=True)\n",
              "          )\n",
              "          (output): BertOutput(\n",
              "            (dense): Linear(in_features=3072, out_features=768, bias=True)\n",
              "            (LayerNorm): LayerNorm((768,), eps=1e-12, elementwise_affine=True)\n",
              "            (dropout): Dropout(p=0.1, inplace=False)\n",
              "          )\n",
              "        )\n",
              "      )\n",
              "    )\n",
              "  )\n",
              "  (dropout): Dropout(p=0.1, inplace=False)\n",
              "  (classifier): Linear(in_features=768, out_features=10, bias=True)\n",
              ")"
            ]
          },
          "metadata": {
            "tags": []
          },
          "execution_count": 38
        }
      ]
    },
    {
      "cell_type": "code",
      "metadata": {
        "colab": {
          "base_uri": "https://localhost:8080/"
        },
        "id": "6QWEbZAK5_O0",
        "outputId": "b60d428e-86ec-4b7d-e4d3-3f782fc3f5e7"
      },
      "source": [
        "model2.to(device)"
      ],
      "execution_count": 39,
      "outputs": [
        {
          "output_type": "execute_result",
          "data": {
            "text/plain": [
              "BertForTokenClassification(\n",
              "  (bert): BertModel(\n",
              "    (embeddings): BertEmbeddings(\n",
              "      (word_embeddings): Embedding(28996, 768, padding_idx=0)\n",
              "      (position_embeddings): Embedding(512, 768)\n",
              "      (token_type_embeddings): Embedding(2, 768)\n",
              "      (LayerNorm): LayerNorm((768,), eps=1e-12, elementwise_affine=True)\n",
              "      (dropout): Dropout(p=0.1, inplace=False)\n",
              "    )\n",
              "    (encoder): BertEncoder(\n",
              "      (layer): ModuleList(\n",
              "        (0): BertLayer(\n",
              "          (attention): BertAttention(\n",
              "            (self): BertSelfAttention(\n",
              "              (query): Linear(in_features=768, out_features=768, bias=True)\n",
              "              (key): Linear(in_features=768, out_features=768, bias=True)\n",
              "              (value): Linear(in_features=768, out_features=768, bias=True)\n",
              "              (dropout): Dropout(p=0.1, inplace=False)\n",
              "            )\n",
              "            (output): BertSelfOutput(\n",
              "              (dense): Linear(in_features=768, out_features=768, bias=True)\n",
              "              (LayerNorm): LayerNorm((768,), eps=1e-12, elementwise_affine=True)\n",
              "              (dropout): Dropout(p=0.1, inplace=False)\n",
              "            )\n",
              "          )\n",
              "          (intermediate): BertIntermediate(\n",
              "            (dense): Linear(in_features=768, out_features=3072, bias=True)\n",
              "          )\n",
              "          (output): BertOutput(\n",
              "            (dense): Linear(in_features=3072, out_features=768, bias=True)\n",
              "            (LayerNorm): LayerNorm((768,), eps=1e-12, elementwise_affine=True)\n",
              "            (dropout): Dropout(p=0.1, inplace=False)\n",
              "          )\n",
              "        )\n",
              "        (1): BertLayer(\n",
              "          (attention): BertAttention(\n",
              "            (self): BertSelfAttention(\n",
              "              (query): Linear(in_features=768, out_features=768, bias=True)\n",
              "              (key): Linear(in_features=768, out_features=768, bias=True)\n",
              "              (value): Linear(in_features=768, out_features=768, bias=True)\n",
              "              (dropout): Dropout(p=0.1, inplace=False)\n",
              "            )\n",
              "            (output): BertSelfOutput(\n",
              "              (dense): Linear(in_features=768, out_features=768, bias=True)\n",
              "              (LayerNorm): LayerNorm((768,), eps=1e-12, elementwise_affine=True)\n",
              "              (dropout): Dropout(p=0.1, inplace=False)\n",
              "            )\n",
              "          )\n",
              "          (intermediate): BertIntermediate(\n",
              "            (dense): Linear(in_features=768, out_features=3072, bias=True)\n",
              "          )\n",
              "          (output): BertOutput(\n",
              "            (dense): Linear(in_features=3072, out_features=768, bias=True)\n",
              "            (LayerNorm): LayerNorm((768,), eps=1e-12, elementwise_affine=True)\n",
              "            (dropout): Dropout(p=0.1, inplace=False)\n",
              "          )\n",
              "        )\n",
              "        (2): BertLayer(\n",
              "          (attention): BertAttention(\n",
              "            (self): BertSelfAttention(\n",
              "              (query): Linear(in_features=768, out_features=768, bias=True)\n",
              "              (key): Linear(in_features=768, out_features=768, bias=True)\n",
              "              (value): Linear(in_features=768, out_features=768, bias=True)\n",
              "              (dropout): Dropout(p=0.1, inplace=False)\n",
              "            )\n",
              "            (output): BertSelfOutput(\n",
              "              (dense): Linear(in_features=768, out_features=768, bias=True)\n",
              "              (LayerNorm): LayerNorm((768,), eps=1e-12, elementwise_affine=True)\n",
              "              (dropout): Dropout(p=0.1, inplace=False)\n",
              "            )\n",
              "          )\n",
              "          (intermediate): BertIntermediate(\n",
              "            (dense): Linear(in_features=768, out_features=3072, bias=True)\n",
              "          )\n",
              "          (output): BertOutput(\n",
              "            (dense): Linear(in_features=3072, out_features=768, bias=True)\n",
              "            (LayerNorm): LayerNorm((768,), eps=1e-12, elementwise_affine=True)\n",
              "            (dropout): Dropout(p=0.1, inplace=False)\n",
              "          )\n",
              "        )\n",
              "        (3): BertLayer(\n",
              "          (attention): BertAttention(\n",
              "            (self): BertSelfAttention(\n",
              "              (query): Linear(in_features=768, out_features=768, bias=True)\n",
              "              (key): Linear(in_features=768, out_features=768, bias=True)\n",
              "              (value): Linear(in_features=768, out_features=768, bias=True)\n",
              "              (dropout): Dropout(p=0.1, inplace=False)\n",
              "            )\n",
              "            (output): BertSelfOutput(\n",
              "              (dense): Linear(in_features=768, out_features=768, bias=True)\n",
              "              (LayerNorm): LayerNorm((768,), eps=1e-12, elementwise_affine=True)\n",
              "              (dropout): Dropout(p=0.1, inplace=False)\n",
              "            )\n",
              "          )\n",
              "          (intermediate): BertIntermediate(\n",
              "            (dense): Linear(in_features=768, out_features=3072, bias=True)\n",
              "          )\n",
              "          (output): BertOutput(\n",
              "            (dense): Linear(in_features=3072, out_features=768, bias=True)\n",
              "            (LayerNorm): LayerNorm((768,), eps=1e-12, elementwise_affine=True)\n",
              "            (dropout): Dropout(p=0.1, inplace=False)\n",
              "          )\n",
              "        )\n",
              "        (4): BertLayer(\n",
              "          (attention): BertAttention(\n",
              "            (self): BertSelfAttention(\n",
              "              (query): Linear(in_features=768, out_features=768, bias=True)\n",
              "              (key): Linear(in_features=768, out_features=768, bias=True)\n",
              "              (value): Linear(in_features=768, out_features=768, bias=True)\n",
              "              (dropout): Dropout(p=0.1, inplace=False)\n",
              "            )\n",
              "            (output): BertSelfOutput(\n",
              "              (dense): Linear(in_features=768, out_features=768, bias=True)\n",
              "              (LayerNorm): LayerNorm((768,), eps=1e-12, elementwise_affine=True)\n",
              "              (dropout): Dropout(p=0.1, inplace=False)\n",
              "            )\n",
              "          )\n",
              "          (intermediate): BertIntermediate(\n",
              "            (dense): Linear(in_features=768, out_features=3072, bias=True)\n",
              "          )\n",
              "          (output): BertOutput(\n",
              "            (dense): Linear(in_features=3072, out_features=768, bias=True)\n",
              "            (LayerNorm): LayerNorm((768,), eps=1e-12, elementwise_affine=True)\n",
              "            (dropout): Dropout(p=0.1, inplace=False)\n",
              "          )\n",
              "        )\n",
              "        (5): BertLayer(\n",
              "          (attention): BertAttention(\n",
              "            (self): BertSelfAttention(\n",
              "              (query): Linear(in_features=768, out_features=768, bias=True)\n",
              "              (key): Linear(in_features=768, out_features=768, bias=True)\n",
              "              (value): Linear(in_features=768, out_features=768, bias=True)\n",
              "              (dropout): Dropout(p=0.1, inplace=False)\n",
              "            )\n",
              "            (output): BertSelfOutput(\n",
              "              (dense): Linear(in_features=768, out_features=768, bias=True)\n",
              "              (LayerNorm): LayerNorm((768,), eps=1e-12, elementwise_affine=True)\n",
              "              (dropout): Dropout(p=0.1, inplace=False)\n",
              "            )\n",
              "          )\n",
              "          (intermediate): BertIntermediate(\n",
              "            (dense): Linear(in_features=768, out_features=3072, bias=True)\n",
              "          )\n",
              "          (output): BertOutput(\n",
              "            (dense): Linear(in_features=3072, out_features=768, bias=True)\n",
              "            (LayerNorm): LayerNorm((768,), eps=1e-12, elementwise_affine=True)\n",
              "            (dropout): Dropout(p=0.1, inplace=False)\n",
              "          )\n",
              "        )\n",
              "        (6): BertLayer(\n",
              "          (attention): BertAttention(\n",
              "            (self): BertSelfAttention(\n",
              "              (query): Linear(in_features=768, out_features=768, bias=True)\n",
              "              (key): Linear(in_features=768, out_features=768, bias=True)\n",
              "              (value): Linear(in_features=768, out_features=768, bias=True)\n",
              "              (dropout): Dropout(p=0.1, inplace=False)\n",
              "            )\n",
              "            (output): BertSelfOutput(\n",
              "              (dense): Linear(in_features=768, out_features=768, bias=True)\n",
              "              (LayerNorm): LayerNorm((768,), eps=1e-12, elementwise_affine=True)\n",
              "              (dropout): Dropout(p=0.1, inplace=False)\n",
              "            )\n",
              "          )\n",
              "          (intermediate): BertIntermediate(\n",
              "            (dense): Linear(in_features=768, out_features=3072, bias=True)\n",
              "          )\n",
              "          (output): BertOutput(\n",
              "            (dense): Linear(in_features=3072, out_features=768, bias=True)\n",
              "            (LayerNorm): LayerNorm((768,), eps=1e-12, elementwise_affine=True)\n",
              "            (dropout): Dropout(p=0.1, inplace=False)\n",
              "          )\n",
              "        )\n",
              "        (7): BertLayer(\n",
              "          (attention): BertAttention(\n",
              "            (self): BertSelfAttention(\n",
              "              (query): Linear(in_features=768, out_features=768, bias=True)\n",
              "              (key): Linear(in_features=768, out_features=768, bias=True)\n",
              "              (value): Linear(in_features=768, out_features=768, bias=True)\n",
              "              (dropout): Dropout(p=0.1, inplace=False)\n",
              "            )\n",
              "            (output): BertSelfOutput(\n",
              "              (dense): Linear(in_features=768, out_features=768, bias=True)\n",
              "              (LayerNorm): LayerNorm((768,), eps=1e-12, elementwise_affine=True)\n",
              "              (dropout): Dropout(p=0.1, inplace=False)\n",
              "            )\n",
              "          )\n",
              "          (intermediate): BertIntermediate(\n",
              "            (dense): Linear(in_features=768, out_features=3072, bias=True)\n",
              "          )\n",
              "          (output): BertOutput(\n",
              "            (dense): Linear(in_features=3072, out_features=768, bias=True)\n",
              "            (LayerNorm): LayerNorm((768,), eps=1e-12, elementwise_affine=True)\n",
              "            (dropout): Dropout(p=0.1, inplace=False)\n",
              "          )\n",
              "        )\n",
              "        (8): BertLayer(\n",
              "          (attention): BertAttention(\n",
              "            (self): BertSelfAttention(\n",
              "              (query): Linear(in_features=768, out_features=768, bias=True)\n",
              "              (key): Linear(in_features=768, out_features=768, bias=True)\n",
              "              (value): Linear(in_features=768, out_features=768, bias=True)\n",
              "              (dropout): Dropout(p=0.1, inplace=False)\n",
              "            )\n",
              "            (output): BertSelfOutput(\n",
              "              (dense): Linear(in_features=768, out_features=768, bias=True)\n",
              "              (LayerNorm): LayerNorm((768,), eps=1e-12, elementwise_affine=True)\n",
              "              (dropout): Dropout(p=0.1, inplace=False)\n",
              "            )\n",
              "          )\n",
              "          (intermediate): BertIntermediate(\n",
              "            (dense): Linear(in_features=768, out_features=3072, bias=True)\n",
              "          )\n",
              "          (output): BertOutput(\n",
              "            (dense): Linear(in_features=3072, out_features=768, bias=True)\n",
              "            (LayerNorm): LayerNorm((768,), eps=1e-12, elementwise_affine=True)\n",
              "            (dropout): Dropout(p=0.1, inplace=False)\n",
              "          )\n",
              "        )\n",
              "        (9): BertLayer(\n",
              "          (attention): BertAttention(\n",
              "            (self): BertSelfAttention(\n",
              "              (query): Linear(in_features=768, out_features=768, bias=True)\n",
              "              (key): Linear(in_features=768, out_features=768, bias=True)\n",
              "              (value): Linear(in_features=768, out_features=768, bias=True)\n",
              "              (dropout): Dropout(p=0.1, inplace=False)\n",
              "            )\n",
              "            (output): BertSelfOutput(\n",
              "              (dense): Linear(in_features=768, out_features=768, bias=True)\n",
              "              (LayerNorm): LayerNorm((768,), eps=1e-12, elementwise_affine=True)\n",
              "              (dropout): Dropout(p=0.1, inplace=False)\n",
              "            )\n",
              "          )\n",
              "          (intermediate): BertIntermediate(\n",
              "            (dense): Linear(in_features=768, out_features=3072, bias=True)\n",
              "          )\n",
              "          (output): BertOutput(\n",
              "            (dense): Linear(in_features=3072, out_features=768, bias=True)\n",
              "            (LayerNorm): LayerNorm((768,), eps=1e-12, elementwise_affine=True)\n",
              "            (dropout): Dropout(p=0.1, inplace=False)\n",
              "          )\n",
              "        )\n",
              "        (10): BertLayer(\n",
              "          (attention): BertAttention(\n",
              "            (self): BertSelfAttention(\n",
              "              (query): Linear(in_features=768, out_features=768, bias=True)\n",
              "              (key): Linear(in_features=768, out_features=768, bias=True)\n",
              "              (value): Linear(in_features=768, out_features=768, bias=True)\n",
              "              (dropout): Dropout(p=0.1, inplace=False)\n",
              "            )\n",
              "            (output): BertSelfOutput(\n",
              "              (dense): Linear(in_features=768, out_features=768, bias=True)\n",
              "              (LayerNorm): LayerNorm((768,), eps=1e-12, elementwise_affine=True)\n",
              "              (dropout): Dropout(p=0.1, inplace=False)\n",
              "            )\n",
              "          )\n",
              "          (intermediate): BertIntermediate(\n",
              "            (dense): Linear(in_features=768, out_features=3072, bias=True)\n",
              "          )\n",
              "          (output): BertOutput(\n",
              "            (dense): Linear(in_features=3072, out_features=768, bias=True)\n",
              "            (LayerNorm): LayerNorm((768,), eps=1e-12, elementwise_affine=True)\n",
              "            (dropout): Dropout(p=0.1, inplace=False)\n",
              "          )\n",
              "        )\n",
              "        (11): BertLayer(\n",
              "          (attention): BertAttention(\n",
              "            (self): BertSelfAttention(\n",
              "              (query): Linear(in_features=768, out_features=768, bias=True)\n",
              "              (key): Linear(in_features=768, out_features=768, bias=True)\n",
              "              (value): Linear(in_features=768, out_features=768, bias=True)\n",
              "              (dropout): Dropout(p=0.1, inplace=False)\n",
              "            )\n",
              "            (output): BertSelfOutput(\n",
              "              (dense): Linear(in_features=768, out_features=768, bias=True)\n",
              "              (LayerNorm): LayerNorm((768,), eps=1e-12, elementwise_affine=True)\n",
              "              (dropout): Dropout(p=0.1, inplace=False)\n",
              "            )\n",
              "          )\n",
              "          (intermediate): BertIntermediate(\n",
              "            (dense): Linear(in_features=768, out_features=3072, bias=True)\n",
              "          )\n",
              "          (output): BertOutput(\n",
              "            (dense): Linear(in_features=3072, out_features=768, bias=True)\n",
              "            (LayerNorm): LayerNorm((768,), eps=1e-12, elementwise_affine=True)\n",
              "            (dropout): Dropout(p=0.1, inplace=False)\n",
              "          )\n",
              "        )\n",
              "      )\n",
              "    )\n",
              "  )\n",
              "  (dropout): Dropout(p=0.1, inplace=False)\n",
              "  (classifier): Linear(in_features=768, out_features=10, bias=True)\n",
              ")"
            ]
          },
          "metadata": {
            "tags": []
          },
          "execution_count": 39
        }
      ]
    },
    {
      "cell_type": "code",
      "metadata": {
        "id": "NaVN1QokvV8O"
      },
      "source": [
        "#grab the optimzer\n",
        "optimizer=AdamW(model2.parameters(),\n",
        "               lr=2e-5, # args.learning_rate - default is 5e-5, our notebook had 2e-5 \n",
        "               eps=1e-8) #a very small number to prevent any division by zero in the implementation)"
      ],
      "execution_count": 40,
      "outputs": []
    },
    {
      "cell_type": "code",
      "metadata": {
        "id": "WAE1-Nz4vZxO"
      },
      "source": [
        "from transformers import get_linear_schedule_with_warmup"
      ],
      "execution_count": 41,
      "outputs": []
    },
    {
      "cell_type": "code",
      "metadata": {
        "id": "OZP6kfS5vbgu"
      },
      "source": [
        "epochs = 3"
      ],
      "execution_count": 42,
      "outputs": []
    },
    {
      "cell_type": "code",
      "metadata": {
        "id": "U7fLUxRfvdkO"
      },
      "source": [
        "total_steps = len(train_dataloader) * epochs"
      ],
      "execution_count": 43,
      "outputs": []
    },
    {
      "cell_type": "code",
      "metadata": {
        "id": "NDM5mvSrvfs_"
      },
      "source": [
        "#Create a schedule with a learning rate that decreases linearly from the initial lr set in the optimizer to 0, after a warmup period during which it increases linearly from 0 to the initial lr set in the optimizer.\n",
        "\n",
        "scheduler=get_linear_schedule_with_warmup(\n",
        "    optimizer,\n",
        "    num_warmup_steps=0,#deafault value\n",
        "    num_training_steps=total_steps)\n"
      ],
      "execution_count": 44,
      "outputs": []
    },
    {
      "cell_type": "code",
      "metadata": {
        "id": "ZNGM6Mw8vhzH"
      },
      "source": [
        "from sklearn.metrics import f1_score, accuracy_score,confusion_matrix"
      ],
      "execution_count": 45,
      "outputs": []
    },
    {
      "cell_type": "code",
      "metadata": {
        "id": "3GVtHK6_vjg_"
      },
      "source": [
        "import random\n",
        "import numpy as np"
      ],
      "execution_count": 46,
      "outputs": []
    },
    {
      "cell_type": "code",
      "metadata": {
        "id": "bje1fs6uvlp7"
      },
      "source": [
        "# Set the seed value all over the place to make this reproducible.\n",
        "seed_val=42\n",
        "random.seed(seed_val)\n",
        "np.random.seed(seed_val)\n",
        "torch.manual_seed(seed_val)\n",
        "torch.cuda.manual_seed_all(seed_val)"
      ],
      "execution_count": 47,
      "outputs": []
    },
    {
      "cell_type": "code",
      "metadata": {
        "id": "ZmtJi5FBvqXg"
      },
      "source": [
        "def get_special_tokens(tokenizer, labels_map):\n",
        "  pad_tok = tokenizer.vocab[\"[PAD]\"]\n",
        "  sep_tok = tokenizer.vocab[\"[SEP]\"]\n",
        "  cls_tok = tokenizer.vocab[\"[CLS]\"]\n",
        "  o_lab = labels_map[\"O\"]\n",
        "  return pad_tok, sep_tok, cls_tok, o_lab"
      ],
      "execution_count": 48,
      "outputs": []
    },
    {
      "cell_type": "code",
      "metadata": {
        "id": "k8YF6KCMvszp"
      },
      "source": [
        "def flat_accuracy(valid_tags, pred_tags):\n",
        "\n",
        "    \"\"\"\n",
        "    Define a flat accuracy metric to use while training the model.\n",
        "    \"\"\"\n",
        "\n",
        "    return (np.array(valid_tags) == np.array(pred_tags)).mean()"
      ],
      "execution_count": 49,
      "outputs": []
    },
    {
      "cell_type": "code",
      "metadata": {
        "id": "V_sSPnnnvwIH"
      },
      "source": [
        "def annot_confusion_matrix(valid_tags, pred_tags):\n",
        "\n",
        "    \"\"\"\n",
        "    Create an annotated confusion matrix by adding label\n",
        "    annotations and formatting to sklearn's `confusion_matrix`.\n",
        "    \"\"\"\n",
        "\n",
        "    # Create header from unique tags\n",
        "    header = sorted(list(set(valid_tags + pred_tags)))\n",
        "\n",
        "    # Calculate the actual confusion matrix\n",
        "    matrix = confusion_matrix(valid_tags, pred_tags, labels=header)\n",
        "\n",
        "    # Final formatting touches for the string output\n",
        "    mat_formatted = [header[i] + \"\\t\" + str(row) for i, row in enumerate(matrix)]\n",
        "    content = \"\\t\" + \" \".join(header) + \"\\n\" + \"\\n\".join(mat_formatted)\n",
        "\n",
        "    return content\n"
      ],
      "execution_count": 50,
      "outputs": []
    },
    {
      "cell_type": "code",
      "metadata": {
        "id": "4FUWeGM0Hw4H"
      },
      "source": [
        "taglist=['O','B-AE','I-AE','E-AE','S-AE','B-DRUG','I-DRUG','E-DRUG','S-DRUG','PAD']"
      ],
      "execution_count": 53,
      "outputs": []
    },
    {
      "cell_type": "code",
      "metadata": {
        "colab": {
          "base_uri": "https://localhost:8080/"
        },
        "id": "l1rHG5UCFUYh",
        "outputId": "31e3b152-185c-496e-9251-a60a87a00285"
      },
      "source": [
        "#check --\n",
        "import time\n",
        "loss_values, validation_loss_values = [], []\n",
        "training_stats = []\n",
        "tic= time.time()\n",
        "\n",
        "pad_tok, sep_tok, cls_tok, o_lab = get_special_tokens(tokenizer, labels_map)\n",
        "\n",
        "for _ in trange(epochs,desc=\"EPOCH\"):\n",
        "  print(\"\")\n",
        "  #print ---Epoch 1/2 ----\n",
        "  #print('======== Epoch {:} / {:} ========'.format(epoch_i + 1, epochs))\n",
        "  print('Training...')\n",
        "\n",
        " \n",
        "  #t0 = time.time()\n",
        "  #train the model\n",
        "  model2.train()\n",
        "  tr_loss, tr_accuracy = 0,0\n",
        "  nb_tr_examples, nb_tr_steps = 0,0\n",
        "  tr_preds, tr_labels = [], []\n",
        "\n",
        "  for nb_tr_steps,batch in enumerate(train_dataloader):\n",
        "    print(nb_tr_steps)\n",
        "    #print(batch)\n",
        "\n",
        "    # Unpack this training batch from our dataloader and load to GPU\n",
        "    b_input_ids = batch[0].to(device) # input ids\n",
        "    b_input_mask = batch[1].to(device) # attention masks to performing attention on padding token indices\n",
        "    b_labels = batch[2].to(device) # labels\n",
        "\n",
        "    #always clear the gradients before doing a backward pass\n",
        "    model2.zero_grad()\n",
        "   \n",
        "    #print(\"inputids\",b_input_ids)\n",
        "    #print(\"labels\",b_labels)\n",
        "    #print(\"Mask\",b_input_mask)\n",
        "\n",
        "\n",
        "\n",
        "    #perform a forward pass\n",
        "    output = model2(b_input_ids,token_type_ids=None,attention_mask=b_input_mask,labels=b_labels)\n",
        "\n",
        "    #print(output)\n",
        "\n",
        "    #print(\"loss\",logits1)\n",
        "    #print(\"loss\",output[0])\n",
        "    #print(\"logit\",output[1])\n",
        "    #print(\"logits\",loss)\n",
        "    loss=output[0]\n",
        "    logits=output[1]\n",
        "\n",
        "    #Perform backward loss\n",
        "    loss.backward()\n",
        "\n",
        "    #print(loss.item())\n",
        "    #Add the loss\n",
        "    tr_loss += loss.item()\n",
        "    #Compute the totale number of examples based on the batch size\n",
        "    nb_tr_examples += b_input_ids.size(0)\n",
        "    nb_tr_steps += 1\n",
        "\n",
        "     # Subset out unwanted predictions on CLS/PAD/SEP tokens\n",
        "    preds_mask = ((b_input_ids != cls_tok) & (b_input_ids != pad_tok) & (b_input_ids != sep_tok))\n",
        "\n",
        "    pred_mask=preds_mask.to(\"cpu\").numpy()\n",
        "\n",
        "     #logits = logits.detach().cpu().numpy()\n",
        "    tr_logits = logits.detach().cpu().numpy()\n",
        "\n",
        "    tr_label_ids = torch.masked_select(b_labels, (preds_mask == 1))\n",
        "    tr_batch_preds = np.argmax(tr_logits[pred_mask.squeeze()], axis=1)\n",
        "    tr_batch_labels = tr_label_ids.to(\"cpu\").numpy()\n",
        "\n",
        "    tr_preds.extend(tr_batch_preds)\n",
        "    tr_labels.extend(tr_batch_labels)\n",
        "\n",
        "    # Compute training accuracy\n",
        "    tmp_tr_accuracy = flat_accuracy(tr_batch_labels, tr_batch_preds)\n",
        "\n",
        "\n",
        "    tr_accuracy += tmp_tr_accuracy\n",
        "\n",
        "    torch.nn.utils.clip_grad_norm_(model2.parameters(), 1.0)\n",
        "\n",
        "\n",
        "    #Update the weights\n",
        "    optimizer.step()\n",
        "\n",
        "    #Update the learning rate\n",
        "    scheduler.step()\n",
        "  \n",
        "  #Compute the avergae loss\n",
        "  tr_loss = tr_loss / nb_tr_steps\n",
        "  #compute the average accuracy\n",
        "  tr_accuracy = tr_accuracy / nb_tr_steps\n",
        "\n",
        "  #Print the computed metrics for training after the epochs\n",
        "  print(f\"Train loss: {tr_loss}\")\n",
        "  print(f\"Train accuracy: {tr_accuracy}\")\n",
        "  print(\" Training is completed\")\n",
        "  print(\"Running Validation... \")\n",
        "\n",
        "\n",
        "  ##############################\n",
        "    ##### VALIDATION STARTS #####\n",
        "    ############################  \n",
        "\n",
        "  model2.eval() # getting the trained model to evaluation mode\n",
        "  # Tracking variables \n",
        "  eval_loss, eval_accuracy = 0, 0\n",
        "  nb_eval_steps, nb_eval_examples = 0, 0\n",
        "  predictions, true_labels = [], []\n",
        "\n",
        " \n",
        "  for batch in valid_dataloader:\n",
        "    b_input_ids = batch[0].to(device) # input ids\n",
        "    b_input_mask = batch[1].to(device) # attention masks\n",
        "    b_labels = batch[2].to(device) # labels\n",
        "\n",
        "    with torch.no_grad():\n",
        "      output=model2(b_input_ids,token_type_ids=None,attention_mask=b_input_mask,labels=b_labels)\n",
        "\n",
        "      tmp_eval_loss,logits = output[:2]\n",
        "\n",
        "    # Subset out unwanted predictions on CLS/PAD/SEP tokens\n",
        "    preds_mask = ((b_input_ids != cls_tok) & (b_input_ids != pad_tok) & (b_input_ids != sep_tok))\n",
        "\n",
        "    #Derive the ligits to cpu\n",
        "    logits = logits.detach().cpu().numpy()\n",
        "\n",
        "\n",
        "    label_ids = torch.masked_select(b_labels,(preds_mask == 1))\n",
        "\n",
        "    #Move the mask to cpu \n",
        "    preds_mask=preds_mask.to(\"cpu\").numpy()\n",
        "\n",
        "\n",
        "\n",
        "    #np.argmax \n",
        "    val_batch_preds =np.argmax(logits[preds_mask.squeeze()],axis=1)\n",
        "\n",
        "\n",
        "    val_batch_labels = label_ids.to(\"cpu\").numpy()\n",
        "\n",
        "    predictions.extend(val_batch_preds)\n",
        "    true_labels.extend(val_batch_labels)\n",
        "\n",
        "    #compute the accuracy\n",
        "    tmp_eval_accuracy = flat_accuracy(val_batch_labels, val_batch_preds)\n",
        "    \n",
        "    eval_loss += tmp_eval_loss.mean().item()\n",
        "    eval_accuracy += tmp_eval_accuracy\n",
        "     \n",
        "    nb_eval_examples += b_input_ids.size(0)\n",
        "    nb_eval_steps += 1  \n",
        "\n",
        "  pred_tags = [taglist[i] for i in predictions]\n",
        "  valid_tags = [taglist[i] for i in true_labels]\n",
        "  cl_report = classification_report(valid_tags, pred_tags)\n",
        "  conf_mat = annot_confusion_matrix(valid_tags, pred_tags)\n",
        "  eval_loss = eval_loss / nb_eval_steps\n",
        "  eval_accuracy = eval_accuracy / nb_eval_steps\n",
        "\n",
        "  # Report metrics\n",
        "  print(f\"Validation loss: {eval_loss}\")\n",
        "  print(f\"Validation Accuracy: {eval_accuracy}\")\n",
        "  print(f\"Classification Report:\\n {cl_report}\")\n",
        "  print(f\"Confusion Matrix:\\n {conf_mat}\")\n",
        "\n",
        "\n",
        "\n",
        "\n",
        "   "
      ],
      "execution_count": 54,
      "outputs": [
        {
          "output_type": "stream",
          "text": [
            "\n",
            "EPOCH:   0%|          | 0/3 [00:00<?, ?it/s]\u001b[A"
          ],
          "name": "stderr"
        },
        {
          "output_type": "stream",
          "text": [
            "\n",
            "Training...\n",
            "0\n",
            "1\n",
            "2\n",
            "3\n",
            "4\n",
            "5\n",
            "6\n",
            "7\n",
            "8\n",
            "9\n",
            "10\n",
            "11\n",
            "12\n",
            "13\n",
            "14\n",
            "15\n",
            "16\n",
            "17\n",
            "18\n",
            "19\n",
            "20\n",
            "21\n",
            "22\n",
            "23\n",
            "24\n",
            "25\n",
            "26\n",
            "27\n",
            "28\n",
            "29\n",
            "30\n",
            "31\n",
            "32\n",
            "33\n",
            "34\n",
            "35\n",
            "36\n",
            "37\n",
            "38\n",
            "39\n",
            "40\n",
            "41\n",
            "42\n",
            "43\n",
            "44\n",
            "45\n",
            "46\n",
            "47\n",
            "48\n",
            "49\n",
            "50\n",
            "51\n",
            "52\n",
            "53\n",
            "54\n",
            "55\n",
            "56\n",
            "57\n",
            "58\n",
            "59\n",
            "60\n",
            "61\n",
            "62\n",
            "63\n",
            "64\n",
            "65\n",
            "66\n",
            "67\n",
            "68\n",
            "69\n",
            "70\n",
            "71\n",
            "72\n",
            "73\n",
            "74\n",
            "75\n",
            "76\n",
            "77\n",
            "78\n",
            "79\n",
            "80\n",
            "81\n",
            "82\n",
            "83\n",
            "84\n",
            "85\n",
            "86\n",
            "87\n",
            "88\n",
            "89\n",
            "90\n",
            "91\n",
            "92\n",
            "93\n",
            "94\n",
            "95\n",
            "96\n",
            "97\n",
            "98\n",
            "99\n",
            "100\n",
            "101\n",
            "102\n",
            "103\n",
            "104\n",
            "105\n",
            "106\n",
            "107\n",
            "108\n",
            "109\n",
            "110\n",
            "111\n",
            "112\n",
            "113\n",
            "114\n",
            "115\n",
            "116\n",
            "117\n",
            "118\n",
            "119\n",
            "120\n",
            "121\n",
            "122\n",
            "123\n",
            "124\n",
            "125\n",
            "126\n",
            "127\n",
            "128\n",
            "129\n",
            "130\n",
            "131\n",
            "132\n",
            "133\n",
            "134\n",
            "135\n",
            "136\n",
            "137\n",
            "138\n",
            "139\n",
            "140\n",
            "141\n",
            "142\n",
            "143\n",
            "144\n",
            "145\n",
            "146\n",
            "147\n",
            "148\n",
            "149\n",
            "150\n",
            "151\n",
            "152\n",
            "153\n",
            "154\n",
            "155\n",
            "156\n",
            "157\n",
            "158\n",
            "159\n",
            "160\n",
            "161\n",
            "162\n",
            "163\n",
            "164\n",
            "165\n",
            "166\n",
            "167\n",
            "168\n",
            "169\n",
            "170\n",
            "171\n",
            "172\n",
            "173\n",
            "174\n",
            "175\n",
            "176\n",
            "177\n",
            "178\n",
            "179\n",
            "180\n",
            "181\n",
            "182\n",
            "183\n",
            "184\n",
            "Train loss: 0.198115436189078\n",
            "Train accuracy: 0.9388901415392488\n",
            " Training is completed\n",
            "Running Validation... \n"
          ],
          "name": "stdout"
        },
        {
          "output_type": "stream",
          "text": [
            "\n",
            "EPOCH:  33%|███▎      | 1/3 [01:32<03:05, 92.95s/it]\u001b[A"
          ],
          "name": "stderr"
        },
        {
          "output_type": "stream",
          "text": [
            "Validation loss: 0.2259089805280106\n",
            "Validation Accuracy: 0.9296295757672064\n",
            "Classification Report:\n",
            "               precision    recall  f1-score   support\n",
            "\n",
            "        B-AE       0.85      0.82      0.83      2494\n",
            "      B-DRUG       0.84      0.90      0.87       602\n",
            "        E-AE       0.83      0.88      0.86      2500\n",
            "      E-DRUG       0.80      0.89      0.84       573\n",
            "        I-AE       0.75      0.77      0.76      1860\n",
            "      I-DRUG       0.94      0.45      0.61       262\n",
            "           O       0.97      0.96      0.96     27138\n",
            "        S-AE       0.90      0.87      0.89      2322\n",
            "      S-DRUG       0.93      0.98      0.95      5201\n",
            "\n",
            "    accuracy                           0.93     42952\n",
            "   macro avg       0.87      0.84      0.84     42952\n",
            "weighted avg       0.93      0.93      0.93     42952\n",
            "\n",
            "Confusion Matrix:\n",
            " \tB-AE B-DRUG E-AE E-DRUG I-AE I-DRUG O S-AE S-DRUG\n",
            "B-AE\t[2033    4    1    0  185    0  227   24   20]\n",
            "B-DRUG\t[  5 539   0   0   0   1  19   0  38]\n",
            "E-AE\t[   0    0 2210    1   52    0  142   91    4]\n",
            "E-DRUG\t[  0   0   1 510   2   1  24   0  35]\n",
            "I-AE\t[  68    6   72    8 1435    1  266    4    0]\n",
            "I-DRUG\t[  0  42   0  70   1 118  28   0   3]\n",
            "O\t[  275    33   227    36   223     4 25932   105   303]\n",
            "S-AE\t[  23    0  158    0    3    0  106 2029    3]\n",
            "S-DRUG\t[   0   19    0   11    0    0   69    0 5102]\n",
            "\n",
            "Training...\n",
            "0\n",
            "1\n",
            "2\n",
            "3\n",
            "4\n",
            "5\n",
            "6\n",
            "7\n",
            "8\n",
            "9\n",
            "10\n",
            "11\n",
            "12\n",
            "13\n",
            "14\n",
            "15\n",
            "16\n",
            "17\n",
            "18\n",
            "19\n",
            "20\n",
            "21\n",
            "22\n",
            "23\n",
            "24\n",
            "25\n",
            "26\n",
            "27\n",
            "28\n",
            "29\n",
            "30\n",
            "31\n",
            "32\n",
            "33\n",
            "34\n",
            "35\n",
            "36\n",
            "37\n",
            "38\n",
            "39\n",
            "40\n",
            "41\n",
            "42\n",
            "43\n",
            "44\n",
            "45\n",
            "46\n",
            "47\n",
            "48\n",
            "49\n",
            "50\n",
            "51\n",
            "52\n",
            "53\n",
            "54\n",
            "55\n",
            "56\n",
            "57\n",
            "58\n",
            "59\n",
            "60\n",
            "61\n",
            "62\n",
            "63\n",
            "64\n",
            "65\n",
            "66\n",
            "67\n",
            "68\n",
            "69\n",
            "70\n",
            "71\n",
            "72\n",
            "73\n",
            "74\n",
            "75\n",
            "76\n",
            "77\n",
            "78\n",
            "79\n",
            "80\n",
            "81\n",
            "82\n",
            "83\n",
            "84\n",
            "85\n",
            "86\n",
            "87\n",
            "88\n",
            "89\n",
            "90\n",
            "91\n",
            "92\n",
            "93\n",
            "94\n",
            "95\n",
            "96\n",
            "97\n",
            "98\n",
            "99\n",
            "100\n",
            "101\n",
            "102\n",
            "103\n",
            "104\n",
            "105\n",
            "106\n",
            "107\n",
            "108\n",
            "109\n",
            "110\n",
            "111\n",
            "112\n",
            "113\n",
            "114\n",
            "115\n",
            "116\n",
            "117\n",
            "118\n",
            "119\n",
            "120\n",
            "121\n",
            "122\n",
            "123\n",
            "124\n",
            "125\n",
            "126\n",
            "127\n",
            "128\n",
            "129\n",
            "130\n",
            "131\n",
            "132\n",
            "133\n",
            "134\n",
            "135\n",
            "136\n",
            "137\n",
            "138\n",
            "139\n",
            "140\n",
            "141\n",
            "142\n",
            "143\n",
            "144\n",
            "145\n",
            "146\n",
            "147\n",
            "148\n",
            "149\n",
            "150\n",
            "151\n",
            "152\n",
            "153\n",
            "154\n",
            "155\n",
            "156\n",
            "157\n",
            "158\n",
            "159\n",
            "160\n",
            "161\n",
            "162\n",
            "163\n",
            "164\n",
            "165\n",
            "166\n",
            "167\n",
            "168\n",
            "169\n",
            "170\n",
            "171\n",
            "172\n",
            "173\n",
            "174\n",
            "175\n",
            "176\n",
            "177\n",
            "178\n",
            "179\n",
            "180\n",
            "181\n",
            "182\n",
            "183\n",
            "184\n",
            "Train loss: 0.13184671800684283\n",
            "Train accuracy: 0.9603030541055908\n",
            " Training is completed\n",
            "Running Validation... \n"
          ],
          "name": "stdout"
        },
        {
          "output_type": "stream",
          "text": [
            "\n",
            "EPOCH:  67%|██████▋   | 2/3 [03:05<01:32, 92.82s/it]\u001b[A"
          ],
          "name": "stderr"
        },
        {
          "output_type": "stream",
          "text": [
            "Validation loss: 0.22994692727357527\n",
            "Validation Accuracy: 0.9348400447671378\n",
            "Classification Report:\n",
            "               precision    recall  f1-score   support\n",
            "\n",
            "        B-AE       0.82      0.85      0.84      2494\n",
            "      B-DRUG       0.86      0.94      0.90       602\n",
            "        E-AE       0.84      0.90      0.87      2500\n",
            "      E-DRUG       0.89      0.92      0.90       573\n",
            "        I-AE       0.76      0.79      0.77      1860\n",
            "      I-DRUG       0.97      0.73      0.83       262\n",
            "           O       0.97      0.95      0.96     27138\n",
            "        S-AE       0.91      0.88      0.89      2322\n",
            "      S-DRUG       0.94      0.98      0.96      5201\n",
            "\n",
            "    accuracy                           0.93     42952\n",
            "   macro avg       0.88      0.88      0.88     42952\n",
            "weighted avg       0.94      0.93      0.93     42952\n",
            "\n",
            "Confusion Matrix:\n",
            " \tB-AE B-DRUG E-AE E-DRUG I-AE I-DRUG O S-AE S-DRUG\n",
            "B-AE\t[2128    4    0    0  169    0  170   12   11]\n",
            "B-DRUG\t[  5 567   0   0   0   1  15   0  14]\n",
            "E-AE\t[   0    0 2245    1   61    0  123   66    4]\n",
            "E-DRUG\t[  0   0   1 526   2   1  19   0  24]\n",
            "I-AE\t[  85    6   55    8 1467    0  236    3    0]\n",
            "I-DRUG\t[  0  24   0  19   1 191  26   0   1]\n",
            "O\t[  342    37   229    28   226     3 25872   117   284]\n",
            "S-AE\t[  31    0  158    0    3    0   87 2040    3]\n",
            "S-DRUG\t[   0   25    0   10    0    0   68    0 5098]\n",
            "\n",
            "Training...\n",
            "0\n",
            "1\n",
            "2\n",
            "3\n",
            "4\n",
            "5\n",
            "6\n",
            "7\n",
            "8\n",
            "9\n",
            "10\n",
            "11\n",
            "12\n",
            "13\n",
            "14\n",
            "15\n",
            "16\n",
            "17\n",
            "18\n",
            "19\n",
            "20\n",
            "21\n",
            "22\n",
            "23\n",
            "24\n",
            "25\n",
            "26\n",
            "27\n",
            "28\n",
            "29\n",
            "30\n",
            "31\n",
            "32\n",
            "33\n",
            "34\n",
            "35\n",
            "36\n",
            "37\n",
            "38\n",
            "39\n",
            "40\n",
            "41\n",
            "42\n",
            "43\n",
            "44\n",
            "45\n",
            "46\n",
            "47\n",
            "48\n",
            "49\n",
            "50\n",
            "51\n",
            "52\n",
            "53\n",
            "54\n",
            "55\n",
            "56\n",
            "57\n",
            "58\n",
            "59\n",
            "60\n",
            "61\n",
            "62\n",
            "63\n",
            "64\n",
            "65\n",
            "66\n",
            "67\n",
            "68\n",
            "69\n",
            "70\n",
            "71\n",
            "72\n",
            "73\n",
            "74\n",
            "75\n",
            "76\n",
            "77\n",
            "78\n",
            "79\n",
            "80\n",
            "81\n",
            "82\n",
            "83\n",
            "84\n",
            "85\n",
            "86\n",
            "87\n",
            "88\n",
            "89\n",
            "90\n",
            "91\n",
            "92\n",
            "93\n",
            "94\n",
            "95\n",
            "96\n",
            "97\n",
            "98\n",
            "99\n",
            "100\n",
            "101\n",
            "102\n",
            "103\n",
            "104\n",
            "105\n",
            "106\n",
            "107\n",
            "108\n",
            "109\n",
            "110\n",
            "111\n",
            "112\n",
            "113\n",
            "114\n",
            "115\n",
            "116\n",
            "117\n",
            "118\n",
            "119\n",
            "120\n",
            "121\n",
            "122\n",
            "123\n",
            "124\n",
            "125\n",
            "126\n",
            "127\n",
            "128\n",
            "129\n",
            "130\n",
            "131\n",
            "132\n",
            "133\n",
            "134\n",
            "135\n",
            "136\n",
            "137\n",
            "138\n",
            "139\n",
            "140\n",
            "141\n",
            "142\n",
            "143\n",
            "144\n",
            "145\n",
            "146\n",
            "147\n",
            "148\n",
            "149\n",
            "150\n",
            "151\n",
            "152\n",
            "153\n",
            "154\n",
            "155\n",
            "156\n",
            "157\n",
            "158\n",
            "159\n",
            "160\n",
            "161\n",
            "162\n",
            "163\n",
            "164\n",
            "165\n",
            "166\n",
            "167\n",
            "168\n",
            "169\n",
            "170\n",
            "171\n",
            "172\n",
            "173\n",
            "174\n",
            "175\n",
            "176\n",
            "177\n",
            "178\n",
            "179\n",
            "180\n",
            "181\n",
            "182\n",
            "183\n",
            "184\n",
            "Train loss: 0.11397734880447388\n",
            "Train accuracy: 0.9662247610797294\n",
            " Training is completed\n",
            "Running Validation... \n"
          ],
          "name": "stdout"
        },
        {
          "output_type": "stream",
          "text": [
            "\n",
            "EPOCH: 100%|██████████| 3/3 [04:38<00:00, 92.67s/it]"
          ],
          "name": "stderr"
        },
        {
          "output_type": "stream",
          "text": [
            "Validation loss: 0.22994692727357527\n",
            "Validation Accuracy: 0.9348400447671378\n",
            "Classification Report:\n",
            "               precision    recall  f1-score   support\n",
            "\n",
            "        B-AE       0.82      0.85      0.84      2494\n",
            "      B-DRUG       0.86      0.94      0.90       602\n",
            "        E-AE       0.84      0.90      0.87      2500\n",
            "      E-DRUG       0.89      0.92      0.90       573\n",
            "        I-AE       0.76      0.79      0.77      1860\n",
            "      I-DRUG       0.97      0.73      0.83       262\n",
            "           O       0.97      0.95      0.96     27138\n",
            "        S-AE       0.91      0.88      0.89      2322\n",
            "      S-DRUG       0.94      0.98      0.96      5201\n",
            "\n",
            "    accuracy                           0.93     42952\n",
            "   macro avg       0.88      0.88      0.88     42952\n",
            "weighted avg       0.94      0.93      0.93     42952\n",
            "\n",
            "Confusion Matrix:\n",
            " \tB-AE B-DRUG E-AE E-DRUG I-AE I-DRUG O S-AE S-DRUG\n",
            "B-AE\t[2128    4    0    0  169    0  170   12   11]\n",
            "B-DRUG\t[  5 567   0   0   0   1  15   0  14]\n",
            "E-AE\t[   0    0 2245    1   61    0  123   66    4]\n",
            "E-DRUG\t[  0   0   1 526   2   1  19   0  24]\n",
            "I-AE\t[  85    6   55    8 1467    0  236    3    0]\n",
            "I-DRUG\t[  0  24   0  19   1 191  26   0   1]\n",
            "O\t[  342    37   229    28   226     3 25872   117   284]\n",
            "S-AE\t[  31    0  158    0    3    0   87 2040    3]\n",
            "S-DRUG\t[   0   25    0   10    0    0   68    0 5098]\n"
          ],
          "name": "stdout"
        },
        {
          "output_type": "stream",
          "text": [
            "\n"
          ],
          "name": "stderr"
        }
      ]
    },
    {
      "cell_type": "code",
      "metadata": {
        "id": "YKIBZoijbUhU"
      },
      "source": [
        "test_sentence=\"A 44-year-old man taking naproxen for chronic low back pain and a 20-year-old woman on oxaprozin for rheumatoid arthritis presented with tense bullae and cutaneous fragility on the face and the back of the hands.\"\n",
        "\n",
        "\n",
        "\n",
        "\n"
      ],
      "execution_count": 58,
      "outputs": []
    },
    {
      "cell_type": "code",
      "metadata": {
        "id": "6KE7GNcZNpDD"
      },
      "source": [
        "#Check for tokenizer - biobert\n",
        "def evaluate1(test_sentence):\n",
        "  tokenized_sentence=tokenizer.encode(test_sentence)\n",
        "  #conver to tensor format\n",
        "  input_ids = torch.tensor([tokenized_sentence])\n",
        "  input_ids=input_ids.cuda()\n",
        "  print(input_ids)\n",
        "  #run the sentence through the model\n",
        "  with torch.no_grad():\n",
        "    output=model2(input_ids)\n",
        "  label_indices=torch.argmax(output[0],axis=2)\n",
        "  tokens=tokenizer.convert_ids_to_tokens(input_ids[0])\n",
        "  tags=['O','B-AE','I-AE','E-AE','S-AE','B-DRUG','I-DRUG','E-DRUG','S-DRUG','PAD']\n",
        "  new_token,new_labels=[],[]\n",
        "  for token,label_idx in zip(tokens,label_indices[0]):\n",
        "  #print(token)\n",
        "  #print(tags[label_idx])\n",
        "    if token.startswith(\"##\"):\n",
        "    #add at the end\n",
        "      new_token[-1]=new_token[-1]+token[2:]\n",
        "    else:\n",
        "    #if its not special token\n",
        "      new_labels.append(tags[label_idx])\n",
        "      new_token.append(token)\n",
        "  for token,label in zip(new_token,new_labels):\n",
        "    print(\"{}\\t{}\".format(token,label))   "
      ],
      "execution_count": 56,
      "outputs": []
    },
    {
      "cell_type": "code",
      "metadata": {
        "colab": {
          "base_uri": "https://localhost:8080/"
        },
        "id": "cZbuYdYiN-F1",
        "outputId": "4de1b783-6fb3-427b-b175-a9c91cbf0ba9"
      },
      "source": [
        "evaluate1(test_sentence)"
      ],
      "execution_count": 59,
      "outputs": [
        {
          "output_type": "stream",
          "text": [
            "tensor([[  101,   138,  3140,   118,  1214,   118,  1385,  1299,  1781, 22956,\n",
            "          2180, 25926,  1111, 13306,  1822,  1171,  2489,  1105,   170,  1406,\n",
            "           118,  1214,   118,  1385,  1590,  1113,   184, 20192,  1643,  2180,\n",
            "         17817,  1111,   187,  4638, 10161,  2430,  2386,  1893,  8167, 10721,\n",
            "          2756,  1114,  8901, 12200,  5024,  1105,  2195, 13064,   175, 20484,\n",
            "         13378,  1113,  1103,  1339,  1105,  1103,  1171,  1104,  1103,  1493,\n",
            "           119,   102]], device='cuda:0')\n",
            "[CLS]\tO\n",
            "A\tO\n",
            "44\tO\n",
            "-\tO\n",
            "year\tO\n",
            "-\tO\n",
            "old\tO\n",
            "man\tO\n",
            "taking\tO\n",
            "naproxen\tS-DRUG\n",
            "for\tO\n",
            "chronic\tO\n",
            "low\tO\n",
            "back\tO\n",
            "pain\tO\n",
            "and\tO\n",
            "a\tO\n",
            "20\tO\n",
            "-\tO\n",
            "year\tO\n",
            "-\tO\n",
            "old\tO\n",
            "woman\tO\n",
            "on\tO\n",
            "oxaprozin\tS-DRUG\n",
            "for\tO\n",
            "rheumatoid\tO\n",
            "arthritis\tO\n",
            "presented\tO\n",
            "with\tO\n",
            "tense\tO\n",
            "bullae\tE-AE\n",
            "and\tO\n",
            "cutaneous\tB-AE\n",
            "fragility\tE-AE\n",
            "on\tO\n",
            "the\tO\n",
            "face\tO\n",
            "and\tO\n",
            "the\tO\n",
            "back\tO\n",
            "of\tO\n",
            "the\tO\n",
            "hands\tO\n",
            ".\tO\n",
            "[SEP]\tO\n"
          ],
          "name": "stdout"
        }
      ]
    },
    {
      "cell_type": "code",
      "metadata": {
        "id": "LNkzO5kGO7kB"
      },
      "source": [
        "model2.save_pretrained('/content/drive/MyDrive/NLP/ADE/Model-Dec7')"
      ],
      "execution_count": null,
      "outputs": []
    },
    {
      "cell_type": "code",
      "metadata": {
        "colab": {
          "base_uri": "https://localhost:8080/"
        },
        "id": "SxItxUXPPMJC",
        "outputId": "435476f6-1aad-4e5f-a291-d30849265ed7"
      },
      "source": [
        "tokenizer.save_pretrained('/content/drive/MyDrive/NLP/ADE/Model-Dec7')"
      ],
      "execution_count": null,
      "outputs": [
        {
          "output_type": "execute_result",
          "data": {
            "text/plain": [
              "('/content/drive/MyDrive/NLP/ADE/Model-Dec7/tokenizer_config.json',\n",
              " '/content/drive/MyDrive/NLP/ADE/Model-Dec7/special_tokens_map.json',\n",
              " '/content/drive/MyDrive/NLP/ADE/Model-Dec7/vocab.txt',\n",
              " '/content/drive/MyDrive/NLP/ADE/Model-Dec7/added_tokens.json')"
            ]
          },
          "metadata": {
            "tags": []
          },
          "execution_count": 107
        }
      ]
    },
    {
      "cell_type": "code",
      "metadata": {
        "id": "V-5kCsfaPXqo"
      },
      "source": [
        "tags=['O','B-AE','I-AE','PAD']"
      ],
      "execution_count": null,
      "outputs": []
    },
    {
      "cell_type": "code",
      "metadata": {
        "colab": {
          "base_uri": "https://localhost:8080/"
        },
        "id": "_IxReX-DPSNp",
        "outputId": "1c441095-0a95-477b-de9c-7f5262acfe8d"
      },
      "source": [
        "label_map = {i : label for i, label in enumerate(tags,1)}\n",
        "print(label_map)"
      ],
      "execution_count": null,
      "outputs": [
        {
          "output_type": "stream",
          "text": [
            "{1: 'O', 2: 'B-AE', 3: 'I-AE', 4: 'PAD'}\n"
          ],
          "name": "stdout"
        }
      ]
    },
    {
      "cell_type": "code",
      "metadata": {
        "colab": {
          "base_uri": "https://localhost:8080/"
        },
        "id": "j2U0jgblPbM0",
        "outputId": "025df29d-9956-476b-9e22-11b30fd4ff8b"
      },
      "source": [
        "print(len(label_map))"
      ],
      "execution_count": null,
      "outputs": [
        {
          "output_type": "stream",
          "text": [
            "4\n"
          ],
          "name": "stdout"
        }
      ]
    },
    {
      "cell_type": "code",
      "metadata": {
        "id": "ZwXCJ6KUPdXE"
      },
      "source": [
        "bert_model='dmis-lab/biobert-v1.1'"
      ],
      "execution_count": null,
      "outputs": []
    },
    {
      "cell_type": "code",
      "metadata": {
        "id": "llxQo3cMPgP3"
      },
      "source": [
        "import json"
      ],
      "execution_count": null,
      "outputs": []
    },
    {
      "cell_type": "code",
      "metadata": {
        "id": "0UCT5WGdPigX"
      },
      "source": [
        "label_map = {i : label for i, label in enumerate(tags,1)}\n",
        "model_config={\"bert_model\":bert_model,\"max_seq_length\":128,\"num_labels\":len(label_map),\"label_map\":label_map}"
      ],
      "execution_count": null,
      "outputs": []
    },
    {
      "cell_type": "code",
      "metadata": {
        "id": "IPatHEW3Pk9_",
        "colab": {
          "base_uri": "https://localhost:8080/"
        },
        "outputId": "77c3f770-db4c-41b7-baae-db18406c7aa5"
      },
      "source": [
        "model_config"
      ],
      "execution_count": null,
      "outputs": [
        {
          "output_type": "execute_result",
          "data": {
            "text/plain": [
              "{'bert_model': 'dmis-lab/biobert-v1.1',\n",
              " 'label_map': {1: 'O', 2: 'B-AE', 3: 'I-AE', 4: 'PAD'},\n",
              " 'max_seq_length': 128,\n",
              " 'num_labels': 4}"
            ]
          },
          "metadata": {
            "tags": []
          },
          "execution_count": 115
        }
      ]
    },
    {
      "cell_type": "code",
      "metadata": {
        "id": "s0PKUdJMPnaP"
      },
      "source": [
        "json.dump(model_config,open(os.path.join('/content/drive/MyDrive/NLP/ADE/Model-Dec7',\"model_config.json\"),\"w\"))"
      ],
      "execution_count": null,
      "outputs": []
    }
  ]
}