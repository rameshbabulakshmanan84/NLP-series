{
 "cells": [
  {
   "cell_type": "code",
   "execution_count": null,
   "metadata": {},
   "outputs": [],
   "source": [
    "#We will use this to extract the top n grams and the count"
   ]
  },
  {
   "cell_type": "code",
   "execution_count": 42,
   "metadata": {},
   "outputs": [],
   "source": [
    "#Doc to extract the details from\n",
    "cat_in_the_hat_docs=[\n",
    "       \"One Cent, Two Cents, Old Cent, New Cent: All About Money (Cat in the Hat's Learning Library\",\n",
    "       \"Inside Your Outside: All About the Human Body (Cat in the Hat's Learning Library)\",\n",
    "       \"Oh, The Things You Can Do That Are Good for You: All About Staying Healthy (Cat in the Hat's Learning Library)\",\n",
    "       \"On Beyond Bugs: All About Insects (Cat in the Hat's Learning Library)\",\n",
    "       \"There's No Place Like Space: All About Our Solar System (Cat in the Hat's Learning Library)\" \n",
    "      ]"
   ]
  },
  {
   "cell_type": "code",
   "execution_count": 43,
   "metadata": {},
   "outputs": [],
   "source": [
    "from sklearn.feature_extraction.text import CountVectorizer\n",
    "cv=CountVectorizer(cat_in_the_hat_docs,ngram_range=(1,2),max_features=100)\n",
    "CountVector=cv.fit_transform(cat_in_the_hat_docs)"
   ]
  },
  {
   "cell_type": "code",
   "execution_count": 44,
   "metadata": {},
   "outputs": [
    {
     "data": {
      "text/plain": [
       "{'about': 0,\n",
       " 'about insects': 1,\n",
       " 'about money': 2,\n",
       " 'about our': 3,\n",
       " 'about staying': 4,\n",
       " 'about the': 5,\n",
       " 'all': 6,\n",
       " 'all about': 7,\n",
       " 'are': 8,\n",
       " 'are good': 9,\n",
       " 'beyond': 10,\n",
       " 'beyond bugs': 11,\n",
       " 'body': 12,\n",
       " 'body cat': 13,\n",
       " 'bugs': 14,\n",
       " 'bugs all': 15,\n",
       " 'can': 16,\n",
       " 'can do': 17,\n",
       " 'cat': 18,\n",
       " 'cat in': 19,\n",
       " 'cent': 20,\n",
       " 'cent all': 21,\n",
       " 'cent new': 22,\n",
       " 'cent two': 23,\n",
       " 'cents': 24,\n",
       " 'cents old': 25,\n",
       " 'do': 26,\n",
       " 'do that': 27,\n",
       " 'for': 28,\n",
       " 'for you': 29,\n",
       " 'good': 30,\n",
       " 'good for': 31,\n",
       " 'hat': 32,\n",
       " 'hat learning': 33,\n",
       " 'healthy': 34,\n",
       " 'healthy cat': 35,\n",
       " 'human': 36,\n",
       " 'human body': 37,\n",
       " 'in': 38,\n",
       " 'in the': 39,\n",
       " 'insects': 40,\n",
       " 'insects cat': 41,\n",
       " 'inside': 42,\n",
       " 'inside your': 43,\n",
       " 'learning': 44,\n",
       " 'learning library': 45,\n",
       " 'library': 46,\n",
       " 'like': 47,\n",
       " 'like space': 48,\n",
       " 'money': 49,\n",
       " 'money cat': 50,\n",
       " 'new': 51,\n",
       " 'new cent': 52,\n",
       " 'no': 53,\n",
       " 'no place': 54,\n",
       " 'oh': 55,\n",
       " 'oh the': 56,\n",
       " 'old': 57,\n",
       " 'old cent': 58,\n",
       " 'on': 59,\n",
       " 'on beyond': 60,\n",
       " 'one': 61,\n",
       " 'one cent': 62,\n",
       " 'our': 63,\n",
       " 'our solar': 64,\n",
       " 'outside': 65,\n",
       " 'outside all': 66,\n",
       " 'place': 67,\n",
       " 'place like': 68,\n",
       " 'solar': 69,\n",
       " 'solar system': 70,\n",
       " 'space': 71,\n",
       " 'space all': 72,\n",
       " 'staying': 73,\n",
       " 'staying healthy': 74,\n",
       " 'system': 75,\n",
       " 'system cat': 76,\n",
       " 'that': 77,\n",
       " 'that are': 78,\n",
       " 'the': 79,\n",
       " 'the hat': 80,\n",
       " 'the human': 81,\n",
       " 'the things': 82,\n",
       " 'there': 83,\n",
       " 'there no': 84,\n",
       " 'things': 85,\n",
       " 'things you': 86,\n",
       " 'two': 87,\n",
       " 'two cents': 88,\n",
       " 'you': 89,\n",
       " 'you all': 90,\n",
       " 'you can': 91,\n",
       " 'your': 92,\n",
       " 'your outside': 93}"
      ]
     },
     "execution_count": 44,
     "metadata": {},
     "output_type": "execute_result"
    }
   ],
   "source": [
    "cv.vocabulary_"
   ]
  },
  {
   "cell_type": "code",
   "execution_count": 45,
   "metadata": {},
   "outputs": [
    {
     "name": "stdout",
     "output_type": "stream",
     "text": [
      "  (0, 61)\t1\n",
      "  (0, 20)\t3\n",
      "  (0, 87)\t1\n",
      "  (0, 24)\t1\n",
      "  (0, 57)\t1\n",
      "  (0, 51)\t1\n",
      "  (0, 6)\t1\n",
      "  (0, 0)\t1\n",
      "  (0, 49)\t1\n",
      "  (0, 18)\t1\n",
      "  (0, 38)\t1\n",
      "  (0, 79)\t1\n",
      "  (0, 32)\t1\n",
      "  (0, 44)\t1\n",
      "  (0, 46)\t1\n",
      "  (0, 62)\t1\n",
      "  (0, 23)\t1\n",
      "  (0, 88)\t1\n",
      "  (0, 25)\t1\n",
      "  (0, 58)\t1\n",
      "  (0, 22)\t1\n",
      "  (0, 52)\t1\n",
      "  (0, 21)\t1\n",
      "  (0, 7)\t1\n",
      "  (0, 2)\t1\n",
      "  :\t:\n",
      "  (4, 44)\t1\n",
      "  (4, 46)\t1\n",
      "  (4, 7)\t1\n",
      "  (4, 19)\t1\n",
      "  (4, 39)\t1\n",
      "  (4, 80)\t1\n",
      "  (4, 33)\t1\n",
      "  (4, 45)\t1\n",
      "  (4, 83)\t1\n",
      "  (4, 53)\t1\n",
      "  (4, 67)\t1\n",
      "  (4, 47)\t1\n",
      "  (4, 71)\t1\n",
      "  (4, 63)\t1\n",
      "  (4, 69)\t1\n",
      "  (4, 75)\t1\n",
      "  (4, 84)\t1\n",
      "  (4, 54)\t1\n",
      "  (4, 68)\t1\n",
      "  (4, 48)\t1\n",
      "  (4, 72)\t1\n",
      "  (4, 3)\t1\n",
      "  (4, 64)\t1\n",
      "  (4, 70)\t1\n",
      "  (4, 76)\t1\n"
     ]
    }
   ],
   "source": [
    "#ritn the count_vector\n",
    "print(CountVector)"
   ]
  },
  {
   "cell_type": "code",
   "execution_count": null,
   "metadata": {},
   "outputs": [],
   "source": []
  },
  {
   "cell_type": "code",
   "execution_count": 46,
   "metadata": {},
   "outputs": [],
   "source": [
    "#access the cout vector using.coo\n",
    "x=CountVector.tocoo()"
   ]
  },
  {
   "cell_type": "code",
   "execution_count": 47,
   "metadata": {},
   "outputs": [
    {
     "name": "stdout",
     "output_type": "stream",
     "text": [
      "row data [0 0 0 0 0 0 0 0 0 0 0 0 0 0 0 0 0 0 0 0 0 0 0 0 0 0 0 0 0 0 0 1 1 1 1 1 1\n",
      " 1 1 1 1 1 1 1 1 1 1 1 1 1 1 1 1 1 1 1 1 2 2 2 2 2 2 2 2 2 2 2 2 2 2 2 2 2\n",
      " 2 2 2 2 2 2 2 2 2 2 2 2 2 2 2 2 2 2 2 2 2 2 3 3 3 3 3 3 3 3 3 3 3 3 3 3 3\n",
      " 3 3 3 3 3 3 3 3 4 4 4 4 4 4 4 4 4 4 4 4 4 4 4 4 4 4 4 4 4 4 4 4 4 4 4 4 4\n",
      " 4 4]\n",
      "column data [61 20 87 24 57 51  6  0 49 18 38 79 32 44 46 62 23 88 25 58 22 52 21  7\n",
      "  2 50 19 39 80 33 45  6  0 18 38 79 32 44 46  7 19 39 80 33 45 42 92 65\n",
      " 36 12 43 93 66  5 81 37 13  6  0 18 38 79 32 44 46  7 19 39 80 33 45 55\n",
      " 85 89 16 26 77  8 30 28 73 34 56 82 86 91 17 27 78  9 31 29 90  4 74 35\n",
      "  6  0 18 38 79 32 44 46  7 19 39 80 33 45 59 10 14 40 60 11 15  1 41  6\n",
      "  0 18 38 79 32 44 46  7 19 39 80 33 45 83 53 67 47 71 63 69 75 84 54 68\n",
      " 48 72  3 64 70 76]\n",
      "data [1 3 1 1 1 1 1 1 1 1 1 1 1 1 1 1 1 1 1 1 1 1 1 1 1 1 1 1 1 1 1 1 1 1 1 2 1\n",
      " 1 1 1 1 1 1 1 1 1 1 1 1 1 1 1 1 1 1 1 1 1 1 1 1 2 1 1 1 1 1 1 1 1 1 1 1 2\n",
      " 1 1 1 1 1 1 1 1 1 1 1 1 1 1 1 1 1 1 1 1 1 1 1 1 1 1 1 1 1 1 1 1 1 1 1 1 1\n",
      " 1 1 1 1 1 1 1 1 1 1 1 1 1 1 1 1 1 1 1 1 1 1 1 1 1 1 1 1 1 1 1 1 1 1 1 1 1\n",
      " 1 1]\n"
     ]
    }
   ],
   "source": [
    "#prnt the row, col and data\n",
    "print(\"row data\",x.row)\n",
    "print(\"column data\",x.col)\n",
    "print(\"data\",x.data)\n"
   ]
  },
  {
   "cell_type": "code",
   "execution_count": 48,
   "metadata": {},
   "outputs": [],
   "source": [
    "#collate and sort the data\n",
    "tuple_data=zip(x.col,x.data)\n",
    "sorted_data=sorted(tuple_data,key=lambda x:x[1],reverse=True)\n",
    "sorted_data =sorted_data[:10]"
   ]
  },
  {
   "cell_type": "code",
   "execution_count": 49,
   "metadata": {},
   "outputs": [
    {
     "data": {
      "text/plain": [
       "[(20, 3),\n",
       " (79, 2),\n",
       " (79, 2),\n",
       " (89, 2),\n",
       " (61, 1),\n",
       " (87, 1),\n",
       " (24, 1),\n",
       " (57, 1),\n",
       " (51, 1),\n",
       " (6, 1)]"
      ]
     },
     "execution_count": 49,
     "metadata": {},
     "output_type": "execute_result"
    }
   ],
   "source": [
    "sorted_data"
   ]
  },
  {
   "cell_type": "code",
   "execution_count": 50,
   "metadata": {},
   "outputs": [],
   "source": [
    "feature_names=cv.get_feature_names()"
   ]
  },
  {
   "cell_type": "code",
   "execution_count": 51,
   "metadata": {},
   "outputs": [
    {
     "name": "stdout",
     "output_type": "stream",
     "text": [
      "[('cent', 3), ('the', 2), ('the', 2), ('you', 2), ('one', 1), ('two', 1), ('cents', 1), ('old', 1), ('new', 1), ('all', 1)]\n"
     ]
    }
   ],
   "source": [
    "#Extract the top features\n",
    "results=[]\n",
    "for i,count in sorted_data:\n",
    "    #print(i,count)\n",
    "    n_gram=feature_names[i]\n",
    "    results.append((n_gram,count))\n",
    "print(results)"
   ]
  },
  {
   "cell_type": "code",
   "execution_count": null,
   "metadata": {},
   "outputs": [],
   "source": []
  },
  {
   "cell_type": "code",
   "execution_count": null,
   "metadata": {},
   "outputs": [],
   "source": []
  },
  {
   "cell_type": "code",
   "execution_count": null,
   "metadata": {},
   "outputs": [],
   "source": []
  },
  {
   "cell_type": "code",
   "execution_count": null,
   "metadata": {},
   "outputs": [],
   "source": []
  }
 ],
 "metadata": {
  "kernelspec": {
   "display_name": "Python 3",
   "language": "python",
   "name": "python3"
  },
  "language_info": {
   "codemirror_mode": {
    "name": "ipython",
    "version": 3
   },
   "file_extension": ".py",
   "mimetype": "text/x-python",
   "name": "python",
   "nbconvert_exporter": "python",
   "pygments_lexer": "ipython3",
   "version": "3.6.4"
  }
 },
 "nbformat": 4,
 "nbformat_minor": 2
}
