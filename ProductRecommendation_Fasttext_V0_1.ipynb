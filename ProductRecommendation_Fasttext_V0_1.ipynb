{
  "nbformat": 4,
  "nbformat_minor": 0,
  "metadata": {
    "kernelspec": {
      "display_name": "Python 3",
      "language": "python",
      "name": "python3"
    },
    "language_info": {
      "codemirror_mode": {
        "name": "ipython",
        "version": 3
      },
      "file_extension": ".py",
      "mimetype": "text/x-python",
      "name": "python",
      "nbconvert_exporter": "python",
      "pygments_lexer": "ipython3",
      "version": "3.6.4"
    },
    "colab": {
      "name": "ProductRecommendation -Fasttext_V0.1.ipynb",
      "provenance": [],
      "collapsed_sections": [],
      "include_colab_link": true
    }
  },
  "cells": [
    {
      "cell_type": "markdown",
      "metadata": {
        "id": "view-in-github",
        "colab_type": "text"
      },
      "source": [
        "<a href=\"https://colab.research.google.com/github/rameshbabulakshmanan84/NLP-series/blob/master/ProductRecommendation_Fasttext_V0_1.ipynb\" target=\"_parent\"><img src=\"https://colab.research.google.com/assets/colab-badge.svg\" alt=\"Open In Colab\"/></a>"
      ]
    },
    {
      "cell_type": "code",
      "metadata": {
        "id": "j1aaePdTR_WX",
        "colab_type": "code",
        "colab": {}
      },
      "source": [
        "#Import the libraries\n",
        "import pandas as pd\n",
        "import os\n",
        "import gensim"
      ],
      "execution_count": 30,
      "outputs": []
    },
    {
      "cell_type": "code",
      "metadata": {
        "id": "8B2_AiwEbZ7y",
        "colab_type": "code",
        "colab": {
          "base_uri": "https://localhost:8080/",
          "height": 122
        },
        "outputId": "29dfbbfc-cee9-4867-9474-9f5290ddd93e"
      },
      "source": [
        "from google.colab import drive\n",
        "drive.mount('/content/drive')"
      ],
      "execution_count": 31,
      "outputs": [
        {
          "output_type": "stream",
          "text": [
            "Go to this URL in a browser: https://accounts.google.com/o/oauth2/auth?client_id=947318989803-6bn6qk8qdgf4n4g3pfee6491hc0brc4i.apps.googleusercontent.com&redirect_uri=urn%3aietf%3awg%3aoauth%3a2.0%3aoob&response_type=code&scope=email%20https%3a%2f%2fwww.googleapis.com%2fauth%2fdocs.test%20https%3a%2f%2fwww.googleapis.com%2fauth%2fdrive%20https%3a%2f%2fwww.googleapis.com%2fauth%2fdrive.photos.readonly%20https%3a%2f%2fwww.googleapis.com%2fauth%2fpeopleapi.readonly\n",
            "\n",
            "Enter your authorization code:\n",
            "··········\n",
            "Mounted at /content/drive\n"
          ],
          "name": "stdout"
        }
      ]
    },
    {
      "cell_type": "code",
      "metadata": {
        "id": "QffxuD1KR_Wd",
        "colab_type": "code",
        "colab": {}
      },
      "source": [
        "import matplotlib.pyplot as plt\n",
        "%matplotlib inline\n",
        "import warnings;\n",
        "warnings.filterwarnings('ignore')"
      ],
      "execution_count": 32,
      "outputs": []
    },
    {
      "cell_type": "code",
      "metadata": {
        "id": "Wu8EyLAGR_Wl",
        "colab_type": "code",
        "colab": {
          "base_uri": "https://localhost:8080/",
          "height": 34
        },
        "outputId": "5a126a00-1887-4236-c91b-a2b9c030e5ff"
      },
      "source": [
        "print(os.getcwd())"
      ],
      "execution_count": 33,
      "outputs": [
        {
          "output_type": "stream",
          "text": [
            "/content\n"
          ],
          "name": "stdout"
        }
      ]
    },
    {
      "cell_type": "code",
      "metadata": {
        "id": "KGEdIzx6Wjrt",
        "colab_type": "code",
        "colab": {}
      },
      "source": [
        "df=pd.read_excel(\"/content/drive/My Drive/Online Retail.xlsx\")"
      ],
      "execution_count": 34,
      "outputs": []
    },
    {
      "cell_type": "code",
      "metadata": {
        "id": "dT0qN7-PR_W2",
        "colab_type": "code",
        "colab": {
          "base_uri": "https://localhost:8080/",
          "height": 204
        },
        "outputId": "a1855316-7857-4706-d17d-ced3e66b4d5e"
      },
      "source": [
        "df.head()"
      ],
      "execution_count": 35,
      "outputs": [
        {
          "output_type": "execute_result",
          "data": {
            "text/html": [
              "<div>\n",
              "<style scoped>\n",
              "    .dataframe tbody tr th:only-of-type {\n",
              "        vertical-align: middle;\n",
              "    }\n",
              "\n",
              "    .dataframe tbody tr th {\n",
              "        vertical-align: top;\n",
              "    }\n",
              "\n",
              "    .dataframe thead th {\n",
              "        text-align: right;\n",
              "    }\n",
              "</style>\n",
              "<table border=\"1\" class=\"dataframe\">\n",
              "  <thead>\n",
              "    <tr style=\"text-align: right;\">\n",
              "      <th></th>\n",
              "      <th>InvoiceNo</th>\n",
              "      <th>StockCode</th>\n",
              "      <th>Description</th>\n",
              "      <th>Quantity</th>\n",
              "      <th>InvoiceDate</th>\n",
              "      <th>UnitPrice</th>\n",
              "      <th>CustomerID</th>\n",
              "      <th>Country</th>\n",
              "    </tr>\n",
              "  </thead>\n",
              "  <tbody>\n",
              "    <tr>\n",
              "      <th>0</th>\n",
              "      <td>536365</td>\n",
              "      <td>85123A</td>\n",
              "      <td>WHITE HANGING HEART T-LIGHT HOLDER</td>\n",
              "      <td>6</td>\n",
              "      <td>2010-12-01 08:26:00</td>\n",
              "      <td>2.55</td>\n",
              "      <td>17850.0</td>\n",
              "      <td>United Kingdom</td>\n",
              "    </tr>\n",
              "    <tr>\n",
              "      <th>1</th>\n",
              "      <td>536365</td>\n",
              "      <td>71053</td>\n",
              "      <td>WHITE METAL LANTERN</td>\n",
              "      <td>6</td>\n",
              "      <td>2010-12-01 08:26:00</td>\n",
              "      <td>3.39</td>\n",
              "      <td>17850.0</td>\n",
              "      <td>United Kingdom</td>\n",
              "    </tr>\n",
              "    <tr>\n",
              "      <th>2</th>\n",
              "      <td>536365</td>\n",
              "      <td>84406B</td>\n",
              "      <td>CREAM CUPID HEARTS COAT HANGER</td>\n",
              "      <td>8</td>\n",
              "      <td>2010-12-01 08:26:00</td>\n",
              "      <td>2.75</td>\n",
              "      <td>17850.0</td>\n",
              "      <td>United Kingdom</td>\n",
              "    </tr>\n",
              "    <tr>\n",
              "      <th>3</th>\n",
              "      <td>536365</td>\n",
              "      <td>84029G</td>\n",
              "      <td>KNITTED UNION FLAG HOT WATER BOTTLE</td>\n",
              "      <td>6</td>\n",
              "      <td>2010-12-01 08:26:00</td>\n",
              "      <td>3.39</td>\n",
              "      <td>17850.0</td>\n",
              "      <td>United Kingdom</td>\n",
              "    </tr>\n",
              "    <tr>\n",
              "      <th>4</th>\n",
              "      <td>536365</td>\n",
              "      <td>84029E</td>\n",
              "      <td>RED WOOLLY HOTTIE WHITE HEART.</td>\n",
              "      <td>6</td>\n",
              "      <td>2010-12-01 08:26:00</td>\n",
              "      <td>3.39</td>\n",
              "      <td>17850.0</td>\n",
              "      <td>United Kingdom</td>\n",
              "    </tr>\n",
              "  </tbody>\n",
              "</table>\n",
              "</div>"
            ],
            "text/plain": [
              "  InvoiceNo StockCode  ... CustomerID         Country\n",
              "0    536365    85123A  ...    17850.0  United Kingdom\n",
              "1    536365     71053  ...    17850.0  United Kingdom\n",
              "2    536365    84406B  ...    17850.0  United Kingdom\n",
              "3    536365    84029G  ...    17850.0  United Kingdom\n",
              "4    536365    84029E  ...    17850.0  United Kingdom\n",
              "\n",
              "[5 rows x 8 columns]"
            ]
          },
          "metadata": {
            "tags": []
          },
          "execution_count": 35
        }
      ]
    },
    {
      "cell_type": "code",
      "metadata": {
        "id": "Mol6chcMR_W8",
        "colab_type": "code",
        "colab": {
          "base_uri": "https://localhost:8080/",
          "height": 34
        },
        "outputId": "1c10eaf9-eda8-4636-9a44-e47365ba9e8a"
      },
      "source": [
        "df.shape"
      ],
      "execution_count": 36,
      "outputs": [
        {
          "output_type": "execute_result",
          "data": {
            "text/plain": [
              "(541909, 8)"
            ]
          },
          "metadata": {
            "tags": []
          },
          "execution_count": 36
        }
      ]
    },
    {
      "cell_type": "code",
      "metadata": {
        "id": "oUjYklZuR_XB",
        "colab_type": "code",
        "colab": {
          "base_uri": "https://localhost:8080/",
          "height": 170
        },
        "outputId": "7e5321a8-1267-4c3d-fa49-1b2d3ae0c0f8"
      },
      "source": [
        "#preprocessing\n",
        "df.isnull().sum()"
      ],
      "execution_count": 37,
      "outputs": [
        {
          "output_type": "execute_result",
          "data": {
            "text/plain": [
              "InvoiceNo           0\n",
              "StockCode           0\n",
              "Description      1454\n",
              "Quantity            0\n",
              "InvoiceDate         0\n",
              "UnitPrice           0\n",
              "CustomerID     135080\n",
              "Country             0\n",
              "dtype: int64"
            ]
          },
          "metadata": {
            "tags": []
          },
          "execution_count": 37
        }
      ]
    },
    {
      "cell_type": "code",
      "metadata": {
        "id": "og0HM1KqR_XF",
        "colab_type": "code",
        "colab": {}
      },
      "source": [
        "#drop the missing rows\n",
        "df.dropna(inplace=True)"
      ],
      "execution_count": 38,
      "outputs": []
    },
    {
      "cell_type": "code",
      "metadata": {
        "id": "-uxf9lvDR_XI",
        "colab_type": "code",
        "colab": {
          "base_uri": "https://localhost:8080/",
          "height": 34
        },
        "outputId": "1f756b40-921f-4ed3-b527-107e751221c6"
      },
      "source": [
        "#Updated after sropping missing values\n",
        "df.shape"
      ],
      "execution_count": 39,
      "outputs": [
        {
          "output_type": "execute_result",
          "data": {
            "text/plain": [
              "(406829, 8)"
            ]
          },
          "metadata": {
            "tags": []
          },
          "execution_count": 39
        }
      ]
    },
    {
      "cell_type": "code",
      "metadata": {
        "id": "1Dw3lK1hR_XM",
        "colab_type": "code",
        "colab": {
          "base_uri": "https://localhost:8080/",
          "height": 34
        },
        "outputId": "74bb7d7b-3604-4555-e6ac-d1c20ef0bf67"
      },
      "source": [
        "#check the unique customers in dataset\n",
        "len(df['CustomerID'].unique())\n",
        "#4372 unique customers are there"
      ],
      "execution_count": 40,
      "outputs": [
        {
          "output_type": "execute_result",
          "data": {
            "text/plain": [
              "4372"
            ]
          },
          "metadata": {
            "tags": []
          },
          "execution_count": 40
        }
      ]
    },
    {
      "cell_type": "code",
      "metadata": {
        "id": "7HLxkxQFR_XP",
        "colab_type": "code",
        "colab": {}
      },
      "source": [
        "df['StockCode']= df['StockCode'].astype(str)"
      ],
      "execution_count": 41,
      "outputs": []
    },
    {
      "cell_type": "code",
      "metadata": {
        "id": "athdzmbvR_XT",
        "colab_type": "code",
        "colab": {
          "base_uri": "https://localhost:8080/",
          "height": 34
        },
        "outputId": "e132b9be-94ad-47ec-aa66-6315593b0f45"
      },
      "source": [
        "#Shuffle customer ids\n",
        "customers=df['CustomerID'].unique().tolist()\n",
        "#length\n",
        "len(customers)"
      ],
      "execution_count": 42,
      "outputs": [
        {
          "output_type": "execute_result",
          "data": {
            "text/plain": [
              "4372"
            ]
          },
          "metadata": {
            "tags": []
          },
          "execution_count": 42
        }
      ]
    },
    {
      "cell_type": "code",
      "metadata": {
        "id": "Dt9_V8y8R_XX",
        "colab_type": "code",
        "colab": {}
      },
      "source": [
        "import random\n",
        "#shuffle customer ids\n",
        "random.shuffle(customers)"
      ],
      "execution_count": 43,
      "outputs": []
    },
    {
      "cell_type": "code",
      "metadata": {
        "id": "kXu0pJgaR_Xd",
        "colab_type": "code",
        "colab": {}
      },
      "source": [
        "#set the training and validation apart\n",
        "#extract 90% of customer ids for training\n",
        "customers_train=[customers[i] for i in range(round(0.9*len(customers)))]"
      ],
      "execution_count": 44,
      "outputs": []
    },
    {
      "cell_type": "code",
      "metadata": {
        "id": "Czww0bdIR_Xi",
        "colab_type": "code",
        "colab": {}
      },
      "source": [
        "#assign train and validatin set\n",
        "#Train set\n",
        "train_df=df[df['CustomerID'].isin(customers_train)]\n",
        "#validation set\n",
        "val_df=df[~df['CustomerID'].isin(customers_train)]"
      ],
      "execution_count": 46,
      "outputs": []
    },
    {
      "cell_type": "code",
      "metadata": {
        "id": "rx6UO-knR_Xn",
        "colab_type": "code",
        "colab": {}
      },
      "source": [
        "#list to create ourchase history\n",
        "# list to capture purchase history of the customers\n",
        "purchases_train = []\n",
        "\n",
        "# populate the list with the product codes\n",
        "for i in customers_train:\n",
        "    temp = train_df[train_df[\"CustomerID\"] == i][\"StockCode\"].tolist()\n",
        "    purchases_train.append(temp)\n"
      ],
      "execution_count": 47,
      "outputs": []
    },
    {
      "cell_type": "code",
      "metadata": {
        "id": "WUcy7kBPR_Xx",
        "colab_type": "code",
        "colab": {}
      },
      "source": [
        "#list to create ourchase history\n",
        "# list to capture purchase history of the customers\n",
        "val_train = []\n",
        "\n",
        "# populate the list with the product codes\n",
        "for i in val_df['CustomerID'].unique():\n",
        "    temp = val_df[val_df[\"CustomerID\"] == i][\"StockCode\"].tolist()\n",
        "    val_train.append(temp)"
      ],
      "execution_count": 48,
      "outputs": []
    },
    {
      "cell_type": "code",
      "metadata": {
        "id": "4Di8v-0nYF7-",
        "colab_type": "code",
        "colab": {
          "base_uri": "https://localhost:8080/",
          "height": 51
        },
        "outputId": "caede8b5-61de-4a06-bc99-5727ad020bff"
      },
      "source": [
        "print(\"Customer purchase training list\",len(purchases_train))\n",
        "print(\"Customers list\",len(customers_train))"
      ],
      "execution_count": 49,
      "outputs": [
        {
          "output_type": "stream",
          "text": [
            "Customer purchase training list 3935\n",
            "Customers list 3935\n"
          ],
          "name": "stdout"
        }
      ]
    },
    {
      "cell_type": "code",
      "metadata": {
        "id": "5KlrqAbGYt0N",
        "colab_type": "code",
        "colab": {
          "base_uri": "https://localhost:8080/",
          "height": 1000
        },
        "outputId": "e03d4fa8-bd87-41b7-b797-c7eff1d6c5fc"
      },
      "source": [
        "#example customer purchase from training list\n",
        "purchases_train[0]"
      ],
      "execution_count": 50,
      "outputs": [
        {
          "output_type": "execute_result",
          "data": {
            "text/plain": [
              "['84879',\n",
              " '22745',\n",
              " '22748',\n",
              " '22749',\n",
              " '22310',\n",
              " '84969',\n",
              " '22623',\n",
              " '22622',\n",
              " '21754',\n",
              " '21755',\n",
              " '21777',\n",
              " '48187',\n",
              " '22960',\n",
              " '22913',\n",
              " '22912',\n",
              " '22914',\n",
              " '21756',\n",
              " '22274',\n",
              " '16161P',\n",
              " '22766',\n",
              " '22708',\n",
              " '23231',\n",
              " '85015',\n",
              " '85016',\n",
              " '22829',\n",
              " '22722',\n",
              " '22960',\n",
              " '22961',\n",
              " '22969',\n",
              " '22720',\n",
              " '22549',\n",
              " '20972',\n",
              " '22743',\n",
              " '84969',\n",
              " '22622',\n",
              " '21658',\n",
              " '21756',\n",
              " '21754',\n",
              " '21755',\n",
              " '48184',\n",
              " '22692',\n",
              " '22748',\n",
              " '22745',\n",
              " '22749',\n",
              " '22960',\n",
              " '22722',\n",
              " '22720',\n",
              " '20972',\n",
              " '22274',\n",
              " '84969',\n",
              " '22623',\n",
              " '22499',\n",
              " '22607',\n",
              " '21658',\n",
              " '47566',\n",
              " '21756',\n",
              " '21754',\n",
              " '21755',\n",
              " '21902',\n",
              " '21901',\n",
              " '21899',\n",
              " '21900',\n",
              " '22077',\n",
              " '85123A',\n",
              " '84969',\n",
              " '21658',\n",
              " '22969',\n",
              " '23152',\n",
              " '23182',\n",
              " '23161',\n",
              " '23160',\n",
              " '23163',\n",
              " '23162',\n",
              " '23164',\n",
              " '23177',\n",
              " '23176',\n",
              " '23006',\n",
              " '22996',\n",
              " '23070',\n",
              " '23126',\n",
              " '23299',\n",
              " '84969',\n",
              " '21658',\n",
              " '22423',\n",
              " '47566',\n",
              " '21621',\n",
              " '21658',\n",
              " '23126',\n",
              " '23092',\n",
              " '23112',\n",
              " '23110',\n",
              " '23111',\n",
              " '23118',\n",
              " '23093',\n",
              " '23089',\n",
              " '23168',\n",
              " '23236',\n",
              " '23240',\n",
              " '23175',\n",
              " '23173',\n",
              " '23245',\n",
              " '23032',\n",
              " '23031',\n",
              " '23029',\n",
              " '23028',\n",
              " '85053',\n",
              " '22090',\n",
              " '22089',\n",
              " '22088',\n",
              " '85123A',\n",
              " '21755',\n",
              " '47566',\n",
              " '22423',\n",
              " '84969',\n",
              " '23126',\n",
              " '20972',\n",
              " '22720',\n",
              " '23152',\n",
              " '23162',\n",
              " '23163',\n",
              " '23245',\n",
              " '23236',\n",
              " '23110',\n",
              " '23118',\n",
              " '22423',\n",
              " '23028',\n",
              " '22720',\n",
              " '23029',\n",
              " '85123A',\n",
              " '23111',\n",
              " '23112',\n",
              " '22623',\n",
              " '16161P',\n",
              " '21754',\n",
              " '21755',\n",
              " '21901',\n",
              " '21900',\n",
              " '48187',\n",
              " '23112',\n",
              " '23111',\n",
              " '23110',\n",
              " '23093',\n",
              " '23028',\n",
              " '23245',\n",
              " '23240',\n",
              " '23173',\n",
              " '23236',\n",
              " '23182',\n",
              " '23161',\n",
              " '23160',\n",
              " '22960',\n",
              " '23546',\n",
              " '23545',\n",
              " '23231',\n",
              " '22720',\n",
              " '22708',\n",
              " '22986',\n",
              " '23160',\n",
              " '23160',\n",
              " '22739',\n",
              " '23435',\n",
              " '22960',\n",
              " '22722',\n",
              " '22720',\n",
              " '20972',\n",
              " '22621',\n",
              " '48188',\n",
              " '48184',\n",
              " '48187',\n",
              " '23032',\n",
              " '23031',\n",
              " '85053',\n",
              " '23245',\n",
              " '22899',\n",
              " '22367',\n",
              " '23514',\n",
              " '23513',\n",
              " '23511',\n",
              " '23198',\n",
              " '23294',\n",
              " '23295',\n",
              " '23025',\n",
              " '23470',\n",
              " '23397',\n",
              " '23096',\n",
              " '23487',\n",
              " '23109',\n",
              " '23434',\n",
              " '22086',\n",
              " '85049E',\n",
              " '23245',\n",
              " '23198',\n",
              " '23031',\n",
              " '23487',\n",
              " 'M',\n",
              " 'M']"
            ]
          },
          "metadata": {
            "tags": []
          },
          "execution_count": 50
        }
      ]
    },
    {
      "cell_type": "code",
      "metadata": {
        "id": "2I3fR7gEdznu",
        "colab_type": "code",
        "colab": {}
      },
      "source": [
        "#import fasttext \n",
        "from gensim.models import FastText"
      ],
      "execution_count": 51,
      "outputs": []
    },
    {
      "cell_type": "code",
      "metadata": {
        "id": "fMLPYAGqeUIW",
        "colab_type": "code",
        "colab": {}
      },
      "source": [
        "#Call fasttext model with necessary params\n",
        "model_ft = FastText(window = 10,sg = 1,hs = 0,negative = 10,alpha=0.03, min_alpha=0.0007,seed = 14)"
      ],
      "execution_count": 27,
      "outputs": []
    },
    {
      "cell_type": "code",
      "metadata": {
        "id": "7AP3O-fdfE7a",
        "colab_type": "code",
        "colab": {
          "base_uri": "https://localhost:8080/",
          "height": 323
        },
        "outputId": "249d8f34-355a-4c20-8e90-7e7165f8654c"
      },
      "source": [
        "#build vocab using fasttext\n",
        "model_ft.build_vocab(purchases_train, progress_per=200)"
      ],
      "execution_count": 31,
      "outputs": [
        {
          "output_type": "error",
          "ename": "RuntimeError",
          "evalue": "ignored",
          "traceback": [
            "\u001b[0;31m---------------------------------------------------------------------------\u001b[0m",
            "\u001b[0;31mRuntimeError\u001b[0m                              Traceback (most recent call last)",
            "\u001b[0;32m<ipython-input-31-b1de052d1197>\u001b[0m in \u001b[0;36m<module>\u001b[0;34m()\u001b[0m\n\u001b[1;32m      1\u001b[0m \u001b[0;31m#build vocab using fasttext\u001b[0m\u001b[0;34m\u001b[0m\u001b[0;34m\u001b[0m\u001b[0;34m\u001b[0m\u001b[0m\n\u001b[0;32m----> 2\u001b[0;31m \u001b[0mmodel_ft\u001b[0m\u001b[0;34m.\u001b[0m\u001b[0mbuild_vocab\u001b[0m\u001b[0;34m(\u001b[0m\u001b[0mpurchases_train\u001b[0m\u001b[0;34m,\u001b[0m \u001b[0mprogress_per\u001b[0m\u001b[0;34m=\u001b[0m\u001b[0;36m200\u001b[0m\u001b[0;34m)\u001b[0m\u001b[0;34m\u001b[0m\u001b[0;34m\u001b[0m\u001b[0m\n\u001b[0m",
            "\u001b[0;32m/usr/local/lib/python3.6/dist-packages/gensim/models/fasttext.py\u001b[0m in \u001b[0;36mbuild_vocab\u001b[0;34m(self, sentences, corpus_file, update, progress_per, keep_raw_vocab, trim_rule, **kwargs)\u001b[0m\n\u001b[1;32m    505\u001b[0m         return super(FastText, self).build_vocab(\n\u001b[1;32m    506\u001b[0m             \u001b[0msentences\u001b[0m\u001b[0;34m=\u001b[0m\u001b[0msentences\u001b[0m\u001b[0;34m,\u001b[0m \u001b[0mcorpus_file\u001b[0m\u001b[0;34m=\u001b[0m\u001b[0mcorpus_file\u001b[0m\u001b[0;34m,\u001b[0m \u001b[0mupdate\u001b[0m\u001b[0;34m=\u001b[0m\u001b[0mupdate\u001b[0m\u001b[0;34m,\u001b[0m \u001b[0mprogress_per\u001b[0m\u001b[0;34m=\u001b[0m\u001b[0mprogress_per\u001b[0m\u001b[0;34m,\u001b[0m\u001b[0;34m\u001b[0m\u001b[0;34m\u001b[0m\u001b[0m\n\u001b[0;32m--> 507\u001b[0;31m             keep_raw_vocab=keep_raw_vocab, trim_rule=trim_rule, **kwargs)\n\u001b[0m\u001b[1;32m    508\u001b[0m \u001b[0;34m\u001b[0m\u001b[0m\n\u001b[1;32m    509\u001b[0m     \u001b[0;32mdef\u001b[0m \u001b[0m_set_train_params\u001b[0m\u001b[0;34m(\u001b[0m\u001b[0mself\u001b[0m\u001b[0;34m,\u001b[0m \u001b[0;34m**\u001b[0m\u001b[0mkwargs\u001b[0m\u001b[0;34m)\u001b[0m\u001b[0;34m:\u001b[0m\u001b[0;34m\u001b[0m\u001b[0;34m\u001b[0m\u001b[0m\n",
            "\u001b[0;32m/usr/local/lib/python3.6/dist-packages/gensim/models/base_any2vec.py\u001b[0m in \u001b[0;36mbuild_vocab\u001b[0;34m(self, sentences, corpus_file, update, progress_per, keep_raw_vocab, trim_rule, **kwargs)\u001b[0m\n\u001b[1;32m    939\u001b[0m         report_values = self.vocabulary.prepare_vocab(\n\u001b[1;32m    940\u001b[0m             \u001b[0mself\u001b[0m\u001b[0;34m.\u001b[0m\u001b[0mhs\u001b[0m\u001b[0;34m,\u001b[0m \u001b[0mself\u001b[0m\u001b[0;34m.\u001b[0m\u001b[0mnegative\u001b[0m\u001b[0;34m,\u001b[0m \u001b[0mself\u001b[0m\u001b[0;34m.\u001b[0m\u001b[0mwv\u001b[0m\u001b[0;34m,\u001b[0m \u001b[0mupdate\u001b[0m\u001b[0;34m=\u001b[0m\u001b[0mupdate\u001b[0m\u001b[0;34m,\u001b[0m \u001b[0mkeep_raw_vocab\u001b[0m\u001b[0;34m=\u001b[0m\u001b[0mkeep_raw_vocab\u001b[0m\u001b[0;34m,\u001b[0m\u001b[0;34m\u001b[0m\u001b[0;34m\u001b[0m\u001b[0m\n\u001b[0;32m--> 941\u001b[0;31m             trim_rule=trim_rule, **kwargs)\n\u001b[0m\u001b[1;32m    942\u001b[0m         \u001b[0mreport_values\u001b[0m\u001b[0;34m[\u001b[0m\u001b[0;34m'memory'\u001b[0m\u001b[0;34m]\u001b[0m \u001b[0;34m=\u001b[0m \u001b[0mself\u001b[0m\u001b[0;34m.\u001b[0m\u001b[0mestimate_memory\u001b[0m\u001b[0;34m(\u001b[0m\u001b[0mvocab_size\u001b[0m\u001b[0;34m=\u001b[0m\u001b[0mreport_values\u001b[0m\u001b[0;34m[\u001b[0m\u001b[0;34m'num_retained_words'\u001b[0m\u001b[0;34m]\u001b[0m\u001b[0;34m)\u001b[0m\u001b[0;34m\u001b[0m\u001b[0;34m\u001b[0m\u001b[0m\n\u001b[1;32m    943\u001b[0m         \u001b[0mself\u001b[0m\u001b[0;34m.\u001b[0m\u001b[0mtrainables\u001b[0m\u001b[0;34m.\u001b[0m\u001b[0mprepare_weights\u001b[0m\u001b[0;34m(\u001b[0m\u001b[0mself\u001b[0m\u001b[0;34m.\u001b[0m\u001b[0mhs\u001b[0m\u001b[0;34m,\u001b[0m \u001b[0mself\u001b[0m\u001b[0;34m.\u001b[0m\u001b[0mnegative\u001b[0m\u001b[0;34m,\u001b[0m \u001b[0mself\u001b[0m\u001b[0;34m.\u001b[0m\u001b[0mwv\u001b[0m\u001b[0;34m,\u001b[0m \u001b[0mupdate\u001b[0m\u001b[0;34m=\u001b[0m\u001b[0mupdate\u001b[0m\u001b[0;34m,\u001b[0m \u001b[0mvocabulary\u001b[0m\u001b[0;34m=\u001b[0m\u001b[0mself\u001b[0m\u001b[0;34m.\u001b[0m\u001b[0mvocabulary\u001b[0m\u001b[0;34m)\u001b[0m\u001b[0;34m\u001b[0m\u001b[0;34m\u001b[0m\u001b[0m\n",
            "\u001b[0;32m/usr/local/lib/python3.6/dist-packages/gensim/models/fasttext.py\u001b[0m in \u001b[0;36mprepare_vocab\u001b[0;34m(self, hs, negative, wv, update, keep_raw_vocab, trim_rule, min_count, sample, dry_run)\u001b[0m\n\u001b[1;32m    962\u001b[0m         report_values = super(FastTextVocab, self).prepare_vocab(\n\u001b[1;32m    963\u001b[0m             \u001b[0mhs\u001b[0m\u001b[0;34m,\u001b[0m \u001b[0mnegative\u001b[0m\u001b[0;34m,\u001b[0m \u001b[0mwv\u001b[0m\u001b[0;34m,\u001b[0m \u001b[0mupdate\u001b[0m\u001b[0;34m=\u001b[0m\u001b[0mupdate\u001b[0m\u001b[0;34m,\u001b[0m \u001b[0mkeep_raw_vocab\u001b[0m\u001b[0;34m=\u001b[0m\u001b[0mkeep_raw_vocab\u001b[0m\u001b[0;34m,\u001b[0m \u001b[0mtrim_rule\u001b[0m\u001b[0;34m=\u001b[0m\u001b[0mtrim_rule\u001b[0m\u001b[0;34m,\u001b[0m\u001b[0;34m\u001b[0m\u001b[0;34m\u001b[0m\u001b[0m\n\u001b[0;32m--> 964\u001b[0;31m             min_count=min_count, sample=sample, dry_run=dry_run)\n\u001b[0m\u001b[1;32m    965\u001b[0m         \u001b[0;32mreturn\u001b[0m \u001b[0mreport_values\u001b[0m\u001b[0;34m\u001b[0m\u001b[0;34m\u001b[0m\u001b[0m\n\u001b[1;32m    966\u001b[0m \u001b[0;34m\u001b[0m\u001b[0m\n",
            "\u001b[0;32m/usr/local/lib/python3.6/dist-packages/gensim/models/word2vec.py\u001b[0m in \u001b[0;36mprepare_vocab\u001b[0;34m(self, hs, negative, wv, update, keep_raw_vocab, trim_rule, min_count, sample, dry_run)\u001b[0m\n\u001b[1;32m   1734\u001b[0m \u001b[0;34m\u001b[0m\u001b[0m\n\u001b[1;32m   1735\u001b[0m         \u001b[0;32mif\u001b[0m \u001b[0mself\u001b[0m\u001b[0;34m.\u001b[0m\u001b[0msorted_vocab\u001b[0m \u001b[0;32mand\u001b[0m \u001b[0;32mnot\u001b[0m \u001b[0mupdate\u001b[0m\u001b[0;34m:\u001b[0m\u001b[0;34m\u001b[0m\u001b[0;34m\u001b[0m\u001b[0m\n\u001b[0;32m-> 1736\u001b[0;31m             \u001b[0mself\u001b[0m\u001b[0;34m.\u001b[0m\u001b[0msort_vocab\u001b[0m\u001b[0;34m(\u001b[0m\u001b[0mwv\u001b[0m\u001b[0;34m)\u001b[0m\u001b[0;34m\u001b[0m\u001b[0;34m\u001b[0m\u001b[0m\n\u001b[0m\u001b[1;32m   1737\u001b[0m         \u001b[0;32mif\u001b[0m \u001b[0mhs\u001b[0m\u001b[0;34m:\u001b[0m\u001b[0;34m\u001b[0m\u001b[0;34m\u001b[0m\u001b[0m\n\u001b[1;32m   1738\u001b[0m             \u001b[0;31m# add info about each word's Huffman encoding\u001b[0m\u001b[0;34m\u001b[0m\u001b[0;34m\u001b[0m\u001b[0;34m\u001b[0m\u001b[0m\n",
            "\u001b[0;32m/usr/local/lib/python3.6/dist-packages/gensim/models/word2vec.py\u001b[0m in \u001b[0;36msort_vocab\u001b[0;34m(self, wv)\u001b[0m\n\u001b[1;32m   1581\u001b[0m         \u001b[0;34m\"\"\"Sort the vocabulary so the most frequent words have the lowest indexes.\"\"\"\u001b[0m\u001b[0;34m\u001b[0m\u001b[0;34m\u001b[0m\u001b[0m\n\u001b[1;32m   1582\u001b[0m         \u001b[0;32mif\u001b[0m \u001b[0mlen\u001b[0m\u001b[0;34m(\u001b[0m\u001b[0mwv\u001b[0m\u001b[0;34m.\u001b[0m\u001b[0mvectors\u001b[0m\u001b[0;34m)\u001b[0m\u001b[0;34m:\u001b[0m\u001b[0;34m\u001b[0m\u001b[0;34m\u001b[0m\u001b[0m\n\u001b[0;32m-> 1583\u001b[0;31m             \u001b[0;32mraise\u001b[0m \u001b[0mRuntimeError\u001b[0m\u001b[0;34m(\u001b[0m\u001b[0;34m\"cannot sort vocabulary after model weights already initialized.\"\u001b[0m\u001b[0;34m)\u001b[0m\u001b[0;34m\u001b[0m\u001b[0;34m\u001b[0m\u001b[0m\n\u001b[0m\u001b[1;32m   1584\u001b[0m         \u001b[0mwv\u001b[0m\u001b[0;34m.\u001b[0m\u001b[0mindex2word\u001b[0m\u001b[0;34m.\u001b[0m\u001b[0msort\u001b[0m\u001b[0;34m(\u001b[0m\u001b[0mkey\u001b[0m\u001b[0;34m=\u001b[0m\u001b[0;32mlambda\u001b[0m \u001b[0mword\u001b[0m\u001b[0;34m:\u001b[0m \u001b[0mwv\u001b[0m\u001b[0;34m.\u001b[0m\u001b[0mvocab\u001b[0m\u001b[0;34m[\u001b[0m\u001b[0mword\u001b[0m\u001b[0;34m]\u001b[0m\u001b[0;34m.\u001b[0m\u001b[0mcount\u001b[0m\u001b[0;34m,\u001b[0m \u001b[0mreverse\u001b[0m\u001b[0;34m=\u001b[0m\u001b[0;32mTrue\u001b[0m\u001b[0;34m)\u001b[0m\u001b[0;34m\u001b[0m\u001b[0;34m\u001b[0m\u001b[0m\n\u001b[1;32m   1585\u001b[0m         \u001b[0;32mfor\u001b[0m \u001b[0mi\u001b[0m\u001b[0;34m,\u001b[0m \u001b[0mword\u001b[0m \u001b[0;32min\u001b[0m \u001b[0menumerate\u001b[0m\u001b[0;34m(\u001b[0m\u001b[0mwv\u001b[0m\u001b[0;34m.\u001b[0m\u001b[0mindex2word\u001b[0m\u001b[0;34m)\u001b[0m\u001b[0;34m:\u001b[0m\u001b[0;34m\u001b[0m\u001b[0;34m\u001b[0m\u001b[0m\n",
            "\u001b[0;31mRuntimeError\u001b[0m: cannot sort vocabulary after model weights already initialized."
          ]
        }
      ]
    },
    {
      "cell_type": "code",
      "metadata": {
        "id": "JUYBErpUfUrF",
        "colab_type": "code",
        "colab": {}
      },
      "source": [
        "#Train the model\n",
        "model_ft.train(purchases_train,total_examples=model_ft.corpus_count,epochs=10,report_delay=1)\n",
        "#minimum and maximum n grams size ? \n",
        "#min_n : Deafault 3\n",
        "#Max_n:  Default 6 \n"
      ],
      "execution_count": 32,
      "outputs": []
    },
    {
      "cell_type": "code",
      "metadata": {
        "id": "_bmA_FiOhBru",
        "colab_type": "code",
        "colab": {
          "base_uri": "https://localhost:8080/",
          "height": 34
        },
        "outputId": "45b437bd-4fbd-4cb6-f052-04fbc6bf5260"
      },
      "source": [
        "print(model_ft)"
      ],
      "execution_count": 33,
      "outputs": [
        {
          "output_type": "stream",
          "text": [
            "FastText(vocab=3166, size=100, alpha=0.03)\n"
          ],
          "name": "stdout"
        }
      ]
    },
    {
      "cell_type": "code",
      "metadata": {
        "id": "q4AC31b1nTBS",
        "colab_type": "code",
        "colab": {}
      },
      "source": [
        "model_ft.save(\"/content/drive/My Drive/NLP/fasttext.model\")"
      ],
      "execution_count": 34,
      "outputs": []
    },
    {
      "cell_type": "code",
      "metadata": {
        "id": "qI4hI3KHnnly",
        "colab_type": "code",
        "colab": {}
      },
      "source": [
        "model_ft1=FastText.load(\"/content/drive/My Drive/NLP/fasttext.model\")"
      ],
      "execution_count": 52,
      "outputs": []
    },
    {
      "cell_type": "code",
      "metadata": {
        "id": "nXUxSfCFp3OW",
        "colab_type": "code",
        "colab": {
          "base_uri": "https://localhost:8080/",
          "height": 54
        },
        "outputId": "a6444b54-b142-4739-df32-17b9ed19b46b"
      },
      "source": [
        "print(model_ft1.wv.vocab)"
      ],
      "execution_count": 53,
      "outputs": [
        {
          "output_type": "stream",
          "text": [
            "{'47594A': <gensim.models.keyedvectors.Vocab object at 0x7f525d4e66d8>, '22371': <gensim.models.keyedvectors.Vocab object at 0x7f525d4e67b8>, '21340': <gensim.models.keyedvectors.Vocab object at 0x7f525d4e6828>, '22720': <gensim.models.keyedvectors.Vocab object at 0x7f525d4e6898>, '82494L': <gensim.models.keyedvectors.Vocab object at 0x7f525d4e6908>, '85123A': <gensim.models.keyedvectors.Vocab object at 0x7f525d4e6978>, '21755': <gensim.models.keyedvectors.Vocab object at 0x7f525d4e69e8>, '82484': <gensim.models.keyedvectors.Vocab object at 0x7f525d4e6a58>, '22469': <gensim.models.keyedvectors.Vocab object at 0x7f525d4e6ac8>, '22470': <gensim.models.keyedvectors.Vocab object at 0x7f525d4e6b38>, '85066': <gensim.models.keyedvectors.Vocab object at 0x7f525d4e6ba8>, '23226': <gensim.models.keyedvectors.Vocab object at 0x7f525d4e6c18>, '23133': <gensim.models.keyedvectors.Vocab object at 0x7f525d4e6c88>, '22776': <gensim.models.keyedvectors.Vocab object at 0x7f525d4e6cf8>, '22854': <gensim.models.keyedvectors.Vocab object at 0x7f525d4e6d68>, '21754': <gensim.models.keyedvectors.Vocab object at 0x7f525d4e6dd8>, '22487': <gensim.models.keyedvectors.Vocab object at 0x7f525d4e6e48>, '22030': <gensim.models.keyedvectors.Vocab object at 0x7f525d4e6eb8>, '21519': <gensim.models.keyedvectors.Vocab object at 0x7f525d4e6f28>, '22819': <gensim.models.keyedvectors.Vocab object at 0x7f525d4e6f98>, '23232': <gensim.models.keyedvectors.Vocab object at 0x7f5258bcdcc0>, '23231': <gensim.models.keyedvectors.Vocab object at 0x7f5258bcdd30>, '21500': <gensim.models.keyedvectors.Vocab object at 0x7f5258bcdda0>, '21499': <gensim.models.keyedvectors.Vocab object at 0x7f5258bcdbe0>, '21498': <gensim.models.keyedvectors.Vocab object at 0x7f5258bcdc18>, '21238': <gensim.models.keyedvectors.Vocab object at 0x7f5258bcde80>, '20676': <gensim.models.keyedvectors.Vocab object at 0x7f5258bcde48>, '21242': <gensim.models.keyedvectors.Vocab object at 0x7f5258bcdfd0>, '23253': <gensim.models.keyedvectors.Vocab object at 0x7f5258bcdc50>, '22427': <gensim.models.keyedvectors.Vocab object at 0x7f52594961d0>, '22460': <gensim.models.keyedvectors.Vocab object at 0x7f5259496048>, '84949': <gensim.models.keyedvectors.Vocab object at 0x7f5259496160>, '23283': <gensim.models.keyedvectors.Vocab object at 0x7f525dfa0080>, '22457': <gensim.models.keyedvectors.Vocab object at 0x7f525dfa00f0>, '22485': <gensim.models.keyedvectors.Vocab object at 0x7f525dfa0160>, '22169': <gensim.models.keyedvectors.Vocab object at 0x7f525dfa01d0>, '22464': <gensim.models.keyedvectors.Vocab object at 0x7f525dfa0240>, '48194': <gensim.models.keyedvectors.Vocab object at 0x7f525dfa02b0>, '22753': <gensim.models.keyedvectors.Vocab object at 0x7f525dfa0320>, '22197': <gensim.models.keyedvectors.Vocab object at 0x7f525dfa0390>, '22653': <gensim.models.keyedvectors.Vocab object at 0x7f525dfa0400>, '22619': <gensim.models.keyedvectors.Vocab object at 0x7f525dfa0470>, '22752': <gensim.models.keyedvectors.Vocab object at 0x7f525dfa04e0>, '22907': <gensim.models.keyedvectors.Vocab object at 0x7f525dfa0550>, '84509E': <gensim.models.keyedvectors.Vocab object at 0x7f525dfa05c0>, '84510E': <gensim.models.keyedvectors.Vocab object at 0x7f525dfa0630>, '84997A': <gensim.models.keyedvectors.Vocab object at 0x7f525dfa06a0>, '84596L': <gensim.models.keyedvectors.Vocab object at 0x7f525dfa0710>, '22468': <gensim.models.keyedvectors.Vocab object at 0x7f525dfa0780>, '23192': <gensim.models.keyedvectors.Vocab object at 0x7f525dfa07f0>, '23337': <gensim.models.keyedvectors.Vocab object at 0x7f525dfa0860>, '23096': <gensim.models.keyedvectors.Vocab object at 0x7f525dfa08d0>, '47013C': <gensim.models.keyedvectors.Vocab object at 0x7f525dfa0940>, '20616': <gensim.models.keyedvectors.Vocab object at 0x7f525dfa09b0>, '23102': <gensim.models.keyedvectors.Vocab object at 0x7f525dfa0a20>, '21865': <gensim.models.keyedvectors.Vocab object at 0x7f525dfa0a90>, '20653': <gensim.models.keyedvectors.Vocab object at 0x7f525dfa0b00>, '20652': <gensim.models.keyedvectors.Vocab object at 0x7f525dfa0b70>, '21867': <gensim.models.keyedvectors.Vocab object at 0x7f525dfa0be0>, '22969': <gensim.models.keyedvectors.Vocab object at 0x7f525dfa0c50>, '21983': <gensim.models.keyedvectors.Vocab object at 0x7f525dfa0cc0>, '21984': <gensim.models.keyedvectors.Vocab object at 0x7f525dfa0d30>, '22488': <gensim.models.keyedvectors.Vocab object at 0x7f525dfa0da0>, '22851': <gensim.models.keyedvectors.Vocab object at 0x7f525dfa0e10>, '23082': <gensim.models.keyedvectors.Vocab object at 0x7f525dfa0e80>, '72741': <gensim.models.keyedvectors.Vocab object at 0x7f525dfa0ef0>, '22740': <gensim.models.keyedvectors.Vocab object at 0x7f525dfa0f60>, '22758': <gensim.models.keyedvectors.Vocab object at 0x7f525dfa0fd0>, '22813': <gensim.models.keyedvectors.Vocab object at 0x7f525e93c080>, '22585': <gensim.models.keyedvectors.Vocab object at 0x7f525e93c0f0>, '22138': <gensim.models.keyedvectors.Vocab object at 0x7f525e93c160>, '22475': <gensim.models.keyedvectors.Vocab object at 0x7f525e93c1d0>, '21559': <gensim.models.keyedvectors.Vocab object at 0x7f525e93c240>, '84509B': <gensim.models.keyedvectors.Vocab object at 0x7f525e93c2b0>, '22467': <gensim.models.keyedvectors.Vocab object at 0x7f525e93c320>, '82613D': <gensim.models.keyedvectors.Vocab object at 0x7f525e93c390>, '82613A': <gensim.models.keyedvectors.Vocab object at 0x7f525e93c400>, '20752': <gensim.models.keyedvectors.Vocab object at 0x7f525e93c470>, '22756': <gensim.models.keyedvectors.Vocab object at 0x7f525e93c4e0>, '47599A': <gensim.models.keyedvectors.Vocab object at 0x7f525e93c550>, '72128': <gensim.models.keyedvectors.Vocab object at 0x7f525e93c5c0>, '22212': <gensim.models.keyedvectors.Vocab object at 0x7f525e93c630>, '21429': <gensim.models.keyedvectors.Vocab object at 0x7f525e93c6a0>, '21430': <gensim.models.keyedvectors.Vocab object at 0x7f525e93c710>, '22377': <gensim.models.keyedvectors.Vocab object at 0x7f525e93c780>, '22383': <gensim.models.keyedvectors.Vocab object at 0x7f525e93c7f0>, '20727': <gensim.models.keyedvectors.Vocab object at 0x7f525e93c860>, '21932': <gensim.models.keyedvectors.Vocab object at 0x7f525e93c8d0>, '21933': <gensim.models.keyedvectors.Vocab object at 0x7f525e93c940>, '23321': <gensim.models.keyedvectors.Vocab object at 0x7f525e93c9b0>, '23322': <gensim.models.keyedvectors.Vocab object at 0x7f525e93ca20>, '21264': <gensim.models.keyedvectors.Vocab object at 0x7f525e93ca90>, '21265': <gensim.models.keyedvectors.Vocab object at 0x7f525e93cb00>, '21263': <gensim.models.keyedvectors.Vocab object at 0x7f525e93cb70>, '21733': <gensim.models.keyedvectors.Vocab object at 0x7f525e93cbe0>, '23320': <gensim.models.keyedvectors.Vocab object at 0x7f525e93cc50>, '22153': <gensim.models.keyedvectors.Vocab object at 0x7f525e93ccc0>, '22155': <gensim.models.keyedvectors.Vocab object at 0x7f525e93cd30>, '22154': <gensim.models.keyedvectors.Vocab object at 0x7f525e93cda0>, '22610': <gensim.models.keyedvectors.Vocab object at 0x7f525e93ce10>, '22608': <gensim.models.keyedvectors.Vocab object at 0x7f525e93ce80>, '23344': <gensim.models.keyedvectors.Vocab object at 0x7f525e93cef0>, '84341B': <gensim.models.keyedvectors.Vocab object at 0x7f525e93cf60>, '21591': <gensim.models.keyedvectors.Vocab object at 0x7f525e93cfd0>, '23493': <gensim.models.keyedvectors.Vocab object at 0x7f525e941080>, '84347': <gensim.models.keyedvectors.Vocab object at 0x7f525e9410f0>, '22734': <gensim.models.keyedvectors.Vocab object at 0x7f525e941160>, '22737': <gensim.models.keyedvectors.Vocab object at 0x7f525e9411d0>, '22572': <gensim.models.keyedvectors.Vocab object at 0x7f525e941240>, '22571': <gensim.models.keyedvectors.Vocab object at 0x7f525e9412b0>, '23437': <gensim.models.keyedvectors.Vocab object at 0x7f525e941320>, '85049E': <gensim.models.keyedvectors.Vocab object at 0x7f525e941390>, '23198': <gensim.models.keyedvectors.Vocab object at 0x7f525e941400>, '23157': <gensim.models.keyedvectors.Vocab object at 0x7f525e941470>, '23269': <gensim.models.keyedvectors.Vocab object at 0x7f525e9414e0>, '23270': <gensim.models.keyedvectors.Vocab object at 0x7f525e941550>, '21147': <gensim.models.keyedvectors.Vocab object at 0x7f525e9415c0>, '22307': <gensim.models.keyedvectors.Vocab object at 0x7f525e941630>, '23461': <gensim.models.keyedvectors.Vocab object at 0x7f525e9416a0>, '23243': <gensim.models.keyedvectors.Vocab object at 0x7f525e941710>, '22326': <gensim.models.keyedvectors.Vocab object at 0x7f525e941780>, '84600': <gensim.models.keyedvectors.Vocab object at 0x7f525e9417f0>, '22421': <gensim.models.keyedvectors.Vocab object at 0x7f525e941860>, '20992': <gensim.models.keyedvectors.Vocab object at 0x7f525e9418d0>, '20996': <gensim.models.keyedvectors.Vocab object at 0x7f525e941940>, '16216': <gensim.models.keyedvectors.Vocab object at 0x7f525e9419b0>, '16237': <gensim.models.keyedvectors.Vocab object at 0x7f525e941a20>, '23499': <gensim.models.keyedvectors.Vocab object at 0x7f525e941a90>, '51014A': <gensim.models.keyedvectors.Vocab object at 0x7f525e941b00>, '21744': <gensim.models.keyedvectors.Vocab object at 0x7f525e941b70>, '20981': <gensim.models.keyedvectors.Vocab object at 0x7f525e941be0>, '22633': <gensim.models.keyedvectors.Vocab object at 0x7f525e941c50>, '22866': <gensim.models.keyedvectors.Vocab object at 0x7f525e941cc0>, '23500': <gensim.models.keyedvectors.Vocab object at 0x7f525e941d30>, '20973': <gensim.models.keyedvectors.Vocab object at 0x7f525e941da0>, '23084': <gensim.models.keyedvectors.Vocab object at 0x7f525e941e10>, '22466': <gensim.models.keyedvectors.Vocab object at 0x7f525e941e80>, '21901': <gensim.models.keyedvectors.Vocab object at 0x7f525e941ef0>, '21900': <gensim.models.keyedvectors.Vocab object at 0x7f525e941f60>, '22596': <gensim.models.keyedvectors.Vocab object at 0x7f525e941fd0>, '22694': <gensim.models.keyedvectors.Vocab object at 0x7f525e921080>, '23323': <gensim.models.keyedvectors.Vocab object at 0x7f525e9210f0>, '20978': <gensim.models.keyedvectors.Vocab object at 0x7f525e921160>, '21533': <gensim.models.keyedvectors.Vocab object at 0x7f525e9211d0>, '21535': <gensim.models.keyedvectors.Vocab object at 0x7f525e921240>, '22174': <gensim.models.keyedvectors.Vocab object at 0x7f525e9212b0>, '22835': <gensim.models.keyedvectors.Vocab object at 0x7f525e921320>, '23439': <gensim.models.keyedvectors.Vocab object at 0x7f525e921390>, '22632': <gensim.models.keyedvectors.Vocab object at 0x7f525e921400>, '21707': <gensim.models.keyedvectors.Vocab object at 0x7f525e921470>, '20914': <gensim.models.keyedvectors.Vocab object at 0x7f525e9214e0>, '20717': <gensim.models.keyedvectors.Vocab object at 0x7f525e921550>, '37475': <gensim.models.keyedvectors.Vocab object at 0x7f525e9215c0>, '23300': <gensim.models.keyedvectors.Vocab object at 0x7f525e921630>, '23301': <gensim.models.keyedvectors.Vocab object at 0x7f525e9216a0>, '85099B': <gensim.models.keyedvectors.Vocab object at 0x7f525e921710>, '23392': <gensim.models.keyedvectors.Vocab object at 0x7f525e921780>, '72802B': <gensim.models.keyedvectors.Vocab object at 0x7f525e9217f0>, '22331': <gensim.models.keyedvectors.Vocab object at 0x7f525e921860>, '22865': <gensim.models.keyedvectors.Vocab object at 0x7f525e9218d0>, '22171': <gensim.models.keyedvectors.Vocab object at 0x7f525e921940>, '22926': <gensim.models.keyedvectors.Vocab object at 0x7f525e9219b0>, '22914': <gensim.models.keyedvectors.Vocab object at 0x7f525e921a20>, '84849D': <gensim.models.keyedvectors.Vocab object at 0x7f525e921a90>, '22445': <gensim.models.keyedvectors.Vocab object at 0x7f525e921b00>, '16016': <gensim.models.keyedvectors.Vocab object at 0x7f525e921b70>, 'POST': <gensim.models.keyedvectors.Vocab object at 0x7f525e921be0>, '22173': <gensim.models.keyedvectors.Vocab object at 0x7f525e921c50>, '21481': <gensim.models.keyedvectors.Vocab object at 0x7f525e921cc0>, '22352': <gensim.models.keyedvectors.Vocab object at 0x7f525e921d30>, '22550': <gensim.models.keyedvectors.Vocab object at 0x7f525e921da0>, '22788': <gensim.models.keyedvectors.Vocab object at 0x7f525e921e10>, '20702': <gensim.models.keyedvectors.Vocab object at 0x7f525e921e80>, '22189': <gensim.models.keyedvectors.Vocab object at 0x7f525e921ef0>, '15056P': <gensim.models.keyedvectors.Vocab object at 0x7f525e921f60>, '21976': <gensim.models.keyedvectors.Vocab object at 0x7f525e921fd0>, '85049G': <gensim.models.keyedvectors.Vocab object at 0x7f525ea48080>, '82482': <gensim.models.keyedvectors.Vocab object at 0x7f525ea480f0>, '22139': <gensim.models.keyedvectors.Vocab object at 0x7f525ea48160>, '22320': <gensim.models.keyedvectors.Vocab object at 0x7f525ea481d0>, '22168': <gensim.models.keyedvectors.Vocab object at 0x7f525ea48240>, '22763': <gensim.models.keyedvectors.Vocab object at 0x7f525ea482b0>, '22957': <gensim.models.keyedvectors.Vocab object at 0x7f525ea48320>, '22492': <gensim.models.keyedvectors.Vocab object at 0x7f525ea48390>, '22322': <gensim.models.keyedvectors.Vocab object at 0x7f525ea48400>, '23054': <gensim.models.keyedvectors.Vocab object at 0x7f525ea48470>, '23053': <gensim.models.keyedvectors.Vocab object at 0x7f525ea484e0>, '23050': <gensim.models.keyedvectors.Vocab object at 0x7f525ea48550>, '23052': <gensim.models.keyedvectors.Vocab object at 0x7f525ea485c0>, '22554': <gensim.models.keyedvectors.Vocab object at 0x7f525ea48630>, '15056N': <gensim.models.keyedvectors.Vocab object at 0x7f525ea486a0>, '23057': <gensim.models.keyedvectors.Vocab object at 0x7f525ea48710>, '23056': <gensim.models.keyedvectors.Vocab object at 0x7f525ea48780>, '15056BL': <gensim.models.keyedvectors.Vocab object at 0x7f525ea487f0>, '16014': <gensim.models.keyedvectors.Vocab object at 0x7f525ea48860>, '21892': <gensim.models.keyedvectors.Vocab object at 0x7f525ea488d0>, '23055': <gensim.models.keyedvectors.Vocab object at 0x7f525ea48940>, '23066': <gensim.models.keyedvectors.Vocab object at 0x7f525ea489b0>, '23065': <gensim.models.keyedvectors.Vocab object at 0x7f525ea48a20>, '85054': <gensim.models.keyedvectors.Vocab object at 0x7f525ea48a90>, '23032': <gensim.models.keyedvectors.Vocab object at 0x7f525ea48b00>, '23018': <gensim.models.keyedvectors.Vocab object at 0x7f525ea48b70>, '23017': <gensim.models.keyedvectors.Vocab object at 0x7f525ea48be0>, '23019': <gensim.models.keyedvectors.Vocab object at 0x7f525ea48c50>, '21683': <gensim.models.keyedvectors.Vocab object at 0x7f525ea48cc0>, '22114': <gensim.models.keyedvectors.Vocab object at 0x7f525ea48d30>, '22867': <gensim.models.keyedvectors.Vocab object at 0x7f525ea48da0>, '22834': <gensim.models.keyedvectors.Vocab object at 0x7f525ea48e10>, '23485': <gensim.models.keyedvectors.Vocab object at 0x7f525ea48e80>, '84531A': <gensim.models.keyedvectors.Vocab object at 0x7f525ea48ef0>, '85015': <gensim.models.keyedvectors.Vocab object at 0x7f525ea48f60>, '21774': <gensim.models.keyedvectors.Vocab object at 0x7f525ea48fd0>, '22831': <gensim.models.keyedvectors.Vocab object at 0x7f525ea16080>, '22361': <gensim.models.keyedvectors.Vocab object at 0x7f525ea160f0>, '84946': <gensim.models.keyedvectors.Vocab object at 0x7f525ea16160>, '22241': <gensim.models.keyedvectors.Vocab object at 0x7f525ea161d0>, '22857': <gensim.models.keyedvectors.Vocab object at 0x7f525ea16240>, '47566': <gensim.models.keyedvectors.Vocab object at 0x7f525ea162b0>, '84879': <gensim.models.keyedvectors.Vocab object at 0x7f525ea16320>, '82580': <gensim.models.keyedvectors.Vocab object at 0x7f525ea16390>, '23182': <gensim.models.keyedvectors.Vocab object at 0x7f525ea16400>, '82583': <gensim.models.keyedvectors.Vocab object at 0x7f525ea16470>, '21165': <gensim.models.keyedvectors.Vocab object at 0x7f525ea164e0>, '82582': <gensim.models.keyedvectors.Vocab object at 0x7f525ea16550>, '22319': <gensim.models.keyedvectors.Vocab object at 0x7f525ea165c0>, '21625': <gensim.models.keyedvectors.Vocab object at 0x7f525ea16630>, '22938': <gensim.models.keyedvectors.Vocab object at 0x7f525ea166a0>, '22567': <gensim.models.keyedvectors.Vocab object at 0x7f525ea16710>, '22722': <gensim.models.keyedvectors.Vocab object at 0x7f525ea16780>, '22423': <gensim.models.keyedvectors.Vocab object at 0x7f525ea167f0>, '22236': <gensim.models.keyedvectors.Vocab object at 0x7f525ea16860>, '21198': <gensim.models.keyedvectors.Vocab object at 0x7f525ea168d0>, '22098': <gensim.models.keyedvectors.Vocab object at 0x7f525ea16940>, '21906': <gensim.models.keyedvectors.Vocab object at 0x7f525ea169b0>, '22801': <gensim.models.keyedvectors.Vocab object at 0x7f525ea16a20>, '22715': <gensim.models.keyedvectors.Vocab object at 0x7f525ea16a90>, '16156S': <gensim.models.keyedvectors.Vocab object at 0x7f525ea16b00>, '16161P': <gensim.models.keyedvectors.Vocab object at 0x7f525ea16b70>, '22047': <gensim.models.keyedvectors.Vocab object at 0x7f525ea16be0>, '22709': <gensim.models.keyedvectors.Vocab object at 0x7f525ea16c50>, '23233': <gensim.models.keyedvectors.Vocab object at 0x7f525ea16cc0>, '22066': <gensim.models.keyedvectors.Vocab object at 0x7f525ea16d30>, '35598D': <gensim.models.keyedvectors.Vocab object at 0x7f525ea16da0>, '35651': <gensim.models.keyedvectors.Vocab object at 0x7f525ea16e10>, '35968': <gensim.models.keyedvectors.Vocab object at 0x7f525ea16e80>, '35967': <gensim.models.keyedvectors.Vocab object at 0x7f525ea16ef0>, '82616C': <gensim.models.keyedvectors.Vocab object at 0x7f525ea16f60>, '84576': <gensim.models.keyedvectors.Vocab object at 0x7f525ea16fd0>, '21262': <gensim.models.keyedvectors.Vocab object at 0x7f525ebbf080>, '22723': <gensim.models.keyedvectors.Vocab object at 0x7f525ebbf0f0>, '22186': <gensim.models.keyedvectors.Vocab object at 0x7f525ebbf160>, '35933': <gensim.models.keyedvectors.Vocab object at 0x7f525ebbf1d0>, '22049': <gensim.models.keyedvectors.Vocab object at 0x7f525ebbf240>, '22578': <gensim.models.keyedvectors.Vocab object at 0x7f525ebbf2b0>, '35646': <gensim.models.keyedvectors.Vocab object at 0x7f525ebbf320>, '47504K': <gensim.models.keyedvectors.Vocab object at 0x7f525ebbf390>, '23355': <gensim.models.keyedvectors.Vocab object at 0x7f525ebbf400>, '23356': <gensim.models.keyedvectors.Vocab object at 0x7f525ebbf470>, '22689': <gensim.models.keyedvectors.Vocab object at 0x7f525ebbf4e0>, '23318': <gensim.models.keyedvectors.Vocab object at 0x7f525ebbf550>, '23319': <gensim.models.keyedvectors.Vocab object at 0x7f525ebbf5c0>, '22941': <gensim.models.keyedvectors.Vocab object at 0x7f525ebbf630>, '23311': <gensim.models.keyedvectors.Vocab object at 0x7f525ebbf6a0>, '21174': <gensim.models.keyedvectors.Vocab object at 0x7f525ebbf710>, '22412': <gensim.models.keyedvectors.Vocab object at 0x7f525ebbf780>, '22083': <gensim.models.keyedvectors.Vocab object at 0x7f525ebbf7f0>, '23541': <gensim.models.keyedvectors.Vocab object at 0x7f525ebbf860>, '23535': <gensim.models.keyedvectors.Vocab object at 0x7f525ebbf8d0>, '23526': <gensim.models.keyedvectors.Vocab object at 0x7f525ebbf940>, '16169E': <gensim.models.keyedvectors.Vocab object at 0x7f525ebbf9b0>, '23349': <gensim.models.keyedvectors.Vocab object at 0x7f525ebbfa20>, '23351': <gensim.models.keyedvectors.Vocab object at 0x7f525ebbfa90>, '23382': <gensim.models.keyedvectors.Vocab object at 0x7f525ebbfb00>, '23247': <gensim.models.keyedvectors.Vocab object at 0x7f525ebbfb70>, '23354': <gensim.models.keyedvectors.Vocab object at 0x7f525ebbfbe0>, '23353': <gensim.models.keyedvectors.Vocab object at 0x7f525ebbfc50>, '22909': <gensim.models.keyedvectors.Vocab object at 0x7f525ebbfcc0>, '23234': <gensim.models.keyedvectors.Vocab object at 0x7f525ebbfd30>, '23314': <gensim.models.keyedvectors.Vocab object at 0x7f525ebbfda0>, '21220': <gensim.models.keyedvectors.Vocab object at 0x7f525ebbfe10>, '22844': <gensim.models.keyedvectors.Vocab object at 0x7f525ebbfe80>, '84931A': <gensim.models.keyedvectors.Vocab object at 0x7f525ebbfef0>, '85231B': <gensim.models.keyedvectors.Vocab object at 0x7f525ebbff60>, '23359': <gensim.models.keyedvectors.Vocab object at 0x7f525ebbffd0>, '23129': <gensim.models.keyedvectors.Vocab object at 0x7f525ebb3080>, '22309': <gensim.models.keyedvectors.Vocab object at 0x7f525ebb30f0>, '90186B': <gensim.models.keyedvectors.Vocab object at 0x7f525ebb3160>, '22944': <gensim.models.keyedvectors.Vocab object at 0x7f525ebb31d0>, '23497': <gensim.models.keyedvectors.Vocab object at 0x7f525ebb3240>, '21620': <gensim.models.keyedvectors.Vocab object at 0x7f525ebb32b0>, '23498': <gensim.models.keyedvectors.Vocab object at 0x7f525ebb3320>, '23552': <gensim.models.keyedvectors.Vocab object at 0x7f525ebb3390>, '21905': <gensim.models.keyedvectors.Vocab object at 0x7f525ebb3400>, '22816': <gensim.models.keyedvectors.Vocab object at 0x7f525ebb3470>, '23089': <gensim.models.keyedvectors.Vocab object at 0x7f525ebb34e0>, '23340': <gensim.models.keyedvectors.Vocab object at 0x7f525ebb3550>, '22111': <gensim.models.keyedvectors.Vocab object at 0x7f525ebb35c0>, '21944': <gensim.models.keyedvectors.Vocab object at 0x7f525ebb3630>, '22075': <gensim.models.keyedvectors.Vocab object at 0x7f525ebb36a0>, '22446': <gensim.models.keyedvectors.Vocab object at 0x7f525ebb3710>, '22509': <gensim.models.keyedvectors.Vocab object at 0x7f525ebb3780>, '22701': <gensim.models.keyedvectors.Vocab object at 0x7f525ebb37f0>, '22703': <gensim.models.keyedvectors.Vocab object at 0x7f525ebb3860>, '22808': <gensim.models.keyedvectors.Vocab object at 0x7f525ebb38d0>, '22806': <gensim.models.keyedvectors.Vocab object at 0x7f525ebb3940>, '84819': <gensim.models.keyedvectors.Vocab object at 0x7f525ebb39b0>, '85034B': <gensim.models.keyedvectors.Vocab object at 0x7f525ebb3a20>, '21506': <gensim.models.keyedvectors.Vocab object at 0x7f525ebb3a90>, '22822': <gensim.models.keyedvectors.Vocab object at 0x7f525ebb3b00>, '23064': <gensim.models.keyedvectors.Vocab object at 0x7f525ebb3b70>, '21770': <gensim.models.keyedvectors.Vocab object at 0x7f525ebb3be0>, '22697': <gensim.models.keyedvectors.Vocab object at 0x7f525ebb3c50>, '84709B': <gensim.models.keyedvectors.Vocab object at 0x7f525ebb3cc0>, '84707A': <gensim.models.keyedvectors.Vocab object at 0x7f525ebb3d30>, '20936': <gensim.models.keyedvectors.Vocab object at 0x7f525ebb3da0>, '20886': <gensim.models.keyedvectors.Vocab object at 0x7f525ebb3e10>, '23136': <gensim.models.keyedvectors.Vocab object at 0x7f525ebb3e80>, '23137': <gensim.models.keyedvectors.Vocab object at 0x7f525ebb3ef0>, '85174': <gensim.models.keyedvectors.Vocab object at 0x7f525ebb3f60>, '22811': <gensim.models.keyedvectors.Vocab object at 0x7f525ebb3fd0>, '84078A': <gensim.models.keyedvectors.Vocab object at 0x7f525ee86080>, '85152': <gensim.models.keyedvectors.Vocab object at 0x7f525ee860f0>, '21908': <gensim.models.keyedvectors.Vocab object at 0x7f525ee86160>, '21172': <gensim.models.keyedvectors.Vocab object at 0x7f525ee861d0>, '21818': <gensim.models.keyedvectors.Vocab object at 0x7f525ee86240>, '21817': <gensim.models.keyedvectors.Vocab object at 0x7f525ee862b0>, '21819': <gensim.models.keyedvectors.Vocab object at 0x7f525ee86320>, '21820': <gensim.models.keyedvectors.Vocab object at 0x7f525ee86390>, '21821': <gensim.models.keyedvectors.Vocab object at 0x7f525ee86400>, '20802': <gensim.models.keyedvectors.Vocab object at 0x7f525ee86470>, '22465': <gensim.models.keyedvectors.Vocab object at 0x7f525ee864e0>, '85048': <gensim.models.keyedvectors.Vocab object at 0x7f525ee86550>, '23085': <gensim.models.keyedvectors.Vocab object at 0x7f525ee865c0>, '22798': <gensim.models.keyedvectors.Vocab object at 0x7f525ee86630>, '85111': <gensim.models.keyedvectors.Vocab object at 0x7f525ee866a0>, '22800': <gensim.models.keyedvectors.Vocab object at 0x7f525ee86710>, '22730': <gensim.models.keyedvectors.Vocab object at 0x7f525ee86780>, '22726': <gensim.models.keyedvectors.Vocab object at 0x7f525ee867f0>, '22729': <gensim.models.keyedvectors.Vocab object at 0x7f525ee86860>, '85038': <gensim.models.keyedvectors.Vocab object at 0x7f525ee868d0>, '85053': <gensim.models.keyedvectors.Vocab object at 0x7f525ee86940>, '85231G': <gensim.models.keyedvectors.Vocab object at 0x7f525ee869b0>, '23020': <gensim.models.keyedvectors.Vocab object at 0x7f525ee86a20>, '23165': <gensim.models.keyedvectors.Vocab object at 0x7f525ee86a90>, '23166': <gensim.models.keyedvectors.Vocab object at 0x7f525ee86b00>, '23167': <gensim.models.keyedvectors.Vocab object at 0x7f525ee86b70>, '22118': <gensim.models.keyedvectors.Vocab object at 0x7f525ee86be0>, '23188': <gensim.models.keyedvectors.Vocab object at 0x7f525ee86c50>, '22119': <gensim.models.keyedvectors.Vocab object at 0x7f525ee86cc0>, '22121': <gensim.models.keyedvectors.Vocab object at 0x7f525ee86d30>, '21166': <gensim.models.keyedvectors.Vocab object at 0x7f525ee86da0>, '22728': <gensim.models.keyedvectors.Vocab object at 0x7f525ee86e10>, '22890': <gensim.models.keyedvectors.Vocab object at 0x7f525ee86e80>, '22727': <gensim.models.keyedvectors.Vocab object at 0x7f525ee86ef0>, '22725': <gensim.models.keyedvectors.Vocab object at 0x7f525ee86f60>, '84596G': <gensim.models.keyedvectors.Vocab object at 0x7f525ee86fd0>, '84596F': <gensim.models.keyedvectors.Vocab object at 0x7f525ee5a080>, '84596B': <gensim.models.keyedvectors.Vocab object at 0x7f525ee5a0f0>, '37479P': <gensim.models.keyedvectors.Vocab object at 0x7f525ee5a160>, '22150': <gensim.models.keyedvectors.Vocab object at 0x7f525ee5a1d0>, '22147': <gensim.models.keyedvectors.Vocab object at 0x7f525ee5a240>, '22568': <gensim.models.keyedvectors.Vocab object at 0x7f525ee5a2b0>, '22940': <gensim.models.keyedvectors.Vocab object at 0x7f525ee5a320>, '22749': <gensim.models.keyedvectors.Vocab object at 0x7f525ee5a390>, '22751': <gensim.models.keyedvectors.Vocab object at 0x7f525ee5a400>, '22750': <gensim.models.keyedvectors.Vocab object at 0x7f525ee5a470>, '22112': <gensim.models.keyedvectors.Vocab object at 0x7f525ee5a4e0>, '21485': <gensim.models.keyedvectors.Vocab object at 0x7f525ee5a550>, '21175': <gensim.models.keyedvectors.Vocab object at 0x7f525ee5a5c0>, '21164': <gensim.models.keyedvectors.Vocab object at 0x7f525ee5a630>, '23452': <gensim.models.keyedvectors.Vocab object at 0x7f525ee5a6a0>, '23451': <gensim.models.keyedvectors.Vocab object at 0x7f525ee5a710>, '21034': <gensim.models.keyedvectors.Vocab object at 0x7f525ee5a780>, '22046': <gensim.models.keyedvectors.Vocab object at 0x7f525ee5a7f0>, '22711': <gensim.models.keyedvectors.Vocab object at 0x7f525ee5a860>, '22052': <gensim.models.keyedvectors.Vocab object at 0x7f525ee5a8d0>, '22045': <gensim.models.keyedvectors.Vocab object at 0x7f525ee5a940>, '22708': <gensim.models.keyedvectors.Vocab object at 0x7f525ee5a9b0>, '21497': <gensim.models.keyedvectors.Vocab object at 0x7f525ee5aa20>, '20846': <gensim.models.keyedvectors.Vocab object at 0x7f525ee5aa90>, '21382': <gensim.models.keyedvectors.Vocab object at 0x7f525ee5ab00>, '21313': <gensim.models.keyedvectors.Vocab object at 0x7f525ee5ab70>, '21870': <gensim.models.keyedvectors.Vocab object at 0x7f525ee5abe0>, '21067': <gensim.models.keyedvectors.Vocab object at 0x7f525ee5ac50>, '85175': <gensim.models.keyedvectors.Vocab object at 0x7f525ee5acc0>, '21179': <gensim.models.keyedvectors.Vocab object at 0x7f525ee5ad30>, '21171': <gensim.models.keyedvectors.Vocab object at 0x7f525ee5ada0>, '21181': <gensim.models.keyedvectors.Vocab object at 0x7f525ee5ae10>, '22413': <gensim.models.keyedvectors.Vocab object at 0x7f525ee5ae80>, '22915': <gensim.models.keyedvectors.Vocab object at 0x7f525ee5aef0>, '21735': <gensim.models.keyedvectors.Vocab object at 0x7f525ee5af60>, '22474': <gensim.models.keyedvectors.Vocab object at 0x7f525ee5afd0>, '22471': <gensim.models.keyedvectors.Vocab object at 0x7f525ee77080>, '82600': <gensim.models.keyedvectors.Vocab object at 0x7f525ee770f0>, '82567': <gensim.models.keyedvectors.Vocab object at 0x7f525ee77160>, '82599': <gensim.models.keyedvectors.Vocab object at 0x7f525ee771d0>, '22922': <gensim.models.keyedvectors.Vocab object at 0x7f525ee77240>, '82578': <gensim.models.keyedvectors.Vocab object at 0x7f525ee772b0>, '82581': <gensim.models.keyedvectors.Vocab object at 0x7f525ee77320>, '84992': <gensim.models.keyedvectors.Vocab object at 0x7f525ee77390>, '21832': <gensim.models.keyedvectors.Vocab object at 0x7f525ee77400>, '20726': <gensim.models.keyedvectors.Vocab object at 0x7f525ee77470>, '22382': <gensim.models.keyedvectors.Vocab object at 0x7f525ee774e0>, '22924': <gensim.models.keyedvectors.Vocab object at 0x7f525ee77550>, '22923': <gensim.models.keyedvectors.Vocab object at 0x7f525ee775c0>, '22908': <gensim.models.keyedvectors.Vocab object at 0x7f525ee77630>, '20974': <gensim.models.keyedvectors.Vocab object at 0x7f525ee776a0>, '84991': <gensim.models.keyedvectors.Vocab object at 0x7f525ee77710>, '22951': <gensim.models.keyedvectors.Vocab object at 0x7f525ee77780>, '22396': <gensim.models.keyedvectors.Vocab object at 0x7f525ee777f0>, '22717': <gensim.models.keyedvectors.Vocab object at 0x7f525ee77860>, '22420': <gensim.models.keyedvectors.Vocab object at 0x7f525ee778d0>, '22419': <gensim.models.keyedvectors.Vocab object at 0x7f525ee77940>, '85197': <gensim.models.keyedvectors.Vocab object at 0x7f525ee779b0>, '22398': <gensim.models.keyedvectors.Vocab object at 0x7f525ee77a20>, '22399': <gensim.models.keyedvectors.Vocab object at 0x7f525ee77a90>, '22385': <gensim.models.keyedvectors.Vocab object at 0x7f525ee77b00>, '82551': <gensim.models.keyedvectors.Vocab object at 0x7f525ee77b70>, '22181': <gensim.models.keyedvectors.Vocab object at 0x7f525ee77be0>, '22029': <gensim.models.keyedvectors.Vocab object at 0x7f525ee77c50>, '22539': <gensim.models.keyedvectors.Vocab object at 0x7f525ee77cc0>, '22540': <gensim.models.keyedvectors.Vocab object at 0x7f525ee77d30>, '22544': <gensim.models.keyedvectors.Vocab object at 0x7f525ee77da0>, '22817': <gensim.models.keyedvectors.Vocab object at 0x7f525ee77e10>, '22712': <gensim.models.keyedvectors.Vocab object at 0x7f525ee77e80>, '22025': <gensim.models.keyedvectors.Vocab object at 0x7f525ee77ef0>, '22027': <gensim.models.keyedvectors.Vocab object at 0x7f525ee77f60>, '21508': <gensim.models.keyedvectors.Vocab object at 0x7f525ee77fd0>, '21507': <gensim.models.keyedvectors.Vocab object at 0x7f525f96a080>, '22023': <gensim.models.keyedvectors.Vocab object at 0x7f525f96a0f0>, '22035': <gensim.models.keyedvectors.Vocab object at 0x7f525f96a160>, '21504': <gensim.models.keyedvectors.Vocab object at 0x7f525f96a1d0>, '22024': <gensim.models.keyedvectors.Vocab object at 0x7f525f96a240>, '22716': <gensim.models.keyedvectors.Vocab object at 0x7f525f96a2b0>, '22984': <gensim.models.keyedvectors.Vocab object at 0x7f525f96a320>, '22718': <gensim.models.keyedvectors.Vocab object at 0x7f525f96a390>, '21520': <gensim.models.keyedvectors.Vocab object at 0x7f525f96a400>, '22243': <gensim.models.keyedvectors.Vocab object at 0x7f525f96a470>, '22670': <gensim.models.keyedvectors.Vocab object at 0x7f525f96a4e0>, '22675': <gensim.models.keyedvectors.Vocab object at 0x7f525f96a550>, '22674': <gensim.models.keyedvectors.Vocab object at 0x7f525f96a5c0>, '21358': <gensim.models.keyedvectors.Vocab object at 0x7f525f96a630>, '21355': <gensim.models.keyedvectors.Vocab object at 0x7f525f96a6a0>, '21354': <gensim.models.keyedvectors.Vocab object at 0x7f525f96a710>, '22355': <gensim.models.keyedvectors.Vocab object at 0x7f525f96a780>, '22719': <gensim.models.keyedvectors.Vocab object at 0x7f525f96a7f0>, '22662': <gensim.models.keyedvectors.Vocab object at 0x7f525f96a860>, '21071': <gensim.models.keyedvectors.Vocab object at 0x7f525f96a8d0>, '37413': <gensim.models.keyedvectors.Vocab object at 0x7f525f96a940>, '22948': <gensim.models.keyedvectors.Vocab object at 0x7f525f96a9b0>, '21068': <gensim.models.keyedvectors.Vocab object at 0x7f525f96aa20>, '22178': <gensim.models.keyedvectors.Vocab object at 0x7f525f96aa90>, '84970L': <gensim.models.keyedvectors.Vocab object at 0x7f525f96ab00>, '84755': <gensim.models.keyedvectors.Vocab object at 0x7f525f96ab70>, '16236': <gensim.models.keyedvectors.Vocab object at 0x7f525f96abe0>, '16238': <gensim.models.keyedvectors.Vocab object at 0x7f525f96ac50>, '23180': <gensim.models.keyedvectors.Vocab object at 0x7f525f96acc0>, '21448': <gensim.models.keyedvectors.Vocab object at 0x7f525f96ad30>, '22219': <gensim.models.keyedvectors.Vocab object at 0x7f525f96ada0>, '23178': <gensim.models.keyedvectors.Vocab object at 0x7f525f96ae10>, '23184': <gensim.models.keyedvectors.Vocab object at 0x7f525f96ae80>, '23158': <gensim.models.keyedvectors.Vocab object at 0x7f525f96aef0>, '23159': <gensim.models.keyedvectors.Vocab object at 0x7f525f96af60>, '23156': <gensim.models.keyedvectors.Vocab object at 0x7f525f96afd0>, '23177': <gensim.models.keyedvectors.Vocab object at 0x7f525f97a080>, '23193': <gensim.models.keyedvectors.Vocab object at 0x7f525f97a0f0>, '23194': <gensim.models.keyedvectors.Vocab object at 0x7f525f97a160>, '23155': <gensim.models.keyedvectors.Vocab object at 0x7f525f97a1d0>, '22162': <gensim.models.keyedvectors.Vocab object at 0x7f525f97a240>, '23077': <gensim.models.keyedvectors.Vocab object at 0x7f525f97a2b0>, '23078': <gensim.models.keyedvectors.Vocab object at 0x7f525f97a320>, '22649': <gensim.models.keyedvectors.Vocab object at 0x7f525f97a390>, '22892': <gensim.models.keyedvectors.Vocab object at 0x7f525f97a400>, '79066K': <gensim.models.keyedvectors.Vocab object at 0x7f525f97a470>, '23076': <gensim.models.keyedvectors.Vocab object at 0x7f525f97a4e0>, '22064': <gensim.models.keyedvectors.Vocab object at 0x7f525f97a550>, '21249': <gensim.models.keyedvectors.Vocab object at 0x7f525f97a5c0>, '21169': <gensim.models.keyedvectors.Vocab object at 0x7f525f97a630>, '16012': <gensim.models.keyedvectors.Vocab object at 0x7f525f97a6a0>, '84925D': <gensim.models.keyedvectors.Vocab object at 0x7f525f97a710>, '21721': <gensim.models.keyedvectors.Vocab object at 0x7f525f97a780>, '21724': <gensim.models.keyedvectors.Vocab object at 0x7f525f97a7f0>, '22252': <gensim.models.keyedvectors.Vocab object at 0x7f525f97a860>, '20975': <gensim.models.keyedvectors.Vocab object at 0x7f525f97a8d0>, '21719': <gensim.models.keyedvectors.Vocab object at 0x7f525f97a940>, '21720': <gensim.models.keyedvectors.Vocab object at 0x7f525f97a9b0>, '22891': <gensim.models.keyedvectors.Vocab object at 0x7f525f97aa20>, '21232': <gensim.models.keyedvectors.Vocab object at 0x7f525f97aa90>, '21791': <gensim.models.keyedvectors.Vocab object at 0x7f525f97ab00>, '21790': <gensim.models.keyedvectors.Vocab object at 0x7f525f97ab70>, '22807': <gensim.models.keyedvectors.Vocab object at 0x7f525f97abe0>, '22815': <gensim.models.keyedvectors.Vocab object at 0x7f525f97ac50>, '22037': <gensim.models.keyedvectors.Vocab object at 0x7f525f97acc0>, '84247G': <gensim.models.keyedvectors.Vocab object at 0x7f525f97ad30>, '22444': <gensim.models.keyedvectors.Vocab object at 0x7f525f97ada0>, '22294': <gensim.models.keyedvectors.Vocab object at 0x7f525f97ae10>, '23208': <gensim.models.keyedvectors.Vocab object at 0x7f525f97ae80>, '23206': <gensim.models.keyedvectors.Vocab object at 0x7f525f97aef0>, '21064': <gensim.models.keyedvectors.Vocab object at 0x7f525f97af60>, '21877': <gensim.models.keyedvectors.Vocab object at 0x7f525f97afd0>, '21873': <gensim.models.keyedvectors.Vocab object at 0x7f525fb89080>, '84077': <gensim.models.keyedvectors.Vocab object at 0x7f525fb890f0>, '21875': <gensim.models.keyedvectors.Vocab object at 0x7f525fb89160>, '85160B': <gensim.models.keyedvectors.Vocab object at 0x7f525fb891d0>, '37468': <gensim.models.keyedvectors.Vocab object at 0x7f525fb89240>, '22693': <gensim.models.keyedvectors.Vocab object at 0x7f525fb892b0>, '21948': <gensim.models.keyedvectors.Vocab object at 0x7f525fb89320>, '21158': <gensim.models.keyedvectors.Vocab object at 0x7f525fb89390>, '22672': <gensim.models.keyedvectors.Vocab object at 0x7f525fb89400>, '22678': <gensim.models.keyedvectors.Vocab object at 0x7f525fb89470>, '21161': <gensim.models.keyedvectors.Vocab object at 0x7f525fb894e0>, '21248': <gensim.models.keyedvectors.Vocab object at 0x7f525fb89550>, '22494': <gensim.models.keyedvectors.Vocab object at 0x7f525fb895c0>, '21904': <gensim.models.keyedvectors.Vocab object at 0x7f525fb89630>, '85016': <gensim.models.keyedvectors.Vocab object at 0x7f525fb896a0>, '85017C': <gensim.models.keyedvectors.Vocab object at 0x7f525fb89710>, '21871': <gensim.models.keyedvectors.Vocab object at 0x7f525fb89780>, '21231': <gensim.models.keyedvectors.Vocab object at 0x7f525fb897f0>, '22418': <gensim.models.keyedvectors.Vocab object at 0x7f525fb89860>, '21773': <gensim.models.keyedvectors.Vocab object at 0x7f525fb898d0>, '21775': <gensim.models.keyedvectors.Vocab object at 0x7f525fb89940>, '22230': <gensim.models.keyedvectors.Vocab object at 0x7f525fb899b0>, '17003': <gensim.models.keyedvectors.Vocab object at 0x7f525fb89a20>, '15034': <gensim.models.keyedvectors.Vocab object at 0x7f525fb89a90>, '21992': <gensim.models.keyedvectors.Vocab object at 0x7f525fb89b00>, '84929': <gensim.models.keyedvectors.Vocab object at 0x7f525fb89b70>, '82552': <gensim.models.keyedvectors.Vocab object at 0x7f525fb89be0>, '22992': <gensim.models.keyedvectors.Vocab object at 0x7f525fb89c50>, '84536A': <gensim.models.keyedvectors.Vocab object at 0x7f525fb89cc0>, '84536B': <gensim.models.keyedvectors.Vocab object at 0x7f525fb89d30>, '16011': <gensim.models.keyedvectors.Vocab object at 0x7f525fb89da0>, '16161U': <gensim.models.keyedvectors.Vocab object at 0x7f525fb89e10>, '22983': <gensim.models.keyedvectors.Vocab object at 0x7f525fb89e80>, '22646': <gensim.models.keyedvectors.Vocab object at 0x7f525fb89ef0>, '22644': <gensim.models.keyedvectors.Vocab object at 0x7f525fb89f60>, '21943': <gensim.models.keyedvectors.Vocab object at 0x7f525fb89fd0>, '21946': <gensim.models.keyedvectors.Vocab object at 0x7f525fb6d080>, '21874': <gensim.models.keyedvectors.Vocab object at 0x7f525fb6d0f0>, '22407': <gensim.models.keyedvectors.Vocab object at 0x7f525fb6d160>, '22405': <gensim.models.keyedvectors.Vocab object at 0x7f525fb6d1d0>, '22613': <gensim.models.keyedvectors.Vocab object at 0x7f525fb6d240>, '20725': <gensim.models.keyedvectors.Vocab object at 0x7f525fb6d2b0>, '23209': <gensim.models.keyedvectors.Vocab object at 0x7f525fb6d320>, '21745': <gensim.models.keyedvectors.Vocab object at 0x7f525fb6d390>, '47503A': <gensim.models.keyedvectors.Vocab object at 0x7f525fb6d400>, '23389': <gensim.models.keyedvectors.Vocab object at 0x7f525fb6d470>, '23388': <gensim.models.keyedvectors.Vocab object at 0x7f525fb6d4e0>, '23390': <gensim.models.keyedvectors.Vocab object at 0x7f525fb6d550>, '22115': <gensim.models.keyedvectors.Vocab object at 0x7f525fb6d5c0>, '23186': <gensim.models.keyedvectors.Vocab object at 0x7f525fb6d630>, '79321': <gensim.models.keyedvectors.Vocab object at 0x7f525fb6d6a0>, '21137': <gensim.models.keyedvectors.Vocab object at 0x7f525fb6d710>, '23146': <gensim.models.keyedvectors.Vocab object at 0x7f525fb6d780>, '23168': <gensim.models.keyedvectors.Vocab object at 0x7f525fb6d7f0>, '84406B': <gensim.models.keyedvectors.Vocab object at 0x7f525fb6d860>, '82483': <gensim.models.keyedvectors.Vocab object at 0x7f525fb6d8d0>, '23275': <gensim.models.keyedvectors.Vocab object at 0x7f525fb6d940>, '23415': <gensim.models.keyedvectors.Vocab object at 0x7f525fb6d9b0>, '23417': <gensim.models.keyedvectors.Vocab object at 0x7f525fb6da20>, '22044': <gensim.models.keyedvectors.Vocab object at 0x7f525fb6da90>, '21704': <gensim.models.keyedvectors.Vocab object at 0x7f525fb6db00>, '21703': <gensim.models.keyedvectors.Vocab object at 0x7f525fb6db70>, '23333': <gensim.models.keyedvectors.Vocab object at 0x7f525fb6dbe0>, '85071A': <gensim.models.keyedvectors.Vocab object at 0x7f525fb6dc50>, '85071B': <gensim.models.keyedvectors.Vocab object at 0x7f525fb6dcc0>, '23496': <gensim.models.keyedvectors.Vocab object at 0x7f525fb6dd30>, '23367': <gensim.models.keyedvectors.Vocab object at 0x7f525fb6dda0>, '23148': <gensim.models.keyedvectors.Vocab object at 0x7f525fb6de10>, '22041': <gensim.models.keyedvectors.Vocab object at 0x7f525fb6de80>, '15036': <gensim.models.keyedvectors.Vocab object at 0x7f525fb6def0>, '23583': <gensim.models.keyedvectors.Vocab object at 0x7f525fb6df60>, '23506': <gensim.models.keyedvectors.Vocab object at 0x7f525fb6dfd0>, '23507': <gensim.models.keyedvectors.Vocab object at 0x7f525fb53080>, '23508': <gensim.models.keyedvectors.Vocab object at 0x7f525fb530f0>, '23510': <gensim.models.keyedvectors.Vocab object at 0x7f525fb53160>, '21889': <gensim.models.keyedvectors.Vocab object at 0x7f525fb531d0>, '23404': <gensim.models.keyedvectors.Vocab object at 0x7f525fb53240>, '22591': <gensim.models.keyedvectors.Vocab object at 0x7f525fb532b0>, '21390': <gensim.models.keyedvectors.Vocab object at 0x7f525fb53320>, '23334': <gensim.models.keyedvectors.Vocab object at 0x7f525fb53390>, '22152': <gensim.models.keyedvectors.Vocab object at 0x7f525fb53400>, '22151': <gensim.models.keyedvectors.Vocab object at 0x7f525fb53470>, '85199S': <gensim.models.keyedvectors.Vocab object at 0x7f525fb534e0>, '85130C': <gensim.models.keyedvectors.Vocab object at 0x7f525fb53550>, 'M': <gensim.models.keyedvectors.Vocab object at 0x7f525fb53588>, '23316': <gensim.models.keyedvectors.Vocab object at 0x7f525fb535f8>, '23315': <gensim.models.keyedvectors.Vocab object at 0x7f525fb53668>, '23342': <gensim.models.keyedvectors.Vocab object at 0x7f525fb536d8>, '22191': <gensim.models.keyedvectors.Vocab object at 0x7f525fb53748>, '23341': <gensim.models.keyedvectors.Vocab object at 0x7f525fb537b8>, '23548': <gensim.models.keyedvectors.Vocab object at 0x7f525fb53828>, '21495': <gensim.models.keyedvectors.Vocab object at 0x7f525fb53898>, '22048': <gensim.models.keyedvectors.Vocab object at 0x7f525fb53908>, '22026': <gensim.models.keyedvectors.Vocab object at 0x7f525fb53978>, '21523': <gensim.models.keyedvectors.Vocab object at 0x7f525fb539e8>, '22847': <gensim.models.keyedvectors.Vocab object at 0x7f525fb53a58>, '84849A': <gensim.models.keyedvectors.Vocab object at 0x7f525fb53ac8>, '84849B': <gensim.models.keyedvectors.Vocab object at 0x7f525fb53b38>, '22685': <gensim.models.keyedvectors.Vocab object at 0x7f525fb53ba8>, '22684': <gensim.models.keyedvectors.Vocab object at 0x7f525fb53c18>, '22680': <gensim.models.keyedvectors.Vocab object at 0x7f525fb53c88>, '22679': <gensim.models.keyedvectors.Vocab object at 0x7f525fb53cf8>, '22676': <gensim.models.keyedvectors.Vocab object at 0x7f525fb53d68>, '22677': <gensim.models.keyedvectors.Vocab object at 0x7f525fb53dd8>, '22682': <gensim.models.keyedvectors.Vocab object at 0x7f525fb53e48>, '22673': <gensim.models.keyedvectors.Vocab object at 0x7f525fb53eb8>, '21903': <gensim.models.keyedvectors.Vocab object at 0x7f525fb53f28>, '21476': <gensim.models.keyedvectors.Vocab object at 0x7f525fb53f98>, '22762': <gensim.models.keyedvectors.Vocab object at 0x7f525fe86048>, '22426': <gensim.models.keyedvectors.Vocab object at 0x7f525fe860b8>, '22681': <gensim.models.keyedvectors.Vocab object at 0x7f525fe86128>, '22683': <gensim.models.keyedvectors.Vocab object at 0x7f525fe86198>, '23051': <gensim.models.keyedvectors.Vocab object at 0x7f525fe86208>, '82486': <gensim.models.keyedvectors.Vocab object at 0x7f525fe86278>, '85059': <gensim.models.keyedvectors.Vocab object at 0x7f525fe862e8>, '22912': <gensim.models.keyedvectors.Vocab object at 0x7f525fe86358>, '22832': <gensim.models.keyedvectors.Vocab object at 0x7f525fe863c8>, '22829': <gensim.models.keyedvectors.Vocab object at 0x7f525fe86438>, '22794': <gensim.models.keyedvectors.Vocab object at 0x7f525fe864a8>, '21907': <gensim.models.keyedvectors.Vocab object at 0x7f525fe86518>, '23142': <gensim.models.keyedvectors.Vocab object at 0x7f525fe86588>, '85150': <gensim.models.keyedvectors.Vocab object at 0x7f525fe865f8>, '21922': <gensim.models.keyedvectors.Vocab object at 0x7f525fe86668>, '22607': <gensim.models.keyedvectors.Vocab object at 0x7f525fe866d8>, '22502': <gensim.models.keyedvectors.Vocab object at 0x7f525fe86748>, '84796B': <gensim.models.keyedvectors.Vocab object at 0x7f525fe867b8>, '22501': <gensim.models.keyedvectors.Vocab object at 0x7f525fe86828>, '21069': <gensim.models.keyedvectors.Vocab object at 0x7f525fe86898>, '22698': <gensim.models.keyedvectors.Vocab object at 0x7f525fe86908>, '22699': <gensim.models.keyedvectors.Vocab object at 0x7f525fe86978>, '23170': <gensim.models.keyedvectors.Vocab object at 0x7f525fe869e8>, '23171': <gensim.models.keyedvectors.Vocab object at 0x7f525fe86a58>, '23173': <gensim.models.keyedvectors.Vocab object at 0x7f525fe86ac8>, '23174': <gensim.models.keyedvectors.Vocab object at 0x7f525fe86b38>, '23175': <gensim.models.keyedvectors.Vocab object at 0x7f525fe86ba8>, '23245': <gensim.models.keyedvectors.Vocab object at 0x7f525fe86c18>, '22777': <gensim.models.keyedvectors.Vocab object at 0x7f525fe86c88>, '21098': <gensim.models.keyedvectors.Vocab object at 0x7f525fe86cf8>, '22779': <gensim.models.keyedvectors.Vocab object at 0x7f525fe86d68>, '23108': <gensim.models.keyedvectors.Vocab object at 0x7f525fe86dd8>, '22985': <gensim.models.keyedvectors.Vocab object at 0x7f525fe86e48>, '22759': <gensim.models.keyedvectors.Vocab object at 0x7f525fe86eb8>, '85099C': <gensim.models.keyedvectors.Vocab object at 0x7f525fe86f28>, '21986': <gensim.models.keyedvectors.Vocab object at 0x7f525fe86f98>, '21980': <gensim.models.keyedvectors.Vocab object at 0x7f525fe75048>, '21985': <gensim.models.keyedvectors.Vocab object at 0x7f525fe750b8>, '22242': <gensim.models.keyedvectors.Vocab object at 0x7f525fe75128>, '20971': <gensim.models.keyedvectors.Vocab object at 0x7f525fe75198>, '22570': <gensim.models.keyedvectors.Vocab object at 0x7f525fe75208>, '37448': <gensim.models.keyedvectors.Vocab object at 0x7f525fe75278>, '22358': <gensim.models.keyedvectors.Vocab object at 0x7f525fe752e8>, '22960': <gensim.models.keyedvectors.Vocab object at 0x7f525fe75358>, '22961': <gensim.models.keyedvectors.Vocab object at 0x7f525fe753c8>, '22964': <gensim.models.keyedvectors.Vocab object at 0x7f525fe75438>, '22721': <gensim.models.keyedvectors.Vocab object at 0x7f525fe754a8>, '21213': <gensim.models.keyedvectors.Vocab object at 0x7f525fe75518>, '22666': <gensim.models.keyedvectors.Vocab object at 0x7f525fe75588>, '22665': <gensim.models.keyedvectors.Vocab object at 0x7f525fe755f8>, '22324': <gensim.models.keyedvectors.Vocab object at 0x7f525fe75668>, '22380': <gensim.models.keyedvectors.Vocab object at 0x7f525fe756d8>, '22664': <gensim.models.keyedvectors.Vocab object at 0x7f525fe75748>, '21731': <gensim.models.keyedvectors.Vocab object at 0x7f525fe757b8>, '47591D': <gensim.models.keyedvectors.Vocab object at 0x7f525fe75828>, '22367': <gensim.models.keyedvectors.Vocab object at 0x7f525fe75898>, '22472': <gensim.models.keyedvectors.Vocab object at 0x7f525fe75908>, '22654': <gensim.models.keyedvectors.Vocab object at 0x7f525fe75978>, '84997D': <gensim.models.keyedvectors.Vocab object at 0x7f525fe759e8>, '84997B': <gensim.models.keyedvectors.Vocab object at 0x7f525fe75a58>, '22301': <gensim.models.keyedvectors.Vocab object at 0x7f525fe75ac8>, '22630': <gensim.models.keyedvectors.Vocab object at 0x7f525fe75b38>, '22629': <gensim.models.keyedvectors.Vocab object at 0x7f525fe75ba8>, '22303': <gensim.models.keyedvectors.Vocab object at 0x7f525fe75c18>, '22302': <gensim.models.keyedvectors.Vocab object at 0x7f525fe75c88>, '22563': <gensim.models.keyedvectors.Vocab object at 0x7f525fe75cf8>, '22562': <gensim.models.keyedvectors.Vocab object at 0x7f525fe75d68>, '22714': <gensim.models.keyedvectors.Vocab object at 0x7f525fe75dd8>, '23207': <gensim.models.keyedvectors.Vocab object at 0x7f525fe75e48>, '22993': <gensim.models.keyedvectors.Vocab object at 0x7f525fe75eb8>, '22661': <gensim.models.keyedvectors.Vocab object at 0x7f525fe75f28>, '22974': <gensim.models.keyedvectors.Vocab object at 0x7f525fe75f98>, '22972': <gensim.models.keyedvectors.Vocab object at 0x7f5260a03048>, '20969': <gensim.models.keyedvectors.Vocab object at 0x7f5260a030b8>, '85099F': <gensim.models.keyedvectors.Vocab object at 0x7f5260a03128>, '23203': <gensim.models.keyedvectors.Vocab object at 0x7f5260a03198>, '22059': <gensim.models.keyedvectors.Vocab object at 0x7f5260a03208>, '22300': <gensim.models.keyedvectors.Vocab object at 0x7f5260a03278>, '84380': <gensim.models.keyedvectors.Vocab object at 0x7f5260a032e8>, '23298': <gensim.models.keyedvectors.Vocab object at 0x7f5260a03358>, '22784': <gensim.models.keyedvectors.Vocab object at 0x7f5260a033c8>, '20685': <gensim.models.keyedvectors.Vocab object at 0x7f5260a03438>, '23284': <gensim.models.keyedvectors.Vocab object at 0x7f5260a034a8>, '48185': <gensim.models.keyedvectors.Vocab object at 0x7f5260a03518>, '23191': <gensim.models.keyedvectors.Vocab object at 0x7f5260a03588>, '22328': <gensim.models.keyedvectors.Vocab object at 0x7f5260a035f8>, '22620': <gensim.models.keyedvectors.Vocab object at 0x7f5260a03668>, '23299': <gensim.models.keyedvectors.Vocab object at 0x7f5260a036d8>, '22530': <gensim.models.keyedvectors.Vocab object at 0x7f5260a03748>, '22617': <gensim.models.keyedvectors.Vocab object at 0x7f5260a037b8>, '22534': <gensim.models.keyedvectors.Vocab object at 0x7f5260a03828>, '21394': <gensim.models.keyedvectors.Vocab object at 0x7f5260a03898>, '21395': <gensim.models.keyedvectors.Vocab object at 0x7f5260a03908>, '21530': <gensim.models.keyedvectors.Vocab object at 0x7f5260a03978>, '21403': <gensim.models.keyedvectors.Vocab object at 0x7f5260a039e8>, '21402': <gensim.models.keyedvectors.Vocab object at 0x7f5260a03a58>, '21990': <gensim.models.keyedvectors.Vocab object at 0x7f5260a03ac8>, '21993': <gensim.models.keyedvectors.Vocab object at 0x7f5260a03b38>, '22062': <gensim.models.keyedvectors.Vocab object at 0x7f5260a03ba8>, '22208': <gensim.models.keyedvectors.Vocab object at 0x7f5260a03c18>, '22209': <gensim.models.keyedvectors.Vocab object at 0x7f5260a03c88>, '22609': <gensim.models.keyedvectors.Vocab object at 0x7f5260a03cf8>, '47593B': <gensim.models.keyedvectors.Vocab object at 0x7f5260a03d68>, '85132B': <gensim.models.keyedvectors.Vocab object at 0x7f5260a03dd8>, '85183B': <gensim.models.keyedvectors.Vocab object at 0x7f5260a03e48>, '85183A': <gensim.models.keyedvectors.Vocab object at 0x7f5260a03eb8>, '85132C': <gensim.models.keyedvectors.Vocab object at 0x7f5260a03f28>, '21080': <gensim.models.keyedvectors.Vocab object at 0x7f5260a03f98>, '22627': <gensim.models.keyedvectors.Vocab object at 0x7f52609fc048>, '22625': <gensim.models.keyedvectors.Vocab object at 0x7f52609fc0b8>, '22956': <gensim.models.keyedvectors.Vocab object at 0x7f52609fc128>, '22955': <gensim.models.keyedvectors.Vocab object at 0x7f52609fc198>, '22350': <gensim.models.keyedvectors.Vocab object at 0x7f52609fc208>, '21868': <gensim.models.keyedvectors.Vocab object at 0x7f52609fc278>, '20718': <gensim.models.keyedvectors.Vocab object at 0x7f52609fc2e8>, '22055': <gensim.models.keyedvectors.Vocab object at 0x7f52609fc358>, '21935': <gensim.models.keyedvectors.Vocab object at 0x7f52609fc3c8>, '23201': <gensim.models.keyedvectors.Vocab object at 0x7f52609fc438>, '21934': <gensim.models.keyedvectors.Vocab object at 0x7f52609fc4a8>, '22899': <gensim.models.keyedvectors.Vocab object at 0x7f52609fc518>, '16048': <gensim.models.keyedvectors.Vocab object at 0x7f52609fc588>, '23110': <gensim.models.keyedvectors.Vocab object at 0x7f52609fc5f8>, '23118': <gensim.models.keyedvectors.Vocab object at 0x7f52609fc668>, '23190': <gensim.models.keyedvectors.Vocab object at 0x7f52609fc6d8>, '23236': <gensim.models.keyedvectors.Vocab object at 0x7f52609fc748>, '23239': <gensim.models.keyedvectors.Vocab object at 0x7f52609fc7b8>, '23240': <gensim.models.keyedvectors.Vocab object at 0x7f52609fc828>, '23263': <gensim.models.keyedvectors.Vocab object at 0x7f52609fc898>, '23290': <gensim.models.keyedvectors.Vocab object at 0x7f52609fc908>, '23291': <gensim.models.keyedvectors.Vocab object at 0x7f52609fc978>, '23289': <gensim.models.keyedvectors.Vocab object at 0x7f52609fc9e8>, '23292': <gensim.models.keyedvectors.Vocab object at 0x7f52609fca58>, '16218': <gensim.models.keyedvectors.Vocab object at 0x7f52609fcac8>, '16054': <gensim.models.keyedvectors.Vocab object at 0x7f52609fcb38>, '16259': <gensim.models.keyedvectors.Vocab object at 0x7f52609fcba8>, '16045': <gensim.models.keyedvectors.Vocab object at 0x7f52609fcc18>, '17012A': <gensim.models.keyedvectors.Vocab object at 0x7f52609fcc88>, '17012B': <gensim.models.keyedvectors.Vocab object at 0x7f52609fccf8>, '20840': <gensim.models.keyedvectors.Vocab object at 0x7f52609fcd68>, '20835': <gensim.models.keyedvectors.Vocab object at 0x7f52609fcdd8>, '21641': <gensim.models.keyedvectors.Vocab object at 0x7f52609fce48>, '22551': <gensim.models.keyedvectors.Vocab object at 0x7f52609fceb8>, '22232': <gensim.models.keyedvectors.Vocab object at 0x7f52609fcf28>, '22233': <gensim.models.keyedvectors.Vocab object at 0x7f52609fcf98>, '22400': <gensim.models.keyedvectors.Vocab object at 0x7f5260a21048>, '22403': <gensim.models.keyedvectors.Vocab object at 0x7f5260a210b8>, '22402': <gensim.models.keyedvectors.Vocab object at 0x7f5260a21128>, '85130B': <gensim.models.keyedvectors.Vocab object at 0x7f5260a21198>, '23296': <gensim.models.keyedvectors.Vocab object at 0x7f5260a21208>, '23294': <gensim.models.keyedvectors.Vocab object at 0x7f5260a21278>, '23297': <gensim.models.keyedvectors.Vocab object at 0x7f5260a212e8>, '85071D': <gensim.models.keyedvectors.Vocab object at 0x7f5260a21358>, '23345': <gensim.models.keyedvectors.Vocab object at 0x7f5260a213c8>, '23346': <gensim.models.keyedvectors.Vocab object at 0x7f5260a21438>, '23200': <gensim.models.keyedvectors.Vocab object at 0x7f5260a214a8>, '23199': <gensim.models.keyedvectors.Vocab object at 0x7f5260a21518>, '22569': <gensim.models.keyedvectors.Vocab object at 0x7f5260a21588>, '16235': <gensim.models.keyedvectors.Vocab object at 0x7f5260a215f8>, '16219': <gensim.models.keyedvectors.Vocab object at 0x7f5260a21668>, '21088': <gensim.models.keyedvectors.Vocab object at 0x7f5260a216d8>, '21096': <gensim.models.keyedvectors.Vocab object at 0x7f5260a21748>, '21642': <gensim.models.keyedvectors.Vocab object at 0x7f5260a217b8>, '21524': <gensim.models.keyedvectors.Vocab object at 0x7f5260a21828>, '21400': <gensim.models.keyedvectors.Vocab object at 0x7f5260a21898>, '21401': <gensim.models.keyedvectors.Vocab object at 0x7f5260a21908>, '21845': <gensim.models.keyedvectors.Vocab object at 0x7f5260a21978>, '22094': <gensim.models.keyedvectors.Vocab object at 0x7f5260a219e8>, '22092': <gensim.models.keyedvectors.Vocab object at 0x7f5260a21a58>, '22099': <gensim.models.keyedvectors.Vocab object at 0x7f5260a21ac8>, '22096': <gensim.models.keyedvectors.Vocab object at 0x7f5260a21b38>, '85071C': <gensim.models.keyedvectors.Vocab object at 0x7f5260a21ba8>, '21982': <gensim.models.keyedvectors.Vocab object at 0x7f5260a21c18>, '22667': <gensim.models.keyedvectors.Vocab object at 0x7f5260a21c88>, '23528': <gensim.models.keyedvectors.Vocab object at 0x7f5260a21cf8>, '23529': <gensim.models.keyedvectors.Vocab object at 0x7f5260a21d68>, '23343': <gensim.models.keyedvectors.Vocab object at 0x7f5260a21dd8>, '22110': <gensim.models.keyedvectors.Vocab object at 0x7f5260a21e48>, '23375': <gensim.models.keyedvectors.Vocab object at 0x7f5260a21eb8>, '23373': <gensim.models.keyedvectors.Vocab object at 0x7f5260a21f28>, '23436': <gensim.models.keyedvectors.Vocab object at 0x7f5260a21f98>, '23374': <gensim.models.keyedvectors.Vocab object at 0x7f5260a52048>, '23438': <gensim.models.keyedvectors.Vocab object at 0x7f5260a520b8>, '23328': <gensim.models.keyedvectors.Vocab object at 0x7f5260a52128>, '23434': <gensim.models.keyedvectors.Vocab object at 0x7f5260a52198>, '22577': <gensim.models.keyedvectors.Vocab object at 0x7f5260a52208>, '22579': <gensim.models.keyedvectors.Vocab object at 0x7f5260a52278>, '22187': <gensim.models.keyedvectors.Vocab object at 0x7f5260a522e8>, '21824': <gensim.models.keyedvectors.Vocab object at 0x7f5260a52358>, '22093': <gensim.models.keyedvectors.Vocab object at 0x7f5260a523c8>, '22091': <gensim.models.keyedvectors.Vocab object at 0x7f5260a52438>, '22100': <gensim.models.keyedvectors.Vocab object at 0x7f5260a524a8>, '22897': <gensim.models.keyedvectors.Vocab object at 0x7f5260a52518>, '22549': <gensim.models.keyedvectors.Vocab object at 0x7f5260a52588>, '23483': <gensim.models.keyedvectors.Vocab object at 0x7f5260a525f8>, '22809': <gensim.models.keyedvectors.Vocab object at 0x7f5260a52668>, '22079': <gensim.models.keyedvectors.Vocab object at 0x7f5260a526d8>, '35911A': <gensim.models.keyedvectors.Vocab object at 0x7f5260a52748>, '22505': <gensim.models.keyedvectors.Vocab object at 0x7f5260a527b8>, '22970': <gensim.models.keyedvectors.Vocab object at 0x7f5260a52828>, '20681': <gensim.models.keyedvectors.Vocab object at 0x7f5260a52898>, '20682': <gensim.models.keyedvectors.Vocab object at 0x7f5260a52908>, '21484': <gensim.models.keyedvectors.Vocab object at 0x7f5260a52978>, '21947': <gensim.models.keyedvectors.Vocab object at 0x7f5260a529e8>, '22561': <gensim.models.keyedvectors.Vocab object at 0x7f5260a52a58>, '20777': <gensim.models.keyedvectors.Vocab object at 0x7f5260a52ac8>, '20774': <gensim.models.keyedvectors.Vocab object at 0x7f5260a52b38>, '20658': <gensim.models.keyedvectors.Vocab object at 0x7f5260a52ba8>, '20684': <gensim.models.keyedvectors.Vocab object at 0x7f5260a52c18>, '22556': <gensim.models.keyedvectors.Vocab object at 0x7f5260a52c88>, '22859': <gensim.models.keyedvectors.Vocab object at 0x7f5260a52cf8>, '22900': <gensim.models.keyedvectors.Vocab object at 0x7f5260a52d68>, '22991': <gensim.models.keyedvectors.Vocab object at 0x7f5260a52dd8>, '21981': <gensim.models.keyedvectors.Vocab object at 0x7f5260a52e48>, '22406': <gensim.models.keyedvectors.Vocab object at 0x7f5260a52eb8>, '21830': <gensim.models.keyedvectors.Vocab object at 0x7f5260a52f28>, '22861': <gensim.models.keyedvectors.Vocab object at 0x7f5260a52f98>, '22860': <gensim.models.keyedvectors.Vocab object at 0x7f5260a28048>, '22557': <gensim.models.keyedvectors.Vocab object at 0x7f5260a280b8>, '22553': <gensim.models.keyedvectors.Vocab object at 0x7f5260a28128>, '21557': <gensim.models.keyedvectors.Vocab object at 0x7f5260a28198>, '22179': <gensim.models.keyedvectors.Vocab object at 0x7f5260a28208>, '21915': <gensim.models.keyedvectors.Vocab object at 0x7f5260a28278>, '21914': <gensim.models.keyedvectors.Vocab object at 0x7f5260a282e8>, '21327': <gensim.models.keyedvectors.Vocab object at 0x7f5260a28358>, '21328': <gensim.models.keyedvectors.Vocab object at 0x7f5260a283c8>, '84218': <gensim.models.keyedvectors.Vocab object at 0x7f5260a28438>, '22564': <gensim.models.keyedvectors.Vocab object at 0x7f5260a284a8>, '22084': <gensim.models.keyedvectors.Vocab object at 0x7f5260a28518>, '22061': <gensim.models.keyedvectors.Vocab object at 0x7f5260a28588>, '22170': <gensim.models.keyedvectors.Vocab object at 0x7f5260a285f8>, '48187': <gensim.models.keyedvectors.Vocab object at 0x7f5260a28668>, '22660': <gensim.models.keyedvectors.Vocab object at 0x7f5260a286d8>, '22498': <gensim.models.keyedvectors.Vocab object at 0x7f5260a28748>, '84569A': <gensim.models.keyedvectors.Vocab object at 0x7f5260a287b8>, '21878': <gensim.models.keyedvectors.Vocab object at 0x7f5260a28828>, '22384': <gensim.models.keyedvectors.Vocab object at 0x7f5260a28898>, '22978': <gensim.models.keyedvectors.Vocab object at 0x7f5260a28908>, '23183': <gensim.models.keyedvectors.Vocab object at 0x7f5260a28978>, '22354': <gensim.models.keyedvectors.Vocab object at 0x7f5260a289e8>, '22573': <gensim.models.keyedvectors.Vocab object at 0x7f5260a28a58>, '22574': <gensim.models.keyedvectors.Vocab object at 0x7f5260a28ac8>, '22581': <gensim.models.keyedvectors.Vocab object at 0x7f5260a28b38>, '22601': <gensim.models.keyedvectors.Vocab object at 0x7f5260a28ba8>, '22603': <gensim.models.keyedvectors.Vocab object at 0x7f5260a28c18>, '22086': <gensim.models.keyedvectors.Vocab object at 0x7f5260a28c88>, '21111': <gensim.models.keyedvectors.Vocab object at 0x7f5260a28cf8>, '22910': <gensim.models.keyedvectors.Vocab object at 0x7f5260a28d68>, '22389': <gensim.models.keyedvectors.Vocab object at 0x7f5260a28dd8>, '22998': <gensim.models.keyedvectors.Vocab object at 0x7f5260a28e48>, '23502': <gensim.models.keyedvectors.Vocab object at 0x7f5260a28eb8>, '21789': <gensim.models.keyedvectors.Vocab object at 0x7f5260a28f28>, '23378': <gensim.models.keyedvectors.Vocab object at 0x7f5260a28f98>, '23505': <gensim.models.keyedvectors.Vocab object at 0x7f5261515048>, '23350': <gensim.models.keyedvectors.Vocab object at 0x7f52615150b8>, '23352': <gensim.models.keyedvectors.Vocab object at 0x7f5261515128>, '21945': <gensim.models.keyedvectors.Vocab object at 0x7f5261515198>, '23695': <gensim.models.keyedvectors.Vocab object at 0x7f5261515208>, '22942': <gensim.models.keyedvectors.Vocab object at 0x7f5261515278>, '23313': <gensim.models.keyedvectors.Vocab object at 0x7f52615152e8>, '23293': <gensim.models.keyedvectors.Vocab object at 0x7f5261515358>, '23295': <gensim.models.keyedvectors.Vocab object at 0x7f52615153c8>, '22780': <gensim.models.keyedvectors.Vocab object at 0x7f5261515438>, '20780': <gensim.models.keyedvectors.Vocab object at 0x7f52615154a8>, '84031A': <gensim.models.keyedvectors.Vocab object at 0x7f5261515518>, '23549': <gensim.models.keyedvectors.Vocab object at 0x7f5261515588>, '22959': <gensim.models.keyedvectors.Vocab object at 0x7f52615155f8>, '22434': <gensim.models.keyedvectors.Vocab object at 0x7f5261515668>, '23581': <gensim.models.keyedvectors.Vocab object at 0x7f52615156d8>, '20713': <gensim.models.keyedvectors.Vocab object at 0x7f5261515748>, '22411': <gensim.models.keyedvectors.Vocab object at 0x7f52615157b8>, '22356': <gensim.models.keyedvectors.Vocab object at 0x7f5261515828>, '22980': <gensim.models.keyedvectors.Vocab object at 0x7f5261515898>, '22979': <gensim.models.keyedvectors.Vocab object at 0x7f5261515908>, '22966': <gensim.models.keyedvectors.Vocab object at 0x7f5261515978>, '22962': <gensim.models.keyedvectors.Vocab object at 0x7f52615159e8>, '22963': <gensim.models.keyedvectors.Vocab object at 0x7f5261515a58>, '22989': <gensim.models.keyedvectors.Vocab object at 0x7f5261515ac8>, '22846': <gensim.models.keyedvectors.Vocab object at 0x7f5261515b38>, '22624': <gensim.models.keyedvectors.Vocab object at 0x7f5261515ba8>, '22558': <gensim.models.keyedvectors.Vocab object at 0x7f5261515c18>, '22895': <gensim.models.keyedvectors.Vocab object at 0x7f5261515c88>, '22824': <gensim.models.keyedvectors.Vocab object at 0x7f5261515cf8>, '21136': <gensim.models.keyedvectors.Vocab object at 0x7f5261515d68>, '22925': <gensim.models.keyedvectors.Vocab object at 0x7f5261515dd8>, '22692': <gensim.models.keyedvectors.Vocab object at 0x7f5261515e48>, '21888': <gensim.models.keyedvectors.Vocab object at 0x7f5261515eb8>, '22193': <gensim.models.keyedvectors.Vocab object at 0x7f5261515f28>, '23204': <gensim.models.keyedvectors.Vocab object at 0x7f5261515f98>, '23202': <gensim.models.keyedvectors.Vocab object at 0x7f5261524048>, '23111': <gensim.models.keyedvectors.Vocab object at 0x7f52615240b8>, '22429': <gensim.models.keyedvectors.Vocab object at 0x7f5261524128>, '22381': <gensim.models.keyedvectors.Vocab object at 0x7f5261524198>, '22379': <gensim.models.keyedvectors.Vocab object at 0x7f5261524208>, '21212': <gensim.models.keyedvectors.Vocab object at 0x7f5261524278>, '20724': <gensim.models.keyedvectors.Vocab object at 0x7f52615242e8>, '23306': <gensim.models.keyedvectors.Vocab object at 0x7f5261524358>, '23229': <gensim.models.keyedvectors.Vocab object at 0x7f52615243c8>, '22158': <gensim.models.keyedvectors.Vocab object at 0x7f5261524438>, '23130': <gensim.models.keyedvectors.Vocab object at 0x7f52615244a8>, '23131': <gensim.models.keyedvectors.Vocab object at 0x7f5261524518>, '23547': <gensim.models.keyedvectors.Vocab object at 0x7f5261524588>, '23545': <gensim.models.keyedvectors.Vocab object at 0x7f52615245f8>, '23012': <gensim.models.keyedvectors.Vocab object at 0x7f5261524668>, '23013': <gensim.models.keyedvectors.Vocab object at 0x7f52615246d8>, '22741': <gensim.models.keyedvectors.Vocab object at 0x7f5261524748>, '23534': <gensim.models.keyedvectors.Vocab object at 0x7f52615247b8>, '23411': <gensim.models.keyedvectors.Vocab object at 0x7f5261524828>, '48188': <gensim.models.keyedvectors.Vocab object at 0x7f5261524898>, '48173C': <gensim.models.keyedvectors.Vocab object at 0x7f5261524908>, '21955': <gensim.models.keyedvectors.Vocab object at 0x7f5261524978>, '48138': <gensim.models.keyedvectors.Vocab object at 0x7f52615249e8>, '48111': <gensim.models.keyedvectors.Vocab object at 0x7f5261524a58>, '48116': <gensim.models.keyedvectors.Vocab object at 0x7f5261524ac8>, '22690': <gensim.models.keyedvectors.Vocab object at 0x7f5261524b38>, '22128': <gensim.models.keyedvectors.Vocab object at 0x7f5261524ba8>, '72802C': <gensim.models.keyedvectors.Vocab object at 0x7f5261524c18>, '72802A': <gensim.models.keyedvectors.Vocab object at 0x7f5261524c88>, '72807A': <gensim.models.keyedvectors.Vocab object at 0x7f5261524cf8>, '72807B': <gensim.models.keyedvectors.Vocab object at 0x7f5261524d68>, '85035A': <gensim.models.keyedvectors.Vocab object at 0x7f5261524dd8>, '72803A': <gensim.models.keyedvectors.Vocab object at 0x7f5261524e48>, '72351B': <gensim.models.keyedvectors.Vocab object at 0x7f5261524eb8>, '72351A': <gensim.models.keyedvectors.Vocab object at 0x7f5261524f28>, '84997C': <gensim.models.keyedvectors.Vocab object at 0x7f5261524f98>, '20931': <gensim.models.keyedvectors.Vocab object at 0x7f5261629048>, '48129': <gensim.models.keyedvectors.Vocab object at 0x7f52616290b8>, '48184': <gensim.models.keyedvectors.Vocab object at 0x7f5261629128>, '22120': <gensim.models.keyedvectors.Vocab object at 0x7f5261629198>, '22478': <gensim.models.keyedvectors.Vocab object at 0x7f5261629208>, '22499': <gensim.models.keyedvectors.Vocab object at 0x7f5261629278>, '21843': <gensim.models.keyedvectors.Vocab object at 0x7f52616292e8>, '22090': <gensim.models.keyedvectors.Vocab object at 0x7f5261629358>, '72807C': <gensim.models.keyedvectors.Vocab object at 0x7f52616293c8>, '22480': <gensim.models.keyedvectors.Vocab object at 0x7f5261629438>, '20751': <gensim.models.keyedvectors.Vocab object at 0x7f52616294a8>, '20754': <gensim.models.keyedvectors.Vocab object at 0x7f5261629518>, '22691': <gensim.models.keyedvectors.Vocab object at 0x7f5261629588>, '22117': <gensim.models.keyedvectors.Vocab object at 0x7f52616295f8>, '22507': <gensim.models.keyedvectors.Vocab object at 0x7f5261629668>, '85169C': <gensim.models.keyedvectors.Vocab object at 0x7f52616296d8>, '85169D': <gensim.models.keyedvectors.Vocab object at 0x7f5261629748>, '85170C': <gensim.models.keyedvectors.Vocab object at 0x7f52616297b8>, '20851': <gensim.models.keyedvectors.Vocab object at 0x7f5261629828>, '20847': <gensim.models.keyedvectors.Vocab object at 0x7f5261629898>, '20848': <gensim.models.keyedvectors.Vocab object at 0x7f5261629908>, '22441': <gensim.models.keyedvectors.Vocab object at 0x7f5261629978>, '21896': <gensim.models.keyedvectors.Vocab object at 0x7f52616299e8>, '22327': <gensim.models.keyedvectors.Vocab object at 0x7f5261629a58>, '20749': <gensim.models.keyedvectors.Vocab object at 0x7f5261629ac8>, '20750': <gensim.models.keyedvectors.Vocab object at 0x7f5261629b38>, '17012F': <gensim.models.keyedvectors.Vocab object at 0x7f5261629ba8>, '17012C': <gensim.models.keyedvectors.Vocab object at 0x7f5261629c18>, '21692': <gensim.models.keyedvectors.Vocab object at 0x7f5261629c88>, '21688': <gensim.models.keyedvectors.Vocab object at 0x7f5261629cf8>, '21695': <gensim.models.keyedvectors.Vocab object at 0x7f5261629d68>, '21693': <gensim.models.keyedvectors.Vocab object at 0x7f5261629dd8>, '22070': <gensim.models.keyedvectors.Vocab object at 0x7f5261629e48>, '84974': <gensim.models.keyedvectors.Vocab object at 0x7f5261629eb8>, '21155': <gensim.models.keyedvectors.Vocab object at 0x7f5261629f28>, '22365': <gensim.models.keyedvectors.Vocab object at 0x7f5261629f98>, '85125': <gensim.models.keyedvectors.Vocab object at 0x7f5261643048>, '21682': <gensim.models.keyedvectors.Vocab object at 0x7f52616430b8>, '22071': <gensim.models.keyedvectors.Vocab object at 0x7f5261643128>, '85144': <gensim.models.keyedvectors.Vocab object at 0x7f5261643198>, '47566B': <gensim.models.keyedvectors.Vocab object at 0x7f5261643208>, '22214': <gensim.models.keyedvectors.Vocab object at 0x7f5261643278>, '21288': <gensim.models.keyedvectors.Vocab object at 0x7f52616432e8>, '21292': <gensim.models.keyedvectors.Vocab object at 0x7f5261643358>, '84030E': <gensim.models.keyedvectors.Vocab object at 0x7f52616433c8>, '21055': <gensim.models.keyedvectors.Vocab object at 0x7f5261643438>, '22141': <gensim.models.keyedvectors.Vocab object at 0x7f52616434a8>, '22144': <gensim.models.keyedvectors.Vocab object at 0x7f5261643518>, '20772': <gensim.models.keyedvectors.Vocab object at 0x7f5261643588>, '20766': <gensim.models.keyedvectors.Vocab object at 0x7f52616435f8>, '21317': <gensim.models.keyedvectors.Vocab object at 0x7f5261643668>, '23491': <gensim.models.keyedvectors.Vocab object at 0x7f52616436d8>, '23103': <gensim.models.keyedvectors.Vocab object at 0x7f5261643748>, '23489': <gensim.models.keyedvectors.Vocab object at 0x7f52616437b8>, '21121': <gensim.models.keyedvectors.Vocab object at 0x7f5261643828>, '21122': <gensim.models.keyedvectors.Vocab object at 0x7f5261643898>, '21124': <gensim.models.keyedvectors.Vocab object at 0x7f5261643908>, '21977': <gensim.models.keyedvectors.Vocab object at 0x7f5261643978>, '21975': <gensim.models.keyedvectors.Vocab object at 0x7f52616439e8>, '23308': <gensim.models.keyedvectors.Vocab object at 0x7f5261643a58>, '23307': <gensim.models.keyedvectors.Vocab object at 0x7f5261643ac8>, '23189': <gensim.models.keyedvectors.Vocab object at 0x7f5261643b38>, '22555': <gensim.models.keyedvectors.Vocab object at 0x7f5261643ba8>, '84378': <gensim.models.keyedvectors.Vocab object at 0x7f5261643c18>, '23172': <gensim.models.keyedvectors.Vocab object at 0x7f5261643c88>, '23274': <gensim.models.keyedvectors.Vocab object at 0x7f5261643cf8>, '22949': <gensim.models.keyedvectors.Vocab object at 0x7f5261643d68>, '21210': <gensim.models.keyedvectors.Vocab object at 0x7f5261643dd8>, '84987': <gensim.models.keyedvectors.Vocab object at 0x7f5261643e48>, '22838': <gensim.models.keyedvectors.Vocab object at 0x7f5261643eb8>, '22839': <gensim.models.keyedvectors.Vocab object at 0x7f5261643f28>, '21240': <gensim.models.keyedvectors.Vocab object at 0x7f5261643f98>, '21239': <gensim.models.keyedvectors.Vocab object at 0x7f5261622048>, '20674': <gensim.models.keyedvectors.Vocab object at 0x7f52616220b8>, '20675': <gensim.models.keyedvectors.Vocab object at 0x7f5261622128>, '20677': <gensim.models.keyedvectors.Vocab object at 0x7f5261622198>, '21245': <gensim.models.keyedvectors.Vocab object at 0x7f5261622208>, '21244': <gensim.models.keyedvectors.Vocab object at 0x7f5261622278>, '21243': <gensim.models.keyedvectors.Vocab object at 0x7f52616222e8>, '23288': <gensim.models.keyedvectors.Vocab object at 0x7f5261622358>, '23287': <gensim.models.keyedvectors.Vocab object at 0x7f52616223c8>, '23286': <gensim.models.keyedvectors.Vocab object at 0x7f5261622438>, '23285': <gensim.models.keyedvectors.Vocab object at 0x7f52616224a8>, '20668': <gensim.models.keyedvectors.Vocab object at 0x7f5261622518>, '23543': <gensim.models.keyedvectors.Vocab object at 0x7f5261622588>, '21918': <gensim.models.keyedvectors.Vocab object at 0x7f52616225f8>, '22842': <gensim.models.keyedvectors.Vocab object at 0x7f5261622668>, '22840': <gensim.models.keyedvectors.Vocab object at 0x7f52616226d8>, '22338': <gensim.models.keyedvectors.Vocab object at 0x7f5261622748>, '22339': <gensim.models.keyedvectors.Vocab object at 0x7f52616227b8>, '22947': <gensim.models.keyedvectors.Vocab object at 0x7f5261622828>, '21373': <gensim.models.keyedvectors.Vocab object at 0x7f5261622898>, '23101': <gensim.models.keyedvectors.Vocab object at 0x7f5261622908>, '23471': <gensim.models.keyedvectors.Vocab object at 0x7f5261622978>, '23414': <gensim.models.keyedvectors.Vocab object at 0x7f52616229e8>, '23459': <gensim.models.keyedvectors.Vocab object at 0x7f5261622a58>, '23145': <gensim.models.keyedvectors.Vocab object at 0x7f5261622ac8>, '22068': <gensim.models.keyedvectors.Vocab object at 0x7f5261622b38>, '22778': <gensim.models.keyedvectors.Vocab object at 0x7f5261622ba8>, '23571': <gensim.models.keyedvectors.Vocab object at 0x7f5261622c18>, '21883': <gensim.models.keyedvectors.Vocab object at 0x7f5261622c88>, '22952': <gensim.models.keyedvectors.Vocab object at 0x7f5261622cf8>, '22946': <gensim.models.keyedvectors.Vocab object at 0x7f5261622d68>, '22745': <gensim.models.keyedvectors.Vocab object at 0x7f5261622dd8>, '22746': <gensim.models.keyedvectors.Vocab object at 0x7f5261622e48>, '20972': <gensim.models.keyedvectors.Vocab object at 0x7f5261622eb8>, '16225': <gensim.models.keyedvectors.Vocab object at 0x7f5261622f28>, '22748': <gensim.models.keyedvectors.Vocab object at 0x7f5261622f98>, '85194L': <gensim.models.keyedvectors.Vocab object at 0x7f5261e8c048>, '22087': <gensim.models.keyedvectors.Vocab object at 0x7f5261e8c0b8>, '22332': <gensim.models.keyedvectors.Vocab object at 0x7f5261e8c128>, '22333': <gensim.models.keyedvectors.Vocab object at 0x7f5261e8c198>, '22334': <gensim.models.keyedvectors.Vocab object at 0x7f5261e8c208>, '22431': <gensim.models.keyedvectors.Vocab object at 0x7f5261e8c278>, '22489': <gensim.models.keyedvectors.Vocab object at 0x7f5261e8c2e8>, '22521': <gensim.models.keyedvectors.Vocab object at 0x7f5261e8c358>, '22432': <gensim.models.keyedvectors.Vocab object at 0x7f5261e8c3c8>, '22518': <gensim.models.keyedvectors.Vocab object at 0x7f5261e8c438>, '22580': <gensim.models.keyedvectors.Vocab object at 0x7f5261e8c4a8>, '23393': <gensim.models.keyedvectors.Vocab object at 0x7f5261e8c518>, '46000S': <gensim.models.keyedvectors.Vocab object at 0x7f5261e8c588>, '22747': <gensim.models.keyedvectors.Vocab object at 0x7f5261e8c5f8>, '22621': <gensim.models.keyedvectors.Vocab object at 0x7f5261e8c668>, '21650': <gensim.models.keyedvectors.Vocab object at 0x7f5261e8c6d8>, '51014L': <gensim.models.keyedvectors.Vocab object at 0x7f5261e8c748>, '23310': <gensim.models.keyedvectors.Vocab object at 0x7f5261e8c7b8>, '84988': <gensim.models.keyedvectors.Vocab object at 0x7f5261e8c828>, '17038': <gensim.models.keyedvectors.Vocab object at 0x7f5261e8c898>, '22227': <gensim.models.keyedvectors.Vocab object at 0x7f5261e8c908>, '18007': <gensim.models.keyedvectors.Vocab object at 0x7f5261e8c978>, '21726': <gensim.models.keyedvectors.Vocab object at 0x7f5261e8c9e8>, '79160': <gensim.models.keyedvectors.Vocab object at 0x7f5261e8ca58>, '22639': <gensim.models.keyedvectors.Vocab object at 0x7f5261e8cac8>, '85184C': <gensim.models.keyedvectors.Vocab object at 0x7f5261e8cb38>, '21677': <gensim.models.keyedvectors.Vocab object at 0x7f5261e8cba8>, '21679': <gensim.models.keyedvectors.Vocab object at 0x7f5261e8cc18>, '84050': <gensim.models.keyedvectors.Vocab object at 0x7f5261e8cc88>, '20707': <gensim.models.keyedvectors.Vocab object at 0x7f5261e8ccf8>, '79190D': <gensim.models.keyedvectors.Vocab object at 0x7f5261e8cd68>, '79190B': <gensim.models.keyedvectors.Vocab object at 0x7f5261e8cdd8>, '37446': <gensim.models.keyedvectors.Vocab object at 0x7f5261e8ce48>, '22954': <gensim.models.keyedvectors.Vocab object at 0x7f5261e8ceb8>, '22097': <gensim.models.keyedvectors.Vocab object at 0x7f5261e8cf28>, '22188': <gensim.models.keyedvectors.Vocab object at 0x7f5261e8cf98>, '23141': <gensim.models.keyedvectors.Vocab object at 0x7f5261e57048>, '23140': <gensim.models.keyedvectors.Vocab object at 0x7f5261e570b8>, '23338': <gensim.models.keyedvectors.Vocab object at 0x7f5261e57128>, '21899': <gensim.models.keyedvectors.Vocab object at 0x7f5261e57198>, '47480': <gensim.models.keyedvectors.Vocab object at 0x7f5261e57208>, '85061W': <gensim.models.keyedvectors.Vocab object at 0x7f5261e57278>, '85130D': <gensim.models.keyedvectors.Vocab object at 0x7f5261e572e8>, '22597': <gensim.models.keyedvectors.Vocab object at 0x7f5261e57358>, '23138': <gensim.models.keyedvectors.Vocab object at 0x7f5261e573c8>, '21291': <gensim.models.keyedvectors.Vocab object at 0x7f5261e57438>, '22344': <gensim.models.keyedvectors.Vocab object at 0x7f5261e574a8>, '23139': <gensim.models.keyedvectors.Vocab object at 0x7f5261e57518>, '22156': <gensim.models.keyedvectors.Vocab object at 0x7f5261e57588>, '23215': <gensim.models.keyedvectors.Vocab object at 0x7f5261e575f8>, '35265': <gensim.models.keyedvectors.Vocab object at 0x7f5261e57668>, '23127': <gensim.models.keyedvectors.Vocab object at 0x7f5261e576d8>, '23126': <gensim.models.keyedvectors.Vocab object at 0x7f5261e57748>, '22273': <gensim.models.keyedvectors.Vocab object at 0x7f5261e577b8>, '22271': <gensim.models.keyedvectors.Vocab object at 0x7f5261e57828>, '20970': <gensim.models.keyedvectors.Vocab object at 0x7f5261e57898>, '22295': <gensim.models.keyedvectors.Vocab object at 0x7f5261e57908>, '22180': <gensim.models.keyedvectors.Vocab object at 0x7f5261e57978>, '21624': <gensim.models.keyedvectors.Vocab object at 0x7f5261e579e8>, '20897': <gensim.models.keyedvectors.Vocab object at 0x7f5261e57a58>, '37370': <gensim.models.keyedvectors.Vocab object at 0x7f5261e57ac8>, '21066': <gensim.models.keyedvectors.Vocab object at 0x7f5261e57b38>, '22192': <gensim.models.keyedvectors.Vocab object at 0x7f5261e57ba8>, '22637': <gensim.models.keyedvectors.Vocab object at 0x7f5261e57c18>, '22508': <gensim.models.keyedvectors.Vocab object at 0x7f5261e57c88>, '21658': <gensim.models.keyedvectors.Vocab object at 0x7f5261e57cf8>, '85135C': <gensim.models.keyedvectors.Vocab object at 0x7f5261e57d68>, '72760B': <gensim.models.keyedvectors.Vocab object at 0x7f5261e57dd8>, '22841': <gensim.models.keyedvectors.Vocab object at 0x7f5261e57e48>, '35241': <gensim.models.keyedvectors.Vocab object at 0x7f5261e57eb8>, '21894': <gensim.models.keyedvectors.Vocab object at 0x7f5261e57f28>, '22852': <gensim.models.keyedvectors.Vocab object at 0x7f5261e57f98>, '84032B': <gensim.models.keyedvectors.Vocab object at 0x7f52624d0048>, '21038': <gensim.models.keyedvectors.Vocab object at 0x7f52624d00b8>, '21876': <gensim.models.keyedvectors.Vocab object at 0x7f52624d0128>, '22622': <gensim.models.keyedvectors.Vocab object at 0x7f52624d0198>, '21844': <gensim.models.keyedvectors.Vocab object at 0x7f52624d0208>, '21539': <gensim.models.keyedvectors.Vocab object at 0x7f52624d0278>, '21531': <gensim.models.keyedvectors.Vocab object at 0x7f52624d02e8>, '21218': <gensim.models.keyedvectors.Vocab object at 0x7f52624d0358>, '21216': <gensim.models.keyedvectors.Vocab object at 0x7f52624d03c8>, '22795': <gensim.models.keyedvectors.Vocab object at 0x7f52624d0438>, '21110': <gensim.models.keyedvectors.Vocab object at 0x7f52624d04a8>, '21109': <gensim.models.keyedvectors.Vocab object at 0x7f52624d0518>, '21108': <gensim.models.keyedvectors.Vocab object at 0x7f52624d0588>, '21107': <gensim.models.keyedvectors.Vocab object at 0x7f52624d05f8>, '21106': <gensim.models.keyedvectors.Vocab object at 0x7f52624d0668>, '22274': <gensim.models.keyedvectors.Vocab object at 0x7f52624d06d8>, '22142': <gensim.models.keyedvectors.Vocab object at 0x7f52624d0748>, '23376': <gensim.models.keyedvectors.Vocab object at 0x7f52624d07b8>, '22950': <gensim.models.keyedvectors.Vocab object at 0x7f52624d0828>, '23312': <gensim.models.keyedvectors.Vocab object at 0x7f52624d0898>, '23426': <gensim.models.keyedvectors.Vocab object at 0x7f52624d0908>, '20728': <gensim.models.keyedvectors.Vocab object at 0x7f52624d0978>, '23495': <gensim.models.keyedvectors.Vocab object at 0x7f52624d09e8>, '47590A': <gensim.models.keyedvectors.Vocab object at 0x7f52624d0a58>, '47590B': <gensim.models.keyedvectors.Vocab object at 0x7f52624d0ac8>, '23068': <gensim.models.keyedvectors.Vocab object at 0x7f52624d0b38>, '46000M': <gensim.models.keyedvectors.Vocab object at 0x7f52624d0ba8>, '23395': <gensim.models.keyedvectors.Vocab object at 0x7f52624d0c18>, '23396': <gensim.models.keyedvectors.Vocab object at 0x7f52624d0c88>, '71477': <gensim.models.keyedvectors.Vocab object at 0x7f52624d0cf8>, '22296': <gensim.models.keyedvectors.Vocab object at 0x7f52624d0d68>, '23227': <gensim.models.keyedvectors.Vocab object at 0x7f52624d0dd8>, '23210': <gensim.models.keyedvectors.Vocab object at 0x7f52624d0e48>, '23224': <gensim.models.keyedvectors.Vocab object at 0x7f52624d0eb8>, '23220': <gensim.models.keyedvectors.Vocab object at 0x7f52624d0f28>, '23222': <gensim.models.keyedvectors.Vocab object at 0x7f52624d0f98>, '22600': <gensim.models.keyedvectors.Vocab object at 0x7f52624a5048>, '22589': <gensim.models.keyedvectors.Vocab object at 0x7f52624a50b8>, '23332': <gensim.models.keyedvectors.Vocab object at 0x7f52624a5128>, '85049A': <gensim.models.keyedvectors.Vocab object at 0x7f52624a5198>, '22818': <gensim.models.keyedvectors.Vocab object at 0x7f52624a5208>, '84978': <gensim.models.keyedvectors.Vocab object at 0x7f52624a5278>, '84947': <gensim.models.keyedvectors.Vocab object at 0x7f52624a52e8>, '23090': <gensim.models.keyedvectors.Vocab object at 0x7f52624a5358>, '10135': <gensim.models.keyedvectors.Vocab object at 0x7f52624a53c8>, '20704': <gensim.models.keyedvectors.Vocab object at 0x7f52624a5438>, '21112': <gensim.models.keyedvectors.Vocab object at 0x7f52624a54a8>, '70007': <gensim.models.keyedvectors.Vocab object at 0x7f52624a5518>, '85170D': <gensim.models.keyedvectors.Vocab object at 0x7f52624a5588>, '21829': <gensim.models.keyedvectors.Vocab object at 0x7f52624a55f8>, '84249A': <gensim.models.keyedvectors.Vocab object at 0x7f52624a5668>, '21062': <gensim.models.keyedvectors.Vocab object at 0x7f52624a56d8>, '21063': <gensim.models.keyedvectors.Vocab object at 0x7f52624a5748>, '21060': <gensim.models.keyedvectors.Vocab object at 0x7f52624a57b8>, '23230': <gensim.models.keyedvectors.Vocab object at 0x7f52624a5828>, '84375': <gensim.models.keyedvectors.Vocab object at 0x7f52624a5898>, '21204': <gensim.models.keyedvectors.Vocab object at 0x7f52624a5908>, '21206': <gensim.models.keyedvectors.Vocab object at 0x7f52624a5978>, '10133': <gensim.models.keyedvectors.Vocab object at 0x7f52624a59e8>, '20984': <gensim.models.keyedvectors.Vocab object at 0x7f52624a5a58>, '84692': <gensim.models.keyedvectors.Vocab object at 0x7f52624a5ac8>, '22231': <gensim.models.keyedvectors.Vocab object at 0x7f52624a5b38>, '23100': <gensim.models.keyedvectors.Vocab object at 0x7f52624a5ba8>, '79191C': <gensim.models.keyedvectors.Vocab object at 0x7f52624a5c18>, '23205': <gensim.models.keyedvectors.Vocab object at 0x7f52624a5c88>, '84247L': <gensim.models.keyedvectors.Vocab object at 0x7f52624a5cf8>, '22754': <gensim.models.keyedvectors.Vocab object at 0x7f52624a5d68>, '22755': <gensim.models.keyedvectors.Vocab object at 0x7f52624a5dd8>, '22975': <gensim.models.keyedvectors.Vocab object at 0x7f52624a5e48>, '23256': <gensim.models.keyedvectors.Vocab object at 0x7f52624a5eb8>, '23254': <gensim.models.keyedvectors.Vocab object at 0x7f52624a5f28>, '22977': <gensim.models.keyedvectors.Vocab object at 0x7f52624a5f98>, '22896': <gensim.models.keyedvectors.Vocab object at 0x7f526249c048>, '21936': <gensim.models.keyedvectors.Vocab object at 0x7f526249c0b8>, '22652': <gensim.models.keyedvectors.Vocab object at 0x7f526249c128>, '20719': <gensim.models.keyedvectors.Vocab object at 0x7f526249c198>, '20723': <gensim.models.keyedvectors.Vocab object at 0x7f526249c208>, '23144': <gensim.models.keyedvectors.Vocab object at 0x7f526249c278>, '22149': <gensim.models.keyedvectors.Vocab object at 0x7f526249c2e8>, '84970S': <gensim.models.keyedvectors.Vocab object at 0x7f526249c358>, '21937': <gensim.models.keyedvectors.Vocab object at 0x7f526249c3c8>, '21931': <gensim.models.keyedvectors.Vocab object at 0x7f526249c438>, '21929': <gensim.models.keyedvectors.Vocab object at 0x7f526249c4a8>, '22898': <gensim.models.keyedvectors.Vocab object at 0x7f526249c518>, '21930': <gensim.models.keyedvectors.Vocab object at 0x7f526249c588>, '20712': <gensim.models.keyedvectors.Vocab object at 0x7f526249c5f8>, '21928': <gensim.models.keyedvectors.Vocab object at 0x7f526249c668>, '23546': <gensim.models.keyedvectors.Vocab object at 0x7f526249c6d8>, '23550': <gensim.models.keyedvectors.Vocab object at 0x7f526249c748>, '23444': <gensim.models.keyedvectors.Vocab object at 0x7f526249c7b8>, '22663': <gensim.models.keyedvectors.Vocab object at 0x7f526249c828>, '22417': <gensim.models.keyedvectors.Vocab object at 0x7f526249c898>, '21156': <gensim.models.keyedvectors.Vocab object at 0x7f526249c908>, '22082': <gensim.models.keyedvectors.Vocab object at 0x7f526249c978>, '22739': <gensim.models.keyedvectors.Vocab object at 0x7f526249c9e8>, '22738': <gensim.models.keyedvectors.Vocab object at 0x7f526249ca58>, '21479': <gensim.models.keyedvectors.Vocab object at 0x7f526249cac8>, '23366': <gensim.models.keyedvectors.Vocab object at 0x7f526249cb38>, '23681': <gensim.models.keyedvectors.Vocab object at 0x7f526249cba8>, '22422': <gensim.models.keyedvectors.Vocab object at 0x7f526249cc18>, '18098C': <gensim.models.keyedvectors.Vocab object at 0x7f526249cc88>, '22437': <gensim.models.keyedvectors.Vocab object at 0x7f526249ccf8>, '22311': <gensim.models.keyedvectors.Vocab object at 0x7f526249cd68>, '21640': <gensim.models.keyedvectors.Vocab object at 0x7f526249cdd8>, '17014A': <gensim.models.keyedvectors.Vocab object at 0x7f526249ce48>, '17084R': <gensim.models.keyedvectors.Vocab object at 0x7f526249ceb8>, '22312': <gensim.models.keyedvectors.Vocab object at 0x7f526249cf28>, '84659A': <gensim.models.keyedvectors.Vocab object at 0x7f526249cf98>, '21730': <gensim.models.keyedvectors.Vocab object at 0x7f5262abd048>, '81950V': <gensim.models.keyedvectors.Vocab object at 0x7f5262abd0b8>, '44234': <gensim.models.keyedvectors.Vocab object at 0x7f5262abd128>, '72232': <gensim.models.keyedvectors.Vocab object at 0x7f5262abd198>, '46775D': <gensim.models.keyedvectors.Vocab object at 0x7f5262abd208>, '22767': <gensim.models.keyedvectors.Vocab object at 0x7f5262abd278>, '22768': <gensim.models.keyedvectors.Vocab object at 0x7f5262abd2e8>, '22771': <gensim.models.keyedvectors.Vocab object at 0x7f5262abd358>, '22827': <gensim.models.keyedvectors.Vocab object at 0x7f5262abd3c8>, '22195': <gensim.models.keyedvectors.Vocab object at 0x7f5262abd438>, '22862': <gensim.models.keyedvectors.Vocab object at 0x7f5262abd4a8>, '21361': <gensim.models.keyedvectors.Vocab object at 0x7f5262abd518>, '21700': <gensim.models.keyedvectors.Vocab object at 0x7f5262abd588>, '22435': <gensim.models.keyedvectors.Vocab object at 0x7f5262abd5f8>, '21621': <gensim.models.keyedvectors.Vocab object at 0x7f5262abd668>, '21709': <gensim.models.keyedvectors.Vocab object at 0x7f5262abd6d8>, '20961': <gensim.models.keyedvectors.Vocab object at 0x7f5262abd748>, '84029G': <gensim.models.keyedvectors.Vocab object at 0x7f5262abd7b8>, '22386': <gensim.models.keyedvectors.Vocab object at 0x7f5262abd828>, '21609': <gensim.models.keyedvectors.Vocab object at 0x7f5262abd898>, '22051': <gensim.models.keyedvectors.Vocab object at 0x7f5262abd908>, '22196': <gensim.models.keyedvectors.Vocab object at 0x7f5262abd978>, '84461': <gensim.models.keyedvectors.Vocab object at 0x7f5262abd9e8>, '22668': <gensim.models.keyedvectors.Vocab object at 0x7f5262abda58>, '22669': <gensim.models.keyedvectors.Vocab object at 0x7f5262abdac8>, '84212': <gensim.models.keyedvectors.Vocab object at 0x7f5262abdb38>, '22733': <gensim.models.keyedvectors.Vocab object at 0x7f5262abdba8>, '23109': <gensim.models.keyedvectors.Vocab object at 0x7f5262abdc18>, '22792': <gensim.models.keyedvectors.Vocab object at 0x7f5262abdc88>, '21012': <gensim.models.keyedvectors.Vocab object at 0x7f5262abdcf8>, '84568': <gensim.models.keyedvectors.Vocab object at 0x7f5262abdd68>, '22650': <gensim.models.keyedvectors.Vocab object at 0x7f5262abddd8>, '23007': <gensim.models.keyedvectors.Vocab object at 0x7f5262abde48>, '23008': <gensim.models.keyedvectors.Vocab object at 0x7f5262abdeb8>, '22986': <gensim.models.keyedvectors.Vocab object at 0x7f5262abdf28>, '22704': <gensim.models.keyedvectors.Vocab object at 0x7f5262abdf98>, '21452': <gensim.models.keyedvectors.Vocab object at 0x7f5262a9a048>, '21916': <gensim.models.keyedvectors.Vocab object at 0x7f5262a9a0b8>, '21671': <gensim.models.keyedvectors.Vocab object at 0x7f5262a9a128>, '21672': <gensim.models.keyedvectors.Vocab object at 0x7f5262a9a198>, '21668': <gensim.models.keyedvectors.Vocab object at 0x7f5262a9a208>, '21669': <gensim.models.keyedvectors.Vocab object at 0x7f5262a9a278>, '21673': <gensim.models.keyedvectors.Vocab object at 0x7f5262a9a2e8>, '21670': <gensim.models.keyedvectors.Vocab object at 0x7f5262a9a358>, '22796': <gensim.models.keyedvectors.Vocab object at 0x7f5262a9a3c8>, '22766': <gensim.models.keyedvectors.Vocab object at 0x7f5262a9a438>, '84836': <gensim.models.keyedvectors.Vocab object at 0x7f5262a9a4a8>, '21094': <gensim.models.keyedvectors.Vocab object at 0x7f5262a9a518>, '21086': <gensim.models.keyedvectors.Vocab object at 0x7f5262a9a588>, '23026': <gensim.models.keyedvectors.Vocab object at 0x7f5262a9a5f8>, '23092': <gensim.models.keyedvectors.Vocab object at 0x7f5262a9a668>, '22113': <gensim.models.keyedvectors.Vocab object at 0x7f5262a9a6d8>, '21260': <gensim.models.keyedvectors.Vocab object at 0x7f5262a9a748>, '22770': <gensim.models.keyedvectors.Vocab object at 0x7f5262a9a7b8>, '22185': <gensim.models.keyedvectors.Vocab object at 0x7f5262a9a828>, '23067': <gensim.models.keyedvectors.Vocab object at 0x7f5262a9a898>, '22760': <gensim.models.keyedvectors.Vocab object at 0x7f5262a9a908>, '23080': <gensim.models.keyedvectors.Vocab object at 0x7f5262a9a978>, '23081': <gensim.models.keyedvectors.Vocab object at 0x7f5262a9a9e8>, '23015': <gensim.models.keyedvectors.Vocab object at 0x7f5262a9aa58>, '21462': <gensim.models.keyedvectors.Vocab object at 0x7f5262a9aac8>, '21509': <gensim.models.keyedvectors.Vocab object at 0x7f5262a9ab38>, '47594B': <gensim.models.keyedvectors.Vocab object at 0x7f5262a9aba8>, '22433': <gensim.models.keyedvectors.Vocab object at 0x7f5262a9ac18>, '84673A': <gensim.models.keyedvectors.Vocab object at 0x7f5262a9ac88>, '72800D': <gensim.models.keyedvectors.Vocab object at 0x7f5262a9acf8>, '72800C': <gensim.models.keyedvectors.Vocab object at 0x7f5262a9ad68>, '72800B': <gensim.models.keyedvectors.Vocab object at 0x7f5262a9add8>, '85124B': <gensim.models.keyedvectors.Vocab object at 0x7f5262a9ae48>, '85124C': <gensim.models.keyedvectors.Vocab object at 0x7f5262a9aeb8>, '84828': <gensim.models.keyedvectors.Vocab object at 0x7f5262a9af28>, '22376': <gensim.models.keyedvectors.Vocab object at 0x7f5262a9af98>, '22374': <gensim.models.keyedvectors.Vocab object at 0x7f5263038048>, '71279': <gensim.models.keyedvectors.Vocab object at 0x7f52630380b8>, '23049': <gensim.models.keyedvectors.Vocab object at 0x7f5263038128>, '85114A': <gensim.models.keyedvectors.Vocab object at 0x7f5263038198>, '85114B': <gensim.models.keyedvectors.Vocab object at 0x7f5263038208>, '22124': <gensim.models.keyedvectors.Vocab object at 0x7f5263038278>, '22372': <gensim.models.keyedvectors.Vocab object at 0x7f52630382e8>, '22375': <gensim.models.keyedvectors.Vocab object at 0x7f5263038358>, '22592': <gensim.models.keyedvectors.Vocab object at 0x7f52630383c8>, '84944': <gensim.models.keyedvectors.Vocab object at 0x7f5263038438>, '35471D': <gensim.models.keyedvectors.Vocab object at 0x7f52630384a8>, '10125': <gensim.models.keyedvectors.Vocab object at 0x7f5263038518>, '23083': <gensim.models.keyedvectors.Vocab object at 0x7f5263038588>, '84247E': <gensim.models.keyedvectors.Vocab object at 0x7f52630385f8>, '21747': <gensim.models.keyedvectors.Vocab object at 0x7f5263038668>, '84945': <gensim.models.keyedvectors.Vocab object at 0x7f52630386d8>, '23047': <gensim.models.keyedvectors.Vocab object at 0x7f5263038748>, '23043': <gensim.models.keyedvectors.Vocab object at 0x7f52630387b8>, '22973': <gensim.models.keyedvectors.Vocab object at 0x7f5263038828>, '22943': <gensim.models.keyedvectors.Vocab object at 0x7f5263038898>, '22731': <gensim.models.keyedvectors.Vocab object at 0x7f5263038908>, '22732': <gensim.models.keyedvectors.Vocab object at 0x7f5263038978>, '23264': <gensim.models.keyedvectors.Vocab object at 0x7f52630389e8>, '23266': <gensim.models.keyedvectors.Vocab object at 0x7f5263038a58>, '22439': <gensim.models.keyedvectors.Vocab object at 0x7f5263038ac8>, '23368': <gensim.models.keyedvectors.Vocab object at 0x7f5263038b38>, '21891': <gensim.models.keyedvectors.Vocab object at 0x7f5263038ba8>, '21207': <gensim.models.keyedvectors.Vocab object at 0x7f5263038c18>, '21219': <gensim.models.keyedvectors.Vocab object at 0x7f5263038c88>, '21224': <gensim.models.keyedvectors.Vocab object at 0x7f5263038cf8>, '23280': <gensim.models.keyedvectors.Vocab object at 0x7f5263038d68>, '23282': <gensim.models.keyedvectors.Vocab object at 0x7f5263038dd8>, '23281': <gensim.models.keyedvectors.Vocab object at 0x7f5263038e48>, '22076': <gensim.models.keyedvectors.Vocab object at 0x7f5263038eb8>, '22659': <gensim.models.keyedvectors.Vocab object at 0x7f5263038f28>, '22971': <gensim.models.keyedvectors.Vocab object at 0x7f5263038f98>, '22616': <gensim.models.keyedvectors.Vocab object at 0x7f526302e048>, '22713': <gensim.models.keyedvectors.Vocab object at 0x7f526302e0b8>, '22085': <gensim.models.keyedvectors.Vocab object at 0x7f526302e128>, '22069': <gensim.models.keyedvectors.Vocab object at 0x7f526302e198>, '21544': <gensim.models.keyedvectors.Vocab object at 0x7f526302e208>, '23002': <gensim.models.keyedvectors.Vocab object at 0x7f526302e278>, '22988': <gensim.models.keyedvectors.Vocab object at 0x7f526302e2e8>, '23391': <gensim.models.keyedvectors.Vocab object at 0x7f526302e358>, '23005': <gensim.models.keyedvectors.Vocab object at 0x7f526302e3c8>, '22710': <gensim.models.keyedvectors.Vocab object at 0x7f526302e438>, '85169A': <gensim.models.keyedvectors.Vocab object at 0x7f526302e4a8>, '85169B': <gensim.models.keyedvectors.Vocab object at 0x7f526302e518>, '15039': <gensim.models.keyedvectors.Vocab object at 0x7f526302e588>, '84795B': <gensim.models.keyedvectors.Vocab object at 0x7f526302e5f8>, '21698': <gensim.models.keyedvectors.Vocab object at 0x7f526302e668>, '21588': <gensim.models.keyedvectors.Vocab object at 0x7f526302e6d8>, '23022': <gensim.models.keyedvectors.Vocab object at 0x7f526302e748>, '23023': <gensim.models.keyedvectors.Vocab object at 0x7f526302e7b8>, '21705': <gensim.models.keyedvectors.Vocab object at 0x7f526302e828>, '23569': <gensim.models.keyedvectors.Vocab object at 0x7f526302e898>, '23237': <gensim.models.keyedvectors.Vocab object at 0x7f526302e908>, '22594': <gensim.models.keyedvectors.Vocab object at 0x7f526302e978>, '20979': <gensim.models.keyedvectors.Vocab object at 0x7f526302e9e8>, '23480': <gensim.models.keyedvectors.Vocab object at 0x7f526302ea58>, '90119': <gensim.models.keyedvectors.Vocab object at 0x7f526302eac8>, '90086': <gensim.models.keyedvectors.Vocab object at 0x7f526302eb38>, '90164A': <gensim.models.keyedvectors.Vocab object at 0x7f526302eba8>, '90184B': <gensim.models.keyedvectors.Vocab object at 0x7f526302ec18>, '90161C': <gensim.models.keyedvectors.Vocab object at 0x7f526302ec88>, '90161D': <gensim.models.keyedvectors.Vocab object at 0x7f526302ecf8>, '23494': <gensim.models.keyedvectors.Vocab object at 0x7f526302ed68>, '21033': <gensim.models.keyedvectors.Vocab object at 0x7f526302edd8>, '20731': <gensim.models.keyedvectors.Vocab object at 0x7f526302ee48>, '22566': <gensim.models.keyedvectors.Vocab object at 0x7f526302eeb8>, '21326': <gensim.models.keyedvectors.Vocab object at 0x7f526302ef28>, '22586': <gensim.models.keyedvectors.Vocab object at 0x7f526302ef98>, '22565': <gensim.models.keyedvectors.Vocab object at 0x7f5263535048>, '79071B': <gensim.models.keyedvectors.Vocab object at 0x7f52635350b8>, '22804': <gensim.models.keyedvectors.Vocab object at 0x7f5263535128>, '20830': <gensim.models.keyedvectors.Vocab object at 0x7f5263535198>, '22133': <gensim.models.keyedvectors.Vocab object at 0x7f5263535208>, '22148': <gensim.models.keyedvectors.Vocab object at 0x7f5263535278>, '84817': <gensim.models.keyedvectors.Vocab object at 0x7f52635352e8>, '84821': <gensim.models.keyedvectors.Vocab object at 0x7f5263535358>, '21794': <gensim.models.keyedvectors.Vocab object at 0x7f52635353c8>, '21534': <gensim.models.keyedvectors.Vocab object at 0x7f5263535438>, '22291': <gensim.models.keyedvectors.Vocab object at 0x7f52635354a8>, '85036C': <gensim.models.keyedvectors.Vocab object at 0x7f5263535518>, '84707B': <gensim.models.keyedvectors.Vocab object at 0x7f5263535588>, '85024B': <gensim.models.keyedvectors.Vocab object at 0x7f52635355f8>, '85025B': <gensim.models.keyedvectors.Vocab object at 0x7f5263535668>, '22791': <gensim.models.keyedvectors.Vocab object at 0x7f52635356d8>, '21284': <gensim.models.keyedvectors.Vocab object at 0x7f5263535748>, '21690': <gensim.models.keyedvectors.Vocab object at 0x7f52635357b8>, '22293': <gensim.models.keyedvectors.Vocab object at 0x7f5263535828>, '22292': <gensim.models.keyedvectors.Vocab object at 0x7f5263535898>, '21294': <gensim.models.keyedvectors.Vocab object at 0x7f5263535908>, '85034A': <gensim.models.keyedvectors.Vocab object at 0x7f5263535978>, '85040B': <gensim.models.keyedvectors.Vocab object at 0x7f52635359e8>, '85040A': <gensim.models.keyedvectors.Vocab object at 0x7f5263535a58>, '22131': <gensim.models.keyedvectors.Vocab object at 0x7f5263535ac8>, '21756': <gensim.models.keyedvectors.Vocab object at 0x7f5263535b38>, '85035C': <gensim.models.keyedvectors.Vocab object at 0x7f5263535ba8>, '15044B': <gensim.models.keyedvectors.Vocab object at 0x7f5263535c18>, '23250': <gensim.models.keyedvectors.Vocab object at 0x7f5263535c88>, '85089': <gensim.models.keyedvectors.Vocab object at 0x7f5263535cf8>, '21841': <gensim.models.keyedvectors.Vocab object at 0x7f5263535d68>, '23252': <gensim.models.keyedvectors.Vocab object at 0x7f5263535dd8>, '84792': <gensim.models.keyedvectors.Vocab object at 0x7f5263535e48>, '23265': <gensim.models.keyedvectors.Vocab object at 0x7f5263535eb8>, '21314': <gensim.models.keyedvectors.Vocab object at 0x7f5263535f28>, '23536': <gensim.models.keyedvectors.Vocab object at 0x7f5263535f98>, '23486': <gensim.models.keyedvectors.Vocab object at 0x7f5263544048>, '84927D': <gensim.models.keyedvectors.Vocab object at 0x7f52635440b8>, '22927': <gensim.models.keyedvectors.Vocab object at 0x7f5263544128>, '84356': <gensim.models.keyedvectors.Vocab object at 0x7f5263544198>, '72799E': <gensim.models.keyedvectors.Vocab object at 0x7f5263544208>, '72799C': <gensim.models.keyedvectors.Vocab object at 0x7f5263544278>, '72800E': <gensim.models.keyedvectors.Vocab object at 0x7f52635442e8>, '47504H': <gensim.models.keyedvectors.Vocab object at 0x7f5263544358>, '21586': <gensim.models.keyedvectors.Vocab object at 0x7f52635443c8>, '22945': <gensim.models.keyedvectors.Vocab object at 0x7f5263544438>, '23267': <gensim.models.keyedvectors.Vocab object at 0x7f52635444a8>, '22430': <gensim.models.keyedvectors.Vocab object at 0x7f5263544518>, '23335': <gensim.models.keyedvectors.Vocab object at 0x7f5263544588>, '22424': <gensim.models.keyedvectors.Vocab object at 0x7f52635445f8>, '22928': <gensim.models.keyedvectors.Vocab object at 0x7f5263544668>, '23554': <gensim.models.keyedvectors.Vocab object at 0x7f52635446d8>, '85200': <gensim.models.keyedvectors.Vocab object at 0x7f5263544748>, '22967': <gensim.models.keyedvectors.Vocab object at 0x7f52635447b8>, '22982': <gensim.models.keyedvectors.Vocab object at 0x7f5263544828>, '22519': <gensim.models.keyedvectors.Vocab object at 0x7f5263544898>, '21788': <gensim.models.keyedvectors.Vocab object at 0x7f5263544908>, '23119': <gensim.models.keyedvectors.Vocab object at 0x7f5263544978>, '22548': <gensim.models.keyedvectors.Vocab object at 0x7f52635449e8>, '23360': <gensim.models.keyedvectors.Vocab object at 0x7f5263544a58>, '35970': <gensim.models.keyedvectors.Vocab object at 0x7f5263544ac8>, '23241': <gensim.models.keyedvectors.Vocab object at 0x7f5263544b38>, '23242': <gensim.models.keyedvectors.Vocab object at 0x7f5263544ba8>, '23509': <gensim.models.keyedvectors.Vocab object at 0x7f5263544c18>, '22906': <gensim.models.keyedvectors.Vocab object at 0x7f5263544c88>, '22280': <gensim.models.keyedvectors.Vocab object at 0x7f5263544cf8>, '22279': <gensim.models.keyedvectors.Vocab object at 0x7f5263544d68>, '21411': <gensim.models.keyedvectors.Vocab object at 0x7f5263544dd8>, '22089': <gensim.models.keyedvectors.Vocab object at 0x7f5263544e48>, '15044A': <gensim.models.keyedvectors.Vocab object at 0x7f5263544eb8>, '22529': <gensim.models.keyedvectors.Vocab object at 0x7f5263544f28>, '23503': <gensim.models.keyedvectors.Vocab object at 0x7f5263544f98>, '21890': <gensim.models.keyedvectors.Vocab object at 0x7f5263525048>, '21912': <gensim.models.keyedvectors.Vocab object at 0x7f52635250b8>, '23570': <gensim.models.keyedvectors.Vocab object at 0x7f5263525128>, '22211': <gensim.models.keyedvectors.Vocab object at 0x7f5263525198>, '20983': <gensim.models.keyedvectors.Vocab object at 0x7f5263525208>, '84535B': <gensim.models.keyedvectors.Vocab object at 0x7f5263525278>, '23445': <gensim.models.keyedvectors.Vocab object at 0x7f52635252e8>, '23113': <gensim.models.keyedvectors.Vocab object at 0x7f5263525358>, '22357': <gensim.models.keyedvectors.Vocab object at 0x7f52635253c8>, '22476': <gensim.models.keyedvectors.Vocab object at 0x7f5263525438>, '84658': <gensim.models.keyedvectors.Vocab object at 0x7f52635254a8>, '22473': <gensim.models.keyedvectors.Vocab object at 0x7f5263525518>, '47580': <gensim.models.keyedvectors.Vocab object at 0x7f5263525588>, '21949': <gensim.models.keyedvectors.Vocab object at 0x7f52635255f8>, '22198': <gensim.models.keyedvectors.Vocab object at 0x7f5263525668>, '22849': <gensim.models.keyedvectors.Vocab object at 0x7f52635256d8>, '75049L': <gensim.models.keyedvectors.Vocab object at 0x7f5263525748>, '21562': <gensim.models.keyedvectors.Vocab object at 0x7f52635257b8>, '21078': <gensim.models.keyedvectors.Vocab object at 0x7f5263525828>, '22631': <gensim.models.keyedvectors.Vocab object at 0x7f5263525898>, '22560': <gensim.models.keyedvectors.Vocab object at 0x7f5263525908>, '22493': <gensim.models.keyedvectors.Vocab object at 0x7f5263525978>, '22436': <gensim.models.keyedvectors.Vocab object at 0x7f52635259e8>, '79000': <gensim.models.keyedvectors.Vocab object at 0x7f5263525a58>, '22863': <gensim.models.keyedvectors.Vocab object at 0x7f5263525ac8>, '84832': <gensim.models.keyedvectors.Vocab object at 0x7f5263525b38>, '71053': <gensim.models.keyedvectors.Vocab object at 0x7f5263525ba8>, '22893': <gensim.models.keyedvectors.Vocab object at 0x7f5263525c18>, '85172': <gensim.models.keyedvectors.Vocab object at 0x7f5263525c88>, '22855': <gensim.models.keyedvectors.Vocab object at 0x7f5263525cf8>, '22696': <gensim.models.keyedvectors.Vocab object at 0x7f5263525d68>, '22695': <gensim.models.keyedvectors.Vocab object at 0x7f5263525dd8>, '23164': <gensim.models.keyedvectors.Vocab object at 0x7f5263525e48>, '23160': <gensim.models.keyedvectors.Vocab object at 0x7f5263525eb8>, '23163': <gensim.models.keyedvectors.Vocab object at 0x7f5263525f28>, '23162': <gensim.models.keyedvectors.Vocab object at 0x7f5263525f98>, '23161': <gensim.models.keyedvectors.Vocab object at 0x7f52639c3048>, '21872': <gensim.models.keyedvectors.Vocab object at 0x7f52639c30b8>, '22626': <gensim.models.keyedvectors.Vocab object at 0x7f52639c3128>, '23154': <gensim.models.keyedvectors.Vocab object at 0x7f52639c3198>, '22297': <gensim.models.keyedvectors.Vocab object at 0x7f52639c3208>, '23132': <gensim.models.keyedvectors.Vocab object at 0x7f52639c3278>, '21167': <gensim.models.keyedvectors.Vocab object at 0x7f52639c32e8>, '17084N': <gensim.models.keyedvectors.Vocab object at 0x7f52639c3358>, '22997': <gensim.models.keyedvectors.Vocab object at 0x7f52639c33c8>, '22996': <gensim.models.keyedvectors.Vocab object at 0x7f52639c3438>, '23006': <gensim.models.keyedvectors.Vocab object at 0x7f52639c34a8>, '23000': <gensim.models.keyedvectors.Vocab object at 0x7f52639c3518>, '22635': <gensim.models.keyedvectors.Vocab object at 0x7f52639c3588>, '22634': <gensim.models.keyedvectors.Vocab object at 0x7f52639c35f8>, '22349': <gensim.models.keyedvectors.Vocab object at 0x7f52639c3668>, '22845': <gensim.models.keyedvectors.Vocab object at 0x7f52639c36d8>, '22853': <gensim.models.keyedvectors.Vocab object at 0x7f52639c3748>, '72817': <gensim.models.keyedvectors.Vocab object at 0x7f52639c37b8>, '72818': <gensim.models.keyedvectors.Vocab object at 0x7f52639c3828>, '23401': <gensim.models.keyedvectors.Vocab object at 0x7f52639c3898>, '21623': <gensim.models.keyedvectors.Vocab object at 0x7f52639c3908>, '23484': <gensim.models.keyedvectors.Vocab object at 0x7f52639c3978>, '21407': <gensim.models.keyedvectors.Vocab object at 0x7f52639c39e8>, '21561': <gensim.models.keyedvectors.Vocab object at 0x7f52639c3a58>, '85035B': <gensim.models.keyedvectors.Vocab object at 0x7f52639c3ac8>, '20986': <gensim.models.keyedvectors.Vocab object at 0x7f52639c3b38>, '84051': <gensim.models.keyedvectors.Vocab object at 0x7f52639c3ba8>, '21115': <gensim.models.keyedvectors.Vocab object at 0x7f52639c3c18>, '23152': <gensim.models.keyedvectors.Vocab object at 0x7f52639c3c88>, '23153': <gensim.models.keyedvectors.Vocab object at 0x7f52639c3cf8>, '23542': <gensim.models.keyedvectors.Vocab object at 0x7f52639c3d68>, '23135': <gensim.models.keyedvectors.Vocab object at 0x7f52639c3dd8>, '21270': <gensim.models.keyedvectors.Vocab object at 0x7f52639c3e48>, '22614': <gensim.models.keyedvectors.Vocab object at 0x7f52639c3eb8>, '22937': <gensim.models.keyedvectors.Vocab object at 0x7f52639c3f28>, '22953': <gensim.models.keyedvectors.Vocab object at 0x7f52639c3f98>, '21974': <gensim.models.keyedvectors.Vocab object at 0x7f52639aa048>, '22353': <gensim.models.keyedvectors.Vocab object at 0x7f52639aa0b8>, '22366': <gensim.models.keyedvectors.Vocab object at 0x7f52639aa128>, '22107': <gensim.models.keyedvectors.Vocab object at 0x7f52639aa198>, '22109': <gensim.models.keyedvectors.Vocab object at 0x7f52639aa208>, '22416': <gensim.models.keyedvectors.Vocab object at 0x7f52639aa278>, '22935': <gensim.models.keyedvectors.Vocab object at 0x7f52639aa2e8>, '22931': <gensim.models.keyedvectors.Vocab object at 0x7f52639aa358>, '22930': <gensim.models.keyedvectors.Vocab object at 0x7f52639aa3c8>, '22936': <gensim.models.keyedvectors.Vocab object at 0x7f52639aa438>, '22965': <gensim.models.keyedvectors.Vocab object at 0x7f52639aa4a8>, '22077': <gensim.models.keyedvectors.Vocab object at 0x7f52639aa518>, '23114': <gensim.models.keyedvectors.Vocab object at 0x7f52639aa588>, '23117': <gensim.models.keyedvectors.Vocab object at 0x7f52639aa5f8>, '23435': <gensim.models.keyedvectors.Vocab object at 0x7f52639aa668>, '23235': <gensim.models.keyedvectors.Vocab object at 0x7f52639aa6d8>, '21200': <gensim.models.keyedvectors.Vocab object at 0x7f52639aa748>, '20838': <gensim.models.keyedvectors.Vocab object at 0x7f52639aa7b8>, '21163': <gensim.models.keyedvectors.Vocab object at 0x7f52639aa828>, '21967': <gensim.models.keyedvectors.Vocab object at 0x7f52639aa898>, '20977': <gensim.models.keyedvectors.Vocab object at 0x7f52639aa908>, '37327': <gensim.models.keyedvectors.Vocab object at 0x7f52639aa978>, '85088': <gensim.models.keyedvectors.Vocab object at 0x7f52639aa9e8>, '18094C': <gensim.models.keyedvectors.Vocab object at 0x7f52639aaa58>, '35648': <gensim.models.keyedvectors.Vocab object at 0x7f52639aaac8>, '21917': <gensim.models.keyedvectors.Vocab object at 0x7f52639aab38>, '84279P': <gensim.models.keyedvectors.Vocab object at 0x7f52639aaba8>, '84910A': <gensim.models.keyedvectors.Vocab object at 0x7f52639aac18>, '21466': <gensim.models.keyedvectors.Vocab object at 0x7f52639aac88>, '21469': <gensim.models.keyedvectors.Vocab object at 0x7f52639aacf8>, '21465': <gensim.models.keyedvectors.Vocab object at 0x7f52639aad68>, '85094': <gensim.models.keyedvectors.Vocab object at 0x7f52639aadd8>, '22514': <gensim.models.keyedvectors.Vocab object at 0x7f52639aae48>, '22517': <gensim.models.keyedvectors.Vocab object at 0x7f52639aaeb8>, '22515': <gensim.models.keyedvectors.Vocab object at 0x7f52639aaf28>, '22456': <gensim.models.keyedvectors.Vocab object at 0x7f52639aaf98>, '21581': <gensim.models.keyedvectors.Vocab object at 0x7f5263cfb048>, '23273': <gensim.models.keyedvectors.Vocab object at 0x7f5263cfb0b8>, '84706F': <gensim.models.keyedvectors.Vocab object at 0x7f5263cfb128>, '81952V': <gensim.models.keyedvectors.Vocab object at 0x7f5263cfb198>, '84912B': <gensim.models.keyedvectors.Vocab object at 0x7f5263cfb208>, '21030': <gensim.models.keyedvectors.Vocab object at 0x7f5263cfb278>, '23197': <gensim.models.keyedvectors.Vocab object at 0x7f5263cfb2e8>, '21028': <gensim.models.keyedvectors.Vocab object at 0x7f5263cfb358>, '23147': <gensim.models.keyedvectors.Vocab object at 0x7f5263cfb3c8>, '21026': <gensim.models.keyedvectors.Vocab object at 0x7f5263cfb438>, '23419': <gensim.models.keyedvectors.Vocab object at 0x7f5263cfb4a8>, '23302': <gensim.models.keyedvectors.Vocab object at 0x7f5263cfb518>, '85104': <gensim.models.keyedvectors.Vocab object at 0x7f5263cfb588>, '23034': <gensim.models.keyedvectors.Vocab object at 0x7f5263cfb5f8>, '23035': <gensim.models.keyedvectors.Vocab object at 0x7f5263cfb668>, '85078': <gensim.models.keyedvectors.Vocab object at 0x7f5263cfb6d8>, '22065': <gensim.models.keyedvectors.Vocab object at 0x7f5263cfb748>, '22575': <gensim.models.keyedvectors.Vocab object at 0x7f5263cfb7b8>, '23465': <gensim.models.keyedvectors.Vocab object at 0x7f5263cfb828>, '22116': <gensim.models.keyedvectors.Vocab object at 0x7f5263cfb898>, '23094': <gensim.models.keyedvectors.Vocab object at 0x7f5263cfb908>, '84859C': <gensim.models.keyedvectors.Vocab object at 0x7f5263cfb978>, '23339': <gensim.models.keyedvectors.Vocab object at 0x7f5263cfb9e8>, '23371': <gensim.models.keyedvectors.Vocab object at 0x7f5263cfba58>, '23370': <gensim.models.keyedvectors.Vocab object at 0x7f5263cfbac8>, '23380': <gensim.models.keyedvectors.Vocab object at 0x7f5263cfbb38>, '23377': <gensim.models.keyedvectors.Vocab object at 0x7f5263cfbba8>, '23559': <gensim.models.keyedvectors.Vocab object at 0x7f5263cfbc18>, '21329': <gensim.models.keyedvectors.Vocab object at 0x7f5263cfbc88>, '47503H': <gensim.models.keyedvectors.Vocab object at 0x7f5263cfbcf8>, '22587': <gensim.models.keyedvectors.Vocab object at 0x7f5263cfbd68>, '22329': <gensim.models.keyedvectors.Vocab object at 0x7f5263cfbdd8>, '22826': <gensim.models.keyedvectors.Vocab object at 0x7f5263cfbe48>, '23048': <gensim.models.keyedvectors.Vocab object at 0x7f5263cfbeb8>, '23324': <gensim.models.keyedvectors.Vocab object at 0x7f5263cfbf28>, '84519B': <gensim.models.keyedvectors.Vocab object at 0x7f5263cfbf98>, '84596E': <gensim.models.keyedvectors.Vocab object at 0x7f5263cf0048>, '85159A': <gensim.models.keyedvectors.Vocab object at 0x7f5263cf00b8>, '21397': <gensim.models.keyedvectors.Vocab object at 0x7f5263cf0128>, '21399': <gensim.models.keyedvectors.Vocab object at 0x7f5263cf0198>, '22789': <gensim.models.keyedvectors.Vocab object at 0x7f5263cf0208>, '71459': <gensim.models.keyedvectors.Vocab object at 0x7f5263cf0278>, '22306': <gensim.models.keyedvectors.Vocab object at 0x7f5263cf02e8>, '21398': <gensim.models.keyedvectors.Vocab object at 0x7f5263cf0358>, '22491': <gensim.models.keyedvectors.Vocab object at 0x7f5263cf03c8>, '21558': <gensim.models.keyedvectors.Vocab object at 0x7f5263cf0438>, '21678': <gensim.models.keyedvectors.Vocab object at 0x7f5263cf04a8>, '21675': <gensim.models.keyedvectors.Vocab object at 0x7f5263cf0518>, '21061': <gensim.models.keyedvectors.Vocab object at 0x7f5263cf0588>, '21058': <gensim.models.keyedvectors.Vocab object at 0x7f5263cf05f8>, '23104': <gensim.models.keyedvectors.Vocab object at 0x7f5263cf0668>, '23325': <gensim.models.keyedvectors.Vocab object at 0x7f5263cf06d8>, '37340': <gensim.models.keyedvectors.Vocab object at 0x7f5263cf0748>, '23327': <gensim.models.keyedvectors.Vocab object at 0x7f5263cf07b8>, '22686': <gensim.models.keyedvectors.Vocab object at 0x7f5263cf0828>, '21380': <gensim.models.keyedvectors.Vocab object at 0x7f5263cf0898>, '21927': <gensim.models.keyedvectors.Vocab object at 0x7f5263cf0908>, '21926': <gensim.models.keyedvectors.Vocab object at 0x7f5263cf0978>, '21925': <gensim.models.keyedvectors.Vocab object at 0x7f5263cf09e8>, '23014': <gensim.models.keyedvectors.Vocab object at 0x7f5263cf0a58>, '21664': <gensim.models.keyedvectors.Vocab object at 0x7f5263cf0ac8>, '21662': <gensim.models.keyedvectors.Vocab object at 0x7f5263cf0b38>, '23169': <gensim.models.keyedvectors.Vocab object at 0x7f5263cf0ba8>, '22843': <gensim.models.keyedvectors.Vocab object at 0x7f5263cf0c18>, '22496': <gensim.models.keyedvectors.Vocab object at 0x7f5263cf0c88>, '84870C': <gensim.models.keyedvectors.Vocab object at 0x7f5263cf0cf8>, '84870B': <gensim.models.keyedvectors.Vocab object at 0x7f5263cf0d68>, '21351': <gensim.models.keyedvectors.Vocab object at 0x7f5263cf0dd8>, '22130': <gensim.models.keyedvectors.Vocab object at 0x7f5263cf0e48>, '21191': <gensim.models.keyedvectors.Vocab object at 0x7f5263cf0eb8>, '21809': <gensim.models.keyedvectors.Vocab object at 0x7f5263cf0f28>, '21810': <gensim.models.keyedvectors.Vocab object at 0x7f5263cf0f98>, '21811': <gensim.models.keyedvectors.Vocab object at 0x7f5256894048>, '22640': <gensim.models.keyedvectors.Vocab object at 0x7f52568940b8>, '22641': <gensim.models.keyedvectors.Vocab object at 0x7f5256894128>, '22638': <gensim.models.keyedvectors.Vocab object at 0x7f5256894198>, '22576': <gensim.models.keyedvectors.Vocab object at 0x7f5256894208>, '21813': <gensim.models.keyedvectors.Vocab object at 0x7f5256894278>, '21808': <gensim.models.keyedvectors.Vocab object at 0x7f52568942e8>, '21804': <gensim.models.keyedvectors.Vocab object at 0x7f5256894358>, '21014': <gensim.models.keyedvectors.Vocab object at 0x7f52568943c8>, '21823': <gensim.models.keyedvectors.Vocab object at 0x7f5256894438>, '22428': <gensim.models.keyedvectors.Vocab object at 0x7f52568944a8>, '22825': <gensim.models.keyedvectors.Vocab object at 0x7f5256894518>, '21587': <gensim.models.keyedvectors.Vocab object at 0x7f5256894588>, '85232B': <gensim.models.keyedvectors.Vocab object at 0x7f52568945f8>, '21761': <gensim.models.keyedvectors.Vocab object at 0x7f5256894668>, '21272': <gensim.models.keyedvectors.Vocab object at 0x7f52568946d8>, '84029E': <gensim.models.keyedvectors.Vocab object at 0x7f5256894748>, '22810': <gensim.models.keyedvectors.Vocab object at 0x7f52568947b8>, '82613B': <gensim.models.keyedvectors.Vocab object at 0x7f5256894828>, '82613C': <gensim.models.keyedvectors.Vocab object at 0x7f5256894898>, '22033': <gensim.models.keyedvectors.Vocab object at 0x7f5256894908>, '22904': <gensim.models.keyedvectors.Vocab object at 0x7f5256894978>, '84823': <gensim.models.keyedvectors.Vocab object at 0x7f52568949e8>, '37444A': <gensim.models.keyedvectors.Vocab object at 0x7f5256894a58>, '35810B': <gensim.models.keyedvectors.Vocab object at 0x7f5256894ac8>, '22362': <gensim.models.keyedvectors.Vocab object at 0x7f5256894b38>, '22671': <gensim.models.keyedvectors.Vocab object at 0x7f5256894ba8>, '84531B': <gensim.models.keyedvectors.Vocab object at 0x7f5256894c18>, '37482P': <gensim.models.keyedvectors.Vocab object at 0x7f5256894c88>, '22500': <gensim.models.keyedvectors.Vocab object at 0x7f5256894cf8>, '85159B': <gensim.models.keyedvectors.Vocab object at 0x7f5256894d68>, '21684': <gensim.models.keyedvectors.Vocab object at 0x7f5256894dd8>, '22805': <gensim.models.keyedvectors.Vocab object at 0x7f5256894e48>, '22775': <gensim.models.keyedvectors.Vocab object at 0x7f5256894eb8>, '22216': <gensim.models.keyedvectors.Vocab object at 0x7f5256894f28>, '84683': <gensim.models.keyedvectors.Vocab object at 0x7f5256894f98>, '85030': <gensim.models.keyedvectors.Vocab object at 0x7f525689e048>, '85114C': <gensim.models.keyedvectors.Vocab object at 0x7f525689e0b8>, '21043': <gensim.models.keyedvectors.Vocab object at 0x7f525689e128>, '21742': <gensim.models.keyedvectors.Vocab object at 0x7f525689e198>, '17109D': <gensim.models.keyedvectors.Vocab object at 0x7f525689e208>, '17107D': <gensim.models.keyedvectors.Vocab object at 0x7f525689e278>, '22700': <gensim.models.keyedvectors.Vocab object at 0x7f525689e2e8>, '23112': <gensim.models.keyedvectors.Vocab object at 0x7f525689e358>, '22360': <gensim.models.keyedvectors.Vocab object at 0x7f525689e3c8>, '22364': <gensim.models.keyedvectors.Vocab object at 0x7f525689e438>, '22359': <gensim.models.keyedvectors.Vocab object at 0x7f525689e4a8>, '22363': <gensim.models.keyedvectors.Vocab object at 0x7f525689e518>, '35004B': <gensim.models.keyedvectors.Vocab object at 0x7f525689e588>, '22286': <gensim.models.keyedvectors.Vocab object at 0x7f525689e5f8>, '47574A': <gensim.models.keyedvectors.Vocab object at 0x7f525689e668>, '22287': <gensim.models.keyedvectors.Vocab object at 0x7f525689e6d8>, '23244': <gensim.models.keyedvectors.Vocab object at 0x7f525689e748>, '51008': <gensim.models.keyedvectors.Vocab object at 0x7f525689e7b8>, '23524': <gensim.models.keyedvectors.Vocab object at 0x7f525689e828>, '23405': <gensim.models.keyedvectors.Vocab object at 0x7f525689e898>, '84581': <gensim.models.keyedvectors.Vocab object at 0x7f525689e908>, '20836': <gensim.models.keyedvectors.Vocab object at 0x7f525689e978>, '47341B': <gensim.models.keyedvectors.Vocab object at 0x7f525689e9e8>, '22409': <gensim.models.keyedvectors.Vocab object at 0x7f525689ea58>, '22541': <gensim.models.keyedvectors.Vocab object at 0x7f525689eac8>, '22546': <gensim.models.keyedvectors.Vocab object at 0x7f525689eb38>, '85032C': <gensim.models.keyedvectors.Vocab object at 0x7f525689eba8>, '85032B': <gensim.models.keyedvectors.Vocab object at 0x7f525689ec18>, '85032A': <gensim.models.keyedvectors.Vocab object at 0x7f525689ec88>, '35095B': <gensim.models.keyedvectors.Vocab object at 0x7f525689ecf8>, '21259': <gensim.models.keyedvectors.Vocab object at 0x7f525689ed68>, '35095A': <gensim.models.keyedvectors.Vocab object at 0x7f525689edd8>, '21615': <gensim.models.keyedvectors.Vocab object at 0x7f525689ee48>, '21617': <gensim.models.keyedvectors.Vocab object at 0x7f525689eeb8>, '21619': <gensim.models.keyedvectors.Vocab object at 0x7f525689ef28>, '21618': <gensim.models.keyedvectors.Vocab object at 0x7f525689ef98>, '72799F': <gensim.models.keyedvectors.Vocab object at 0x7f52568bd048>, '23123': <gensim.models.keyedvectors.Vocab object at 0x7f52568bd0b8>, '22095': <gensim.models.keyedvectors.Vocab object at 0x7f52568bd128>, '23181': <gensim.models.keyedvectors.Vocab object at 0x7f52568bd198>, '84818': <gensim.models.keyedvectors.Vocab object at 0x7f52568bd208>, '23551': <gensim.models.keyedvectors.Vocab object at 0x7f52568bd278>, '35637A': <gensim.models.keyedvectors.Vocab object at 0x7f52568bd2e8>, '23556': <gensim.models.keyedvectors.Vocab object at 0x7f52568bd358>, '23558': <gensim.models.keyedvectors.Vocab object at 0x7f52568bd3c8>, '22772': <gensim.models.keyedvectors.Vocab object at 0x7f52568bd438>, '22628': <gensim.models.keyedvectors.Vocab object at 0x7f52568bd4a8>, '21246': <gensim.models.keyedvectors.Vocab object at 0x7f52568bd518>, '22878': <gensim.models.keyedvectors.Vocab object at 0x7f52568bd588>, '22868': <gensim.models.keyedvectors.Vocab object at 0x7f52568bd5f8>, '22877': <gensim.models.keyedvectors.Vocab object at 0x7f52568bd668>, '22876': <gensim.models.keyedvectors.Vocab object at 0x7f52568bd6d8>, '22875': <gensim.models.keyedvectors.Vocab object at 0x7f52568bd748>, '22874': <gensim.models.keyedvectors.Vocab object at 0x7f52568bd7b8>, '22873': <gensim.models.keyedvectors.Vocab object at 0x7f52568bd828>, '22872': <gensim.models.keyedvectors.Vocab object at 0x7f52568bd898>, '22871': <gensim.models.keyedvectors.Vocab object at 0x7f52568bd908>, '22870': <gensim.models.keyedvectors.Vocab object at 0x7f52568bd978>, '22869': <gensim.models.keyedvectors.Vocab object at 0x7f52568bd9e8>, '22623': <gensim.models.keyedvectors.Vocab object at 0x7f52568bda58>, '23381': <gensim.models.keyedvectors.Vocab object at 0x7f52568bdac8>, '22743': <gensim.models.keyedvectors.Vocab object at 0x7f52568bdb38>, '23397': <gensim.models.keyedvectors.Vocab object at 0x7f52568bdba8>, '23407': <gensim.models.keyedvectors.Vocab object at 0x7f52568bdc18>, '23268': <gensim.models.keyedvectors.Vocab object at 0x7f52568bdc88>, '20956': <gensim.models.keyedvectors.Vocab object at 0x7f52568bdcf8>, '20763': <gensim.models.keyedvectors.Vocab object at 0x7f52568bdd68>, '20771': <gensim.models.keyedvectors.Vocab object at 0x7f52568bddd8>, '22182': <gensim.models.keyedvectors.Vocab object at 0x7f52568bde48>, '21114': <gensim.models.keyedvectors.Vocab object at 0x7f52568bdeb8>, '23061': <gensim.models.keyedvectors.Vocab object at 0x7f52568bdf28>, '85230B': <gensim.models.keyedvectors.Vocab object at 0x7f52568bdf98>, '23454': <gensim.models.keyedvectors.Vocab object at 0x7f5256a74048>, '23456': <gensim.models.keyedvectors.Vocab object at 0x7f5256a740b8>, '23073': <gensim.models.keyedvectors.Vocab object at 0x7f5256a74128>, '22299': <gensim.models.keyedvectors.Vocab object at 0x7f5256a74198>, '23429': <gensim.models.keyedvectors.Vocab object at 0x7f5256a74208>, '22028': <gensim.models.keyedvectors.Vocab object at 0x7f5256a74278>, '23029': <gensim.models.keyedvectors.Vocab object at 0x7f5256a742e8>, '23031': <gensim.models.keyedvectors.Vocab object at 0x7f5256a74358>, '21360': <gensim.models.keyedvectors.Vocab object at 0x7f5256a743c8>, '22060': <gensim.models.keyedvectors.Vocab object at 0x7f5256a74438>, '85167B': <gensim.models.keyedvectors.Vocab object at 0x7f5256a744a8>, '22823': <gensim.models.keyedvectors.Vocab object at 0x7f5256a74518>, '85212': <gensim.models.keyedvectors.Vocab object at 0x7f5256a74588>, '22161': <gensim.models.keyedvectors.Vocab object at 0x7f5256a745f8>, '22268': <gensim.models.keyedvectors.Vocab object at 0x7f5256a74668>, '35818P': <gensim.models.keyedvectors.Vocab object at 0x7f5256a746d8>, '35923': <gensim.models.keyedvectors.Vocab object at 0x7f5256a74748>, '22248': <gensim.models.keyedvectors.Vocab object at 0x7f5256a747b8>, '23228': <gensim.models.keyedvectors.Vocab object at 0x7f5256a74828>, '18097C': <gensim.models.keyedvectors.Vocab object at 0x7f5256a74898>, '22651': <gensim.models.keyedvectors.Vocab object at 0x7f5256a74908>, '22934': <gensim.models.keyedvectors.Vocab object at 0x7f5256a74978>, '21439': <gensim.models.keyedvectors.Vocab object at 0x7f5256a749e8>, '20733': <gensim.models.keyedvectors.Vocab object at 0x7f5256a74a58>, '21563': <gensim.models.keyedvectors.Vocab object at 0x7f5256a74ac8>, '84279B': <gensim.models.keyedvectors.Vocab object at 0x7f5256a74b38>, '22837': <gensim.models.keyedvectors.Vocab object at 0x7f5256a74ba8>, '22932': <gensim.models.keyedvectors.Vocab object at 0x7f5256a74c18>, '22933': <gensim.models.keyedvectors.Vocab object at 0x7f5256a74c88>, '22520': <gensim.models.keyedvectors.Vocab object at 0x7f5256a74cf8>, '22522': <gensim.models.keyedvectors.Vocab object at 0x7f5256a74d68>, '22516': <gensim.models.keyedvectors.Vocab object at 0x7f5256a74dd8>, '22523': <gensim.models.keyedvectors.Vocab object at 0x7f5256a74e48>, '22524': <gensim.models.keyedvectors.Vocab object at 0x7f5256a74eb8>, '22525': <gensim.models.keyedvectors.Vocab object at 0x7f5256a74f28>, '22526': <gensim.models.keyedvectors.Vocab object at 0x7f5256a74f98>, '22442': <gensim.models.keyedvectors.Vocab object at 0x7f5256a6f048>, '22443': <gensim.models.keyedvectors.Vocab object at 0x7f5256a6f0b8>, '23357': <gensim.models.keyedvectors.Vocab object at 0x7f5256a6f128>, '23358': <gensim.models.keyedvectors.Vocab object at 0x7f5256a6f198>, '22802': <gensim.models.keyedvectors.Vocab object at 0x7f5256a6f208>, '23582': <gensim.models.keyedvectors.Vocab object at 0x7f5256a6f278>, '22605': <gensim.models.keyedvectors.Vocab object at 0x7f5256a6f2e8>, '21622': <gensim.models.keyedvectors.Vocab object at 0x7f5256a6f358>, '21135': <gensim.models.keyedvectors.Vocab object at 0x7f5256a6f3c8>, '22284': <gensim.models.keyedvectors.Vocab object at 0x7f5256a6f438>, '22176': <gensim.models.keyedvectors.Vocab object at 0x7f5256a6f4a8>, '22244': <gensim.models.keyedvectors.Vocab object at 0x7f5256a6f518>, '22285': <gensim.models.keyedvectors.Vocab object at 0x7f5256a6f588>, '20711': <gensim.models.keyedvectors.Vocab object at 0x7f5256a6f5f8>, '22245': <gensim.models.keyedvectors.Vocab object at 0x7f5256a6f668>, '22317': <gensim.models.keyedvectors.Vocab object at 0x7f5256a6f6d8>, '22318': <gensim.models.keyedvectors.Vocab object at 0x7f5256a6f748>, '22325': <gensim.models.keyedvectors.Vocab object at 0x7f5256a6f7b8>, '22175': <gensim.models.keyedvectors.Vocab object at 0x7f5256a6f828>, '21913': <gensim.models.keyedvectors.Vocab object at 0x7f5256a6f898>, '23176': <gensim.models.keyedvectors.Vocab object at 0x7f5256a6f908>, '23504': <gensim.models.keyedvectors.Vocab object at 0x7f5256a6f978>, '85014B': <gensim.models.keyedvectors.Vocab object at 0x7f5256a6f9e8>, '21833': <gensim.models.keyedvectors.Vocab object at 0x7f5256a6fa58>, '21250': <gensim.models.keyedvectors.Vocab object at 0x7f5256a6fac8>, '21716': <gensim.models.keyedvectors.Vocab object at 0x7f5256a6fb38>, '21715': <gensim.models.keyedvectors.Vocab object at 0x7f5256a6fba8>, '21718': <gensim.models.keyedvectors.Vocab object at 0x7f5256a6fc18>, '22611': <gensim.models.keyedvectors.Vocab object at 0x7f5256a6fc88>, '21626': <gensim.models.keyedvectors.Vocab object at 0x7f5256a6fcf8>, '20839': <gensim.models.keyedvectors.Vocab object at 0x7f5256a6fd68>, '22604': <gensim.models.keyedvectors.Vocab object at 0x7f5256a6fdd8>, '22598': <gensim.models.keyedvectors.Vocab object at 0x7f5256a6fe48>, '22599': <gensim.models.keyedvectors.Vocab object at 0x7f5256a6feb8>, '22602': <gensim.models.keyedvectors.Vocab object at 0x7f5256a6ff28>, '21803': <gensim.models.keyedvectors.Vocab object at 0x7f5256a6ff98>, '21802': <gensim.models.keyedvectors.Vocab object at 0x7f5256a7a048>, '21807': <gensim.models.keyedvectors.Vocab object at 0x7f5256a7a0b8>, '20760': <gensim.models.keyedvectors.Vocab object at 0x7f5256a7a128>, '20758': <gensim.models.keyedvectors.Vocab object at 0x7f5256a7a198>, '20759': <gensim.models.keyedvectors.Vocab object at 0x7f5256a7a208>, '20755': <gensim.models.keyedvectors.Vocab object at 0x7f5256a7a278>, '20756': <gensim.models.keyedvectors.Vocab object at 0x7f5256a7a2e8>, '22495': <gensim.models.keyedvectors.Vocab object at 0x7f5256a7a358>, '23091': <gensim.models.keyedvectors.Vocab object at 0x7f5256a7a3c8>, '21269': <gensim.models.keyedvectors.Vocab object at 0x7f5256a7a438>, '23470': <gensim.models.keyedvectors.Vocab object at 0x7f5256a7a4a8>, '23196': <gensim.models.keyedvectors.Vocab object at 0x7f5256a7a518>, '23120': <gensim.models.keyedvectors.Vocab object at 0x7f5256a7a588>, '22531': <gensim.models.keyedvectors.Vocab object at 0x7f5256a7a5f8>, '22210': <gensim.models.keyedvectors.Vocab object at 0x7f5256a7a668>, '22615': <gensim.models.keyedvectors.Vocab object at 0x7f5256a7a6d8>, '23365': <gensim.models.keyedvectors.Vocab object at 0x7f5256a7a748>, '20617': <gensim.models.keyedvectors.Vocab object at 0x7f5256a7a7b8>, '84580': <gensim.models.keyedvectors.Vocab object at 0x7f5256a7a828>, '84584': <gensim.models.keyedvectors.Vocab object at 0x7f5256a7a898>, '22744': <gensim.models.keyedvectors.Vocab object at 0x7f5256a7a908>, '22088': <gensim.models.keyedvectors.Vocab object at 0x7f5256a7a978>, '21015': <gensim.models.keyedvectors.Vocab object at 0x7f5256a7a9e8>, '72816': <gensim.models.keyedvectors.Vocab object at 0x7f5256a7aa58>, '23187': <gensim.models.keyedvectors.Vocab object at 0x7f5256a7aac8>, '90058B': <gensim.models.keyedvectors.Vocab object at 0x7f5256a7ab38>, '22222': <gensim.models.keyedvectors.Vocab object at 0x7f5256a7aba8>, '21616': <gensim.models.keyedvectors.Vocab object at 0x7f5256a7ac18>, '35953': <gensim.models.keyedvectors.Vocab object at 0x7f5256a7ac88>, '17012D': <gensim.models.keyedvectors.Vocab object at 0x7f5256a7acf8>, '21636': <gensim.models.keyedvectors.Vocab object at 0x7f5256a7ad68>, '23418': <gensim.models.keyedvectors.Vocab object at 0x7f5256a7add8>, '23394': <gensim.models.keyedvectors.Vocab object at 0x7f5256a7ae48>, '23336': <gensim.models.keyedvectors.Vocab object at 0x7f5256a7aeb8>, '23326': <gensim.models.keyedvectors.Vocab object at 0x7f5256a7af28>, '23531': <gensim.models.keyedvectors.Vocab object at 0x7f5256a7af98>, '23403': <gensim.models.keyedvectors.Vocab object at 0x7f5256bfc048>, '23406': <gensim.models.keyedvectors.Vocab object at 0x7f5256bfc0b8>, '23469': <gensim.models.keyedvectors.Vocab object at 0x7f5256bfc128>, '23557': <gensim.models.keyedvectors.Vocab object at 0x7f5256bfc198>, '21638': <gensim.models.keyedvectors.Vocab object at 0x7f5256bfc208>, '21306': <gensim.models.keyedvectors.Vocab object at 0x7f5256bfc278>, '22438': <gensim.models.keyedvectors.Vocab object at 0x7f5256bfc2e8>, '85227': <gensim.models.keyedvectors.Vocab object at 0x7f5256bfc358>, '22537': <gensim.models.keyedvectors.Vocab object at 0x7f5256bfc3c8>, '22535': <gensim.models.keyedvectors.Vocab object at 0x7f5256bfc438>, '23079': <gensim.models.keyedvectors.Vocab object at 0x7f5256bfc4a8>, '22911': <gensim.models.keyedvectors.Vocab object at 0x7f5256bfc518>, '71038': <gensim.models.keyedvectors.Vocab object at 0x7f5256bfc588>, '85034C': <gensim.models.keyedvectors.Vocab object at 0x7f5256bfc5f8>, '23348': <gensim.models.keyedvectors.Vocab object at 0x7f5256bfc668>, '20828': <gensim.models.keyedvectors.Vocab object at 0x7f5256bfc6d8>, '23330': <gensim.models.keyedvectors.Vocab object at 0x7f5256bfc748>, '23329': <gensim.models.keyedvectors.Vocab object at 0x7f5256bfc7b8>, '22277': <gensim.models.keyedvectors.Vocab object at 0x7f5256bfc828>, '23399': <gensim.models.keyedvectors.Vocab object at 0x7f5256bfc898>, '22990': <gensim.models.keyedvectors.Vocab object at 0x7f5256bfc908>, '85062': <gensim.models.keyedvectors.Vocab object at 0x7f5256bfc978>, '21381': <gensim.models.keyedvectors.Vocab object at 0x7f5256bfc9e8>, '21059': <gensim.models.keyedvectors.Vocab object at 0x7f5256bfca58>, '21503': <gensim.models.keyedvectors.Vocab object at 0x7f5256bfcac8>, '22742': <gensim.models.keyedvectors.Vocab object at 0x7f5256bfcb38>, '84012': <gensim.models.keyedvectors.Vocab object at 0x7f5256bfcba8>, '85049F': <gensim.models.keyedvectors.Vocab object at 0x7f5256bfcc18>, '47585A': <gensim.models.keyedvectors.Vocab object at 0x7f5256bfcc88>, '47586A': <gensim.models.keyedvectors.Vocab object at 0x7f5256bfccf8>, '85049C': <gensim.models.keyedvectors.Vocab object at 0x7f5256bfcd68>, '23075': <gensim.models.keyedvectors.Vocab object at 0x7f5256bfcdd8>, '23564': <gensim.models.keyedvectors.Vocab object at 0x7f5256bfce48>, '22595': <gensim.models.keyedvectors.Vocab object at 0x7f5256bfceb8>, '23433': <gensim.models.keyedvectors.Vocab object at 0x7f5256bfcf28>, '23432': <gensim.models.keyedvectors.Vocab object at 0x7f5256bfcf98>, '23431': <gensim.models.keyedvectors.Vocab object at 0x7f5256bd8048>, '22820': <gensim.models.keyedvectors.Vocab object at 0x7f5256bd80b8>, '22707': <gensim.models.keyedvectors.Vocab object at 0x7f5256bd8128>, '21880': <gensim.models.keyedvectors.Vocab object at 0x7f5256bd8198>, '21787': <gensim.models.keyedvectors.Vocab object at 0x7f5256bd8208>, '21708': <gensim.models.keyedvectors.Vocab object at 0x7f5256bd8278>, '23304': <gensim.models.keyedvectors.Vocab object at 0x7f5256bd82e8>, '23379': <gensim.models.keyedvectors.Vocab object at 0x7f5256bd8358>, '20829': <gensim.models.keyedvectors.Vocab object at 0x7f5256bd83c8>, '22314': <gensim.models.keyedvectors.Vocab object at 0x7f5256bd8438>, '22313': <gensim.models.keyedvectors.Vocab object at 0x7f5256bd84a8>, '22203': <gensim.models.keyedvectors.Vocab object at 0x7f5256bd8518>, '22199': <gensim.models.keyedvectors.Vocab object at 0x7f5256bd8588>, '23115': <gensim.models.keyedvectors.Vocab object at 0x7f5256bd85f8>, '23116': <gensim.models.keyedvectors.Vocab object at 0x7f5256bd8668>, '21041': <gensim.models.keyedvectors.Vocab object at 0x7f5256bd86d8>, '23420': <gensim.models.keyedvectors.Vocab object at 0x7f5256bd8748>, '23422': <gensim.models.keyedvectors.Vocab object at 0x7f5256bd87b8>, '22477': <gensim.models.keyedvectors.Vocab object at 0x7f5256bd8828>, '20934': <gensim.models.keyedvectors.Vocab object at 0x7f5256bd8898>, '23413': <gensim.models.keyedvectors.Vocab object at 0x7f5256bd8908>, '22315': <gensim.models.keyedvectors.Vocab object at 0x7f5256bd8978>, '21879': <gensim.models.keyedvectors.Vocab object at 0x7f5256bd89e8>, '21882': <gensim.models.keyedvectors.Vocab object at 0x7f5256bd8a58>, '22264': <gensim.models.keyedvectors.Vocab object at 0x7f5256bd8ac8>, '70006': <gensim.models.keyedvectors.Vocab object at 0x7f5256bd8b38>, '84826': <gensim.models.keyedvectors.Vocab object at 0x7f5256bd8ba8>, '85180A': <gensim.models.keyedvectors.Vocab object at 0x7f5256bd8c18>, '85049D': <gensim.models.keyedvectors.Vocab object at 0x7f5256bd8c88>, '21194': <gensim.models.keyedvectors.Vocab object at 0x7f5256bd8cf8>, '21208': <gensim.models.keyedvectors.Vocab object at 0x7f5256bd8d68>, '22228': <gensim.models.keyedvectors.Vocab object at 0x7f5256bd8dd8>, '22043': <gensim.models.keyedvectors.Vocab object at 0x7f5256bd8e48>, '16008': <gensim.models.keyedvectors.Vocab object at 0x7f5256bd8eb8>, '21391': <gensim.models.keyedvectors.Vocab object at 0x7f5256bd8f28>, '21991': <gensim.models.keyedvectors.Vocab object at 0x7f5256bd8f98>, '21352': <gensim.models.keyedvectors.Vocab object at 0x7f5256b78048>, '22340': <gensim.models.keyedvectors.Vocab object at 0x7f5256b780b8>, '22163': <gensim.models.keyedvectors.Vocab object at 0x7f5256b78128>, '10080': <gensim.models.keyedvectors.Vocab object at 0x7f5256b78198>, '21162': <gensim.models.keyedvectors.Vocab object at 0x7f5256b78208>, '22342': <gensim.models.keyedvectors.Vocab object at 0x7f5256b78278>, '23697': <gensim.models.keyedvectors.Vocab object at 0x7f5256b782e8>, '23694': <gensim.models.keyedvectors.Vocab object at 0x7f5256b78358>, '22757': <gensim.models.keyedvectors.Vocab object at 0x7f5256b783c8>, '23372': <gensim.models.keyedvectors.Vocab object at 0x7f5256b78438>, '23369': <gensim.models.keyedvectors.Vocab object at 0x7f5256b784a8>, '23249': <gensim.models.keyedvectors.Vocab object at 0x7f5256b78518>, '84920': <gensim.models.keyedvectors.Vocab object at 0x7f5256b78588>, '22207': <gensim.models.keyedvectors.Vocab object at 0x7f5256b785f8>, '23442': <gensim.models.keyedvectors.Vocab object at 0x7f5256b78668>, '47471': <gensim.models.keyedvectors.Vocab object at 0x7f5256b786d8>, '47469': <gensim.models.keyedvectors.Vocab object at 0x7f5256b78748>, '84748': <gensim.models.keyedvectors.Vocab object at 0x7f5256b787b8>, '22164': <gensim.models.keyedvectors.Vocab object at 0x7f5256b78828>, '23530': <gensim.models.keyedvectors.Vocab object at 0x7f5256b78898>, '22584': <gensim.models.keyedvectors.Vocab object at 0x7f5256b78908>, '22582': <gensim.models.keyedvectors.Vocab object at 0x7f5256b78978>, '22968': <gensim.models.keyedvectors.Vocab object at 0x7f5256b789e8>, '21786': <gensim.models.keyedvectors.Vocab object at 0x7f5256b78a58>, '21428': <gensim.models.keyedvectors.Vocab object at 0x7f5256b78ac8>, '21527': <gensim.models.keyedvectors.Vocab object at 0x7f5256b78b38>, '21537': <gensim.models.keyedvectors.Vocab object at 0x7f5256b78ba8>, '22310': <gensim.models.keyedvectors.Vocab object at 0x7f5256b78c18>, '22074': <gensim.models.keyedvectors.Vocab object at 0x7f5256b78c88>, '22257': <gensim.models.keyedvectors.Vocab object at 0x7f5256b78cf8>, '22258': <gensim.models.keyedvectors.Vocab object at 0x7f5256b78d68>, '22259': <gensim.models.keyedvectors.Vocab object at 0x7f5256b78dd8>, '22343': <gensim.models.keyedvectors.Vocab object at 0x7f5256b78e48>, '22345': <gensim.models.keyedvectors.Vocab object at 0x7f5256b78eb8>, '22346': <gensim.models.keyedvectors.Vocab object at 0x7f5256b78f28>, '21217': <gensim.models.keyedvectors.Vocab object at 0x7f5256b78f98>, '22902': <gensim.models.keyedvectors.Vocab object at 0x7f5256b91048>, '21154': <gensim.models.keyedvectors.Vocab object at 0x7f5256b910b8>, '85208': <gensim.models.keyedvectors.Vocab object at 0x7f5256b91128>, '22254': <gensim.models.keyedvectors.Vocab object at 0x7f5256b91198>, '22255': <gensim.models.keyedvectors.Vocab object at 0x7f5256b91208>, '21564': <gensim.models.keyedvectors.Vocab object at 0x7f5256b91278>, '21123': <gensim.models.keyedvectors.Vocab object at 0x7f5256b912e8>, '85206A': <gensim.models.keyedvectors.Vocab object at 0x7f5256b91358>, '77101A': <gensim.models.keyedvectors.Vocab object at 0x7f5256b913c8>, '22270': <gensim.models.keyedvectors.Vocab object at 0x7f5256b91438>, '21592': <gensim.models.keyedvectors.Vocab object at 0x7f5256b914a8>, '47570B': <gensim.models.keyedvectors.Vocab object at 0x7f5256b91518>, '84563A': <gensim.models.keyedvectors.Vocab object at 0x7f5256b91588>, '84563B': <gensim.models.keyedvectors.Vocab object at 0x7f5256b915f8>, '23134': <gensim.models.keyedvectors.Vocab object at 0x7f5256b91668>, '22063': <gensim.models.keyedvectors.Vocab object at 0x7f5256b916d8>, '22814': <gensim.models.keyedvectors.Vocab object at 0x7f5256b91748>, '22705': <gensim.models.keyedvectors.Vocab object at 0x7f5256b917b8>, '23309': <gensim.models.keyedvectors.Vocab object at 0x7f5256b91828>, '23238': <gensim.models.keyedvectors.Vocab object at 0x7f5256b91898>, '22050': <gensim.models.keyedvectors.Vocab object at 0x7f5256b91908>, '22706': <gensim.models.keyedvectors.Vocab object at 0x7f5256b91978>, '23010': <gensim.models.keyedvectors.Vocab object at 0x7f5256b919e8>, '23009': <gensim.models.keyedvectors.Vocab object at 0x7f5256b91a58>, '23122': <gensim.models.keyedvectors.Vocab object at 0x7f5256b91ac8>, '23121': <gensim.models.keyedvectors.Vocab object at 0x7f5256b91b38>, '23125': <gensim.models.keyedvectors.Vocab object at 0x7f5256b91ba8>, '23124': <gensim.models.keyedvectors.Vocab object at 0x7f5256b91c18>, '23347': <gensim.models.keyedvectors.Vocab object at 0x7f5256b91c88>, '47567B': <gensim.models.keyedvectors.Vocab object at 0x7f5256b91cf8>, '22378': <gensim.models.keyedvectors.Vocab object at 0x7f5256b91d68>, '21042': <gensim.models.keyedvectors.Vocab object at 0x7f5256b91dd8>, '23412': <gensim.models.keyedvectors.Vocab object at 0x7f5256b91e48>, '22336': <gensim.models.keyedvectors.Vocab object at 0x7f5256b91eb8>, '23501': <gensim.models.keyedvectors.Vocab object at 0x7f5256b91f28>, '23538': <gensim.models.keyedvectors.Vocab object at 0x7f5256b91f98>, '23537': <gensim.models.keyedvectors.Vocab object at 0x7f5256da9048>, '21261': <gensim.models.keyedvectors.Vocab object at 0x7f5256da90b8>, '21035': <gensim.models.keyedvectors.Vocab object at 0x7f5256da9128>, '23691': <gensim.models.keyedvectors.Vocab object at 0x7f5256da9198>, '21131': <gensim.models.keyedvectors.Vocab object at 0x7f5256da9208>, '21285': <gensim.models.keyedvectors.Vocab object at 0x7f5256da9278>, '21286': <gensim.models.keyedvectors.Vocab object at 0x7f5256da92e8>, '22785': <gensim.models.keyedvectors.Vocab object at 0x7f5256da9358>, '22786': <gensim.models.keyedvectors.Vocab object at 0x7f5256da93c8>, '23579': <gensim.models.keyedvectors.Vocab object at 0x7f5256da9438>, '23576': <gensim.models.keyedvectors.Vocab object at 0x7f5256da94a8>, '22688': <gensim.models.keyedvectors.Vocab object at 0x7f5256da9518>, '21676': <gensim.models.keyedvectors.Vocab object at 0x7f5256da9588>, '21680': <gensim.models.keyedvectors.Vocab object at 0x7f5256da95f8>, '20679': <gensim.models.keyedvectors.Vocab object at 0x7f5256da9668>, '21793': <gensim.models.keyedvectors.Vocab object at 0x7f5256da96d8>, '23099': <gensim.models.keyedvectors.Vocab object at 0x7f5256da9748>, '84969': <gensim.models.keyedvectors.Vocab object at 0x7f5256da97b8>, '23093': <gensim.models.keyedvectors.Vocab object at 0x7f5256da9828>, '21828': <gensim.models.keyedvectors.Vocab object at 0x7f5256da9898>, '23400': <gensim.models.keyedvectors.Vocab object at 0x7f5256da9908>, '23462': <gensim.models.keyedvectors.Vocab object at 0x7f5256da9978>, '23490': <gensim.models.keyedvectors.Vocab object at 0x7f5256da99e8>, '23453': <gensim.models.keyedvectors.Vocab object at 0x7f5256da9a58>, '21349': <gensim.models.keyedvectors.Vocab object at 0x7f5256da9ac8>, '23046': <gensim.models.keyedvectors.Vocab object at 0x7f5256da9b38>, '20985': <gensim.models.keyedvectors.Vocab object at 0x7f5256da9ba8>, '20982': <gensim.models.keyedvectors.Vocab object at 0x7f5256da9c18>, '22440': <gensim.models.keyedvectors.Vocab object at 0x7f5256da9c88>, '21221': <gensim.models.keyedvectors.Vocab object at 0x7f5256da9cf8>, '85136C': <gensim.models.keyedvectors.Vocab object at 0x7f5256da9d68>, '21556': <gensim.models.keyedvectors.Vocab object at 0x7f5256da9dd8>, '20622': <gensim.models.keyedvectors.Vocab object at 0x7f5256da9e48>, '21199': <gensim.models.keyedvectors.Vocab object at 0x7f5256da9eb8>, '22643': <gensim.models.keyedvectors.Vocab object at 0x7f5256da9f28>, '21287': <gensim.models.keyedvectors.Vocab object at 0x7f5256da9f98>, '84678': <gensim.models.keyedvectors.Vocab object at 0x7f5256daf048>, '21126': <gensim.models.keyedvectors.Vocab object at 0x7f5256daf0b8>, '21125': <gensim.models.keyedvectors.Vocab object at 0x7f5256daf128>, '21459': <gensim.models.keyedvectors.Vocab object at 0x7f5256daf198>, '21714': <gensim.models.keyedvectors.Vocab object at 0x7f5256daf208>, '21251': <gensim.models.keyedvectors.Vocab object at 0x7f5256daf278>, '84520B': <gensim.models.keyedvectors.Vocab object at 0x7f5256daf2e8>, '21422': <gensim.models.keyedvectors.Vocab object at 0x7f5256daf358>, '22229': <gensim.models.keyedvectors.Vocab object at 0x7f5256daf3c8>, '21987': <gensim.models.keyedvectors.Vocab object at 0x7f5256daf438>, '21988': <gensim.models.keyedvectors.Vocab object at 0x7f5256daf4a8>, '21989': <gensim.models.keyedvectors.Vocab object at 0x7f5256daf518>, '16168M': <gensim.models.keyedvectors.Vocab object at 0x7f5256daf588>, '21424': <gensim.models.keyedvectors.Vocab object at 0x7f5256daf5f8>, '21425': <gensim.models.keyedvectors.Vocab object at 0x7f5256daf668>, '22276': <gensim.models.keyedvectors.Vocab object at 0x7f5256daf6d8>, '21864': <gensim.models.keyedvectors.Vocab object at 0x7f5256daf748>, '20782': <gensim.models.keyedvectors.Vocab object at 0x7f5256daf7b8>, '22559': <gensim.models.keyedvectors.Vocab object at 0x7f5256daf828>, '20967': <gensim.models.keyedvectors.Vocab object at 0x7f5256daf898>, '21222': <gensim.models.keyedvectors.Vocab object at 0x7f5256daf908>, '21365': <gensim.models.keyedvectors.Vocab object at 0x7f5256daf978>, '21371': <gensim.models.keyedvectors.Vocab object at 0x7f5256daf9e8>, '22545': <gensim.models.keyedvectors.Vocab object at 0x7f5256dafa58>, '22547': <gensim.models.keyedvectors.Vocab object at 0x7f5256dafac8>, '22543': <gensim.models.keyedvectors.Vocab object at 0x7f5256dafb38>, '15060B': <gensim.models.keyedvectors.Vocab object at 0x7f5256dafba8>, '85014A': <gensim.models.keyedvectors.Vocab object at 0x7f5256dafc18>, '20665': <gensim.models.keyedvectors.Vocab object at 0x7f5256dafc88>, '35637C': <gensim.models.keyedvectors.Vocab object at 0x7f5256dafcf8>, '22773': <gensim.models.keyedvectors.Vocab object at 0x7f5256dafd68>, '22200': <gensim.models.keyedvectors.Vocab object at 0x7f5256dafdd8>, '22201': <gensim.models.keyedvectors.Vocab object at 0x7f5256dafe48>, '22848': <gensim.models.keyedvectors.Vocab object at 0x7f5256dafeb8>, '37500': <gensim.models.keyedvectors.Vocab object at 0x7f5256daff28>, '22308': <gensim.models.keyedvectors.Vocab object at 0x7f5256daff98>, '21584': <gensim.models.keyedvectors.Vocab object at 0x7f5256dba048>, '23004': <gensim.models.keyedvectors.Vocab object at 0x7f5256dba0b8>, '22994': <gensim.models.keyedvectors.Vocab object at 0x7f5256dba128>, '17091J': <gensim.models.keyedvectors.Vocab object at 0x7f5256dba198>, '22913': <gensim.models.keyedvectors.Vocab object at 0x7f5256dba208>, '85232D': <gensim.models.keyedvectors.Vocab object at 0x7f5256dba278>, '47559B': <gensim.models.keyedvectors.Vocab object at 0x7f5256dba2e8>, '35001G': <gensim.models.keyedvectors.Vocab object at 0x7f5256dba358>, '22348': <gensim.models.keyedvectors.Vocab object at 0x7f5256dba3c8>, '84510A': <gensim.models.keyedvectors.Vocab object at 0x7f5256dba438>, '21159': <gensim.models.keyedvectors.Vocab object at 0x7f5256dba4a8>, '23428': <gensim.models.keyedvectors.Vocab object at 0x7f5256dba518>, '23430': <gensim.models.keyedvectors.Vocab object at 0x7f5256dba588>, '85049H': <gensim.models.keyedvectors.Vocab object at 0x7f5256dba5f8>, '85017B': <gensim.models.keyedvectors.Vocab object at 0x7f5256dba668>, '21084': <gensim.models.keyedvectors.Vocab object at 0x7f5256dba6d8>, '21090': <gensim.models.keyedvectors.Vocab object at 0x7f5256dba748>, '23425': <gensim.models.keyedvectors.Vocab object at 0x7f5256dba7b8>, '21627': <gensim.models.keyedvectors.Vocab object at 0x7f5256dba828>, '17084J': <gensim.models.keyedvectors.Vocab object at 0x7f5256dba898>, '17084A': <gensim.models.keyedvectors.Vocab object at 0x7f5256dba908>, '17084P': <gensim.models.keyedvectors.Vocab object at 0x7f5256dba978>, '23255': <gensim.models.keyedvectors.Vocab object at 0x7f5256dba9e8>, '21578': <gensim.models.keyedvectors.Vocab object at 0x7f5256dbaa58>, '21002': <gensim.models.keyedvectors.Vocab object at 0x7f5256dbaac8>, '47599B': <gensim.models.keyedvectors.Vocab object at 0x7f5256dbab38>, '21039': <gensim.models.keyedvectors.Vocab object at 0x7f5256dbaba8>, '21710': <gensim.models.keyedvectors.Vocab object at 0x7f5256dbac18>, '84916': <gensim.models.keyedvectors.Vocab object at 0x7f5256dbac88>, '84913A': <gensim.models.keyedvectors.Vocab object at 0x7f5256dbacf8>, '72801C': <gensim.models.keyedvectors.Vocab object at 0x7f5256dbad68>, '72801D': <gensim.models.keyedvectors.Vocab object at 0x7f5256dbadd8>, '84569D': <gensim.models.keyedvectors.Vocab object at 0x7f5256dbae48>, '84569B': <gensim.models.keyedvectors.Vocab object at 0x7f5256dbaeb8>, '22483': <gensim.models.keyedvectors.Vocab object at 0x7f5256dbaf28>, '85213': <gensim.models.keyedvectors.Vocab object at 0x7f5256dbaf98>, '22256': <gensim.models.keyedvectors.Vocab object at 0x7f525731a048>, '35916C': <gensim.models.keyedvectors.Vocab object at 0x7f525731a0b8>, '22321': <gensim.models.keyedvectors.Vocab object at 0x7f525731a128>, '35915B': <gensim.models.keyedvectors.Vocab object at 0x7f525731a198>, '15058B': <gensim.models.keyedvectors.Vocab object at 0x7f525731a208>, '15058A': <gensim.models.keyedvectors.Vocab object at 0x7f525731a278>, '22916': <gensim.models.keyedvectors.Vocab object at 0x7f525731a2e8>, '22917': <gensim.models.keyedvectors.Vocab object at 0x7f525731a358>, '22918': <gensim.models.keyedvectors.Vocab object at 0x7f525731a3c8>, '22919': <gensim.models.keyedvectors.Vocab object at 0x7f525731a438>, '22920': <gensim.models.keyedvectors.Vocab object at 0x7f525731a4a8>, '22921': <gensim.models.keyedvectors.Vocab object at 0x7f525731a518>, '21441': <gensim.models.keyedvectors.Vocab object at 0x7f525731a588>, '21442': <gensim.models.keyedvectors.Vocab object at 0x7f525731a5f8>, '84637': <gensim.models.keyedvectors.Vocab object at 0x7f525731a668>, '84744': <gensim.models.keyedvectors.Vocab object at 0x7f525731a6d8>, '84673B': <gensim.models.keyedvectors.Vocab object at 0x7f525731a748>, '22395': <gensim.models.keyedvectors.Vocab object at 0x7f525731a7b8>, '47367B': <gensim.models.keyedvectors.Vocab object at 0x7f525731a828>, '22204': <gensim.models.keyedvectors.Vocab object at 0x7f525731a898>, '20998': <gensim.models.keyedvectors.Vocab object at 0x7f525731a908>, '22073': <gensim.models.keyedvectors.Vocab object at 0x7f525731a978>, '35809A': <gensim.models.keyedvectors.Vocab object at 0x7f525731a9e8>, '35810A': <gensim.models.keyedvectors.Vocab object at 0x7f525731aa58>, '21095': <gensim.models.keyedvectors.Vocab object at 0x7f525731aac8>, '21087': <gensim.models.keyedvectors.Vocab object at 0x7f525731ab38>, '22221': <gensim.models.keyedvectors.Vocab object at 0x7f525731aba8>, '22223': <gensim.models.keyedvectors.Vocab object at 0x7f525731ac18>, '84968F': <gensim.models.keyedvectors.Vocab object at 0x7f525731ac88>, '84968D': <gensim.models.keyedvectors.Vocab object at 0x7f525731acf8>, '84968A': <gensim.models.keyedvectors.Vocab object at 0x7f525731ad68>, '84968C': <gensim.models.keyedvectors.Vocab object at 0x7f525731add8>, '84509A': <gensim.models.keyedvectors.Vocab object at 0x7f525731ae48>, '84919': <gensim.models.keyedvectors.Vocab object at 0x7f525731aeb8>, '85087': <gensim.models.keyedvectors.Vocab object at 0x7f525731af28>, '84687': <gensim.models.keyedvectors.Vocab object at 0x7f525731af98>, '22032': <gensim.models.keyedvectors.Vocab object at 0x7f5257332048>, '22981': <gensim.models.keyedvectors.Vocab object at 0x7f52573320b8>, '37342': <gensim.models.keyedvectors.Vocab object at 0x7f5257332128>, '79030G': <gensim.models.keyedvectors.Vocab object at 0x7f5257332198>, '37501': <gensim.models.keyedvectors.Vocab object at 0x7f5257332208>, '20801': <gensim.models.keyedvectors.Vocab object at 0x7f5257332278>, '21577': <gensim.models.keyedvectors.Vocab object at 0x7f52573322e8>, '23515': <gensim.models.keyedvectors.Vocab object at 0x7f5257332358>, '23519': <gensim.models.keyedvectors.Vocab object at 0x7f52573323c8>, '21197': <gensim.models.keyedvectors.Vocab object at 0x7f5257332438>, '40016': <gensim.models.keyedvectors.Vocab object at 0x7f52573324a8>, '10002': <gensim.models.keyedvectors.Vocab object at 0x7f5257332518>, '22821': <gensim.models.keyedvectors.Vocab object at 0x7f5257332588>, '21211': <gensim.models.keyedvectors.Vocab object at 0x7f52573325f8>, '84534B': <gensim.models.keyedvectors.Vocab object at 0x7f5257332668>, '44235': <gensim.models.keyedvectors.Vocab object at 0x7f52573326d8>, '20767': <gensim.models.keyedvectors.Vocab object at 0x7f5257332748>, '21464': <gensim.models.keyedvectors.Vocab object at 0x7f52573327b8>, '21518': <gensim.models.keyedvectors.Vocab object at 0x7f5257332828>, '22127': <gensim.models.keyedvectors.Vocab object at 0x7f5257332898>, '84086B': <gensim.models.keyedvectors.Vocab object at 0x7f5257332908>, '84086C': <gensim.models.keyedvectors.Vocab object at 0x7f5257332978>, '47593A': <gensim.models.keyedvectors.Vocab object at 0x7f52573329e8>, '79063C': <gensim.models.keyedvectors.Vocab object at 0x7f5257332a58>, '21634': <gensim.models.keyedvectors.Vocab object at 0x7f5257332ac8>, '22999': <gensim.models.keyedvectors.Vocab object at 0x7f5257332b38>, '22995': <gensim.models.keyedvectors.Vocab object at 0x7f5257332ba8>, '84750B': <gensim.models.keyedvectors.Vocab object at 0x7f5257332c18>, '22858': <gensim.models.keyedvectors.Vocab object at 0x7f5257332c88>, '84247N': <gensim.models.keyedvectors.Vocab object at 0x7f5257332cf8>, '84247K': <gensim.models.keyedvectors.Vocab object at 0x7f5257332d68>, '21706': <gensim.models.keyedvectors.Vocab object at 0x7f5257332dd8>, '21711': <gensim.models.keyedvectors.Vocab object at 0x7f5257332e48>, '85107': <gensim.models.keyedvectors.Vocab object at 0x7f5257332eb8>, '85106': <gensim.models.keyedvectors.Vocab object at 0x7f5257332f28>, '20773': <gensim.models.keyedvectors.Vocab object at 0x7f5257332f98>, '21070': <gensim.models.keyedvectors.Vocab object at 0x7f5257739048>, '84674': <gensim.models.keyedvectors.Vocab object at 0x7f52577390b8>, '20716': <gensim.models.keyedvectors.Vocab object at 0x7f5257739128>, '21201': <gensim.models.keyedvectors.Vocab object at 0x7f5257739198>, '79026B': <gensim.models.keyedvectors.Vocab object at 0x7f5257739208>, '20775': <gensim.models.keyedvectors.Vocab object at 0x7f5257739278>, '62043B': <gensim.models.keyedvectors.Vocab object at 0x7f52577392e8>, '84507B': <gensim.models.keyedvectors.Vocab object at 0x7f5257739358>, '46138B': <gensim.models.keyedvectors.Vocab object at 0x7f52577393c8>, '16162M': <gensim.models.keyedvectors.Vocab object at 0x7f5257739438>, '72349B': <gensim.models.keyedvectors.Vocab object at 0x7f52577394a8>, '20654': <gensim.models.keyedvectors.Vocab object at 0x7f5257739518>, '20659': <gensim.models.keyedvectors.Vocab object at 0x7f5257739588>, '20657': <gensim.models.keyedvectors.Vocab object at 0x7f52577395f8>, '20655': <gensim.models.keyedvectors.Vocab object at 0x7f5257739668>, '85116': <gensim.models.keyedvectors.Vocab object at 0x7f52577396d8>, '21189': <gensim.models.keyedvectors.Vocab object at 0x7f5257739748>, '21205': <gensim.models.keyedvectors.Vocab object at 0x7f52577397b8>, '21494': <gensim.models.keyedvectors.Vocab object at 0x7f5257739828>, '22481': <gensim.models.keyedvectors.Vocab object at 0x7f5257739898>, '20757': <gensim.models.keyedvectors.Vocab object at 0x7f5257739908>, '72586': <gensim.models.keyedvectors.Vocab object at 0x7f5257739978>, '79190A': <gensim.models.keyedvectors.Vocab object at 0x7f52577399e8>, '16162L': <gensim.models.keyedvectors.Vocab object at 0x7f5257739a58>, '21576': <gensim.models.keyedvectors.Vocab object at 0x7f5257739ac8>, '85173': <gensim.models.keyedvectors.Vocab object at 0x7f5257739b38>, '85170B': <gensim.models.keyedvectors.Vocab object at 0x7f5257739ba8>, '15044C': <gensim.models.keyedvectors.Vocab object at 0x7f5257739c18>, '15044D': <gensim.models.keyedvectors.Vocab object at 0x7f5257739c88>, '21192': <gensim.models.keyedvectors.Vocab object at 0x7f5257739cf8>, '85202': <gensim.models.keyedvectors.Vocab object at 0x7f5257739d68>, '23331': <gensim.models.keyedvectors.Vocab object at 0x7f5257739dd8>, '20669': <gensim.models.keyedvectors.Vocab object at 0x7f5257739e48>, '85204': <gensim.models.keyedvectors.Vocab object at 0x7f5257739eb8>, '21866': <gensim.models.keyedvectors.Vocab object at 0x7f5257739f28>, '85203': <gensim.models.keyedvectors.Vocab object at 0x7f5257739f98>, '21746': <gensim.models.keyedvectors.Vocab object at 0x7f5257714048>, '22266': <gensim.models.keyedvectors.Vocab object at 0x7f52577140b8>, '21456': <gensim.models.keyedvectors.Vocab object at 0x7f5257714128>, '23466': <gensim.models.keyedvectors.Vocab object at 0x7f5257714198>, '21379': <gensim.models.keyedvectors.Vocab object at 0x7f5257714208>, '21377': <gensim.models.keyedvectors.Vocab object at 0x7f5257714278>, '20831': <gensim.models.keyedvectors.Vocab object at 0x7f52577142e8>, '21378': <gensim.models.keyedvectors.Vocab object at 0x7f5257714358>, '23107': <gensim.models.keyedvectors.Vocab object at 0x7f52577143c8>, '21385': <gensim.models.keyedvectors.Vocab object at 0x7f5257714438>, '20966': <gensim.models.keyedvectors.Vocab object at 0x7f52577144a8>, '22278': <gensim.models.keyedvectors.Vocab object at 0x7f5257714518>, '21631': <gensim.models.keyedvectors.Vocab object at 0x7f5257714588>, '84976': <gensim.models.keyedvectors.Vocab object at 0x7f52577145f8>, '22797': <gensim.models.keyedvectors.Vocab object at 0x7f5257714668>, '21613': <gensim.models.keyedvectors.Vocab object at 0x7f52577146d8>, '22783': <gensim.models.keyedvectors.Vocab object at 0x7f5257714748>, '23271': <gensim.models.keyedvectors.Vocab object at 0x7f52577147b8>, '35819P': <gensim.models.keyedvectors.Vocab object at 0x7f5257714828>, '35819B': <gensim.models.keyedvectors.Vocab object at 0x7f5257714898>, '85023B': <gensim.models.keyedvectors.Vocab object at 0x7f5257714908>, '85026B': <gensim.models.keyedvectors.Vocab object at 0x7f5257714978>, '21463': <gensim.models.keyedvectors.Vocab object at 0x7f52577149e8>, '20832': <gensim.models.keyedvectors.Vocab object at 0x7f5257714a58>, '84950': <gensim.models.keyedvectors.Vocab object at 0x7f5257714ac8>, '85230F': <gensim.models.keyedvectors.Vocab object at 0x7f5257714b38>, '82001S': <gensim.models.keyedvectors.Vocab object at 0x7f5257714ba8>, '23539': <gensim.models.keyedvectors.Vocab object at 0x7f5257714c18>, '22486': <gensim.models.keyedvectors.Vocab object at 0x7f5257714c88>, '22224': <gensim.models.keyedvectors.Vocab object at 0x7f5257714cf8>, '22281': <gensim.models.keyedvectors.Vocab object at 0x7f5257714d68>, '22265': <gensim.models.keyedvectors.Vocab object at 0x7f5257714dd8>, '85186C': <gensim.models.keyedvectors.Vocab object at 0x7f5257714e48>, '35915C': <gensim.models.keyedvectors.Vocab object at 0x7f5257714eb8>, '22288': <gensim.models.keyedvectors.Vocab object at 0x7f5257714f28>, '22636': <gensim.models.keyedvectors.Vocab object at 0x7f5257714f98>, '84032A': <gensim.models.keyedvectors.Vocab object at 0x7f5257806048>, '22272': <gensim.models.keyedvectors.Vocab object at 0x7f52578060b8>, '21471': <gensim.models.keyedvectors.Vocab object at 0x7f5257806128>, '22202': <gensim.models.keyedvectors.Vocab object at 0x7f5257806198>, '21356': <gensim.models.keyedvectors.Vocab object at 0x7f5257806208>, '22655': <gensim.models.keyedvectors.Vocab object at 0x7f5257806278>, '21359': <gensim.models.keyedvectors.Vocab object at 0x7f52578062e8>, '81950B': <gensim.models.keyedvectors.Vocab object at 0x7f5257806358>, '23214': <gensim.models.keyedvectors.Vocab object at 0x7f52578063c8>, '23218': <gensim.models.keyedvectors.Vocab object at 0x7f5257806438>, '23225': <gensim.models.keyedvectors.Vocab object at 0x7f52578064a8>, '22593': <gensim.models.keyedvectors.Vocab object at 0x7f5257806518>, '23211': <gensim.models.keyedvectors.Vocab object at 0x7f5257806588>, '23212': <gensim.models.keyedvectors.Vocab object at 0x7f52578065f8>, '21470': <gensim.models.keyedvectors.Vocab object at 0x7f5257806668>, '23028': <gensim.models.keyedvectors.Vocab object at 0x7f52578066d8>, '22929': <gensim.models.keyedvectors.Vocab object at 0x7f5257806748>, '85163B': <gensim.models.keyedvectors.Vocab object at 0x7f52578067b8>, '21792': <gensim.models.keyedvectors.Vocab object at 0x7f5257806828>, '84527': <gensim.models.keyedvectors.Vocab object at 0x7f5257806898>, '84522': <gensim.models.keyedvectors.Vocab object at 0x7f5257806908>, '22538': <gensim.models.keyedvectors.Vocab object at 0x7f5257806978>, '22536': <gensim.models.keyedvectors.Vocab object at 0x7f52578069e8>, '84951A': <gensim.models.keyedvectors.Vocab object at 0x7f5257806a58>, '84559B': <gensim.models.keyedvectors.Vocab object at 0x7f5257806ac8>, '84559A': <gensim.models.keyedvectors.Vocab object at 0x7f5257806b38>, '20932': <gensim.models.keyedvectors.Vocab object at 0x7f5257806ba8>, '72819': <gensim.models.keyedvectors.Vocab object at 0x7f5257806c18>, '47578A': <gensim.models.keyedvectors.Vocab object at 0x7f5257806c88>, '22588': <gensim.models.keyedvectors.Vocab object at 0x7f5257806cf8>, '22341': <gensim.models.keyedvectors.Vocab object at 0x7f5257806d68>, '23468': <gensim.models.keyedvectors.Vocab object at 0x7f5257806dd8>, '23106': <gensim.models.keyedvectors.Vocab object at 0x7f5257806e48>, '84880': <gensim.models.keyedvectors.Vocab object at 0x7f5257806eb8>, '21713': <gensim.models.keyedvectors.Vocab object at 0x7f5257806f28>, '22939': <gensim.models.keyedvectors.Vocab object at 0x7f5257806f98>, '21374': <gensim.models.keyedvectors.Vocab object at 0x7f525780c048>, '21367': <gensim.models.keyedvectors.Vocab object at 0x7f525780c0b8>, '21368': <gensim.models.keyedvectors.Vocab object at 0x7f525780c128>, '21316': <gensim.models.keyedvectors.Vocab object at 0x7f525780c198>, '84751B': <gensim.models.keyedvectors.Vocab object at 0x7f525780c208>, '21666': <gensim.models.keyedvectors.Vocab object at 0x7f525780c278>, '22316': <gensim.models.keyedvectors.Vocab object at 0x7f525780c2e8>, '22031': <gensim.models.keyedvectors.Vocab object at 0x7f525780c358>, '16169K': <gensim.models.keyedvectors.Vocab object at 0x7f525780c3c8>, '22039': <gensim.models.keyedvectors.Vocab object at 0x7f525780c438>, '15030': <gensim.models.keyedvectors.Vocab object at 0x7f525780c4a8>, '23041': <gensim.models.keyedvectors.Vocab object at 0x7f525780c518>, '23042': <gensim.models.keyedvectors.Vocab object at 0x7f525780c588>, '22183': <gensim.models.keyedvectors.Vocab object at 0x7f525780c5f8>, '85039B': <gensim.models.keyedvectors.Vocab object at 0x7f525780c668>, '85039A': <gensim.models.keyedvectors.Vocab object at 0x7f525780c6d8>, '72140E': <gensim.models.keyedvectors.Vocab object at 0x7f525780c748>, '75131': <gensim.models.keyedvectors.Vocab object at 0x7f525780c7b8>, '21418': <gensim.models.keyedvectors.Vocab object at 0x7f525780c828>, '82011A': <gensim.models.keyedvectors.Vocab object at 0x7f525780c898>, '82011C': <gensim.models.keyedvectors.Vocab object at 0x7f525780c908>, '62018': <gensim.models.keyedvectors.Vocab object at 0x7f525780c978>, '21758': <gensim.models.keyedvectors.Vocab object at 0x7f525780c9e8>, '21417': <gensim.models.keyedvectors.Vocab object at 0x7f525780ca58>, '21415': <gensim.models.keyedvectors.Vocab object at 0x7f525780cac8>, '21089': <gensim.models.keyedvectors.Vocab object at 0x7f525780cb38>, '47563A': <gensim.models.keyedvectors.Vocab object at 0x7f525780cba8>, '15058C': <gensim.models.keyedvectors.Vocab object at 0x7f525780cc18>, '23457': <gensim.models.keyedvectors.Vocab object at 0x7f525780cc88>, '90057': <gensim.models.keyedvectors.Vocab object at 0x7f525780ccf8>, '23217': <gensim.models.keyedvectors.Vocab object at 0x7f525780cd68>, '23213': <gensim.models.keyedvectors.Vocab object at 0x7f525780cdd8>, '22735': <gensim.models.keyedvectors.Vocab object at 0x7f525780ce48>, '23185': <gensim.models.keyedvectors.Vocab object at 0x7f525780ceb8>, '17136A': <gensim.models.keyedvectors.Vocab object at 0x7f525780cf28>, '22078': <gensim.models.keyedvectors.Vocab object at 0x7f525780cf98>, '22774': <gensim.models.keyedvectors.Vocab object at 0x7f5257802048>, '23149': <gensim.models.keyedvectors.Vocab object at 0x7f52578020b8>, '84968E': <gensim.models.keyedvectors.Vocab object at 0x7f5257802128>, '22799': <gensim.models.keyedvectors.Vocab object at 0x7f5257802198>, '23150': <gensim.models.keyedvectors.Vocab object at 0x7f5257802208>, '23481': <gensim.models.keyedvectors.Vocab object at 0x7f5257802278>, '23553': <gensim.models.keyedvectors.Vocab object at 0x7f52578022e8>, '20748': <gensim.models.keyedvectors.Vocab object at 0x7f5257802358>, '23467': <gensim.models.keyedvectors.Vocab object at 0x7f52578023c8>, '23037': <gensim.models.keyedvectors.Vocab object at 0x7f5257802438>, '23038': <gensim.models.keyedvectors.Vocab object at 0x7f52578024a8>, '23033': <gensim.models.keyedvectors.Vocab object at 0x7f5257802518>, '23036': <gensim.models.keyedvectors.Vocab object at 0x7f5257802588>, '23039': <gensim.models.keyedvectors.Vocab object at 0x7f52578025f8>, '23251': <gensim.models.keyedvectors.Vocab object at 0x7f5257802668>, '84592': <gensim.models.keyedvectors.Vocab object at 0x7f52578026d8>, '22261': <gensim.models.keyedvectors.Vocab object at 0x7f5257802748>, '22260': <gensim.models.keyedvectors.Vocab object at 0x7f52578027b8>, '22132': <gensim.models.keyedvectors.Vocab object at 0x7f5257802828>, '23472': <gensim.models.keyedvectors.Vocab object at 0x7f5257802898>, '40003': <gensim.models.keyedvectors.Vocab object at 0x7f5257802908>, '85194S': <gensim.models.keyedvectors.Vocab object at 0x7f5257802978>, '85141': <gensim.models.keyedvectors.Vocab object at 0x7f52578029e8>, '23071': <gensim.models.keyedvectors.Vocab object at 0x7f5257802a58>, '23072': <gensim.models.keyedvectors.Vocab object at 0x7f5257802ac8>, '84789': <gensim.models.keyedvectors.Vocab object at 0x7f5257802b38>, '22067': <gensim.models.keyedvectors.Vocab object at 0x7f5257802ba8>, '22215': <gensim.models.keyedvectors.Vocab object at 0x7f5257802c18>, '22220': <gensim.models.keyedvectors.Vocab object at 0x7f5257802c88>, '37449': <gensim.models.keyedvectors.Vocab object at 0x7f5257802cf8>, '22217': <gensim.models.keyedvectors.Vocab object at 0x7f5257802d68>, '21408': <gensim.models.keyedvectors.Vocab object at 0x7f5257802dd8>, '21383': <gensim.models.keyedvectors.Vocab object at 0x7f5257802e48>, '85135B': <gensim.models.keyedvectors.Vocab object at 0x7f5257802eb8>, '23544': <gensim.models.keyedvectors.Vocab object at 0x7f5257802f28>, '23025': <gensim.models.keyedvectors.Vocab object at 0x7f5257802f98>, '22080': <gensim.models.keyedvectors.Vocab object at 0x7f5257cad048>, '20686': <gensim.models.keyedvectors.Vocab object at 0x7f5257cad0b8>, '23566': <gensim.models.keyedvectors.Vocab object at 0x7f5257cad128>, '22250': <gensim.models.keyedvectors.Vocab object at 0x7f5257cad198>, '85214': <gensim.models.keyedvectors.Vocab object at 0x7f5257cad208>, '35965': <gensim.models.keyedvectors.Vocab object at 0x7f5257cad278>, '22251': <gensim.models.keyedvectors.Vocab object at 0x7f5257cad2e8>, '22247': <gensim.models.keyedvectors.Vocab object at 0x7f5257cad358>, '21644': <gensim.models.keyedvectors.Vocab object at 0x7f5257cad3c8>, '20768': <gensim.models.keyedvectors.Vocab object at 0x7f5257cad438>, '22042': <gensim.models.keyedvectors.Vocab object at 0x7f5257cad4a8>, '23560': <gensim.models.keyedvectors.Vocab object at 0x7f5257cad518>, '23562': <gensim.models.keyedvectors.Vocab object at 0x7f5257cad588>, '22533': <gensim.models.keyedvectors.Vocab object at 0x7f5257cad5f8>, '23522': <gensim.models.keyedvectors.Vocab object at 0x7f5257cad668>, '23521': <gensim.models.keyedvectors.Vocab object at 0x7f5257cad6d8>, '21822': <gensim.models.keyedvectors.Vocab object at 0x7f5257cad748>, '23473': <gensim.models.keyedvectors.Vocab object at 0x7f5257cad7b8>, '85178': <gensim.models.keyedvectors.Vocab object at 0x7f5257cad828>, '22129': <gensim.models.keyedvectors.Vocab object at 0x7f5257cad898>, '22425': <gensim.models.keyedvectors.Vocab object at 0x7f5257cad908>, '72127': <gensim.models.keyedvectors.Vocab object at 0x7f5257cad978>, '23555': <gensim.models.keyedvectors.Vocab object at 0x7f5257cad9e8>, '51014C': <gensim.models.keyedvectors.Vocab object at 0x7f5257cada58>, '84971S': <gensim.models.keyedvectors.Vocab object at 0x7f5257cadac8>, '22335': <gensim.models.keyedvectors.Vocab object at 0x7f5257cadb38>, '23574': <gensim.models.keyedvectors.Vocab object at 0x7f5257cadba8>, '21826': <gensim.models.keyedvectors.Vocab object at 0x7f5257cadc18>, '22157': <gensim.models.keyedvectors.Vocab object at 0x7f5257cadc88>, '21455': <gensim.models.keyedvectors.Vocab object at 0x7f5257cadcf8>, '85187': <gensim.models.keyedvectors.Vocab object at 0x7f5257cadd68>, '21454': <gensim.models.keyedvectors.Vocab object at 0x7f5257caddd8>, '35920': <gensim.models.keyedvectors.Vocab object at 0x7f5257cade48>, '40046A': <gensim.models.keyedvectors.Vocab object at 0x7f5257cadeb8>, '40001': <gensim.models.keyedvectors.Vocab object at 0x7f5257cadf28>, '37467': <gensim.models.keyedvectors.Vocab object at 0x7f5257cadf98>, '84800M': <gensim.models.keyedvectors.Vocab object at 0x7f5257cc3048>, '21333': <gensim.models.keyedvectors.Vocab object at 0x7f5257cc30b8>, '20803': <gensim.models.keyedvectors.Vocab object at 0x7f5257cc3128>, '23128': <gensim.models.keyedvectors.Vocab object at 0x7f5257cc3198>, '22606': <gensim.models.keyedvectors.Vocab object at 0x7f5257cc3208>, '21372': <gensim.models.keyedvectors.Vocab object at 0x7f5257cc3278>, '20697': <gensim.models.keyedvectors.Vocab object at 0x7f5257cc32e8>, '20698': <gensim.models.keyedvectors.Vocab object at 0x7f5257cc3358>, '22645': <gensim.models.keyedvectors.Vocab object at 0x7f5257cc33c8>, '21369': <gensim.models.keyedvectors.Vocab object at 0x7f5257cc3438>, '22513': <gensim.models.keyedvectors.Vocab object at 0x7f5257cc34a8>, '82616B': <gensim.models.keyedvectors.Vocab object at 0x7f5257cc3518>, '85036B': <gensim.models.keyedvectors.Vocab object at 0x7f5257cc3588>, '22656': <gensim.models.keyedvectors.Vocab object at 0x7f5257cc35f8>, '84509G': <gensim.models.keyedvectors.Vocab object at 0x7f5257cc3668>, '84763': <gensim.models.keyedvectors.Vocab object at 0x7f5257cc36d8>, '20980': <gensim.models.keyedvectors.Vocab object at 0x7f5257cc3748>, '35961': <gensim.models.keyedvectors.Vocab object at 0x7f5257cc37b8>, '23460': <gensim.models.keyedvectors.Vocab object at 0x7f5257cc3828>, '21749': <gensim.models.keyedvectors.Vocab object at 0x7f5257cc3898>, '20619': <gensim.models.keyedvectors.Vocab object at 0x7f5257cc3908>, '20615': <gensim.models.keyedvectors.Vocab object at 0x7f5257cc3978>, '21467': <gensim.models.keyedvectors.Vocab object at 0x7f5257cc39e8>, '21472': <gensim.models.keyedvectors.Vocab object at 0x7f5257cc3a58>, '21389': <gensim.models.keyedvectors.Vocab object at 0x7f5257cc3ac8>, '21386': <gensim.models.keyedvectors.Vocab object at 0x7f5257cc3b38>, '85205B': <gensim.models.keyedvectors.Vocab object at 0x7f5257cc3ba8>, '22289': <gensim.models.keyedvectors.Vocab object at 0x7f5257cc3c18>, '84457': <gensim.models.keyedvectors.Vocab object at 0x7f5257cc3c88>, '22249': <gensim.models.keyedvectors.Vocab object at 0x7f5257cc3cf8>, '22782': <gensim.models.keyedvectors.Vocab object at 0x7f5257cc3d68>, '20618': <gensim.models.keyedvectors.Vocab object at 0x7f5257cc3dd8>, '21468': <gensim.models.keyedvectors.Vocab object at 0x7f5257cc3e48>, '23086': <gensim.models.keyedvectors.Vocab object at 0x7f5257cc3eb8>, '84595E': <gensim.models.keyedvectors.Vocab object at 0x7f5257cc3f28>, '84796A': <gensim.models.keyedvectors.Vocab object at 0x7f5257cc3f98>, '22702': <gensim.models.keyedvectors.Vocab object at 0x7f52580b7048>, '21054': <gensim.models.keyedvectors.Vocab object at 0x7f52580b70b8>, '21056': <gensim.models.keyedvectors.Vocab object at 0x7f52580b7128>, '84429A': <gensim.models.keyedvectors.Vocab object at 0x7f52580b7198>, '22781': <gensim.models.keyedvectors.Vocab object at 0x7f52580b7208>, 'BANK CHARGES': <gensim.models.keyedvectors.Vocab object at 0x7f52580b7240>, '21116': <gensim.models.keyedvectors.Vocab object at 0x7f52580b72b0>, '20794': <gensim.models.keyedvectors.Vocab object at 0x7f52580b7320>, '20769': <gensim.models.keyedvectors.Vocab object at 0x7f52580b7390>, '84459B': <gensim.models.keyedvectors.Vocab object at 0x7f52580b7400>, '84686': <gensim.models.keyedvectors.Vocab object at 0x7f52580b7470>, '21447': <gensim.models.keyedvectors.Vocab object at 0x7f52580b74e0>, '90192': <gensim.models.keyedvectors.Vocab object at 0x7f52580b7550>, '84725': <gensim.models.keyedvectors.Vocab object at 0x7f52580b75c0>, '90198B': <gensim.models.keyedvectors.Vocab object at 0x7f52580b7630>, '21725': <gensim.models.keyedvectors.Vocab object at 0x7f52580b76a0>, '20770': <gensim.models.keyedvectors.Vocab object at 0x7f52580b7710>, '22104': <gensim.models.keyedvectors.Vocab object at 0x7f52580b7780>, '23088': <gensim.models.keyedvectors.Vocab object at 0x7f52580b77f0>, '72780': <gensim.models.keyedvectors.Vocab object at 0x7f52580b7860>, '20764': <gensim.models.keyedvectors.Vocab object at 0x7f52580b78d0>, '20765': <gensim.models.keyedvectors.Vocab object at 0x7f52580b7940>, '20761': <gensim.models.keyedvectors.Vocab object at 0x7f52580b79b0>, '20762': <gensim.models.keyedvectors.Vocab object at 0x7f52580b7a20>, '21717': <gensim.models.keyedvectors.Vocab object at 0x7f52580b7a90>, '22894': <gensim.models.keyedvectors.Vocab object at 0x7f52580b7b00>, '22482': <gensim.models.keyedvectors.Vocab object at 0x7f52580b7b70>, '22072': <gensim.models.keyedvectors.Vocab object at 0x7f52580b7be0>, '72122': <gensim.models.keyedvectors.Vocab object at 0x7f52580b7c50>, '35599B': <gensim.models.keyedvectors.Vocab object at 0x7f52580b7cc0>, '35599D': <gensim.models.keyedvectors.Vocab object at 0x7f52580b7d30>, '84859A': <gensim.models.keyedvectors.Vocab object at 0x7f52580b7da0>, '22123': <gensim.models.keyedvectors.Vocab object at 0x7f52580b7e10>, '84859B': <gensim.models.keyedvectors.Vocab object at 0x7f52580b7e80>, '20963': <gensim.models.keyedvectors.Vocab object at 0x7f52580b7ef0>, '79302M': <gensim.models.keyedvectors.Vocab object at 0x7f52580b7f60>, '90191': <gensim.models.keyedvectors.Vocab object at 0x7f52580b7fd0>, '22736': <gensim.models.keyedvectors.Vocab object at 0x7f52580bb080>, '23523': <gensim.models.keyedvectors.Vocab object at 0x7f52580bb0f0>, '23540': <gensim.models.keyedvectors.Vocab object at 0x7f52580bb160>, '23409': <gensim.models.keyedvectors.Vocab object at 0x7f52580bb1d0>, '23520': <gensim.models.keyedvectors.Vocab object at 0x7f52580bb240>, '21902': <gensim.models.keyedvectors.Vocab object at 0x7f52580bb2b0>, '23421': <gensim.models.keyedvectors.Vocab object at 0x7f52580bb320>, '23408': <gensim.models.keyedvectors.Vocab object at 0x7f52580bb390>, '21311': <gensim.models.keyedvectors.Vocab object at 0x7f52580bb400>, '84663A': <gensim.models.keyedvectors.Vocab object at 0x7f52580bb470>, '23597': <gensim.models.keyedvectors.Vocab object at 0x7f52580bb4e0>, '21293': <gensim.models.keyedvectors.Vocab object at 0x7f52580bb550>, '23398': <gensim.models.keyedvectors.Vocab object at 0x7f52580bb5c0>, '84558A': <gensim.models.keyedvectors.Vocab object at 0x7f52580bb630>, '72598': <gensim.models.keyedvectors.Vocab object at 0x7f52580bb6a0>, '20705': <gensim.models.keyedvectors.Vocab object at 0x7f52580bb710>, '22497': <gensim.models.keyedvectors.Vocab object at 0x7f52580bb780>, '90160D': <gensim.models.keyedvectors.Vocab object at 0x7f52580bb7f0>, '90177D': <gensim.models.keyedvectors.Vocab object at 0x7f52580bb860>, '90000A': <gensim.models.keyedvectors.Vocab object at 0x7f52580bb8d0>, '90147': <gensim.models.keyedvectors.Vocab object at 0x7f52580bb940>, '90160C': <gensim.models.keyedvectors.Vocab object at 0x7f52580bb9b0>, '90160A': <gensim.models.keyedvectors.Vocab object at 0x7f52580bba20>, '90170': <gensim.models.keyedvectors.Vocab object at 0x7f52580bba90>, '90200E': <gensim.models.keyedvectors.Vocab object at 0x7f52580bbb00>, '90200D': <gensim.models.keyedvectors.Vocab object at 0x7f52580bbb70>, '90200A': <gensim.models.keyedvectors.Vocab object at 0x7f52580bbbe0>, '90201C': <gensim.models.keyedvectors.Vocab object at 0x7f52580bbc50>, '90201D': <gensim.models.keyedvectors.Vocab object at 0x7f52580bbcc0>, '90201A': <gensim.models.keyedvectors.Vocab object at 0x7f52580bbd30>, '90129C': <gensim.models.keyedvectors.Vocab object at 0x7f52580bbda0>, '90129B': <gensim.models.keyedvectors.Vocab object at 0x7f52580bbe10>, '35649': <gensim.models.keyedvectors.Vocab object at 0x7f52580bbe80>, '22583': <gensim.models.keyedvectors.Vocab object at 0x7f52580bbef0>, '23060': <gensim.models.keyedvectors.Vocab object at 0x7f52580bbf60>, '84609': <gensim.models.keyedvectors.Vocab object at 0x7f52580bbfd0>, '22394': <gensim.models.keyedvectors.Vocab object at 0x7f52580ce080>, '23272': <gensim.models.keyedvectors.Vocab object at 0x7f52580ce0f0>, '23575': <gensim.models.keyedvectors.Vocab object at 0x7f52580ce160>, '17164B': <gensim.models.keyedvectors.Vocab object at 0x7f52580ce1d0>, '21324': <gensim.models.keyedvectors.Vocab object at 0x7f52580ce240>, '85211': <gensim.models.keyedvectors.Vocab object at 0x7f52580ce2b0>, '85132A': <gensim.models.keyedvectors.Vocab object at 0x7f52580ce320>, '23455': <gensim.models.keyedvectors.Vocab object at 0x7f52580ce390>, '85127': <gensim.models.keyedvectors.Vocab object at 0x7f52580ce400>, '23087': <gensim.models.keyedvectors.Vocab object at 0x7f52580ce470>, '23223': <gensim.models.keyedvectors.Vocab object at 0x7f52580ce4e0>, '21635': <gensim.models.keyedvectors.Vocab object at 0x7f52580ce550>, '22812': <gensim.models.keyedvectors.Vocab object at 0x7f52580ce5c0>, '22106': <gensim.models.keyedvectors.Vocab object at 0x7f52580ce630>, '23513': <gensim.models.keyedvectors.Vocab object at 0x7f52580ce6a0>, '23511': <gensim.models.keyedvectors.Vocab object at 0x7f52580ce710>, '23514': <gensim.models.keyedvectors.Vocab object at 0x7f52580ce780>, '21051': <gensim.models.keyedvectors.Vocab object at 0x7f52580ce7f0>, '84917': <gensim.models.keyedvectors.Vocab object at 0x7f52580ce860>, '84632': <gensim.models.keyedvectors.Vocab object at 0x7f52580ce8d0>, '23402': <gensim.models.keyedvectors.Vocab object at 0x7f52580ce940>, '23427': <gensim.models.keyedvectors.Vocab object at 0x7f52580ce9b0>, '85199L': <gensim.models.keyedvectors.Vocab object at 0x7f52580cea20>, '90058A': <gensim.models.keyedvectors.Vocab object at 0x7f52580cea90>, '84925F': <gensim.models.keyedvectors.Vocab object at 0x7f52580ceb00>, '85185B': <gensim.models.keyedvectors.Vocab object at 0x7f52580ceb70>, '37495': <gensim.models.keyedvectors.Vocab object at 0x7f52580cebe0>, '16169M': <gensim.models.keyedvectors.Vocab object at 0x7f52580cec50>, '22761': <gensim.models.keyedvectors.Vocab object at 0x7f52580cecc0>, '21277': <gensim.models.keyedvectors.Vocab object at 0x7f52580ced30>, '22167': <gensim.models.keyedvectors.Vocab object at 0x7f52580ceda0>, '20997': <gensim.models.keyedvectors.Vocab object at 0x7f52580cee10>, '22687': <gensim.models.keyedvectors.Vocab object at 0x7f52580cee80>, '85230A': <gensim.models.keyedvectors.Vocab object at 0x7f52580ceef0>, '85230E': <gensim.models.keyedvectors.Vocab object at 0x7f52580cef60>, '85230G': <gensim.models.keyedvectors.Vocab object at 0x7f52580cefd0>, '22040': <gensim.models.keyedvectors.Vocab object at 0x7f525848c080>, '84877B': <gensim.models.keyedvectors.Vocab object at 0x7f525848c0f0>, '22393': <gensim.models.keyedvectors.Vocab object at 0x7f525848c160>, '23517': <gensim.models.keyedvectors.Vocab object at 0x7f525848c1d0>, '22618': <gensim.models.keyedvectors.Vocab object at 0x7f525848c240>, '47591B': <gensim.models.keyedvectors.Vocab object at 0x7f525848c2b0>, '22451': <gensim.models.keyedvectors.Vocab object at 0x7f525848c320>, '22450': <gensim.models.keyedvectors.Vocab object at 0x7f525848c390>, '20778': <gensim.models.keyedvectors.Vocab object at 0x7f525848c400>, '22454': <gensim.models.keyedvectors.Vocab object at 0x7f525848c470>, '21781': <gensim.models.keyedvectors.Vocab object at 0x7f525848c4e0>, '21784': <gensim.models.keyedvectors.Vocab object at 0x7f525848c550>, '84820': <gensim.models.keyedvectors.Vocab object at 0x7f525848c5c0>, '21258': <gensim.models.keyedvectors.Vocab object at 0x7f525848c630>, '85006': <gensim.models.keyedvectors.Vocab object at 0x7f525848c6a0>, '21812': <gensim.models.keyedvectors.Vocab object at 0x7f525848c710>, '84638': <gensim.models.keyedvectors.Vocab object at 0x7f525848c780>, '85064': <gensim.models.keyedvectors.Vocab object at 0x7f525848c7f0>, '35004C': <gensim.models.keyedvectors.Vocab object at 0x7f525848c860>, '21911': <gensim.models.keyedvectors.Vocab object at 0x7f525848c8d0>, '84874B': <gensim.models.keyedvectors.Vocab object at 0x7f525848c940>, '90200B': <gensim.models.keyedvectors.Vocab object at 0x7f525848c9b0>, '90206C': <gensim.models.keyedvectors.Vocab object at 0x7f525848ca20>, '22081': <gensim.models.keyedvectors.Vocab object at 0x7f525848ca90>, '23221': <gensim.models.keyedvectors.Vocab object at 0x7f525848cb00>, '23458': <gensim.models.keyedvectors.Vocab object at 0x7f525848cb70>, '23219': <gensim.models.keyedvectors.Vocab object at 0x7f525848cbe0>, '90145': <gensim.models.keyedvectors.Vocab object at 0x7f525848cc50>, '23661': <gensim.models.keyedvectors.Vocab object at 0x7f525848ccc0>, '22512': <gensim.models.keyedvectors.Vocab object at 0x7f525848cd30>, '21884': <gensim.models.keyedvectors.Vocab object at 0x7f525848cda0>, '22190': <gensim.models.keyedvectors.Vocab object at 0x7f525848ce10>, '16049': <gensim.models.keyedvectors.Vocab object at 0x7f525848ce80>, '21689': <gensim.models.keyedvectors.Vocab object at 0x7f525848cef0>, '21215': <gensim.models.keyedvectors.Vocab object at 0x7f525848cf60>, '20893': <gensim.models.keyedvectors.Vocab object at 0x7f525848cfd0>, '22642': <gensim.models.keyedvectors.Vocab object at 0x7f5258456080>, '84509C': <gensim.models.keyedvectors.Vocab object at 0x7f52584560f0>, '35653': <gensim.models.keyedvectors.Vocab object at 0x7f5258456160>, '21363': <gensim.models.keyedvectors.Vocab object at 0x7f52584561d0>, '84625C': <gensim.models.keyedvectors.Vocab object at 0x7f5258456240>, '84625A': <gensim.models.keyedvectors.Vocab object at 0x7f52584562b0>, '84952A': <gensim.models.keyedvectors.Vocab object at 0x7f5258456320>, '71403': <gensim.models.keyedvectors.Vocab object at 0x7f5258456390>, '21851': <gensim.models.keyedvectors.Vocab object at 0x7f5258456400>, '21846': <gensim.models.keyedvectors.Vocab object at 0x7f5258456470>, '21849': <gensim.models.keyedvectors.Vocab object at 0x7f52584564e0>, 'D': <gensim.models.keyedvectors.Vocab object at 0x7f5258456518>, '84952C': <gensim.models.keyedvectors.Vocab object at 0x7f5258456588>, '84031B': <gensim.models.keyedvectors.Vocab object at 0x7f52584565f8>, '20903': <gensim.models.keyedvectors.Vocab object at 0x7f5258456668>, '22194': <gensim.models.keyedvectors.Vocab object at 0x7f52584566d8>, '16015': <gensim.models.keyedvectors.Vocab object at 0x7f5258456748>, '22262': <gensim.models.keyedvectors.Vocab object at 0x7f52584567b8>, '21129': <gensim.models.keyedvectors.Vocab object at 0x7f5258456828>, '85049B': <gensim.models.keyedvectors.Vocab object at 0x7f5258456898>, '84754': <gensim.models.keyedvectors.Vocab object at 0x7f5258456908>, '20878': <gensim.models.keyedvectors.Vocab object at 0x7f5258456978>, '21743': <gensim.models.keyedvectors.Vocab object at 0x7f52584569e8>, '21801': <gensim.models.keyedvectors.Vocab object at 0x7f5258456a58>, '85018D': <gensim.models.keyedvectors.Vocab object at 0x7f5258456ac8>, '22532': <gensim.models.keyedvectors.Vocab object at 0x7f5258456b38>, '84519A': <gensim.models.keyedvectors.Vocab object at 0x7f5258456ba8>, '90148': <gensim.models.keyedvectors.Vocab object at 0x7f5258456c18>, '90081C': <gensim.models.keyedvectors.Vocab object at 0x7f5258456c88>, '90081A': <gensim.models.keyedvectors.Vocab object at 0x7f5258456cf8>, '90030C': <gensim.models.keyedvectors.Vocab object at 0x7f5258456d68>, '85131A': <gensim.models.keyedvectors.Vocab object at 0x7f5258456dd8>, '84597C': <gensim.models.keyedvectors.Vocab object at 0x7f5258456e48>, '23598': <gensim.models.keyedvectors.Vocab object at 0x7f5258456eb8>, '46118': <gensim.models.keyedvectors.Vocab object at 0x7f5258456f28>, '23492': <gensim.models.keyedvectors.Vocab object at 0x7f5258456f98>, '22452': <gensim.models.keyedvectors.Vocab object at 0x7f5258533048>, '22453': <gensim.models.keyedvectors.Vocab object at 0x7f52585330b8>, '22448': <gensim.models.keyedvectors.Vocab object at 0x7f5258533128>, '21187': <gensim.models.keyedvectors.Vocab object at 0x7f5258533198>, '21657': <gensim.models.keyedvectors.Vocab object at 0x7f5258533208>, '84507C': <gensim.models.keyedvectors.Vocab object at 0x7f5258533278>, '85019A': <gensim.models.keyedvectors.Vocab object at 0x7f52585332e8>, '85032D': <gensim.models.keyedvectors.Vocab object at 0x7f5258533358>, '85025C': <gensim.models.keyedvectors.Vocab object at 0x7f52585333c8>, '21318': <gensim.models.keyedvectors.Vocab object at 0x7f5258533438>, '21881': <gensim.models.keyedvectors.Vocab object at 0x7f52585334a8>, '84459A': <gensim.models.keyedvectors.Vocab object at 0x7f5258533518>, '84913B': <gensim.models.keyedvectors.Vocab object at 0x7f5258533588>, '84882': <gensim.models.keyedvectors.Vocab object at 0x7f52585335f8>, '21280': <gensim.models.keyedvectors.Vocab object at 0x7f5258533668>, '22905': <gensim.models.keyedvectors.Vocab object at 0x7f52585336d8>, '23044': <gensim.models.keyedvectors.Vocab object at 0x7f5258533748>, '23040': <gensim.models.keyedvectors.Vocab object at 0x7f52585337b8>, '23317': <gensim.models.keyedvectors.Vocab object at 0x7f5258533828>, '23069': <gensim.models.keyedvectors.Vocab object at 0x7f5258533898>, '47518F': <gensim.models.keyedvectors.Vocab object at 0x7f5258533908>, '23512': <gensim.models.keyedvectors.Vocab object at 0x7f5258533978>, '90162B': <gensim.models.keyedvectors.Vocab object at 0x7f52585339e8>, '21128': <gensim.models.keyedvectors.Vocab object at 0x7f5258533a58>, '21739': <gensim.models.keyedvectors.Vocab object at 0x7f5258533ac8>, '84912A': <gensim.models.keyedvectors.Vocab object at 0x7f5258533b38>, '21741': <gensim.models.keyedvectors.Vocab object at 0x7f5258533ba8>, '37343': <gensim.models.keyedvectors.Vocab object at 0x7f5258533c18>, '21202': <gensim.models.keyedvectors.Vocab object at 0x7f5258533c88>, '23070': <gensim.models.keyedvectors.Vocab object at 0x7f5258533cf8>, '84876B': <gensim.models.keyedvectors.Vocab object at 0x7f5258533d68>, '84877D': <gensim.models.keyedvectors.Vocab object at 0x7f5258533dd8>, '84875B': <gensim.models.keyedvectors.Vocab object at 0x7f5258533e48>, '84251B': <gensim.models.keyedvectors.Vocab object at 0x7f5258533eb8>, '90199C': <gensim.models.keyedvectors.Vocab object at 0x7f5258533f28>, '90143': <gensim.models.keyedvectors.Vocab object at 0x7f5258533f98>, '23525': <gensim.models.keyedvectors.Vocab object at 0x7f5258524048>, '85179A': <gensim.models.keyedvectors.Vocab object at 0x7f52585240b8>, '23474': <gensim.models.keyedvectors.Vocab object at 0x7f5258524128>, '23475': <gensim.models.keyedvectors.Vocab object at 0x7f5258524198>, '84806A': <gensim.models.keyedvectors.Vocab object at 0x7f5258524208>, '84799': <gensim.models.keyedvectors.Vocab object at 0x7f5258524278>, '21942': <gensim.models.keyedvectors.Vocab object at 0x7f52585242e8>, '84827': <gensim.models.keyedvectors.Vocab object at 0x7f5258524358>, '84660C': <gensim.models.keyedvectors.Vocab object at 0x7f52585243c8>, '84660A': <gensim.models.keyedvectors.Vocab object at 0x7f5258524438>, '84660B': <gensim.models.keyedvectors.Vocab object at 0x7f52585244a8>, '22647': <gensim.models.keyedvectors.Vocab object at 0x7f5258524518>, '85180B': <gensim.models.keyedvectors.Vocab object at 0x7f5258524588>, '22267': <gensim.models.keyedvectors.Vocab object at 0x7f52585245f8>, '22165': <gensim.models.keyedvectors.Vocab object at 0x7f5258524668>, '22410': <gensim.models.keyedvectors.Vocab object at 0x7f52585246d8>, '20696': <gensim.models.keyedvectors.Vocab object at 0x7f5258524748>, '21580': <gensim.models.keyedvectors.Vocab object at 0x7f52585247b8>, '21579': <gensim.models.keyedvectors.Vocab object at 0x7f5258524828>, '85019B': <gensim.models.keyedvectors.Vocab object at 0x7f5258524898>, '84806B': <gensim.models.keyedvectors.Vocab object at 0x7f5258524908>, '71101E': <gensim.models.keyedvectors.Vocab object at 0x7f5258524978>, '22337': <gensim.models.keyedvectors.Vocab object at 0x7f52585249e8>, '23518': <gensim.models.keyedvectors.Vocab object at 0x7f5258524a58>, '23516': <gensim.models.keyedvectors.Vocab object at 0x7f5258524ac8>, '84535A': <gensim.models.keyedvectors.Vocab object at 0x7f5258524b38>, '23003': <gensim.models.keyedvectors.Vocab object at 0x7f5258524ba8>, '22511': <gensim.models.keyedvectors.Vocab object at 0x7f5258524c18>, '22510': <gensim.models.keyedvectors.Vocab object at 0x7f5258524c88>, '79063D': <gensim.models.keyedvectors.Vocab object at 0x7f5258524cf8>, '21307': <gensim.models.keyedvectors.Vocab object at 0x7f5258524d68>, '81952B': <gensim.models.keyedvectors.Vocab object at 0x7f5258524dd8>, '75172': <gensim.models.keyedvectors.Vocab object at 0x7f5258524e48>, '84629': <gensim.models.keyedvectors.Vocab object at 0x7f5258524eb8>, '35964': <gensim.models.keyedvectors.Vocab object at 0x7f5258524f28>, '35954': <gensim.models.keyedvectors.Vocab object at 0x7f5258524f98>, '23216': <gensim.models.keyedvectors.Vocab object at 0x7f525852d048>, '79051A': <gensim.models.keyedvectors.Vocab object at 0x7f525852d0b8>, '16248B': <gensim.models.keyedvectors.Vocab object at 0x7f525852d128>, '84766': <gensim.models.keyedvectors.Vocab object at 0x7f525852d198>, '21132': <gensim.models.keyedvectors.Vocab object at 0x7f525852d208>, '23660': <gensim.models.keyedvectors.Vocab object at 0x7f525852d278>, '20856': <gensim.models.keyedvectors.Vocab object at 0x7f525852d2e8>, '20854': <gensim.models.keyedvectors.Vocab object at 0x7f525852d358>, '20867': <gensim.models.keyedvectors.Vocab object at 0x7f525852d3c8>, '20866': <gensim.models.keyedvectors.Vocab object at 0x7f525852d438>, '90108': <gensim.models.keyedvectors.Vocab object at 0x7f525852d4a8>, '90003D': <gensim.models.keyedvectors.Vocab object at 0x7f525852d518>, '90204': <gensim.models.keyedvectors.Vocab object at 0x7f525852d588>, '85232A': <gensim.models.keyedvectors.Vocab object at 0x7f525852d5f8>, '22021': <gensim.models.keyedvectors.Vocab object at 0x7f525852d668>, '22283': <gensim.models.keyedvectors.Vocab object at 0x7f525852d6d8>, '22305': <gensim.models.keyedvectors.Vocab object at 0x7f525852d748>, '35912B': <gensim.models.keyedvectors.Vocab object at 0x7f525852d7b8>, '21145': <gensim.models.keyedvectors.Vocab object at 0x7f525852d828>, '23058': <gensim.models.keyedvectors.Vocab object at 0x7f525852d898>, '22282': <gensim.models.keyedvectors.Vocab object at 0x7f525852d908>, '23487': <gensim.models.keyedvectors.Vocab object at 0x7f525852d978>, '84884A': <gensim.models.keyedvectors.Vocab object at 0x7f525852d9e8>, '22479': <gensim.models.keyedvectors.Vocab object at 0x7f525852da58>, '85179C': <gensim.models.keyedvectors.Vocab object at 0x7f525852dac8>, '90098': <gensim.models.keyedvectors.Vocab object at 0x7f525852db38>, '90114': <gensim.models.keyedvectors.Vocab object at 0x7f525852dba8>, '37450': <gensim.models.keyedvectors.Vocab object at 0x7f525852dc18>, '37447': <gensim.models.keyedvectors.Vocab object at 0x7f525852dc88>, '21656': <gensim.models.keyedvectors.Vocab object at 0x7f525852dcf8>, '79403': <gensim.models.keyedvectors.Vocab object at 0x7f525852dd68>, '71510': <gensim.models.keyedvectors.Vocab object at 0x7f525852ddd8>, '84993A': <gensim.models.keyedvectors.Vocab object at 0x7f525852de48>, '84993B': <gensim.models.keyedvectors.Vocab object at 0x7f525852deb8>, '21696': <gensim.models.keyedvectors.Vocab object at 0x7f525852df28>, '84804A': <gensim.models.keyedvectors.Vocab object at 0x7f525852df98>, '22461': <gensim.models.keyedvectors.Vocab object at 0x7f5258d26048>, '84723': <gensim.models.keyedvectors.Vocab object at 0x7f5258d260b8>, '35971': <gensim.models.keyedvectors.Vocab object at 0x7f5258d26128>, '22057': <gensim.models.keyedvectors.Vocab object at 0x7f5258d26198>, '22449': <gensim.models.keyedvectors.Vocab object at 0x7f5258d26208>, '21722': <gensim.models.keyedvectors.Vocab object at 0x7f5258d26278>, '22903': <gensim.models.keyedvectors.Vocab object at 0x7f5258d262e8>, '62086A': <gensim.models.keyedvectors.Vocab object at 0x7f5258d26358>, '22415': <gensim.models.keyedvectors.Vocab object at 0x7f5258d263c8>, '16156L': <gensim.models.keyedvectors.Vocab object at 0x7f5258d26438>, '21253': <gensim.models.keyedvectors.Vocab object at 0x7f5258d264a8>, '85176': <gensim.models.keyedvectors.Vocab object at 0x7f5258d26518>, '23565': <gensim.models.keyedvectors.Vocab object at 0x7f5258d26588>, '21686': <gensim.models.keyedvectors.Vocab object at 0x7f5258d265f8>, '17129F': <gensim.models.keyedvectors.Vocab object at 0x7f5258d26668>, '79144B': <gensim.models.keyedvectors.Vocab object at 0x7f5258d266d8>, '47421': <gensim.models.keyedvectors.Vocab object at 0x7f5258d26748>, '21738': <gensim.models.keyedvectors.Vocab object at 0x7f5258d267b8>, '79149B': <gensim.models.keyedvectors.Vocab object at 0x7f5258d26828>, '47420': <gensim.models.keyedvectors.Vocab object at 0x7f5258d26898>, '22976': <gensim.models.keyedvectors.Vocab object at 0x7f5258d26908>, '21528': <gensim.models.keyedvectors.Vocab object at 0x7f5258d26978>, '84508B': <gensim.models.keyedvectors.Vocab object at 0x7f5258d269e8>, '23479': <gensim.models.keyedvectors.Vocab object at 0x7f5258d26a58>, '21344': <gensim.models.keyedvectors.Vocab object at 0x7f5258d26ac8>, '22108': <gensim.models.keyedvectors.Vocab object at 0x7f5258d26b38>, '82011B': <gensim.models.keyedvectors.Vocab object at 0x7f5258d26ba8>, '84510C': <gensim.models.keyedvectors.Vocab object at 0x7f5258d26c18>, '22101': <gensim.models.keyedvectors.Vocab object at 0x7f5258d26c88>, '84422': <gensim.models.keyedvectors.Vocab object at 0x7f5258d26cf8>, '22136': <gensim.models.keyedvectors.Vocab object at 0x7f5258d26d68>, '11001': <gensim.models.keyedvectors.Vocab object at 0x7f5258d26dd8>, '21364': <gensim.models.keyedvectors.Vocab object at 0x7f5258d26e48>, '21723': <gensim.models.keyedvectors.Vocab object at 0x7f5258d26eb8>, '84712B': <gensim.models.keyedvectors.Vocab object at 0x7f5258d26f28>, '22103': <gensim.models.keyedvectors.Vocab object at 0x7f5258d26f98>, '84711A': <gensim.models.keyedvectors.Vocab object at 0x7f5258d18048>, '17091A': <gensim.models.keyedvectors.Vocab object at 0x7f5258d180b8>, '90185C': <gensim.models.keyedvectors.Vocab object at 0x7f5258d18128>, '90185D': <gensim.models.keyedvectors.Vocab object at 0x7f5258d18198>, '90185A': <gensim.models.keyedvectors.Vocab object at 0x7f5258d18208>, '22135': <gensim.models.keyedvectors.Vocab object at 0x7f5258d18278>, '23424': <gensim.models.keyedvectors.Vocab object at 0x7f5258d182e8>, '21257': <gensim.models.keyedvectors.Vocab object at 0x7f5258d18358>, '21973': <gensim.models.keyedvectors.Vocab object at 0x7f5258d183c8>, '71270': <gensim.models.keyedvectors.Vocab object at 0x7f5258d18438>, '85177': <gensim.models.keyedvectors.Vocab object at 0x7f5258d184a8>, '85036A': <gensim.models.keyedvectors.Vocab object at 0x7f5258d18518>, '22390': <gensim.models.keyedvectors.Vocab object at 0x7f5258d18588>, '84665': <gensim.models.keyedvectors.Vocab object at 0x7f5258d185f8>, '22246': <gensim.models.keyedvectors.Vocab object at 0x7f5258d18668>, '16258A': <gensim.models.keyedvectors.Vocab object at 0x7f5258d186d8>, '22304': <gensim.models.keyedvectors.Vocab object at 0x7f5258d18748>, '85129D': <gensim.models.keyedvectors.Vocab object at 0x7f5258d187b8>, '21446': <gensim.models.keyedvectors.Vocab object at 0x7f5258d18828>, '10120': <gensim.models.keyedvectors.Vocab object at 0x7f5258d18898>, '22134': <gensim.models.keyedvectors.Vocab object at 0x7f5258d18908>, '23482': <gensim.models.keyedvectors.Vocab object at 0x7f5258d18978>, '35607B': <gensim.models.keyedvectors.Vocab object at 0x7f5258d189e8>, '20823': <gensim.models.keyedvectors.Vocab object at 0x7f5258d18a58>, '20837': <gensim.models.keyedvectors.Vocab object at 0x7f5258d18ac8>, '84875D': <gensim.models.keyedvectors.Vocab object at 0x7f5258d18b38>, '84876D': <gensim.models.keyedvectors.Vocab object at 0x7f5258d18ba8>, '84711B': <gensim.models.keyedvectors.Vocab object at 0x7f5258d18c18>, '21850': <gensim.models.keyedvectors.Vocab object at 0x7f5258d18c88>, '79191D': <gensim.models.keyedvectors.Vocab object at 0x7f5258d18cf8>, '84865': <gensim.models.keyedvectors.Vocab object at 0x7f5258d18d68>, '84708B': <gensim.models.keyedvectors.Vocab object at 0x7f5258d18dd8>, '84661B': <gensim.models.keyedvectors.Vocab object at 0x7f5258d18e48>, '84661A': <gensim.models.keyedvectors.Vocab object at 0x7f5258d18eb8>, '21555': <gensim.models.keyedvectors.Vocab object at 0x7f5258d18f28>, '71406C': <gensim.models.keyedvectors.Vocab object at 0x7f5258d18f98>, '21547': <gensim.models.keyedvectors.Vocab object at 0x7f5259147048>, '22414': <gensim.models.keyedvectors.Vocab object at 0x7f52591470b8>, '21143': <gensim.models.keyedvectors.Vocab object at 0x7f5259147128>, '21320': <gensim.models.keyedvectors.Vocab object at 0x7f5259147198>, '21319': <gensim.models.keyedvectors.Vocab object at 0x7f5259147208>, '85188A': <gensim.models.keyedvectors.Vocab object at 0x7f5259147278>, '20902': <gensim.models.keyedvectors.Vocab object at 0x7f52591472e8>, '84843': <gensim.models.keyedvectors.Vocab object at 0x7f5259147358>, '37333': <gensim.models.keyedvectors.Vocab object at 0x7f52591473c8>, '20821': <gensim.models.keyedvectors.Vocab object at 0x7f5259147438>, '23016': <gensim.models.keyedvectors.Vocab object at 0x7f52591474a8>, '23179': <gensim.models.keyedvectors.Vocab object at 0x7f5259147518>, '37476': <gensim.models.keyedvectors.Vocab object at 0x7f5259147588>, '21654': <gensim.models.keyedvectors.Vocab object at 0x7f52591475f8>, '90214A': <gensim.models.keyedvectors.Vocab object at 0x7f5259147668>, '90214C': <gensim.models.keyedvectors.Vocab object at 0x7f52591476d8>, '90214D': <gensim.models.keyedvectors.Vocab object at 0x7f5259147748>, '90214E': <gensim.models.keyedvectors.Vocab object at 0x7f52591477b8>, '90214K': <gensim.models.keyedvectors.Vocab object at 0x7f5259147828>, '90214L': <gensim.models.keyedvectors.Vocab object at 0x7f5259147898>, '90214P': <gensim.models.keyedvectors.Vocab object at 0x7f5259147908>, '90214S': <gensim.models.keyedvectors.Vocab object at 0x7f5259147978>, '23533': <gensim.models.keyedvectors.Vocab object at 0x7f52591479e8>, '21065': <gensim.models.keyedvectors.Vocab object at 0x7f5259147a58>, '22269': <gensim.models.keyedvectors.Vocab object at 0x7f5259147ac8>, '22856': <gensim.models.keyedvectors.Vocab object at 0x7f5259147b38>, '84813': <gensim.models.keyedvectors.Vocab object at 0x7f5259147ba8>, '23151': <gensim.models.keyedvectors.Vocab object at 0x7f5259147c18>, '35972': <gensim.models.keyedvectors.Vocab object at 0x7f5259147c88>, '22102': <gensim.models.keyedvectors.Vocab object at 0x7f5259147cf8>, '84741C': <gensim.models.keyedvectors.Vocab object at 0x7f5259147d68>, '35004G': <gensim.models.keyedvectors.Vocab object at 0x7f5259147dd8>, '79067': <gensim.models.keyedvectors.Vocab object at 0x7f5259147e48>, '20699': <gensim.models.keyedvectors.Vocab object at 0x7f5259147eb8>, '22408': <gensim.models.keyedvectors.Vocab object at 0x7f5259147f28>, '20941': <gensim.models.keyedvectors.Vocab object at 0x7f5259147f98>, '21614': <gensim.models.keyedvectors.Vocab object at 0x7f5259134048>, '20670': <gensim.models.keyedvectors.Vocab object at 0x7f52591340b8>, '23578': <gensim.models.keyedvectors.Vocab object at 0x7f5259134128>, '23580': <gensim.models.keyedvectors.Vocab object at 0x7f5259134198>, '37489D': <gensim.models.keyedvectors.Vocab object at 0x7f5259134208>, '37489B': <gensim.models.keyedvectors.Vocab object at 0x7f5259134278>, '37489A': <gensim.models.keyedvectors.Vocab object at 0x7f52591342e8>, '37489C': <gensim.models.keyedvectors.Vocab object at 0x7f5259134358>, '84192': <gensim.models.keyedvectors.Vocab object at 0x7f52591343c8>, '21188': <gensim.models.keyedvectors.Vocab object at 0x7f5259134438>, '84497': <gensim.models.keyedvectors.Vocab object at 0x7f52591344a8>, '21195': <gensim.models.keyedvectors.Vocab object at 0x7f5259134518>, '23478': <gensim.models.keyedvectors.Vocab object at 0x7f5259134588>, '21458': <gensim.models.keyedvectors.Vocab object at 0x7f52591345f8>, '21457': <gensim.models.keyedvectors.Vocab object at 0x7f5259134668>, 'C2': <gensim.models.keyedvectors.Vocab object at 0x7f52591346d8>, '20819': <gensim.models.keyedvectors.Vocab object at 0x7f5259134748>, '79164': <gensim.models.keyedvectors.Vocab object at 0x7f52591347b8>, '22053': <gensim.models.keyedvectors.Vocab object at 0x7f5259134828>, '79163': <gensim.models.keyedvectors.Vocab object at 0x7f5259134898>, '84951B': <gensim.models.keyedvectors.Vocab object at 0x7f5259134908>, '75178': <gensim.models.keyedvectors.Vocab object at 0x7f5259134978>, '20735': <gensim.models.keyedvectors.Vocab object at 0x7f52591349e8>, '78124': <gensim.models.keyedvectors.Vocab object at 0x7f5259134a58>, '79337': <gensim.models.keyedvectors.Vocab object at 0x7f5259134ac8>, '84924A': <gensim.models.keyedvectors.Vocab object at 0x7f5259134b38>, '21027': <gensim.models.keyedvectors.Vocab object at 0x7f5259134ba8>, '21427': <gensim.models.keyedvectors.Vocab object at 0x7f5259134c18>, '23143': <gensim.models.keyedvectors.Vocab object at 0x7f5259134c88>, '85216': <gensim.models.keyedvectors.Vocab object at 0x7f5259134cf8>, '84800L': <gensim.models.keyedvectors.Vocab object at 0x7f5259134d68>, '47481': <gensim.models.keyedvectors.Vocab object at 0x7f5259134dd8>, '84452': <gensim.models.keyedvectors.Vocab object at 0x7f5259134e48>, '85188B': <gensim.models.keyedvectors.Vocab object at 0x7f5259134eb8>, '85186A': <gensim.models.keyedvectors.Vocab object at 0x7f5259134f28>, '85129C': <gensim.models.keyedvectors.Vocab object at 0x7f5259134f98>, '21420': <gensim.models.keyedvectors.Vocab object at 0x7f5259492048>, '20868': <gensim.models.keyedvectors.Vocab object at 0x7f52594920b8>, '84006': <gensim.models.keyedvectors.Vocab object at 0x7f5259492128>, '84251G': <gensim.models.keyedvectors.Vocab object at 0x7f5259492198>, '21376': <gensim.models.keyedvectors.Vocab object at 0x7f5259492208>, '85019C': <gensim.models.keyedvectors.Vocab object at 0x7f5259492278>, '23021': <gensim.models.keyedvectors.Vocab object at 0x7f52594922e8>, '22038': <gensim.models.keyedvectors.Vocab object at 0x7f5259492358>, '84847': <gensim.models.keyedvectors.Vocab object at 0x7f52594923c8>, '20793': <gensim.models.keyedvectors.Vocab object at 0x7f5259492438>, '47343A': <gensim.models.keyedvectors.Vocab object at 0x7f52594924a8>, '47351B': <gensim.models.keyedvectors.Vocab object at 0x7f5259492518>, '21694': <gensim.models.keyedvectors.Vocab object at 0x7f5259492588>, '90125A': <gensim.models.keyedvectors.Vocab object at 0x7f52594925f8>, '47348A': <gensim.models.keyedvectors.Vocab object at 0x7f5259492668>, '84926A': <gensim.models.keyedvectors.Vocab object at 0x7f52594926d8>, '84926E': <gensim.models.keyedvectors.Vocab object at 0x7f5259492748>, '23463': <gensim.models.keyedvectors.Vocab object at 0x7f52594927b8>, '72131': <gensim.models.keyedvectors.Vocab object at 0x7f5259492828>, '72133': <gensim.models.keyedvectors.Vocab object at 0x7f5259492898>, '20781': <gensim.models.keyedvectors.Vocab object at 0x7f5259492908>, '37479B': <gensim.models.keyedvectors.Vocab object at 0x7f5259492978>, '35922': <gensim.models.keyedvectors.Vocab object at 0x7f52594929e8>, '21040': <gensim.models.keyedvectors.Vocab object at 0x7f5259492a58>, '78034B': <gensim.models.keyedvectors.Vocab object at 0x7f5259492ac8>, '21648': <gensim.models.keyedvectors.Vocab object at 0x7f5259492b38>, '90184C': <gensim.models.keyedvectors.Vocab object at 0x7f5259492ba8>, '90158': <gensim.models.keyedvectors.Vocab object at 0x7f5259492c18>, '90195A': <gensim.models.keyedvectors.Vocab object at 0x7f5259492c88>, '90160B': <gensim.models.keyedvectors.Vocab object at 0x7f5259492cf8>, '90178A': <gensim.models.keyedvectors.Vocab object at 0x7f5259492d68>, '21647': <gensim.models.keyedvectors.Vocab object at 0x7f5259492dd8>, '21814': <gensim.models.keyedvectors.Vocab object at 0x7f5259492e48>, '85008': <gensim.models.keyedvectors.Vocab object at 0x7f5259492eb8>, '23423': <gensim.models.keyedvectors.Vocab object at 0x7f5259492f28>, '23416': <gensim.models.keyedvectors.Vocab object at 0x7f5259492f98>, '85129B': <gensim.models.keyedvectors.Vocab object at 0x7f5259469048>, '46000R': <gensim.models.keyedvectors.Vocab object at 0x7f52594690b8>, '16161G': <gensim.models.keyedvectors.Vocab object at 0x7f5259469128>, '85020': <gensim.models.keyedvectors.Vocab object at 0x7f5259469198>, '90030B': <gensim.models.keyedvectors.Vocab object at 0x7f5259469208>, '20795': <gensim.models.keyedvectors.Vocab object at 0x7f5259469278>, '20796': <gensim.models.keyedvectors.Vocab object at 0x7f52594692e8>, '22447': <gensim.models.keyedvectors.Vocab object at 0x7f5259469358>, '23476': <gensim.models.keyedvectors.Vocab object at 0x7f52594693c8>, '23027': <gensim.models.keyedvectors.Vocab object at 0x7f5259469438>, '21445': <gensim.models.keyedvectors.Vocab object at 0x7f52594694a8>, '23568': <gensim.models.keyedvectors.Vocab object at 0x7f5259469518>, '23527': <gensim.models.keyedvectors.Vocab object at 0x7f5259469588>, '21281': <gensim.models.keyedvectors.Vocab object at 0x7f52594695f8>, '23532': <gensim.models.keyedvectors.Vocab object at 0x7f5259469668>, '72801G': <gensim.models.keyedvectors.Vocab object at 0x7f52594696d8>, '22184': <gensim.models.keyedvectors.Vocab object at 0x7f5259469748>, '85039C': <gensim.models.keyedvectors.Vocab object at 0x7f52594697b8>, '20894': <gensim.models.keyedvectors.Vocab object at 0x7f5259469828>, '84508C': <gensim.models.keyedvectors.Vocab object at 0x7f5259469898>, '17165D': <gensim.models.keyedvectors.Vocab object at 0x7f5259469908>, '90082A': <gensim.models.keyedvectors.Vocab object at 0x7f5259469978>, '85185D': <gensim.models.keyedvectors.Vocab object at 0x7f52594699e8>, '84760S': <gensim.models.keyedvectors.Vocab object at 0x7f5259469a58>, '84033': <gensim.models.keyedvectors.Vocab object at 0x7f5259469ac8>, '85093': <gensim.models.keyedvectors.Vocab object at 0x7f5259469b38>, '23074': <gensim.models.keyedvectors.Vocab object at 0x7f5259469ba8>, '46776C': <gensim.models.keyedvectors.Vocab object at 0x7f5259469c18>, '46776E': <gensim.models.keyedvectors.Vocab object at 0x7f5259469c88>, '46776F': <gensim.models.keyedvectors.Vocab object at 0x7f5259469cf8>, '85136A': <gensim.models.keyedvectors.Vocab object at 0x7f5259469d68>, '21001': <gensim.models.keyedvectors.Vocab object at 0x7f5259469dd8>, '21000': <gensim.models.keyedvectors.Vocab object at 0x7f5259469e48>, '84922': <gensim.models.keyedvectors.Vocab object at 0x7f5259469eb8>, '21637': <gensim.models.keyedvectors.Vocab object at 0x7f5259469f28>, '21972': <gensim.models.keyedvectors.Vocab object at 0x7f5259469f98>, '47344B': <gensim.models.keyedvectors.Vocab object at 0x7f5259488048>, '85024C': <gensim.models.keyedvectors.Vocab object at 0x7f52594880b8>, '21357': <gensim.models.keyedvectors.Vocab object at 0x7f5259488128>, '21196': <gensim.models.keyedvectors.Vocab object at 0x7f5259488198>, '90209C': <gensim.models.keyedvectors.Vocab object at 0x7f5259488208>, '90209B': <gensim.models.keyedvectors.Vocab object at 0x7f5259488278>, '90209A': <gensim.models.keyedvectors.Vocab object at 0x7f52594882e8>, '85055': <gensim.models.keyedvectors.Vocab object at 0x7f5259488358>, '21421': <gensim.models.keyedvectors.Vocab object at 0x7f52594883c8>, '21633': <gensim.models.keyedvectors.Vocab object at 0x7f5259488438>, '21910': <gensim.models.keyedvectors.Vocab object at 0x7f52594884a8>, '21628': <gensim.models.keyedvectors.Vocab object at 0x7f5259488518>, '85130A': <gensim.models.keyedvectors.Vocab object at 0x7f5259488588>, '85131D': <gensim.models.keyedvectors.Vocab object at 0x7f52594885f8>, '21366': <gensim.models.keyedvectors.Vocab object at 0x7f5259488668>, '23045': <gensim.models.keyedvectors.Vocab object at 0x7f52594886d8>, '21643': <gensim.models.keyedvectors.Vocab object at 0x7f5259488748>, '17090D': <gensim.models.keyedvectors.Vocab object at 0x7f52594887b8>, '17090A': <gensim.models.keyedvectors.Vocab object at 0x7f5259488828>, '22828': <gensim.models.keyedvectors.Vocab object at 0x7f5259488898>, '90063A': <gensim.models.keyedvectors.Vocab object at 0x7f5259488908>, '90210B': <gensim.models.keyedvectors.Vocab object at 0x7f5259488978>, '20694': <gensim.models.keyedvectors.Vocab object at 0x7f52594889e8>, '84508A': <gensim.models.keyedvectors.Vocab object at 0x7f5259488a58>, '85096': <gensim.models.keyedvectors.Vocab object at 0x7f5259488ac8>, '84846A': <gensim.models.keyedvectors.Vocab object at 0x7f5259488b38>, '79191B': <gensim.models.keyedvectors.Vocab object at 0x7f5259488ba8>, '20857': <gensim.models.keyedvectors.Vocab object at 0x7f5259488c18>, '72225C': <gensim.models.keyedvectors.Vocab object at 0x7f5259488c88>, '85067': <gensim.models.keyedvectors.Vocab object at 0x7f5259488cf8>, '85086A': <gensim.models.keyedvectors.Vocab object at 0x7f5259488d68>, '84926D': <gensim.models.keyedvectors.Vocab object at 0x7f5259488dd8>, '90014B': <gensim.models.keyedvectors.Vocab object at 0x7f5259488e48>, '23305': <gensim.models.keyedvectors.Vocab object at 0x7f5259488eb8>, '84231': <gensim.models.keyedvectors.Vocab object at 0x7f5259488f28>, '84465': <gensim.models.keyedvectors.Vocab object at 0x7f5259488f98>, '71496A': <gensim.models.keyedvectors.Vocab object at 0x7f5259517048>, '71495B': <gensim.models.keyedvectors.Vocab object at 0x7f52595170b8>, '22504': <gensim.models.keyedvectors.Vocab object at 0x7f5259517128>, '90030A': <gensim.models.keyedvectors.Vocab object at 0x7f5259517198>, '21209': <gensim.models.keyedvectors.Vocab object at 0x7f5259517208>, '35598B': <gensim.models.keyedvectors.Vocab object at 0x7f5259517278>, '84989A': <gensim.models.keyedvectors.Vocab object at 0x7f52595172e8>, '84931B': <gensim.models.keyedvectors.Vocab object at 0x7f5259517358>, '21413': <gensim.models.keyedvectors.Vocab object at 0x7f52595173c8>, '20933': <gensim.models.keyedvectors.Vocab object at 0x7f5259517438>, '72130': <gensim.models.keyedvectors.Vocab object at 0x7f52595174a8>, '22803': <gensim.models.keyedvectors.Vocab object at 0x7f5259517518>, '21031': <gensim.models.keyedvectors.Vocab object at 0x7f5259517588>, '21025': <gensim.models.keyedvectors.Vocab object at 0x7f52595175f8>, '23561': <gensim.models.keyedvectors.Vocab object at 0x7f5259517668>, '47310M': <gensim.models.keyedvectors.Vocab object at 0x7f52595176d8>, '21426': <gensim.models.keyedvectors.Vocab object at 0x7f5259517748>, '21629': <gensim.models.keyedvectors.Vocab object at 0x7f52595177b8>, '84313C': <gensim.models.keyedvectors.Vocab object at 0x7f5259517828>, '84596J': <gensim.models.keyedvectors.Vocab object at 0x7f5259517898>, '85027L': <gensim.models.keyedvectors.Vocab object at 0x7f5259517908>, '84927A': <gensim.models.keyedvectors.Vocab object at 0x7f5259517978>, '84927F': <gensim.models.keyedvectors.Vocab object at 0x7f52595179e8>, '90010A': <gensim.models.keyedvectors.Vocab object at 0x7f5259517a58>, '90123A': <gensim.models.keyedvectors.Vocab object at 0x7f5259517ac8>, '35921': <gensim.models.keyedvectors.Vocab object at 0x7f5259517b38>, '35914': <gensim.models.keyedvectors.Vocab object at 0x7f5259517ba8>, '47369A': <gensim.models.keyedvectors.Vocab object at 0x7f5259517c18>, '21898': <gensim.models.keyedvectors.Vocab object at 0x7f5259517c88>, '90094': <gensim.models.keyedvectors.Vocab object at 0x7f5259517cf8>, '84898F': <gensim.models.keyedvectors.Vocab object at 0x7f5259517d68>, '22105': <gensim.models.keyedvectors.Vocab object at 0x7f5259517dd8>, '71050': <gensim.models.keyedvectors.Vocab object at 0x7f5259517e48>, '84926F': <gensim.models.keyedvectors.Vocab object at 0x7f5259517eb8>, '21190': <gensim.models.keyedvectors.Vocab object at 0x7f5259517f28>, '23477': <gensim.models.keyedvectors.Vocab object at 0x7f5259517f98>, '21157': <gensim.models.keyedvectors.Vocab object at 0x7f5259530048>, '85168B': <gensim.models.keyedvectors.Vocab object at 0x7f52595300b8>, '79030D': <gensim.models.keyedvectors.Vocab object at 0x7f5259530128>, '17013D': <gensim.models.keyedvectors.Vocab object at 0x7f5259530198>, '17096': <gensim.models.keyedvectors.Vocab object at 0x7f5259530208>, '17021': <gensim.models.keyedvectors.Vocab object at 0x7f5259530278>, '85163A': <gensim.models.keyedvectors.Vocab object at 0x7f52595302e8>, '21375': <gensim.models.keyedvectors.Vocab object at 0x7f5259530358>, '21750': <gensim.models.keyedvectors.Vocab object at 0x7f52595303c8>, '84927E': <gensim.models.keyedvectors.Vocab object at 0x7f5259530438>, '22391': <gensim.models.keyedvectors.Vocab object at 0x7f52595304a8>, '35400': <gensim.models.keyedvectors.Vocab object at 0x7f5259530518>, '35443': <gensim.models.keyedvectors.Vocab object at 0x7f5259530588>, '84952B': <gensim.models.keyedvectors.Vocab object at 0x7f52595305f8>, '84466': <gensim.models.keyedvectors.Vocab object at 0x7f5259530668>, '85135A': <gensim.models.keyedvectors.Vocab object at 0x7f52595306d8>, '46776A': <gensim.models.keyedvectors.Vocab object at 0x7f5259530748>, '90014A': <gensim.models.keyedvectors.Vocab object at 0x7f52595307b8>, '90019A': <gensim.models.keyedvectors.Vocab object at 0x7f5259530828>, '22503': <gensim.models.keyedvectors.Vocab object at 0x7f5259530898>, '21289': <gensim.models.keyedvectors.Vocab object at 0x7f5259530908>, '84906': <gensim.models.keyedvectors.Vocab object at 0x7f5259530978>, '46000U': <gensim.models.keyedvectors.Vocab object at 0x7f52595309e8>, '90120C': <gensim.models.keyedvectors.Vocab object at 0x7f5259530a58>, '22882': <gensim.models.keyedvectors.Vocab object at 0x7f5259530ac8>, '20898': <gensim.models.keyedvectors.Vocab object at 0x7f5259530b38>, '22166': <gensim.models.keyedvectors.Vocab object at 0x7f5259530ba8>, '85146': <gensim.models.keyedvectors.Vocab object at 0x7f5259530c18>, '46126A': <gensim.models.keyedvectors.Vocab object at 0x7f5259530c88>, '84631': <gensim.models.keyedvectors.Vocab object at 0x7f5259530cf8>, '21279': <gensim.models.keyedvectors.Vocab object at 0x7f5259530d68>, '85084': <gensim.models.keyedvectors.Vocab object at 0x7f5259530dd8>, '85028S': <gensim.models.keyedvectors.Vocab object at 0x7f5259530e48>, '47021G': <gensim.models.keyedvectors.Vocab object at 0x7f5259530eb8>, '21815': <gensim.models.keyedvectors.Vocab object at 0x7f5259530f28>, '90175C': <gensim.models.keyedvectors.Vocab object at 0x7f5259530f98>, '90198A': <gensim.models.keyedvectors.Vocab object at 0x7f52596a8048>, '21816': <gensim.models.keyedvectors.Vocab object at 0x7f52596a80b8>, '21473': <gensim.models.keyedvectors.Vocab object at 0x7f52596a8128>, '85215': <gensim.models.keyedvectors.Vocab object at 0x7f52596a8198>, '84685': <gensim.models.keyedvectors.Vocab object at 0x7f52596a8208>, '84688': <gensim.models.keyedvectors.Vocab object at 0x7f52596a8278>, '20845': <gensim.models.keyedvectors.Vocab object at 0x7f52596a82e8>, '90214M': <gensim.models.keyedvectors.Vocab object at 0x7f52596a8358>, '90214G': <gensim.models.keyedvectors.Vocab object at 0x7f52596a83c8>, '90214H': <gensim.models.keyedvectors.Vocab object at 0x7f52596a8438>, '90214J': <gensim.models.keyedvectors.Vocab object at 0x7f52596a84a8>, '90214N': <gensim.models.keyedvectors.Vocab object at 0x7f52596a8518>, '17011F': <gensim.models.keyedvectors.Vocab object at 0x7f52596a8588>, '51020B': <gensim.models.keyedvectors.Vocab object at 0x7f52596a85f8>, '51020A': <gensim.models.keyedvectors.Vocab object at 0x7f52596a8668>, '21332': <gensim.models.keyedvectors.Vocab object at 0x7f52596a86d8>, '35924': <gensim.models.keyedvectors.Vocab object at 0x7f52596a8748>, '23567': <gensim.models.keyedvectors.Vocab object at 0x7f52596a87b8>, '84816': <gensim.models.keyedvectors.Vocab object at 0x7f52596a8828>, '90099': <gensim.models.keyedvectors.Vocab object at 0x7f52596a8898>, '84857C': <gensim.models.keyedvectors.Vocab object at 0x7f52596a8908>, '20798': <gensim.models.keyedvectors.Vocab object at 0x7f52596a8978>, '84352': <gensim.models.keyedvectors.Vocab object at 0x7f52596a89e8>, '85045': <gensim.models.keyedvectors.Vocab object at 0x7f52596a8a58>, '47422': <gensim.models.keyedvectors.Vocab object at 0x7f52596a8ac8>, '20662': <gensim.models.keyedvectors.Vocab object at 0x7f52596a8b38>, '22137': <gensim.models.keyedvectors.Vocab object at 0x7f52596a8ba8>, '84462': <gensim.models.keyedvectors.Vocab object at 0x7f52596a8c18>, '84228': <gensim.models.keyedvectors.Vocab object at 0x7f52596a8c88>, '84226': <gensim.models.keyedvectors.Vocab object at 0x7f52596a8cf8>, '35913B': <gensim.models.keyedvectors.Vocab object at 0x7f52596a8d68>, '21460': <gensim.models.keyedvectors.Vocab object at 0x7f52596a8dd8>, '21461': <gensim.models.keyedvectors.Vocab object at 0x7f52596a8e48>, '22884': <gensim.models.keyedvectors.Vocab object at 0x7f52596a8eb8>, '21003': <gensim.models.keyedvectors.Vocab object at 0x7f52596a8f28>, '22886': <gensim.models.keyedvectors.Vocab object at 0x7f52596a8f98>, '22889': <gensim.models.keyedvectors.Vocab object at 0x7f52596ad048>, '35833P': <gensim.models.keyedvectors.Vocab object at 0x7f52596ad0b8>, '35815P': <gensim.models.keyedvectors.Vocab object at 0x7f52596ad128>, '85095': <gensim.models.keyedvectors.Vocab object at 0x7f52596ad198>, '72132': <gensim.models.keyedvectors.Vocab object at 0x7f52596ad208>, '72134': <gensim.models.keyedvectors.Vocab object at 0x7f52596ad278>, '23303': <gensim.models.keyedvectors.Vocab object at 0x7f52596ad2e8>, '16254': <gensim.models.keyedvectors.Vocab object at 0x7f52596ad358>, '90201B': <gensim.models.keyedvectors.Vocab object at 0x7f52596ad3c8>, '85145': <gensim.models.keyedvectors.Vocab object at 0x7f52596ad438>, '84360': <gensim.models.keyedvectors.Vocab object at 0x7f52596ad4a8>, '35957': <gensim.models.keyedvectors.Vocab object at 0x7f52596ad518>, '78033': <gensim.models.keyedvectors.Vocab object at 0x7f52596ad588>, '85103': <gensim.models.keyedvectors.Vocab object at 0x7f52596ad5f8>, '84616': <gensim.models.keyedvectors.Vocab object at 0x7f52596ad668>, '22458': <gensim.models.keyedvectors.Vocab object at 0x7f52596ad6d8>, '22459': <gensim.models.keyedvectors.Vocab object at 0x7f52596ad748>, '75013B': <gensim.models.keyedvectors.Vocab object at 0x7f52596ad7b8>, '22263': <gensim.models.keyedvectors.Vocab object at 0x7f52596ad828>, '90064B': <gensim.models.keyedvectors.Vocab object at 0x7f52596ad898>, '90063B': <gensim.models.keyedvectors.Vocab object at 0x7f52596ad908>, '90194': <gensim.models.keyedvectors.Vocab object at 0x7f52596ad978>, '90010E': <gensim.models.keyedvectors.Vocab object at 0x7f52596ad9e8>, '23410': <gensim.models.keyedvectors.Vocab object at 0x7f52596ada58>, '21736': <gensim.models.keyedvectors.Vocab object at 0x7f52596adac8>, '21032': <gensim.models.keyedvectors.Vocab object at 0x7f52596adb38>, '84598': <gensim.models.keyedvectors.Vocab object at 0x7f52596adba8>, '84800S': <gensim.models.keyedvectors.Vocab object at 0x7f52596adc18>, '21275': <gensim.models.keyedvectors.Vocab object at 0x7f52596adc88>, '84985A': <gensim.models.keyedvectors.Vocab object at 0x7f52596adcf8>, '85118': <gensim.models.keyedvectors.Vocab object at 0x7f52596add68>, '20869': <gensim.models.keyedvectors.Vocab object at 0x7f52596addd8>, '85031A': <gensim.models.keyedvectors.Vocab object at 0x7f52596ade48>, '79144C': <gensim.models.keyedvectors.Vocab object at 0x7f52596adeb8>, '21100': <gensim.models.keyedvectors.Vocab object at 0x7f52596adf28>, '16046': <gensim.models.keyedvectors.Vocab object at 0x7f52596adf98>, '90093': <gensim.models.keyedvectors.Vocab object at 0x7f52596b3048>, '84199': <gensim.models.keyedvectors.Vocab object at 0x7f52596b30b8>, '20661': <gensim.models.keyedvectors.Vocab object at 0x7f52596b3128>, '62096A': <gensim.models.keyedvectors.Vocab object at 0x7f52596b3198>, '23024': <gensim.models.keyedvectors.Vocab object at 0x7f52596b3208>, '47341A': <gensim.models.keyedvectors.Vocab object at 0x7f52596b3278>, '84597B': <gensim.models.keyedvectors.Vocab object at 0x7f52596b32e8>, '75011': <gensim.models.keyedvectors.Vocab object at 0x7f52596b3358>, '21370': <gensim.models.keyedvectors.Vocab object at 0x7f52596b33c8>, '21331': <gensim.models.keyedvectors.Vocab object at 0x7f52596b3438>, '21847': <gensim.models.keyedvectors.Vocab object at 0x7f52596b34a8>, '84804B': <gensim.models.keyedvectors.Vocab object at 0x7f52596b3518>, '21392': <gensim.models.keyedvectors.Vocab object at 0x7f52596b3588>, '21278': <gensim.models.keyedvectors.Vocab object at 0x7f52596b35f8>, '22769': <gensim.models.keyedvectors.Vocab object at 0x7f52596b3668>, '90101': <gensim.models.keyedvectors.Vocab object at 0x7f52596b36d8>, '21117': <gensim.models.keyedvectors.Vocab object at 0x7f52596b3748>, '90003C': <gensim.models.keyedvectors.Vocab object at 0x7f52596b37b8>, '90174': <gensim.models.keyedvectors.Vocab object at 0x7f52596b3828>, '90208': <gensim.models.keyedvectors.Vocab object at 0x7f52596b3898>, '90205A': <gensim.models.keyedvectors.Vocab object at 0x7f52596b3908>, '90022': <gensim.models.keyedvectors.Vocab object at 0x7f52596b3978>, '90018A': <gensim.models.keyedvectors.Vocab object at 0x7f52596b39e8>, '90183A': <gensim.models.keyedvectors.Vocab object at 0x7f52596b3a58>, '90166': <gensim.models.keyedvectors.Vocab object at 0x7f52596b3ac8>, '85161': <gensim.models.keyedvectors.Vocab object at 0x7f52596b3b38>, '20826': <gensim.models.keyedvectors.Vocab object at 0x7f52596b3ba8>, '90164B': <gensim.models.keyedvectors.Vocab object at 0x7f52596b3c18>, '84801A': <gensim.models.keyedvectors.Vocab object at 0x7f52596b3c88>, '90162C': <gensim.models.keyedvectors.Vocab object at 0x7f52596b3cf8>, '90161B': <gensim.models.keyedvectors.Vocab object at 0x7f52596b3d68>, '90032': <gensim.models.keyedvectors.Vocab object at 0x7f52596b3dd8>, '90175A': <gensim.models.keyedvectors.Vocab object at 0x7f52596b3e48>, '21630': <gensim.models.keyedvectors.Vocab object at 0x7f52596b3eb8>, '84388': <gensim.models.keyedvectors.Vocab object at 0x7f52596b3f28>, '90200C': <gensim.models.keyedvectors.Vocab object at 0x7f52596b3f98>, '90082B': <gensim.models.keyedvectors.Vocab object at 0x7f5259ed5048>, '85131C': <gensim.models.keyedvectors.Vocab object at 0x7f5259ed50b8>, '16207A': <gensim.models.keyedvectors.Vocab object at 0x7f5259ed5128>, '44236': <gensim.models.keyedvectors.Vocab object at 0x7f5259ed5198>, '84809A': <gensim.models.keyedvectors.Vocab object at 0x7f5259ed5208>, '22880': <gensim.models.keyedvectors.Vocab object at 0x7f5259ed5278>, '84915': <gensim.models.keyedvectors.Vocab object at 0x7f5259ed52e8>, '84313B': <gensim.models.keyedvectors.Vocab object at 0x7f5259ed5358>, '22830': <gensim.models.keyedvectors.Vocab object at 0x7f5259ed53c8>, '84921': <gensim.models.keyedvectors.Vocab object at 0x7f5259ed5438>, '90087': <gensim.models.keyedvectors.Vocab object at 0x7f5259ed54a8>, '84881': <gensim.models.keyedvectors.Vocab object at 0x7f5259ed5518>, '90154': <gensim.models.keyedvectors.Vocab object at 0x7f5259ed5588>, '90016B': <gensim.models.keyedvectors.Vocab object at 0x7f5259ed55f8>, '21777': <gensim.models.keyedvectors.Vocab object at 0x7f5259ed5668>, '90125D': <gensim.models.keyedvectors.Vocab object at 0x7f5259ed56d8>, '84358': <gensim.models.keyedvectors.Vocab object at 0x7f5259ed5748>, '21785': <gensim.models.keyedvectors.Vocab object at 0x7f5259ed57b8>, '35001W': <gensim.models.keyedvectors.Vocab object at 0x7f5259ed5828>, '84984B': <gensim.models.keyedvectors.Vocab object at 0x7f5259ed5898>, '84984A': <gensim.models.keyedvectors.Vocab object at 0x7f5259ed5908>, '22887': <gensim.models.keyedvectors.Vocab object at 0x7f5259ed5978>, 'DOT': <gensim.models.keyedvectors.Vocab object at 0x7f5259ed59e8>, 'CRUK': <gensim.models.keyedvectors.Vocab object at 0x7f5259ed5a58>, '85131B': <gensim.models.keyedvectors.Vocab object at 0x7f5259ed5ac8>, '21651': <gensim.models.keyedvectors.Vocab object at 0x7f5259ed5b38>, '90062': <gensim.models.keyedvectors.Vocab object at 0x7f5259ed5ba8>, '90002D': <gensim.models.keyedvectors.Vocab object at 0x7f5259ed5c18>, '90180A': <gensim.models.keyedvectors.Vocab object at 0x7f5259ed5c88>, '79406': <gensim.models.keyedvectors.Vocab object at 0x7f5259ed5cf8>, '22885': <gensim.models.keyedvectors.Vocab object at 0x7f5259ed5d68>, '22888': <gensim.models.keyedvectors.Vocab object at 0x7f5259ed5dd8>, '22883': <gensim.models.keyedvectors.Vocab object at 0x7f5259ed5e48>, '90036E': <gensim.models.keyedvectors.Vocab object at 0x7f5259ed5eb8>, '22879': <gensim.models.keyedvectors.Vocab object at 0x7f5259ed5f28>, '22881': <gensim.models.keyedvectors.Vocab object at 0x7f5259ed5f98>, '21655': <gensim.models.keyedvectors.Vocab object at 0x7f5259f06048>}\n"
          ],
          "name": "stdout"
        }
      ]
    },
    {
      "cell_type": "code",
      "metadata": {
        "colab_type": "code",
        "id": "tUohzMzCnuqe",
        "colab": {
          "base_uri": "https://localhost:8080/",
          "height": 238
        },
        "outputId": "1ed05adb-d1a0-40c0-c07a-2ea7c42e3d66"
      },
      "source": [
        "print(model_ft1.wv.vectors)"
      ],
      "execution_count": 54,
      "outputs": [
        {
          "output_type": "stream",
          "text": [
            "[[ 0.43271866  0.06394319  0.34645814 ... -0.06326876 -0.3624925\n",
            "   0.15769596]\n",
            " [ 0.0244501   0.11454512  0.04364393 ... -0.5544084  -0.29594764\n",
            "  -0.08164983]\n",
            " [ 0.27556044  0.45231375  0.23589012 ... -0.7649995  -0.07082011\n",
            "  -0.22541152]\n",
            " ...\n",
            " [ 0.05737849  0.06004256  0.09727194 ... -0.00937042 -0.1264495\n",
            "   0.29602954]\n",
            " [ 0.20816578 -0.12486792  0.13497297 ...  0.21093062 -0.16666378\n",
            "   0.09666897]\n",
            " [-0.46615055  0.2112892  -0.31255183 ... -0.21732171 -0.2733983\n",
            "   0.35777235]]\n"
          ],
          "name": "stdout"
        }
      ]
    },
    {
      "cell_type": "code",
      "metadata": {
        "id": "zrelGc3TLEIw",
        "colab_type": "code",
        "colab": {
          "base_uri": "https://localhost:8080/",
          "height": 34
        },
        "outputId": "b2cc2401-4c5d-41b5-fe7e-c2cd94c18adf"
      },
      "source": [
        "model_ft1.wv.vectors.shape"
      ],
      "execution_count": 55,
      "outputs": [
        {
          "output_type": "execute_result",
          "data": {
            "text/plain": [
              "(3166, 100)"
            ]
          },
          "metadata": {
            "tags": []
          },
          "execution_count": 55
        }
      ]
    },
    {
      "cell_type": "code",
      "metadata": {
        "id": "9knbFzvDhaTW",
        "colab_type": "code",
        "colab": {
          "base_uri": "https://localhost:8080/",
          "height": 34
        },
        "outputId": "04061e14-8740-46c9-af2c-3b567fced030"
      },
      "source": [
        "#Visualize the embeddings\n",
        "#use tsne\n",
        "X_pca=model_ft1.wv.vectors\n",
        "from sklearn.manifold import TSNE\n",
        "tsne=TSNE(n_components=2).fit_transform(X_pca)\n",
        "tsne.shape"
      ],
      "execution_count": 40,
      "outputs": [
        {
          "output_type": "execute_result",
          "data": {
            "text/plain": [
              "(3166, 2)"
            ]
          },
          "metadata": {
            "tags": []
          },
          "execution_count": 40
        }
      ]
    },
    {
      "cell_type": "code",
      "metadata": {
        "id": "rJbae3UKh6zZ",
        "colab_type": "code",
        "colab": {}
      },
      "source": [
        "vocab1=list(model_ft.wv.vocab)\n",
        "df2 = pd.DataFrame(tsne, index=vocab1,columns=['X','Y'])"
      ],
      "execution_count": 41,
      "outputs": []
    },
    {
      "cell_type": "code",
      "metadata": {
        "id": "IyKMuhGEiMQN",
        "colab_type": "code",
        "colab": {
          "base_uri": "https://localhost:8080/",
          "height": 265
        },
        "outputId": "b04bc023-b90d-4b82-f341-1d3e543fbb58"
      },
      "source": [
        "#Visualize the TSNE plot\n",
        "import matplotlib.pyplot as plt\n",
        "fig=plt.figure()\n",
        "ax=fig.add_subplot(111)\n",
        "#%matplotlib inline\n",
        "ax.scatter(df2['X'],df2['Y'],c=df2['X'],cmap='Spectral')\n",
        "#label the data\n",
        "#ax.set_xlim(-40,40)\n",
        "#ax.set_ylim(-30,30)\n",
        "plt.show()"
      ],
      "execution_count": 42,
      "outputs": [
        {
          "output_type": "display_data",
          "data": {
            "image/png": "[encoded data removed]",
            "text/plain": [
              "<Figure size 432x288 with 1 Axes>"
            ]
          },
          "metadata": {
            "tags": [],
            "needs_background": "light"
          }
        }
      ]
    },
    {
      "cell_type": "code",
      "metadata": {
        "id": "IqZcxDaLR_Y6",
        "colab_type": "code",
        "colab": {}
      },
      "source": [
        "#Lets start recommending products\n",
        "products = train_df[[\"StockCode\", \"Description\"]]"
      ],
      "execution_count": 44,
      "outputs": []
    },
    {
      "cell_type": "code",
      "metadata": {
        "id": "75elQtqrR_Y9",
        "colab_type": "code",
        "colab": {
          "base_uri": "https://localhost:8080/",
          "height": 419
        },
        "outputId": "c07944be-98e6-4cfe-e64c-eaacb90e6908"
      },
      "source": [
        "products"
      ],
      "execution_count": 45,
      "outputs": [
        {
          "output_type": "execute_result",
          "data": {
            "text/html": [
              "<div>\n",
              "<style scoped>\n",
              "    .dataframe tbody tr th:only-of-type {\n",
              "        vertical-align: middle;\n",
              "    }\n",
              "\n",
              "    .dataframe tbody tr th {\n",
              "        vertical-align: top;\n",
              "    }\n",
              "\n",
              "    .dataframe thead th {\n",
              "        text-align: right;\n",
              "    }\n",
              "</style>\n",
              "<table border=\"1\" class=\"dataframe\">\n",
              "  <thead>\n",
              "    <tr style=\"text-align: right;\">\n",
              "      <th></th>\n",
              "      <th>StockCode</th>\n",
              "      <th>Description</th>\n",
              "    </tr>\n",
              "  </thead>\n",
              "  <tbody>\n",
              "    <tr>\n",
              "      <th>9</th>\n",
              "      <td>84879</td>\n",
              "      <td>ASSORTED COLOUR BIRD ORNAMENT</td>\n",
              "    </tr>\n",
              "    <tr>\n",
              "      <th>10</th>\n",
              "      <td>22745</td>\n",
              "      <td>POPPY'S PLAYHOUSE BEDROOM</td>\n",
              "    </tr>\n",
              "    <tr>\n",
              "      <th>11</th>\n",
              "      <td>22748</td>\n",
              "      <td>POPPY'S PLAYHOUSE KITCHEN</td>\n",
              "    </tr>\n",
              "    <tr>\n",
              "      <th>12</th>\n",
              "      <td>22749</td>\n",
              "      <td>FELTCRAFT PRINCESS CHARLOTTE DOLL</td>\n",
              "    </tr>\n",
              "    <tr>\n",
              "      <th>13</th>\n",
              "      <td>22310</td>\n",
              "      <td>IVORY KNITTED MUG COSY</td>\n",
              "    </tr>\n",
              "    <tr>\n",
              "      <th>...</th>\n",
              "      <td>...</td>\n",
              "      <td>...</td>\n",
              "    </tr>\n",
              "    <tr>\n",
              "      <th>541904</th>\n",
              "      <td>22613</td>\n",
              "      <td>PACK OF 20 SPACEBOY NAPKINS</td>\n",
              "    </tr>\n",
              "    <tr>\n",
              "      <th>541905</th>\n",
              "      <td>22899</td>\n",
              "      <td>CHILDREN'S APRON DOLLY GIRL</td>\n",
              "    </tr>\n",
              "    <tr>\n",
              "      <th>541906</th>\n",
              "      <td>23254</td>\n",
              "      <td>CHILDRENS CUTLERY DOLLY GIRL</td>\n",
              "    </tr>\n",
              "    <tr>\n",
              "      <th>541907</th>\n",
              "      <td>23255</td>\n",
              "      <td>CHILDRENS CUTLERY CIRCUS PARADE</td>\n",
              "    </tr>\n",
              "    <tr>\n",
              "      <th>541908</th>\n",
              "      <td>22138</td>\n",
              "      <td>BAKING SET 9 PIECE RETROSPOT</td>\n",
              "    </tr>\n",
              "  </tbody>\n",
              "</table>\n",
              "<p>364125 rows × 2 columns</p>\n",
              "</div>"
            ],
            "text/plain": [
              "       StockCode                        Description\n",
              "9          84879      ASSORTED COLOUR BIRD ORNAMENT\n",
              "10         22745         POPPY'S PLAYHOUSE BEDROOM \n",
              "11         22748          POPPY'S PLAYHOUSE KITCHEN\n",
              "12         22749  FELTCRAFT PRINCESS CHARLOTTE DOLL\n",
              "13         22310            IVORY KNITTED MUG COSY \n",
              "...          ...                                ...\n",
              "541904     22613        PACK OF 20 SPACEBOY NAPKINS\n",
              "541905     22899       CHILDREN'S APRON DOLLY GIRL \n",
              "541906     23254      CHILDRENS CUTLERY DOLLY GIRL \n",
              "541907     23255    CHILDRENS CUTLERY CIRCUS PARADE\n",
              "541908     22138      BAKING SET 9 PIECE RETROSPOT \n",
              "\n",
              "[364125 rows x 2 columns]"
            ]
          },
          "metadata": {
            "tags": []
          },
          "execution_count": 45
        }
      ]
    },
    {
      "cell_type": "code",
      "metadata": {
        "id": "fN7PBPucR_ZA",
        "colab_type": "code",
        "colab": {}
      },
      "source": [
        "#remve the duplicates\n",
        "products.drop_duplicates(inplace=True,subset='StockCode',keep='last')"
      ],
      "execution_count": 46,
      "outputs": []
    },
    {
      "cell_type": "code",
      "metadata": {
        "id": "vJYAONcDR_ZD",
        "colab_type": "code",
        "colab": {
          "base_uri": "https://localhost:8080/",
          "height": 34
        },
        "outputId": "710be7f3-d538-4c73-8cbe-434ec4c041fe"
      },
      "source": [
        "products.shape"
      ],
      "execution_count": 47,
      "outputs": [
        {
          "output_type": "execute_result",
          "data": {
            "text/plain": [
              "(3658, 2)"
            ]
          },
          "metadata": {
            "tags": []
          },
          "execution_count": 47
        }
      ]
    },
    {
      "cell_type": "code",
      "metadata": {
        "id": "yL5b8MwLR_ZP",
        "colab_type": "code",
        "colab": {}
      },
      "source": [
        "# create product-ID and product-description dictionary\n",
        "products_dict = products.groupby('StockCode')['Description'].apply(list).to_dict()"
      ],
      "execution_count": 48,
      "outputs": []
    },
    {
      "cell_type": "code",
      "metadata": {
        "id": "QryvHhJ0R_ZT",
        "colab_type": "code",
        "colab": {
          "base_uri": "https://localhost:8080/",
          "height": 1000
        },
        "outputId": "3c6366fa-2b58-4f22-c0aa-cb0579039385"
      },
      "source": [
        "products_dict"
      ],
      "execution_count": 50,
      "outputs": [
        {
          "output_type": "execute_result",
          "data": {
            "text/plain": [
              "{'10002': ['INFLATABLE POLITICAL GLOBE '],\n",
              " '10080': ['GROOVY CACTUS INFLATABLE'],\n",
              " '10120': ['DOGGY RUBBER'],\n",
              " '10123C': ['HEARTS WRAPPING TAPE '],\n",
              " '10124A': ['SPOTS ON RED BOOKCOVER TAPE'],\n",
              " '10124G': ['ARMY CAMO BOOKCOVER TAPE'],\n",
              " '10125': ['MINI FUNKY DESIGN TAPES'],\n",
              " '10133': ['COLOURING PENCILS BROWN TUBE'],\n",
              " '10135': ['COLOURING PENCILS BROWN TUBE'],\n",
              " '11001': ['ASSTD DESIGN RACING CAR PEN'],\n",
              " '15030': ['FAN BLACK FRAME '],\n",
              " '15034': ['PAPER POCKET TRAVELING FAN '],\n",
              " '15036': ['ASSORTED COLOURS SILK FAN'],\n",
              " '15039': ['SANDALWOOD FAN'],\n",
              " '15044A': ['PINK PAPER PARASOL '],\n",
              " '15044B': ['BLUE PAPER PARASOL '],\n",
              " '15044C': ['PURPLE PAPER PARASOL'],\n",
              " '15044D': ['RED PAPER PARASOL'],\n",
              " '15056BL': ['EDWARDIAN PARASOL BLACK'],\n",
              " '15056N': ['EDWARDIAN PARASOL NATURAL'],\n",
              " '15056P': ['EDWARDIAN PARASOL PINK'],\n",
              " '15058A': ['BLUE POLKADOT GARDEN PARASOL'],\n",
              " '15058B': ['PINK POLKADOT GARDEN PARASOL'],\n",
              " '15058C': ['ICE CREAM DESIGN GARDEN PARASOL'],\n",
              " '15060B': ['FAIRY CAKE DESIGN UMBRELLA'],\n",
              " '16008': ['SMALL FOLDING SCISSOR(POINTED EDGE)'],\n",
              " '16010': ['FOLDING CAMPING SCISSOR W/KNIF & S'],\n",
              " '16011': ['ANIMAL STICKERS'],\n",
              " '16012': ['FOOD/DRINK SPONGE STICKERS'],\n",
              " '16014': ['SMALL CHINESE STYLE SCISSOR'],\n",
              " '16015': ['MEDIUM CHINESE STYLE SCISSOR'],\n",
              " '16016': ['LARGE CHINESE STYLE SCISSOR'],\n",
              " '16020C': ['CLEAR STATIONERY BOX SET '],\n",
              " '16033': ['MINI HIGHLIGHTER PENS'],\n",
              " '16043': ['POP ART PUSH DOWN RUBBER '],\n",
              " '16045': ['POPART WOODEN PENCILS ASST'],\n",
              " '16046': ['TEATIME PEN CASE & PENS'],\n",
              " '16048': ['TEATIME ROUND PENCIL SHARPENER '],\n",
              " '16049': ['TEATIME GEL PENS ASST'],\n",
              " '16052': ['TEATIME PUSH DOWN RUBBER'],\n",
              " '16054': ['POPART RECT PENCIL SHARPENER ASST'],\n",
              " '16151A': ['FLOWERS HANDBAG blue and orange'],\n",
              " '16156L': ['WRAP CAROUSEL'],\n",
              " '16156S': ['WRAP PINK FAIRY CAKES '],\n",
              " '16161G': ['WRAP BAD HAIR DAY'],\n",
              " '16161P': ['WRAP ENGLISH ROSE '],\n",
              " '16161U': ['WRAP SUKI AND FRIENDS'],\n",
              " '16162L': ['THE KING GIFT BAG'],\n",
              " '16162M': ['THE KING GIFT BAG 25x24x12cm'],\n",
              " '16168M': ['FUNKY MONKEY GIFT BAG MEDIUM'],\n",
              " '16169E': [\"WRAP 50'S  CHRISTMAS\"],\n",
              " '16169K': ['WRAP FOLK ART'],\n",
              " '16169M': ['WRAP DAISY CARPET '],\n",
              " '16169P': ['WRAP GREEN RUSSIAN FOLKART '],\n",
              " '16202A': ['PASTEL PINK PHOTO ALBUM '],\n",
              " '16202B': ['PASTEL BLUE PHOTO ALBUM '],\n",
              " '16202E': ['BLACK PHOTO ALBUM '],\n",
              " '16206B': ['RED PURSE WITH PINK HEART'],\n",
              " '16207A': ['PINK STRAWBERRY HANDBAG '],\n",
              " '16207B': ['PINK HEART RED HANDBAG'],\n",
              " '16216': ['LETTER SHAPE PENCIL SHARPENER'],\n",
              " '16218': ['CARTOON  PENCIL SHARPENERS'],\n",
              " '16219': ['HOUSE SHAPE PENCIL SHARPENER'],\n",
              " '16225': ['RATTLE SNAKE EGGS'],\n",
              " '16235': ['RECYCLED PENCIL WITH RABBIT ERASER'],\n",
              " '16236': ['KITTY PENCIL ERASERS'],\n",
              " '16237': ['SLEEPING CAT ERASERS'],\n",
              " '16238': ['PARTY TIME PENCIL ERASERS'],\n",
              " '16244B': ['MAXWELL 2 TONE BLUE 60 PAGE PHOTO A'],\n",
              " '16248B': ['BLUE HOLE PUNCH'],\n",
              " '16254': ['TRANSPARENT ACRYLIC TAPE DISPENSER'],\n",
              " '16258A': ['SWIRLY CIRCULAR RUBBERS IN BAG'],\n",
              " '16259': ['PIECE OF CAMO STATIONERY SET'],\n",
              " '17001': ['HEAVENS SCENT FRAGRANCE OILS ASSTD'],\n",
              " '17003': ['BROCADE RING PURSE '],\n",
              " '17007B': ['S/3 POT POURI CUSHIONS BLUE COLOURS'],\n",
              " '17011F': ['ORIGAMI SANDLEWOOD INCENSE+FLOWER'],\n",
              " '17012A': ['ORIGAMI VANILLA INCENSE/CANDLE SET '],\n",
              " '17012B': ['ORIGAMI JASMINE INCENSE/CANDLE SET'],\n",
              " '17012C': ['ORIGAMI LAVENDER INCENSE/CANDL SET '],\n",
              " '17012D': ['ORIGAMI ROSE INCENSE/CANDLE SET '],\n",
              " '17012E': ['ORIGAMI OPIUM INCENSE/CANDLE SET '],\n",
              " '17012F': ['ORIGAMI SANDLEWOOD INCENSE/CAND SET'],\n",
              " '17013D': ['ORIGAMI ROSE INCENSE IN TUBE'],\n",
              " '17014A': ['ORIGAMI VANILLA INCENSE CONES'],\n",
              " '17021': ['NAMASTE SWAGAT INCENSE'],\n",
              " '17028J': ['INCENSE BAZAAR PEACH'],\n",
              " '17038': ['PORCELAIN BUDAH INCENSE HOLDER'],\n",
              " '17084A': ['TRANQUILITY MASALA INCENSE'],\n",
              " '17084J': ['LOVE POTION MASALA INCENSE'],\n",
              " '17084N': ['FAIRY DREAMS INCENSE '],\n",
              " '17084P': ['DRAGONS BLOOD INCENSE'],\n",
              " '17084R': ['ASSORTED INCENSE PACK'],\n",
              " '17090A': ['LAVENDER INCENSE 40 CONES IN TIN'],\n",
              " '17090D': ['VANILLA INCENSE 40 CONES IN TIN'],\n",
              " '17091A': ['LAVENDER INCENSE IN TIN'],\n",
              " '17091J': ['VANILLA INCENSE IN TIN'],\n",
              " '17096': ['ASSORTED LAQUERED INCENSE HOLDERS'],\n",
              " '17107D': ['FLOWER FAIRY 5 DRAWER LINERS'],\n",
              " '17109D': ['FLOWER FAIRY INCENSE BOUQUET'],\n",
              " '17129F': ['BLUE GLASS GEMS IN BAG'],\n",
              " '17136A': ['BLUE STONES ON WIRE FOR CANDLE'],\n",
              " '17164B': [\"ASS COL SMALL SAND GECKO P'WEIGHT\"],\n",
              " '17165D': [\"ASS COL LARGE SAND FROG P'WEIGHT\"],\n",
              " '17174': ['ASSTD RASTA KEY-CHAINS'],\n",
              " '17191A': ['ROSE FLOWER CANDLE+INCENSE 16X16CM'],\n",
              " '18007': ['ESSENTIAL BALM 3.5g TIN IN ENVELOPE'],\n",
              " '18094C': ['WHITE AND BLUE CERAMIC OIL BURNER'],\n",
              " '18097A': ['PINK TALL PORCELAIN T-LIGHT HOLDER '],\n",
              " '18097C': ['WHITE TALL PORCELAIN T-LIGHT HOLDER'],\n",
              " '18098C': ['PORCELAIN BUTTERFLY OIL BURNER'],\n",
              " '20615': ['BLUE POLKADOT PASSPORT COVER'],\n",
              " '20616': ['CHERRY BLOSSOM PASSPORT COVER'],\n",
              " '20617': ['FIRST CLASS PASSPORT COVER '],\n",
              " '20618': ['QUEEN OF THE SKIES PASSPORT COVER '],\n",
              " '20619': ['TROPICAL PASSPORT COVER '],\n",
              " '20622': ['VIP PASSPORT COVER '],\n",
              " '20652': ['BLUE POLKADOT LUGGAGE TAG '],\n",
              " '20653': ['CHERRY BLOSSOM LUGGAGE TAG'],\n",
              " '20654': ['FIRST CLASS LUGGAGE TAG '],\n",
              " '20655': ['QUEEN OF SKIES LUGGAGE TAG'],\n",
              " '20657': ['TROPICAL LUGGAGE TAG'],\n",
              " '20658': ['RED RETROSPOT LUGGAGE TAG'],\n",
              " '20659': ['ECONOMY LUGGAGE TAG'],\n",
              " '20661': ['BLUE POLKADOT PURSE '],\n",
              " '20662': ['FIRST CLASS HOLIDAY PURSE '],\n",
              " '20663': ['QUEEN OF THE SKIES HOLIDAY PURSE '],\n",
              " '20664': ['TROPICAL HOLIDAY PURSE '],\n",
              " '20665': ['RED RETROSPOT PURSE '],\n",
              " '20666': ['ECONOMY HOLIDAY PURSE'],\n",
              " '20667': ['CHERRY BLOSSOM PURSE'],\n",
              " '20668': ['DISCO BALL CHRISTMAS DECORATION'],\n",
              " '20669': ['RED HEART LUGGAGE TAG'],\n",
              " '20670': ['VIP HOLIDAY PURSE'],\n",
              " '20671': ['BLUE TEATIME PRINT BOWL '],\n",
              " '20674': ['GREEN POLKADOT BOWL'],\n",
              " '20675': ['BLUE POLKADOT BOWL'],\n",
              " '20676': ['RED RETROSPOT BOWL'],\n",
              " '20677': ['PINK POLKADOT BOWL'],\n",
              " '20678': ['LARGE BLACK DIAMANTE HAIRSLIDE'],\n",
              " '20679': ['EDWARDIAN PARASOL RED'],\n",
              " '20681': ['PINK POLKADOT CHILDRENS UMBRELLA'],\n",
              " '20682': ['RED RETROSPOT CHILDRENS UMBRELLA'],\n",
              " '20684': ['STRAWBERRY DREAM CHILDS UMBRELLA'],\n",
              " '20685': ['DOORMAT RED RETROSPOT'],\n",
              " '20686': [\"DOLLY MIXTURE CHILDREN'S UMBRELLA\"],\n",
              " '20694': ['FLORAL PINK MONSTER'],\n",
              " '20695': ['FLORAL BLUE MONSTER'],\n",
              " '20696': ['FLORAL SOFT CAR TOY'],\n",
              " '20697': ['LITTLE GREEN MONSTER SOFT TOY'],\n",
              " '20698': ['LITTLE PINK MONSTER SOFT TOY'],\n",
              " '20699': ['MOUSEY LONG LEGS SOFT TOY'],\n",
              " '20700': ['GREEN CAT FLORAL CUSHION COVER '],\n",
              " '20701': ['PINK CAT FLORAL CUSHION COVER '],\n",
              " '20702': ['PINK PADDED MOBILE'],\n",
              " '20703': ['BLUE PADDED SOFT MOBILE'],\n",
              " '20704': ['MR ROBOT SOFT TOY'],\n",
              " '20705': ['MRS ROBOT SOFT TOY'],\n",
              " '20707': ['CRAZY DAISY HEART DECORATION'],\n",
              " '20711': ['JUMBO BAG TOYS '],\n",
              " '20712': ['JUMBO BAG WOODLAND ANIMALS'],\n",
              " '20713': ['JUMBO BAG OWLS'],\n",
              " '20716': ['PARTY FOOD SHOPPER BAG'],\n",
              " '20717': ['STRAWBERRY SHOPPER BAG'],\n",
              " '20718': ['RED RETROSPOT SHOPPER BAG'],\n",
              " '20719': ['WOODLAND CHARLOTTE BAG'],\n",
              " '20723': ['STRAWBERRY CHARLOTTE BAG'],\n",
              " '20724': ['RED RETROSPOT CHARLOTTE BAG'],\n",
              " '20725': ['LUNCH BAG RED RETROSPOT'],\n",
              " '20726': ['LUNCH BAG WOODLAND'],\n",
              " '20727': ['LUNCH BAG  BLACK SKULL.'],\n",
              " '20728': ['LUNCH BAG CARS BLUE'],\n",
              " '20731': ['POSY CANDY BAG'],\n",
              " '20733': ['GOLD MINI TAPE MEASURE '],\n",
              " '20735': ['BLACK MINI TAPE MEASURE '],\n",
              " '20748': ['KENSINGTON COFFEE SET'],\n",
              " '20749': ['ASSORTED COLOUR MINI CASES'],\n",
              " '20750': ['RED RETROSPOT MINI CASES'],\n",
              " '20751': ['FUNKY WASHING UP GLOVES ASSORTED'],\n",
              " '20752': ['BLUE POLKADOT WASHING UP GLOVES'],\n",
              " '20754': ['RETROSPOT RED WASHING UP GLOVES'],\n",
              " '20755': ['BLUE PAISLEY POCKET BOOK'],\n",
              " '20756': ['GREEN FERN POCKET BOOK'],\n",
              " '20757': ['RED DAISY POCKET BOOK '],\n",
              " '20758': ['ABSTRACT CIRCLES POCKET BOOK'],\n",
              " '20759': ['CHRYSANTHEMUM POCKET BOOK '],\n",
              " '20760': ['GARDEN PATH POCKET BOOK'],\n",
              " '20761': ['BLUE PAISLEY SKETCHBOOK'],\n",
              " '20762': ['GREEN FERN SKETCHBOOK '],\n",
              " '20763': ['DAISY SKETCHBOOK '],\n",
              " '20764': ['ABSTRACT CIRCLES SKETCHBOOK '],\n",
              " '20765': ['CHRYSANTHEMUM SKETCHBOOK '],\n",
              " '20766': ['GARDEN PATH SKETCHBOOK'],\n",
              " '20767': ['BLUE PAISLEY JOURNAL '],\n",
              " '20768': ['GREEN FERN JOURNAL '],\n",
              " '20769': ['DAISY JOURNAL '],\n",
              " '20770': ['ABSTRACT CIRCLE JOURNAL '],\n",
              " '20771': ['CHRYSANTHEMUM  JOURNAL'],\n",
              " '20772': ['GARDEN PATH JOURNAL'],\n",
              " '20773': ['BLUE PAISLEY NOTEBOOK'],\n",
              " '20774': ['GREEN FERN NOTEBOOK'],\n",
              " '20775': ['DAISY NOTEBOOK '],\n",
              " '20777': ['CHRYSANTHEMUM NOTEBOOK'],\n",
              " '20778': ['GARDEN PATH NOTEBOOK '],\n",
              " '20780': ['BLACK EAR MUFF HEADPHONES'],\n",
              " '20781': ['GOLD EAR MUFF HEADPHONES'],\n",
              " '20782': ['CAMOUFLAGE EAR MUFF HEADPHONES'],\n",
              " '20785': ['FUSCHIA RETRO BAR STOOL'],\n",
              " '20793': ['BLUE TILED TRAY'],\n",
              " '20794': ['BLUE  TILE HOOK'],\n",
              " '20795': ['LARGE BLUE PROVENCAL CERAMIC BALL'],\n",
              " '20796': ['SMALL BLUE PROVENCAL CERAMIC BALL'],\n",
              " '20798': ['CLEAR MILKSHAKE GLASS'],\n",
              " '20801': ['LARGE PINK GLASS SUNDAE DISH'],\n",
              " '20802': ['SMALL GLASS SUNDAE DISH CLEAR'],\n",
              " '20803': ['SMALL PINK GLASS SUNDAE DISH'],\n",
              " '20816': ['GOLD FLOWER CUSHION COVER '],\n",
              " '20818': ['GOLD TEDDY BEAR'],\n",
              " '20819': ['SILVER TEDDY BEAR'],\n",
              " '20820': ['SILVER LOOKING MIRROR'],\n",
              " '20821': ['GOLDIE LOOKING MIRROR'],\n",
              " '20823': ['GOLD WINE GOBLET'],\n",
              " '20826': ['SILVER APERITIF GLASS'],\n",
              " '20827': ['GOLD APERITIF GLASS'],\n",
              " '20828': ['GLITTER BUTTERFLY CLIPS'],\n",
              " '20829': ['GLITTER HANGING BUTTERFLY STRING'],\n",
              " '20830': ['SILVER PHOTO FRAME'],\n",
              " '20831': ['GOLD PHOTO FRAME'],\n",
              " '20832': ['RED FLOCK LOVE HEART PHOTO FRAME'],\n",
              " '20835': ['FRENCH LATTICE CUSHION COVER '],\n",
              " '20836': ['FRENCH PAISLEY CUSHION COVER'],\n",
              " '20837': ['FRENCH FLORAL CUSHION COVER '],\n",
              " '20838': ['FRENCH LATTICE CUSHION COVER '],\n",
              " '20839': ['FRENCH PAISLEY CUSHION COVER '],\n",
              " '20840': ['FRENCH FLORAL CUSHION COVER '],\n",
              " '20845': ['ZINC HEART LATTICE 2 WALL PLANTER'],\n",
              " '20846': ['ZINC HEART LATTICE T-LIGHT HOLDER'],\n",
              " '20847': ['ZINC HEART LATTICE CHARGER LARGE'],\n",
              " '20848': ['ZINC HEART LATTICE CHARGER SMALL'],\n",
              " '20851': ['ZINC HEART LATTICE TRAY OVAL '],\n",
              " '20854': ['BLUE PATCH PURSE PINK HEART'],\n",
              " '20856': ['DENIM PATCH PURSE PINK BUTTERFLY'],\n",
              " '20857': ['BLUE ROSE PATCH PURSE PINK BUTTERFL'],\n",
              " '20861': ['GOLD COSMETIC BAG PINK STAR'],\n",
              " '20866': ['BLUE ROSE FABRIC MIRROR'],\n",
              " '20867': ['PINK ROSE FABRIC MIRROR'],\n",
              " '20868': ['SILVER FABRIC MIRROR'],\n",
              " '20869': ['GOLD FABRIC MIRROR'],\n",
              " '20878': ['SET/9 CHRISTMAS T-LIGHTS SCENTED '],\n",
              " '20886': ['BOX OF 9 PEBBLE CANDLES'],\n",
              " '20892': ['SET/3 TALL GLASS CANDLE HOLDER PINK'],\n",
              " '20893': ['HANGING BAUBLE T-LIGHT HOLDER SMALL'],\n",
              " '20894': ['HANGING BAUBLE T-LIGHT HOLDER LARGE'],\n",
              " '20897': ['VINTAGE NOTEBOOK PARIS DAYS'],\n",
              " '20898': ['VINTAGE NOTEBOOK TRAVELOGUE'],\n",
              " '20901': ['VINTAGE KEEPSAKE BOX PINK FLOWER'],\n",
              " '20902': ['VINTAGE KEEPSAKE BOX PARIS DAYS'],\n",
              " '20903': ['VINTAGE KEEPSAKE BOX TRAVELOGUE'],\n",
              " '20906': ['VINTAGE NOTEBOOK BEAUTY GIRL'],\n",
              " '20910': ['VINTAGE PHOTO ALBUM PARIS DAYS'],\n",
              " '20914': ['SET/5 RED RETROSPOT LID GLASS BOWLS'],\n",
              " '20931': ['BLUE POT PLANT CANDLE '],\n",
              " '20932': ['PINK POT PLANT CANDLE'],\n",
              " '20933': ['YELLOW POT PLANT CANDLE'],\n",
              " '20934': ['SET/3 POT PLANT CANDLES'],\n",
              " '20935': ['ROUND CACTUS CANDLE'],\n",
              " '20936': ['FORKED CACTUS CANDLE'],\n",
              " '20941': ['FROG CANDLE'],\n",
              " '20956': ['PORCELAIN T-LIGHT HOLDERS ASSORTED'],\n",
              " '20957': ['PORCELAIN HANGING BELL SMALL'],\n",
              " '20961': ['STRAWBERRY BATH SPONGE '],\n",
              " '20963': ['APPLE BATH SPONGE'],\n",
              " '20964': ['POLYESTER FILLER PAD 60x40cm'],\n",
              " '20966': ['SANDWICH BATH SPONGE'],\n",
              " '20967': ['GREY FLORAL FELTCRAFT SHOULDER BAG'],\n",
              " '20969': ['RED FLORAL FELTCRAFT SHOULDER BAG'],\n",
              " '20970': ['PINK FLORAL FELTCRAFT SHOULDER BAG'],\n",
              " '20971': ['PINK BLUE FELT CRAFT TRINKET BOX'],\n",
              " '20972': ['PINK CREAM FELT CRAFT TRINKET BOX '],\n",
              " '20973': ['12 PENCIL SMALL TUBE WOODLAND'],\n",
              " '20974': ['12 PENCILS SMALL TUBE SKULL'],\n",
              " '20975': ['12 PENCILS SMALL TUBE RED RETROSPOT'],\n",
              " '20977': ['36 PENCILS TUBE WOODLAND'],\n",
              " '20978': ['36 PENCILS TUBE SKULLS'],\n",
              " '20979': ['36 PENCILS TUBE RED RETROSPOT'],\n",
              " '20980': ['36 PENCILS TUBE POSY'],\n",
              " '20981': ['12 PENCILS TALL TUBE WOODLAND'],\n",
              " '20982': ['12 PENCILS TALL TUBE SKULLS'],\n",
              " '20983': ['12 PENCILS TALL TUBE RED RETROSPOT'],\n",
              " '20984': ['12 PENCILS TALL TUBE POSY'],\n",
              " '20985': ['HEART CALCULATOR'],\n",
              " '20986': ['BLUE CALCULATOR RULER'],\n",
              " '20992': ['JAZZ HEARTS PURSE NOTEBOOK'],\n",
              " '20996': ['JAZZ HEARTS ADDRESS BOOK'],\n",
              " '20997': ['ROSE DU SUD CUSHION COVER '],\n",
              " '20998': ['ROSE DU SUD OVEN GLOVE'],\n",
              " '21000': ['ROSE DU SUD COSMETICS BAG'],\n",
              " '21001': ['ROSE DU SUD WASHBAG '],\n",
              " '21002': ['ROSE DU SUD DRAWSTRING BAG'],\n",
              " '21003': ['ROSE DU SUD CUSHION COVER'],\n",
              " '21011': ['GLITTER SNOW PEAR TREE DECORATION'],\n",
              " '21012': ['ANTIQUE ALL GLASS CANDLESTICK'],\n",
              " '21014': ['SWISS CHALET TREE DECORATION '],\n",
              " '21015': ['DARK BIRD HOUSE TREE DECORATION'],\n",
              " '21018': ['BIRD BOX CHRISTMAS TREE DECORATION'],\n",
              " '21025': ['SPACE FROG'],\n",
              " '21026': ['SPACE OWL'],\n",
              " '21027': ['NINJA RABBIT PINK'],\n",
              " '21028': ['NINJA RABBIT BLACK'],\n",
              " '21030': ['SPACE CADET RED'],\n",
              " '21031': ['SPACE CADET BLACK'],\n",
              " '21032': ['SPACE CADET WHITE'],\n",
              " '21033': ['JUMBO BAG CHARLIE AND LOLA TOYS'],\n",
              " '21034': ['REX CASH+CARRY JUMBO SHOPPER'],\n",
              " '21035': ['SET/2 RED RETROSPOT TEA TOWELS '],\n",
              " '21038': ['SET/4 MODERN VINTAGE COTTON NAPKINS'],\n",
              " '21039': ['RED RETROSPOT SHOPPING BAG'],\n",
              " '21040': ['MODERN VINTAGE COTTON SHOPPING BAG'],\n",
              " '21041': ['RED RETROSPOT OVEN GLOVE DOUBLE'],\n",
              " '21042': ['RED RETROSPOT APRON '],\n",
              " '21043': ['APRON MODERN VINTAGE COTTON'],\n",
              " '21051': ['RIBBONS PURSE '],\n",
              " '21054': [\"NURSE'S BAG SOFT TOY\"],\n",
              " '21055': ['TOOL BOX SOFT TOY '],\n",
              " '21056': [\"DOCTOR'S BAG SOFT TOY\"],\n",
              " '21058': ['PARTY INVITES WOODLAND'],\n",
              " '21059': ['PARTY INVITES DINOSAURS'],\n",
              " '21060': ['PARTY INVITES BALLOON GIRL'],\n",
              " '21061': ['PARTY INVITES FOOTBALL'],\n",
              " '21062': ['PARTY INVITES SPACEMAN'],\n",
              " '21063': ['PARTY INVITES JAZZ HEARTS'],\n",
              " '21064': ['BOOM BOX SPEAKER BOYS'],\n",
              " '21065': ['BOOM BOX SPEAKER GIRLS'],\n",
              " '21066': ['VINTAGE RED MUG'],\n",
              " '21067': ['VINTAGE RED TEATIME MUG'],\n",
              " '21068': ['VINTAGE BILLBOARD LOVE/HATE MUG'],\n",
              " '21069': ['VINTAGE BILLBOARD TEA MUG'],\n",
              " '21070': ['VINTAGE BILLBOARD MUG '],\n",
              " '21071': ['VINTAGE BILLBOARD DRINK ME MUG'],\n",
              " '21078': ['SET/20 STRAWBERRY PAPER NAPKINS '],\n",
              " '21080': ['SET/20 RED RETROSPOT PAPER NAPKINS '],\n",
              " '21084': ['SET/6 COLLAGE PAPER CUPS'],\n",
              " '21086': ['SET/6 RED SPOTTY PAPER CUPS'],\n",
              " '21087': ['SET/6 POSIES PAPER CUPS'],\n",
              " '21088': ['SET/6 FRUIT SALAD PAPER CUPS'],\n",
              " '21089': ['SET/6 GREEN SPRING PAPER CUPS'],\n",
              " '21090': ['SET/6 COLLAGE PAPER PLATES'],\n",
              " '21094': ['SET/6 RED SPOTTY PAPER PLATES'],\n",
              " '21095': ['SET/6 POSIES PAPER PLATES'],\n",
              " '21096': ['SET/6 FRUIT SALAD  PAPER PLATES'],\n",
              " '21098': ['CHRISTMAS TOILET ROLL'],\n",
              " '21100': ['CHARLIE AND LOLA CHARLOTTE BAG'],\n",
              " '21106': ['CREAM SLICE FLANNEL CHOCOLATE SPOT '],\n",
              " '21107': ['CREAM SLICE FLANNEL PINK SPOT '],\n",
              " '21108': ['FAIRY CAKE FLANNEL ASSORTED COLOUR'],\n",
              " '21109': ['LARGE CAKE TOWEL CHOCOLATE SPOTS'],\n",
              " '21110': ['LARGE CAKE TOWEL PINK SPOTS'],\n",
              " '21111': ['SWISS ROLL TOWEL, CHOCOLATE  SPOTS'],\n",
              " '21112': ['SWISS ROLL TOWEL PINK  SPOTS'],\n",
              " '21114': ['LAVENDER SCENTED FABRIC HEART'],\n",
              " '21115': ['ROSE CARAVAN DOORSTOP'],\n",
              " '21116': ['OWL DOORSTOP'],\n",
              " '21117': ['BLOND DOLL DOORSTOP'],\n",
              " '21121': ['SET/10 RED POLKADOT PARTY CANDLES'],\n",
              " '21122': ['SET/10 PINK POLKADOT PARTY CANDLES'],\n",
              " '21123': ['SET/10 IVORY POLKADOT PARTY CANDLES'],\n",
              " '21124': ['SET/10 BLUE POLKADOT PARTY CANDLES'],\n",
              " '21125': ['SET 6 FOOTBALL CELEBRATION CANDLES'],\n",
              " '21126': ['SET OF 6 GIRLS CELEBRATION CANDLES'],\n",
              " '21128': ['GOLD FISHING GNOME'],\n",
              " '21129': ['SILVER FISHING GNOME '],\n",
              " '21131': ['GOLD STANDING GNOME'],\n",
              " '21132': ['SILVER STANDING GNOME   '],\n",
              " '21135': ['VICTORIAN  METAL POSTCARD SPRING'],\n",
              " '21136': ['PAINTED METAL PEARS ASSORTED'],\n",
              " '21137': ['BLACK RECORD COVER FRAME'],\n",
              " '21143': ['ANTIQUE GLASS HEART DECORATION '],\n",
              " '21144': ['PINK POODLE HANGING DECORATION '],\n",
              " '21145': ['ANTIQUE GLASS PLACE SETTING'],\n",
              " '21147': ['JINGLE BELLS TREE DECORATION'],\n",
              " '21154': ['RED RETROSPOT OVEN GLOVE '],\n",
              " '21155': ['RED RETROSPOT PEG BAG'],\n",
              " '21156': ['RETROSPOT CHILDRENS APRON'],\n",
              " '21157': ['RED RETROSPOT WASHBAG'],\n",
              " '21158': ['MOODY GIRL DOOR HANGER '],\n",
              " '21159': ['MOODY BOY  DOOR HANGER '],\n",
              " '21161': ['KEEP OUT BOYS DOOR HANGER '],\n",
              " '21162': ['TOXIC AREA  DOOR HANGER '],\n",
              " '21163': ['DO NOT TOUCH MY STUFF DOOR HANGER '],\n",
              " '21164': ['HOME SWEET HOME METAL SIGN '],\n",
              " '21165': ['BEWARE OF THE CAT METAL SIGN '],\n",
              " '21166': ['COOK WITH WINE METAL SIGN '],\n",
              " '21167': ['WHITE SAGE INCENSE'],\n",
              " '21169': [\"YOU'RE CONFUSING ME METAL SIGN \"],\n",
              " '21171': ['BATHROOM METAL SIGN '],\n",
              " '21172': ['PARTY METAL SIGN '],\n",
              " '21174': ['POTTERING IN THE SHED METAL SIGN'],\n",
              " '21175': ['GIN AND TONIC DIET METAL SIGN'],\n",
              " '21179': ['NO JUNK MAIL METAL SIGN'],\n",
              " '21181': ['PLEASE ONE PERSON METAL SIGN'],\n",
              " '21187': ['WHITE BELL HONEYCOMB PAPER GARLAND '],\n",
              " '21188': ['3D HEARTS  HONEYCOMB PAPER GARLAND'],\n",
              " '21189': ['WHITE HONEYCOMB PAPER GARLAND '],\n",
              " '21190': ['PINK HEARTS PAPER GARLAND'],\n",
              " '21191': ['LARGE WHITE HONEYCOMB PAPER BELL  '],\n",
              " '21192': ['WHITE BELL HONEYCOMB PAPER '],\n",
              " '21194': ['PINK  HONEYCOMB PAPER FAN'],\n",
              " '21195': ['PINK  HONEYCOMB PAPER BALL '],\n",
              " '21196': ['ROUND WHITE CONFETTI IN TUBE'],\n",
              " '21197': ['MULTICOLOUR  CONFETTI IN TUBE'],\n",
              " '21198': ['WHITE HEART CONFETTI IN TUBE'],\n",
              " '21199': ['PINK  HEART CONFETTI IN TUBE'],\n",
              " '21200': ['MULTICOLOUR HONEYCOMB PAPER GARLAND'],\n",
              " '21201': ['TROPICAL  HONEYCOMB PAPER GARLAND '],\n",
              " '21202': ['DOLLY HONEYCOMB GARLAND'],\n",
              " '21204': ['DAISIES  HONEYCOMB GARLAND '],\n",
              " '21205': ['MULTICOLOUR 3D BALLS GARLAND'],\n",
              " '21206': ['STRAWBERRY HONEYCOMB  GARLAND '],\n",
              " '21207': ['SKULL AND CROSSBONES  GARLAND '],\n",
              " '21208': ['PASTEL COLOUR HONEYCOMB FAN'],\n",
              " '21209': ['MULTICOLOUR HONEYCOMB FAN'],\n",
              " '21210': ['SET OF 72 RETROSPOT PAPER  DOILIES'],\n",
              " '21211': ['SET OF 72 SKULL PAPER  DOILIES'],\n",
              " '21212': ['PACK OF 72 RETROSPOT CAKE CASES'],\n",
              " '21213': ['PACK OF 72 SKULL CAKE CASES'],\n",
              " '21215': ['IVORY PAPER CUP CAKE CASES '],\n",
              " '21216': ['SET 3 RETROSPOT TEA,COFFEE,SUGAR'],\n",
              " '21217': ['RED RETROSPOT ROUND CAKE TINS'],\n",
              " '21218': ['RED SPOTTY BISCUIT TIN'],\n",
              " '21219': ['SET/4 BADGES BALLOON GIRL'],\n",
              " '21220': ['SET/4 BADGES DOGS'],\n",
              " '21221': ['SET/4 BADGES CUTE CREATURES'],\n",
              " '21222': ['SET/4 BADGES BEETLES'],\n",
              " '21224': ['SET/4 SKULL BADGES'],\n",
              " '21226': ['POCKET MIRROR WOODLAND'],\n",
              " '21228': ['POCKET MIRROR \"GLAMOROUS\"'],\n",
              " '21231': ['SWEETHEART CERAMIC TRINKET BOX'],\n",
              " '21232': ['STRAWBERRY CERAMIC TRINKET POT'],\n",
              " '21238': ['RED RETROSPOT CUP'],\n",
              " '21239': ['PINK  POLKADOT CUP'],\n",
              " '21240': ['BLUE POLKADOT CUP'],\n",
              " '21242': ['RED RETROSPOT PLATE '],\n",
              " '21243': ['PINK POLKADOT PLATE '],\n",
              " '21244': ['BLUE POLKADOT PLATE '],\n",
              " '21245': ['GREEN POLKADOT PLATE '],\n",
              " '21246': ['RED RETROSPOT BIG BOWL'],\n",
              " '21248': ['DOOR HANGER  MUM + DADS ROOM'],\n",
              " '21249': ['WOODLAND  HEIGHT CHART STICKERS '],\n",
              " '21250': ['SET OF SKULL WALL STICKERS'],\n",
              " '21251': ['DINOSAUR HEIGHT CHART STICKER SET'],\n",
              " '21253': ['SET OF PICTURE FRAME  STICKERS'],\n",
              " '21257': ['VICTORIAN SEWING BOX MEDIUM'],\n",
              " '21258': ['VICTORIAN SEWING BOX LARGE'],\n",
              " '21259': ['VICTORIAN SEWING BOX SMALL '],\n",
              " '21260': ['FIRST AID TIN'],\n",
              " '21261': ['GREEN GOOSE FEATHER CHRISTMAS TREE '],\n",
              " '21262': ['WHITE GOOSE FEATHER CHRISTMAS TREE '],\n",
              " '21263': ['GREEN GOOSE FEATHER TREE 60CM'],\n",
              " '21264': ['WHITE GOOSE FEATHER TREE 60CM '],\n",
              " '21265': ['PINK GOOSE FEATHER TREE 60CM'],\n",
              " '21269': ['ANTIQUE CREAM CUTLERY SHELF '],\n",
              " '21270': ['ANTIQUE CREAM CUTLERY CUPBOARD'],\n",
              " '21272': ['SALLE DE BAIN HOOK'],\n",
              " '21275': ['ZINC TOP  2 DOOR WOODEN SHELF '],\n",
              " '21277': ['FRENCH STYLE EMBOSSED HEART CABINET'],\n",
              " '21278': ['VINTAGE KITCHEN PRINT PUDDINGS'],\n",
              " '21279': ['VINTAGE KITCHEN PRINT FRUITS'],\n",
              " '21280': ['VINTAGE KITCHEN PRINT VEGETABLES'],\n",
              " '21281': ['VINTAGE KITCHEN PRINT SEAFOOD'],\n",
              " '21284': ['RETROSPOT CANDLE  SMALL'],\n",
              " '21285': ['RETROSPOT CANDLE  MEDIUM'],\n",
              " '21286': ['RETROSPOT CANDLE  LARGE'],\n",
              " '21287': ['SCENTED VELVET LOUNGE CANDLE '],\n",
              " '21288': ['STRIPEY CHOCOLATE NESTING BOXES'],\n",
              " '21289': ['LARGE STRIPES CHOCOLATE GIFT BAG'],\n",
              " '21291': ['SMALL POLKADOT CHOCOLATE GIFT BAG '],\n",
              " '21292': ['SMALL STRIPES CHOCOLATE GIFT BAG '],\n",
              " '21293': ['MIRRORED DOVE WALL DECORATION'],\n",
              " '21294': ['ETCHED GLASS COASTER'],\n",
              " '21306': ['SET/4 DAISY MIRROR MAGNETS'],\n",
              " '21307': ['SET/4 BUTTERFLY MIRROR MAGNETS'],\n",
              " '21310': ['CAPIZ CHANDELIER'],\n",
              " '21311': ['SET/4 BIRD MIRROR MAGNETS '],\n",
              " '21313': ['GLASS HEART T-LIGHT HOLDER '],\n",
              " '21314': ['SMALL GLASS HEART TRINKET POT'],\n",
              " '21316': ['SMALL CHUNKY GLASS ROMAN  BOWL'],\n",
              " '21317': ['GLASS SPHERE CANDLE STAND MEDIUM'],\n",
              " '21318': ['GLASS CHALICE BLUE SMALL '],\n",
              " '21319': ['GLASS CHALICE GREEN  SMALL '],\n",
              " '21320': ['GLASS CHALICE GREEN  LARGE '],\n",
              " '21324': ['HANGING MEDINA LANTERN SMALL'],\n",
              " '21326': ['AGED GLASS SILVER T-LIGHT HOLDER'],\n",
              " '21327': ['SKULLS WRITING SET '],\n",
              " '21328': ['BALLOONS  WRITING SET '],\n",
              " '21329': ['DINOSAURS  WRITING SET '],\n",
              " '21331': ['MOROCCAN BEATEN METAL DISH LARGE'],\n",
              " '21332': ['MOROCCAN BEATEN METAL MIRROR'],\n",
              " '21333': ['CLASSIC WHITE FRAME'],\n",
              " '21336': ['GOLD WASHBAG'],\n",
              " '21340': ['CLASSIC METAL BIRDCAGE PLANT HOLDER'],\n",
              " '21344': ['MOROCCAN BEATEN METAL DISH'],\n",
              " '21348': ['PINK SPOTS CHOCOLATE NESTING BOXES '],\n",
              " '21349': ['IVY HEART WREATH'],\n",
              " '21351': ['CINAMMON & ORANGE WREATH'],\n",
              " '21352': ['EUCALYPTUS & PINECONE  WREATH'],\n",
              " '21354': ['TOAST ITS - BEST MUM'],\n",
              " '21355': ['TOAST ITS - I LOVE YOU '],\n",
              " '21356': ['TOAST ITS - FAIRY FLOWER'],\n",
              " '21357': ['TOAST ITS - DINOSAUR'],\n",
              " '21358': ['TOAST ITS - HAPPY BIRTHDAY'],\n",
              " '21359': ['RELAX LARGE WOOD LETTERS'],\n",
              " '21360': ['JOY LARGE WOOD LETTERS'],\n",
              " '21361': ['LOVE LARGE WOOD LETTERS '],\n",
              " '21363': ['HOME SMALL WOOD LETTERS'],\n",
              " '21364': ['PEACE SMALL WOOD LETTERS'],\n",
              " '21365': ['MIRRORED WALL ART STARS'],\n",
              " '21366': ['MIRRORED WALL ART PHOTO FRAMES'],\n",
              " '21367': ['MIRRORED WALL ART GENTS'],\n",
              " '21368': ['MIRRORED WALL ART LADIES'],\n",
              " '21369': ['MIRRORED WALL ART SPLODGES'],\n",
              " '21370': ['MIRRORED WALL ART FOXY'],\n",
              " '21371': ['MIRRORED WALL ART POPPIES'],\n",
              " '21372': ['MIRRORED WALL ART TABLE LAMP'],\n",
              " '21373': ['MIRRORED WALL ART SNOWFLAKES'],\n",
              " '21374': ['MIRRORED WALL ART SKULLS'],\n",
              " '21375': ['LARGE CAMPHOR WOOD FIELD MUSHROOM '],\n",
              " '21376': ['LARGE  TALL CAMPHOR WOOD TOADSTOOL '],\n",
              " '21377': ['SMALL CAMPHOR WOOD FIELD  MUSHROOM'],\n",
              " '21378': ['SMALL TALL CAMPHOR WOOD TOADSTOOL'],\n",
              " '21379': ['CAMPHOR WOOD PORTOBELLO MUSHROOM'],\n",
              " '21380': ['WOODEN HAPPY BIRTHDAY GARLAND'],\n",
              " '21381': ['MINI WOODEN HAPPY BIRTHDAY GARLAND'],\n",
              " '21382': ['SET/4 SPRING FLOWER DECORATION'],\n",
              " '21383': ['PACK OF 12 STICKY BUNNIES'],\n",
              " '21385': ['IVORY HANGING DECORATION  HEART'],\n",
              " '21386': ['IVORY HANGING DECORATION  EGG'],\n",
              " '21389': ['IVORY HANGING DECORATION  BIRD'],\n",
              " '21390': ['FILIGRIS HEART WITH BUTTERFLY'],\n",
              " '21391': ['FRENCH LAVENDER SCENT HEART'],\n",
              " '21392': ['RED POLKADOT PUDDING BOWL'],\n",
              " '21393': ['BLUE POLKADOT PUDDING BOWL'],\n",
              " '21394': ['RED POLKADOT BEAKER '],\n",
              " '21395': ['BLUE POLKADOT BEAKER '],\n",
              " '21397': ['BLUE POLKADOT EGG CUP '],\n",
              " '21398': ['RED POLKADOT COFFEE  MUG'],\n",
              " '21399': ['BLUE POLKADOT COFFEE MUG'],\n",
              " '21400': ['RED PUDDING SPOON'],\n",
              " '21401': ['BLUE PUDDING SPOON'],\n",
              " '21402': ['RED  EGG  SPOON'],\n",
              " '21403': ['BLUE EGG  SPOON'],\n",
              " '21407': ['BROWN CHECK CAT DOORSTOP '],\n",
              " '21408': ['SPOTTY PINK DUCK DOORSTOP'],\n",
              " '21411': ['GINGHAM HEART  DOORSTOP RED'],\n",
              " '21412': ['VINTAGE GOLD TINSEL REEL'],\n",
              " '21413': ['PERIWINKLE T-LIGHT HOLDER'],\n",
              " '21414': ['SCALLOP SHELL SOAP DISH'],\n",
              " '21415': ['CLAM SHELL SMALL '],\n",
              " '21416': ['CLAM SHELL LARGE'],\n",
              " '21417': ['COCKLE SHELL DISH'],\n",
              " '21418': ['STARFISH SOAP DISH'],\n",
              " '21420': ['OYSTER TRINKET BOX'],\n",
              " '21421': ['PORCELAIN ROSE LARGE '],\n",
              " '21422': ['PORCELAIN ROSE SMALL'],\n",
              " '21424': ['WOODLAND STORAGE BOX LARGE '],\n",
              " '21425': ['SKULLS STORAGE BOX LARGE'],\n",
              " '21426': ['WOODLAND STORAGE BOX SMALL'],\n",
              " '21427': ['SKULLS STORAGE BOX SMALL'],\n",
              " '21428': ['SET3 BOOK BOX GREEN GINGHAM FLOWER '],\n",
              " '21429': ['RED GINGHAM ROSE JEWELLERY BOX'],\n",
              " '21430': ['SET/3 RED GINGHAM ROSE STORAGE BOX'],\n",
              " '21439': ['BASKET OF TOADSTOOLS'],\n",
              " '21441': ['BLUE BIRDHOUSE DECORATION'],\n",
              " '21442': ['GREEN BIRDHOUSE DECORATION'],\n",
              " '21445': ['12 PINK ROSE PEG PLACE SETTINGS'],\n",
              " '21446': ['12 RED ROSE PEG PLACE SETTINGS'],\n",
              " '21447': ['12 IVORY ROSE PEG PLACE SETTINGS'],\n",
              " '21448': ['12 DAISY PEGS IN WOOD BOX'],\n",
              " '21452': ['TOADSTOOL MONEY BOX'],\n",
              " '21454': ['PAINTED PINK RABBIT '],\n",
              " '21455': ['PAINTED YELLOW WOODEN DAISY'],\n",
              " '21456': ['2 PICTURE BOOK EGGS EASTER CHICKS'],\n",
              " '21457': ['2 PICTURE BOOK EGGS EASTER DUCKS'],\n",
              " '21458': ['2 PICTURE BOOK EGGS EASTER BUNNY'],\n",
              " '21459': ['YELLOW EASTER EGG HUNT START POST'],\n",
              " '21460': ['GREEN EASTER EGG HUNT START POST'],\n",
              " '21461': ['BLUE EASTER EGG HUNT START POST'],\n",
              " '21462': ['NURSERY A,B,C PAINTED LETTERS'],\n",
              " '21463': ['MIRRORED DISCO BALL '],\n",
              " '21464': ['DISCO BALL ROTATOR BATTERY OPERATED'],\n",
              " '21465': ['PINK FLOWER CROCHET FOOD COVER'],\n",
              " '21466': ['RED FLOWER CROCHET FOOD COVER'],\n",
              " '21467': ['CHERRY CROCHET FOOD COVER'],\n",
              " '21468': ['BUTTERFLY CROCHET FOOD COVER'],\n",
              " '21469': ['POLKA DOT RAFFIA FOOD COVER'],\n",
              " '21470': ['FLOWER VINE RAFFIA FOOD COVER'],\n",
              " '21471': ['STRAWBERRY RAFFIA FOOD COVER'],\n",
              " '21472': ['LADYBIRD + BEE RAFFIA FOOD COVER'],\n",
              " '21473': ['SWEETHEART CREAM STEEL TABLE RECT'],\n",
              " '21476': ['STEEL SWEETHEART ROUND TABLE CREAM'],\n",
              " '21479': ['WHITE SKULL HOT WATER BOTTLE '],\n",
              " '21481': ['FAWN BLUE HOT WATER BOTTLE'],\n",
              " '21484': ['CHICK GREY HOT WATER BOTTLE'],\n",
              " '21485': ['RETROSPOT HEART HOT WATER BOTTLE'],\n",
              " '21486': ['PINK HEART DOTS HOT WATER BOTTLE'],\n",
              " '21488': ['RED WHITE SCARF  HOT WATER BOTTLE'],\n",
              " '21494': ['ROTATING LEAVES T-LIGHT HOLDER'],\n",
              " '21495': ['SKULLS AND CROSSBONES WRAP'],\n",
              " '21497': ['FANCY FONTS BIRTHDAY WRAP'],\n",
              " '21498': ['RED RETROSPOT WRAP '],\n",
              " '21499': ['BLUE POLKADOT WRAP'],\n",
              " '21500': ['PINK POLKADOT WRAP '],\n",
              " '21503': ['TOYBOX  WRAP '],\n",
              " '21504': ['SKULLS GREETING CARD'],\n",
              " '21506': ['FANCY FONT BIRTHDAY CARD, '],\n",
              " '21507': ['ELEPHANT BIRTHDAY CARD '],\n",
              " '21508': ['VINTAGE KID DOLLY CARD '],\n",
              " '21509': ['COWBOYS AND INDIANS BIRTHDAY CARD '],\n",
              " '21518': ['BANK ACCOUNT  GREETING  CARD '],\n",
              " '21519': ['GIN & TONIC DIET GREETING CARD '],\n",
              " '21520': ['BOOZE & WOMEN GREETING CARD '],\n",
              " '21523': ['DOORMAT FANCY FONT HOME SWEET HOME'],\n",
              " '21524': ['DOORMAT SPOTTY HOME SWEET HOME'],\n",
              " '21527': ['RED RETROSPOT TRADITIONAL TEAPOT '],\n",
              " '21528': ['DAIRY MAID TRADITIONAL TEAPOT '],\n",
              " '21530': ['DAIRY MAID TOASTRACK'],\n",
              " '21531': ['RED RETROSPOT SUGAR JAM BOWL'],\n",
              " '21533': ['RETROSPOT LARGE MILK JUG'],\n",
              " '21534': ['DAIRY MAID LARGE MILK JUG'],\n",
              " '21535': ['RED RETROSPOT SMALL MILK JUG'],\n",
              " '21537': ['RED RETROSPOT PUDDING BOWL'],\n",
              " '21538': ['DAIRY MAID  PUDDING BOWL'],\n",
              " '21539': ['RED RETROSPOT BUTTER DISH'],\n",
              " '21544': ['SKULLS  WATER TRANSFER TATTOOS '],\n",
              " '21547': ['CERAMIC BIRDHOUSE CRESTED TIT SMALL'],\n",
              " '21555': ['CERAMIC STRAWBERRY TRINKET TRAY'],\n",
              " '21556': ['CERAMIC STRAWBERRY MONEY BOX'],\n",
              " '21557': ['SET OF 6 FUNKY BEAKERS'],\n",
              " '21558': ['SKULL LUNCH BOX WITH CUTLERY '],\n",
              " '21559': ['STRAWBERRY LUNCH BOX WITH CUTLERY'],\n",
              " '21561': ['DINOSAUR LUNCH BOX WITH CUTLERY'],\n",
              " '21562': ['HAWAIIAN GRASS SKIRT '],\n",
              " '21563': ['RED HEART SHAPE LOVE BUCKET '],\n",
              " '21564': ['PINK  HEART SHAPE LOVE BUCKET '],\n",
              " '21576': ['LETS GO SHOPPING COTTON TOTE BAG'],\n",
              " '21577': ['SAVE THE PLANET COTTON TOTE BAG'],\n",
              " '21578': ['WOODLAND DESIGN  COTTON TOTE BAG'],\n",
              " '21579': ['LOLITA  DESIGN  COTTON TOTE BAG'],\n",
              " '21580': ['RABBIT  DESIGN  COTTON TOTE BAG'],\n",
              " '21581': ['SKULLS  DESIGN  COTTON TOTE BAG'],\n",
              " '21584': ['RETROSPOT SMALL TUBE MATCHES'],\n",
              " '21586': ['KINGS CHOICE GIANT TUBE MATCHES'],\n",
              " '21587': ['COSY HOUR GIANT TUBE MATCHES'],\n",
              " '21588': ['RETROSPOT GIANT TUBE MATCHES'],\n",
              " '21591': ['COSY HOUR CIGAR BOX MATCHES '],\n",
              " '21592': ['RETROSPOT CIGAR BOX MATCHES '],\n",
              " '21609': ['SET 12 LAVENDER  BOTANICAL T-LIGHTS'],\n",
              " '21613': ['S/12 VANILLA  BOTANICAL T-LIGHTS'],\n",
              " '21614': ['SET OF 12 ROSE BOTANICAL T-LIGHTS'],\n",
              " '21615': ['4 LAVENDER BOTANICAL DINNER CANDLES'],\n",
              " '21616': ['4 PEAR BOTANICAL DINNER CANDLES'],\n",
              " '21617': ['4 LILY  BOTANICAL DINNER CANDLES'],\n",
              " '21618': ['4 WILDFLOWER BOTANICAL CANDLES'],\n",
              " '21619': ['4 VANILLA BOTANICAL CANDLES'],\n",
              " '21620': ['SET OF 4 ROSE BOTANICAL CANDLES'],\n",
              " '21621': ['VINTAGE UNION JACK BUNTING'],\n",
              " '21622': ['VINTAGE UNION JACK CUSHION COVER'],\n",
              " '21623': ['VINTAGE UNION JACK MEMOBOARD'],\n",
              " '21624': ['VINTAGE UNION JACK DOORSTOP'],\n",
              " '21625': ['VINTAGE UNION JACK APRON'],\n",
              " '21626': ['VINTAGE UNION JACK PENNANT'],\n",
              " '21627': ['ELEPHANT CARNIVAL POUFFE'],\n",
              " '21628': ['TRIANGULAR POUFFE VINTAGE '],\n",
              " '21629': ['SQUARE FLOOR CUSHION VINTAGE RED'],\n",
              " '21630': ['FLOOR CUSHION ELEPHANT CARNIVAL'],\n",
              " '21631': ['HIPPY CHIC DECORATIVE PARASOL'],\n",
              " '21632': ['VINTAGE PINK DECORATIVE PARASOL'],\n",
              " '21633': ['SUNFLOWER DECORATIVE PARASOL'],\n",
              " '21634': ['ASSORTED MINI MADRAS NOTEBOOK'],\n",
              " '21635': ['MADRAS NOTEBOOK LARGE '],\n",
              " '21636': ['MADRAS NOTEBOOK MEDIUM'],\n",
              " '21637': ['ASSORTED SANSKRIT MINI NOTEBOOK'],\n",
              " '21638': ['ASSORTED TUTTI FRUTTI NOTEBOOK'],\n",
              " '21640': ['ASSORTED TUTTI FRUTTI  FOB NOTEBOOK'],\n",
              " '21641': ['ASSORTED TUTTI FRUTTI KEYRING BALL'],\n",
              " '21642': ['ASSORTED TUTTI FRUTTI PEN'],\n",
              " '21643': ['ASSORTED TUTTI FRUTTI MIRROR'],\n",
              " '21644': ['ASSORTED TUTTI FRUTTI HEART BOX'],\n",
              " '21645': ['ASSORTED TUTTI FRUTTI ROUND BOX'],\n",
              " '21647': ['ASSORTED TUTTI FRUTTI LARGE PURSE'],\n",
              " '21648': ['ASSORTED TUTTI FRUTTI SMALL PURSE'],\n",
              " '21650': ['ASSORTED TUTTI FRUTTI BRACELET'],\n",
              " '21651': ['HANGING GLASS ETCHED TEALIGHT'],\n",
              " '21654': ['RIDGED GLASS FINGER BOWL'],\n",
              " '21655': ['HANGING RIDGE GLASS T-LIGHT HOLDER'],\n",
              " '21656': ['RIDGED GLASS POSY VASE '],\n",
              " '21657': ['MILK BOTTLE WITH GLASS STOPPER '],\n",
              " '21658': ['GLASS  BEURRE DISH'],\n",
              " '21661': ['VINTAGE GLASS TEA CADDY'],\n",
              " '21662': ['VINTAGE GLASS COFFEE CADDY'],\n",
              " '21664': ['RIDGED GLASS STORAGE JAR CREAM LID'],\n",
              " '21666': ['RIDGED GLASS T-LIGHT HOLDER'],\n",
              " '21667': ['GLASS CAKE COVER AND PLATE'],\n",
              " '21668': ['RED STRIPE CERAMIC DRAWER KNOB'],\n",
              " '21669': ['BLUE STRIPE CERAMIC DRAWER KNOB'],\n",
              " '21670': ['BLUE SPOT CERAMIC DRAWER KNOB'],\n",
              " '21671': ['RED SPOT CERAMIC DRAWER KNOB'],\n",
              " '21672': ['WHITE SPOT RED CERAMIC DRAWER KNOB'],\n",
              " '21673': ['WHITE SPOT BLUE CERAMIC DRAWER KNOB'],\n",
              " '21675': ['BUTTERFLIES STICKERS'],\n",
              " '21676': ['FLOWERS  STICKERS'],\n",
              " '21677': ['HEARTS  STICKERS'],\n",
              " '21678': ['PAISLEY PATTERN  STICKERS'],\n",
              " '21679': ['SKULLS  STICKERS'],\n",
              " '21680': ['WOODLAND  STICKERS'],\n",
              " '21681': ['GIANT MEDINA STAMPED METAL BOWL '],\n",
              " '21682': ['LARGE MEDINA STAMPED METAL BOWL '],\n",
              " '21683': ['MEDIUM MEDINA STAMPED METAL BOWL '],\n",
              " '21684': ['SMALL MEDINA STAMPED METAL BOWL '],\n",
              " '21686': ['MEDINA STAMPED METAL STOOL'],\n",
              " '21688': ['SILVER PLATE CANDLE BOWL SMALL'],\n",
              " '21689': ['SILVER VANILLA  FLOWER CANDLE POT'],\n",
              " '21690': ['SILVER  CANDLEPOT JARDIN '],\n",
              " '21692': ['SILVER LATTICE VANILLA CANDLE POT'],\n",
              " '21693': ['SMALL HAMMERED SILVER CANDLEPOT '],\n",
              " '21694': ['SMALL REGAL  SILVER CANDLEPOT '],\n",
              " '21695': ['SMALL SILVER FLOWER CANDLE POT'],\n",
              " '21696': ['SMALL SILVER TRELLIS CANDLEPOT'],\n",
              " '21698': ['MOCK LOBSTER FRIDGE MAGNET'],\n",
              " '21700': ['BIG DOUGHNUT FRIDGE MAGNETS'],\n",
              " '21703': ['BAG 125g SWIRLY MARBLES'],\n",
              " '21704': ['BAG 250g SWIRLY MARBLES'],\n",
              " '21705': ['BAG 500g SWIRLY MARBLES'],\n",
              " '21706': ['FOLDING UMBRELLA RED/WHITE POLKADOT'],\n",
              " '21707': ['FOLDING UMBRELLA BLACKBLUE POLKADOT'],\n",
              " '21708': ['FOLDING UMBRELLA CREAM POLKADOT'],\n",
              " '21709': ['FOLDING UMBRELLA CHOCOLATE POLKADOT'],\n",
              " '21710': ['FOLDING UMBRELLA PINKWHITE POLKADOT'],\n",
              " '21711': ['FOLDING UMBRELLA WHITE/RED POLKADOT'],\n",
              " '21713': ['CITRONELLA CANDLE FLOWERPOT'],\n",
              " '21714': ['CITRONELLA CANDLE GARDEN POT'],\n",
              " '21715': ['GIRLS VINTAGE TIN SEASIDE BUCKET'],\n",
              " '21716': ['BOYS VINTAGE TIN SEASIDE BUCKET'],\n",
              " '21717': ['EASTER TIN BUCKET'],\n",
              " '21718': ['RED METAL BEACH SPADE '],\n",
              " '21719': ['LOVELY BONBON STICKER SHEET'],\n",
              " '21720': ['CAKE SHOP  STICKER SHEET'],\n",
              " '21721': ['CANDY SHOP  STICKER SHEET'],\n",
              " '21722': ['SWEET PUDDING STICKER SHEET'],\n",
              " '21723': ['ALPHABET HEARTS STICKER SHEET'],\n",
              " '21724': ['PANDA AND BUNNIES STICKER SHEET'],\n",
              " '21725': ['SWEETIES  STICKERS'],\n",
              " '21726': ['MULTI HEARTS  STICKERS'],\n",
              " '21730': ['GLASS STAR FROSTED T-LIGHT HOLDER'],\n",
              " '21731': ['RED TOADSTOOL LED NIGHT LIGHT'],\n",
              " '21733': ['RED HANGING HEART T-LIGHT HOLDER'],\n",
              " '21735': ['TWO DOOR CURIO CABINET'],\n",
              " '21736': ['GOLD SCROLL GLASS T-LIGHT HOLDER'],\n",
              " '21738': ['COSY SLIPPER SHOES SMALL  RED '],\n",
              " '21739': ['COSY SLIPPER SHOES SMALL GREEN'],\n",
              " '21741': ['COSY SLIPPER SHOES LARGE GREEN'],\n",
              " '21742': ['LARGE ROUND WICKER PLATTER '],\n",
              " '21743': ['STAR PORTABLE TABLE LIGHT '],\n",
              " '21744': ['SNOWFLAKE PORTABLE TABLE LIGHT '],\n",
              " '21745': ['GAOLERS KEYS DECORATIVE GARDEN '],\n",
              " '21746': ['SMALL RED RETROSPOT WINDMILL'],\n",
              " '21747': ['SMALL SKULL WINDMILL'],\n",
              " '21749': ['LARGE RED RETROSPOT WINDMILL'],\n",
              " '21750': ['LARGE SKULL WINDMILL'],\n",
              " '21754': ['HOME BUILDING BLOCK WORD'],\n",
              " '21755': ['LOVE BUILDING BLOCK WORD'],\n",
              " '21756': ['BATH BUILDING BLOCK WORD'],\n",
              " '21757': ['LIGHTHOUSE PRINTED METAL SIGN'],\n",
              " '21758': ['VINTAGE SHELLS PRINT'],\n",
              " '21761': ['WOOD AND GLASS MEDICINE CABINET'],\n",
              " '21763': ['VINTAGE WOODEN BAR STOOL'],\n",
              " '21769': ['VINTAGE POST OFFICE CABINET'],\n",
              " '21770': ['OPEN CLOSED METAL SIGN'],\n",
              " '21773': ['DECORATIVE ROSE BATHROOM BOTTLE'],\n",
              " '21774': ['DECORATIVE CATS BATHROOM BOTTLE'],\n",
              " '21775': ['DECORATIVE FLORE BATHROOM BOTTLE'],\n",
              " '21777': ['RECIPE BOX WITH METAL HEART'],\n",
              " '21781': ['MA CAMPAGNE CUTLERY BOX'],\n",
              " '21784': ['SHOE SHINE BOX '],\n",
              " '21785': ['RAIN PONCHO '],\n",
              " '21786': ['POLKADOT RAIN HAT '],\n",
              " '21787': ['RAIN PONCHO RETROSPOT'],\n",
              " '21788': ['KIDS RAIN MAC BLUE'],\n",
              " '21789': ['KIDS RAIN MAC PINK'],\n",
              " '21790': ['VINTAGE SNAP CARDS'],\n",
              " '21791': ['VINTAGE HEADS AND TAILS CARD GAME '],\n",
              " '21792': ['CLASSIC FRENCH STYLE BASKET GREEN '],\n",
              " '21793': ['CLASSIC FRENCH STYLE BASKET BROWN'],\n",
              " '21794': ['CLASSIC FRENCH STYLE BASKET NATURAL'],\n",
              " '21801': ['CHRISTMAS TREE DECORATION WITH BELL'],\n",
              " '21802': ['CHRISTMAS TREE HEART DECORATION'],\n",
              " '21803': ['CHRISTMAS TREE STAR DECORATION'],\n",
              " '21804': ['WHITE CHRISTMAS GARLAND STARS TREES'],\n",
              " '21807': ['WHITE CHRISTMAS STAR DECORATION'],\n",
              " '21808': ['CHRISTMAS GARLAND STARS,TREES'],\n",
              " '21809': ['CHRISTMAS HANGING TREE WITH BELL'],\n",
              " '21810': ['CHRISTMAS HANGING STAR WITH BELL'],\n",
              " '21811': ['HANGING HEART WITH BELL'],\n",
              " '21812': ['GARLAND WITH HEARTS AND BELLS'],\n",
              " '21813': ['GARLAND WITH STARS AND BELLS'],\n",
              " '21814': ['HEART T-LIGHT HOLDER '],\n",
              " '21815': ['STAR  T-LIGHT HOLDER '],\n",
              " '21816': ['CHRISTMAS TREE T-LIGHT HOLDER'],\n",
              " '21817': ['GLITTER CHRISTMAS TREE'],\n",
              " '21818': ['GLITTER HEART DECORATION'],\n",
              " '21819': ['GLITTER CHRISTMAS STAR '],\n",
              " '21820': ['GLITTER HEART GARLAND WITH BELLS '],\n",
              " '21821': ['GLITTER STAR GARLAND WITH BELLS '],\n",
              " '21822': ['GLITTER CHRISTMAS TREE WITH BELLS'],\n",
              " '21823': ['PAINTED METAL HEART WITH HOLLY BELL'],\n",
              " '21824': ['PAINTED METAL STAR WITH HOLLY BELLS'],\n",
              " '21826': ['EIGHT PIECE DINOSAUR SET'],\n",
              " '21827': ['EIGHT PIECE CREEPY CRAWLIE SET'],\n",
              " '21828': ['EIGHT PIECE SNAKE  SET'],\n",
              " '21829': ['DINOSAUR KEYRINGS ASSORTED'],\n",
              " '21830': ['ASSORTED CREEPY CRAWLIES'],\n",
              " '21832': ['CHOCOLATE CALCULATOR'],\n",
              " '21833': ['CAMOUFLAGE LED TORCH'],\n",
              " '21836': ['GINGHAM OVEN GLOVE RED HEART '],\n",
              " '21839': ['MUMMY MOUSE RED GINGHAM RIBBON'],\n",
              " '21841': ['BABY MOUSE RED GINGHAM DRESS'],\n",
              " '21843': ['RED RETROSPOT CAKE STAND'],\n",
              " '21844': ['RED RETROSPOT MUG'],\n",
              " '21845': ['DAIRY MAID STRIPE MUG'],\n",
              " '21846': ['PINK DIAMANTE PEN IN GIFT BOX'],\n",
              " '21847': ['GREEN  DIAMANTE PEN IN GIFT BOX'],\n",
              " '21849': ['SILVER DIAMANTE PEN IN GIFT BOX'],\n",
              " '21850': ['BLUE  DIAMANTE PEN IN GIFT BOX'],\n",
              " '21851': ['LILAC DIAMANTE PEN IN GIFT BOX'],\n",
              " '21864': ['UNION JACK FLAG PASSPORT COVER '],\n",
              " '21865': ['PINK UNION JACK  PASSPORT COVER '],\n",
              " '21866': ['UNION JACK FLAG LUGGAGE TAG'],\n",
              " '21867': ['PINK UNION JACK  LUGGAGE TAG'],\n",
              " '21868': ['POTTING SHED TEA MUG'],\n",
              " '21870': ['I CAN ONLY PLEASE ONE PERSON MUG'],\n",
              " '21871': ['SAVE THE PLANET MUG'],\n",
              " '21872': ['GLAMOROUS  MUG'],\n",
              " '21873': [\"IF YOU CAN'T STAND THE HEAT MUG\"],\n",
              " '21874': ['GIN AND TONIC MUG'],\n",
              " '21875': ['KINGS CHOICE MUG'],\n",
              " '21876': ['POTTERING MUG'],\n",
              " '21877': ['HOME SWEET HOME MUG'],\n",
              " '21878': ['PACK OF 6 SANDCASTLE FLAGS ASSORTED'],\n",
              " '21879': ['HEARTS GIFT TAPE'],\n",
              " '21880': ['RED RETROSPOT TAPE'],\n",
              " '21881': ['CUTE CATS TAPE'],\n",
              " '21882': ['SKULLS TAPE'],\n",
              " '21883': ['STARS GIFT TAPE '],\n",
              " '21884': ['CAKES AND BOWS GIFT  TAPE'],\n",
              " '21888': ['BINGO SET'],\n",
              " '21889': ['WOODEN BOX OF DOMINOES'],\n",
              " '21890': ['S/6 WOODEN SKITTLES IN COTTON BAG'],\n",
              " '21891': ['TRADITIONAL WOODEN SKIPPING ROPE'],\n",
              " '21892': ['TRADITIONAL WOODEN CATCH CUP GAME '],\n",
              " '21894': ['POTTING SHED SEED ENVELOPES'],\n",
              " '21895': [\"POTTING SHED SOW 'N' GROW SET\"],\n",
              " '21896': ['POTTING SHED TWINE'],\n",
              " '21897': ['POTTING SHED CANDLE CITRONELLA'],\n",
              " '21898': ['POTTING SHED ROSE CANDLE'],\n",
              " '21899': ['GARAGE KEY FOB'],\n",
              " '21900': ['KEY FOB , SHED'],\n",
              " '21901': ['KEY FOB , BACK DOOR '],\n",
              " '21902': ['KEY FOB , FRONT  DOOR '],\n",
              " '21903': ['MAN FLU METAL SIGN'],\n",
              " '21904': ['HOUSE WRECKING METAL SIGN '],\n",
              " '21905': ['MORE BUTTER METAL SIGN '],\n",
              " '21906': ['PHARMACIE FIRST AID TIN'],\n",
              " '21907': [\"I'M ON HOLIDAY METAL SIGN\"],\n",
              " '21908': ['CHOCOLATE THIS WAY METAL SIGN'],\n",
              " '21910': ['WAY OUT METAL SIGN '],\n",
              " '21911': ['GARDEN METAL SIGN '],\n",
              " '21912': ['VINTAGE SNAKES & LADDERS'],\n",
              " '21913': ['VINTAGE SEASIDE JIGSAW PUZZLES'],\n",
              " '21914': ['BLUE HARMONICA IN BOX '],\n",
              " '21915': ['RED  HARMONICA IN BOX '],\n",
              " '21916': ['SET 12 RETRO WHITE CHALK STICKS'],\n",
              " '21917': ['SET 12 KIDS  WHITE CHALK STICKS'],\n",
              " '21918': ['SET 12 KIDS COLOUR  CHALK STICKS'],\n",
              " '21922': ['UNION STRIPE WITH FRINGE  HAMMOCK'],\n",
              " '21925': ['UNION STRIPE CUSHION COVER '],\n",
              " '21926': ['RED/CREAM STRIPE CUSHION COVER '],\n",
              " '21927': ['BLUE/CREAM STRIPE CUSHION COVER '],\n",
              " '21928': ['JUMBO BAG SCANDINAVIAN BLUE PAISLEY'],\n",
              " '21929': ['JUMBO BAG PINK VINTAGE PAISLEY'],\n",
              " '21930': ['JUMBO STORAGE BAG SKULLS'],\n",
              " '21931': ['JUMBO STORAGE BAG SUKI'],\n",
              " '21932': ['SCANDINAVIAN PAISLEY PICNIC BAG'],\n",
              " '21933': ['PINK VINTAGE PAISLEY PICNIC BAG'],\n",
              " '21934': ['SKULL SHOULDER BAG'],\n",
              " '21935': ['SUKI  SHOULDER BAG'],\n",
              " '21936': ['RED RETROSPOT PICNIC BAG'],\n",
              " '21937': ['STRAWBERRY   PICNIC BAG'],\n",
              " '21942': ['SKULLS DESIGN FLANNEL'],\n",
              " '21943': ['CAKES AND RABBITS DESIGN FLANNEL '],\n",
              " '21944': ['KITTENS DESIGN FLANNEL'],\n",
              " '21945': ['STRAWBERRIES  DESIGN FLANNEL '],\n",
              " '21946': ['PARTY TIME DESIGN FLANNEL'],\n",
              " '21947': ['SET OF 6 HEART CHOPSTICKS'],\n",
              " '21948': ['SET OF 6 CAKE CHOPSTICKS'],\n",
              " '21949': ['SET OF 6 STRAWBERRY CHOPSTICKS'],\n",
              " '21955': ['DOORMAT UNION JACK GUNS AND ROSES'],\n",
              " '21967': ['PACK OF 12 SKULL TISSUES'],\n",
              " '21972': ['SET OF 36 DINOSAUR PAPER DOILIES'],\n",
              " '21973': ['SET OF 36 MUSHROOM PAPER DOILIES'],\n",
              " '21974': ['SET OF 36 PAISLEY FLOWER DOILIES'],\n",
              " '21975': ['PACK OF 60 DINOSAUR CAKE CASES'],\n",
              " '21976': ['PACK OF 60 MUSHROOM CAKE CASES'],\n",
              " '21977': ['PACK OF 60 PINK PAISLEY CAKE CASES'],\n",
              " '21980': ['PACK OF 12 RED RETROSPOT TISSUES '],\n",
              " '21981': ['PACK OF 12 WOODLAND TISSUES '],\n",
              " '21982': ['PACK OF 12 SUKI TISSUES '],\n",
              " '21983': ['PACK OF 12 BLUE PAISLEY TISSUES '],\n",
              " '21984': ['PACK OF 12 PINK PAISLEY TISSUES '],\n",
              " '21985': ['PACK OF 12 HEARTS DESIGN TISSUES '],\n",
              " '21986': ['PACK OF 12 PINK POLKADOT TISSUES'],\n",
              " '21987': ['PACK OF 6 SKULL PAPER CUPS'],\n",
              " '21988': ['PACK OF 6 SKULL PAPER PLATES'],\n",
              " '21989': ['PACK OF 20 SKULL PAPER NAPKINS'],\n",
              " '21990': ['MODERN FLORAL STATIONERY SET'],\n",
              " '21991': ['BOHEMIAN COLLAGE STATIONERY SET'],\n",
              " '21992': ['VINTAGE PAISLEY STATIONERY SET'],\n",
              " '21993': ['FLORAL FOLK STATIONERY SET'],\n",
              " '22021': ['BLUE FELT EASTER EGG BASKET'],\n",
              " '22023': ['EMPIRE BIRTHDAY CARD'],\n",
              " '22024': ['RAINY LADIES BIRTHDAY CARD'],\n",
              " '22025': ['RING OF ROSES BIRTHDAY CARD'],\n",
              " '22026': ['BANQUET BIRTHDAY  CARD  '],\n",
              " '22027': ['TEA PARTY BIRTHDAY CARD'],\n",
              " '22028': ['PENNY FARTHING BIRTHDAY CARD'],\n",
              " '22029': ['SPACEBOY BIRTHDAY CARD'],\n",
              " '22030': ['SWALLOWS GREETING CARD'],\n",
              " '22031': ['BOTANICAL LAVENDER BIRTHDAY CARD'],\n",
              " '22032': ['BOTANICAL LILY GREETING CARD'],\n",
              " '22033': ['BOTANICAL ROSE GREETING CARD'],\n",
              " '22034': ['ROBIN CHRISTMAS CARD'],\n",
              " '22035': ['VINTAGE CARAVAN GREETING CARD '],\n",
              " '22037': ['ROBOT BIRTHDAY CARD'],\n",
              " '22038': ['BOTANICAL LAVENDER GIFT WRAP '],\n",
              " '22039': ['BOTANICAL LILY GIFT WRAP'],\n",
              " '22040': ['BOTANICAL ROSE GIFT WRAP'],\n",
              " '22041': ['RECORD FRAME 7\" SINGLE SIZE '],\n",
              " '22042': ['CHRISTMAS CARD SINGING ANGEL'],\n",
              " '22043': ['CHRISTMAS CARD SCREEN PRINT '],\n",
              " '22044': ['CHRISTMAS CARD STACK OF PRESENTS'],\n",
              " '22045': ['SPACEBOY GIFT WRAP'],\n",
              " '22046': ['TEA PARTY  WRAPPING PAPER '],\n",
              " '22047': ['EMPIRE GIFT WRAP'],\n",
              " '22048': ['BIRTHDAY BANQUET GIFT WRAP'],\n",
              " '22049': ['WRAP CHRISTMAS SCREEN PRINT'],\n",
              " '22050': ['PINK PAISLEY ROSE GIFT WRAP'],\n",
              " '22051': ['BLUE SCANDINAVIAN PAISLEY WRAP'],\n",
              " '22052': ['VINTAGE CARAVAN GIFT WRAP'],\n",
              " '22053': ['EMPIRE DESIGN ROSETTE'],\n",
              " '22055': ['MINI CAKE STAND  HANGING STRAWBERY'],\n",
              " '22057': ['CERAMIC PLATE STRAWBERRY DESIGN'],\n",
              " '22059': ['CERAMIC STRAWBERRY DESIGN MUG'],\n",
              " '22060': ['LARGE CAKE STAND HANGING HEARTS'],\n",
              " '22061': ['LARGE CAKE STAND  HANGING STRAWBERY'],\n",
              " '22062': ['CERAMIC BOWL WITH LOVE HEART DESIGN'],\n",
              " '22063': ['CERAMIC BOWL WITH STRAWBERRY DESIGN'],\n",
              " '22064': ['PINK DOUGHNUT TRINKET POT '],\n",
              " '22065': ['CHRISTMAS PUDDING TRINKET POT '],\n",
              " '22066': ['LOVE HEART TRINKET POT'],\n",
              " '22067': ['CHOC TRUFFLE GOLD TRINKET POT '],\n",
              " '22068': ['BLACK PIRATE TREASURE CHEST'],\n",
              " '22069': ['BROWN  PIRATE TREASURE CHEST '],\n",
              " '22070': ['SMALL RED RETROSPOT MUG IN BOX '],\n",
              " '22071': ['SMALL WHITE RETROSPOT MUG IN BOX '],\n",
              " '22072': ['RED RETROSPOT TEA CUP AND SAUCER '],\n",
              " '22073': ['RED RETROSPOT STORAGE JAR'],\n",
              " '22074': ['6 RIBBONS SHIMMERING PINKS '],\n",
              " '22075': ['6 RIBBONS ELEGANT CHRISTMAS '],\n",
              " '22076': ['6 RIBBONS EMPIRE  '],\n",
              " '22077': ['6 RIBBONS RUSTIC CHARM'],\n",
              " '22078': ['RIBBON REEL LACE DESIGN '],\n",
              " '22079': ['RIBBON REEL HEARTS DESIGN '],\n",
              " '22080': ['RIBBON REEL POLKADOTS '],\n",
              " '22081': ['RIBBON REEL FLORA + FAUNA '],\n",
              " '22082': ['RIBBON REEL STRIPES DESIGN '],\n",
              " '22083': ['PAPER CHAIN KIT RETROSPOT'],\n",
              " '22084': ['PAPER CHAIN KIT EMPIRE'],\n",
              " '22085': ['PAPER CHAIN KIT SKULLS '],\n",
              " '22086': [\"PAPER CHAIN KIT 50'S CHRISTMAS \"],\n",
              " '22087': ['PAPER BUNTING WHITE LACE'],\n",
              " '22088': ['PAPER BUNTING COLOURED LACE'],\n",
              " '22089': ['PAPER BUNTING VINTAGE PAISLEY'],\n",
              " '22090': ['PAPER BUNTING RETROSPOT'],\n",
              " '22091': ['EMPIRE TISSUE BOX'],\n",
              " '22092': ['BLUE PAISLEY TISSUE BOX'],\n",
              " '22093': ['MOTORING TISSUE BOX'],\n",
              " '22094': ['RED RETROSPOT TISSUE BOX'],\n",
              " '22095': ['LADS ONLY TISSUE BOX'],\n",
              " '22096': ['PINK PAISLEY SQUARE TISSUE BOX '],\n",
              " '22097': ['SWALLOW SQUARE TISSUE BOX'],\n",
              " '22098': ['BOUDOIR SQUARE TISSUE BOX'],\n",
              " '22099': ['CARAVAN SQUARE TISSUE BOX'],\n",
              " ...}"
            ]
          },
          "metadata": {
            "tags": []
          },
          "execution_count": 50
        }
      ]
    },
    {
      "cell_type": "code",
      "metadata": {
        "id": "Bts2wn6oR_ZY",
        "colab_type": "code",
        "colab": {
          "base_uri": "https://localhost:8080/",
          "height": 34
        },
        "outputId": "e0a79276-3de8-42a8-d1fb-597f717af40a"
      },
      "source": [
        "#Test the dictionary\n",
        "products_dict['16162L']"
      ],
      "execution_count": 51,
      "outputs": [
        {
          "output_type": "execute_result",
          "data": {
            "text/plain": [
              "['THE KING GIFT BAG']"
            ]
          },
          "metadata": {
            "tags": []
          },
          "execution_count": 51
        }
      ]
    },
    {
      "cell_type": "code",
      "metadata": {
        "id": "fgSKivdrirxG",
        "colab_type": "code",
        "colab": {}
      },
      "source": [
        "#Define the top 6  similar products for fasttext model\n",
        "def similar_products(v,n=6):\n",
        "    ms=model_ft.similar_by_vector(v,topn=n+1)\n",
        "    return ms\n",
        "    #extract the name and similarity\n",
        "    #new_ms=[]\n",
        "    #for j in ms:\n",
        "        #pair=(products_dict[j[0][0],j[1]])\n",
        "        #new_ms.append(pair)\n",
        "    #return new_ms\n",
        "    "
      ],
      "execution_count": 52,
      "outputs": []
    },
    {
      "cell_type": "code",
      "metadata": {
        "id": "6SC7seTFiyMT",
        "colab_type": "code",
        "colab": {
          "base_uri": "https://localhost:8080/",
          "height": 136
        },
        "outputId": "d13dd0b4-45ff-4eae-af53-24820b62733a"
      },
      "source": [
        "similar_products(model_ft['17109D'])"
      ],
      "execution_count": 53,
      "outputs": [
        {
          "output_type": "execute_result",
          "data": {
            "text/plain": [
              "[('17109D', 1.0),\n",
              " ('17107D', 0.7641779184341431),\n",
              " ('22769', 0.7364847660064697),\n",
              " ('21112', 0.6938855648040771),\n",
              " ('85103', 0.6911485195159912),\n",
              " ('35915C', 0.6852931976318359),\n",
              " ('35915B', 0.6817309856414795)]"
            ]
          },
          "metadata": {
            "tags": []
          },
          "execution_count": 53
        }
      ]
    },
    {
      "cell_type": "code",
      "metadata": {
        "id": "xttVADQBR_Zk",
        "colab_type": "code",
        "colab": {}
      },
      "source": [
        "from gensim.models import Doc2Vec"
      ],
      "execution_count": 10,
      "outputs": []
    },
    {
      "cell_type": "code",
      "metadata": {
        "id": "7I-N9BwubmCX",
        "colab_type": "code",
        "colab": {}
      },
      "source": [
        "#dm - 1 means distributed memory similar to Word2vec CBOW\n",
        "#Distributed Memory model preserves the word order in a document \n",
        "#100 dime vector for embedding ( size = 50)\n",
        "#epochs = 50\n",
        "#min_count =2 indicates words that should appear in minimum of 2 documents - less occurance would be discarded\n",
        "#'alpha' is learning-rate,"
      ],
      "execution_count": null,
      "outputs": []
    },
    {
      "cell_type": "code",
      "metadata": {
        "id": "hVBN8QKhbhf6",
        "colab_type": "code",
        "colab": {}
      },
      "source": [
        "Docmodel = Doc2Vec(size=100,\n",
        "                alpha=0.025, \n",
        "                min_alpha=0.00025,\n",
        "                min_count=2,\n",
        "                dm =1)"
      ],
      "execution_count": 67,
      "outputs": []
    },
    {
      "cell_type": "code",
      "metadata": {
        "id": "qgfxuLoXfoMc",
        "colab_type": "code",
        "colab": {
          "base_uri": "https://localhost:8080/",
          "height": 34
        },
        "outputId": "f9bdc951-720f-4189-cff8-47a83479564d"
      },
      "source": [
        "print(Docmodel)"
      ],
      "execution_count": 68,
      "outputs": [
        {
          "output_type": "stream",
          "text": [
            "Doc2Vec(dm/m,d100,n5,w5,mc2,s0.001,t3)\n"
          ],
          "name": "stdout"
        }
      ]
    },
    {
      "cell_type": "code",
      "metadata": {
        "id": "KaWU1SGsiCWO",
        "colab_type": "code",
        "colab": {}
      },
      "source": [
        "#Doc2vec requires the documents in tagged documents form\n",
        "from gensim.models.doc2vec import TaggedDocument"
      ],
      "execution_count": 69,
      "outputs": []
    },
    {
      "cell_type": "code",
      "metadata": {
        "id": "hkPfSGjXUWzR",
        "colab_type": "code",
        "colab": {}
      },
      "source": [
        "train_text=[TaggedDocument(words=sent , tags=[index]) for index,sent in enumerate(purchases_train) ]"
      ],
      "execution_count": 56,
      "outputs": []
    },
    {
      "cell_type": "code",
      "metadata": {
        "id": "L8zJvWh8lVMD",
        "colab_type": "code",
        "colab": {
          "base_uri": "https://localhost:8080/",
          "height": 54
        },
        "outputId": "dbd0c160-d29e-4ad5-bf32-7d4385769653"
      },
      "source": [
        "#assign first setnce \n",
        "train_text[2]"
      ],
      "execution_count": 87,
      "outputs": [
        {
          "output_type": "execute_result",
          "data": {
            "text/plain": [
              "TaggedDocument(words=['84947', '22214', '48187', '48173C', '48194', '48184', '22121', '21755', '22975', '22988', '22977', '22921', '22916', '22919', '22917', '22920', '22918', '22798', '22800', '22731', '22973', '22972', '22974', '22969', '21326', '22729', '22730', '22624', '22960', '22961', '22110', '21484', '22910', '21591', '22733', '22086', '22909', '22755', '22754', '22753', '22491', '22489', '22563', '22564', '23233', '23231', '23230', '23232', '21927', '21926', '21925', '22744', '22334', '22077', '21059', '22488', '22457', '22429', '22053', '82482', '82494L', '22766', '84949', '22637', '21340', '71459', '22495', '85053', '37379A', '84792', '21668', '21671', '21672', '22496', '22178', '21658', '22852', '85144', '37333', '22798', '21314', '84946', '85169A', '85169D', '85169B', '84951B', '22789', '22778', '22777', '22970', '90145', '90160B', '90160C', '90161B', '90161C', '90072', '90073', '22469', '22294', '22565', '17164B', '21788', '21789', '21679', '21544', '21224', '22550', '21704', '22924', '21915', '21787', '21563', '21914', '22674', '21889', '22561', '79321', '22652', '21580', '21579', '20698', '20697', '21495', '84507B', '22176', '21829', '21100', '22175', '21358', '21354', '21989', '21080', '85184C', '22432', '22431', '21479', '21485', '22113', '21481', '21918', '21917', '21790', '22653', '22557', '22553', '79160', '22328', '22326', '21558', '21987', '85227', '21357', '21355', '21913', '21912', '22358', '79191D', '79191C', '79191B', '22357', '21071', '37370', '21348', '22973', '22066', '21877', '21874', '37343', '22745', '22746', '22747', '22748', '21291', '21830', '21731', '20727', '20728', '21888', '82616C', '22549', '22714', '22468', '22179', '79302M', '21791', '22037', '22027', '79302M', '21527', '79321', '21213', '21531', '44091A', '16235', '22915', '21446', '21447', '20977', '22209', '22208', '22210', '21564', '21563', '21915', '21914', '84673B', '22746', '22747', '22748', '22745', '17084R', '22744', '22023', '22662', '21327', '21328', '37413', '20772', '20771', '22189', '84992', '22951', '21212', '22417', '84792', '22521', '22520', '22523', '22522', '84199', '22560', '21588', '22417', '84992', '22951', '21212', '21975', '21790', '21558', '21559', '21070', '21870', '22553', '21889', '23002', '23006', '22995', '22996', '23003', '22997', '23000', '84508C', '21985', '84828', '22367', '47591D', '22964', '84828', '22804', '22515', '22311', '22332', '22147', '22021', '85206A', '15036', '22179', '21731', '79321', '15044C', '15044D', '20971', '21718', '21715', '21679', '22483', '22356', '16207A', '84508C', '22175', '22176', '44092B', '84006', '22750', '84077', '21544', '22693', '21790', '79302M', '22663', '21929', '22386', '20685', '48184', '48187', '48116', '21894', '21896', '22962', '22980', '22979', '22982', '21713', '22178', '84946', '20886', '22963', '22716', '22714', '22712', '21069', '22429', '22989', '21421', '35809B', '22907', '20761', '20764', '85132B', '85132A', '85132C', '23050', '23049', '22431', '23052', '23053', '90000D', '90000A', '90198B', '90198A', '90201B', '90065A', '90201D', '90081C', '90082B', '90082A', '90201C', '90201A', '90162B', '90162C', '90058B', '90200E', '90200D', '90200D', '90200B', '90200A', '90149', '90144', '90194', '90013C', '90072', '23230', '22176', '20711', '21033', '85099F', '21931', '85123A', '23207', '22662', '85099B', '21930', '22997', '22994', '22995', '22996', '23000', '21770', '23207', '21718', '84673A', '15036', '21124', '21121', '21122', '21715', '15044C', '15044D', '15044B', '15044A', '22749', '22131', '21069', '21066', '21871', '71477', '84992', '22951', '22303', '21564', '79191B', '21731', '79191C', '23147', '23147', '22085', '22553', '84507C', '16207A', '22483', '22561', '79321', '22176', '22175', '90200B', '79191C', '79321', '22468', '21731', '79302M', '23108', '23084', '21558', '23245', '84507C', '22176', '22175', '21716', '21212', '22998', '22996', '23000', '22470', '22748', '21878', '21718', '22457', '20840', '20839', '21311', '22692', '21524', '48116', '20685', '48173C', '21794', '84581', '20697', '23146', '23322', '10133', '23298', '82494L', '23093', '23245', '23190', '23192', '23191', '85049E', '85049H', '85049C', '85049G', '85049D', '22375', '22372', '20886', '22670', '23182', '22675', '22674', '22673', '22672', '23147', '84946', '84949', '21394', '21395', '21993', '21991', '21990', '23300', '23301', '21658', '22778', '23049', '23051', '23052', '23050', '22457', '15044A', '23321', '23322', '22324', '85123A', '21506', '90010A', '21155', '22780', '22553', '21967', '84077', '22741', '20982', '22821', '20981', '22748', '22547', '22780', '21479', '22113', '23355', '22169', '23412', '23393', '21915', '22029', '21509', '22819', '23207', '20727', '22852', '22891', '23173', '22699', '22951', '21977', '21071', '23245', '22891', '22169', '22175', '84508C', '84859C', '79321', '22739', '84836', '23479', '84832', '23086', '84946', '21326', '22460', '22193', '22192', '22727', '22730', '23012', '22624', '22627', '21684', '22979', '23251', '23252', '23250', '21915', '85054', '22429', '22424', '22425', '84836', '22979', '84378', '48184', '23223', '23221', '23225', '22593', '22595', '22600', '22602', '22577', '22578', '22573', '23213', '23212', '22574', '48184', '22727', '22625', '22429', '23252', '23552', '22624', '23247', '22429', '22426', '23250', '23493', '23494', '23241', '21914', '79321'], tags=[2])"
            ]
          },
          "metadata": {
            "tags": []
          },
          "execution_count": 87
        }
      ]
    },
    {
      "cell_type": "code",
      "metadata": {
        "id": "FegFqwBgmFqj",
        "colab_type": "code",
        "colab": {
          "base_uri": "https://localhost:8080/",
          "height": 1000
        },
        "outputId": "f87f6555-fe39-4c5b-be85-1dbe39c77d88"
      },
      "source": [
        "#assign a sample \n",
        "sample_test= train_text[2][0]\n",
        "#print\n",
        "sample_test"
      ],
      "execution_count": 93,
      "outputs": [
        {
          "output_type": "execute_result",
          "data": {
            "text/plain": [
              "['84947',\n",
              " '22214',\n",
              " '48187',\n",
              " '48173C',\n",
              " '48194',\n",
              " '48184',\n",
              " '22121',\n",
              " '21755',\n",
              " '22975',\n",
              " '22988',\n",
              " '22977',\n",
              " '22921',\n",
              " '22916',\n",
              " '22919',\n",
              " '22917',\n",
              " '22920',\n",
              " '22918',\n",
              " '22798',\n",
              " '22800',\n",
              " '22731',\n",
              " '22973',\n",
              " '22972',\n",
              " '22974',\n",
              " '22969',\n",
              " '21326',\n",
              " '22729',\n",
              " '22730',\n",
              " '22624',\n",
              " '22960',\n",
              " '22961',\n",
              " '22110',\n",
              " '21484',\n",
              " '22910',\n",
              " '21591',\n",
              " '22733',\n",
              " '22086',\n",
              " '22909',\n",
              " '22755',\n",
              " '22754',\n",
              " '22753',\n",
              " '22491',\n",
              " '22489',\n",
              " '22563',\n",
              " '22564',\n",
              " '23233',\n",
              " '23231',\n",
              " '23230',\n",
              " '23232',\n",
              " '21927',\n",
              " '21926',\n",
              " '21925',\n",
              " '22744',\n",
              " '22334',\n",
              " '22077',\n",
              " '21059',\n",
              " '22488',\n",
              " '22457',\n",
              " '22429',\n",
              " '22053',\n",
              " '82482',\n",
              " '82494L',\n",
              " '22766',\n",
              " '84949',\n",
              " '22637',\n",
              " '21340',\n",
              " '71459',\n",
              " '22495',\n",
              " '85053',\n",
              " '37379A',\n",
              " '84792',\n",
              " '21668',\n",
              " '21671',\n",
              " '21672',\n",
              " '22496',\n",
              " '22178',\n",
              " '21658',\n",
              " '22852',\n",
              " '85144',\n",
              " '37333',\n",
              " '22798',\n",
              " '21314',\n",
              " '84946',\n",
              " '85169A',\n",
              " '85169D',\n",
              " '85169B',\n",
              " '84951B',\n",
              " '22789',\n",
              " '22778',\n",
              " '22777',\n",
              " '22970',\n",
              " '90145',\n",
              " '90160B',\n",
              " '90160C',\n",
              " '90161B',\n",
              " '90161C',\n",
              " '90072',\n",
              " '90073',\n",
              " '22469',\n",
              " '22294',\n",
              " '22565',\n",
              " '17164B',\n",
              " '21788',\n",
              " '21789',\n",
              " '21679',\n",
              " '21544',\n",
              " '21224',\n",
              " '22550',\n",
              " '21704',\n",
              " '22924',\n",
              " '21915',\n",
              " '21787',\n",
              " '21563',\n",
              " '21914',\n",
              " '22674',\n",
              " '21889',\n",
              " '22561',\n",
              " '79321',\n",
              " '22652',\n",
              " '21580',\n",
              " '21579',\n",
              " '20698',\n",
              " '20697',\n",
              " '21495',\n",
              " '84507B',\n",
              " '22176',\n",
              " '21829',\n",
              " '21100',\n",
              " '22175',\n",
              " '21358',\n",
              " '21354',\n",
              " '21989',\n",
              " '21080',\n",
              " '85184C',\n",
              " '22432',\n",
              " '22431',\n",
              " '21479',\n",
              " '21485',\n",
              " '22113',\n",
              " '21481',\n",
              " '21918',\n",
              " '21917',\n",
              " '21790',\n",
              " '22653',\n",
              " '22557',\n",
              " '22553',\n",
              " '79160',\n",
              " '22328',\n",
              " '22326',\n",
              " '21558',\n",
              " '21987',\n",
              " '85227',\n",
              " '21357',\n",
              " '21355',\n",
              " '21913',\n",
              " '21912',\n",
              " '22358',\n",
              " '79191D',\n",
              " '79191C',\n",
              " '79191B',\n",
              " '22357',\n",
              " '21071',\n",
              " '37370',\n",
              " '21348',\n",
              " '22973',\n",
              " '22066',\n",
              " '21877',\n",
              " '21874',\n",
              " '37343',\n",
              " '22745',\n",
              " '22746',\n",
              " '22747',\n",
              " '22748',\n",
              " '21291',\n",
              " '21830',\n",
              " '21731',\n",
              " '20727',\n",
              " '20728',\n",
              " '21888',\n",
              " '82616C',\n",
              " '22549',\n",
              " '22714',\n",
              " '22468',\n",
              " '22179',\n",
              " '79302M',\n",
              " '21791',\n",
              " '22037',\n",
              " '22027',\n",
              " '79302M',\n",
              " '21527',\n",
              " '79321',\n",
              " '21213',\n",
              " '21531',\n",
              " '44091A',\n",
              " '16235',\n",
              " '22915',\n",
              " '21446',\n",
              " '21447',\n",
              " '20977',\n",
              " '22209',\n",
              " '22208',\n",
              " '22210',\n",
              " '21564',\n",
              " '21563',\n",
              " '21915',\n",
              " '21914',\n",
              " '84673B',\n",
              " '22746',\n",
              " '22747',\n",
              " '22748',\n",
              " '22745',\n",
              " '17084R',\n",
              " '22744',\n",
              " '22023',\n",
              " '22662',\n",
              " '21327',\n",
              " '21328',\n",
              " '37413',\n",
              " '20772',\n",
              " '20771',\n",
              " '22189',\n",
              " '84992',\n",
              " '22951',\n",
              " '21212',\n",
              " '22417',\n",
              " '84792',\n",
              " '22521',\n",
              " '22520',\n",
              " '22523',\n",
              " '22522',\n",
              " '84199',\n",
              " '22560',\n",
              " '21588',\n",
              " '22417',\n",
              " '84992',\n",
              " '22951',\n",
              " '21212',\n",
              " '21975',\n",
              " '21790',\n",
              " '21558',\n",
              " '21559',\n",
              " '21070',\n",
              " '21870',\n",
              " '22553',\n",
              " '21889',\n",
              " '23002',\n",
              " '23006',\n",
              " '22995',\n",
              " '22996',\n",
              " '23003',\n",
              " '22997',\n",
              " '23000',\n",
              " '84508C',\n",
              " '21985',\n",
              " '84828',\n",
              " '22367',\n",
              " '47591D',\n",
              " '22964',\n",
              " '84828',\n",
              " '22804',\n",
              " '22515',\n",
              " '22311',\n",
              " '22332',\n",
              " '22147',\n",
              " '22021',\n",
              " '85206A',\n",
              " '15036',\n",
              " '22179',\n",
              " '21731',\n",
              " '79321',\n",
              " '15044C',\n",
              " '15044D',\n",
              " '20971',\n",
              " '21718',\n",
              " '21715',\n",
              " '21679',\n",
              " '22483',\n",
              " '22356',\n",
              " '16207A',\n",
              " '84508C',\n",
              " '22175',\n",
              " '22176',\n",
              " '44092B',\n",
              " '84006',\n",
              " '22750',\n",
              " '84077',\n",
              " '21544',\n",
              " '22693',\n",
              " '21790',\n",
              " '79302M',\n",
              " '22663',\n",
              " '21929',\n",
              " '22386',\n",
              " '20685',\n",
              " '48184',\n",
              " '48187',\n",
              " '48116',\n",
              " '21894',\n",
              " '21896',\n",
              " '22962',\n",
              " '22980',\n",
              " '22979',\n",
              " '22982',\n",
              " '21713',\n",
              " '22178',\n",
              " '84946',\n",
              " '20886',\n",
              " '22963',\n",
              " '22716',\n",
              " '22714',\n",
              " '22712',\n",
              " '21069',\n",
              " '22429',\n",
              " '22989',\n",
              " '21421',\n",
              " '35809B',\n",
              " '22907',\n",
              " '20761',\n",
              " '20764',\n",
              " '85132B',\n",
              " '85132A',\n",
              " '85132C',\n",
              " '23050',\n",
              " '23049',\n",
              " '22431',\n",
              " '23052',\n",
              " '23053',\n",
              " '90000D',\n",
              " '90000A',\n",
              " '90198B',\n",
              " '90198A',\n",
              " '90201B',\n",
              " '90065A',\n",
              " '90201D',\n",
              " '90081C',\n",
              " '90082B',\n",
              " '90082A',\n",
              " '90201C',\n",
              " '90201A',\n",
              " '90162B',\n",
              " '90162C',\n",
              " '90058B',\n",
              " '90200E',\n",
              " '90200D',\n",
              " '90200D',\n",
              " '90200B',\n",
              " '90200A',\n",
              " '90149',\n",
              " '90144',\n",
              " '90194',\n",
              " '90013C',\n",
              " '90072',\n",
              " '23230',\n",
              " '22176',\n",
              " '20711',\n",
              " '21033',\n",
              " '85099F',\n",
              " '21931',\n",
              " '85123A',\n",
              " '23207',\n",
              " '22662',\n",
              " '85099B',\n",
              " '21930',\n",
              " '22997',\n",
              " '22994',\n",
              " '22995',\n",
              " '22996',\n",
              " '23000',\n",
              " '21770',\n",
              " '23207',\n",
              " '21718',\n",
              " '84673A',\n",
              " '15036',\n",
              " '21124',\n",
              " '21121',\n",
              " '21122',\n",
              " '21715',\n",
              " '15044C',\n",
              " '15044D',\n",
              " '15044B',\n",
              " '15044A',\n",
              " '22749',\n",
              " '22131',\n",
              " '21069',\n",
              " '21066',\n",
              " '21871',\n",
              " '71477',\n",
              " '84992',\n",
              " '22951',\n",
              " '22303',\n",
              " '21564',\n",
              " '79191B',\n",
              " '21731',\n",
              " '79191C',\n",
              " '23147',\n",
              " '23147',\n",
              " '22085',\n",
              " '22553',\n",
              " '84507C',\n",
              " '16207A',\n",
              " '22483',\n",
              " '22561',\n",
              " '79321',\n",
              " '22176',\n",
              " '22175',\n",
              " '90200B',\n",
              " '79191C',\n",
              " '79321',\n",
              " '22468',\n",
              " '21731',\n",
              " '79302M',\n",
              " '23108',\n",
              " '23084',\n",
              " '21558',\n",
              " '23245',\n",
              " '84507C',\n",
              " '22176',\n",
              " '22175',\n",
              " '21716',\n",
              " '21212',\n",
              " '22998',\n",
              " '22996',\n",
              " '23000',\n",
              " '22470',\n",
              " '22748',\n",
              " '21878',\n",
              " '21718',\n",
              " '22457',\n",
              " '20840',\n",
              " '20839',\n",
              " '21311',\n",
              " '22692',\n",
              " '21524',\n",
              " '48116',\n",
              " '20685',\n",
              " '48173C',\n",
              " '21794',\n",
              " '84581',\n",
              " '20697',\n",
              " '23146',\n",
              " '23322',\n",
              " '10133',\n",
              " '23298',\n",
              " '82494L',\n",
              " '23093',\n",
              " '23245',\n",
              " '23190',\n",
              " '23192',\n",
              " '23191',\n",
              " '85049E',\n",
              " '85049H',\n",
              " '85049C',\n",
              " '85049G',\n",
              " '85049D',\n",
              " '22375',\n",
              " '22372',\n",
              " '20886',\n",
              " '22670',\n",
              " '23182',\n",
              " '22675',\n",
              " '22674',\n",
              " '22673',\n",
              " '22672',\n",
              " '23147',\n",
              " '84946',\n",
              " '84949',\n",
              " '21394',\n",
              " '21395',\n",
              " '21993',\n",
              " '21991',\n",
              " '21990',\n",
              " '23300',\n",
              " '23301',\n",
              " '21658',\n",
              " '22778',\n",
              " '23049',\n",
              " '23051',\n",
              " '23052',\n",
              " '23050',\n",
              " '22457',\n",
              " '15044A',\n",
              " '23321',\n",
              " '23322',\n",
              " '22324',\n",
              " '85123A',\n",
              " '21506',\n",
              " '90010A',\n",
              " '21155',\n",
              " '22780',\n",
              " '22553',\n",
              " '21967',\n",
              " '84077',\n",
              " '22741',\n",
              " '20982',\n",
              " '22821',\n",
              " '20981',\n",
              " '22748',\n",
              " '22547',\n",
              " '22780',\n",
              " '21479',\n",
              " '22113',\n",
              " '23355',\n",
              " '22169',\n",
              " '23412',\n",
              " '23393',\n",
              " '21915',\n",
              " '22029',\n",
              " '21509',\n",
              " '22819',\n",
              " '23207',\n",
              " '20727',\n",
              " '22852',\n",
              " '22891',\n",
              " '23173',\n",
              " '22699',\n",
              " '22951',\n",
              " '21977',\n",
              " '21071',\n",
              " '23245',\n",
              " '22891',\n",
              " '22169',\n",
              " '22175',\n",
              " '84508C',\n",
              " '84859C',\n",
              " '79321',\n",
              " '22739',\n",
              " '84836',\n",
              " '23479',\n",
              " '84832',\n",
              " '23086',\n",
              " '84946',\n",
              " '21326',\n",
              " '22460',\n",
              " '22193',\n",
              " '22192',\n",
              " '22727',\n",
              " '22730',\n",
              " '23012',\n",
              " '22624',\n",
              " '22627',\n",
              " '21684',\n",
              " '22979',\n",
              " '23251',\n",
              " '23252',\n",
              " '23250',\n",
              " '21915',\n",
              " '85054',\n",
              " '22429',\n",
              " '22424',\n",
              " '22425',\n",
              " '84836',\n",
              " '22979',\n",
              " '84378',\n",
              " '48184',\n",
              " '23223',\n",
              " '23221',\n",
              " '23225',\n",
              " '22593',\n",
              " '22595',\n",
              " '22600',\n",
              " '22602',\n",
              " '22577',\n",
              " '22578',\n",
              " '22573',\n",
              " '23213',\n",
              " '23212',\n",
              " '22574',\n",
              " '48184',\n",
              " '22727',\n",
              " '22625',\n",
              " '22429',\n",
              " '23252',\n",
              " '23552',\n",
              " '22624',\n",
              " '23247',\n",
              " '22429',\n",
              " '22426',\n",
              " '23250',\n",
              " '23493',\n",
              " '23494',\n",
              " '23241',\n",
              " '21914',\n",
              " '79321']"
            ]
          },
          "metadata": {
            "tags": []
          },
          "execution_count": 93
        }
      ]
    },
    {
      "cell_type": "code",
      "metadata": {
        "id": "LMV-TvFIVvLz",
        "colab_type": "code",
        "colab": {
          "base_uri": "https://localhost:8080/",
          "height": 54
        },
        "outputId": "ae3cbbf7-edf5-43d8-f35e-028a5aad1ec0"
      },
      "source": [
        "print(train_text[0:2])"
      ],
      "execution_count": 63,
      "outputs": [
        {
          "output_type": "stream",
          "text": [
            "[TaggedDocument(words=['84879', '22745', '22748', '22749', '22310', '84969', '22623', '22622', '21754', '21755', '21777', '48187', '22960', '22913', '22912', '22914', '21756', '22274', '16161P', '22766', '22708', '23231', '85015', '85016', '22829', '22722', '22960', '22961', '22969', '22720', '22549', '20972', '22743', '84969', '22622', '21658', '21756', '21754', '21755', '48184', '22692', '22748', '22745', '22749', '22960', '22722', '22720', '20972', '22274', '84969', '22623', '22499', '22607', '21658', '47566', '21756', '21754', '21755', '21902', '21901', '21899', '21900', '22077', '85123A', '84969', '21658', '22969', '23152', '23182', '23161', '23160', '23163', '23162', '23164', '23177', '23176', '23006', '22996', '23070', '23126', '23299', '84969', '21658', '22423', '47566', '21621', '21658', '23126', '23092', '23112', '23110', '23111', '23118', '23093', '23089', '23168', '23236', '23240', '23175', '23173', '23245', '23032', '23031', '23029', '23028', '85053', '22090', '22089', '22088', '85123A', '21755', '47566', '22423', '84969', '23126', '20972', '22720', '23152', '23162', '23163', '23245', '23236', '23110', '23118', '22423', '23028', '22720', '23029', '85123A', '23111', '23112', '22623', '16161P', '21754', '21755', '21901', '21900', '48187', '23112', '23111', '23110', '23093', '23028', '23245', '23240', '23173', '23236', '23182', '23161', '23160', '22960', '23546', '23545', '23231', '22720', '22708', '22986', '23160', '23160', '22739', '23435', '22960', '22722', '22720', '20972', '22621', '48188', '48184', '48187', '23032', '23031', '85053', '23245', '22899', '22367', '23514', '23513', '23511', '23198', '23294', '23295', '23025', '23470', '23397', '23096', '23487', '23109', '23434', '22086', '85049E', '23245', '23198', '23031', '23487', 'M', 'M'], tags=[0]), TaggedDocument(words=['20682', '22722', '22993', '23052', '21584', '22721', '22807', '22980', '22176', '22979', '22989', '22990', '22907', '21929', '21928', '22356', '22386', '85099F', '20712', '22895', '21578', '47566', '23207', '20719', '23206', '22355', '23208', '84375', '21088', '22353', '21559', '22084', '22963', '22962', '22607', '22626', '22847', '23169', '23168', '22624', '22627', '21528', '21217', '23236', '23237', '23239', '23326', '23242', '23241', '23240', '23243', '23293', '23307', '23296', '23295', '23294', '23091', '22666', '23245', '22895', '22895', '22349', '84991', '23307', '23308', '22720', '22961', '23235', '23167', '23166', '23165', '21558', '23287', '22352', '22328', '22326', '22327', '23286', '23287', '23288', '23285', '85135C', '85136A', '22993', '23306', '22076', '85049C', '22077', '85049F', '85049E', '85049G', '47566', '23298', '23206', '20726', '23207', '23209', '23200', '23199', '21928', '20712', '23203', '23202', '22411', '85071C', '23191', '22910', '22086', '23247', '23234', '23344', '23343', '23313', '23298', '22138', '20981', '23100', '22421', '23500', '23167', '22082', '22966', '23497', '22993', '22630', '22722', '23190', '22991', '22992', '22561', '23188', '23236', '23240', '23241', '23242', '48187', '20723', '22356', '23209', '23204', '22661', '20719', '23293', '23203', '23582', '20718', '20723', '22355', '20719', '23469', '21200', '22885', '22882', '22866', '23167', '23313', '23340', '22966', '23510', '21790', '23504', '22993', '23497', '23502', '23507', '22943', '23570', '21889', '22993', '23497', '23510', '23507', '23508', '23510', '10135', '23372', '23370'], tags=[1])]\n"
          ],
          "name": "stdout"
        }
      ]
    },
    {
      "cell_type": "code",
      "metadata": {
        "id": "sDmIxHv33Lci",
        "colab_type": "code",
        "colab": {}
      },
      "source": [
        "#build vocabulary for the  model\n",
        "Docmodel.build_vocab(train_text)"
      ],
      "execution_count": 70,
      "outputs": []
    },
    {
      "cell_type": "code",
      "metadata": {
        "id": "aix2463b47al",
        "colab_type": "code",
        "colab": {
          "base_uri": "https://localhost:8080/",
          "height": 34
        },
        "outputId": "d525c2ff-e1f5-4370-96ad-4c1335e79a37"
      },
      "source": [
        "print(Docmodel.corpus_count)"
      ],
      "execution_count": 71,
      "outputs": [
        {
          "output_type": "stream",
          "text": [
            "3935\n"
          ],
          "name": "stdout"
        }
      ]
    },
    {
      "cell_type": "code",
      "metadata": {
        "id": "umNctm_b4oyd",
        "colab_type": "code",
        "colab": {}
      },
      "source": [
        "#Train the model\n",
        "Docmodel.train(train_text,total_examples=Docmodel.corpus_count,epochs=5,report_delay=1)"
      ],
      "execution_count": 72,
      "outputs": []
    },
    {
      "cell_type": "code",
      "metadata": {
        "id": "n-WIFUdXY3e-",
        "colab_type": "code",
        "colab": {}
      },
      "source": [
        "#save the model\n",
        "Docmodel.save('/content/drive/My Drive/NLP/Doc2vec-ProductRecommendation.model')"
      ],
      "execution_count": 73,
      "outputs": []
    },
    {
      "cell_type": "code",
      "metadata": {
        "id": "J0ZTpAbUZNSi",
        "colab_type": "code",
        "colab": {}
      },
      "source": [
        "docmodel_1=Doc2Vec.load('/content/drive/My Drive/NLP/Doc2vec-ProductRecommendation.model')"
      ],
      "execution_count": 74,
      "outputs": []
    },
    {
      "cell_type": "code",
      "metadata": {
        "id": "GUTGrDS_ZguL",
        "colab_type": "code",
        "colab": {
          "base_uri": "https://localhost:8080/",
          "height": 238
        },
        "outputId": "8e2e7920-b5cb-40e0-99d1-11e5d530636c"
      },
      "source": [
        "#Retrieve the vectors for the model\n",
        "docmodel_1.wv.vectors"
      ],
      "execution_count": 78,
      "outputs": [
        {
          "output_type": "execute_result",
          "data": {
            "text/plain": [
              "array([[ 0.65055907,  0.75412697,  0.75339526, ...,  0.48260182,\n",
              "        -0.844358  , -0.69295985],\n",
              "       [-0.80731124,  0.63153774, -0.41522557, ...,  0.27193677,\n",
              "         0.28824317, -0.41195416],\n",
              "       [-0.23228322,  1.2209187 , -0.18106905, ..., -0.45493317,\n",
              "        -0.39474556,  0.14014646],\n",
              "       ...,\n",
              "       [-0.0111066 ,  0.00964599, -0.00202635, ..., -0.01015447,\n",
              "        -0.01109613, -0.02493961],\n",
              "       [-0.06410803,  0.07010985, -0.0333432 , ..., -0.03099911,\n",
              "        -0.00861119, -0.02187861],\n",
              "       [-0.08403932,  0.11332393, -0.05102785, ..., -0.06139354,\n",
              "        -0.00382461, -0.01660842]], dtype=float32)"
            ]
          },
          "metadata": {
            "tags": []
          },
          "execution_count": 78
        }
      ]
    },
    {
      "cell_type": "code",
      "metadata": {
        "id": "90izN8Fgo2Ig",
        "colab_type": "code",
        "colab": {}
      },
      "source": [
        ""
      ],
      "execution_count": null,
      "outputs": []
    },
    {
      "cell_type": "code",
      "metadata": {
        "id": "-qPB-s3HkfmU",
        "colab_type": "code",
        "colab": {
          "base_uri": "https://localhost:8080/",
          "height": 34
        },
        "outputId": "3e35ae03-16d0-40e2-d196-923779da7268"
      },
      "source": [
        "docmodel_1.wv.vectors.shape"
      ],
      "execution_count": 81,
      "outputs": [
        {
          "output_type": "execute_result",
          "data": {
            "text/plain": [
              "(3469, 100)"
            ]
          },
          "metadata": {
            "tags": []
          },
          "execution_count": 81
        }
      ]
    },
    {
      "cell_type": "code",
      "metadata": {
        "id": "LAjOf4Bmn82-",
        "colab_type": "code",
        "colab": {
          "base_uri": "https://localhost:8080/",
          "height": 374
        },
        "outputId": "139e8798-3885-4186-a117-c1a20feec450"
      },
      "source": [
        "#infer the vector from the given token list\n",
        "ivec = docmodel_1.infer_vector(doc_words=sample_test,steps=20,alpha=0.025)\n",
        "#print the vector\n",
        "ivec"
      ],
      "execution_count": 95,
      "outputs": [
        {
          "output_type": "execute_result",
          "data": {
            "text/plain": [
              "array([-0.30413124,  0.71580416,  0.35128468, -0.4204742 , -0.30796975,\n",
              "        0.46318462,  0.7465661 , -0.00798462, -0.31087416, -0.91009915,\n",
              "       -0.52062094, -0.19786453, -0.09067529, -0.01278866,  0.5510455 ,\n",
              "       -0.4029706 ,  0.6767193 ,  1.2654499 , -0.23918454,  0.827416  ,\n",
              "       -0.55861443, -0.8314438 , -0.08870468, -0.5758288 , -0.16582325,\n",
              "       -0.18973625, -0.29030454, -0.11000951,  0.20732501,  0.14779133,\n",
              "        0.11204252,  0.08319303, -0.3614222 , -0.71471715,  0.4295358 ,\n",
              "        0.73739433,  1.3538008 , -0.6156633 ,  0.3247805 , -0.86139685,\n",
              "       -0.48449534, -0.03156788,  0.44136688,  0.63568187,  0.6309879 ,\n",
              "       -0.18442732,  0.63414013,  0.12527126,  0.4694792 ,  0.36612937,\n",
              "       -0.48377416, -0.11913507, -0.33202475,  0.38917375, -0.09331822,\n",
              "        0.09659279, -0.8575559 , -0.09258565,  0.12971283, -0.00455023,\n",
              "       -0.44694996, -0.6375594 , -0.19160612, -0.28402922,  0.07098135,\n",
              "       -0.25296113, -0.5067672 ,  0.8407375 , -0.612004  , -0.5734765 ,\n",
              "        0.30606976,  0.30307734,  0.21450745, -0.69986403, -0.8478491 ,\n",
              "       -0.01723167, -0.38151592, -0.04054748,  0.66458786, -0.20114976,\n",
              "        0.23211166,  0.08896164,  0.5288019 , -0.7217845 , -0.51734394,\n",
              "       -0.19501442, -0.45873985,  0.0187194 ,  0.06444239,  0.8108107 ,\n",
              "       -1.1709969 ,  0.05500567, -0.52361155, -0.02593572,  0.06312084,\n",
              "        0.07553101,  0.60004735,  0.5062395 ,  0.07756463, -0.8933781 ],\n",
              "      dtype=float32)"
            ]
          },
          "metadata": {
            "tags": []
          },
          "execution_count": 95
        }
      ]
    },
    {
      "cell_type": "code",
      "metadata": {
        "id": "QNgXZqiImgTi",
        "colab_type": "code",
        "colab": {
          "base_uri": "https://localhost:8080/",
          "height": 102
        },
        "outputId": "1c29948c-d7aa-4ec1-8820-4e87dc797bfd"
      },
      "source": [
        " #use the most_similar utility to find the most similar documents.\n",
        "docmodel_1.docvecs.most_similar(positive=[ivec],topn=5)\n"
      ],
      "execution_count": 96,
      "outputs": [
        {
          "output_type": "execute_result",
          "data": {
            "text/plain": [
              "[(2, 0.740193247795105),\n",
              " (3014, 0.6865023970603943),\n",
              " (531, 0.5994364023208618),\n",
              " (162, 0.5686143636703491),\n",
              " (2391, 0.56211256980896)]"
            ]
          },
          "metadata": {
            "tags": []
          },
          "execution_count": 96
        }
      ]
    },
    {
      "cell_type": "code",
      "metadata": {
        "id": "OILR5a3LtaPV",
        "colab_type": "code",
        "colab": {}
      },
      "source": [
        ""
      ],
      "execution_count": null,
      "outputs": []
    },
    {
      "cell_type": "code",
      "metadata": {
        "id": "acbI0QbclMn0",
        "colab_type": "code",
        "colab": {}
      },
      "source": [
        ""
      ],
      "execution_count": null,
      "outputs": []
    },
    {
      "cell_type": "markdown",
      "metadata": {
        "id": "eQfyrJMeZZsp",
        "colab_type": "text"
      },
      "source": [
        ""
      ]
    }
  ]
}