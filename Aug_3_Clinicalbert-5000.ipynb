{
  "nbformat": 4,
  "nbformat_minor": 0,
  "metadata": {
    "colab": {
      "name": "Aug 3_Clinicalbert.ipynb",
      "provenance": [],
      "collapsed_sections": [],
      "authorship_tag": "ABX9TyM8PpnwxDibadGbG+ZkKmmc",
      "include_colab_link": true
    },
    "kernelspec": {
      "name": "python3",
      "display_name": "Python 3"
    },
    "accelerator": "GPU"
  },
  "cells": [
    {
      "cell_type": "markdown",
      "metadata": {
        "id": "view-in-github",
        "colab_type": "text"
      },
      "source": [
        "<a href=\"https://colab.research.google.com/github/rameshbabulakshmanan84/NLP-series/blob/master/Aug_3_Clinicalbert-5000.ipynb\" target=\"_parent\"><img src=\"https://colab.research.google.com/assets/colab-badge.svg\" alt=\"Open In Colab\"/></a>"
      ]
    },
    {
      "cell_type": "code",
      "metadata": {
        "id": "5m_UKEL1EfGN",
        "colab_type": "code",
        "colab": {
          "base_uri": "https://localhost:8080/",
          "height": 122
        },
        "outputId": "3ee94403-aad1-4735-d809-a261676c5268"
      },
      "source": [
        "from google.colab import drive\n",
        "drive.mount('/content/drive')"
      ],
      "execution_count": 1,
      "outputs": [
        {
          "output_type": "stream",
          "text": [
            "Go to this URL in a browser: https://accounts.google.com/o/oauth2/auth?client_id=947318989803-6bn6qk8qdgf4n4g3pfee6491hc0brc4i.apps.googleusercontent.com&redirect_uri=urn%3aietf%3awg%3aoauth%3a2.0%3aoob&response_type=code&scope=email%20https%3a%2f%2fwww.googleapis.com%2fauth%2fdocs.test%20https%3a%2f%2fwww.googleapis.com%2fauth%2fdrive%20https%3a%2f%2fwww.googleapis.com%2fauth%2fdrive.photos.readonly%20https%3a%2f%2fwww.googleapis.com%2fauth%2fpeopleapi.readonly\n",
            "\n",
            "Enter your authorization code:\n",
            "··········\n",
            "Mounted at /content/drive\n"
          ],
          "name": "stdout"
        }
      ]
    },
    {
      "cell_type": "code",
      "metadata": {
        "id": "9M4bc1QXE7QJ",
        "colab_type": "code",
        "colab": {}
      },
      "source": [
        "import os\n",
        "os.environ['CUDA_LAUNCH_BLOCKING']='1'"
      ],
      "execution_count": 2,
      "outputs": []
    },
    {
      "cell_type": "code",
      "metadata": {
        "id": "ep6_zjVHFjMU",
        "colab_type": "code",
        "colab": {}
      },
      "source": [
        "import pandas as pd\n",
        "import csv\n",
        "path='/content/drive/My Drive/NLP/ClinicalBiobert/Clinicalbert-5000_Aug3/BC2GM-IOB-Train_5000.xlsx'\n",
        "data=pd.read_excel(path,delimiter='\\t',names=[\"Words\",\"tags\"],encoding='unicode_escape')"
      ],
      "execution_count": 3,
      "outputs": []
    },
    {
      "cell_type": "code",
      "metadata": {
        "id": "DUloeUHbFr1L",
        "colab_type": "code",
        "colab": {
          "base_uri": "https://localhost:8080/",
          "height": 34
        },
        "outputId": "21bd878f-ec33-4b85-cd24-f9828e932483"
      },
      "source": [
        "data.shape"
      ],
      "execution_count": 4,
      "outputs": [
        {
          "output_type": "execute_result",
          "data": {
            "text/plain": [
              "(5011, 2)"
            ]
          },
          "metadata": {
            "tags": []
          },
          "execution_count": 4
        }
      ]
    },
    {
      "cell_type": "code",
      "metadata": {
        "id": "w0NwgeCPFyps",
        "colab_type": "code",
        "colab": {
          "base_uri": "https://localhost:8080/",
          "height": 34
        },
        "outputId": "06dc1181-2738-4305-a41c-fc58a0d44571"
      },
      "source": [
        "data['tags'].isnull().sum()"
      ],
      "execution_count": 5,
      "outputs": [
        {
          "output_type": "execute_result",
          "data": {
            "text/plain": [
              "1"
            ]
          },
          "metadata": {
            "tags": []
          },
          "execution_count": 5
        }
      ]
    },
    {
      "cell_type": "code",
      "metadata": {
        "id": "hlPXo7zpF4f7",
        "colab_type": "code",
        "colab": {}
      },
      "source": [
        "data['tags']=data['tags'].fillna('O')"
      ],
      "execution_count": 6,
      "outputs": []
    },
    {
      "cell_type": "code",
      "metadata": {
        "id": "bqdzHevRF7jk",
        "colab_type": "code",
        "colab": {
          "base_uri": "https://localhost:8080/",
          "height": 51
        },
        "outputId": "d5f1e593-ec8a-4b44-9beb-165c407cb0f7"
      },
      "source": [
        "data['tags'].isnull().sum()\n",
        "data['tags'].unique()"
      ],
      "execution_count": 7,
      "outputs": [
        {
          "output_type": "execute_result",
          "data": {
            "text/plain": [
              "array(['O', 'B-GENE', 'I-GENE', 'B-DISEASE', 'I-DISEASE', 'B-DRUGS',\n",
              "       'I-DRUGS'], dtype=object)"
            ]
          },
          "metadata": {
            "tags": []
          },
          "execution_count": 7
        }
      ]
    },
    {
      "cell_type": "markdown",
      "metadata": {
        "id": "9M2s_MEWGCTb",
        "colab_type": "text"
      },
      "source": [
        "Concatenate the words into a sentence - Make sure we convert by using str(input)"
      ]
    },
    {
      "cell_type": "code",
      "metadata": {
        "id": "KdUpnviHGBjL",
        "colab_type": "code",
        "colab": {}
      },
      "source": [
        "sentences1=[]\n",
        "tags1=[]\n",
        "words=data['Words'].values.tolist()\n",
        "tag=data['tags'].values.tolist()\n",
        "#words\n",
        "temp_sen=[]\n",
        "temp_tag=[]\n",
        "count=0\n",
        "for i in words:\n",
        "  #print(i)\n",
        "  \n",
        "  if i != 'End':\n",
        "    temp_sen.append(str(i))\n",
        "    temp_tag.append(str(tag[count]))\n",
        "    count+=1\n",
        "  else:\n",
        "    sentences1.append(temp_sen)\n",
        "    tags1.append(temp_tag)\n",
        "    temp_sen=[]\n",
        "    temp_tag=[]"
      ],
      "execution_count": 8,
      "outputs": []
    },
    {
      "cell_type": "code",
      "metadata": {
        "id": "5t9gZGsEGHH6",
        "colab_type": "code",
        "colab": {
          "base_uri": "https://localhost:8080/",
          "height": 34
        },
        "outputId": "c892b244-630e-4db3-d352-ea766db29a57"
      },
      "source": [
        " #check the data type pf the sentences\n",
        " type(sentences1[0][2])"
      ],
      "execution_count": 9,
      "outputs": [
        {
          "output_type": "execute_result",
          "data": {
            "text/plain": [
              "str"
            ]
          },
          "metadata": {
            "tags": []
          },
          "execution_count": 9
        }
      ]
    },
    {
      "cell_type": "code",
      "metadata": {
        "id": "WV6VqOHeGSDM",
        "colab_type": "code",
        "colab": {
          "base_uri": "https://localhost:8080/",
          "height": 51
        },
        "outputId": "5420a3a7-8ca5-4b8d-d94c-9592aa618d12"
      },
      "source": [
        "#Print the length of tags1 and sentences1\n",
        "print(len(tags1))\n",
        "print(len(sentences1))"
      ],
      "execution_count": 10,
      "outputs": [
        {
          "output_type": "stream",
          "text": [
            "168\n",
            "168\n"
          ],
          "name": "stdout"
        }
      ]
    },
    {
      "cell_type": "code",
      "metadata": {
        "id": "Y0T4ZH2nIOcL",
        "colab_type": "code",
        "colab": {}
      },
      "source": [
        "import pandas as pd\n",
        "import numpy as np\n",
        "from tqdm import tqdm, trange"
      ],
      "execution_count": 11,
      "outputs": []
    },
    {
      "cell_type": "code",
      "metadata": {
        "id": "JR3qcndUIR14",
        "colab_type": "code",
        "colab": {}
      },
      "source": [
        "#map the tags with integers -> tags refer to ner\n",
        "#data[\"tag\"]:retrieves unique tags, set(data[\"tag\"]) -> refers to set of distinct values\n",
        "tag_values=list(set(data[\"tags\"].values))\n",
        "tag_values.append(\"PAD\")\n",
        "#create a dictionary of tag and values\n",
        "tag2idx={t:i for i,t in enumerate(tag_values)}"
      ],
      "execution_count": 12,
      "outputs": []
    },
    {
      "cell_type": "code",
      "metadata": {
        "id": "ZrmWYHi1IaR_",
        "colab_type": "code",
        "colab": {
          "base_uri": "https://localhost:8080/",
          "height": 34
        },
        "outputId": "61ae0357-d7b7-495d-b087-63620530ce6a"
      },
      "source": [
        "print(tag2idx)\n",
        "#Tags available :\n",
        "# I-GENE,B-GENE"
      ],
      "execution_count": 13,
      "outputs": [
        {
          "output_type": "stream",
          "text": [
            "{'I-DRUGS': 0, 'B-GENE': 1, 'I-GENE': 2, 'I-DISEASE': 3, 'B-DRUGS': 4, 'O': 5, 'B-DISEASE': 6, 'PAD': 7}\n"
          ],
          "name": "stdout"
        }
      ]
    },
    {
      "cell_type": "markdown",
      "metadata": {
        "id": "R-f8JWkyMaV4",
        "colab_type": "text"
      },
      "source": [
        "Set up the transformers library"
      ]
    },
    {
      "cell_type": "code",
      "metadata": {
        "id": "-BFD83KEMYwT",
        "colab_type": "code",
        "colab": {
          "base_uri": "https://localhost:8080/",
          "height": 615
        },
        "outputId": "fc037ca5-e1b9-47f3-e4e7-03cdbf746d84"
      },
      "source": [
        "!pip3 install transformers\n"
      ],
      "execution_count": 14,
      "outputs": [
        {
          "output_type": "stream",
          "text": [
            "Collecting transformers\n",
            "\u001b[?25l  Downloading https://files.pythonhosted.org/packages/27/3c/91ed8f5c4e7ef3227b4119200fc0ed4b4fd965b1f0172021c25701087825/transformers-3.0.2-py3-none-any.whl (769kB)\n",
            "\u001b[K     |████████████████████████████████| 778kB 4.7MB/s \n",
            "\u001b[?25hRequirement already satisfied: filelock in /usr/local/lib/python3.6/dist-packages (from transformers) (3.0.12)\n",
            "Collecting tokenizers==0.8.1.rc1\n",
            "\u001b[?25l  Downloading https://files.pythonhosted.org/packages/40/d0/30d5f8d221a0ed981a186c8eb986ce1c94e3a6e87f994eae9f4aa5250217/tokenizers-0.8.1rc1-cp36-cp36m-manylinux1_x86_64.whl (3.0MB)\n",
            "\u001b[K     |████████████████████████████████| 3.0MB 13.8MB/s \n",
            "\u001b[?25hRequirement already satisfied: dataclasses; python_version < \"3.7\" in /usr/local/lib/python3.6/dist-packages (from transformers) (0.7)\n",
            "Collecting sacremoses\n",
            "\u001b[?25l  Downloading https://files.pythonhosted.org/packages/7d/34/09d19aff26edcc8eb2a01bed8e98f13a1537005d31e95233fd48216eed10/sacremoses-0.0.43.tar.gz (883kB)\n",
            "\u001b[K     |████████████████████████████████| 890kB 43.3MB/s \n",
            "\u001b[?25hRequirement already satisfied: packaging in /usr/local/lib/python3.6/dist-packages (from transformers) (20.4)\n",
            "Requirement already satisfied: requests in /usr/local/lib/python3.6/dist-packages (from transformers) (2.23.0)\n",
            "Collecting sentencepiece!=0.1.92\n",
            "\u001b[?25l  Downloading https://files.pythonhosted.org/packages/d4/a4/d0a884c4300004a78cca907a6ff9a5e9fe4f090f5d95ab341c53d28cbc58/sentencepiece-0.1.91-cp36-cp36m-manylinux1_x86_64.whl (1.1MB)\n",
            "\u001b[K     |████████████████████████████████| 1.1MB 51.7MB/s \n",
            "\u001b[?25hRequirement already satisfied: regex!=2019.12.17 in /usr/local/lib/python3.6/dist-packages (from transformers) (2019.12.20)\n",
            "Requirement already satisfied: tqdm>=4.27 in /usr/local/lib/python3.6/dist-packages (from transformers) (4.41.1)\n",
            "Requirement already satisfied: numpy in /usr/local/lib/python3.6/dist-packages (from transformers) (1.18.5)\n",
            "Requirement already satisfied: six in /usr/local/lib/python3.6/dist-packages (from sacremoses->transformers) (1.15.0)\n",
            "Requirement already satisfied: click in /usr/local/lib/python3.6/dist-packages (from sacremoses->transformers) (7.1.2)\n",
            "Requirement already satisfied: joblib in /usr/local/lib/python3.6/dist-packages (from sacremoses->transformers) (0.16.0)\n",
            "Requirement already satisfied: pyparsing>=2.0.2 in /usr/local/lib/python3.6/dist-packages (from packaging->transformers) (2.4.7)\n",
            "Requirement already satisfied: urllib3!=1.25.0,!=1.25.1,<1.26,>=1.21.1 in /usr/local/lib/python3.6/dist-packages (from requests->transformers) (1.24.3)\n",
            "Requirement already satisfied: chardet<4,>=3.0.2 in /usr/local/lib/python3.6/dist-packages (from requests->transformers) (3.0.4)\n",
            "Requirement already satisfied: certifi>=2017.4.17 in /usr/local/lib/python3.6/dist-packages (from requests->transformers) (2020.6.20)\n",
            "Requirement already satisfied: idna<3,>=2.5 in /usr/local/lib/python3.6/dist-packages (from requests->transformers) (2.10)\n",
            "Building wheels for collected packages: sacremoses\n",
            "  Building wheel for sacremoses (setup.py) ... \u001b[?25l\u001b[?25hdone\n",
            "  Created wheel for sacremoses: filename=sacremoses-0.0.43-cp36-none-any.whl size=893260 sha256=f6cd56ef352f2a6a730e7cb9e236c9f5b865ba6dd7c3151a2a4faf2c39595328\n",
            "  Stored in directory: /root/.cache/pip/wheels/29/3c/fd/7ce5c3f0666dab31a50123635e6fb5e19ceb42ce38d4e58f45\n",
            "Successfully built sacremoses\n",
            "Installing collected packages: tokenizers, sacremoses, sentencepiece, transformers\n",
            "Successfully installed sacremoses-0.0.43 sentencepiece-0.1.91 tokenizers-0.8.1rc1 transformers-3.0.2\n"
          ],
          "name": "stdout"
        }
      ]
    },
    {
      "cell_type": "code",
      "metadata": {
        "id": "-KrST80SMlFg",
        "colab_type": "code",
        "colab": {}
      },
      "source": [
        "#use pytorch implementation of bert\n",
        "import torch\n",
        "from torch.utils.data import TensorDataset,DataLoader,RandomSampler,SequentialSampler\n",
        "from transformers import AutoTokenizer,AutoModelForTokenClassification,AutoModel\n",
        "import logging\n",
        "logging.basicConfig(level=logging.INFO)"
      ],
      "execution_count": 15,
      "outputs": []
    },
    {
      "cell_type": "code",
      "metadata": {
        "id": "QFLc_3naMwsP",
        "colab_type": "code",
        "colab": {
          "base_uri": "https://localhost:8080/",
          "height": 870
        },
        "outputId": "2a3b9780-ad67-4542-8a8b-a7f75c508ff1"
      },
      "source": [
        "#import clinicalbiobert\n",
        "clibert_tokenizer=AutoTokenizer.from_pretrained(\"emilyalsentzer/Bio_ClinicalBERT\")\n",
        "clibert_model=AutoModel.from_pretrained(\"emilyalsentzer/Bio_ClinicalBERT\")"
      ],
      "execution_count": 17,
      "outputs": [
        {
          "output_type": "stream",
          "text": [
            "INFO:transformers.configuration_utils:loading configuration file https://s3.amazonaws.com/models.huggingface.co/bert/emilyalsentzer/Bio_ClinicalBERT/config.json from cache at /root/.cache/torch/transformers/f1b766d4011bf16cfd52c7be6150a4f5d4c2256eaca3c2edb073f468005f08a2.e99f38979b92a72e708709cb38397fa864caf99dd2e2ed75826560450aa14a0c\n",
            "INFO:transformers.configuration_utils:Model config BertConfig {\n",
            "  \"attention_probs_dropout_prob\": 0.1,\n",
            "  \"gradient_checkpointing\": false,\n",
            "  \"hidden_act\": \"gelu\",\n",
            "  \"hidden_dropout_prob\": 0.1,\n",
            "  \"hidden_size\": 768,\n",
            "  \"initializer_range\": 0.02,\n",
            "  \"intermediate_size\": 3072,\n",
            "  \"layer_norm_eps\": 1e-12,\n",
            "  \"max_position_embeddings\": 512,\n",
            "  \"model_type\": \"bert\",\n",
            "  \"num_attention_heads\": 12,\n",
            "  \"num_hidden_layers\": 12,\n",
            "  \"pad_token_id\": 0,\n",
            "  \"type_vocab_size\": 2,\n",
            "  \"vocab_size\": 28996\n",
            "}\n",
            "\n",
            "INFO:transformers.tokenization_utils_base:Model name 'emilyalsentzer/Bio_ClinicalBERT' not found in model shortcut name list (bert-base-uncased, bert-large-uncased, bert-base-cased, bert-large-cased, bert-base-multilingual-uncased, bert-base-multilingual-cased, bert-base-chinese, bert-base-german-cased, bert-large-uncased-whole-word-masking, bert-large-cased-whole-word-masking, bert-large-uncased-whole-word-masking-finetuned-squad, bert-large-cased-whole-word-masking-finetuned-squad, bert-base-cased-finetuned-mrpc, bert-base-german-dbmdz-cased, bert-base-german-dbmdz-uncased, TurkuNLP/bert-base-finnish-cased-v1, TurkuNLP/bert-base-finnish-uncased-v1, wietsedv/bert-base-dutch-cased). Assuming 'emilyalsentzer/Bio_ClinicalBERT' is a path, a model identifier, or url to a directory containing tokenizer files.\n",
            "INFO:transformers.tokenization_utils_base:loading file https://s3.amazonaws.com/models.huggingface.co/bert/emilyalsentzer/Bio_ClinicalBERT/vocab.txt from cache at /root/.cache/torch/transformers/e20dcab02f7204e65e966b14f29431339b9a092314e9160a6fa5ce83de398002.e13dbb970cb325137104fb2e5f36fe865f27746c6b526f6352861b1980eb80b1\n",
            "INFO:transformers.tokenization_utils_base:loading file https://s3.amazonaws.com/models.huggingface.co/bert/emilyalsentzer/Bio_ClinicalBERT/added_tokens.json from cache at None\n",
            "INFO:transformers.tokenization_utils_base:loading file https://s3.amazonaws.com/models.huggingface.co/bert/emilyalsentzer/Bio_ClinicalBERT/special_tokens_map.json from cache at None\n",
            "INFO:transformers.tokenization_utils_base:loading file https://s3.amazonaws.com/models.huggingface.co/bert/emilyalsentzer/Bio_ClinicalBERT/tokenizer_config.json from cache at None\n",
            "INFO:transformers.tokenization_utils_base:loading file https://s3.amazonaws.com/models.huggingface.co/bert/emilyalsentzer/Bio_ClinicalBERT/tokenizer.json from cache at None\n",
            "INFO:transformers.configuration_utils:loading configuration file https://s3.amazonaws.com/models.huggingface.co/bert/emilyalsentzer/Bio_ClinicalBERT/config.json from cache at /root/.cache/torch/transformers/f1b766d4011bf16cfd52c7be6150a4f5d4c2256eaca3c2edb073f468005f08a2.e99f38979b92a72e708709cb38397fa864caf99dd2e2ed75826560450aa14a0c\n",
            "INFO:transformers.configuration_utils:Model config BertConfig {\n",
            "  \"attention_probs_dropout_prob\": 0.1,\n",
            "  \"gradient_checkpointing\": false,\n",
            "  \"hidden_act\": \"gelu\",\n",
            "  \"hidden_dropout_prob\": 0.1,\n",
            "  \"hidden_size\": 768,\n",
            "  \"initializer_range\": 0.02,\n",
            "  \"intermediate_size\": 3072,\n",
            "  \"layer_norm_eps\": 1e-12,\n",
            "  \"max_position_embeddings\": 512,\n",
            "  \"model_type\": \"bert\",\n",
            "  \"num_attention_heads\": 12,\n",
            "  \"num_hidden_layers\": 12,\n",
            "  \"pad_token_id\": 0,\n",
            "  \"type_vocab_size\": 2,\n",
            "  \"vocab_size\": 28996\n",
            "}\n",
            "\n",
            "INFO:transformers.modeling_utils:loading weights file https://cdn.huggingface.co/emilyalsentzer/Bio_ClinicalBERT/pytorch_model.bin from cache at /root/.cache/torch/transformers/91c95541a292980d2ab0942afab21efcaabbcb767f850bdac4b829126f15b35c.7c0f86182853d46a0efe8b1427d50fe6421bb8346d105db81ee98e35f4b35e14\n",
            "INFO:transformers.modeling_utils:All model checkpoint weights were used when initializing BertModel.\n",
            "\n",
            "INFO:transformers.modeling_utils:All the weights of BertModel were initialized from the model checkpoint at emilyalsentzer/Bio_ClinicalBERT.\n",
            "If your task is similar to the task the model of the ckeckpoint was trained on, you can already use BertModel for predictions without further training.\n"
          ],
          "name": "stderr"
        }
      ]
    },
    {
      "cell_type": "code",
      "metadata": {
        "id": "aD5Nv5ulUxlm",
        "colab_type": "code",
        "colab": {}
      },
      "source": [
        ""
      ],
      "execution_count": null,
      "outputs": []
    },
    {
      "cell_type": "code",
      "metadata": {
        "id": "vSYf-A-5M9VR",
        "colab_type": "code",
        "colab": {
          "base_uri": "https://localhost:8080/",
          "height": 34
        },
        "outputId": "79ac4b22-882e-46f5-85a2-d59468917d27"
      },
      "source": [
        "from keras.preprocessing.sequence import pad_sequences\n",
        "from sklearn.model_selection import train_test_split"
      ],
      "execution_count": 18,
      "outputs": [
        {
          "output_type": "stream",
          "text": [
            "Using TensorFlow backend.\n"
          ],
          "name": "stderr"
        }
      ]
    },
    {
      "cell_type": "code",
      "metadata": {
        "id": "_pwSnQDhNBfv",
        "colab_type": "code",
        "colab": {}
      },
      "source": [
        "#Set the max length and batchsize\n",
        "MAX_LEN = 75\n",
        "Batch_Size = 32"
      ],
      "execution_count": 19,
      "outputs": []
    },
    {
      "cell_type": "code",
      "metadata": {
        "id": "o4mYc0LzNL5_",
        "colab_type": "code",
        "colab": {}
      },
      "source": [
        "device=torch.device(\"cuda\" if torch.cuda.is_available() else \"cpu\")\n",
        "n_gpu=torch.cuda.device_count()"
      ],
      "execution_count": 65,
      "outputs": []
    },
    {
      "cell_type": "code",
      "metadata": {
        "id": "mZgsKxakNObh",
        "colab_type": "code",
        "colab": {}
      },
      "source": [
        "def token_and_preserve_labels(sentence,text_labels):\n",
        "  tokenized_sentence=[]\n",
        "  labels=[]\n",
        "\n",
        "  for word,label in zip(sentence,text_labels):\n",
        "    #tokenize the word and count of # of subwords that word is toeknized into \n",
        "    #demonstrators ['demons', '##tra', '##tors']\n",
        "    tokenized_word=scibert_tokenizer.tokenize(word)\n",
        "    n_subwords=len(tokenized_word)\n",
        "\n",
        "    # Add the tokenized word to the final tokenized word list\n",
        "    tokenized_sentence.extend(tokenized_word)\n",
        "\n",
        "    # Add the same label to the new list of labels `n_subwords` times\n",
        "    labels.extend([label] * n_subwords)\n",
        "\n",
        "  return tokenized_sentence,labels "
      ],
      "execution_count": 22,
      "outputs": []
    },
    {
      "cell_type": "code",
      "metadata": {
        "id": "coPfXCqfNW5_",
        "colab_type": "code",
        "colab": {}
      },
      "source": [
        "#sentence and corresponsing labels \n",
        "#sentence form : [list of words]\n",
        "#labels form : #labels form [ list of ner tags]\n",
        "tokenized_texts_and_labels=[token_and_preserve_labels(sent,labels) for sent,labels in zip(sentences1,tags1)]"
      ],
      "execution_count": 23,
      "outputs": []
    },
    {
      "cell_type": "code",
      "metadata": {
        "id": "KMDKjlgtNZ9Y",
        "colab_type": "code",
        "colab": {
          "base_uri": "https://localhost:8080/",
          "height": 54
        },
        "outputId": "82cbb6a0-4163-4a11-f6b1-18e3d36e87cd"
      },
      "source": [
        "print(tokenized_texts_and_labels)"
      ],
      "execution_count": 24,
      "outputs": [
        {
          "output_type": "stream",
          "text": [
            "[(['im', '##mu', '##no', '##his', '##to', '##chemical', 'stain', '##ing', 'was', 'positive', 'for', 's', '-', '100', 'in', 'all', '9', 'cases', 'stained', ',', 'positive', 'for', 'h', '##mb', '-', '45', 'in', '9', '(', '90', '%', ')', 'of', '10', ',', 'and', 'negative', 'for', 'c', '##yt', '##oker', '##ati', '##n', 'in', 'all', '9', 'cases', 'in', 'which', 'my', '##x', '##oid', 'me', '##lan', '##oma', 'remained', 'in', 'the', 'block', 'after', 'previous', 'sections', '.'], ['O', 'O', 'O', 'O', 'O', 'O', 'O', 'O', 'O', 'O', 'O', 'B-GENE', 'I-GENE', 'I-GENE', 'O', 'O', 'O', 'O', 'O', 'O', 'O', 'O', 'B-GENE', 'B-GENE', 'I-GENE', 'I-GENE', 'O', 'O', 'O', 'O', 'O', 'O', 'O', 'O', 'O', 'O', 'O', 'O', 'B-GENE', 'B-GENE', 'B-GENE', 'B-GENE', 'B-GENE', 'O', 'O', 'O', 'O', 'O', 'O', 'B-DISEASE', 'B-DISEASE', 'B-DISEASE', 'I-DISEASE', 'I-DISEASE', 'I-DISEASE', 'O', 'O', 'O', 'O', 'O', 'O', 'O', 'O']), (['ch', '##lora', '##mp', '##hen', '##ico', '##l', 'ace', '##ty', '##lt', '##ran', '##s', '##fer', '##ase', 'ass', '##ays', 'examining', 'the', 'ability', 'of', 'i', '##e', '##86', 'to', 're', '##press', 'activity', 'from', 'the', 'h', '##c', '##m', '##v', 'major', 'i', '##e', 'promoter', 'or', 'activate', 'the', 'h', '##c', '##m', '##v', 'early', 'promoter', 'for', 'the', '2', '.', '2', '-', 'k', '##b', 'class', 'of', 'r', '##nas', 'demonstrated', 'the', 'functional', 'integrity', 'of', 'the', 'i', '##e', '##86', 'protein', '.'], ['O', 'O', 'O', 'O', 'O', 'O', 'B-GENE', 'B-GENE', 'B-GENE', 'B-GENE', 'B-GENE', 'B-GENE', 'B-GENE', 'I-GENE', 'I-GENE', 'O', 'O', 'O', 'O', 'O', 'O', 'O', 'B-GENE', 'O', 'O', 'O', 'O', 'O', 'O', 'O', 'O', 'O', 'O', 'O', 'O', 'B-GENE', 'I-GENE', 'O', 'O', 'O', 'O', 'O', 'O', 'B-GENE', 'I-GENE', 'I-GENE', 'O', 'O', 'O', 'O', 'O', 'O', 'O', 'O', 'O', 'O', 'O', 'O', 'O', 'O', 'O', 'O', 'O', 'O', 'O', 'O', 'B-GENE', 'O']), (['a', 'new', 'd', '##na', 'repair', 'gene', 'from', 's', '##chi', '##zo', '##sa', '##cc', '##har', '##omy', '##ces', 'p', '##omb', '##e', 'with', 'ho', '##mology', 'to', 're', '##ca', 'was', 'identified', 'and', 'characterized', '.'], ['O', 'O', 'O', 'O', 'O', 'B-GENE', 'I-GENE', 'I-GENE', 'I-GENE', 'I-GENE', 'I-GENE', 'I-GENE', 'I-GENE', 'I-GENE', 'I-GENE', 'O', 'O', 'O', 'O', 'O', 'O', 'O', 'O', 'O', 'O', 'B-GENE', 'O', 'O', 'O']), (['our', 'study', 'also', 'demonstrated', 'significant', 'increases', 'in', 'the', 'number', 'of', 'larger', 'my', '##elin', '##ated', 'fibers', 'crossing', 'the', 'repair', 'site', 'in', 'comparison', 'with', 'the', 'neon', '##ata', '##l', 'and', 'adult', 'groups', '(', 'p', '<', '0', '.', '4', ')', '.'], ['O', 'O', 'O', 'O', 'O', 'O', 'O', 'O', 'O', 'O', 'O', 'O', 'O', 'O', 'O', 'O', 'O', 'O', 'O', 'O', 'O', 'O', 'O', 'O', 'O', 'O', 'O', 'O', 'O', 'O', 'O', 'O', 'O', 'O', 'O', 'O', 'O']), (['c', '##lon', '##ing', 'and', 'se', '##quencing', 'of', 'the', 'upstream', 'region', 'of', 'p', '##ep', '##x', 'revealed', 'the', 'presence', 'of', 'two', 'or', '##fs', 'of', '360', 'and', '1', ',', '33', '##8', 'b', '##p', 'that', 'were', 'shown', 'to', 'be', 'able', 'to', 'en', '##code', 'proteins', 'with', 'high', 'ho', '##mology', 'to', 'g', '##ln', '##r', 'and', 'g', '##ln', '##a', 'proteins', ',', 'respectively', '.'], ['O', 'O', 'O', 'O', 'O', 'O', 'O', 'O', 'O', 'O', 'O', 'O', 'O', 'O', 'O', 'O', 'O', 'B-GENE', 'O', 'O', 'O', 'O', 'O', 'O', 'O', 'O', 'O', 'O', 'O', 'O', 'O', 'O', 'O', 'O', 'O', 'O', 'O', 'O', 'O', 'O', 'O', 'O', 'O', 'O', 'O', 'O', 'O', 'O', 'O', 'O', 'O', 'O', 'O', 'B-GENE', 'O', 'B-GENE']), (['both', 'mutant', 'receptors', 'were', 'expressed', 'on', 'the', 'cell', 'surface', 'and', 'bound', 'insulin', 'normally', ',', 'but', 'showed', 'marked', '##ly', 'impaired', 'auto', '##ph', '##os', '##ph', '##ory', '##lation', 'in', 'response', 'to', 'insulin', '.'], ['I-GENE', 'O', 'O', 'O', 'O', 'O', 'O', 'O', 'O', 'O', 'O', 'O', 'O', 'O', 'O', 'O', 'B-GENE', 'B-GENE', 'O', 'O', 'O', 'O', 'O', 'O', 'O', 'O', 'O', 'O', 'O', 'O']), (['further', '##more', ',', 'analysis', 'of', 'the', 'e', '##2', 'proteins', 'present', 'in', 'various', 'cell', 'lines', 'harbor', '##ing', 'specific', 'b', '##p', '##v', '-', '1', 'mutant', '##s', ',', 'including', 'the', '255', '##8', 'accept', '##or', 'mutant', ',', 'proves', 'that', 'alternate', 'modes', 'of', 'e', '##2', 'expression', 'exist', '.'], ['O', 'O', 'O', 'O', 'B-GENE', 'O', 'O', 'O', 'O', 'O', 'O', 'O', 'O', 'B-GENE', 'I-GENE', 'I-GENE', 'O', 'O', 'O', 'O', 'O', 'O', 'O', 'O', 'O', 'O', 'O', 'O', 'O', 'O', 'O', 'O', 'O', 'O', 'O', 'O', 'O', 'O', 'O', 'O', 'O', 'O', 'O']), (['molecular', 'modelling', 'suggested', 'that', 'the', 'te', '##tra', '##mer', '##ization', 'domain', 'was', 'a', 'four', '-', 'he', '##lix', 'bundle', ',', 'stab', '##ilized', 'by', 'interactions', 'of', 'seven', 'conserved', 'a', '##romatic', 'amino', 'acids', '.'], ['O', 'O', 'B-GENE', 'O', 'O', 'O', 'O', 'O', 'O', 'O', 'O', 'O', 'O', 'O', 'O', 'O', 'O', 'O', 'O', 'O', 'O', 'O', 'O', 'O', 'O', 'O', 'O', 'O', 'O', 'O']), (['hem', '##ato', '##logy', 'problem', 'of', 'the', 'month', ':', 'band', 'or', 'se', '##g', '?'], ['O', 'O', 'O', 'O', 'O', 'B-DRUGS', 'I-DRUGS', 'I-DRUGS', 'O', 'O', 'O', 'O', 'O']), (['p', '##ka', 'p', '##hos', '##ph', '##ory', '##lated', 'w', '##t', '##1', 'at', 'se', '##r', '-', '365', 'and', 'se', '##r', '-', '39', '##3', 'in', 'v', '##it', '##ro', ',', 'as', 'well', 'as', 'at', 'additional', 'sites', ',', 'and', 'this', 'p', '##hos', '##ph', '##ory', '##lation', 'abolished', 'the', 'd', '##na', '-', 'binding', 'activity', 'of', 'w', '##t', '##1', 'in', 'v', '##it', '##ro', '.'], ['O', 'O', 'O', 'O', 'O', 'O', 'O', 'O', 'O', 'O', 'O', 'O', 'O', 'O', 'O', 'O', 'O', 'O', 'B-GENE', 'O', 'O', 'B-GENE', 'O', 'O', 'O', 'B-DRUGS', 'O', 'O', 'O', 'B-DRUGS', 'O', 'O', 'O', 'O', 'O', 'O', 'O', 'O', 'O', 'O', 'O', 'O', 'O', 'O', 'O', 'O', 'O', 'O', 'O', 'O', 'O', 'O', 'O', 'O', 'O', 'O']), (['rock', '-', 'i', ',', 'kin', '##ec', '##tin', ',', 'and', 'm', '##dia', '##2', 'can', 'bind', 'the', 'wild', 'type', 'forms', 'of', 'both', 'r', '##ho', '##a', 'and', 'c', '##d', '##c', '##42', 'in', 'a', 'g', '##t', '##p', '-', 'dependent', 'manner', 'in', 'v', '##it', '##ro', '.'], ['O', 'O', 'O', 'O', 'O', 'O', 'O', 'B-GENE', 'O', 'O', 'O', 'O', 'O', 'O', 'B-GENE', 'I-GENE', 'I-GENE', 'O', 'B-GENE', 'O', 'O', 'O', 'O', 'B-GENE', 'O', 'O', 'O', 'O', 'O', 'O', 'O', 'O', 'O', 'O', 'O', 'O', 'O', 'B-GENE', 'B-GENE', 'B-GENE', 'O']), (['these', 'results', 'support', 'the', 'hypothesis', 'that', 'in', 'the', 'presence', 'of', 'try', '##pt', '##op', '##han', 'the', 'rib', '##oso', '##me', 'translating', 't', '##nac', 'blocks', 'r', '##ho', \"'\", 's', 'access', 'to', 'the', 'box', '##a', 'and', 'r', '##ut', 'sites', ',', 'thereby', 'preventing', 'transcription', 'termination', '.'], ['B-GENE', 'O', 'O', 'B-DRUGS', 'O', 'O', 'O', 'O', 'O', 'O', 'O', 'O', 'O', 'O', 'O', 'O', 'O', 'O', 'O', 'O', 'O', 'O', 'O', 'O', 'O', 'O', 'O', 'O', 'B-DRUGS', 'O', 'O', 'O', 'O', 'O', 'B-GENE', 'O', 'B-GENE', 'O', 'O', 'O', 'O']), (['suppress', '##ors', 'of', 'defect', '##ive', 'si', '##len', '##cing', 'in', 'yeast', ':', 'effects', 'on', 'transcription', '##al', 'repression', 'at', 'the', 'h', '##m', '##r', 'lo', '##cus', ',', 'cell', 'growth', 'and', 'te', '##lo', '##mere', 'structure', '.'], ['O', 'O', 'B-GENE', 'O', 'O', 'B-GENE', 'B-GENE', 'B-GENE', 'I-GENE', 'O', 'O', 'O', 'O', 'O', 'O', 'O', 'O', 'O', 'O', 'O', 'O', 'O', 'O', 'O', 'O', 'B-DRUGS', 'O', 'O', 'O', 'O', 'O', 'O']), (['the', 'p', '##j', '##r', 'vectors', 'differ', 'among', 'them', 'in', ':', '(', 'a', ')', 'the', 'select', '##able', 'marker', '(', 'sa', '##cc', '##har', '##omy', '##ces', 'c', '##ere', '##vis', '##iae', 'le', '##u', '2', 'gene', ',', 'which', 'complement', '##s', 's', '.', 'p', '##omb', '##e', 'le', '##u', '##1', '-', 'gene', 'and', 's', '.', 'p', '##omb', '##e', 'u', '##ra', '##4', '+', 'and', 'his', '##3', '+', 'genes', ')', ';', '(', 'b', ')', 'the', 'th', '##iam', '##ine', '-', 're', '##press', '##ible', 'nm', '##t', '##1', 'promoter', '(', '3', '##x', ',', '41', '##x', 'and', '81', '##x', 'with', 'extremely', 'high', ',', 'moderate', 'or', 'low', 'transcription', 'efficiency', ',', 'respectively', ')', ';', 'and', '(', 'c', ')', 'the', 'multiple', 'c', '##lon', '##ing', 'site', '(', 'two', 'multiple', 'c', '##lon', '##ing', 'sites', ',', 'with', '12', 'restriction', 'sites', 'each', ')', '.'], ['O', 'O', 'O', 'O', 'O', 'B-GENE', 'I-GENE', 'O', 'O', 'O', 'O', 'O', 'O', 'O', 'O', 'O', 'O', 'O', 'O', 'O', 'O', 'O', 'O', 'O', 'O', 'O', 'O', 'O', 'O', 'O', 'O', 'O', 'O', 'O', 'O', 'O', 'O', 'O', 'O', 'O', 'O', 'O', 'O', 'O', 'B-DRUGS', 'I-DRUGS', 'B-GENE', 'I-GENE', 'I-GENE', 'I-GENE', 'I-GENE', 'O', 'O', 'O', 'O', 'O', 'B-GENE', 'B-GENE', 'I-GENE', 'I-GENE', 'I-GENE', 'I-GENE', 'I-GENE', 'O', 'O', 'O', 'O', 'O', 'O', 'B-GENE', 'I-GENE', 'I-GENE', 'I-GENE', 'O', 'O', 'O', 'B-GENE', 'I-GENE', 'I-GENE', 'I-GENE', 'O', 'O', 'O', 'O', 'O', 'O', 'O', 'O', 'B-DRUGS', 'O', 'O', 'B-GENE', 'I-GENE', 'O', 'O', 'O', 'O', 'O', 'O', 'O', 'O', 'O', 'O', 'O', 'O', 'O', 'O', 'O', 'O', 'O', 'O', 'O', 'O', 'O', 'O', 'O', 'O', 'O', 'O', 'O', 'O', 'O', 'O', 'O']), (['the', 'transcription', 'of', 'most', 'r', '##p', 'genes', 'is', 'activated', 'by', 'two', 'rap', '##1', '##p', 'binding', 'sites', ',', '250', 'to', '400', 'b', '##p', 'upstream', 'from', 'the', 'initiation', 'of', 'transcription', '.'], ['O', 'O', 'O', 'O', 'O', 'O', 'O', 'O', 'O', 'O', 'O', 'O', 'O', 'O', 'O', 'O', 'O', 'O', 'O', 'O', 'O', 'O', 'B-GENE', 'I-GENE', 'O', 'O', 'O', 'O', 'B-GENE']), (['cardiac', 'markers', 't', '##rop', '##oni', '##n', 't', ',', 'c', '##k', '-', 'm', '##b', 'mass', 'and', 'my', '##og', '##lo', '##bin', 'were', 'helpful', 'in', 'the', 'differential', 'diagnosis', 'of', 'chest', 'pain', ',', 'even', 'when', 'the', 'e', '##c', '##g', 'was', 'un', '##rem', '##ark', '##able', 'or', 'non', '##sp', '##ec', '##ific', '.'], ['I-GENE', 'I-GENE', 'O', 'O', 'O', 'O', 'O', 'O', 'O', 'O', 'O', 'O', 'O', 'O', 'O', 'O', 'O', 'O', 'O', 'O', 'O', 'O', 'O', 'O', 'O', 'B-GENE', 'I-GENE', 'O', 'B-GENE', 'O', 'B-GENE', 'O', 'O', 'O', 'O', 'B-GENE', 'O', 'O', 'O', 'O', 'O', 'O', 'O', 'O', 'O', 'O']), (['finally', ',', 'in', 'sit', '##u', 'r', '##na', 'hybrid', '##ization', 'studies', 'revealed', 'a', 'very', 'specific', 'pattern', 'of', 'e', '##pha', '##8', 'gene', 'expression', 'restricted', 'to', 'the', 'r', '##ost', '##ral', 'region', 'of', 'mid', '##bra', '##in', 'te', '##ct', '##um', 'during', 'em', '##b', '##ryo', '##nic', 'development', '.'], ['O', 'O', 'O', 'B-DISEASE', 'B-DISEASE', 'I-DISEASE', 'I-DISEASE', 'O', 'O', 'O', 'O', 'O', 'O', 'O', 'O', 'O', 'O', 'O', 'O', 'O', 'O', 'O', 'O', 'O', 'O', 'O', 'O', 'O', 'O', 'O', 'O', 'O', 'O', 'O', 'O', 'O', 'O', 'O', 'O', 'O', 'O', 'O']), (['none', 'were', 'restricted', 'from', 'clinical', 'duties', ',', 'were', 'given', 'var', '##ice', '##lla', '-', 'z', '##ost', '##er', 'immune', 'g', '##lo', '##bul', '##in', ',', 'or', 'developed', 'disease', '.'], ['O', 'B-GENE', 'I-GENE', 'O', 'O', 'O', 'O', 'O', 'O', 'O', 'O', 'O', 'O', 'O', 'O', 'O', 'O', 'O', 'O', 'O', 'O', 'O', 'O', 'O', 'O', 'O']), (['position', '##al', 'c', '##lon', '##ing', 'has', 'already', 'produced', 'the', 'sequences', 'of', 'more', 'than', '70', 'human', 'genes', 'associated', 'with', 'specific', 'diseases', '.'], ['O', 'O', 'O', 'O', 'O', 'O', 'O', 'O', 'O', 'O', 'B-GENE', 'I-GENE', 'I-GENE', 'I-GENE', 'I-GENE', 'O', 'O', 'O', 'O', 'O', 'O']), (['in', 'this', 'paper', ',', 'we', 'demonstrate', 'that', 'binding', 'of', 'the', 'g', '##a', '-', 'binding', 'protein', '(', 'g', '##ab', '##p', ')', 'to', 'et', '##s', 'sequence', 'motifs', 'within', 'each', 'repeated', 'unit', 'is', 'required', 'for', 'transcription', '##al', 'activation', 'of', 'the', 'co', '##xi', '##v', 'promoter', '.'], ['O', 'O', 'O', 'O', 'O', 'O', 'O', 'O', 'O', 'O', 'O', 'O', 'O', 'O', 'O', 'O', 'O', 'O', 'O', 'O', 'O', 'O', 'O', 'O', 'O', 'O', 'O', 'O', 'O', 'O', 'O', 'O', 'O', 'O', 'B-GENE', 'I-GENE', 'I-GENE', 'I-GENE', 'I-GENE', 'I-GENE', 'O', 'B-GENE']), (['these', 'activities', 'are', 'all', 'required', 'for', 'stimulation', 'of', 'cell', 'growth', 'by', 'middle', '-', 't', 'and', 'activate', 'members', 'of', 'the', 'map', 'kinase', 'family', '.'], ['O', 'O', 'B-GENE', 'I-GENE', 'I-GENE', 'O', 'O', 'O', 'O', 'O', 'O', 'O', 'O', 'O', 'O', 'O', 'B-GENE', 'I-GENE', 'O', 'O', 'O', 'O', 'O']), (['hp', '##l', '##c', 'p', '##hos', '##ph', '##ope', '##pt', '##ide', 'mapping', ',', 'amino', 'acid', 'se', '##quencing', ',', 'and', 'site', '-', 'directed', 'm', '##uta', '##genesis', 'determined', 'that', 'n', '##c', '##lk', 'p', '##hos', '##ph', '##ory', '##lates', 'se', '##r', '(', '67', ')', 'of', 'i', '-', '1', '.'], ['O', 'O', 'O', 'O', 'O', 'O', 'O', 'O', 'O', 'O', 'O', 'O', 'O', 'O', 'O', 'O', 'B-GENE', 'I-GENE', 'I-GENE', 'O', 'O', 'O', 'O', 'O', 'O', 'O', 'O', 'O', 'B-GENE', 'B-GENE', 'B-GENE', 'B-GENE', 'B-GENE', 'I-GENE', 'I-GENE', 'I-GENE', 'O', 'O', 'O', 'O', 'O', 'O', 'O']), (['a', 'ch', '##ao', '##tro', '##pic', 'de', '##ter', '##gent', ',', '0', '.', '1', '%', 'non', '##ide', '##t', 'p', '-', '40', ',', 'also', 'abolished', 'the', 'interaction', ',', 'further', 'supporting', 'the', 'h', '##ydro', '##phobic', 'nature', 'of', 'the', 'interaction', '.'], ['O', 'O', 'O', 'O', 'O', 'O', 'O', 'O', 'O', 'O', 'O', 'O', 'O', 'O', 'O', 'O', 'O', 'B-GENE', 'O', 'O', 'O', 'O', 'O', 'O', 'B-GENE', 'I-GENE', 'I-GENE', 'O', 'O', 'O', 'O', 'O', 'O', 'O', 'O', 'O']), (['g', '##eno', '##mic', 'and', 'c', '##dn', '##a', 'clone', '##s', 'ho', '##mo', '##log', '##ous', 'to', 'the', 'yeast', 'g', '##c', '##n', '##2', 'e', '##if', '-', '2', '##al', '##pha', 'kinase', '(', 'y', '##g', '##c', '##n', '##2', ')', 'were', 'isolated', 'from', 'd', '##ros', '##op', '##hil', '##a', 'me', '##lan', '##oga', '##ster', '.'], ['O', 'O', 'O', 'O', 'O', 'O', 'O', 'B-DRUGS', 'B-DRUGS', 'I-DRUGS', 'I-DRUGS', 'I-DRUGS', 'I-DRUGS', 'O', 'O', 'O', 'O', 'O', 'O', 'O', 'O', 'O', 'O', 'O', 'O', 'O', 'O', 'O', 'O', 'O', 'O', 'O', 'O', 'O', 'O', 'O', 'O', 'O', 'O', 'O', 'O', 'O', 'O', 'O', 'O', 'O', 'O']), (['over', '##ex', '##press', '##ion', 'of', 'r', '##or', '##gam', '##ma', 'has', 'been', 'shown', 'to', 'in', '##hibit', 't', 'cell', 'receptor', '-', 'mediated', 'a', '##pop', '##tosis', 'in', 't', 'cell', 'hybrid', '##oma', '##s', 'and', 'to', 're', '##press', 'the', 'induction', 'of', 'f', '##as', '-', 'l', '##igan', '##d', 'and', 'inter', '##le', '##uki', '##n', '2', '.'], ['O', 'O', 'O', 'O', 'O', 'O', 'O', 'O', 'O', 'O', 'O', 'O', 'O', 'O', 'O', 'B-DRUGS', 'B-GENE', 'B-GENE', 'I-GENE', 'I-GENE', 'O', 'O', 'O', 'O', 'O', 'O', 'O', 'O', 'O', 'O', 'O', 'B-DRUGS', 'B-DRUGS', 'I-DRUGS', 'O', 'O', 'O', 'O', 'O', 'B-GENE', 'B-GENE', 'B-GENE', 'O', 'O', 'O', 'O', 'O', 'O', 'O']), (['the', 'final', 'si', '##gma', '##5', '##4', '-', 'dependent', 'd', '##mp', '##r', 'act', '##iva', '##tor', 'regulate', '##s', 'transcription', 'of', 'the', 'd', '##mp', 'op', '##eron', 'that', 'en', '##codes', 'the', 'enzymes', 'for', 'cat', '##ab', '##olis', '##m', 'of', '(', 'met', '##hyl', ')', 'p', '##hen', '##ols', '.'], ['O', 'B-GENE', 'I-GENE', 'I-GENE', 'I-GENE', 'I-GENE', 'I-GENE', 'O', 'O', 'O', 'O', 'O', 'O', 'O', 'O', 'O', 'O', 'O', 'O', 'O', 'O', 'O', 'O', 'O', 'O', 'O', 'O', 'O', 'B-GENE', 'I-GENE', 'I-GENE', 'I-GENE', 'I-GENE', 'I-GENE', 'O', 'B-GENE', 'B-GENE', 'I-GENE', 'O', 'O', 'O', 'O']), (['when', 'te', '##ther', '##ed', 'to', 'a', 'he', '##tero', '##log', '##ous', 'd', '##na', '-', 'binding', 'domain', ',', 'ps', '##u', '##1', 'can', 'activate', 'transcription', 'on', 'its', 'own', '.'], ['O', 'O', 'O', 'O', 'B-GENE', 'I-GENE', 'I-GENE', 'I-GENE', 'I-GENE', 'I-GENE', 'I-GENE', 'I-GENE', 'I-GENE', 'O', 'O', 'O', 'O', 'O', 'O', 'B-GENE', 'I-GENE', 'O', 'O', 'O', 'O', 'O']), (['the', 'so', '##rp', '##tion', 'mechanisms', 'changed', 'from', 'ads', '##or', '##ption', 'to', 'partition', 'in', 'the', 'process', 'of', 're', '##pet', '##iti', '##ous', 'so', '##rp', '##tion', '.'], ['O', 'O', 'O', 'O', 'O', 'B-DRUGS', 'O', 'O', 'O', 'O', 'O', 'O', 'O', 'O', 'O', 'O', 'O', 'O', 'O', 'O', 'O', 'O', 'O', 'O']), (['t', '##yr', '##os', '##ine', '112', 'of', 'late', '##nt', 'membrane', 'protein', '2', '##a', 'is', 'essential', 'for', 'protein', 't', '##yr', '##os', '##ine', 'kinase', 'loading', 'and', 'regulation', 'of', 'e', '##ps', '##tein', '-', 'bar', '##r', 'virus', 'late', '##ncy', '.'], ['O', 'O', 'O', 'O', 'O', 'O', 'B-GENE', 'B-GENE', 'O', 'O', 'O', 'O', 'O', 'O', 'O', 'O', 'O', 'O', 'O', 'O', 'O', 'O', 'O', 'O', 'O', 'O', 'O', 'O', 'O', 'O', 'O', 'O', 'O', 'O', 'O']), (['pro', '##gno', '##sis', 'of', 'as', '##ym', '##pt', '##oma', '##tic', 'multiple', 'my', '##elo', '##ma', '.'], ['O', 'O', 'O', 'O', 'O', 'O', 'O', 'O', 'O', 'O', 'O', 'O', 'O', 'B-DRUGS']), (['in', 'contrast', 'to', 'behavioral', 'de', '##viation', '(', 'the', 'avoid', '##ance', 'conditioning', 'lost', ')', ',', 'the', 'ha', '##lop', '##eri', '##do', '##l', 'in', '##tras', '##tri', '##ata', '##l', 'micro', '##in', '##jection', '##s', 'did', 'not', 'affect', 'the', 'da', 's', '##yna', '##ptic', 'level', 'in', 'r', '##ost', '##ral', 'neo', '##st', '##ria', '##tum', '.'], ['O', 'O', 'B-GENE', 'I-GENE', 'I-GENE', 'I-GENE', 'I-GENE', 'O', 'O', 'O', 'O', 'B-GENE', 'I-GENE', 'I-GENE', 'O', 'O', 'O', 'O', 'O', 'O', 'O', 'O', 'O', 'O', 'O', 'O', 'O', 'O', 'O', 'B-DRUGS', 'O', 'O', 'O', 'O', 'O', 'O', 'O', 'O', 'O', 'O', 'O', 'O', 'O', 'O', 'O', 'O', 'O']), (['from', '250', 'g', 'of', 'cells', ',', 'we', 'isolated', '1', 'mg', 'of', 'p', '##dh', 'complex', 'with', 'a', 'specific', 'activity', 'of', '12', '.', '6', 'u', '/', 'mg', 'of', 'protein', '.'], ['O', 'O', 'O', 'O', 'O', 'O', 'O', 'O', 'O', 'O', 'O', 'O', 'O', 'O', 'O', 'O', 'O', 'O', 'O', 'O', 'O', 'O', 'O', 'O', 'O', 'O', 'O', 'O']), (['del', '##eti', '##on', 'of', 'the', 'pro', '##ximal', 'o', '##ct', '##anu', '##cle', '##ot', '##ide', 'motif', 'from', 'the', 'p', '##las', '##mi', '##d', 'containing', 'the', '-', '46', '##1', 'fragment', 'of', 'the', 'l', '##p', '##l', 'promoter', ',', 'resulted', 'in', 'a', '79', 'and', '76', '%', 'decrease', 'in', 'the', 'level', 'of', 'expression', 'in', 'trans', '##fected', '3', '##t', '##3', '-', 'l', '##1', 'ad', '##ip', '##ocytes', 'and', 'he', '##p', '##g', '##2', 'he', '##pa', '##to', '##cy', '##tes', ',', 'respectively', '.'], ['O', 'O', 'O', 'O', 'O', 'O', 'O', 'O', 'O', 'O', 'O', 'O', 'O', 'O', 'O', 'O', 'O', 'O', 'O', 'O', 'O', 'O', 'O', 'O', 'O', 'O', 'O', 'B-GENE', 'I-GENE', 'I-GENE', 'I-GENE', 'O', 'O', 'O', 'O', 'O', 'O', 'O', 'O', 'O', 'O', 'O', 'O', 'O', 'O', 'O', 'O', 'O', 'O', 'O', 'O', 'O', 'O', 'O', 'O', 'O', 'O', 'O', 'O', 'O', 'O', 'O', 'O', 'O', 'O', 'O', 'O', 'O', 'O', 'O', 'O']), (['the', 'fragments', 'of', 'each', 'region', 'were', 'am', '##plified', 'by', 'polymer', '##ase', 'chain', 'reaction', 'and', 'analyzed', 'by', 'gel', 'electro', '##ph', '##ores', '##is', 'to', 'detect', 'single', '-', 'strand', 'conform', '##ation', 'p', '##oly', '##mor', '##phism', '.'], ['O', 'O', 'O', 'O', 'B-GENE', 'I-GENE', 'O', 'O', 'O', 'O', 'O', 'O', 'O', 'O', 'O', 'O', 'O', 'O', 'O', 'O', 'O', 'O', 'O', 'O', 'O', 'O', 'O', 'O', 'O', 'O', 'O', 'O', 'O']), (['a', 'third', 'prominent', 'component', 'of', 'apparent', 'molecular', 'mass', '16', 'k', '##da', 'displayed', 'several', 'properties', ',', 'including', 'ability', 'to', 'bind', '45', '##ca', '##2', '+', ',', 'that', 'are', 'characteristic', 'of', 'the', 'regulatory', '(', 'b', ')', 'subunit', 'of', 'ma', '##mmal', '##ian', 'ca', '##l', '##cine', '##uri', '##n', 'and', 'was', 'recognized', 'by', 'an', 'anti', '##ser', '##um', 'raised', 'against', 'b', '##ov', '##ine', 'ca', '##l', '##cine', '##uri', '##n', '.'], ['O', 'O', 'O', 'O', 'O', 'O', 'O', 'O', 'O', 'O', 'O', 'O', 'O', 'O', 'O', 'O', 'O', 'O', 'O', 'O', 'O', 'O', 'O', 'O', 'O', 'O', 'O', 'O', 'O', 'O', 'O', 'O', 'O', 'O', 'O', 'O', 'O', 'O', 'O', 'O', 'O', 'O', 'O', 'O', 'O', 'O', 'O', 'O', 'O', 'O', 'O', 'O', 'O', 'O', 'O', 'O', 'O', 'O', 'O', 'O', 'O', 'O']), (['elimination', 'of', 'et', '##h', '##1', 'in', 'a', '##p', '##n', '##1', 'strains', 'also', 'increased', 'spontaneous', 'mutation', 'rates', '9', '-', 'or', '31', '-', 'fold', 'compared', 'to', 'the', 'wild', 'type', 'as', 'determined', 'by', 're', '##version', 'to', 'ad', '##eni', '##ne', 'or', 'l', '##ys', '##ine', 'pro', '##to', '##tro', '##phy', ',', 'respectively', '.'], ['O', 'O', 'O', 'O', 'O', 'O', 'O', 'O', 'O', 'O', 'O', 'O', 'B-DRUGS', 'O', 'O', 'O', 'O', 'O', 'O', 'O', 'O', 'O', 'O', 'O', 'O', 'O', 'B-GENE', 'I-GENE', 'O', 'O', 'O', 'O', 'O', 'O', 'O', 'O', 'O', 'O', 'O', 'O', 'O', 'O', 'O', 'O', 'B-GENE', 'I-GENE', 'O']), (['with', 'the', 'help', 'of', 'a', 'no', '##mo', '##gram', 'one', 'can', 'read', 'off', 'the', 're', '##fra', '##ction', ',', 'when', 'axis', 'length', 'and', 'corn', '##eal', 'cu', '##rva', '##ture', 'are', 'known', '.'], ['O', 'O', 'O', 'B-GENE', 'O', 'B-GENE', 'B-GENE', 'B-GENE', 'O', 'O', 'O', 'O', 'O', 'O', 'O', 'O', 'O', 'O', 'O', 'O', 'O', 'O', 'O', 'O', 'O', 'O', 'O', 'O', 'O']), (['a', 'direct', 'role', 'for', 's', '##tero', '##l', 'regulatory', 'element', 'binding', 'protein', 'in', 'activation', 'of', '3', '-', 'h', '##ydro', '##xy', '-', '3', '-', 'met', '##hyl', '##g', '##lut', '##ary', '##l', 'co', '##en', '##zy', '##me', 'a', 'red', '##uc', '##tase', 'gene', '.'], ['O', 'O', 'O', 'O', 'O', 'O', 'O', 'O', 'B-DRUGS', 'O', 'O', 'O', 'O', 'O', 'O', 'O', 'O', 'O', 'O', 'O', 'O', 'O', 'O', 'O', 'O', 'O', 'O', 'O', 'O', 'O', 'O', 'O', 'O', 'O', 'O', 'O', 'O', 'O']), (['we', 'have', 'identified', 'three', 'binding', 'sites', 'for', 'protein', 'complexes', ':', 'a', 'p', '##ali', '##nd', '##rome', ',', 'a', 'direct', 'repeat', ',', 'and', 'a', 'c', '+', 't', 'sequence', 'that', 'corresponds', 'to', 'seven', 'gag', '##a', 'motifs', 'on', 'the', 'trans', '##cribed', 'strand', '.'], ['O', 'O', 'O', 'O', 'O', 'O', 'O', 'O', 'O', 'O', 'O', 'O', 'O', 'O', 'O', 'O', 'O', 'O', 'O', 'O', 'B-GENE', 'B-DRUGS', 'I-DRUGS', 'I-DRUGS', 'I-DRUGS', 'O', 'O', 'O', 'B-GENE', 'I-GENE', 'I-GENE', 'I-GENE', 'I-GENE', 'I-GENE', 'I-GENE', 'I-GENE', 'I-GENE', 'I-GENE', 'I-GENE']), (['modification', 'of', 'do', '##pa', '##mine', 'd', '##2', 'receptor', 'activity', 'by', 'per', '##gol', '##ide', 'in', 'park', '##ins', '##on', \"'\", 's', 'disease', ':', 'an', 'in', 'v', '##ivo', 'study', 'by', 'pet', '.'], ['B-DRUGS', 'O', 'O', 'O', 'O', 'O', 'O', 'O', 'O', 'O', 'O', 'O', 'O', 'O', 'O', 'O', 'O', 'O', 'O', 'O', 'O', 'O', 'O', 'O', 'O', 'O', 'O', 'O', 'O']), (['in', 'the', 'p', '##51', 'subunit', ',', 'the', 'c', '##ys', '##18', '##1', 'side', '-', 'chain', 'is', 'oriented', 'in', 'a', 'similar', 'direction', 'to', 'the', 't', '##yr', '##18', '##1', 'side', '-', 'chain', 'in', 'the', 'wild', '-', 'type', 'complex', '.'], ['O', 'O', 'O', 'O', 'O', 'O', 'O', 'O', 'O', 'O', 'O', 'O', 'O', 'O', 'O', 'O', 'O', 'O', 'O', 'O', 'O', 'O', 'O', 'O', 'O', 'O', 'O', 'B-GENE', 'B-DRUGS', 'I-DRUGS', 'O', 'O', 'O', 'O', 'B-DISEASE', 'I-DISEASE']), (['expense', 'limits', 'the', 'use', 'of', 'he', '##pa', '##titis', 'b', 'vaccine', '##s', ',', 'but', 'low', '-', 'dose', 'in', '##tra', '##der', '##mal', 'im', '##mu', '##ni', '##zation', 'has', 'been', 'evaluated', 'as', 'a', 'cost', '-', 'saving', 'strategy', 'in', 'numerous', 'studies', '.'], ['I-DISEASE', 'I-DISEASE', 'O', 'O', 'O', 'O', 'O', 'O', 'O', 'O', 'O', 'O', 'O', 'O', 'O', 'O', 'B-GENE', 'B-GENE', 'B-GENE', 'B-GENE', 'I-GENE', 'I-GENE', 'I-GENE', 'I-GENE', 'O', 'O', 'B-DRUGS', 'O', 'O', 'O', 'O', 'O', 'O', 'O', 'O', 'O', 'O']), (['blood', 'flow', 'velocity', 'wave', '##form', '##s', 'were', 'recorded', 'by', 'pulsed', 'do', '##pp', '##ler', 'examination', 'of', 'the', 'f', '##etal', 'internal', 'car', '##ot', '##id', 'and', 'middle', 'cerebral', 'art', '##eries', 'using', 'the', 'established', 'trans', '##ab', '##dom', '##inal', 'route', 'as', 'well', 'as', 'a', 'new', 'trans', '##va', '##gin', '##al', 'approach', '.'], ['O', 'B-DRUGS', 'O', 'O', 'O', 'O', 'O', 'O', 'O', 'O', 'O', 'O', 'O', 'O', 'O', 'O', 'O', 'O', 'O', 'O', 'O', 'O', 'O', 'O', 'O', 'O', 'O', 'O', 'O', 'O', 'O', 'O', 'O', 'O', 'O', 'O', 'O', 'O', 'O', 'O', 'O', 'O', 'O', 'O', 'O', 'O']), (['ex', '##pan', '##sin', '##s', 'are', 'a', 'family', 'of', 'proteins', 'that', 'cat', '##aly', '##se', 'long', '-', 'term', 'extension', 'of', 'isolated', 'plant', 'cell', 'walls', 'due', 'to', 'an', 'as', 'yet', 'unknown', 'bio', '##chemical', 'mechanism', '.'], ['O', 'O', 'O', 'O', 'O', 'O', 'O', 'O', 'O', 'O', 'O', 'O', 'O', 'O', 'O', 'O', 'O', 'O', 'O', 'O', 'O', 'O', 'O', 'O', 'O', 'O', 'O', 'O', 'O', 'O', 'O', 'O']), (['the', 'c', '##gli', '##m', 'gene', 'is', 'organized', 'in', 'an', 'unusual', 'op', '##eron', 'which', 'contains', ',', 'in', 'addition', ',', 'two', 'genes', 'encoding', 'stress', '-', 'sensitive', 'restriction', 'enzymes', '.'], ['O', 'O', 'O', 'O', 'O', 'O', 'O', 'O', 'O', 'O', 'O', 'O', 'O', 'O', 'O', 'O', 'O', 'O', 'O', 'O', 'B-GENE', 'O', 'O', 'O', 'O', 'O', 'O']), (['a', 'soap', 'and', 'water', '(', '1', ':', '1', ',', 'v', '/', 'v', ')', 'solution', 'effectively', 'de', '##con', '##tam', '##inated', 'powder', '##ed', 's', '##tra', '##tum', 'corn', '##eum', '.'], ['O', 'O', 'O', 'O', 'O', 'O', 'O', 'O', 'O', 'O', 'O', 'O', 'O', 'O', 'O', 'O', 'O', 'O', 'O', 'O', 'O', 'O', 'O', 'O', 'O', 'O', 'O']), (['s', '##rb', '##10', 'is', 'a', 'physiological', 'regulator', 'of', 'g', '##c', '##n', '##4', 'stability', 'because', 'both', 'p', '##hos', '##ph', '##ory', '##lation', 'and', 'turnover', 'of', 'g', '##c', '##n', '##4', 'are', 'diminished', 'in', 's', '##rb', '##10', 'mutant', '##s', '.'], ['O', 'O', 'O', 'B-GENE', 'I-GENE', 'O', 'O', 'O', 'O', 'O', 'O', 'O', 'O', 'O', 'O', 'O', 'O', 'O', 'O', 'O', 'O', 'O', 'O', 'O', 'O', 'O', 'O', 'O', 'O', 'O', 'O', 'O', 'O', 'O', 'O', 'O']), (['ongoing', 'and', 'future', 'investigations', 'may', 'better', 'define', 'the', 'optimal', 'approach', 'for', 'local', 'control', ',', 'the', 'optimal', 'duration', 'of', 'maintenance', 'ch', '##em', '##otherapy', ',', 'and', 'the', 'possible', 'role', 'of', 'bio', '##log', '##ic', 'response', 'm', '##od', '##ifier', '##s', 'and', 'growth', 'factors', 'in', 'further', 'improving', 'the', 'outcome', 'for', 'patients', 'with', 'this', 'disease', '.'], ['O', 'O', 'O', 'O', 'O', 'O', 'O', 'O', 'O', 'O', 'O', 'O', 'O', 'O', 'O', 'O', 'O', 'O', 'O', 'O', 'O', 'O', 'O', 'O', 'O', 'O', 'O', 'B-GENE', 'O', 'O', 'O', 'O', 'O', 'O', 'O', 'O', 'O', 'O', 'B-GENE', 'O', 'O', 'O', 'O', 'O', 'O', 'O', 'B-GENE', 'O', 'O', 'O']), (['su', '##l', '##ph', '##ur', 'amino', 'acids', '(', 'g', '/', '16', 'g', 'n', ')', 'were', 'higher', 'in', 'the', 'is', '##olate', '##s', 'than', 'in', 'the', 'flour', '##s', '.'], ['B-GENE', 'B-GENE', 'B-GENE', 'B-GENE', 'I-GENE', 'O', 'O', 'O', 'O', 'O', 'O', 'O', 'O', 'O', 'O', 'O', 'O', 'O', 'O', 'O', 'O', 'O', 'O', 'O', 'O', 'O']), (['these', 'characteristic', 'structural', 'features', 'were', 'used', 'to', 'create', 'the', 'abbreviation', 'a', '##z', '##f', '##1', '(', 'as', '##par', '##agi', '##ne', '-', 'rich', 'zinc', 'finger', 'protein', ')', '.'], ['O', 'O', 'O', 'O', 'O', 'O', 'O', 'O', 'O', 'O', 'O', 'O', 'O', 'O', 'O', 'O', 'O', 'O', 'O', 'O', 'O', 'O', 'O', 'O', 'O', 'O']), (['a', 'pro', '##sta', '##g', '##land', '##in', 'analogue', 'given', 'in', 'early', 'pregnancy', 'and', 'human', 'ch', '##orio', '##nic', 'go', '##nado', '##tro', '##pin', 'given', 'near', 'the', 'end', 'of', 'the', 'ensuing', 'f', '##oll', '##icular', 'phase', 'were', 'used', 'for', 'controlling', 'the', 'reproductive', 'cycle', ',', 'timing', 'o', '##oc', '##yte', 'collection', ',', 'and', 's', '##ync', '##hr', '##oni', '##zing', 'the', 'cycles', 'of', 'o', '##oc', '##yte', 'donors', 'and', 'em', '##b', '##ryo', 'recipients', '.'], ['O', 'O', 'O', 'O', 'O', 'O', 'O', 'O', 'O', 'O', 'O', 'O', 'O', 'O', 'O', 'O', 'O', 'O', 'O', 'O', 'O', 'O', 'O', 'O', 'O', 'O', 'O', 'O', 'O', 'O', 'O', 'O', 'O', 'O', 'O', 'O', 'O', 'O', 'O', 'O', 'O', 'O', 'O', 'O', 'O', 'O', 'O', 'O', 'O', 'O', 'O', 'O', 'O', 'O', 'O', 'O', 'O', 'O', 'B-GENE', 'O', 'O', 'O', 'B-GENE', 'I-GENE']), (['high', 'levels', 'of', 'serum', 'ca', '##l', '##ci', '##ton', '##in', 'were', 'found', 'in', 'patients', 'with', 'chronic', 're', '##nal', 'failure', '.'], ['B-DRUGS', 'I-DRUGS', 'I-DRUGS', 'I-DRUGS', 'O', 'O', 'O', 'O', 'O', 'O', 'O', 'O', 'B-DRUGS', 'O', 'O', 'O', 'O', 'O', 'O']), (['by', 'using', 'space', '-', 'discrete', '/', 'continuous', 'meta', '##pop', '##ulation', 'dynamic', 'models', 'and', 'computer', 'simulation', '##s', ',', 'we', 'show', 'that', 'there', 'can', 'be', 'two', 'principally', 'different', 'regime', '##s', 'of', 'meta', '##pop', '##ulation', 'dynamics', '.'], ['O', 'B-GENE', 'I-GENE', 'I-GENE', 'O', 'O', 'O', 'O', 'O', 'O', 'O', 'O', 'O', 'O', 'O', 'O', 'O', 'O', 'O', 'O', 'O', 'O', 'O', 'O', 'O', 'O', 'O', 'O', 'O', 'O', 'O', 'O', 'O', 'O']), (['pro', '##life', '##rative', 'v', '##as', '##cu', '##lop', '##athy', 'and', 'cut', '##aneous', 'hem', '##or', '##r', '##hage', '##s', 'in', 'p', '##or', '##cine', 'neon', '##ates', 'infected', 'with', 'the', 'p', '##or', '##cine', 'reproductive', 'and', 'respiratory', 'syndrome', 'virus', '.'], ['O', 'O', 'O', 'O', 'O', 'O', 'O', 'O', 'O', 'O', 'O', 'O', 'O', 'O', 'O', 'O', 'O', 'O', 'O', 'O', 'O', 'O', 'O', 'O', 'O', 'O', 'O', 'O', 'O', 'B-GENE', 'O', 'O', 'O', 'O']), (['no', 'patient', 'with', 'bra', '##dy', '##ar', '##r', '##hy', '##th', '##mia', '-', 'related', 's', '##c', '##d', 'had', 'manifest', 'at', '##rio', '##vent', '##ric', '##ular', 'block', 'or', 'bundle', 'branch', 'block', '.'], ['O', 'O', 'O', 'O', 'O', 'O', 'O', 'O', 'O', 'O', 'O', 'O', 'O', 'O', 'O', 'O', 'O', 'O', 'O', 'O', 'O', 'O', 'O', 'O', 'O', 'O', 'O', 'O']), (['while', 'no', 'significant', 'differences', 'in', 'the', 'tens', '##ile', 'responses', 'or', 'failure', 'characteristics', 'were', 'noted', 'for', 'i', '##rra', '##dia', '##ted', 'and', 'non', '##ir', '##rad', '##iated', 'g', '##raft', '##s', 'in', 'the', 'd', '##rip', ',', 'in', 'the', 'bath', 'environment', 'the', 'non', '##ir', '##rad', '##iated', 'tissues', 'had', 'greater', 'strength', 'and', 'm', '##od', '##ulus', '.'], ['O', 'O', 'O', 'O', 'O', 'O', 'O', 'O', 'O', 'O', 'O', 'O', 'O', 'O', 'O', 'O', 'O', 'O', 'O', 'O', 'O', 'O', 'O', 'O', 'O', 'O', 'O', 'O', 'O', 'O', 'O', 'O', 'O', 'O', 'O', 'O', 'O', 'O', 'O', 'O', 'O', 'O', 'O', 'O', 'O', 'O', 'O', 'O', 'O', 'O']), (['the', 'proposed', 'mechanism', 'of', 'effect', 'states', 'that', 'mon', '##o', '(', '2', '-', 'et', '##hyl', '##he', '##xy', '##l', ')', 'p', '##ht', '##hala', '##te', '(', 'me', '##hp', ')', ',', 'the', 'primary', 'h', '##ydro', '##lysis', 'product', 'of', 'de', '##hp', ',', 'mimic', '##s', 'the', 'in', '##ducing', 'pro', '##sta', '##g', '##land', '##ins', '(', 'p', '##g', ')', 'p', '##g', '##d', '(', '2', ')', ',', '9', '##al', '##pha', ',', '11', '##bet', '##ap', '##g', '##f', '##2', ',', 'and', 'p', '##g', '##f', '##2', '##al', '##pha', ',', 'and', 'th', '##rom', '##box', '##ane', '##s', 'in', 'the', 'lungs', ',', 'thereby', 'increasing', 'the', 'risk', 'of', 'in', '##ducing', 'inflammation', 'in', 'the', 'air', '##ways', ',', 'which', 'is', 'a', 'characteristic', 'of', 'as', '##th', '##ma', '.'], ['O', 'O', 'O', 'O', 'O', 'O', 'O', 'O', 'O', 'O', 'O', 'O', 'O', 'O', 'O', 'O', 'O', 'O', 'O', 'O', 'O', 'O', 'O', 'O', 'O', 'O', 'O', 'O', 'O', 'O', 'O', 'O', 'O', 'O', 'O', 'O', 'O', 'O', 'O', 'O', 'O', 'O', 'O', 'O', 'O', 'O', 'O', 'O', 'O', 'O', 'O', 'O', 'O', 'O', 'O', 'O', 'O', 'O', 'O', 'O', 'O', 'O', 'O', 'O', 'O', 'O', 'O', 'O', 'O', 'O', 'O', 'O', 'O', 'O', 'O', 'O', 'O', 'O', 'O', 'O', 'O', 'O', 'O', 'O', 'O', 'O', 'O', 'O', 'O', 'O', 'O', 'O', 'O', 'O', 'O', 'O', 'O', 'O', 'O', 'O', 'O', 'O', 'B-DRUGS', 'I-DRUGS', 'I-DRUGS', 'I-DRUGS', 'I-DRUGS', 'I-DRUGS', 'I-DRUGS']), (['processing', 'of', 'the', 'n', '##s', '##3', \"'\", '-', '5', '##b', 'p', '##oly', '##p', '##rote', '##in', 'was', 'complex', 'and', 'occurred', 'rapidly', '.'], ['I-DRUGS', 'I-DRUGS', 'I-DRUGS', 'I-DRUGS', 'I-DRUGS', 'I-DRUGS', 'O', 'O', 'O', 'O', 'O', 'O', 'O', 'O', 'O', 'O', 'O', 'O', 'O', 'O', 'O']), (['application', 'of', 'the', 'method', 'to', 'a', 'representative', 'set', 'of', '50', 'known', 'genes', 'from', 'a', '##rab', '##ido', '##psis', 'th', '##alia', '##na', 'showed', 'significant', 'improvement', 'in', 'prediction', 'accuracy', 'compared', 'to', 'previous', 's', '##p', '##lice', '##d', 'alignment', 'methods', '.'], ['O', 'O', 'B-DRUGS', 'I-DRUGS', 'I-DRUGS', 'I-DRUGS', 'B-DRUGS', 'I-DRUGS', 'I-DRUGS', 'I-DRUGS', 'I-DRUGS', 'I-DRUGS', 'O', 'O', 'O', 'O', 'O', 'O', 'O', 'O', 'O', 'O', 'O', 'O', 'B-DRUGS', 'O', 'O', 'O', 'O', 'O', 'O', 'O', 'O', 'O', 'O', 'O']), (['vocal', 'cord', 'a', '##b', '##duction', 'rehabilitation', 'by', 'nervous', 'selective', 'an', '##ast', '##omo', '##sis', '.'], ['O', 'O', 'O', 'O', 'O', 'O', 'O', 'O', 'O', 'O', 'O', 'O', 'O', 'O']), (['p', '##let', '##hy', '##smo', '##graphic', 'technique', 'and', 'indirect', 'blood', 'pressure', 'recordings', 'were', 'used', '.'], ['O', 'O', 'O', 'O', 'O', 'O', 'O', 'B-DRUGS', 'O', 'O', 'O', 'O', 'O', 'B-GENE']), (['bone', 'ma', '##rrow', 'abnormal', '##ities', 'in', 'ho', '##d', '##g', '##kin', \"'\", 's', 'disease', 'are', 'reviewed', 'and', 'the', 'current', 'understanding', 'of', 'the', 'path', '##ological', 'mechanisms', 'leading', 'to', 'a', '##p', '##lastic', 'an', '##emia', 'is', 'discussed', '.'], ['I-GENE', 'O', 'O', 'B-GENE', 'B-GENE', 'O', 'O', 'O', 'O', 'O', 'O', 'O', 'O', 'O', 'O', 'O', 'O', 'O', 'O', 'O', 'O', 'O', 'O', 'O', 'O', 'O', 'O', 'O', 'O', 'O', 'O', 'O', 'O', 'O']), (['detection', 'of', 'anti', '-', 'l', '##ymph', '##oc', '##yte', 'antibodies', 'using', 'the', 'im', '##mu', '##no', '##per', '##ox', '##idas', '##e', 'anti', '##g', '##lo', '##bul', '##in', 'tech', '##nic', '.'], ['O', 'O', 'O', 'O', 'O', 'O', 'O', 'O', 'O', 'O', 'O', 'O', 'O', 'O', 'O', 'O', 'O', 'O', 'O', 'O', 'O', 'O', 'O', 'O', 'O', 'O']), (['the', 'mean', 'values', 'of', 'the', 'concentrations', 'of', 'the', 'components', 'due', 'to', 'tobacco', 'smoke', 'are', ':', 'co', '=', '1', '.', '1', 'pp', '##m', ',', 'no', '=', '32', 'pp', '##b', ',', 'no', '##2', '=', '24', 'pp', '##b', ',', 'ni', '##cot', '##ine', '=', '0', '.', '9', 'micro', '##gram', '##s', '/', 'm', '##3', ',', 'part', '##iculate', 'matter', '=', '133', 'micro', '##gram', '##s', '/', 'm', '##3', '.'], ['O', 'O', 'O', 'O', 'O', 'O', 'O', 'O', 'O', 'O', 'O', 'O', 'O', 'O', 'O', 'O', 'O', 'O', 'O', 'O', 'O', 'O', 'O', 'O', 'O', 'B-DISEASE', 'I-DISEASE', 'I-DISEASE', 'I-DISEASE', 'O', 'O', 'B-DISEASE', 'I-DISEASE', 'I-DISEASE', 'I-DISEASE', 'I-DISEASE', 'O', 'O', 'O', 'O', 'O', 'O', 'O', 'O', 'O', 'O', 'O', 'O', 'O', 'O', 'O', 'O', 'O', 'O', 'B-DISEASE', 'I-DISEASE', 'I-DISEASE', 'I-DISEASE', 'O', 'O', 'O', 'O']), (['infection', 'with', 'ne', '##isse', '##ria', 'men', '##ing', '##iti', '##dis', 'group', 'b', 'has', 'been', 'difficult', 'to', 'detect', ',', 'partly', 'because', 'this', 'bacterial', 'group', \"'\", 's', 'p', '##oly', '##sa', '##cc', '##hari', '##de', 'is', 'a', 'weak', 'im', '##mu', '##no', '##gen', '.'], ['O', 'O', 'O', 'O', 'O', 'O', 'O', 'O', 'O', 'O', 'O', 'O', 'O', 'O', 'B-GENE', 'B-GENE', 'O', 'O', 'O', 'O', 'O', 'O', 'O', 'O', 'O', 'O', 'O', 'O', 'O', 'O', 'O', 'O', 'O', 'O', 'O', 'O', 'O', 'O']), (['laser', 'a', '##bla', '##tion', 'has', 'been', 'employed', 'as', 'a', 'therapeutic', 'measure', 'for', 'chronic', 'pulmonary', 'em', '##phy', '##se', '##ma', '.'], ['O', 'O', 'O', 'O', 'O', 'O', 'B-DRUGS', 'O', 'O', 'O', 'O', 'O', 'O', 'B-DRUGS', 'O', 'O', 'O', 'O', 'O']), (['the', 'drug', 'sensitivity', 'was', '100', '%', 'for', 'van', '##com', '##y', '##cin', '(', 'v', '##c', '##m', ')', ',', '30', '%', 'for', 'im', '##ip', '##ena', '##m', '(', 'imp', ')', ',', '31', '%', 'for', 'min', '##omy', '##cin', '(', 'min', '##o', ')', ',', '31', '%', 'for', 'am', '##ika', '##cin', '(', 'am', '##k', ')', ',', 'and', '7', '%', 'for', 'f', '##os', '##fo', '##my', '##cin', '(', 'f', '##om', ')', '.'], ['O', 'O', 'B-DRUGS', 'O', 'O', 'O', 'O', 'B-DRUGS', 'B-DRUGS', 'B-DRUGS', 'B-DRUGS', 'O', 'O', 'O', 'O', 'O', 'O', 'O', 'O', 'O', 'O', 'O', 'O', 'O', 'O', 'O', 'O', 'O', 'O', 'O', 'O', 'O', 'O', 'O', 'O', 'O', 'O', 'O', 'B-DISEASE', 'I-DISEASE', 'I-DISEASE', 'O', 'O', 'O', 'O', 'O', 'O', 'O', 'O', 'O', 'O', 'O', 'O', 'O', 'O', 'O', 'O', 'O', 'O', 'O', 'O', 'O', 'O', 'O']), (['g', '##lo', '##mer', '##ular', 'hem', '##ody', '##nam', '##ics', 'during', 'abortion', 'induced', 'by', 'r', '##u', '48', '##6', 'and', 'se', '##psis', 'in', 'rats', '.'], ['O', 'O', 'O', 'O', 'O', 'O', 'O', 'O', 'O', 'O', 'O', 'O', 'O', 'O', 'O', 'O', 'O', 'O', 'O', 'O', 'O', 'O']), (['in', '##tra', '##ven', '##ous', 'glucose', 'tolerance', 'tests', 'were', 'performed', 'before', 'operation', ',', 'before', 'starting', 'c', '##ya', 'and', 'after', '3', 'weeks', '.'], ['O', 'O', 'O', 'O', 'O', 'O', 'B-DISEASE', 'I-DISEASE', 'I-DISEASE', 'O', 'O', 'O', 'O', 'O', 'O', 'O', 'O', 'O', 'O', 'B-DRUGS', 'I-DRUGS']), (['p', '##har', '##ma', '##co', '##log', '##ic', 'aspects', 'of', 'neon', '##ata', '##l', 'h', '##yper', '##bil', '##ir', '##ubi', '##ne', '##mia', '.'], ['I-DRUGS', 'I-DRUGS', 'I-DRUGS', 'I-DRUGS', 'I-DRUGS', 'I-DRUGS', 'I-DRUGS', 'O', 'O', 'O', 'O', 'O', 'O', 'O', 'O', 'O', 'O', 'O', 'O']), (['d', '##na', '-', 'dependent', 'protein', 'kinase', '(', 'd', '##na', '-', 'p', '##k', ')', 'consists', 'of', 'a', 'he', '##tero', '##di', '##mer', '##ic', 'protein', '(', 'k', '##u', ')', 'and', 'a', 'large', 'cat', '##alytic', 'subunit', '(', 'd', '##na', '-', 'p', '##k', '##cs', ')', '.'], ['B-DRUGS', 'B-DRUGS', 'I-DRUGS', 'I-DRUGS', 'I-DRUGS', 'O', 'O', 'O', 'O', 'O', 'B-DRUGS', 'B-DRUGS', 'I-DRUGS', 'I-DRUGS', 'I-DRUGS', 'O', 'O', 'O', 'O', 'O', 'O', 'O', 'O', 'B-DRUGS', 'B-DRUGS', 'I-DRUGS', 'I-DRUGS', 'I-DRUGS', 'O', 'O', 'O', 'O', 'O', 'O', 'O', 'B-DRUGS', 'I-DRUGS', 'I-DRUGS', 'I-DRUGS', 'I-DRUGS', 'I-DRUGS']), (['se', '##rod', '##ia', '##gno', '##sis', 'of', 'e', '##ct', '##rome', '##lia', 'in', 'laboratory', 'mice'], ['O', 'O', 'O', 'O', 'O', 'O', 'B-DISEASE', 'B-DISEASE', 'B-DISEASE', 'B-DISEASE', 'I-DISEASE', 'O', 'O']), (['no', 'mutation', 'of', 'the', 'n', '##rl', 'gene', 'was', 'found', 'in', 'any', 'of', 'the', 'two', 'families', '.'], ['O', 'O', 'B-DRUGS', 'I-DRUGS', 'O', 'O', 'O', 'O', 'O', 'O', 'O', 'O', 'B-DRUGS', 'O', 'O', 'O']), (['ten', 'out', '-', 'patients', 'with', 'pu', '##st', '##ulos', '##is', 'palm', '##aris', 'et', 'plant', '##aris', 'were', 'examined', 'with', 'direct', 'im', '##mu', '##no', '##f', '##lu', '##ores', '##cence', '(', 'if', ')', 'technique', 'for', 'deposition', 'of', 'fi', '##bri', '##no', '##gen', ',', 'fi', '##bri', '##n', 'or', 'its', 'degradation', 'products', '(', 'f', '##r', '-', 'anti', '##gen', ')', 'in', 'affected', 'and', 'un', '##af', '##fected', 'skin', ',', 'together', 'with', 'he', '##par', '##in', '-', 'pre', '##ci', '##pit', '##able', 'fraction', '(', 'hp', '##f', ')', ',', 'cry', '##og', '##lo', '##bul', '##in', 'and', 'total', 'plasma', 'fi', '##bri', '##no', '##gen', 'in', 'the', 'blood', '.'], ['O', 'O', 'O', 'O', 'O', 'O', 'O', 'O', 'O', 'O', 'O', 'O', 'O', 'O', 'O', 'O', 'O', 'O', 'O', 'O', 'O', 'O', 'O', 'O', 'O', 'O', 'O', 'B-DRUGS', 'I-DRUGS', 'O', 'O', 'B-GENE', 'I-GENE', 'I-GENE', 'I-GENE', 'I-GENE', 'I-GENE', 'I-GENE', 'I-GENE', 'I-GENE', 'I-GENE', 'O', 'B-GENE', 'I-GENE', 'I-GENE', 'O', 'O', 'O', 'O', 'O', 'O', 'O', 'O', 'O', 'B-GENE', 'B-GENE', 'B-GENE', 'O', 'O', 'O', 'O', 'O', 'O', 'O', 'O', 'O', 'O', 'O', 'O', 'B-GENE', 'I-GENE', 'I-GENE', 'I-GENE', 'O', 'O', 'O', 'O', 'O', 'O', 'O', 'O', 'O', 'B-DISEASE', 'O', 'O', 'O', 'O', 'O', 'O', 'O', 'O']), (['in', 'addition', ',', 'we', 'show', 'that', 'the', 'expression', 'of', 'individual', 'members', 'of', 'one', 'subfamily', 'of', 'k', '##rab', 'zinc', 'finger', 'genes', 'is', 'restricted', 'to', 'specific', 'hem', '##ato', '##po', '##iet', '##ic', 'cell', 'lineage', '##s', '.'], ['O', 'O', 'O', 'B-GENE', 'I-GENE', 'O', 'O', 'O', 'O', 'O', 'O', 'O', 'O', 'O', 'O', 'O', 'O', 'O', 'O', 'O', 'O', 'B-DISEASE', 'I-DISEASE', 'I-DISEASE', 'I-DISEASE', 'I-DISEASE', 'I-DISEASE', 'I-DISEASE', 'I-DISEASE', 'O', 'O', 'O', 'O']), (['we', 'recently', 'reported', 'a', 'place', '##nta', '-', 'specific', 'enhance', '##r', 'in', 'the', 'human', 'le', '##uke', '##mia', 'inhibitor', '##y', 'factor', 'receptor', '(', 'l', '##if', '##r', ')', 'gene', 'and', 'now', 'show', 'detailed', 'characterization', 'of', 'the', '226', '-', 'base', 'pair', 'enhance', '##r', '(', '-', '46', '##25', '/', '-', '440', '##0', 'n', '##uc', '##leo', '##tide', '##s', ')', '.'], ['O', 'O', 'O', 'O', 'O', 'O', 'O', 'O', 'O', 'O', 'O', 'B-GENE', 'O', 'B-GENE', 'B-GENE', 'B-GENE', 'O', 'O', 'O', 'O', 'O', 'O', 'O', 'O', 'B-GENE', 'I-GENE', 'I-GENE', 'O', 'O', 'O', 'O', 'O', 'O', 'O', 'O', 'O', 'O', 'O', 'O', 'O', 'O', 'O', 'O', 'O', 'O', 'O', 'O', 'B-GENE', 'B-GENE', 'B-GENE', 'B-GENE', 'B-GENE', 'O', 'O']), (['despite', 'continuous', 'compliance', ',', 'une', '##x', '##plain', '##ed', 're', '##su', '##rgen', '##ce', 'of', 'serum', 'f', '##er', '##rit', '##in', 'levels', 'occurred', 'in', '4', '/', '7', 'patients', 'of', 'the', \"'\", 'veteran', \"'\", 'group', 'after', '4', '-', '5', 'years', 'on', 'l', '##1', '.'], ['O', 'B-GENE', 'O', 'O', 'O', 'O', 'O', 'O', 'O', 'O', 'O', 'O', 'O', 'O', 'O', 'O', 'O', 'O', 'O', 'O', 'O', 'O', 'O', 'O', 'O', 'O', 'O', 'O', 'O', 'O', 'O', 'B-GENE', 'I-GENE', 'I-GENE', 'I-GENE', 'O', 'O', 'O', 'O', 'O']), (['initial', 'screening', 'of', 'a', 'rat', 'liver', 'c', '##dn', '##a', 'library', 'with', 'an', 'o', '##li', '##gon', '##uc', '##leo', '##tide', 'probe', 'derived', 'from', 'the', 'rat', 's', '##c', '##p', '##2', 'protein', 'sequence', 'revealed', 'an', '82', '##5', '-', 'base', 'pair', 'c', '##dn', '##a', 'clone', 'coding', 'for', 'the', 'complete', 's', '##c', '##p', '##2', 'protein', 'sequence', '.'], ['O', 'O', 'O', 'O', 'O', 'O', 'O', 'O', 'O', 'O', 'O', 'O', 'O', 'O', 'O', 'O', 'O', 'O', 'O', 'O', 'O', 'O', 'B-GENE', 'I-GENE', 'I-GENE', 'I-GENE', 'I-GENE', 'I-GENE', 'I-GENE', 'I-GENE', 'O', 'B-GENE', 'B-GENE', 'O', 'O', 'O', 'O', 'O', 'O', 'O', 'O', 'O', 'O', 'O', 'O', 'O', 'O', 'O', 'O', 'O', 'O']), (['the', 'u', '##as', 'of', 'the', 'a', '##ac', '##2', 'gene', 'contains', 'at', 'least', 'two', 'distinct', 'motifs', 'for', 'd', '##na', '-', 'binding', 'transcription', '##al', 'act', '##iva', '##tors', ',', 'including', 'one', 'which', 'is', 'identical', 'with', 'the', 'core', 'ha', '##p', '##2', '/', '3', '/', '4', 'binding', 'motif', ',', 'and', 'a', 'second', 'one', 'with', 'the', 'a', '##b', '##f', '##1', 'consensus', 'binding', 'sequence', '.'], ['O', 'O', 'O', 'O', 'O', 'O', 'O', 'O', 'O', 'O', 'B-DRUGS', 'O', 'O', 'O', 'O', 'O', 'O', 'O', 'O', 'O', 'O', 'O', 'O', 'O', 'O', 'O', 'B-GENE', 'O', 'O', 'O', 'O', 'O', 'O', 'O', 'O', 'O', 'O', 'O', 'O', 'O', 'O', 'O', 'O', 'O', 'O', 'O', 'O', 'O', 'O', 'O', 'O', 'O', 'O', 'O', 'O', 'O', 'O', 'O']), (['causes', 'of', 'death', 'found', 'in', 'an', 'e', '##pid', '##em', '##iol', '##ogical', 'study', 'of', 'native', 'chickens', 'in', 'th', '##ai', 'villages', '.'], ['O', 'O', 'O', 'O', 'O', 'O', 'O', 'O', 'O', 'O', 'O', 'O', 'O', 'O', 'O', 'O', 'B-GENE', 'B-GENE', 'O', 'O']), (['simultaneously', 'a', 'greater', 'na', '##n', 'was', 'found', 'with', 'no', 'change', 'in', 'plasma', 'e', '##pine', '##ph', '##rine', 'response', '.'], ['O', 'O', 'O', 'O', 'O', 'O', 'O', 'O', 'O', 'O', 'O', 'O', 'O', 'O', 'O', 'O', 'B-GENE', 'O']), (['a', 'g', '##eno', '##mic', 'd', '##na', 'clone', 'encoding', 'or', '##y', '##zac', '##ys', '##tat', '##in', '(', 'o', '##c', ')', ',', 'a', 'c', '##ys', '##tein', '##e', 'protein', '##ase', 'inhibitor', '(', 'c', '##ys', '##tat', '##in', ')', 'of', 'rice', ',', 'was', 'isolated', 'from', 'a', 'la', '##mb', '##da', 'em', '##b', '##l', '##3', 'p', '##hage', 'library', 'constructed', 'with', 'sa', '##u', '##3', '##ai', 'partial', 'dig', '##ests', 'of', 'rice', 'ch', '##rom', '##oso', '##mal', 'd', '##na', ',', 'by', 'screening', 'with', 'an', 'o', '##c', 'c', '##dn', '##a', 'as', 'a', 'probe', '.'], ['O', 'O', 'O', 'O', 'O', 'O', 'O', 'O', 'O', 'O', 'O', 'O', 'O', 'O', 'O', 'B-GENE', 'B-GENE', 'I-GENE', 'O', 'O', 'O', 'O', 'O', 'O', 'O', 'O', 'O', 'O', 'O', 'O', 'O', 'O', 'O', 'O', 'O', 'O', 'O', 'O', 'O', 'O', 'O', 'O', 'O', 'O', 'O', 'O', 'O', 'O', 'O', 'O', 'O', 'O', 'B-GENE', 'B-GENE', 'B-GENE', 'B-GENE', 'I-GENE', 'I-GENE', 'I-GENE', 'I-GENE', 'I-GENE', 'I-GENE', 'I-GENE', 'I-GENE', 'I-GENE', 'I-GENE', 'I-GENE', 'O', 'O', 'O', 'O', 'O', 'O', 'O', 'O', 'O', 'O', 'B-GENE', 'I-GENE', 'I-GENE', 'I-GENE']), (['the', 'effect', 'of', 'the', 'op', '##iate', 'antagonist', 'na', '##lo', '##xon', '##e', 'was', 'evaluated', 'in', '11', 'un', '##sel', '##ec', '##ted', 'patients', 'with', 'cerebral', 'is', '##che', '##mia', '.'], ['O', 'O', 'O', 'O', 'O', 'O', 'O', 'O', 'O', 'O', 'O', 'O', 'O', 'O', 'O', 'O', 'O', 'O', 'O', 'O', 'O', 'O', 'O', 'O', 'O', 'O']), (['neither', 'side', 'effect', 'nor', 'abnormal', 'laboratory', 'findings', 'due', 'to', 'this', 'drug', 'were', 'observed', '.'], ['O', 'O', 'O', 'O', 'O', 'O', 'O', 'O', 'O', 'O', 'O', 'O', 'B-DRUGS', 'O']), (['the', 'effects', 'of', 'a', '1', '-', 'or', '24', '-', 'hour', 'pre', '##tre', '##at', '##ment', 'regime', '##n', 'with', 'mon', '##op', '##hos', '##ph', '##ory', '##l', 'lip', '##id', 'a', '(', 'm', '##la', ',', '35', 'micro', '##gram', '##s', '/', 'kg', 'i', '.', 'v', '.', ')', 'on', 'my', '##oc', '##ard', '##ial', 'stunning', 'produced', 'by', 'repetitive', 'co', '##rona', '##ry', 'o', '##cc', '##lusion', '##s', 'were', 'studied', 'in', 'bar', '##bit', '##al', '-', 'an', '##est', '##he', '##tized', 'dogs', '.'], ['O', 'O', 'O', 'O', 'O', 'O', 'O', 'B-GENE', 'O', 'B-GENE', 'O', 'O', 'O', 'O', 'O', 'O', 'O', 'B-GENE', 'B-GENE', 'B-GENE', 'B-GENE', 'B-GENE', 'B-GENE', 'B-DRUGS', 'B-DRUGS', 'O', 'O', 'B-GENE', 'B-GENE', 'B-DRUGS', 'O', 'O', 'O', 'O', 'O', 'O', 'O', 'O', 'O', 'O', 'O', 'O', 'O', 'O', 'O', 'O', 'O', 'O', 'B-GENE', 'O', 'O', 'O', 'O', 'O', 'O', 'O', 'O', 'O', 'O', 'O', 'O', 'O', 'O', 'O', 'O', 'O', 'O', 'O', 'O', 'O']), (['trans', '##ient', 'co', '##tra', '##ns', '##fect', '##ion', 'of', 'ta', '##t', 'c', '##dn', '##a', 'in', 'sense', 'orientation', '(', 'ta', '##t', '/', 's', ')', ',', 'together', 'with', 'a', 'p', '##las', '##mi', '##d', 'containing', 'the', 'c', '-', 'f', '##os', 'promoter', '(', 'f', '##c', '##3', ',', 'from', '-', '71', '##1', 'to', '+', '42', ')', 'in', 'front', 'of', 'the', 'bacterial', 'ch', '##lora', '##mp', '##hen', '##ico', '##l', 'ace', '##ty', '##lt', '##ran', '##s', '##fer', '##ase', '(', 'cat', ')', 'gene', 'significantly', 'enhanced', 'cat', 'activity', 'in', 'j', '##ur', '##kat', 'cells', 'activated', 'by', 'the', 'addition', 'of', '15', '%', 'f', '##etal', 'calf', 'serum', '(', 'f', '##cs', ')', 'or', '5', 'micro', '##gram', '##s', '/', 'm', '##l', 'p', '##hy', '##to', '##hem', '##ag', '##g', '##lut', '##ini', '##n', 'plus', '10', '(', '-', '7', ')', 'm', '##ol', '/', 'l', 'p', '##hor', '##bol', 'my', '##rist', '##ate', 'ace', '##tate', '(', 'pm', '##a', ')', 'and', 'u', '##9', '##37', 'cells', 'activated', 'by', '15', '%', 'f', '##cs', 'or', '10', '(', '-', '7', ')', 'm', '##ol', '/', 'l', 'pm', '##a', '.'], ['B-GENE', 'B-GENE', 'I-GENE', 'I-GENE', 'I-GENE', 'I-GENE', 'I-GENE', 'O', 'O', 'O', 'O', 'O', 'O', 'O', 'O', 'O', 'O', 'O', 'O', 'O', 'O', 'O', 'B-DRUGS', 'O', 'O', 'O', 'O', 'O', 'O', 'O', 'O', 'O', 'O', 'B-DISEASE', 'I-DISEASE', 'I-DISEASE', 'O', 'O', 'O', 'O', 'O', 'O', 'O', 'O', 'O', 'O', 'O', 'O', 'O', 'O', 'O', 'O', 'O', 'O', 'O', 'O', 'O', 'O', 'O', 'O', 'O', 'O', 'O', 'O', 'O', 'O', 'O', 'O', 'O', 'O', 'O', 'O', 'O', 'O', 'O', 'O', 'O', 'O', 'O', 'O', 'O', 'O', 'B-DRUGS', 'I-DRUGS', 'I-DRUGS', 'I-DRUGS', 'I-DRUGS', 'O', 'O', 'O', 'O', 'O', 'O', 'O', 'O', 'O', 'O', 'O', 'O', 'O', 'O', 'O', 'O', 'O', 'O', 'O', 'O', 'O', 'O', 'O', 'O', 'O', 'O', 'O', 'O', 'O', 'B-DISEASE', 'I-DISEASE', 'O', 'O', 'O', 'O', 'O', 'O', 'O', 'O', 'O', 'O', 'O', 'O', 'O', 'O', 'O', 'O', 'O', 'O', 'O', 'O', 'O', 'B-GENE', 'I-GENE', 'O', 'O', 'O', 'O', 'O', 'B-GENE', 'I-GENE', 'I-GENE', 'O', 'O', 'O', 'O', 'O', 'O', 'O', 'O', 'O', 'O']), (['therefore', ',', 'it', 'is', 'hoped', 'that', 'by', 'defining', 'the', 'transcription', '##al', 'control', 'of', 'the', 'l', '##7', 'gene', 'insights', 'into', 'the', 'mechanisms', 'that', 'control', 'functional', 'fate', 'and', 'organization', 'in', 'the', 'nervous', 'system', 'can', 'be', 'gained', '.'], ['B-GENE', 'I-GENE', 'I-GENE', 'I-GENE', 'O', 'B-GENE', 'O', 'O', 'O', 'O', 'O', 'O', 'O', 'O', 'O', 'O', 'O', 'O', 'O', 'O', 'B-GENE', 'I-GENE', 'I-GENE', 'O', 'B-GENE', 'O', 'O', 'O', 'O', 'B-GENE', 'O', 'O', 'O', 'O', 'O']), (['these', 'results', 'suggest', 'that', 'diet', '##ary', 'sa', '##ff', '##low', '##er', 'p', '##hos', '##ph', '##oli', '##pid', '##s', 'may', 'be', 'a', 'valuable', 'ingredient', 'to', 'layers', 'for', 'reducing', 'liver', 't', '##rig', '##ly', '##cer', '##ides', 'and', 'serum', 'ch', '##ole', '##ster', '##ol', 'without', 'any', 'adverse', 'effects', '.'], ['O', 'O', 'O', 'O', 'O', 'O', 'O', 'O', 'O', 'O', 'O', 'O', 'O', 'O', 'O', 'O', 'O', 'O', 'O', 'O', 'O', 'O', 'O', 'O', 'O', 'O', 'B-GENE', 'B-GENE', 'B-GENE', 'B-GENE', 'B-GENE', 'O', 'O', 'O', 'O', 'O', 'O', 'O', 'O', 'O', 'O', 'O']), (['however', ',', 'a', 'similar', 'mutation', 'of', 'a', 'le', '##uc', '##ine', 'residue', 'to', 'a', '##rg', '##ini', '##ne', 'at', 'position', '42', '##2', 'showed', 'no', 'alter', '##ation', 'of', 'he', '##tero', '##di', '##mer', '##ization', ',', 'd', '##na', 'binding', ',', 'or', 'transcription', '##al', 'activation', '.'], ['O', 'B-DRUGS', 'I-DRUGS', 'I-DRUGS', 'I-DRUGS', 'I-DRUGS', 'I-DRUGS', 'O', 'O', 'O', 'O', 'O', 'O', 'O', 'O', 'O', 'O', 'O', 'O', 'O', 'O', 'O', 'O', 'O', 'O', 'O', 'O', 'O', 'O', 'O', 'O', 'O', 'O', 'O', 'O', 'O', 'B-DRUGS', 'B-DRUGS', 'O', 'O']), (['the', 'c', '##lea', '##vage', 'dip', '##eptide', '##s', 'of', 'c', '##1', '##y', '##v', '##v', 'ni', '##a', 'pro', '##te', '##ase', 'are', 'q', '(', 'e', ')', '/', 's', '(', 'a', ',', 'g', ')', '.'], ['O', 'O', 'O', 'O', 'O', 'O', 'O', 'O', 'O', 'O', 'O', 'O', 'O', 'O', 'O', 'O', 'O', 'O', 'O', 'O', 'O', 'O', 'O', 'O', 'B-GENE', 'I-GENE', 'O', 'O', 'O', 'O', 'O']), (['in', 'contrast', ',', 'similar', 'rates', 'of', 'b', '.', 's', '##pha', '##eric', '##us', 'products', ',', 'a', '##b', '##g', '-', '61', '##8', '##4', 'technical', 'powder', 'and', 'b', '##sp', '-', '2', 'flow', '##able', 'concentrate', ',', 'produced', 'no', 'significant', 'reduction', '.'], ['O', 'O', 'O', 'O', 'O', 'O', 'O', 'O', 'O', 'O', 'O', 'O', 'O', 'O', 'O', 'O', 'O', 'O', 'O', 'O', 'O', 'O', 'O', 'O', 'O', 'O', 'O', 'O', 'O', 'O', 'O', 'O', 'O', 'O', 'O', 'O', 'O']), (['it', 'was', 'concluded', 'that', 's', '##cot', '##ch', '##bon', '##d', '2', 'and', 'p', '##rism', '##a', 'universal', 'bond', '2', 'are', 'effective', 'and', 'are', 'the', 'den', '##tine', 'bonding', 'agents', 'of', 'choice', '.'], ['O', 'O', 'O', 'B-DRUGS', 'O', 'O', 'O', 'O', 'O', 'O', 'B-DRUGS', 'O', 'O', 'O', 'O', 'O', 'O', 'O', 'O', 'O', 'O', 'O', 'O', 'O', 'O', 'O', 'O', 'O', 'B-DRUGS']), (['the', 'major', 'findings', 'of', 'our', 'studies', 'are', 'as', 'follows', ':', '1', ')', 'there', 'are', 'no', 'detect', '##able', 'signals', 'around', 'g', '##d', '##f', '-', '9', '-', 'def', '##icient', 'f', '##oll', '##icles', 'for', 'several', 'the', '##ca', 'cell', 'layer', 'markers', '[', 'i', '.', 'e', '.'], ['I-DRUGS', 'I-DRUGS', 'I-DRUGS', 'I-DRUGS', 'I-DRUGS', 'O', 'O', 'O', 'O', 'O', 'O', 'O', 'O', 'O', 'O', 'O', 'O', 'O', 'O', 'O', 'O', 'O', 'O', 'B-DRUGS', 'O', 'O', 'O', 'B-GENE', 'B-GENE', 'B-GENE', 'I-GENE', 'I-GENE', 'O', 'O', 'O', 'O', 'O', 'O', 'O', 'O', 'O', 'O']), (['here', 'we', 'report', 'that', 'd', '##b', '##p', '##5', '##p', 'and', 'rat', '##7', '##p', 'interact', 'through', 'their', 'n', '##ter', '##mina', '##l', 'domains', '.'], ['O', 'O', 'O', 'O', 'O', 'O', 'O', 'O', 'O', 'O', 'O', 'O', 'O', 'O', 'O', 'O', 'O', 'O', 'O', 'O', 'O', 'O']), (['regulation', 'of', 'the', 'alpha', 'in', '##hi', '##bin', 'gene', 'by', 'c', '##yclic', 'ad', '##eno', '##sin', '##e', '3', \"'\", ',', '5', \"'\", '-', 'mon', '##op', '##hos', '##phate', 'after', 'trans', '##fect', '##ion', 'into', 'rat', 'g', '##ran', '##ulos', '##a', 'cells', '.'], ['B-DISEASE', 'O', 'O', 'B-DRUGS', 'I-DRUGS', 'I-DRUGS', 'I-DRUGS', 'I-DRUGS', 'O', 'O', 'O', 'O', 'O', 'O', 'O', 'O', 'O', 'O', 'O', 'O', 'O', 'O', 'O', 'O', 'O', 'O', 'O', 'O', 'O', 'O', 'O', 'O', 'O', 'O', 'O', 'O', 'O']), (['thus', ',', 'p', '##hos', '##ph', '##odies', '##tera', '##se', 'inhibitor', '##s', 'that', 'produce', 'an', 'op', '##iate', 'quasi', '-', 'withdrawal', 'syndrome', 'potent', '##iate', 'inter', '##oc', '##ept', '##ive', 'stimuli', 'and', 'weight', 'loss', 'associated', 'with', 'the', 'withdrawal', 'syndrome', 'pre', '##ci', '##pit', '##ated', 'by', 'na', '##lt', '##re', '##xon', '##e', 'in', 'm', '##or', '##phine', '-', 'dependent', 'rats', '.'], ['O', 'O', 'O', 'O', 'O', 'O', 'O', 'O', 'O', 'O', 'O', 'O', 'O', 'O', 'O', 'O', 'O', 'O', 'O', 'O', 'O', 'O', 'O', 'O', 'O', 'O', 'O', 'O', 'O', 'O', 'O', 'O', 'O', 'O', 'O', 'O', 'O', 'O', 'O', 'O', 'O', 'O', 'O', 'O', 'O', 'O', 'O', 'O', 'O', 'O', 'O', 'O']), (['a', 'limited', 'study', 'in', 'a', 'glass', '##ware', 'factory', '(', 'as', '##2', '##o', '##3', 'exposure', ')', 'involving', 'the', 'measurement', 'of', 'total', 'airborne', 'a', '##rsen', '##ic', ',', 'the', 'determination', 'of', 'u', '##rina', '##ry', 'a', '##rsen', '##ic', ',', 'and', 'the', 'evaluation', 'of', 'hand', 'and', 'mouth', 'contamination', 'by', 'a', '##rsen', '##ic', 'before', 'and', 'after', 'the', 'works', '##hi', '##ft', 'suggests', 'that', 'the', 'high', 'u', '##rina', '##ry', 'a', '##rsen', '##ic', 'levels', '(', '300', 'micro', '##gram', '/', 'g', 'c', '##rea', '##tin', '##ine', ')', 'are', 'likely', 'to', 'be', 'more', 'related', 'to', 'an', 'increased', 'oral', 'intake', 'from', 'contaminated', 'hands', 'than', 'to', 'an', 'increased', 'absorption', 'from', 'the', 'lungs', '.'], ['O', 'O', 'O', 'O', 'O', 'O', 'O', 'O', 'B-GENE', 'I-GENE', 'I-GENE', 'I-GENE', 'I-GENE', 'I-GENE', 'O', 'B-DISEASE', 'O', 'O', 'O', 'O', 'O', 'O', 'O', 'O', 'O', 'O', 'O', 'O', 'O', 'O', 'O', 'O', 'O', 'O', 'O', 'O', 'O', 'O', 'O', 'B-GENE', 'O', 'B-GENE', 'O', 'O', 'O', 'O', 'O', 'O', 'O', 'O', 'O', 'O', 'O', 'O', 'O', 'O', 'B-GENE', 'I-GENE', 'I-GENE', 'I-GENE', 'I-GENE', 'O', 'O', 'O', 'B-DRUGS', 'I-DRUGS', 'I-DRUGS', 'I-DRUGS', 'I-DRUGS', 'I-DRUGS', 'I-DRUGS', 'I-DRUGS', 'I-DRUGS', 'I-DRUGS', 'I-DRUGS', 'I-DRUGS', 'I-DRUGS', 'O', 'O', 'O', 'O', 'O', 'O', 'O', 'O', 'O', 'O', 'O', 'O', 'O', 'O', 'O', 'O', 'O', 'O', 'O', 'O', 'O', 'O']), (['both', 'of', 'these', 'domains', 'have', 'striking', 'sequence', 'ho', '##mology', 'with', 'human', 'si', '##m', 'and', 'd', '##ros', '##op', '##hil', '##a', 'si', '##m', 'proteins', '.'], ['O', 'O', 'O', 'O', 'O', 'O', 'O', 'O', 'O', 'O', 'O', 'O', 'O', 'B-DRUGS', 'O', 'O', 'O', 'O', 'O', 'B-DRUGS', 'B-DRUGS', 'O', 'O']), (['the', '60', '##a', 'trans', '##cripts', 'and', 'protein', 'are', 'first', 'detected', 'at', 'the', 'onset', 'of', 'gas', '##tr', '##ulation', ',', 'primarily', 'in', 'the', 'me', '##so', '##der', '##m', 'of', 'the', 'extending', 'g', '##er', '##m', 'band', '.'], ['O', 'O', 'O', 'O', 'O', 'O', 'O', 'O', 'O', 'O', 'O', 'O', 'O', 'B-DRUGS', 'O', 'O', 'O', 'O', 'O', 'O', 'O', 'O', 'O', 'O', 'O', 'O', 'O', 'B-DRUGS', 'O', 'O', 'O', 'O', 'O']), (['objectives', ':', 'to', 'measure', 'co', '##agu', '##lation', 'factor', 'v', '##ii', '##i', ':', 'co', '##agu', '##lant', '(', 'f', '.', 'v', '##ii', '##i', ':', 'c', ')', 'and', 'c', '##1', '-', 'est', '##era', '##se', 'inhibitor', '(', 'c', '##1', '-', 'in', '##h', ')', ',', 'hem', '##ost', '##asis', '-', 'associated', 'acute', '-', 'phase', 'react', '##ant', 'proteins', 'and', 'co', '##agu', '##lation', 'factors', 'v', '##ii', '(', 'f', '.', 'v', '##ii', ')', ',', 'i', '##x', '(', 'f', '.', 'i', '##x', ')', ',', 'and', 'x', '(', 'f', '.', 'x', ')', ',', 'hem', '##ost', '##asis', 'proteins', 'not', 'associated', 'with', 'an', 'acute', '-', 'phase', 'response', ',', 'in', 'a', 'select', 'population', 'of', 'horses', 'with', 'co', '##lic', 'and', 'hem', '##ost', '##asis', 'abnormal', '##ities', ',', 'and', 'presumed', 'to', 'have', 'acute', '-', 'phase', 'changes', '.'], ['O', 'O', 'B-DRUGS', 'O', 'O', 'O', 'O', 'O', 'O', 'O', 'O', 'O', 'O', 'O', 'O', 'O', 'O', 'O', 'O', 'O', 'O', 'B-DRUGS', 'O', 'O', 'O', 'O', 'O', 'O', 'O', 'O', 'O', 'O', 'O', 'O', 'O', 'O', 'B-DRUGS', 'B-DRUGS', 'O', 'O', 'O', 'O', 'O', 'O', 'O', 'O', 'B-DRUGS', 'O', 'O', 'O', 'O', 'O', 'O', 'O', 'O', 'O', 'O', 'O', 'O', 'O', 'O', 'O', 'O', 'O', 'O', 'O', 'O', 'O', 'O', 'O', 'O', 'O', 'O', 'O', 'O', 'O', 'O', 'O', 'O', 'O', 'O', 'O', 'O', 'O', 'O', 'O', 'O', 'O', 'O', 'O', 'O', 'B-GENE', 'O', 'O', 'B-GENE', 'O', 'O', 'O', 'O', 'B-GENE', 'I-GENE', 'O', 'O', 'O', 'O', 'O', 'O', 'O', 'O', 'O', 'O', 'O', 'O', 'O', 'O', 'O', 'O', 'O', 'O', 'O']), (['per', '##ox', '##yd', '##ase', 'reaction', 'stain', '##s', 'were', 'negative', ',', 'ch', '##lor', '##oa', '##ce', '##tate', 'est', '##era', '##se', 'were', 'strongly', 'positive', '.'], ['O', 'O', 'O', 'O', 'O', 'O', 'O', 'O', 'O', 'O', 'O', 'O', 'O', 'O', 'O', 'O', 'O', 'O', 'O', 'O', 'O', 'B-GENE']), (['this', 'difference', 'may', 'result', 'from', 'the', 'lower', 'match', 'to', 'the', 'a', '##rg', 'box', 'consensus', 'of', 'the', 'o', '(', 'r', '##oc', '##d', ')', 'site', '.'], ['I-GENE', 'I-GENE', 'I-GENE', 'I-GENE', 'O', 'B-GENE', 'I-GENE', 'I-GENE', 'I-GENE', 'I-GENE', 'O', 'O', 'O', 'B-GENE', 'I-GENE', 'I-GENE', 'I-GENE', 'O', 'B-GENE', 'B-GENE', 'B-GENE', 'I-GENE', 'I-GENE', 'O']), (['in', '##tras', '##tri', '##ata', '##l', 'g', '##raft', '##s', 'of', 'ni', '##gra', '##l', 'and', 'ad', '##rena', '##l', 'tissues', 'have', 'been', 'found', 'to', 'be', 'effective', 'in', 'all', '##ev', '##iating', 'many', 'of', 'the', 'simple', 'motor', 'and', 'sensor', '##imo', '##tor', 'deficit', '##s', 'associated', 'with', 'lesions', 'of', 'the', 'ni', '##gro', '##st', '##ria', '##tal', 'do', '##pa', '##mine', 'system', '.'], ['O', 'O', 'O', 'O', 'O', 'O', 'O', 'O', 'O', 'O', 'O', 'O', 'O', 'O', 'O', 'O', 'O', 'O', 'O', 'O', 'B-GENE', 'I-GENE', 'I-GENE', 'O', 'B-GENE', 'B-GENE', 'B-GENE', 'I-GENE', 'I-GENE', 'O', 'O', 'O', 'O', 'B-GENE', 'B-GENE', 'B-GENE', 'I-GENE', 'I-GENE', 'I-GENE', 'O', 'O', 'O', 'O', 'O', 'O', 'O', 'O', 'O', 'B-GENE', 'B-GENE', 'B-GENE', 'I-GENE', 'I-GENE']), (['copyright', '2000', 'academic', 'press', '.'], ['O', 'O', 'O', 'O', 'O']), (['we', 'report', 'a', 'case', 'of', 'p', '##he', '##och', '##rom', '##oc', '##yt', '##oma', 'manifest', '##ing', 'during', 'the', 'third', 'trim', '##ester', 'of', 'pregnancy', '.'], ['O', 'O', 'O', 'O', 'O', 'O', 'O', 'O', 'O', 'O', 'O', 'O', 'O', 'O', 'O', 'O', 'O', 'O', 'O', 'O', 'O', 'O']), (['although', 'the', 'e', '-', 'box', 'consensus', 'is', 'minimal', '##ly', 'defined', 'as', 'can', '##nt', '##g', ',', 'the', 'adjacent', 'n', '##uc', '##leo', '##tide', '##s', 'of', 'functional', 'e', '-', 'boxes', 'are', 'variable', 'for', 'genes', 'regulated', 'by', 'the', 'b', '##hl', '##h', 'proteins', '.'], ['O', 'B-DISEASE', 'I-DISEASE', 'I-DISEASE', 'I-DISEASE', 'O', 'O', 'O', 'O', 'O', 'O', 'O', 'O', 'O', 'O', 'O', 'O', 'O', 'O', 'O', 'O', 'O', 'O', 'B-GENE', 'O', 'O', 'O', 'O', 'O', 'B-GENE', 'B-DRUGS', 'O', 'O', 'O', 'O', 'O', 'O', 'O', 'O']), (['here', 'is', 'presented', 'the', 'monitoring', 'of', 'the', 'accidental', 'spill', 'on', 'vertical', 'distribution', 'of', 'heavy', 'metals', 'in', 'the', 'est', '##ua', '##rine', 'sediments', '.'], ['O', 'O', 'O', 'O', 'O', 'O', 'O', 'O', 'O', 'O', 'O', 'O', 'O', 'O', 'B-GENE', 'I-GENE', 'I-GENE', 'I-GENE', 'I-GENE', 'I-GENE', 'I-GENE', 'O']), (['among', 'the', 'mixed', 'race', 'persons', 'one', 'ch', '##uk', '##cha', '-', 'es', '##kim', '##o', 'had', 'as', ',', 'one', 'es', '##kim', '##o', '-', 'r', '##uss', '##ian', 'had', 'ps', '##oria', '##tic', 'art', '##hr', '##itis', '(', 'ps', '##a', ')', '.'], ['O', 'O', 'O', 'O', 'O', 'O', 'O', 'O', 'O', 'O', 'O', 'O', 'O', 'O', 'O', 'O', 'O', 'O', 'O', 'O', 'O', 'O', 'O', 'O', 'O', 'O', 'O', 'O', 'O', 'O', 'O', 'O', 'B-DISEASE', 'B-DISEASE', 'I-DISEASE', 'I-DISEASE']), (['ve', '-', 'def', 'animals', 'had', 'significantly', 'higher', '(', 'p', '<', '0', '.', '5', ')', 'levels', 'of', 'my', '##oc', '##ard', '##ial', 'lip', '##id', 'per', '##ox', '##ida', '##tion', 'and', 'lower', '(', 'p', '<', '0', '.', '5', ')', 'protein', 'th', '##iol', '##s', 'following', 'i', '-', 'r', 'compared', 'to', 'the', 'con', 'animals', '.'], ['I-DISEASE', 'O', 'O', 'B-DISEASE', 'I-DISEASE', 'I-DISEASE', 'I-DISEASE', 'I-DISEASE', 'I-DISEASE', 'O', 'O', 'O', 'O', 'O', 'O', 'O', 'O', 'O', 'O', 'O', 'O', 'O', 'O', 'O', 'O', 'O', 'O', 'O', 'O', 'B-DISEASE', 'O', 'O', 'O', 'O', 'O', 'O', 'O', 'O', 'O', 'O', 'O', 'O', 'O', 'O', 'O', 'O', 'O', 'O', 'O']), (['only', 'seven', 'patients', ',', 'five', 'of', 'whom', 'have', 'meta', '##static', 'disease', ',', 'survive', 'more', 'than', '10', 'years', 'after', 'first', 'presentation', ';', 'nine', 'patients', ',', 'one', 'of', 'whom', 'has', 'second', '##aries', ',', 'survive', 'for', '5', 'years', 'or', 'less', '.'], ['O', 'O', 'O', 'O', 'O', 'O', 'B-DISEASE', 'O', 'O', 'O', 'O', 'O', 'O', 'O', 'O', 'O', 'O', 'O', 'O', 'O', 'B-GENE', 'I-GENE', 'O', 'O', 'O', 'O', 'O', 'O', 'O', 'O', 'O', 'O', 'O', 'O', 'O', 'O', 'O', 'O']), (['the', 'or', '##s', 'of', 'g', '##c', ',', 'adjusted', 'for', 'age', 'and', 'sex', ',', 'varied', 'from', '17', '.', '1', ',', 'for', 'those', 'with', 'base', '##line', 'di', '##ag', '##nose', '##s', 'of', 'superficial', 'in', '##test', '##inal', 'meta', '##p', '##lasia', '(', 'im', ')', ',', 'to', '29', '.', '3', ',', 'for', 'those', 'with', 'deep', 'im', 'or', 'mild', 'd', '##ys', '##p', '##lasia', '(', 'd', '##ys', ')', 'or', 'im', 'with', 'g', '##land', '##ular', 'at', '##rop', '##hy', 'and', 'neck', 'h', '##yper', '##p', '##lasia', ',', 'to', '104', '.', '2', ',', 'for', 'those', 'with', 'moderate', 'or', 'severe', 'd', '##ys', ',', 'as', 'compared', 'with', 'subjects', 'with', 'superficial', 'gas', '##tri', '##tis', '(', 's', '##g', ')', 'or', 'chronic', 'at', '##rop', '##hic', 'gas', '##tri', '##tis', '(', 'ca', '##g', ')', 'at', 'base', '##line', '.'], ['O', 'O', 'O', 'O', 'O', 'O', 'O', 'O', 'O', 'O', 'O', 'O', 'O', 'O', 'O', 'O', 'O', 'O', 'O', 'O', 'B-DISEASE', 'O', 'O', 'O', 'O', 'O', 'O', 'O', 'O', 'O', 'O', 'O', 'O', 'B-DISEASE', 'B-DISEASE', 'B-DISEASE', 'I-DISEASE', 'I-DISEASE', 'I-DISEASE', 'I-DISEASE', 'O', 'O', 'O', 'O', 'O', 'O', 'O', 'O', 'O', 'O', 'O', 'O', 'O', 'O', 'O', 'O', 'O', 'O', 'O', 'O', 'O', 'O', 'O', 'O', 'O', 'O', 'O', 'O', 'O', 'O', 'O', 'O', 'O', 'O', 'O', 'O', 'O', 'O', 'O', 'O', 'O', 'O', 'O', 'O', 'O', 'O', 'O', 'O', 'O', 'O', 'O', 'O', 'O', 'O', 'O', 'O', 'O', 'O', 'O', 'O', 'O', 'O', 'O', 'O', 'O', 'O', 'O', 'O', 'B-DISEASE', 'B-DISEASE', 'B-DISEASE', 'I-DISEASE', 'O', 'O', 'O', 'O', 'O', 'O', 'O']), (['we', 'consider', 'that', 'di', '##l', '-', 'c', '##p', 'is', 'a', 'safe', 'and', 'excellent', 'c', '##p', 'in', 'cab', '##g', 'surgery', 'and', 'we', 'are', 'now', 'utilizing', 'this', 'c', '##p', 'in', 'all', 'patients', 'requiring', 'cab', '##g', 'surgery', '.'], ['O', 'O', 'O', 'O', 'O', 'O', 'O', 'O', 'O', 'O', 'O', 'O', 'O', 'O', 'O', 'O', 'O', 'O', 'O', 'O', 'O', 'O', 'O', 'O', 'O', 'O', 'O', 'O', 'B-DISEASE', 'O', 'O', 'O', 'O', 'O', 'O']), (['during', '1985', ',', '1990', ',', 'and', '1995', ',', 'respectively', ',', '11', '.', '7', ',', '11', '.', '3', ',', 'and', '11', '.', '4', 'infants', 'per', '100', ',', '0', 'live', 'births', 'had', 'a', 'diagnosis', 'of', 'h', '##s', '##v', '(', 'p', '=', '.', '98', ')', '.'], ['O', 'O', 'O', 'O', 'O', 'O', 'O', 'O', 'O', 'O', 'O', 'O', 'O', 'O', 'O', 'O', 'B-DISEASE', 'I-DISEASE', 'I-DISEASE', 'I-DISEASE', 'I-DISEASE', 'I-DISEASE', 'O', 'O', 'O', 'O', 'O', 'O', 'O', 'O', 'O', 'O', 'B-DISEASE', 'O', 'O', 'O', 'B-DISEASE', 'I-DISEASE', 'I-DISEASE', 'I-DISEASE', 'I-DISEASE', 'O', 'I-DISEASE']), (['cerebral', '##12', '##5', 'album', '##in', 'was', 'increased', 'to', 'similar', 'proportions', 'in', 'those', 'groups', 'submitted', 'to', 'h', '##yper', '##os', '##mo', '##lal', '##ity', '.'], ['O', 'O', 'O', 'B-DISEASE', 'B-DISEASE', 'I-DISEASE', 'O', 'B-DISEASE', 'I-DISEASE', 'O', 'O', 'O', 'O', 'O', 'O', 'O', 'O', 'O', 'O', 'O', 'O', 'O']), (['these', 'data', 'suggest', 'that', 'the', 'function', 'of', 'the', 'd', '##s', '##2', 'may', 'be', 'the', 'protection', 'of', 'the', 'nuclear', 'd', '##na', 'from', 'des', '##ic', '##cation', '.'], ['O', 'O', 'O', 'O', 'B-DISEASE', 'O', 'O', 'O', 'O', 'O', 'O', 'O', 'O', 'B-DISEASE', 'I-DISEASE', 'I-DISEASE', 'I-DISEASE', 'I-DISEASE', 'O', 'O', 'B-DISEASE', 'I-DISEASE', 'I-DISEASE', 'I-DISEASE', 'I-DISEASE']), (['in', 'sit', '##u', 'hybrid', '##ization', 'with', 'the', 'anti', '##sen', '##se', 'r', '##na', 'probe', '##s', 'further', 'supported', 'the', 'expression', 'changes', 'of', 'these', 'six', 'clone', '##s', 'and', 'localized', 'the', 'changes', 'in', 'multiple', 'g', '##er', '##m', 'cell', 'stages', 'as', 'well', 'as', 'other', 'cell', 'types', '(', 'se', '##rt', '##oli', ',', 'inter', '##st', '##iti', '##al', 'and', 'per', '##it', '##ub', '##ular', 'cells', ')', '.'], ['I-DISEASE', 'I-DISEASE', 'I-DISEASE', 'I-DISEASE', 'I-DISEASE', 'O', 'O', 'O', 'O', 'O', 'O', 'O', 'O', 'O', 'O', 'O', 'O', 'O', 'O', 'O', 'O', 'O', 'O', 'O', 'O', 'O', 'O', 'O', 'O', 'O', 'O', 'O', 'O', 'O', 'O', 'O', 'O', 'O', 'O', 'O', 'O', 'O', 'O', 'O', 'O', 'O', 'O', 'O', 'O', 'O', 'O', 'O', 'O', 'O', 'O', 'O', 'O', 'O']), (['r', '-', 'wave', 'voltage', 'in', 'the', 'right', 'pre', '##cor', '##dial', 'leads', 'in', 'ant', '##hra', '##cy', '##cline', 'card', '##io', '##my', '##op', '##athy', ':', 'a', 'clinical', 'study', '.'], ['O', 'O', 'O', 'O', 'O', 'O', 'O', 'O', 'O', 'O', 'O', 'O', 'O', 'O', 'O', 'O', 'O', 'O', 'O', 'O', 'O', 'O', 'O', 'O', 'O', 'O']), (['limb', 'all', '##og', '##raft', '##s', 'in', 'rats', 'im', '##mu', '##nos', '##up', '##pressed', 'with', 'c', '##y', '##c', '##los', '##por', '##in', 'a', '.'], ['O', 'O', 'O', 'O', 'O', 'O', 'O', 'O', 'O', 'O', 'O', 'O', 'O', 'O', 'O', 'O', 'O', 'O', 'O', 'O', 'O']), (['mutations', 'at', 'three', 'sites', 'have', 'larger', 'effects', 'in', 'muscle', 'than', 'non', '##mus', '##cle', 'cells', ';', 'an', 'a', '/', 't', '-', 'rich', 'site', 'mutation', 'has', 'a', 'pronounced', 'effect', 'in', 'both', 's', '##tri', '##ated', 'muscle', 'types', ',', 'mutations', 'at', 'the', 'me', '##f', '##1', '(', 'right', 'e', '-', 'box', ')', 'site', 'are', 'relatively', 'specific', 'to', 'expression', 'in', 'skeletal', 'muscle', ',', 'and', 'mutations', 'at', 'the', 'car', '##g', 'site', 'are', 'relatively', 'specific', 'to', 'expression', 'in', 'cardiac', 'muscle', '.'], ['O', 'O', 'O', 'B-DISEASE', 'O', 'O', 'O', 'O', 'O', 'O', 'O', 'O', 'O', 'O', 'B-GENE', 'I-GENE', 'O', 'O', 'O', 'O', 'O', 'O', 'O', 'O', 'O', 'O', 'B-DISEASE', 'O', 'O', 'O', 'O', 'O', 'O', 'O', 'O', 'O', 'O', 'O', 'O', 'O', 'O', 'B-GENE', 'O', 'O', 'O', 'O', 'O', 'O', 'O', 'O', 'O', 'O', 'O', 'O', 'O', 'O', 'O', 'O', 'O', 'O', 'O', 'O', 'O', 'O', 'O', 'O', 'O', 'O', 'O', 'O', 'O', 'O', 'O']), (['the', 'monkey', 'l', '##hr', 'c', '##dn', '##a', 'displayed', '83', '-', '94', '%', 'overall', 'sequence', 'ho', '##mology', 'with', 'the', 'other', 'ma', '##mmal', '##ian', 'l', '##hr', 'c', '##dn', '##as', '.', 'na', '##n', 'al', '##ani', '##ne', 'substitution', 'mutations', 'in', 'the', 'z', '##ta', 'activation', 'domain', 'which', 'eliminate', 'the', 'ability', 'of', 'z', '##ta', 'to', 'stimulate', 'the', 'd', '-', 'a', 'complex', 'were', 'examined', '.'], ['O', 'O', 'O', 'O', 'O', 'O', 'O', 'O', 'O', 'O', 'O', 'O', 'O', 'O', 'O', 'O', 'O', 'O', 'O', 'O', 'O', 'O', 'O', 'O', 'O', 'O', 'O', 'O', 'O', 'O', 'O', 'O', 'O', 'O', 'O', 'O', 'O', 'O', 'O', 'O', 'O', 'O', 'O', 'O', 'O', 'O', 'O', 'O', 'B-DRUGS', 'B-DISEASE', 'O', 'O', 'O', 'O', 'O', 'O', 'O', 'O']), (['in', 'contrast', 'with', 'previous', 'two', '-', 'pool', 'models', ',', 'provisions', 'were', 'made', 'for', 'f', '##olate', 'turnover', 'by', 'u', '##rina', '##ry', 'f', '##olate', 'ex', '##cre', '##tion', '(', 'as', 'measured', 'here', ')', 'and', 'by', 'f', '##eca', '##l', 'ex', '##cre', '##tion', 'and', 'cat', '##ab', '##olic', 'processes', '.'], ['O', 'O', 'O', 'O', 'B-DISEASE', 'O', 'O', 'O', 'O', 'O', 'O', 'O', 'O', 'O', 'O', 'O', 'O', 'O', 'O', 'O', 'O', 'O', 'O', 'O', 'O', 'O', 'O', 'O', 'O', 'O', 'O', 'O', 'O', 'O', 'O', 'O', 'O', 'O', 'O', 'O', 'O', 'O', 'O', 'O']), (['in', 'female', 's', '##l', '(', 'pan', ')', '/', 's', '##l', '(', 'pan', ')', 'mice', ',', 'o', '##var', '##ian', 'f', '##oll', '##icle', 'development', 'is', 'arrested', 'at', 'the', 'one', 'layered', 'cu', '##bo', '##idal', 'stage', 'as', 'a', 'result', 'of', 'reduced', 'k', '##l', 'expression', 'in', 'f', '##oll', '##icle', 'cells', ',', 'indicating', 'a', 'role', 'for', 'c', '-', 'kit', 'in', 'o', '##oc', '##yte', 'growth', '.'], ['O', 'O', 'O', 'O', 'O', 'O', 'O', 'O', 'O', 'O', 'O', 'O', 'B-GENE', 'I-GENE', 'I-GENE', 'I-GENE', 'I-GENE', 'I-GENE', 'I-GENE', 'I-GENE', 'I-GENE', 'I-GENE', 'I-GENE', 'I-GENE', 'O', 'O', 'O', 'O', 'O', 'O', 'O', 'O', 'O', 'O', 'O', 'O', 'O', 'O', 'O', 'O', 'O', 'O', 'O', 'O', 'O', 'O', 'O', 'O', 'O', 'O', 'O', 'O', 'O', 'O', 'O', 'O', 'O', 'B-GENE', 'I-GENE']), (['among', 'genes', 'induced', 'by', 'added', 'pm', '##es', '##ogen', '##in', '##1', 'is', 'x', '##wn', '##t', '-', '8', ',', 'a', 'signaling', 'factor', 'that', 'induce', '##s', 'a', 'similar', 'repertoire', 'of', 'marker', 'genes', 'and', 'a', 'similar', 'cellular', 'p', '##hen', '##otype', '.'], ['I-GENE', 'O', 'O', 'O', 'O', 'O', 'O', 'O', 'O', 'O', 'O', 'O', 'O', 'O', 'O', 'O', 'O', 'O', 'B-GENE', 'I-GENE', 'I-GENE', 'O', 'O', 'O', 'B-DRUGS', 'O', 'O', 'O', 'O', 'B-GENE', 'I-GENE', 'I-GENE', 'O', 'O', 'O', 'O', 'O']), (['the', 'hem', '##ody', '##nam', '##ics', 'of', 'is', '##op', '##rote', '##ren', '##ol', '-', 'induced', 'cardiac', 'failure', 'in', 'the', 'rat', '.'], ['O', 'O', 'O', 'O', 'O', 'B-GENE', 'O', 'O', 'O', 'O', 'O', 'O', 'O', 'B-GENE', 'I-GENE', 'I-GENE', 'I-GENE', 'O', 'O']), (['background', ':', 'flu', '##oro', '##quin', '##olo', '##nes', '(', 'f', '##q', ')', 'are', 'con', '##tra', '##ind', '##ica', '##ted', 'in', 'children', 'because', 'of', 'the', 'risk', 'of', 'cart', '##ila', '##ge', 'damage', '.'], ['O', 'O', 'O', 'O', 'O', 'O', 'O', 'O', 'O', 'O', 'O', 'O', 'O', 'O', 'O', 'O', 'O', 'O', 'O', 'O', 'O', 'O', 'O', 'O', 'B-DRUGS', 'B-DRUGS', 'B-DRUGS', 'O', 'O']), (['in', 'patients', 'in', 'group', 'a', '(', 'o', 'normal', 'o', 'c', '##i', ')', ',', 'the', 'c', '##i', ',', 'heart', 'rate', 'and', 'the', 'mean', 'c', '##ir', '##cum', '##fer', '##ential', 'fiber', 'short', '##ening', 'velocity', '(', 'm', '##v', '##c', '##f', ')', 'were', 'normal', ',', 'but', 'the', 't', '##p', '##r', 'was', 'increased', 'significantly', '.'], ['O', 'B-DRUGS', 'O', 'O', 'O', 'O', 'O', 'O', 'O', 'O', 'O', 'O', 'O', 'O', 'O', 'O', 'O', 'O', 'O', 'O', 'O', 'O', 'O', 'O', 'O', 'O', 'O', 'B-GENE', 'I-GENE', 'I-GENE', 'I-GENE', 'I-GENE', 'I-GENE', 'I-GENE', 'I-GENE', 'I-GENE', 'I-GENE', 'I-GENE', 'I-GENE', 'I-GENE', 'O', 'O', 'O', 'O', 'O', 'O', 'O', 'O', 'O']), (['clinical', 'use', 'of', 'absorb', '##able', 'p', '##oly', '##gly', '##co', '##lic', 'acid', 'su', '##ture', 'in', 'b', '##lal', '##ock', '-', 'ta', '##uss', '##ig', \"'\", 's', 'operation'], ['O', 'O', 'O', 'O', 'O', 'O', 'O', 'O', 'O', 'O', 'O', 'O', 'O', 'O', 'O', 'O', 'O', 'O', 'O', 'O', 'O', 'B-GENE', 'O', 'O']), (['a', 'novel', 'approach', 'was', 'developed', 'for', 'identifying', 'transcription', 'factor', 'activities', 'associated', 'with', 'ng', '##f', '-', 'activated', ',', 'but', 'not', 'e', '##g', '##f', '-', 'activated', ',', 'signaling', ',', 'using', 'random', 'o', '##li', '##gon', '##uc', '##leo', '##tide', 'clone', '##s', 'from', 'a', 'd', '##na', 'recognition', 'library', 'to', 'is', '##olate', 'specific', 'd', '##na', 'binding', 'proteins', 'from', 'p', '##c', '##12', 'nuclear', 'extract', '##s', '.'], ['O', 'O', 'O', 'O', 'O', 'O', 'O', 'B-GENE', 'I-GENE', 'I-GENE', 'O', 'O', 'O', 'O', 'O', 'O', 'O', 'O', 'O', 'O', 'O', 'O', 'O', 'B-GENE', 'O', 'B-GENE', 'I-GENE', 'I-GENE', 'O', 'O', 'O', 'O', 'O', 'O', 'O', 'O', 'O', 'O', 'O', 'O', 'O', 'O', 'O', 'O', 'O', 'O', 'O', 'O', 'O', 'O', 'O', 'O', 'O', 'O', 'O', 'O', 'O', 'O', 'O']), (['d', '.'], ['O', 'B-DRUGS']), (['disciplinary', 'action', 'for', 'd', '##na', 'violation', '.'], ['O', 'O', 'O', 'O', 'O', 'B-DISEASE', 'I-DISEASE']), (['since', '1970', 'the', 'frequency', 'of', 'potassium', '-', 'induced', 'ul', '##cer', '##ation', 'has', 'been', 'low', '-', '-', '3', 'cases', 'per', '100', '0', 'patient', '-', 'years', 'of', 'slow', '-', 'release', 'tablet', 'use', '.'], ['O', 'O', 'O', 'O', 'O', 'O', 'O', 'B-DISEASE', 'O', 'O', 'O', 'O', 'O', 'O', 'O', 'O', 'O', 'O', 'O', 'O', 'O', 'O', 'O', 'O', 'O', 'O', 'O', 'O', 'O', 'O', 'O']), (['t', '##l', '-', '201', 'up', '##take', 'ratio', 'of', 'the', 'right', 'vent', '##ric', '##le', ',', 'which', 'represents', 'the', 'ratio', 'of', 'total', 'counts', 'of', 'the', 'right', 'vent', '##ric', '##le', 'to', 'counts', 'of', 'the', 'administered', 'dose', 'of', 't', '##l', '-', '201', ',', 'was', 'higher', 'in', 'cop', '##d', ',', 'especially', 'in', 'pulmonary', 'em', '##phy', '##se', '##ma', 'and', 'b', 'type', 'cop', '##d', 'by', 'b', '##ur', '##rows', 'classification', 'than', 'in', 'controls', '.'], ['O', 'O', 'O', 'O', 'O', 'O', 'O', 'O', 'O', 'O', 'O', 'O', 'O', 'O', 'O', 'O', 'O', 'O', 'O', 'O', 'O', 'O', 'O', 'O', 'O', 'O', 'O', 'O', 'O', 'O', 'O', 'O', 'O', 'O', 'O', 'O', 'O', 'O', 'O', 'O', 'O', 'O', 'B-DRUGS', 'B-DRUGS', 'I-DRUGS', 'O', 'O', 'B-DISEASE', 'I-DISEASE', 'I-DISEASE', 'I-DISEASE', 'I-DISEASE', 'I-DISEASE', 'I-DISEASE', 'I-DISEASE', 'I-DISEASE', 'I-DISEASE', 'O', 'O', 'O', 'O', 'O', 'O', 'O', 'O', 'O']), (['the', 'de', '##ubi', '##qui', '##tina', '##ting', 'enzyme', 'dub', '-', '2', 'is', 'induced', 'in', 'response', 'to', 'il', '-', '2', 'but', 'as', 'yet', 'its', 'function', 'has', 'not', 'been', 'determined', '.'], ['O', 'O', 'O', 'O', 'O', 'O', 'O', 'O', 'O', 'O', 'B-GENE', 'O', 'O', 'O', 'O', 'O', 'B-GENE', 'O', 'O', 'O', 'O', 'O', 'O', 'O', 'O', 'O', 'O', 'O']), (['the', 'b', '##ov', '##ine', 'p', '##ap', '##illo', '##ma', '##virus', 'e', '##2', 'protein', 'can', 'in', '##hibit', 'the', 'proliferation', 'of', 'h', '##t', '-', '3', 'cells', ',', 'a', 'p', '##53', '-', 'negative', 'c', '##er', '##vic', '##al', 'car', '##cin', '##oma', 'cell', 'line', 'containing', 'integrated', 'human', 'p', '##ap', '##illo', '##ma', '##virus', 'type', '30', 'd', '##na', '.'], ['O', 'O', 'O', 'O', 'O', 'O', 'O', 'O', 'O', 'O', 'O', 'O', 'O', 'O', 'O', 'O', 'O', 'O', 'O', 'O', 'O', 'O', 'O', 'O', 'O', 'O', 'O', 'O', 'O', 'O', 'O', 'O', 'O', 'O', 'O', 'O', 'O', 'O', 'O', 'O', 'O', 'O', 'O', 'O', 'O', 'O', 'O', 'O', 'O', 'O', 'B-DRUGS']), (['a', 'much', 'less', 'expensive', 'solution', 'than', 'u', '##w', ',', 'containing', 'only', 'k', '(', '+', ')', '-', 'la', '##ct', '##ob', '##ion', '##ate', ',', 'k', '##h', '##2', '##po', '##4', ',', 'mg', '##so', '##4', 'and', 'r', '##af', '##fin', '##ose', ',', 'can', 'be', 'used', 'successfully', 'for', 'preservation', 'of', 'rat', 'he', '##pa', '##to', '##cy', '##tes', 'for', '24', 'h', '##r', 'for', 'drug', 'transport', 'studies', '.'], ['O', 'O', 'B-DISEASE', 'O', 'O', 'O', 'O', 'O', 'O', 'O', 'O', 'O', 'O', 'O', 'O', 'O', 'O', 'O', 'O', 'O', 'O', 'O', 'O', 'O', 'O', 'O', 'O', 'O', 'O', 'O', 'O', 'O', 'O', 'O', 'O', 'O', 'O', 'O', 'O', 'O', 'O', 'O', 'O', 'O', 'O', 'O', 'O', 'O', 'O', 'O', 'O', 'O', 'O', 'O', 'O', 'O', 'O', 'O', 'O']), (['h', '##ydro', '##xy', '##p', '##rop', '##yl', 'met', '##ha', '##c', '##ryl', '##ate', ',', 'a', 'new', 'water', '-', 'mi', '##s', '##cible', 'em', '##bed', '##ding', 'medium', 'for', 'electron', 'micro', '##sco', '##py', '.'], ['O', 'O', 'O', 'O', 'O', 'O', 'O', 'O', 'O', 'O', 'O', 'O', 'O', 'O', 'O', 'O', 'O', 'O', 'O', 'O', 'O', 'O', 'O', 'O', 'O', 'O', 'O', 'O', 'O']), (['the', 'ho', '##mo', '##log', '##ous', 'active', '-', 'site', 'framework', 'of', 'these', 'enzymes', 'with', 'distinct', 'structures', 'suggests', 'con', '##ver', '##gent', 'evolution', 'of', 'a', 'common', 'cat', '##alytic', 'mechanism', '.'], ['O', 'O', 'O', 'O', 'O', 'O', 'O', 'O', 'B-DISEASE', 'O', 'O', 'O', 'B-DISEASE', 'I-DISEASE', 'O', 'O', 'O', 'O', 'O', 'O', 'O', 'O', 'O', 'O', 'O', 'O', 'O']), (['large', 'strain', 'differences', 'were', 'found', 'for', 'all', 'variables', 'recorded', ',', 'i', '.', 'e', '.', ',', 'the', 'proportion', 'of', 'attacking', 'males', ',', 'the', 'time', 'spent', 'in', 'the', 'brightly', 'lit', 'box', ',', 'and', 'the', 'number', 'of', 'transitions', 'between', 'the', 'lit', 'and', 'the', 'dark', 'boxes', '.'], ['O', 'O', 'O', 'O', 'O', 'B-GENE', 'I-GENE', 'I-GENE', 'O', 'O', 'O', 'O', 'O', 'B-GENE', 'I-GENE', 'I-GENE', 'O', 'O', 'O', 'O', 'O', 'O', 'O', 'O', 'O', 'O', 'O', 'O', 'B-GENE', 'I-GENE', 'I-GENE', 'I-GENE', 'O', 'O', 'O', 'O', 'O', 'O', 'O', 'O', 'O', 'O', 'O']), (['in', 'gel', 'mobility', 'shift', 'ass', '##ays', ',', 'factors', 'present', 'in', 'nuclear', 'extract', '##s', 'derived', 'from', 'differentiated', 'o', '##ste', '##ob', '##last', 'bound', 'to', 'o', '##li', '##gon', '##uc', '##leo', '##tide', 'probe', '##s', 'containing', 'the', 'e', '-', 'box', '1', 'and', 'e', '-', 'box', '2', 'elements', '.'], ['B-GENE', 'O', 'O', 'B-DISEASE', 'I-DISEASE', 'I-DISEASE', 'O', 'O', 'O', 'O', 'O', 'O', 'O', 'O', 'O', 'O', 'O', 'O', 'O', 'O', 'O', 'O', 'O', 'O', 'O', 'O', 'O', 'O', 'O', 'O', 'O', 'O', 'O', 'O', 'O', 'O', 'O', 'B-DRUGS', 'I-DRUGS', 'I-DRUGS', 'I-DRUGS', 'I-DRUGS', 'I-DRUGS']), (['here', 'we', 'describe', 'and', 'map', 'two', 'more', 'new', 'genes', 'identified', 'as', 'all', '##ele', '-', 'specific', 'suppress', '##ors', 'that', 'compensate', 'for', 'car', '##box', '##y', '-', 'terminal', 't', '##run', '##cation', 'of', 'pet', '##12', '##2', '.'], ['O', 'I-DRUGS', 'O', 'I-DRUGS', 'O', 'O', 'O', 'O', 'O', 'O', 'O', 'O', 'O', 'O', 'O', 'O', 'O', 'O', 'O', 'O', 'O', 'O', 'O', 'O', 'O', 'O', 'O', 'O', 'O', 'O', 'O', 'O', 'O']), (['one', 'of', 'these', 'fragments', 'shows', 'the', 'highest', 'amino', 'acid', 'sequence', 'ho', '##mology', 'to', 'the', 'insect', 'e', '##c', '##dy', '##son', '##e', 'in', '##du', '##cible', 'gene', 'e', '##75', '.'], ['B-DRUGS', 'I-DRUGS', 'O', 'O', 'O', 'O', 'O', 'O', 'O', 'O', 'O', 'O', 'O', 'O', 'O', 'O', 'O', 'O', 'O', 'O', 'O', 'O', 'O', 'O', 'O', 'O', 'O']), (['secret', '##ory', 'function', 'of', 'the', 'pro', '##state', 'g', '##land', '.'], ['O', 'O', 'O', 'O', 'O', 'O', 'O', 'O', 'O', 'O']), (['changes', 'of', 'plasma', 'co', '##rt', '##is', '##ol', 'level', 'in', 'late', 'as', '##th', '##matic', 'responses'], ['O', 'O', 'O', 'O', 'O', 'O', 'O', 'O', 'O', 'O', 'O', 'O', 'O', 'O']), (['we', 'find', 'that', 'the', 'measured', 'n', '##uss', '##el', '##t', 'number', 'decreased', 'about', '20', '%', 'over', 'the', 'range', 'of', 'p', '##r', 'spanned', 'in', 'the', 'experiment', '.'], ['O', 'O', 'O', 'O', 'O', 'O', 'O', 'O', 'O', 'O', 'O', 'O', 'O', 'O', 'O', 'O', 'O', 'O', 'O', 'O', 'O', 'O', 'O', 'O', 'O']), (['an', 'n', '##f', '##1', '-', 'related', 'v', '##ite', '##llo', '##gen', '##in', 'act', '##iva', '##tor', 'element', 'media', '##tes', 'transcription', 'from', 'the', 'est', '##rogen', '-', 'regulated', 'x', '##eno', '##pus', 'la', '##ev', '##is', 'v', '##ite', '##llo', '##gen', '##in', 'promoter', '.'], ['O', 'O', 'O', 'O', 'O', 'O', 'O', 'O', 'O', 'O', 'O', 'O', 'O', 'O', 'O', 'O', 'O', 'O', 'O', 'O', 'O', 'O', 'O', 'O', 'O', 'O', 'O', 'O', 'O', 'O', 'O', 'O', 'O', 'O', 'O', 'O', 'O']), (['perhaps', 'in', 'addition', 'to', ',', 'or', 'as', 'part', 'of', ',', 'its', 'essential', 'function', 'in', 'late', 'mit', '##osis', ',', 'mob', '##1', 'is', 'required', 'for', 'a', 'cell', 'cycle', 're', '##set', 'function', 'necessary', 'for', 'the', 'initiation', 'of', 'the', 'spin', '##dle', 'pole', 'body', 'du', '##plication', '.'], ['O', 'O', 'O', 'O', 'O', 'O', 'O', 'O', 'O', 'O', 'O', 'O', 'O', 'O', 'O', 'O', 'O', 'O', 'O', 'O', 'O', 'O', 'O', 'O', 'O', 'O', 'O', 'O', 'O', 'O', 'O', 'O', 'O', 'O', 'O', 'O', 'O', 'O', 'O', 'O', 'O', 'O']), (['d', '##r', '##1', 'molecules', 'pu', '##rified', 'from', 'human', 'l', '##ymph', '##ob', '##last', '##oid', 'cell', 'lines', 'could', 'specifically', 'bind', 'to', 'these', 'p', '##eptide', 'sequences', 'expressed', 'on', 'the', 'p', '##hage', 'surface', '.'], ['O', 'O', 'O', 'O', 'O', 'O', 'O', 'O', 'O', 'O', 'O', 'O', 'O', 'O', 'O', 'O', 'O', 'O', 'O', 'O', 'O', 'O', 'O', 'O', 'O', 'O', 'O', 'O', 'O', 'B-DRUGS']), (['sixty', '-', 'five', 'patients', '(', 'aged', 'between', '3', 'years', '5', 'months', 'and', '60', 'years', ')', 'suffering', 'from', 'medical', '##ly', 'resistant', 'temporal', 'lobe', 'e', '##pile', '##psy', '(', 't', '##le', ')', 'were', 'operated', 'on', 'over', 'a', 'period', 'of', '33', 'months', 'in', 'bet', '##hel', 'e', '##pile', '##psy', 'center', '.'], ['O', 'O', 'O', 'O', 'B-GENE', 'O', 'O', 'O', 'O', 'O', 'O', 'O', 'O', 'O', 'B-DRUGS', 'I-DRUGS', 'O', 'O', 'O', 'O', 'O', 'O', 'B-DRUGS', 'B-DRUGS', 'B-DRUGS', 'O', 'B-GENE', 'B-GENE', 'I-GENE', 'O', 'O', 'O', 'O', 'O', 'O', 'O', 'O', 'O', 'O', 'O', 'O', 'O', 'O', 'O', 'O', 'B-DRUGS']), (['diagnosis', 'and', 'treatment', 'planning', 'in', 'class', 'ii', ',', 'division', '2'], ['O', 'O', 'O', 'B-DISEASE', 'O', 'O', 'O', 'O', 'O', 'O']), (['the', '3', \"'\", 'u', '##tr', 'has', 'several', 'stable', 'hair', '##pin', '##s', 'that', 'are', 'flanked', 'by', 'single', '-', 'stranded', '(', 'a', '/', 'u', ')', 'u', '##g', '##c', 'sequences', '.'], ['O', 'O', 'O', 'O', 'O', 'O', 'O', 'O', 'O', 'O', 'O', 'O', 'O', 'O', 'B-DRUGS', 'O', 'O', 'O', 'O', 'O', 'O', 'O', 'B-GENE', 'I-GENE', 'I-GENE', 'I-GENE', 'I-GENE', 'I-GENE']), (['aims', ':', 'to', 'evaluate', 'the', 'role', 'of', 'environmental', 'in', '##tra', '-', 'u', '##ter', '##ine', 'factors', 'in', 'determining', 'the', 'birth', '##weight', '##s', 'of', 'twins', 'with', 'increased', 'su', '##s', '##ce', '##pt', '##ibility', 'to', 'diabetes', 'and', 'disco', '##rda', '##nt', 'for', 'abnormal', 'responses', 'to', 'the', 'oral', 'glucose', 'tolerance', 'test', '(', 'og', '##tt', ')', 'and', 'verify', 'the', 'possible', 'association', 'of', 'within', '-', 'pair', 'birth', '##weight', 'differences', 'and', 'metabolic', 'abnormal', '##ities', 'in', 'adult', 'life', '.'], ['I-GENE', 'I-GENE', 'O', 'O', 'O', 'O', 'B-DRUGS', 'O', 'O', 'O', 'B-GENE', 'I-GENE', 'I-GENE', 'I-GENE', 'I-GENE', 'I-GENE', 'O', 'O', 'O', 'O', 'O', 'O', 'O', 'O', 'O', 'O', 'O', 'O', 'O', 'O', 'O', 'O', 'O', 'O', 'O', 'O', 'O', 'O', 'O', 'O', 'O', 'O', 'O', 'B-GENE', 'O', 'O', 'O', 'O', 'O', 'O', 'O', 'O', 'O', 'O', 'O', 'O', 'O', 'O', 'O', 'O', 'O', 'O', 'O', 'O', 'O', 'O', 'O', 'B-GENE', 'I-GENE']), (['restriction', 'enzyme', 'mapping', 'and', 'southern', 'analysis', 'indicated', 'further', 'that', 'the', 'human', 'm', '##z', '##f', '-', '1', 'gene', 'is', 'a', 'single', '-', 'copy', 'gene', '.'], ['O', 'O', 'O', 'O', 'O', 'O', 'O', 'O', 'O', 'O', 'O', 'O', 'O', 'O', 'O', 'O', 'O', 'O', 'O', 'O', 'O', 'O', 'O', 'O']), (['responses', 'of', 'single', '-', 'unit', 'car', '##ot', '##id', 'body', 'ch', '##em', '##ore', '##ceptor', '##s', 'in', 'adult', 'rats', '.'], ['O', 'O', 'O', 'O', 'O', 'O', 'O', 'O', 'O', 'O', 'O', 'O', 'O', 'O', 'O', 'O', 'O', 'O']), (['te', '##c', 'kinase', 'signaling', 'in', 't', 'cells', 'is', 'regulated', 'by', 'p', '##hos', '##pha', '##ti', '##dy', '##lino', '##si', '##to', '##l', '3', '-', 'kinase', 'and', 'the', 'te', '##c', 'p', '##le', '##cks', '##tri', '##n', 'ho', '##mology', 'domain', '.'], ['O', 'O', 'O', 'O', 'O', 'O', 'B-DISEASE', 'I-DISEASE', 'B-DISEASE', 'I-DISEASE', 'I-DISEASE', 'I-DISEASE', 'I-DISEASE', 'I-DISEASE', 'I-DISEASE', 'I-DISEASE', 'I-DISEASE', 'I-DISEASE', 'I-DISEASE', 'I-DISEASE', 'O', 'O', 'O', 'O', 'O', 'O', 'O', 'O', 'O', 'O', 'O', 'O', 'O', 'O', 'O']), (['an', 'anal', '##ytic', 'method', 'for', 'comparative', 'parameter', 'weight', '##ing', 'in', 'magnetic', 'resonance', '(', 'm', '##r', ')', 'imaging', 'has', 'been', 'developed', 'using', 'the', 'concept', 'of', 'fraction', '##al', 'sensitivity'], ['O', 'O', 'O', 'B-DISEASE', 'O', 'O', 'O', 'O', 'O', 'O', 'O', 'O', 'O', 'O', 'O', 'O', 'O', 'O', 'O', 'O', 'O', 'O', 'O', 'O', 'O', 'O', 'O']), (['this', 'new', 'approach', 'results', 'in', 'easily', 'calculated', 'index', '##es', 'for', 't', '##1', ',', 't', '##2', ',', 'and', 'hydrogen', 'weight', '##ing', '.'], ['O', 'O', 'O', 'O', 'O', 'O', 'O', 'O', 'O', 'O', 'O', 'O', 'O', 'O', 'O', 'O', 'O', 'O', 'O', 'O', 'O']), (['spatial', 'accuracy', 'of', 'primary', 'and', 'secondary', 'memory', '-', 'guided', 'sa', '##cca', '##des', 'in', 's', '##chi', '##zo', '##ph', '##ren', '##ic', 'patients', '.'], ['O', 'O', 'O', 'O', 'O', 'O', 'O', 'O', 'O', 'O', 'O', 'O', 'O', 'O', 'O', 'O', 'O', 'O', 'O', 'O', 'O']), (['in', 'the', 'context', 'of', 'liver', 'all', '##og', '##raft', 'shortage', ',', 'our', 'results', 'suggest', 'that', 'an', 'el', '##t', 'should', 'not', 'be', 'performed', 'in', 'patients', 'with', 'cardiac', 'failure', ',', 'more', 'than', 'two', 'o', '##s', '##f', ',', 'or', 'an', 'a', '##pa', '##che', 'ii', 'score', 'higher', 'than', '30', '.'], ['O', 'O', 'O', 'O', 'O', 'O', 'O', 'O', 'O', 'O', 'O', 'B-DISEASE', 'O', 'O', 'O', 'O', 'O', 'O', 'O', 'O', 'O', 'B-DRUGS', 'O', 'O', 'O', 'O', 'O', 'O', 'O', 'O', 'O', 'O', 'O', 'O', 'O', 'O', 'O', 'O', 'O', 'O', 'O', 'O', 'O', 'B-DISEASE', 'B-DISEASE']), (['in', 'one', ',', 'ex', '##p', '##lora', '##tory', 'behavior', '(', 'assessed', 'by', 'hole', 'p', '##oke', '##s', ')', 'and', 'lo', '##com', '##otion', 'were', 'assessed', 'during', 'a', '10', '-', 'min', 'test', 'session', '.'], ['O', 'O', 'O', 'O', 'O', 'O', 'O', 'O', 'O', 'O', 'O', 'O', 'O', 'O', 'O', 'O', 'O', 'O', 'O', 'O', 'O', 'O', 'B-GENE', 'I-GENE', 'I-GENE', 'I-GENE', 'I-GENE', 'O', 'O', 'O']), (['analysis', 'of', 'the', 'in', '##ferred', '1', ',', '85', '##9', '-', 'residue', 'am', '##a', '-', '1', 'product', 'showed', 'considerable', 'identity', 'with', 'the', 'largest', 'subunit', 'of', 'r', '##nap', 'ii', 'from', 'other', 'organisms', ',', 'including', 'the', 'presence', 'of', 'a', 'zinc', 'finger', 'motif', 'near', 'the', 'amino', 'terminus', ',', 'and', 'a', 'car', '##box', '##yl', '-', 'terminal', 'domain', 'of', '42', 'tandem', '##ly', 're', '##iter', '##ated', 'he', '##pta', '##mers', 'with', 'the', 'consensus', 't', '##yr', 'se', '##r', 'pro', 'th', '##r', 'se', '##r', 'pro', 'se', '##r', '.'], ['O', 'O', 'O', 'O', 'O', 'O', 'O', 'O', 'O', 'O', 'O', 'O', 'O', 'O', 'O', 'O', 'O', 'O', 'O', 'O', 'O', 'B-GENE', 'I-GENE', 'O', 'O', 'O', 'O', 'O', 'O', 'O', 'O', 'B-GENE', 'I-GENE', 'I-GENE', 'I-GENE', 'O', 'O', 'B-GENE', 'B-GENE', 'I-GENE', 'I-GENE', 'O', 'O', 'O', 'O', 'O', 'O', 'O', 'O', 'O', 'O', 'O', 'O', 'B-DISEASE', 'I-DISEASE', 'I-DISEASE', 'I-DISEASE', 'I-DISEASE', 'I-DISEASE', 'I-DISEASE', 'I-DISEASE', 'I-DISEASE', 'I-DISEASE', 'I-DISEASE', 'O', 'O', 'O', 'O', 'O', 'O', 'O', 'O', 'O', 'O', 'O', 'O', 'O', 'O']), (['in', 'these', 'cases', ',', 'greatly', 'increased', 'human', 'ch', '##orio', '##nic', 'go', '##nado', '##tro', '##pin', '(', 'h', '##c', '##g', ')', 'levels', 'and', 'suppressed', 't', '##sh', 'levels', 'suggest', 'that', 'h', '##c', '##g', 'has', 'thy', '##rot', '##ropic', 'activity', '.'], ['O', 'O', 'O', 'O', 'O', 'O', 'O', 'O', 'O', 'O', 'O', 'O', 'O', 'O', 'O', 'O', 'O', 'O', 'O', 'O', 'O', 'O', 'B-DRUGS', 'B-DRUGS', 'O', 'O', 'O', 'O', 'O', 'O', 'O', 'O', 'O', 'O', 'O', 'O']), (['bi', '##pol', '##arity', 'in', 'j', '##ung', '##ian', 'type', 'theory', 'and', 'the', 'my', '##ers', '-', 'br', '##iggs', 'type', 'indicator', '.'], ['O', 'O', 'O', 'O', 'O', 'O', 'O', 'O', 'O', 'O', 'B-DISEASE', 'O', 'O', 'O', 'O', 'O', 'O', 'O', 'O']), (['the', 'present', 'results', 'demonstrate', 'that', 'rats', 'with', 'relatively', 'small', 'remnants', 'of', 'one', 'o', '##lf', '##actor', '##y', 'bulb', 'can', 'perform', 'a', 'variety', 'of', 'odor', 'detection', 'and', 'discrimination', 'tasks', 'as', 'well', 'or', 'nearly', 'as', 'well', 'as', 'controls', '.'], ['O', 'B-DISEASE', 'I-DISEASE', 'I-DISEASE', 'O', 'O', 'O', 'O', 'O', 'O', 'O', 'O', 'O', 'O', 'O', 'O', 'O', 'O', 'O', 'O', 'O', 'B-DISEASE', 'I-DISEASE', 'O', 'O', 'O', 'O', 'B-DISEASE', 'O', 'O', 'O', 'O', 'O', 'O', 'O', 'O']), (['the', 's', '##r', 'protein', 'family', 'is', 'involved', 'in', 'con', '##st', '##it', '##utive', 'and', 'regulated', 'pre', '-', 'm', '##rna', 's', '##p', '##licing', 'and', 'has', 'been', 'found', 'to', 'be', 'evolution', '##arily', 'conserved', 'in', 'meta', '##zo', '##an', 'organisms', '.'], ['O', 'O', 'O', 'O', 'O', 'O', 'O', 'O', 'O', 'O', 'O', 'O', 'O', 'O', 'O', 'O', 'O', 'O', 'O', 'O', 'O', 'O', 'O', 'O', 'O', 'O', 'O', 'O', 'O', 'O', 'O', 'O', 'O', 'O', 'O', 'O']), (['another', 'tentative', 'hot', '##sp', '##ot', 'mutation', 'in', 'the', 'third', 'patient', ',', 'a', 'frame', 'shift', 'caused', 'by', 'a', 'g', 'n', '##uc', '##leo', '##tide', 'insertion', 'in', 'a', 'mon', '##oto', '##nous', 'repeat', 'of', 'six', 'g', '##s', 'in', 'hp', '##rt', 'ex', '##on', '3', ',', 'has', 'been', 'reported', 'previously', 'in', 'three', 'other', 'l', '##n', 'patients', '.'], ['O', 'O', 'O', 'O', 'O', 'O', 'O', 'B-GENE', 'I-GENE', 'I-GENE', 'I-GENE', 'I-GENE', 'I-GENE', 'I-GENE', 'I-GENE', 'I-GENE', 'O', 'O', 'O', 'O', 'O', 'O', 'O', 'O', 'O', 'O', 'O', 'O', 'O', 'B-GENE', 'I-GENE', 'O', 'O', 'O', 'O', 'O', 'O', 'O', 'O', 'O', 'O', 'O', 'O', 'B-DRUGS', 'O', 'O', 'O', 'O', 'O', 'B-DRUGS', 'O']), (['each', 'half', 'molecule', 'contains', 'four', 'di', '##sul', '##fi', '##de', 'link', '##ages', 'and', 'four', 'c', '##is', 'p', '##eptide', '##s', '.'], ['O', 'O', 'O', 'B-DRUGS', 'O', 'O', 'O', 'O', 'O', 'O', 'O', 'O', 'O', 'O', 'O', 'O', 'O', 'O', 'O']), (['methods', ':', 'one', 'hundred', 'fourteen', 'consecutive', 'patients', '(', 'mean', 'age', '61', 'years', ')', 'with', 'focal', 'pan', '##cre', '##atic', 'masses', ',', 'detected', 'on', 'c', '##t', ',', 'underwent', 'e', '##us', '-', 'f', '##na', 'by', 'using', 'a', 'linear', '-', 'array', 'echo', '##end', '##os', '##cope', 'and', '22', '-', 'gauge', 'needles', '.'], ['O', 'O', 'O', 'B-DRUGS', 'I-DRUGS', 'I-DRUGS', 'I-DRUGS', 'I-DRUGS', 'I-DRUGS', 'I-DRUGS', 'O', 'O', 'O', 'O', 'O', 'O', 'O', 'O', 'O', 'O', 'B-GENE', 'I-GENE', 'I-GENE', 'I-GENE', 'O', 'B-GENE', 'O', 'O', 'O', 'O', 'O', 'O', 'B-GENE', 'O', 'O', 'O', 'B-GENE', 'O', 'O', 'O', 'O', 'O', 'O', 'O', 'O', 'O', 'O']), (['consistent', 'with', 'effects', 'on', 's', '##tat', 'activation', ',', 'altered', 's', '##hp', '-', '1', 'expression', 'also', 'affected', 'e', '##g', '##f', '-', 'induced', 'activation', 'of', 'the', 'mit', '##ogen', '-', 'activated', 'protein', 'kinase', 'pathway', ';', 'expression', 'of', 's', '##hp', '-', '1', '-', '(', 'c', '##ys', '-', '-', '>', 'se', '##r', ')', 'in', '##hibit', '##ed', 'activity', 'of', 'me', '##k', 'by', 'approximately', '25', '%', ',', 'whereas', 'expression', 'of', 's', '##hp', '-', '1', 'resulted', 'in', 'a', 'approximately', '25', '%', 'increase', '.'], ['O', 'O', 'O', 'O', 'O', 'O', 'O', 'O', 'O', 'O', 'O', 'O', 'O', 'O', 'O', 'O', 'O', 'O', 'O', 'O', 'O', 'O', 'O', 'O', 'O', 'O', 'O', 'O', 'O', 'O', 'O', 'O', 'O', 'O', 'O', 'O', 'O', 'O', 'O', 'O', 'O', 'O', 'O', 'O', 'O', 'O', 'O', 'O', 'O', 'O', 'O', 'O', 'O', 'O', 'O', 'O', 'O', 'O', 'B-GENE', 'I-GENE', 'I-GENE', 'O', 'O', 'O', 'O', 'O', 'O', 'O', 'O', 'O', 'O', 'O', 'O', 'O', 'O'])]\n"
          ],
          "name": "stdout"
        }
      ]
    },
    {
      "cell_type": "code",
      "metadata": {
        "id": "zHj-aeW0Nbwu",
        "colab_type": "code",
        "colab": {}
      },
      "source": [
        "# split text and labels\n",
        "tokenized_texts = [token_label_pair[0] for token_label_pair in tokenized_texts_and_labels]\n",
        "\n",
        "labels = [token_label_pair[1] for token_label_pair in tokenized_texts_and_labels]"
      ],
      "execution_count": 25,
      "outputs": []
    },
    {
      "cell_type": "code",
      "metadata": {
        "id": "DMsnjq8wNe-e",
        "colab_type": "code",
        "colab": {
          "base_uri": "https://localhost:8080/",
          "height": 54
        },
        "outputId": "01da7e59-d0a2-4b4c-c999-229eb6a4fcfe"
      },
      "source": [
        "print(tokenized_texts)"
      ],
      "execution_count": 26,
      "outputs": [
        {
          "output_type": "stream",
          "text": [
            "[['im', '##mu', '##no', '##his', '##to', '##chemical', 'stain', '##ing', 'was', 'positive', 'for', 's', '-', '100', 'in', 'all', '9', 'cases', 'stained', ',', 'positive', 'for', 'h', '##mb', '-', '45', 'in', '9', '(', '90', '%', ')', 'of', '10', ',', 'and', 'negative', 'for', 'c', '##yt', '##oker', '##ati', '##n', 'in', 'all', '9', 'cases', 'in', 'which', 'my', '##x', '##oid', 'me', '##lan', '##oma', 'remained', 'in', 'the', 'block', 'after', 'previous', 'sections', '.'], ['ch', '##lora', '##mp', '##hen', '##ico', '##l', 'ace', '##ty', '##lt', '##ran', '##s', '##fer', '##ase', 'ass', '##ays', 'examining', 'the', 'ability', 'of', 'i', '##e', '##86', 'to', 're', '##press', 'activity', 'from', 'the', 'h', '##c', '##m', '##v', 'major', 'i', '##e', 'promoter', 'or', 'activate', 'the', 'h', '##c', '##m', '##v', 'early', 'promoter', 'for', 'the', '2', '.', '2', '-', 'k', '##b', 'class', 'of', 'r', '##nas', 'demonstrated', 'the', 'functional', 'integrity', 'of', 'the', 'i', '##e', '##86', 'protein', '.'], ['a', 'new', 'd', '##na', 'repair', 'gene', 'from', 's', '##chi', '##zo', '##sa', '##cc', '##har', '##omy', '##ces', 'p', '##omb', '##e', 'with', 'ho', '##mology', 'to', 're', '##ca', 'was', 'identified', 'and', 'characterized', '.'], ['our', 'study', 'also', 'demonstrated', 'significant', 'increases', 'in', 'the', 'number', 'of', 'larger', 'my', '##elin', '##ated', 'fibers', 'crossing', 'the', 'repair', 'site', 'in', 'comparison', 'with', 'the', 'neon', '##ata', '##l', 'and', 'adult', 'groups', '(', 'p', '<', '0', '.', '4', ')', '.'], ['c', '##lon', '##ing', 'and', 'se', '##quencing', 'of', 'the', 'upstream', 'region', 'of', 'p', '##ep', '##x', 'revealed', 'the', 'presence', 'of', 'two', 'or', '##fs', 'of', '360', 'and', '1', ',', '33', '##8', 'b', '##p', 'that', 'were', 'shown', 'to', 'be', 'able', 'to', 'en', '##code', 'proteins', 'with', 'high', 'ho', '##mology', 'to', 'g', '##ln', '##r', 'and', 'g', '##ln', '##a', 'proteins', ',', 'respectively', '.'], ['both', 'mutant', 'receptors', 'were', 'expressed', 'on', 'the', 'cell', 'surface', 'and', 'bound', 'insulin', 'normally', ',', 'but', 'showed', 'marked', '##ly', 'impaired', 'auto', '##ph', '##os', '##ph', '##ory', '##lation', 'in', 'response', 'to', 'insulin', '.'], ['further', '##more', ',', 'analysis', 'of', 'the', 'e', '##2', 'proteins', 'present', 'in', 'various', 'cell', 'lines', 'harbor', '##ing', 'specific', 'b', '##p', '##v', '-', '1', 'mutant', '##s', ',', 'including', 'the', '255', '##8', 'accept', '##or', 'mutant', ',', 'proves', 'that', 'alternate', 'modes', 'of', 'e', '##2', 'expression', 'exist', '.'], ['molecular', 'modelling', 'suggested', 'that', 'the', 'te', '##tra', '##mer', '##ization', 'domain', 'was', 'a', 'four', '-', 'he', '##lix', 'bundle', ',', 'stab', '##ilized', 'by', 'interactions', 'of', 'seven', 'conserved', 'a', '##romatic', 'amino', 'acids', '.'], ['hem', '##ato', '##logy', 'problem', 'of', 'the', 'month', ':', 'band', 'or', 'se', '##g', '?'], ['p', '##ka', 'p', '##hos', '##ph', '##ory', '##lated', 'w', '##t', '##1', 'at', 'se', '##r', '-', '365', 'and', 'se', '##r', '-', '39', '##3', 'in', 'v', '##it', '##ro', ',', 'as', 'well', 'as', 'at', 'additional', 'sites', ',', 'and', 'this', 'p', '##hos', '##ph', '##ory', '##lation', 'abolished', 'the', 'd', '##na', '-', 'binding', 'activity', 'of', 'w', '##t', '##1', 'in', 'v', '##it', '##ro', '.'], ['rock', '-', 'i', ',', 'kin', '##ec', '##tin', ',', 'and', 'm', '##dia', '##2', 'can', 'bind', 'the', 'wild', 'type', 'forms', 'of', 'both', 'r', '##ho', '##a', 'and', 'c', '##d', '##c', '##42', 'in', 'a', 'g', '##t', '##p', '-', 'dependent', 'manner', 'in', 'v', '##it', '##ro', '.'], ['these', 'results', 'support', 'the', 'hypothesis', 'that', 'in', 'the', 'presence', 'of', 'try', '##pt', '##op', '##han', 'the', 'rib', '##oso', '##me', 'translating', 't', '##nac', 'blocks', 'r', '##ho', \"'\", 's', 'access', 'to', 'the', 'box', '##a', 'and', 'r', '##ut', 'sites', ',', 'thereby', 'preventing', 'transcription', 'termination', '.'], ['suppress', '##ors', 'of', 'defect', '##ive', 'si', '##len', '##cing', 'in', 'yeast', ':', 'effects', 'on', 'transcription', '##al', 'repression', 'at', 'the', 'h', '##m', '##r', 'lo', '##cus', ',', 'cell', 'growth', 'and', 'te', '##lo', '##mere', 'structure', '.'], ['the', 'p', '##j', '##r', 'vectors', 'differ', 'among', 'them', 'in', ':', '(', 'a', ')', 'the', 'select', '##able', 'marker', '(', 'sa', '##cc', '##har', '##omy', '##ces', 'c', '##ere', '##vis', '##iae', 'le', '##u', '2', 'gene', ',', 'which', 'complement', '##s', 's', '.', 'p', '##omb', '##e', 'le', '##u', '##1', '-', 'gene', 'and', 's', '.', 'p', '##omb', '##e', 'u', '##ra', '##4', '+', 'and', 'his', '##3', '+', 'genes', ')', ';', '(', 'b', ')', 'the', 'th', '##iam', '##ine', '-', 're', '##press', '##ible', 'nm', '##t', '##1', 'promoter', '(', '3', '##x', ',', '41', '##x', 'and', '81', '##x', 'with', 'extremely', 'high', ',', 'moderate', 'or', 'low', 'transcription', 'efficiency', ',', 'respectively', ')', ';', 'and', '(', 'c', ')', 'the', 'multiple', 'c', '##lon', '##ing', 'site', '(', 'two', 'multiple', 'c', '##lon', '##ing', 'sites', ',', 'with', '12', 'restriction', 'sites', 'each', ')', '.'], ['the', 'transcription', 'of', 'most', 'r', '##p', 'genes', 'is', 'activated', 'by', 'two', 'rap', '##1', '##p', 'binding', 'sites', ',', '250', 'to', '400', 'b', '##p', 'upstream', 'from', 'the', 'initiation', 'of', 'transcription', '.'], ['cardiac', 'markers', 't', '##rop', '##oni', '##n', 't', ',', 'c', '##k', '-', 'm', '##b', 'mass', 'and', 'my', '##og', '##lo', '##bin', 'were', 'helpful', 'in', 'the', 'differential', 'diagnosis', 'of', 'chest', 'pain', ',', 'even', 'when', 'the', 'e', '##c', '##g', 'was', 'un', '##rem', '##ark', '##able', 'or', 'non', '##sp', '##ec', '##ific', '.'], ['finally', ',', 'in', 'sit', '##u', 'r', '##na', 'hybrid', '##ization', 'studies', 'revealed', 'a', 'very', 'specific', 'pattern', 'of', 'e', '##pha', '##8', 'gene', 'expression', 'restricted', 'to', 'the', 'r', '##ost', '##ral', 'region', 'of', 'mid', '##bra', '##in', 'te', '##ct', '##um', 'during', 'em', '##b', '##ryo', '##nic', 'development', '.'], ['none', 'were', 'restricted', 'from', 'clinical', 'duties', ',', 'were', 'given', 'var', '##ice', '##lla', '-', 'z', '##ost', '##er', 'immune', 'g', '##lo', '##bul', '##in', ',', 'or', 'developed', 'disease', '.'], ['position', '##al', 'c', '##lon', '##ing', 'has', 'already', 'produced', 'the', 'sequences', 'of', 'more', 'than', '70', 'human', 'genes', 'associated', 'with', 'specific', 'diseases', '.'], ['in', 'this', 'paper', ',', 'we', 'demonstrate', 'that', 'binding', 'of', 'the', 'g', '##a', '-', 'binding', 'protein', '(', 'g', '##ab', '##p', ')', 'to', 'et', '##s', 'sequence', 'motifs', 'within', 'each', 'repeated', 'unit', 'is', 'required', 'for', 'transcription', '##al', 'activation', 'of', 'the', 'co', '##xi', '##v', 'promoter', '.'], ['these', 'activities', 'are', 'all', 'required', 'for', 'stimulation', 'of', 'cell', 'growth', 'by', 'middle', '-', 't', 'and', 'activate', 'members', 'of', 'the', 'map', 'kinase', 'family', '.'], ['hp', '##l', '##c', 'p', '##hos', '##ph', '##ope', '##pt', '##ide', 'mapping', ',', 'amino', 'acid', 'se', '##quencing', ',', 'and', 'site', '-', 'directed', 'm', '##uta', '##genesis', 'determined', 'that', 'n', '##c', '##lk', 'p', '##hos', '##ph', '##ory', '##lates', 'se', '##r', '(', '67', ')', 'of', 'i', '-', '1', '.'], ['a', 'ch', '##ao', '##tro', '##pic', 'de', '##ter', '##gent', ',', '0', '.', '1', '%', 'non', '##ide', '##t', 'p', '-', '40', ',', 'also', 'abolished', 'the', 'interaction', ',', 'further', 'supporting', 'the', 'h', '##ydro', '##phobic', 'nature', 'of', 'the', 'interaction', '.'], ['g', '##eno', '##mic', 'and', 'c', '##dn', '##a', 'clone', '##s', 'ho', '##mo', '##log', '##ous', 'to', 'the', 'yeast', 'g', '##c', '##n', '##2', 'e', '##if', '-', '2', '##al', '##pha', 'kinase', '(', 'y', '##g', '##c', '##n', '##2', ')', 'were', 'isolated', 'from', 'd', '##ros', '##op', '##hil', '##a', 'me', '##lan', '##oga', '##ster', '.'], ['over', '##ex', '##press', '##ion', 'of', 'r', '##or', '##gam', '##ma', 'has', 'been', 'shown', 'to', 'in', '##hibit', 't', 'cell', 'receptor', '-', 'mediated', 'a', '##pop', '##tosis', 'in', 't', 'cell', 'hybrid', '##oma', '##s', 'and', 'to', 're', '##press', 'the', 'induction', 'of', 'f', '##as', '-', 'l', '##igan', '##d', 'and', 'inter', '##le', '##uki', '##n', '2', '.'], ['the', 'final', 'si', '##gma', '##5', '##4', '-', 'dependent', 'd', '##mp', '##r', 'act', '##iva', '##tor', 'regulate', '##s', 'transcription', 'of', 'the', 'd', '##mp', 'op', '##eron', 'that', 'en', '##codes', 'the', 'enzymes', 'for', 'cat', '##ab', '##olis', '##m', 'of', '(', 'met', '##hyl', ')', 'p', '##hen', '##ols', '.'], ['when', 'te', '##ther', '##ed', 'to', 'a', 'he', '##tero', '##log', '##ous', 'd', '##na', '-', 'binding', 'domain', ',', 'ps', '##u', '##1', 'can', 'activate', 'transcription', 'on', 'its', 'own', '.'], ['the', 'so', '##rp', '##tion', 'mechanisms', 'changed', 'from', 'ads', '##or', '##ption', 'to', 'partition', 'in', 'the', 'process', 'of', 're', '##pet', '##iti', '##ous', 'so', '##rp', '##tion', '.'], ['t', '##yr', '##os', '##ine', '112', 'of', 'late', '##nt', 'membrane', 'protein', '2', '##a', 'is', 'essential', 'for', 'protein', 't', '##yr', '##os', '##ine', 'kinase', 'loading', 'and', 'regulation', 'of', 'e', '##ps', '##tein', '-', 'bar', '##r', 'virus', 'late', '##ncy', '.'], ['pro', '##gno', '##sis', 'of', 'as', '##ym', '##pt', '##oma', '##tic', 'multiple', 'my', '##elo', '##ma', '.'], ['in', 'contrast', 'to', 'behavioral', 'de', '##viation', '(', 'the', 'avoid', '##ance', 'conditioning', 'lost', ')', ',', 'the', 'ha', '##lop', '##eri', '##do', '##l', 'in', '##tras', '##tri', '##ata', '##l', 'micro', '##in', '##jection', '##s', 'did', 'not', 'affect', 'the', 'da', 's', '##yna', '##ptic', 'level', 'in', 'r', '##ost', '##ral', 'neo', '##st', '##ria', '##tum', '.'], ['from', '250', 'g', 'of', 'cells', ',', 'we', 'isolated', '1', 'mg', 'of', 'p', '##dh', 'complex', 'with', 'a', 'specific', 'activity', 'of', '12', '.', '6', 'u', '/', 'mg', 'of', 'protein', '.'], ['del', '##eti', '##on', 'of', 'the', 'pro', '##ximal', 'o', '##ct', '##anu', '##cle', '##ot', '##ide', 'motif', 'from', 'the', 'p', '##las', '##mi', '##d', 'containing', 'the', '-', '46', '##1', 'fragment', 'of', 'the', 'l', '##p', '##l', 'promoter', ',', 'resulted', 'in', 'a', '79', 'and', '76', '%', 'decrease', 'in', 'the', 'level', 'of', 'expression', 'in', 'trans', '##fected', '3', '##t', '##3', '-', 'l', '##1', 'ad', '##ip', '##ocytes', 'and', 'he', '##p', '##g', '##2', 'he', '##pa', '##to', '##cy', '##tes', ',', 'respectively', '.'], ['the', 'fragments', 'of', 'each', 'region', 'were', 'am', '##plified', 'by', 'polymer', '##ase', 'chain', 'reaction', 'and', 'analyzed', 'by', 'gel', 'electro', '##ph', '##ores', '##is', 'to', 'detect', 'single', '-', 'strand', 'conform', '##ation', 'p', '##oly', '##mor', '##phism', '.'], ['a', 'third', 'prominent', 'component', 'of', 'apparent', 'molecular', 'mass', '16', 'k', '##da', 'displayed', 'several', 'properties', ',', 'including', 'ability', 'to', 'bind', '45', '##ca', '##2', '+', ',', 'that', 'are', 'characteristic', 'of', 'the', 'regulatory', '(', 'b', ')', 'subunit', 'of', 'ma', '##mmal', '##ian', 'ca', '##l', '##cine', '##uri', '##n', 'and', 'was', 'recognized', 'by', 'an', 'anti', '##ser', '##um', 'raised', 'against', 'b', '##ov', '##ine', 'ca', '##l', '##cine', '##uri', '##n', '.'], ['elimination', 'of', 'et', '##h', '##1', 'in', 'a', '##p', '##n', '##1', 'strains', 'also', 'increased', 'spontaneous', 'mutation', 'rates', '9', '-', 'or', '31', '-', 'fold', 'compared', 'to', 'the', 'wild', 'type', 'as', 'determined', 'by', 're', '##version', 'to', 'ad', '##eni', '##ne', 'or', 'l', '##ys', '##ine', 'pro', '##to', '##tro', '##phy', ',', 'respectively', '.'], ['with', 'the', 'help', 'of', 'a', 'no', '##mo', '##gram', 'one', 'can', 'read', 'off', 'the', 're', '##fra', '##ction', ',', 'when', 'axis', 'length', 'and', 'corn', '##eal', 'cu', '##rva', '##ture', 'are', 'known', '.'], ['a', 'direct', 'role', 'for', 's', '##tero', '##l', 'regulatory', 'element', 'binding', 'protein', 'in', 'activation', 'of', '3', '-', 'h', '##ydro', '##xy', '-', '3', '-', 'met', '##hyl', '##g', '##lut', '##ary', '##l', 'co', '##en', '##zy', '##me', 'a', 'red', '##uc', '##tase', 'gene', '.'], ['we', 'have', 'identified', 'three', 'binding', 'sites', 'for', 'protein', 'complexes', ':', 'a', 'p', '##ali', '##nd', '##rome', ',', 'a', 'direct', 'repeat', ',', 'and', 'a', 'c', '+', 't', 'sequence', 'that', 'corresponds', 'to', 'seven', 'gag', '##a', 'motifs', 'on', 'the', 'trans', '##cribed', 'strand', '.'], ['modification', 'of', 'do', '##pa', '##mine', 'd', '##2', 'receptor', 'activity', 'by', 'per', '##gol', '##ide', 'in', 'park', '##ins', '##on', \"'\", 's', 'disease', ':', 'an', 'in', 'v', '##ivo', 'study', 'by', 'pet', '.'], ['in', 'the', 'p', '##51', 'subunit', ',', 'the', 'c', '##ys', '##18', '##1', 'side', '-', 'chain', 'is', 'oriented', 'in', 'a', 'similar', 'direction', 'to', 'the', 't', '##yr', '##18', '##1', 'side', '-', 'chain', 'in', 'the', 'wild', '-', 'type', 'complex', '.'], ['expense', 'limits', 'the', 'use', 'of', 'he', '##pa', '##titis', 'b', 'vaccine', '##s', ',', 'but', 'low', '-', 'dose', 'in', '##tra', '##der', '##mal', 'im', '##mu', '##ni', '##zation', 'has', 'been', 'evaluated', 'as', 'a', 'cost', '-', 'saving', 'strategy', 'in', 'numerous', 'studies', '.'], ['blood', 'flow', 'velocity', 'wave', '##form', '##s', 'were', 'recorded', 'by', 'pulsed', 'do', '##pp', '##ler', 'examination', 'of', 'the', 'f', '##etal', 'internal', 'car', '##ot', '##id', 'and', 'middle', 'cerebral', 'art', '##eries', 'using', 'the', 'established', 'trans', '##ab', '##dom', '##inal', 'route', 'as', 'well', 'as', 'a', 'new', 'trans', '##va', '##gin', '##al', 'approach', '.'], ['ex', '##pan', '##sin', '##s', 'are', 'a', 'family', 'of', 'proteins', 'that', 'cat', '##aly', '##se', 'long', '-', 'term', 'extension', 'of', 'isolated', 'plant', 'cell', 'walls', 'due', 'to', 'an', 'as', 'yet', 'unknown', 'bio', '##chemical', 'mechanism', '.'], ['the', 'c', '##gli', '##m', 'gene', 'is', 'organized', 'in', 'an', 'unusual', 'op', '##eron', 'which', 'contains', ',', 'in', 'addition', ',', 'two', 'genes', 'encoding', 'stress', '-', 'sensitive', 'restriction', 'enzymes', '.'], ['a', 'soap', 'and', 'water', '(', '1', ':', '1', ',', 'v', '/', 'v', ')', 'solution', 'effectively', 'de', '##con', '##tam', '##inated', 'powder', '##ed', 's', '##tra', '##tum', 'corn', '##eum', '.'], ['s', '##rb', '##10', 'is', 'a', 'physiological', 'regulator', 'of', 'g', '##c', '##n', '##4', 'stability', 'because', 'both', 'p', '##hos', '##ph', '##ory', '##lation', 'and', 'turnover', 'of', 'g', '##c', '##n', '##4', 'are', 'diminished', 'in', 's', '##rb', '##10', 'mutant', '##s', '.'], ['ongoing', 'and', 'future', 'investigations', 'may', 'better', 'define', 'the', 'optimal', 'approach', 'for', 'local', 'control', ',', 'the', 'optimal', 'duration', 'of', 'maintenance', 'ch', '##em', '##otherapy', ',', 'and', 'the', 'possible', 'role', 'of', 'bio', '##log', '##ic', 'response', 'm', '##od', '##ifier', '##s', 'and', 'growth', 'factors', 'in', 'further', 'improving', 'the', 'outcome', 'for', 'patients', 'with', 'this', 'disease', '.'], ['su', '##l', '##ph', '##ur', 'amino', 'acids', '(', 'g', '/', '16', 'g', 'n', ')', 'were', 'higher', 'in', 'the', 'is', '##olate', '##s', 'than', 'in', 'the', 'flour', '##s', '.'], ['these', 'characteristic', 'structural', 'features', 'were', 'used', 'to', 'create', 'the', 'abbreviation', 'a', '##z', '##f', '##1', '(', 'as', '##par', '##agi', '##ne', '-', 'rich', 'zinc', 'finger', 'protein', ')', '.'], ['a', 'pro', '##sta', '##g', '##land', '##in', 'analogue', 'given', 'in', 'early', 'pregnancy', 'and', 'human', 'ch', '##orio', '##nic', 'go', '##nado', '##tro', '##pin', 'given', 'near', 'the', 'end', 'of', 'the', 'ensuing', 'f', '##oll', '##icular', 'phase', 'were', 'used', 'for', 'controlling', 'the', 'reproductive', 'cycle', ',', 'timing', 'o', '##oc', '##yte', 'collection', ',', 'and', 's', '##ync', '##hr', '##oni', '##zing', 'the', 'cycles', 'of', 'o', '##oc', '##yte', 'donors', 'and', 'em', '##b', '##ryo', 'recipients', '.'], ['high', 'levels', 'of', 'serum', 'ca', '##l', '##ci', '##ton', '##in', 'were', 'found', 'in', 'patients', 'with', 'chronic', 're', '##nal', 'failure', '.'], ['by', 'using', 'space', '-', 'discrete', '/', 'continuous', 'meta', '##pop', '##ulation', 'dynamic', 'models', 'and', 'computer', 'simulation', '##s', ',', 'we', 'show', 'that', 'there', 'can', 'be', 'two', 'principally', 'different', 'regime', '##s', 'of', 'meta', '##pop', '##ulation', 'dynamics', '.'], ['pro', '##life', '##rative', 'v', '##as', '##cu', '##lop', '##athy', 'and', 'cut', '##aneous', 'hem', '##or', '##r', '##hage', '##s', 'in', 'p', '##or', '##cine', 'neon', '##ates', 'infected', 'with', 'the', 'p', '##or', '##cine', 'reproductive', 'and', 'respiratory', 'syndrome', 'virus', '.'], ['no', 'patient', 'with', 'bra', '##dy', '##ar', '##r', '##hy', '##th', '##mia', '-', 'related', 's', '##c', '##d', 'had', 'manifest', 'at', '##rio', '##vent', '##ric', '##ular', 'block', 'or', 'bundle', 'branch', 'block', '.'], ['while', 'no', 'significant', 'differences', 'in', 'the', 'tens', '##ile', 'responses', 'or', 'failure', 'characteristics', 'were', 'noted', 'for', 'i', '##rra', '##dia', '##ted', 'and', 'non', '##ir', '##rad', '##iated', 'g', '##raft', '##s', 'in', 'the', 'd', '##rip', ',', 'in', 'the', 'bath', 'environment', 'the', 'non', '##ir', '##rad', '##iated', 'tissues', 'had', 'greater', 'strength', 'and', 'm', '##od', '##ulus', '.'], ['the', 'proposed', 'mechanism', 'of', 'effect', 'states', 'that', 'mon', '##o', '(', '2', '-', 'et', '##hyl', '##he', '##xy', '##l', ')', 'p', '##ht', '##hala', '##te', '(', 'me', '##hp', ')', ',', 'the', 'primary', 'h', '##ydro', '##lysis', 'product', 'of', 'de', '##hp', ',', 'mimic', '##s', 'the', 'in', '##ducing', 'pro', '##sta', '##g', '##land', '##ins', '(', 'p', '##g', ')', 'p', '##g', '##d', '(', '2', ')', ',', '9', '##al', '##pha', ',', '11', '##bet', '##ap', '##g', '##f', '##2', ',', 'and', 'p', '##g', '##f', '##2', '##al', '##pha', ',', 'and', 'th', '##rom', '##box', '##ane', '##s', 'in', 'the', 'lungs', ',', 'thereby', 'increasing', 'the', 'risk', 'of', 'in', '##ducing', 'inflammation', 'in', 'the', 'air', '##ways', ',', 'which', 'is', 'a', 'characteristic', 'of', 'as', '##th', '##ma', '.'], ['processing', 'of', 'the', 'n', '##s', '##3', \"'\", '-', '5', '##b', 'p', '##oly', '##p', '##rote', '##in', 'was', 'complex', 'and', 'occurred', 'rapidly', '.'], ['application', 'of', 'the', 'method', 'to', 'a', 'representative', 'set', 'of', '50', 'known', 'genes', 'from', 'a', '##rab', '##ido', '##psis', 'th', '##alia', '##na', 'showed', 'significant', 'improvement', 'in', 'prediction', 'accuracy', 'compared', 'to', 'previous', 's', '##p', '##lice', '##d', 'alignment', 'methods', '.'], ['vocal', 'cord', 'a', '##b', '##duction', 'rehabilitation', 'by', 'nervous', 'selective', 'an', '##ast', '##omo', '##sis', '.'], ['p', '##let', '##hy', '##smo', '##graphic', 'technique', 'and', 'indirect', 'blood', 'pressure', 'recordings', 'were', 'used', '.'], ['bone', 'ma', '##rrow', 'abnormal', '##ities', 'in', 'ho', '##d', '##g', '##kin', \"'\", 's', 'disease', 'are', 'reviewed', 'and', 'the', 'current', 'understanding', 'of', 'the', 'path', '##ological', 'mechanisms', 'leading', 'to', 'a', '##p', '##lastic', 'an', '##emia', 'is', 'discussed', '.'], ['detection', 'of', 'anti', '-', 'l', '##ymph', '##oc', '##yte', 'antibodies', 'using', 'the', 'im', '##mu', '##no', '##per', '##ox', '##idas', '##e', 'anti', '##g', '##lo', '##bul', '##in', 'tech', '##nic', '.'], ['the', 'mean', 'values', 'of', 'the', 'concentrations', 'of', 'the', 'components', 'due', 'to', 'tobacco', 'smoke', 'are', ':', 'co', '=', '1', '.', '1', 'pp', '##m', ',', 'no', '=', '32', 'pp', '##b', ',', 'no', '##2', '=', '24', 'pp', '##b', ',', 'ni', '##cot', '##ine', '=', '0', '.', '9', 'micro', '##gram', '##s', '/', 'm', '##3', ',', 'part', '##iculate', 'matter', '=', '133', 'micro', '##gram', '##s', '/', 'm', '##3', '.'], ['infection', 'with', 'ne', '##isse', '##ria', 'men', '##ing', '##iti', '##dis', 'group', 'b', 'has', 'been', 'difficult', 'to', 'detect', ',', 'partly', 'because', 'this', 'bacterial', 'group', \"'\", 's', 'p', '##oly', '##sa', '##cc', '##hari', '##de', 'is', 'a', 'weak', 'im', '##mu', '##no', '##gen', '.'], ['laser', 'a', '##bla', '##tion', 'has', 'been', 'employed', 'as', 'a', 'therapeutic', 'measure', 'for', 'chronic', 'pulmonary', 'em', '##phy', '##se', '##ma', '.'], ['the', 'drug', 'sensitivity', 'was', '100', '%', 'for', 'van', '##com', '##y', '##cin', '(', 'v', '##c', '##m', ')', ',', '30', '%', 'for', 'im', '##ip', '##ena', '##m', '(', 'imp', ')', ',', '31', '%', 'for', 'min', '##omy', '##cin', '(', 'min', '##o', ')', ',', '31', '%', 'for', 'am', '##ika', '##cin', '(', 'am', '##k', ')', ',', 'and', '7', '%', 'for', 'f', '##os', '##fo', '##my', '##cin', '(', 'f', '##om', ')', '.'], ['g', '##lo', '##mer', '##ular', 'hem', '##ody', '##nam', '##ics', 'during', 'abortion', 'induced', 'by', 'r', '##u', '48', '##6', 'and', 'se', '##psis', 'in', 'rats', '.'], ['in', '##tra', '##ven', '##ous', 'glucose', 'tolerance', 'tests', 'were', 'performed', 'before', 'operation', ',', 'before', 'starting', 'c', '##ya', 'and', 'after', '3', 'weeks', '.'], ['p', '##har', '##ma', '##co', '##log', '##ic', 'aspects', 'of', 'neon', '##ata', '##l', 'h', '##yper', '##bil', '##ir', '##ubi', '##ne', '##mia', '.'], ['d', '##na', '-', 'dependent', 'protein', 'kinase', '(', 'd', '##na', '-', 'p', '##k', ')', 'consists', 'of', 'a', 'he', '##tero', '##di', '##mer', '##ic', 'protein', '(', 'k', '##u', ')', 'and', 'a', 'large', 'cat', '##alytic', 'subunit', '(', 'd', '##na', '-', 'p', '##k', '##cs', ')', '.'], ['se', '##rod', '##ia', '##gno', '##sis', 'of', 'e', '##ct', '##rome', '##lia', 'in', 'laboratory', 'mice'], ['no', 'mutation', 'of', 'the', 'n', '##rl', 'gene', 'was', 'found', 'in', 'any', 'of', 'the', 'two', 'families', '.'], ['ten', 'out', '-', 'patients', 'with', 'pu', '##st', '##ulos', '##is', 'palm', '##aris', 'et', 'plant', '##aris', 'were', 'examined', 'with', 'direct', 'im', '##mu', '##no', '##f', '##lu', '##ores', '##cence', '(', 'if', ')', 'technique', 'for', 'deposition', 'of', 'fi', '##bri', '##no', '##gen', ',', 'fi', '##bri', '##n', 'or', 'its', 'degradation', 'products', '(', 'f', '##r', '-', 'anti', '##gen', ')', 'in', 'affected', 'and', 'un', '##af', '##fected', 'skin', ',', 'together', 'with', 'he', '##par', '##in', '-', 'pre', '##ci', '##pit', '##able', 'fraction', '(', 'hp', '##f', ')', ',', 'cry', '##og', '##lo', '##bul', '##in', 'and', 'total', 'plasma', 'fi', '##bri', '##no', '##gen', 'in', 'the', 'blood', '.'], ['in', 'addition', ',', 'we', 'show', 'that', 'the', 'expression', 'of', 'individual', 'members', 'of', 'one', 'subfamily', 'of', 'k', '##rab', 'zinc', 'finger', 'genes', 'is', 'restricted', 'to', 'specific', 'hem', '##ato', '##po', '##iet', '##ic', 'cell', 'lineage', '##s', '.'], ['we', 'recently', 'reported', 'a', 'place', '##nta', '-', 'specific', 'enhance', '##r', 'in', 'the', 'human', 'le', '##uke', '##mia', 'inhibitor', '##y', 'factor', 'receptor', '(', 'l', '##if', '##r', ')', 'gene', 'and', 'now', 'show', 'detailed', 'characterization', 'of', 'the', '226', '-', 'base', 'pair', 'enhance', '##r', '(', '-', '46', '##25', '/', '-', '440', '##0', 'n', '##uc', '##leo', '##tide', '##s', ')', '.'], ['despite', 'continuous', 'compliance', ',', 'une', '##x', '##plain', '##ed', 're', '##su', '##rgen', '##ce', 'of', 'serum', 'f', '##er', '##rit', '##in', 'levels', 'occurred', 'in', '4', '/', '7', 'patients', 'of', 'the', \"'\", 'veteran', \"'\", 'group', 'after', '4', '-', '5', 'years', 'on', 'l', '##1', '.'], ['initial', 'screening', 'of', 'a', 'rat', 'liver', 'c', '##dn', '##a', 'library', 'with', 'an', 'o', '##li', '##gon', '##uc', '##leo', '##tide', 'probe', 'derived', 'from', 'the', 'rat', 's', '##c', '##p', '##2', 'protein', 'sequence', 'revealed', 'an', '82', '##5', '-', 'base', 'pair', 'c', '##dn', '##a', 'clone', 'coding', 'for', 'the', 'complete', 's', '##c', '##p', '##2', 'protein', 'sequence', '.'], ['the', 'u', '##as', 'of', 'the', 'a', '##ac', '##2', 'gene', 'contains', 'at', 'least', 'two', 'distinct', 'motifs', 'for', 'd', '##na', '-', 'binding', 'transcription', '##al', 'act', '##iva', '##tors', ',', 'including', 'one', 'which', 'is', 'identical', 'with', 'the', 'core', 'ha', '##p', '##2', '/', '3', '/', '4', 'binding', 'motif', ',', 'and', 'a', 'second', 'one', 'with', 'the', 'a', '##b', '##f', '##1', 'consensus', 'binding', 'sequence', '.'], ['causes', 'of', 'death', 'found', 'in', 'an', 'e', '##pid', '##em', '##iol', '##ogical', 'study', 'of', 'native', 'chickens', 'in', 'th', '##ai', 'villages', '.'], ['simultaneously', 'a', 'greater', 'na', '##n', 'was', 'found', 'with', 'no', 'change', 'in', 'plasma', 'e', '##pine', '##ph', '##rine', 'response', '.'], ['a', 'g', '##eno', '##mic', 'd', '##na', 'clone', 'encoding', 'or', '##y', '##zac', '##ys', '##tat', '##in', '(', 'o', '##c', ')', ',', 'a', 'c', '##ys', '##tein', '##e', 'protein', '##ase', 'inhibitor', '(', 'c', '##ys', '##tat', '##in', ')', 'of', 'rice', ',', 'was', 'isolated', 'from', 'a', 'la', '##mb', '##da', 'em', '##b', '##l', '##3', 'p', '##hage', 'library', 'constructed', 'with', 'sa', '##u', '##3', '##ai', 'partial', 'dig', '##ests', 'of', 'rice', 'ch', '##rom', '##oso', '##mal', 'd', '##na', ',', 'by', 'screening', 'with', 'an', 'o', '##c', 'c', '##dn', '##a', 'as', 'a', 'probe', '.'], ['the', 'effect', 'of', 'the', 'op', '##iate', 'antagonist', 'na', '##lo', '##xon', '##e', 'was', 'evaluated', 'in', '11', 'un', '##sel', '##ec', '##ted', 'patients', 'with', 'cerebral', 'is', '##che', '##mia', '.'], ['neither', 'side', 'effect', 'nor', 'abnormal', 'laboratory', 'findings', 'due', 'to', 'this', 'drug', 'were', 'observed', '.'], ['the', 'effects', 'of', 'a', '1', '-', 'or', '24', '-', 'hour', 'pre', '##tre', '##at', '##ment', 'regime', '##n', 'with', 'mon', '##op', '##hos', '##ph', '##ory', '##l', 'lip', '##id', 'a', '(', 'm', '##la', ',', '35', 'micro', '##gram', '##s', '/', 'kg', 'i', '.', 'v', '.', ')', 'on', 'my', '##oc', '##ard', '##ial', 'stunning', 'produced', 'by', 'repetitive', 'co', '##rona', '##ry', 'o', '##cc', '##lusion', '##s', 'were', 'studied', 'in', 'bar', '##bit', '##al', '-', 'an', '##est', '##he', '##tized', 'dogs', '.'], ['trans', '##ient', 'co', '##tra', '##ns', '##fect', '##ion', 'of', 'ta', '##t', 'c', '##dn', '##a', 'in', 'sense', 'orientation', '(', 'ta', '##t', '/', 's', ')', ',', 'together', 'with', 'a', 'p', '##las', '##mi', '##d', 'containing', 'the', 'c', '-', 'f', '##os', 'promoter', '(', 'f', '##c', '##3', ',', 'from', '-', '71', '##1', 'to', '+', '42', ')', 'in', 'front', 'of', 'the', 'bacterial', 'ch', '##lora', '##mp', '##hen', '##ico', '##l', 'ace', '##ty', '##lt', '##ran', '##s', '##fer', '##ase', '(', 'cat', ')', 'gene', 'significantly', 'enhanced', 'cat', 'activity', 'in', 'j', '##ur', '##kat', 'cells', 'activated', 'by', 'the', 'addition', 'of', '15', '%', 'f', '##etal', 'calf', 'serum', '(', 'f', '##cs', ')', 'or', '5', 'micro', '##gram', '##s', '/', 'm', '##l', 'p', '##hy', '##to', '##hem', '##ag', '##g', '##lut', '##ini', '##n', 'plus', '10', '(', '-', '7', ')', 'm', '##ol', '/', 'l', 'p', '##hor', '##bol', 'my', '##rist', '##ate', 'ace', '##tate', '(', 'pm', '##a', ')', 'and', 'u', '##9', '##37', 'cells', 'activated', 'by', '15', '%', 'f', '##cs', 'or', '10', '(', '-', '7', ')', 'm', '##ol', '/', 'l', 'pm', '##a', '.'], ['therefore', ',', 'it', 'is', 'hoped', 'that', 'by', 'defining', 'the', 'transcription', '##al', 'control', 'of', 'the', 'l', '##7', 'gene', 'insights', 'into', 'the', 'mechanisms', 'that', 'control', 'functional', 'fate', 'and', 'organization', 'in', 'the', 'nervous', 'system', 'can', 'be', 'gained', '.'], ['these', 'results', 'suggest', 'that', 'diet', '##ary', 'sa', '##ff', '##low', '##er', 'p', '##hos', '##ph', '##oli', '##pid', '##s', 'may', 'be', 'a', 'valuable', 'ingredient', 'to', 'layers', 'for', 'reducing', 'liver', 't', '##rig', '##ly', '##cer', '##ides', 'and', 'serum', 'ch', '##ole', '##ster', '##ol', 'without', 'any', 'adverse', 'effects', '.'], ['however', ',', 'a', 'similar', 'mutation', 'of', 'a', 'le', '##uc', '##ine', 'residue', 'to', 'a', '##rg', '##ini', '##ne', 'at', 'position', '42', '##2', 'showed', 'no', 'alter', '##ation', 'of', 'he', '##tero', '##di', '##mer', '##ization', ',', 'd', '##na', 'binding', ',', 'or', 'transcription', '##al', 'activation', '.'], ['the', 'c', '##lea', '##vage', 'dip', '##eptide', '##s', 'of', 'c', '##1', '##y', '##v', '##v', 'ni', '##a', 'pro', '##te', '##ase', 'are', 'q', '(', 'e', ')', '/', 's', '(', 'a', ',', 'g', ')', '.'], ['in', 'contrast', ',', 'similar', 'rates', 'of', 'b', '.', 's', '##pha', '##eric', '##us', 'products', ',', 'a', '##b', '##g', '-', '61', '##8', '##4', 'technical', 'powder', 'and', 'b', '##sp', '-', '2', 'flow', '##able', 'concentrate', ',', 'produced', 'no', 'significant', 'reduction', '.'], ['it', 'was', 'concluded', 'that', 's', '##cot', '##ch', '##bon', '##d', '2', 'and', 'p', '##rism', '##a', 'universal', 'bond', '2', 'are', 'effective', 'and', 'are', 'the', 'den', '##tine', 'bonding', 'agents', 'of', 'choice', '.'], ['the', 'major', 'findings', 'of', 'our', 'studies', 'are', 'as', 'follows', ':', '1', ')', 'there', 'are', 'no', 'detect', '##able', 'signals', 'around', 'g', '##d', '##f', '-', '9', '-', 'def', '##icient', 'f', '##oll', '##icles', 'for', 'several', 'the', '##ca', 'cell', 'layer', 'markers', '[', 'i', '.', 'e', '.'], ['here', 'we', 'report', 'that', 'd', '##b', '##p', '##5', '##p', 'and', 'rat', '##7', '##p', 'interact', 'through', 'their', 'n', '##ter', '##mina', '##l', 'domains', '.'], ['regulation', 'of', 'the', 'alpha', 'in', '##hi', '##bin', 'gene', 'by', 'c', '##yclic', 'ad', '##eno', '##sin', '##e', '3', \"'\", ',', '5', \"'\", '-', 'mon', '##op', '##hos', '##phate', 'after', 'trans', '##fect', '##ion', 'into', 'rat', 'g', '##ran', '##ulos', '##a', 'cells', '.'], ['thus', ',', 'p', '##hos', '##ph', '##odies', '##tera', '##se', 'inhibitor', '##s', 'that', 'produce', 'an', 'op', '##iate', 'quasi', '-', 'withdrawal', 'syndrome', 'potent', '##iate', 'inter', '##oc', '##ept', '##ive', 'stimuli', 'and', 'weight', 'loss', 'associated', 'with', 'the', 'withdrawal', 'syndrome', 'pre', '##ci', '##pit', '##ated', 'by', 'na', '##lt', '##re', '##xon', '##e', 'in', 'm', '##or', '##phine', '-', 'dependent', 'rats', '.'], ['a', 'limited', 'study', 'in', 'a', 'glass', '##ware', 'factory', '(', 'as', '##2', '##o', '##3', 'exposure', ')', 'involving', 'the', 'measurement', 'of', 'total', 'airborne', 'a', '##rsen', '##ic', ',', 'the', 'determination', 'of', 'u', '##rina', '##ry', 'a', '##rsen', '##ic', ',', 'and', 'the', 'evaluation', 'of', 'hand', 'and', 'mouth', 'contamination', 'by', 'a', '##rsen', '##ic', 'before', 'and', 'after', 'the', 'works', '##hi', '##ft', 'suggests', 'that', 'the', 'high', 'u', '##rina', '##ry', 'a', '##rsen', '##ic', 'levels', '(', '300', 'micro', '##gram', '/', 'g', 'c', '##rea', '##tin', '##ine', ')', 'are', 'likely', 'to', 'be', 'more', 'related', 'to', 'an', 'increased', 'oral', 'intake', 'from', 'contaminated', 'hands', 'than', 'to', 'an', 'increased', 'absorption', 'from', 'the', 'lungs', '.'], ['both', 'of', 'these', 'domains', 'have', 'striking', 'sequence', 'ho', '##mology', 'with', 'human', 'si', '##m', 'and', 'd', '##ros', '##op', '##hil', '##a', 'si', '##m', 'proteins', '.'], ['the', '60', '##a', 'trans', '##cripts', 'and', 'protein', 'are', 'first', 'detected', 'at', 'the', 'onset', 'of', 'gas', '##tr', '##ulation', ',', 'primarily', 'in', 'the', 'me', '##so', '##der', '##m', 'of', 'the', 'extending', 'g', '##er', '##m', 'band', '.'], ['objectives', ':', 'to', 'measure', 'co', '##agu', '##lation', 'factor', 'v', '##ii', '##i', ':', 'co', '##agu', '##lant', '(', 'f', '.', 'v', '##ii', '##i', ':', 'c', ')', 'and', 'c', '##1', '-', 'est', '##era', '##se', 'inhibitor', '(', 'c', '##1', '-', 'in', '##h', ')', ',', 'hem', '##ost', '##asis', '-', 'associated', 'acute', '-', 'phase', 'react', '##ant', 'proteins', 'and', 'co', '##agu', '##lation', 'factors', 'v', '##ii', '(', 'f', '.', 'v', '##ii', ')', ',', 'i', '##x', '(', 'f', '.', 'i', '##x', ')', ',', 'and', 'x', '(', 'f', '.', 'x', ')', ',', 'hem', '##ost', '##asis', 'proteins', 'not', 'associated', 'with', 'an', 'acute', '-', 'phase', 'response', ',', 'in', 'a', 'select', 'population', 'of', 'horses', 'with', 'co', '##lic', 'and', 'hem', '##ost', '##asis', 'abnormal', '##ities', ',', 'and', 'presumed', 'to', 'have', 'acute', '-', 'phase', 'changes', '.'], ['per', '##ox', '##yd', '##ase', 'reaction', 'stain', '##s', 'were', 'negative', ',', 'ch', '##lor', '##oa', '##ce', '##tate', 'est', '##era', '##se', 'were', 'strongly', 'positive', '.'], ['this', 'difference', 'may', 'result', 'from', 'the', 'lower', 'match', 'to', 'the', 'a', '##rg', 'box', 'consensus', 'of', 'the', 'o', '(', 'r', '##oc', '##d', ')', 'site', '.'], ['in', '##tras', '##tri', '##ata', '##l', 'g', '##raft', '##s', 'of', 'ni', '##gra', '##l', 'and', 'ad', '##rena', '##l', 'tissues', 'have', 'been', 'found', 'to', 'be', 'effective', 'in', 'all', '##ev', '##iating', 'many', 'of', 'the', 'simple', 'motor', 'and', 'sensor', '##imo', '##tor', 'deficit', '##s', 'associated', 'with', 'lesions', 'of', 'the', 'ni', '##gro', '##st', '##ria', '##tal', 'do', '##pa', '##mine', 'system', '.'], ['copyright', '2000', 'academic', 'press', '.'], ['we', 'report', 'a', 'case', 'of', 'p', '##he', '##och', '##rom', '##oc', '##yt', '##oma', 'manifest', '##ing', 'during', 'the', 'third', 'trim', '##ester', 'of', 'pregnancy', '.'], ['although', 'the', 'e', '-', 'box', 'consensus', 'is', 'minimal', '##ly', 'defined', 'as', 'can', '##nt', '##g', ',', 'the', 'adjacent', 'n', '##uc', '##leo', '##tide', '##s', 'of', 'functional', 'e', '-', 'boxes', 'are', 'variable', 'for', 'genes', 'regulated', 'by', 'the', 'b', '##hl', '##h', 'proteins', '.'], ['here', 'is', 'presented', 'the', 'monitoring', 'of', 'the', 'accidental', 'spill', 'on', 'vertical', 'distribution', 'of', 'heavy', 'metals', 'in', 'the', 'est', '##ua', '##rine', 'sediments', '.'], ['among', 'the', 'mixed', 'race', 'persons', 'one', 'ch', '##uk', '##cha', '-', 'es', '##kim', '##o', 'had', 'as', ',', 'one', 'es', '##kim', '##o', '-', 'r', '##uss', '##ian', 'had', 'ps', '##oria', '##tic', 'art', '##hr', '##itis', '(', 'ps', '##a', ')', '.'], ['ve', '-', 'def', 'animals', 'had', 'significantly', 'higher', '(', 'p', '<', '0', '.', '5', ')', 'levels', 'of', 'my', '##oc', '##ard', '##ial', 'lip', '##id', 'per', '##ox', '##ida', '##tion', 'and', 'lower', '(', 'p', '<', '0', '.', '5', ')', 'protein', 'th', '##iol', '##s', 'following', 'i', '-', 'r', 'compared', 'to', 'the', 'con', 'animals', '.'], ['only', 'seven', 'patients', ',', 'five', 'of', 'whom', 'have', 'meta', '##static', 'disease', ',', 'survive', 'more', 'than', '10', 'years', 'after', 'first', 'presentation', ';', 'nine', 'patients', ',', 'one', 'of', 'whom', 'has', 'second', '##aries', ',', 'survive', 'for', '5', 'years', 'or', 'less', '.'], ['the', 'or', '##s', 'of', 'g', '##c', ',', 'adjusted', 'for', 'age', 'and', 'sex', ',', 'varied', 'from', '17', '.', '1', ',', 'for', 'those', 'with', 'base', '##line', 'di', '##ag', '##nose', '##s', 'of', 'superficial', 'in', '##test', '##inal', 'meta', '##p', '##lasia', '(', 'im', ')', ',', 'to', '29', '.', '3', ',', 'for', 'those', 'with', 'deep', 'im', 'or', 'mild', 'd', '##ys', '##p', '##lasia', '(', 'd', '##ys', ')', 'or', 'im', 'with', 'g', '##land', '##ular', 'at', '##rop', '##hy', 'and', 'neck', 'h', '##yper', '##p', '##lasia', ',', 'to', '104', '.', '2', ',', 'for', 'those', 'with', 'moderate', 'or', 'severe', 'd', '##ys', ',', 'as', 'compared', 'with', 'subjects', 'with', 'superficial', 'gas', '##tri', '##tis', '(', 's', '##g', ')', 'or', 'chronic', 'at', '##rop', '##hic', 'gas', '##tri', '##tis', '(', 'ca', '##g', ')', 'at', 'base', '##line', '.'], ['we', 'consider', 'that', 'di', '##l', '-', 'c', '##p', 'is', 'a', 'safe', 'and', 'excellent', 'c', '##p', 'in', 'cab', '##g', 'surgery', 'and', 'we', 'are', 'now', 'utilizing', 'this', 'c', '##p', 'in', 'all', 'patients', 'requiring', 'cab', '##g', 'surgery', '.'], ['during', '1985', ',', '1990', ',', 'and', '1995', ',', 'respectively', ',', '11', '.', '7', ',', '11', '.', '3', ',', 'and', '11', '.', '4', 'infants', 'per', '100', ',', '0', 'live', 'births', 'had', 'a', 'diagnosis', 'of', 'h', '##s', '##v', '(', 'p', '=', '.', '98', ')', '.'], ['cerebral', '##12', '##5', 'album', '##in', 'was', 'increased', 'to', 'similar', 'proportions', 'in', 'those', 'groups', 'submitted', 'to', 'h', '##yper', '##os', '##mo', '##lal', '##ity', '.'], ['these', 'data', 'suggest', 'that', 'the', 'function', 'of', 'the', 'd', '##s', '##2', 'may', 'be', 'the', 'protection', 'of', 'the', 'nuclear', 'd', '##na', 'from', 'des', '##ic', '##cation', '.'], ['in', 'sit', '##u', 'hybrid', '##ization', 'with', 'the', 'anti', '##sen', '##se', 'r', '##na', 'probe', '##s', 'further', 'supported', 'the', 'expression', 'changes', 'of', 'these', 'six', 'clone', '##s', 'and', 'localized', 'the', 'changes', 'in', 'multiple', 'g', '##er', '##m', 'cell', 'stages', 'as', 'well', 'as', 'other', 'cell', 'types', '(', 'se', '##rt', '##oli', ',', 'inter', '##st', '##iti', '##al', 'and', 'per', '##it', '##ub', '##ular', 'cells', ')', '.'], ['r', '-', 'wave', 'voltage', 'in', 'the', 'right', 'pre', '##cor', '##dial', 'leads', 'in', 'ant', '##hra', '##cy', '##cline', 'card', '##io', '##my', '##op', '##athy', ':', 'a', 'clinical', 'study', '.'], ['limb', 'all', '##og', '##raft', '##s', 'in', 'rats', 'im', '##mu', '##nos', '##up', '##pressed', 'with', 'c', '##y', '##c', '##los', '##por', '##in', 'a', '.'], ['mutations', 'at', 'three', 'sites', 'have', 'larger', 'effects', 'in', 'muscle', 'than', 'non', '##mus', '##cle', 'cells', ';', 'an', 'a', '/', 't', '-', 'rich', 'site', 'mutation', 'has', 'a', 'pronounced', 'effect', 'in', 'both', 's', '##tri', '##ated', 'muscle', 'types', ',', 'mutations', 'at', 'the', 'me', '##f', '##1', '(', 'right', 'e', '-', 'box', ')', 'site', 'are', 'relatively', 'specific', 'to', 'expression', 'in', 'skeletal', 'muscle', ',', 'and', 'mutations', 'at', 'the', 'car', '##g', 'site', 'are', 'relatively', 'specific', 'to', 'expression', 'in', 'cardiac', 'muscle', '.'], ['the', 'monkey', 'l', '##hr', 'c', '##dn', '##a', 'displayed', '83', '-', '94', '%', 'overall', 'sequence', 'ho', '##mology', 'with', 'the', 'other', 'ma', '##mmal', '##ian', 'l', '##hr', 'c', '##dn', '##as', '.', 'na', '##n', 'al', '##ani', '##ne', 'substitution', 'mutations', 'in', 'the', 'z', '##ta', 'activation', 'domain', 'which', 'eliminate', 'the', 'ability', 'of', 'z', '##ta', 'to', 'stimulate', 'the', 'd', '-', 'a', 'complex', 'were', 'examined', '.'], ['in', 'contrast', 'with', 'previous', 'two', '-', 'pool', 'models', ',', 'provisions', 'were', 'made', 'for', 'f', '##olate', 'turnover', 'by', 'u', '##rina', '##ry', 'f', '##olate', 'ex', '##cre', '##tion', '(', 'as', 'measured', 'here', ')', 'and', 'by', 'f', '##eca', '##l', 'ex', '##cre', '##tion', 'and', 'cat', '##ab', '##olic', 'processes', '.'], ['in', 'female', 's', '##l', '(', 'pan', ')', '/', 's', '##l', '(', 'pan', ')', 'mice', ',', 'o', '##var', '##ian', 'f', '##oll', '##icle', 'development', 'is', 'arrested', 'at', 'the', 'one', 'layered', 'cu', '##bo', '##idal', 'stage', 'as', 'a', 'result', 'of', 'reduced', 'k', '##l', 'expression', 'in', 'f', '##oll', '##icle', 'cells', ',', 'indicating', 'a', 'role', 'for', 'c', '-', 'kit', 'in', 'o', '##oc', '##yte', 'growth', '.'], ['among', 'genes', 'induced', 'by', 'added', 'pm', '##es', '##ogen', '##in', '##1', 'is', 'x', '##wn', '##t', '-', '8', ',', 'a', 'signaling', 'factor', 'that', 'induce', '##s', 'a', 'similar', 'repertoire', 'of', 'marker', 'genes', 'and', 'a', 'similar', 'cellular', 'p', '##hen', '##otype', '.'], ['the', 'hem', '##ody', '##nam', '##ics', 'of', 'is', '##op', '##rote', '##ren', '##ol', '-', 'induced', 'cardiac', 'failure', 'in', 'the', 'rat', '.'], ['background', ':', 'flu', '##oro', '##quin', '##olo', '##nes', '(', 'f', '##q', ')', 'are', 'con', '##tra', '##ind', '##ica', '##ted', 'in', 'children', 'because', 'of', 'the', 'risk', 'of', 'cart', '##ila', '##ge', 'damage', '.'], ['in', 'patients', 'in', 'group', 'a', '(', 'o', 'normal', 'o', 'c', '##i', ')', ',', 'the', 'c', '##i', ',', 'heart', 'rate', 'and', 'the', 'mean', 'c', '##ir', '##cum', '##fer', '##ential', 'fiber', 'short', '##ening', 'velocity', '(', 'm', '##v', '##c', '##f', ')', 'were', 'normal', ',', 'but', 'the', 't', '##p', '##r', 'was', 'increased', 'significantly', '.'], ['clinical', 'use', 'of', 'absorb', '##able', 'p', '##oly', '##gly', '##co', '##lic', 'acid', 'su', '##ture', 'in', 'b', '##lal', '##ock', '-', 'ta', '##uss', '##ig', \"'\", 's', 'operation'], ['a', 'novel', 'approach', 'was', 'developed', 'for', 'identifying', 'transcription', 'factor', 'activities', 'associated', 'with', 'ng', '##f', '-', 'activated', ',', 'but', 'not', 'e', '##g', '##f', '-', 'activated', ',', 'signaling', ',', 'using', 'random', 'o', '##li', '##gon', '##uc', '##leo', '##tide', 'clone', '##s', 'from', 'a', 'd', '##na', 'recognition', 'library', 'to', 'is', '##olate', 'specific', 'd', '##na', 'binding', 'proteins', 'from', 'p', '##c', '##12', 'nuclear', 'extract', '##s', '.'], ['d', '.'], ['disciplinary', 'action', 'for', 'd', '##na', 'violation', '.'], ['since', '1970', 'the', 'frequency', 'of', 'potassium', '-', 'induced', 'ul', '##cer', '##ation', 'has', 'been', 'low', '-', '-', '3', 'cases', 'per', '100', '0', 'patient', '-', 'years', 'of', 'slow', '-', 'release', 'tablet', 'use', '.'], ['t', '##l', '-', '201', 'up', '##take', 'ratio', 'of', 'the', 'right', 'vent', '##ric', '##le', ',', 'which', 'represents', 'the', 'ratio', 'of', 'total', 'counts', 'of', 'the', 'right', 'vent', '##ric', '##le', 'to', 'counts', 'of', 'the', 'administered', 'dose', 'of', 't', '##l', '-', '201', ',', 'was', 'higher', 'in', 'cop', '##d', ',', 'especially', 'in', 'pulmonary', 'em', '##phy', '##se', '##ma', 'and', 'b', 'type', 'cop', '##d', 'by', 'b', '##ur', '##rows', 'classification', 'than', 'in', 'controls', '.'], ['the', 'de', '##ubi', '##qui', '##tina', '##ting', 'enzyme', 'dub', '-', '2', 'is', 'induced', 'in', 'response', 'to', 'il', '-', '2', 'but', 'as', 'yet', 'its', 'function', 'has', 'not', 'been', 'determined', '.'], ['the', 'b', '##ov', '##ine', 'p', '##ap', '##illo', '##ma', '##virus', 'e', '##2', 'protein', 'can', 'in', '##hibit', 'the', 'proliferation', 'of', 'h', '##t', '-', '3', 'cells', ',', 'a', 'p', '##53', '-', 'negative', 'c', '##er', '##vic', '##al', 'car', '##cin', '##oma', 'cell', 'line', 'containing', 'integrated', 'human', 'p', '##ap', '##illo', '##ma', '##virus', 'type', '30', 'd', '##na', '.'], ['a', 'much', 'less', 'expensive', 'solution', 'than', 'u', '##w', ',', 'containing', 'only', 'k', '(', '+', ')', '-', 'la', '##ct', '##ob', '##ion', '##ate', ',', 'k', '##h', '##2', '##po', '##4', ',', 'mg', '##so', '##4', 'and', 'r', '##af', '##fin', '##ose', ',', 'can', 'be', 'used', 'successfully', 'for', 'preservation', 'of', 'rat', 'he', '##pa', '##to', '##cy', '##tes', 'for', '24', 'h', '##r', 'for', 'drug', 'transport', 'studies', '.'], ['h', '##ydro', '##xy', '##p', '##rop', '##yl', 'met', '##ha', '##c', '##ryl', '##ate', ',', 'a', 'new', 'water', '-', 'mi', '##s', '##cible', 'em', '##bed', '##ding', 'medium', 'for', 'electron', 'micro', '##sco', '##py', '.'], ['the', 'ho', '##mo', '##log', '##ous', 'active', '-', 'site', 'framework', 'of', 'these', 'enzymes', 'with', 'distinct', 'structures', 'suggests', 'con', '##ver', '##gent', 'evolution', 'of', 'a', 'common', 'cat', '##alytic', 'mechanism', '.'], ['large', 'strain', 'differences', 'were', 'found', 'for', 'all', 'variables', 'recorded', ',', 'i', '.', 'e', '.', ',', 'the', 'proportion', 'of', 'attacking', 'males', ',', 'the', 'time', 'spent', 'in', 'the', 'brightly', 'lit', 'box', ',', 'and', 'the', 'number', 'of', 'transitions', 'between', 'the', 'lit', 'and', 'the', 'dark', 'boxes', '.'], ['in', 'gel', 'mobility', 'shift', 'ass', '##ays', ',', 'factors', 'present', 'in', 'nuclear', 'extract', '##s', 'derived', 'from', 'differentiated', 'o', '##ste', '##ob', '##last', 'bound', 'to', 'o', '##li', '##gon', '##uc', '##leo', '##tide', 'probe', '##s', 'containing', 'the', 'e', '-', 'box', '1', 'and', 'e', '-', 'box', '2', 'elements', '.'], ['here', 'we', 'describe', 'and', 'map', 'two', 'more', 'new', 'genes', 'identified', 'as', 'all', '##ele', '-', 'specific', 'suppress', '##ors', 'that', 'compensate', 'for', 'car', '##box', '##y', '-', 'terminal', 't', '##run', '##cation', 'of', 'pet', '##12', '##2', '.'], ['one', 'of', 'these', 'fragments', 'shows', 'the', 'highest', 'amino', 'acid', 'sequence', 'ho', '##mology', 'to', 'the', 'insect', 'e', '##c', '##dy', '##son', '##e', 'in', '##du', '##cible', 'gene', 'e', '##75', '.'], ['secret', '##ory', 'function', 'of', 'the', 'pro', '##state', 'g', '##land', '.'], ['changes', 'of', 'plasma', 'co', '##rt', '##is', '##ol', 'level', 'in', 'late', 'as', '##th', '##matic', 'responses'], ['we', 'find', 'that', 'the', 'measured', 'n', '##uss', '##el', '##t', 'number', 'decreased', 'about', '20', '%', 'over', 'the', 'range', 'of', 'p', '##r', 'spanned', 'in', 'the', 'experiment', '.'], ['an', 'n', '##f', '##1', '-', 'related', 'v', '##ite', '##llo', '##gen', '##in', 'act', '##iva', '##tor', 'element', 'media', '##tes', 'transcription', 'from', 'the', 'est', '##rogen', '-', 'regulated', 'x', '##eno', '##pus', 'la', '##ev', '##is', 'v', '##ite', '##llo', '##gen', '##in', 'promoter', '.'], ['perhaps', 'in', 'addition', 'to', ',', 'or', 'as', 'part', 'of', ',', 'its', 'essential', 'function', 'in', 'late', 'mit', '##osis', ',', 'mob', '##1', 'is', 'required', 'for', 'a', 'cell', 'cycle', 're', '##set', 'function', 'necessary', 'for', 'the', 'initiation', 'of', 'the', 'spin', '##dle', 'pole', 'body', 'du', '##plication', '.'], ['d', '##r', '##1', 'molecules', 'pu', '##rified', 'from', 'human', 'l', '##ymph', '##ob', '##last', '##oid', 'cell', 'lines', 'could', 'specifically', 'bind', 'to', 'these', 'p', '##eptide', 'sequences', 'expressed', 'on', 'the', 'p', '##hage', 'surface', '.'], ['sixty', '-', 'five', 'patients', '(', 'aged', 'between', '3', 'years', '5', 'months', 'and', '60', 'years', ')', 'suffering', 'from', 'medical', '##ly', 'resistant', 'temporal', 'lobe', 'e', '##pile', '##psy', '(', 't', '##le', ')', 'were', 'operated', 'on', 'over', 'a', 'period', 'of', '33', 'months', 'in', 'bet', '##hel', 'e', '##pile', '##psy', 'center', '.'], ['diagnosis', 'and', 'treatment', 'planning', 'in', 'class', 'ii', ',', 'division', '2'], ['the', '3', \"'\", 'u', '##tr', 'has', 'several', 'stable', 'hair', '##pin', '##s', 'that', 'are', 'flanked', 'by', 'single', '-', 'stranded', '(', 'a', '/', 'u', ')', 'u', '##g', '##c', 'sequences', '.'], ['aims', ':', 'to', 'evaluate', 'the', 'role', 'of', 'environmental', 'in', '##tra', '-', 'u', '##ter', '##ine', 'factors', 'in', 'determining', 'the', 'birth', '##weight', '##s', 'of', 'twins', 'with', 'increased', 'su', '##s', '##ce', '##pt', '##ibility', 'to', 'diabetes', 'and', 'disco', '##rda', '##nt', 'for', 'abnormal', 'responses', 'to', 'the', 'oral', 'glucose', 'tolerance', 'test', '(', 'og', '##tt', ')', 'and', 'verify', 'the', 'possible', 'association', 'of', 'within', '-', 'pair', 'birth', '##weight', 'differences', 'and', 'metabolic', 'abnormal', '##ities', 'in', 'adult', 'life', '.'], ['restriction', 'enzyme', 'mapping', 'and', 'southern', 'analysis', 'indicated', 'further', 'that', 'the', 'human', 'm', '##z', '##f', '-', '1', 'gene', 'is', 'a', 'single', '-', 'copy', 'gene', '.'], ['responses', 'of', 'single', '-', 'unit', 'car', '##ot', '##id', 'body', 'ch', '##em', '##ore', '##ceptor', '##s', 'in', 'adult', 'rats', '.'], ['te', '##c', 'kinase', 'signaling', 'in', 't', 'cells', 'is', 'regulated', 'by', 'p', '##hos', '##pha', '##ti', '##dy', '##lino', '##si', '##to', '##l', '3', '-', 'kinase', 'and', 'the', 'te', '##c', 'p', '##le', '##cks', '##tri', '##n', 'ho', '##mology', 'domain', '.'], ['an', 'anal', '##ytic', 'method', 'for', 'comparative', 'parameter', 'weight', '##ing', 'in', 'magnetic', 'resonance', '(', 'm', '##r', ')', 'imaging', 'has', 'been', 'developed', 'using', 'the', 'concept', 'of', 'fraction', '##al', 'sensitivity'], ['this', 'new', 'approach', 'results', 'in', 'easily', 'calculated', 'index', '##es', 'for', 't', '##1', ',', 't', '##2', ',', 'and', 'hydrogen', 'weight', '##ing', '.'], ['spatial', 'accuracy', 'of', 'primary', 'and', 'secondary', 'memory', '-', 'guided', 'sa', '##cca', '##des', 'in', 's', '##chi', '##zo', '##ph', '##ren', '##ic', 'patients', '.'], ['in', 'the', 'context', 'of', 'liver', 'all', '##og', '##raft', 'shortage', ',', 'our', 'results', 'suggest', 'that', 'an', 'el', '##t', 'should', 'not', 'be', 'performed', 'in', 'patients', 'with', 'cardiac', 'failure', ',', 'more', 'than', 'two', 'o', '##s', '##f', ',', 'or', 'an', 'a', '##pa', '##che', 'ii', 'score', 'higher', 'than', '30', '.'], ['in', 'one', ',', 'ex', '##p', '##lora', '##tory', 'behavior', '(', 'assessed', 'by', 'hole', 'p', '##oke', '##s', ')', 'and', 'lo', '##com', '##otion', 'were', 'assessed', 'during', 'a', '10', '-', 'min', 'test', 'session', '.'], ['analysis', 'of', 'the', 'in', '##ferred', '1', ',', '85', '##9', '-', 'residue', 'am', '##a', '-', '1', 'product', 'showed', 'considerable', 'identity', 'with', 'the', 'largest', 'subunit', 'of', 'r', '##nap', 'ii', 'from', 'other', 'organisms', ',', 'including', 'the', 'presence', 'of', 'a', 'zinc', 'finger', 'motif', 'near', 'the', 'amino', 'terminus', ',', 'and', 'a', 'car', '##box', '##yl', '-', 'terminal', 'domain', 'of', '42', 'tandem', '##ly', 're', '##iter', '##ated', 'he', '##pta', '##mers', 'with', 'the', 'consensus', 't', '##yr', 'se', '##r', 'pro', 'th', '##r', 'se', '##r', 'pro', 'se', '##r', '.'], ['in', 'these', 'cases', ',', 'greatly', 'increased', 'human', 'ch', '##orio', '##nic', 'go', '##nado', '##tro', '##pin', '(', 'h', '##c', '##g', ')', 'levels', 'and', 'suppressed', 't', '##sh', 'levels', 'suggest', 'that', 'h', '##c', '##g', 'has', 'thy', '##rot', '##ropic', 'activity', '.'], ['bi', '##pol', '##arity', 'in', 'j', '##ung', '##ian', 'type', 'theory', 'and', 'the', 'my', '##ers', '-', 'br', '##iggs', 'type', 'indicator', '.'], ['the', 'present', 'results', 'demonstrate', 'that', 'rats', 'with', 'relatively', 'small', 'remnants', 'of', 'one', 'o', '##lf', '##actor', '##y', 'bulb', 'can', 'perform', 'a', 'variety', 'of', 'odor', 'detection', 'and', 'discrimination', 'tasks', 'as', 'well', 'or', 'nearly', 'as', 'well', 'as', 'controls', '.'], ['the', 's', '##r', 'protein', 'family', 'is', 'involved', 'in', 'con', '##st', '##it', '##utive', 'and', 'regulated', 'pre', '-', 'm', '##rna', 's', '##p', '##licing', 'and', 'has', 'been', 'found', 'to', 'be', 'evolution', '##arily', 'conserved', 'in', 'meta', '##zo', '##an', 'organisms', '.'], ['another', 'tentative', 'hot', '##sp', '##ot', 'mutation', 'in', 'the', 'third', 'patient', ',', 'a', 'frame', 'shift', 'caused', 'by', 'a', 'g', 'n', '##uc', '##leo', '##tide', 'insertion', 'in', 'a', 'mon', '##oto', '##nous', 'repeat', 'of', 'six', 'g', '##s', 'in', 'hp', '##rt', 'ex', '##on', '3', ',', 'has', 'been', 'reported', 'previously', 'in', 'three', 'other', 'l', '##n', 'patients', '.'], ['each', 'half', 'molecule', 'contains', 'four', 'di', '##sul', '##fi', '##de', 'link', '##ages', 'and', 'four', 'c', '##is', 'p', '##eptide', '##s', '.'], ['methods', ':', 'one', 'hundred', 'fourteen', 'consecutive', 'patients', '(', 'mean', 'age', '61', 'years', ')', 'with', 'focal', 'pan', '##cre', '##atic', 'masses', ',', 'detected', 'on', 'c', '##t', ',', 'underwent', 'e', '##us', '-', 'f', '##na', 'by', 'using', 'a', 'linear', '-', 'array', 'echo', '##end', '##os', '##cope', 'and', '22', '-', 'gauge', 'needles', '.'], ['consistent', 'with', 'effects', 'on', 's', '##tat', 'activation', ',', 'altered', 's', '##hp', '-', '1', 'expression', 'also', 'affected', 'e', '##g', '##f', '-', 'induced', 'activation', 'of', 'the', 'mit', '##ogen', '-', 'activated', 'protein', 'kinase', 'pathway', ';', 'expression', 'of', 's', '##hp', '-', '1', '-', '(', 'c', '##ys', '-', '-', '>', 'se', '##r', ')', 'in', '##hibit', '##ed', 'activity', 'of', 'me', '##k', 'by', 'approximately', '25', '%', ',', 'whereas', 'expression', 'of', 's', '##hp', '-', '1', 'resulted', 'in', 'a', 'approximately', '25', '%', 'increase', '.']]\n"
          ],
          "name": "stdout"
        }
      ]
    },
    {
      "cell_type": "code",
      "metadata": {
        "id": "JzFULqD0NjpW",
        "colab_type": "code",
        "colab": {
          "base_uri": "https://localhost:8080/",
          "height": 54
        },
        "outputId": "d0b63592-2427-4c59-cb18-7cc7c81eb0cf"
      },
      "source": [
        "print(labels)"
      ],
      "execution_count": 27,
      "outputs": [
        {
          "output_type": "stream",
          "text": [
            "[['O', 'O', 'O', 'O', 'O', 'O', 'O', 'O', 'O', 'O', 'O', 'B-GENE', 'I-GENE', 'I-GENE', 'O', 'O', 'O', 'O', 'O', 'O', 'O', 'O', 'B-GENE', 'B-GENE', 'I-GENE', 'I-GENE', 'O', 'O', 'O', 'O', 'O', 'O', 'O', 'O', 'O', 'O', 'O', 'O', 'B-GENE', 'B-GENE', 'B-GENE', 'B-GENE', 'B-GENE', 'O', 'O', 'O', 'O', 'O', 'O', 'B-DISEASE', 'B-DISEASE', 'B-DISEASE', 'I-DISEASE', 'I-DISEASE', 'I-DISEASE', 'O', 'O', 'O', 'O', 'O', 'O', 'O', 'O'], ['O', 'O', 'O', 'O', 'O', 'O', 'B-GENE', 'B-GENE', 'B-GENE', 'B-GENE', 'B-GENE', 'B-GENE', 'B-GENE', 'I-GENE', 'I-GENE', 'O', 'O', 'O', 'O', 'O', 'O', 'O', 'B-GENE', 'O', 'O', 'O', 'O', 'O', 'O', 'O', 'O', 'O', 'O', 'O', 'O', 'B-GENE', 'I-GENE', 'O', 'O', 'O', 'O', 'O', 'O', 'B-GENE', 'I-GENE', 'I-GENE', 'O', 'O', 'O', 'O', 'O', 'O', 'O', 'O', 'O', 'O', 'O', 'O', 'O', 'O', 'O', 'O', 'O', 'O', 'O', 'O', 'B-GENE', 'O'], ['O', 'O', 'O', 'O', 'O', 'B-GENE', 'I-GENE', 'I-GENE', 'I-GENE', 'I-GENE', 'I-GENE', 'I-GENE', 'I-GENE', 'I-GENE', 'I-GENE', 'O', 'O', 'O', 'O', 'O', 'O', 'O', 'O', 'O', 'O', 'B-GENE', 'O', 'O', 'O'], ['O', 'O', 'O', 'O', 'O', 'O', 'O', 'O', 'O', 'O', 'O', 'O', 'O', 'O', 'O', 'O', 'O', 'O', 'O', 'O', 'O', 'O', 'O', 'O', 'O', 'O', 'O', 'O', 'O', 'O', 'O', 'O', 'O', 'O', 'O', 'O', 'O'], ['O', 'O', 'O', 'O', 'O', 'O', 'O', 'O', 'O', 'O', 'O', 'O', 'O', 'O', 'O', 'O', 'O', 'B-GENE', 'O', 'O', 'O', 'O', 'O', 'O', 'O', 'O', 'O', 'O', 'O', 'O', 'O', 'O', 'O', 'O', 'O', 'O', 'O', 'O', 'O', 'O', 'O', 'O', 'O', 'O', 'O', 'O', 'O', 'O', 'O', 'O', 'O', 'O', 'O', 'B-GENE', 'O', 'B-GENE'], ['I-GENE', 'O', 'O', 'O', 'O', 'O', 'O', 'O', 'O', 'O', 'O', 'O', 'O', 'O', 'O', 'O', 'B-GENE', 'B-GENE', 'O', 'O', 'O', 'O', 'O', 'O', 'O', 'O', 'O', 'O', 'O', 'O'], ['O', 'O', 'O', 'O', 'B-GENE', 'O', 'O', 'O', 'O', 'O', 'O', 'O', 'O', 'B-GENE', 'I-GENE', 'I-GENE', 'O', 'O', 'O', 'O', 'O', 'O', 'O', 'O', 'O', 'O', 'O', 'O', 'O', 'O', 'O', 'O', 'O', 'O', 'O', 'O', 'O', 'O', 'O', 'O', 'O', 'O', 'O'], ['O', 'O', 'B-GENE', 'O', 'O', 'O', 'O', 'O', 'O', 'O', 'O', 'O', 'O', 'O', 'O', 'O', 'O', 'O', 'O', 'O', 'O', 'O', 'O', 'O', 'O', 'O', 'O', 'O', 'O', 'O'], ['O', 'O', 'O', 'O', 'O', 'B-DRUGS', 'I-DRUGS', 'I-DRUGS', 'O', 'O', 'O', 'O', 'O'], ['O', 'O', 'O', 'O', 'O', 'O', 'O', 'O', 'O', 'O', 'O', 'O', 'O', 'O', 'O', 'O', 'O', 'O', 'B-GENE', 'O', 'O', 'B-GENE', 'O', 'O', 'O', 'B-DRUGS', 'O', 'O', 'O', 'B-DRUGS', 'O', 'O', 'O', 'O', 'O', 'O', 'O', 'O', 'O', 'O', 'O', 'O', 'O', 'O', 'O', 'O', 'O', 'O', 'O', 'O', 'O', 'O', 'O', 'O', 'O', 'O'], ['O', 'O', 'O', 'O', 'O', 'O', 'O', 'B-GENE', 'O', 'O', 'O', 'O', 'O', 'O', 'B-GENE', 'I-GENE', 'I-GENE', 'O', 'B-GENE', 'O', 'O', 'O', 'O', 'B-GENE', 'O', 'O', 'O', 'O', 'O', 'O', 'O', 'O', 'O', 'O', 'O', 'O', 'O', 'B-GENE', 'B-GENE', 'B-GENE', 'O'], ['B-GENE', 'O', 'O', 'B-DRUGS', 'O', 'O', 'O', 'O', 'O', 'O', 'O', 'O', 'O', 'O', 'O', 'O', 'O', 'O', 'O', 'O', 'O', 'O', 'O', 'O', 'O', 'O', 'O', 'O', 'B-DRUGS', 'O', 'O', 'O', 'O', 'O', 'B-GENE', 'O', 'B-GENE', 'O', 'O', 'O', 'O'], ['O', 'O', 'B-GENE', 'O', 'O', 'B-GENE', 'B-GENE', 'B-GENE', 'I-GENE', 'O', 'O', 'O', 'O', 'O', 'O', 'O', 'O', 'O', 'O', 'O', 'O', 'O', 'O', 'O', 'O', 'B-DRUGS', 'O', 'O', 'O', 'O', 'O', 'O'], ['O', 'O', 'O', 'O', 'O', 'B-GENE', 'I-GENE', 'O', 'O', 'O', 'O', 'O', 'O', 'O', 'O', 'O', 'O', 'O', 'O', 'O', 'O', 'O', 'O', 'O', 'O', 'O', 'O', 'O', 'O', 'O', 'O', 'O', 'O', 'O', 'O', 'O', 'O', 'O', 'O', 'O', 'O', 'O', 'O', 'O', 'B-DRUGS', 'I-DRUGS', 'B-GENE', 'I-GENE', 'I-GENE', 'I-GENE', 'I-GENE', 'O', 'O', 'O', 'O', 'O', 'B-GENE', 'B-GENE', 'I-GENE', 'I-GENE', 'I-GENE', 'I-GENE', 'I-GENE', 'O', 'O', 'O', 'O', 'O', 'O', 'B-GENE', 'I-GENE', 'I-GENE', 'I-GENE', 'O', 'O', 'O', 'B-GENE', 'I-GENE', 'I-GENE', 'I-GENE', 'O', 'O', 'O', 'O', 'O', 'O', 'O', 'O', 'B-DRUGS', 'O', 'O', 'B-GENE', 'I-GENE', 'O', 'O', 'O', 'O', 'O', 'O', 'O', 'O', 'O', 'O', 'O', 'O', 'O', 'O', 'O', 'O', 'O', 'O', 'O', 'O', 'O', 'O', 'O', 'O', 'O', 'O', 'O', 'O', 'O', 'O', 'O'], ['O', 'O', 'O', 'O', 'O', 'O', 'O', 'O', 'O', 'O', 'O', 'O', 'O', 'O', 'O', 'O', 'O', 'O', 'O', 'O', 'O', 'O', 'B-GENE', 'I-GENE', 'O', 'O', 'O', 'O', 'B-GENE'], ['I-GENE', 'I-GENE', 'O', 'O', 'O', 'O', 'O', 'O', 'O', 'O', 'O', 'O', 'O', 'O', 'O', 'O', 'O', 'O', 'O', 'O', 'O', 'O', 'O', 'O', 'O', 'B-GENE', 'I-GENE', 'O', 'B-GENE', 'O', 'B-GENE', 'O', 'O', 'O', 'O', 'B-GENE', 'O', 'O', 'O', 'O', 'O', 'O', 'O', 'O', 'O', 'O'], ['O', 'O', 'O', 'B-DISEASE', 'B-DISEASE', 'I-DISEASE', 'I-DISEASE', 'O', 'O', 'O', 'O', 'O', 'O', 'O', 'O', 'O', 'O', 'O', 'O', 'O', 'O', 'O', 'O', 'O', 'O', 'O', 'O', 'O', 'O', 'O', 'O', 'O', 'O', 'O', 'O', 'O', 'O', 'O', 'O', 'O', 'O', 'O'], ['O', 'B-GENE', 'I-GENE', 'O', 'O', 'O', 'O', 'O', 'O', 'O', 'O', 'O', 'O', 'O', 'O', 'O', 'O', 'O', 'O', 'O', 'O', 'O', 'O', 'O', 'O', 'O'], ['O', 'O', 'O', 'O', 'O', 'O', 'O', 'O', 'O', 'O', 'B-GENE', 'I-GENE', 'I-GENE', 'I-GENE', 'I-GENE', 'O', 'O', 'O', 'O', 'O', 'O'], ['O', 'O', 'O', 'O', 'O', 'O', 'O', 'O', 'O', 'O', 'O', 'O', 'O', 'O', 'O', 'O', 'O', 'O', 'O', 'O', 'O', 'O', 'O', 'O', 'O', 'O', 'O', 'O', 'O', 'O', 'O', 'O', 'O', 'O', 'B-GENE', 'I-GENE', 'I-GENE', 'I-GENE', 'I-GENE', 'I-GENE', 'O', 'B-GENE'], ['O', 'O', 'B-GENE', 'I-GENE', 'I-GENE', 'O', 'O', 'O', 'O', 'O', 'O', 'O', 'O', 'O', 'O', 'O', 'B-GENE', 'I-GENE', 'O', 'O', 'O', 'O', 'O'], ['O', 'O', 'O', 'O', 'O', 'O', 'O', 'O', 'O', 'O', 'O', 'O', 'O', 'O', 'O', 'O', 'B-GENE', 'I-GENE', 'I-GENE', 'O', 'O', 'O', 'O', 'O', 'O', 'O', 'O', 'O', 'B-GENE', 'B-GENE', 'B-GENE', 'B-GENE', 'B-GENE', 'I-GENE', 'I-GENE', 'I-GENE', 'O', 'O', 'O', 'O', 'O', 'O', 'O'], ['O', 'O', 'O', 'O', 'O', 'O', 'O', 'O', 'O', 'O', 'O', 'O', 'O', 'O', 'O', 'O', 'O', 'B-GENE', 'O', 'O', 'O', 'O', 'O', 'O', 'B-GENE', 'I-GENE', 'I-GENE', 'O', 'O', 'O', 'O', 'O', 'O', 'O', 'O', 'O'], ['O', 'O', 'O', 'O', 'O', 'O', 'O', 'B-DRUGS', 'B-DRUGS', 'I-DRUGS', 'I-DRUGS', 'I-DRUGS', 'I-DRUGS', 'O', 'O', 'O', 'O', 'O', 'O', 'O', 'O', 'O', 'O', 'O', 'O', 'O', 'O', 'O', 'O', 'O', 'O', 'O', 'O', 'O', 'O', 'O', 'O', 'O', 'O', 'O', 'O', 'O', 'O', 'O', 'O', 'O', 'O'], ['O', 'O', 'O', 'O', 'O', 'O', 'O', 'O', 'O', 'O', 'O', 'O', 'O', 'O', 'O', 'B-DRUGS', 'B-GENE', 'B-GENE', 'I-GENE', 'I-GENE', 'O', 'O', 'O', 'O', 'O', 'O', 'O', 'O', 'O', 'O', 'O', 'B-DRUGS', 'B-DRUGS', 'I-DRUGS', 'O', 'O', 'O', 'O', 'O', 'B-GENE', 'B-GENE', 'B-GENE', 'O', 'O', 'O', 'O', 'O', 'O', 'O'], ['O', 'B-GENE', 'I-GENE', 'I-GENE', 'I-GENE', 'I-GENE', 'I-GENE', 'O', 'O', 'O', 'O', 'O', 'O', 'O', 'O', 'O', 'O', 'O', 'O', 'O', 'O', 'O', 'O', 'O', 'O', 'O', 'O', 'O', 'B-GENE', 'I-GENE', 'I-GENE', 'I-GENE', 'I-GENE', 'I-GENE', 'O', 'B-GENE', 'B-GENE', 'I-GENE', 'O', 'O', 'O', 'O'], ['O', 'O', 'O', 'O', 'B-GENE', 'I-GENE', 'I-GENE', 'I-GENE', 'I-GENE', 'I-GENE', 'I-GENE', 'I-GENE', 'I-GENE', 'O', 'O', 'O', 'O', 'O', 'O', 'B-GENE', 'I-GENE', 'O', 'O', 'O', 'O', 'O'], ['O', 'O', 'O', 'O', 'O', 'B-DRUGS', 'O', 'O', 'O', 'O', 'O', 'O', 'O', 'O', 'O', 'O', 'O', 'O', 'O', 'O', 'O', 'O', 'O', 'O'], ['O', 'O', 'O', 'O', 'O', 'O', 'B-GENE', 'B-GENE', 'O', 'O', 'O', 'O', 'O', 'O', 'O', 'O', 'O', 'O', 'O', 'O', 'O', 'O', 'O', 'O', 'O', 'O', 'O', 'O', 'O', 'O', 'O', 'O', 'O', 'O', 'O'], ['O', 'O', 'O', 'O', 'O', 'O', 'O', 'O', 'O', 'O', 'O', 'O', 'O', 'B-DRUGS'], ['O', 'O', 'B-GENE', 'I-GENE', 'I-GENE', 'I-GENE', 'I-GENE', 'O', 'O', 'O', 'O', 'B-GENE', 'I-GENE', 'I-GENE', 'O', 'O', 'O', 'O', 'O', 'O', 'O', 'O', 'O', 'O', 'O', 'O', 'O', 'O', 'O', 'B-DRUGS', 'O', 'O', 'O', 'O', 'O', 'O', 'O', 'O', 'O', 'O', 'O', 'O', 'O', 'O', 'O', 'O', 'O'], ['O', 'O', 'O', 'O', 'O', 'O', 'O', 'O', 'O', 'O', 'O', 'O', 'O', 'O', 'O', 'O', 'O', 'O', 'O', 'O', 'O', 'O', 'O', 'O', 'O', 'O', 'O', 'O'], ['O', 'O', 'O', 'O', 'O', 'O', 'O', 'O', 'O', 'O', 'O', 'O', 'O', 'O', 'O', 'O', 'O', 'O', 'O', 'O', 'O', 'O', 'O', 'O', 'O', 'O', 'O', 'B-GENE', 'I-GENE', 'I-GENE', 'I-GENE', 'O', 'O', 'O', 'O', 'O', 'O', 'O', 'O', 'O', 'O', 'O', 'O', 'O', 'O', 'O', 'O', 'O', 'O', 'O', 'O', 'O', 'O', 'O', 'O', 'O', 'O', 'O', 'O', 'O', 'O', 'O', 'O', 'O', 'O', 'O', 'O', 'O', 'O', 'O', 'O'], ['O', 'O', 'O', 'O', 'B-GENE', 'I-GENE', 'O', 'O', 'O', 'O', 'O', 'O', 'O', 'O', 'O', 'O', 'O', 'O', 'O', 'O', 'O', 'O', 'O', 'O', 'O', 'O', 'O', 'O', 'O', 'O', 'O', 'O', 'O'], ['O', 'O', 'O', 'O', 'O', 'O', 'O', 'O', 'O', 'O', 'O', 'O', 'O', 'O', 'O', 'O', 'O', 'O', 'O', 'O', 'O', 'O', 'O', 'O', 'O', 'O', 'O', 'O', 'O', 'O', 'O', 'O', 'O', 'O', 'O', 'O', 'O', 'O', 'O', 'O', 'O', 'O', 'O', 'O', 'O', 'O', 'O', 'O', 'O', 'O', 'O', 'O', 'O', 'O', 'O', 'O', 'O', 'O', 'O', 'O', 'O', 'O'], ['O', 'O', 'O', 'O', 'O', 'O', 'O', 'O', 'O', 'O', 'O', 'O', 'B-DRUGS', 'O', 'O', 'O', 'O', 'O', 'O', 'O', 'O', 'O', 'O', 'O', 'O', 'O', 'B-GENE', 'I-GENE', 'O', 'O', 'O', 'O', 'O', 'O', 'O', 'O', 'O', 'O', 'O', 'O', 'O', 'O', 'O', 'O', 'B-GENE', 'I-GENE', 'O'], ['O', 'O', 'O', 'B-GENE', 'O', 'B-GENE', 'B-GENE', 'B-GENE', 'O', 'O', 'O', 'O', 'O', 'O', 'O', 'O', 'O', 'O', 'O', 'O', 'O', 'O', 'O', 'O', 'O', 'O', 'O', 'O', 'O'], ['O', 'O', 'O', 'O', 'O', 'O', 'O', 'O', 'B-DRUGS', 'O', 'O', 'O', 'O', 'O', 'O', 'O', 'O', 'O', 'O', 'O', 'O', 'O', 'O', 'O', 'O', 'O', 'O', 'O', 'O', 'O', 'O', 'O', 'O', 'O', 'O', 'O', 'O', 'O'], ['O', 'O', 'O', 'O', 'O', 'O', 'O', 'O', 'O', 'O', 'O', 'O', 'O', 'O', 'O', 'O', 'O', 'O', 'O', 'O', 'B-GENE', 'B-DRUGS', 'I-DRUGS', 'I-DRUGS', 'I-DRUGS', 'O', 'O', 'O', 'B-GENE', 'I-GENE', 'I-GENE', 'I-GENE', 'I-GENE', 'I-GENE', 'I-GENE', 'I-GENE', 'I-GENE', 'I-GENE', 'I-GENE'], ['B-DRUGS', 'O', 'O', 'O', 'O', 'O', 'O', 'O', 'O', 'O', 'O', 'O', 'O', 'O', 'O', 'O', 'O', 'O', 'O', 'O', 'O', 'O', 'O', 'O', 'O', 'O', 'O', 'O', 'O'], ['O', 'O', 'O', 'O', 'O', 'O', 'O', 'O', 'O', 'O', 'O', 'O', 'O', 'O', 'O', 'O', 'O', 'O', 'O', 'O', 'O', 'O', 'O', 'O', 'O', 'O', 'O', 'B-GENE', 'B-DRUGS', 'I-DRUGS', 'O', 'O', 'O', 'O', 'B-DISEASE', 'I-DISEASE'], ['I-DISEASE', 'I-DISEASE', 'O', 'O', 'O', 'O', 'O', 'O', 'O', 'O', 'O', 'O', 'O', 'O', 'O', 'O', 'B-GENE', 'B-GENE', 'B-GENE', 'B-GENE', 'I-GENE', 'I-GENE', 'I-GENE', 'I-GENE', 'O', 'O', 'B-DRUGS', 'O', 'O', 'O', 'O', 'O', 'O', 'O', 'O', 'O', 'O'], ['O', 'B-DRUGS', 'O', 'O', 'O', 'O', 'O', 'O', 'O', 'O', 'O', 'O', 'O', 'O', 'O', 'O', 'O', 'O', 'O', 'O', 'O', 'O', 'O', 'O', 'O', 'O', 'O', 'O', 'O', 'O', 'O', 'O', 'O', 'O', 'O', 'O', 'O', 'O', 'O', 'O', 'O', 'O', 'O', 'O', 'O', 'O'], ['O', 'O', 'O', 'O', 'O', 'O', 'O', 'O', 'O', 'O', 'O', 'O', 'O', 'O', 'O', 'O', 'O', 'O', 'O', 'O', 'O', 'O', 'O', 'O', 'O', 'O', 'O', 'O', 'O', 'O', 'O', 'O'], ['O', 'O', 'O', 'O', 'O', 'O', 'O', 'O', 'O', 'O', 'O', 'O', 'O', 'O', 'O', 'O', 'O', 'O', 'O', 'O', 'B-GENE', 'O', 'O', 'O', 'O', 'O', 'O'], ['O', 'O', 'O', 'O', 'O', 'O', 'O', 'O', 'O', 'O', 'O', 'O', 'O', 'O', 'O', 'O', 'O', 'O', 'O', 'O', 'O', 'O', 'O', 'O', 'O', 'O', 'O'], ['O', 'O', 'O', 'B-GENE', 'I-GENE', 'O', 'O', 'O', 'O', 'O', 'O', 'O', 'O', 'O', 'O', 'O', 'O', 'O', 'O', 'O', 'O', 'O', 'O', 'O', 'O', 'O', 'O', 'O', 'O', 'O', 'O', 'O', 'O', 'O', 'O', 'O'], ['O', 'O', 'O', 'O', 'O', 'O', 'O', 'O', 'O', 'O', 'O', 'O', 'O', 'O', 'O', 'O', 'O', 'O', 'O', 'O', 'O', 'O', 'O', 'O', 'O', 'O', 'O', 'B-GENE', 'O', 'O', 'O', 'O', 'O', 'O', 'O', 'O', 'O', 'O', 'B-GENE', 'O', 'O', 'O', 'O', 'O', 'O', 'O', 'B-GENE', 'O', 'O', 'O'], ['B-GENE', 'B-GENE', 'B-GENE', 'B-GENE', 'I-GENE', 'O', 'O', 'O', 'O', 'O', 'O', 'O', 'O', 'O', 'O', 'O', 'O', 'O', 'O', 'O', 'O', 'O', 'O', 'O', 'O', 'O'], ['O', 'O', 'O', 'O', 'O', 'O', 'O', 'O', 'O', 'O', 'O', 'O', 'O', 'O', 'O', 'O', 'O', 'O', 'O', 'O', 'O', 'O', 'O', 'O', 'O', 'O'], ['O', 'O', 'O', 'O', 'O', 'O', 'O', 'O', 'O', 'O', 'O', 'O', 'O', 'O', 'O', 'O', 'O', 'O', 'O', 'O', 'O', 'O', 'O', 'O', 'O', 'O', 'O', 'O', 'O', 'O', 'O', 'O', 'O', 'O', 'O', 'O', 'O', 'O', 'O', 'O', 'O', 'O', 'O', 'O', 'O', 'O', 'O', 'O', 'O', 'O', 'O', 'O', 'O', 'O', 'O', 'O', 'O', 'O', 'B-GENE', 'O', 'O', 'O', 'B-GENE', 'I-GENE'], ['B-DRUGS', 'I-DRUGS', 'I-DRUGS', 'I-DRUGS', 'O', 'O', 'O', 'O', 'O', 'O', 'O', 'O', 'B-DRUGS', 'O', 'O', 'O', 'O', 'O', 'O'], ['O', 'B-GENE', 'I-GENE', 'I-GENE', 'O', 'O', 'O', 'O', 'O', 'O', 'O', 'O', 'O', 'O', 'O', 'O', 'O', 'O', 'O', 'O', 'O', 'O', 'O', 'O', 'O', 'O', 'O', 'O', 'O', 'O', 'O', 'O', 'O', 'O'], ['O', 'O', 'O', 'O', 'O', 'O', 'O', 'O', 'O', 'O', 'O', 'O', 'O', 'O', 'O', 'O', 'O', 'O', 'O', 'O', 'O', 'O', 'O', 'O', 'O', 'O', 'O', 'O', 'O', 'B-GENE', 'O', 'O', 'O', 'O'], ['O', 'O', 'O', 'O', 'O', 'O', 'O', 'O', 'O', 'O', 'O', 'O', 'O', 'O', 'O', 'O', 'O', 'O', 'O', 'O', 'O', 'O', 'O', 'O', 'O', 'O', 'O', 'O'], ['O', 'O', 'O', 'O', 'O', 'O', 'O', 'O', 'O', 'O', 'O', 'O', 'O', 'O', 'O', 'O', 'O', 'O', 'O', 'O', 'O', 'O', 'O', 'O', 'O', 'O', 'O', 'O', 'O', 'O', 'O', 'O', 'O', 'O', 'O', 'O', 'O', 'O', 'O', 'O', 'O', 'O', 'O', 'O', 'O', 'O', 'O', 'O', 'O', 'O'], ['O', 'O', 'O', 'O', 'O', 'O', 'O', 'O', 'O', 'O', 'O', 'O', 'O', 'O', 'O', 'O', 'O', 'O', 'O', 'O', 'O', 'O', 'O', 'O', 'O', 'O', 'O', 'O', 'O', 'O', 'O', 'O', 'O', 'O', 'O', 'O', 'O', 'O', 'O', 'O', 'O', 'O', 'O', 'O', 'O', 'O', 'O', 'O', 'O', 'O', 'O', 'O', 'O', 'O', 'O', 'O', 'O', 'O', 'O', 'O', 'O', 'O', 'O', 'O', 'O', 'O', 'O', 'O', 'O', 'O', 'O', 'O', 'O', 'O', 'O', 'O', 'O', 'O', 'O', 'O', 'O', 'O', 'O', 'O', 'O', 'O', 'O', 'O', 'O', 'O', 'O', 'O', 'O', 'O', 'O', 'O', 'O', 'O', 'O', 'O', 'O', 'O', 'B-DRUGS', 'I-DRUGS', 'I-DRUGS', 'I-DRUGS', 'I-DRUGS', 'I-DRUGS', 'I-DRUGS'], ['I-DRUGS', 'I-DRUGS', 'I-DRUGS', 'I-DRUGS', 'I-DRUGS', 'I-DRUGS', 'O', 'O', 'O', 'O', 'O', 'O', 'O', 'O', 'O', 'O', 'O', 'O', 'O', 'O', 'O'], ['O', 'O', 'B-DRUGS', 'I-DRUGS', 'I-DRUGS', 'I-DRUGS', 'B-DRUGS', 'I-DRUGS', 'I-DRUGS', 'I-DRUGS', 'I-DRUGS', 'I-DRUGS', 'O', 'O', 'O', 'O', 'O', 'O', 'O', 'O', 'O', 'O', 'O', 'O', 'B-DRUGS', 'O', 'O', 'O', 'O', 'O', 'O', 'O', 'O', 'O', 'O', 'O'], ['O', 'O', 'O', 'O', 'O', 'O', 'O', 'O', 'O', 'O', 'O', 'O', 'O', 'O'], ['O', 'O', 'O', 'O', 'O', 'O', 'O', 'B-DRUGS', 'O', 'O', 'O', 'O', 'O', 'B-GENE'], ['I-GENE', 'O', 'O', 'B-GENE', 'B-GENE', 'O', 'O', 'O', 'O', 'O', 'O', 'O', 'O', 'O', 'O', 'O', 'O', 'O', 'O', 'O', 'O', 'O', 'O', 'O', 'O', 'O', 'O', 'O', 'O', 'O', 'O', 'O', 'O', 'O'], ['O', 'O', 'O', 'O', 'O', 'O', 'O', 'O', 'O', 'O', 'O', 'O', 'O', 'O', 'O', 'O', 'O', 'O', 'O', 'O', 'O', 'O', 'O', 'O', 'O', 'O'], ['O', 'O', 'O', 'O', 'O', 'O', 'O', 'O', 'O', 'O', 'O', 'O', 'O', 'O', 'O', 'O', 'O', 'O', 'O', 'O', 'O', 'O', 'O', 'O', 'O', 'B-DISEASE', 'I-DISEASE', 'I-DISEASE', 'I-DISEASE', 'O', 'O', 'B-DISEASE', 'I-DISEASE', 'I-DISEASE', 'I-DISEASE', 'I-DISEASE', 'O', 'O', 'O', 'O', 'O', 'O', 'O', 'O', 'O', 'O', 'O', 'O', 'O', 'O', 'O', 'O', 'O', 'O', 'B-DISEASE', 'I-DISEASE', 'I-DISEASE', 'I-DISEASE', 'O', 'O', 'O', 'O'], ['O', 'O', 'O', 'O', 'O', 'O', 'O', 'O', 'O', 'O', 'O', 'O', 'O', 'O', 'B-GENE', 'B-GENE', 'O', 'O', 'O', 'O', 'O', 'O', 'O', 'O', 'O', 'O', 'O', 'O', 'O', 'O', 'O', 'O', 'O', 'O', 'O', 'O', 'O', 'O'], ['O', 'O', 'O', 'O', 'O', 'O', 'B-DRUGS', 'O', 'O', 'O', 'O', 'O', 'O', 'B-DRUGS', 'O', 'O', 'O', 'O', 'O'], ['O', 'O', 'B-DRUGS', 'O', 'O', 'O', 'O', 'B-DRUGS', 'B-DRUGS', 'B-DRUGS', 'B-DRUGS', 'O', 'O', 'O', 'O', 'O', 'O', 'O', 'O', 'O', 'O', 'O', 'O', 'O', 'O', 'O', 'O', 'O', 'O', 'O', 'O', 'O', 'O', 'O', 'O', 'O', 'O', 'O', 'B-DISEASE', 'I-DISEASE', 'I-DISEASE', 'O', 'O', 'O', 'O', 'O', 'O', 'O', 'O', 'O', 'O', 'O', 'O', 'O', 'O', 'O', 'O', 'O', 'O', 'O', 'O', 'O', 'O', 'O'], ['O', 'O', 'O', 'O', 'O', 'O', 'O', 'O', 'O', 'O', 'O', 'O', 'O', 'O', 'O', 'O', 'O', 'O', 'O', 'O', 'O', 'O'], ['O', 'O', 'O', 'O', 'O', 'O', 'B-DISEASE', 'I-DISEASE', 'I-DISEASE', 'O', 'O', 'O', 'O', 'O', 'O', 'O', 'O', 'O', 'O', 'B-DRUGS', 'I-DRUGS'], ['I-DRUGS', 'I-DRUGS', 'I-DRUGS', 'I-DRUGS', 'I-DRUGS', 'I-DRUGS', 'I-DRUGS', 'O', 'O', 'O', 'O', 'O', 'O', 'O', 'O', 'O', 'O', 'O', 'O'], ['B-DRUGS', 'B-DRUGS', 'I-DRUGS', 'I-DRUGS', 'I-DRUGS', 'O', 'O', 'O', 'O', 'O', 'B-DRUGS', 'B-DRUGS', 'I-DRUGS', 'I-DRUGS', 'I-DRUGS', 'O', 'O', 'O', 'O', 'O', 'O', 'O', 'O', 'B-DRUGS', 'B-DRUGS', 'I-DRUGS', 'I-DRUGS', 'I-DRUGS', 'O', 'O', 'O', 'O', 'O', 'O', 'O', 'B-DRUGS', 'I-DRUGS', 'I-DRUGS', 'I-DRUGS', 'I-DRUGS', 'I-DRUGS'], ['O', 'O', 'O', 'O', 'O', 'O', 'B-DISEASE', 'B-DISEASE', 'B-DISEASE', 'B-DISEASE', 'I-DISEASE', 'O', 'O'], ['O', 'O', 'B-DRUGS', 'I-DRUGS', 'O', 'O', 'O', 'O', 'O', 'O', 'O', 'O', 'B-DRUGS', 'O', 'O', 'O'], ['O', 'O', 'O', 'O', 'O', 'O', 'O', 'O', 'O', 'O', 'O', 'O', 'O', 'O', 'O', 'O', 'O', 'O', 'O', 'O', 'O', 'O', 'O', 'O', 'O', 'O', 'O', 'B-DRUGS', 'I-DRUGS', 'O', 'O', 'B-GENE', 'I-GENE', 'I-GENE', 'I-GENE', 'I-GENE', 'I-GENE', 'I-GENE', 'I-GENE', 'I-GENE', 'I-GENE', 'O', 'B-GENE', 'I-GENE', 'I-GENE', 'O', 'O', 'O', 'O', 'O', 'O', 'O', 'O', 'O', 'B-GENE', 'B-GENE', 'B-GENE', 'O', 'O', 'O', 'O', 'O', 'O', 'O', 'O', 'O', 'O', 'O', 'O', 'B-GENE', 'I-GENE', 'I-GENE', 'I-GENE', 'O', 'O', 'O', 'O', 'O', 'O', 'O', 'O', 'O', 'B-DISEASE', 'O', 'O', 'O', 'O', 'O', 'O', 'O', 'O'], ['O', 'O', 'O', 'B-GENE', 'I-GENE', 'O', 'O', 'O', 'O', 'O', 'O', 'O', 'O', 'O', 'O', 'O', 'O', 'O', 'O', 'O', 'O', 'B-DISEASE', 'I-DISEASE', 'I-DISEASE', 'I-DISEASE', 'I-DISEASE', 'I-DISEASE', 'I-DISEASE', 'I-DISEASE', 'O', 'O', 'O', 'O'], ['O', 'O', 'O', 'O', 'O', 'O', 'O', 'O', 'O', 'O', 'O', 'B-GENE', 'O', 'B-GENE', 'B-GENE', 'B-GENE', 'O', 'O', 'O', 'O', 'O', 'O', 'O', 'O', 'B-GENE', 'I-GENE', 'I-GENE', 'O', 'O', 'O', 'O', 'O', 'O', 'O', 'O', 'O', 'O', 'O', 'O', 'O', 'O', 'O', 'O', 'O', 'O', 'O', 'O', 'B-GENE', 'B-GENE', 'B-GENE', 'B-GENE', 'B-GENE', 'O', 'O'], ['O', 'B-GENE', 'O', 'O', 'O', 'O', 'O', 'O', 'O', 'O', 'O', 'O', 'O', 'O', 'O', 'O', 'O', 'O', 'O', 'O', 'O', 'O', 'O', 'O', 'O', 'O', 'O', 'O', 'O', 'O', 'O', 'B-GENE', 'I-GENE', 'I-GENE', 'I-GENE', 'O', 'O', 'O', 'O', 'O'], ['O', 'O', 'O', 'O', 'O', 'O', 'O', 'O', 'O', 'O', 'O', 'O', 'O', 'O', 'O', 'O', 'O', 'O', 'O', 'O', 'O', 'O', 'B-GENE', 'I-GENE', 'I-GENE', 'I-GENE', 'I-GENE', 'I-GENE', 'I-GENE', 'I-GENE', 'O', 'B-GENE', 'B-GENE', 'O', 'O', 'O', 'O', 'O', 'O', 'O', 'O', 'O', 'O', 'O', 'O', 'O', 'O', 'O', 'O', 'O', 'O'], ['O', 'O', 'O', 'O', 'O', 'O', 'O', 'O', 'O', 'O', 'B-DRUGS', 'O', 'O', 'O', 'O', 'O', 'O', 'O', 'O', 'O', 'O', 'O', 'O', 'O', 'O', 'O', 'B-GENE', 'O', 'O', 'O', 'O', 'O', 'O', 'O', 'O', 'O', 'O', 'O', 'O', 'O', 'O', 'O', 'O', 'O', 'O', 'O', 'O', 'O', 'O', 'O', 'O', 'O', 'O', 'O', 'O', 'O', 'O', 'O'], ['O', 'O', 'O', 'O', 'O', 'O', 'O', 'O', 'O', 'O', 'O', 'O', 'O', 'O', 'O', 'O', 'B-GENE', 'B-GENE', 'O', 'O'], ['O', 'O', 'O', 'O', 'O', 'O', 'O', 'O', 'O', 'O', 'O', 'O', 'O', 'O', 'O', 'O', 'B-GENE', 'O'], ['O', 'O', 'O', 'O', 'O', 'O', 'O', 'O', 'O', 'O', 'O', 'O', 'O', 'O', 'O', 'B-GENE', 'B-GENE', 'I-GENE', 'O', 'O', 'O', 'O', 'O', 'O', 'O', 'O', 'O', 'O', 'O', 'O', 'O', 'O', 'O', 'O', 'O', 'O', 'O', 'O', 'O', 'O', 'O', 'O', 'O', 'O', 'O', 'O', 'O', 'O', 'O', 'O', 'O', 'O', 'B-GENE', 'B-GENE', 'B-GENE', 'B-GENE', 'I-GENE', 'I-GENE', 'I-GENE', 'I-GENE', 'I-GENE', 'I-GENE', 'I-GENE', 'I-GENE', 'I-GENE', 'I-GENE', 'I-GENE', 'O', 'O', 'O', 'O', 'O', 'O', 'O', 'O', 'O', 'O', 'B-GENE', 'I-GENE', 'I-GENE', 'I-GENE'], ['O', 'O', 'O', 'O', 'O', 'O', 'O', 'O', 'O', 'O', 'O', 'O', 'O', 'O', 'O', 'O', 'O', 'O', 'O', 'O', 'O', 'O', 'O', 'O', 'O', 'O'], ['O', 'O', 'O', 'O', 'O', 'O', 'O', 'O', 'O', 'O', 'O', 'O', 'B-DRUGS', 'O'], ['O', 'O', 'O', 'O', 'O', 'O', 'O', 'B-GENE', 'O', 'B-GENE', 'O', 'O', 'O', 'O', 'O', 'O', 'O', 'B-GENE', 'B-GENE', 'B-GENE', 'B-GENE', 'B-GENE', 'B-GENE', 'B-DRUGS', 'B-DRUGS', 'O', 'O', 'B-GENE', 'B-GENE', 'B-DRUGS', 'O', 'O', 'O', 'O', 'O', 'O', 'O', 'O', 'O', 'O', 'O', 'O', 'O', 'O', 'O', 'O', 'O', 'O', 'B-GENE', 'O', 'O', 'O', 'O', 'O', 'O', 'O', 'O', 'O', 'O', 'O', 'O', 'O', 'O', 'O', 'O', 'O', 'O', 'O', 'O', 'O'], ['B-GENE', 'B-GENE', 'I-GENE', 'I-GENE', 'I-GENE', 'I-GENE', 'I-GENE', 'O', 'O', 'O', 'O', 'O', 'O', 'O', 'O', 'O', 'O', 'O', 'O', 'O', 'O', 'O', 'B-DRUGS', 'O', 'O', 'O', 'O', 'O', 'O', 'O', 'O', 'O', 'O', 'B-DISEASE', 'I-DISEASE', 'I-DISEASE', 'O', 'O', 'O', 'O', 'O', 'O', 'O', 'O', 'O', 'O', 'O', 'O', 'O', 'O', 'O', 'O', 'O', 'O', 'O', 'O', 'O', 'O', 'O', 'O', 'O', 'O', 'O', 'O', 'O', 'O', 'O', 'O', 'O', 'O', 'O', 'O', 'O', 'O', 'O', 'O', 'O', 'O', 'O', 'O', 'O', 'O', 'B-DRUGS', 'I-DRUGS', 'I-DRUGS', 'I-DRUGS', 'I-DRUGS', 'O', 'O', 'O', 'O', 'O', 'O', 'O', 'O', 'O', 'O', 'O', 'O', 'O', 'O', 'O', 'O', 'O', 'O', 'O', 'O', 'O', 'O', 'O', 'O', 'O', 'O', 'O', 'O', 'O', 'B-DISEASE', 'I-DISEASE', 'O', 'O', 'O', 'O', 'O', 'O', 'O', 'O', 'O', 'O', 'O', 'O', 'O', 'O', 'O', 'O', 'O', 'O', 'O', 'O', 'O', 'B-GENE', 'I-GENE', 'O', 'O', 'O', 'O', 'O', 'B-GENE', 'I-GENE', 'I-GENE', 'O', 'O', 'O', 'O', 'O', 'O', 'O', 'O', 'O', 'O'], ['B-GENE', 'I-GENE', 'I-GENE', 'I-GENE', 'O', 'B-GENE', 'O', 'O', 'O', 'O', 'O', 'O', 'O', 'O', 'O', 'O', 'O', 'O', 'O', 'O', 'B-GENE', 'I-GENE', 'I-GENE', 'O', 'B-GENE', 'O', 'O', 'O', 'O', 'B-GENE', 'O', 'O', 'O', 'O', 'O'], ['O', 'O', 'O', 'O', 'O', 'O', 'O', 'O', 'O', 'O', 'O', 'O', 'O', 'O', 'O', 'O', 'O', 'O', 'O', 'O', 'O', 'O', 'O', 'O', 'O', 'O', 'B-GENE', 'B-GENE', 'B-GENE', 'B-GENE', 'B-GENE', 'O', 'O', 'O', 'O', 'O', 'O', 'O', 'O', 'O', 'O', 'O'], ['O', 'B-DRUGS', 'I-DRUGS', 'I-DRUGS', 'I-DRUGS', 'I-DRUGS', 'I-DRUGS', 'O', 'O', 'O', 'O', 'O', 'O', 'O', 'O', 'O', 'O', 'O', 'O', 'O', 'O', 'O', 'O', 'O', 'O', 'O', 'O', 'O', 'O', 'O', 'O', 'O', 'O', 'O', 'O', 'O', 'B-DRUGS', 'B-DRUGS', 'O', 'O'], ['O', 'O', 'O', 'O', 'O', 'O', 'O', 'O', 'O', 'O', 'O', 'O', 'O', 'O', 'O', 'O', 'O', 'O', 'O', 'O', 'O', 'O', 'O', 'O', 'B-GENE', 'I-GENE', 'O', 'O', 'O', 'O', 'O'], ['O', 'O', 'O', 'O', 'O', 'O', 'O', 'O', 'O', 'O', 'O', 'O', 'O', 'O', 'O', 'O', 'O', 'O', 'O', 'O', 'O', 'O', 'O', 'O', 'O', 'O', 'O', 'O', 'O', 'O', 'O', 'O', 'O', 'O', 'O', 'O', 'O'], ['O', 'O', 'O', 'B-DRUGS', 'O', 'O', 'O', 'O', 'O', 'O', 'B-DRUGS', 'O', 'O', 'O', 'O', 'O', 'O', 'O', 'O', 'O', 'O', 'O', 'O', 'O', 'O', 'O', 'O', 'O', 'B-DRUGS'], ['I-DRUGS', 'I-DRUGS', 'I-DRUGS', 'I-DRUGS', 'I-DRUGS', 'O', 'O', 'O', 'O', 'O', 'O', 'O', 'O', 'O', 'O', 'O', 'O', 'O', 'O', 'O', 'O', 'O', 'O', 'B-DRUGS', 'O', 'O', 'O', 'B-GENE', 'B-GENE', 'B-GENE', 'I-GENE', 'I-GENE', 'O', 'O', 'O', 'O', 'O', 'O', 'O', 'O', 'O', 'O'], ['O', 'O', 'O', 'O', 'O', 'O', 'O', 'O', 'O', 'O', 'O', 'O', 'O', 'O', 'O', 'O', 'O', 'O', 'O', 'O', 'O', 'O'], ['B-DISEASE', 'O', 'O', 'B-DRUGS', 'I-DRUGS', 'I-DRUGS', 'I-DRUGS', 'I-DRUGS', 'O', 'O', 'O', 'O', 'O', 'O', 'O', 'O', 'O', 'O', 'O', 'O', 'O', 'O', 'O', 'O', 'O', 'O', 'O', 'O', 'O', 'O', 'O', 'O', 'O', 'O', 'O', 'O', 'O'], ['O', 'O', 'O', 'O', 'O', 'O', 'O', 'O', 'O', 'O', 'O', 'O', 'O', 'O', 'O', 'O', 'O', 'O', 'O', 'O', 'O', 'O', 'O', 'O', 'O', 'O', 'O', 'O', 'O', 'O', 'O', 'O', 'O', 'O', 'O', 'O', 'O', 'O', 'O', 'O', 'O', 'O', 'O', 'O', 'O', 'O', 'O', 'O', 'O', 'O', 'O', 'O'], ['O', 'O', 'O', 'O', 'O', 'O', 'O', 'O', 'B-GENE', 'I-GENE', 'I-GENE', 'I-GENE', 'I-GENE', 'I-GENE', 'O', 'B-DISEASE', 'O', 'O', 'O', 'O', 'O', 'O', 'O', 'O', 'O', 'O', 'O', 'O', 'O', 'O', 'O', 'O', 'O', 'O', 'O', 'O', 'O', 'O', 'O', 'B-GENE', 'O', 'B-GENE', 'O', 'O', 'O', 'O', 'O', 'O', 'O', 'O', 'O', 'O', 'O', 'O', 'O', 'O', 'B-GENE', 'I-GENE', 'I-GENE', 'I-GENE', 'I-GENE', 'O', 'O', 'O', 'B-DRUGS', 'I-DRUGS', 'I-DRUGS', 'I-DRUGS', 'I-DRUGS', 'I-DRUGS', 'I-DRUGS', 'I-DRUGS', 'I-DRUGS', 'I-DRUGS', 'I-DRUGS', 'I-DRUGS', 'I-DRUGS', 'O', 'O', 'O', 'O', 'O', 'O', 'O', 'O', 'O', 'O', 'O', 'O', 'O', 'O', 'O', 'O', 'O', 'O', 'O', 'O', 'O', 'O'], ['O', 'O', 'O', 'O', 'O', 'O', 'O', 'O', 'O', 'O', 'O', 'O', 'O', 'B-DRUGS', 'O', 'O', 'O', 'O', 'O', 'B-DRUGS', 'B-DRUGS', 'O', 'O'], ['O', 'O', 'O', 'O', 'O', 'O', 'O', 'O', 'O', 'O', 'O', 'O', 'O', 'B-DRUGS', 'O', 'O', 'O', 'O', 'O', 'O', 'O', 'O', 'O', 'O', 'O', 'O', 'O', 'B-DRUGS', 'O', 'O', 'O', 'O', 'O'], ['O', 'O', 'B-DRUGS', 'O', 'O', 'O', 'O', 'O', 'O', 'O', 'O', 'O', 'O', 'O', 'O', 'O', 'O', 'O', 'O', 'O', 'O', 'B-DRUGS', 'O', 'O', 'O', 'O', 'O', 'O', 'O', 'O', 'O', 'O', 'O', 'O', 'O', 'O', 'B-DRUGS', 'B-DRUGS', 'O', 'O', 'O', 'O', 'O', 'O', 'O', 'O', 'B-DRUGS', 'O', 'O', 'O', 'O', 'O', 'O', 'O', 'O', 'O', 'O', 'O', 'O', 'O', 'O', 'O', 'O', 'O', 'O', 'O', 'O', 'O', 'O', 'O', 'O', 'O', 'O', 'O', 'O', 'O', 'O', 'O', 'O', 'O', 'O', 'O', 'O', 'O', 'O', 'O', 'O', 'O', 'O', 'O', 'O', 'B-GENE', 'O', 'O', 'B-GENE', 'O', 'O', 'O', 'O', 'B-GENE', 'I-GENE', 'O', 'O', 'O', 'O', 'O', 'O', 'O', 'O', 'O', 'O', 'O', 'O', 'O', 'O', 'O', 'O', 'O', 'O', 'O'], ['O', 'O', 'O', 'O', 'O', 'O', 'O', 'O', 'O', 'O', 'O', 'O', 'O', 'O', 'O', 'O', 'O', 'O', 'O', 'O', 'O', 'B-GENE'], ['I-GENE', 'I-GENE', 'I-GENE', 'I-GENE', 'O', 'B-GENE', 'I-GENE', 'I-GENE', 'I-GENE', 'I-GENE', 'O', 'O', 'O', 'B-GENE', 'I-GENE', 'I-GENE', 'I-GENE', 'O', 'B-GENE', 'B-GENE', 'B-GENE', 'I-GENE', 'I-GENE', 'O'], ['O', 'O', 'O', 'O', 'O', 'O', 'O', 'O', 'O', 'O', 'O', 'O', 'O', 'O', 'O', 'O', 'O', 'O', 'O', 'O', 'B-GENE', 'I-GENE', 'I-GENE', 'O', 'B-GENE', 'B-GENE', 'B-GENE', 'I-GENE', 'I-GENE', 'O', 'O', 'O', 'O', 'B-GENE', 'B-GENE', 'B-GENE', 'I-GENE', 'I-GENE', 'I-GENE', 'O', 'O', 'O', 'O', 'O', 'O', 'O', 'O', 'O', 'B-GENE', 'B-GENE', 'B-GENE', 'I-GENE', 'I-GENE'], ['O', 'O', 'O', 'O', 'O'], ['O', 'O', 'O', 'O', 'O', 'O', 'O', 'O', 'O', 'O', 'O', 'O', 'O', 'O', 'O', 'O', 'O', 'O', 'O', 'O', 'O', 'O'], ['O', 'B-DISEASE', 'I-DISEASE', 'I-DISEASE', 'I-DISEASE', 'O', 'O', 'O', 'O', 'O', 'O', 'O', 'O', 'O', 'O', 'O', 'O', 'O', 'O', 'O', 'O', 'O', 'O', 'B-GENE', 'O', 'O', 'O', 'O', 'O', 'B-GENE', 'B-DRUGS', 'O', 'O', 'O', 'O', 'O', 'O', 'O', 'O'], ['O', 'O', 'O', 'O', 'O', 'O', 'O', 'O', 'O', 'O', 'O', 'O', 'O', 'O', 'B-GENE', 'I-GENE', 'I-GENE', 'I-GENE', 'I-GENE', 'I-GENE', 'I-GENE', 'O'], ['O', 'O', 'O', 'O', 'O', 'O', 'O', 'O', 'O', 'O', 'O', 'O', 'O', 'O', 'O', 'O', 'O', 'O', 'O', 'O', 'O', 'O', 'O', 'O', 'O', 'O', 'O', 'O', 'O', 'O', 'O', 'O', 'B-DISEASE', 'B-DISEASE', 'I-DISEASE', 'I-DISEASE'], ['I-DISEASE', 'O', 'O', 'B-DISEASE', 'I-DISEASE', 'I-DISEASE', 'I-DISEASE', 'I-DISEASE', 'I-DISEASE', 'O', 'O', 'O', 'O', 'O', 'O', 'O', 'O', 'O', 'O', 'O', 'O', 'O', 'O', 'O', 'O', 'O', 'O', 'O', 'O', 'B-DISEASE', 'O', 'O', 'O', 'O', 'O', 'O', 'O', 'O', 'O', 'O', 'O', 'O', 'O', 'O', 'O', 'O', 'O', 'O', 'O'], ['O', 'O', 'O', 'O', 'O', 'O', 'B-DISEASE', 'O', 'O', 'O', 'O', 'O', 'O', 'O', 'O', 'O', 'O', 'O', 'O', 'O', 'B-GENE', 'I-GENE', 'O', 'O', 'O', 'O', 'O', 'O', 'O', 'O', 'O', 'O', 'O', 'O', 'O', 'O', 'O', 'O'], ['O', 'O', 'O', 'O', 'O', 'O', 'O', 'O', 'O', 'O', 'O', 'O', 'O', 'O', 'O', 'O', 'O', 'O', 'O', 'O', 'B-DISEASE', 'O', 'O', 'O', 'O', 'O', 'O', 'O', 'O', 'O', 'O', 'O', 'O', 'B-DISEASE', 'B-DISEASE', 'B-DISEASE', 'I-DISEASE', 'I-DISEASE', 'I-DISEASE', 'I-DISEASE', 'O', 'O', 'O', 'O', 'O', 'O', 'O', 'O', 'O', 'O', 'O', 'O', 'O', 'O', 'O', 'O', 'O', 'O', 'O', 'O', 'O', 'O', 'O', 'O', 'O', 'O', 'O', 'O', 'O', 'O', 'O', 'O', 'O', 'O', 'O', 'O', 'O', 'O', 'O', 'O', 'O', 'O', 'O', 'O', 'O', 'O', 'O', 'O', 'O', 'O', 'O', 'O', 'O', 'O', 'O', 'O', 'O', 'O', 'O', 'O', 'O', 'O', 'O', 'O', 'O', 'O', 'O', 'O', 'B-DISEASE', 'B-DISEASE', 'B-DISEASE', 'I-DISEASE', 'O', 'O', 'O', 'O', 'O', 'O', 'O'], ['O', 'O', 'O', 'O', 'O', 'O', 'O', 'O', 'O', 'O', 'O', 'O', 'O', 'O', 'O', 'O', 'O', 'O', 'O', 'O', 'O', 'O', 'O', 'O', 'O', 'O', 'O', 'O', 'B-DISEASE', 'O', 'O', 'O', 'O', 'O', 'O'], ['O', 'O', 'O', 'O', 'O', 'O', 'O', 'O', 'O', 'O', 'O', 'O', 'O', 'O', 'O', 'O', 'B-DISEASE', 'I-DISEASE', 'I-DISEASE', 'I-DISEASE', 'I-DISEASE', 'I-DISEASE', 'O', 'O', 'O', 'O', 'O', 'O', 'O', 'O', 'O', 'O', 'B-DISEASE', 'O', 'O', 'O', 'B-DISEASE', 'I-DISEASE', 'I-DISEASE', 'I-DISEASE', 'I-DISEASE', 'O', 'I-DISEASE'], ['O', 'O', 'O', 'B-DISEASE', 'B-DISEASE', 'I-DISEASE', 'O', 'B-DISEASE', 'I-DISEASE', 'O', 'O', 'O', 'O', 'O', 'O', 'O', 'O', 'O', 'O', 'O', 'O', 'O'], ['O', 'O', 'O', 'O', 'B-DISEASE', 'O', 'O', 'O', 'O', 'O', 'O', 'O', 'O', 'B-DISEASE', 'I-DISEASE', 'I-DISEASE', 'I-DISEASE', 'I-DISEASE', 'O', 'O', 'B-DISEASE', 'I-DISEASE', 'I-DISEASE', 'I-DISEASE', 'I-DISEASE'], ['I-DISEASE', 'I-DISEASE', 'I-DISEASE', 'I-DISEASE', 'I-DISEASE', 'O', 'O', 'O', 'O', 'O', 'O', 'O', 'O', 'O', 'O', 'O', 'O', 'O', 'O', 'O', 'O', 'O', 'O', 'O', 'O', 'O', 'O', 'O', 'O', 'O', 'O', 'O', 'O', 'O', 'O', 'O', 'O', 'O', 'O', 'O', 'O', 'O', 'O', 'O', 'O', 'O', 'O', 'O', 'O', 'O', 'O', 'O', 'O', 'O', 'O', 'O', 'O', 'O'], ['O', 'O', 'O', 'O', 'O', 'O', 'O', 'O', 'O', 'O', 'O', 'O', 'O', 'O', 'O', 'O', 'O', 'O', 'O', 'O', 'O', 'O', 'O', 'O', 'O', 'O'], ['O', 'O', 'O', 'O', 'O', 'O', 'O', 'O', 'O', 'O', 'O', 'O', 'O', 'O', 'O', 'O', 'O', 'O', 'O', 'O', 'O'], ['O', 'O', 'O', 'B-DISEASE', 'O', 'O', 'O', 'O', 'O', 'O', 'O', 'O', 'O', 'O', 'B-GENE', 'I-GENE', 'O', 'O', 'O', 'O', 'O', 'O', 'O', 'O', 'O', 'O', 'B-DISEASE', 'O', 'O', 'O', 'O', 'O', 'O', 'O', 'O', 'O', 'O', 'O', 'O', 'O', 'O', 'B-GENE', 'O', 'O', 'O', 'O', 'O', 'O', 'O', 'O', 'O', 'O', 'O', 'O', 'O', 'O', 'O', 'O', 'O', 'O', 'O', 'O', 'O', 'O', 'O', 'O', 'O', 'O', 'O', 'O', 'O', 'O', 'O'], ['O', 'O', 'O', 'O', 'O', 'O', 'O', 'O', 'O', 'O', 'O', 'O', 'O', 'O', 'O', 'O', 'O', 'O', 'O', 'O', 'O', 'O', 'O', 'O', 'O', 'O', 'O', 'O', 'O', 'O', 'O', 'O', 'O', 'O', 'O', 'O', 'O', 'O', 'O', 'O', 'O', 'O', 'O', 'O', 'O', 'O', 'O', 'O', 'B-DRUGS', 'B-DISEASE', 'O', 'O', 'O', 'O', 'O', 'O', 'O', 'O'], ['O', 'O', 'O', 'O', 'B-DISEASE', 'O', 'O', 'O', 'O', 'O', 'O', 'O', 'O', 'O', 'O', 'O', 'O', 'O', 'O', 'O', 'O', 'O', 'O', 'O', 'O', 'O', 'O', 'O', 'O', 'O', 'O', 'O', 'O', 'O', 'O', 'O', 'O', 'O', 'O', 'O', 'O', 'O', 'O', 'O'], ['O', 'O', 'O', 'O', 'O', 'O', 'O', 'O', 'O', 'O', 'O', 'O', 'B-GENE', 'I-GENE', 'I-GENE', 'I-GENE', 'I-GENE', 'I-GENE', 'I-GENE', 'I-GENE', 'I-GENE', 'I-GENE', 'I-GENE', 'I-GENE', 'O', 'O', 'O', 'O', 'O', 'O', 'O', 'O', 'O', 'O', 'O', 'O', 'O', 'O', 'O', 'O', 'O', 'O', 'O', 'O', 'O', 'O', 'O', 'O', 'O', 'O', 'O', 'O', 'O', 'O', 'O', 'O', 'O', 'B-GENE', 'I-GENE'], ['I-GENE', 'O', 'O', 'O', 'O', 'O', 'O', 'O', 'O', 'O', 'O', 'O', 'O', 'O', 'O', 'O', 'O', 'O', 'B-GENE', 'I-GENE', 'I-GENE', 'O', 'O', 'O', 'B-DRUGS', 'O', 'O', 'O', 'O', 'B-GENE', 'I-GENE', 'I-GENE', 'O', 'O', 'O', 'O', 'O'], ['O', 'O', 'O', 'O', 'O', 'B-GENE', 'O', 'O', 'O', 'O', 'O', 'O', 'O', 'B-GENE', 'I-GENE', 'I-GENE', 'I-GENE', 'O', 'O'], ['O', 'O', 'O', 'O', 'O', 'O', 'O', 'O', 'O', 'O', 'O', 'O', 'O', 'O', 'O', 'O', 'O', 'O', 'O', 'O', 'O', 'O', 'O', 'O', 'B-DRUGS', 'B-DRUGS', 'B-DRUGS', 'O', 'O'], ['O', 'B-DRUGS', 'O', 'O', 'O', 'O', 'O', 'O', 'O', 'O', 'O', 'O', 'O', 'O', 'O', 'O', 'O', 'O', 'O', 'O', 'O', 'O', 'O', 'O', 'O', 'O', 'O', 'B-GENE', 'I-GENE', 'I-GENE', 'I-GENE', 'I-GENE', 'I-GENE', 'I-GENE', 'I-GENE', 'I-GENE', 'I-GENE', 'I-GENE', 'I-GENE', 'I-GENE', 'O', 'O', 'O', 'O', 'O', 'O', 'O', 'O', 'O'], ['O', 'O', 'O', 'O', 'O', 'O', 'O', 'O', 'O', 'O', 'O', 'O', 'O', 'O', 'O', 'O', 'O', 'O', 'O', 'O', 'O', 'B-GENE', 'O', 'O'], ['O', 'O', 'O', 'O', 'O', 'O', 'O', 'B-GENE', 'I-GENE', 'I-GENE', 'O', 'O', 'O', 'O', 'O', 'O', 'O', 'O', 'O', 'O', 'O', 'O', 'O', 'B-GENE', 'O', 'B-GENE', 'I-GENE', 'I-GENE', 'O', 'O', 'O', 'O', 'O', 'O', 'O', 'O', 'O', 'O', 'O', 'O', 'O', 'O', 'O', 'O', 'O', 'O', 'O', 'O', 'O', 'O', 'O', 'O', 'O', 'O', 'O', 'O', 'O', 'O', 'O'], ['O', 'B-DRUGS'], ['O', 'O', 'O', 'O', 'O', 'B-DISEASE', 'I-DISEASE'], ['O', 'O', 'O', 'O', 'O', 'O', 'O', 'B-DISEASE', 'O', 'O', 'O', 'O', 'O', 'O', 'O', 'O', 'O', 'O', 'O', 'O', 'O', 'O', 'O', 'O', 'O', 'O', 'O', 'O', 'O', 'O', 'O'], ['O', 'O', 'O', 'O', 'O', 'O', 'O', 'O', 'O', 'O', 'O', 'O', 'O', 'O', 'O', 'O', 'O', 'O', 'O', 'O', 'O', 'O', 'O', 'O', 'O', 'O', 'O', 'O', 'O', 'O', 'O', 'O', 'O', 'O', 'O', 'O', 'O', 'O', 'O', 'O', 'O', 'O', 'B-DRUGS', 'B-DRUGS', 'I-DRUGS', 'O', 'O', 'B-DISEASE', 'I-DISEASE', 'I-DISEASE', 'I-DISEASE', 'I-DISEASE', 'I-DISEASE', 'I-DISEASE', 'I-DISEASE', 'I-DISEASE', 'I-DISEASE', 'O', 'O', 'O', 'O', 'O', 'O', 'O', 'O', 'O'], ['O', 'O', 'O', 'O', 'O', 'O', 'O', 'O', 'O', 'O', 'B-GENE', 'O', 'O', 'O', 'O', 'O', 'B-GENE', 'O', 'O', 'O', 'O', 'O', 'O', 'O', 'O', 'O', 'O', 'O'], ['O', 'O', 'O', 'O', 'O', 'O', 'O', 'O', 'O', 'O', 'O', 'O', 'O', 'O', 'O', 'O', 'O', 'O', 'O', 'O', 'O', 'O', 'O', 'O', 'O', 'O', 'O', 'O', 'O', 'O', 'O', 'O', 'O', 'O', 'O', 'O', 'O', 'O', 'O', 'O', 'O', 'O', 'O', 'O', 'O', 'O', 'O', 'O', 'O', 'O', 'B-DRUGS'], ['O', 'O', 'B-DISEASE', 'O', 'O', 'O', 'O', 'O', 'O', 'O', 'O', 'O', 'O', 'O', 'O', 'O', 'O', 'O', 'O', 'O', 'O', 'O', 'O', 'O', 'O', 'O', 'O', 'O', 'O', 'O', 'O', 'O', 'O', 'O', 'O', 'O', 'O', 'O', 'O', 'O', 'O', 'O', 'O', 'O', 'O', 'O', 'O', 'O', 'O', 'O', 'O', 'O', 'O', 'O', 'O', 'O', 'O', 'O', 'O'], ['O', 'O', 'O', 'O', 'O', 'O', 'O', 'O', 'O', 'O', 'O', 'O', 'O', 'O', 'O', 'O', 'O', 'O', 'O', 'O', 'O', 'O', 'O', 'O', 'O', 'O', 'O', 'O', 'O'], ['O', 'O', 'O', 'O', 'O', 'O', 'O', 'O', 'B-DISEASE', 'O', 'O', 'O', 'B-DISEASE', 'I-DISEASE', 'O', 'O', 'O', 'O', 'O', 'O', 'O', 'O', 'O', 'O', 'O', 'O', 'O'], ['O', 'O', 'O', 'O', 'O', 'B-GENE', 'I-GENE', 'I-GENE', 'O', 'O', 'O', 'O', 'O', 'B-GENE', 'I-GENE', 'I-GENE', 'O', 'O', 'O', 'O', 'O', 'O', 'O', 'O', 'O', 'O', 'O', 'O', 'B-GENE', 'I-GENE', 'I-GENE', 'I-GENE', 'O', 'O', 'O', 'O', 'O', 'O', 'O', 'O', 'O', 'O', 'O'], ['B-GENE', 'O', 'O', 'B-DISEASE', 'I-DISEASE', 'I-DISEASE', 'O', 'O', 'O', 'O', 'O', 'O', 'O', 'O', 'O', 'O', 'O', 'O', 'O', 'O', 'O', 'O', 'O', 'O', 'O', 'O', 'O', 'O', 'O', 'O', 'O', 'O', 'O', 'O', 'O', 'O', 'O', 'B-DRUGS', 'I-DRUGS', 'I-DRUGS', 'I-DRUGS', 'I-DRUGS', 'I-DRUGS'], ['O', 'I-DRUGS', 'O', 'I-DRUGS', 'O', 'O', 'O', 'O', 'O', 'O', 'O', 'O', 'O', 'O', 'O', 'O', 'O', 'O', 'O', 'O', 'O', 'O', 'O', 'O', 'O', 'O', 'O', 'O', 'O', 'O', 'O', 'O', 'O'], ['B-DRUGS', 'I-DRUGS', 'O', 'O', 'O', 'O', 'O', 'O', 'O', 'O', 'O', 'O', 'O', 'O', 'O', 'O', 'O', 'O', 'O', 'O', 'O', 'O', 'O', 'O', 'O', 'O', 'O'], ['O', 'O', 'O', 'O', 'O', 'O', 'O', 'O', 'O', 'O'], ['O', 'O', 'O', 'O', 'O', 'O', 'O', 'O', 'O', 'O', 'O', 'O', 'O', 'O'], ['O', 'O', 'O', 'O', 'O', 'O', 'O', 'O', 'O', 'O', 'O', 'O', 'O', 'O', 'O', 'O', 'O', 'O', 'O', 'O', 'O', 'O', 'O', 'O', 'O'], ['O', 'O', 'O', 'O', 'O', 'O', 'O', 'O', 'O', 'O', 'O', 'O', 'O', 'O', 'O', 'O', 'O', 'O', 'O', 'O', 'O', 'O', 'O', 'O', 'O', 'O', 'O', 'O', 'O', 'O', 'O', 'O', 'O', 'O', 'O', 'O', 'O'], ['O', 'O', 'O', 'O', 'O', 'O', 'O', 'O', 'O', 'O', 'O', 'O', 'O', 'O', 'O', 'O', 'O', 'O', 'O', 'O', 'O', 'O', 'O', 'O', 'O', 'O', 'O', 'O', 'O', 'O', 'O', 'O', 'O', 'O', 'O', 'O', 'O', 'O', 'O', 'O', 'O', 'O'], ['O', 'O', 'O', 'O', 'O', 'O', 'O', 'O', 'O', 'O', 'O', 'O', 'O', 'O', 'O', 'O', 'O', 'O', 'O', 'O', 'O', 'O', 'O', 'O', 'O', 'O', 'O', 'O', 'O', 'B-DRUGS'], ['O', 'O', 'O', 'O', 'B-GENE', 'O', 'O', 'O', 'O', 'O', 'O', 'O', 'O', 'O', 'B-DRUGS', 'I-DRUGS', 'O', 'O', 'O', 'O', 'O', 'O', 'B-DRUGS', 'B-DRUGS', 'B-DRUGS', 'O', 'B-GENE', 'B-GENE', 'I-GENE', 'O', 'O', 'O', 'O', 'O', 'O', 'O', 'O', 'O', 'O', 'O', 'O', 'O', 'O', 'O', 'O', 'B-DRUGS'], ['O', 'O', 'O', 'B-DISEASE', 'O', 'O', 'O', 'O', 'O', 'O'], ['O', 'O', 'O', 'O', 'O', 'O', 'O', 'O', 'O', 'O', 'O', 'O', 'O', 'O', 'B-DRUGS', 'O', 'O', 'O', 'O', 'O', 'O', 'O', 'B-GENE', 'I-GENE', 'I-GENE', 'I-GENE', 'I-GENE', 'I-GENE'], ['I-GENE', 'I-GENE', 'O', 'O', 'O', 'O', 'B-DRUGS', 'O', 'O', 'O', 'B-GENE', 'I-GENE', 'I-GENE', 'I-GENE', 'I-GENE', 'I-GENE', 'O', 'O', 'O', 'O', 'O', 'O', 'O', 'O', 'O', 'O', 'O', 'O', 'O', 'O', 'O', 'O', 'O', 'O', 'O', 'O', 'O', 'O', 'O', 'O', 'O', 'O', 'O', 'B-GENE', 'O', 'O', 'O', 'O', 'O', 'O', 'O', 'O', 'O', 'O', 'O', 'O', 'O', 'O', 'O', 'O', 'O', 'O', 'O', 'O', 'O', 'O', 'O', 'B-GENE', 'I-GENE'], ['O', 'O', 'O', 'O', 'O', 'O', 'O', 'O', 'O', 'O', 'O', 'O', 'O', 'O', 'O', 'O', 'O', 'O', 'O', 'O', 'O', 'O', 'O', 'O'], ['O', 'O', 'O', 'O', 'O', 'O', 'O', 'O', 'O', 'O', 'O', 'O', 'O', 'O', 'O', 'O', 'O', 'O'], ['O', 'O', 'O', 'O', 'O', 'O', 'B-DISEASE', 'I-DISEASE', 'B-DISEASE', 'I-DISEASE', 'I-DISEASE', 'I-DISEASE', 'I-DISEASE', 'I-DISEASE', 'I-DISEASE', 'I-DISEASE', 'I-DISEASE', 'I-DISEASE', 'I-DISEASE', 'I-DISEASE', 'O', 'O', 'O', 'O', 'O', 'O', 'O', 'O', 'O', 'O', 'O', 'O', 'O', 'O', 'O'], ['O', 'O', 'O', 'B-DISEASE', 'O', 'O', 'O', 'O', 'O', 'O', 'O', 'O', 'O', 'O', 'O', 'O', 'O', 'O', 'O', 'O', 'O', 'O', 'O', 'O', 'O', 'O', 'O'], ['O', 'O', 'O', 'O', 'O', 'O', 'O', 'O', 'O', 'O', 'O', 'O', 'O', 'O', 'O', 'O', 'O', 'O', 'O', 'O', 'O'], ['O', 'O', 'O', 'O', 'O', 'O', 'O', 'O', 'O', 'O', 'O', 'O', 'O', 'O', 'O', 'O', 'O', 'O', 'O', 'O', 'O'], ['O', 'O', 'O', 'O', 'O', 'O', 'O', 'O', 'O', 'O', 'O', 'B-DISEASE', 'O', 'O', 'O', 'O', 'O', 'O', 'O', 'O', 'O', 'B-DRUGS', 'O', 'O', 'O', 'O', 'O', 'O', 'O', 'O', 'O', 'O', 'O', 'O', 'O', 'O', 'O', 'O', 'O', 'O', 'O', 'O', 'O', 'B-DISEASE', 'B-DISEASE'], ['O', 'O', 'O', 'O', 'O', 'O', 'O', 'O', 'O', 'O', 'O', 'O', 'O', 'O', 'O', 'O', 'O', 'O', 'O', 'O', 'O', 'O', 'B-GENE', 'I-GENE', 'I-GENE', 'I-GENE', 'I-GENE', 'O', 'O', 'O'], ['O', 'O', 'O', 'O', 'O', 'O', 'O', 'O', 'O', 'O', 'O', 'O', 'O', 'O', 'O', 'O', 'O', 'O', 'O', 'O', 'O', 'B-GENE', 'I-GENE', 'O', 'O', 'O', 'O', 'O', 'O', 'O', 'O', 'B-GENE', 'I-GENE', 'I-GENE', 'I-GENE', 'O', 'O', 'B-GENE', 'B-GENE', 'I-GENE', 'I-GENE', 'O', 'O', 'O', 'O', 'O', 'O', 'O', 'O', 'O', 'O', 'O', 'O', 'B-DISEASE', 'I-DISEASE', 'I-DISEASE', 'I-DISEASE', 'I-DISEASE', 'I-DISEASE', 'I-DISEASE', 'I-DISEASE', 'I-DISEASE', 'I-DISEASE', 'I-DISEASE', 'O', 'O', 'O', 'O', 'O', 'O', 'O', 'O', 'O', 'O', 'O', 'O', 'O', 'O'], ['O', 'O', 'O', 'O', 'O', 'O', 'O', 'O', 'O', 'O', 'O', 'O', 'O', 'O', 'O', 'O', 'O', 'O', 'O', 'O', 'O', 'O', 'B-DRUGS', 'B-DRUGS', 'O', 'O', 'O', 'O', 'O', 'O', 'O', 'O', 'O', 'O', 'O', 'O'], ['O', 'O', 'O', 'O', 'O', 'O', 'O', 'O', 'O', 'O', 'B-DISEASE', 'O', 'O', 'O', 'O', 'O', 'O', 'O', 'O'], ['O', 'B-DISEASE', 'I-DISEASE', 'I-DISEASE', 'O', 'O', 'O', 'O', 'O', 'O', 'O', 'O', 'O', 'O', 'O', 'O', 'O', 'O', 'O', 'O', 'O', 'B-DISEASE', 'I-DISEASE', 'O', 'O', 'O', 'O', 'B-DISEASE', 'O', 'O', 'O', 'O', 'O', 'O', 'O', 'O'], ['O', 'O', 'O', 'O', 'O', 'O', 'O', 'O', 'O', 'O', 'O', 'O', 'O', 'O', 'O', 'O', 'O', 'O', 'O', 'O', 'O', 'O', 'O', 'O', 'O', 'O', 'O', 'O', 'O', 'O', 'O', 'O', 'O', 'O', 'O', 'O'], ['O', 'O', 'O', 'O', 'O', 'O', 'O', 'B-GENE', 'I-GENE', 'I-GENE', 'I-GENE', 'I-GENE', 'I-GENE', 'I-GENE', 'I-GENE', 'I-GENE', 'O', 'O', 'O', 'O', 'O', 'O', 'O', 'O', 'O', 'O', 'O', 'O', 'O', 'B-GENE', 'I-GENE', 'O', 'O', 'O', 'O', 'O', 'O', 'O', 'O', 'O', 'O', 'O', 'O', 'B-DRUGS', 'O', 'O', 'O', 'O', 'O', 'B-DRUGS', 'O'], ['O', 'O', 'O', 'B-DRUGS', 'O', 'O', 'O', 'O', 'O', 'O', 'O', 'O', 'O', 'O', 'O', 'O', 'O', 'O', 'O'], ['O', 'O', 'O', 'B-DRUGS', 'I-DRUGS', 'I-DRUGS', 'I-DRUGS', 'I-DRUGS', 'I-DRUGS', 'I-DRUGS', 'O', 'O', 'O', 'O', 'O', 'O', 'O', 'O', 'O', 'O', 'B-GENE', 'I-GENE', 'I-GENE', 'I-GENE', 'O', 'B-GENE', 'O', 'O', 'O', 'O', 'O', 'O', 'B-GENE', 'O', 'O', 'O', 'B-GENE', 'O', 'O', 'O', 'O', 'O', 'O', 'O', 'O', 'O', 'O'], ['O', 'O', 'O', 'O', 'O', 'O', 'O', 'O', 'O', 'O', 'O', 'O', 'O', 'O', 'O', 'O', 'O', 'O', 'O', 'O', 'O', 'O', 'O', 'O', 'O', 'O', 'O', 'O', 'O', 'O', 'O', 'O', 'O', 'O', 'O', 'O', 'O', 'O', 'O', 'O', 'O', 'O', 'O', 'O', 'O', 'O', 'O', 'O', 'O', 'O', 'O', 'O', 'O', 'O', 'O', 'O', 'O', 'O', 'B-GENE', 'I-GENE', 'I-GENE', 'O', 'O', 'O', 'O', 'O', 'O', 'O', 'O', 'O', 'O', 'O', 'O', 'O', 'O']]\n"
          ],
          "name": "stdout"
        }
      ]
    },
    {
      "cell_type": "code",
      "metadata": {
        "id": "wVqlv-PQNmcD",
        "colab_type": "code",
        "colab": {}
      },
      "source": [
        "input_ids = pad_sequences([scibert_tokenizer.convert_tokens_to_ids(txt) for txt in tokenized_texts],maxlen=MAX_LEN, dtype=\"long\", value=0.0,\n",
        "                          truncating=\"post\", padding=\"post\")"
      ],
      "execution_count": 28,
      "outputs": []
    },
    {
      "cell_type": "code",
      "metadata": {
        "id": "_XpJMkWKOFue",
        "colab_type": "code",
        "colab": {
          "base_uri": "https://localhost:8080/",
          "height": 34
        },
        "outputId": "72f3ddcb-5719-4aa2-b03e-6c88e4298f53"
      },
      "source": [
        "print(len(input_ids))"
      ],
      "execution_count": 29,
      "outputs": [
        {
          "output_type": "stream",
          "text": [
            "168\n"
          ],
          "name": "stdout"
        }
      ]
    },
    {
      "cell_type": "code",
      "metadata": {
        "id": "2MXDIiETOIPd",
        "colab_type": "code",
        "colab": {}
      },
      "source": [
        "tags = pad_sequences([[tag2idx.get(l) for l in lab] for lab in labels],\n",
        "                     maxlen=MAX_LEN, value=tag2idx[\"PAD\"], padding=\"post\",\n",
        "                     dtype=\"long\", truncating=\"post\")"
      ],
      "execution_count": 30,
      "outputs": []
    },
    {
      "cell_type": "code",
      "metadata": {
        "id": "XsNRzOAeOViH",
        "colab_type": "code",
        "colab": {}
      },
      "source": [
        "attention_masks = [[float(i != 0.0) for i in ii] for ii in input_ids]"
      ],
      "execution_count": 31,
      "outputs": []
    },
    {
      "cell_type": "code",
      "metadata": {
        "id": "vHaunnq9OY3A",
        "colab_type": "code",
        "colab": {
          "base_uri": "https://localhost:8080/",
          "height": 54
        },
        "outputId": "e480f28a-559e-4bb7-f690-482702c7472d"
      },
      "source": [
        "print(attention_masks)"
      ],
      "execution_count": 32,
      "outputs": [
        {
          "output_type": "stream",
          "text": [
            "[[1.0, 1.0, 1.0, 1.0, 1.0, 1.0, 1.0, 1.0, 1.0, 1.0, 1.0, 1.0, 1.0, 1.0, 1.0, 1.0, 1.0, 1.0, 1.0, 1.0, 1.0, 1.0, 1.0, 1.0, 1.0, 1.0, 1.0, 1.0, 1.0, 1.0, 1.0, 1.0, 1.0, 1.0, 1.0, 1.0, 1.0, 1.0, 1.0, 1.0, 1.0, 1.0, 1.0, 1.0, 1.0, 1.0, 1.0, 1.0, 1.0, 1.0, 1.0, 1.0, 1.0, 1.0, 1.0, 1.0, 1.0, 1.0, 1.0, 1.0, 1.0, 1.0, 1.0, 0.0, 0.0, 0.0, 0.0, 0.0, 0.0, 0.0, 0.0, 0.0, 0.0, 0.0, 0.0], [1.0, 1.0, 1.0, 1.0, 1.0, 1.0, 1.0, 1.0, 1.0, 1.0, 1.0, 1.0, 1.0, 1.0, 1.0, 1.0, 1.0, 1.0, 1.0, 1.0, 1.0, 1.0, 1.0, 1.0, 1.0, 1.0, 1.0, 1.0, 1.0, 1.0, 1.0, 1.0, 1.0, 1.0, 1.0, 1.0, 1.0, 1.0, 1.0, 1.0, 1.0, 1.0, 1.0, 1.0, 1.0, 1.0, 1.0, 1.0, 1.0, 1.0, 1.0, 1.0, 1.0, 1.0, 1.0, 1.0, 1.0, 1.0, 1.0, 1.0, 1.0, 1.0, 1.0, 1.0, 1.0, 1.0, 1.0, 1.0, 0.0, 0.0, 0.0, 0.0, 0.0, 0.0, 0.0], [1.0, 1.0, 1.0, 1.0, 1.0, 1.0, 1.0, 1.0, 1.0, 1.0, 1.0, 1.0, 1.0, 1.0, 1.0, 1.0, 1.0, 1.0, 1.0, 1.0, 1.0, 1.0, 1.0, 1.0, 1.0, 1.0, 1.0, 1.0, 1.0, 0.0, 0.0, 0.0, 0.0, 0.0, 0.0, 0.0, 0.0, 0.0, 0.0, 0.0, 0.0, 0.0, 0.0, 0.0, 0.0, 0.0, 0.0, 0.0, 0.0, 0.0, 0.0, 0.0, 0.0, 0.0, 0.0, 0.0, 0.0, 0.0, 0.0, 0.0, 0.0, 0.0, 0.0, 0.0, 0.0, 0.0, 0.0, 0.0, 0.0, 0.0, 0.0, 0.0, 0.0, 0.0, 0.0], [1.0, 1.0, 1.0, 1.0, 1.0, 1.0, 1.0, 1.0, 1.0, 1.0, 1.0, 1.0, 1.0, 1.0, 1.0, 1.0, 1.0, 1.0, 1.0, 1.0, 1.0, 1.0, 1.0, 1.0, 1.0, 1.0, 1.0, 1.0, 1.0, 1.0, 1.0, 1.0, 1.0, 1.0, 1.0, 1.0, 1.0, 0.0, 0.0, 0.0, 0.0, 0.0, 0.0, 0.0, 0.0, 0.0, 0.0, 0.0, 0.0, 0.0, 0.0, 0.0, 0.0, 0.0, 0.0, 0.0, 0.0, 0.0, 0.0, 0.0, 0.0, 0.0, 0.0, 0.0, 0.0, 0.0, 0.0, 0.0, 0.0, 0.0, 0.0, 0.0, 0.0, 0.0, 0.0], [1.0, 1.0, 1.0, 1.0, 1.0, 1.0, 1.0, 1.0, 1.0, 1.0, 1.0, 1.0, 1.0, 1.0, 1.0, 1.0, 1.0, 1.0, 1.0, 1.0, 1.0, 1.0, 1.0, 1.0, 1.0, 1.0, 1.0, 1.0, 1.0, 1.0, 1.0, 1.0, 1.0, 1.0, 1.0, 1.0, 1.0, 1.0, 1.0, 1.0, 1.0, 1.0, 1.0, 1.0, 1.0, 1.0, 1.0, 1.0, 1.0, 1.0, 1.0, 1.0, 1.0, 1.0, 1.0, 1.0, 0.0, 0.0, 0.0, 0.0, 0.0, 0.0, 0.0, 0.0, 0.0, 0.0, 0.0, 0.0, 0.0, 0.0, 0.0, 0.0, 0.0, 0.0, 0.0], [1.0, 1.0, 1.0, 1.0, 1.0, 1.0, 1.0, 1.0, 1.0, 1.0, 1.0, 1.0, 1.0, 1.0, 1.0, 1.0, 1.0, 1.0, 1.0, 1.0, 1.0, 1.0, 1.0, 1.0, 1.0, 1.0, 1.0, 1.0, 1.0, 1.0, 0.0, 0.0, 0.0, 0.0, 0.0, 0.0, 0.0, 0.0, 0.0, 0.0, 0.0, 0.0, 0.0, 0.0, 0.0, 0.0, 0.0, 0.0, 0.0, 0.0, 0.0, 0.0, 0.0, 0.0, 0.0, 0.0, 0.0, 0.0, 0.0, 0.0, 0.0, 0.0, 0.0, 0.0, 0.0, 0.0, 0.0, 0.0, 0.0, 0.0, 0.0, 0.0, 0.0, 0.0, 0.0], [1.0, 1.0, 1.0, 1.0, 1.0, 1.0, 1.0, 1.0, 1.0, 1.0, 1.0, 1.0, 1.0, 1.0, 1.0, 1.0, 1.0, 1.0, 1.0, 1.0, 1.0, 1.0, 1.0, 1.0, 1.0, 1.0, 1.0, 1.0, 1.0, 1.0, 1.0, 1.0, 1.0, 1.0, 1.0, 1.0, 1.0, 1.0, 1.0, 1.0, 1.0, 1.0, 1.0, 0.0, 0.0, 0.0, 0.0, 0.0, 0.0, 0.0, 0.0, 0.0, 0.0, 0.0, 0.0, 0.0, 0.0, 0.0, 0.0, 0.0, 0.0, 0.0, 0.0, 0.0, 0.0, 0.0, 0.0, 0.0, 0.0, 0.0, 0.0, 0.0, 0.0, 0.0, 0.0], [1.0, 1.0, 1.0, 1.0, 1.0, 1.0, 1.0, 1.0, 1.0, 1.0, 1.0, 1.0, 1.0, 1.0, 1.0, 1.0, 1.0, 1.0, 1.0, 1.0, 1.0, 1.0, 1.0, 1.0, 1.0, 1.0, 1.0, 1.0, 1.0, 1.0, 0.0, 0.0, 0.0, 0.0, 0.0, 0.0, 0.0, 0.0, 0.0, 0.0, 0.0, 0.0, 0.0, 0.0, 0.0, 0.0, 0.0, 0.0, 0.0, 0.0, 0.0, 0.0, 0.0, 0.0, 0.0, 0.0, 0.0, 0.0, 0.0, 0.0, 0.0, 0.0, 0.0, 0.0, 0.0, 0.0, 0.0, 0.0, 0.0, 0.0, 0.0, 0.0, 0.0, 0.0, 0.0], [1.0, 1.0, 1.0, 1.0, 1.0, 1.0, 1.0, 1.0, 1.0, 1.0, 1.0, 1.0, 1.0, 0.0, 0.0, 0.0, 0.0, 0.0, 0.0, 0.0, 0.0, 0.0, 0.0, 0.0, 0.0, 0.0, 0.0, 0.0, 0.0, 0.0, 0.0, 0.0, 0.0, 0.0, 0.0, 0.0, 0.0, 0.0, 0.0, 0.0, 0.0, 0.0, 0.0, 0.0, 0.0, 0.0, 0.0, 0.0, 0.0, 0.0, 0.0, 0.0, 0.0, 0.0, 0.0, 0.0, 0.0, 0.0, 0.0, 0.0, 0.0, 0.0, 0.0, 0.0, 0.0, 0.0, 0.0, 0.0, 0.0, 0.0, 0.0, 0.0, 0.0, 0.0, 0.0], [1.0, 1.0, 1.0, 1.0, 1.0, 1.0, 1.0, 1.0, 1.0, 1.0, 1.0, 1.0, 1.0, 1.0, 1.0, 1.0, 1.0, 1.0, 1.0, 1.0, 1.0, 1.0, 1.0, 1.0, 1.0, 1.0, 1.0, 1.0, 1.0, 1.0, 1.0, 1.0, 1.0, 1.0, 1.0, 1.0, 1.0, 1.0, 1.0, 1.0, 1.0, 1.0, 1.0, 1.0, 1.0, 1.0, 1.0, 1.0, 1.0, 1.0, 1.0, 1.0, 1.0, 1.0, 1.0, 1.0, 0.0, 0.0, 0.0, 0.0, 0.0, 0.0, 0.0, 0.0, 0.0, 0.0, 0.0, 0.0, 0.0, 0.0, 0.0, 0.0, 0.0, 0.0, 0.0], [1.0, 1.0, 1.0, 1.0, 1.0, 1.0, 1.0, 1.0, 1.0, 1.0, 1.0, 1.0, 1.0, 1.0, 1.0, 1.0, 1.0, 1.0, 1.0, 1.0, 1.0, 1.0, 1.0, 1.0, 1.0, 1.0, 1.0, 1.0, 1.0, 1.0, 1.0, 1.0, 1.0, 1.0, 1.0, 1.0, 1.0, 1.0, 1.0, 1.0, 1.0, 0.0, 0.0, 0.0, 0.0, 0.0, 0.0, 0.0, 0.0, 0.0, 0.0, 0.0, 0.0, 0.0, 0.0, 0.0, 0.0, 0.0, 0.0, 0.0, 0.0, 0.0, 0.0, 0.0, 0.0, 0.0, 0.0, 0.0, 0.0, 0.0, 0.0, 0.0, 0.0, 0.0, 0.0], [1.0, 1.0, 1.0, 1.0, 1.0, 1.0, 1.0, 1.0, 1.0, 1.0, 1.0, 1.0, 1.0, 1.0, 1.0, 1.0, 1.0, 1.0, 1.0, 1.0, 1.0, 1.0, 1.0, 1.0, 1.0, 1.0, 1.0, 1.0, 1.0, 1.0, 1.0, 1.0, 1.0, 1.0, 1.0, 1.0, 1.0, 1.0, 1.0, 1.0, 1.0, 0.0, 0.0, 0.0, 0.0, 0.0, 0.0, 0.0, 0.0, 0.0, 0.0, 0.0, 0.0, 0.0, 0.0, 0.0, 0.0, 0.0, 0.0, 0.0, 0.0, 0.0, 0.0, 0.0, 0.0, 0.0, 0.0, 0.0, 0.0, 0.0, 0.0, 0.0, 0.0, 0.0, 0.0], [1.0, 1.0, 1.0, 1.0, 1.0, 1.0, 1.0, 1.0, 1.0, 1.0, 1.0, 1.0, 1.0, 1.0, 1.0, 1.0, 1.0, 1.0, 1.0, 1.0, 1.0, 1.0, 1.0, 1.0, 1.0, 1.0, 1.0, 1.0, 1.0, 1.0, 1.0, 1.0, 0.0, 0.0, 0.0, 0.0, 0.0, 0.0, 0.0, 0.0, 0.0, 0.0, 0.0, 0.0, 0.0, 0.0, 0.0, 0.0, 0.0, 0.0, 0.0, 0.0, 0.0, 0.0, 0.0, 0.0, 0.0, 0.0, 0.0, 0.0, 0.0, 0.0, 0.0, 0.0, 0.0, 0.0, 0.0, 0.0, 0.0, 0.0, 0.0, 0.0, 0.0, 0.0, 0.0], [1.0, 1.0, 1.0, 1.0, 1.0, 1.0, 1.0, 1.0, 1.0, 1.0, 1.0, 1.0, 1.0, 1.0, 1.0, 1.0, 1.0, 1.0, 1.0, 1.0, 1.0, 1.0, 1.0, 1.0, 1.0, 1.0, 1.0, 1.0, 1.0, 1.0, 1.0, 1.0, 1.0, 1.0, 1.0, 1.0, 1.0, 1.0, 1.0, 1.0, 1.0, 1.0, 1.0, 1.0, 1.0, 1.0, 1.0, 1.0, 1.0, 1.0, 1.0, 1.0, 1.0, 1.0, 1.0, 1.0, 1.0, 1.0, 1.0, 1.0, 1.0, 1.0, 1.0, 1.0, 1.0, 1.0, 1.0, 1.0, 1.0, 1.0, 1.0, 1.0, 1.0, 1.0, 1.0], [1.0, 1.0, 1.0, 1.0, 1.0, 1.0, 1.0, 1.0, 1.0, 1.0, 1.0, 1.0, 1.0, 1.0, 1.0, 1.0, 1.0, 1.0, 1.0, 1.0, 1.0, 1.0, 1.0, 1.0, 1.0, 1.0, 1.0, 1.0, 1.0, 0.0, 0.0, 0.0, 0.0, 0.0, 0.0, 0.0, 0.0, 0.0, 0.0, 0.0, 0.0, 0.0, 0.0, 0.0, 0.0, 0.0, 0.0, 0.0, 0.0, 0.0, 0.0, 0.0, 0.0, 0.0, 0.0, 0.0, 0.0, 0.0, 0.0, 0.0, 0.0, 0.0, 0.0, 0.0, 0.0, 0.0, 0.0, 0.0, 0.0, 0.0, 0.0, 0.0, 0.0, 0.0, 0.0], [1.0, 1.0, 1.0, 1.0, 1.0, 1.0, 1.0, 1.0, 1.0, 1.0, 1.0, 1.0, 1.0, 1.0, 1.0, 1.0, 1.0, 1.0, 1.0, 1.0, 1.0, 1.0, 1.0, 1.0, 1.0, 1.0, 1.0, 1.0, 1.0, 1.0, 1.0, 1.0, 1.0, 1.0, 1.0, 1.0, 1.0, 1.0, 1.0, 1.0, 1.0, 1.0, 1.0, 1.0, 1.0, 1.0, 0.0, 0.0, 0.0, 0.0, 0.0, 0.0, 0.0, 0.0, 0.0, 0.0, 0.0, 0.0, 0.0, 0.0, 0.0, 0.0, 0.0, 0.0, 0.0, 0.0, 0.0, 0.0, 0.0, 0.0, 0.0, 0.0, 0.0, 0.0, 0.0], [1.0, 1.0, 1.0, 1.0, 1.0, 1.0, 1.0, 1.0, 1.0, 1.0, 1.0, 1.0, 1.0, 1.0, 1.0, 1.0, 1.0, 1.0, 1.0, 1.0, 1.0, 1.0, 1.0, 1.0, 1.0, 1.0, 1.0, 1.0, 1.0, 1.0, 1.0, 1.0, 1.0, 1.0, 1.0, 1.0, 1.0, 1.0, 1.0, 1.0, 1.0, 1.0, 0.0, 0.0, 0.0, 0.0, 0.0, 0.0, 0.0, 0.0, 0.0, 0.0, 0.0, 0.0, 0.0, 0.0, 0.0, 0.0, 0.0, 0.0, 0.0, 0.0, 0.0, 0.0, 0.0, 0.0, 0.0, 0.0, 0.0, 0.0, 0.0, 0.0, 0.0, 0.0, 0.0], [1.0, 1.0, 1.0, 1.0, 1.0, 1.0, 1.0, 1.0, 1.0, 1.0, 1.0, 1.0, 1.0, 1.0, 1.0, 1.0, 1.0, 1.0, 1.0, 1.0, 1.0, 1.0, 1.0, 1.0, 1.0, 1.0, 0.0, 0.0, 0.0, 0.0, 0.0, 0.0, 0.0, 0.0, 0.0, 0.0, 0.0, 0.0, 0.0, 0.0, 0.0, 0.0, 0.0, 0.0, 0.0, 0.0, 0.0, 0.0, 0.0, 0.0, 0.0, 0.0, 0.0, 0.0, 0.0, 0.0, 0.0, 0.0, 0.0, 0.0, 0.0, 0.0, 0.0, 0.0, 0.0, 0.0, 0.0, 0.0, 0.0, 0.0, 0.0, 0.0, 0.0, 0.0, 0.0], [1.0, 1.0, 1.0, 1.0, 1.0, 1.0, 1.0, 1.0, 1.0, 1.0, 1.0, 1.0, 1.0, 1.0, 1.0, 1.0, 1.0, 1.0, 1.0, 1.0, 1.0, 0.0, 0.0, 0.0, 0.0, 0.0, 0.0, 0.0, 0.0, 0.0, 0.0, 0.0, 0.0, 0.0, 0.0, 0.0, 0.0, 0.0, 0.0, 0.0, 0.0, 0.0, 0.0, 0.0, 0.0, 0.0, 0.0, 0.0, 0.0, 0.0, 0.0, 0.0, 0.0, 0.0, 0.0, 0.0, 0.0, 0.0, 0.0, 0.0, 0.0, 0.0, 0.0, 0.0, 0.0, 0.0, 0.0, 0.0, 0.0, 0.0, 0.0, 0.0, 0.0, 0.0, 0.0], [1.0, 1.0, 1.0, 1.0, 1.0, 1.0, 1.0, 1.0, 1.0, 1.0, 1.0, 1.0, 1.0, 1.0, 1.0, 1.0, 1.0, 1.0, 1.0, 1.0, 1.0, 1.0, 1.0, 1.0, 1.0, 1.0, 1.0, 1.0, 1.0, 1.0, 1.0, 1.0, 1.0, 1.0, 1.0, 1.0, 1.0, 1.0, 1.0, 1.0, 1.0, 1.0, 0.0, 0.0, 0.0, 0.0, 0.0, 0.0, 0.0, 0.0, 0.0, 0.0, 0.0, 0.0, 0.0, 0.0, 0.0, 0.0, 0.0, 0.0, 0.0, 0.0, 0.0, 0.0, 0.0, 0.0, 0.0, 0.0, 0.0, 0.0, 0.0, 0.0, 0.0, 0.0, 0.0], [1.0, 1.0, 1.0, 1.0, 1.0, 1.0, 1.0, 1.0, 1.0, 1.0, 1.0, 1.0, 1.0, 1.0, 1.0, 1.0, 1.0, 1.0, 1.0, 1.0, 1.0, 1.0, 1.0, 0.0, 0.0, 0.0, 0.0, 0.0, 0.0, 0.0, 0.0, 0.0, 0.0, 0.0, 0.0, 0.0, 0.0, 0.0, 0.0, 0.0, 0.0, 0.0, 0.0, 0.0, 0.0, 0.0, 0.0, 0.0, 0.0, 0.0, 0.0, 0.0, 0.0, 0.0, 0.0, 0.0, 0.0, 0.0, 0.0, 0.0, 0.0, 0.0, 0.0, 0.0, 0.0, 0.0, 0.0, 0.0, 0.0, 0.0, 0.0, 0.0, 0.0, 0.0, 0.0], [1.0, 1.0, 1.0, 1.0, 1.0, 1.0, 1.0, 1.0, 1.0, 1.0, 1.0, 1.0, 1.0, 1.0, 1.0, 1.0, 1.0, 1.0, 1.0, 1.0, 1.0, 1.0, 1.0, 1.0, 1.0, 1.0, 1.0, 1.0, 1.0, 1.0, 1.0, 1.0, 1.0, 1.0, 1.0, 1.0, 1.0, 1.0, 1.0, 1.0, 1.0, 1.0, 1.0, 0.0, 0.0, 0.0, 0.0, 0.0, 0.0, 0.0, 0.0, 0.0, 0.0, 0.0, 0.0, 0.0, 0.0, 0.0, 0.0, 0.0, 0.0, 0.0, 0.0, 0.0, 0.0, 0.0, 0.0, 0.0, 0.0, 0.0, 0.0, 0.0, 0.0, 0.0, 0.0], [1.0, 1.0, 1.0, 1.0, 1.0, 1.0, 1.0, 1.0, 1.0, 1.0, 1.0, 1.0, 1.0, 1.0, 1.0, 1.0, 1.0, 1.0, 1.0, 1.0, 1.0, 1.0, 1.0, 1.0, 1.0, 1.0, 1.0, 1.0, 1.0, 1.0, 1.0, 1.0, 1.0, 1.0, 1.0, 1.0, 0.0, 0.0, 0.0, 0.0, 0.0, 0.0, 0.0, 0.0, 0.0, 0.0, 0.0, 0.0, 0.0, 0.0, 0.0, 0.0, 0.0, 0.0, 0.0, 0.0, 0.0, 0.0, 0.0, 0.0, 0.0, 0.0, 0.0, 0.0, 0.0, 0.0, 0.0, 0.0, 0.0, 0.0, 0.0, 0.0, 0.0, 0.0, 0.0], [1.0, 1.0, 1.0, 1.0, 1.0, 1.0, 1.0, 1.0, 1.0, 1.0, 1.0, 1.0, 1.0, 1.0, 1.0, 1.0, 1.0, 1.0, 1.0, 1.0, 1.0, 1.0, 1.0, 1.0, 1.0, 1.0, 1.0, 1.0, 1.0, 1.0, 1.0, 1.0, 1.0, 1.0, 1.0, 1.0, 1.0, 1.0, 1.0, 1.0, 1.0, 1.0, 1.0, 1.0, 1.0, 1.0, 1.0, 0.0, 0.0, 0.0, 0.0, 0.0, 0.0, 0.0, 0.0, 0.0, 0.0, 0.0, 0.0, 0.0, 0.0, 0.0, 0.0, 0.0, 0.0, 0.0, 0.0, 0.0, 0.0, 0.0, 0.0, 0.0, 0.0, 0.0, 0.0], [1.0, 1.0, 1.0, 1.0, 1.0, 1.0, 1.0, 1.0, 1.0, 1.0, 1.0, 1.0, 1.0, 1.0, 1.0, 1.0, 1.0, 1.0, 1.0, 1.0, 1.0, 1.0, 1.0, 1.0, 1.0, 1.0, 1.0, 1.0, 1.0, 1.0, 1.0, 1.0, 1.0, 1.0, 1.0, 1.0, 1.0, 1.0, 1.0, 1.0, 1.0, 1.0, 1.0, 1.0, 1.0, 1.0, 1.0, 1.0, 1.0, 0.0, 0.0, 0.0, 0.0, 0.0, 0.0, 0.0, 0.0, 0.0, 0.0, 0.0, 0.0, 0.0, 0.0, 0.0, 0.0, 0.0, 0.0, 0.0, 0.0, 0.0, 0.0, 0.0, 0.0, 0.0, 0.0], [1.0, 1.0, 1.0, 1.0, 1.0, 1.0, 1.0, 1.0, 1.0, 1.0, 1.0, 1.0, 1.0, 1.0, 1.0, 1.0, 1.0, 1.0, 1.0, 1.0, 1.0, 1.0, 1.0, 1.0, 1.0, 1.0, 1.0, 1.0, 1.0, 1.0, 1.0, 1.0, 1.0, 1.0, 1.0, 1.0, 1.0, 1.0, 1.0, 1.0, 1.0, 1.0, 0.0, 0.0, 0.0, 0.0, 0.0, 0.0, 0.0, 0.0, 0.0, 0.0, 0.0, 0.0, 0.0, 0.0, 0.0, 0.0, 0.0, 0.0, 0.0, 0.0, 0.0, 0.0, 0.0, 0.0, 0.0, 0.0, 0.0, 0.0, 0.0, 0.0, 0.0, 0.0, 0.0], [1.0, 1.0, 1.0, 1.0, 1.0, 1.0, 1.0, 1.0, 1.0, 1.0, 1.0, 1.0, 1.0, 1.0, 1.0, 1.0, 1.0, 1.0, 1.0, 1.0, 1.0, 1.0, 1.0, 1.0, 1.0, 1.0, 0.0, 0.0, 0.0, 0.0, 0.0, 0.0, 0.0, 0.0, 0.0, 0.0, 0.0, 0.0, 0.0, 0.0, 0.0, 0.0, 0.0, 0.0, 0.0, 0.0, 0.0, 0.0, 0.0, 0.0, 0.0, 0.0, 0.0, 0.0, 0.0, 0.0, 0.0, 0.0, 0.0, 0.0, 0.0, 0.0, 0.0, 0.0, 0.0, 0.0, 0.0, 0.0, 0.0, 0.0, 0.0, 0.0, 0.0, 0.0, 0.0], [1.0, 1.0, 1.0, 1.0, 1.0, 1.0, 1.0, 1.0, 1.0, 1.0, 1.0, 1.0, 1.0, 1.0, 1.0, 1.0, 1.0, 1.0, 1.0, 1.0, 1.0, 1.0, 1.0, 1.0, 0.0, 0.0, 0.0, 0.0, 0.0, 0.0, 0.0, 0.0, 0.0, 0.0, 0.0, 0.0, 0.0, 0.0, 0.0, 0.0, 0.0, 0.0, 0.0, 0.0, 0.0, 0.0, 0.0, 0.0, 0.0, 0.0, 0.0, 0.0, 0.0, 0.0, 0.0, 0.0, 0.0, 0.0, 0.0, 0.0, 0.0, 0.0, 0.0, 0.0, 0.0, 0.0, 0.0, 0.0, 0.0, 0.0, 0.0, 0.0, 0.0, 0.0, 0.0], [1.0, 1.0, 1.0, 1.0, 1.0, 1.0, 1.0, 1.0, 1.0, 1.0, 1.0, 1.0, 1.0, 1.0, 1.0, 1.0, 1.0, 1.0, 1.0, 1.0, 1.0, 1.0, 1.0, 1.0, 1.0, 1.0, 1.0, 1.0, 1.0, 1.0, 1.0, 1.0, 1.0, 1.0, 1.0, 0.0, 0.0, 0.0, 0.0, 0.0, 0.0, 0.0, 0.0, 0.0, 0.0, 0.0, 0.0, 0.0, 0.0, 0.0, 0.0, 0.0, 0.0, 0.0, 0.0, 0.0, 0.0, 0.0, 0.0, 0.0, 0.0, 0.0, 0.0, 0.0, 0.0, 0.0, 0.0, 0.0, 0.0, 0.0, 0.0, 0.0, 0.0, 0.0, 0.0], [1.0, 1.0, 1.0, 1.0, 1.0, 1.0, 1.0, 1.0, 1.0, 1.0, 1.0, 1.0, 1.0, 1.0, 0.0, 0.0, 0.0, 0.0, 0.0, 0.0, 0.0, 0.0, 0.0, 0.0, 0.0, 0.0, 0.0, 0.0, 0.0, 0.0, 0.0, 0.0, 0.0, 0.0, 0.0, 0.0, 0.0, 0.0, 0.0, 0.0, 0.0, 0.0, 0.0, 0.0, 0.0, 0.0, 0.0, 0.0, 0.0, 0.0, 0.0, 0.0, 0.0, 0.0, 0.0, 0.0, 0.0, 0.0, 0.0, 0.0, 0.0, 0.0, 0.0, 0.0, 0.0, 0.0, 0.0, 0.0, 0.0, 0.0, 0.0, 0.0, 0.0, 0.0, 0.0], [1.0, 1.0, 1.0, 1.0, 1.0, 1.0, 1.0, 1.0, 1.0, 1.0, 1.0, 1.0, 1.0, 1.0, 1.0, 1.0, 1.0, 1.0, 1.0, 1.0, 1.0, 1.0, 1.0, 1.0, 1.0, 1.0, 1.0, 1.0, 1.0, 1.0, 1.0, 1.0, 1.0, 1.0, 1.0, 1.0, 1.0, 1.0, 1.0, 1.0, 1.0, 1.0, 1.0, 1.0, 1.0, 1.0, 1.0, 0.0, 0.0, 0.0, 0.0, 0.0, 0.0, 0.0, 0.0, 0.0, 0.0, 0.0, 0.0, 0.0, 0.0, 0.0, 0.0, 0.0, 0.0, 0.0, 0.0, 0.0, 0.0, 0.0, 0.0, 0.0, 0.0, 0.0, 0.0], [1.0, 1.0, 1.0, 1.0, 1.0, 1.0, 1.0, 1.0, 1.0, 1.0, 1.0, 1.0, 1.0, 1.0, 1.0, 1.0, 1.0, 1.0, 1.0, 1.0, 1.0, 1.0, 1.0, 1.0, 1.0, 1.0, 1.0, 1.0, 0.0, 0.0, 0.0, 0.0, 0.0, 0.0, 0.0, 0.0, 0.0, 0.0, 0.0, 0.0, 0.0, 0.0, 0.0, 0.0, 0.0, 0.0, 0.0, 0.0, 0.0, 0.0, 0.0, 0.0, 0.0, 0.0, 0.0, 0.0, 0.0, 0.0, 0.0, 0.0, 0.0, 0.0, 0.0, 0.0, 0.0, 0.0, 0.0, 0.0, 0.0, 0.0, 0.0, 0.0, 0.0, 0.0, 0.0], [1.0, 1.0, 1.0, 1.0, 1.0, 1.0, 1.0, 1.0, 1.0, 1.0, 1.0, 1.0, 1.0, 1.0, 1.0, 1.0, 1.0, 1.0, 1.0, 1.0, 1.0, 1.0, 1.0, 1.0, 1.0, 1.0, 1.0, 1.0, 1.0, 1.0, 1.0, 1.0, 1.0, 1.0, 1.0, 1.0, 1.0, 1.0, 1.0, 1.0, 1.0, 1.0, 1.0, 1.0, 1.0, 1.0, 1.0, 1.0, 1.0, 1.0, 1.0, 1.0, 1.0, 1.0, 1.0, 1.0, 1.0, 1.0, 1.0, 1.0, 1.0, 1.0, 1.0, 1.0, 1.0, 1.0, 1.0, 1.0, 1.0, 1.0, 1.0, 0.0, 0.0, 0.0, 0.0], [1.0, 1.0, 1.0, 1.0, 1.0, 1.0, 1.0, 1.0, 1.0, 1.0, 1.0, 1.0, 1.0, 1.0, 1.0, 1.0, 1.0, 1.0, 1.0, 1.0, 1.0, 1.0, 1.0, 1.0, 1.0, 1.0, 1.0, 1.0, 1.0, 1.0, 1.0, 1.0, 1.0, 0.0, 0.0, 0.0, 0.0, 0.0, 0.0, 0.0, 0.0, 0.0, 0.0, 0.0, 0.0, 0.0, 0.0, 0.0, 0.0, 0.0, 0.0, 0.0, 0.0, 0.0, 0.0, 0.0, 0.0, 0.0, 0.0, 0.0, 0.0, 0.0, 0.0, 0.0, 0.0, 0.0, 0.0, 0.0, 0.0, 0.0, 0.0, 0.0, 0.0, 0.0, 0.0], [1.0, 1.0, 1.0, 1.0, 1.0, 1.0, 1.0, 1.0, 1.0, 1.0, 1.0, 1.0, 1.0, 1.0, 1.0, 1.0, 1.0, 1.0, 1.0, 1.0, 1.0, 1.0, 1.0, 1.0, 1.0, 1.0, 1.0, 1.0, 1.0, 1.0, 1.0, 1.0, 1.0, 1.0, 1.0, 1.0, 1.0, 1.0, 1.0, 1.0, 1.0, 1.0, 1.0, 1.0, 1.0, 1.0, 1.0, 1.0, 1.0, 1.0, 1.0, 1.0, 1.0, 1.0, 1.0, 1.0, 1.0, 1.0, 1.0, 1.0, 1.0, 1.0, 0.0, 0.0, 0.0, 0.0, 0.0, 0.0, 0.0, 0.0, 0.0, 0.0, 0.0, 0.0, 0.0], [1.0, 1.0, 1.0, 1.0, 1.0, 1.0, 1.0, 1.0, 1.0, 1.0, 1.0, 1.0, 1.0, 1.0, 1.0, 1.0, 1.0, 1.0, 1.0, 1.0, 1.0, 1.0, 1.0, 1.0, 1.0, 1.0, 1.0, 1.0, 1.0, 1.0, 1.0, 1.0, 1.0, 1.0, 1.0, 1.0, 1.0, 1.0, 1.0, 1.0, 1.0, 1.0, 1.0, 1.0, 1.0, 1.0, 1.0, 0.0, 0.0, 0.0, 0.0, 0.0, 0.0, 0.0, 0.0, 0.0, 0.0, 0.0, 0.0, 0.0, 0.0, 0.0, 0.0, 0.0, 0.0, 0.0, 0.0, 0.0, 0.0, 0.0, 0.0, 0.0, 0.0, 0.0, 0.0], [1.0, 1.0, 1.0, 1.0, 1.0, 1.0, 1.0, 1.0, 1.0, 1.0, 1.0, 1.0, 1.0, 1.0, 1.0, 1.0, 1.0, 1.0, 1.0, 1.0, 1.0, 1.0, 1.0, 1.0, 1.0, 1.0, 1.0, 1.0, 1.0, 0.0, 0.0, 0.0, 0.0, 0.0, 0.0, 0.0, 0.0, 0.0, 0.0, 0.0, 0.0, 0.0, 0.0, 0.0, 0.0, 0.0, 0.0, 0.0, 0.0, 0.0, 0.0, 0.0, 0.0, 0.0, 0.0, 0.0, 0.0, 0.0, 0.0, 0.0, 0.0, 0.0, 0.0, 0.0, 0.0, 0.0, 0.0, 0.0, 0.0, 0.0, 0.0, 0.0, 0.0, 0.0, 0.0], [1.0, 1.0, 1.0, 1.0, 1.0, 1.0, 1.0, 1.0, 1.0, 1.0, 1.0, 1.0, 1.0, 1.0, 1.0, 1.0, 1.0, 1.0, 1.0, 1.0, 1.0, 1.0, 1.0, 1.0, 1.0, 1.0, 1.0, 1.0, 1.0, 1.0, 1.0, 1.0, 1.0, 1.0, 1.0, 1.0, 1.0, 1.0, 0.0, 0.0, 0.0, 0.0, 0.0, 0.0, 0.0, 0.0, 0.0, 0.0, 0.0, 0.0, 0.0, 0.0, 0.0, 0.0, 0.0, 0.0, 0.0, 0.0, 0.0, 0.0, 0.0, 0.0, 0.0, 0.0, 0.0, 0.0, 0.0, 0.0, 0.0, 0.0, 0.0, 0.0, 0.0, 0.0, 0.0], [1.0, 1.0, 1.0, 1.0, 1.0, 1.0, 1.0, 1.0, 1.0, 1.0, 1.0, 1.0, 1.0, 1.0, 1.0, 1.0, 1.0, 1.0, 1.0, 1.0, 1.0, 1.0, 1.0, 1.0, 1.0, 1.0, 1.0, 1.0, 1.0, 1.0, 1.0, 1.0, 1.0, 1.0, 1.0, 1.0, 1.0, 1.0, 1.0, 0.0, 0.0, 0.0, 0.0, 0.0, 0.0, 0.0, 0.0, 0.0, 0.0, 0.0, 0.0, 0.0, 0.0, 0.0, 0.0, 0.0, 0.0, 0.0, 0.0, 0.0, 0.0, 0.0, 0.0, 0.0, 0.0, 0.0, 0.0, 0.0, 0.0, 0.0, 0.0, 0.0, 0.0, 0.0, 0.0], [1.0, 1.0, 1.0, 1.0, 1.0, 1.0, 1.0, 1.0, 1.0, 1.0, 1.0, 1.0, 1.0, 1.0, 1.0, 1.0, 1.0, 1.0, 1.0, 1.0, 1.0, 1.0, 1.0, 1.0, 1.0, 1.0, 1.0, 1.0, 1.0, 0.0, 0.0, 0.0, 0.0, 0.0, 0.0, 0.0, 0.0, 0.0, 0.0, 0.0, 0.0, 0.0, 0.0, 0.0, 0.0, 0.0, 0.0, 0.0, 0.0, 0.0, 0.0, 0.0, 0.0, 0.0, 0.0, 0.0, 0.0, 0.0, 0.0, 0.0, 0.0, 0.0, 0.0, 0.0, 0.0, 0.0, 0.0, 0.0, 0.0, 0.0, 0.0, 0.0, 0.0, 0.0, 0.0], [1.0, 1.0, 1.0, 1.0, 1.0, 1.0, 1.0, 1.0, 1.0, 1.0, 1.0, 1.0, 1.0, 1.0, 1.0, 1.0, 1.0, 1.0, 1.0, 1.0, 1.0, 1.0, 1.0, 1.0, 1.0, 1.0, 1.0, 1.0, 1.0, 1.0, 1.0, 1.0, 1.0, 1.0, 1.0, 1.0, 0.0, 0.0, 0.0, 0.0, 0.0, 0.0, 0.0, 0.0, 0.0, 0.0, 0.0, 0.0, 0.0, 0.0, 0.0, 0.0, 0.0, 0.0, 0.0, 0.0, 0.0, 0.0, 0.0, 0.0, 0.0, 0.0, 0.0, 0.0, 0.0, 0.0, 0.0, 0.0, 0.0, 0.0, 0.0, 0.0, 0.0, 0.0, 0.0], [1.0, 1.0, 1.0, 1.0, 1.0, 1.0, 1.0, 1.0, 1.0, 1.0, 1.0, 1.0, 1.0, 1.0, 1.0, 1.0, 1.0, 1.0, 1.0, 1.0, 1.0, 1.0, 1.0, 1.0, 1.0, 1.0, 1.0, 1.0, 1.0, 1.0, 1.0, 1.0, 1.0, 1.0, 1.0, 1.0, 1.0, 0.0, 0.0, 0.0, 0.0, 0.0, 0.0, 0.0, 0.0, 0.0, 0.0, 0.0, 0.0, 0.0, 0.0, 0.0, 0.0, 0.0, 0.0, 0.0, 0.0, 0.0, 0.0, 0.0, 0.0, 0.0, 0.0, 0.0, 0.0, 0.0, 0.0, 0.0, 0.0, 0.0, 0.0, 0.0, 0.0, 0.0, 0.0], [1.0, 1.0, 1.0, 1.0, 1.0, 1.0, 1.0, 1.0, 1.0, 1.0, 1.0, 1.0, 1.0, 1.0, 1.0, 1.0, 1.0, 1.0, 1.0, 1.0, 1.0, 1.0, 1.0, 1.0, 1.0, 1.0, 1.0, 1.0, 1.0, 1.0, 1.0, 1.0, 1.0, 1.0, 1.0, 1.0, 1.0, 1.0, 1.0, 1.0, 1.0, 1.0, 1.0, 1.0, 1.0, 1.0, 0.0, 0.0, 0.0, 0.0, 0.0, 0.0, 0.0, 0.0, 0.0, 0.0, 0.0, 0.0, 0.0, 0.0, 0.0, 0.0, 0.0, 0.0, 0.0, 0.0, 0.0, 0.0, 0.0, 0.0, 0.0, 0.0, 0.0, 0.0, 0.0], [1.0, 1.0, 1.0, 1.0, 1.0, 1.0, 1.0, 1.0, 1.0, 1.0, 1.0, 1.0, 1.0, 1.0, 1.0, 1.0, 1.0, 1.0, 1.0, 1.0, 1.0, 1.0, 1.0, 1.0, 1.0, 1.0, 1.0, 1.0, 1.0, 1.0, 1.0, 1.0, 0.0, 0.0, 0.0, 0.0, 0.0, 0.0, 0.0, 0.0, 0.0, 0.0, 0.0, 0.0, 0.0, 0.0, 0.0, 0.0, 0.0, 0.0, 0.0, 0.0, 0.0, 0.0, 0.0, 0.0, 0.0, 0.0, 0.0, 0.0, 0.0, 0.0, 0.0, 0.0, 0.0, 0.0, 0.0, 0.0, 0.0, 0.0, 0.0, 0.0, 0.0, 0.0, 0.0], [1.0, 1.0, 1.0, 1.0, 1.0, 1.0, 1.0, 1.0, 1.0, 1.0, 1.0, 1.0, 1.0, 1.0, 1.0, 1.0, 1.0, 1.0, 1.0, 1.0, 1.0, 1.0, 1.0, 1.0, 1.0, 1.0, 1.0, 0.0, 0.0, 0.0, 0.0, 0.0, 0.0, 0.0, 0.0, 0.0, 0.0, 0.0, 0.0, 0.0, 0.0, 0.0, 0.0, 0.0, 0.0, 0.0, 0.0, 0.0, 0.0, 0.0, 0.0, 0.0, 0.0, 0.0, 0.0, 0.0, 0.0, 0.0, 0.0, 0.0, 0.0, 0.0, 0.0, 0.0, 0.0, 0.0, 0.0, 0.0, 0.0, 0.0, 0.0, 0.0, 0.0, 0.0, 0.0], [1.0, 1.0, 1.0, 1.0, 1.0, 1.0, 1.0, 1.0, 1.0, 1.0, 1.0, 1.0, 1.0, 1.0, 1.0, 1.0, 1.0, 1.0, 1.0, 1.0, 1.0, 1.0, 1.0, 1.0, 1.0, 1.0, 1.0, 0.0, 0.0, 0.0, 0.0, 0.0, 0.0, 0.0, 0.0, 0.0, 0.0, 0.0, 0.0, 0.0, 0.0, 0.0, 0.0, 0.0, 0.0, 0.0, 0.0, 0.0, 0.0, 0.0, 0.0, 0.0, 0.0, 0.0, 0.0, 0.0, 0.0, 0.0, 0.0, 0.0, 0.0, 0.0, 0.0, 0.0, 0.0, 0.0, 0.0, 0.0, 0.0, 0.0, 0.0, 0.0, 0.0, 0.0, 0.0], [1.0, 1.0, 1.0, 1.0, 1.0, 1.0, 1.0, 1.0, 1.0, 1.0, 1.0, 1.0, 1.0, 1.0, 1.0, 1.0, 1.0, 1.0, 1.0, 1.0, 1.0, 1.0, 1.0, 1.0, 1.0, 1.0, 1.0, 1.0, 1.0, 1.0, 1.0, 1.0, 1.0, 1.0, 1.0, 1.0, 0.0, 0.0, 0.0, 0.0, 0.0, 0.0, 0.0, 0.0, 0.0, 0.0, 0.0, 0.0, 0.0, 0.0, 0.0, 0.0, 0.0, 0.0, 0.0, 0.0, 0.0, 0.0, 0.0, 0.0, 0.0, 0.0, 0.0, 0.0, 0.0, 0.0, 0.0, 0.0, 0.0, 0.0, 0.0, 0.0, 0.0, 0.0, 0.0], [1.0, 1.0, 1.0, 1.0, 1.0, 1.0, 1.0, 1.0, 1.0, 1.0, 1.0, 1.0, 1.0, 1.0, 1.0, 1.0, 1.0, 1.0, 1.0, 1.0, 1.0, 1.0, 1.0, 1.0, 1.0, 1.0, 1.0, 1.0, 1.0, 1.0, 1.0, 1.0, 1.0, 1.0, 1.0, 1.0, 1.0, 1.0, 1.0, 1.0, 1.0, 1.0, 1.0, 1.0, 1.0, 1.0, 1.0, 1.0, 1.0, 1.0, 0.0, 0.0, 0.0, 0.0, 0.0, 0.0, 0.0, 0.0, 0.0, 0.0, 0.0, 0.0, 0.0, 0.0, 0.0, 0.0, 0.0, 0.0, 0.0, 0.0, 0.0, 0.0, 0.0, 0.0, 0.0], [1.0, 1.0, 1.0, 1.0, 1.0, 1.0, 1.0, 1.0, 1.0, 1.0, 1.0, 1.0, 1.0, 1.0, 1.0, 1.0, 1.0, 1.0, 1.0, 1.0, 1.0, 1.0, 1.0, 1.0, 1.0, 1.0, 0.0, 0.0, 0.0, 0.0, 0.0, 0.0, 0.0, 0.0, 0.0, 0.0, 0.0, 0.0, 0.0, 0.0, 0.0, 0.0, 0.0, 0.0, 0.0, 0.0, 0.0, 0.0, 0.0, 0.0, 0.0, 0.0, 0.0, 0.0, 0.0, 0.0, 0.0, 0.0, 0.0, 0.0, 0.0, 0.0, 0.0, 0.0, 0.0, 0.0, 0.0, 0.0, 0.0, 0.0, 0.0, 0.0, 0.0, 0.0, 0.0], [1.0, 1.0, 1.0, 1.0, 1.0, 1.0, 1.0, 1.0, 1.0, 1.0, 1.0, 1.0, 1.0, 1.0, 1.0, 1.0, 1.0, 1.0, 1.0, 1.0, 1.0, 1.0, 1.0, 1.0, 1.0, 1.0, 0.0, 0.0, 0.0, 0.0, 0.0, 0.0, 0.0, 0.0, 0.0, 0.0, 0.0, 0.0, 0.0, 0.0, 0.0, 0.0, 0.0, 0.0, 0.0, 0.0, 0.0, 0.0, 0.0, 0.0, 0.0, 0.0, 0.0, 0.0, 0.0, 0.0, 0.0, 0.0, 0.0, 0.0, 0.0, 0.0, 0.0, 0.0, 0.0, 0.0, 0.0, 0.0, 0.0, 0.0, 0.0, 0.0, 0.0, 0.0, 0.0], [1.0, 1.0, 1.0, 1.0, 1.0, 1.0, 1.0, 1.0, 1.0, 1.0, 1.0, 1.0, 1.0, 1.0, 1.0, 1.0, 1.0, 1.0, 1.0, 1.0, 1.0, 1.0, 1.0, 1.0, 1.0, 1.0, 1.0, 1.0, 1.0, 1.0, 1.0, 1.0, 1.0, 1.0, 1.0, 1.0, 1.0, 1.0, 1.0, 1.0, 1.0, 1.0, 1.0, 1.0, 1.0, 1.0, 1.0, 1.0, 1.0, 1.0, 1.0, 1.0, 1.0, 1.0, 1.0, 1.0, 1.0, 1.0, 1.0, 1.0, 1.0, 1.0, 1.0, 1.0, 0.0, 0.0, 0.0, 0.0, 0.0, 0.0, 0.0, 0.0, 0.0, 0.0, 0.0], [1.0, 1.0, 1.0, 1.0, 1.0, 1.0, 1.0, 1.0, 1.0, 1.0, 1.0, 1.0, 1.0, 1.0, 1.0, 1.0, 1.0, 1.0, 1.0, 0.0, 0.0, 0.0, 0.0, 0.0, 0.0, 0.0, 0.0, 0.0, 0.0, 0.0, 0.0, 0.0, 0.0, 0.0, 0.0, 0.0, 0.0, 0.0, 0.0, 0.0, 0.0, 0.0, 0.0, 0.0, 0.0, 0.0, 0.0, 0.0, 0.0, 0.0, 0.0, 0.0, 0.0, 0.0, 0.0, 0.0, 0.0, 0.0, 0.0, 0.0, 0.0, 0.0, 0.0, 0.0, 0.0, 0.0, 0.0, 0.0, 0.0, 0.0, 0.0, 0.0, 0.0, 0.0, 0.0], [1.0, 1.0, 1.0, 1.0, 1.0, 1.0, 1.0, 1.0, 1.0, 1.0, 1.0, 1.0, 1.0, 1.0, 1.0, 1.0, 1.0, 1.0, 1.0, 1.0, 1.0, 1.0, 1.0, 1.0, 1.0, 1.0, 1.0, 1.0, 1.0, 1.0, 1.0, 1.0, 1.0, 1.0, 0.0, 0.0, 0.0, 0.0, 0.0, 0.0, 0.0, 0.0, 0.0, 0.0, 0.0, 0.0, 0.0, 0.0, 0.0, 0.0, 0.0, 0.0, 0.0, 0.0, 0.0, 0.0, 0.0, 0.0, 0.0, 0.0, 0.0, 0.0, 0.0, 0.0, 0.0, 0.0, 0.0, 0.0, 0.0, 0.0, 0.0, 0.0, 0.0, 0.0, 0.0], [1.0, 1.0, 1.0, 1.0, 1.0, 1.0, 1.0, 1.0, 1.0, 1.0, 1.0, 1.0, 1.0, 1.0, 1.0, 1.0, 1.0, 1.0, 1.0, 1.0, 1.0, 1.0, 1.0, 1.0, 1.0, 1.0, 1.0, 1.0, 1.0, 1.0, 1.0, 1.0, 1.0, 1.0, 0.0, 0.0, 0.0, 0.0, 0.0, 0.0, 0.0, 0.0, 0.0, 0.0, 0.0, 0.0, 0.0, 0.0, 0.0, 0.0, 0.0, 0.0, 0.0, 0.0, 0.0, 0.0, 0.0, 0.0, 0.0, 0.0, 0.0, 0.0, 0.0, 0.0, 0.0, 0.0, 0.0, 0.0, 0.0, 0.0, 0.0, 0.0, 0.0, 0.0, 0.0], [1.0, 1.0, 1.0, 1.0, 1.0, 1.0, 1.0, 1.0, 1.0, 1.0, 1.0, 1.0, 1.0, 1.0, 1.0, 1.0, 1.0, 1.0, 1.0, 1.0, 1.0, 1.0, 1.0, 1.0, 1.0, 1.0, 1.0, 1.0, 0.0, 0.0, 0.0, 0.0, 0.0, 0.0, 0.0, 0.0, 0.0, 0.0, 0.0, 0.0, 0.0, 0.0, 0.0, 0.0, 0.0, 0.0, 0.0, 0.0, 0.0, 0.0, 0.0, 0.0, 0.0, 0.0, 0.0, 0.0, 0.0, 0.0, 0.0, 0.0, 0.0, 0.0, 0.0, 0.0, 0.0, 0.0, 0.0, 0.0, 0.0, 0.0, 0.0, 0.0, 0.0, 0.0, 0.0], [1.0, 1.0, 1.0, 1.0, 1.0, 1.0, 1.0, 1.0, 1.0, 1.0, 1.0, 1.0, 1.0, 1.0, 1.0, 1.0, 1.0, 1.0, 1.0, 1.0, 1.0, 1.0, 1.0, 1.0, 1.0, 1.0, 1.0, 1.0, 1.0, 1.0, 1.0, 1.0, 1.0, 1.0, 1.0, 1.0, 1.0, 1.0, 1.0, 1.0, 1.0, 1.0, 1.0, 1.0, 1.0, 1.0, 1.0, 1.0, 1.0, 1.0, 0.0, 0.0, 0.0, 0.0, 0.0, 0.0, 0.0, 0.0, 0.0, 0.0, 0.0, 0.0, 0.0, 0.0, 0.0, 0.0, 0.0, 0.0, 0.0, 0.0, 0.0, 0.0, 0.0, 0.0, 0.0], [1.0, 1.0, 1.0, 1.0, 1.0, 1.0, 1.0, 1.0, 1.0, 1.0, 1.0, 1.0, 1.0, 1.0, 1.0, 1.0, 1.0, 1.0, 1.0, 1.0, 1.0, 1.0, 1.0, 1.0, 1.0, 1.0, 1.0, 1.0, 1.0, 1.0, 1.0, 1.0, 1.0, 1.0, 1.0, 1.0, 1.0, 1.0, 1.0, 1.0, 1.0, 1.0, 1.0, 1.0, 1.0, 1.0, 1.0, 1.0, 1.0, 1.0, 1.0, 1.0, 1.0, 1.0, 1.0, 1.0, 1.0, 1.0, 1.0, 1.0, 1.0, 1.0, 1.0, 1.0, 1.0, 1.0, 1.0, 1.0, 1.0, 1.0, 1.0, 1.0, 1.0, 1.0, 1.0], [1.0, 1.0, 1.0, 1.0, 1.0, 1.0, 1.0, 1.0, 1.0, 1.0, 1.0, 1.0, 1.0, 1.0, 1.0, 1.0, 1.0, 1.0, 1.0, 1.0, 1.0, 0.0, 0.0, 0.0, 0.0, 0.0, 0.0, 0.0, 0.0, 0.0, 0.0, 0.0, 0.0, 0.0, 0.0, 0.0, 0.0, 0.0, 0.0, 0.0, 0.0, 0.0, 0.0, 0.0, 0.0, 0.0, 0.0, 0.0, 0.0, 0.0, 0.0, 0.0, 0.0, 0.0, 0.0, 0.0, 0.0, 0.0, 0.0, 0.0, 0.0, 0.0, 0.0, 0.0, 0.0, 0.0, 0.0, 0.0, 0.0, 0.0, 0.0, 0.0, 0.0, 0.0, 0.0], [1.0, 1.0, 1.0, 1.0, 1.0, 1.0, 1.0, 1.0, 1.0, 1.0, 1.0, 1.0, 1.0, 1.0, 1.0, 1.0, 1.0, 1.0, 1.0, 1.0, 1.0, 1.0, 1.0, 1.0, 1.0, 1.0, 1.0, 1.0, 1.0, 1.0, 1.0, 1.0, 1.0, 1.0, 1.0, 1.0, 0.0, 0.0, 0.0, 0.0, 0.0, 0.0, 0.0, 0.0, 0.0, 0.0, 0.0, 0.0, 0.0, 0.0, 0.0, 0.0, 0.0, 0.0, 0.0, 0.0, 0.0, 0.0, 0.0, 0.0, 0.0, 0.0, 0.0, 0.0, 0.0, 0.0, 0.0, 0.0, 0.0, 0.0, 0.0, 0.0, 0.0, 0.0, 0.0], [1.0, 1.0, 1.0, 1.0, 1.0, 1.0, 1.0, 1.0, 1.0, 1.0, 1.0, 1.0, 1.0, 1.0, 0.0, 0.0, 0.0, 0.0, 0.0, 0.0, 0.0, 0.0, 0.0, 0.0, 0.0, 0.0, 0.0, 0.0, 0.0, 0.0, 0.0, 0.0, 0.0, 0.0, 0.0, 0.0, 0.0, 0.0, 0.0, 0.0, 0.0, 0.0, 0.0, 0.0, 0.0, 0.0, 0.0, 0.0, 0.0, 0.0, 0.0, 0.0, 0.0, 0.0, 0.0, 0.0, 0.0, 0.0, 0.0, 0.0, 0.0, 0.0, 0.0, 0.0, 0.0, 0.0, 0.0, 0.0, 0.0, 0.0, 0.0, 0.0, 0.0, 0.0, 0.0], [1.0, 1.0, 1.0, 1.0, 1.0, 1.0, 1.0, 1.0, 1.0, 1.0, 1.0, 1.0, 1.0, 1.0, 0.0, 0.0, 0.0, 0.0, 0.0, 0.0, 0.0, 0.0, 0.0, 0.0, 0.0, 0.0, 0.0, 0.0, 0.0, 0.0, 0.0, 0.0, 0.0, 0.0, 0.0, 0.0, 0.0, 0.0, 0.0, 0.0, 0.0, 0.0, 0.0, 0.0, 0.0, 0.0, 0.0, 0.0, 0.0, 0.0, 0.0, 0.0, 0.0, 0.0, 0.0, 0.0, 0.0, 0.0, 0.0, 0.0, 0.0, 0.0, 0.0, 0.0, 0.0, 0.0, 0.0, 0.0, 0.0, 0.0, 0.0, 0.0, 0.0, 0.0, 0.0], [1.0, 1.0, 1.0, 1.0, 1.0, 1.0, 1.0, 1.0, 1.0, 1.0, 1.0, 1.0, 1.0, 1.0, 1.0, 1.0, 1.0, 1.0, 1.0, 1.0, 1.0, 1.0, 1.0, 1.0, 1.0, 1.0, 1.0, 1.0, 1.0, 1.0, 1.0, 1.0, 1.0, 1.0, 0.0, 0.0, 0.0, 0.0, 0.0, 0.0, 0.0, 0.0, 0.0, 0.0, 0.0, 0.0, 0.0, 0.0, 0.0, 0.0, 0.0, 0.0, 0.0, 0.0, 0.0, 0.0, 0.0, 0.0, 0.0, 0.0, 0.0, 0.0, 0.0, 0.0, 0.0, 0.0, 0.0, 0.0, 0.0, 0.0, 0.0, 0.0, 0.0, 0.0, 0.0], [1.0, 1.0, 1.0, 1.0, 1.0, 1.0, 1.0, 1.0, 1.0, 1.0, 1.0, 1.0, 1.0, 1.0, 1.0, 1.0, 1.0, 1.0, 1.0, 1.0, 1.0, 1.0, 1.0, 1.0, 1.0, 1.0, 0.0, 0.0, 0.0, 0.0, 0.0, 0.0, 0.0, 0.0, 0.0, 0.0, 0.0, 0.0, 0.0, 0.0, 0.0, 0.0, 0.0, 0.0, 0.0, 0.0, 0.0, 0.0, 0.0, 0.0, 0.0, 0.0, 0.0, 0.0, 0.0, 0.0, 0.0, 0.0, 0.0, 0.0, 0.0, 0.0, 0.0, 0.0, 0.0, 0.0, 0.0, 0.0, 0.0, 0.0, 0.0, 0.0, 0.0, 0.0, 0.0], [1.0, 1.0, 1.0, 1.0, 1.0, 1.0, 1.0, 1.0, 1.0, 1.0, 1.0, 1.0, 1.0, 1.0, 1.0, 1.0, 1.0, 1.0, 1.0, 1.0, 1.0, 1.0, 1.0, 1.0, 1.0, 1.0, 1.0, 1.0, 1.0, 1.0, 1.0, 1.0, 1.0, 1.0, 1.0, 1.0, 1.0, 1.0, 1.0, 1.0, 1.0, 1.0, 1.0, 1.0, 1.0, 1.0, 1.0, 1.0, 1.0, 1.0, 1.0, 1.0, 1.0, 1.0, 1.0, 1.0, 1.0, 1.0, 1.0, 1.0, 1.0, 1.0, 0.0, 0.0, 0.0, 0.0, 0.0, 0.0, 0.0, 0.0, 0.0, 0.0, 0.0, 0.0, 0.0], [1.0, 1.0, 1.0, 1.0, 1.0, 1.0, 1.0, 1.0, 1.0, 1.0, 1.0, 1.0, 1.0, 1.0, 1.0, 1.0, 1.0, 1.0, 1.0, 1.0, 1.0, 1.0, 1.0, 1.0, 1.0, 1.0, 1.0, 1.0, 1.0, 1.0, 1.0, 1.0, 1.0, 1.0, 1.0, 1.0, 1.0, 1.0, 0.0, 0.0, 0.0, 0.0, 0.0, 0.0, 0.0, 0.0, 0.0, 0.0, 0.0, 0.0, 0.0, 0.0, 0.0, 0.0, 0.0, 0.0, 0.0, 0.0, 0.0, 0.0, 0.0, 0.0, 0.0, 0.0, 0.0, 0.0, 0.0, 0.0, 0.0, 0.0, 0.0, 0.0, 0.0, 0.0, 0.0], [1.0, 1.0, 1.0, 1.0, 1.0, 1.0, 1.0, 1.0, 1.0, 1.0, 1.0, 1.0, 1.0, 1.0, 1.0, 1.0, 1.0, 1.0, 1.0, 0.0, 0.0, 0.0, 0.0, 0.0, 0.0, 0.0, 0.0, 0.0, 0.0, 0.0, 0.0, 0.0, 0.0, 0.0, 0.0, 0.0, 0.0, 0.0, 0.0, 0.0, 0.0, 0.0, 0.0, 0.0, 0.0, 0.0, 0.0, 0.0, 0.0, 0.0, 0.0, 0.0, 0.0, 0.0, 0.0, 0.0, 0.0, 0.0, 0.0, 0.0, 0.0, 0.0, 0.0, 0.0, 0.0, 0.0, 0.0, 0.0, 0.0, 0.0, 0.0, 0.0, 0.0, 0.0, 0.0], [1.0, 1.0, 1.0, 1.0, 1.0, 1.0, 1.0, 1.0, 1.0, 1.0, 1.0, 1.0, 1.0, 1.0, 1.0, 1.0, 1.0, 1.0, 1.0, 1.0, 1.0, 1.0, 1.0, 1.0, 1.0, 1.0, 1.0, 1.0, 1.0, 1.0, 1.0, 1.0, 1.0, 1.0, 1.0, 1.0, 1.0, 1.0, 1.0, 1.0, 1.0, 1.0, 1.0, 1.0, 1.0, 1.0, 1.0, 1.0, 1.0, 1.0, 1.0, 1.0, 1.0, 1.0, 1.0, 1.0, 1.0, 1.0, 1.0, 1.0, 1.0, 1.0, 1.0, 1.0, 0.0, 0.0, 0.0, 0.0, 0.0, 0.0, 0.0, 0.0, 0.0, 0.0, 0.0], [1.0, 1.0, 1.0, 1.0, 1.0, 1.0, 1.0, 1.0, 1.0, 1.0, 1.0, 1.0, 1.0, 1.0, 1.0, 1.0, 1.0, 1.0, 1.0, 1.0, 1.0, 1.0, 0.0, 0.0, 0.0, 0.0, 0.0, 0.0, 0.0, 0.0, 0.0, 0.0, 0.0, 0.0, 0.0, 0.0, 0.0, 0.0, 0.0, 0.0, 0.0, 0.0, 0.0, 0.0, 0.0, 0.0, 0.0, 0.0, 0.0, 0.0, 0.0, 0.0, 0.0, 0.0, 0.0, 0.0, 0.0, 0.0, 0.0, 0.0, 0.0, 0.0, 0.0, 0.0, 0.0, 0.0, 0.0, 0.0, 0.0, 0.0, 0.0, 0.0, 0.0, 0.0, 0.0], [1.0, 1.0, 1.0, 1.0, 1.0, 1.0, 1.0, 1.0, 1.0, 1.0, 1.0, 1.0, 1.0, 1.0, 1.0, 1.0, 1.0, 1.0, 1.0, 1.0, 1.0, 0.0, 0.0, 0.0, 0.0, 0.0, 0.0, 0.0, 0.0, 0.0, 0.0, 0.0, 0.0, 0.0, 0.0, 0.0, 0.0, 0.0, 0.0, 0.0, 0.0, 0.0, 0.0, 0.0, 0.0, 0.0, 0.0, 0.0, 0.0, 0.0, 0.0, 0.0, 0.0, 0.0, 0.0, 0.0, 0.0, 0.0, 0.0, 0.0, 0.0, 0.0, 0.0, 0.0, 0.0, 0.0, 0.0, 0.0, 0.0, 0.0, 0.0, 0.0, 0.0, 0.0, 0.0], [1.0, 1.0, 1.0, 1.0, 1.0, 1.0, 1.0, 1.0, 1.0, 1.0, 1.0, 1.0, 1.0, 1.0, 1.0, 1.0, 1.0, 1.0, 1.0, 0.0, 0.0, 0.0, 0.0, 0.0, 0.0, 0.0, 0.0, 0.0, 0.0, 0.0, 0.0, 0.0, 0.0, 0.0, 0.0, 0.0, 0.0, 0.0, 0.0, 0.0, 0.0, 0.0, 0.0, 0.0, 0.0, 0.0, 0.0, 0.0, 0.0, 0.0, 0.0, 0.0, 0.0, 0.0, 0.0, 0.0, 0.0, 0.0, 0.0, 0.0, 0.0, 0.0, 0.0, 0.0, 0.0, 0.0, 0.0, 0.0, 0.0, 0.0, 0.0, 0.0, 0.0, 0.0, 0.0], [1.0, 1.0, 1.0, 1.0, 1.0, 1.0, 1.0, 1.0, 1.0, 1.0, 1.0, 1.0, 1.0, 1.0, 1.0, 1.0, 1.0, 1.0, 1.0, 1.0, 1.0, 1.0, 1.0, 1.0, 1.0, 1.0, 1.0, 1.0, 1.0, 1.0, 1.0, 1.0, 1.0, 1.0, 1.0, 1.0, 1.0, 1.0, 1.0, 1.0, 1.0, 0.0, 0.0, 0.0, 0.0, 0.0, 0.0, 0.0, 0.0, 0.0, 0.0, 0.0, 0.0, 0.0, 0.0, 0.0, 0.0, 0.0, 0.0, 0.0, 0.0, 0.0, 0.0, 0.0, 0.0, 0.0, 0.0, 0.0, 0.0, 0.0, 0.0, 0.0, 0.0, 0.0, 0.0], [1.0, 1.0, 1.0, 1.0, 1.0, 1.0, 1.0, 1.0, 1.0, 1.0, 1.0, 1.0, 1.0, 0.0, 0.0, 0.0, 0.0, 0.0, 0.0, 0.0, 0.0, 0.0, 0.0, 0.0, 0.0, 0.0, 0.0, 0.0, 0.0, 0.0, 0.0, 0.0, 0.0, 0.0, 0.0, 0.0, 0.0, 0.0, 0.0, 0.0, 0.0, 0.0, 0.0, 0.0, 0.0, 0.0, 0.0, 0.0, 0.0, 0.0, 0.0, 0.0, 0.0, 0.0, 0.0, 0.0, 0.0, 0.0, 0.0, 0.0, 0.0, 0.0, 0.0, 0.0, 0.0, 0.0, 0.0, 0.0, 0.0, 0.0, 0.0, 0.0, 0.0, 0.0, 0.0], [1.0, 1.0, 1.0, 1.0, 1.0, 1.0, 1.0, 1.0, 1.0, 1.0, 1.0, 1.0, 1.0, 1.0, 1.0, 1.0, 0.0, 0.0, 0.0, 0.0, 0.0, 0.0, 0.0, 0.0, 0.0, 0.0, 0.0, 0.0, 0.0, 0.0, 0.0, 0.0, 0.0, 0.0, 0.0, 0.0, 0.0, 0.0, 0.0, 0.0, 0.0, 0.0, 0.0, 0.0, 0.0, 0.0, 0.0, 0.0, 0.0, 0.0, 0.0, 0.0, 0.0, 0.0, 0.0, 0.0, 0.0, 0.0, 0.0, 0.0, 0.0, 0.0, 0.0, 0.0, 0.0, 0.0, 0.0, 0.0, 0.0, 0.0, 0.0, 0.0, 0.0, 0.0, 0.0], [1.0, 1.0, 1.0, 1.0, 1.0, 1.0, 1.0, 1.0, 1.0, 1.0, 1.0, 1.0, 1.0, 1.0, 1.0, 1.0, 1.0, 1.0, 1.0, 1.0, 1.0, 1.0, 1.0, 1.0, 1.0, 1.0, 1.0, 1.0, 1.0, 1.0, 1.0, 1.0, 1.0, 1.0, 1.0, 1.0, 1.0, 1.0, 1.0, 1.0, 1.0, 1.0, 1.0, 1.0, 1.0, 1.0, 1.0, 1.0, 1.0, 1.0, 1.0, 1.0, 1.0, 1.0, 1.0, 1.0, 1.0, 1.0, 1.0, 1.0, 1.0, 1.0, 1.0, 1.0, 1.0, 1.0, 1.0, 1.0, 1.0, 1.0, 1.0, 1.0, 1.0, 1.0, 1.0], [1.0, 1.0, 1.0, 1.0, 1.0, 1.0, 1.0, 1.0, 1.0, 1.0, 1.0, 1.0, 1.0, 1.0, 1.0, 1.0, 1.0, 1.0, 1.0, 1.0, 1.0, 1.0, 1.0, 1.0, 1.0, 1.0, 1.0, 1.0, 1.0, 1.0, 1.0, 1.0, 1.0, 0.0, 0.0, 0.0, 0.0, 0.0, 0.0, 0.0, 0.0, 0.0, 0.0, 0.0, 0.0, 0.0, 0.0, 0.0, 0.0, 0.0, 0.0, 0.0, 0.0, 0.0, 0.0, 0.0, 0.0, 0.0, 0.0, 0.0, 0.0, 0.0, 0.0, 0.0, 0.0, 0.0, 0.0, 0.0, 0.0, 0.0, 0.0, 0.0, 0.0, 0.0, 0.0], [1.0, 1.0, 1.0, 1.0, 1.0, 1.0, 1.0, 1.0, 1.0, 1.0, 1.0, 1.0, 1.0, 1.0, 1.0, 1.0, 1.0, 1.0, 1.0, 1.0, 1.0, 1.0, 1.0, 1.0, 1.0, 1.0, 1.0, 1.0, 1.0, 1.0, 1.0, 1.0, 1.0, 1.0, 1.0, 1.0, 1.0, 1.0, 1.0, 1.0, 1.0, 1.0, 1.0, 1.0, 1.0, 1.0, 1.0, 1.0, 1.0, 1.0, 1.0, 1.0, 1.0, 1.0, 0.0, 0.0, 0.0, 0.0, 0.0, 0.0, 0.0, 0.0, 0.0, 0.0, 0.0, 0.0, 0.0, 0.0, 0.0, 0.0, 0.0, 0.0, 0.0, 0.0, 0.0], [1.0, 1.0, 1.0, 1.0, 1.0, 1.0, 1.0, 1.0, 1.0, 1.0, 1.0, 1.0, 1.0, 1.0, 1.0, 1.0, 1.0, 1.0, 1.0, 1.0, 1.0, 1.0, 1.0, 1.0, 1.0, 1.0, 1.0, 1.0, 1.0, 1.0, 1.0, 1.0, 1.0, 1.0, 1.0, 1.0, 1.0, 1.0, 1.0, 1.0, 0.0, 0.0, 0.0, 0.0, 0.0, 0.0, 0.0, 0.0, 0.0, 0.0, 0.0, 0.0, 0.0, 0.0, 0.0, 0.0, 0.0, 0.0, 0.0, 0.0, 0.0, 0.0, 0.0, 0.0, 0.0, 0.0, 0.0, 0.0, 0.0, 0.0, 0.0, 0.0, 0.0, 0.0, 0.0], [1.0, 1.0, 1.0, 1.0, 1.0, 1.0, 1.0, 1.0, 1.0, 1.0, 1.0, 1.0, 1.0, 1.0, 1.0, 1.0, 1.0, 1.0, 1.0, 1.0, 1.0, 1.0, 1.0, 1.0, 1.0, 1.0, 1.0, 1.0, 1.0, 1.0, 1.0, 1.0, 1.0, 1.0, 1.0, 1.0, 1.0, 1.0, 1.0, 1.0, 1.0, 1.0, 1.0, 1.0, 1.0, 1.0, 1.0, 1.0, 1.0, 1.0, 1.0, 0.0, 0.0, 0.0, 0.0, 0.0, 0.0, 0.0, 0.0, 0.0, 0.0, 0.0, 0.0, 0.0, 0.0, 0.0, 0.0, 0.0, 0.0, 0.0, 0.0, 0.0, 0.0, 0.0, 0.0], [1.0, 1.0, 1.0, 1.0, 1.0, 1.0, 1.0, 1.0, 1.0, 1.0, 1.0, 1.0, 1.0, 1.0, 1.0, 1.0, 1.0, 1.0, 1.0, 1.0, 1.0, 1.0, 1.0, 1.0, 1.0, 1.0, 1.0, 1.0, 1.0, 1.0, 1.0, 1.0, 1.0, 1.0, 1.0, 1.0, 1.0, 1.0, 1.0, 1.0, 1.0, 1.0, 1.0, 1.0, 1.0, 1.0, 1.0, 1.0, 1.0, 1.0, 1.0, 1.0, 1.0, 1.0, 1.0, 1.0, 1.0, 1.0, 0.0, 0.0, 0.0, 0.0, 0.0, 0.0, 0.0, 0.0, 0.0, 0.0, 0.0, 0.0, 0.0, 0.0, 0.0, 0.0, 0.0], [1.0, 1.0, 1.0, 1.0, 1.0, 1.0, 1.0, 1.0, 1.0, 1.0, 1.0, 1.0, 1.0, 1.0, 1.0, 1.0, 1.0, 1.0, 1.0, 1.0, 0.0, 0.0, 0.0, 0.0, 0.0, 0.0, 0.0, 0.0, 0.0, 0.0, 0.0, 0.0, 0.0, 0.0, 0.0, 0.0, 0.0, 0.0, 0.0, 0.0, 0.0, 0.0, 0.0, 0.0, 0.0, 0.0, 0.0, 0.0, 0.0, 0.0, 0.0, 0.0, 0.0, 0.0, 0.0, 0.0, 0.0, 0.0, 0.0, 0.0, 0.0, 0.0, 0.0, 0.0, 0.0, 0.0, 0.0, 0.0, 0.0, 0.0, 0.0, 0.0, 0.0, 0.0, 0.0], [1.0, 1.0, 1.0, 1.0, 1.0, 1.0, 1.0, 1.0, 1.0, 1.0, 1.0, 1.0, 1.0, 1.0, 1.0, 1.0, 1.0, 1.0, 0.0, 0.0, 0.0, 0.0, 0.0, 0.0, 0.0, 0.0, 0.0, 0.0, 0.0, 0.0, 0.0, 0.0, 0.0, 0.0, 0.0, 0.0, 0.0, 0.0, 0.0, 0.0, 0.0, 0.0, 0.0, 0.0, 0.0, 0.0, 0.0, 0.0, 0.0, 0.0, 0.0, 0.0, 0.0, 0.0, 0.0, 0.0, 0.0, 0.0, 0.0, 0.0, 0.0, 0.0, 0.0, 0.0, 0.0, 0.0, 0.0, 0.0, 0.0, 0.0, 0.0, 0.0, 0.0, 0.0, 0.0], [1.0, 1.0, 1.0, 1.0, 1.0, 1.0, 1.0, 1.0, 1.0, 1.0, 1.0, 1.0, 1.0, 1.0, 1.0, 1.0, 1.0, 1.0, 1.0, 1.0, 1.0, 1.0, 1.0, 1.0, 1.0, 1.0, 1.0, 1.0, 1.0, 1.0, 1.0, 1.0, 1.0, 1.0, 1.0, 1.0, 1.0, 1.0, 1.0, 1.0, 1.0, 1.0, 1.0, 1.0, 1.0, 1.0, 1.0, 1.0, 1.0, 1.0, 1.0, 1.0, 1.0, 1.0, 1.0, 1.0, 1.0, 1.0, 1.0, 1.0, 1.0, 1.0, 1.0, 1.0, 1.0, 1.0, 1.0, 1.0, 1.0, 1.0, 1.0, 1.0, 1.0, 1.0, 1.0], [1.0, 1.0, 1.0, 1.0, 1.0, 1.0, 1.0, 1.0, 1.0, 1.0, 1.0, 1.0, 1.0, 1.0, 1.0, 1.0, 1.0, 1.0, 1.0, 1.0, 1.0, 1.0, 1.0, 1.0, 1.0, 1.0, 0.0, 0.0, 0.0, 0.0, 0.0, 0.0, 0.0, 0.0, 0.0, 0.0, 0.0, 0.0, 0.0, 0.0, 0.0, 0.0, 0.0, 0.0, 0.0, 0.0, 0.0, 0.0, 0.0, 0.0, 0.0, 0.0, 0.0, 0.0, 0.0, 0.0, 0.0, 0.0, 0.0, 0.0, 0.0, 0.0, 0.0, 0.0, 0.0, 0.0, 0.0, 0.0, 0.0, 0.0, 0.0, 0.0, 0.0, 0.0, 0.0], [1.0, 1.0, 1.0, 1.0, 1.0, 1.0, 1.0, 1.0, 1.0, 1.0, 1.0, 1.0, 1.0, 1.0, 0.0, 0.0, 0.0, 0.0, 0.0, 0.0, 0.0, 0.0, 0.0, 0.0, 0.0, 0.0, 0.0, 0.0, 0.0, 0.0, 0.0, 0.0, 0.0, 0.0, 0.0, 0.0, 0.0, 0.0, 0.0, 0.0, 0.0, 0.0, 0.0, 0.0, 0.0, 0.0, 0.0, 0.0, 0.0, 0.0, 0.0, 0.0, 0.0, 0.0, 0.0, 0.0, 0.0, 0.0, 0.0, 0.0, 0.0, 0.0, 0.0, 0.0, 0.0, 0.0, 0.0, 0.0, 0.0, 0.0, 0.0, 0.0, 0.0, 0.0, 0.0], [1.0, 1.0, 1.0, 1.0, 1.0, 1.0, 1.0, 1.0, 1.0, 1.0, 1.0, 1.0, 1.0, 1.0, 1.0, 1.0, 1.0, 1.0, 1.0, 1.0, 1.0, 1.0, 1.0, 1.0, 1.0, 1.0, 1.0, 1.0, 1.0, 1.0, 1.0, 1.0, 1.0, 1.0, 1.0, 1.0, 1.0, 1.0, 1.0, 1.0, 1.0, 1.0, 1.0, 1.0, 1.0, 1.0, 1.0, 1.0, 1.0, 1.0, 1.0, 1.0, 1.0, 1.0, 1.0, 1.0, 1.0, 1.0, 1.0, 1.0, 1.0, 1.0, 1.0, 1.0, 1.0, 1.0, 1.0, 1.0, 1.0, 1.0, 0.0, 0.0, 0.0, 0.0, 0.0], [1.0, 1.0, 1.0, 1.0, 1.0, 1.0, 1.0, 1.0, 1.0, 1.0, 1.0, 1.0, 1.0, 1.0, 1.0, 1.0, 1.0, 1.0, 1.0, 1.0, 1.0, 1.0, 1.0, 1.0, 1.0, 1.0, 1.0, 1.0, 1.0, 1.0, 1.0, 1.0, 1.0, 1.0, 1.0, 1.0, 1.0, 1.0, 1.0, 1.0, 1.0, 1.0, 1.0, 1.0, 1.0, 1.0, 1.0, 1.0, 1.0, 1.0, 1.0, 1.0, 1.0, 1.0, 1.0, 1.0, 1.0, 1.0, 1.0, 1.0, 1.0, 1.0, 1.0, 1.0, 1.0, 1.0, 1.0, 1.0, 1.0, 1.0, 1.0, 1.0, 1.0, 1.0, 1.0], [1.0, 1.0, 1.0, 1.0, 1.0, 1.0, 1.0, 1.0, 1.0, 1.0, 1.0, 1.0, 1.0, 1.0, 1.0, 1.0, 1.0, 1.0, 1.0, 1.0, 1.0, 1.0, 1.0, 1.0, 1.0, 1.0, 1.0, 1.0, 1.0, 1.0, 1.0, 1.0, 1.0, 1.0, 1.0, 0.0, 0.0, 0.0, 0.0, 0.0, 0.0, 0.0, 0.0, 0.0, 0.0, 0.0, 0.0, 0.0, 0.0, 0.0, 0.0, 0.0, 0.0, 0.0, 0.0, 0.0, 0.0, 0.0, 0.0, 0.0, 0.0, 0.0, 0.0, 0.0, 0.0, 0.0, 0.0, 0.0, 0.0, 0.0, 0.0, 0.0, 0.0, 0.0, 0.0], [1.0, 1.0, 1.0, 1.0, 1.0, 1.0, 1.0, 1.0, 1.0, 1.0, 1.0, 1.0, 1.0, 1.0, 1.0, 1.0, 1.0, 1.0, 1.0, 1.0, 1.0, 1.0, 1.0, 1.0, 1.0, 1.0, 1.0, 1.0, 1.0, 1.0, 1.0, 1.0, 1.0, 1.0, 1.0, 1.0, 1.0, 1.0, 1.0, 1.0, 1.0, 1.0, 0.0, 0.0, 0.0, 0.0, 0.0, 0.0, 0.0, 0.0, 0.0, 0.0, 0.0, 0.0, 0.0, 0.0, 0.0, 0.0, 0.0, 0.0, 0.0, 0.0, 0.0, 0.0, 0.0, 0.0, 0.0, 0.0, 0.0, 0.0, 0.0, 0.0, 0.0, 0.0, 0.0], [1.0, 1.0, 1.0, 1.0, 1.0, 1.0, 1.0, 1.0, 1.0, 1.0, 1.0, 1.0, 1.0, 1.0, 1.0, 1.0, 1.0, 1.0, 1.0, 1.0, 1.0, 1.0, 1.0, 1.0, 1.0, 1.0, 1.0, 1.0, 1.0, 1.0, 1.0, 1.0, 1.0, 1.0, 1.0, 1.0, 1.0, 1.0, 1.0, 1.0, 0.0, 0.0, 0.0, 0.0, 0.0, 0.0, 0.0, 0.0, 0.0, 0.0, 0.0, 0.0, 0.0, 0.0, 0.0, 0.0, 0.0, 0.0, 0.0, 0.0, 0.0, 0.0, 0.0, 0.0, 0.0, 0.0, 0.0, 0.0, 0.0, 0.0, 0.0, 0.0, 0.0, 0.0, 0.0], [1.0, 1.0, 1.0, 1.0, 1.0, 1.0, 1.0, 1.0, 1.0, 1.0, 1.0, 1.0, 1.0, 1.0, 1.0, 1.0, 1.0, 1.0, 1.0, 1.0, 1.0, 1.0, 1.0, 1.0, 1.0, 1.0, 1.0, 1.0, 1.0, 1.0, 1.0, 0.0, 0.0, 0.0, 0.0, 0.0, 0.0, 0.0, 0.0, 0.0, 0.0, 0.0, 0.0, 0.0, 0.0, 0.0, 0.0, 0.0, 0.0, 0.0, 0.0, 0.0, 0.0, 0.0, 0.0, 0.0, 0.0, 0.0, 0.0, 0.0, 0.0, 0.0, 0.0, 0.0, 0.0, 0.0, 0.0, 0.0, 0.0, 0.0, 0.0, 0.0, 0.0, 0.0, 0.0], [1.0, 1.0, 1.0, 1.0, 1.0, 1.0, 1.0, 1.0, 1.0, 1.0, 1.0, 1.0, 1.0, 1.0, 1.0, 1.0, 1.0, 1.0, 1.0, 1.0, 1.0, 1.0, 1.0, 1.0, 1.0, 1.0, 1.0, 1.0, 1.0, 1.0, 1.0, 1.0, 1.0, 1.0, 1.0, 1.0, 1.0, 0.0, 0.0, 0.0, 0.0, 0.0, 0.0, 0.0, 0.0, 0.0, 0.0, 0.0, 0.0, 0.0, 0.0, 0.0, 0.0, 0.0, 0.0, 0.0, 0.0, 0.0, 0.0, 0.0, 0.0, 0.0, 0.0, 0.0, 0.0, 0.0, 0.0, 0.0, 0.0, 0.0, 0.0, 0.0, 0.0, 0.0, 0.0], [1.0, 1.0, 1.0, 1.0, 1.0, 1.0, 1.0, 1.0, 1.0, 1.0, 1.0, 1.0, 1.0, 1.0, 1.0, 1.0, 1.0, 1.0, 1.0, 1.0, 1.0, 1.0, 1.0, 1.0, 1.0, 1.0, 1.0, 1.0, 1.0, 0.0, 0.0, 0.0, 0.0, 0.0, 0.0, 0.0, 0.0, 0.0, 0.0, 0.0, 0.0, 0.0, 0.0, 0.0, 0.0, 0.0, 0.0, 0.0, 0.0, 0.0, 0.0, 0.0, 0.0, 0.0, 0.0, 0.0, 0.0, 0.0, 0.0, 0.0, 0.0, 0.0, 0.0, 0.0, 0.0, 0.0, 0.0, 0.0, 0.0, 0.0, 0.0, 0.0, 0.0, 0.0, 0.0], [1.0, 1.0, 1.0, 1.0, 1.0, 1.0, 1.0, 1.0, 1.0, 1.0, 1.0, 1.0, 1.0, 1.0, 1.0, 1.0, 1.0, 1.0, 1.0, 1.0, 1.0, 1.0, 1.0, 1.0, 1.0, 1.0, 1.0, 1.0, 1.0, 1.0, 1.0, 1.0, 1.0, 1.0, 1.0, 1.0, 1.0, 1.0, 1.0, 1.0, 1.0, 1.0, 0.0, 0.0, 0.0, 0.0, 0.0, 0.0, 0.0, 0.0, 0.0, 0.0, 0.0, 0.0, 0.0, 0.0, 0.0, 0.0, 0.0, 0.0, 0.0, 0.0, 0.0, 0.0, 0.0, 0.0, 0.0, 0.0, 0.0, 0.0, 0.0, 0.0, 0.0, 0.0, 0.0], [1.0, 1.0, 1.0, 1.0, 1.0, 1.0, 1.0, 1.0, 1.0, 1.0, 1.0, 1.0, 1.0, 1.0, 1.0, 1.0, 1.0, 1.0, 1.0, 1.0, 1.0, 1.0, 0.0, 0.0, 0.0, 0.0, 0.0, 0.0, 0.0, 0.0, 0.0, 0.0, 0.0, 0.0, 0.0, 0.0, 0.0, 0.0, 0.0, 0.0, 0.0, 0.0, 0.0, 0.0, 0.0, 0.0, 0.0, 0.0, 0.0, 0.0, 0.0, 0.0, 0.0, 0.0, 0.0, 0.0, 0.0, 0.0, 0.0, 0.0, 0.0, 0.0, 0.0, 0.0, 0.0, 0.0, 0.0, 0.0, 0.0, 0.0, 0.0, 0.0, 0.0, 0.0, 0.0], [1.0, 1.0, 1.0, 1.0, 1.0, 1.0, 1.0, 1.0, 1.0, 1.0, 1.0, 1.0, 1.0, 1.0, 1.0, 1.0, 1.0, 1.0, 1.0, 1.0, 1.0, 1.0, 1.0, 1.0, 1.0, 1.0, 1.0, 1.0, 1.0, 1.0, 1.0, 1.0, 1.0, 1.0, 1.0, 1.0, 1.0, 0.0, 0.0, 0.0, 0.0, 0.0, 0.0, 0.0, 0.0, 0.0, 0.0, 0.0, 0.0, 0.0, 0.0, 0.0, 0.0, 0.0, 0.0, 0.0, 0.0, 0.0, 0.0, 0.0, 0.0, 0.0, 0.0, 0.0, 0.0, 0.0, 0.0, 0.0, 0.0, 0.0, 0.0, 0.0, 0.0, 0.0, 0.0], [1.0, 1.0, 1.0, 1.0, 1.0, 1.0, 1.0, 1.0, 1.0, 1.0, 1.0, 1.0, 1.0, 1.0, 1.0, 1.0, 1.0, 1.0, 1.0, 1.0, 1.0, 1.0, 1.0, 1.0, 1.0, 1.0, 1.0, 1.0, 1.0, 1.0, 1.0, 1.0, 1.0, 1.0, 1.0, 1.0, 1.0, 1.0, 1.0, 1.0, 1.0, 1.0, 1.0, 1.0, 1.0, 1.0, 1.0, 1.0, 1.0, 1.0, 1.0, 1.0, 0.0, 0.0, 0.0, 0.0, 0.0, 0.0, 0.0, 0.0, 0.0, 0.0, 0.0, 0.0, 0.0, 0.0, 0.0, 0.0, 0.0, 0.0, 0.0, 0.0, 0.0, 0.0, 0.0], [1.0, 1.0, 1.0, 1.0, 1.0, 1.0, 1.0, 1.0, 1.0, 1.0, 1.0, 1.0, 1.0, 1.0, 1.0, 1.0, 1.0, 1.0, 1.0, 1.0, 1.0, 1.0, 1.0, 1.0, 1.0, 1.0, 1.0, 1.0, 1.0, 1.0, 1.0, 1.0, 1.0, 1.0, 1.0, 1.0, 1.0, 1.0, 1.0, 1.0, 1.0, 1.0, 1.0, 1.0, 1.0, 1.0, 1.0, 1.0, 1.0, 1.0, 1.0, 1.0, 1.0, 1.0, 1.0, 1.0, 1.0, 1.0, 1.0, 1.0, 1.0, 1.0, 1.0, 1.0, 1.0, 1.0, 1.0, 1.0, 1.0, 1.0, 1.0, 1.0, 1.0, 1.0, 1.0], [1.0, 1.0, 1.0, 1.0, 1.0, 1.0, 1.0, 1.0, 1.0, 1.0, 1.0, 1.0, 1.0, 1.0, 1.0, 1.0, 1.0, 1.0, 1.0, 1.0, 1.0, 1.0, 1.0, 0.0, 0.0, 0.0, 0.0, 0.0, 0.0, 0.0, 0.0, 0.0, 0.0, 0.0, 0.0, 0.0, 0.0, 0.0, 0.0, 0.0, 0.0, 0.0, 0.0, 0.0, 0.0, 0.0, 0.0, 0.0, 0.0, 0.0, 0.0, 0.0, 0.0, 0.0, 0.0, 0.0, 0.0, 0.0, 0.0, 0.0, 0.0, 0.0, 0.0, 0.0, 0.0, 0.0, 0.0, 0.0, 0.0, 0.0, 0.0, 0.0, 0.0, 0.0, 0.0], [1.0, 1.0, 1.0, 1.0, 1.0, 1.0, 1.0, 1.0, 1.0, 1.0, 1.0, 1.0, 1.0, 1.0, 1.0, 1.0, 1.0, 1.0, 1.0, 1.0, 1.0, 1.0, 1.0, 1.0, 1.0, 1.0, 1.0, 1.0, 1.0, 1.0, 1.0, 1.0, 1.0, 0.0, 0.0, 0.0, 0.0, 0.0, 0.0, 0.0, 0.0, 0.0, 0.0, 0.0, 0.0, 0.0, 0.0, 0.0, 0.0, 0.0, 0.0, 0.0, 0.0, 0.0, 0.0, 0.0, 0.0, 0.0, 0.0, 0.0, 0.0, 0.0, 0.0, 0.0, 0.0, 0.0, 0.0, 0.0, 0.0, 0.0, 0.0, 0.0, 0.0, 0.0, 0.0], [1.0, 1.0, 1.0, 1.0, 1.0, 1.0, 1.0, 1.0, 1.0, 1.0, 1.0, 1.0, 1.0, 1.0, 1.0, 1.0, 1.0, 1.0, 1.0, 1.0, 1.0, 1.0, 1.0, 1.0, 1.0, 1.0, 1.0, 1.0, 1.0, 1.0, 1.0, 1.0, 1.0, 1.0, 1.0, 1.0, 1.0, 1.0, 1.0, 1.0, 1.0, 1.0, 1.0, 1.0, 1.0, 1.0, 1.0, 1.0, 1.0, 1.0, 1.0, 1.0, 1.0, 1.0, 1.0, 1.0, 1.0, 1.0, 1.0, 1.0, 1.0, 1.0, 1.0, 1.0, 1.0, 1.0, 1.0, 1.0, 1.0, 1.0, 1.0, 1.0, 1.0, 1.0, 1.0], [1.0, 1.0, 1.0, 1.0, 1.0, 1.0, 1.0, 1.0, 1.0, 1.0, 1.0, 1.0, 1.0, 1.0, 1.0, 1.0, 1.0, 1.0, 1.0, 1.0, 1.0, 1.0, 0.0, 0.0, 0.0, 0.0, 0.0, 0.0, 0.0, 0.0, 0.0, 0.0, 0.0, 0.0, 0.0, 0.0, 0.0, 0.0, 0.0, 0.0, 0.0, 0.0, 0.0, 0.0, 0.0, 0.0, 0.0, 0.0, 0.0, 0.0, 0.0, 0.0, 0.0, 0.0, 0.0, 0.0, 0.0, 0.0, 0.0, 0.0, 0.0, 0.0, 0.0, 0.0, 0.0, 0.0, 0.0, 0.0, 0.0, 0.0, 0.0, 0.0, 0.0, 0.0, 0.0], [1.0, 1.0, 1.0, 1.0, 1.0, 1.0, 1.0, 1.0, 1.0, 1.0, 1.0, 1.0, 1.0, 1.0, 1.0, 1.0, 1.0, 1.0, 1.0, 1.0, 1.0, 1.0, 1.0, 1.0, 0.0, 0.0, 0.0, 0.0, 0.0, 0.0, 0.0, 0.0, 0.0, 0.0, 0.0, 0.0, 0.0, 0.0, 0.0, 0.0, 0.0, 0.0, 0.0, 0.0, 0.0, 0.0, 0.0, 0.0, 0.0, 0.0, 0.0, 0.0, 0.0, 0.0, 0.0, 0.0, 0.0, 0.0, 0.0, 0.0, 0.0, 0.0, 0.0, 0.0, 0.0, 0.0, 0.0, 0.0, 0.0, 0.0, 0.0, 0.0, 0.0, 0.0, 0.0], [1.0, 1.0, 1.0, 1.0, 1.0, 1.0, 1.0, 1.0, 1.0, 1.0, 1.0, 1.0, 1.0, 1.0, 1.0, 1.0, 1.0, 1.0, 1.0, 1.0, 1.0, 1.0, 1.0, 1.0, 1.0, 1.0, 1.0, 1.0, 1.0, 1.0, 1.0, 1.0, 1.0, 1.0, 1.0, 1.0, 1.0, 1.0, 1.0, 1.0, 1.0, 1.0, 1.0, 1.0, 1.0, 1.0, 1.0, 1.0, 1.0, 1.0, 1.0, 1.0, 1.0, 0.0, 0.0, 0.0, 0.0, 0.0, 0.0, 0.0, 0.0, 0.0, 0.0, 0.0, 0.0, 0.0, 0.0, 0.0, 0.0, 0.0, 0.0, 0.0, 0.0, 0.0, 0.0], [1.0, 1.0, 1.0, 1.0, 1.0, 0.0, 0.0, 0.0, 0.0, 0.0, 0.0, 0.0, 0.0, 0.0, 0.0, 0.0, 0.0, 0.0, 0.0, 0.0, 0.0, 0.0, 0.0, 0.0, 0.0, 0.0, 0.0, 0.0, 0.0, 0.0, 0.0, 0.0, 0.0, 0.0, 0.0, 0.0, 0.0, 0.0, 0.0, 0.0, 0.0, 0.0, 0.0, 0.0, 0.0, 0.0, 0.0, 0.0, 0.0, 0.0, 0.0, 0.0, 0.0, 0.0, 0.0, 0.0, 0.0, 0.0, 0.0, 0.0, 0.0, 0.0, 0.0, 0.0, 0.0, 0.0, 0.0, 0.0, 0.0, 0.0, 0.0, 0.0, 0.0, 0.0, 0.0], [1.0, 1.0, 1.0, 1.0, 1.0, 1.0, 1.0, 1.0, 1.0, 1.0, 1.0, 1.0, 1.0, 1.0, 1.0, 1.0, 1.0, 1.0, 1.0, 1.0, 1.0, 1.0, 0.0, 0.0, 0.0, 0.0, 0.0, 0.0, 0.0, 0.0, 0.0, 0.0, 0.0, 0.0, 0.0, 0.0, 0.0, 0.0, 0.0, 0.0, 0.0, 0.0, 0.0, 0.0, 0.0, 0.0, 0.0, 0.0, 0.0, 0.0, 0.0, 0.0, 0.0, 0.0, 0.0, 0.0, 0.0, 0.0, 0.0, 0.0, 0.0, 0.0, 0.0, 0.0, 0.0, 0.0, 0.0, 0.0, 0.0, 0.0, 0.0, 0.0, 0.0, 0.0, 0.0], [1.0, 1.0, 1.0, 1.0, 1.0, 1.0, 1.0, 1.0, 1.0, 1.0, 1.0, 1.0, 1.0, 1.0, 1.0, 1.0, 1.0, 1.0, 1.0, 1.0, 1.0, 1.0, 1.0, 1.0, 1.0, 1.0, 1.0, 1.0, 1.0, 1.0, 1.0, 1.0, 1.0, 1.0, 1.0, 1.0, 1.0, 1.0, 1.0, 0.0, 0.0, 0.0, 0.0, 0.0, 0.0, 0.0, 0.0, 0.0, 0.0, 0.0, 0.0, 0.0, 0.0, 0.0, 0.0, 0.0, 0.0, 0.0, 0.0, 0.0, 0.0, 0.0, 0.0, 0.0, 0.0, 0.0, 0.0, 0.0, 0.0, 0.0, 0.0, 0.0, 0.0, 0.0, 0.0], [1.0, 1.0, 1.0, 1.0, 1.0, 1.0, 1.0, 1.0, 1.0, 1.0, 1.0, 1.0, 1.0, 1.0, 1.0, 1.0, 1.0, 1.0, 1.0, 1.0, 1.0, 1.0, 0.0, 0.0, 0.0, 0.0, 0.0, 0.0, 0.0, 0.0, 0.0, 0.0, 0.0, 0.0, 0.0, 0.0, 0.0, 0.0, 0.0, 0.0, 0.0, 0.0, 0.0, 0.0, 0.0, 0.0, 0.0, 0.0, 0.0, 0.0, 0.0, 0.0, 0.0, 0.0, 0.0, 0.0, 0.0, 0.0, 0.0, 0.0, 0.0, 0.0, 0.0, 0.0, 0.0, 0.0, 0.0, 0.0, 0.0, 0.0, 0.0, 0.0, 0.0, 0.0, 0.0], [1.0, 1.0, 1.0, 1.0, 1.0, 1.0, 1.0, 1.0, 1.0, 1.0, 1.0, 1.0, 1.0, 1.0, 1.0, 1.0, 1.0, 1.0, 1.0, 1.0, 1.0, 1.0, 1.0, 1.0, 1.0, 1.0, 1.0, 1.0, 1.0, 1.0, 1.0, 1.0, 1.0, 1.0, 1.0, 1.0, 0.0, 0.0, 0.0, 0.0, 0.0, 0.0, 0.0, 0.0, 0.0, 0.0, 0.0, 0.0, 0.0, 0.0, 0.0, 0.0, 0.0, 0.0, 0.0, 0.0, 0.0, 0.0, 0.0, 0.0, 0.0, 0.0, 0.0, 0.0, 0.0, 0.0, 0.0, 0.0, 0.0, 0.0, 0.0, 0.0, 0.0, 0.0, 0.0], [1.0, 1.0, 1.0, 1.0, 1.0, 1.0, 1.0, 1.0, 1.0, 1.0, 1.0, 1.0, 1.0, 1.0, 1.0, 1.0, 1.0, 1.0, 1.0, 1.0, 1.0, 1.0, 1.0, 1.0, 1.0, 1.0, 1.0, 1.0, 1.0, 1.0, 1.0, 1.0, 1.0, 1.0, 1.0, 1.0, 1.0, 1.0, 1.0, 1.0, 1.0, 1.0, 1.0, 1.0, 1.0, 1.0, 1.0, 1.0, 1.0, 0.0, 0.0, 0.0, 0.0, 0.0, 0.0, 0.0, 0.0, 0.0, 0.0, 0.0, 0.0, 0.0, 0.0, 0.0, 0.0, 0.0, 0.0, 0.0, 0.0, 0.0, 0.0, 0.0, 0.0, 0.0, 0.0], [1.0, 1.0, 1.0, 1.0, 1.0, 1.0, 1.0, 1.0, 1.0, 1.0, 1.0, 1.0, 1.0, 1.0, 1.0, 1.0, 1.0, 1.0, 1.0, 1.0, 1.0, 1.0, 1.0, 1.0, 1.0, 1.0, 1.0, 1.0, 1.0, 1.0, 1.0, 1.0, 1.0, 1.0, 1.0, 1.0, 1.0, 1.0, 0.0, 0.0, 0.0, 0.0, 0.0, 0.0, 0.0, 0.0, 0.0, 0.0, 0.0, 0.0, 0.0, 0.0, 0.0, 0.0, 0.0, 0.0, 0.0, 0.0, 0.0, 0.0, 0.0, 0.0, 0.0, 0.0, 0.0, 0.0, 0.0, 0.0, 0.0, 0.0, 0.0, 0.0, 0.0, 0.0, 0.0], [1.0, 1.0, 1.0, 1.0, 1.0, 1.0, 1.0, 1.0, 1.0, 1.0, 1.0, 1.0, 1.0, 1.0, 1.0, 1.0, 1.0, 1.0, 1.0, 1.0, 1.0, 1.0, 1.0, 1.0, 1.0, 1.0, 1.0, 1.0, 1.0, 1.0, 1.0, 1.0, 1.0, 1.0, 1.0, 1.0, 1.0, 1.0, 1.0, 1.0, 1.0, 1.0, 1.0, 1.0, 1.0, 1.0, 1.0, 1.0, 1.0, 1.0, 1.0, 1.0, 1.0, 1.0, 1.0, 1.0, 1.0, 1.0, 1.0, 1.0, 1.0, 1.0, 1.0, 1.0, 1.0, 1.0, 1.0, 1.0, 1.0, 1.0, 1.0, 1.0, 1.0, 1.0, 1.0], [1.0, 1.0, 1.0, 1.0, 1.0, 1.0, 1.0, 1.0, 1.0, 1.0, 1.0, 1.0, 1.0, 1.0, 1.0, 1.0, 1.0, 1.0, 1.0, 1.0, 1.0, 1.0, 1.0, 1.0, 1.0, 1.0, 1.0, 1.0, 1.0, 1.0, 1.0, 1.0, 1.0, 1.0, 1.0, 0.0, 0.0, 0.0, 0.0, 0.0, 0.0, 0.0, 0.0, 0.0, 0.0, 0.0, 0.0, 0.0, 0.0, 0.0, 0.0, 0.0, 0.0, 0.0, 0.0, 0.0, 0.0, 0.0, 0.0, 0.0, 0.0, 0.0, 0.0, 0.0, 0.0, 0.0, 0.0, 0.0, 0.0, 0.0, 0.0, 0.0, 0.0, 0.0, 0.0], [1.0, 1.0, 1.0, 1.0, 1.0, 1.0, 1.0, 1.0, 1.0, 1.0, 1.0, 1.0, 1.0, 1.0, 1.0, 1.0, 1.0, 1.0, 1.0, 1.0, 1.0, 1.0, 1.0, 1.0, 1.0, 1.0, 1.0, 1.0, 1.0, 1.0, 1.0, 1.0, 1.0, 1.0, 1.0, 1.0, 1.0, 1.0, 1.0, 1.0, 1.0, 1.0, 1.0, 0.0, 0.0, 0.0, 0.0, 0.0, 0.0, 0.0, 0.0, 0.0, 0.0, 0.0, 0.0, 0.0, 0.0, 0.0, 0.0, 0.0, 0.0, 0.0, 0.0, 0.0, 0.0, 0.0, 0.0, 0.0, 0.0, 0.0, 0.0, 0.0, 0.0, 0.0, 0.0], [1.0, 1.0, 1.0, 1.0, 1.0, 1.0, 1.0, 1.0, 1.0, 1.0, 1.0, 1.0, 1.0, 1.0, 1.0, 1.0, 1.0, 1.0, 1.0, 1.0, 1.0, 1.0, 0.0, 0.0, 0.0, 0.0, 0.0, 0.0, 0.0, 0.0, 0.0, 0.0, 0.0, 0.0, 0.0, 0.0, 0.0, 0.0, 0.0, 0.0, 0.0, 0.0, 0.0, 0.0, 0.0, 0.0, 0.0, 0.0, 0.0, 0.0, 0.0, 0.0, 0.0, 0.0, 0.0, 0.0, 0.0, 0.0, 0.0, 0.0, 0.0, 0.0, 0.0, 0.0, 0.0, 0.0, 0.0, 0.0, 0.0, 0.0, 0.0, 0.0, 0.0, 0.0, 0.0], [1.0, 1.0, 1.0, 1.0, 1.0, 1.0, 1.0, 1.0, 1.0, 1.0, 1.0, 1.0, 1.0, 1.0, 1.0, 1.0, 1.0, 1.0, 1.0, 1.0, 1.0, 1.0, 1.0, 1.0, 1.0, 0.0, 0.0, 0.0, 0.0, 0.0, 0.0, 0.0, 0.0, 0.0, 0.0, 0.0, 0.0, 0.0, 0.0, 0.0, 0.0, 0.0, 0.0, 0.0, 0.0, 0.0, 0.0, 0.0, 0.0, 0.0, 0.0, 0.0, 0.0, 0.0, 0.0, 0.0, 0.0, 0.0, 0.0, 0.0, 0.0, 0.0, 0.0, 0.0, 0.0, 0.0, 0.0, 0.0, 0.0, 0.0, 0.0, 0.0, 0.0, 0.0, 0.0], [1.0, 1.0, 1.0, 1.0, 1.0, 1.0, 1.0, 1.0, 1.0, 1.0, 1.0, 1.0, 1.0, 1.0, 1.0, 1.0, 1.0, 1.0, 1.0, 1.0, 1.0, 1.0, 1.0, 1.0, 1.0, 1.0, 1.0, 1.0, 1.0, 1.0, 1.0, 1.0, 1.0, 1.0, 1.0, 1.0, 1.0, 1.0, 1.0, 1.0, 1.0, 1.0, 1.0, 1.0, 1.0, 1.0, 1.0, 1.0, 1.0, 1.0, 1.0, 1.0, 1.0, 1.0, 1.0, 1.0, 1.0, 1.0, 0.0, 0.0, 0.0, 0.0, 0.0, 0.0, 0.0, 0.0, 0.0, 0.0, 0.0, 0.0, 0.0, 0.0, 0.0, 0.0, 0.0], [1.0, 1.0, 1.0, 1.0, 1.0, 1.0, 1.0, 1.0, 1.0, 1.0, 1.0, 1.0, 1.0, 1.0, 1.0, 1.0, 1.0, 1.0, 1.0, 1.0, 1.0, 1.0, 1.0, 1.0, 1.0, 1.0, 0.0, 0.0, 0.0, 0.0, 0.0, 0.0, 0.0, 0.0, 0.0, 0.0, 0.0, 0.0, 0.0, 0.0, 0.0, 0.0, 0.0, 0.0, 0.0, 0.0, 0.0, 0.0, 0.0, 0.0, 0.0, 0.0, 0.0, 0.0, 0.0, 0.0, 0.0, 0.0, 0.0, 0.0, 0.0, 0.0, 0.0, 0.0, 0.0, 0.0, 0.0, 0.0, 0.0, 0.0, 0.0, 0.0, 0.0, 0.0, 0.0], [1.0, 1.0, 1.0, 1.0, 1.0, 1.0, 1.0, 1.0, 1.0, 1.0, 1.0, 1.0, 1.0, 1.0, 1.0, 1.0, 1.0, 1.0, 1.0, 1.0, 1.0, 0.0, 0.0, 0.0, 0.0, 0.0, 0.0, 0.0, 0.0, 0.0, 0.0, 0.0, 0.0, 0.0, 0.0, 0.0, 0.0, 0.0, 0.0, 0.0, 0.0, 0.0, 0.0, 0.0, 0.0, 0.0, 0.0, 0.0, 0.0, 0.0, 0.0, 0.0, 0.0, 0.0, 0.0, 0.0, 0.0, 0.0, 0.0, 0.0, 0.0, 0.0, 0.0, 0.0, 0.0, 0.0, 0.0, 0.0, 0.0, 0.0, 0.0, 0.0, 0.0, 0.0, 0.0], [1.0, 1.0, 1.0, 1.0, 1.0, 1.0, 1.0, 1.0, 1.0, 1.0, 1.0, 1.0, 1.0, 1.0, 1.0, 1.0, 1.0, 1.0, 1.0, 1.0, 1.0, 1.0, 1.0, 1.0, 1.0, 1.0, 1.0, 1.0, 1.0, 1.0, 1.0, 1.0, 1.0, 1.0, 1.0, 1.0, 1.0, 1.0, 1.0, 1.0, 1.0, 1.0, 1.0, 1.0, 1.0, 1.0, 1.0, 1.0, 1.0, 1.0, 1.0, 1.0, 1.0, 1.0, 1.0, 1.0, 1.0, 1.0, 1.0, 1.0, 1.0, 1.0, 1.0, 1.0, 1.0, 1.0, 1.0, 1.0, 1.0, 1.0, 1.0, 1.0, 1.0, 0.0, 0.0], [1.0, 1.0, 1.0, 1.0, 1.0, 1.0, 1.0, 1.0, 1.0, 1.0, 1.0, 1.0, 1.0, 1.0, 1.0, 1.0, 1.0, 1.0, 1.0, 1.0, 1.0, 1.0, 1.0, 1.0, 1.0, 1.0, 1.0, 1.0, 1.0, 1.0, 1.0, 1.0, 1.0, 1.0, 1.0, 1.0, 1.0, 1.0, 1.0, 1.0, 1.0, 1.0, 1.0, 1.0, 1.0, 1.0, 1.0, 1.0, 1.0, 1.0, 1.0, 1.0, 1.0, 1.0, 1.0, 1.0, 1.0, 1.0, 0.0, 0.0, 0.0, 0.0, 0.0, 0.0, 0.0, 0.0, 0.0, 0.0, 0.0, 0.0, 0.0, 0.0, 0.0, 0.0, 0.0], [1.0, 1.0, 1.0, 1.0, 1.0, 1.0, 1.0, 1.0, 1.0, 1.0, 1.0, 1.0, 1.0, 1.0, 1.0, 1.0, 1.0, 1.0, 1.0, 1.0, 1.0, 1.0, 1.0, 1.0, 1.0, 1.0, 1.0, 1.0, 1.0, 1.0, 1.0, 1.0, 1.0, 1.0, 1.0, 1.0, 1.0, 1.0, 1.0, 1.0, 1.0, 1.0, 1.0, 1.0, 0.0, 0.0, 0.0, 0.0, 0.0, 0.0, 0.0, 0.0, 0.0, 0.0, 0.0, 0.0, 0.0, 0.0, 0.0, 0.0, 0.0, 0.0, 0.0, 0.0, 0.0, 0.0, 0.0, 0.0, 0.0, 0.0, 0.0, 0.0, 0.0, 0.0, 0.0], [1.0, 1.0, 1.0, 1.0, 1.0, 1.0, 1.0, 1.0, 1.0, 1.0, 1.0, 1.0, 1.0, 1.0, 1.0, 1.0, 1.0, 1.0, 1.0, 1.0, 1.0, 1.0, 1.0, 1.0, 1.0, 1.0, 1.0, 1.0, 1.0, 1.0, 1.0, 1.0, 1.0, 1.0, 1.0, 1.0, 1.0, 1.0, 1.0, 1.0, 1.0, 1.0, 1.0, 1.0, 1.0, 1.0, 1.0, 1.0, 1.0, 1.0, 1.0, 1.0, 1.0, 1.0, 1.0, 1.0, 1.0, 1.0, 1.0, 0.0, 0.0, 0.0, 0.0, 0.0, 0.0, 0.0, 0.0, 0.0, 0.0, 0.0, 0.0, 0.0, 0.0, 0.0, 0.0], [1.0, 1.0, 1.0, 1.0, 1.0, 1.0, 1.0, 1.0, 1.0, 1.0, 1.0, 1.0, 1.0, 1.0, 1.0, 1.0, 1.0, 1.0, 1.0, 1.0, 1.0, 1.0, 1.0, 1.0, 1.0, 1.0, 1.0, 1.0, 1.0, 1.0, 1.0, 1.0, 1.0, 1.0, 1.0, 1.0, 1.0, 0.0, 0.0, 0.0, 0.0, 0.0, 0.0, 0.0, 0.0, 0.0, 0.0, 0.0, 0.0, 0.0, 0.0, 0.0, 0.0, 0.0, 0.0, 0.0, 0.0, 0.0, 0.0, 0.0, 0.0, 0.0, 0.0, 0.0, 0.0, 0.0, 0.0, 0.0, 0.0, 0.0, 0.0, 0.0, 0.0, 0.0, 0.0], [1.0, 1.0, 1.0, 1.0, 1.0, 1.0, 1.0, 1.0, 1.0, 1.0, 1.0, 1.0, 1.0, 1.0, 1.0, 1.0, 1.0, 1.0, 1.0, 0.0, 0.0, 0.0, 0.0, 0.0, 0.0, 0.0, 0.0, 0.0, 0.0, 0.0, 0.0, 0.0, 0.0, 0.0, 0.0, 0.0, 0.0, 0.0, 0.0, 0.0, 0.0, 0.0, 0.0, 0.0, 0.0, 0.0, 0.0, 0.0, 0.0, 0.0, 0.0, 0.0, 0.0, 0.0, 0.0, 0.0, 0.0, 0.0, 0.0, 0.0, 0.0, 0.0, 0.0, 0.0, 0.0, 0.0, 0.0, 0.0, 0.0, 0.0, 0.0, 0.0, 0.0, 0.0, 0.0], [1.0, 1.0, 1.0, 1.0, 1.0, 1.0, 1.0, 1.0, 1.0, 1.0, 1.0, 1.0, 1.0, 1.0, 1.0, 1.0, 1.0, 1.0, 1.0, 1.0, 1.0, 1.0, 1.0, 1.0, 1.0, 1.0, 1.0, 1.0, 1.0, 0.0, 0.0, 0.0, 0.0, 0.0, 0.0, 0.0, 0.0, 0.0, 0.0, 0.0, 0.0, 0.0, 0.0, 0.0, 0.0, 0.0, 0.0, 0.0, 0.0, 0.0, 0.0, 0.0, 0.0, 0.0, 0.0, 0.0, 0.0, 0.0, 0.0, 0.0, 0.0, 0.0, 0.0, 0.0, 0.0, 0.0, 0.0, 0.0, 0.0, 0.0, 0.0, 0.0, 0.0, 0.0, 0.0], [1.0, 1.0, 1.0, 1.0, 1.0, 1.0, 1.0, 1.0, 1.0, 1.0, 1.0, 1.0, 1.0, 1.0, 1.0, 1.0, 1.0, 1.0, 1.0, 1.0, 1.0, 1.0, 1.0, 1.0, 1.0, 1.0, 1.0, 1.0, 1.0, 1.0, 1.0, 1.0, 1.0, 1.0, 1.0, 1.0, 1.0, 1.0, 1.0, 1.0, 1.0, 1.0, 1.0, 1.0, 1.0, 1.0, 1.0, 1.0, 1.0, 0.0, 0.0, 0.0, 0.0, 0.0, 0.0, 0.0, 0.0, 0.0, 0.0, 0.0, 0.0, 0.0, 0.0, 0.0, 0.0, 0.0, 0.0, 0.0, 0.0, 0.0, 0.0, 0.0, 0.0, 0.0, 0.0], [1.0, 1.0, 1.0, 1.0, 1.0, 1.0, 1.0, 1.0, 1.0, 1.0, 1.0, 1.0, 1.0, 1.0, 1.0, 1.0, 1.0, 1.0, 1.0, 1.0, 1.0, 1.0, 1.0, 1.0, 0.0, 0.0, 0.0, 0.0, 0.0, 0.0, 0.0, 0.0, 0.0, 0.0, 0.0, 0.0, 0.0, 0.0, 0.0, 0.0, 0.0, 0.0, 0.0, 0.0, 0.0, 0.0, 0.0, 0.0, 0.0, 0.0, 0.0, 0.0, 0.0, 0.0, 0.0, 0.0, 0.0, 0.0, 0.0, 0.0, 0.0, 0.0, 0.0, 0.0, 0.0, 0.0, 0.0, 0.0, 0.0, 0.0, 0.0, 0.0, 0.0, 0.0, 0.0], [1.0, 1.0, 1.0, 1.0, 1.0, 1.0, 1.0, 1.0, 1.0, 1.0, 1.0, 1.0, 1.0, 1.0, 1.0, 1.0, 1.0, 1.0, 1.0, 1.0, 1.0, 1.0, 1.0, 1.0, 1.0, 1.0, 1.0, 1.0, 1.0, 1.0, 1.0, 1.0, 1.0, 1.0, 1.0, 1.0, 1.0, 1.0, 1.0, 1.0, 1.0, 1.0, 1.0, 1.0, 1.0, 1.0, 1.0, 1.0, 1.0, 1.0, 1.0, 1.0, 1.0, 1.0, 1.0, 1.0, 1.0, 1.0, 1.0, 0.0, 0.0, 0.0, 0.0, 0.0, 0.0, 0.0, 0.0, 0.0, 0.0, 0.0, 0.0, 0.0, 0.0, 0.0, 0.0], [1.0, 1.0, 0.0, 0.0, 0.0, 0.0, 0.0, 0.0, 0.0, 0.0, 0.0, 0.0, 0.0, 0.0, 0.0, 0.0, 0.0, 0.0, 0.0, 0.0, 0.0, 0.0, 0.0, 0.0, 0.0, 0.0, 0.0, 0.0, 0.0, 0.0, 0.0, 0.0, 0.0, 0.0, 0.0, 0.0, 0.0, 0.0, 0.0, 0.0, 0.0, 0.0, 0.0, 0.0, 0.0, 0.0, 0.0, 0.0, 0.0, 0.0, 0.0, 0.0, 0.0, 0.0, 0.0, 0.0, 0.0, 0.0, 0.0, 0.0, 0.0, 0.0, 0.0, 0.0, 0.0, 0.0, 0.0, 0.0, 0.0, 0.0, 0.0, 0.0, 0.0, 0.0, 0.0], [1.0, 1.0, 1.0, 1.0, 1.0, 1.0, 1.0, 0.0, 0.0, 0.0, 0.0, 0.0, 0.0, 0.0, 0.0, 0.0, 0.0, 0.0, 0.0, 0.0, 0.0, 0.0, 0.0, 0.0, 0.0, 0.0, 0.0, 0.0, 0.0, 0.0, 0.0, 0.0, 0.0, 0.0, 0.0, 0.0, 0.0, 0.0, 0.0, 0.0, 0.0, 0.0, 0.0, 0.0, 0.0, 0.0, 0.0, 0.0, 0.0, 0.0, 0.0, 0.0, 0.0, 0.0, 0.0, 0.0, 0.0, 0.0, 0.0, 0.0, 0.0, 0.0, 0.0, 0.0, 0.0, 0.0, 0.0, 0.0, 0.0, 0.0, 0.0, 0.0, 0.0, 0.0, 0.0], [1.0, 1.0, 1.0, 1.0, 1.0, 1.0, 1.0, 1.0, 1.0, 1.0, 1.0, 1.0, 1.0, 1.0, 1.0, 1.0, 1.0, 1.0, 1.0, 1.0, 1.0, 1.0, 1.0, 1.0, 1.0, 1.0, 1.0, 1.0, 1.0, 1.0, 1.0, 0.0, 0.0, 0.0, 0.0, 0.0, 0.0, 0.0, 0.0, 0.0, 0.0, 0.0, 0.0, 0.0, 0.0, 0.0, 0.0, 0.0, 0.0, 0.0, 0.0, 0.0, 0.0, 0.0, 0.0, 0.0, 0.0, 0.0, 0.0, 0.0, 0.0, 0.0, 0.0, 0.0, 0.0, 0.0, 0.0, 0.0, 0.0, 0.0, 0.0, 0.0, 0.0, 0.0, 0.0], [1.0, 1.0, 1.0, 1.0, 1.0, 1.0, 1.0, 1.0, 1.0, 1.0, 1.0, 1.0, 1.0, 1.0, 1.0, 1.0, 1.0, 1.0, 1.0, 1.0, 1.0, 1.0, 1.0, 1.0, 1.0, 1.0, 1.0, 1.0, 1.0, 1.0, 1.0, 1.0, 1.0, 1.0, 1.0, 1.0, 1.0, 1.0, 1.0, 1.0, 1.0, 1.0, 1.0, 1.0, 1.0, 1.0, 1.0, 1.0, 1.0, 1.0, 1.0, 1.0, 1.0, 1.0, 1.0, 1.0, 1.0, 1.0, 1.0, 1.0, 1.0, 1.0, 1.0, 1.0, 1.0, 1.0, 0.0, 0.0, 0.0, 0.0, 0.0, 0.0, 0.0, 0.0, 0.0], [1.0, 1.0, 1.0, 1.0, 1.0, 1.0, 1.0, 1.0, 1.0, 1.0, 1.0, 1.0, 1.0, 1.0, 1.0, 1.0, 1.0, 1.0, 1.0, 1.0, 1.0, 1.0, 1.0, 1.0, 1.0, 1.0, 1.0, 1.0, 0.0, 0.0, 0.0, 0.0, 0.0, 0.0, 0.0, 0.0, 0.0, 0.0, 0.0, 0.0, 0.0, 0.0, 0.0, 0.0, 0.0, 0.0, 0.0, 0.0, 0.0, 0.0, 0.0, 0.0, 0.0, 0.0, 0.0, 0.0, 0.0, 0.0, 0.0, 0.0, 0.0, 0.0, 0.0, 0.0, 0.0, 0.0, 0.0, 0.0, 0.0, 0.0, 0.0, 0.0, 0.0, 0.0, 0.0], [1.0, 1.0, 1.0, 1.0, 1.0, 1.0, 1.0, 1.0, 1.0, 1.0, 1.0, 1.0, 1.0, 1.0, 1.0, 1.0, 1.0, 1.0, 1.0, 1.0, 1.0, 1.0, 1.0, 1.0, 1.0, 1.0, 1.0, 1.0, 1.0, 1.0, 1.0, 1.0, 1.0, 1.0, 1.0, 1.0, 1.0, 1.0, 1.0, 1.0, 1.0, 1.0, 1.0, 1.0, 1.0, 1.0, 1.0, 1.0, 1.0, 1.0, 1.0, 0.0, 0.0, 0.0, 0.0, 0.0, 0.0, 0.0, 0.0, 0.0, 0.0, 0.0, 0.0, 0.0, 0.0, 0.0, 0.0, 0.0, 0.0, 0.0, 0.0, 0.0, 0.0, 0.0, 0.0], [1.0, 1.0, 1.0, 1.0, 1.0, 1.0, 1.0, 1.0, 1.0, 1.0, 1.0, 1.0, 1.0, 1.0, 1.0, 1.0, 1.0, 1.0, 1.0, 1.0, 1.0, 1.0, 1.0, 1.0, 1.0, 1.0, 1.0, 1.0, 1.0, 1.0, 1.0, 1.0, 1.0, 1.0, 1.0, 1.0, 1.0, 1.0, 1.0, 1.0, 1.0, 1.0, 1.0, 1.0, 1.0, 1.0, 1.0, 1.0, 1.0, 1.0, 1.0, 1.0, 1.0, 1.0, 1.0, 1.0, 1.0, 1.0, 1.0, 0.0, 0.0, 0.0, 0.0, 0.0, 0.0, 0.0, 0.0, 0.0, 0.0, 0.0, 0.0, 0.0, 0.0, 0.0, 0.0], [1.0, 1.0, 1.0, 1.0, 1.0, 1.0, 1.0, 1.0, 1.0, 1.0, 1.0, 1.0, 1.0, 1.0, 1.0, 1.0, 1.0, 1.0, 1.0, 1.0, 1.0, 1.0, 1.0, 1.0, 1.0, 1.0, 1.0, 1.0, 1.0, 0.0, 0.0, 0.0, 0.0, 0.0, 0.0, 0.0, 0.0, 0.0, 0.0, 0.0, 0.0, 0.0, 0.0, 0.0, 0.0, 0.0, 0.0, 0.0, 0.0, 0.0, 0.0, 0.0, 0.0, 0.0, 0.0, 0.0, 0.0, 0.0, 0.0, 0.0, 0.0, 0.0, 0.0, 0.0, 0.0, 0.0, 0.0, 0.0, 0.0, 0.0, 0.0, 0.0, 0.0, 0.0, 0.0], [1.0, 1.0, 1.0, 1.0, 1.0, 1.0, 1.0, 1.0, 1.0, 1.0, 1.0, 1.0, 1.0, 1.0, 1.0, 1.0, 1.0, 1.0, 1.0, 1.0, 1.0, 1.0, 1.0, 1.0, 1.0, 1.0, 1.0, 0.0, 0.0, 0.0, 0.0, 0.0, 0.0, 0.0, 0.0, 0.0, 0.0, 0.0, 0.0, 0.0, 0.0, 0.0, 0.0, 0.0, 0.0, 0.0, 0.0, 0.0, 0.0, 0.0, 0.0, 0.0, 0.0, 0.0, 0.0, 0.0, 0.0, 0.0, 0.0, 0.0, 0.0, 0.0, 0.0, 0.0, 0.0, 0.0, 0.0, 0.0, 0.0, 0.0, 0.0, 0.0, 0.0, 0.0, 0.0], [1.0, 1.0, 1.0, 1.0, 1.0, 1.0, 1.0, 1.0, 1.0, 1.0, 1.0, 1.0, 1.0, 1.0, 1.0, 1.0, 1.0, 1.0, 1.0, 1.0, 1.0, 1.0, 1.0, 1.0, 1.0, 1.0, 1.0, 1.0, 1.0, 1.0, 1.0, 1.0, 1.0, 1.0, 1.0, 1.0, 1.0, 1.0, 1.0, 1.0, 1.0, 1.0, 1.0, 0.0, 0.0, 0.0, 0.0, 0.0, 0.0, 0.0, 0.0, 0.0, 0.0, 0.0, 0.0, 0.0, 0.0, 0.0, 0.0, 0.0, 0.0, 0.0, 0.0, 0.0, 0.0, 0.0, 0.0, 0.0, 0.0, 0.0, 0.0, 0.0, 0.0, 0.0, 0.0], [1.0, 1.0, 1.0, 1.0, 1.0, 1.0, 1.0, 1.0, 1.0, 1.0, 1.0, 1.0, 1.0, 1.0, 1.0, 1.0, 1.0, 1.0, 1.0, 1.0, 1.0, 1.0, 1.0, 1.0, 1.0, 1.0, 1.0, 1.0, 1.0, 1.0, 1.0, 1.0, 1.0, 1.0, 1.0, 1.0, 1.0, 1.0, 1.0, 1.0, 1.0, 1.0, 1.0, 0.0, 0.0, 0.0, 0.0, 0.0, 0.0, 0.0, 0.0, 0.0, 0.0, 0.0, 0.0, 0.0, 0.0, 0.0, 0.0, 0.0, 0.0, 0.0, 0.0, 0.0, 0.0, 0.0, 0.0, 0.0, 0.0, 0.0, 0.0, 0.0, 0.0, 0.0, 0.0], [1.0, 1.0, 1.0, 1.0, 1.0, 1.0, 1.0, 1.0, 1.0, 1.0, 1.0, 1.0, 1.0, 1.0, 1.0, 1.0, 1.0, 1.0, 1.0, 1.0, 1.0, 1.0, 1.0, 1.0, 1.0, 1.0, 1.0, 1.0, 1.0, 1.0, 1.0, 1.0, 1.0, 0.0, 0.0, 0.0, 0.0, 0.0, 0.0, 0.0, 0.0, 0.0, 0.0, 0.0, 0.0, 0.0, 0.0, 0.0, 0.0, 0.0, 0.0, 0.0, 0.0, 0.0, 0.0, 0.0, 0.0, 0.0, 0.0, 0.0, 0.0, 0.0, 0.0, 0.0, 0.0, 0.0, 0.0, 0.0, 0.0, 0.0, 0.0, 0.0, 0.0, 0.0, 0.0], [1.0, 1.0, 1.0, 1.0, 1.0, 1.0, 1.0, 1.0, 1.0, 1.0, 1.0, 1.0, 1.0, 1.0, 1.0, 1.0, 1.0, 1.0, 1.0, 1.0, 1.0, 1.0, 1.0, 1.0, 1.0, 1.0, 1.0, 0.0, 0.0, 0.0, 0.0, 0.0, 0.0, 0.0, 0.0, 0.0, 0.0, 0.0, 0.0, 0.0, 0.0, 0.0, 0.0, 0.0, 0.0, 0.0, 0.0, 0.0, 0.0, 0.0, 0.0, 0.0, 0.0, 0.0, 0.0, 0.0, 0.0, 0.0, 0.0, 0.0, 0.0, 0.0, 0.0, 0.0, 0.0, 0.0, 0.0, 0.0, 0.0, 0.0, 0.0, 0.0, 0.0, 0.0, 0.0], [1.0, 1.0, 1.0, 1.0, 1.0, 1.0, 1.0, 1.0, 1.0, 1.0, 0.0, 0.0, 0.0, 0.0, 0.0, 0.0, 0.0, 0.0, 0.0, 0.0, 0.0, 0.0, 0.0, 0.0, 0.0, 0.0, 0.0, 0.0, 0.0, 0.0, 0.0, 0.0, 0.0, 0.0, 0.0, 0.0, 0.0, 0.0, 0.0, 0.0, 0.0, 0.0, 0.0, 0.0, 0.0, 0.0, 0.0, 0.0, 0.0, 0.0, 0.0, 0.0, 0.0, 0.0, 0.0, 0.0, 0.0, 0.0, 0.0, 0.0, 0.0, 0.0, 0.0, 0.0, 0.0, 0.0, 0.0, 0.0, 0.0, 0.0, 0.0, 0.0, 0.0, 0.0, 0.0], [1.0, 1.0, 1.0, 1.0, 1.0, 1.0, 1.0, 1.0, 1.0, 1.0, 1.0, 1.0, 1.0, 1.0, 0.0, 0.0, 0.0, 0.0, 0.0, 0.0, 0.0, 0.0, 0.0, 0.0, 0.0, 0.0, 0.0, 0.0, 0.0, 0.0, 0.0, 0.0, 0.0, 0.0, 0.0, 0.0, 0.0, 0.0, 0.0, 0.0, 0.0, 0.0, 0.0, 0.0, 0.0, 0.0, 0.0, 0.0, 0.0, 0.0, 0.0, 0.0, 0.0, 0.0, 0.0, 0.0, 0.0, 0.0, 0.0, 0.0, 0.0, 0.0, 0.0, 0.0, 0.0, 0.0, 0.0, 0.0, 0.0, 0.0, 0.0, 0.0, 0.0, 0.0, 0.0], [1.0, 1.0, 1.0, 1.0, 1.0, 1.0, 1.0, 1.0, 1.0, 1.0, 1.0, 1.0, 1.0, 1.0, 1.0, 1.0, 1.0, 1.0, 1.0, 1.0, 1.0, 1.0, 1.0, 1.0, 1.0, 0.0, 0.0, 0.0, 0.0, 0.0, 0.0, 0.0, 0.0, 0.0, 0.0, 0.0, 0.0, 0.0, 0.0, 0.0, 0.0, 0.0, 0.0, 0.0, 0.0, 0.0, 0.0, 0.0, 0.0, 0.0, 0.0, 0.0, 0.0, 0.0, 0.0, 0.0, 0.0, 0.0, 0.0, 0.0, 0.0, 0.0, 0.0, 0.0, 0.0, 0.0, 0.0, 0.0, 0.0, 0.0, 0.0, 0.0, 0.0, 0.0, 0.0], [1.0, 1.0, 1.0, 1.0, 1.0, 1.0, 1.0, 1.0, 1.0, 1.0, 1.0, 1.0, 1.0, 1.0, 1.0, 1.0, 1.0, 1.0, 1.0, 1.0, 1.0, 1.0, 1.0, 1.0, 1.0, 1.0, 1.0, 1.0, 1.0, 1.0, 1.0, 1.0, 1.0, 1.0, 1.0, 1.0, 1.0, 0.0, 0.0, 0.0, 0.0, 0.0, 0.0, 0.0, 0.0, 0.0, 0.0, 0.0, 0.0, 0.0, 0.0, 0.0, 0.0, 0.0, 0.0, 0.0, 0.0, 0.0, 0.0, 0.0, 0.0, 0.0, 0.0, 0.0, 0.0, 0.0, 0.0, 0.0, 0.0, 0.0, 0.0, 0.0, 0.0, 0.0, 0.0], [1.0, 1.0, 1.0, 1.0, 1.0, 1.0, 1.0, 1.0, 1.0, 1.0, 1.0, 1.0, 1.0, 1.0, 1.0, 1.0, 1.0, 1.0, 1.0, 1.0, 1.0, 1.0, 1.0, 1.0, 1.0, 1.0, 1.0, 1.0, 1.0, 1.0, 1.0, 1.0, 1.0, 1.0, 1.0, 1.0, 1.0, 1.0, 1.0, 1.0, 1.0, 1.0, 0.0, 0.0, 0.0, 0.0, 0.0, 0.0, 0.0, 0.0, 0.0, 0.0, 0.0, 0.0, 0.0, 0.0, 0.0, 0.0, 0.0, 0.0, 0.0, 0.0, 0.0, 0.0, 0.0, 0.0, 0.0, 0.0, 0.0, 0.0, 0.0, 0.0, 0.0, 0.0, 0.0], [1.0, 1.0, 1.0, 1.0, 1.0, 1.0, 1.0, 1.0, 1.0, 1.0, 1.0, 1.0, 1.0, 1.0, 1.0, 1.0, 1.0, 1.0, 1.0, 1.0, 1.0, 1.0, 1.0, 1.0, 1.0, 1.0, 1.0, 1.0, 1.0, 1.0, 0.0, 0.0, 0.0, 0.0, 0.0, 0.0, 0.0, 0.0, 0.0, 0.0, 0.0, 0.0, 0.0, 0.0, 0.0, 0.0, 0.0, 0.0, 0.0, 0.0, 0.0, 0.0, 0.0, 0.0, 0.0, 0.0, 0.0, 0.0, 0.0, 0.0, 0.0, 0.0, 0.0, 0.0, 0.0, 0.0, 0.0, 0.0, 0.0, 0.0, 0.0, 0.0, 0.0, 0.0, 0.0], [1.0, 1.0, 1.0, 1.0, 1.0, 1.0, 1.0, 1.0, 1.0, 1.0, 1.0, 1.0, 1.0, 1.0, 1.0, 1.0, 1.0, 1.0, 1.0, 1.0, 1.0, 1.0, 1.0, 1.0, 1.0, 1.0, 1.0, 1.0, 1.0, 1.0, 1.0, 1.0, 1.0, 1.0, 1.0, 1.0, 1.0, 1.0, 1.0, 1.0, 1.0, 1.0, 1.0, 1.0, 1.0, 1.0, 0.0, 0.0, 0.0, 0.0, 0.0, 0.0, 0.0, 0.0, 0.0, 0.0, 0.0, 0.0, 0.0, 0.0, 0.0, 0.0, 0.0, 0.0, 0.0, 0.0, 0.0, 0.0, 0.0, 0.0, 0.0, 0.0, 0.0, 0.0, 0.0], [1.0, 1.0, 1.0, 1.0, 1.0, 1.0, 1.0, 1.0, 1.0, 1.0, 0.0, 0.0, 0.0, 0.0, 0.0, 0.0, 0.0, 0.0, 0.0, 0.0, 0.0, 0.0, 0.0, 0.0, 0.0, 0.0, 0.0, 0.0, 0.0, 0.0, 0.0, 0.0, 0.0, 0.0, 0.0, 0.0, 0.0, 0.0, 0.0, 0.0, 0.0, 0.0, 0.0, 0.0, 0.0, 0.0, 0.0, 0.0, 0.0, 0.0, 0.0, 0.0, 0.0, 0.0, 0.0, 0.0, 0.0, 0.0, 0.0, 0.0, 0.0, 0.0, 0.0, 0.0, 0.0, 0.0, 0.0, 0.0, 0.0, 0.0, 0.0, 0.0, 0.0, 0.0, 0.0], [1.0, 1.0, 1.0, 1.0, 1.0, 1.0, 1.0, 1.0, 1.0, 1.0, 1.0, 1.0, 1.0, 1.0, 1.0, 1.0, 1.0, 1.0, 1.0, 1.0, 1.0, 1.0, 1.0, 1.0, 1.0, 1.0, 1.0, 1.0, 0.0, 0.0, 0.0, 0.0, 0.0, 0.0, 0.0, 0.0, 0.0, 0.0, 0.0, 0.0, 0.0, 0.0, 0.0, 0.0, 0.0, 0.0, 0.0, 0.0, 0.0, 0.0, 0.0, 0.0, 0.0, 0.0, 0.0, 0.0, 0.0, 0.0, 0.0, 0.0, 0.0, 0.0, 0.0, 0.0, 0.0, 0.0, 0.0, 0.0, 0.0, 0.0, 0.0, 0.0, 0.0, 0.0, 0.0], [1.0, 1.0, 1.0, 1.0, 1.0, 1.0, 1.0, 1.0, 1.0, 1.0, 1.0, 1.0, 1.0, 1.0, 1.0, 1.0, 1.0, 1.0, 1.0, 1.0, 1.0, 1.0, 1.0, 1.0, 1.0, 1.0, 1.0, 1.0, 1.0, 1.0, 1.0, 1.0, 1.0, 1.0, 1.0, 1.0, 1.0, 1.0, 1.0, 1.0, 1.0, 1.0, 1.0, 1.0, 1.0, 1.0, 1.0, 1.0, 1.0, 1.0, 1.0, 1.0, 1.0, 1.0, 1.0, 1.0, 1.0, 1.0, 1.0, 1.0, 1.0, 1.0, 1.0, 1.0, 1.0, 1.0, 1.0, 1.0, 1.0, 0.0, 0.0, 0.0, 0.0, 0.0, 0.0], [1.0, 1.0, 1.0, 1.0, 1.0, 1.0, 1.0, 1.0, 1.0, 1.0, 1.0, 1.0, 1.0, 1.0, 1.0, 1.0, 1.0, 1.0, 1.0, 1.0, 1.0, 1.0, 1.0, 1.0, 0.0, 0.0, 0.0, 0.0, 0.0, 0.0, 0.0, 0.0, 0.0, 0.0, 0.0, 0.0, 0.0, 0.0, 0.0, 0.0, 0.0, 0.0, 0.0, 0.0, 0.0, 0.0, 0.0, 0.0, 0.0, 0.0, 0.0, 0.0, 0.0, 0.0, 0.0, 0.0, 0.0, 0.0, 0.0, 0.0, 0.0, 0.0, 0.0, 0.0, 0.0, 0.0, 0.0, 0.0, 0.0, 0.0, 0.0, 0.0, 0.0, 0.0, 0.0], [1.0, 1.0, 1.0, 1.0, 1.0, 1.0, 1.0, 1.0, 1.0, 1.0, 1.0, 1.0, 1.0, 1.0, 1.0, 1.0, 1.0, 1.0, 0.0, 0.0, 0.0, 0.0, 0.0, 0.0, 0.0, 0.0, 0.0, 0.0, 0.0, 0.0, 0.0, 0.0, 0.0, 0.0, 0.0, 0.0, 0.0, 0.0, 0.0, 0.0, 0.0, 0.0, 0.0, 0.0, 0.0, 0.0, 0.0, 0.0, 0.0, 0.0, 0.0, 0.0, 0.0, 0.0, 0.0, 0.0, 0.0, 0.0, 0.0, 0.0, 0.0, 0.0, 0.0, 0.0, 0.0, 0.0, 0.0, 0.0, 0.0, 0.0, 0.0, 0.0, 0.0, 0.0, 0.0], [1.0, 1.0, 1.0, 1.0, 1.0, 1.0, 1.0, 1.0, 1.0, 1.0, 1.0, 1.0, 1.0, 1.0, 1.0, 1.0, 1.0, 1.0, 1.0, 1.0, 1.0, 1.0, 1.0, 1.0, 1.0, 1.0, 1.0, 1.0, 1.0, 1.0, 1.0, 1.0, 1.0, 1.0, 1.0, 0.0, 0.0, 0.0, 0.0, 0.0, 0.0, 0.0, 0.0, 0.0, 0.0, 0.0, 0.0, 0.0, 0.0, 0.0, 0.0, 0.0, 0.0, 0.0, 0.0, 0.0, 0.0, 0.0, 0.0, 0.0, 0.0, 0.0, 0.0, 0.0, 0.0, 0.0, 0.0, 0.0, 0.0, 0.0, 0.0, 0.0, 0.0, 0.0, 0.0], [1.0, 1.0, 1.0, 1.0, 1.0, 1.0, 1.0, 1.0, 1.0, 1.0, 1.0, 1.0, 1.0, 1.0, 1.0, 1.0, 1.0, 1.0, 1.0, 1.0, 1.0, 1.0, 1.0, 1.0, 1.0, 1.0, 1.0, 0.0, 0.0, 0.0, 0.0, 0.0, 0.0, 0.0, 0.0, 0.0, 0.0, 0.0, 0.0, 0.0, 0.0, 0.0, 0.0, 0.0, 0.0, 0.0, 0.0, 0.0, 0.0, 0.0, 0.0, 0.0, 0.0, 0.0, 0.0, 0.0, 0.0, 0.0, 0.0, 0.0, 0.0, 0.0, 0.0, 0.0, 0.0, 0.0, 0.0, 0.0, 0.0, 0.0, 0.0, 0.0, 0.0, 0.0, 0.0], [1.0, 1.0, 1.0, 1.0, 1.0, 1.0, 1.0, 1.0, 1.0, 1.0, 1.0, 1.0, 1.0, 1.0, 1.0, 1.0, 1.0, 1.0, 1.0, 1.0, 1.0, 0.0, 0.0, 0.0, 0.0, 0.0, 0.0, 0.0, 0.0, 0.0, 0.0, 0.0, 0.0, 0.0, 0.0, 0.0, 0.0, 0.0, 0.0, 0.0, 0.0, 0.0, 0.0, 0.0, 0.0, 0.0, 0.0, 0.0, 0.0, 0.0, 0.0, 0.0, 0.0, 0.0, 0.0, 0.0, 0.0, 0.0, 0.0, 0.0, 0.0, 0.0, 0.0, 0.0, 0.0, 0.0, 0.0, 0.0, 0.0, 0.0, 0.0, 0.0, 0.0, 0.0, 0.0], [1.0, 1.0, 1.0, 1.0, 1.0, 1.0, 1.0, 1.0, 1.0, 1.0, 1.0, 1.0, 1.0, 1.0, 1.0, 1.0, 1.0, 1.0, 1.0, 1.0, 1.0, 0.0, 0.0, 0.0, 0.0, 0.0, 0.0, 0.0, 0.0, 0.0, 0.0, 0.0, 0.0, 0.0, 0.0, 0.0, 0.0, 0.0, 0.0, 0.0, 0.0, 0.0, 0.0, 0.0, 0.0, 0.0, 0.0, 0.0, 0.0, 0.0, 0.0, 0.0, 0.0, 0.0, 0.0, 0.0, 0.0, 0.0, 0.0, 0.0, 0.0, 0.0, 0.0, 0.0, 0.0, 0.0, 0.0, 0.0, 0.0, 0.0, 0.0, 0.0, 0.0, 0.0, 0.0], [1.0, 1.0, 1.0, 1.0, 1.0, 1.0, 1.0, 1.0, 1.0, 1.0, 1.0, 1.0, 1.0, 1.0, 1.0, 1.0, 1.0, 1.0, 1.0, 1.0, 1.0, 1.0, 1.0, 1.0, 1.0, 1.0, 1.0, 1.0, 1.0, 1.0, 1.0, 1.0, 1.0, 1.0, 1.0, 1.0, 1.0, 1.0, 1.0, 1.0, 1.0, 1.0, 1.0, 1.0, 1.0, 0.0, 0.0, 0.0, 0.0, 0.0, 0.0, 0.0, 0.0, 0.0, 0.0, 0.0, 0.0, 0.0, 0.0, 0.0, 0.0, 0.0, 0.0, 0.0, 0.0, 0.0, 0.0, 0.0, 0.0, 0.0, 0.0, 0.0, 0.0, 0.0, 0.0], [1.0, 1.0, 1.0, 1.0, 1.0, 1.0, 1.0, 1.0, 1.0, 1.0, 1.0, 1.0, 1.0, 1.0, 1.0, 1.0, 1.0, 1.0, 1.0, 1.0, 1.0, 1.0, 1.0, 1.0, 1.0, 1.0, 1.0, 1.0, 1.0, 1.0, 0.0, 0.0, 0.0, 0.0, 0.0, 0.0, 0.0, 0.0, 0.0, 0.0, 0.0, 0.0, 0.0, 0.0, 0.0, 0.0, 0.0, 0.0, 0.0, 0.0, 0.0, 0.0, 0.0, 0.0, 0.0, 0.0, 0.0, 0.0, 0.0, 0.0, 0.0, 0.0, 0.0, 0.0, 0.0, 0.0, 0.0, 0.0, 0.0, 0.0, 0.0, 0.0, 0.0, 0.0, 0.0], [1.0, 1.0, 1.0, 1.0, 1.0, 1.0, 1.0, 1.0, 1.0, 1.0, 1.0, 1.0, 1.0, 1.0, 1.0, 1.0, 1.0, 1.0, 1.0, 1.0, 1.0, 1.0, 1.0, 1.0, 1.0, 1.0, 1.0, 1.0, 1.0, 1.0, 1.0, 1.0, 1.0, 1.0, 1.0, 1.0, 1.0, 1.0, 1.0, 1.0, 1.0, 1.0, 1.0, 1.0, 1.0, 1.0, 1.0, 1.0, 1.0, 1.0, 1.0, 1.0, 1.0, 1.0, 1.0, 1.0, 1.0, 1.0, 1.0, 1.0, 1.0, 1.0, 1.0, 1.0, 1.0, 1.0, 1.0, 1.0, 1.0, 1.0, 1.0, 1.0, 1.0, 1.0, 1.0], [1.0, 1.0, 1.0, 1.0, 1.0, 1.0, 1.0, 1.0, 1.0, 1.0, 1.0, 1.0, 1.0, 1.0, 1.0, 1.0, 1.0, 1.0, 1.0, 1.0, 1.0, 1.0, 1.0, 1.0, 1.0, 1.0, 1.0, 1.0, 1.0, 1.0, 1.0, 1.0, 1.0, 1.0, 1.0, 1.0, 0.0, 0.0, 0.0, 0.0, 0.0, 0.0, 0.0, 0.0, 0.0, 0.0, 0.0, 0.0, 0.0, 0.0, 0.0, 0.0, 0.0, 0.0, 0.0, 0.0, 0.0, 0.0, 0.0, 0.0, 0.0, 0.0, 0.0, 0.0, 0.0, 0.0, 0.0, 0.0, 0.0, 0.0, 0.0, 0.0, 0.0, 0.0, 0.0], [1.0, 1.0, 1.0, 1.0, 1.0, 1.0, 1.0, 1.0, 1.0, 1.0, 1.0, 1.0, 1.0, 1.0, 1.0, 1.0, 1.0, 1.0, 1.0, 0.0, 0.0, 0.0, 0.0, 0.0, 0.0, 0.0, 0.0, 0.0, 0.0, 0.0, 0.0, 0.0, 0.0, 0.0, 0.0, 0.0, 0.0, 0.0, 0.0, 0.0, 0.0, 0.0, 0.0, 0.0, 0.0, 0.0, 0.0, 0.0, 0.0, 0.0, 0.0, 0.0, 0.0, 0.0, 0.0, 0.0, 0.0, 0.0, 0.0, 0.0, 0.0, 0.0, 0.0, 0.0, 0.0, 0.0, 0.0, 0.0, 0.0, 0.0, 0.0, 0.0, 0.0, 0.0, 0.0], [1.0, 1.0, 1.0, 1.0, 1.0, 1.0, 1.0, 1.0, 1.0, 1.0, 1.0, 1.0, 1.0, 1.0, 1.0, 1.0, 1.0, 1.0, 1.0, 1.0, 1.0, 1.0, 1.0, 1.0, 1.0, 1.0, 1.0, 1.0, 1.0, 1.0, 1.0, 1.0, 1.0, 1.0, 1.0, 1.0, 0.0, 0.0, 0.0, 0.0, 0.0, 0.0, 0.0, 0.0, 0.0, 0.0, 0.0, 0.0, 0.0, 0.0, 0.0, 0.0, 0.0, 0.0, 0.0, 0.0, 0.0, 0.0, 0.0, 0.0, 0.0, 0.0, 0.0, 0.0, 0.0, 0.0, 0.0, 0.0, 0.0, 0.0, 0.0, 0.0, 0.0, 0.0, 0.0], [1.0, 1.0, 1.0, 1.0, 1.0, 1.0, 1.0, 1.0, 1.0, 1.0, 1.0, 1.0, 1.0, 1.0, 1.0, 1.0, 1.0, 1.0, 1.0, 1.0, 1.0, 1.0, 1.0, 1.0, 1.0, 1.0, 1.0, 1.0, 1.0, 1.0, 1.0, 1.0, 1.0, 1.0, 1.0, 1.0, 0.0, 0.0, 0.0, 0.0, 0.0, 0.0, 0.0, 0.0, 0.0, 0.0, 0.0, 0.0, 0.0, 0.0, 0.0, 0.0, 0.0, 0.0, 0.0, 0.0, 0.0, 0.0, 0.0, 0.0, 0.0, 0.0, 0.0, 0.0, 0.0, 0.0, 0.0, 0.0, 0.0, 0.0, 0.0, 0.0, 0.0, 0.0, 0.0], [1.0, 1.0, 1.0, 1.0, 1.0, 1.0, 1.0, 1.0, 1.0, 1.0, 1.0, 1.0, 1.0, 1.0, 1.0, 1.0, 1.0, 1.0, 1.0, 1.0, 1.0, 1.0, 1.0, 1.0, 1.0, 1.0, 1.0, 1.0, 1.0, 1.0, 1.0, 1.0, 1.0, 1.0, 1.0, 1.0, 1.0, 1.0, 1.0, 1.0, 1.0, 1.0, 1.0, 1.0, 1.0, 1.0, 1.0, 1.0, 1.0, 1.0, 1.0, 0.0, 0.0, 0.0, 0.0, 0.0, 0.0, 0.0, 0.0, 0.0, 0.0, 0.0, 0.0, 0.0, 0.0, 0.0, 0.0, 0.0, 0.0, 0.0, 0.0, 0.0, 0.0, 0.0, 0.0], [1.0, 1.0, 1.0, 1.0, 1.0, 1.0, 1.0, 1.0, 1.0, 1.0, 1.0, 1.0, 1.0, 1.0, 1.0, 1.0, 1.0, 1.0, 1.0, 0.0, 0.0, 0.0, 0.0, 0.0, 0.0, 0.0, 0.0, 0.0, 0.0, 0.0, 0.0, 0.0, 0.0, 0.0, 0.0, 0.0, 0.0, 0.0, 0.0, 0.0, 0.0, 0.0, 0.0, 0.0, 0.0, 0.0, 0.0, 0.0, 0.0, 0.0, 0.0, 0.0, 0.0, 0.0, 0.0, 0.0, 0.0, 0.0, 0.0, 0.0, 0.0, 0.0, 0.0, 0.0, 0.0, 0.0, 0.0, 0.0, 0.0, 0.0, 0.0, 0.0, 0.0, 0.0, 0.0], [1.0, 1.0, 1.0, 1.0, 1.0, 1.0, 1.0, 1.0, 1.0, 1.0, 1.0, 1.0, 1.0, 1.0, 1.0, 1.0, 1.0, 1.0, 1.0, 1.0, 1.0, 1.0, 1.0, 1.0, 1.0, 1.0, 1.0, 1.0, 1.0, 1.0, 1.0, 1.0, 1.0, 1.0, 1.0, 1.0, 1.0, 1.0, 1.0, 1.0, 1.0, 1.0, 1.0, 1.0, 1.0, 1.0, 1.0, 0.0, 0.0, 0.0, 0.0, 0.0, 0.0, 0.0, 0.0, 0.0, 0.0, 0.0, 0.0, 0.0, 0.0, 0.0, 0.0, 0.0, 0.0, 0.0, 0.0, 0.0, 0.0, 0.0, 0.0, 0.0, 0.0, 0.0, 0.0], [1.0, 1.0, 1.0, 1.0, 1.0, 1.0, 1.0, 1.0, 1.0, 1.0, 1.0, 1.0, 1.0, 1.0, 1.0, 1.0, 1.0, 1.0, 1.0, 1.0, 1.0, 1.0, 1.0, 1.0, 1.0, 1.0, 1.0, 1.0, 1.0, 1.0, 1.0, 1.0, 1.0, 1.0, 1.0, 1.0, 1.0, 1.0, 1.0, 1.0, 1.0, 1.0, 1.0, 1.0, 1.0, 1.0, 1.0, 1.0, 1.0, 1.0, 1.0, 1.0, 1.0, 1.0, 1.0, 1.0, 1.0, 1.0, 1.0, 1.0, 1.0, 1.0, 1.0, 1.0, 1.0, 1.0, 1.0, 1.0, 1.0, 1.0, 1.0, 1.0, 1.0, 1.0, 1.0]]\n"
          ],
          "name": "stdout"
        }
      ]
    },
    {
      "cell_type": "code",
      "metadata": {
        "id": "d-0ObIk9ObL2",
        "colab_type": "code",
        "colab": {}
      },
      "source": [
        "tr_inputs, val_inputs, tr_tags, val_tags = train_test_split(input_ids,tags,random_state=2018, test_size=0.1)\n",
        "tr_masks, val_masks, _, _ = train_test_split(attention_masks, input_ids,random_state=2018, test_size=0.1)"
      ],
      "execution_count": 33,
      "outputs": []
    },
    {
      "cell_type": "code",
      "metadata": {
        "id": "Y_S4W8AzOfo9",
        "colab_type": "code",
        "colab": {}
      },
      "source": [
        "#convert all tensor format\n",
        "tr_inputs = torch.tensor(tr_inputs)\n",
        "val_inputs = torch.tensor(val_inputs)\n",
        "tr_tags = torch.tensor(tr_tags)\n",
        "val_tags = torch.tensor(val_tags)\n",
        "tr_masks = torch.tensor(tr_masks)\n",
        "val_masks = torch.tensor(val_masks)"
      ],
      "execution_count": 34,
      "outputs": []
    },
    {
      "cell_type": "code",
      "metadata": {
        "id": "THFbLv92OguF",
        "colab_type": "code",
        "colab": {
          "base_uri": "https://localhost:8080/",
          "height": 34
        },
        "outputId": "2c577426-9003-488b-be80-424f7abbfb37"
      },
      "source": [
        "tr_tags.shape"
      ],
      "execution_count": 35,
      "outputs": [
        {
          "output_type": "execute_result",
          "data": {
            "text/plain": [
              "torch.Size([151, 75])"
            ]
          },
          "metadata": {
            "tags": []
          },
          "execution_count": 35
        }
      ]
    },
    {
      "cell_type": "code",
      "metadata": {
        "id": "-d4SZDbjOmCH",
        "colab_type": "code",
        "colab": {
          "base_uri": "https://localhost:8080/",
          "height": 34
        },
        "outputId": "9deab56e-297f-4d95-b173-db65409e824b"
      },
      "source": [
        "val_tags.shape"
      ],
      "execution_count": 37,
      "outputs": [
        {
          "output_type": "execute_result",
          "data": {
            "text/plain": [
              "torch.Size([17, 75])"
            ]
          },
          "metadata": {
            "tags": []
          },
          "execution_count": 37
        }
      ]
    },
    {
      "cell_type": "code",
      "metadata": {
        "id": "ImW7MUrpOraV",
        "colab_type": "code",
        "colab": {
          "base_uri": "https://localhost:8080/",
          "height": 34
        },
        "outputId": "3d1210e3-1cf0-4076-9126-ccde185dec52"
      },
      "source": [
        "tr_inputs.shape"
      ],
      "execution_count": 38,
      "outputs": [
        {
          "output_type": "execute_result",
          "data": {
            "text/plain": [
              "torch.Size([151, 75])"
            ]
          },
          "metadata": {
            "tags": []
          },
          "execution_count": 38
        }
      ]
    },
    {
      "cell_type": "code",
      "metadata": {
        "id": "lGifW-HsOthf",
        "colab_type": "code",
        "colab": {}
      },
      "source": [
        "#train_data in the form - input tokens, attention masks for the corresponding tokens and the tags for the tokens\n",
        "train_data = TensorDataset(tr_inputs,tr_masks,tr_tags)\n",
        "#returns random indices from the data source\n",
        "train_sampler = RandomSampler(train_data)\n",
        "#dataloader combines the dataset and the sampler \n",
        "train_dataloader = DataLoader(train_data, sampler=train_sampler, batch_size=32)\n",
        "valid_data = TensorDataset(val_inputs, val_masks, val_tags)\n",
        "#samples elements sequentially in the same order\n",
        "valid_sampler = SequentialSampler(valid_data)\n",
        "valid_dataloader = DataLoader(valid_data,sampler=valid_sampler, batch_size=32)"
      ],
      "execution_count": 39,
      "outputs": []
    },
    {
      "cell_type": "code",
      "metadata": {
        "id": "bzE0YZYiQb42",
        "colab_type": "code",
        "colab": {
          "base_uri": "https://localhost:8080/",
          "height": 272
        },
        "outputId": "2391765b-c968-4444-9854-1b93f88a06d3"
      },
      "source": [
        "for input,mask,tag in train_dataloader:\n",
        "  print(mask.shape)\n",
        "  print(input.shape)\n",
        "  print(tag.shape)"
      ],
      "execution_count": 40,
      "outputs": [
        {
          "output_type": "stream",
          "text": [
            "torch.Size([32, 75])\n",
            "torch.Size([32, 75])\n",
            "torch.Size([32, 75])\n",
            "torch.Size([32, 75])\n",
            "torch.Size([32, 75])\n",
            "torch.Size([32, 75])\n",
            "torch.Size([32, 75])\n",
            "torch.Size([32, 75])\n",
            "torch.Size([32, 75])\n",
            "torch.Size([32, 75])\n",
            "torch.Size([32, 75])\n",
            "torch.Size([32, 75])\n",
            "torch.Size([23, 75])\n",
            "torch.Size([23, 75])\n",
            "torch.Size([23, 75])\n"
          ],
          "name": "stdout"
        }
      ]
    },
    {
      "cell_type": "markdown",
      "metadata": {
        "id": "McqKvj6lQf16",
        "colab_type": "text"
      },
      "source": [
        "Setup the Bert model for finetuning"
      ]
    },
    {
      "cell_type": "code",
      "metadata": {
        "id": "IpAELhCNQdyy",
        "colab_type": "code",
        "colab": {}
      },
      "source": [
        "import transformers\n",
        "#bertfortokenclassification addsa classifier on top of bert model\n",
        "from transformers import BertForTokenClassification,AdamW,AutoConfig"
      ],
      "execution_count": 41,
      "outputs": []
    },
    {
      "cell_type": "code",
      "metadata": {
        "id": "60zBwFMCQnwS",
        "colab_type": "code",
        "colab": {
          "base_uri": "https://localhost:8080/",
          "height": 802
        },
        "outputId": "1b61df89-5231-45df-e0dc-296460a02d68"
      },
      "source": [
        "model1 = BertForTokenClassification.from_pretrained(\"emilyalsentzer/Bio_ClinicalBERT\",num_labels=len(tag2idx), output_attentions = False,output_hidden_states = False)"
      ],
      "execution_count": 42,
      "outputs": [
        {
          "output_type": "stream",
          "text": [
            "INFO:transformers.configuration_utils:loading configuration file https://s3.amazonaws.com/models.huggingface.co/bert/emilyalsentzer/Bio_ClinicalBERT/config.json from cache at /root/.cache/torch/transformers/f1b766d4011bf16cfd52c7be6150a4f5d4c2256eaca3c2edb073f468005f08a2.e99f38979b92a72e708709cb38397fa864caf99dd2e2ed75826560450aa14a0c\n",
            "INFO:transformers.configuration_utils:Model config BertConfig {\n",
            "  \"attention_probs_dropout_prob\": 0.1,\n",
            "  \"gradient_checkpointing\": false,\n",
            "  \"hidden_act\": \"gelu\",\n",
            "  \"hidden_dropout_prob\": 0.1,\n",
            "  \"hidden_size\": 768,\n",
            "  \"id2label\": {\n",
            "    \"0\": \"LABEL_0\",\n",
            "    \"1\": \"LABEL_1\",\n",
            "    \"2\": \"LABEL_2\",\n",
            "    \"3\": \"LABEL_3\",\n",
            "    \"4\": \"LABEL_4\",\n",
            "    \"5\": \"LABEL_5\",\n",
            "    \"6\": \"LABEL_6\",\n",
            "    \"7\": \"LABEL_7\"\n",
            "  },\n",
            "  \"initializer_range\": 0.02,\n",
            "  \"intermediate_size\": 3072,\n",
            "  \"label2id\": {\n",
            "    \"LABEL_0\": 0,\n",
            "    \"LABEL_1\": 1,\n",
            "    \"LABEL_2\": 2,\n",
            "    \"LABEL_3\": 3,\n",
            "    \"LABEL_4\": 4,\n",
            "    \"LABEL_5\": 5,\n",
            "    \"LABEL_6\": 6,\n",
            "    \"LABEL_7\": 7\n",
            "  },\n",
            "  \"layer_norm_eps\": 1e-12,\n",
            "  \"max_position_embeddings\": 512,\n",
            "  \"model_type\": \"bert\",\n",
            "  \"num_attention_heads\": 12,\n",
            "  \"num_hidden_layers\": 12,\n",
            "  \"pad_token_id\": 0,\n",
            "  \"type_vocab_size\": 2,\n",
            "  \"vocab_size\": 28996\n",
            "}\n",
            "\n",
            "INFO:transformers.modeling_utils:loading weights file https://cdn.huggingface.co/emilyalsentzer/Bio_ClinicalBERT/pytorch_model.bin from cache at /root/.cache/torch/transformers/91c95541a292980d2ab0942afab21efcaabbcb767f850bdac4b829126f15b35c.7c0f86182853d46a0efe8b1427d50fe6421bb8346d105db81ee98e35f4b35e14\n",
            "WARNING:transformers.modeling_utils:Some weights of the model checkpoint at emilyalsentzer/Bio_ClinicalBERT were not used when initializing BertForTokenClassification: ['cls.predictions.bias', 'cls.predictions.transform.dense.weight', 'cls.predictions.transform.dense.bias', 'cls.predictions.transform.LayerNorm.weight', 'cls.predictions.transform.LayerNorm.bias', 'cls.predictions.decoder.weight', 'cls.seq_relationship.weight', 'cls.seq_relationship.bias']\n",
            "- This IS expected if you are initializing BertForTokenClassification from the checkpoint of a model trained on another task or with another architecture (e.g. initializing a BertForSequenceClassification model from a BertForPretraining model).\n",
            "- This IS NOT expected if you are initializing BertForTokenClassification from the checkpoint of a model that you expect to be exactly identical (initializing a BertForSequenceClassification model from a BertForSequenceClassification model).\n",
            "WARNING:transformers.modeling_utils:Some weights of BertForTokenClassification were not initialized from the model checkpoint at emilyalsentzer/Bio_ClinicalBERT and are newly initialized: ['classifier.weight', 'classifier.bias']\n",
            "You should probably TRAIN this model on a down-stream task to be able to use it for predictions and inference.\n"
          ],
          "name": "stderr"
        }
      ]
    },
    {
      "cell_type": "code",
      "metadata": {
        "id": "aOwMW34eQrbh",
        "colab_type": "code",
        "colab": {
          "base_uri": "https://localhost:8080/",
          "height": 153
        },
        "outputId": "da5624ba-7b38-4db5-9d65-929a93ba69db"
      },
      "source": [
        "import torch\n",
        "#specify GPU as device\n",
        "if torch.cuda.is_available():\n",
        "  device=torch.device(\"cuda\")\n",
        "  print('There are %d GPU(s) available.' % torch.cuda.device_count())\n",
        "  print('We will use the GPU:', torch.cuda.get_device_name(0))"
      ],
      "execution_count": 43,
      "outputs": [
        {
          "output_type": "stream",
          "text": [
            "There are 1 GPU(s) available.\n",
            "We will use the GPU: Tesla T4\n"
          ],
          "name": "stdout"
        },
        {
          "output_type": "stream",
          "text": [
            "/usr/local/lib/python3.6/dist-packages/torch/cuda/__init__.py:125: UserWarning: \n",
            "Tesla T4 with CUDA capability sm_75 is not compatible with the current PyTorch installation.\n",
            "The current PyTorch install supports CUDA capabilities sm_37 sm_50 sm_60 sm_70.\n",
            "If you want to use the Tesla T4 GPU with PyTorch, please check the instructions at https://pytorch.org/get-started/locally/\n",
            "\n",
            "  warnings.warn(incompatible_device_warn.format(device_name, capability, \" \".join(arch_list), device_name))\n"
          ],
          "name": "stderr"
        }
      ]
    },
    {
      "cell_type": "code",
      "metadata": {
        "id": "25S1zarpQ5Wi",
        "colab_type": "code",
        "colab": {
          "base_uri": "https://localhost:8080/",
          "height": 34
        },
        "outputId": "365fa8b9-3f22-479a-c639-e98f18227c56"
      },
      "source": [
        "model1.num_labels"
      ],
      "execution_count": 44,
      "outputs": [
        {
          "output_type": "execute_result",
          "data": {
            "text/plain": [
              "8"
            ]
          },
          "metadata": {
            "tags": []
          },
          "execution_count": 44
        }
      ]
    },
    {
      "cell_type": "code",
      "metadata": {
        "id": "kw7KxgefQ_Vt",
        "colab_type": "code",
        "colab": {
          "base_uri": "https://localhost:8080/",
          "height": 1000
        },
        "outputId": "b614b2c4-e283-4b75-ff56-a9ac4e9f572a"
      },
      "source": [
        "# Tell pytorch to run this model on the GPU.\n",
        "model1.cuda()"
      ],
      "execution_count": 46,
      "outputs": [
        {
          "output_type": "execute_result",
          "data": {
            "text/plain": [
              "BertForTokenClassification(\n",
              "  (bert): BertModel(\n",
              "    (embeddings): BertEmbeddings(\n",
              "      (word_embeddings): Embedding(28996, 768, padding_idx=0)\n",
              "      (position_embeddings): Embedding(512, 768)\n",
              "      (token_type_embeddings): Embedding(2, 768)\n",
              "      (LayerNorm): LayerNorm((768,), eps=1e-12, elementwise_affine=True)\n",
              "      (dropout): Dropout(p=0.1, inplace=False)\n",
              "    )\n",
              "    (encoder): BertEncoder(\n",
              "      (layer): ModuleList(\n",
              "        (0): BertLayer(\n",
              "          (attention): BertAttention(\n",
              "            (self): BertSelfAttention(\n",
              "              (query): Linear(in_features=768, out_features=768, bias=True)\n",
              "              (key): Linear(in_features=768, out_features=768, bias=True)\n",
              "              (value): Linear(in_features=768, out_features=768, bias=True)\n",
              "              (dropout): Dropout(p=0.1, inplace=False)\n",
              "            )\n",
              "            (output): BertSelfOutput(\n",
              "              (dense): Linear(in_features=768, out_features=768, bias=True)\n",
              "              (LayerNorm): LayerNorm((768,), eps=1e-12, elementwise_affine=True)\n",
              "              (dropout): Dropout(p=0.1, inplace=False)\n",
              "            )\n",
              "          )\n",
              "          (intermediate): BertIntermediate(\n",
              "            (dense): Linear(in_features=768, out_features=3072, bias=True)\n",
              "          )\n",
              "          (output): BertOutput(\n",
              "            (dense): Linear(in_features=3072, out_features=768, bias=True)\n",
              "            (LayerNorm): LayerNorm((768,), eps=1e-12, elementwise_affine=True)\n",
              "            (dropout): Dropout(p=0.1, inplace=False)\n",
              "          )\n",
              "        )\n",
              "        (1): BertLayer(\n",
              "          (attention): BertAttention(\n",
              "            (self): BertSelfAttention(\n",
              "              (query): Linear(in_features=768, out_features=768, bias=True)\n",
              "              (key): Linear(in_features=768, out_features=768, bias=True)\n",
              "              (value): Linear(in_features=768, out_features=768, bias=True)\n",
              "              (dropout): Dropout(p=0.1, inplace=False)\n",
              "            )\n",
              "            (output): BertSelfOutput(\n",
              "              (dense): Linear(in_features=768, out_features=768, bias=True)\n",
              "              (LayerNorm): LayerNorm((768,), eps=1e-12, elementwise_affine=True)\n",
              "              (dropout): Dropout(p=0.1, inplace=False)\n",
              "            )\n",
              "          )\n",
              "          (intermediate): BertIntermediate(\n",
              "            (dense): Linear(in_features=768, out_features=3072, bias=True)\n",
              "          )\n",
              "          (output): BertOutput(\n",
              "            (dense): Linear(in_features=3072, out_features=768, bias=True)\n",
              "            (LayerNorm): LayerNorm((768,), eps=1e-12, elementwise_affine=True)\n",
              "            (dropout): Dropout(p=0.1, inplace=False)\n",
              "          )\n",
              "        )\n",
              "        (2): BertLayer(\n",
              "          (attention): BertAttention(\n",
              "            (self): BertSelfAttention(\n",
              "              (query): Linear(in_features=768, out_features=768, bias=True)\n",
              "              (key): Linear(in_features=768, out_features=768, bias=True)\n",
              "              (value): Linear(in_features=768, out_features=768, bias=True)\n",
              "              (dropout): Dropout(p=0.1, inplace=False)\n",
              "            )\n",
              "            (output): BertSelfOutput(\n",
              "              (dense): Linear(in_features=768, out_features=768, bias=True)\n",
              "              (LayerNorm): LayerNorm((768,), eps=1e-12, elementwise_affine=True)\n",
              "              (dropout): Dropout(p=0.1, inplace=False)\n",
              "            )\n",
              "          )\n",
              "          (intermediate): BertIntermediate(\n",
              "            (dense): Linear(in_features=768, out_features=3072, bias=True)\n",
              "          )\n",
              "          (output): BertOutput(\n",
              "            (dense): Linear(in_features=3072, out_features=768, bias=True)\n",
              "            (LayerNorm): LayerNorm((768,), eps=1e-12, elementwise_affine=True)\n",
              "            (dropout): Dropout(p=0.1, inplace=False)\n",
              "          )\n",
              "        )\n",
              "        (3): BertLayer(\n",
              "          (attention): BertAttention(\n",
              "            (self): BertSelfAttention(\n",
              "              (query): Linear(in_features=768, out_features=768, bias=True)\n",
              "              (key): Linear(in_features=768, out_features=768, bias=True)\n",
              "              (value): Linear(in_features=768, out_features=768, bias=True)\n",
              "              (dropout): Dropout(p=0.1, inplace=False)\n",
              "            )\n",
              "            (output): BertSelfOutput(\n",
              "              (dense): Linear(in_features=768, out_features=768, bias=True)\n",
              "              (LayerNorm): LayerNorm((768,), eps=1e-12, elementwise_affine=True)\n",
              "              (dropout): Dropout(p=0.1, inplace=False)\n",
              "            )\n",
              "          )\n",
              "          (intermediate): BertIntermediate(\n",
              "            (dense): Linear(in_features=768, out_features=3072, bias=True)\n",
              "          )\n",
              "          (output): BertOutput(\n",
              "            (dense): Linear(in_features=3072, out_features=768, bias=True)\n",
              "            (LayerNorm): LayerNorm((768,), eps=1e-12, elementwise_affine=True)\n",
              "            (dropout): Dropout(p=0.1, inplace=False)\n",
              "          )\n",
              "        )\n",
              "        (4): BertLayer(\n",
              "          (attention): BertAttention(\n",
              "            (self): BertSelfAttention(\n",
              "              (query): Linear(in_features=768, out_features=768, bias=True)\n",
              "              (key): Linear(in_features=768, out_features=768, bias=True)\n",
              "              (value): Linear(in_features=768, out_features=768, bias=True)\n",
              "              (dropout): Dropout(p=0.1, inplace=False)\n",
              "            )\n",
              "            (output): BertSelfOutput(\n",
              "              (dense): Linear(in_features=768, out_features=768, bias=True)\n",
              "              (LayerNorm): LayerNorm((768,), eps=1e-12, elementwise_affine=True)\n",
              "              (dropout): Dropout(p=0.1, inplace=False)\n",
              "            )\n",
              "          )\n",
              "          (intermediate): BertIntermediate(\n",
              "            (dense): Linear(in_features=768, out_features=3072, bias=True)\n",
              "          )\n",
              "          (output): BertOutput(\n",
              "            (dense): Linear(in_features=3072, out_features=768, bias=True)\n",
              "            (LayerNorm): LayerNorm((768,), eps=1e-12, elementwise_affine=True)\n",
              "            (dropout): Dropout(p=0.1, inplace=False)\n",
              "          )\n",
              "        )\n",
              "        (5): BertLayer(\n",
              "          (attention): BertAttention(\n",
              "            (self): BertSelfAttention(\n",
              "              (query): Linear(in_features=768, out_features=768, bias=True)\n",
              "              (key): Linear(in_features=768, out_features=768, bias=True)\n",
              "              (value): Linear(in_features=768, out_features=768, bias=True)\n",
              "              (dropout): Dropout(p=0.1, inplace=False)\n",
              "            )\n",
              "            (output): BertSelfOutput(\n",
              "              (dense): Linear(in_features=768, out_features=768, bias=True)\n",
              "              (LayerNorm): LayerNorm((768,), eps=1e-12, elementwise_affine=True)\n",
              "              (dropout): Dropout(p=0.1, inplace=False)\n",
              "            )\n",
              "          )\n",
              "          (intermediate): BertIntermediate(\n",
              "            (dense): Linear(in_features=768, out_features=3072, bias=True)\n",
              "          )\n",
              "          (output): BertOutput(\n",
              "            (dense): Linear(in_features=3072, out_features=768, bias=True)\n",
              "            (LayerNorm): LayerNorm((768,), eps=1e-12, elementwise_affine=True)\n",
              "            (dropout): Dropout(p=0.1, inplace=False)\n",
              "          )\n",
              "        )\n",
              "        (6): BertLayer(\n",
              "          (attention): BertAttention(\n",
              "            (self): BertSelfAttention(\n",
              "              (query): Linear(in_features=768, out_features=768, bias=True)\n",
              "              (key): Linear(in_features=768, out_features=768, bias=True)\n",
              "              (value): Linear(in_features=768, out_features=768, bias=True)\n",
              "              (dropout): Dropout(p=0.1, inplace=False)\n",
              "            )\n",
              "            (output): BertSelfOutput(\n",
              "              (dense): Linear(in_features=768, out_features=768, bias=True)\n",
              "              (LayerNorm): LayerNorm((768,), eps=1e-12, elementwise_affine=True)\n",
              "              (dropout): Dropout(p=0.1, inplace=False)\n",
              "            )\n",
              "          )\n",
              "          (intermediate): BertIntermediate(\n",
              "            (dense): Linear(in_features=768, out_features=3072, bias=True)\n",
              "          )\n",
              "          (output): BertOutput(\n",
              "            (dense): Linear(in_features=3072, out_features=768, bias=True)\n",
              "            (LayerNorm): LayerNorm((768,), eps=1e-12, elementwise_affine=True)\n",
              "            (dropout): Dropout(p=0.1, inplace=False)\n",
              "          )\n",
              "        )\n",
              "        (7): BertLayer(\n",
              "          (attention): BertAttention(\n",
              "            (self): BertSelfAttention(\n",
              "              (query): Linear(in_features=768, out_features=768, bias=True)\n",
              "              (key): Linear(in_features=768, out_features=768, bias=True)\n",
              "              (value): Linear(in_features=768, out_features=768, bias=True)\n",
              "              (dropout): Dropout(p=0.1, inplace=False)\n",
              "            )\n",
              "            (output): BertSelfOutput(\n",
              "              (dense): Linear(in_features=768, out_features=768, bias=True)\n",
              "              (LayerNorm): LayerNorm((768,), eps=1e-12, elementwise_affine=True)\n",
              "              (dropout): Dropout(p=0.1, inplace=False)\n",
              "            )\n",
              "          )\n",
              "          (intermediate): BertIntermediate(\n",
              "            (dense): Linear(in_features=768, out_features=3072, bias=True)\n",
              "          )\n",
              "          (output): BertOutput(\n",
              "            (dense): Linear(in_features=3072, out_features=768, bias=True)\n",
              "            (LayerNorm): LayerNorm((768,), eps=1e-12, elementwise_affine=True)\n",
              "            (dropout): Dropout(p=0.1, inplace=False)\n",
              "          )\n",
              "        )\n",
              "        (8): BertLayer(\n",
              "          (attention): BertAttention(\n",
              "            (self): BertSelfAttention(\n",
              "              (query): Linear(in_features=768, out_features=768, bias=True)\n",
              "              (key): Linear(in_features=768, out_features=768, bias=True)\n",
              "              (value): Linear(in_features=768, out_features=768, bias=True)\n",
              "              (dropout): Dropout(p=0.1, inplace=False)\n",
              "            )\n",
              "            (output): BertSelfOutput(\n",
              "              (dense): Linear(in_features=768, out_features=768, bias=True)\n",
              "              (LayerNorm): LayerNorm((768,), eps=1e-12, elementwise_affine=True)\n",
              "              (dropout): Dropout(p=0.1, inplace=False)\n",
              "            )\n",
              "          )\n",
              "          (intermediate): BertIntermediate(\n",
              "            (dense): Linear(in_features=768, out_features=3072, bias=True)\n",
              "          )\n",
              "          (output): BertOutput(\n",
              "            (dense): Linear(in_features=3072, out_features=768, bias=True)\n",
              "            (LayerNorm): LayerNorm((768,), eps=1e-12, elementwise_affine=True)\n",
              "            (dropout): Dropout(p=0.1, inplace=False)\n",
              "          )\n",
              "        )\n",
              "        (9): BertLayer(\n",
              "          (attention): BertAttention(\n",
              "            (self): BertSelfAttention(\n",
              "              (query): Linear(in_features=768, out_features=768, bias=True)\n",
              "              (key): Linear(in_features=768, out_features=768, bias=True)\n",
              "              (value): Linear(in_features=768, out_features=768, bias=True)\n",
              "              (dropout): Dropout(p=0.1, inplace=False)\n",
              "            )\n",
              "            (output): BertSelfOutput(\n",
              "              (dense): Linear(in_features=768, out_features=768, bias=True)\n",
              "              (LayerNorm): LayerNorm((768,), eps=1e-12, elementwise_affine=True)\n",
              "              (dropout): Dropout(p=0.1, inplace=False)\n",
              "            )\n",
              "          )\n",
              "          (intermediate): BertIntermediate(\n",
              "            (dense): Linear(in_features=768, out_features=3072, bias=True)\n",
              "          )\n",
              "          (output): BertOutput(\n",
              "            (dense): Linear(in_features=3072, out_features=768, bias=True)\n",
              "            (LayerNorm): LayerNorm((768,), eps=1e-12, elementwise_affine=True)\n",
              "            (dropout): Dropout(p=0.1, inplace=False)\n",
              "          )\n",
              "        )\n",
              "        (10): BertLayer(\n",
              "          (attention): BertAttention(\n",
              "            (self): BertSelfAttention(\n",
              "              (query): Linear(in_features=768, out_features=768, bias=True)\n",
              "              (key): Linear(in_features=768, out_features=768, bias=True)\n",
              "              (value): Linear(in_features=768, out_features=768, bias=True)\n",
              "              (dropout): Dropout(p=0.1, inplace=False)\n",
              "            )\n",
              "            (output): BertSelfOutput(\n",
              "              (dense): Linear(in_features=768, out_features=768, bias=True)\n",
              "              (LayerNorm): LayerNorm((768,), eps=1e-12, elementwise_affine=True)\n",
              "              (dropout): Dropout(p=0.1, inplace=False)\n",
              "            )\n",
              "          )\n",
              "          (intermediate): BertIntermediate(\n",
              "            (dense): Linear(in_features=768, out_features=3072, bias=True)\n",
              "          )\n",
              "          (output): BertOutput(\n",
              "            (dense): Linear(in_features=3072, out_features=768, bias=True)\n",
              "            (LayerNorm): LayerNorm((768,), eps=1e-12, elementwise_affine=True)\n",
              "            (dropout): Dropout(p=0.1, inplace=False)\n",
              "          )\n",
              "        )\n",
              "        (11): BertLayer(\n",
              "          (attention): BertAttention(\n",
              "            (self): BertSelfAttention(\n",
              "              (query): Linear(in_features=768, out_features=768, bias=True)\n",
              "              (key): Linear(in_features=768, out_features=768, bias=True)\n",
              "              (value): Linear(in_features=768, out_features=768, bias=True)\n",
              "              (dropout): Dropout(p=0.1, inplace=False)\n",
              "            )\n",
              "            (output): BertSelfOutput(\n",
              "              (dense): Linear(in_features=768, out_features=768, bias=True)\n",
              "              (LayerNorm): LayerNorm((768,), eps=1e-12, elementwise_affine=True)\n",
              "              (dropout): Dropout(p=0.1, inplace=False)\n",
              "            )\n",
              "          )\n",
              "          (intermediate): BertIntermediate(\n",
              "            (dense): Linear(in_features=768, out_features=3072, bias=True)\n",
              "          )\n",
              "          (output): BertOutput(\n",
              "            (dense): Linear(in_features=3072, out_features=768, bias=True)\n",
              "            (LayerNorm): LayerNorm((768,), eps=1e-12, elementwise_affine=True)\n",
              "            (dropout): Dropout(p=0.1, inplace=False)\n",
              "          )\n",
              "        )\n",
              "      )\n",
              "    )\n",
              "    (pooler): BertPooler(\n",
              "      (dense): Linear(in_features=768, out_features=768, bias=True)\n",
              "      (activation): Tanh()\n",
              "    )\n",
              "  )\n",
              "  (dropout): Dropout(p=0.1, inplace=False)\n",
              "  (classifier): Linear(in_features=768, out_features=8, bias=True)\n",
              ")"
            ]
          },
          "metadata": {
            "tags": []
          },
          "execution_count": 46
        }
      ]
    },
    {
      "cell_type": "code",
      "metadata": {
        "id": "lJIFK6EkRXOT",
        "colab_type": "code",
        "colab": {
          "base_uri": "https://localhost:8080/",
          "height": 34
        },
        "outputId": "0b7e4afd-465e-4991-d9e7-430acc26d39c"
      },
      "source": [
        "#Print the different parameters\n",
        "params=list(model1.named_parameters())\n",
        "\n",
        "#print\n",
        "print(\"the model has {:} number of parameters\".format(len(params)))"
      ],
      "execution_count": 48,
      "outputs": [
        {
          "output_type": "stream",
          "text": [
            "the model has 201 number of parameters\n"
          ],
          "name": "stdout"
        }
      ]
    },
    {
      "cell_type": "code",
      "metadata": {
        "id": "FsoFjhnbRspJ",
        "colab_type": "code",
        "colab": {
          "base_uri": "https://localhost:8080/",
          "height": 646
        },
        "outputId": "f45ddce5-bd5a-4f41-c449-d02fa23f6b9b"
      },
      "source": [
        "for p in params[0:5]:\n",
        "  print(\"{:<55} {:>12}\".format(p[0], str(tuple(p[1].size()))))\n",
        "print(\"---First Transformer---\")\n",
        "for p in params[5:21]:\n",
        "  print(\"{:<55} {:>12}\".format(p[0], str(tuple(p[1].size()))))\n",
        "for p in params[190:200]:\n",
        "  print(\"{:<55} {:>12}\".format(p[0], str(tuple(p[1].size()))))\n",
        "print(\"---output layer---\")\n",
        "for p in params[-4:]:\n",
        "  print(\"{:<55} {:>12}\".format(p[0], str(tuple(p[1].size()))))"
      ],
      "execution_count": 49,
      "outputs": [
        {
          "output_type": "stream",
          "text": [
            "bert.embeddings.word_embeddings.weight                  (28996, 768)\n",
            "bert.embeddings.position_embeddings.weight                (512, 768)\n",
            "bert.embeddings.token_type_embeddings.weight                (2, 768)\n",
            "bert.embeddings.LayerNorm.weight                              (768,)\n",
            "bert.embeddings.LayerNorm.bias                                (768,)\n",
            "---First Transformer---\n",
            "bert.encoder.layer.0.attention.self.query.weight          (768, 768)\n",
            "bert.encoder.layer.0.attention.self.query.bias                (768,)\n",
            "bert.encoder.layer.0.attention.self.key.weight            (768, 768)\n",
            "bert.encoder.layer.0.attention.self.key.bias                  (768,)\n",
            "bert.encoder.layer.0.attention.self.value.weight          (768, 768)\n",
            "bert.encoder.layer.0.attention.self.value.bias                (768,)\n",
            "bert.encoder.layer.0.attention.output.dense.weight        (768, 768)\n",
            "bert.encoder.layer.0.attention.output.dense.bias              (768,)\n",
            "bert.encoder.layer.0.attention.output.LayerNorm.weight        (768,)\n",
            "bert.encoder.layer.0.attention.output.LayerNorm.bias          (768,)\n",
            "bert.encoder.layer.0.intermediate.dense.weight           (3072, 768)\n",
            "bert.encoder.layer.0.intermediate.dense.bias                 (3072,)\n",
            "bert.encoder.layer.0.output.dense.weight                 (768, 3072)\n",
            "bert.encoder.layer.0.output.dense.bias                        (768,)\n",
            "bert.encoder.layer.0.output.LayerNorm.weight                  (768,)\n",
            "bert.encoder.layer.0.output.LayerNorm.bias                    (768,)\n",
            "bert.encoder.layer.11.attention.output.LayerNorm.bias         (768,)\n",
            "bert.encoder.layer.11.intermediate.dense.weight          (3072, 768)\n",
            "bert.encoder.layer.11.intermediate.dense.bias                (3072,)\n",
            "bert.encoder.layer.11.output.dense.weight                (768, 3072)\n",
            "bert.encoder.layer.11.output.dense.bias                       (768,)\n",
            "bert.encoder.layer.11.output.LayerNorm.weight                 (768,)\n",
            "bert.encoder.layer.11.output.LayerNorm.bias                   (768,)\n",
            "bert.pooler.dense.weight                                  (768, 768)\n",
            "bert.pooler.dense.bias                                        (768,)\n",
            "classifier.weight                                           (8, 768)\n",
            "---output layer---\n",
            "bert.pooler.dense.weight                                  (768, 768)\n",
            "bert.pooler.dense.bias                                        (768,)\n",
            "classifier.weight                                           (8, 768)\n",
            "classifier.bias                                                 (8,)\n"
          ],
          "name": "stdout"
        }
      ]
    },
    {
      "cell_type": "code",
      "metadata": {
        "id": "kHPmu5x4Ru6p",
        "colab_type": "code",
        "colab": {}
      },
      "source": [
        "#grab the optimzer\n",
        "optimizer=AdamW(model1.parameters(),\n",
        "               lr=2e-5, # args.learning_rate - default is 5e-5, our notebook had 2e-5 \n",
        "               eps=1e-8) #a very small number to prevent any division by zero in the implementation)"
      ],
      "execution_count": 50,
      "outputs": []
    },
    {
      "cell_type": "code",
      "metadata": {
        "id": "JbnzKul3R0ZZ",
        "colab_type": "code",
        "colab": {}
      },
      "source": [
        "from transformers import get_linear_schedule_with_warmup"
      ],
      "execution_count": 51,
      "outputs": []
    },
    {
      "cell_type": "code",
      "metadata": {
        "id": "Y93L-ImKR2cy",
        "colab_type": "code",
        "colab": {}
      },
      "source": [
        "epochs=4"
      ],
      "execution_count": 53,
      "outputs": []
    },
    {
      "cell_type": "code",
      "metadata": {
        "id": "VgM19gfzR3yS",
        "colab_type": "code",
        "colab": {}
      },
      "source": [
        "total_steps = len(train_dataloader) * epochs"
      ],
      "execution_count": 54,
      "outputs": []
    },
    {
      "cell_type": "code",
      "metadata": {
        "id": "Gisg4efwR8Xp",
        "colab_type": "code",
        "colab": {}
      },
      "source": [
        "#Create a schedule with a learning rate that decreases linearly from the initial lr set in the optimizer to 0, after a warmup period during which it increases linearly from 0 to the initial lr set in the optimizer.\n",
        "\n",
        "scheduler=get_linear_schedule_with_warmup(\n",
        "    optimizer,\n",
        "    num_warmup_steps=0,#deafault value\n",
        "    num_training_steps=total_steps)\n"
      ],
      "execution_count": 55,
      "outputs": []
    },
    {
      "cell_type": "code",
      "metadata": {
        "id": "HECzlnN8R_vz",
        "colab_type": "code",
        "colab": {}
      },
      "source": [
        "from sklearn.metrics import f1_score, accuracy_score"
      ],
      "execution_count": 56,
      "outputs": []
    },
    {
      "cell_type": "code",
      "metadata": {
        "id": "5G_GFxfDSEV6",
        "colab_type": "code",
        "colab": {}
      },
      "source": [
        "import random\n",
        "import numpy as np"
      ],
      "execution_count": 57,
      "outputs": []
    },
    {
      "cell_type": "code",
      "metadata": {
        "id": "26Kt4YDtSGW8",
        "colab_type": "code",
        "colab": {}
      },
      "source": [
        "# Set the seed value all over the place to make this reproducible.\n",
        "seed_val=42\n",
        "random.seed(seed_val)\n",
        "np.random.seed(seed_val)\n",
        "torch.manual_seed(seed_val)\n",
        "torch.cuda.manual_seed_all(seed_val)"
      ],
      "execution_count": 58,
      "outputs": []
    },
    {
      "cell_type": "code",
      "metadata": {
        "id": "MNwWW7LUSID0",
        "colab_type": "code",
        "colab": {
          "base_uri": "https://localhost:8080/",
          "height": 918
        },
        "outputId": "d3f16fe2-d020-4ffb-9a2a-2f09e18b724c"
      },
      "source": [
        "#for ech epoch\n",
        "#Run the training for the given epochs - typically between 2 and 4\n",
        "#range 0 to 3\n",
        "\n",
        "loss_values, validation_loss_values = [], []\n",
        "\n",
        "\n",
        "for _ in trange(epochs,desc=\"EPOCH\"):\n",
        "  print(\"\")\n",
        "  #print ---Epoch 1/2 ----\n",
        "  #print('======== Epoch {:} / {:} ========'.format(epoch_i + 1, epochs))\n",
        "  print('Training...')\n",
        "\n",
        "  #Reset the total loss for this epoch\n",
        "  total_train_loss=0\n",
        "  \n",
        "  #train the model\n",
        "  model1.train()\n",
        "\n",
        "  for step,batch in enumerate(train_dataloader):\n",
        "    print(step)\n",
        "    #print(batch)\n",
        "\n",
        "    #add the batch to the GPU\n",
        "    batch=tuple(t.to(device) for t in batch)\n",
        "    #print(batch.shape)\n",
        "    b_input_ids,b_input_mask,b_labels=batch\n",
        "    #print(b_labels)\n",
        "  #always clear the gradients before doing a backward pass\n",
        "    model1.zero_grad()\n",
        "\n",
        "   #perform a forward pass\n",
        "    loss,logits=model1(b_input_ids,token_type_ids=None,attention_mask=b_input_mask,labels=b_labels)\n",
        "    \n",
        "    #logits = logits.detach().cpu().numpy()\n",
        "    #print(\"step number -\", step)\n",
        "    #print(\"score--\",logits.shape)\n",
        "    #outout shape in the form : 32*75*18 --32 batch size,75 --> sequence size, 18 --> Tags \n",
        "    #print(\"argmax--\")\n",
        "    #print(\"logits--\",logits)\n",
        "    #print(\"argmax--\",np.argmax(logits,axis=1))\n",
        "   #calculate the accumulating loss\n",
        "   #`loss` is a Tensor containing a # single value; the `.item()` function just returns the Python value \n",
        "    total_train_loss+=loss.item()\n",
        "\n",
        "   # Perform a backward pass to calculate the gradients.\n",
        "   #compute gradient of loss w.r.t all the parameters in loss that have requires_grad = True and store them in parameter.grad attribute for every parameter.\n",
        "    loss.backward()\n",
        "\n",
        "   # Clip the norm of the gradients to 1.0.\n",
        "   # This is to help prevent the \"exploding gradients\" problem\n",
        "   #within a specific range (clip)\n",
        "    torch.nn.utils.clip_grad_norm_(model1.parameters(), 1.0)\n",
        "\n",
        "     \n",
        "   # Update parameters and take a step using the computed gradient.\n",
        "   # The optimizer dictates the \"update rule\"--how the parameters are\n",
        "   # modified based on their gradients, the learning rate, etc.\n",
        "   #updates all the parameters based on parameter.grad\n",
        "    optimizer.step()\n",
        "\n",
        "   # Update the learning rate.\n",
        "    scheduler.step()\n",
        "#Return to the epoch\n",
        "   # Calculate the average loss over all of the batches.  \n",
        "  avg_train_loss= total_train_loss/len(train_dataloader)\n",
        "  print(\"Average train loss: {}\".format(avg_train_loss))\n",
        "  #append the loss for trainig\n",
        "  loss_values.append(avg_train_loss)\n",
        "  print(\" Training is completed\")\n",
        "  print(\"Running Validation... \")\n",
        "\n",
        "  #put the model in evaluation mode\n",
        "  model1.eval()\n",
        "\n",
        "  # Tracking variables \n",
        "  total_eval_accuracy = 0\n",
        "  total_eval_loss = 0\n",
        "  nb_eval_steps = 0\n",
        "  predictions , true_labels = [], []\n",
        "\n",
        "  for batch in valid_dataloader:\n",
        "\n",
        "    #add the batch to the GPU\n",
        "    batch=tuple(t.to(device) for t in batch)\n",
        "    b_input_ids,b_input_mask,b_labels=batch\n",
        "   \n",
        "    #print(\"validation labels:\",b_labels)\n",
        "     #always clear the gradients\n",
        "     #in evaluation mode, you can't do backprog, to save time, dont compute the gradients\n",
        "    with torch.no_grad():\n",
        "      #perform a forward pass\n",
        "      loss,logits=model1(b_input_ids,token_type_ids=None,attention_mask=b_input_mask,labels=b_labels)\n",
        "\n",
        "    logits=logits.detach().cpu().numpy()\n",
        "    label_ids=b_labels.to('cpu').numpy()\n",
        "    label_ids=b_labels\n",
        "\n",
        "\n",
        "   #calculate the accumulating loss\n",
        "   #`loss` is a Tensor containing a # single value; the `.item()` function just returns the Python value \n",
        "    total_eval_loss+=loss.mean().item()\n",
        "    predictions.extend([list(p) for p in np.argmax(logits,axis=2)])\n",
        "    true_labels.extend(label_ids)\n",
        "\n",
        "  eval_loss=total_eval_loss/len(valid_dataloader) \n",
        "  validation_loss_values.append(eval_loss)\n",
        "  print(\"Validation loss: {}\".format(eval_loss))\n",
        "\n",
        "  pred_tags=[tag_values[p_i] for p,l in zip(predictions,true_labels) for p_i,l_i in zip(p,l) if tag_values[l_i] != \"PAD\"]\n",
        "\n",
        "  valid_tags=[tag_values[l_i] for l in true_labels for l_i in l if tag_values[l_i]!=\"PAD\"]\n",
        "\n",
        "  print(\"Validation Accuracy: {}\".format(accuracy_score(pred_tags, valid_tags)))\n",
        "  print(\"Validation F1-Score: {}\".format(f1_score(pred_tags, valid_tags,average='weighted')))"
      ],
      "execution_count": 60,
      "outputs": [
        {
          "output_type": "stream",
          "text": [
            "\rEPOCH:   0%|          | 0/4 [00:00<?, ?it/s]"
          ],
          "name": "stderr"
        },
        {
          "output_type": "stream",
          "text": [
            "\n",
            "Training...\n",
            "0\n",
            "1\n",
            "2\n",
            "3\n",
            "4\n"
          ],
          "name": "stdout"
        },
        {
          "output_type": "stream",
          "text": [
            "\rEPOCH:  25%|██▌       | 1/4 [00:02<00:08,  2.86s/it]"
          ],
          "name": "stderr"
        },
        {
          "output_type": "stream",
          "text": [
            "Average train loss: 1.1998387217521667\n",
            " Training is completed\n",
            "Running Validation... \n",
            "Validation loss: 0.7127617001533508\n",
            "Validation Accuracy: 0.8625180897250362\n",
            "Validation F1-Score: 0.9261849261849263\n",
            "\n",
            "Training...\n",
            "0\n",
            "1\n",
            "2\n",
            "3\n",
            "4\n"
          ],
          "name": "stdout"
        },
        {
          "output_type": "stream",
          "text": [
            "\rEPOCH:  50%|█████     | 2/4 [00:05<00:05,  2.73s/it]"
          ],
          "name": "stderr"
        },
        {
          "output_type": "stream",
          "text": [
            "Average train loss: 0.6933956861495971\n",
            " Training is completed\n",
            "Running Validation... \n",
            "Validation loss: 0.6523022651672363\n",
            "Validation Accuracy: 0.8625180897250362\n",
            "Validation F1-Score: 0.9261849261849263\n",
            "\n",
            "Training...\n",
            "0\n",
            "1\n",
            "2\n",
            "3\n",
            "4\n"
          ],
          "name": "stdout"
        },
        {
          "output_type": "stream",
          "text": [
            "\rEPOCH:  75%|███████▌  | 3/4 [00:07<00:02,  2.64s/it]"
          ],
          "name": "stderr"
        },
        {
          "output_type": "stream",
          "text": [
            "Average train loss: 0.6620024919509888\n",
            " Training is completed\n",
            "Running Validation... \n",
            "Validation loss: 0.6455438137054443\n",
            "Validation Accuracy: 0.8625180897250362\n",
            "Validation F1-Score: 0.9261849261849263\n",
            "\n",
            "Training...\n",
            "0\n",
            "1\n",
            "2\n",
            "3\n",
            "4\n"
          ],
          "name": "stdout"
        },
        {
          "output_type": "stream",
          "text": [
            "EPOCH: 100%|██████████| 4/4 [00:10<00:00,  2.54s/it]"
          ],
          "name": "stderr"
        },
        {
          "output_type": "stream",
          "text": [
            "Average train loss: 0.6409375429153442\n",
            " Training is completed\n",
            "Running Validation... \n",
            "Validation loss: 0.6469035744667053\n",
            "Validation Accuracy: 0.8625180897250362\n",
            "Validation F1-Score: 0.9261849261849263\n"
          ],
          "name": "stdout"
        },
        {
          "output_type": "stream",
          "text": [
            "\n"
          ],
          "name": "stderr"
        }
      ]
    },
    {
      "cell_type": "markdown",
      "metadata": {
        "id": "VHRR2fH9UDv_",
        "colab_type": "text"
      },
      "source": [
        "Demostrate the testing of sentence "
      ]
    },
    {
      "cell_type": "code",
      "metadata": {
        "id": "mU72G2mQUBVt",
        "colab_type": "code",
        "colab": {}
      },
      "source": [
        "test_sentence = \"To study the safety and efficacy of  methylphenidate in children with the dual diagnosis of  epilepsy and attention deficit hyperactivity disorder  and double-blind, crossover design was used to compare the effects \""
      ],
      "execution_count": 66,
      "outputs": []
    },
    {
      "cell_type": "code",
      "metadata": {
        "id": "uRuXJ8GeUJzv",
        "colab_type": "code",
        "colab": {}
      },
      "source": [
        "#tokenize  the text\n",
        "tokenized_sentence=scibert_tokenizer.encode(test_sentence)\n",
        "#the output is sequence of ids (token to ids)"
      ],
      "execution_count": 67,
      "outputs": []
    },
    {
      "cell_type": "code",
      "metadata": {
        "id": "qwymD1QKWWIX",
        "colab_type": "code",
        "colab": {
          "base_uri": "https://localhost:8080/",
          "height": 54
        },
        "outputId": "8212cb4b-bb14-4cf6-a9f5-4420a8dceaed"
      },
      "source": [
        "print(tokenized_sentence)"
      ],
      "execution_count": 70,
      "outputs": [
        {
          "output_type": "stream",
          "text": [
            "[101, 1106, 2025, 1103, 3429, 1105, 23891, 1104, 1899, 18873, 27801, 2605, 9216, 1107, 1482, 1114, 1103, 7058, 12645, 1104, 174, 24898, 12685, 1105, 2209, 16312, 177, 24312, 11179, 6366, 8936, 1105, 2702, 118, 7198, 117, 18847, 1902, 1108, 1215, 1106, 14133, 1103, 3154, 102]\n"
          ],
          "name": "stdout"
        }
      ]
    },
    {
      "cell_type": "code",
      "metadata": {
        "id": "5iHNjsVQUzGA",
        "colab_type": "code",
        "colab": {}
      },
      "source": [
        "#conver to tensor format\n",
        "input_ids = torch.tensor([tokenized_sentence])"
      ],
      "execution_count": 68,
      "outputs": []
    },
    {
      "cell_type": "code",
      "metadata": {
        "id": "5osAl9NSYcv-",
        "colab_type": "code",
        "colab": {
          "base_uri": "https://localhost:8080/",
          "height": 1000
        },
        "outputId": "e23b4a11-7a05-424c-d7ec-a5546da3c5d5"
      },
      "source": [
        "# Tell pytorch to run this model on the GPU.\n",
        "model1.cuda()"
      ],
      "execution_count": 76,
      "outputs": [
        {
          "output_type": "execute_result",
          "data": {
            "text/plain": [
              "BertForTokenClassification(\n",
              "  (bert): BertModel(\n",
              "    (embeddings): BertEmbeddings(\n",
              "      (word_embeddings): Embedding(28996, 768, padding_idx=0)\n",
              "      (position_embeddings): Embedding(512, 768)\n",
              "      (token_type_embeddings): Embedding(2, 768)\n",
              "      (LayerNorm): LayerNorm((768,), eps=1e-12, elementwise_affine=True)\n",
              "      (dropout): Dropout(p=0.1, inplace=False)\n",
              "    )\n",
              "    (encoder): BertEncoder(\n",
              "      (layer): ModuleList(\n",
              "        (0): BertLayer(\n",
              "          (attention): BertAttention(\n",
              "            (self): BertSelfAttention(\n",
              "              (query): Linear(in_features=768, out_features=768, bias=True)\n",
              "              (key): Linear(in_features=768, out_features=768, bias=True)\n",
              "              (value): Linear(in_features=768, out_features=768, bias=True)\n",
              "              (dropout): Dropout(p=0.1, inplace=False)\n",
              "            )\n",
              "            (output): BertSelfOutput(\n",
              "              (dense): Linear(in_features=768, out_features=768, bias=True)\n",
              "              (LayerNorm): LayerNorm((768,), eps=1e-12, elementwise_affine=True)\n",
              "              (dropout): Dropout(p=0.1, inplace=False)\n",
              "            )\n",
              "          )\n",
              "          (intermediate): BertIntermediate(\n",
              "            (dense): Linear(in_features=768, out_features=3072, bias=True)\n",
              "          )\n",
              "          (output): BertOutput(\n",
              "            (dense): Linear(in_features=3072, out_features=768, bias=True)\n",
              "            (LayerNorm): LayerNorm((768,), eps=1e-12, elementwise_affine=True)\n",
              "            (dropout): Dropout(p=0.1, inplace=False)\n",
              "          )\n",
              "        )\n",
              "        (1): BertLayer(\n",
              "          (attention): BertAttention(\n",
              "            (self): BertSelfAttention(\n",
              "              (query): Linear(in_features=768, out_features=768, bias=True)\n",
              "              (key): Linear(in_features=768, out_features=768, bias=True)\n",
              "              (value): Linear(in_features=768, out_features=768, bias=True)\n",
              "              (dropout): Dropout(p=0.1, inplace=False)\n",
              "            )\n",
              "            (output): BertSelfOutput(\n",
              "              (dense): Linear(in_features=768, out_features=768, bias=True)\n",
              "              (LayerNorm): LayerNorm((768,), eps=1e-12, elementwise_affine=True)\n",
              "              (dropout): Dropout(p=0.1, inplace=False)\n",
              "            )\n",
              "          )\n",
              "          (intermediate): BertIntermediate(\n",
              "            (dense): Linear(in_features=768, out_features=3072, bias=True)\n",
              "          )\n",
              "          (output): BertOutput(\n",
              "            (dense): Linear(in_features=3072, out_features=768, bias=True)\n",
              "            (LayerNorm): LayerNorm((768,), eps=1e-12, elementwise_affine=True)\n",
              "            (dropout): Dropout(p=0.1, inplace=False)\n",
              "          )\n",
              "        )\n",
              "        (2): BertLayer(\n",
              "          (attention): BertAttention(\n",
              "            (self): BertSelfAttention(\n",
              "              (query): Linear(in_features=768, out_features=768, bias=True)\n",
              "              (key): Linear(in_features=768, out_features=768, bias=True)\n",
              "              (value): Linear(in_features=768, out_features=768, bias=True)\n",
              "              (dropout): Dropout(p=0.1, inplace=False)\n",
              "            )\n",
              "            (output): BertSelfOutput(\n",
              "              (dense): Linear(in_features=768, out_features=768, bias=True)\n",
              "              (LayerNorm): LayerNorm((768,), eps=1e-12, elementwise_affine=True)\n",
              "              (dropout): Dropout(p=0.1, inplace=False)\n",
              "            )\n",
              "          )\n",
              "          (intermediate): BertIntermediate(\n",
              "            (dense): Linear(in_features=768, out_features=3072, bias=True)\n",
              "          )\n",
              "          (output): BertOutput(\n",
              "            (dense): Linear(in_features=3072, out_features=768, bias=True)\n",
              "            (LayerNorm): LayerNorm((768,), eps=1e-12, elementwise_affine=True)\n",
              "            (dropout): Dropout(p=0.1, inplace=False)\n",
              "          )\n",
              "        )\n",
              "        (3): BertLayer(\n",
              "          (attention): BertAttention(\n",
              "            (self): BertSelfAttention(\n",
              "              (query): Linear(in_features=768, out_features=768, bias=True)\n",
              "              (key): Linear(in_features=768, out_features=768, bias=True)\n",
              "              (value): Linear(in_features=768, out_features=768, bias=True)\n",
              "              (dropout): Dropout(p=0.1, inplace=False)\n",
              "            )\n",
              "            (output): BertSelfOutput(\n",
              "              (dense): Linear(in_features=768, out_features=768, bias=True)\n",
              "              (LayerNorm): LayerNorm((768,), eps=1e-12, elementwise_affine=True)\n",
              "              (dropout): Dropout(p=0.1, inplace=False)\n",
              "            )\n",
              "          )\n",
              "          (intermediate): BertIntermediate(\n",
              "            (dense): Linear(in_features=768, out_features=3072, bias=True)\n",
              "          )\n",
              "          (output): BertOutput(\n",
              "            (dense): Linear(in_features=3072, out_features=768, bias=True)\n",
              "            (LayerNorm): LayerNorm((768,), eps=1e-12, elementwise_affine=True)\n",
              "            (dropout): Dropout(p=0.1, inplace=False)\n",
              "          )\n",
              "        )\n",
              "        (4): BertLayer(\n",
              "          (attention): BertAttention(\n",
              "            (self): BertSelfAttention(\n",
              "              (query): Linear(in_features=768, out_features=768, bias=True)\n",
              "              (key): Linear(in_features=768, out_features=768, bias=True)\n",
              "              (value): Linear(in_features=768, out_features=768, bias=True)\n",
              "              (dropout): Dropout(p=0.1, inplace=False)\n",
              "            )\n",
              "            (output): BertSelfOutput(\n",
              "              (dense): Linear(in_features=768, out_features=768, bias=True)\n",
              "              (LayerNorm): LayerNorm((768,), eps=1e-12, elementwise_affine=True)\n",
              "              (dropout): Dropout(p=0.1, inplace=False)\n",
              "            )\n",
              "          )\n",
              "          (intermediate): BertIntermediate(\n",
              "            (dense): Linear(in_features=768, out_features=3072, bias=True)\n",
              "          )\n",
              "          (output): BertOutput(\n",
              "            (dense): Linear(in_features=3072, out_features=768, bias=True)\n",
              "            (LayerNorm): LayerNorm((768,), eps=1e-12, elementwise_affine=True)\n",
              "            (dropout): Dropout(p=0.1, inplace=False)\n",
              "          )\n",
              "        )\n",
              "        (5): BertLayer(\n",
              "          (attention): BertAttention(\n",
              "            (self): BertSelfAttention(\n",
              "              (query): Linear(in_features=768, out_features=768, bias=True)\n",
              "              (key): Linear(in_features=768, out_features=768, bias=True)\n",
              "              (value): Linear(in_features=768, out_features=768, bias=True)\n",
              "              (dropout): Dropout(p=0.1, inplace=False)\n",
              "            )\n",
              "            (output): BertSelfOutput(\n",
              "              (dense): Linear(in_features=768, out_features=768, bias=True)\n",
              "              (LayerNorm): LayerNorm((768,), eps=1e-12, elementwise_affine=True)\n",
              "              (dropout): Dropout(p=0.1, inplace=False)\n",
              "            )\n",
              "          )\n",
              "          (intermediate): BertIntermediate(\n",
              "            (dense): Linear(in_features=768, out_features=3072, bias=True)\n",
              "          )\n",
              "          (output): BertOutput(\n",
              "            (dense): Linear(in_features=3072, out_features=768, bias=True)\n",
              "            (LayerNorm): LayerNorm((768,), eps=1e-12, elementwise_affine=True)\n",
              "            (dropout): Dropout(p=0.1, inplace=False)\n",
              "          )\n",
              "        )\n",
              "        (6): BertLayer(\n",
              "          (attention): BertAttention(\n",
              "            (self): BertSelfAttention(\n",
              "              (query): Linear(in_features=768, out_features=768, bias=True)\n",
              "              (key): Linear(in_features=768, out_features=768, bias=True)\n",
              "              (value): Linear(in_features=768, out_features=768, bias=True)\n",
              "              (dropout): Dropout(p=0.1, inplace=False)\n",
              "            )\n",
              "            (output): BertSelfOutput(\n",
              "              (dense): Linear(in_features=768, out_features=768, bias=True)\n",
              "              (LayerNorm): LayerNorm((768,), eps=1e-12, elementwise_affine=True)\n",
              "              (dropout): Dropout(p=0.1, inplace=False)\n",
              "            )\n",
              "          )\n",
              "          (intermediate): BertIntermediate(\n",
              "            (dense): Linear(in_features=768, out_features=3072, bias=True)\n",
              "          )\n",
              "          (output): BertOutput(\n",
              "            (dense): Linear(in_features=3072, out_features=768, bias=True)\n",
              "            (LayerNorm): LayerNorm((768,), eps=1e-12, elementwise_affine=True)\n",
              "            (dropout): Dropout(p=0.1, inplace=False)\n",
              "          )\n",
              "        )\n",
              "        (7): BertLayer(\n",
              "          (attention): BertAttention(\n",
              "            (self): BertSelfAttention(\n",
              "              (query): Linear(in_features=768, out_features=768, bias=True)\n",
              "              (key): Linear(in_features=768, out_features=768, bias=True)\n",
              "              (value): Linear(in_features=768, out_features=768, bias=True)\n",
              "              (dropout): Dropout(p=0.1, inplace=False)\n",
              "            )\n",
              "            (output): BertSelfOutput(\n",
              "              (dense): Linear(in_features=768, out_features=768, bias=True)\n",
              "              (LayerNorm): LayerNorm((768,), eps=1e-12, elementwise_affine=True)\n",
              "              (dropout): Dropout(p=0.1, inplace=False)\n",
              "            )\n",
              "          )\n",
              "          (intermediate): BertIntermediate(\n",
              "            (dense): Linear(in_features=768, out_features=3072, bias=True)\n",
              "          )\n",
              "          (output): BertOutput(\n",
              "            (dense): Linear(in_features=3072, out_features=768, bias=True)\n",
              "            (LayerNorm): LayerNorm((768,), eps=1e-12, elementwise_affine=True)\n",
              "            (dropout): Dropout(p=0.1, inplace=False)\n",
              "          )\n",
              "        )\n",
              "        (8): BertLayer(\n",
              "          (attention): BertAttention(\n",
              "            (self): BertSelfAttention(\n",
              "              (query): Linear(in_features=768, out_features=768, bias=True)\n",
              "              (key): Linear(in_features=768, out_features=768, bias=True)\n",
              "              (value): Linear(in_features=768, out_features=768, bias=True)\n",
              "              (dropout): Dropout(p=0.1, inplace=False)\n",
              "            )\n",
              "            (output): BertSelfOutput(\n",
              "              (dense): Linear(in_features=768, out_features=768, bias=True)\n",
              "              (LayerNorm): LayerNorm((768,), eps=1e-12, elementwise_affine=True)\n",
              "              (dropout): Dropout(p=0.1, inplace=False)\n",
              "            )\n",
              "          )\n",
              "          (intermediate): BertIntermediate(\n",
              "            (dense): Linear(in_features=768, out_features=3072, bias=True)\n",
              "          )\n",
              "          (output): BertOutput(\n",
              "            (dense): Linear(in_features=3072, out_features=768, bias=True)\n",
              "            (LayerNorm): LayerNorm((768,), eps=1e-12, elementwise_affine=True)\n",
              "            (dropout): Dropout(p=0.1, inplace=False)\n",
              "          )\n",
              "        )\n",
              "        (9): BertLayer(\n",
              "          (attention): BertAttention(\n",
              "            (self): BertSelfAttention(\n",
              "              (query): Linear(in_features=768, out_features=768, bias=True)\n",
              "              (key): Linear(in_features=768, out_features=768, bias=True)\n",
              "              (value): Linear(in_features=768, out_features=768, bias=True)\n",
              "              (dropout): Dropout(p=0.1, inplace=False)\n",
              "            )\n",
              "            (output): BertSelfOutput(\n",
              "              (dense): Linear(in_features=768, out_features=768, bias=True)\n",
              "              (LayerNorm): LayerNorm((768,), eps=1e-12, elementwise_affine=True)\n",
              "              (dropout): Dropout(p=0.1, inplace=False)\n",
              "            )\n",
              "          )\n",
              "          (intermediate): BertIntermediate(\n",
              "            (dense): Linear(in_features=768, out_features=3072, bias=True)\n",
              "          )\n",
              "          (output): BertOutput(\n",
              "            (dense): Linear(in_features=3072, out_features=768, bias=True)\n",
              "            (LayerNorm): LayerNorm((768,), eps=1e-12, elementwise_affine=True)\n",
              "            (dropout): Dropout(p=0.1, inplace=False)\n",
              "          )\n",
              "        )\n",
              "        (10): BertLayer(\n",
              "          (attention): BertAttention(\n",
              "            (self): BertSelfAttention(\n",
              "              (query): Linear(in_features=768, out_features=768, bias=True)\n",
              "              (key): Linear(in_features=768, out_features=768, bias=True)\n",
              "              (value): Linear(in_features=768, out_features=768, bias=True)\n",
              "              (dropout): Dropout(p=0.1, inplace=False)\n",
              "            )\n",
              "            (output): BertSelfOutput(\n",
              "              (dense): Linear(in_features=768, out_features=768, bias=True)\n",
              "              (LayerNorm): LayerNorm((768,), eps=1e-12, elementwise_affine=True)\n",
              "              (dropout): Dropout(p=0.1, inplace=False)\n",
              "            )\n",
              "          )\n",
              "          (intermediate): BertIntermediate(\n",
              "            (dense): Linear(in_features=768, out_features=3072, bias=True)\n",
              "          )\n",
              "          (output): BertOutput(\n",
              "            (dense): Linear(in_features=3072, out_features=768, bias=True)\n",
              "            (LayerNorm): LayerNorm((768,), eps=1e-12, elementwise_affine=True)\n",
              "            (dropout): Dropout(p=0.1, inplace=False)\n",
              "          )\n",
              "        )\n",
              "        (11): BertLayer(\n",
              "          (attention): BertAttention(\n",
              "            (self): BertSelfAttention(\n",
              "              (query): Linear(in_features=768, out_features=768, bias=True)\n",
              "              (key): Linear(in_features=768, out_features=768, bias=True)\n",
              "              (value): Linear(in_features=768, out_features=768, bias=True)\n",
              "              (dropout): Dropout(p=0.1, inplace=False)\n",
              "            )\n",
              "            (output): BertSelfOutput(\n",
              "              (dense): Linear(in_features=768, out_features=768, bias=True)\n",
              "              (LayerNorm): LayerNorm((768,), eps=1e-12, elementwise_affine=True)\n",
              "              (dropout): Dropout(p=0.1, inplace=False)\n",
              "            )\n",
              "          )\n",
              "          (intermediate): BertIntermediate(\n",
              "            (dense): Linear(in_features=768, out_features=3072, bias=True)\n",
              "          )\n",
              "          (output): BertOutput(\n",
              "            (dense): Linear(in_features=3072, out_features=768, bias=True)\n",
              "            (LayerNorm): LayerNorm((768,), eps=1e-12, elementwise_affine=True)\n",
              "            (dropout): Dropout(p=0.1, inplace=False)\n",
              "          )\n",
              "        )\n",
              "      )\n",
              "    )\n",
              "    (pooler): BertPooler(\n",
              "      (dense): Linear(in_features=768, out_features=768, bias=True)\n",
              "      (activation): Tanh()\n",
              "    )\n",
              "  )\n",
              "  (dropout): Dropout(p=0.1, inplace=False)\n",
              "  (classifier): Linear(in_features=768, out_features=8, bias=True)\n",
              ")"
            ]
          },
          "metadata": {
            "tags": []
          },
          "execution_count": 76
        }
      ]
    },
    {
      "cell_type": "code",
      "metadata": {
        "id": "iXt0mP4BW99b",
        "colab_type": "code",
        "colab": {}
      },
      "source": [
        ""
      ],
      "execution_count": 73,
      "outputs": []
    },
    {
      "cell_type": "code",
      "metadata": {
        "id": "X5CyyIsgWcBB",
        "colab_type": "code",
        "colab": {
          "base_uri": "https://localhost:8080/",
          "height": 102
        },
        "outputId": "940a140b-0289-4af5-8c1b-8da6a8643437"
      },
      "source": [
        "print(input_ids)"
      ],
      "execution_count": 77,
      "outputs": [
        {
          "output_type": "stream",
          "text": [
            "tensor([[  101,  1106,  2025,  1103,  3429,  1105, 23891,  1104,  1899, 18873,\n",
            "         27801,  2605,  9216,  1107,  1482,  1114,  1103,  7058, 12645,  1104,\n",
            "           174, 24898, 12685,  1105,  2209, 16312,   177, 24312, 11179,  6366,\n",
            "          8936,  1105,  2702,   118,  7198,   117, 18847,  1902,  1108,  1215,\n",
            "          1106, 14133,  1103,  3154,   102]])\n"
          ],
          "name": "stdout"
        }
      ]
    },
    {
      "cell_type": "code",
      "metadata": {
        "id": "V7hQUhLVZp8u",
        "colab_type": "code",
        "colab": {
          "base_uri": "https://localhost:8080/",
          "height": 34
        },
        "outputId": "5161e8de-b280-47d3-ea8e-d06d89c3af42"
      },
      "source": [
        "use_cuda = torch.cuda.is_available()\n",
        "print(use_cuda)"
      ],
      "execution_count": 83,
      "outputs": [
        {
          "output_type": "stream",
          "text": [
            "True\n"
          ],
          "name": "stdout"
        }
      ]
    },
    {
      "cell_type": "code",
      "metadata": {
        "id": "lmq4yVzeZzHn",
        "colab_type": "code",
        "colab": {}
      },
      "source": [
        "if use_cuda:\n",
        "  input_ids.cuda()\n"
      ],
      "execution_count": 80,
      "outputs": []
    },
    {
      "cell_type": "code",
      "metadata": {
        "id": "Wx_mbdIIayaG",
        "colab_type": "code",
        "colab": {}
      },
      "source": [
        "#this \n",
        "input_ids=input_ids.cuda()"
      ],
      "execution_count": 85,
      "outputs": []
    },
    {
      "cell_type": "code",
      "metadata": {
        "id": "1VKTnyspafqs",
        "colab_type": "code",
        "colab": {}
      },
      "source": [
        " #batch=tuple(t.to(device) for t in batch)"
      ],
      "execution_count": null,
      "outputs": []
    },
    {
      "cell_type": "code",
      "metadata": {
        "id": "XmzjqdWzU1Ld",
        "colab_type": "code",
        "colab": {}
      },
      "source": [
        "#run the sentence through the model\n",
        "with torch.no_grad():\n",
        "  logits=model1(input_ids)"
      ],
      "execution_count": 94,
      "outputs": []
    },
    {
      "cell_type": "code",
      "metadata": {
        "id": "yDDBxW8SU3OE",
        "colab_type": "code",
        "colab": {}
      },
      "source": [
        "label_indices=torch.argmax(logits[0],axis=2)\n"
      ],
      "execution_count": 96,
      "outputs": []
    },
    {
      "cell_type": "code",
      "metadata": {
        "id": "rvhg2N0VU4Ie",
        "colab_type": "code",
        "colab": {
          "base_uri": "https://localhost:8080/",
          "height": 68
        },
        "outputId": "d7a1fca5-d949-4218-841b-01f5a61944c9"
      },
      "source": [
        "print(label_indices)"
      ],
      "execution_count": 97,
      "outputs": [
        {
          "output_type": "stream",
          "text": [
            "tensor([[5, 5, 5, 5, 5, 5, 5, 5, 5, 5, 5, 5, 5, 5, 5, 5, 5, 5, 5, 5, 5, 5, 5, 5,\n",
            "         5, 5, 5, 5, 5, 5, 5, 5, 5, 5, 5, 5, 5, 5, 5, 5, 5, 5, 5, 5, 5]],\n",
            "       device='cuda:0')\n"
          ],
          "name": "stdout"
        }
      ]
    },
    {
      "cell_type": "code",
      "metadata": {
        "id": "dxz9vV51U733",
        "colab_type": "code",
        "colab": {}
      },
      "source": [
        "#join the split tokens\n",
        "tokens=scibert_tokenizer.convert_ids_to_tokens(input_ids[0])"
      ],
      "execution_count": 98,
      "outputs": []
    },
    {
      "cell_type": "code",
      "metadata": {
        "id": "F6NzGWKYU8ZN",
        "colab_type": "code",
        "colab": {
          "base_uri": "https://localhost:8080/",
          "height": 54
        },
        "outputId": "a73f0d91-a3c0-4eb8-f79d-759a8fe3b91b"
      },
      "source": [
        "print(tokens)"
      ],
      "execution_count": 99,
      "outputs": [
        {
          "output_type": "stream",
          "text": [
            "['[CLS]', 'to', 'study', 'the', 'safety', 'and', 'efficacy', 'of', 'met', '##hyl', '##phe', '##ni', '##date', 'in', 'children', 'with', 'the', 'dual', 'diagnosis', 'of', 'e', '##pile', '##psy', 'and', 'attention', 'deficit', 'h', '##yper', '##act', '##ivity', 'disorder', 'and', 'double', '-', 'blind', ',', 'crossover', 'design', 'was', 'used', 'to', 'compare', 'the', 'effects', '[SEP]']\n"
          ],
          "name": "stdout"
        }
      ]
    },
    {
      "cell_type": "code",
      "metadata": {
        "id": "JMpUvxQOU-Lw",
        "colab_type": "code",
        "colab": {}
      },
      "source": [
        "new_token,new_labels=[],[]\n",
        "for token,label_idx in zip(tokens,label_indices[0]):\n",
        "  if token.startswith(\"##\"):\n",
        "    #add at the end\n",
        "    new_token[-1]=new_token[-1]+token[2:]\n",
        "  else:\n",
        "    #if its not special token\n",
        "    new_labels.append(tag_values[label_idx])\n",
        "    new_token.append(token) "
      ],
      "execution_count": 100,
      "outputs": []
    },
    {
      "cell_type": "code",
      "metadata": {
        "id": "z14EM_AxVBVo",
        "colab_type": "code",
        "colab": {
          "base_uri": "https://localhost:8080/",
          "height": 629
        },
        "outputId": "ae2b2d6b-3442-4c63-9110-f112871137b4"
      },
      "source": [
        "for token,label in zip(new_token,new_labels):\n",
        "  print(\"{}\\t{}\".format(token,label))\n",
        "  "
      ],
      "execution_count": 101,
      "outputs": [
        {
          "output_type": "stream",
          "text": [
            "[CLS]\tO\n",
            "to\tO\n",
            "study\tO\n",
            "the\tO\n",
            "safety\tO\n",
            "and\tO\n",
            "efficacy\tO\n",
            "of\tO\n",
            "methylphenidate\tO\n",
            "in\tO\n",
            "children\tO\n",
            "with\tO\n",
            "the\tO\n",
            "dual\tO\n",
            "diagnosis\tO\n",
            "of\tO\n",
            "epilepsy\tO\n",
            "and\tO\n",
            "attention\tO\n",
            "deficit\tO\n",
            "hyperactivity\tO\n",
            "disorder\tO\n",
            "and\tO\n",
            "double\tO\n",
            "-\tO\n",
            "blind\tO\n",
            ",\tO\n",
            "crossover\tO\n",
            "design\tO\n",
            "was\tO\n",
            "used\tO\n",
            "to\tO\n",
            "compare\tO\n",
            "the\tO\n",
            "effects\tO\n",
            "[SEP]\tO\n"
          ],
          "name": "stdout"
        }
      ]
    }
  ]
}