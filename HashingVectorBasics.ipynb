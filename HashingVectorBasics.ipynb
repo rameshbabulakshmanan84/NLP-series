{
 "cells": [
  {
   "cell_type": "code",
   "execution_count": 1,
   "metadata": {},
   "outputs": [],
   "source": [
    "from sklearn.feature_extraction.text import HashingVectorizer"
   ]
  },
  {
   "cell_type": "code",
   "execution_count": 3,
   "metadata": {},
   "outputs": [],
   "source": [
    "cat_in_the_hat_docs=[\n",
    "      \"One Cent, Two Cents, Old Cent, New Cent: All About Money (Cat in the Hat's Learning Library\",\n",
    "      \"Inside Your Outside: All About the Human Body (Cat in the Hat's Learning Library)\",\n",
    "      \"Oh, The Things You Can Do That Are Good for You: All About Staying Healthy (Cat in the Hat's Learning Library)\",\n",
    "      \"On Beyond Bugs: All About Insects (Cat in the Hat's Learning Library)\",\n",
    "      \"There's No Place Like Space: All About Our Solar System (Cat in the Hat's Learning Library)\" \n",
    "]"
   ]
  },
  {
   "cell_type": "code",
   "execution_count": 4,
   "metadata": {},
   "outputs": [],
   "source": [
    "#compute counts using hasgingvectorizer\n",
    "hvectorizer=HashingVectorizer(n_features=10000,norm=None,alternate_sign=False)\n",
    "# compute counts without any term frequency normalization\n",
    "X=hvectorizer.fit_transform(cat_in_the_hat_docs)"
   ]
  },
  {
   "cell_type": "code",
   "execution_count": 5,
   "metadata": {},
   "outputs": [
    {
     "data": {
      "text/plain": [
       "(5, 10000)"
      ]
     },
     "execution_count": 5,
     "metadata": {},
     "output_type": "execute_result"
    }
   ],
   "source": [
    "#Print the shape\n",
    "X.shape\n",
    "#compare with count vectorizer the size is only 5,43 based on unique vectore\n"
   ]
  },
  {
   "cell_type": "code",
   "execution_count": 7,
   "metadata": {},
   "outputs": [
    {
     "name": "stdout",
     "output_type": "stream",
     "text": [
      "  (0, 93)\t3.0\n",
      "  (0, 689)\t1.0\n",
      "  (0, 717)\t1.0\n",
      "  (0, 1664)\t1.0\n",
      "  (0, 2759)\t1.0\n",
      "  (0, 3124)\t1.0\n",
      "  (0, 4212)\t1.0\n",
      "  (0, 4380)\t1.0\n",
      "  (0, 5044)\t1.0\n",
      "  (0, 7353)\t1.0\n",
      "  (0, 8903)\t1.0\n",
      "  (0, 8958)\t1.0\n",
      "  (0, 9376)\t1.0\n",
      "  (0, 9402)\t1.0\n",
      "  (0, 9851)\t1.0\n"
     ]
    }
   ],
   "source": [
    "#Print the vector\n",
    "print(X[0])\n",
    "#15 unique tokens one with count of 3 rest all 1"
   ]
  },
  {
   "cell_type": "code",
   "execution_count": null,
   "metadata": {},
   "outputs": [],
   "source": []
  }
 ],
 "metadata": {
  "kernelspec": {
   "display_name": "Python 3",
   "language": "python",
   "name": "python3"
  },
  "language_info": {
   "codemirror_mode": {
    "name": "ipython",
    "version": 3
   },
   "file_extension": ".py",
   "mimetype": "text/x-python",
   "name": "python",
   "nbconvert_exporter": "python",
   "pygments_lexer": "ipython3",
   "version": "3.6.4"
  }
 },
 "nbformat": 4,
 "nbformat_minor": 2
}
