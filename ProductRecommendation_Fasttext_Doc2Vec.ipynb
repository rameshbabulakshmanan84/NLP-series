{
  "nbformat": 4,
  "nbformat_minor": 0,
  "metadata": {
    "kernelspec": {
      "display_name": "Python 3",
      "language": "python",
      "name": "python3"
    },
    "language_info": {
      "codemirror_mode": {
        "name": "ipython",
        "version": 3
      },
      "file_extension": ".py",
      "mimetype": "text/x-python",
      "name": "python",
      "nbconvert_exporter": "python",
      "pygments_lexer": "ipython3",
      "version": "3.6.4"
    },
    "colab": {
      "name": "ProductRecommendation -Fasttext_V0.2.ipynb",
      "provenance": [],
      "collapsed_sections": [],
      "include_colab_link": true
    }
  },
  "cells": [
    {
      "cell_type": "markdown",
      "metadata": {
        "id": "view-in-github",
        "colab_type": "text"
      },
      "source": [
        "<a href=\"https://colab.research.google.com/github/rameshbabulakshmanan84/NLP-series/blob/master/ProductRecommendation_Fasttext_Doc2Vec.ipynb\" target=\"_parent\"><img src=\"https://colab.research.google.com/assets/colab-badge.svg\" alt=\"Open In Colab\"/></a>"
      ]
    },
    {
      "cell_type": "code",
      "metadata": {
        "id": "j1aaePdTR_WX",
        "colab_type": "code",
        "colab": {}
      },
      "source": [
        "#Import the libraries\n",
        "import pandas as pd\n",
        "import os\n",
        "import gensim"
      ],
      "execution_count": 1,
      "outputs": []
    },
    {
      "cell_type": "code",
      "metadata": {
        "id": "8B2_AiwEbZ7y",
        "colab_type": "code",
        "colab": {
          "base_uri": "https://localhost:8080/",
          "height": 122
        },
        "outputId": "77359112-f15f-42e9-bd70-8a4de94e7b1a"
      },
      "source": [
        "from google.colab import drive\n",
        "drive.mount('/content/drive')"
      ],
      "execution_count": 2,
      "outputs": [
        {
          "output_type": "stream",
          "text": [
            "Go to this URL in a browser: https://accounts.google.com/o/oauth2/auth?client_id=947318989803-6bn6qk8qdgf4n4g3pfee6491hc0brc4i.apps.googleusercontent.com&redirect_uri=urn%3aietf%3awg%3aoauth%3a2.0%3aoob&response_type=code&scope=email%20https%3a%2f%2fwww.googleapis.com%2fauth%2fdocs.test%20https%3a%2f%2fwww.googleapis.com%2fauth%2fdrive%20https%3a%2f%2fwww.googleapis.com%2fauth%2fdrive.photos.readonly%20https%3a%2f%2fwww.googleapis.com%2fauth%2fpeopleapi.readonly\n",
            "\n",
            "Enter your authorization code:\n",
            "··········\n",
            "Mounted at /content/drive\n"
          ],
          "name": "stdout"
        }
      ]
    },
    {
      "cell_type": "code",
      "metadata": {
        "id": "QffxuD1KR_Wd",
        "colab_type": "code",
        "colab": {}
      },
      "source": [
        "import matplotlib.pyplot as plt\n",
        "%matplotlib inline\n",
        "import warnings;\n",
        "warnings.filterwarnings('ignore')"
      ],
      "execution_count": 3,
      "outputs": []
    },
    {
      "cell_type": "code",
      "metadata": {
        "id": "Wu8EyLAGR_Wl",
        "colab_type": "code",
        "colab": {
          "base_uri": "https://localhost:8080/",
          "height": 34
        },
        "outputId": "b55c3456-353b-490d-a41d-4d68b5e5b91d"
      },
      "source": [
        "print(os.getcwd())"
      ],
      "execution_count": 6,
      "outputs": [
        {
          "output_type": "stream",
          "text": [
            "/content\n"
          ],
          "name": "stdout"
        }
      ]
    },
    {
      "cell_type": "code",
      "metadata": {
        "id": "KGEdIzx6Wjrt",
        "colab_type": "code",
        "colab": {}
      },
      "source": [
        "df=pd.read_excel(\"/content/drive/My Drive/Online Retail.xlsx\")"
      ],
      "execution_count": 7,
      "outputs": []
    },
    {
      "cell_type": "code",
      "metadata": {
        "id": "dT0qN7-PR_W2",
        "colab_type": "code",
        "colab": {
          "base_uri": "https://localhost:8080/",
          "height": 204
        },
        "outputId": "76e8cde5-f5d7-42ed-d04c-162310db4395"
      },
      "source": [
        "df.head()"
      ],
      "execution_count": 8,
      "outputs": [
        {
          "output_type": "execute_result",
          "data": {
            "text/html": [
              "<div>\n",
              "<style scoped>\n",
              "    .dataframe tbody tr th:only-of-type {\n",
              "        vertical-align: middle;\n",
              "    }\n",
              "\n",
              "    .dataframe tbody tr th {\n",
              "        vertical-align: top;\n",
              "    }\n",
              "\n",
              "    .dataframe thead th {\n",
              "        text-align: right;\n",
              "    }\n",
              "</style>\n",
              "<table border=\"1\" class=\"dataframe\">\n",
              "  <thead>\n",
              "    <tr style=\"text-align: right;\">\n",
              "      <th></th>\n",
              "      <th>InvoiceNo</th>\n",
              "      <th>StockCode</th>\n",
              "      <th>Description</th>\n",
              "      <th>Quantity</th>\n",
              "      <th>InvoiceDate</th>\n",
              "      <th>UnitPrice</th>\n",
              "      <th>CustomerID</th>\n",
              "      <th>Country</th>\n",
              "    </tr>\n",
              "  </thead>\n",
              "  <tbody>\n",
              "    <tr>\n",
              "      <th>0</th>\n",
              "      <td>536365</td>\n",
              "      <td>85123A</td>\n",
              "      <td>WHITE HANGING HEART T-LIGHT HOLDER</td>\n",
              "      <td>6</td>\n",
              "      <td>2010-12-01 08:26:00</td>\n",
              "      <td>2.55</td>\n",
              "      <td>17850.0</td>\n",
              "      <td>United Kingdom</td>\n",
              "    </tr>\n",
              "    <tr>\n",
              "      <th>1</th>\n",
              "      <td>536365</td>\n",
              "      <td>71053</td>\n",
              "      <td>WHITE METAL LANTERN</td>\n",
              "      <td>6</td>\n",
              "      <td>2010-12-01 08:26:00</td>\n",
              "      <td>3.39</td>\n",
              "      <td>17850.0</td>\n",
              "      <td>United Kingdom</td>\n",
              "    </tr>\n",
              "    <tr>\n",
              "      <th>2</th>\n",
              "      <td>536365</td>\n",
              "      <td>84406B</td>\n",
              "      <td>CREAM CUPID HEARTS COAT HANGER</td>\n",
              "      <td>8</td>\n",
              "      <td>2010-12-01 08:26:00</td>\n",
              "      <td>2.75</td>\n",
              "      <td>17850.0</td>\n",
              "      <td>United Kingdom</td>\n",
              "    </tr>\n",
              "    <tr>\n",
              "      <th>3</th>\n",
              "      <td>536365</td>\n",
              "      <td>84029G</td>\n",
              "      <td>KNITTED UNION FLAG HOT WATER BOTTLE</td>\n",
              "      <td>6</td>\n",
              "      <td>2010-12-01 08:26:00</td>\n",
              "      <td>3.39</td>\n",
              "      <td>17850.0</td>\n",
              "      <td>United Kingdom</td>\n",
              "    </tr>\n",
              "    <tr>\n",
              "      <th>4</th>\n",
              "      <td>536365</td>\n",
              "      <td>84029E</td>\n",
              "      <td>RED WOOLLY HOTTIE WHITE HEART.</td>\n",
              "      <td>6</td>\n",
              "      <td>2010-12-01 08:26:00</td>\n",
              "      <td>3.39</td>\n",
              "      <td>17850.0</td>\n",
              "      <td>United Kingdom</td>\n",
              "    </tr>\n",
              "  </tbody>\n",
              "</table>\n",
              "</div>"
            ],
            "text/plain": [
              "  InvoiceNo StockCode  ... CustomerID         Country\n",
              "0    536365    85123A  ...    17850.0  United Kingdom\n",
              "1    536365     71053  ...    17850.0  United Kingdom\n",
              "2    536365    84406B  ...    17850.0  United Kingdom\n",
              "3    536365    84029G  ...    17850.0  United Kingdom\n",
              "4    536365    84029E  ...    17850.0  United Kingdom\n",
              "\n",
              "[5 rows x 8 columns]"
            ]
          },
          "metadata": {
            "tags": []
          },
          "execution_count": 8
        }
      ]
    },
    {
      "cell_type": "code",
      "metadata": {
        "id": "Mol6chcMR_W8",
        "colab_type": "code",
        "colab": {
          "base_uri": "https://localhost:8080/",
          "height": 34
        },
        "outputId": "483be28a-ca2b-49bd-863e-1afa93e93216"
      },
      "source": [
        "df.shape"
      ],
      "execution_count": 9,
      "outputs": [
        {
          "output_type": "execute_result",
          "data": {
            "text/plain": [
              "(541909, 8)"
            ]
          },
          "metadata": {
            "tags": []
          },
          "execution_count": 9
        }
      ]
    },
    {
      "cell_type": "code",
      "metadata": {
        "id": "oUjYklZuR_XB",
        "colab_type": "code",
        "colab": {
          "base_uri": "https://localhost:8080/",
          "height": 170
        },
        "outputId": "77762338-a45a-40e5-c095-7b1fad81e8ef"
      },
      "source": [
        "#preprocessing\n",
        "df.isnull().sum()"
      ],
      "execution_count": 10,
      "outputs": [
        {
          "output_type": "execute_result",
          "data": {
            "text/plain": [
              "InvoiceNo           0\n",
              "StockCode           0\n",
              "Description      1454\n",
              "Quantity            0\n",
              "InvoiceDate         0\n",
              "UnitPrice           0\n",
              "CustomerID     135080\n",
              "Country             0\n",
              "dtype: int64"
            ]
          },
          "metadata": {
            "tags": []
          },
          "execution_count": 10
        }
      ]
    },
    {
      "cell_type": "code",
      "metadata": {
        "id": "og0HM1KqR_XF",
        "colab_type": "code",
        "colab": {}
      },
      "source": [
        "#drop the missing rows\n",
        "df.dropna(inplace=True)"
      ],
      "execution_count": 11,
      "outputs": []
    },
    {
      "cell_type": "code",
      "metadata": {
        "id": "-uxf9lvDR_XI",
        "colab_type": "code",
        "colab": {
          "base_uri": "https://localhost:8080/",
          "height": 34
        },
        "outputId": "15382746-190f-475e-94ed-472e3e69ba1e"
      },
      "source": [
        "#Updated after sropping missing values\n",
        "df.shape"
      ],
      "execution_count": 12,
      "outputs": [
        {
          "output_type": "execute_result",
          "data": {
            "text/plain": [
              "(406829, 8)"
            ]
          },
          "metadata": {
            "tags": []
          },
          "execution_count": 12
        }
      ]
    },
    {
      "cell_type": "code",
      "metadata": {
        "id": "1Dw3lK1hR_XM",
        "colab_type": "code",
        "colab": {
          "base_uri": "https://localhost:8080/",
          "height": 34
        },
        "outputId": "a38742af-5950-4e69-abe3-cee5d7a979eb"
      },
      "source": [
        "#check the unique customers in dataset\n",
        "len(df['CustomerID'].unique())\n",
        "#4372 unique customers are there"
      ],
      "execution_count": 13,
      "outputs": [
        {
          "output_type": "execute_result",
          "data": {
            "text/plain": [
              "4372"
            ]
          },
          "metadata": {
            "tags": []
          },
          "execution_count": 13
        }
      ]
    },
    {
      "cell_type": "code",
      "metadata": {
        "id": "7HLxkxQFR_XP",
        "colab_type": "code",
        "colab": {}
      },
      "source": [
        "df['StockCode']= df['StockCode'].astype(str)"
      ],
      "execution_count": 14,
      "outputs": []
    },
    {
      "cell_type": "code",
      "metadata": {
        "id": "athdzmbvR_XT",
        "colab_type": "code",
        "colab": {
          "base_uri": "https://localhost:8080/",
          "height": 34
        },
        "outputId": "fd518d09-ccb2-49e5-a3d9-b8d798ce470d"
      },
      "source": [
        "#Shuffle customer ids\n",
        "customers=df['CustomerID'].unique().tolist()\n",
        "#length\n",
        "len(customers)"
      ],
      "execution_count": 15,
      "outputs": [
        {
          "output_type": "execute_result",
          "data": {
            "text/plain": [
              "4372"
            ]
          },
          "metadata": {
            "tags": []
          },
          "execution_count": 15
        }
      ]
    },
    {
      "cell_type": "code",
      "metadata": {
        "id": "Dt9_V8y8R_XX",
        "colab_type": "code",
        "colab": {}
      },
      "source": [
        "import random\n",
        "#shuffle customer ids\n",
        "random.shuffle(customers)"
      ],
      "execution_count": 16,
      "outputs": []
    },
    {
      "cell_type": "code",
      "metadata": {
        "id": "kXu0pJgaR_Xd",
        "colab_type": "code",
        "colab": {}
      },
      "source": [
        "#set the training and validation apart\n",
        "#extract 90% of customer ids for training\n",
        "customers_train=[customers[i] for i in range(round(0.9*len(customers)))]"
      ],
      "execution_count": 17,
      "outputs": []
    },
    {
      "cell_type": "code",
      "metadata": {
        "id": "Czww0bdIR_Xi",
        "colab_type": "code",
        "colab": {}
      },
      "source": [
        "#assign train and validatin set\n",
        "#Train set\n",
        "train_df=df[df['CustomerID'].isin(customers_train)]\n",
        "#validation set\n",
        "val_df=df[~df['CustomerID'].isin(customers_train)]"
      ],
      "execution_count": 18,
      "outputs": []
    },
    {
      "cell_type": "code",
      "metadata": {
        "id": "rx6UO-knR_Xn",
        "colab_type": "code",
        "colab": {}
      },
      "source": [
        "#list to create ourchase history\n",
        "# list to capture purchase history of the customers\n",
        "purchases_train = []\n",
        "\n",
        "# populate the list with the product codes\n",
        "for i in customers_train:\n",
        "    temp = train_df[train_df[\"CustomerID\"] == i][\"StockCode\"].tolist()\n",
        "    purchases_train.append(temp)\n"
      ],
      "execution_count": 19,
      "outputs": []
    },
    {
      "cell_type": "code",
      "metadata": {
        "id": "WUcy7kBPR_Xx",
        "colab_type": "code",
        "colab": {}
      },
      "source": [
        "#list to create ourchase history\n",
        "# list to capture purchase history of the customers\n",
        "val_train = []\n",
        "\n",
        "# populate the list with the product codes\n",
        "for i in val_df['CustomerID'].unique():\n",
        "    temp = val_df[val_df[\"CustomerID\"] == i][\"StockCode\"].tolist()\n",
        "    val_train.append(temp)"
      ],
      "execution_count": 20,
      "outputs": []
    },
    {
      "cell_type": "code",
      "metadata": {
        "id": "4Di8v-0nYF7-",
        "colab_type": "code",
        "colab": {
          "base_uri": "https://localhost:8080/",
          "height": 51
        },
        "outputId": "3ce58d88-efa6-4c83-a983-0ab2e0f755c9"
      },
      "source": [
        "print(\"Customer purchase training list\",len(purchases_train))\n",
        "print(\"Customers list\",len(customers_train))"
      ],
      "execution_count": 21,
      "outputs": [
        {
          "output_type": "stream",
          "text": [
            "Customer purchase training list 3935\n",
            "Customers list 3935\n"
          ],
          "name": "stdout"
        }
      ]
    },
    {
      "cell_type": "code",
      "metadata": {
        "id": "2I3fR7gEdznu",
        "colab_type": "code",
        "colab": {}
      },
      "source": [
        "#import fasttext \n",
        "from gensim.models import FastText"
      ],
      "execution_count": 7,
      "outputs": []
    },
    {
      "cell_type": "code",
      "metadata": {
        "id": "oema44-guqjj",
        "colab_type": "code",
        "colab": {}
      },
      "source": [
        "import logging\n",
        "import sys\n",
        "logging.basicConfig(stream=sys.stdout, level=logging.INFO,format='%(asctime)s %(message)s', datefmt='%m/%d/%Y %I:%M:%S %p')\n"
      ],
      "execution_count": 5,
      "outputs": []
    },
    {
      "cell_type": "code",
      "metadata": {
        "id": "fMLPYAGqeUIW",
        "colab_type": "code",
        "colab": {
          "base_uri": "https://localhost:8080/",
          "height": 180
        },
        "outputId": "dd2c24af-fd95-45c7-a928-8d170c36465e"
      },
      "source": [
        "#Call fasttext model with necessary params\n",
        "model_ft = FastText(window = 10,sg = 1,hs = 0,negative = 10,alpha=0.03, min_alpha=0.0007,seed = 14)"
      ],
      "execution_count": 4,
      "outputs": [
        {
          "output_type": "error",
          "ename": "NameError",
          "evalue": "ignored",
          "traceback": [
            "\u001b[0;31m---------------------------------------------------------------------------\u001b[0m",
            "\u001b[0;31mNameError\u001b[0m                                 Traceback (most recent call last)",
            "\u001b[0;32m<ipython-input-4-409a54d155d5>\u001b[0m in \u001b[0;36m<module>\u001b[0;34m()\u001b[0m\n\u001b[1;32m      1\u001b[0m \u001b[0;31m#Call fasttext model with necessary params\u001b[0m\u001b[0;34m\u001b[0m\u001b[0;34m\u001b[0m\u001b[0;34m\u001b[0m\u001b[0m\n\u001b[0;32m----> 2\u001b[0;31m \u001b[0mmodel_ft\u001b[0m \u001b[0;34m=\u001b[0m \u001b[0mFastText\u001b[0m\u001b[0;34m(\u001b[0m\u001b[0mwindow\u001b[0m \u001b[0;34m=\u001b[0m \u001b[0;36m10\u001b[0m\u001b[0;34m,\u001b[0m\u001b[0msg\u001b[0m \u001b[0;34m=\u001b[0m \u001b[0;36m1\u001b[0m\u001b[0;34m,\u001b[0m\u001b[0mhs\u001b[0m \u001b[0;34m=\u001b[0m \u001b[0;36m0\u001b[0m\u001b[0;34m,\u001b[0m\u001b[0mnegative\u001b[0m \u001b[0;34m=\u001b[0m \u001b[0;36m10\u001b[0m\u001b[0;34m,\u001b[0m\u001b[0malpha\u001b[0m\u001b[0;34m=\u001b[0m\u001b[0;36m0.03\u001b[0m\u001b[0;34m,\u001b[0m \u001b[0mmin_alpha\u001b[0m\u001b[0;34m=\u001b[0m\u001b[0;36m0.0007\u001b[0m\u001b[0;34m,\u001b[0m\u001b[0mseed\u001b[0m \u001b[0;34m=\u001b[0m \u001b[0;36m14\u001b[0m\u001b[0;34m)\u001b[0m\u001b[0;34m\u001b[0m\u001b[0;34m\u001b[0m\u001b[0m\n\u001b[0m",
            "\u001b[0;31mNameError\u001b[0m: name 'FastText' is not defined"
          ]
        }
      ]
    },
    {
      "cell_type": "code",
      "metadata": {
        "id": "7AP3O-fdfE7a",
        "colab_type": "code",
        "colab": {
          "base_uri": "https://localhost:8080/",
          "height": 323
        },
        "outputId": "e7e7f52a-3b8b-4f45-b812-b377a8e6612a"
      },
      "source": [
        "#build vocab using fasttext\n",
        "model_ft.build_vocab(purchases_train, progress_per=200)"
      ],
      "execution_count": 36,
      "outputs": [
        {
          "output_type": "error",
          "ename": "RuntimeError",
          "evalue": "ignored",
          "traceback": [
            "\u001b[0;31m---------------------------------------------------------------------------\u001b[0m",
            "\u001b[0;31mRuntimeError\u001b[0m                              Traceback (most recent call last)",
            "\u001b[0;32m<ipython-input-36-b1de052d1197>\u001b[0m in \u001b[0;36m<module>\u001b[0;34m()\u001b[0m\n\u001b[1;32m      1\u001b[0m \u001b[0;31m#build vocab using fasttext\u001b[0m\u001b[0;34m\u001b[0m\u001b[0;34m\u001b[0m\u001b[0;34m\u001b[0m\u001b[0m\n\u001b[0;32m----> 2\u001b[0;31m \u001b[0mmodel_ft\u001b[0m\u001b[0;34m.\u001b[0m\u001b[0mbuild_vocab\u001b[0m\u001b[0;34m(\u001b[0m\u001b[0mpurchases_train\u001b[0m\u001b[0;34m,\u001b[0m \u001b[0mprogress_per\u001b[0m\u001b[0;34m=\u001b[0m\u001b[0;36m200\u001b[0m\u001b[0;34m)\u001b[0m\u001b[0;34m\u001b[0m\u001b[0;34m\u001b[0m\u001b[0m\n\u001b[0m",
            "\u001b[0;32m/usr/local/lib/python3.6/dist-packages/gensim/models/fasttext.py\u001b[0m in \u001b[0;36mbuild_vocab\u001b[0;34m(self, sentences, corpus_file, update, progress_per, keep_raw_vocab, trim_rule, **kwargs)\u001b[0m\n\u001b[1;32m    505\u001b[0m         return super(FastText, self).build_vocab(\n\u001b[1;32m    506\u001b[0m             \u001b[0msentences\u001b[0m\u001b[0;34m=\u001b[0m\u001b[0msentences\u001b[0m\u001b[0;34m,\u001b[0m \u001b[0mcorpus_file\u001b[0m\u001b[0;34m=\u001b[0m\u001b[0mcorpus_file\u001b[0m\u001b[0;34m,\u001b[0m \u001b[0mupdate\u001b[0m\u001b[0;34m=\u001b[0m\u001b[0mupdate\u001b[0m\u001b[0;34m,\u001b[0m \u001b[0mprogress_per\u001b[0m\u001b[0;34m=\u001b[0m\u001b[0mprogress_per\u001b[0m\u001b[0;34m,\u001b[0m\u001b[0;34m\u001b[0m\u001b[0;34m\u001b[0m\u001b[0m\n\u001b[0;32m--> 507\u001b[0;31m             keep_raw_vocab=keep_raw_vocab, trim_rule=trim_rule, **kwargs)\n\u001b[0m\u001b[1;32m    508\u001b[0m \u001b[0;34m\u001b[0m\u001b[0m\n\u001b[1;32m    509\u001b[0m     \u001b[0;32mdef\u001b[0m \u001b[0m_set_train_params\u001b[0m\u001b[0;34m(\u001b[0m\u001b[0mself\u001b[0m\u001b[0;34m,\u001b[0m \u001b[0;34m**\u001b[0m\u001b[0mkwargs\u001b[0m\u001b[0;34m)\u001b[0m\u001b[0;34m:\u001b[0m\u001b[0;34m\u001b[0m\u001b[0;34m\u001b[0m\u001b[0m\n",
            "\u001b[0;32m/usr/local/lib/python3.6/dist-packages/gensim/models/base_any2vec.py\u001b[0m in \u001b[0;36mbuild_vocab\u001b[0;34m(self, sentences, corpus_file, update, progress_per, keep_raw_vocab, trim_rule, **kwargs)\u001b[0m\n\u001b[1;32m    939\u001b[0m         report_values = self.vocabulary.prepare_vocab(\n\u001b[1;32m    940\u001b[0m             \u001b[0mself\u001b[0m\u001b[0;34m.\u001b[0m\u001b[0mhs\u001b[0m\u001b[0;34m,\u001b[0m \u001b[0mself\u001b[0m\u001b[0;34m.\u001b[0m\u001b[0mnegative\u001b[0m\u001b[0;34m,\u001b[0m \u001b[0mself\u001b[0m\u001b[0;34m.\u001b[0m\u001b[0mwv\u001b[0m\u001b[0;34m,\u001b[0m \u001b[0mupdate\u001b[0m\u001b[0;34m=\u001b[0m\u001b[0mupdate\u001b[0m\u001b[0;34m,\u001b[0m \u001b[0mkeep_raw_vocab\u001b[0m\u001b[0;34m=\u001b[0m\u001b[0mkeep_raw_vocab\u001b[0m\u001b[0;34m,\u001b[0m\u001b[0;34m\u001b[0m\u001b[0;34m\u001b[0m\u001b[0m\n\u001b[0;32m--> 941\u001b[0;31m             trim_rule=trim_rule, **kwargs)\n\u001b[0m\u001b[1;32m    942\u001b[0m         \u001b[0mreport_values\u001b[0m\u001b[0;34m[\u001b[0m\u001b[0;34m'memory'\u001b[0m\u001b[0;34m]\u001b[0m \u001b[0;34m=\u001b[0m \u001b[0mself\u001b[0m\u001b[0;34m.\u001b[0m\u001b[0mestimate_memory\u001b[0m\u001b[0;34m(\u001b[0m\u001b[0mvocab_size\u001b[0m\u001b[0;34m=\u001b[0m\u001b[0mreport_values\u001b[0m\u001b[0;34m[\u001b[0m\u001b[0;34m'num_retained_words'\u001b[0m\u001b[0;34m]\u001b[0m\u001b[0;34m)\u001b[0m\u001b[0;34m\u001b[0m\u001b[0;34m\u001b[0m\u001b[0m\n\u001b[1;32m    943\u001b[0m         \u001b[0mself\u001b[0m\u001b[0;34m.\u001b[0m\u001b[0mtrainables\u001b[0m\u001b[0;34m.\u001b[0m\u001b[0mprepare_weights\u001b[0m\u001b[0;34m(\u001b[0m\u001b[0mself\u001b[0m\u001b[0;34m.\u001b[0m\u001b[0mhs\u001b[0m\u001b[0;34m,\u001b[0m \u001b[0mself\u001b[0m\u001b[0;34m.\u001b[0m\u001b[0mnegative\u001b[0m\u001b[0;34m,\u001b[0m \u001b[0mself\u001b[0m\u001b[0;34m.\u001b[0m\u001b[0mwv\u001b[0m\u001b[0;34m,\u001b[0m \u001b[0mupdate\u001b[0m\u001b[0;34m=\u001b[0m\u001b[0mupdate\u001b[0m\u001b[0;34m,\u001b[0m \u001b[0mvocabulary\u001b[0m\u001b[0;34m=\u001b[0m\u001b[0mself\u001b[0m\u001b[0;34m.\u001b[0m\u001b[0mvocabulary\u001b[0m\u001b[0;34m)\u001b[0m\u001b[0;34m\u001b[0m\u001b[0;34m\u001b[0m\u001b[0m\n",
            "\u001b[0;32m/usr/local/lib/python3.6/dist-packages/gensim/models/fasttext.py\u001b[0m in \u001b[0;36mprepare_vocab\u001b[0;34m(self, hs, negative, wv, update, keep_raw_vocab, trim_rule, min_count, sample, dry_run)\u001b[0m\n\u001b[1;32m    962\u001b[0m         report_values = super(FastTextVocab, self).prepare_vocab(\n\u001b[1;32m    963\u001b[0m             \u001b[0mhs\u001b[0m\u001b[0;34m,\u001b[0m \u001b[0mnegative\u001b[0m\u001b[0;34m,\u001b[0m \u001b[0mwv\u001b[0m\u001b[0;34m,\u001b[0m \u001b[0mupdate\u001b[0m\u001b[0;34m=\u001b[0m\u001b[0mupdate\u001b[0m\u001b[0;34m,\u001b[0m \u001b[0mkeep_raw_vocab\u001b[0m\u001b[0;34m=\u001b[0m\u001b[0mkeep_raw_vocab\u001b[0m\u001b[0;34m,\u001b[0m \u001b[0mtrim_rule\u001b[0m\u001b[0;34m=\u001b[0m\u001b[0mtrim_rule\u001b[0m\u001b[0;34m,\u001b[0m\u001b[0;34m\u001b[0m\u001b[0;34m\u001b[0m\u001b[0m\n\u001b[0;32m--> 964\u001b[0;31m             min_count=min_count, sample=sample, dry_run=dry_run)\n\u001b[0m\u001b[1;32m    965\u001b[0m         \u001b[0;32mreturn\u001b[0m \u001b[0mreport_values\u001b[0m\u001b[0;34m\u001b[0m\u001b[0;34m\u001b[0m\u001b[0m\n\u001b[1;32m    966\u001b[0m \u001b[0;34m\u001b[0m\u001b[0m\n",
            "\u001b[0;32m/usr/local/lib/python3.6/dist-packages/gensim/models/word2vec.py\u001b[0m in \u001b[0;36mprepare_vocab\u001b[0;34m(self, hs, negative, wv, update, keep_raw_vocab, trim_rule, min_count, sample, dry_run)\u001b[0m\n\u001b[1;32m   1734\u001b[0m \u001b[0;34m\u001b[0m\u001b[0m\n\u001b[1;32m   1735\u001b[0m         \u001b[0;32mif\u001b[0m \u001b[0mself\u001b[0m\u001b[0;34m.\u001b[0m\u001b[0msorted_vocab\u001b[0m \u001b[0;32mand\u001b[0m \u001b[0;32mnot\u001b[0m \u001b[0mupdate\u001b[0m\u001b[0;34m:\u001b[0m\u001b[0;34m\u001b[0m\u001b[0;34m\u001b[0m\u001b[0m\n\u001b[0;32m-> 1736\u001b[0;31m             \u001b[0mself\u001b[0m\u001b[0;34m.\u001b[0m\u001b[0msort_vocab\u001b[0m\u001b[0;34m(\u001b[0m\u001b[0mwv\u001b[0m\u001b[0;34m)\u001b[0m\u001b[0;34m\u001b[0m\u001b[0;34m\u001b[0m\u001b[0m\n\u001b[0m\u001b[1;32m   1737\u001b[0m         \u001b[0;32mif\u001b[0m \u001b[0mhs\u001b[0m\u001b[0;34m:\u001b[0m\u001b[0;34m\u001b[0m\u001b[0;34m\u001b[0m\u001b[0m\n\u001b[1;32m   1738\u001b[0m             \u001b[0;31m# add info about each word's Huffman encoding\u001b[0m\u001b[0;34m\u001b[0m\u001b[0;34m\u001b[0m\u001b[0;34m\u001b[0m\u001b[0m\n",
            "\u001b[0;32m/usr/local/lib/python3.6/dist-packages/gensim/models/word2vec.py\u001b[0m in \u001b[0;36msort_vocab\u001b[0;34m(self, wv)\u001b[0m\n\u001b[1;32m   1581\u001b[0m         \u001b[0;34m\"\"\"Sort the vocabulary so the most frequent words have the lowest indexes.\"\"\"\u001b[0m\u001b[0;34m\u001b[0m\u001b[0;34m\u001b[0m\u001b[0m\n\u001b[1;32m   1582\u001b[0m         \u001b[0;32mif\u001b[0m \u001b[0mlen\u001b[0m\u001b[0;34m(\u001b[0m\u001b[0mwv\u001b[0m\u001b[0;34m.\u001b[0m\u001b[0mvectors\u001b[0m\u001b[0;34m)\u001b[0m\u001b[0;34m:\u001b[0m\u001b[0;34m\u001b[0m\u001b[0;34m\u001b[0m\u001b[0m\n\u001b[0;32m-> 1583\u001b[0;31m             \u001b[0;32mraise\u001b[0m \u001b[0mRuntimeError\u001b[0m\u001b[0;34m(\u001b[0m\u001b[0;34m\"cannot sort vocabulary after model weights already initialized.\"\u001b[0m\u001b[0;34m)\u001b[0m\u001b[0;34m\u001b[0m\u001b[0;34m\u001b[0m\u001b[0m\n\u001b[0m\u001b[1;32m   1584\u001b[0m         \u001b[0mwv\u001b[0m\u001b[0;34m.\u001b[0m\u001b[0mindex2word\u001b[0m\u001b[0;34m.\u001b[0m\u001b[0msort\u001b[0m\u001b[0;34m(\u001b[0m\u001b[0mkey\u001b[0m\u001b[0;34m=\u001b[0m\u001b[0;32mlambda\u001b[0m \u001b[0mword\u001b[0m\u001b[0;34m:\u001b[0m \u001b[0mwv\u001b[0m\u001b[0;34m.\u001b[0m\u001b[0mvocab\u001b[0m\u001b[0;34m[\u001b[0m\u001b[0mword\u001b[0m\u001b[0;34m]\u001b[0m\u001b[0;34m.\u001b[0m\u001b[0mcount\u001b[0m\u001b[0;34m,\u001b[0m \u001b[0mreverse\u001b[0m\u001b[0;34m=\u001b[0m\u001b[0;32mTrue\u001b[0m\u001b[0;34m)\u001b[0m\u001b[0;34m\u001b[0m\u001b[0;34m\u001b[0m\u001b[0m\n\u001b[1;32m   1585\u001b[0m         \u001b[0;32mfor\u001b[0m \u001b[0mi\u001b[0m\u001b[0;34m,\u001b[0m \u001b[0mword\u001b[0m \u001b[0;32min\u001b[0m \u001b[0menumerate\u001b[0m\u001b[0;34m(\u001b[0m\u001b[0mwv\u001b[0m\u001b[0;34m.\u001b[0m\u001b[0mindex2word\u001b[0m\u001b[0;34m)\u001b[0m\u001b[0;34m:\u001b[0m\u001b[0;34m\u001b[0m\u001b[0;34m\u001b[0m\u001b[0m\n",
            "\u001b[0;31mRuntimeError\u001b[0m: cannot sort vocabulary after model weights already initialized."
          ]
        }
      ]
    },
    {
      "cell_type": "code",
      "metadata": {
        "id": "JUYBErpUfUrF",
        "colab_type": "code",
        "colab": {}
      },
      "source": [
        "#Train the model\n",
        "model_ft.train(purchases_train,total_examples=model_ft.corpus_count,epochs=10,report_delay=1)\n",
        "#minimum and maximum n grams size ? \n",
        "#min_n : Deafault 3\n",
        "#Max_n:  Default 6 \n"
      ],
      "execution_count": 37,
      "outputs": []
    },
    {
      "cell_type": "code",
      "metadata": {
        "id": "_bmA_FiOhBru",
        "colab_type": "code",
        "colab": {
          "base_uri": "https://localhost:8080/",
          "height": 34
        },
        "outputId": "45b437bd-4fbd-4cb6-f052-04fbc6bf5260"
      },
      "source": [
        "print(model_ft)"
      ],
      "execution_count": null,
      "outputs": [
        {
          "output_type": "stream",
          "text": [
            "FastText(vocab=3166, size=100, alpha=0.03)\n"
          ],
          "name": "stdout"
        }
      ]
    },
    {
      "cell_type": "code",
      "metadata": {
        "id": "q4AC31b1nTBS",
        "colab_type": "code",
        "colab": {}
      },
      "source": [
        "model_ft.save(\"/content/drive/My Drive/NLP/fasttext.model\")"
      ],
      "execution_count": null,
      "outputs": []
    },
    {
      "cell_type": "code",
      "metadata": {
        "id": "qI4hI3KHnnly",
        "colab_type": "code",
        "colab": {
          "base_uri": "https://localhost:8080/",
          "height": 170
        },
        "outputId": "b473b508-4c45-4426-adac-acfb4c994815"
      },
      "source": [
        "model_ft1=FastText.load(\"/content/drive/My Drive/NLP/fasttext.model\")"
      ],
      "execution_count": 8,
      "outputs": [
        {
          "output_type": "stream",
          "text": [
            "07/17/2020 05:38:55 AM loading FastText object from /content/drive/My Drive/NLP/fasttext.model\n",
            "07/17/2020 05:38:57 AM loading wv recursively from /content/drive/My Drive/NLP/fasttext.model.wv.* with mmap=None\n",
            "07/17/2020 05:38:57 AM setting ignored attribute vectors_norm to None\n",
            "07/17/2020 05:38:57 AM setting ignored attribute vectors_vocab_norm to None\n",
            "07/17/2020 05:38:57 AM setting ignored attribute vectors_ngrams_norm to None\n",
            "07/17/2020 05:38:57 AM setting ignored attribute buckets_word to None\n",
            "07/17/2020 05:38:57 AM loading vocabulary recursively from /content/drive/My Drive/NLP/fasttext.model.vocabulary.* with mmap=None\n",
            "07/17/2020 05:38:57 AM loading trainables recursively from /content/drive/My Drive/NLP/fasttext.model.trainables.* with mmap=None\n",
            "07/17/2020 05:38:57 AM loaded /content/drive/My Drive/NLP/fasttext.model\n"
          ],
          "name": "stdout"
        }
      ]
    },
    {
      "cell_type": "code",
      "metadata": {
        "id": "nXUxSfCFp3OW",
        "colab_type": "code",
        "colab": {
          "base_uri": "https://localhost:8080/",
          "height": 54
        },
        "outputId": "a1ccf12a-dd6d-4062-e6ed-8687339c04c6"
      },
      "source": [
        "print(model_ft1.wv.vocab)"
      ],
      "execution_count": 9,
      "outputs": [
        {
          "output_type": "stream",
          "text": [
            "{'47594A': <gensim.models.keyedvectors.Vocab object at 0x7f79ac05bac8>, '22371': <gensim.models.keyedvectors.Vocab object at 0x7f79ac05bba8>, '21340': <gensim.models.keyedvectors.Vocab object at 0x7f79ac05bc18>, '22720': <gensim.models.keyedvectors.Vocab object at 0x7f79ac05bc88>, '82494L': <gensim.models.keyedvectors.Vocab object at 0x7f79ac05bcf8>, '85123A': <gensim.models.keyedvectors.Vocab object at 0x7f79ac05bd68>, '21755': <gensim.models.keyedvectors.Vocab object at 0x7f79ac05bdd8>, '82484': <gensim.models.keyedvectors.Vocab object at 0x7f79ac05be48>, '22469': <gensim.models.keyedvectors.Vocab object at 0x7f79ac05beb8>, '22470': <gensim.models.keyedvectors.Vocab object at 0x7f79ac05bf28>, '85066': <gensim.models.keyedvectors.Vocab object at 0x7f79ac05bf98>, '23226': <gensim.models.keyedvectors.Vocab object at 0x7f79ac067048>, '23133': <gensim.models.keyedvectors.Vocab object at 0x7f79ac0670b8>, '22776': <gensim.models.keyedvectors.Vocab object at 0x7f79ac067128>, '22854': <gensim.models.keyedvectors.Vocab object at 0x7f79ac067198>, '21754': <gensim.models.keyedvectors.Vocab object at 0x7f79ac067208>, '22487': <gensim.models.keyedvectors.Vocab object at 0x7f79ac067278>, '22030': <gensim.models.keyedvectors.Vocab object at 0x7f79ac0672e8>, '21519': <gensim.models.keyedvectors.Vocab object at 0x7f79ac067358>, '22819': <gensim.models.keyedvectors.Vocab object at 0x7f79ac0673c8>, '23232': <gensim.models.keyedvectors.Vocab object at 0x7f79ac067438>, '23231': <gensim.models.keyedvectors.Vocab object at 0x7f79ac0674a8>, '21500': <gensim.models.keyedvectors.Vocab object at 0x7f79ac067518>, '21499': <gensim.models.keyedvectors.Vocab object at 0x7f79ac067588>, '21498': <gensim.models.keyedvectors.Vocab object at 0x7f79ac0675f8>, '21238': <gensim.models.keyedvectors.Vocab object at 0x7f79ac067668>, '20676': <gensim.models.keyedvectors.Vocab object at 0x7f79ac0676d8>, '21242': <gensim.models.keyedvectors.Vocab object at 0x7f79ac067748>, '23253': <gensim.models.keyedvectors.Vocab object at 0x7f79ac0677b8>, '22427': <gensim.models.keyedvectors.Vocab object at 0x7f79ac067828>, '22460': <gensim.models.keyedvectors.Vocab object at 0x7f79ac067898>, '84949': <gensim.models.keyedvectors.Vocab object at 0x7f79ac067908>, '23283': <gensim.models.keyedvectors.Vocab object at 0x7f79ac067978>, '22457': <gensim.models.keyedvectors.Vocab object at 0x7f79ac0679e8>, '22485': <gensim.models.keyedvectors.Vocab object at 0x7f79ac067a58>, '22169': <gensim.models.keyedvectors.Vocab object at 0x7f79ac067ac8>, '22464': <gensim.models.keyedvectors.Vocab object at 0x7f79ac067b38>, '48194': <gensim.models.keyedvectors.Vocab object at 0x7f79ac067ba8>, '22753': <gensim.models.keyedvectors.Vocab object at 0x7f79ac067c18>, '22197': <gensim.models.keyedvectors.Vocab object at 0x7f79ac067c88>, '22653': <gensim.models.keyedvectors.Vocab object at 0x7f79ac067cf8>, '22619': <gensim.models.keyedvectors.Vocab object at 0x7f79ac067d68>, '22752': <gensim.models.keyedvectors.Vocab object at 0x7f79ac067dd8>, '22907': <gensim.models.keyedvectors.Vocab object at 0x7f79ac067e48>, '84509E': <gensim.models.keyedvectors.Vocab object at 0x7f79ac067eb8>, '84510E': <gensim.models.keyedvectors.Vocab object at 0x7f79ac067f28>, '84997A': <gensim.models.keyedvectors.Vocab object at 0x7f79ac067f98>, '84596L': <gensim.models.keyedvectors.Vocab object at 0x7f79ac06b048>, '22468': <gensim.models.keyedvectors.Vocab object at 0x7f79ac06b0b8>, '23192': <gensim.models.keyedvectors.Vocab object at 0x7f79ac06b128>, '23337': <gensim.models.keyedvectors.Vocab object at 0x7f79ac06b198>, '23096': <gensim.models.keyedvectors.Vocab object at 0x7f79ac06b208>, '47013C': <gensim.models.keyedvectors.Vocab object at 0x7f79ac06b278>, '20616': <gensim.models.keyedvectors.Vocab object at 0x7f79ac06b2e8>, '23102': <gensim.models.keyedvectors.Vocab object at 0x7f79ac06b358>, '21865': <gensim.models.keyedvectors.Vocab object at 0x7f79ac06b3c8>, '20653': <gensim.models.keyedvectors.Vocab object at 0x7f79ac06b438>, '20652': <gensim.models.keyedvectors.Vocab object at 0x7f79ac06b4a8>, '21867': <gensim.models.keyedvectors.Vocab object at 0x7f79ac06b518>, '22969': <gensim.models.keyedvectors.Vocab object at 0x7f79ac06b588>, '21983': <gensim.models.keyedvectors.Vocab object at 0x7f79ac06b5f8>, '21984': <gensim.models.keyedvectors.Vocab object at 0x7f79ac06b668>, '22488': <gensim.models.keyedvectors.Vocab object at 0x7f79ac06b6d8>, '22851': <gensim.models.keyedvectors.Vocab object at 0x7f79ac06b748>, '23082': <gensim.models.keyedvectors.Vocab object at 0x7f79ac06b7b8>, '72741': <gensim.models.keyedvectors.Vocab object at 0x7f79ac06b828>, '22740': <gensim.models.keyedvectors.Vocab object at 0x7f79ac06b898>, '22758': <gensim.models.keyedvectors.Vocab object at 0x7f79ac06b908>, '22813': <gensim.models.keyedvectors.Vocab object at 0x7f79ac06b978>, '22585': <gensim.models.keyedvectors.Vocab object at 0x7f79ac06b9e8>, '22138': <gensim.models.keyedvectors.Vocab object at 0x7f79ac06ba58>, '22475': <gensim.models.keyedvectors.Vocab object at 0x7f79ac06bac8>, '21559': <gensim.models.keyedvectors.Vocab object at 0x7f79ac06bb38>, '84509B': <gensim.models.keyedvectors.Vocab object at 0x7f79ac06bba8>, '22467': <gensim.models.keyedvectors.Vocab object at 0x7f79ac06bc18>, '82613D': <gensim.models.keyedvectors.Vocab object at 0x7f79ac06bc88>, '82613A': <gensim.models.keyedvectors.Vocab object at 0x7f79ac06bcf8>, '20752': <gensim.models.keyedvectors.Vocab object at 0x7f79ac06bd68>, '22756': <gensim.models.keyedvectors.Vocab object at 0x7f79ac06bdd8>, '47599A': <gensim.models.keyedvectors.Vocab object at 0x7f79ac06be48>, '72128': <gensim.models.keyedvectors.Vocab object at 0x7f79ac06beb8>, '22212': <gensim.models.keyedvectors.Vocab object at 0x7f79ac06bf28>, '21429': <gensim.models.keyedvectors.Vocab object at 0x7f79ac06bf98>, '21430': <gensim.models.keyedvectors.Vocab object at 0x7f79ac070048>, '22377': <gensim.models.keyedvectors.Vocab object at 0x7f79ac0700b8>, '22383': <gensim.models.keyedvectors.Vocab object at 0x7f79ac070128>, '20727': <gensim.models.keyedvectors.Vocab object at 0x7f79ac070198>, '21932': <gensim.models.keyedvectors.Vocab object at 0x7f79ac070208>, '21933': <gensim.models.keyedvectors.Vocab object at 0x7f79ac070278>, '23321': <gensim.models.keyedvectors.Vocab object at 0x7f79ac0702e8>, '23322': <gensim.models.keyedvectors.Vocab object at 0x7f79ac070358>, '21264': <gensim.models.keyedvectors.Vocab object at 0x7f79ac0703c8>, '21265': <gensim.models.keyedvectors.Vocab object at 0x7f79ac070438>, '21263': <gensim.models.keyedvectors.Vocab object at 0x7f79ac0704a8>, '21733': <gensim.models.keyedvectors.Vocab object at 0x7f79ac070518>, '23320': <gensim.models.keyedvectors.Vocab object at 0x7f79ac070588>, '22153': <gensim.models.keyedvectors.Vocab object at 0x7f79ac0705f8>, '22155': <gensim.models.keyedvectors.Vocab object at 0x7f79ac070668>, '22154': <gensim.models.keyedvectors.Vocab object at 0x7f79ac0706d8>, '22610': <gensim.models.keyedvectors.Vocab object at 0x7f79ac070748>, '22608': <gensim.models.keyedvectors.Vocab object at 0x7f79ac0707b8>, '23344': <gensim.models.keyedvectors.Vocab object at 0x7f79ac070828>, '84341B': <gensim.models.keyedvectors.Vocab object at 0x7f79ac070898>, '21591': <gensim.models.keyedvectors.Vocab object at 0x7f79ac070908>, '23493': <gensim.models.keyedvectors.Vocab object at 0x7f79ac070978>, '84347': <gensim.models.keyedvectors.Vocab object at 0x7f79ac0709e8>, '22734': <gensim.models.keyedvectors.Vocab object at 0x7f79ac070a58>, '22737': <gensim.models.keyedvectors.Vocab object at 0x7f79ac070ac8>, '22572': <gensim.models.keyedvectors.Vocab object at 0x7f79ac070b38>, '22571': <gensim.models.keyedvectors.Vocab object at 0x7f79ac070ba8>, '23437': <gensim.models.keyedvectors.Vocab object at 0x7f79ac070c18>, '85049E': <gensim.models.keyedvectors.Vocab object at 0x7f79ac070c88>, '23198': <gensim.models.keyedvectors.Vocab object at 0x7f79ac070cf8>, '23157': <gensim.models.keyedvectors.Vocab object at 0x7f79ac070d68>, '23269': <gensim.models.keyedvectors.Vocab object at 0x7f79ac070dd8>, '23270': <gensim.models.keyedvectors.Vocab object at 0x7f79ac070e48>, '21147': <gensim.models.keyedvectors.Vocab object at 0x7f79ac070eb8>, '22307': <gensim.models.keyedvectors.Vocab object at 0x7f79ac070f28>, '23461': <gensim.models.keyedvectors.Vocab object at 0x7f79ac070f98>, '23243': <gensim.models.keyedvectors.Vocab object at 0x7f79ac073048>, '22326': <gensim.models.keyedvectors.Vocab object at 0x7f79ac0730b8>, '84600': <gensim.models.keyedvectors.Vocab object at 0x7f79ac073128>, '22421': <gensim.models.keyedvectors.Vocab object at 0x7f79ac073198>, '20992': <gensim.models.keyedvectors.Vocab object at 0x7f79ac073208>, '20996': <gensim.models.keyedvectors.Vocab object at 0x7f79ac073278>, '16216': <gensim.models.keyedvectors.Vocab object at 0x7f79ac0732e8>, '16237': <gensim.models.keyedvectors.Vocab object at 0x7f79ac073358>, '23499': <gensim.models.keyedvectors.Vocab object at 0x7f79ac0733c8>, '51014A': <gensim.models.keyedvectors.Vocab object at 0x7f79ac073438>, '21744': <gensim.models.keyedvectors.Vocab object at 0x7f79ac0734a8>, '20981': <gensim.models.keyedvectors.Vocab object at 0x7f79ac073518>, '22633': <gensim.models.keyedvectors.Vocab object at 0x7f79ac073588>, '22866': <gensim.models.keyedvectors.Vocab object at 0x7f79ac0735f8>, '23500': <gensim.models.keyedvectors.Vocab object at 0x7f79ac073668>, '20973': <gensim.models.keyedvectors.Vocab object at 0x7f79ac0736d8>, '23084': <gensim.models.keyedvectors.Vocab object at 0x7f79ac073748>, '22466': <gensim.models.keyedvectors.Vocab object at 0x7f79ac0737b8>, '21901': <gensim.models.keyedvectors.Vocab object at 0x7f79ac073828>, '21900': <gensim.models.keyedvectors.Vocab object at 0x7f79ac073898>, '22596': <gensim.models.keyedvectors.Vocab object at 0x7f79ac073908>, '22694': <gensim.models.keyedvectors.Vocab object at 0x7f79ac073978>, '23323': <gensim.models.keyedvectors.Vocab object at 0x7f79ac0739e8>, '20978': <gensim.models.keyedvectors.Vocab object at 0x7f79ac073a58>, '21533': <gensim.models.keyedvectors.Vocab object at 0x7f79ac073ac8>, '21535': <gensim.models.keyedvectors.Vocab object at 0x7f79ac073b38>, '22174': <gensim.models.keyedvectors.Vocab object at 0x7f79ac073ba8>, '22835': <gensim.models.keyedvectors.Vocab object at 0x7f79ac073c18>, '23439': <gensim.models.keyedvectors.Vocab object at 0x7f79ac073c88>, '22632': <gensim.models.keyedvectors.Vocab object at 0x7f79ac073cf8>, '21707': <gensim.models.keyedvectors.Vocab object at 0x7f79ac073d68>, '20914': <gensim.models.keyedvectors.Vocab object at 0x7f79ac073dd8>, '20717': <gensim.models.keyedvectors.Vocab object at 0x7f79ac073e48>, '37475': <gensim.models.keyedvectors.Vocab object at 0x7f79ac073eb8>, '23300': <gensim.models.keyedvectors.Vocab object at 0x7f79ac073f28>, '23301': <gensim.models.keyedvectors.Vocab object at 0x7f79ac073f98>, '85099B': <gensim.models.keyedvectors.Vocab object at 0x7f79ac079048>, '23392': <gensim.models.keyedvectors.Vocab object at 0x7f79ac0790b8>, '72802B': <gensim.models.keyedvectors.Vocab object at 0x7f79ac079128>, '22331': <gensim.models.keyedvectors.Vocab object at 0x7f79ac079198>, '22865': <gensim.models.keyedvectors.Vocab object at 0x7f79ac079208>, '22171': <gensim.models.keyedvectors.Vocab object at 0x7f79ac079278>, '22926': <gensim.models.keyedvectors.Vocab object at 0x7f79ac0792e8>, '22914': <gensim.models.keyedvectors.Vocab object at 0x7f79ac079358>, '84849D': <gensim.models.keyedvectors.Vocab object at 0x7f79ac0793c8>, '22445': <gensim.models.keyedvectors.Vocab object at 0x7f79ac079438>, '16016': <gensim.models.keyedvectors.Vocab object at 0x7f79ac0794a8>, 'POST': <gensim.models.keyedvectors.Vocab object at 0x7f79ac079518>, '22173': <gensim.models.keyedvectors.Vocab object at 0x7f79ac079588>, '21481': <gensim.models.keyedvectors.Vocab object at 0x7f79ac0795f8>, '22352': <gensim.models.keyedvectors.Vocab object at 0x7f79ac079668>, '22550': <gensim.models.keyedvectors.Vocab object at 0x7f79ac0796d8>, '22788': <gensim.models.keyedvectors.Vocab object at 0x7f79ac079748>, '20702': <gensim.models.keyedvectors.Vocab object at 0x7f79ac0797b8>, '22189': <gensim.models.keyedvectors.Vocab object at 0x7f79ac079828>, '15056P': <gensim.models.keyedvectors.Vocab object at 0x7f79ac079898>, '21976': <gensim.models.keyedvectors.Vocab object at 0x7f79ac079908>, '85049G': <gensim.models.keyedvectors.Vocab object at 0x7f79ac079978>, '82482': <gensim.models.keyedvectors.Vocab object at 0x7f79ac0799e8>, '22139': <gensim.models.keyedvectors.Vocab object at 0x7f79ac079a58>, '22320': <gensim.models.keyedvectors.Vocab object at 0x7f79ac079ac8>, '22168': <gensim.models.keyedvectors.Vocab object at 0x7f79ac079b38>, '22763': <gensim.models.keyedvectors.Vocab object at 0x7f79ac079ba8>, '22957': <gensim.models.keyedvectors.Vocab object at 0x7f79ac079c18>, '22492': <gensim.models.keyedvectors.Vocab object at 0x7f79ac079c88>, '22322': <gensim.models.keyedvectors.Vocab object at 0x7f79ac079cf8>, '23054': <gensim.models.keyedvectors.Vocab object at 0x7f79ac079d68>, '23053': <gensim.models.keyedvectors.Vocab object at 0x7f79ac079dd8>, '23050': <gensim.models.keyedvectors.Vocab object at 0x7f79ac079e48>, '23052': <gensim.models.keyedvectors.Vocab object at 0x7f79ac079eb8>, '22554': <gensim.models.keyedvectors.Vocab object at 0x7f79ac079f28>, '15056N': <gensim.models.keyedvectors.Vocab object at 0x7f79ac079f98>, '23057': <gensim.models.keyedvectors.Vocab object at 0x7f79ac07d048>, '23056': <gensim.models.keyedvectors.Vocab object at 0x7f79ac07d0b8>, '15056BL': <gensim.models.keyedvectors.Vocab object at 0x7f79ac07d128>, '16014': <gensim.models.keyedvectors.Vocab object at 0x7f79ac07d198>, '21892': <gensim.models.keyedvectors.Vocab object at 0x7f79ac07d208>, '23055': <gensim.models.keyedvectors.Vocab object at 0x7f79ac07d278>, '23066': <gensim.models.keyedvectors.Vocab object at 0x7f79ac07d2e8>, '23065': <gensim.models.keyedvectors.Vocab object at 0x7f79ac07d358>, '85054': <gensim.models.keyedvectors.Vocab object at 0x7f79ac07d3c8>, '23032': <gensim.models.keyedvectors.Vocab object at 0x7f79ac07d438>, '23018': <gensim.models.keyedvectors.Vocab object at 0x7f79ac07d4a8>, '23017': <gensim.models.keyedvectors.Vocab object at 0x7f79ac07d518>, '23019': <gensim.models.keyedvectors.Vocab object at 0x7f79ac07d588>, '21683': <gensim.models.keyedvectors.Vocab object at 0x7f79ac07d5f8>, '22114': <gensim.models.keyedvectors.Vocab object at 0x7f79ac07d668>, '22867': <gensim.models.keyedvectors.Vocab object at 0x7f79ac07d6d8>, '22834': <gensim.models.keyedvectors.Vocab object at 0x7f79ac07d748>, '23485': <gensim.models.keyedvectors.Vocab object at 0x7f79ac07d7b8>, '84531A': <gensim.models.keyedvectors.Vocab object at 0x7f79ac07d828>, '85015': <gensim.models.keyedvectors.Vocab object at 0x7f79ac07d898>, '21774': <gensim.models.keyedvectors.Vocab object at 0x7f79ac07d908>, '22831': <gensim.models.keyedvectors.Vocab object at 0x7f79ac07d978>, '22361': <gensim.models.keyedvectors.Vocab object at 0x7f79ac07d9e8>, '84946': <gensim.models.keyedvectors.Vocab object at 0x7f79ac07da58>, '22241': <gensim.models.keyedvectors.Vocab object at 0x7f79ac07dac8>, '22857': <gensim.models.keyedvectors.Vocab object at 0x7f79ac07db38>, '47566': <gensim.models.keyedvectors.Vocab object at 0x7f79ac07dba8>, '84879': <gensim.models.keyedvectors.Vocab object at 0x7f79ac07dc18>, '82580': <gensim.models.keyedvectors.Vocab object at 0x7f79ac07dc88>, '23182': <gensim.models.keyedvectors.Vocab object at 0x7f79ac07dcf8>, '82583': <gensim.models.keyedvectors.Vocab object at 0x7f79ac07dd68>, '21165': <gensim.models.keyedvectors.Vocab object at 0x7f79ac07ddd8>, '82582': <gensim.models.keyedvectors.Vocab object at 0x7f79ac07de48>, '22319': <gensim.models.keyedvectors.Vocab object at 0x7f79ac07deb8>, '21625': <gensim.models.keyedvectors.Vocab object at 0x7f79ac07df28>, '22938': <gensim.models.keyedvectors.Vocab object at 0x7f79ac07df98>, '22567': <gensim.models.keyedvectors.Vocab object at 0x7f79ac082048>, '22722': <gensim.models.keyedvectors.Vocab object at 0x7f79ac0820b8>, '22423': <gensim.models.keyedvectors.Vocab object at 0x7f79ac082128>, '22236': <gensim.models.keyedvectors.Vocab object at 0x7f79ac082198>, '21198': <gensim.models.keyedvectors.Vocab object at 0x7f79ac082208>, '22098': <gensim.models.keyedvectors.Vocab object at 0x7f79ac082278>, '21906': <gensim.models.keyedvectors.Vocab object at 0x7f79ac0822e8>, '22801': <gensim.models.keyedvectors.Vocab object at 0x7f79ac082358>, '22715': <gensim.models.keyedvectors.Vocab object at 0x7f79ac0823c8>, '16156S': <gensim.models.keyedvectors.Vocab object at 0x7f79ac082438>, '16161P': <gensim.models.keyedvectors.Vocab object at 0x7f79ac0824a8>, '22047': <gensim.models.keyedvectors.Vocab object at 0x7f79ac082518>, '22709': <gensim.models.keyedvectors.Vocab object at 0x7f79ac082588>, '23233': <gensim.models.keyedvectors.Vocab object at 0x7f79ac0825f8>, '22066': <gensim.models.keyedvectors.Vocab object at 0x7f79ac082668>, '35598D': <gensim.models.keyedvectors.Vocab object at 0x7f79ac0826d8>, '35651': <gensim.models.keyedvectors.Vocab object at 0x7f79ac082748>, '35968': <gensim.models.keyedvectors.Vocab object at 0x7f79ac0827b8>, '35967': <gensim.models.keyedvectors.Vocab object at 0x7f79ac082828>, '82616C': <gensim.models.keyedvectors.Vocab object at 0x7f79ac082898>, '84576': <gensim.models.keyedvectors.Vocab object at 0x7f79ac082908>, '21262': <gensim.models.keyedvectors.Vocab object at 0x7f79ac082978>, '22723': <gensim.models.keyedvectors.Vocab object at 0x7f79ac0829e8>, '22186': <gensim.models.keyedvectors.Vocab object at 0x7f79ac082a58>, '35933': <gensim.models.keyedvectors.Vocab object at 0x7f79ac082ac8>, '22049': <gensim.models.keyedvectors.Vocab object at 0x7f79ac082b38>, '22578': <gensim.models.keyedvectors.Vocab object at 0x7f79ac082ba8>, '35646': <gensim.models.keyedvectors.Vocab object at 0x7f79ac082c18>, '47504K': <gensim.models.keyedvectors.Vocab object at 0x7f79ac082c88>, '23355': <gensim.models.keyedvectors.Vocab object at 0x7f79ac082cf8>, '23356': <gensim.models.keyedvectors.Vocab object at 0x7f79ac082d68>, '22689': <gensim.models.keyedvectors.Vocab object at 0x7f79ac082dd8>, '23318': <gensim.models.keyedvectors.Vocab object at 0x7f79ac082e48>, '23319': <gensim.models.keyedvectors.Vocab object at 0x7f79ac082eb8>, '22941': <gensim.models.keyedvectors.Vocab object at 0x7f79ac082f28>, '23311': <gensim.models.keyedvectors.Vocab object at 0x7f79ac082f98>, '21174': <gensim.models.keyedvectors.Vocab object at 0x7f79ac005048>, '22412': <gensim.models.keyedvectors.Vocab object at 0x7f79ac0050b8>, '22083': <gensim.models.keyedvectors.Vocab object at 0x7f79ac005128>, '23541': <gensim.models.keyedvectors.Vocab object at 0x7f79ac005198>, '23535': <gensim.models.keyedvectors.Vocab object at 0x7f79ac005208>, '23526': <gensim.models.keyedvectors.Vocab object at 0x7f79ac005278>, '16169E': <gensim.models.keyedvectors.Vocab object at 0x7f79ac0052e8>, '23349': <gensim.models.keyedvectors.Vocab object at 0x7f79ac005358>, '23351': <gensim.models.keyedvectors.Vocab object at 0x7f79ac0053c8>, '23382': <gensim.models.keyedvectors.Vocab object at 0x7f79ac005438>, '23247': <gensim.models.keyedvectors.Vocab object at 0x7f79ac0054a8>, '23354': <gensim.models.keyedvectors.Vocab object at 0x7f79ac005518>, '23353': <gensim.models.keyedvectors.Vocab object at 0x7f79ac005588>, '22909': <gensim.models.keyedvectors.Vocab object at 0x7f79ac0055f8>, '23234': <gensim.models.keyedvectors.Vocab object at 0x7f79ac005668>, '23314': <gensim.models.keyedvectors.Vocab object at 0x7f79ac0056d8>, '21220': <gensim.models.keyedvectors.Vocab object at 0x7f79ac005748>, '22844': <gensim.models.keyedvectors.Vocab object at 0x7f79ac0057b8>, '84931A': <gensim.models.keyedvectors.Vocab object at 0x7f79ac005828>, '85231B': <gensim.models.keyedvectors.Vocab object at 0x7f79ac005898>, '23359': <gensim.models.keyedvectors.Vocab object at 0x7f79ac005908>, '23129': <gensim.models.keyedvectors.Vocab object at 0x7f79ac005978>, '22309': <gensim.models.keyedvectors.Vocab object at 0x7f79ac0059e8>, '90186B': <gensim.models.keyedvectors.Vocab object at 0x7f79ac005a58>, '22944': <gensim.models.keyedvectors.Vocab object at 0x7f79ac005ac8>, '23497': <gensim.models.keyedvectors.Vocab object at 0x7f79ac005b38>, '21620': <gensim.models.keyedvectors.Vocab object at 0x7f79ac005ba8>, '23498': <gensim.models.keyedvectors.Vocab object at 0x7f79ac005c18>, '23552': <gensim.models.keyedvectors.Vocab object at 0x7f79ac005c88>, '21905': <gensim.models.keyedvectors.Vocab object at 0x7f79ac005cf8>, '22816': <gensim.models.keyedvectors.Vocab object at 0x7f79ac005d68>, '23089': <gensim.models.keyedvectors.Vocab object at 0x7f79ac005dd8>, '23340': <gensim.models.keyedvectors.Vocab object at 0x7f79ac005e48>, '22111': <gensim.models.keyedvectors.Vocab object at 0x7f79ac005eb8>, '21944': <gensim.models.keyedvectors.Vocab object at 0x7f79ac005f28>, '22075': <gensim.models.keyedvectors.Vocab object at 0x7f79ac005f98>, '22446': <gensim.models.keyedvectors.Vocab object at 0x7f79ac00c048>, '22509': <gensim.models.keyedvectors.Vocab object at 0x7f79ac00c0b8>, '22701': <gensim.models.keyedvectors.Vocab object at 0x7f79ac00c128>, '22703': <gensim.models.keyedvectors.Vocab object at 0x7f79ac00c198>, '22808': <gensim.models.keyedvectors.Vocab object at 0x7f79ac00c208>, '22806': <gensim.models.keyedvectors.Vocab object at 0x7f79ac00c278>, '84819': <gensim.models.keyedvectors.Vocab object at 0x7f79ac00c2e8>, '85034B': <gensim.models.keyedvectors.Vocab object at 0x7f79ac00c358>, '21506': <gensim.models.keyedvectors.Vocab object at 0x7f79ac00c3c8>, '22822': <gensim.models.keyedvectors.Vocab object at 0x7f79ac00c438>, '23064': <gensim.models.keyedvectors.Vocab object at 0x7f79ac00c4a8>, '21770': <gensim.models.keyedvectors.Vocab object at 0x7f79ac00c518>, '22697': <gensim.models.keyedvectors.Vocab object at 0x7f79ac00c588>, '84709B': <gensim.models.keyedvectors.Vocab object at 0x7f79ac00c5f8>, '84707A': <gensim.models.keyedvectors.Vocab object at 0x7f79ac00c668>, '20936': <gensim.models.keyedvectors.Vocab object at 0x7f79ac00c6d8>, '20886': <gensim.models.keyedvectors.Vocab object at 0x7f79ac00c748>, '23136': <gensim.models.keyedvectors.Vocab object at 0x7f79ac00c7b8>, '23137': <gensim.models.keyedvectors.Vocab object at 0x7f79ac00c828>, '85174': <gensim.models.keyedvectors.Vocab object at 0x7f79ac00c898>, '22811': <gensim.models.keyedvectors.Vocab object at 0x7f79ac00c908>, '84078A': <gensim.models.keyedvectors.Vocab object at 0x7f79ac00c978>, '85152': <gensim.models.keyedvectors.Vocab object at 0x7f79ac00c9e8>, '21908': <gensim.models.keyedvectors.Vocab object at 0x7f79ac00ca58>, '21172': <gensim.models.keyedvectors.Vocab object at 0x7f79ac00cac8>, '21818': <gensim.models.keyedvectors.Vocab object at 0x7f79ac00cb38>, '21817': <gensim.models.keyedvectors.Vocab object at 0x7f79ac00cba8>, '21819': <gensim.models.keyedvectors.Vocab object at 0x7f79ac00cc18>, '21820': <gensim.models.keyedvectors.Vocab object at 0x7f79ac00cc88>, '21821': <gensim.models.keyedvectors.Vocab object at 0x7f79ac00ccf8>, '20802': <gensim.models.keyedvectors.Vocab object at 0x7f79ac00cd68>, '22465': <gensim.models.keyedvectors.Vocab object at 0x7f79ac00cdd8>, '85048': <gensim.models.keyedvectors.Vocab object at 0x7f79ac00ce48>, '23085': <gensim.models.keyedvectors.Vocab object at 0x7f79ac00ceb8>, '22798': <gensim.models.keyedvectors.Vocab object at 0x7f79ac00cf28>, '85111': <gensim.models.keyedvectors.Vocab object at 0x7f79ac00cf98>, '22800': <gensim.models.keyedvectors.Vocab object at 0x7f79ac00f048>, '22730': <gensim.models.keyedvectors.Vocab object at 0x7f79ac00f0b8>, '22726': <gensim.models.keyedvectors.Vocab object at 0x7f79ac00f128>, '22729': <gensim.models.keyedvectors.Vocab object at 0x7f79ac00f198>, '85038': <gensim.models.keyedvectors.Vocab object at 0x7f79ac00f208>, '85053': <gensim.models.keyedvectors.Vocab object at 0x7f79ac00f278>, '85231G': <gensim.models.keyedvectors.Vocab object at 0x7f79ac00f2e8>, '23020': <gensim.models.keyedvectors.Vocab object at 0x7f79ac00f358>, '23165': <gensim.models.keyedvectors.Vocab object at 0x7f79ac00f3c8>, '23166': <gensim.models.keyedvectors.Vocab object at 0x7f79ac00f438>, '23167': <gensim.models.keyedvectors.Vocab object at 0x7f79ac00f4a8>, '22118': <gensim.models.keyedvectors.Vocab object at 0x7f79ac00f518>, '23188': <gensim.models.keyedvectors.Vocab object at 0x7f79ac00f588>, '22119': <gensim.models.keyedvectors.Vocab object at 0x7f79ac00f5f8>, '22121': <gensim.models.keyedvectors.Vocab object at 0x7f79ac00f668>, '21166': <gensim.models.keyedvectors.Vocab object at 0x7f79ac00f6d8>, '22728': <gensim.models.keyedvectors.Vocab object at 0x7f79ac00f748>, '22890': <gensim.models.keyedvectors.Vocab object at 0x7f79ac00f7b8>, '22727': <gensim.models.keyedvectors.Vocab object at 0x7f79ac00f828>, '22725': <gensim.models.keyedvectors.Vocab object at 0x7f79ac00f898>, '84596G': <gensim.models.keyedvectors.Vocab object at 0x7f79ac00f908>, '84596F': <gensim.models.keyedvectors.Vocab object at 0x7f79ac00f978>, '84596B': <gensim.models.keyedvectors.Vocab object at 0x7f79ac00f9e8>, '37479P': <gensim.models.keyedvectors.Vocab object at 0x7f79ac00fa58>, '22150': <gensim.models.keyedvectors.Vocab object at 0x7f79ac00fac8>, '22147': <gensim.models.keyedvectors.Vocab object at 0x7f79ac00fb38>, '22568': <gensim.models.keyedvectors.Vocab object at 0x7f79ac00fba8>, '22940': <gensim.models.keyedvectors.Vocab object at 0x7f79ac00fc18>, '22749': <gensim.models.keyedvectors.Vocab object at 0x7f79ac00fc88>, '22751': <gensim.models.keyedvectors.Vocab object at 0x7f79ac00fcf8>, '22750': <gensim.models.keyedvectors.Vocab object at 0x7f79ac00fd68>, '22112': <gensim.models.keyedvectors.Vocab object at 0x7f79ac00fdd8>, '21485': <gensim.models.keyedvectors.Vocab object at 0x7f79ac00fe48>, '21175': <gensim.models.keyedvectors.Vocab object at 0x7f79ac00feb8>, '21164': <gensim.models.keyedvectors.Vocab object at 0x7f79ac00ff28>, '23452': <gensim.models.keyedvectors.Vocab object at 0x7f79ac00ff98>, '23451': <gensim.models.keyedvectors.Vocab object at 0x7f79ac014048>, '21034': <gensim.models.keyedvectors.Vocab object at 0x7f79ac0140b8>, '22046': <gensim.models.keyedvectors.Vocab object at 0x7f79ac014128>, '22711': <gensim.models.keyedvectors.Vocab object at 0x7f79ac014198>, '22052': <gensim.models.keyedvectors.Vocab object at 0x7f79ac014208>, '22045': <gensim.models.keyedvectors.Vocab object at 0x7f79ac014278>, '22708': <gensim.models.keyedvectors.Vocab object at 0x7f79ac0142e8>, '21497': <gensim.models.keyedvectors.Vocab object at 0x7f79ac014358>, '20846': <gensim.models.keyedvectors.Vocab object at 0x7f79ac0143c8>, '21382': <gensim.models.keyedvectors.Vocab object at 0x7f79ac014438>, '21313': <gensim.models.keyedvectors.Vocab object at 0x7f79ac0144a8>, '21870': <gensim.models.keyedvectors.Vocab object at 0x7f79ac014518>, '21067': <gensim.models.keyedvectors.Vocab object at 0x7f79ac014588>, '85175': <gensim.models.keyedvectors.Vocab object at 0x7f79ac0145f8>, '21179': <gensim.models.keyedvectors.Vocab object at 0x7f79ac014668>, '21171': <gensim.models.keyedvectors.Vocab object at 0x7f79ac0146d8>, '21181': <gensim.models.keyedvectors.Vocab object at 0x7f79ac014748>, '22413': <gensim.models.keyedvectors.Vocab object at 0x7f79ac0147b8>, '22915': <gensim.models.keyedvectors.Vocab object at 0x7f79ac014828>, '21735': <gensim.models.keyedvectors.Vocab object at 0x7f79ac014898>, '22474': <gensim.models.keyedvectors.Vocab object at 0x7f79ac014908>, '22471': <gensim.models.keyedvectors.Vocab object at 0x7f79ac014978>, '82600': <gensim.models.keyedvectors.Vocab object at 0x7f79ac0149e8>, '82567': <gensim.models.keyedvectors.Vocab object at 0x7f79ac014a58>, '82599': <gensim.models.keyedvectors.Vocab object at 0x7f79ac014ac8>, '22922': <gensim.models.keyedvectors.Vocab object at 0x7f79ac014b38>, '82578': <gensim.models.keyedvectors.Vocab object at 0x7f79ac014ba8>, '82581': <gensim.models.keyedvectors.Vocab object at 0x7f79ac014c18>, '84992': <gensim.models.keyedvectors.Vocab object at 0x7f79ac014c88>, '21832': <gensim.models.keyedvectors.Vocab object at 0x7f79ac014cf8>, '20726': <gensim.models.keyedvectors.Vocab object at 0x7f79ac014d68>, '22382': <gensim.models.keyedvectors.Vocab object at 0x7f79ac014dd8>, '22924': <gensim.models.keyedvectors.Vocab object at 0x7f79ac014e48>, '22923': <gensim.models.keyedvectors.Vocab object at 0x7f79ac014eb8>, '22908': <gensim.models.keyedvectors.Vocab object at 0x7f79ac014f28>, '20974': <gensim.models.keyedvectors.Vocab object at 0x7f79ac014f98>, '84991': <gensim.models.keyedvectors.Vocab object at 0x7f79ac01a048>, '22951': <gensim.models.keyedvectors.Vocab object at 0x7f79ac01a0b8>, '22396': <gensim.models.keyedvectors.Vocab object at 0x7f79ac01a128>, '22717': <gensim.models.keyedvectors.Vocab object at 0x7f79ac01a198>, '22420': <gensim.models.keyedvectors.Vocab object at 0x7f79ac01a208>, '22419': <gensim.models.keyedvectors.Vocab object at 0x7f79ac01a278>, '85197': <gensim.models.keyedvectors.Vocab object at 0x7f79ac01a2e8>, '22398': <gensim.models.keyedvectors.Vocab object at 0x7f79ac01a358>, '22399': <gensim.models.keyedvectors.Vocab object at 0x7f79ac01a3c8>, '22385': <gensim.models.keyedvectors.Vocab object at 0x7f79ac01a438>, '82551': <gensim.models.keyedvectors.Vocab object at 0x7f79ac01a4a8>, '22181': <gensim.models.keyedvectors.Vocab object at 0x7f79ac01a518>, '22029': <gensim.models.keyedvectors.Vocab object at 0x7f79ac01a588>, '22539': <gensim.models.keyedvectors.Vocab object at 0x7f79ac01a5f8>, '22540': <gensim.models.keyedvectors.Vocab object at 0x7f79ac01a668>, '22544': <gensim.models.keyedvectors.Vocab object at 0x7f79ac01a6d8>, '22817': <gensim.models.keyedvectors.Vocab object at 0x7f79ac01a748>, '22712': <gensim.models.keyedvectors.Vocab object at 0x7f79ac01a7b8>, '22025': <gensim.models.keyedvectors.Vocab object at 0x7f79ac01a828>, '22027': <gensim.models.keyedvectors.Vocab object at 0x7f79ac01a898>, '21508': <gensim.models.keyedvectors.Vocab object at 0x7f79ac01a908>, '21507': <gensim.models.keyedvectors.Vocab object at 0x7f79ac01a978>, '22023': <gensim.models.keyedvectors.Vocab object at 0x7f79ac01a9e8>, '22035': <gensim.models.keyedvectors.Vocab object at 0x7f79ac01aa58>, '21504': <gensim.models.keyedvectors.Vocab object at 0x7f79ac01aac8>, '22024': <gensim.models.keyedvectors.Vocab object at 0x7f79ac01ab38>, '22716': <gensim.models.keyedvectors.Vocab object at 0x7f79ac01aba8>, '22984': <gensim.models.keyedvectors.Vocab object at 0x7f79ac01ac18>, '22718': <gensim.models.keyedvectors.Vocab object at 0x7f79ac01ac88>, '21520': <gensim.models.keyedvectors.Vocab object at 0x7f79ac01acf8>, '22243': <gensim.models.keyedvectors.Vocab object at 0x7f79ac01ad68>, '22670': <gensim.models.keyedvectors.Vocab object at 0x7f79ac01add8>, '22675': <gensim.models.keyedvectors.Vocab object at 0x7f79ac01ae48>, '22674': <gensim.models.keyedvectors.Vocab object at 0x7f79ac01aeb8>, '21358': <gensim.models.keyedvectors.Vocab object at 0x7f79ac01af28>, '21355': <gensim.models.keyedvectors.Vocab object at 0x7f79ac01af98>, '21354': <gensim.models.keyedvectors.Vocab object at 0x7f79ac01e048>, '22355': <gensim.models.keyedvectors.Vocab object at 0x7f79ac01e0b8>, '22719': <gensim.models.keyedvectors.Vocab object at 0x7f79ac01e128>, '22662': <gensim.models.keyedvectors.Vocab object at 0x7f79ac01e198>, '21071': <gensim.models.keyedvectors.Vocab object at 0x7f79ac01e208>, '37413': <gensim.models.keyedvectors.Vocab object at 0x7f79ac01e278>, '22948': <gensim.models.keyedvectors.Vocab object at 0x7f79ac01e2e8>, '21068': <gensim.models.keyedvectors.Vocab object at 0x7f79ac01e358>, '22178': <gensim.models.keyedvectors.Vocab object at 0x7f79ac01e3c8>, '84970L': <gensim.models.keyedvectors.Vocab object at 0x7f79ac01e438>, '84755': <gensim.models.keyedvectors.Vocab object at 0x7f79ac01e4a8>, '16236': <gensim.models.keyedvectors.Vocab object at 0x7f79ac01e518>, '16238': <gensim.models.keyedvectors.Vocab object at 0x7f79ac01e588>, '23180': <gensim.models.keyedvectors.Vocab object at 0x7f79ac01e5f8>, '21448': <gensim.models.keyedvectors.Vocab object at 0x7f79ac01e668>, '22219': <gensim.models.keyedvectors.Vocab object at 0x7f79ac01e6d8>, '23178': <gensim.models.keyedvectors.Vocab object at 0x7f79ac01e748>, '23184': <gensim.models.keyedvectors.Vocab object at 0x7f79ac01e7b8>, '23158': <gensim.models.keyedvectors.Vocab object at 0x7f79ac01e828>, '23159': <gensim.models.keyedvectors.Vocab object at 0x7f79ac01e898>, '23156': <gensim.models.keyedvectors.Vocab object at 0x7f79ac01e908>, '23177': <gensim.models.keyedvectors.Vocab object at 0x7f79ac01e978>, '23193': <gensim.models.keyedvectors.Vocab object at 0x7f79ac01e9e8>, '23194': <gensim.models.keyedvectors.Vocab object at 0x7f79ac01ea58>, '23155': <gensim.models.keyedvectors.Vocab object at 0x7f79ac01eac8>, '22162': <gensim.models.keyedvectors.Vocab object at 0x7f79ac01eb38>, '23077': <gensim.models.keyedvectors.Vocab object at 0x7f79ac01eba8>, '23078': <gensim.models.keyedvectors.Vocab object at 0x7f79ac01ec18>, '22649': <gensim.models.keyedvectors.Vocab object at 0x7f79ac01ec88>, '22892': <gensim.models.keyedvectors.Vocab object at 0x7f79ac01ecf8>, '79066K': <gensim.models.keyedvectors.Vocab object at 0x7f79ac01ed68>, '23076': <gensim.models.keyedvectors.Vocab object at 0x7f79ac01edd8>, '22064': <gensim.models.keyedvectors.Vocab object at 0x7f79ac01ee48>, '21249': <gensim.models.keyedvectors.Vocab object at 0x7f79ac01eeb8>, '21169': <gensim.models.keyedvectors.Vocab object at 0x7f79ac01ef28>, '16012': <gensim.models.keyedvectors.Vocab object at 0x7f79ac01ef98>, '84925D': <gensim.models.keyedvectors.Vocab object at 0x7f79ac022048>, '21721': <gensim.models.keyedvectors.Vocab object at 0x7f79ac0220b8>, '21724': <gensim.models.keyedvectors.Vocab object at 0x7f79ac022128>, '22252': <gensim.models.keyedvectors.Vocab object at 0x7f79ac022198>, '20975': <gensim.models.keyedvectors.Vocab object at 0x7f79ac022208>, '21719': <gensim.models.keyedvectors.Vocab object at 0x7f79ac022278>, '21720': <gensim.models.keyedvectors.Vocab object at 0x7f79ac0222e8>, '22891': <gensim.models.keyedvectors.Vocab object at 0x7f79ac022358>, '21232': <gensim.models.keyedvectors.Vocab object at 0x7f79ac0223c8>, '21791': <gensim.models.keyedvectors.Vocab object at 0x7f79ac022438>, '21790': <gensim.models.keyedvectors.Vocab object at 0x7f79ac0224a8>, '22807': <gensim.models.keyedvectors.Vocab object at 0x7f79ac022518>, '22815': <gensim.models.keyedvectors.Vocab object at 0x7f79ac022588>, '22037': <gensim.models.keyedvectors.Vocab object at 0x7f79ac0225f8>, '84247G': <gensim.models.keyedvectors.Vocab object at 0x7f79ac022668>, '22444': <gensim.models.keyedvectors.Vocab object at 0x7f79ac0226d8>, '22294': <gensim.models.keyedvectors.Vocab object at 0x7f79ac022748>, '23208': <gensim.models.keyedvectors.Vocab object at 0x7f79ac0227b8>, '23206': <gensim.models.keyedvectors.Vocab object at 0x7f79ac022828>, '21064': <gensim.models.keyedvectors.Vocab object at 0x7f79ac022898>, '21877': <gensim.models.keyedvectors.Vocab object at 0x7f79ac022908>, '21873': <gensim.models.keyedvectors.Vocab object at 0x7f79ac022978>, '84077': <gensim.models.keyedvectors.Vocab object at 0x7f79ac0229e8>, '21875': <gensim.models.keyedvectors.Vocab object at 0x7f79ac022a58>, '85160B': <gensim.models.keyedvectors.Vocab object at 0x7f79ac022ac8>, '37468': <gensim.models.keyedvectors.Vocab object at 0x7f79ac022b38>, '22693': <gensim.models.keyedvectors.Vocab object at 0x7f79ac022ba8>, '21948': <gensim.models.keyedvectors.Vocab object at 0x7f79ac022c18>, '21158': <gensim.models.keyedvectors.Vocab object at 0x7f79ac022c88>, '22672': <gensim.models.keyedvectors.Vocab object at 0x7f79ac022cf8>, '22678': <gensim.models.keyedvectors.Vocab object at 0x7f79ac022d68>, '21161': <gensim.models.keyedvectors.Vocab object at 0x7f79ac022dd8>, '21248': <gensim.models.keyedvectors.Vocab object at 0x7f79ac022e48>, '22494': <gensim.models.keyedvectors.Vocab object at 0x7f79ac022eb8>, '21904': <gensim.models.keyedvectors.Vocab object at 0x7f79ac022f28>, '85016': <gensim.models.keyedvectors.Vocab object at 0x7f79ac022f98>, '85017C': <gensim.models.keyedvectors.Vocab object at 0x7f79ac027048>, '21871': <gensim.models.keyedvectors.Vocab object at 0x7f79ac0270b8>, '21231': <gensim.models.keyedvectors.Vocab object at 0x7f79ac027128>, '22418': <gensim.models.keyedvectors.Vocab object at 0x7f79ac027198>, '21773': <gensim.models.keyedvectors.Vocab object at 0x7f79ac027208>, '21775': <gensim.models.keyedvectors.Vocab object at 0x7f79ac027278>, '22230': <gensim.models.keyedvectors.Vocab object at 0x7f79ac0272e8>, '17003': <gensim.models.keyedvectors.Vocab object at 0x7f79ac027358>, '15034': <gensim.models.keyedvectors.Vocab object at 0x7f79ac0273c8>, '21992': <gensim.models.keyedvectors.Vocab object at 0x7f79ac027438>, '84929': <gensim.models.keyedvectors.Vocab object at 0x7f79ac0274a8>, '82552': <gensim.models.keyedvectors.Vocab object at 0x7f79ac027518>, '22992': <gensim.models.keyedvectors.Vocab object at 0x7f79ac027588>, '84536A': <gensim.models.keyedvectors.Vocab object at 0x7f79ac0275f8>, '84536B': <gensim.models.keyedvectors.Vocab object at 0x7f79ac027668>, '16011': <gensim.models.keyedvectors.Vocab object at 0x7f79ac0276d8>, '16161U': <gensim.models.keyedvectors.Vocab object at 0x7f79ac027748>, '22983': <gensim.models.keyedvectors.Vocab object at 0x7f79ac0277b8>, '22646': <gensim.models.keyedvectors.Vocab object at 0x7f79ac027828>, '22644': <gensim.models.keyedvectors.Vocab object at 0x7f79ac027898>, '21943': <gensim.models.keyedvectors.Vocab object at 0x7f79ac027908>, '21946': <gensim.models.keyedvectors.Vocab object at 0x7f79ac027978>, '21874': <gensim.models.keyedvectors.Vocab object at 0x7f79ac0279e8>, '22407': <gensim.models.keyedvectors.Vocab object at 0x7f79ac027a58>, '22405': <gensim.models.keyedvectors.Vocab object at 0x7f79ac027ac8>, '22613': <gensim.models.keyedvectors.Vocab object at 0x7f79ac027b38>, '20725': <gensim.models.keyedvectors.Vocab object at 0x7f79ac027ba8>, '23209': <gensim.models.keyedvectors.Vocab object at 0x7f79ac027c18>, '21745': <gensim.models.keyedvectors.Vocab object at 0x7f79ac027c88>, '47503A': <gensim.models.keyedvectors.Vocab object at 0x7f79ac027cf8>, '23389': <gensim.models.keyedvectors.Vocab object at 0x7f79ac027d68>, '23388': <gensim.models.keyedvectors.Vocab object at 0x7f79ac027dd8>, '23390': <gensim.models.keyedvectors.Vocab object at 0x7f79ac027e48>, '22115': <gensim.models.keyedvectors.Vocab object at 0x7f79ac027eb8>, '23186': <gensim.models.keyedvectors.Vocab object at 0x7f79ac027f28>, '79321': <gensim.models.keyedvectors.Vocab object at 0x7f79ac027f98>, '21137': <gensim.models.keyedvectors.Vocab object at 0x7f79ac02c048>, '23146': <gensim.models.keyedvectors.Vocab object at 0x7f79ac02c0b8>, '23168': <gensim.models.keyedvectors.Vocab object at 0x7f79ac02c128>, '84406B': <gensim.models.keyedvectors.Vocab object at 0x7f79ac02c198>, '82483': <gensim.models.keyedvectors.Vocab object at 0x7f79ac02c208>, '23275': <gensim.models.keyedvectors.Vocab object at 0x7f79ac02c278>, '23415': <gensim.models.keyedvectors.Vocab object at 0x7f79ac02c2e8>, '23417': <gensim.models.keyedvectors.Vocab object at 0x7f79ac02c358>, '22044': <gensim.models.keyedvectors.Vocab object at 0x7f79ac02c3c8>, '21704': <gensim.models.keyedvectors.Vocab object at 0x7f79ac02c438>, '21703': <gensim.models.keyedvectors.Vocab object at 0x7f79ac02c4a8>, '23333': <gensim.models.keyedvectors.Vocab object at 0x7f79ac02c518>, '85071A': <gensim.models.keyedvectors.Vocab object at 0x7f79ac02c588>, '85071B': <gensim.models.keyedvectors.Vocab object at 0x7f79ac02c5f8>, '23496': <gensim.models.keyedvectors.Vocab object at 0x7f79ac02c668>, '23367': <gensim.models.keyedvectors.Vocab object at 0x7f79ac02c6d8>, '23148': <gensim.models.keyedvectors.Vocab object at 0x7f79ac02c748>, '22041': <gensim.models.keyedvectors.Vocab object at 0x7f79ac02c7b8>, '15036': <gensim.models.keyedvectors.Vocab object at 0x7f79ac02c828>, '23583': <gensim.models.keyedvectors.Vocab object at 0x7f79ac02c898>, '23506': <gensim.models.keyedvectors.Vocab object at 0x7f79ac02c908>, '23507': <gensim.models.keyedvectors.Vocab object at 0x7f79ac02c978>, '23508': <gensim.models.keyedvectors.Vocab object at 0x7f79ac02c9e8>, '23510': <gensim.models.keyedvectors.Vocab object at 0x7f79ac02ca58>, '21889': <gensim.models.keyedvectors.Vocab object at 0x7f79ac02cac8>, '23404': <gensim.models.keyedvectors.Vocab object at 0x7f79ac02cb38>, '22591': <gensim.models.keyedvectors.Vocab object at 0x7f79ac02cba8>, '21390': <gensim.models.keyedvectors.Vocab object at 0x7f79ac02cc18>, '23334': <gensim.models.keyedvectors.Vocab object at 0x7f79ac02cc88>, '22152': <gensim.models.keyedvectors.Vocab object at 0x7f79ac02ccf8>, '22151': <gensim.models.keyedvectors.Vocab object at 0x7f79ac02cd68>, '85199S': <gensim.models.keyedvectors.Vocab object at 0x7f79ac02cdd8>, '85130C': <gensim.models.keyedvectors.Vocab object at 0x7f79ac02ce48>, 'M': <gensim.models.keyedvectors.Vocab object at 0x7f79ac02ce80>, '23316': <gensim.models.keyedvectors.Vocab object at 0x7f79ac02cef0>, '23315': <gensim.models.keyedvectors.Vocab object at 0x7f79ac02cf60>, '23342': <gensim.models.keyedvectors.Vocab object at 0x7f79ac02cfd0>, '22191': <gensim.models.keyedvectors.Vocab object at 0x7f79ac032080>, '23341': <gensim.models.keyedvectors.Vocab object at 0x7f79ac0320f0>, '23548': <gensim.models.keyedvectors.Vocab object at 0x7f79ac032160>, '21495': <gensim.models.keyedvectors.Vocab object at 0x7f79ac0321d0>, '22048': <gensim.models.keyedvectors.Vocab object at 0x7f79ac032240>, '22026': <gensim.models.keyedvectors.Vocab object at 0x7f79ac0322b0>, '21523': <gensim.models.keyedvectors.Vocab object at 0x7f79ac032320>, '22847': <gensim.models.keyedvectors.Vocab object at 0x7f79ac032390>, '84849A': <gensim.models.keyedvectors.Vocab object at 0x7f79ac032400>, '84849B': <gensim.models.keyedvectors.Vocab object at 0x7f79ac032470>, '22685': <gensim.models.keyedvectors.Vocab object at 0x7f79ac0324e0>, '22684': <gensim.models.keyedvectors.Vocab object at 0x7f79ac032550>, '22680': <gensim.models.keyedvectors.Vocab object at 0x7f79ac0325c0>, '22679': <gensim.models.keyedvectors.Vocab object at 0x7f79ac032630>, '22676': <gensim.models.keyedvectors.Vocab object at 0x7f79ac0326a0>, '22677': <gensim.models.keyedvectors.Vocab object at 0x7f79ac032710>, '22682': <gensim.models.keyedvectors.Vocab object at 0x7f79ac032780>, '22673': <gensim.models.keyedvectors.Vocab object at 0x7f79ac0327f0>, '21903': <gensim.models.keyedvectors.Vocab object at 0x7f79ac032860>, '21476': <gensim.models.keyedvectors.Vocab object at 0x7f79ac0328d0>, '22762': <gensim.models.keyedvectors.Vocab object at 0x7f79ac032940>, '22426': <gensim.models.keyedvectors.Vocab object at 0x7f79ac0329b0>, '22681': <gensim.models.keyedvectors.Vocab object at 0x7f79ac032a20>, '22683': <gensim.models.keyedvectors.Vocab object at 0x7f79ac032a90>, '23051': <gensim.models.keyedvectors.Vocab object at 0x7f79ac032b00>, '82486': <gensim.models.keyedvectors.Vocab object at 0x7f79ac032b70>, '85059': <gensim.models.keyedvectors.Vocab object at 0x7f79ac032be0>, '22912': <gensim.models.keyedvectors.Vocab object at 0x7f79ac032c50>, '22832': <gensim.models.keyedvectors.Vocab object at 0x7f79ac032cc0>, '22829': <gensim.models.keyedvectors.Vocab object at 0x7f79ac032d30>, '22794': <gensim.models.keyedvectors.Vocab object at 0x7f79ac032da0>, '21907': <gensim.models.keyedvectors.Vocab object at 0x7f79ac032e10>, '23142': <gensim.models.keyedvectors.Vocab object at 0x7f79ac032e80>, '85150': <gensim.models.keyedvectors.Vocab object at 0x7f79ac032ef0>, '21922': <gensim.models.keyedvectors.Vocab object at 0x7f79ac032f60>, '22607': <gensim.models.keyedvectors.Vocab object at 0x7f79ac032fd0>, '22502': <gensim.models.keyedvectors.Vocab object at 0x7f79ac035080>, '84796B': <gensim.models.keyedvectors.Vocab object at 0x7f79ac0350f0>, '22501': <gensim.models.keyedvectors.Vocab object at 0x7f79ac035160>, '21069': <gensim.models.keyedvectors.Vocab object at 0x7f79ac0351d0>, '22698': <gensim.models.keyedvectors.Vocab object at 0x7f79ac035240>, '22699': <gensim.models.keyedvectors.Vocab object at 0x7f79ac0352b0>, '23170': <gensim.models.keyedvectors.Vocab object at 0x7f79ac035320>, '23171': <gensim.models.keyedvectors.Vocab object at 0x7f79ac035390>, '23173': <gensim.models.keyedvectors.Vocab object at 0x7f79ac035400>, '23174': <gensim.models.keyedvectors.Vocab object at 0x7f79ac035470>, '23175': <gensim.models.keyedvectors.Vocab object at 0x7f79ac0354e0>, '23245': <gensim.models.keyedvectors.Vocab object at 0x7f79ac035550>, '22777': <gensim.models.keyedvectors.Vocab object at 0x7f79ac0355c0>, '21098': <gensim.models.keyedvectors.Vocab object at 0x7f79ac035630>, '22779': <gensim.models.keyedvectors.Vocab object at 0x7f79ac0356a0>, '23108': <gensim.models.keyedvectors.Vocab object at 0x7f79ac035710>, '22985': <gensim.models.keyedvectors.Vocab object at 0x7f79ac035780>, '22759': <gensim.models.keyedvectors.Vocab object at 0x7f79ac0357f0>, '85099C': <gensim.models.keyedvectors.Vocab object at 0x7f79ac035860>, '21986': <gensim.models.keyedvectors.Vocab object at 0x7f79ac0358d0>, '21980': <gensim.models.keyedvectors.Vocab object at 0x7f79ac035940>, '21985': <gensim.models.keyedvectors.Vocab object at 0x7f79ac0359b0>, '22242': <gensim.models.keyedvectors.Vocab object at 0x7f79ac035a20>, '20971': <gensim.models.keyedvectors.Vocab object at 0x7f79ac035a90>, '22570': <gensim.models.keyedvectors.Vocab object at 0x7f79ac035b00>, '37448': <gensim.models.keyedvectors.Vocab object at 0x7f79ac035b70>, '22358': <gensim.models.keyedvectors.Vocab object at 0x7f79ac035be0>, '22960': <gensim.models.keyedvectors.Vocab object at 0x7f79ac035c50>, '22961': <gensim.models.keyedvectors.Vocab object at 0x7f79ac035cc0>, '22964': <gensim.models.keyedvectors.Vocab object at 0x7f79ac035d30>, '22721': <gensim.models.keyedvectors.Vocab object at 0x7f79ac035da0>, '21213': <gensim.models.keyedvectors.Vocab object at 0x7f79ac035e10>, '22666': <gensim.models.keyedvectors.Vocab object at 0x7f79ac035e80>, '22665': <gensim.models.keyedvectors.Vocab object at 0x7f79ac035ef0>, '22324': <gensim.models.keyedvectors.Vocab object at 0x7f79ac035f60>, '22380': <gensim.models.keyedvectors.Vocab object at 0x7f79ac035fd0>, '22664': <gensim.models.keyedvectors.Vocab object at 0x7f79ac03b080>, '21731': <gensim.models.keyedvectors.Vocab object at 0x7f79ac03b0f0>, '47591D': <gensim.models.keyedvectors.Vocab object at 0x7f79ac03b160>, '22367': <gensim.models.keyedvectors.Vocab object at 0x7f79ac03b1d0>, '22472': <gensim.models.keyedvectors.Vocab object at 0x7f79ac03b240>, '22654': <gensim.models.keyedvectors.Vocab object at 0x7f79ac03b2b0>, '84997D': <gensim.models.keyedvectors.Vocab object at 0x7f79ac03b320>, '84997B': <gensim.models.keyedvectors.Vocab object at 0x7f79ac03b390>, '22301': <gensim.models.keyedvectors.Vocab object at 0x7f79ac03b400>, '22630': <gensim.models.keyedvectors.Vocab object at 0x7f79ac03b470>, '22629': <gensim.models.keyedvectors.Vocab object at 0x7f79ac03b4e0>, '22303': <gensim.models.keyedvectors.Vocab object at 0x7f79ac03b550>, '22302': <gensim.models.keyedvectors.Vocab object at 0x7f79ac03b5c0>, '22563': <gensim.models.keyedvectors.Vocab object at 0x7f79ac03b630>, '22562': <gensim.models.keyedvectors.Vocab object at 0x7f79ac03b6a0>, '22714': <gensim.models.keyedvectors.Vocab object at 0x7f79ac03b710>, '23207': <gensim.models.keyedvectors.Vocab object at 0x7f79ac03b780>, '22993': <gensim.models.keyedvectors.Vocab object at 0x7f79ac03b7f0>, '22661': <gensim.models.keyedvectors.Vocab object at 0x7f79ac03b860>, '22974': <gensim.models.keyedvectors.Vocab object at 0x7f79ac03b8d0>, '22972': <gensim.models.keyedvectors.Vocab object at 0x7f79ac03b940>, '20969': <gensim.models.keyedvectors.Vocab object at 0x7f79ac03b9b0>, '85099F': <gensim.models.keyedvectors.Vocab object at 0x7f79ac03ba20>, '23203': <gensim.models.keyedvectors.Vocab object at 0x7f79ac03ba90>, '22059': <gensim.models.keyedvectors.Vocab object at 0x7f79ac03bb00>, '22300': <gensim.models.keyedvectors.Vocab object at 0x7f79ac03bb70>, '84380': <gensim.models.keyedvectors.Vocab object at 0x7f79ac03bbe0>, '23298': <gensim.models.keyedvectors.Vocab object at 0x7f79ac03bc50>, '22784': <gensim.models.keyedvectors.Vocab object at 0x7f79ac03bcc0>, '20685': <gensim.models.keyedvectors.Vocab object at 0x7f79ac03bd30>, '23284': <gensim.models.keyedvectors.Vocab object at 0x7f79ac03bda0>, '48185': <gensim.models.keyedvectors.Vocab object at 0x7f79ac03be10>, '23191': <gensim.models.keyedvectors.Vocab object at 0x7f79ac03be80>, '22328': <gensim.models.keyedvectors.Vocab object at 0x7f79ac03bef0>, '22620': <gensim.models.keyedvectors.Vocab object at 0x7f79ac03bf60>, '23299': <gensim.models.keyedvectors.Vocab object at 0x7f79ac03bfd0>, '22530': <gensim.models.keyedvectors.Vocab object at 0x7f79ac040080>, '22617': <gensim.models.keyedvectors.Vocab object at 0x7f79ac0400f0>, '22534': <gensim.models.keyedvectors.Vocab object at 0x7f79ac040160>, '21394': <gensim.models.keyedvectors.Vocab object at 0x7f79ac0401d0>, '21395': <gensim.models.keyedvectors.Vocab object at 0x7f79ac040240>, '21530': <gensim.models.keyedvectors.Vocab object at 0x7f79ac0402b0>, '21403': <gensim.models.keyedvectors.Vocab object at 0x7f79ac040320>, '21402': <gensim.models.keyedvectors.Vocab object at 0x7f79ac040390>, '21990': <gensim.models.keyedvectors.Vocab object at 0x7f79ac040400>, '21993': <gensim.models.keyedvectors.Vocab object at 0x7f79ac040470>, '22062': <gensim.models.keyedvectors.Vocab object at 0x7f79ac0404e0>, '22208': <gensim.models.keyedvectors.Vocab object at 0x7f79ac040550>, '22209': <gensim.models.keyedvectors.Vocab object at 0x7f79ac0405c0>, '22609': <gensim.models.keyedvectors.Vocab object at 0x7f79ac040630>, '47593B': <gensim.models.keyedvectors.Vocab object at 0x7f79ac0406a0>, '85132B': <gensim.models.keyedvectors.Vocab object at 0x7f79ac040710>, '85183B': <gensim.models.keyedvectors.Vocab object at 0x7f79ac040780>, '85183A': <gensim.models.keyedvectors.Vocab object at 0x7f79ac0407f0>, '85132C': <gensim.models.keyedvectors.Vocab object at 0x7f79ac040860>, '21080': <gensim.models.keyedvectors.Vocab object at 0x7f79ac0408d0>, '22627': <gensim.models.keyedvectors.Vocab object at 0x7f79ac040940>, '22625': <gensim.models.keyedvectors.Vocab object at 0x7f79ac0409b0>, '22956': <gensim.models.keyedvectors.Vocab object at 0x7f79ac040a20>, '22955': <gensim.models.keyedvectors.Vocab object at 0x7f79ac040a90>, '22350': <gensim.models.keyedvectors.Vocab object at 0x7f79ac040b00>, '21868': <gensim.models.keyedvectors.Vocab object at 0x7f79ac040b70>, '20718': <gensim.models.keyedvectors.Vocab object at 0x7f79ac040be0>, '22055': <gensim.models.keyedvectors.Vocab object at 0x7f79ac040c50>, '21935': <gensim.models.keyedvectors.Vocab object at 0x7f79ac040cc0>, '23201': <gensim.models.keyedvectors.Vocab object at 0x7f79ac040d30>, '21934': <gensim.models.keyedvectors.Vocab object at 0x7f79ac040da0>, '22899': <gensim.models.keyedvectors.Vocab object at 0x7f79ac040e10>, '16048': <gensim.models.keyedvectors.Vocab object at 0x7f79ac040e80>, '23110': <gensim.models.keyedvectors.Vocab object at 0x7f79ac040ef0>, '23118': <gensim.models.keyedvectors.Vocab object at 0x7f79ac040f60>, '23190': <gensim.models.keyedvectors.Vocab object at 0x7f79ac040fd0>, '23236': <gensim.models.keyedvectors.Vocab object at 0x7f79abfc4080>, '23239': <gensim.models.keyedvectors.Vocab object at 0x7f79abfc40f0>, '23240': <gensim.models.keyedvectors.Vocab object at 0x7f79abfc4160>, '23263': <gensim.models.keyedvectors.Vocab object at 0x7f79abfc41d0>, '23290': <gensim.models.keyedvectors.Vocab object at 0x7f79abfc4240>, '23291': <gensim.models.keyedvectors.Vocab object at 0x7f79abfc42b0>, '23289': <gensim.models.keyedvectors.Vocab object at 0x7f79abfc4320>, '23292': <gensim.models.keyedvectors.Vocab object at 0x7f79abfc4390>, '16218': <gensim.models.keyedvectors.Vocab object at 0x7f79abfc4400>, '16054': <gensim.models.keyedvectors.Vocab object at 0x7f79abfc4470>, '16259': <gensim.models.keyedvectors.Vocab object at 0x7f79abfc44e0>, '16045': <gensim.models.keyedvectors.Vocab object at 0x7f79abfc4550>, '17012A': <gensim.models.keyedvectors.Vocab object at 0x7f79abfc45c0>, '17012B': <gensim.models.keyedvectors.Vocab object at 0x7f79abfc4630>, '20840': <gensim.models.keyedvectors.Vocab object at 0x7f79abfc46a0>, '20835': <gensim.models.keyedvectors.Vocab object at 0x7f79abfc4710>, '21641': <gensim.models.keyedvectors.Vocab object at 0x7f79abfc4780>, '22551': <gensim.models.keyedvectors.Vocab object at 0x7f79abfc47f0>, '22232': <gensim.models.keyedvectors.Vocab object at 0x7f79abfc4860>, '22233': <gensim.models.keyedvectors.Vocab object at 0x7f79abfc48d0>, '22400': <gensim.models.keyedvectors.Vocab object at 0x7f79abfc4940>, '22403': <gensim.models.keyedvectors.Vocab object at 0x7f79abfc49b0>, '22402': <gensim.models.keyedvectors.Vocab object at 0x7f79abfc4a20>, '85130B': <gensim.models.keyedvectors.Vocab object at 0x7f79abfc4a90>, '23296': <gensim.models.keyedvectors.Vocab object at 0x7f79abfc4b00>, '23294': <gensim.models.keyedvectors.Vocab object at 0x7f79abfc4b70>, '23297': <gensim.models.keyedvectors.Vocab object at 0x7f79abfc4be0>, '85071D': <gensim.models.keyedvectors.Vocab object at 0x7f79abfc4c50>, '23345': <gensim.models.keyedvectors.Vocab object at 0x7f79abfc4cc0>, '23346': <gensim.models.keyedvectors.Vocab object at 0x7f79abfc4d30>, '23200': <gensim.models.keyedvectors.Vocab object at 0x7f79abfc4da0>, '23199': <gensim.models.keyedvectors.Vocab object at 0x7f79abfc4e10>, '22569': <gensim.models.keyedvectors.Vocab object at 0x7f79abfc4e80>, '16235': <gensim.models.keyedvectors.Vocab object at 0x7f79abfc4ef0>, '16219': <gensim.models.keyedvectors.Vocab object at 0x7f79abfc4f60>, '21088': <gensim.models.keyedvectors.Vocab object at 0x7f79abfc4fd0>, '21096': <gensim.models.keyedvectors.Vocab object at 0x7f79abfc8080>, '21642': <gensim.models.keyedvectors.Vocab object at 0x7f79abfc80f0>, '21524': <gensim.models.keyedvectors.Vocab object at 0x7f79abfc8160>, '21400': <gensim.models.keyedvectors.Vocab object at 0x7f79abfc81d0>, '21401': <gensim.models.keyedvectors.Vocab object at 0x7f79abfc8240>, '21845': <gensim.models.keyedvectors.Vocab object at 0x7f79abfc82b0>, '22094': <gensim.models.keyedvectors.Vocab object at 0x7f79abfc8320>, '22092': <gensim.models.keyedvectors.Vocab object at 0x7f79abfc8390>, '22099': <gensim.models.keyedvectors.Vocab object at 0x7f79abfc8400>, '22096': <gensim.models.keyedvectors.Vocab object at 0x7f79abfc8470>, '85071C': <gensim.models.keyedvectors.Vocab object at 0x7f79abfc84e0>, '21982': <gensim.models.keyedvectors.Vocab object at 0x7f79abfc8550>, '22667': <gensim.models.keyedvectors.Vocab object at 0x7f79abfc85c0>, '23528': <gensim.models.keyedvectors.Vocab object at 0x7f79abfc8630>, '23529': <gensim.models.keyedvectors.Vocab object at 0x7f79abfc86a0>, '23343': <gensim.models.keyedvectors.Vocab object at 0x7f79abfc8710>, '22110': <gensim.models.keyedvectors.Vocab object at 0x7f79abfc8780>, '23375': <gensim.models.keyedvectors.Vocab object at 0x7f79abfc87f0>, '23373': <gensim.models.keyedvectors.Vocab object at 0x7f79abfc8860>, '23436': <gensim.models.keyedvectors.Vocab object at 0x7f79abfc88d0>, '23374': <gensim.models.keyedvectors.Vocab object at 0x7f79abfc8940>, '23438': <gensim.models.keyedvectors.Vocab object at 0x7f79abfc89b0>, '23328': <gensim.models.keyedvectors.Vocab object at 0x7f79abfc8a20>, '23434': <gensim.models.keyedvectors.Vocab object at 0x7f79abfc8a90>, '22577': <gensim.models.keyedvectors.Vocab object at 0x7f79abfc8b00>, '22579': <gensim.models.keyedvectors.Vocab object at 0x7f79abfc8b70>, '22187': <gensim.models.keyedvectors.Vocab object at 0x7f79abfc8be0>, '21824': <gensim.models.keyedvectors.Vocab object at 0x7f79abfc8c50>, '22093': <gensim.models.keyedvectors.Vocab object at 0x7f79abfc8cc0>, '22091': <gensim.models.keyedvectors.Vocab object at 0x7f79abfc8d30>, '22100': <gensim.models.keyedvectors.Vocab object at 0x7f79abfc8da0>, '22897': <gensim.models.keyedvectors.Vocab object at 0x7f79abfc8e10>, '22549': <gensim.models.keyedvectors.Vocab object at 0x7f79abfc8e80>, '23483': <gensim.models.keyedvectors.Vocab object at 0x7f79abfc8ef0>, '22809': <gensim.models.keyedvectors.Vocab object at 0x7f79abfc8f60>, '22079': <gensim.models.keyedvectors.Vocab object at 0x7f79abfc8fd0>, '35911A': <gensim.models.keyedvectors.Vocab object at 0x7f79abfcf080>, '22505': <gensim.models.keyedvectors.Vocab object at 0x7f79abfcf0f0>, '22970': <gensim.models.keyedvectors.Vocab object at 0x7f79abfcf160>, '20681': <gensim.models.keyedvectors.Vocab object at 0x7f79abfcf1d0>, '20682': <gensim.models.keyedvectors.Vocab object at 0x7f79abfcf240>, '21484': <gensim.models.keyedvectors.Vocab object at 0x7f79abfcf2b0>, '21947': <gensim.models.keyedvectors.Vocab object at 0x7f79abfcf320>, '22561': <gensim.models.keyedvectors.Vocab object at 0x7f79abfcf390>, '20777': <gensim.models.keyedvectors.Vocab object at 0x7f79abfcf400>, '20774': <gensim.models.keyedvectors.Vocab object at 0x7f79abfcf470>, '20658': <gensim.models.keyedvectors.Vocab object at 0x7f79abfcf4e0>, '20684': <gensim.models.keyedvectors.Vocab object at 0x7f79abfcf550>, '22556': <gensim.models.keyedvectors.Vocab object at 0x7f79abfcf5c0>, '22859': <gensim.models.keyedvectors.Vocab object at 0x7f79abfcf630>, '22900': <gensim.models.keyedvectors.Vocab object at 0x7f79abfcf6a0>, '22991': <gensim.models.keyedvectors.Vocab object at 0x7f79abfcf710>, '21981': <gensim.models.keyedvectors.Vocab object at 0x7f79abfcf780>, '22406': <gensim.models.keyedvectors.Vocab object at 0x7f79abfcf7f0>, '21830': <gensim.models.keyedvectors.Vocab object at 0x7f79abfcf860>, '22861': <gensim.models.keyedvectors.Vocab object at 0x7f79abfcf8d0>, '22860': <gensim.models.keyedvectors.Vocab object at 0x7f79abfcf940>, '22557': <gensim.models.keyedvectors.Vocab object at 0x7f79abfcf9b0>, '22553': <gensim.models.keyedvectors.Vocab object at 0x7f79abfcfa20>, '21557': <gensim.models.keyedvectors.Vocab object at 0x7f79abfcfa90>, '22179': <gensim.models.keyedvectors.Vocab object at 0x7f79abfcfb00>, '21915': <gensim.models.keyedvectors.Vocab object at 0x7f79abfcfb70>, '21914': <gensim.models.keyedvectors.Vocab object at 0x7f79abfcfbe0>, '21327': <gensim.models.keyedvectors.Vocab object at 0x7f79abfcfc50>, '21328': <gensim.models.keyedvectors.Vocab object at 0x7f79abfcfcc0>, '84218': <gensim.models.keyedvectors.Vocab object at 0x7f79abfcfd30>, '22564': <gensim.models.keyedvectors.Vocab object at 0x7f79abfcfda0>, '22084': <gensim.models.keyedvectors.Vocab object at 0x7f79abfcfe10>, '22061': <gensim.models.keyedvectors.Vocab object at 0x7f79abfcfe80>, '22170': <gensim.models.keyedvectors.Vocab object at 0x7f79abfcfef0>, '48187': <gensim.models.keyedvectors.Vocab object at 0x7f79abfcff60>, '22660': <gensim.models.keyedvectors.Vocab object at 0x7f79abfcffd0>, '22498': <gensim.models.keyedvectors.Vocab object at 0x7f79abfd2080>, '84569A': <gensim.models.keyedvectors.Vocab object at 0x7f79abfd20f0>, '21878': <gensim.models.keyedvectors.Vocab object at 0x7f79abfd2160>, '22384': <gensim.models.keyedvectors.Vocab object at 0x7f79abfd21d0>, '22978': <gensim.models.keyedvectors.Vocab object at 0x7f79abfd2240>, '23183': <gensim.models.keyedvectors.Vocab object at 0x7f79abfd22b0>, '22354': <gensim.models.keyedvectors.Vocab object at 0x7f79abfd2320>, '22573': <gensim.models.keyedvectors.Vocab object at 0x7f79abfd2390>, '22574': <gensim.models.keyedvectors.Vocab object at 0x7f79abfd2400>, '22581': <gensim.models.keyedvectors.Vocab object at 0x7f79abfd2470>, '22601': <gensim.models.keyedvectors.Vocab object at 0x7f79abfd24e0>, '22603': <gensim.models.keyedvectors.Vocab object at 0x7f79abfd2550>, '22086': <gensim.models.keyedvectors.Vocab object at 0x7f79abfd25c0>, '21111': <gensim.models.keyedvectors.Vocab object at 0x7f79abfd2630>, '22910': <gensim.models.keyedvectors.Vocab object at 0x7f79abfd26a0>, '22389': <gensim.models.keyedvectors.Vocab object at 0x7f79abfd2710>, '22998': <gensim.models.keyedvectors.Vocab object at 0x7f79abfd2780>, '23502': <gensim.models.keyedvectors.Vocab object at 0x7f79abfd27f0>, '21789': <gensim.models.keyedvectors.Vocab object at 0x7f79abfd2860>, '23378': <gensim.models.keyedvectors.Vocab object at 0x7f79abfd28d0>, '23505': <gensim.models.keyedvectors.Vocab object at 0x7f79abfd2940>, '23350': <gensim.models.keyedvectors.Vocab object at 0x7f79abfd29b0>, '23352': <gensim.models.keyedvectors.Vocab object at 0x7f79abfd2a20>, '21945': <gensim.models.keyedvectors.Vocab object at 0x7f79abfd2a90>, '23695': <gensim.models.keyedvectors.Vocab object at 0x7f79abfd2b00>, '22942': <gensim.models.keyedvectors.Vocab object at 0x7f79abfd2b70>, '23313': <gensim.models.keyedvectors.Vocab object at 0x7f79abfd2be0>, '23293': <gensim.models.keyedvectors.Vocab object at 0x7f79abfd2c50>, '23295': <gensim.models.keyedvectors.Vocab object at 0x7f79abfd2cc0>, '22780': <gensim.models.keyedvectors.Vocab object at 0x7f79abfd2d30>, '20780': <gensim.models.keyedvectors.Vocab object at 0x7f79abfd2da0>, '84031A': <gensim.models.keyedvectors.Vocab object at 0x7f79abfd2e10>, '23549': <gensim.models.keyedvectors.Vocab object at 0x7f79abfd2e80>, '22959': <gensim.models.keyedvectors.Vocab object at 0x7f79abfd2ef0>, '22434': <gensim.models.keyedvectors.Vocab object at 0x7f79abfd2f60>, '23581': <gensim.models.keyedvectors.Vocab object at 0x7f79abfd2fd0>, '20713': <gensim.models.keyedvectors.Vocab object at 0x7f79abfd7080>, '22411': <gensim.models.keyedvectors.Vocab object at 0x7f79abfd70f0>, '22356': <gensim.models.keyedvectors.Vocab object at 0x7f79abfd7160>, '22980': <gensim.models.keyedvectors.Vocab object at 0x7f79abfd71d0>, '22979': <gensim.models.keyedvectors.Vocab object at 0x7f79abfd7240>, '22966': <gensim.models.keyedvectors.Vocab object at 0x7f79abfd72b0>, '22962': <gensim.models.keyedvectors.Vocab object at 0x7f79abfd7320>, '22963': <gensim.models.keyedvectors.Vocab object at 0x7f79abfd7390>, '22989': <gensim.models.keyedvectors.Vocab object at 0x7f79abfd7400>, '22846': <gensim.models.keyedvectors.Vocab object at 0x7f79abfd7470>, '22624': <gensim.models.keyedvectors.Vocab object at 0x7f79abfd74e0>, '22558': <gensim.models.keyedvectors.Vocab object at 0x7f79abfd7550>, '22895': <gensim.models.keyedvectors.Vocab object at 0x7f79abfd75c0>, '22824': <gensim.models.keyedvectors.Vocab object at 0x7f79abfd7630>, '21136': <gensim.models.keyedvectors.Vocab object at 0x7f79abfd76a0>, '22925': <gensim.models.keyedvectors.Vocab object at 0x7f79abfd7710>, '22692': <gensim.models.keyedvectors.Vocab object at 0x7f79abfd7780>, '21888': <gensim.models.keyedvectors.Vocab object at 0x7f79abfd77f0>, '22193': <gensim.models.keyedvectors.Vocab object at 0x7f79abfd7860>, '23204': <gensim.models.keyedvectors.Vocab object at 0x7f79abfd78d0>, '23202': <gensim.models.keyedvectors.Vocab object at 0x7f79abfd7940>, '23111': <gensim.models.keyedvectors.Vocab object at 0x7f79abfd79b0>, '22429': <gensim.models.keyedvectors.Vocab object at 0x7f79abfd7a20>, '22381': <gensim.models.keyedvectors.Vocab object at 0x7f79abfd7a90>, '22379': <gensim.models.keyedvectors.Vocab object at 0x7f79abfd7b00>, '21212': <gensim.models.keyedvectors.Vocab object at 0x7f79abfd7b70>, '20724': <gensim.models.keyedvectors.Vocab object at 0x7f79abfd7be0>, '23306': <gensim.models.keyedvectors.Vocab object at 0x7f79abfd7c50>, '23229': <gensim.models.keyedvectors.Vocab object at 0x7f79abfd7cc0>, '22158': <gensim.models.keyedvectors.Vocab object at 0x7f79abfd7d30>, '23130': <gensim.models.keyedvectors.Vocab object at 0x7f79abfd7da0>, '23131': <gensim.models.keyedvectors.Vocab object at 0x7f79abfd7e10>, '23547': <gensim.models.keyedvectors.Vocab object at 0x7f79abfd7e80>, '23545': <gensim.models.keyedvectors.Vocab object at 0x7f79abfd7ef0>, '23012': <gensim.models.keyedvectors.Vocab object at 0x7f79abfd7f60>, '23013': <gensim.models.keyedvectors.Vocab object at 0x7f79abfd7fd0>, '22741': <gensim.models.keyedvectors.Vocab object at 0x7f79abfdd080>, '23534': <gensim.models.keyedvectors.Vocab object at 0x7f79abfdd0f0>, '23411': <gensim.models.keyedvectors.Vocab object at 0x7f79abfdd160>, '48188': <gensim.models.keyedvectors.Vocab object at 0x7f79abfdd1d0>, '48173C': <gensim.models.keyedvectors.Vocab object at 0x7f79abfdd240>, '21955': <gensim.models.keyedvectors.Vocab object at 0x7f79abfdd2b0>, '48138': <gensim.models.keyedvectors.Vocab object at 0x7f79abfdd320>, '48111': <gensim.models.keyedvectors.Vocab object at 0x7f79abfdd390>, '48116': <gensim.models.keyedvectors.Vocab object at 0x7f79abfdd400>, '22690': <gensim.models.keyedvectors.Vocab object at 0x7f79abfdd470>, '22128': <gensim.models.keyedvectors.Vocab object at 0x7f79abfdd4e0>, '72802C': <gensim.models.keyedvectors.Vocab object at 0x7f79abfdd550>, '72802A': <gensim.models.keyedvectors.Vocab object at 0x7f79abfdd5c0>, '72807A': <gensim.models.keyedvectors.Vocab object at 0x7f79abfdd630>, '72807B': <gensim.models.keyedvectors.Vocab object at 0x7f79abfdd6a0>, '85035A': <gensim.models.keyedvectors.Vocab object at 0x7f79abfdd710>, '72803A': <gensim.models.keyedvectors.Vocab object at 0x7f79abfdd780>, '72351B': <gensim.models.keyedvectors.Vocab object at 0x7f79abfdd7f0>, '72351A': <gensim.models.keyedvectors.Vocab object at 0x7f79abfdd860>, '84997C': <gensim.models.keyedvectors.Vocab object at 0x7f79abfdd8d0>, '20931': <gensim.models.keyedvectors.Vocab object at 0x7f79abfdd940>, '48129': <gensim.models.keyedvectors.Vocab object at 0x7f79abfdd9b0>, '48184': <gensim.models.keyedvectors.Vocab object at 0x7f79abfdda20>, '22120': <gensim.models.keyedvectors.Vocab object at 0x7f79abfdda90>, '22478': <gensim.models.keyedvectors.Vocab object at 0x7f79abfddb00>, '22499': <gensim.models.keyedvectors.Vocab object at 0x7f79abfddb70>, '21843': <gensim.models.keyedvectors.Vocab object at 0x7f79abfddbe0>, '22090': <gensim.models.keyedvectors.Vocab object at 0x7f79abfddc50>, '72807C': <gensim.models.keyedvectors.Vocab object at 0x7f79abfddcc0>, '22480': <gensim.models.keyedvectors.Vocab object at 0x7f79abfddd30>, '20751': <gensim.models.keyedvectors.Vocab object at 0x7f79abfddda0>, '20754': <gensim.models.keyedvectors.Vocab object at 0x7f79abfdde10>, '22691': <gensim.models.keyedvectors.Vocab object at 0x7f79abfdde80>, '22117': <gensim.models.keyedvectors.Vocab object at 0x7f79abfddef0>, '22507': <gensim.models.keyedvectors.Vocab object at 0x7f79abfddf60>, '85169C': <gensim.models.keyedvectors.Vocab object at 0x7f79abfddfd0>, '85169D': <gensim.models.keyedvectors.Vocab object at 0x7f79abfe1080>, '85170C': <gensim.models.keyedvectors.Vocab object at 0x7f79abfe10f0>, '20851': <gensim.models.keyedvectors.Vocab object at 0x7f79abfe1160>, '20847': <gensim.models.keyedvectors.Vocab object at 0x7f79abfe11d0>, '20848': <gensim.models.keyedvectors.Vocab object at 0x7f79abfe1240>, '22441': <gensim.models.keyedvectors.Vocab object at 0x7f79abfe12b0>, '21896': <gensim.models.keyedvectors.Vocab object at 0x7f79abfe1320>, '22327': <gensim.models.keyedvectors.Vocab object at 0x7f79abfe1390>, '20749': <gensim.models.keyedvectors.Vocab object at 0x7f79abfe1400>, '20750': <gensim.models.keyedvectors.Vocab object at 0x7f79abfe1470>, '17012F': <gensim.models.keyedvectors.Vocab object at 0x7f79abfe14e0>, '17012C': <gensim.models.keyedvectors.Vocab object at 0x7f79abfe1550>, '21692': <gensim.models.keyedvectors.Vocab object at 0x7f79abfe15c0>, '21688': <gensim.models.keyedvectors.Vocab object at 0x7f79abfe1630>, '21695': <gensim.models.keyedvectors.Vocab object at 0x7f79abfe16a0>, '21693': <gensim.models.keyedvectors.Vocab object at 0x7f79abfe1710>, '22070': <gensim.models.keyedvectors.Vocab object at 0x7f79abfe1780>, '84974': <gensim.models.keyedvectors.Vocab object at 0x7f79abfe17f0>, '21155': <gensim.models.keyedvectors.Vocab object at 0x7f79abfe1860>, '22365': <gensim.models.keyedvectors.Vocab object at 0x7f79abfe18d0>, '85125': <gensim.models.keyedvectors.Vocab object at 0x7f79abfe1940>, '21682': <gensim.models.keyedvectors.Vocab object at 0x7f79abfe19b0>, '22071': <gensim.models.keyedvectors.Vocab object at 0x7f79abfe1a20>, '85144': <gensim.models.keyedvectors.Vocab object at 0x7f79abfe1a90>, '47566B': <gensim.models.keyedvectors.Vocab object at 0x7f79abfe1b00>, '22214': <gensim.models.keyedvectors.Vocab object at 0x7f79abfe1b70>, '21288': <gensim.models.keyedvectors.Vocab object at 0x7f79abfe1be0>, '21292': <gensim.models.keyedvectors.Vocab object at 0x7f79abfe1c50>, '84030E': <gensim.models.keyedvectors.Vocab object at 0x7f79abfe1cc0>, '21055': <gensim.models.keyedvectors.Vocab object at 0x7f79abfe1d30>, '22141': <gensim.models.keyedvectors.Vocab object at 0x7f79abfe1da0>, '22144': <gensim.models.keyedvectors.Vocab object at 0x7f79abfe1e10>, '20772': <gensim.models.keyedvectors.Vocab object at 0x7f79abfe1e80>, '20766': <gensim.models.keyedvectors.Vocab object at 0x7f79abfe1ef0>, '21317': <gensim.models.keyedvectors.Vocab object at 0x7f79abfe1f60>, '23491': <gensim.models.keyedvectors.Vocab object at 0x7f79abfe1fd0>, '23103': <gensim.models.keyedvectors.Vocab object at 0x7f79abfe5080>, '23489': <gensim.models.keyedvectors.Vocab object at 0x7f79abfe50f0>, '21121': <gensim.models.keyedvectors.Vocab object at 0x7f79abfe5160>, '21122': <gensim.models.keyedvectors.Vocab object at 0x7f79abfe51d0>, '21124': <gensim.models.keyedvectors.Vocab object at 0x7f79abfe5240>, '21977': <gensim.models.keyedvectors.Vocab object at 0x7f79abfe52b0>, '21975': <gensim.models.keyedvectors.Vocab object at 0x7f79abfe5320>, '23308': <gensim.models.keyedvectors.Vocab object at 0x7f79abfe5390>, '23307': <gensim.models.keyedvectors.Vocab object at 0x7f79abfe5400>, '23189': <gensim.models.keyedvectors.Vocab object at 0x7f79abfe5470>, '22555': <gensim.models.keyedvectors.Vocab object at 0x7f79abfe54e0>, '84378': <gensim.models.keyedvectors.Vocab object at 0x7f79abfe5550>, '23172': <gensim.models.keyedvectors.Vocab object at 0x7f79abfe55c0>, '23274': <gensim.models.keyedvectors.Vocab object at 0x7f79abfe5630>, '22949': <gensim.models.keyedvectors.Vocab object at 0x7f79abfe56a0>, '21210': <gensim.models.keyedvectors.Vocab object at 0x7f79abfe5710>, '84987': <gensim.models.keyedvectors.Vocab object at 0x7f79abfe5780>, '22838': <gensim.models.keyedvectors.Vocab object at 0x7f79abfe57f0>, '22839': <gensim.models.keyedvectors.Vocab object at 0x7f79abfe5860>, '21240': <gensim.models.keyedvectors.Vocab object at 0x7f79abfe58d0>, '21239': <gensim.models.keyedvectors.Vocab object at 0x7f79abfe5940>, '20674': <gensim.models.keyedvectors.Vocab object at 0x7f79abfe59b0>, '20675': <gensim.models.keyedvectors.Vocab object at 0x7f79abfe5a20>, '20677': <gensim.models.keyedvectors.Vocab object at 0x7f79abfe5a90>, '21245': <gensim.models.keyedvectors.Vocab object at 0x7f79abfe5b00>, '21244': <gensim.models.keyedvectors.Vocab object at 0x7f79abfe5b70>, '21243': <gensim.models.keyedvectors.Vocab object at 0x7f79abfe5be0>, '23288': <gensim.models.keyedvectors.Vocab object at 0x7f79abfe5c50>, '23287': <gensim.models.keyedvectors.Vocab object at 0x7f79abfe5cc0>, '23286': <gensim.models.keyedvectors.Vocab object at 0x7f79abfe5d30>, '23285': <gensim.models.keyedvectors.Vocab object at 0x7f79abfe5da0>, '20668': <gensim.models.keyedvectors.Vocab object at 0x7f79abfe5e10>, '23543': <gensim.models.keyedvectors.Vocab object at 0x7f79abfe5e80>, '21918': <gensim.models.keyedvectors.Vocab object at 0x7f79abfe5ef0>, '22842': <gensim.models.keyedvectors.Vocab object at 0x7f79abfe5f60>, '22840': <gensim.models.keyedvectors.Vocab object at 0x7f79abfe5fd0>, '22338': <gensim.models.keyedvectors.Vocab object at 0x7f79abfeb080>, '22339': <gensim.models.keyedvectors.Vocab object at 0x7f79abfeb0f0>, '22947': <gensim.models.keyedvectors.Vocab object at 0x7f79abfeb160>, '21373': <gensim.models.keyedvectors.Vocab object at 0x7f79abfeb1d0>, '23101': <gensim.models.keyedvectors.Vocab object at 0x7f79abfeb240>, '23471': <gensim.models.keyedvectors.Vocab object at 0x7f79abfeb2b0>, '23414': <gensim.models.keyedvectors.Vocab object at 0x7f79abfeb320>, '23459': <gensim.models.keyedvectors.Vocab object at 0x7f79abfeb390>, '23145': <gensim.models.keyedvectors.Vocab object at 0x7f79abfeb400>, '22068': <gensim.models.keyedvectors.Vocab object at 0x7f79abfeb470>, '22778': <gensim.models.keyedvectors.Vocab object at 0x7f79abfeb4e0>, '23571': <gensim.models.keyedvectors.Vocab object at 0x7f79abfeb550>, '21883': <gensim.models.keyedvectors.Vocab object at 0x7f79abfeb5c0>, '22952': <gensim.models.keyedvectors.Vocab object at 0x7f79abfeb630>, '22946': <gensim.models.keyedvectors.Vocab object at 0x7f79abfeb6a0>, '22745': <gensim.models.keyedvectors.Vocab object at 0x7f79abfeb710>, '22746': <gensim.models.keyedvectors.Vocab object at 0x7f79abfeb780>, '20972': <gensim.models.keyedvectors.Vocab object at 0x7f79abfeb7f0>, '16225': <gensim.models.keyedvectors.Vocab object at 0x7f79abfeb860>, '22748': <gensim.models.keyedvectors.Vocab object at 0x7f79abfeb8d0>, '85194L': <gensim.models.keyedvectors.Vocab object at 0x7f79abfeb940>, '22087': <gensim.models.keyedvectors.Vocab object at 0x7f79abfeb9b0>, '22332': <gensim.models.keyedvectors.Vocab object at 0x7f79abfeba20>, '22333': <gensim.models.keyedvectors.Vocab object at 0x7f79abfeba90>, '22334': <gensim.models.keyedvectors.Vocab object at 0x7f79abfebb00>, '22431': <gensim.models.keyedvectors.Vocab object at 0x7f79abfebb70>, '22489': <gensim.models.keyedvectors.Vocab object at 0x7f79abfebbe0>, '22521': <gensim.models.keyedvectors.Vocab object at 0x7f79abfebc50>, '22432': <gensim.models.keyedvectors.Vocab object at 0x7f79abfebcc0>, '22518': <gensim.models.keyedvectors.Vocab object at 0x7f79abfebd30>, '22580': <gensim.models.keyedvectors.Vocab object at 0x7f79abfebda0>, '23393': <gensim.models.keyedvectors.Vocab object at 0x7f79abfebe10>, '46000S': <gensim.models.keyedvectors.Vocab object at 0x7f79abfebe80>, '22747': <gensim.models.keyedvectors.Vocab object at 0x7f79abfebef0>, '22621': <gensim.models.keyedvectors.Vocab object at 0x7f79abfebf60>, '21650': <gensim.models.keyedvectors.Vocab object at 0x7f79abfebfd0>, '51014L': <gensim.models.keyedvectors.Vocab object at 0x7f79abfef080>, '23310': <gensim.models.keyedvectors.Vocab object at 0x7f79abfef0f0>, '84988': <gensim.models.keyedvectors.Vocab object at 0x7f79abfef160>, '17038': <gensim.models.keyedvectors.Vocab object at 0x7f79abfef1d0>, '22227': <gensim.models.keyedvectors.Vocab object at 0x7f79abfef240>, '18007': <gensim.models.keyedvectors.Vocab object at 0x7f79abfef2b0>, '21726': <gensim.models.keyedvectors.Vocab object at 0x7f79abfef320>, '79160': <gensim.models.keyedvectors.Vocab object at 0x7f79abfef390>, '22639': <gensim.models.keyedvectors.Vocab object at 0x7f79abfef400>, '85184C': <gensim.models.keyedvectors.Vocab object at 0x7f79abfef470>, '21677': <gensim.models.keyedvectors.Vocab object at 0x7f79abfef4e0>, '21679': <gensim.models.keyedvectors.Vocab object at 0x7f79abfef550>, '84050': <gensim.models.keyedvectors.Vocab object at 0x7f79abfef5c0>, '20707': <gensim.models.keyedvectors.Vocab object at 0x7f79abfef630>, '79190D': <gensim.models.keyedvectors.Vocab object at 0x7f79abfef6a0>, '79190B': <gensim.models.keyedvectors.Vocab object at 0x7f79abfef710>, '37446': <gensim.models.keyedvectors.Vocab object at 0x7f79abfef780>, '22954': <gensim.models.keyedvectors.Vocab object at 0x7f79abfef7f0>, '22097': <gensim.models.keyedvectors.Vocab object at 0x7f79abfef860>, '22188': <gensim.models.keyedvectors.Vocab object at 0x7f79abfef8d0>, '23141': <gensim.models.keyedvectors.Vocab object at 0x7f79abfef940>, '23140': <gensim.models.keyedvectors.Vocab object at 0x7f79abfef9b0>, '23338': <gensim.models.keyedvectors.Vocab object at 0x7f79abfefa20>, '21899': <gensim.models.keyedvectors.Vocab object at 0x7f79abfefa90>, '47480': <gensim.models.keyedvectors.Vocab object at 0x7f79abfefb00>, '85061W': <gensim.models.keyedvectors.Vocab object at 0x7f79abfefb70>, '85130D': <gensim.models.keyedvectors.Vocab object at 0x7f79abfefbe0>, '22597': <gensim.models.keyedvectors.Vocab object at 0x7f79abfefc50>, '23138': <gensim.models.keyedvectors.Vocab object at 0x7f79abfefcc0>, '21291': <gensim.models.keyedvectors.Vocab object at 0x7f79abfefd30>, '22344': <gensim.models.keyedvectors.Vocab object at 0x7f79abfefda0>, '23139': <gensim.models.keyedvectors.Vocab object at 0x7f79abfefe10>, '22156': <gensim.models.keyedvectors.Vocab object at 0x7f79abfefe80>, '23215': <gensim.models.keyedvectors.Vocab object at 0x7f79abfefef0>, '35265': <gensim.models.keyedvectors.Vocab object at 0x7f79abfeff60>, '23127': <gensim.models.keyedvectors.Vocab object at 0x7f79abfeffd0>, '23126': <gensim.models.keyedvectors.Vocab object at 0x7f79abff5080>, '22273': <gensim.models.keyedvectors.Vocab object at 0x7f79abff50f0>, '22271': <gensim.models.keyedvectors.Vocab object at 0x7f79abff5160>, '20970': <gensim.models.keyedvectors.Vocab object at 0x7f79abff51d0>, '22295': <gensim.models.keyedvectors.Vocab object at 0x7f79abff5240>, '22180': <gensim.models.keyedvectors.Vocab object at 0x7f79abff52b0>, '21624': <gensim.models.keyedvectors.Vocab object at 0x7f79abff5320>, '20897': <gensim.models.keyedvectors.Vocab object at 0x7f79abff5390>, '37370': <gensim.models.keyedvectors.Vocab object at 0x7f79abff5400>, '21066': <gensim.models.keyedvectors.Vocab object at 0x7f79abff5470>, '22192': <gensim.models.keyedvectors.Vocab object at 0x7f79abff54e0>, '22637': <gensim.models.keyedvectors.Vocab object at 0x7f79abff5550>, '22508': <gensim.models.keyedvectors.Vocab object at 0x7f79abff55c0>, '21658': <gensim.models.keyedvectors.Vocab object at 0x7f79abff5630>, '85135C': <gensim.models.keyedvectors.Vocab object at 0x7f79abff56a0>, '72760B': <gensim.models.keyedvectors.Vocab object at 0x7f79abff5710>, '22841': <gensim.models.keyedvectors.Vocab object at 0x7f79abff5780>, '35241': <gensim.models.keyedvectors.Vocab object at 0x7f79abff57f0>, '21894': <gensim.models.keyedvectors.Vocab object at 0x7f79abff5860>, '22852': <gensim.models.keyedvectors.Vocab object at 0x7f79abff58d0>, '84032B': <gensim.models.keyedvectors.Vocab object at 0x7f79abff5940>, '21038': <gensim.models.keyedvectors.Vocab object at 0x7f79abff59b0>, '21876': <gensim.models.keyedvectors.Vocab object at 0x7f79abff5a20>, '22622': <gensim.models.keyedvectors.Vocab object at 0x7f79abff5a90>, '21844': <gensim.models.keyedvectors.Vocab object at 0x7f79abff5b00>, '21539': <gensim.models.keyedvectors.Vocab object at 0x7f79abff5b70>, '21531': <gensim.models.keyedvectors.Vocab object at 0x7f79abff5be0>, '21218': <gensim.models.keyedvectors.Vocab object at 0x7f79abff5c50>, '21216': <gensim.models.keyedvectors.Vocab object at 0x7f79abff5cc0>, '22795': <gensim.models.keyedvectors.Vocab object at 0x7f79abff5d30>, '21110': <gensim.models.keyedvectors.Vocab object at 0x7f79abff5da0>, '21109': <gensim.models.keyedvectors.Vocab object at 0x7f79abff5e10>, '21108': <gensim.models.keyedvectors.Vocab object at 0x7f79abff5e80>, '21107': <gensim.models.keyedvectors.Vocab object at 0x7f79abff5ef0>, '21106': <gensim.models.keyedvectors.Vocab object at 0x7f79abff5f60>, '22274': <gensim.models.keyedvectors.Vocab object at 0x7f79abff5fd0>, '22142': <gensim.models.keyedvectors.Vocab object at 0x7f79abff8080>, '23376': <gensim.models.keyedvectors.Vocab object at 0x7f79abff80f0>, '22950': <gensim.models.keyedvectors.Vocab object at 0x7f79abff8160>, '23312': <gensim.models.keyedvectors.Vocab object at 0x7f79abff81d0>, '23426': <gensim.models.keyedvectors.Vocab object at 0x7f79abff8240>, '20728': <gensim.models.keyedvectors.Vocab object at 0x7f79abff82b0>, '23495': <gensim.models.keyedvectors.Vocab object at 0x7f79abff8320>, '47590A': <gensim.models.keyedvectors.Vocab object at 0x7f79abff8390>, '47590B': <gensim.models.keyedvectors.Vocab object at 0x7f79abff8400>, '23068': <gensim.models.keyedvectors.Vocab object at 0x7f79abff8470>, '46000M': <gensim.models.keyedvectors.Vocab object at 0x7f79abff84e0>, '23395': <gensim.models.keyedvectors.Vocab object at 0x7f79abff8550>, '23396': <gensim.models.keyedvectors.Vocab object at 0x7f79abff85c0>, '71477': <gensim.models.keyedvectors.Vocab object at 0x7f79abff8630>, '22296': <gensim.models.keyedvectors.Vocab object at 0x7f79abff86a0>, '23227': <gensim.models.keyedvectors.Vocab object at 0x7f79abff8710>, '23210': <gensim.models.keyedvectors.Vocab object at 0x7f79abff8780>, '23224': <gensim.models.keyedvectors.Vocab object at 0x7f79abff87f0>, '23220': <gensim.models.keyedvectors.Vocab object at 0x7f79abff8860>, '23222': <gensim.models.keyedvectors.Vocab object at 0x7f79abff88d0>, '22600': <gensim.models.keyedvectors.Vocab object at 0x7f79abff8940>, '22589': <gensim.models.keyedvectors.Vocab object at 0x7f79abff89b0>, '23332': <gensim.models.keyedvectors.Vocab object at 0x7f79abff8a20>, '85049A': <gensim.models.keyedvectors.Vocab object at 0x7f79abff8a90>, '22818': <gensim.models.keyedvectors.Vocab object at 0x7f79abff8b00>, '84978': <gensim.models.keyedvectors.Vocab object at 0x7f79abff8b70>, '84947': <gensim.models.keyedvectors.Vocab object at 0x7f79abff8be0>, '23090': <gensim.models.keyedvectors.Vocab object at 0x7f79abff8c50>, '10135': <gensim.models.keyedvectors.Vocab object at 0x7f79abff8cc0>, '20704': <gensim.models.keyedvectors.Vocab object at 0x7f79abff8d30>, '21112': <gensim.models.keyedvectors.Vocab object at 0x7f79abff8da0>, '70007': <gensim.models.keyedvectors.Vocab object at 0x7f79abff8e10>, '85170D': <gensim.models.keyedvectors.Vocab object at 0x7f79abff8e80>, '21829': <gensim.models.keyedvectors.Vocab object at 0x7f79abff8ef0>, '84249A': <gensim.models.keyedvectors.Vocab object at 0x7f79abff8f60>, '21062': <gensim.models.keyedvectors.Vocab object at 0x7f79abff8fd0>, '21063': <gensim.models.keyedvectors.Vocab object at 0x7f79abffe080>, '21060': <gensim.models.keyedvectors.Vocab object at 0x7f79abffe0f0>, '23230': <gensim.models.keyedvectors.Vocab object at 0x7f79abffe160>, '84375': <gensim.models.keyedvectors.Vocab object at 0x7f79abffe1d0>, '21204': <gensim.models.keyedvectors.Vocab object at 0x7f79abffe240>, '21206': <gensim.models.keyedvectors.Vocab object at 0x7f79abffe2b0>, '10133': <gensim.models.keyedvectors.Vocab object at 0x7f79abffe320>, '20984': <gensim.models.keyedvectors.Vocab object at 0x7f79abffe390>, '84692': <gensim.models.keyedvectors.Vocab object at 0x7f79abffe400>, '22231': <gensim.models.keyedvectors.Vocab object at 0x7f79abffe470>, '23100': <gensim.models.keyedvectors.Vocab object at 0x7f79abffe4e0>, '79191C': <gensim.models.keyedvectors.Vocab object at 0x7f79abffe550>, '23205': <gensim.models.keyedvectors.Vocab object at 0x7f79abffe5c0>, '84247L': <gensim.models.keyedvectors.Vocab object at 0x7f79abffe630>, '22754': <gensim.models.keyedvectors.Vocab object at 0x7f79abffe6a0>, '22755': <gensim.models.keyedvectors.Vocab object at 0x7f79abffe710>, '22975': <gensim.models.keyedvectors.Vocab object at 0x7f79abffe780>, '23256': <gensim.models.keyedvectors.Vocab object at 0x7f79abffe7f0>, '23254': <gensim.models.keyedvectors.Vocab object at 0x7f79abffe860>, '22977': <gensim.models.keyedvectors.Vocab object at 0x7f79abffe8d0>, '22896': <gensim.models.keyedvectors.Vocab object at 0x7f79abffe940>, '21936': <gensim.models.keyedvectors.Vocab object at 0x7f79abffe9b0>, '22652': <gensim.models.keyedvectors.Vocab object at 0x7f79abffea20>, '20719': <gensim.models.keyedvectors.Vocab object at 0x7f79abffea90>, '20723': <gensim.models.keyedvectors.Vocab object at 0x7f79abffeb00>, '23144': <gensim.models.keyedvectors.Vocab object at 0x7f79abffeb70>, '22149': <gensim.models.keyedvectors.Vocab object at 0x7f79abffebe0>, '84970S': <gensim.models.keyedvectors.Vocab object at 0x7f79abffec50>, '21937': <gensim.models.keyedvectors.Vocab object at 0x7f79abffecc0>, '21931': <gensim.models.keyedvectors.Vocab object at 0x7f79abffed30>, '21929': <gensim.models.keyedvectors.Vocab object at 0x7f79abffeda0>, '22898': <gensim.models.keyedvectors.Vocab object at 0x7f79abffee10>, '21930': <gensim.models.keyedvectors.Vocab object at 0x7f79abffee80>, '20712': <gensim.models.keyedvectors.Vocab object at 0x7f79abffeef0>, '21928': <gensim.models.keyedvectors.Vocab object at 0x7f79abffef60>, '23546': <gensim.models.keyedvectors.Vocab object at 0x7f79abffefd0>, '23550': <gensim.models.keyedvectors.Vocab object at 0x7f79abf83080>, '23444': <gensim.models.keyedvectors.Vocab object at 0x7f79abf830f0>, '22663': <gensim.models.keyedvectors.Vocab object at 0x7f79abf83160>, '22417': <gensim.models.keyedvectors.Vocab object at 0x7f79abf831d0>, '21156': <gensim.models.keyedvectors.Vocab object at 0x7f79abf83240>, '22082': <gensim.models.keyedvectors.Vocab object at 0x7f79abf832b0>, '22739': <gensim.models.keyedvectors.Vocab object at 0x7f79abf83320>, '22738': <gensim.models.keyedvectors.Vocab object at 0x7f79abf83390>, '21479': <gensim.models.keyedvectors.Vocab object at 0x7f79abf83400>, '23366': <gensim.models.keyedvectors.Vocab object at 0x7f79abf83470>, '23681': <gensim.models.keyedvectors.Vocab object at 0x7f79abf834e0>, '22422': <gensim.models.keyedvectors.Vocab object at 0x7f79abf83550>, '18098C': <gensim.models.keyedvectors.Vocab object at 0x7f79abf835c0>, '22437': <gensim.models.keyedvectors.Vocab object at 0x7f79abf83630>, '22311': <gensim.models.keyedvectors.Vocab object at 0x7f79abf836a0>, '21640': <gensim.models.keyedvectors.Vocab object at 0x7f79abf83710>, '17014A': <gensim.models.keyedvectors.Vocab object at 0x7f79abf83780>, '17084R': <gensim.models.keyedvectors.Vocab object at 0x7f79abf837f0>, '22312': <gensim.models.keyedvectors.Vocab object at 0x7f79abf83860>, '84659A': <gensim.models.keyedvectors.Vocab object at 0x7f79abf838d0>, '21730': <gensim.models.keyedvectors.Vocab object at 0x7f79abf83940>, '81950V': <gensim.models.keyedvectors.Vocab object at 0x7f79abf839b0>, '44234': <gensim.models.keyedvectors.Vocab object at 0x7f79abf83a20>, '72232': <gensim.models.keyedvectors.Vocab object at 0x7f79abf83a90>, '46775D': <gensim.models.keyedvectors.Vocab object at 0x7f79abf83b00>, '22767': <gensim.models.keyedvectors.Vocab object at 0x7f79abf83b70>, '22768': <gensim.models.keyedvectors.Vocab object at 0x7f79abf83be0>, '22771': <gensim.models.keyedvectors.Vocab object at 0x7f79abf83c50>, '22827': <gensim.models.keyedvectors.Vocab object at 0x7f79abf83cc0>, '22195': <gensim.models.keyedvectors.Vocab object at 0x7f79abf83d30>, '22862': <gensim.models.keyedvectors.Vocab object at 0x7f79abf83da0>, '21361': <gensim.models.keyedvectors.Vocab object at 0x7f79abf83e10>, '21700': <gensim.models.keyedvectors.Vocab object at 0x7f79abf83e80>, '22435': <gensim.models.keyedvectors.Vocab object at 0x7f79abf83ef0>, '21621': <gensim.models.keyedvectors.Vocab object at 0x7f79abf83f60>, '21709': <gensim.models.keyedvectors.Vocab object at 0x7f79abf83fd0>, '20961': <gensim.models.keyedvectors.Vocab object at 0x7f79abf87080>, '84029G': <gensim.models.keyedvectors.Vocab object at 0x7f79abf870f0>, '22386': <gensim.models.keyedvectors.Vocab object at 0x7f79abf87160>, '21609': <gensim.models.keyedvectors.Vocab object at 0x7f79abf871d0>, '22051': <gensim.models.keyedvectors.Vocab object at 0x7f79abf87240>, '22196': <gensim.models.keyedvectors.Vocab object at 0x7f79abf872b0>, '84461': <gensim.models.keyedvectors.Vocab object at 0x7f79abf87320>, '22668': <gensim.models.keyedvectors.Vocab object at 0x7f79abf87390>, '22669': <gensim.models.keyedvectors.Vocab object at 0x7f79abf87400>, '84212': <gensim.models.keyedvectors.Vocab object at 0x7f79abf87470>, '22733': <gensim.models.keyedvectors.Vocab object at 0x7f79abf874e0>, '23109': <gensim.models.keyedvectors.Vocab object at 0x7f79abf87550>, '22792': <gensim.models.keyedvectors.Vocab object at 0x7f79abf875c0>, '21012': <gensim.models.keyedvectors.Vocab object at 0x7f79abf87630>, '84568': <gensim.models.keyedvectors.Vocab object at 0x7f79abf876a0>, '22650': <gensim.models.keyedvectors.Vocab object at 0x7f79abf87710>, '23007': <gensim.models.keyedvectors.Vocab object at 0x7f79abf87780>, '23008': <gensim.models.keyedvectors.Vocab object at 0x7f79abf877f0>, '22986': <gensim.models.keyedvectors.Vocab object at 0x7f79abf87860>, '22704': <gensim.models.keyedvectors.Vocab object at 0x7f79abf878d0>, '21452': <gensim.models.keyedvectors.Vocab object at 0x7f79abf87940>, '21916': <gensim.models.keyedvectors.Vocab object at 0x7f79abf879b0>, '21671': <gensim.models.keyedvectors.Vocab object at 0x7f79abf87a20>, '21672': <gensim.models.keyedvectors.Vocab object at 0x7f79abf87a90>, '21668': <gensim.models.keyedvectors.Vocab object at 0x7f79abf87b00>, '21669': <gensim.models.keyedvectors.Vocab object at 0x7f79abf87b70>, '21673': <gensim.models.keyedvectors.Vocab object at 0x7f79abf87be0>, '21670': <gensim.models.keyedvectors.Vocab object at 0x7f79abf87c50>, '22796': <gensim.models.keyedvectors.Vocab object at 0x7f79abf87cc0>, '22766': <gensim.models.keyedvectors.Vocab object at 0x7f79abf87d30>, '84836': <gensim.models.keyedvectors.Vocab object at 0x7f79abf87da0>, '21094': <gensim.models.keyedvectors.Vocab object at 0x7f79abf87e10>, '21086': <gensim.models.keyedvectors.Vocab object at 0x7f79abf87e80>, '23026': <gensim.models.keyedvectors.Vocab object at 0x7f79abf87ef0>, '23092': <gensim.models.keyedvectors.Vocab object at 0x7f79abf87f60>, '22113': <gensim.models.keyedvectors.Vocab object at 0x7f79abf87fd0>, '21260': <gensim.models.keyedvectors.Vocab object at 0x7f79abf8b080>, '22770': <gensim.models.keyedvectors.Vocab object at 0x7f79abf8b0f0>, '22185': <gensim.models.keyedvectors.Vocab object at 0x7f79abf8b160>, '23067': <gensim.models.keyedvectors.Vocab object at 0x7f79abf8b1d0>, '22760': <gensim.models.keyedvectors.Vocab object at 0x7f79abf8b240>, '23080': <gensim.models.keyedvectors.Vocab object at 0x7f79abf8b2b0>, '23081': <gensim.models.keyedvectors.Vocab object at 0x7f79abf8b320>, '23015': <gensim.models.keyedvectors.Vocab object at 0x7f79abf8b390>, '21462': <gensim.models.keyedvectors.Vocab object at 0x7f79abf8b400>, '21509': <gensim.models.keyedvectors.Vocab object at 0x7f79abf8b470>, '47594B': <gensim.models.keyedvectors.Vocab object at 0x7f79abf8b4e0>, '22433': <gensim.models.keyedvectors.Vocab object at 0x7f79abf8b550>, '84673A': <gensim.models.keyedvectors.Vocab object at 0x7f79abf8b5c0>, '72800D': <gensim.models.keyedvectors.Vocab object at 0x7f79abf8b630>, '72800C': <gensim.models.keyedvectors.Vocab object at 0x7f79abf8b6a0>, '72800B': <gensim.models.keyedvectors.Vocab object at 0x7f79abf8b710>, '85124B': <gensim.models.keyedvectors.Vocab object at 0x7f79abf8b780>, '85124C': <gensim.models.keyedvectors.Vocab object at 0x7f79abf8b7f0>, '84828': <gensim.models.keyedvectors.Vocab object at 0x7f79abf8b860>, '22376': <gensim.models.keyedvectors.Vocab object at 0x7f79abf8b8d0>, '22374': <gensim.models.keyedvectors.Vocab object at 0x7f79abf8b940>, '71279': <gensim.models.keyedvectors.Vocab object at 0x7f79abf8b9b0>, '23049': <gensim.models.keyedvectors.Vocab object at 0x7f79abf8ba20>, '85114A': <gensim.models.keyedvectors.Vocab object at 0x7f79abf8ba90>, '85114B': <gensim.models.keyedvectors.Vocab object at 0x7f79abf8bb00>, '22124': <gensim.models.keyedvectors.Vocab object at 0x7f79abf8bb70>, '22372': <gensim.models.keyedvectors.Vocab object at 0x7f79abf8bbe0>, '22375': <gensim.models.keyedvectors.Vocab object at 0x7f79abf8bc50>, '22592': <gensim.models.keyedvectors.Vocab object at 0x7f79abf8bcc0>, '84944': <gensim.models.keyedvectors.Vocab object at 0x7f79abf8bd30>, '35471D': <gensim.models.keyedvectors.Vocab object at 0x7f79abf8bda0>, '10125': <gensim.models.keyedvectors.Vocab object at 0x7f79abf8be10>, '23083': <gensim.models.keyedvectors.Vocab object at 0x7f79abf8be80>, '84247E': <gensim.models.keyedvectors.Vocab object at 0x7f79abf8bef0>, '21747': <gensim.models.keyedvectors.Vocab object at 0x7f79abf8bf60>, '84945': <gensim.models.keyedvectors.Vocab object at 0x7f79abf8bfd0>, '23047': <gensim.models.keyedvectors.Vocab object at 0x7f79abf92080>, '23043': <gensim.models.keyedvectors.Vocab object at 0x7f79abf920f0>, '22973': <gensim.models.keyedvectors.Vocab object at 0x7f79abf92160>, '22943': <gensim.models.keyedvectors.Vocab object at 0x7f79abf921d0>, '22731': <gensim.models.keyedvectors.Vocab object at 0x7f79abf92240>, '22732': <gensim.models.keyedvectors.Vocab object at 0x7f79abf922b0>, '23264': <gensim.models.keyedvectors.Vocab object at 0x7f79abf92320>, '23266': <gensim.models.keyedvectors.Vocab object at 0x7f79abf92390>, '22439': <gensim.models.keyedvectors.Vocab object at 0x7f79abf92400>, '23368': <gensim.models.keyedvectors.Vocab object at 0x7f79abf92470>, '21891': <gensim.models.keyedvectors.Vocab object at 0x7f79abf924e0>, '21207': <gensim.models.keyedvectors.Vocab object at 0x7f79abf92550>, '21219': <gensim.models.keyedvectors.Vocab object at 0x7f79abf925c0>, '21224': <gensim.models.keyedvectors.Vocab object at 0x7f79abf92630>, '23280': <gensim.models.keyedvectors.Vocab object at 0x7f79abf926a0>, '23282': <gensim.models.keyedvectors.Vocab object at 0x7f79abf92710>, '23281': <gensim.models.keyedvectors.Vocab object at 0x7f79abf92780>, '22076': <gensim.models.keyedvectors.Vocab object at 0x7f79abf927f0>, '22659': <gensim.models.keyedvectors.Vocab object at 0x7f79abf92860>, '22971': <gensim.models.keyedvectors.Vocab object at 0x7f79abf928d0>, '22616': <gensim.models.keyedvectors.Vocab object at 0x7f79abf92940>, '22713': <gensim.models.keyedvectors.Vocab object at 0x7f79abf929b0>, '22085': <gensim.models.keyedvectors.Vocab object at 0x7f79abf92a20>, '22069': <gensim.models.keyedvectors.Vocab object at 0x7f79abf92a90>, '21544': <gensim.models.keyedvectors.Vocab object at 0x7f79abf92b00>, '23002': <gensim.models.keyedvectors.Vocab object at 0x7f79abf92b70>, '22988': <gensim.models.keyedvectors.Vocab object at 0x7f79abf92be0>, '23391': <gensim.models.keyedvectors.Vocab object at 0x7f79abf92c50>, '23005': <gensim.models.keyedvectors.Vocab object at 0x7f79abf92cc0>, '22710': <gensim.models.keyedvectors.Vocab object at 0x7f79abf92d30>, '85169A': <gensim.models.keyedvectors.Vocab object at 0x7f79abf92da0>, '85169B': <gensim.models.keyedvectors.Vocab object at 0x7f79abf92e10>, '15039': <gensim.models.keyedvectors.Vocab object at 0x7f79abf92e80>, '84795B': <gensim.models.keyedvectors.Vocab object at 0x7f79abf92ef0>, '21698': <gensim.models.keyedvectors.Vocab object at 0x7f79abf92f60>, '21588': <gensim.models.keyedvectors.Vocab object at 0x7f79abf92fd0>, '23022': <gensim.models.keyedvectors.Vocab object at 0x7f79abf95080>, '23023': <gensim.models.keyedvectors.Vocab object at 0x7f79abf950f0>, '21705': <gensim.models.keyedvectors.Vocab object at 0x7f79abf95160>, '23569': <gensim.models.keyedvectors.Vocab object at 0x7f79abf951d0>, '23237': <gensim.models.keyedvectors.Vocab object at 0x7f79abf95240>, '22594': <gensim.models.keyedvectors.Vocab object at 0x7f79abf952b0>, '20979': <gensim.models.keyedvectors.Vocab object at 0x7f79abf95320>, '23480': <gensim.models.keyedvectors.Vocab object at 0x7f79abf95390>, '90119': <gensim.models.keyedvectors.Vocab object at 0x7f79abf95400>, '90086': <gensim.models.keyedvectors.Vocab object at 0x7f79abf95470>, '90164A': <gensim.models.keyedvectors.Vocab object at 0x7f79abf954e0>, '90184B': <gensim.models.keyedvectors.Vocab object at 0x7f79abf95550>, '90161C': <gensim.models.keyedvectors.Vocab object at 0x7f79abf955c0>, '90161D': <gensim.models.keyedvectors.Vocab object at 0x7f79abf95630>, '23494': <gensim.models.keyedvectors.Vocab object at 0x7f79abf956a0>, '21033': <gensim.models.keyedvectors.Vocab object at 0x7f79abf95710>, '20731': <gensim.models.keyedvectors.Vocab object at 0x7f79abf95780>, '22566': <gensim.models.keyedvectors.Vocab object at 0x7f79abf957f0>, '21326': <gensim.models.keyedvectors.Vocab object at 0x7f79abf95860>, '22586': <gensim.models.keyedvectors.Vocab object at 0x7f79abf958d0>, '22565': <gensim.models.keyedvectors.Vocab object at 0x7f79abf95940>, '79071B': <gensim.models.keyedvectors.Vocab object at 0x7f79abf959b0>, '22804': <gensim.models.keyedvectors.Vocab object at 0x7f79abf95a20>, '20830': <gensim.models.keyedvectors.Vocab object at 0x7f79abf95a90>, '22133': <gensim.models.keyedvectors.Vocab object at 0x7f79abf95b00>, '22148': <gensim.models.keyedvectors.Vocab object at 0x7f79abf95b70>, '84817': <gensim.models.keyedvectors.Vocab object at 0x7f79abf95be0>, '84821': <gensim.models.keyedvectors.Vocab object at 0x7f79abf95c50>, '21794': <gensim.models.keyedvectors.Vocab object at 0x7f79abf95cc0>, '21534': <gensim.models.keyedvectors.Vocab object at 0x7f79abf95d30>, '22291': <gensim.models.keyedvectors.Vocab object at 0x7f79abf95da0>, '85036C': <gensim.models.keyedvectors.Vocab object at 0x7f79abf95e10>, '84707B': <gensim.models.keyedvectors.Vocab object at 0x7f79abf95e80>, '85024B': <gensim.models.keyedvectors.Vocab object at 0x7f79abf95ef0>, '85025B': <gensim.models.keyedvectors.Vocab object at 0x7f79abf95f60>, '22791': <gensim.models.keyedvectors.Vocab object at 0x7f79abf95fd0>, '21284': <gensim.models.keyedvectors.Vocab object at 0x7f79abf9a080>, '21690': <gensim.models.keyedvectors.Vocab object at 0x7f79abf9a0f0>, '22293': <gensim.models.keyedvectors.Vocab object at 0x7f79abf9a160>, '22292': <gensim.models.keyedvectors.Vocab object at 0x7f79abf9a1d0>, '21294': <gensim.models.keyedvectors.Vocab object at 0x7f79abf9a240>, '85034A': <gensim.models.keyedvectors.Vocab object at 0x7f79abf9a2b0>, '85040B': <gensim.models.keyedvectors.Vocab object at 0x7f79abf9a320>, '85040A': <gensim.models.keyedvectors.Vocab object at 0x7f79abf9a390>, '22131': <gensim.models.keyedvectors.Vocab object at 0x7f79abf9a400>, '21756': <gensim.models.keyedvectors.Vocab object at 0x7f79abf9a470>, '85035C': <gensim.models.keyedvectors.Vocab object at 0x7f79abf9a4e0>, '15044B': <gensim.models.keyedvectors.Vocab object at 0x7f79abf9a550>, '23250': <gensim.models.keyedvectors.Vocab object at 0x7f79abf9a5c0>, '85089': <gensim.models.keyedvectors.Vocab object at 0x7f79abf9a630>, '21841': <gensim.models.keyedvectors.Vocab object at 0x7f79abf9a6a0>, '23252': <gensim.models.keyedvectors.Vocab object at 0x7f79abf9a710>, '84792': <gensim.models.keyedvectors.Vocab object at 0x7f79abf9a780>, '23265': <gensim.models.keyedvectors.Vocab object at 0x7f79abf9a7f0>, '21314': <gensim.models.keyedvectors.Vocab object at 0x7f79abf9a860>, '23536': <gensim.models.keyedvectors.Vocab object at 0x7f79abf9a8d0>, '23486': <gensim.models.keyedvectors.Vocab object at 0x7f79abf9a940>, '84927D': <gensim.models.keyedvectors.Vocab object at 0x7f79abf9a9b0>, '22927': <gensim.models.keyedvectors.Vocab object at 0x7f79abf9aa20>, '84356': <gensim.models.keyedvectors.Vocab object at 0x7f79abf9aa90>, '72799E': <gensim.models.keyedvectors.Vocab object at 0x7f79abf9ab00>, '72799C': <gensim.models.keyedvectors.Vocab object at 0x7f79abf9ab70>, '72800E': <gensim.models.keyedvectors.Vocab object at 0x7f79abf9abe0>, '47504H': <gensim.models.keyedvectors.Vocab object at 0x7f79abf9ac50>, '21586': <gensim.models.keyedvectors.Vocab object at 0x7f79abf9acc0>, '22945': <gensim.models.keyedvectors.Vocab object at 0x7f79abf9ad30>, '23267': <gensim.models.keyedvectors.Vocab object at 0x7f79abf9ada0>, '22430': <gensim.models.keyedvectors.Vocab object at 0x7f79abf9ae10>, '23335': <gensim.models.keyedvectors.Vocab object at 0x7f79abf9ae80>, '22424': <gensim.models.keyedvectors.Vocab object at 0x7f79abf9aef0>, '22928': <gensim.models.keyedvectors.Vocab object at 0x7f79abf9af60>, '23554': <gensim.models.keyedvectors.Vocab object at 0x7f79abf9afd0>, '85200': <gensim.models.keyedvectors.Vocab object at 0x7f79abf9f080>, '22967': <gensim.models.keyedvectors.Vocab object at 0x7f79abf9f0f0>, '22982': <gensim.models.keyedvectors.Vocab object at 0x7f79abf9f160>, '22519': <gensim.models.keyedvectors.Vocab object at 0x7f79abf9f1d0>, '21788': <gensim.models.keyedvectors.Vocab object at 0x7f79abf9f240>, '23119': <gensim.models.keyedvectors.Vocab object at 0x7f79abf9f2b0>, '22548': <gensim.models.keyedvectors.Vocab object at 0x7f79abf9f320>, '23360': <gensim.models.keyedvectors.Vocab object at 0x7f79abf9f390>, '35970': <gensim.models.keyedvectors.Vocab object at 0x7f79abf9f400>, '23241': <gensim.models.keyedvectors.Vocab object at 0x7f79abf9f470>, '23242': <gensim.models.keyedvectors.Vocab object at 0x7f79abf9f4e0>, '23509': <gensim.models.keyedvectors.Vocab object at 0x7f79abf9f550>, '22906': <gensim.models.keyedvectors.Vocab object at 0x7f79abf9f5c0>, '22280': <gensim.models.keyedvectors.Vocab object at 0x7f79abf9f630>, '22279': <gensim.models.keyedvectors.Vocab object at 0x7f79abf9f6a0>, '21411': <gensim.models.keyedvectors.Vocab object at 0x7f79abf9f710>, '22089': <gensim.models.keyedvectors.Vocab object at 0x7f79abf9f780>, '15044A': <gensim.models.keyedvectors.Vocab object at 0x7f79abf9f7f0>, '22529': <gensim.models.keyedvectors.Vocab object at 0x7f79abf9f860>, '23503': <gensim.models.keyedvectors.Vocab object at 0x7f79abf9f8d0>, '21890': <gensim.models.keyedvectors.Vocab object at 0x7f79abf9f940>, '21912': <gensim.models.keyedvectors.Vocab object at 0x7f79abf9f9b0>, '23570': <gensim.models.keyedvectors.Vocab object at 0x7f79abf9fa20>, '22211': <gensim.models.keyedvectors.Vocab object at 0x7f79abf9fa90>, '20983': <gensim.models.keyedvectors.Vocab object at 0x7f79abf9fb00>, '84535B': <gensim.models.keyedvectors.Vocab object at 0x7f79abf9fb70>, '23445': <gensim.models.keyedvectors.Vocab object at 0x7f79abf9fbe0>, '23113': <gensim.models.keyedvectors.Vocab object at 0x7f79abf9fc50>, '22357': <gensim.models.keyedvectors.Vocab object at 0x7f79abf9fcc0>, '22476': <gensim.models.keyedvectors.Vocab object at 0x7f79abf9fd30>, '84658': <gensim.models.keyedvectors.Vocab object at 0x7f79abf9fda0>, '22473': <gensim.models.keyedvectors.Vocab object at 0x7f79abf9fe10>, '47580': <gensim.models.keyedvectors.Vocab object at 0x7f79abf9fe80>, '21949': <gensim.models.keyedvectors.Vocab object at 0x7f79abf9fef0>, '22198': <gensim.models.keyedvectors.Vocab object at 0x7f79abf9ff60>, '22849': <gensim.models.keyedvectors.Vocab object at 0x7f79abf9ffd0>, '75049L': <gensim.models.keyedvectors.Vocab object at 0x7f79abfa4080>, '21562': <gensim.models.keyedvectors.Vocab object at 0x7f79abfa40f0>, '21078': <gensim.models.keyedvectors.Vocab object at 0x7f79abfa4160>, '22631': <gensim.models.keyedvectors.Vocab object at 0x7f79abfa41d0>, '22560': <gensim.models.keyedvectors.Vocab object at 0x7f79abfa4240>, '22493': <gensim.models.keyedvectors.Vocab object at 0x7f79abfa42b0>, '22436': <gensim.models.keyedvectors.Vocab object at 0x7f79abfa4320>, '79000': <gensim.models.keyedvectors.Vocab object at 0x7f79abfa4390>, '22863': <gensim.models.keyedvectors.Vocab object at 0x7f79abfa4400>, '84832': <gensim.models.keyedvectors.Vocab object at 0x7f79abfa4470>, '71053': <gensim.models.keyedvectors.Vocab object at 0x7f79abfa44e0>, '22893': <gensim.models.keyedvectors.Vocab object at 0x7f79abfa4550>, '85172': <gensim.models.keyedvectors.Vocab object at 0x7f79abfa45c0>, '22855': <gensim.models.keyedvectors.Vocab object at 0x7f79abfa4630>, '22696': <gensim.models.keyedvectors.Vocab object at 0x7f79abfa46a0>, '22695': <gensim.models.keyedvectors.Vocab object at 0x7f79abfa4710>, '23164': <gensim.models.keyedvectors.Vocab object at 0x7f79abfa4780>, '23160': <gensim.models.keyedvectors.Vocab object at 0x7f79abfa47f0>, '23163': <gensim.models.keyedvectors.Vocab object at 0x7f79abfa4860>, '23162': <gensim.models.keyedvectors.Vocab object at 0x7f79abfa48d0>, '23161': <gensim.models.keyedvectors.Vocab object at 0x7f79abfa4940>, '21872': <gensim.models.keyedvectors.Vocab object at 0x7f79abfa49b0>, '22626': <gensim.models.keyedvectors.Vocab object at 0x7f79abfa4a20>, '23154': <gensim.models.keyedvectors.Vocab object at 0x7f79abfa4a90>, '22297': <gensim.models.keyedvectors.Vocab object at 0x7f79abfa4b00>, '23132': <gensim.models.keyedvectors.Vocab object at 0x7f79abfa4b70>, '21167': <gensim.models.keyedvectors.Vocab object at 0x7f79abfa4be0>, '17084N': <gensim.models.keyedvectors.Vocab object at 0x7f79abfa4c50>, '22997': <gensim.models.keyedvectors.Vocab object at 0x7f79abfa4cc0>, '22996': <gensim.models.keyedvectors.Vocab object at 0x7f79abfa4d30>, '23006': <gensim.models.keyedvectors.Vocab object at 0x7f79abfa4da0>, '23000': <gensim.models.keyedvectors.Vocab object at 0x7f79abfa4e10>, '22635': <gensim.models.keyedvectors.Vocab object at 0x7f79abfa4e80>, '22634': <gensim.models.keyedvectors.Vocab object at 0x7f79abfa4ef0>, '22349': <gensim.models.keyedvectors.Vocab object at 0x7f79abfa4f60>, '22845': <gensim.models.keyedvectors.Vocab object at 0x7f79abfa4fd0>, '22853': <gensim.models.keyedvectors.Vocab object at 0x7f79abfa8080>, '72817': <gensim.models.keyedvectors.Vocab object at 0x7f79abfa80f0>, '72818': <gensim.models.keyedvectors.Vocab object at 0x7f79abfa8160>, '23401': <gensim.models.keyedvectors.Vocab object at 0x7f79abfa81d0>, '21623': <gensim.models.keyedvectors.Vocab object at 0x7f79abfa8240>, '23484': <gensim.models.keyedvectors.Vocab object at 0x7f79abfa82b0>, '21407': <gensim.models.keyedvectors.Vocab object at 0x7f79abfa8320>, '21561': <gensim.models.keyedvectors.Vocab object at 0x7f79abfa8390>, '85035B': <gensim.models.keyedvectors.Vocab object at 0x7f79abfa8400>, '20986': <gensim.models.keyedvectors.Vocab object at 0x7f79abfa8470>, '84051': <gensim.models.keyedvectors.Vocab object at 0x7f79abfa84e0>, '21115': <gensim.models.keyedvectors.Vocab object at 0x7f79abfa8550>, '23152': <gensim.models.keyedvectors.Vocab object at 0x7f79abfa85c0>, '23153': <gensim.models.keyedvectors.Vocab object at 0x7f79abfa8630>, '23542': <gensim.models.keyedvectors.Vocab object at 0x7f79abfa86a0>, '23135': <gensim.models.keyedvectors.Vocab object at 0x7f79abfa8710>, '21270': <gensim.models.keyedvectors.Vocab object at 0x7f79abfa8780>, '22614': <gensim.models.keyedvectors.Vocab object at 0x7f79abfa87f0>, '22937': <gensim.models.keyedvectors.Vocab object at 0x7f79abfa8860>, '22953': <gensim.models.keyedvectors.Vocab object at 0x7f79abfa88d0>, '21974': <gensim.models.keyedvectors.Vocab object at 0x7f79abfa8940>, '22353': <gensim.models.keyedvectors.Vocab object at 0x7f79abfa89b0>, '22366': <gensim.models.keyedvectors.Vocab object at 0x7f79abfa8a20>, '22107': <gensim.models.keyedvectors.Vocab object at 0x7f79abfa8a90>, '22109': <gensim.models.keyedvectors.Vocab object at 0x7f79abfa8b00>, '22416': <gensim.models.keyedvectors.Vocab object at 0x7f79abfa8b70>, '22935': <gensim.models.keyedvectors.Vocab object at 0x7f79abfa8be0>, '22931': <gensim.models.keyedvectors.Vocab object at 0x7f79abfa8c50>, '22930': <gensim.models.keyedvectors.Vocab object at 0x7f79abfa8cc0>, '22936': <gensim.models.keyedvectors.Vocab object at 0x7f79abfa8d30>, '22965': <gensim.models.keyedvectors.Vocab object at 0x7f79abfa8da0>, '22077': <gensim.models.keyedvectors.Vocab object at 0x7f79abfa8e10>, '23114': <gensim.models.keyedvectors.Vocab object at 0x7f79abfa8e80>, '23117': <gensim.models.keyedvectors.Vocab object at 0x7f79abfa8ef0>, '23435': <gensim.models.keyedvectors.Vocab object at 0x7f79abfa8f60>, '23235': <gensim.models.keyedvectors.Vocab object at 0x7f79abfa8fd0>, '21200': <gensim.models.keyedvectors.Vocab object at 0x7f79abfad080>, '20838': <gensim.models.keyedvectors.Vocab object at 0x7f79abfad0f0>, '21163': <gensim.models.keyedvectors.Vocab object at 0x7f79abfad160>, '21967': <gensim.models.keyedvectors.Vocab object at 0x7f79abfad1d0>, '20977': <gensim.models.keyedvectors.Vocab object at 0x7f79abfad240>, '37327': <gensim.models.keyedvectors.Vocab object at 0x7f79abfad2b0>, '85088': <gensim.models.keyedvectors.Vocab object at 0x7f79abfad320>, '18094C': <gensim.models.keyedvectors.Vocab object at 0x7f79abfad390>, '35648': <gensim.models.keyedvectors.Vocab object at 0x7f79abfad400>, '21917': <gensim.models.keyedvectors.Vocab object at 0x7f79abfad470>, '84279P': <gensim.models.keyedvectors.Vocab object at 0x7f79abfad4e0>, '84910A': <gensim.models.keyedvectors.Vocab object at 0x7f79abfad550>, '21466': <gensim.models.keyedvectors.Vocab object at 0x7f79abfad5c0>, '21469': <gensim.models.keyedvectors.Vocab object at 0x7f79abfad630>, '21465': <gensim.models.keyedvectors.Vocab object at 0x7f79abfad6a0>, '85094': <gensim.models.keyedvectors.Vocab object at 0x7f79abfad710>, '22514': <gensim.models.keyedvectors.Vocab object at 0x7f79abfad780>, '22517': <gensim.models.keyedvectors.Vocab object at 0x7f79abfad7f0>, '22515': <gensim.models.keyedvectors.Vocab object at 0x7f79abfad860>, '22456': <gensim.models.keyedvectors.Vocab object at 0x7f79abfad8d0>, '21581': <gensim.models.keyedvectors.Vocab object at 0x7f79abfad940>, '23273': <gensim.models.keyedvectors.Vocab object at 0x7f79abfad9b0>, '84706F': <gensim.models.keyedvectors.Vocab object at 0x7f79abfada20>, '81952V': <gensim.models.keyedvectors.Vocab object at 0x7f79abfada90>, '84912B': <gensim.models.keyedvectors.Vocab object at 0x7f79abfadb00>, '21030': <gensim.models.keyedvectors.Vocab object at 0x7f79abfadb70>, '23197': <gensim.models.keyedvectors.Vocab object at 0x7f79abfadbe0>, '21028': <gensim.models.keyedvectors.Vocab object at 0x7f79abfadc50>, '23147': <gensim.models.keyedvectors.Vocab object at 0x7f79abfadcc0>, '21026': <gensim.models.keyedvectors.Vocab object at 0x7f79abfadd30>, '23419': <gensim.models.keyedvectors.Vocab object at 0x7f79abfadda0>, '23302': <gensim.models.keyedvectors.Vocab object at 0x7f79abfade10>, '85104': <gensim.models.keyedvectors.Vocab object at 0x7f79abfade80>, '23034': <gensim.models.keyedvectors.Vocab object at 0x7f79abfadef0>, '23035': <gensim.models.keyedvectors.Vocab object at 0x7f79abfadf60>, '85078': <gensim.models.keyedvectors.Vocab object at 0x7f79abfadfd0>, '22065': <gensim.models.keyedvectors.Vocab object at 0x7f79abfb2080>, '22575': <gensim.models.keyedvectors.Vocab object at 0x7f79abfb20f0>, '23465': <gensim.models.keyedvectors.Vocab object at 0x7f79abfb2160>, '22116': <gensim.models.keyedvectors.Vocab object at 0x7f79abfb21d0>, '23094': <gensim.models.keyedvectors.Vocab object at 0x7f79abfb2240>, '84859C': <gensim.models.keyedvectors.Vocab object at 0x7f79abfb22b0>, '23339': <gensim.models.keyedvectors.Vocab object at 0x7f79abfb2320>, '23371': <gensim.models.keyedvectors.Vocab object at 0x7f79abfb2390>, '23370': <gensim.models.keyedvectors.Vocab object at 0x7f79abfb2400>, '23380': <gensim.models.keyedvectors.Vocab object at 0x7f79abfb2470>, '23377': <gensim.models.keyedvectors.Vocab object at 0x7f79abfb24e0>, '23559': <gensim.models.keyedvectors.Vocab object at 0x7f79abfb2550>, '21329': <gensim.models.keyedvectors.Vocab object at 0x7f79abfb25c0>, '47503H': <gensim.models.keyedvectors.Vocab object at 0x7f79abfb2630>, '22587': <gensim.models.keyedvectors.Vocab object at 0x7f79abfb26a0>, '22329': <gensim.models.keyedvectors.Vocab object at 0x7f79abfb2710>, '22826': <gensim.models.keyedvectors.Vocab object at 0x7f79abfb2780>, '23048': <gensim.models.keyedvectors.Vocab object at 0x7f79abfb27f0>, '23324': <gensim.models.keyedvectors.Vocab object at 0x7f79abfb2860>, '84519B': <gensim.models.keyedvectors.Vocab object at 0x7f79abfb28d0>, '84596E': <gensim.models.keyedvectors.Vocab object at 0x7f79abfb2940>, '85159A': <gensim.models.keyedvectors.Vocab object at 0x7f79abfb29b0>, '21397': <gensim.models.keyedvectors.Vocab object at 0x7f79abfb2a20>, '21399': <gensim.models.keyedvectors.Vocab object at 0x7f79abfb2a90>, '22789': <gensim.models.keyedvectors.Vocab object at 0x7f79abfb2b00>, '71459': <gensim.models.keyedvectors.Vocab object at 0x7f79abfb2b70>, '22306': <gensim.models.keyedvectors.Vocab object at 0x7f79abfb2be0>, '21398': <gensim.models.keyedvectors.Vocab object at 0x7f79abfb2c50>, '22491': <gensim.models.keyedvectors.Vocab object at 0x7f79abfb2cc0>, '21558': <gensim.models.keyedvectors.Vocab object at 0x7f79abfb2d30>, '21678': <gensim.models.keyedvectors.Vocab object at 0x7f79abfb2da0>, '21675': <gensim.models.keyedvectors.Vocab object at 0x7f79abfb2e10>, '21061': <gensim.models.keyedvectors.Vocab object at 0x7f79abfb2e80>, '21058': <gensim.models.keyedvectors.Vocab object at 0x7f79abfb2ef0>, '23104': <gensim.models.keyedvectors.Vocab object at 0x7f79abfb2f60>, '23325': <gensim.models.keyedvectors.Vocab object at 0x7f79abfb2fd0>, '37340': <gensim.models.keyedvectors.Vocab object at 0x7f79abfb7080>, '23327': <gensim.models.keyedvectors.Vocab object at 0x7f79abfb70f0>, '22686': <gensim.models.keyedvectors.Vocab object at 0x7f79abfb7160>, '21380': <gensim.models.keyedvectors.Vocab object at 0x7f79abfb71d0>, '21927': <gensim.models.keyedvectors.Vocab object at 0x7f79abfb7240>, '21926': <gensim.models.keyedvectors.Vocab object at 0x7f79abfb72b0>, '21925': <gensim.models.keyedvectors.Vocab object at 0x7f79abfb7320>, '23014': <gensim.models.keyedvectors.Vocab object at 0x7f79abfb7390>, '21664': <gensim.models.keyedvectors.Vocab object at 0x7f79abfb7400>, '21662': <gensim.models.keyedvectors.Vocab object at 0x7f79abfb7470>, '23169': <gensim.models.keyedvectors.Vocab object at 0x7f79abfb74e0>, '22843': <gensim.models.keyedvectors.Vocab object at 0x7f79abfb7550>, '22496': <gensim.models.keyedvectors.Vocab object at 0x7f79abfb75c0>, '84870C': <gensim.models.keyedvectors.Vocab object at 0x7f79abfb7630>, '84870B': <gensim.models.keyedvectors.Vocab object at 0x7f79abfb76a0>, '21351': <gensim.models.keyedvectors.Vocab object at 0x7f79abfb7710>, '22130': <gensim.models.keyedvectors.Vocab object at 0x7f79abfb7780>, '21191': <gensim.models.keyedvectors.Vocab object at 0x7f79abfb77f0>, '21809': <gensim.models.keyedvectors.Vocab object at 0x7f79abfb7860>, '21810': <gensim.models.keyedvectors.Vocab object at 0x7f79abfb78d0>, '21811': <gensim.models.keyedvectors.Vocab object at 0x7f79abfb7940>, '22640': <gensim.models.keyedvectors.Vocab object at 0x7f79abfb79b0>, '22641': <gensim.models.keyedvectors.Vocab object at 0x7f79abfb7a20>, '22638': <gensim.models.keyedvectors.Vocab object at 0x7f79abfb7a90>, '22576': <gensim.models.keyedvectors.Vocab object at 0x7f79abfb7b00>, '21813': <gensim.models.keyedvectors.Vocab object at 0x7f79abfb7b70>, '21808': <gensim.models.keyedvectors.Vocab object at 0x7f79abfb7be0>, '21804': <gensim.models.keyedvectors.Vocab object at 0x7f79abfb7c50>, '21014': <gensim.models.keyedvectors.Vocab object at 0x7f79abfb7cc0>, '21823': <gensim.models.keyedvectors.Vocab object at 0x7f79abfb7d30>, '22428': <gensim.models.keyedvectors.Vocab object at 0x7f79abfb7da0>, '22825': <gensim.models.keyedvectors.Vocab object at 0x7f79abfb7e10>, '21587': <gensim.models.keyedvectors.Vocab object at 0x7f79abfb7e80>, '85232B': <gensim.models.keyedvectors.Vocab object at 0x7f79abfb7ef0>, '21761': <gensim.models.keyedvectors.Vocab object at 0x7f79abfb7f60>, '21272': <gensim.models.keyedvectors.Vocab object at 0x7f79abfb7fd0>, '84029E': <gensim.models.keyedvectors.Vocab object at 0x7f79abfbb080>, '22810': <gensim.models.keyedvectors.Vocab object at 0x7f79abfbb0f0>, '82613B': <gensim.models.keyedvectors.Vocab object at 0x7f79abfbb160>, '82613C': <gensim.models.keyedvectors.Vocab object at 0x7f79abfbb1d0>, '22033': <gensim.models.keyedvectors.Vocab object at 0x7f79abfbb240>, '22904': <gensim.models.keyedvectors.Vocab object at 0x7f79abfbb2b0>, '84823': <gensim.models.keyedvectors.Vocab object at 0x7f79abfbb320>, '37444A': <gensim.models.keyedvectors.Vocab object at 0x7f79abfbb390>, '35810B': <gensim.models.keyedvectors.Vocab object at 0x7f79abfbb400>, '22362': <gensim.models.keyedvectors.Vocab object at 0x7f79abfbb470>, '22671': <gensim.models.keyedvectors.Vocab object at 0x7f79abfbb4e0>, '84531B': <gensim.models.keyedvectors.Vocab object at 0x7f79abfbb550>, '37482P': <gensim.models.keyedvectors.Vocab object at 0x7f79abfbb5c0>, '22500': <gensim.models.keyedvectors.Vocab object at 0x7f79abfbb630>, '85159B': <gensim.models.keyedvectors.Vocab object at 0x7f79abfbb6a0>, '21684': <gensim.models.keyedvectors.Vocab object at 0x7f79abfbb710>, '22805': <gensim.models.keyedvectors.Vocab object at 0x7f79abfbb780>, '22775': <gensim.models.keyedvectors.Vocab object at 0x7f79abfbb7f0>, '22216': <gensim.models.keyedvectors.Vocab object at 0x7f79abfbb860>, '84683': <gensim.models.keyedvectors.Vocab object at 0x7f79abfbb8d0>, '85030': <gensim.models.keyedvectors.Vocab object at 0x7f79abfbb940>, '85114C': <gensim.models.keyedvectors.Vocab object at 0x7f79abfbb9b0>, '21043': <gensim.models.keyedvectors.Vocab object at 0x7f79abfbba20>, '21742': <gensim.models.keyedvectors.Vocab object at 0x7f79abfbba90>, '17109D': <gensim.models.keyedvectors.Vocab object at 0x7f79abfbbb00>, '17107D': <gensim.models.keyedvectors.Vocab object at 0x7f79abfbbb70>, '22700': <gensim.models.keyedvectors.Vocab object at 0x7f79abfbbbe0>, '23112': <gensim.models.keyedvectors.Vocab object at 0x7f79abfbbc50>, '22360': <gensim.models.keyedvectors.Vocab object at 0x7f79abfbbcc0>, '22364': <gensim.models.keyedvectors.Vocab object at 0x7f79abfbbd30>, '22359': <gensim.models.keyedvectors.Vocab object at 0x7f79abfbbda0>, '22363': <gensim.models.keyedvectors.Vocab object at 0x7f79abfbbe10>, '35004B': <gensim.models.keyedvectors.Vocab object at 0x7f79abfbbe80>, '22286': <gensim.models.keyedvectors.Vocab object at 0x7f79abfbbef0>, '47574A': <gensim.models.keyedvectors.Vocab object at 0x7f79abfbbf60>, '22287': <gensim.models.keyedvectors.Vocab object at 0x7f79abfbbfd0>, '23244': <gensim.models.keyedvectors.Vocab object at 0x7f79abfc0080>, '51008': <gensim.models.keyedvectors.Vocab object at 0x7f79abfc00f0>, '23524': <gensim.models.keyedvectors.Vocab object at 0x7f79abfc0160>, '23405': <gensim.models.keyedvectors.Vocab object at 0x7f79abfc01d0>, '84581': <gensim.models.keyedvectors.Vocab object at 0x7f79abfc0240>, '20836': <gensim.models.keyedvectors.Vocab object at 0x7f79abfc02b0>, '47341B': <gensim.models.keyedvectors.Vocab object at 0x7f79abfc0320>, '22409': <gensim.models.keyedvectors.Vocab object at 0x7f79abfc0390>, '22541': <gensim.models.keyedvectors.Vocab object at 0x7f79abfc0400>, '22546': <gensim.models.keyedvectors.Vocab object at 0x7f79abfc0470>, '85032C': <gensim.models.keyedvectors.Vocab object at 0x7f79abfc04e0>, '85032B': <gensim.models.keyedvectors.Vocab object at 0x7f79abfc0550>, '85032A': <gensim.models.keyedvectors.Vocab object at 0x7f79abfc05c0>, '35095B': <gensim.models.keyedvectors.Vocab object at 0x7f79abfc0630>, '21259': <gensim.models.keyedvectors.Vocab object at 0x7f79abfc06a0>, '35095A': <gensim.models.keyedvectors.Vocab object at 0x7f79abfc0710>, '21615': <gensim.models.keyedvectors.Vocab object at 0x7f79abfc0780>, '21617': <gensim.models.keyedvectors.Vocab object at 0x7f79abfc07f0>, '21619': <gensim.models.keyedvectors.Vocab object at 0x7f79abfc0860>, '21618': <gensim.models.keyedvectors.Vocab object at 0x7f79abfc08d0>, '72799F': <gensim.models.keyedvectors.Vocab object at 0x7f79abfc0940>, '23123': <gensim.models.keyedvectors.Vocab object at 0x7f79abfc09b0>, '22095': <gensim.models.keyedvectors.Vocab object at 0x7f79abfc0a20>, '23181': <gensim.models.keyedvectors.Vocab object at 0x7f79abfc0a90>, '84818': <gensim.models.keyedvectors.Vocab object at 0x7f79abfc0b00>, '23551': <gensim.models.keyedvectors.Vocab object at 0x7f79abfc0b70>, '35637A': <gensim.models.keyedvectors.Vocab object at 0x7f79abfc0be0>, '23556': <gensim.models.keyedvectors.Vocab object at 0x7f79abfc0c50>, '23558': <gensim.models.keyedvectors.Vocab object at 0x7f79abfc0cc0>, '22772': <gensim.models.keyedvectors.Vocab object at 0x7f79abfc0d30>, '22628': <gensim.models.keyedvectors.Vocab object at 0x7f79abfc0da0>, '21246': <gensim.models.keyedvectors.Vocab object at 0x7f79abfc0e10>, '22878': <gensim.models.keyedvectors.Vocab object at 0x7f79abfc0e80>, '22868': <gensim.models.keyedvectors.Vocab object at 0x7f79abfc0ef0>, '22877': <gensim.models.keyedvectors.Vocab object at 0x7f79abfc0f60>, '22876': <gensim.models.keyedvectors.Vocab object at 0x7f79abfc0fd0>, '22875': <gensim.models.keyedvectors.Vocab object at 0x7f79abf45080>, '22874': <gensim.models.keyedvectors.Vocab object at 0x7f79abf450f0>, '22873': <gensim.models.keyedvectors.Vocab object at 0x7f79abf45160>, '22872': <gensim.models.keyedvectors.Vocab object at 0x7f79abf451d0>, '22871': <gensim.models.keyedvectors.Vocab object at 0x7f79abf45240>, '22870': <gensim.models.keyedvectors.Vocab object at 0x7f79abf452b0>, '22869': <gensim.models.keyedvectors.Vocab object at 0x7f79abf45320>, '22623': <gensim.models.keyedvectors.Vocab object at 0x7f79abf45390>, '23381': <gensim.models.keyedvectors.Vocab object at 0x7f79abf45400>, '22743': <gensim.models.keyedvectors.Vocab object at 0x7f79abf45470>, '23397': <gensim.models.keyedvectors.Vocab object at 0x7f79abf454e0>, '23407': <gensim.models.keyedvectors.Vocab object at 0x7f79abf45550>, '23268': <gensim.models.keyedvectors.Vocab object at 0x7f79abf455c0>, '20956': <gensim.models.keyedvectors.Vocab object at 0x7f79abf45630>, '20763': <gensim.models.keyedvectors.Vocab object at 0x7f79abf456a0>, '20771': <gensim.models.keyedvectors.Vocab object at 0x7f79abf45710>, '22182': <gensim.models.keyedvectors.Vocab object at 0x7f79abf45780>, '21114': <gensim.models.keyedvectors.Vocab object at 0x7f79abf457f0>, '23061': <gensim.models.keyedvectors.Vocab object at 0x7f79abf45860>, '85230B': <gensim.models.keyedvectors.Vocab object at 0x7f79abf458d0>, '23454': <gensim.models.keyedvectors.Vocab object at 0x7f79abf45940>, '23456': <gensim.models.keyedvectors.Vocab object at 0x7f79abf459b0>, '23073': <gensim.models.keyedvectors.Vocab object at 0x7f79abf45a20>, '22299': <gensim.models.keyedvectors.Vocab object at 0x7f79abf45a90>, '23429': <gensim.models.keyedvectors.Vocab object at 0x7f79abf45b00>, '22028': <gensim.models.keyedvectors.Vocab object at 0x7f79abf45b70>, '23029': <gensim.models.keyedvectors.Vocab object at 0x7f79abf45be0>, '23031': <gensim.models.keyedvectors.Vocab object at 0x7f79abf45c50>, '21360': <gensim.models.keyedvectors.Vocab object at 0x7f79abf45cc0>, '22060': <gensim.models.keyedvectors.Vocab object at 0x7f79abf45d30>, '85167B': <gensim.models.keyedvectors.Vocab object at 0x7f79abf45da0>, '22823': <gensim.models.keyedvectors.Vocab object at 0x7f79abf45e10>, '85212': <gensim.models.keyedvectors.Vocab object at 0x7f79abf45e80>, '22161': <gensim.models.keyedvectors.Vocab object at 0x7f79abf45ef0>, '22268': <gensim.models.keyedvectors.Vocab object at 0x7f79abf45f60>, '35818P': <gensim.models.keyedvectors.Vocab object at 0x7f79abf45fd0>, '35923': <gensim.models.keyedvectors.Vocab object at 0x7f79abf4a080>, '22248': <gensim.models.keyedvectors.Vocab object at 0x7f79abf4a0f0>, '23228': <gensim.models.keyedvectors.Vocab object at 0x7f79abf4a160>, '18097C': <gensim.models.keyedvectors.Vocab object at 0x7f79abf4a1d0>, '22651': <gensim.models.keyedvectors.Vocab object at 0x7f79abf4a240>, '22934': <gensim.models.keyedvectors.Vocab object at 0x7f79abf4a2b0>, '21439': <gensim.models.keyedvectors.Vocab object at 0x7f79abf4a320>, '20733': <gensim.models.keyedvectors.Vocab object at 0x7f79abf4a390>, '21563': <gensim.models.keyedvectors.Vocab object at 0x7f79abf4a400>, '84279B': <gensim.models.keyedvectors.Vocab object at 0x7f79abf4a470>, '22837': <gensim.models.keyedvectors.Vocab object at 0x7f79abf4a4e0>, '22932': <gensim.models.keyedvectors.Vocab object at 0x7f79abf4a550>, '22933': <gensim.models.keyedvectors.Vocab object at 0x7f79abf4a5c0>, '22520': <gensim.models.keyedvectors.Vocab object at 0x7f79abf4a630>, '22522': <gensim.models.keyedvectors.Vocab object at 0x7f79abf4a6a0>, '22516': <gensim.models.keyedvectors.Vocab object at 0x7f79abf4a710>, '22523': <gensim.models.keyedvectors.Vocab object at 0x7f79abf4a780>, '22524': <gensim.models.keyedvectors.Vocab object at 0x7f79abf4a7f0>, '22525': <gensim.models.keyedvectors.Vocab object at 0x7f79abf4a860>, '22526': <gensim.models.keyedvectors.Vocab object at 0x7f79abf4a8d0>, '22442': <gensim.models.keyedvectors.Vocab object at 0x7f79abf4a940>, '22443': <gensim.models.keyedvectors.Vocab object at 0x7f79abf4a9b0>, '23357': <gensim.models.keyedvectors.Vocab object at 0x7f79abf4aa20>, '23358': <gensim.models.keyedvectors.Vocab object at 0x7f79abf4aa90>, '22802': <gensim.models.keyedvectors.Vocab object at 0x7f79abf4ab00>, '23582': <gensim.models.keyedvectors.Vocab object at 0x7f79abf4ab70>, '22605': <gensim.models.keyedvectors.Vocab object at 0x7f79abf4abe0>, '21622': <gensim.models.keyedvectors.Vocab object at 0x7f79abf4ac50>, '21135': <gensim.models.keyedvectors.Vocab object at 0x7f79abf4acc0>, '22284': <gensim.models.keyedvectors.Vocab object at 0x7f79abf4ad30>, '22176': <gensim.models.keyedvectors.Vocab object at 0x7f79abf4ada0>, '22244': <gensim.models.keyedvectors.Vocab object at 0x7f79abf4ae10>, '22285': <gensim.models.keyedvectors.Vocab object at 0x7f79abf4ae80>, '20711': <gensim.models.keyedvectors.Vocab object at 0x7f79abf4aef0>, '22245': <gensim.models.keyedvectors.Vocab object at 0x7f79abf4af60>, '22317': <gensim.models.keyedvectors.Vocab object at 0x7f79abf4afd0>, '22318': <gensim.models.keyedvectors.Vocab object at 0x7f79abf4d080>, '22325': <gensim.models.keyedvectors.Vocab object at 0x7f79abf4d0f0>, '22175': <gensim.models.keyedvectors.Vocab object at 0x7f79abf4d160>, '21913': <gensim.models.keyedvectors.Vocab object at 0x7f79abf4d1d0>, '23176': <gensim.models.keyedvectors.Vocab object at 0x7f79abf4d240>, '23504': <gensim.models.keyedvectors.Vocab object at 0x7f79abf4d2b0>, '85014B': <gensim.models.keyedvectors.Vocab object at 0x7f79abf4d320>, '21833': <gensim.models.keyedvectors.Vocab object at 0x7f79abf4d390>, '21250': <gensim.models.keyedvectors.Vocab object at 0x7f79abf4d400>, '21716': <gensim.models.keyedvectors.Vocab object at 0x7f79abf4d470>, '21715': <gensim.models.keyedvectors.Vocab object at 0x7f79abf4d4e0>, '21718': <gensim.models.keyedvectors.Vocab object at 0x7f79abf4d550>, '22611': <gensim.models.keyedvectors.Vocab object at 0x7f79abf4d5c0>, '21626': <gensim.models.keyedvectors.Vocab object at 0x7f79abf4d630>, '20839': <gensim.models.keyedvectors.Vocab object at 0x7f79abf4d6a0>, '22604': <gensim.models.keyedvectors.Vocab object at 0x7f79abf4d710>, '22598': <gensim.models.keyedvectors.Vocab object at 0x7f79abf4d780>, '22599': <gensim.models.keyedvectors.Vocab object at 0x7f79abf4d7f0>, '22602': <gensim.models.keyedvectors.Vocab object at 0x7f79abf4d860>, '21803': <gensim.models.keyedvectors.Vocab object at 0x7f79abf4d8d0>, '21802': <gensim.models.keyedvectors.Vocab object at 0x7f79abf4d940>, '21807': <gensim.models.keyedvectors.Vocab object at 0x7f79abf4d9b0>, '20760': <gensim.models.keyedvectors.Vocab object at 0x7f79abf4da20>, '20758': <gensim.models.keyedvectors.Vocab object at 0x7f79abf4da90>, '20759': <gensim.models.keyedvectors.Vocab object at 0x7f79abf4db00>, '20755': <gensim.models.keyedvectors.Vocab object at 0x7f79abf4db70>, '20756': <gensim.models.keyedvectors.Vocab object at 0x7f79abf4dbe0>, '22495': <gensim.models.keyedvectors.Vocab object at 0x7f79abf4dc50>, '23091': <gensim.models.keyedvectors.Vocab object at 0x7f79abf4dcc0>, '21269': <gensim.models.keyedvectors.Vocab object at 0x7f79abf4dd30>, '23470': <gensim.models.keyedvectors.Vocab object at 0x7f79abf4dda0>, '23196': <gensim.models.keyedvectors.Vocab object at 0x7f79abf4de10>, '23120': <gensim.models.keyedvectors.Vocab object at 0x7f79abf4de80>, '22531': <gensim.models.keyedvectors.Vocab object at 0x7f79abf4def0>, '22210': <gensim.models.keyedvectors.Vocab object at 0x7f79abf4df60>, '22615': <gensim.models.keyedvectors.Vocab object at 0x7f79abf4dfd0>, '23365': <gensim.models.keyedvectors.Vocab object at 0x7f79abf54080>, '20617': <gensim.models.keyedvectors.Vocab object at 0x7f79abf540f0>, '84580': <gensim.models.keyedvectors.Vocab object at 0x7f79abf54160>, '84584': <gensim.models.keyedvectors.Vocab object at 0x7f79abf541d0>, '22744': <gensim.models.keyedvectors.Vocab object at 0x7f79abf54240>, '22088': <gensim.models.keyedvectors.Vocab object at 0x7f79abf542b0>, '21015': <gensim.models.keyedvectors.Vocab object at 0x7f79abf54320>, '72816': <gensim.models.keyedvectors.Vocab object at 0x7f79abf54390>, '23187': <gensim.models.keyedvectors.Vocab object at 0x7f79abf54400>, '90058B': <gensim.models.keyedvectors.Vocab object at 0x7f79abf54470>, '22222': <gensim.models.keyedvectors.Vocab object at 0x7f79abf544e0>, '21616': <gensim.models.keyedvectors.Vocab object at 0x7f79abf54550>, '35953': <gensim.models.keyedvectors.Vocab object at 0x7f79abf545c0>, '17012D': <gensim.models.keyedvectors.Vocab object at 0x7f79abf54630>, '21636': <gensim.models.keyedvectors.Vocab object at 0x7f79abf546a0>, '23418': <gensim.models.keyedvectors.Vocab object at 0x7f79abf54710>, '23394': <gensim.models.keyedvectors.Vocab object at 0x7f79abf54780>, '23336': <gensim.models.keyedvectors.Vocab object at 0x7f79abf547f0>, '23326': <gensim.models.keyedvectors.Vocab object at 0x7f79abf54860>, '23531': <gensim.models.keyedvectors.Vocab object at 0x7f79abf548d0>, '23403': <gensim.models.keyedvectors.Vocab object at 0x7f79abf54940>, '23406': <gensim.models.keyedvectors.Vocab object at 0x7f79abf549b0>, '23469': <gensim.models.keyedvectors.Vocab object at 0x7f79abf54a20>, '23557': <gensim.models.keyedvectors.Vocab object at 0x7f79abf54a90>, '21638': <gensim.models.keyedvectors.Vocab object at 0x7f79abf54b00>, '21306': <gensim.models.keyedvectors.Vocab object at 0x7f79abf54b70>, '22438': <gensim.models.keyedvectors.Vocab object at 0x7f79abf54be0>, '85227': <gensim.models.keyedvectors.Vocab object at 0x7f79abf54c50>, '22537': <gensim.models.keyedvectors.Vocab object at 0x7f79abf54cc0>, '22535': <gensim.models.keyedvectors.Vocab object at 0x7f79abf54d30>, '23079': <gensim.models.keyedvectors.Vocab object at 0x7f79abf54da0>, '22911': <gensim.models.keyedvectors.Vocab object at 0x7f79abf54e10>, '71038': <gensim.models.keyedvectors.Vocab object at 0x7f79abf54e80>, '85034C': <gensim.models.keyedvectors.Vocab object at 0x7f79abf54ef0>, '23348': <gensim.models.keyedvectors.Vocab object at 0x7f79abf54f60>, '20828': <gensim.models.keyedvectors.Vocab object at 0x7f79abf54fd0>, '23330': <gensim.models.keyedvectors.Vocab object at 0x7f79abf57080>, '23329': <gensim.models.keyedvectors.Vocab object at 0x7f79abf570f0>, '22277': <gensim.models.keyedvectors.Vocab object at 0x7f79abf57160>, '23399': <gensim.models.keyedvectors.Vocab object at 0x7f79abf571d0>, '22990': <gensim.models.keyedvectors.Vocab object at 0x7f79abf57240>, '85062': <gensim.models.keyedvectors.Vocab object at 0x7f79abf572b0>, '21381': <gensim.models.keyedvectors.Vocab object at 0x7f79abf57320>, '21059': <gensim.models.keyedvectors.Vocab object at 0x7f79abf57390>, '21503': <gensim.models.keyedvectors.Vocab object at 0x7f79abf57400>, '22742': <gensim.models.keyedvectors.Vocab object at 0x7f79abf57470>, '84012': <gensim.models.keyedvectors.Vocab object at 0x7f79abf574e0>, '85049F': <gensim.models.keyedvectors.Vocab object at 0x7f79abf57550>, '47585A': <gensim.models.keyedvectors.Vocab object at 0x7f79abf575c0>, '47586A': <gensim.models.keyedvectors.Vocab object at 0x7f79abf57630>, '85049C': <gensim.models.keyedvectors.Vocab object at 0x7f79abf576a0>, '23075': <gensim.models.keyedvectors.Vocab object at 0x7f79abf57710>, '23564': <gensim.models.keyedvectors.Vocab object at 0x7f79abf57780>, '22595': <gensim.models.keyedvectors.Vocab object at 0x7f79abf577f0>, '23433': <gensim.models.keyedvectors.Vocab object at 0x7f79abf57860>, '23432': <gensim.models.keyedvectors.Vocab object at 0x7f79abf578d0>, '23431': <gensim.models.keyedvectors.Vocab object at 0x7f79abf57940>, '22820': <gensim.models.keyedvectors.Vocab object at 0x7f79abf579b0>, '22707': <gensim.models.keyedvectors.Vocab object at 0x7f79abf57a20>, '21880': <gensim.models.keyedvectors.Vocab object at 0x7f79abf57a90>, '21787': <gensim.models.keyedvectors.Vocab object at 0x7f79abf57b00>, '21708': <gensim.models.keyedvectors.Vocab object at 0x7f79abf57b70>, '23304': <gensim.models.keyedvectors.Vocab object at 0x7f79abf57be0>, '23379': <gensim.models.keyedvectors.Vocab object at 0x7f79abf57c50>, '20829': <gensim.models.keyedvectors.Vocab object at 0x7f79abf57cc0>, '22314': <gensim.models.keyedvectors.Vocab object at 0x7f79abf57d30>, '22313': <gensim.models.keyedvectors.Vocab object at 0x7f79abf57da0>, '22203': <gensim.models.keyedvectors.Vocab object at 0x7f79abf57e10>, '22199': <gensim.models.keyedvectors.Vocab object at 0x7f79abf57e80>, '23115': <gensim.models.keyedvectors.Vocab object at 0x7f79abf57ef0>, '23116': <gensim.models.keyedvectors.Vocab object at 0x7f79abf57f60>, '21041': <gensim.models.keyedvectors.Vocab object at 0x7f79abf57fd0>, '23420': <gensim.models.keyedvectors.Vocab object at 0x7f79abf5c080>, '23422': <gensim.models.keyedvectors.Vocab object at 0x7f79abf5c0f0>, '22477': <gensim.models.keyedvectors.Vocab object at 0x7f79abf5c160>, '20934': <gensim.models.keyedvectors.Vocab object at 0x7f79abf5c1d0>, '23413': <gensim.models.keyedvectors.Vocab object at 0x7f79abf5c240>, '22315': <gensim.models.keyedvectors.Vocab object at 0x7f79abf5c2b0>, '21879': <gensim.models.keyedvectors.Vocab object at 0x7f79abf5c320>, '21882': <gensim.models.keyedvectors.Vocab object at 0x7f79abf5c390>, '22264': <gensim.models.keyedvectors.Vocab object at 0x7f79abf5c400>, '70006': <gensim.models.keyedvectors.Vocab object at 0x7f79abf5c470>, '84826': <gensim.models.keyedvectors.Vocab object at 0x7f79abf5c4e0>, '85180A': <gensim.models.keyedvectors.Vocab object at 0x7f79abf5c550>, '85049D': <gensim.models.keyedvectors.Vocab object at 0x7f79abf5c5c0>, '21194': <gensim.models.keyedvectors.Vocab object at 0x7f79abf5c630>, '21208': <gensim.models.keyedvectors.Vocab object at 0x7f79abf5c6a0>, '22228': <gensim.models.keyedvectors.Vocab object at 0x7f79abf5c710>, '22043': <gensim.models.keyedvectors.Vocab object at 0x7f79abf5c780>, '16008': <gensim.models.keyedvectors.Vocab object at 0x7f79abf5c7f0>, '21391': <gensim.models.keyedvectors.Vocab object at 0x7f79abf5c860>, '21991': <gensim.models.keyedvectors.Vocab object at 0x7f79abf5c8d0>, '21352': <gensim.models.keyedvectors.Vocab object at 0x7f79abf5c940>, '22340': <gensim.models.keyedvectors.Vocab object at 0x7f79abf5c9b0>, '22163': <gensim.models.keyedvectors.Vocab object at 0x7f79abf5ca20>, '10080': <gensim.models.keyedvectors.Vocab object at 0x7f79abf5ca90>, '21162': <gensim.models.keyedvectors.Vocab object at 0x7f79abf5cb00>, '22342': <gensim.models.keyedvectors.Vocab object at 0x7f79abf5cb70>, '23697': <gensim.models.keyedvectors.Vocab object at 0x7f79abf5cbe0>, '23694': <gensim.models.keyedvectors.Vocab object at 0x7f79abf5cc50>, '22757': <gensim.models.keyedvectors.Vocab object at 0x7f79abf5ccc0>, '23372': <gensim.models.keyedvectors.Vocab object at 0x7f79abf5cd30>, '23369': <gensim.models.keyedvectors.Vocab object at 0x7f79abf5cda0>, '23249': <gensim.models.keyedvectors.Vocab object at 0x7f79abf5ce10>, '84920': <gensim.models.keyedvectors.Vocab object at 0x7f79abf5ce80>, '22207': <gensim.models.keyedvectors.Vocab object at 0x7f79abf5cef0>, '23442': <gensim.models.keyedvectors.Vocab object at 0x7f79abf5cf60>, '47471': <gensim.models.keyedvectors.Vocab object at 0x7f79abf5cfd0>, '47469': <gensim.models.keyedvectors.Vocab object at 0x7f79abf61080>, '84748': <gensim.models.keyedvectors.Vocab object at 0x7f79abf610f0>, '22164': <gensim.models.keyedvectors.Vocab object at 0x7f79abf61160>, '23530': <gensim.models.keyedvectors.Vocab object at 0x7f79abf611d0>, '22584': <gensim.models.keyedvectors.Vocab object at 0x7f79abf61240>, '22582': <gensim.models.keyedvectors.Vocab object at 0x7f79abf612b0>, '22968': <gensim.models.keyedvectors.Vocab object at 0x7f79abf61320>, '21786': <gensim.models.keyedvectors.Vocab object at 0x7f79abf61390>, '21428': <gensim.models.keyedvectors.Vocab object at 0x7f79abf61400>, '21527': <gensim.models.keyedvectors.Vocab object at 0x7f79abf61470>, '21537': <gensim.models.keyedvectors.Vocab object at 0x7f79abf614e0>, '22310': <gensim.models.keyedvectors.Vocab object at 0x7f79abf61550>, '22074': <gensim.models.keyedvectors.Vocab object at 0x7f79abf615c0>, '22257': <gensim.models.keyedvectors.Vocab object at 0x7f79abf61630>, '22258': <gensim.models.keyedvectors.Vocab object at 0x7f79abf616a0>, '22259': <gensim.models.keyedvectors.Vocab object at 0x7f79abf61710>, '22343': <gensim.models.keyedvectors.Vocab object at 0x7f79abf61780>, '22345': <gensim.models.keyedvectors.Vocab object at 0x7f79abf617f0>, '22346': <gensim.models.keyedvectors.Vocab object at 0x7f79abf61860>, '21217': <gensim.models.keyedvectors.Vocab object at 0x7f79abf618d0>, '22902': <gensim.models.keyedvectors.Vocab object at 0x7f79abf61940>, '21154': <gensim.models.keyedvectors.Vocab object at 0x7f79abf619b0>, '85208': <gensim.models.keyedvectors.Vocab object at 0x7f79abf61a20>, '22254': <gensim.models.keyedvectors.Vocab object at 0x7f79abf61a90>, '22255': <gensim.models.keyedvectors.Vocab object at 0x7f79abf61b00>, '21564': <gensim.models.keyedvectors.Vocab object at 0x7f79abf61b70>, '21123': <gensim.models.keyedvectors.Vocab object at 0x7f79abf61be0>, '85206A': <gensim.models.keyedvectors.Vocab object at 0x7f79abf61c50>, '77101A': <gensim.models.keyedvectors.Vocab object at 0x7f79abf61cc0>, '22270': <gensim.models.keyedvectors.Vocab object at 0x7f79abf61d30>, '21592': <gensim.models.keyedvectors.Vocab object at 0x7f79abf61da0>, '47570B': <gensim.models.keyedvectors.Vocab object at 0x7f79abf61e10>, '84563A': <gensim.models.keyedvectors.Vocab object at 0x7f79abf61e80>, '84563B': <gensim.models.keyedvectors.Vocab object at 0x7f79abf61ef0>, '23134': <gensim.models.keyedvectors.Vocab object at 0x7f79abf61f60>, '22063': <gensim.models.keyedvectors.Vocab object at 0x7f79abf61fd0>, '22814': <gensim.models.keyedvectors.Vocab object at 0x7f79abf66080>, '22705': <gensim.models.keyedvectors.Vocab object at 0x7f79abf660f0>, '23309': <gensim.models.keyedvectors.Vocab object at 0x7f79abf66160>, '23238': <gensim.models.keyedvectors.Vocab object at 0x7f79abf661d0>, '22050': <gensim.models.keyedvectors.Vocab object at 0x7f79abf66240>, '22706': <gensim.models.keyedvectors.Vocab object at 0x7f79abf662b0>, '23010': <gensim.models.keyedvectors.Vocab object at 0x7f79abf66320>, '23009': <gensim.models.keyedvectors.Vocab object at 0x7f79abf66390>, '23122': <gensim.models.keyedvectors.Vocab object at 0x7f79abf66400>, '23121': <gensim.models.keyedvectors.Vocab object at 0x7f79abf66470>, '23125': <gensim.models.keyedvectors.Vocab object at 0x7f79abf664e0>, '23124': <gensim.models.keyedvectors.Vocab object at 0x7f79abf66550>, '23347': <gensim.models.keyedvectors.Vocab object at 0x7f79abf665c0>, '47567B': <gensim.models.keyedvectors.Vocab object at 0x7f79abf66630>, '22378': <gensim.models.keyedvectors.Vocab object at 0x7f79abf666a0>, '21042': <gensim.models.keyedvectors.Vocab object at 0x7f79abf66710>, '23412': <gensim.models.keyedvectors.Vocab object at 0x7f79abf66780>, '22336': <gensim.models.keyedvectors.Vocab object at 0x7f79abf667f0>, '23501': <gensim.models.keyedvectors.Vocab object at 0x7f79abf66860>, '23538': <gensim.models.keyedvectors.Vocab object at 0x7f79abf668d0>, '23537': <gensim.models.keyedvectors.Vocab object at 0x7f79abf66940>, '21261': <gensim.models.keyedvectors.Vocab object at 0x7f79abf669b0>, '21035': <gensim.models.keyedvectors.Vocab object at 0x7f79abf66a20>, '23691': <gensim.models.keyedvectors.Vocab object at 0x7f79abf66a90>, '21131': <gensim.models.keyedvectors.Vocab object at 0x7f79abf66b00>, '21285': <gensim.models.keyedvectors.Vocab object at 0x7f79abf66b70>, '21286': <gensim.models.keyedvectors.Vocab object at 0x7f79abf66be0>, '22785': <gensim.models.keyedvectors.Vocab object at 0x7f79abf66c50>, '22786': <gensim.models.keyedvectors.Vocab object at 0x7f79abf66cc0>, '23579': <gensim.models.keyedvectors.Vocab object at 0x7f79abf66d30>, '23576': <gensim.models.keyedvectors.Vocab object at 0x7f79abf66da0>, '22688': <gensim.models.keyedvectors.Vocab object at 0x7f79abf66e10>, '21676': <gensim.models.keyedvectors.Vocab object at 0x7f79abf66e80>, '21680': <gensim.models.keyedvectors.Vocab object at 0x7f79abf66ef0>, '20679': <gensim.models.keyedvectors.Vocab object at 0x7f79abf66f60>, '21793': <gensim.models.keyedvectors.Vocab object at 0x7f79abf66fd0>, '23099': <gensim.models.keyedvectors.Vocab object at 0x7f79abf6a080>, '84969': <gensim.models.keyedvectors.Vocab object at 0x7f79abf6a0f0>, '23093': <gensim.models.keyedvectors.Vocab object at 0x7f79abf6a160>, '21828': <gensim.models.keyedvectors.Vocab object at 0x7f79abf6a1d0>, '23400': <gensim.models.keyedvectors.Vocab object at 0x7f79abf6a240>, '23462': <gensim.models.keyedvectors.Vocab object at 0x7f79abf6a2b0>, '23490': <gensim.models.keyedvectors.Vocab object at 0x7f79abf6a320>, '23453': <gensim.models.keyedvectors.Vocab object at 0x7f79abf6a390>, '21349': <gensim.models.keyedvectors.Vocab object at 0x7f79abf6a400>, '23046': <gensim.models.keyedvectors.Vocab object at 0x7f79abf6a470>, '20985': <gensim.models.keyedvectors.Vocab object at 0x7f79abf6a4e0>, '20982': <gensim.models.keyedvectors.Vocab object at 0x7f79abf6a550>, '22440': <gensim.models.keyedvectors.Vocab object at 0x7f79abf6a5c0>, '21221': <gensim.models.keyedvectors.Vocab object at 0x7f79abf6a630>, '85136C': <gensim.models.keyedvectors.Vocab object at 0x7f79abf6a6a0>, '21556': <gensim.models.keyedvectors.Vocab object at 0x7f79abf6a710>, '20622': <gensim.models.keyedvectors.Vocab object at 0x7f79abf6a780>, '21199': <gensim.models.keyedvectors.Vocab object at 0x7f79abf6a7f0>, '22643': <gensim.models.keyedvectors.Vocab object at 0x7f79ac918b70>, '21287': <gensim.models.keyedvectors.Vocab object at 0x7f79ac9357f0>, '84678': <gensim.models.keyedvectors.Vocab object at 0x7f79ac9351d0>, '21126': <gensim.models.keyedvectors.Vocab object at 0x7f79ac935208>, '21125': <gensim.models.keyedvectors.Vocab object at 0x7f79ac935128>, '21459': <gensim.models.keyedvectors.Vocab object at 0x7f79ac935278>, '21714': <gensim.models.keyedvectors.Vocab object at 0x7f79ac935518>, '21251': <gensim.models.keyedvectors.Vocab object at 0x7f79ac935550>, '84520B': <gensim.models.keyedvectors.Vocab object at 0x7f79ac9356a0>, '21422': <gensim.models.keyedvectors.Vocab object at 0x7f79ac935630>, '22229': <gensim.models.keyedvectors.Vocab object at 0x7f79ac935400>, '21987': <gensim.models.keyedvectors.Vocab object at 0x7f79ac935048>, '21988': <gensim.models.keyedvectors.Vocab object at 0x7f79ac9353c8>, '21989': <gensim.models.keyedvectors.Vocab object at 0x7f79ac935198>, '16168M': <gensim.models.keyedvectors.Vocab object at 0x7f79ac935358>, '21424': <gensim.models.keyedvectors.Vocab object at 0x7f79ac935080>, '21425': <gensim.models.keyedvectors.Vocab object at 0x7f79abf6a828>, '22276': <gensim.models.keyedvectors.Vocab object at 0x7f79abf6a898>, '21864': <gensim.models.keyedvectors.Vocab object at 0x7f79abf6a908>, '20782': <gensim.models.keyedvectors.Vocab object at 0x7f79abf6a978>, '22559': <gensim.models.keyedvectors.Vocab object at 0x7f79abf6a9e8>, '20967': <gensim.models.keyedvectors.Vocab object at 0x7f79abf6aa58>, '21222': <gensim.models.keyedvectors.Vocab object at 0x7f79abf6aac8>, '21365': <gensim.models.keyedvectors.Vocab object at 0x7f79abf6ab38>, '21371': <gensim.models.keyedvectors.Vocab object at 0x7f79abf6aba8>, '22545': <gensim.models.keyedvectors.Vocab object at 0x7f79abf6ac18>, '22547': <gensim.models.keyedvectors.Vocab object at 0x7f79abf6ac88>, '22543': <gensim.models.keyedvectors.Vocab object at 0x7f79abf6acf8>, '15060B': <gensim.models.keyedvectors.Vocab object at 0x7f79abf6ad68>, '85014A': <gensim.models.keyedvectors.Vocab object at 0x7f79abf6add8>, '20665': <gensim.models.keyedvectors.Vocab object at 0x7f79abf6ae48>, '35637C': <gensim.models.keyedvectors.Vocab object at 0x7f79abf6aeb8>, '22773': <gensim.models.keyedvectors.Vocab object at 0x7f79abf6af28>, '22200': <gensim.models.keyedvectors.Vocab object at 0x7f79abf6af98>, '22201': <gensim.models.keyedvectors.Vocab object at 0x7f79abf6f048>, '22848': <gensim.models.keyedvectors.Vocab object at 0x7f79abf6f0b8>, '37500': <gensim.models.keyedvectors.Vocab object at 0x7f79abf6f128>, '22308': <gensim.models.keyedvectors.Vocab object at 0x7f79abf6f198>, '21584': <gensim.models.keyedvectors.Vocab object at 0x7f79abf6f208>, '23004': <gensim.models.keyedvectors.Vocab object at 0x7f79abf6f278>, '22994': <gensim.models.keyedvectors.Vocab object at 0x7f79abf6f2e8>, '17091J': <gensim.models.keyedvectors.Vocab object at 0x7f79abf6f358>, '22913': <gensim.models.keyedvectors.Vocab object at 0x7f79abf6f3c8>, '85232D': <gensim.models.keyedvectors.Vocab object at 0x7f79abf6f438>, '47559B': <gensim.models.keyedvectors.Vocab object at 0x7f79abf6f4a8>, '35001G': <gensim.models.keyedvectors.Vocab object at 0x7f79abf6f518>, '22348': <gensim.models.keyedvectors.Vocab object at 0x7f79abf6f588>, '84510A': <gensim.models.keyedvectors.Vocab object at 0x7f79abf6f5f8>, '21159': <gensim.models.keyedvectors.Vocab object at 0x7f79abf6f668>, '23428': <gensim.models.keyedvectors.Vocab object at 0x7f79abf6f6d8>, '23430': <gensim.models.keyedvectors.Vocab object at 0x7f79abf6f748>, '85049H': <gensim.models.keyedvectors.Vocab object at 0x7f79abf6f7b8>, '85017B': <gensim.models.keyedvectors.Vocab object at 0x7f79abf6f828>, '21084': <gensim.models.keyedvectors.Vocab object at 0x7f79abf6f898>, '21090': <gensim.models.keyedvectors.Vocab object at 0x7f79abf6f908>, '23425': <gensim.models.keyedvectors.Vocab object at 0x7f79abf6f978>, '21627': <gensim.models.keyedvectors.Vocab object at 0x7f79abf6f9e8>, '17084J': <gensim.models.keyedvectors.Vocab object at 0x7f79abf6fa58>, '17084A': <gensim.models.keyedvectors.Vocab object at 0x7f79abf6fac8>, '17084P': <gensim.models.keyedvectors.Vocab object at 0x7f79abf6fb38>, '23255': <gensim.models.keyedvectors.Vocab object at 0x7f79abf6fba8>, '21578': <gensim.models.keyedvectors.Vocab object at 0x7f79abf6fc18>, '21002': <gensim.models.keyedvectors.Vocab object at 0x7f79abf6fc88>, '47599B': <gensim.models.keyedvectors.Vocab object at 0x7f79abf6fcf8>, '21039': <gensim.models.keyedvectors.Vocab object at 0x7f79abf6fd68>, '21710': <gensim.models.keyedvectors.Vocab object at 0x7f79abf6fdd8>, '84916': <gensim.models.keyedvectors.Vocab object at 0x7f79abf6fe48>, '84913A': <gensim.models.keyedvectors.Vocab object at 0x7f79abf6feb8>, '72801C': <gensim.models.keyedvectors.Vocab object at 0x7f79abf6ff28>, '72801D': <gensim.models.keyedvectors.Vocab object at 0x7f79abf6ff98>, '84569D': <gensim.models.keyedvectors.Vocab object at 0x7f79abf73048>, '84569B': <gensim.models.keyedvectors.Vocab object at 0x7f79abf730b8>, '22483': <gensim.models.keyedvectors.Vocab object at 0x7f79abf73128>, '85213': <gensim.models.keyedvectors.Vocab object at 0x7f79abf73198>, '22256': <gensim.models.keyedvectors.Vocab object at 0x7f79abf73208>, '35916C': <gensim.models.keyedvectors.Vocab object at 0x7f79abf73278>, '22321': <gensim.models.keyedvectors.Vocab object at 0x7f79abf732e8>, '35915B': <gensim.models.keyedvectors.Vocab object at 0x7f79abf73358>, '15058B': <gensim.models.keyedvectors.Vocab object at 0x7f79abf733c8>, '15058A': <gensim.models.keyedvectors.Vocab object at 0x7f79abf73438>, '22916': <gensim.models.keyedvectors.Vocab object at 0x7f79abf734a8>, '22917': <gensim.models.keyedvectors.Vocab object at 0x7f79abf73518>, '22918': <gensim.models.keyedvectors.Vocab object at 0x7f79abf73588>, '22919': <gensim.models.keyedvectors.Vocab object at 0x7f79abf735f8>, '22920': <gensim.models.keyedvectors.Vocab object at 0x7f79abf73668>, '22921': <gensim.models.keyedvectors.Vocab object at 0x7f79abf736d8>, '21441': <gensim.models.keyedvectors.Vocab object at 0x7f79abf73748>, '21442': <gensim.models.keyedvectors.Vocab object at 0x7f79abf737b8>, '84637': <gensim.models.keyedvectors.Vocab object at 0x7f79abf73828>, '84744': <gensim.models.keyedvectors.Vocab object at 0x7f79abf73898>, '84673B': <gensim.models.keyedvectors.Vocab object at 0x7f79abf73908>, '22395': <gensim.models.keyedvectors.Vocab object at 0x7f79abf73978>, '47367B': <gensim.models.keyedvectors.Vocab object at 0x7f79abf739e8>, '22204': <gensim.models.keyedvectors.Vocab object at 0x7f79abf73a58>, '20998': <gensim.models.keyedvectors.Vocab object at 0x7f79abf73ac8>, '22073': <gensim.models.keyedvectors.Vocab object at 0x7f79abf73b38>, '35809A': <gensim.models.keyedvectors.Vocab object at 0x7f79abf73ba8>, '35810A': <gensim.models.keyedvectors.Vocab object at 0x7f79abf73c18>, '21095': <gensim.models.keyedvectors.Vocab object at 0x7f79abf73c88>, '21087': <gensim.models.keyedvectors.Vocab object at 0x7f79abf73cf8>, '22221': <gensim.models.keyedvectors.Vocab object at 0x7f79abf73d68>, '22223': <gensim.models.keyedvectors.Vocab object at 0x7f79abf73dd8>, '84968F': <gensim.models.keyedvectors.Vocab object at 0x7f79abf73e48>, '84968D': <gensim.models.keyedvectors.Vocab object at 0x7f79abf73eb8>, '84968A': <gensim.models.keyedvectors.Vocab object at 0x7f79abf73f28>, '84968C': <gensim.models.keyedvectors.Vocab object at 0x7f79abf73f98>, '84509A': <gensim.models.keyedvectors.Vocab object at 0x7f79abf79048>, '84919': <gensim.models.keyedvectors.Vocab object at 0x7f79abf790b8>, '85087': <gensim.models.keyedvectors.Vocab object at 0x7f79abf79128>, '84687': <gensim.models.keyedvectors.Vocab object at 0x7f79abf79198>, '22032': <gensim.models.keyedvectors.Vocab object at 0x7f79abf79208>, '22981': <gensim.models.keyedvectors.Vocab object at 0x7f79abf79278>, '37342': <gensim.models.keyedvectors.Vocab object at 0x7f79abf792e8>, '79030G': <gensim.models.keyedvectors.Vocab object at 0x7f79abf79358>, '37501': <gensim.models.keyedvectors.Vocab object at 0x7f79abf793c8>, '20801': <gensim.models.keyedvectors.Vocab object at 0x7f79abf79438>, '21577': <gensim.models.keyedvectors.Vocab object at 0x7f79abf794a8>, '23515': <gensim.models.keyedvectors.Vocab object at 0x7f79abf79518>, '23519': <gensim.models.keyedvectors.Vocab object at 0x7f79abf79588>, '21197': <gensim.models.keyedvectors.Vocab object at 0x7f79abf795f8>, '40016': <gensim.models.keyedvectors.Vocab object at 0x7f79abf79668>, '10002': <gensim.models.keyedvectors.Vocab object at 0x7f79abf796d8>, '22821': <gensim.models.keyedvectors.Vocab object at 0x7f79abf79748>, '21211': <gensim.models.keyedvectors.Vocab object at 0x7f79abf797b8>, '84534B': <gensim.models.keyedvectors.Vocab object at 0x7f79abf79828>, '44235': <gensim.models.keyedvectors.Vocab object at 0x7f79abf79898>, '20767': <gensim.models.keyedvectors.Vocab object at 0x7f79abf79908>, '21464': <gensim.models.keyedvectors.Vocab object at 0x7f79abf79978>, '21518': <gensim.models.keyedvectors.Vocab object at 0x7f79abf799e8>, '22127': <gensim.models.keyedvectors.Vocab object at 0x7f79abf79a58>, '84086B': <gensim.models.keyedvectors.Vocab object at 0x7f79abf79ac8>, '84086C': <gensim.models.keyedvectors.Vocab object at 0x7f79abf79b38>, '47593A': <gensim.models.keyedvectors.Vocab object at 0x7f79abf79ba8>, '79063C': <gensim.models.keyedvectors.Vocab object at 0x7f79abf79c18>, '21634': <gensim.models.keyedvectors.Vocab object at 0x7f79abf79c88>, '22999': <gensim.models.keyedvectors.Vocab object at 0x7f79abf79cf8>, '22995': <gensim.models.keyedvectors.Vocab object at 0x7f79abf79d68>, '84750B': <gensim.models.keyedvectors.Vocab object at 0x7f79abf79dd8>, '22858': <gensim.models.keyedvectors.Vocab object at 0x7f79abf79e48>, '84247N': <gensim.models.keyedvectors.Vocab object at 0x7f79abf79eb8>, '84247K': <gensim.models.keyedvectors.Vocab object at 0x7f79abf79f28>, '21706': <gensim.models.keyedvectors.Vocab object at 0x7f79abf79f98>, '21711': <gensim.models.keyedvectors.Vocab object at 0x7f79abf7d048>, '85107': <gensim.models.keyedvectors.Vocab object at 0x7f79abf7d0b8>, '85106': <gensim.models.keyedvectors.Vocab object at 0x7f79abf7d128>, '20773': <gensim.models.keyedvectors.Vocab object at 0x7f79abf7d198>, '21070': <gensim.models.keyedvectors.Vocab object at 0x7f79abf7d208>, '84674': <gensim.models.keyedvectors.Vocab object at 0x7f79abf7d278>, '20716': <gensim.models.keyedvectors.Vocab object at 0x7f79abf7d2e8>, '21201': <gensim.models.keyedvectors.Vocab object at 0x7f79abf7d358>, '79026B': <gensim.models.keyedvectors.Vocab object at 0x7f79abf7d3c8>, '20775': <gensim.models.keyedvectors.Vocab object at 0x7f79abf7d438>, '62043B': <gensim.models.keyedvectors.Vocab object at 0x7f79abf7d4a8>, '84507B': <gensim.models.keyedvectors.Vocab object at 0x7f79abf7d518>, '46138B': <gensim.models.keyedvectors.Vocab object at 0x7f79abf7d588>, '16162M': <gensim.models.keyedvectors.Vocab object at 0x7f79abf7d5f8>, '72349B': <gensim.models.keyedvectors.Vocab object at 0x7f79abf7d668>, '20654': <gensim.models.keyedvectors.Vocab object at 0x7f79abf7d6d8>, '20659': <gensim.models.keyedvectors.Vocab object at 0x7f79abf7d748>, '20657': <gensim.models.keyedvectors.Vocab object at 0x7f79abf7d7b8>, '20655': <gensim.models.keyedvectors.Vocab object at 0x7f79abf7d828>, '85116': <gensim.models.keyedvectors.Vocab object at 0x7f79abf7d898>, '21189': <gensim.models.keyedvectors.Vocab object at 0x7f79abf7d908>, '21205': <gensim.models.keyedvectors.Vocab object at 0x7f79abf7d978>, '21494': <gensim.models.keyedvectors.Vocab object at 0x7f79abf7d9e8>, '22481': <gensim.models.keyedvectors.Vocab object at 0x7f79abf7da58>, '20757': <gensim.models.keyedvectors.Vocab object at 0x7f79abf7dac8>, '72586': <gensim.models.keyedvectors.Vocab object at 0x7f79abf7db38>, '79190A': <gensim.models.keyedvectors.Vocab object at 0x7f79abf7dba8>, '16162L': <gensim.models.keyedvectors.Vocab object at 0x7f79abf7dc18>, '21576': <gensim.models.keyedvectors.Vocab object at 0x7f79abf7dc88>, '85173': <gensim.models.keyedvectors.Vocab object at 0x7f79abf7dcf8>, '85170B': <gensim.models.keyedvectors.Vocab object at 0x7f79abf7dd68>, '15044C': <gensim.models.keyedvectors.Vocab object at 0x7f79abf7ddd8>, '15044D': <gensim.models.keyedvectors.Vocab object at 0x7f79abf7de48>, '21192': <gensim.models.keyedvectors.Vocab object at 0x7f79abf7deb8>, '85202': <gensim.models.keyedvectors.Vocab object at 0x7f79abf7df28>, '23331': <gensim.models.keyedvectors.Vocab object at 0x7f79abf7df98>, '20669': <gensim.models.keyedvectors.Vocab object at 0x7f79abf82048>, '85204': <gensim.models.keyedvectors.Vocab object at 0x7f79abf820b8>, '21866': <gensim.models.keyedvectors.Vocab object at 0x7f79abf82128>, '85203': <gensim.models.keyedvectors.Vocab object at 0x7f79abf82198>, '21746': <gensim.models.keyedvectors.Vocab object at 0x7f79abf82208>, '22266': <gensim.models.keyedvectors.Vocab object at 0x7f79abf82278>, '21456': <gensim.models.keyedvectors.Vocab object at 0x7f79abf822e8>, '23466': <gensim.models.keyedvectors.Vocab object at 0x7f79abf82358>, '21379': <gensim.models.keyedvectors.Vocab object at 0x7f79abf823c8>, '21377': <gensim.models.keyedvectors.Vocab object at 0x7f79abf82438>, '20831': <gensim.models.keyedvectors.Vocab object at 0x7f79abf824a8>, '21378': <gensim.models.keyedvectors.Vocab object at 0x7f79abf82518>, '23107': <gensim.models.keyedvectors.Vocab object at 0x7f79abf82588>, '21385': <gensim.models.keyedvectors.Vocab object at 0x7f79abf825f8>, '20966': <gensim.models.keyedvectors.Vocab object at 0x7f79abf82668>, '22278': <gensim.models.keyedvectors.Vocab object at 0x7f79abf826d8>, '21631': <gensim.models.keyedvectors.Vocab object at 0x7f79abf82748>, '84976': <gensim.models.keyedvectors.Vocab object at 0x7f79abf827b8>, '22797': <gensim.models.keyedvectors.Vocab object at 0x7f79abf82828>, '21613': <gensim.models.keyedvectors.Vocab object at 0x7f79abf82898>, '22783': <gensim.models.keyedvectors.Vocab object at 0x7f79abf82908>, '23271': <gensim.models.keyedvectors.Vocab object at 0x7f79abf82978>, '35819P': <gensim.models.keyedvectors.Vocab object at 0x7f79abf829e8>, '35819B': <gensim.models.keyedvectors.Vocab object at 0x7f79abf82a58>, '85023B': <gensim.models.keyedvectors.Vocab object at 0x7f79abf82ac8>, '85026B': <gensim.models.keyedvectors.Vocab object at 0x7f79abf82b38>, '21463': <gensim.models.keyedvectors.Vocab object at 0x7f79abf82ba8>, '20832': <gensim.models.keyedvectors.Vocab object at 0x7f79abf82c18>, '84950': <gensim.models.keyedvectors.Vocab object at 0x7f79abf82c88>, '85230F': <gensim.models.keyedvectors.Vocab object at 0x7f79abf82cf8>, '82001S': <gensim.models.keyedvectors.Vocab object at 0x7f79abf82d68>, '23539': <gensim.models.keyedvectors.Vocab object at 0x7f79abf82dd8>, '22486': <gensim.models.keyedvectors.Vocab object at 0x7f79abf82e48>, '22224': <gensim.models.keyedvectors.Vocab object at 0x7f79abf82eb8>, '22281': <gensim.models.keyedvectors.Vocab object at 0x7f79abf82f28>, '22265': <gensim.models.keyedvectors.Vocab object at 0x7f79abf82f98>, '85186C': <gensim.models.keyedvectors.Vocab object at 0x7f79abf06048>, '35915C': <gensim.models.keyedvectors.Vocab object at 0x7f79abf060b8>, '22288': <gensim.models.keyedvectors.Vocab object at 0x7f79abf06128>, '22636': <gensim.models.keyedvectors.Vocab object at 0x7f79abf06198>, '84032A': <gensim.models.keyedvectors.Vocab object at 0x7f79abf06208>, '22272': <gensim.models.keyedvectors.Vocab object at 0x7f79abf06278>, '21471': <gensim.models.keyedvectors.Vocab object at 0x7f79abf062e8>, '22202': <gensim.models.keyedvectors.Vocab object at 0x7f79abf06358>, '21356': <gensim.models.keyedvectors.Vocab object at 0x7f79abf063c8>, '22655': <gensim.models.keyedvectors.Vocab object at 0x7f79abf06438>, '21359': <gensim.models.keyedvectors.Vocab object at 0x7f79abf064a8>, '81950B': <gensim.models.keyedvectors.Vocab object at 0x7f79abf06518>, '23214': <gensim.models.keyedvectors.Vocab object at 0x7f79abf06588>, '23218': <gensim.models.keyedvectors.Vocab object at 0x7f79abf065f8>, '23225': <gensim.models.keyedvectors.Vocab object at 0x7f79abf06668>, '22593': <gensim.models.keyedvectors.Vocab object at 0x7f79abf066d8>, '23211': <gensim.models.keyedvectors.Vocab object at 0x7f79abf06748>, '23212': <gensim.models.keyedvectors.Vocab object at 0x7f79abf067b8>, '21470': <gensim.models.keyedvectors.Vocab object at 0x7f79abf06828>, '23028': <gensim.models.keyedvectors.Vocab object at 0x7f79abf06898>, '22929': <gensim.models.keyedvectors.Vocab object at 0x7f79abf06908>, '85163B': <gensim.models.keyedvectors.Vocab object at 0x7f79abf06978>, '21792': <gensim.models.keyedvectors.Vocab object at 0x7f79abf069e8>, '84527': <gensim.models.keyedvectors.Vocab object at 0x7f79abf06a58>, '84522': <gensim.models.keyedvectors.Vocab object at 0x7f79abf06ac8>, '22538': <gensim.models.keyedvectors.Vocab object at 0x7f79abf06b38>, '22536': <gensim.models.keyedvectors.Vocab object at 0x7f79abf06ba8>, '84951A': <gensim.models.keyedvectors.Vocab object at 0x7f79abf06c18>, '84559B': <gensim.models.keyedvectors.Vocab object at 0x7f79abf06c88>, '84559A': <gensim.models.keyedvectors.Vocab object at 0x7f79abf06cf8>, '20932': <gensim.models.keyedvectors.Vocab object at 0x7f79abf06d68>, '72819': <gensim.models.keyedvectors.Vocab object at 0x7f79abf06dd8>, '47578A': <gensim.models.keyedvectors.Vocab object at 0x7f79abf06e48>, '22588': <gensim.models.keyedvectors.Vocab object at 0x7f79abf06eb8>, '22341': <gensim.models.keyedvectors.Vocab object at 0x7f79abf06f28>, '23468': <gensim.models.keyedvectors.Vocab object at 0x7f79abf06f98>, '23106': <gensim.models.keyedvectors.Vocab object at 0x7f79abf0c048>, '84880': <gensim.models.keyedvectors.Vocab object at 0x7f79abf0c0b8>, '21713': <gensim.models.keyedvectors.Vocab object at 0x7f79abf0c128>, '22939': <gensim.models.keyedvectors.Vocab object at 0x7f79abf0c198>, '21374': <gensim.models.keyedvectors.Vocab object at 0x7f79abf0c208>, '21367': <gensim.models.keyedvectors.Vocab object at 0x7f79abf0c278>, '21368': <gensim.models.keyedvectors.Vocab object at 0x7f79abf0c2e8>, '21316': <gensim.models.keyedvectors.Vocab object at 0x7f79abf0c358>, '84751B': <gensim.models.keyedvectors.Vocab object at 0x7f79abf0c3c8>, '21666': <gensim.models.keyedvectors.Vocab object at 0x7f79abf0c438>, '22316': <gensim.models.keyedvectors.Vocab object at 0x7f79abf0c4a8>, '22031': <gensim.models.keyedvectors.Vocab object at 0x7f79abf0c518>, '16169K': <gensim.models.keyedvectors.Vocab object at 0x7f79abf0c588>, '22039': <gensim.models.keyedvectors.Vocab object at 0x7f79abf0c5f8>, '15030': <gensim.models.keyedvectors.Vocab object at 0x7f79abf0c668>, '23041': <gensim.models.keyedvectors.Vocab object at 0x7f79abf0c6d8>, '23042': <gensim.models.keyedvectors.Vocab object at 0x7f79abf0c748>, '22183': <gensim.models.keyedvectors.Vocab object at 0x7f79abf0c7b8>, '85039B': <gensim.models.keyedvectors.Vocab object at 0x7f79abf0c828>, '85039A': <gensim.models.keyedvectors.Vocab object at 0x7f79abf0c898>, '72140E': <gensim.models.keyedvectors.Vocab object at 0x7f79abf0c908>, '75131': <gensim.models.keyedvectors.Vocab object at 0x7f79abf0c978>, '21418': <gensim.models.keyedvectors.Vocab object at 0x7f79abf0c9e8>, '82011A': <gensim.models.keyedvectors.Vocab object at 0x7f79abf0ca58>, '82011C': <gensim.models.keyedvectors.Vocab object at 0x7f79abf0cac8>, '62018': <gensim.models.keyedvectors.Vocab object at 0x7f79abf0cb38>, '21758': <gensim.models.keyedvectors.Vocab object at 0x7f79abf0cba8>, '21417': <gensim.models.keyedvectors.Vocab object at 0x7f79abf0cc18>, '21415': <gensim.models.keyedvectors.Vocab object at 0x7f79abf0cc88>, '21089': <gensim.models.keyedvectors.Vocab object at 0x7f79abf0ccf8>, '47563A': <gensim.models.keyedvectors.Vocab object at 0x7f79abf0cd68>, '15058C': <gensim.models.keyedvectors.Vocab object at 0x7f79abf0cdd8>, '23457': <gensim.models.keyedvectors.Vocab object at 0x7f79abf0ce48>, '90057': <gensim.models.keyedvectors.Vocab object at 0x7f79abf0ceb8>, '23217': <gensim.models.keyedvectors.Vocab object at 0x7f79abf0cf28>, '23213': <gensim.models.keyedvectors.Vocab object at 0x7f79abf0cf98>, '22735': <gensim.models.keyedvectors.Vocab object at 0x7f79abf0f048>, '23185': <gensim.models.keyedvectors.Vocab object at 0x7f79abf0f0b8>, '17136A': <gensim.models.keyedvectors.Vocab object at 0x7f79abf0f128>, '22078': <gensim.models.keyedvectors.Vocab object at 0x7f79abf0f198>, '22774': <gensim.models.keyedvectors.Vocab object at 0x7f79abf0f208>, '23149': <gensim.models.keyedvectors.Vocab object at 0x7f79abf0f278>, '84968E': <gensim.models.keyedvectors.Vocab object at 0x7f79abf0f2e8>, '22799': <gensim.models.keyedvectors.Vocab object at 0x7f79abf0f358>, '23150': <gensim.models.keyedvectors.Vocab object at 0x7f79abf0f3c8>, '23481': <gensim.models.keyedvectors.Vocab object at 0x7f79abf0f438>, '23553': <gensim.models.keyedvectors.Vocab object at 0x7f79abf0f4a8>, '20748': <gensim.models.keyedvectors.Vocab object at 0x7f79abf0f518>, '23467': <gensim.models.keyedvectors.Vocab object at 0x7f79abf0f588>, '23037': <gensim.models.keyedvectors.Vocab object at 0x7f79abf0f5f8>, '23038': <gensim.models.keyedvectors.Vocab object at 0x7f79abf0f668>, '23033': <gensim.models.keyedvectors.Vocab object at 0x7f79abf0f6d8>, '23036': <gensim.models.keyedvectors.Vocab object at 0x7f79abf0f748>, '23039': <gensim.models.keyedvectors.Vocab object at 0x7f79abf0f7b8>, '23251': <gensim.models.keyedvectors.Vocab object at 0x7f79abf0f828>, '84592': <gensim.models.keyedvectors.Vocab object at 0x7f79abf0f898>, '22261': <gensim.models.keyedvectors.Vocab object at 0x7f79abf0f908>, '22260': <gensim.models.keyedvectors.Vocab object at 0x7f79abf0f978>, '22132': <gensim.models.keyedvectors.Vocab object at 0x7f79abf0f9e8>, '23472': <gensim.models.keyedvectors.Vocab object at 0x7f79abf0fa58>, '40003': <gensim.models.keyedvectors.Vocab object at 0x7f79abf0fac8>, '85194S': <gensim.models.keyedvectors.Vocab object at 0x7f79abf0fb38>, '85141': <gensim.models.keyedvectors.Vocab object at 0x7f79abf0fba8>, '23071': <gensim.models.keyedvectors.Vocab object at 0x7f79abf0fc18>, '23072': <gensim.models.keyedvectors.Vocab object at 0x7f79abf0fc88>, '84789': <gensim.models.keyedvectors.Vocab object at 0x7f79abf0fcf8>, '22067': <gensim.models.keyedvectors.Vocab object at 0x7f79abf0fd68>, '22215': <gensim.models.keyedvectors.Vocab object at 0x7f79abf0fdd8>, '22220': <gensim.models.keyedvectors.Vocab object at 0x7f79abf0fe48>, '37449': <gensim.models.keyedvectors.Vocab object at 0x7f79abf0feb8>, '22217': <gensim.models.keyedvectors.Vocab object at 0x7f79abf0ff28>, '21408': <gensim.models.keyedvectors.Vocab object at 0x7f79abf0ff98>, '21383': <gensim.models.keyedvectors.Vocab object at 0x7f79abf15048>, '85135B': <gensim.models.keyedvectors.Vocab object at 0x7f79abf150b8>, '23544': <gensim.models.keyedvectors.Vocab object at 0x7f79abf15128>, '23025': <gensim.models.keyedvectors.Vocab object at 0x7f79abf15198>, '22080': <gensim.models.keyedvectors.Vocab object at 0x7f79abf15208>, '20686': <gensim.models.keyedvectors.Vocab object at 0x7f79abf15278>, '23566': <gensim.models.keyedvectors.Vocab object at 0x7f79abf152e8>, '22250': <gensim.models.keyedvectors.Vocab object at 0x7f79abf15358>, '85214': <gensim.models.keyedvectors.Vocab object at 0x7f79abf153c8>, '35965': <gensim.models.keyedvectors.Vocab object at 0x7f79abf15438>, '22251': <gensim.models.keyedvectors.Vocab object at 0x7f79abf154a8>, '22247': <gensim.models.keyedvectors.Vocab object at 0x7f79abf15518>, '21644': <gensim.models.keyedvectors.Vocab object at 0x7f79abf15588>, '20768': <gensim.models.keyedvectors.Vocab object at 0x7f79abf155f8>, '22042': <gensim.models.keyedvectors.Vocab object at 0x7f79abf15668>, '23560': <gensim.models.keyedvectors.Vocab object at 0x7f79abf156d8>, '23562': <gensim.models.keyedvectors.Vocab object at 0x7f79abf15748>, '22533': <gensim.models.keyedvectors.Vocab object at 0x7f79abf157b8>, '23522': <gensim.models.keyedvectors.Vocab object at 0x7f79abf15828>, '23521': <gensim.models.keyedvectors.Vocab object at 0x7f79abf15898>, '21822': <gensim.models.keyedvectors.Vocab object at 0x7f79abf15908>, '23473': <gensim.models.keyedvectors.Vocab object at 0x7f79abf15978>, '85178': <gensim.models.keyedvectors.Vocab object at 0x7f79abf159e8>, '22129': <gensim.models.keyedvectors.Vocab object at 0x7f79abf15a58>, '22425': <gensim.models.keyedvectors.Vocab object at 0x7f79abf15ac8>, '72127': <gensim.models.keyedvectors.Vocab object at 0x7f79abf15b38>, '23555': <gensim.models.keyedvectors.Vocab object at 0x7f79abf15ba8>, '51014C': <gensim.models.keyedvectors.Vocab object at 0x7f79abf15c18>, '84971S': <gensim.models.keyedvectors.Vocab object at 0x7f79abf15c88>, '22335': <gensim.models.keyedvectors.Vocab object at 0x7f79abf15cf8>, '23574': <gensim.models.keyedvectors.Vocab object at 0x7f79abf15d68>, '21826': <gensim.models.keyedvectors.Vocab object at 0x7f79abf15dd8>, '22157': <gensim.models.keyedvectors.Vocab object at 0x7f79abf15e48>, '21455': <gensim.models.keyedvectors.Vocab object at 0x7f79abf15eb8>, '85187': <gensim.models.keyedvectors.Vocab object at 0x7f79abf15f28>, '21454': <gensim.models.keyedvectors.Vocab object at 0x7f79abf15f98>, '35920': <gensim.models.keyedvectors.Vocab object at 0x7f79abf1a048>, '40046A': <gensim.models.keyedvectors.Vocab object at 0x7f79abf1a0b8>, '40001': <gensim.models.keyedvectors.Vocab object at 0x7f79abf1a128>, '37467': <gensim.models.keyedvectors.Vocab object at 0x7f79abf1a198>, '84800M': <gensim.models.keyedvectors.Vocab object at 0x7f79abf1a208>, '21333': <gensim.models.keyedvectors.Vocab object at 0x7f79abf1a278>, '20803': <gensim.models.keyedvectors.Vocab object at 0x7f79abf1a2e8>, '23128': <gensim.models.keyedvectors.Vocab object at 0x7f79abf1a358>, '22606': <gensim.models.keyedvectors.Vocab object at 0x7f79abf1a3c8>, '21372': <gensim.models.keyedvectors.Vocab object at 0x7f79abf1a438>, '20697': <gensim.models.keyedvectors.Vocab object at 0x7f79abf1a4a8>, '20698': <gensim.models.keyedvectors.Vocab object at 0x7f79abf1a518>, '22645': <gensim.models.keyedvectors.Vocab object at 0x7f79abf1a588>, '21369': <gensim.models.keyedvectors.Vocab object at 0x7f79abf1a5f8>, '22513': <gensim.models.keyedvectors.Vocab object at 0x7f79abf1a668>, '82616B': <gensim.models.keyedvectors.Vocab object at 0x7f79abf1a6d8>, '85036B': <gensim.models.keyedvectors.Vocab object at 0x7f79abf1a748>, '22656': <gensim.models.keyedvectors.Vocab object at 0x7f79abf1a7b8>, '84509G': <gensim.models.keyedvectors.Vocab object at 0x7f79abf1a828>, '84763': <gensim.models.keyedvectors.Vocab object at 0x7f79abf1a898>, '20980': <gensim.models.keyedvectors.Vocab object at 0x7f79abf1a908>, '35961': <gensim.models.keyedvectors.Vocab object at 0x7f79abf1a978>, '23460': <gensim.models.keyedvectors.Vocab object at 0x7f79abf1a9e8>, '21749': <gensim.models.keyedvectors.Vocab object at 0x7f79abf1aa58>, '20619': <gensim.models.keyedvectors.Vocab object at 0x7f79abf1aac8>, '20615': <gensim.models.keyedvectors.Vocab object at 0x7f79abf1ab38>, '21467': <gensim.models.keyedvectors.Vocab object at 0x7f79abf1aba8>, '21472': <gensim.models.keyedvectors.Vocab object at 0x7f79abf1ac18>, '21389': <gensim.models.keyedvectors.Vocab object at 0x7f79abf1ac88>, '21386': <gensim.models.keyedvectors.Vocab object at 0x7f79abf1acf8>, '85205B': <gensim.models.keyedvectors.Vocab object at 0x7f79abf1ad68>, '22289': <gensim.models.keyedvectors.Vocab object at 0x7f79abf1add8>, '84457': <gensim.models.keyedvectors.Vocab object at 0x7f79abf1ae48>, '22249': <gensim.models.keyedvectors.Vocab object at 0x7f79abf1aeb8>, '22782': <gensim.models.keyedvectors.Vocab object at 0x7f79abf1af28>, '20618': <gensim.models.keyedvectors.Vocab object at 0x7f79abf1af98>, '21468': <gensim.models.keyedvectors.Vocab object at 0x7f79abf1e048>, '23086': <gensim.models.keyedvectors.Vocab object at 0x7f79abf1e0b8>, '84595E': <gensim.models.keyedvectors.Vocab object at 0x7f79abf1e128>, '84796A': <gensim.models.keyedvectors.Vocab object at 0x7f79abf1e198>, '22702': <gensim.models.keyedvectors.Vocab object at 0x7f79abf1e208>, '21054': <gensim.models.keyedvectors.Vocab object at 0x7f79abf1e278>, '21056': <gensim.models.keyedvectors.Vocab object at 0x7f79abf1e2e8>, '84429A': <gensim.models.keyedvectors.Vocab object at 0x7f79abf1e358>, '22781': <gensim.models.keyedvectors.Vocab object at 0x7f79abf1e3c8>, 'BANK CHARGES': <gensim.models.keyedvectors.Vocab object at 0x7f79abf1e400>, '21116': <gensim.models.keyedvectors.Vocab object at 0x7f79abf1e470>, '20794': <gensim.models.keyedvectors.Vocab object at 0x7f79abf1e4e0>, '20769': <gensim.models.keyedvectors.Vocab object at 0x7f79abf1e550>, '84459B': <gensim.models.keyedvectors.Vocab object at 0x7f79abf1e5c0>, '84686': <gensim.models.keyedvectors.Vocab object at 0x7f79abf1e630>, '21447': <gensim.models.keyedvectors.Vocab object at 0x7f79abf1e6a0>, '90192': <gensim.models.keyedvectors.Vocab object at 0x7f79abf1e710>, '84725': <gensim.models.keyedvectors.Vocab object at 0x7f79abf1e780>, '90198B': <gensim.models.keyedvectors.Vocab object at 0x7f79abf1e7f0>, '21725': <gensim.models.keyedvectors.Vocab object at 0x7f79abf1e860>, '20770': <gensim.models.keyedvectors.Vocab object at 0x7f79abf1e8d0>, '22104': <gensim.models.keyedvectors.Vocab object at 0x7f79abf1e940>, '23088': <gensim.models.keyedvectors.Vocab object at 0x7f79abf1e9b0>, '72780': <gensim.models.keyedvectors.Vocab object at 0x7f79abf1ea20>, '20764': <gensim.models.keyedvectors.Vocab object at 0x7f79abf1ea90>, '20765': <gensim.models.keyedvectors.Vocab object at 0x7f79abf1eb00>, '20761': <gensim.models.keyedvectors.Vocab object at 0x7f79abf1eb70>, '20762': <gensim.models.keyedvectors.Vocab object at 0x7f79abf1ebe0>, '21717': <gensim.models.keyedvectors.Vocab object at 0x7f79abf1ec50>, '22894': <gensim.models.keyedvectors.Vocab object at 0x7f79abf1ecc0>, '22482': <gensim.models.keyedvectors.Vocab object at 0x7f79abf1ed30>, '22072': <gensim.models.keyedvectors.Vocab object at 0x7f79abf1eda0>, '72122': <gensim.models.keyedvectors.Vocab object at 0x7f79abf1ee10>, '35599B': <gensim.models.keyedvectors.Vocab object at 0x7f79abf1ee80>, '35599D': <gensim.models.keyedvectors.Vocab object at 0x7f79abf1eef0>, '84859A': <gensim.models.keyedvectors.Vocab object at 0x7f79abf1ef60>, '22123': <gensim.models.keyedvectors.Vocab object at 0x7f79abf1efd0>, '84859B': <gensim.models.keyedvectors.Vocab object at 0x7f79abf23080>, '20963': <gensim.models.keyedvectors.Vocab object at 0x7f79abf230f0>, '79302M': <gensim.models.keyedvectors.Vocab object at 0x7f79abf23160>, '90191': <gensim.models.keyedvectors.Vocab object at 0x7f79abf231d0>, '22736': <gensim.models.keyedvectors.Vocab object at 0x7f79abf23240>, '23523': <gensim.models.keyedvectors.Vocab object at 0x7f79abf232b0>, '23540': <gensim.models.keyedvectors.Vocab object at 0x7f79abf23320>, '23409': <gensim.models.keyedvectors.Vocab object at 0x7f79abf23390>, '23520': <gensim.models.keyedvectors.Vocab object at 0x7f79abf23400>, '21902': <gensim.models.keyedvectors.Vocab object at 0x7f79abf23470>, '23421': <gensim.models.keyedvectors.Vocab object at 0x7f79abf234e0>, '23408': <gensim.models.keyedvectors.Vocab object at 0x7f79abf23550>, '21311': <gensim.models.keyedvectors.Vocab object at 0x7f79abf235c0>, '84663A': <gensim.models.keyedvectors.Vocab object at 0x7f79abf23630>, '23597': <gensim.models.keyedvectors.Vocab object at 0x7f79abf236a0>, '21293': <gensim.models.keyedvectors.Vocab object at 0x7f79abf23710>, '23398': <gensim.models.keyedvectors.Vocab object at 0x7f79abf23780>, '84558A': <gensim.models.keyedvectors.Vocab object at 0x7f79abf237f0>, '72598': <gensim.models.keyedvectors.Vocab object at 0x7f79abf23860>, '20705': <gensim.models.keyedvectors.Vocab object at 0x7f79abf238d0>, '22497': <gensim.models.keyedvectors.Vocab object at 0x7f79abf23940>, '90160D': <gensim.models.keyedvectors.Vocab object at 0x7f79abf239b0>, '90177D': <gensim.models.keyedvectors.Vocab object at 0x7f79abf23a20>, '90000A': <gensim.models.keyedvectors.Vocab object at 0x7f79abf23a90>, '90147': <gensim.models.keyedvectors.Vocab object at 0x7f79abf23b00>, '90160C': <gensim.models.keyedvectors.Vocab object at 0x7f79abf23b70>, '90160A': <gensim.models.keyedvectors.Vocab object at 0x7f79abf23be0>, '90170': <gensim.models.keyedvectors.Vocab object at 0x7f79abf23c50>, '90200E': <gensim.models.keyedvectors.Vocab object at 0x7f79abf23cc0>, '90200D': <gensim.models.keyedvectors.Vocab object at 0x7f79abf23d30>, '90200A': <gensim.models.keyedvectors.Vocab object at 0x7f79abf23da0>, '90201C': <gensim.models.keyedvectors.Vocab object at 0x7f79abf23e10>, '90201D': <gensim.models.keyedvectors.Vocab object at 0x7f79abf23e80>, '90201A': <gensim.models.keyedvectors.Vocab object at 0x7f79abf23ef0>, '90129C': <gensim.models.keyedvectors.Vocab object at 0x7f79abf23f60>, '90129B': <gensim.models.keyedvectors.Vocab object at 0x7f79abf23fd0>, '35649': <gensim.models.keyedvectors.Vocab object at 0x7f79abf28080>, '22583': <gensim.models.keyedvectors.Vocab object at 0x7f79abf280f0>, '23060': <gensim.models.keyedvectors.Vocab object at 0x7f79abf28160>, '84609': <gensim.models.keyedvectors.Vocab object at 0x7f79abf281d0>, '22394': <gensim.models.keyedvectors.Vocab object at 0x7f79abf28240>, '23272': <gensim.models.keyedvectors.Vocab object at 0x7f79abf282b0>, '23575': <gensim.models.keyedvectors.Vocab object at 0x7f79abf28320>, '17164B': <gensim.models.keyedvectors.Vocab object at 0x7f79abf28390>, '21324': <gensim.models.keyedvectors.Vocab object at 0x7f79abf28400>, '85211': <gensim.models.keyedvectors.Vocab object at 0x7f79abf28470>, '85132A': <gensim.models.keyedvectors.Vocab object at 0x7f79abf284e0>, '23455': <gensim.models.keyedvectors.Vocab object at 0x7f79abf28550>, '85127': <gensim.models.keyedvectors.Vocab object at 0x7f79abf285c0>, '23087': <gensim.models.keyedvectors.Vocab object at 0x7f79abf28630>, '23223': <gensim.models.keyedvectors.Vocab object at 0x7f79abf286a0>, '21635': <gensim.models.keyedvectors.Vocab object at 0x7f79abf28710>, '22812': <gensim.models.keyedvectors.Vocab object at 0x7f79abf28780>, '22106': <gensim.models.keyedvectors.Vocab object at 0x7f79abf287f0>, '23513': <gensim.models.keyedvectors.Vocab object at 0x7f79abf28860>, '23511': <gensim.models.keyedvectors.Vocab object at 0x7f79abf288d0>, '23514': <gensim.models.keyedvectors.Vocab object at 0x7f79abf28940>, '21051': <gensim.models.keyedvectors.Vocab object at 0x7f79abf289b0>, '84917': <gensim.models.keyedvectors.Vocab object at 0x7f79abf28a20>, '84632': <gensim.models.keyedvectors.Vocab object at 0x7f79abf28a90>, '23402': <gensim.models.keyedvectors.Vocab object at 0x7f79abf28b00>, '23427': <gensim.models.keyedvectors.Vocab object at 0x7f79abf28b70>, '85199L': <gensim.models.keyedvectors.Vocab object at 0x7f79abf28be0>, '90058A': <gensim.models.keyedvectors.Vocab object at 0x7f79abf28c50>, '84925F': <gensim.models.keyedvectors.Vocab object at 0x7f79abf28cc0>, '85185B': <gensim.models.keyedvectors.Vocab object at 0x7f79abf28d30>, '37495': <gensim.models.keyedvectors.Vocab object at 0x7f79abf28da0>, '16169M': <gensim.models.keyedvectors.Vocab object at 0x7f79abf28e10>, '22761': <gensim.models.keyedvectors.Vocab object at 0x7f79abf28e80>, '21277': <gensim.models.keyedvectors.Vocab object at 0x7f79abf28ef0>, '22167': <gensim.models.keyedvectors.Vocab object at 0x7f79abf28f60>, '20997': <gensim.models.keyedvectors.Vocab object at 0x7f79abf28fd0>, '22687': <gensim.models.keyedvectors.Vocab object at 0x7f79abf2c080>, '85230A': <gensim.models.keyedvectors.Vocab object at 0x7f79abf2c0f0>, '85230E': <gensim.models.keyedvectors.Vocab object at 0x7f79abf2c160>, '85230G': <gensim.models.keyedvectors.Vocab object at 0x7f79abf2c1d0>, '22040': <gensim.models.keyedvectors.Vocab object at 0x7f79abf2c240>, '84877B': <gensim.models.keyedvectors.Vocab object at 0x7f79abf2c2b0>, '22393': <gensim.models.keyedvectors.Vocab object at 0x7f79abf2c320>, '23517': <gensim.models.keyedvectors.Vocab object at 0x7f79abf2c390>, '22618': <gensim.models.keyedvectors.Vocab object at 0x7f79abf2c400>, '47591B': <gensim.models.keyedvectors.Vocab object at 0x7f79abf2c470>, '22451': <gensim.models.keyedvectors.Vocab object at 0x7f79abf2c4e0>, '22450': <gensim.models.keyedvectors.Vocab object at 0x7f79abf2c550>, '20778': <gensim.models.keyedvectors.Vocab object at 0x7f79abf2c5c0>, '22454': <gensim.models.keyedvectors.Vocab object at 0x7f79abf2c630>, '21781': <gensim.models.keyedvectors.Vocab object at 0x7f79abf2c6a0>, '21784': <gensim.models.keyedvectors.Vocab object at 0x7f79abf2c710>, '84820': <gensim.models.keyedvectors.Vocab object at 0x7f79abf2c780>, '21258': <gensim.models.keyedvectors.Vocab object at 0x7f79abf2c7f0>, '85006': <gensim.models.keyedvectors.Vocab object at 0x7f79abf2c860>, '21812': <gensim.models.keyedvectors.Vocab object at 0x7f79abf2c8d0>, '84638': <gensim.models.keyedvectors.Vocab object at 0x7f79abf2c940>, '85064': <gensim.models.keyedvectors.Vocab object at 0x7f79abf2c9b0>, '35004C': <gensim.models.keyedvectors.Vocab object at 0x7f79abf2ca20>, '21911': <gensim.models.keyedvectors.Vocab object at 0x7f79abf2ca90>, '84874B': <gensim.models.keyedvectors.Vocab object at 0x7f79abf2cb00>, '90200B': <gensim.models.keyedvectors.Vocab object at 0x7f79abf2cb70>, '90206C': <gensim.models.keyedvectors.Vocab object at 0x7f79abf2cbe0>, '22081': <gensim.models.keyedvectors.Vocab object at 0x7f79abf2cc50>, '23221': <gensim.models.keyedvectors.Vocab object at 0x7f79abf2ccc0>, '23458': <gensim.models.keyedvectors.Vocab object at 0x7f79abf2cd30>, '23219': <gensim.models.keyedvectors.Vocab object at 0x7f79abf2cda0>, '90145': <gensim.models.keyedvectors.Vocab object at 0x7f79abf2ce10>, '23661': <gensim.models.keyedvectors.Vocab object at 0x7f79abf2ce80>, '22512': <gensim.models.keyedvectors.Vocab object at 0x7f79abf2cef0>, '21884': <gensim.models.keyedvectors.Vocab object at 0x7f79abf2cf60>, '22190': <gensim.models.keyedvectors.Vocab object at 0x7f79abf2cfd0>, '16049': <gensim.models.keyedvectors.Vocab object at 0x7f79abf31080>, '21689': <gensim.models.keyedvectors.Vocab object at 0x7f79abf310f0>, '21215': <gensim.models.keyedvectors.Vocab object at 0x7f79abf31160>, '20893': <gensim.models.keyedvectors.Vocab object at 0x7f79abf311d0>, '22642': <gensim.models.keyedvectors.Vocab object at 0x7f79abf31240>, '84509C': <gensim.models.keyedvectors.Vocab object at 0x7f79abf312b0>, '35653': <gensim.models.keyedvectors.Vocab object at 0x7f79abf31320>, '21363': <gensim.models.keyedvectors.Vocab object at 0x7f79abf31390>, '84625C': <gensim.models.keyedvectors.Vocab object at 0x7f79abf31400>, '84625A': <gensim.models.keyedvectors.Vocab object at 0x7f79abf31470>, '84952A': <gensim.models.keyedvectors.Vocab object at 0x7f79abf314e0>, '71403': <gensim.models.keyedvectors.Vocab object at 0x7f79abf31550>, '21851': <gensim.models.keyedvectors.Vocab object at 0x7f79abf315c0>, '21846': <gensim.models.keyedvectors.Vocab object at 0x7f79abf31630>, '21849': <gensim.models.keyedvectors.Vocab object at 0x7f79abf316a0>, 'D': <gensim.models.keyedvectors.Vocab object at 0x7f79abf316d8>, '84952C': <gensim.models.keyedvectors.Vocab object at 0x7f79abf31748>, '84031B': <gensim.models.keyedvectors.Vocab object at 0x7f79abf317b8>, '20903': <gensim.models.keyedvectors.Vocab object at 0x7f79abf31828>, '22194': <gensim.models.keyedvectors.Vocab object at 0x7f79abf31898>, '16015': <gensim.models.keyedvectors.Vocab object at 0x7f79abf31908>, '22262': <gensim.models.keyedvectors.Vocab object at 0x7f79abf31978>, '21129': <gensim.models.keyedvectors.Vocab object at 0x7f79abf319e8>, '85049B': <gensim.models.keyedvectors.Vocab object at 0x7f79abf31a58>, '84754': <gensim.models.keyedvectors.Vocab object at 0x7f79abf31ac8>, '20878': <gensim.models.keyedvectors.Vocab object at 0x7f79abf31b38>, '21743': <gensim.models.keyedvectors.Vocab object at 0x7f79abf31ba8>, '21801': <gensim.models.keyedvectors.Vocab object at 0x7f79abf31c18>, '85018D': <gensim.models.keyedvectors.Vocab object at 0x7f79abf31c88>, '22532': <gensim.models.keyedvectors.Vocab object at 0x7f79abf31cf8>, '84519A': <gensim.models.keyedvectors.Vocab object at 0x7f79abf31d68>, '90148': <gensim.models.keyedvectors.Vocab object at 0x7f79abf31dd8>, '90081C': <gensim.models.keyedvectors.Vocab object at 0x7f79abf31e48>, '90081A': <gensim.models.keyedvectors.Vocab object at 0x7f79abf31eb8>, '90030C': <gensim.models.keyedvectors.Vocab object at 0x7f79abf31f28>, '85131A': <gensim.models.keyedvectors.Vocab object at 0x7f79abf31f98>, '84597C': <gensim.models.keyedvectors.Vocab object at 0x7f79abf35048>, '23598': <gensim.models.keyedvectors.Vocab object at 0x7f79abf350b8>, '46118': <gensim.models.keyedvectors.Vocab object at 0x7f79abf35128>, '23492': <gensim.models.keyedvectors.Vocab object at 0x7f79abf35198>, '22452': <gensim.models.keyedvectors.Vocab object at 0x7f79abf35208>, '22453': <gensim.models.keyedvectors.Vocab object at 0x7f79abf35278>, '22448': <gensim.models.keyedvectors.Vocab object at 0x7f79abf352e8>, '21187': <gensim.models.keyedvectors.Vocab object at 0x7f79abf35358>, '21657': <gensim.models.keyedvectors.Vocab object at 0x7f79abf353c8>, '84507C': <gensim.models.keyedvectors.Vocab object at 0x7f79abf35438>, '85019A': <gensim.models.keyedvectors.Vocab object at 0x7f79abf354a8>, '85032D': <gensim.models.keyedvectors.Vocab object at 0x7f79abf35518>, '85025C': <gensim.models.keyedvectors.Vocab object at 0x7f79abf35588>, '21318': <gensim.models.keyedvectors.Vocab object at 0x7f79abf355f8>, '21881': <gensim.models.keyedvectors.Vocab object at 0x7f79abf35668>, '84459A': <gensim.models.keyedvectors.Vocab object at 0x7f79abf356d8>, '84913B': <gensim.models.keyedvectors.Vocab object at 0x7f79abf35748>, '84882': <gensim.models.keyedvectors.Vocab object at 0x7f79abf357b8>, '21280': <gensim.models.keyedvectors.Vocab object at 0x7f79abf35828>, '22905': <gensim.models.keyedvectors.Vocab object at 0x7f79abf35898>, '23044': <gensim.models.keyedvectors.Vocab object at 0x7f79abf35908>, '23040': <gensim.models.keyedvectors.Vocab object at 0x7f79abf35978>, '23317': <gensim.models.keyedvectors.Vocab object at 0x7f79abf359e8>, '23069': <gensim.models.keyedvectors.Vocab object at 0x7f79abf35a58>, '47518F': <gensim.models.keyedvectors.Vocab object at 0x7f79abf35ac8>, '23512': <gensim.models.keyedvectors.Vocab object at 0x7f79abf35b38>, '90162B': <gensim.models.keyedvectors.Vocab object at 0x7f79abf35ba8>, '21128': <gensim.models.keyedvectors.Vocab object at 0x7f79abf35c18>, '21739': <gensim.models.keyedvectors.Vocab object at 0x7f79abf35c88>, '84912A': <gensim.models.keyedvectors.Vocab object at 0x7f79abf35cf8>, '21741': <gensim.models.keyedvectors.Vocab object at 0x7f79abf35d68>, '37343': <gensim.models.keyedvectors.Vocab object at 0x7f79abf35dd8>, '21202': <gensim.models.keyedvectors.Vocab object at 0x7f79abf35e48>, '23070': <gensim.models.keyedvectors.Vocab object at 0x7f79abf35eb8>, '84876B': <gensim.models.keyedvectors.Vocab object at 0x7f79abf35f28>, '84877D': <gensim.models.keyedvectors.Vocab object at 0x7f79abf35f98>, '84875B': <gensim.models.keyedvectors.Vocab object at 0x7f79abf3b048>, '84251B': <gensim.models.keyedvectors.Vocab object at 0x7f79abf3b0b8>, '90199C': <gensim.models.keyedvectors.Vocab object at 0x7f79abf3b128>, '90143': <gensim.models.keyedvectors.Vocab object at 0x7f79abf3b198>, '23525': <gensim.models.keyedvectors.Vocab object at 0x7f79abf3b208>, '85179A': <gensim.models.keyedvectors.Vocab object at 0x7f79abf3b278>, '23474': <gensim.models.keyedvectors.Vocab object at 0x7f79abf3b2e8>, '23475': <gensim.models.keyedvectors.Vocab object at 0x7f79abf3b358>, '84806A': <gensim.models.keyedvectors.Vocab object at 0x7f79abf3b3c8>, '84799': <gensim.models.keyedvectors.Vocab object at 0x7f79abf3b438>, '21942': <gensim.models.keyedvectors.Vocab object at 0x7f79abf3b4a8>, '84827': <gensim.models.keyedvectors.Vocab object at 0x7f79abf3b518>, '84660C': <gensim.models.keyedvectors.Vocab object at 0x7f79abf3b588>, '84660A': <gensim.models.keyedvectors.Vocab object at 0x7f79abf3b5f8>, '84660B': <gensim.models.keyedvectors.Vocab object at 0x7f79abf3b668>, '22647': <gensim.models.keyedvectors.Vocab object at 0x7f79abf3b6d8>, '85180B': <gensim.models.keyedvectors.Vocab object at 0x7f79abf3b748>, '22267': <gensim.models.keyedvectors.Vocab object at 0x7f79abf3b7b8>, '22165': <gensim.models.keyedvectors.Vocab object at 0x7f79abf3b828>, '22410': <gensim.models.keyedvectors.Vocab object at 0x7f79abf3b898>, '20696': <gensim.models.keyedvectors.Vocab object at 0x7f79abf3b908>, '21580': <gensim.models.keyedvectors.Vocab object at 0x7f79abf3b978>, '21579': <gensim.models.keyedvectors.Vocab object at 0x7f79abf3b9e8>, '85019B': <gensim.models.keyedvectors.Vocab object at 0x7f79abf3ba58>, '84806B': <gensim.models.keyedvectors.Vocab object at 0x7f79abf3bac8>, '71101E': <gensim.models.keyedvectors.Vocab object at 0x7f79abf3bb38>, '22337': <gensim.models.keyedvectors.Vocab object at 0x7f79abf3bba8>, '23518': <gensim.models.keyedvectors.Vocab object at 0x7f79abf3bc18>, '23516': <gensim.models.keyedvectors.Vocab object at 0x7f79abf3bc88>, '84535A': <gensim.models.keyedvectors.Vocab object at 0x7f79abf3bcf8>, '23003': <gensim.models.keyedvectors.Vocab object at 0x7f79abf3bd68>, '22511': <gensim.models.keyedvectors.Vocab object at 0x7f79abf3bdd8>, '22510': <gensim.models.keyedvectors.Vocab object at 0x7f79abf3be48>, '79063D': <gensim.models.keyedvectors.Vocab object at 0x7f79abf3beb8>, '21307': <gensim.models.keyedvectors.Vocab object at 0x7f79abf3bf28>, '81952B': <gensim.models.keyedvectors.Vocab object at 0x7f79abf3bf98>, '75172': <gensim.models.keyedvectors.Vocab object at 0x7f79abf3f048>, '84629': <gensim.models.keyedvectors.Vocab object at 0x7f79abf3f0b8>, '35964': <gensim.models.keyedvectors.Vocab object at 0x7f79abf3f128>, '35954': <gensim.models.keyedvectors.Vocab object at 0x7f79abf3f198>, '23216': <gensim.models.keyedvectors.Vocab object at 0x7f79abf3f208>, '79051A': <gensim.models.keyedvectors.Vocab object at 0x7f79abf3f278>, '16248B': <gensim.models.keyedvectors.Vocab object at 0x7f79abf3f2e8>, '84766': <gensim.models.keyedvectors.Vocab object at 0x7f79abf3f358>, '21132': <gensim.models.keyedvectors.Vocab object at 0x7f79abf3f3c8>, '23660': <gensim.models.keyedvectors.Vocab object at 0x7f79abf3f438>, '20856': <gensim.models.keyedvectors.Vocab object at 0x7f79abf3f4a8>, '20854': <gensim.models.keyedvectors.Vocab object at 0x7f79abf3f518>, '20867': <gensim.models.keyedvectors.Vocab object at 0x7f79abf3f588>, '20866': <gensim.models.keyedvectors.Vocab object at 0x7f79abf3f5f8>, '90108': <gensim.models.keyedvectors.Vocab object at 0x7f79abf3f668>, '90003D': <gensim.models.keyedvectors.Vocab object at 0x7f79abf3f6d8>, '90204': <gensim.models.keyedvectors.Vocab object at 0x7f79abf3f748>, '85232A': <gensim.models.keyedvectors.Vocab object at 0x7f79abf3f7b8>, '22021': <gensim.models.keyedvectors.Vocab object at 0x7f79abf3f828>, '22283': <gensim.models.keyedvectors.Vocab object at 0x7f79abf3f898>, '22305': <gensim.models.keyedvectors.Vocab object at 0x7f79abf3f908>, '35912B': <gensim.models.keyedvectors.Vocab object at 0x7f79abf3f978>, '21145': <gensim.models.keyedvectors.Vocab object at 0x7f79abf3f9e8>, '23058': <gensim.models.keyedvectors.Vocab object at 0x7f79abf3fa58>, '22282': <gensim.models.keyedvectors.Vocab object at 0x7f79abf3fac8>, '23487': <gensim.models.keyedvectors.Vocab object at 0x7f79abf3fb38>, '84884A': <gensim.models.keyedvectors.Vocab object at 0x7f79abf3fba8>, '22479': <gensim.models.keyedvectors.Vocab object at 0x7f79abf3fc18>, '85179C': <gensim.models.keyedvectors.Vocab object at 0x7f79abf3fc88>, '90098': <gensim.models.keyedvectors.Vocab object at 0x7f79abf3fcf8>, '90114': <gensim.models.keyedvectors.Vocab object at 0x7f79abf3fd68>, '37450': <gensim.models.keyedvectors.Vocab object at 0x7f79abf3fdd8>, '37447': <gensim.models.keyedvectors.Vocab object at 0x7f79abf3fe48>, '21656': <gensim.models.keyedvectors.Vocab object at 0x7f79abf3feb8>, '79403': <gensim.models.keyedvectors.Vocab object at 0x7f79abf3ff28>, '71510': <gensim.models.keyedvectors.Vocab object at 0x7f79abf3ff98>, '84993A': <gensim.models.keyedvectors.Vocab object at 0x7f79abec4048>, '84993B': <gensim.models.keyedvectors.Vocab object at 0x7f79abec40b8>, '21696': <gensim.models.keyedvectors.Vocab object at 0x7f79abec4128>, '84804A': <gensim.models.keyedvectors.Vocab object at 0x7f79abec4198>, '22461': <gensim.models.keyedvectors.Vocab object at 0x7f79abec4208>, '84723': <gensim.models.keyedvectors.Vocab object at 0x7f79abec4278>, '35971': <gensim.models.keyedvectors.Vocab object at 0x7f79abec42e8>, '22057': <gensim.models.keyedvectors.Vocab object at 0x7f79abec4358>, '22449': <gensim.models.keyedvectors.Vocab object at 0x7f79abec43c8>, '21722': <gensim.models.keyedvectors.Vocab object at 0x7f79abec4438>, '22903': <gensim.models.keyedvectors.Vocab object at 0x7f79abec44a8>, '62086A': <gensim.models.keyedvectors.Vocab object at 0x7f79abec4518>, '22415': <gensim.models.keyedvectors.Vocab object at 0x7f79abec4588>, '16156L': <gensim.models.keyedvectors.Vocab object at 0x7f79abec45f8>, '21253': <gensim.models.keyedvectors.Vocab object at 0x7f79abec4668>, '85176': <gensim.models.keyedvectors.Vocab object at 0x7f79abec46d8>, '23565': <gensim.models.keyedvectors.Vocab object at 0x7f79abec4748>, '21686': <gensim.models.keyedvectors.Vocab object at 0x7f79abec47b8>, '17129F': <gensim.models.keyedvectors.Vocab object at 0x7f79abec4828>, '79144B': <gensim.models.keyedvectors.Vocab object at 0x7f79abec4898>, '47421': <gensim.models.keyedvectors.Vocab object at 0x7f79abec4908>, '21738': <gensim.models.keyedvectors.Vocab object at 0x7f79abec4978>, '79149B': <gensim.models.keyedvectors.Vocab object at 0x7f79abec49e8>, '47420': <gensim.models.keyedvectors.Vocab object at 0x7f79abec4a58>, '22976': <gensim.models.keyedvectors.Vocab object at 0x7f79abec4ac8>, '21528': <gensim.models.keyedvectors.Vocab object at 0x7f79abec4b38>, '84508B': <gensim.models.keyedvectors.Vocab object at 0x7f79abec4ba8>, '23479': <gensim.models.keyedvectors.Vocab object at 0x7f79abec4c18>, '21344': <gensim.models.keyedvectors.Vocab object at 0x7f79abec4c88>, '22108': <gensim.models.keyedvectors.Vocab object at 0x7f79abec4cf8>, '82011B': <gensim.models.keyedvectors.Vocab object at 0x7f79abec4d68>, '84510C': <gensim.models.keyedvectors.Vocab object at 0x7f79abec4dd8>, '22101': <gensim.models.keyedvectors.Vocab object at 0x7f79abec4e48>, '84422': <gensim.models.keyedvectors.Vocab object at 0x7f79abec4eb8>, '22136': <gensim.models.keyedvectors.Vocab object at 0x7f79abec4f28>, '11001': <gensim.models.keyedvectors.Vocab object at 0x7f79abec4f98>, '21364': <gensim.models.keyedvectors.Vocab object at 0x7f79abec8048>, '21723': <gensim.models.keyedvectors.Vocab object at 0x7f79abec80b8>, '84712B': <gensim.models.keyedvectors.Vocab object at 0x7f79abec8128>, '22103': <gensim.models.keyedvectors.Vocab object at 0x7f79abec8198>, '84711A': <gensim.models.keyedvectors.Vocab object at 0x7f79abec8208>, '17091A': <gensim.models.keyedvectors.Vocab object at 0x7f79abec8278>, '90185C': <gensim.models.keyedvectors.Vocab object at 0x7f79abec82e8>, '90185D': <gensim.models.keyedvectors.Vocab object at 0x7f79abec8358>, '90185A': <gensim.models.keyedvectors.Vocab object at 0x7f79abec83c8>, '22135': <gensim.models.keyedvectors.Vocab object at 0x7f79abec8438>, '23424': <gensim.models.keyedvectors.Vocab object at 0x7f79abec84a8>, '21257': <gensim.models.keyedvectors.Vocab object at 0x7f79abec8518>, '21973': <gensim.models.keyedvectors.Vocab object at 0x7f79abec8588>, '71270': <gensim.models.keyedvectors.Vocab object at 0x7f79abec85f8>, '85177': <gensim.models.keyedvectors.Vocab object at 0x7f79abec8668>, '85036A': <gensim.models.keyedvectors.Vocab object at 0x7f79abec86d8>, '22390': <gensim.models.keyedvectors.Vocab object at 0x7f79abec8748>, '84665': <gensim.models.keyedvectors.Vocab object at 0x7f79abec87b8>, '22246': <gensim.models.keyedvectors.Vocab object at 0x7f79abec8828>, '16258A': <gensim.models.keyedvectors.Vocab object at 0x7f79abec8898>, '22304': <gensim.models.keyedvectors.Vocab object at 0x7f79abec8908>, '85129D': <gensim.models.keyedvectors.Vocab object at 0x7f79abec8978>, '21446': <gensim.models.keyedvectors.Vocab object at 0x7f79abec89e8>, '10120': <gensim.models.keyedvectors.Vocab object at 0x7f79abec8a58>, '22134': <gensim.models.keyedvectors.Vocab object at 0x7f79abec8ac8>, '23482': <gensim.models.keyedvectors.Vocab object at 0x7f79abec8b38>, '35607B': <gensim.models.keyedvectors.Vocab object at 0x7f79abec8ba8>, '20823': <gensim.models.keyedvectors.Vocab object at 0x7f79abec8c18>, '20837': <gensim.models.keyedvectors.Vocab object at 0x7f79abec8c88>, '84875D': <gensim.models.keyedvectors.Vocab object at 0x7f79abec8cf8>, '84876D': <gensim.models.keyedvectors.Vocab object at 0x7f79abec8d68>, '84711B': <gensim.models.keyedvectors.Vocab object at 0x7f79abec8dd8>, '21850': <gensim.models.keyedvectors.Vocab object at 0x7f79abec8e48>, '79191D': <gensim.models.keyedvectors.Vocab object at 0x7f79abec8eb8>, '84865': <gensim.models.keyedvectors.Vocab object at 0x7f79abec8f28>, '84708B': <gensim.models.keyedvectors.Vocab object at 0x7f79abec8f98>, '84661B': <gensim.models.keyedvectors.Vocab object at 0x7f79abece048>, '84661A': <gensim.models.keyedvectors.Vocab object at 0x7f79abece0b8>, '21555': <gensim.models.keyedvectors.Vocab object at 0x7f79abece128>, '71406C': <gensim.models.keyedvectors.Vocab object at 0x7f79abece198>, '21547': <gensim.models.keyedvectors.Vocab object at 0x7f79abece208>, '22414': <gensim.models.keyedvectors.Vocab object at 0x7f79abece278>, '21143': <gensim.models.keyedvectors.Vocab object at 0x7f79abece2e8>, '21320': <gensim.models.keyedvectors.Vocab object at 0x7f79abece358>, '21319': <gensim.models.keyedvectors.Vocab object at 0x7f79abece3c8>, '85188A': <gensim.models.keyedvectors.Vocab object at 0x7f79abece438>, '20902': <gensim.models.keyedvectors.Vocab object at 0x7f79abece4a8>, '84843': <gensim.models.keyedvectors.Vocab object at 0x7f79abece518>, '37333': <gensim.models.keyedvectors.Vocab object at 0x7f79abece588>, '20821': <gensim.models.keyedvectors.Vocab object at 0x7f79abece5f8>, '23016': <gensim.models.keyedvectors.Vocab object at 0x7f79abece668>, '23179': <gensim.models.keyedvectors.Vocab object at 0x7f79abece6d8>, '37476': <gensim.models.keyedvectors.Vocab object at 0x7f79abece748>, '21654': <gensim.models.keyedvectors.Vocab object at 0x7f79abece7b8>, '90214A': <gensim.models.keyedvectors.Vocab object at 0x7f79abece828>, '90214C': <gensim.models.keyedvectors.Vocab object at 0x7f79abece898>, '90214D': <gensim.models.keyedvectors.Vocab object at 0x7f79abece908>, '90214E': <gensim.models.keyedvectors.Vocab object at 0x7f79abece978>, '90214K': <gensim.models.keyedvectors.Vocab object at 0x7f79abece9e8>, '90214L': <gensim.models.keyedvectors.Vocab object at 0x7f79abecea58>, '90214P': <gensim.models.keyedvectors.Vocab object at 0x7f79abeceac8>, '90214S': <gensim.models.keyedvectors.Vocab object at 0x7f79abeceb38>, '23533': <gensim.models.keyedvectors.Vocab object at 0x7f79abeceba8>, '21065': <gensim.models.keyedvectors.Vocab object at 0x7f79abecec18>, '22269': <gensim.models.keyedvectors.Vocab object at 0x7f79abecec88>, '22856': <gensim.models.keyedvectors.Vocab object at 0x7f79abececf8>, '84813': <gensim.models.keyedvectors.Vocab object at 0x7f79abeced68>, '23151': <gensim.models.keyedvectors.Vocab object at 0x7f79abecedd8>, '35972': <gensim.models.keyedvectors.Vocab object at 0x7f79abecee48>, '22102': <gensim.models.keyedvectors.Vocab object at 0x7f79abeceeb8>, '84741C': <gensim.models.keyedvectors.Vocab object at 0x7f79abecef28>, '35004G': <gensim.models.keyedvectors.Vocab object at 0x7f79abecef98>, '79067': <gensim.models.keyedvectors.Vocab object at 0x7f79abed1048>, '20699': <gensim.models.keyedvectors.Vocab object at 0x7f79abed10b8>, '22408': <gensim.models.keyedvectors.Vocab object at 0x7f79abed1128>, '20941': <gensim.models.keyedvectors.Vocab object at 0x7f79abed1198>, '21614': <gensim.models.keyedvectors.Vocab object at 0x7f79abed1208>, '20670': <gensim.models.keyedvectors.Vocab object at 0x7f79abed1278>, '23578': <gensim.models.keyedvectors.Vocab object at 0x7f79abed12e8>, '23580': <gensim.models.keyedvectors.Vocab object at 0x7f79abed1358>, '37489D': <gensim.models.keyedvectors.Vocab object at 0x7f79abed13c8>, '37489B': <gensim.models.keyedvectors.Vocab object at 0x7f79abed1438>, '37489A': <gensim.models.keyedvectors.Vocab object at 0x7f79abed14a8>, '37489C': <gensim.models.keyedvectors.Vocab object at 0x7f79abed1518>, '84192': <gensim.models.keyedvectors.Vocab object at 0x7f79abed1588>, '21188': <gensim.models.keyedvectors.Vocab object at 0x7f79abed15f8>, '84497': <gensim.models.keyedvectors.Vocab object at 0x7f79abed1668>, '21195': <gensim.models.keyedvectors.Vocab object at 0x7f79abed16d8>, '23478': <gensim.models.keyedvectors.Vocab object at 0x7f79abed1748>, '21458': <gensim.models.keyedvectors.Vocab object at 0x7f79abed17b8>, '21457': <gensim.models.keyedvectors.Vocab object at 0x7f79abed1828>, 'C2': <gensim.models.keyedvectors.Vocab object at 0x7f79abed1898>, '20819': <gensim.models.keyedvectors.Vocab object at 0x7f79abed1908>, '79164': <gensim.models.keyedvectors.Vocab object at 0x7f79abed1978>, '22053': <gensim.models.keyedvectors.Vocab object at 0x7f79abed19e8>, '79163': <gensim.models.keyedvectors.Vocab object at 0x7f79abed1a58>, '84951B': <gensim.models.keyedvectors.Vocab object at 0x7f79abed1ac8>, '75178': <gensim.models.keyedvectors.Vocab object at 0x7f79abed1b38>, '20735': <gensim.models.keyedvectors.Vocab object at 0x7f79abed1ba8>, '78124': <gensim.models.keyedvectors.Vocab object at 0x7f79abed1c18>, '79337': <gensim.models.keyedvectors.Vocab object at 0x7f79abed1c88>, '84924A': <gensim.models.keyedvectors.Vocab object at 0x7f79abed1cf8>, '21027': <gensim.models.keyedvectors.Vocab object at 0x7f79abed1d68>, '21427': <gensim.models.keyedvectors.Vocab object at 0x7f79abed1dd8>, '23143': <gensim.models.keyedvectors.Vocab object at 0x7f79abed1e48>, '85216': <gensim.models.keyedvectors.Vocab object at 0x7f79abed1eb8>, '84800L': <gensim.models.keyedvectors.Vocab object at 0x7f79abed1f28>, '47481': <gensim.models.keyedvectors.Vocab object at 0x7f79abed1f98>, '84452': <gensim.models.keyedvectors.Vocab object at 0x7f79abed7048>, '85188B': <gensim.models.keyedvectors.Vocab object at 0x7f79abed70b8>, '85186A': <gensim.models.keyedvectors.Vocab object at 0x7f79abed7128>, '85129C': <gensim.models.keyedvectors.Vocab object at 0x7f79abed7198>, '21420': <gensim.models.keyedvectors.Vocab object at 0x7f79abed7208>, '20868': <gensim.models.keyedvectors.Vocab object at 0x7f79abed7278>, '84006': <gensim.models.keyedvectors.Vocab object at 0x7f79abed72e8>, '84251G': <gensim.models.keyedvectors.Vocab object at 0x7f79abed7358>, '21376': <gensim.models.keyedvectors.Vocab object at 0x7f79abed73c8>, '85019C': <gensim.models.keyedvectors.Vocab object at 0x7f79abed7438>, '23021': <gensim.models.keyedvectors.Vocab object at 0x7f79abed74a8>, '22038': <gensim.models.keyedvectors.Vocab object at 0x7f79abed7518>, '84847': <gensim.models.keyedvectors.Vocab object at 0x7f79abed7588>, '20793': <gensim.models.keyedvectors.Vocab object at 0x7f79abed75f8>, '47343A': <gensim.models.keyedvectors.Vocab object at 0x7f79abed7668>, '47351B': <gensim.models.keyedvectors.Vocab object at 0x7f79abed76d8>, '21694': <gensim.models.keyedvectors.Vocab object at 0x7f79abed7748>, '90125A': <gensim.models.keyedvectors.Vocab object at 0x7f79abed77b8>, '47348A': <gensim.models.keyedvectors.Vocab object at 0x7f79abed7828>, '84926A': <gensim.models.keyedvectors.Vocab object at 0x7f79abed7898>, '84926E': <gensim.models.keyedvectors.Vocab object at 0x7f79abed7908>, '23463': <gensim.models.keyedvectors.Vocab object at 0x7f79abed7978>, '72131': <gensim.models.keyedvectors.Vocab object at 0x7f79abed79e8>, '72133': <gensim.models.keyedvectors.Vocab object at 0x7f79abed7a58>, '20781': <gensim.models.keyedvectors.Vocab object at 0x7f79abed7ac8>, '37479B': <gensim.models.keyedvectors.Vocab object at 0x7f79abed7b38>, '35922': <gensim.models.keyedvectors.Vocab object at 0x7f79abed7ba8>, '21040': <gensim.models.keyedvectors.Vocab object at 0x7f79abed7c18>, '78034B': <gensim.models.keyedvectors.Vocab object at 0x7f79abed7c88>, '21648': <gensim.models.keyedvectors.Vocab object at 0x7f79abed7cf8>, '90184C': <gensim.models.keyedvectors.Vocab object at 0x7f79abed7d68>, '90158': <gensim.models.keyedvectors.Vocab object at 0x7f79abed7dd8>, '90195A': <gensim.models.keyedvectors.Vocab object at 0x7f79abed7e48>, '90160B': <gensim.models.keyedvectors.Vocab object at 0x7f79abed7eb8>, '90178A': <gensim.models.keyedvectors.Vocab object at 0x7f79abed7f28>, '21647': <gensim.models.keyedvectors.Vocab object at 0x7f79abed7f98>, '21814': <gensim.models.keyedvectors.Vocab object at 0x7f79abedc048>, '85008': <gensim.models.keyedvectors.Vocab object at 0x7f79abedc0b8>, '23423': <gensim.models.keyedvectors.Vocab object at 0x7f79abedc128>, '23416': <gensim.models.keyedvectors.Vocab object at 0x7f79abedc198>, '85129B': <gensim.models.keyedvectors.Vocab object at 0x7f79abedc208>, '46000R': <gensim.models.keyedvectors.Vocab object at 0x7f79abedc278>, '16161G': <gensim.models.keyedvectors.Vocab object at 0x7f79abedc2e8>, '85020': <gensim.models.keyedvectors.Vocab object at 0x7f79abedc358>, '90030B': <gensim.models.keyedvectors.Vocab object at 0x7f79abedc3c8>, '20795': <gensim.models.keyedvectors.Vocab object at 0x7f79abedc438>, '20796': <gensim.models.keyedvectors.Vocab object at 0x7f79abedc4a8>, '22447': <gensim.models.keyedvectors.Vocab object at 0x7f79abedc518>, '23476': <gensim.models.keyedvectors.Vocab object at 0x7f79abedc588>, '23027': <gensim.models.keyedvectors.Vocab object at 0x7f79abedc5f8>, '21445': <gensim.models.keyedvectors.Vocab object at 0x7f79abedc668>, '23568': <gensim.models.keyedvectors.Vocab object at 0x7f79abedc6d8>, '23527': <gensim.models.keyedvectors.Vocab object at 0x7f79abedc748>, '21281': <gensim.models.keyedvectors.Vocab object at 0x7f79abedc7b8>, '23532': <gensim.models.keyedvectors.Vocab object at 0x7f79abedc828>, '72801G': <gensim.models.keyedvectors.Vocab object at 0x7f79abedc898>, '22184': <gensim.models.keyedvectors.Vocab object at 0x7f79abedc908>, '85039C': <gensim.models.keyedvectors.Vocab object at 0x7f79abedc978>, '20894': <gensim.models.keyedvectors.Vocab object at 0x7f79abedc9e8>, '84508C': <gensim.models.keyedvectors.Vocab object at 0x7f79abedca58>, '17165D': <gensim.models.keyedvectors.Vocab object at 0x7f79abedcac8>, '90082A': <gensim.models.keyedvectors.Vocab object at 0x7f79abedcb38>, '85185D': <gensim.models.keyedvectors.Vocab object at 0x7f79abedcba8>, '84760S': <gensim.models.keyedvectors.Vocab object at 0x7f79abedcc18>, '84033': <gensim.models.keyedvectors.Vocab object at 0x7f79abedcc88>, '85093': <gensim.models.keyedvectors.Vocab object at 0x7f79abedccf8>, '23074': <gensim.models.keyedvectors.Vocab object at 0x7f79abedcd68>, '46776C': <gensim.models.keyedvectors.Vocab object at 0x7f79abedcdd8>, '46776E': <gensim.models.keyedvectors.Vocab object at 0x7f79abedce48>, '46776F': <gensim.models.keyedvectors.Vocab object at 0x7f79abedceb8>, '85136A': <gensim.models.keyedvectors.Vocab object at 0x7f79abedcf28>, '21001': <gensim.models.keyedvectors.Vocab object at 0x7f79abedcf98>, '21000': <gensim.models.keyedvectors.Vocab object at 0x7f79abee0048>, '84922': <gensim.models.keyedvectors.Vocab object at 0x7f79abee00b8>, '21637': <gensim.models.keyedvectors.Vocab object at 0x7f79abee0128>, '21972': <gensim.models.keyedvectors.Vocab object at 0x7f79abee0198>, '47344B': <gensim.models.keyedvectors.Vocab object at 0x7f79abee0208>, '85024C': <gensim.models.keyedvectors.Vocab object at 0x7f79abee0278>, '21357': <gensim.models.keyedvectors.Vocab object at 0x7f79abee02e8>, '21196': <gensim.models.keyedvectors.Vocab object at 0x7f79abee0358>, '90209C': <gensim.models.keyedvectors.Vocab object at 0x7f79abee03c8>, '90209B': <gensim.models.keyedvectors.Vocab object at 0x7f79abee0438>, '90209A': <gensim.models.keyedvectors.Vocab object at 0x7f79abee04a8>, '85055': <gensim.models.keyedvectors.Vocab object at 0x7f79abee0518>, '21421': <gensim.models.keyedvectors.Vocab object at 0x7f79abee0588>, '21633': <gensim.models.keyedvectors.Vocab object at 0x7f79abee05f8>, '21910': <gensim.models.keyedvectors.Vocab object at 0x7f79abee0668>, '21628': <gensim.models.keyedvectors.Vocab object at 0x7f79abee06d8>, '85130A': <gensim.models.keyedvectors.Vocab object at 0x7f79abee0748>, '85131D': <gensim.models.keyedvectors.Vocab object at 0x7f79abee07b8>, '21366': <gensim.models.keyedvectors.Vocab object at 0x7f79abee0828>, '23045': <gensim.models.keyedvectors.Vocab object at 0x7f79abee0898>, '21643': <gensim.models.keyedvectors.Vocab object at 0x7f79abee0908>, '17090D': <gensim.models.keyedvectors.Vocab object at 0x7f79abee0978>, '17090A': <gensim.models.keyedvectors.Vocab object at 0x7f79abee09e8>, '22828': <gensim.models.keyedvectors.Vocab object at 0x7f79abee0a58>, '90063A': <gensim.models.keyedvectors.Vocab object at 0x7f79abee0ac8>, '90210B': <gensim.models.keyedvectors.Vocab object at 0x7f79abee0b38>, '20694': <gensim.models.keyedvectors.Vocab object at 0x7f79abee0ba8>, '84508A': <gensim.models.keyedvectors.Vocab object at 0x7f79abee0c18>, '85096': <gensim.models.keyedvectors.Vocab object at 0x7f79abee0c88>, '84846A': <gensim.models.keyedvectors.Vocab object at 0x7f79abee0cf8>, '79191B': <gensim.models.keyedvectors.Vocab object at 0x7f79abee0d68>, '20857': <gensim.models.keyedvectors.Vocab object at 0x7f79abee0dd8>, '72225C': <gensim.models.keyedvectors.Vocab object at 0x7f79abee0e48>, '85067': <gensim.models.keyedvectors.Vocab object at 0x7f79abee0eb8>, '85086A': <gensim.models.keyedvectors.Vocab object at 0x7f79abee0f28>, '84926D': <gensim.models.keyedvectors.Vocab object at 0x7f79abee0f98>, '90014B': <gensim.models.keyedvectors.Vocab object at 0x7f79abee5048>, '23305': <gensim.models.keyedvectors.Vocab object at 0x7f79abee50b8>, '84231': <gensim.models.keyedvectors.Vocab object at 0x7f79abee5128>, '84465': <gensim.models.keyedvectors.Vocab object at 0x7f79abee5198>, '71496A': <gensim.models.keyedvectors.Vocab object at 0x7f79abee5208>, '71495B': <gensim.models.keyedvectors.Vocab object at 0x7f79abee5278>, '22504': <gensim.models.keyedvectors.Vocab object at 0x7f79abee52e8>, '90030A': <gensim.models.keyedvectors.Vocab object at 0x7f79abee5358>, '21209': <gensim.models.keyedvectors.Vocab object at 0x7f79abee53c8>, '35598B': <gensim.models.keyedvectors.Vocab object at 0x7f79abee5438>, '84989A': <gensim.models.keyedvectors.Vocab object at 0x7f79abee54a8>, '84931B': <gensim.models.keyedvectors.Vocab object at 0x7f79abee5518>, '21413': <gensim.models.keyedvectors.Vocab object at 0x7f79abee5588>, '20933': <gensim.models.keyedvectors.Vocab object at 0x7f79abee55f8>, '72130': <gensim.models.keyedvectors.Vocab object at 0x7f79abee5668>, '22803': <gensim.models.keyedvectors.Vocab object at 0x7f79abee56d8>, '21031': <gensim.models.keyedvectors.Vocab object at 0x7f79abee5748>, '21025': <gensim.models.keyedvectors.Vocab object at 0x7f79abee57b8>, '23561': <gensim.models.keyedvectors.Vocab object at 0x7f79abee5828>, '47310M': <gensim.models.keyedvectors.Vocab object at 0x7f79abee5898>, '21426': <gensim.models.keyedvectors.Vocab object at 0x7f79abee5908>, '21629': <gensim.models.keyedvectors.Vocab object at 0x7f79abee5978>, '84313C': <gensim.models.keyedvectors.Vocab object at 0x7f79abee59e8>, '84596J': <gensim.models.keyedvectors.Vocab object at 0x7f79abee5a58>, '85027L': <gensim.models.keyedvectors.Vocab object at 0x7f79abee5ac8>, '84927A': <gensim.models.keyedvectors.Vocab object at 0x7f79abee5b38>, '84927F': <gensim.models.keyedvectors.Vocab object at 0x7f79abee5ba8>, '90010A': <gensim.models.keyedvectors.Vocab object at 0x7f79abee5c18>, '90123A': <gensim.models.keyedvectors.Vocab object at 0x7f79abee5c88>, '35921': <gensim.models.keyedvectors.Vocab object at 0x7f79abee5cf8>, '35914': <gensim.models.keyedvectors.Vocab object at 0x7f79abee5d68>, '47369A': <gensim.models.keyedvectors.Vocab object at 0x7f79abee5dd8>, '21898': <gensim.models.keyedvectors.Vocab object at 0x7f79abee5e48>, '90094': <gensim.models.keyedvectors.Vocab object at 0x7f79abee5eb8>, '84898F': <gensim.models.keyedvectors.Vocab object at 0x7f79abee5f28>, '22105': <gensim.models.keyedvectors.Vocab object at 0x7f79abee5f98>, '71050': <gensim.models.keyedvectors.Vocab object at 0x7f79abeea048>, '84926F': <gensim.models.keyedvectors.Vocab object at 0x7f79abeea0b8>, '21190': <gensim.models.keyedvectors.Vocab object at 0x7f79abeea128>, '23477': <gensim.models.keyedvectors.Vocab object at 0x7f79abeea198>, '21157': <gensim.models.keyedvectors.Vocab object at 0x7f79abeea208>, '85168B': <gensim.models.keyedvectors.Vocab object at 0x7f79abeea278>, '79030D': <gensim.models.keyedvectors.Vocab object at 0x7f79abeea2e8>, '17013D': <gensim.models.keyedvectors.Vocab object at 0x7f79abeea358>, '17096': <gensim.models.keyedvectors.Vocab object at 0x7f79abeea3c8>, '17021': <gensim.models.keyedvectors.Vocab object at 0x7f79abeea438>, '85163A': <gensim.models.keyedvectors.Vocab object at 0x7f79abeea4a8>, '21375': <gensim.models.keyedvectors.Vocab object at 0x7f79abeea518>, '21750': <gensim.models.keyedvectors.Vocab object at 0x7f79abeea588>, '84927E': <gensim.models.keyedvectors.Vocab object at 0x7f79abeea5f8>, '22391': <gensim.models.keyedvectors.Vocab object at 0x7f79abeea668>, '35400': <gensim.models.keyedvectors.Vocab object at 0x7f79abeea6d8>, '35443': <gensim.models.keyedvectors.Vocab object at 0x7f79abeea748>, '84952B': <gensim.models.keyedvectors.Vocab object at 0x7f79abeea7b8>, '84466': <gensim.models.keyedvectors.Vocab object at 0x7f79abeea828>, '85135A': <gensim.models.keyedvectors.Vocab object at 0x7f79abeea898>, '46776A': <gensim.models.keyedvectors.Vocab object at 0x7f79abeea908>, '90014A': <gensim.models.keyedvectors.Vocab object at 0x7f79abeea978>, '90019A': <gensim.models.keyedvectors.Vocab object at 0x7f79abeea9e8>, '22503': <gensim.models.keyedvectors.Vocab object at 0x7f79abeeaa58>, '21289': <gensim.models.keyedvectors.Vocab object at 0x7f79abeeaac8>, '84906': <gensim.models.keyedvectors.Vocab object at 0x7f79abeeab38>, '46000U': <gensim.models.keyedvectors.Vocab object at 0x7f79abeeaba8>, '90120C': <gensim.models.keyedvectors.Vocab object at 0x7f79abeeac18>, '22882': <gensim.models.keyedvectors.Vocab object at 0x7f79abeeac88>, '20898': <gensim.models.keyedvectors.Vocab object at 0x7f79abeeacf8>, '22166': <gensim.models.keyedvectors.Vocab object at 0x7f79abeead68>, '85146': <gensim.models.keyedvectors.Vocab object at 0x7f79abeeadd8>, '46126A': <gensim.models.keyedvectors.Vocab object at 0x7f79abeeae48>, '84631': <gensim.models.keyedvectors.Vocab object at 0x7f79abeeaeb8>, '21279': <gensim.models.keyedvectors.Vocab object at 0x7f79abeeaf28>, '85084': <gensim.models.keyedvectors.Vocab object at 0x7f79abeeaf98>, '85028S': <gensim.models.keyedvectors.Vocab object at 0x7f79abeee048>, '47021G': <gensim.models.keyedvectors.Vocab object at 0x7f79abeee0b8>, '21815': <gensim.models.keyedvectors.Vocab object at 0x7f79abeee128>, '90175C': <gensim.models.keyedvectors.Vocab object at 0x7f79abeee198>, '90198A': <gensim.models.keyedvectors.Vocab object at 0x7f79abeee208>, '21816': <gensim.models.keyedvectors.Vocab object at 0x7f79abeee278>, '21473': <gensim.models.keyedvectors.Vocab object at 0x7f79abeee2e8>, '85215': <gensim.models.keyedvectors.Vocab object at 0x7f79abeee358>, '84685': <gensim.models.keyedvectors.Vocab object at 0x7f79abeee3c8>, '84688': <gensim.models.keyedvectors.Vocab object at 0x7f79abeee438>, '20845': <gensim.models.keyedvectors.Vocab object at 0x7f79abeee4a8>, '90214M': <gensim.models.keyedvectors.Vocab object at 0x7f79abeee518>, '90214G': <gensim.models.keyedvectors.Vocab object at 0x7f79abeee588>, '90214H': <gensim.models.keyedvectors.Vocab object at 0x7f79abeee5f8>, '90214J': <gensim.models.keyedvectors.Vocab object at 0x7f79abeee668>, '90214N': <gensim.models.keyedvectors.Vocab object at 0x7f79abeee6d8>, '17011F': <gensim.models.keyedvectors.Vocab object at 0x7f79abeee748>, '51020B': <gensim.models.keyedvectors.Vocab object at 0x7f79abeee7b8>, '51020A': <gensim.models.keyedvectors.Vocab object at 0x7f79abeee828>, '21332': <gensim.models.keyedvectors.Vocab object at 0x7f79abeee898>, '35924': <gensim.models.keyedvectors.Vocab object at 0x7f79abeee908>, '23567': <gensim.models.keyedvectors.Vocab object at 0x7f79abeee978>, '84816': <gensim.models.keyedvectors.Vocab object at 0x7f79abeee9e8>, '90099': <gensim.models.keyedvectors.Vocab object at 0x7f79abeeea58>, '84857C': <gensim.models.keyedvectors.Vocab object at 0x7f79abeeeac8>, '20798': <gensim.models.keyedvectors.Vocab object at 0x7f79abeeeb38>, '84352': <gensim.models.keyedvectors.Vocab object at 0x7f79abeeeba8>, '85045': <gensim.models.keyedvectors.Vocab object at 0x7f79abeeec18>, '47422': <gensim.models.keyedvectors.Vocab object at 0x7f79abeeec88>, '20662': <gensim.models.keyedvectors.Vocab object at 0x7f79abeeecf8>, '22137': <gensim.models.keyedvectors.Vocab object at 0x7f79abeeed68>, '84462': <gensim.models.keyedvectors.Vocab object at 0x7f79abeeedd8>, '84228': <gensim.models.keyedvectors.Vocab object at 0x7f79abeeee48>, '84226': <gensim.models.keyedvectors.Vocab object at 0x7f79abeeeeb8>, '35913B': <gensim.models.keyedvectors.Vocab object at 0x7f79abeeef28>, '21460': <gensim.models.keyedvectors.Vocab object at 0x7f79abeeef98>, '21461': <gensim.models.keyedvectors.Vocab object at 0x7f79abef3048>, '22884': <gensim.models.keyedvectors.Vocab object at 0x7f79abef30b8>, '21003': <gensim.models.keyedvectors.Vocab object at 0x7f79abef3128>, '22886': <gensim.models.keyedvectors.Vocab object at 0x7f79abef3198>, '22889': <gensim.models.keyedvectors.Vocab object at 0x7f79abef3208>, '35833P': <gensim.models.keyedvectors.Vocab object at 0x7f79abef3278>, '35815P': <gensim.models.keyedvectors.Vocab object at 0x7f79abef32e8>, '85095': <gensim.models.keyedvectors.Vocab object at 0x7f79abef3358>, '72132': <gensim.models.keyedvectors.Vocab object at 0x7f79abef33c8>, '72134': <gensim.models.keyedvectors.Vocab object at 0x7f79abef3438>, '23303': <gensim.models.keyedvectors.Vocab object at 0x7f79abef34a8>, '16254': <gensim.models.keyedvectors.Vocab object at 0x7f79abef3518>, '90201B': <gensim.models.keyedvectors.Vocab object at 0x7f79abef3588>, '85145': <gensim.models.keyedvectors.Vocab object at 0x7f79abef35f8>, '84360': <gensim.models.keyedvectors.Vocab object at 0x7f79abef3668>, '35957': <gensim.models.keyedvectors.Vocab object at 0x7f79abef36d8>, '78033': <gensim.models.keyedvectors.Vocab object at 0x7f79abef3748>, '85103': <gensim.models.keyedvectors.Vocab object at 0x7f79abef37b8>, '84616': <gensim.models.keyedvectors.Vocab object at 0x7f79abef3828>, '22458': <gensim.models.keyedvectors.Vocab object at 0x7f79abef3898>, '22459': <gensim.models.keyedvectors.Vocab object at 0x7f79abef3908>, '75013B': <gensim.models.keyedvectors.Vocab object at 0x7f79abef3978>, '22263': <gensim.models.keyedvectors.Vocab object at 0x7f79abef39e8>, '90064B': <gensim.models.keyedvectors.Vocab object at 0x7f79abef3a58>, '90063B': <gensim.models.keyedvectors.Vocab object at 0x7f79abef3ac8>, '90194': <gensim.models.keyedvectors.Vocab object at 0x7f79abef3b38>, '90010E': <gensim.models.keyedvectors.Vocab object at 0x7f79abef3ba8>, '23410': <gensim.models.keyedvectors.Vocab object at 0x7f79abef3c18>, '21736': <gensim.models.keyedvectors.Vocab object at 0x7f79abef3c88>, '21032': <gensim.models.keyedvectors.Vocab object at 0x7f79abef3cf8>, '84598': <gensim.models.keyedvectors.Vocab object at 0x7f79abef3d68>, '84800S': <gensim.models.keyedvectors.Vocab object at 0x7f79abef3dd8>, '21275': <gensim.models.keyedvectors.Vocab object at 0x7f79abef3e48>, '84985A': <gensim.models.keyedvectors.Vocab object at 0x7f79abef3eb8>, '85118': <gensim.models.keyedvectors.Vocab object at 0x7f79abef3f28>, '20869': <gensim.models.keyedvectors.Vocab object at 0x7f79abef3f98>, '85031A': <gensim.models.keyedvectors.Vocab object at 0x7f79abef7048>, '79144C': <gensim.models.keyedvectors.Vocab object at 0x7f79abef70b8>, '21100': <gensim.models.keyedvectors.Vocab object at 0x7f79abef7128>, '16046': <gensim.models.keyedvectors.Vocab object at 0x7f79abef7198>, '90093': <gensim.models.keyedvectors.Vocab object at 0x7f79abef7208>, '84199': <gensim.models.keyedvectors.Vocab object at 0x7f79abef7278>, '20661': <gensim.models.keyedvectors.Vocab object at 0x7f79abef72e8>, '62096A': <gensim.models.keyedvectors.Vocab object at 0x7f79abef7358>, '23024': <gensim.models.keyedvectors.Vocab object at 0x7f79abef73c8>, '47341A': <gensim.models.keyedvectors.Vocab object at 0x7f79abef7438>, '84597B': <gensim.models.keyedvectors.Vocab object at 0x7f79abef74a8>, '75011': <gensim.models.keyedvectors.Vocab object at 0x7f79abef7518>, '21370': <gensim.models.keyedvectors.Vocab object at 0x7f79abef7588>, '21331': <gensim.models.keyedvectors.Vocab object at 0x7f79abef75f8>, '21847': <gensim.models.keyedvectors.Vocab object at 0x7f79abef7668>, '84804B': <gensim.models.keyedvectors.Vocab object at 0x7f79abef76d8>, '21392': <gensim.models.keyedvectors.Vocab object at 0x7f79abef7748>, '21278': <gensim.models.keyedvectors.Vocab object at 0x7f79abef77b8>, '22769': <gensim.models.keyedvectors.Vocab object at 0x7f79abef7828>, '90101': <gensim.models.keyedvectors.Vocab object at 0x7f79abef7898>, '21117': <gensim.models.keyedvectors.Vocab object at 0x7f79abef7908>, '90003C': <gensim.models.keyedvectors.Vocab object at 0x7f79abef7978>, '90174': <gensim.models.keyedvectors.Vocab object at 0x7f79abef79e8>, '90208': <gensim.models.keyedvectors.Vocab object at 0x7f79abef7a58>, '90205A': <gensim.models.keyedvectors.Vocab object at 0x7f79abef7ac8>, '90022': <gensim.models.keyedvectors.Vocab object at 0x7f79abef7b38>, '90018A': <gensim.models.keyedvectors.Vocab object at 0x7f79abef7ba8>, '90183A': <gensim.models.keyedvectors.Vocab object at 0x7f79abef7c18>, '90166': <gensim.models.keyedvectors.Vocab object at 0x7f79abef7c88>, '85161': <gensim.models.keyedvectors.Vocab object at 0x7f79abef7cf8>, '20826': <gensim.models.keyedvectors.Vocab object at 0x7f79abef7d68>, '90164B': <gensim.models.keyedvectors.Vocab object at 0x7f79abef7dd8>, '84801A': <gensim.models.keyedvectors.Vocab object at 0x7f79abef7e48>, '90162C': <gensim.models.keyedvectors.Vocab object at 0x7f79abef7eb8>, '90161B': <gensim.models.keyedvectors.Vocab object at 0x7f79abef7f28>, '90032': <gensim.models.keyedvectors.Vocab object at 0x7f79abef7f98>, '90175A': <gensim.models.keyedvectors.Vocab object at 0x7f79abefd048>, '21630': <gensim.models.keyedvectors.Vocab object at 0x7f79abefd0b8>, '84388': <gensim.models.keyedvectors.Vocab object at 0x7f79abefd128>, '90200C': <gensim.models.keyedvectors.Vocab object at 0x7f79abefd198>, '90082B': <gensim.models.keyedvectors.Vocab object at 0x7f79abefd208>, '85131C': <gensim.models.keyedvectors.Vocab object at 0x7f79abefd278>, '16207A': <gensim.models.keyedvectors.Vocab object at 0x7f79abefd2e8>, '44236': <gensim.models.keyedvectors.Vocab object at 0x7f79abefd358>, '84809A': <gensim.models.keyedvectors.Vocab object at 0x7f79abefd3c8>, '22880': <gensim.models.keyedvectors.Vocab object at 0x7f79abefd438>, '84915': <gensim.models.keyedvectors.Vocab object at 0x7f79abefd4a8>, '84313B': <gensim.models.keyedvectors.Vocab object at 0x7f79abefd518>, '22830': <gensim.models.keyedvectors.Vocab object at 0x7f79abefd588>, '84921': <gensim.models.keyedvectors.Vocab object at 0x7f79abefd5f8>, '90087': <gensim.models.keyedvectors.Vocab object at 0x7f79abefd668>, '84881': <gensim.models.keyedvectors.Vocab object at 0x7f79abefd6d8>, '90154': <gensim.models.keyedvectors.Vocab object at 0x7f79abefd748>, '90016B': <gensim.models.keyedvectors.Vocab object at 0x7f79abefd7b8>, '21777': <gensim.models.keyedvectors.Vocab object at 0x7f79abefd828>, '90125D': <gensim.models.keyedvectors.Vocab object at 0x7f79abefd898>, '84358': <gensim.models.keyedvectors.Vocab object at 0x7f79abefd908>, '21785': <gensim.models.keyedvectors.Vocab object at 0x7f79abefd978>, '35001W': <gensim.models.keyedvectors.Vocab object at 0x7f79abefd9e8>, '84984B': <gensim.models.keyedvectors.Vocab object at 0x7f79abefda58>, '84984A': <gensim.models.keyedvectors.Vocab object at 0x7f79abefdac8>, '22887': <gensim.models.keyedvectors.Vocab object at 0x7f79abefdb38>, 'DOT': <gensim.models.keyedvectors.Vocab object at 0x7f79abefdba8>, 'CRUK': <gensim.models.keyedvectors.Vocab object at 0x7f79abefdc18>, '85131B': <gensim.models.keyedvectors.Vocab object at 0x7f79abefdc88>, '21651': <gensim.models.keyedvectors.Vocab object at 0x7f79abefdcf8>, '90062': <gensim.models.keyedvectors.Vocab object at 0x7f79abefdd68>, '90002D': <gensim.models.keyedvectors.Vocab object at 0x7f79abefddd8>, '90180A': <gensim.models.keyedvectors.Vocab object at 0x7f79abefde48>, '79406': <gensim.models.keyedvectors.Vocab object at 0x7f79abefdeb8>, '22885': <gensim.models.keyedvectors.Vocab object at 0x7f79abefdf28>, '22888': <gensim.models.keyedvectors.Vocab object at 0x7f79abefdf98>, '22883': <gensim.models.keyedvectors.Vocab object at 0x7f79abf01048>, '90036E': <gensim.models.keyedvectors.Vocab object at 0x7f79abf010b8>, '22879': <gensim.models.keyedvectors.Vocab object at 0x7f79abf01128>, '22881': <gensim.models.keyedvectors.Vocab object at 0x7f79abf01198>, '21655': <gensim.models.keyedvectors.Vocab object at 0x7f79abf01208>}\n"
          ],
          "name": "stdout"
        }
      ]
    },
    {
      "cell_type": "code",
      "metadata": {
        "id": "FJYorv2sn7EU",
        "colab_type": "code",
        "colab": {
          "base_uri": "https://localhost:8080/",
          "height": 34
        },
        "outputId": "b995b143-944d-49d7-ca8d-eb1743cd7dd8"
      },
      "source": [
        "len(model_ft1.wv.vocab)"
      ],
      "execution_count": 11,
      "outputs": [
        {
          "output_type": "execute_result",
          "data": {
            "text/plain": [
              "3166"
            ]
          },
          "metadata": {
            "tags": []
          },
          "execution_count": 11
        }
      ]
    },
    {
      "cell_type": "code",
      "metadata": {
        "id": "SlUZ5KdSxBpm",
        "colab_type": "code",
        "colab": {
          "base_uri": "https://localhost:8080/",
          "height": 374
        },
        "outputId": "eb7b349a-1117-40c0-9dc9-b4e4aa417238"
      },
      "source": [
        "#vecor generation of OOV word - '223'\n",
        "model_ft1.wv['223']"
      ],
      "execution_count": 41,
      "outputs": [
        {
          "output_type": "execute_result",
          "data": {
            "text/plain": [
              "array([ 0.10780898,  0.02379345,  0.24381813, -0.1810097 ,  0.39799792,\n",
              "       -0.35593486, -0.30882436, -0.3203495 ,  0.19878344, -0.07930217,\n",
              "       -0.5926933 ,  0.22492845, -0.32344526, -0.20594855, -0.05187982,\n",
              "        0.2834144 ,  0.39920154, -0.3867058 , -0.4875937 ,  0.5943383 ,\n",
              "        0.34115335,  0.2801796 , -0.2013565 , -0.4966342 , -0.33257365,\n",
              "       -0.6503319 , -0.3425983 ,  0.09704764, -0.50091165,  0.44542304,\n",
              "        0.18422768,  0.3523599 , -0.7297348 , -0.05687434,  0.05526253,\n",
              "       -0.0133943 , -0.5796224 , -0.38236433,  0.02465176, -0.36179033,\n",
              "        0.8984677 , -0.05636077,  0.48756924, -0.66192424, -0.26651213,\n",
              "        0.55924475, -0.38494468, -0.01153407, -0.20213623,  0.30762795,\n",
              "        0.16263883, -0.3342946 , -0.2178314 ,  0.03622901,  0.19861385,\n",
              "       -0.8463556 , -0.09217465,  0.44723564,  0.54110473, -0.53130424,\n",
              "        0.3783105 ,  0.21136162, -0.38514787,  0.70756876,  0.12324899,\n",
              "       -0.06053498,  0.47133428, -0.47277555,  0.8583809 ,  0.5516847 ,\n",
              "       -0.9737007 , -0.79805434,  0.6105423 , -0.77489394, -0.539034  ,\n",
              "        0.04438996,  0.5066781 , -0.5337705 , -0.17673838, -0.51499856,\n",
              "        0.03392678, -0.08400466, -0.59910935,  0.5072795 , -0.04973459,\n",
              "       -0.3498035 ,  0.2105943 , -0.01699097,  0.27403247, -0.3965095 ,\n",
              "        0.6574524 ,  0.6381804 ,  0.23354638, -0.6124598 ,  0.29152933,\n",
              "        0.11722914,  0.28602025, -0.72714275, -0.48822227,  0.36108145],\n",
              "      dtype=float32)"
            ]
          },
          "metadata": {
            "tags": []
          },
          "execution_count": 41
        }
      ]
    },
    {
      "cell_type": "code",
      "metadata": {
        "colab_type": "code",
        "id": "tUohzMzCnuqe",
        "colab": {
          "base_uri": "https://localhost:8080/",
          "height": 238
        },
        "outputId": "683aa2bb-9b57-4b84-9c44-eb7cb102c29e"
      },
      "source": [
        "#returnable full-word vectors for in-vocabulary word -- Word vector + vectors of all sub words\n",
        "print(model_ft1.wv.vectors)"
      ],
      "execution_count": 42,
      "outputs": [
        {
          "output_type": "stream",
          "text": [
            "[[ 0.43271866  0.06394319  0.34645814 ... -0.06326876 -0.3624925\n",
            "   0.15769596]\n",
            " [ 0.0244501   0.11454512  0.04364393 ... -0.5544084  -0.29594764\n",
            "  -0.08164983]\n",
            " [ 0.27556044  0.45231375  0.23589012 ... -0.7649995  -0.07082011\n",
            "  -0.22541152]\n",
            " ...\n",
            " [ 0.05737849  0.06004256  0.09727194 ... -0.00937042 -0.1264495\n",
            "   0.29602954]\n",
            " [ 0.20816578 -0.12486792  0.13497297 ...  0.21093062 -0.16666378\n",
            "   0.09666897]\n",
            " [-0.46615055  0.2112892  -0.31255183 ... -0.21732171 -0.2733983\n",
            "   0.35777235]]\n"
          ],
          "name": "stdout"
        }
      ]
    },
    {
      "cell_type": "code",
      "metadata": {
        "id": "Kbi67r4myocW",
        "colab_type": "code",
        "colab": {
          "base_uri": "https://localhost:8080/",
          "height": 238
        },
        "outputId": "cbdbc08c-5eb3-4089-8a8f-28cf09c4dead"
      },
      "source": [
        "#returnable n-gram vectors of the subwords\n",
        "print(model_ft1.wv.vectors_ngrams)"
      ],
      "execution_count": 43,
      "outputs": [
        {
          "output_type": "stream",
          "text": [
            "[[-0.3400945  -0.9869645  -0.33053273 ... -2.3845775  -2.5114603\n",
            "   0.91151047]\n",
            " [ 0.59482783  0.7331365   0.6599888  ... -1.171346   -0.7993546\n",
            "   0.17640893]\n",
            " [-0.00598138  0.1336175   0.47039285 ...  0.27845624  0.67094195\n",
            "   0.41243133]\n",
            " ...\n",
            " [-0.5543247   0.31902528 -0.4360616  ... -0.23024638 -0.1520488\n",
            "   0.2503129 ]\n",
            " [-0.5457327   0.31735796 -0.45115718 ... -0.23757641 -0.1496622\n",
            "   0.24687672]\n",
            " [-0.5595401   0.32008213 -0.44470707 ... -0.24142613 -0.13993523\n",
            "   0.24718228]]\n"
          ],
          "name": "stdout"
        }
      ]
    },
    {
      "cell_type": "code",
      "metadata": {
        "id": "d1NSUfEpyz76",
        "colab_type": "code",
        "colab": {
          "base_uri": "https://localhost:8080/",
          "height": 34
        },
        "outputId": "bfec78fe-5fc8-4422-e005-c2a3b03d8b6d"
      },
      "source": [
        "#Shape the n grams vectors \n",
        "model_ft1.wv.vectors_ngrams.shape"
      ],
      "execution_count": 44,
      "outputs": [
        {
          "output_type": "execute_result",
          "data": {
            "text/plain": [
              "(20378, 100)"
            ]
          },
          "metadata": {
            "tags": []
          },
          "execution_count": 44
        }
      ]
    },
    {
      "cell_type": "code",
      "metadata": {
        "id": "zrelGc3TLEIw",
        "colab_type": "code",
        "colab": {
          "base_uri": "https://localhost:8080/",
          "height": 34
        },
        "outputId": "79ffe0bd-345f-463c-df18-84d2b39d7e69"
      },
      "source": [
        "model_ft1.wv.vectors.shape"
      ],
      "execution_count": 29,
      "outputs": [
        {
          "output_type": "execute_result",
          "data": {
            "text/plain": [
              "(3166, 100)"
            ]
          },
          "metadata": {
            "tags": []
          },
          "execution_count": 29
        }
      ]
    },
    {
      "cell_type": "code",
      "metadata": {
        "id": "9knbFzvDhaTW",
        "colab_type": "code",
        "colab": {
          "base_uri": "https://localhost:8080/",
          "height": 34
        },
        "outputId": "e65f2593-2af4-46e8-b7e8-1c42c9a2e369"
      },
      "source": [
        "#Visualize the embeddings\n",
        "#use tsne\n",
        "X_pca=model_ft1.wv.vectors\n",
        "from sklearn.manifold import TSNE\n",
        "tsne=TSNE(n_components=2).fit_transform(X_pca)\n",
        "tsne.shape"
      ],
      "execution_count": 27,
      "outputs": [
        {
          "output_type": "execute_result",
          "data": {
            "text/plain": [
              "(3166, 2)"
            ]
          },
          "metadata": {
            "tags": []
          },
          "execution_count": 27
        }
      ]
    },
    {
      "cell_type": "code",
      "metadata": {
        "id": "rJbae3UKh6zZ",
        "colab_type": "code",
        "colab": {}
      },
      "source": [
        "vocab1=list(model_ft.wv.vocab)\n",
        "df2 = pd.DataFrame(tsne, index=vocab1,columns=['X','Y'])"
      ],
      "execution_count": null,
      "outputs": []
    },
    {
      "cell_type": "code",
      "metadata": {
        "id": "IyKMuhGEiMQN",
        "colab_type": "code",
        "colab": {
          "base_uri": "https://localhost:8080/",
          "height": 265
        },
        "outputId": "b04bc023-b90d-4b82-f341-1d3e543fbb58"
      },
      "source": [
        "#Visualize the TSNE plot\n",
        "import matplotlib.pyplot as plt\n",
        "fig=plt.figure()\n",
        "ax=fig.add_subplot(111)\n",
        "#%matplotlib inline\n",
        "ax.scatter(df2['X'],df2['Y'],c=df2['X'],cmap='Spectral')\n",
        "#label the data\n",
        "#ax.set_xlim(-40,40)\n",
        "#ax.set_ylim(-30,30)\n",
        "plt.show()"
      ],
      "execution_count": null,
      "outputs": [
        {
          "output_type": "display_data",
          "data": {
            "image/png": "[encoded data removed]",
            "text/plain": [
              "<Figure size 432x288 with 1 Axes>"
            ]
          },
          "metadata": {
            "tags": [],
            "needs_background": "light"
          }
        }
      ]
    },
    {
      "cell_type": "code",
      "metadata": {
        "id": "IqZcxDaLR_Y6",
        "colab_type": "code",
        "colab": {}
      },
      "source": [
        "#Lets start recommending products\n",
        "products = train_df[[\"StockCode\", \"Description\"]]"
      ],
      "execution_count": null,
      "outputs": []
    },
    {
      "cell_type": "code",
      "metadata": {
        "id": "75elQtqrR_Y9",
        "colab_type": "code",
        "colab": {
          "base_uri": "https://localhost:8080/",
          "height": 419
        },
        "outputId": "c07944be-98e6-4cfe-e64c-eaacb90e6908"
      },
      "source": [
        "products"
      ],
      "execution_count": null,
      "outputs": [
        {
          "output_type": "execute_result",
          "data": {
            "text/html": [
              "<div>\n",
              "<style scoped>\n",
              "    .dataframe tbody tr th:only-of-type {\n",
              "        vertical-align: middle;\n",
              "    }\n",
              "\n",
              "    .dataframe tbody tr th {\n",
              "        vertical-align: top;\n",
              "    }\n",
              "\n",
              "    .dataframe thead th {\n",
              "        text-align: right;\n",
              "    }\n",
              "</style>\n",
              "<table border=\"1\" class=\"dataframe\">\n",
              "  <thead>\n",
              "    <tr style=\"text-align: right;\">\n",
              "      <th></th>\n",
              "      <th>StockCode</th>\n",
              "      <th>Description</th>\n",
              "    </tr>\n",
              "  </thead>\n",
              "  <tbody>\n",
              "    <tr>\n",
              "      <th>9</th>\n",
              "      <td>84879</td>\n",
              "      <td>ASSORTED COLOUR BIRD ORNAMENT</td>\n",
              "    </tr>\n",
              "    <tr>\n",
              "      <th>10</th>\n",
              "      <td>22745</td>\n",
              "      <td>POPPY'S PLAYHOUSE BEDROOM</td>\n",
              "    </tr>\n",
              "    <tr>\n",
              "      <th>11</th>\n",
              "      <td>22748</td>\n",
              "      <td>POPPY'S PLAYHOUSE KITCHEN</td>\n",
              "    </tr>\n",
              "    <tr>\n",
              "      <th>12</th>\n",
              "      <td>22749</td>\n",
              "      <td>FELTCRAFT PRINCESS CHARLOTTE DOLL</td>\n",
              "    </tr>\n",
              "    <tr>\n",
              "      <th>13</th>\n",
              "      <td>22310</td>\n",
              "      <td>IVORY KNITTED MUG COSY</td>\n",
              "    </tr>\n",
              "    <tr>\n",
              "      <th>...</th>\n",
              "      <td>...</td>\n",
              "      <td>...</td>\n",
              "    </tr>\n",
              "    <tr>\n",
              "      <th>541904</th>\n",
              "      <td>22613</td>\n",
              "      <td>PACK OF 20 SPACEBOY NAPKINS</td>\n",
              "    </tr>\n",
              "    <tr>\n",
              "      <th>541905</th>\n",
              "      <td>22899</td>\n",
              "      <td>CHILDREN'S APRON DOLLY GIRL</td>\n",
              "    </tr>\n",
              "    <tr>\n",
              "      <th>541906</th>\n",
              "      <td>23254</td>\n",
              "      <td>CHILDRENS CUTLERY DOLLY GIRL</td>\n",
              "    </tr>\n",
              "    <tr>\n",
              "      <th>541907</th>\n",
              "      <td>23255</td>\n",
              "      <td>CHILDRENS CUTLERY CIRCUS PARADE</td>\n",
              "    </tr>\n",
              "    <tr>\n",
              "      <th>541908</th>\n",
              "      <td>22138</td>\n",
              "      <td>BAKING SET 9 PIECE RETROSPOT</td>\n",
              "    </tr>\n",
              "  </tbody>\n",
              "</table>\n",
              "<p>364125 rows × 2 columns</p>\n",
              "</div>"
            ],
            "text/plain": [
              "       StockCode                        Description\n",
              "9          84879      ASSORTED COLOUR BIRD ORNAMENT\n",
              "10         22745         POPPY'S PLAYHOUSE BEDROOM \n",
              "11         22748          POPPY'S PLAYHOUSE KITCHEN\n",
              "12         22749  FELTCRAFT PRINCESS CHARLOTTE DOLL\n",
              "13         22310            IVORY KNITTED MUG COSY \n",
              "...          ...                                ...\n",
              "541904     22613        PACK OF 20 SPACEBOY NAPKINS\n",
              "541905     22899       CHILDREN'S APRON DOLLY GIRL \n",
              "541906     23254      CHILDRENS CUTLERY DOLLY GIRL \n",
              "541907     23255    CHILDRENS CUTLERY CIRCUS PARADE\n",
              "541908     22138      BAKING SET 9 PIECE RETROSPOT \n",
              "\n",
              "[364125 rows x 2 columns]"
            ]
          },
          "metadata": {
            "tags": []
          },
          "execution_count": 45
        }
      ]
    },
    {
      "cell_type": "code",
      "metadata": {
        "id": "fN7PBPucR_ZA",
        "colab_type": "code",
        "colab": {}
      },
      "source": [
        "#remve the duplicates\n",
        "products.drop_duplicates(inplace=True,subset='StockCode',keep='last')"
      ],
      "execution_count": null,
      "outputs": []
    },
    {
      "cell_type": "code",
      "metadata": {
        "id": "vJYAONcDR_ZD",
        "colab_type": "code",
        "colab": {
          "base_uri": "https://localhost:8080/",
          "height": 34
        },
        "outputId": "710be7f3-d538-4c73-8cbe-434ec4c041fe"
      },
      "source": [
        "products.shape"
      ],
      "execution_count": null,
      "outputs": [
        {
          "output_type": "execute_result",
          "data": {
            "text/plain": [
              "(3658, 2)"
            ]
          },
          "metadata": {
            "tags": []
          },
          "execution_count": 47
        }
      ]
    },
    {
      "cell_type": "code",
      "metadata": {
        "id": "yL5b8MwLR_ZP",
        "colab_type": "code",
        "colab": {}
      },
      "source": [
        "# create product-ID and product-description dictionary\n",
        "products_dict = products.groupby('StockCode')['Description'].apply(list).to_dict()"
      ],
      "execution_count": null,
      "outputs": []
    },
    {
      "cell_type": "code",
      "metadata": {
        "id": "QryvHhJ0R_ZT",
        "colab_type": "code",
        "colab": {
          "base_uri": "https://localhost:8080/",
          "height": 1000
        },
        "outputId": "3c6366fa-2b58-4f22-c0aa-cb0579039385"
      },
      "source": [
        "products_dict"
      ],
      "execution_count": null,
      "outputs": [
        {
          "output_type": "execute_result",
          "data": {
            "text/plain": [
              "{'10002': ['INFLATABLE POLITICAL GLOBE '],\n",
              " '10080': ['GROOVY CACTUS INFLATABLE'],\n",
              " '10120': ['DOGGY RUBBER'],\n",
              " '10123C': ['HEARTS WRAPPING TAPE '],\n",
              " '10124A': ['SPOTS ON RED BOOKCOVER TAPE'],\n",
              " '10124G': ['ARMY CAMO BOOKCOVER TAPE'],\n",
              " '10125': ['MINI FUNKY DESIGN TAPES'],\n",
              " '10133': ['COLOURING PENCILS BROWN TUBE'],\n",
              " '10135': ['COLOURING PENCILS BROWN TUBE'],\n",
              " '11001': ['ASSTD DESIGN RACING CAR PEN'],\n",
              " '15030': ['FAN BLACK FRAME '],\n",
              " '15034': ['PAPER POCKET TRAVELING FAN '],\n",
              " '15036': ['ASSORTED COLOURS SILK FAN'],\n",
              " '15039': ['SANDALWOOD FAN'],\n",
              " '15044A': ['PINK PAPER PARASOL '],\n",
              " '15044B': ['BLUE PAPER PARASOL '],\n",
              " '15044C': ['PURPLE PAPER PARASOL'],\n",
              " '15044D': ['RED PAPER PARASOL'],\n",
              " '15056BL': ['EDWARDIAN PARASOL BLACK'],\n",
              " '15056N': ['EDWARDIAN PARASOL NATURAL'],\n",
              " '15056P': ['EDWARDIAN PARASOL PINK'],\n",
              " '15058A': ['BLUE POLKADOT GARDEN PARASOL'],\n",
              " '15058B': ['PINK POLKADOT GARDEN PARASOL'],\n",
              " '15058C': ['ICE CREAM DESIGN GARDEN PARASOL'],\n",
              " '15060B': ['FAIRY CAKE DESIGN UMBRELLA'],\n",
              " '16008': ['SMALL FOLDING SCISSOR(POINTED EDGE)'],\n",
              " '16010': ['FOLDING CAMPING SCISSOR W/KNIF & S'],\n",
              " '16011': ['ANIMAL STICKERS'],\n",
              " '16012': ['FOOD/DRINK SPONGE STICKERS'],\n",
              " '16014': ['SMALL CHINESE STYLE SCISSOR'],\n",
              " '16015': ['MEDIUM CHINESE STYLE SCISSOR'],\n",
              " '16016': ['LARGE CHINESE STYLE SCISSOR'],\n",
              " '16020C': ['CLEAR STATIONERY BOX SET '],\n",
              " '16033': ['MINI HIGHLIGHTER PENS'],\n",
              " '16043': ['POP ART PUSH DOWN RUBBER '],\n",
              " '16045': ['POPART WOODEN PENCILS ASST'],\n",
              " '16046': ['TEATIME PEN CASE & PENS'],\n",
              " '16048': ['TEATIME ROUND PENCIL SHARPENER '],\n",
              " '16049': ['TEATIME GEL PENS ASST'],\n",
              " '16052': ['TEATIME PUSH DOWN RUBBER'],\n",
              " '16054': ['POPART RECT PENCIL SHARPENER ASST'],\n",
              " '16151A': ['FLOWERS HANDBAG blue and orange'],\n",
              " '16156L': ['WRAP CAROUSEL'],\n",
              " '16156S': ['WRAP PINK FAIRY CAKES '],\n",
              " '16161G': ['WRAP BAD HAIR DAY'],\n",
              " '16161P': ['WRAP ENGLISH ROSE '],\n",
              " '16161U': ['WRAP SUKI AND FRIENDS'],\n",
              " '16162L': ['THE KING GIFT BAG'],\n",
              " '16162M': ['THE KING GIFT BAG 25x24x12cm'],\n",
              " '16168M': ['FUNKY MONKEY GIFT BAG MEDIUM'],\n",
              " '16169E': [\"WRAP 50'S  CHRISTMAS\"],\n",
              " '16169K': ['WRAP FOLK ART'],\n",
              " '16169M': ['WRAP DAISY CARPET '],\n",
              " '16169P': ['WRAP GREEN RUSSIAN FOLKART '],\n",
              " '16202A': ['PASTEL PINK PHOTO ALBUM '],\n",
              " '16202B': ['PASTEL BLUE PHOTO ALBUM '],\n",
              " '16202E': ['BLACK PHOTO ALBUM '],\n",
              " '16206B': ['RED PURSE WITH PINK HEART'],\n",
              " '16207A': ['PINK STRAWBERRY HANDBAG '],\n",
              " '16207B': ['PINK HEART RED HANDBAG'],\n",
              " '16216': ['LETTER SHAPE PENCIL SHARPENER'],\n",
              " '16218': ['CARTOON  PENCIL SHARPENERS'],\n",
              " '16219': ['HOUSE SHAPE PENCIL SHARPENER'],\n",
              " '16225': ['RATTLE SNAKE EGGS'],\n",
              " '16235': ['RECYCLED PENCIL WITH RABBIT ERASER'],\n",
              " '16236': ['KITTY PENCIL ERASERS'],\n",
              " '16237': ['SLEEPING CAT ERASERS'],\n",
              " '16238': ['PARTY TIME PENCIL ERASERS'],\n",
              " '16244B': ['MAXWELL 2 TONE BLUE 60 PAGE PHOTO A'],\n",
              " '16248B': ['BLUE HOLE PUNCH'],\n",
              " '16254': ['TRANSPARENT ACRYLIC TAPE DISPENSER'],\n",
              " '16258A': ['SWIRLY CIRCULAR RUBBERS IN BAG'],\n",
              " '16259': ['PIECE OF CAMO STATIONERY SET'],\n",
              " '17001': ['HEAVENS SCENT FRAGRANCE OILS ASSTD'],\n",
              " '17003': ['BROCADE RING PURSE '],\n",
              " '17007B': ['S/3 POT POURI CUSHIONS BLUE COLOURS'],\n",
              " '17011F': ['ORIGAMI SANDLEWOOD INCENSE+FLOWER'],\n",
              " '17012A': ['ORIGAMI VANILLA INCENSE/CANDLE SET '],\n",
              " '17012B': ['ORIGAMI JASMINE INCENSE/CANDLE SET'],\n",
              " '17012C': ['ORIGAMI LAVENDER INCENSE/CANDL SET '],\n",
              " '17012D': ['ORIGAMI ROSE INCENSE/CANDLE SET '],\n",
              " '17012E': ['ORIGAMI OPIUM INCENSE/CANDLE SET '],\n",
              " '17012F': ['ORIGAMI SANDLEWOOD INCENSE/CAND SET'],\n",
              " '17013D': ['ORIGAMI ROSE INCENSE IN TUBE'],\n",
              " '17014A': ['ORIGAMI VANILLA INCENSE CONES'],\n",
              " '17021': ['NAMASTE SWAGAT INCENSE'],\n",
              " '17028J': ['INCENSE BAZAAR PEACH'],\n",
              " '17038': ['PORCELAIN BUDAH INCENSE HOLDER'],\n",
              " '17084A': ['TRANQUILITY MASALA INCENSE'],\n",
              " '17084J': ['LOVE POTION MASALA INCENSE'],\n",
              " '17084N': ['FAIRY DREAMS INCENSE '],\n",
              " '17084P': ['DRAGONS BLOOD INCENSE'],\n",
              " '17084R': ['ASSORTED INCENSE PACK'],\n",
              " '17090A': ['LAVENDER INCENSE 40 CONES IN TIN'],\n",
              " '17090D': ['VANILLA INCENSE 40 CONES IN TIN'],\n",
              " '17091A': ['LAVENDER INCENSE IN TIN'],\n",
              " '17091J': ['VANILLA INCENSE IN TIN'],\n",
              " '17096': ['ASSORTED LAQUERED INCENSE HOLDERS'],\n",
              " '17107D': ['FLOWER FAIRY 5 DRAWER LINERS'],\n",
              " '17109D': ['FLOWER FAIRY INCENSE BOUQUET'],\n",
              " '17129F': ['BLUE GLASS GEMS IN BAG'],\n",
              " '17136A': ['BLUE STONES ON WIRE FOR CANDLE'],\n",
              " '17164B': [\"ASS COL SMALL SAND GECKO P'WEIGHT\"],\n",
              " '17165D': [\"ASS COL LARGE SAND FROG P'WEIGHT\"],\n",
              " '17174': ['ASSTD RASTA KEY-CHAINS'],\n",
              " '17191A': ['ROSE FLOWER CANDLE+INCENSE 16X16CM'],\n",
              " '18007': ['ESSENTIAL BALM 3.5g TIN IN ENVELOPE'],\n",
              " '18094C': ['WHITE AND BLUE CERAMIC OIL BURNER'],\n",
              " '18097A': ['PINK TALL PORCELAIN T-LIGHT HOLDER '],\n",
              " '18097C': ['WHITE TALL PORCELAIN T-LIGHT HOLDER'],\n",
              " '18098C': ['PORCELAIN BUTTERFLY OIL BURNER'],\n",
              " '20615': ['BLUE POLKADOT PASSPORT COVER'],\n",
              " '20616': ['CHERRY BLOSSOM PASSPORT COVER'],\n",
              " '20617': ['FIRST CLASS PASSPORT COVER '],\n",
              " '20618': ['QUEEN OF THE SKIES PASSPORT COVER '],\n",
              " '20619': ['TROPICAL PASSPORT COVER '],\n",
              " '20622': ['VIP PASSPORT COVER '],\n",
              " '20652': ['BLUE POLKADOT LUGGAGE TAG '],\n",
              " '20653': ['CHERRY BLOSSOM LUGGAGE TAG'],\n",
              " '20654': ['FIRST CLASS LUGGAGE TAG '],\n",
              " '20655': ['QUEEN OF SKIES LUGGAGE TAG'],\n",
              " '20657': ['TROPICAL LUGGAGE TAG'],\n",
              " '20658': ['RED RETROSPOT LUGGAGE TAG'],\n",
              " '20659': ['ECONOMY LUGGAGE TAG'],\n",
              " '20661': ['BLUE POLKADOT PURSE '],\n",
              " '20662': ['FIRST CLASS HOLIDAY PURSE '],\n",
              " '20663': ['QUEEN OF THE SKIES HOLIDAY PURSE '],\n",
              " '20664': ['TROPICAL HOLIDAY PURSE '],\n",
              " '20665': ['RED RETROSPOT PURSE '],\n",
              " '20666': ['ECONOMY HOLIDAY PURSE'],\n",
              " '20667': ['CHERRY BLOSSOM PURSE'],\n",
              " '20668': ['DISCO BALL CHRISTMAS DECORATION'],\n",
              " '20669': ['RED HEART LUGGAGE TAG'],\n",
              " '20670': ['VIP HOLIDAY PURSE'],\n",
              " '20671': ['BLUE TEATIME PRINT BOWL '],\n",
              " '20674': ['GREEN POLKADOT BOWL'],\n",
              " '20675': ['BLUE POLKADOT BOWL'],\n",
              " '20676': ['RED RETROSPOT BOWL'],\n",
              " '20677': ['PINK POLKADOT BOWL'],\n",
              " '20678': ['LARGE BLACK DIAMANTE HAIRSLIDE'],\n",
              " '20679': ['EDWARDIAN PARASOL RED'],\n",
              " '20681': ['PINK POLKADOT CHILDRENS UMBRELLA'],\n",
              " '20682': ['RED RETROSPOT CHILDRENS UMBRELLA'],\n",
              " '20684': ['STRAWBERRY DREAM CHILDS UMBRELLA'],\n",
              " '20685': ['DOORMAT RED RETROSPOT'],\n",
              " '20686': [\"DOLLY MIXTURE CHILDREN'S UMBRELLA\"],\n",
              " '20694': ['FLORAL PINK MONSTER'],\n",
              " '20695': ['FLORAL BLUE MONSTER'],\n",
              " '20696': ['FLORAL SOFT CAR TOY'],\n",
              " '20697': ['LITTLE GREEN MONSTER SOFT TOY'],\n",
              " '20698': ['LITTLE PINK MONSTER SOFT TOY'],\n",
              " '20699': ['MOUSEY LONG LEGS SOFT TOY'],\n",
              " '20700': ['GREEN CAT FLORAL CUSHION COVER '],\n",
              " '20701': ['PINK CAT FLORAL CUSHION COVER '],\n",
              " '20702': ['PINK PADDED MOBILE'],\n",
              " '20703': ['BLUE PADDED SOFT MOBILE'],\n",
              " '20704': ['MR ROBOT SOFT TOY'],\n",
              " '20705': ['MRS ROBOT SOFT TOY'],\n",
              " '20707': ['CRAZY DAISY HEART DECORATION'],\n",
              " '20711': ['JUMBO BAG TOYS '],\n",
              " '20712': ['JUMBO BAG WOODLAND ANIMALS'],\n",
              " '20713': ['JUMBO BAG OWLS'],\n",
              " '20716': ['PARTY FOOD SHOPPER BAG'],\n",
              " '20717': ['STRAWBERRY SHOPPER BAG'],\n",
              " '20718': ['RED RETROSPOT SHOPPER BAG'],\n",
              " '20719': ['WOODLAND CHARLOTTE BAG'],\n",
              " '20723': ['STRAWBERRY CHARLOTTE BAG'],\n",
              " '20724': ['RED RETROSPOT CHARLOTTE BAG'],\n",
              " '20725': ['LUNCH BAG RED RETROSPOT'],\n",
              " '20726': ['LUNCH BAG WOODLAND'],\n",
              " '20727': ['LUNCH BAG  BLACK SKULL.'],\n",
              " '20728': ['LUNCH BAG CARS BLUE'],\n",
              " '20731': ['POSY CANDY BAG'],\n",
              " '20733': ['GOLD MINI TAPE MEASURE '],\n",
              " '20735': ['BLACK MINI TAPE MEASURE '],\n",
              " '20748': ['KENSINGTON COFFEE SET'],\n",
              " '20749': ['ASSORTED COLOUR MINI CASES'],\n",
              " '20750': ['RED RETROSPOT MINI CASES'],\n",
              " '20751': ['FUNKY WASHING UP GLOVES ASSORTED'],\n",
              " '20752': ['BLUE POLKADOT WASHING UP GLOVES'],\n",
              " '20754': ['RETROSPOT RED WASHING UP GLOVES'],\n",
              " '20755': ['BLUE PAISLEY POCKET BOOK'],\n",
              " '20756': ['GREEN FERN POCKET BOOK'],\n",
              " '20757': ['RED DAISY POCKET BOOK '],\n",
              " '20758': ['ABSTRACT CIRCLES POCKET BOOK'],\n",
              " '20759': ['CHRYSANTHEMUM POCKET BOOK '],\n",
              " '20760': ['GARDEN PATH POCKET BOOK'],\n",
              " '20761': ['BLUE PAISLEY SKETCHBOOK'],\n",
              " '20762': ['GREEN FERN SKETCHBOOK '],\n",
              " '20763': ['DAISY SKETCHBOOK '],\n",
              " '20764': ['ABSTRACT CIRCLES SKETCHBOOK '],\n",
              " '20765': ['CHRYSANTHEMUM SKETCHBOOK '],\n",
              " '20766': ['GARDEN PATH SKETCHBOOK'],\n",
              " '20767': ['BLUE PAISLEY JOURNAL '],\n",
              " '20768': ['GREEN FERN JOURNAL '],\n",
              " '20769': ['DAISY JOURNAL '],\n",
              " '20770': ['ABSTRACT CIRCLE JOURNAL '],\n",
              " '20771': ['CHRYSANTHEMUM  JOURNAL'],\n",
              " '20772': ['GARDEN PATH JOURNAL'],\n",
              " '20773': ['BLUE PAISLEY NOTEBOOK'],\n",
              " '20774': ['GREEN FERN NOTEBOOK'],\n",
              " '20775': ['DAISY NOTEBOOK '],\n",
              " '20777': ['CHRYSANTHEMUM NOTEBOOK'],\n",
              " '20778': ['GARDEN PATH NOTEBOOK '],\n",
              " '20780': ['BLACK EAR MUFF HEADPHONES'],\n",
              " '20781': ['GOLD EAR MUFF HEADPHONES'],\n",
              " '20782': ['CAMOUFLAGE EAR MUFF HEADPHONES'],\n",
              " '20785': ['FUSCHIA RETRO BAR STOOL'],\n",
              " '20793': ['BLUE TILED TRAY'],\n",
              " '20794': ['BLUE  TILE HOOK'],\n",
              " '20795': ['LARGE BLUE PROVENCAL CERAMIC BALL'],\n",
              " '20796': ['SMALL BLUE PROVENCAL CERAMIC BALL'],\n",
              " '20798': ['CLEAR MILKSHAKE GLASS'],\n",
              " '20801': ['LARGE PINK GLASS SUNDAE DISH'],\n",
              " '20802': ['SMALL GLASS SUNDAE DISH CLEAR'],\n",
              " '20803': ['SMALL PINK GLASS SUNDAE DISH'],\n",
              " '20816': ['GOLD FLOWER CUSHION COVER '],\n",
              " '20818': ['GOLD TEDDY BEAR'],\n",
              " '20819': ['SILVER TEDDY BEAR'],\n",
              " '20820': ['SILVER LOOKING MIRROR'],\n",
              " '20821': ['GOLDIE LOOKING MIRROR'],\n",
              " '20823': ['GOLD WINE GOBLET'],\n",
              " '20826': ['SILVER APERITIF GLASS'],\n",
              " '20827': ['GOLD APERITIF GLASS'],\n",
              " '20828': ['GLITTER BUTTERFLY CLIPS'],\n",
              " '20829': ['GLITTER HANGING BUTTERFLY STRING'],\n",
              " '20830': ['SILVER PHOTO FRAME'],\n",
              " '20831': ['GOLD PHOTO FRAME'],\n",
              " '20832': ['RED FLOCK LOVE HEART PHOTO FRAME'],\n",
              " '20835': ['FRENCH LATTICE CUSHION COVER '],\n",
              " '20836': ['FRENCH PAISLEY CUSHION COVER'],\n",
              " '20837': ['FRENCH FLORAL CUSHION COVER '],\n",
              " '20838': ['FRENCH LATTICE CUSHION COVER '],\n",
              " '20839': ['FRENCH PAISLEY CUSHION COVER '],\n",
              " '20840': ['FRENCH FLORAL CUSHION COVER '],\n",
              " '20845': ['ZINC HEART LATTICE 2 WALL PLANTER'],\n",
              " '20846': ['ZINC HEART LATTICE T-LIGHT HOLDER'],\n",
              " '20847': ['ZINC HEART LATTICE CHARGER LARGE'],\n",
              " '20848': ['ZINC HEART LATTICE CHARGER SMALL'],\n",
              " '20851': ['ZINC HEART LATTICE TRAY OVAL '],\n",
              " '20854': ['BLUE PATCH PURSE PINK HEART'],\n",
              " '20856': ['DENIM PATCH PURSE PINK BUTTERFLY'],\n",
              " '20857': ['BLUE ROSE PATCH PURSE PINK BUTTERFL'],\n",
              " '20861': ['GOLD COSMETIC BAG PINK STAR'],\n",
              " '20866': ['BLUE ROSE FABRIC MIRROR'],\n",
              " '20867': ['PINK ROSE FABRIC MIRROR'],\n",
              " '20868': ['SILVER FABRIC MIRROR'],\n",
              " '20869': ['GOLD FABRIC MIRROR'],\n",
              " '20878': ['SET/9 CHRISTMAS T-LIGHTS SCENTED '],\n",
              " '20886': ['BOX OF 9 PEBBLE CANDLES'],\n",
              " '20892': ['SET/3 TALL GLASS CANDLE HOLDER PINK'],\n",
              " '20893': ['HANGING BAUBLE T-LIGHT HOLDER SMALL'],\n",
              " '20894': ['HANGING BAUBLE T-LIGHT HOLDER LARGE'],\n",
              " '20897': ['VINTAGE NOTEBOOK PARIS DAYS'],\n",
              " '20898': ['VINTAGE NOTEBOOK TRAVELOGUE'],\n",
              " '20901': ['VINTAGE KEEPSAKE BOX PINK FLOWER'],\n",
              " '20902': ['VINTAGE KEEPSAKE BOX PARIS DAYS'],\n",
              " '20903': ['VINTAGE KEEPSAKE BOX TRAVELOGUE'],\n",
              " '20906': ['VINTAGE NOTEBOOK BEAUTY GIRL'],\n",
              " '20910': ['VINTAGE PHOTO ALBUM PARIS DAYS'],\n",
              " '20914': ['SET/5 RED RETROSPOT LID GLASS BOWLS'],\n",
              " '20931': ['BLUE POT PLANT CANDLE '],\n",
              " '20932': ['PINK POT PLANT CANDLE'],\n",
              " '20933': ['YELLOW POT PLANT CANDLE'],\n",
              " '20934': ['SET/3 POT PLANT CANDLES'],\n",
              " '20935': ['ROUND CACTUS CANDLE'],\n",
              " '20936': ['FORKED CACTUS CANDLE'],\n",
              " '20941': ['FROG CANDLE'],\n",
              " '20956': ['PORCELAIN T-LIGHT HOLDERS ASSORTED'],\n",
              " '20957': ['PORCELAIN HANGING BELL SMALL'],\n",
              " '20961': ['STRAWBERRY BATH SPONGE '],\n",
              " '20963': ['APPLE BATH SPONGE'],\n",
              " '20964': ['POLYESTER FILLER PAD 60x40cm'],\n",
              " '20966': ['SANDWICH BATH SPONGE'],\n",
              " '20967': ['GREY FLORAL FELTCRAFT SHOULDER BAG'],\n",
              " '20969': ['RED FLORAL FELTCRAFT SHOULDER BAG'],\n",
              " '20970': ['PINK FLORAL FELTCRAFT SHOULDER BAG'],\n",
              " '20971': ['PINK BLUE FELT CRAFT TRINKET BOX'],\n",
              " '20972': ['PINK CREAM FELT CRAFT TRINKET BOX '],\n",
              " '20973': ['12 PENCIL SMALL TUBE WOODLAND'],\n",
              " '20974': ['12 PENCILS SMALL TUBE SKULL'],\n",
              " '20975': ['12 PENCILS SMALL TUBE RED RETROSPOT'],\n",
              " '20977': ['36 PENCILS TUBE WOODLAND'],\n",
              " '20978': ['36 PENCILS TUBE SKULLS'],\n",
              " '20979': ['36 PENCILS TUBE RED RETROSPOT'],\n",
              " '20980': ['36 PENCILS TUBE POSY'],\n",
              " '20981': ['12 PENCILS TALL TUBE WOODLAND'],\n",
              " '20982': ['12 PENCILS TALL TUBE SKULLS'],\n",
              " '20983': ['12 PENCILS TALL TUBE RED RETROSPOT'],\n",
              " '20984': ['12 PENCILS TALL TUBE POSY'],\n",
              " '20985': ['HEART CALCULATOR'],\n",
              " '20986': ['BLUE CALCULATOR RULER'],\n",
              " '20992': ['JAZZ HEARTS PURSE NOTEBOOK'],\n",
              " '20996': ['JAZZ HEARTS ADDRESS BOOK'],\n",
              " '20997': ['ROSE DU SUD CUSHION COVER '],\n",
              " '20998': ['ROSE DU SUD OVEN GLOVE'],\n",
              " '21000': ['ROSE DU SUD COSMETICS BAG'],\n",
              " '21001': ['ROSE DU SUD WASHBAG '],\n",
              " '21002': ['ROSE DU SUD DRAWSTRING BAG'],\n",
              " '21003': ['ROSE DU SUD CUSHION COVER'],\n",
              " '21011': ['GLITTER SNOW PEAR TREE DECORATION'],\n",
              " '21012': ['ANTIQUE ALL GLASS CANDLESTICK'],\n",
              " '21014': ['SWISS CHALET TREE DECORATION '],\n",
              " '21015': ['DARK BIRD HOUSE TREE DECORATION'],\n",
              " '21018': ['BIRD BOX CHRISTMAS TREE DECORATION'],\n",
              " '21025': ['SPACE FROG'],\n",
              " '21026': ['SPACE OWL'],\n",
              " '21027': ['NINJA RABBIT PINK'],\n",
              " '21028': ['NINJA RABBIT BLACK'],\n",
              " '21030': ['SPACE CADET RED'],\n",
              " '21031': ['SPACE CADET BLACK'],\n",
              " '21032': ['SPACE CADET WHITE'],\n",
              " '21033': ['JUMBO BAG CHARLIE AND LOLA TOYS'],\n",
              " '21034': ['REX CASH+CARRY JUMBO SHOPPER'],\n",
              " '21035': ['SET/2 RED RETROSPOT TEA TOWELS '],\n",
              " '21038': ['SET/4 MODERN VINTAGE COTTON NAPKINS'],\n",
              " '21039': ['RED RETROSPOT SHOPPING BAG'],\n",
              " '21040': ['MODERN VINTAGE COTTON SHOPPING BAG'],\n",
              " '21041': ['RED RETROSPOT OVEN GLOVE DOUBLE'],\n",
              " '21042': ['RED RETROSPOT APRON '],\n",
              " '21043': ['APRON MODERN VINTAGE COTTON'],\n",
              " '21051': ['RIBBONS PURSE '],\n",
              " '21054': [\"NURSE'S BAG SOFT TOY\"],\n",
              " '21055': ['TOOL BOX SOFT TOY '],\n",
              " '21056': [\"DOCTOR'S BAG SOFT TOY\"],\n",
              " '21058': ['PARTY INVITES WOODLAND'],\n",
              " '21059': ['PARTY INVITES DINOSAURS'],\n",
              " '21060': ['PARTY INVITES BALLOON GIRL'],\n",
              " '21061': ['PARTY INVITES FOOTBALL'],\n",
              " '21062': ['PARTY INVITES SPACEMAN'],\n",
              " '21063': ['PARTY INVITES JAZZ HEARTS'],\n",
              " '21064': ['BOOM BOX SPEAKER BOYS'],\n",
              " '21065': ['BOOM BOX SPEAKER GIRLS'],\n",
              " '21066': ['VINTAGE RED MUG'],\n",
              " '21067': ['VINTAGE RED TEATIME MUG'],\n",
              " '21068': ['VINTAGE BILLBOARD LOVE/HATE MUG'],\n",
              " '21069': ['VINTAGE BILLBOARD TEA MUG'],\n",
              " '21070': ['VINTAGE BILLBOARD MUG '],\n",
              " '21071': ['VINTAGE BILLBOARD DRINK ME MUG'],\n",
              " '21078': ['SET/20 STRAWBERRY PAPER NAPKINS '],\n",
              " '21080': ['SET/20 RED RETROSPOT PAPER NAPKINS '],\n",
              " '21084': ['SET/6 COLLAGE PAPER CUPS'],\n",
              " '21086': ['SET/6 RED SPOTTY PAPER CUPS'],\n",
              " '21087': ['SET/6 POSIES PAPER CUPS'],\n",
              " '21088': ['SET/6 FRUIT SALAD PAPER CUPS'],\n",
              " '21089': ['SET/6 GREEN SPRING PAPER CUPS'],\n",
              " '21090': ['SET/6 COLLAGE PAPER PLATES'],\n",
              " '21094': ['SET/6 RED SPOTTY PAPER PLATES'],\n",
              " '21095': ['SET/6 POSIES PAPER PLATES'],\n",
              " '21096': ['SET/6 FRUIT SALAD  PAPER PLATES'],\n",
              " '21098': ['CHRISTMAS TOILET ROLL'],\n",
              " '21100': ['CHARLIE AND LOLA CHARLOTTE BAG'],\n",
              " '21106': ['CREAM SLICE FLANNEL CHOCOLATE SPOT '],\n",
              " '21107': ['CREAM SLICE FLANNEL PINK SPOT '],\n",
              " '21108': ['FAIRY CAKE FLANNEL ASSORTED COLOUR'],\n",
              " '21109': ['LARGE CAKE TOWEL CHOCOLATE SPOTS'],\n",
              " '21110': ['LARGE CAKE TOWEL PINK SPOTS'],\n",
              " '21111': ['SWISS ROLL TOWEL, CHOCOLATE  SPOTS'],\n",
              " '21112': ['SWISS ROLL TOWEL PINK  SPOTS'],\n",
              " '21114': ['LAVENDER SCENTED FABRIC HEART'],\n",
              " '21115': ['ROSE CARAVAN DOORSTOP'],\n",
              " '21116': ['OWL DOORSTOP'],\n",
              " '21117': ['BLOND DOLL DOORSTOP'],\n",
              " '21121': ['SET/10 RED POLKADOT PARTY CANDLES'],\n",
              " '21122': ['SET/10 PINK POLKADOT PARTY CANDLES'],\n",
              " '21123': ['SET/10 IVORY POLKADOT PARTY CANDLES'],\n",
              " '21124': ['SET/10 BLUE POLKADOT PARTY CANDLES'],\n",
              " '21125': ['SET 6 FOOTBALL CELEBRATION CANDLES'],\n",
              " '21126': ['SET OF 6 GIRLS CELEBRATION CANDLES'],\n",
              " '21128': ['GOLD FISHING GNOME'],\n",
              " '21129': ['SILVER FISHING GNOME '],\n",
              " '21131': ['GOLD STANDING GNOME'],\n",
              " '21132': ['SILVER STANDING GNOME   '],\n",
              " '21135': ['VICTORIAN  METAL POSTCARD SPRING'],\n",
              " '21136': ['PAINTED METAL PEARS ASSORTED'],\n",
              " '21137': ['BLACK RECORD COVER FRAME'],\n",
              " '21143': ['ANTIQUE GLASS HEART DECORATION '],\n",
              " '21144': ['PINK POODLE HANGING DECORATION '],\n",
              " '21145': ['ANTIQUE GLASS PLACE SETTING'],\n",
              " '21147': ['JINGLE BELLS TREE DECORATION'],\n",
              " '21154': ['RED RETROSPOT OVEN GLOVE '],\n",
              " '21155': ['RED RETROSPOT PEG BAG'],\n",
              " '21156': ['RETROSPOT CHILDRENS APRON'],\n",
              " '21157': ['RED RETROSPOT WASHBAG'],\n",
              " '21158': ['MOODY GIRL DOOR HANGER '],\n",
              " '21159': ['MOODY BOY  DOOR HANGER '],\n",
              " '21161': ['KEEP OUT BOYS DOOR HANGER '],\n",
              " '21162': ['TOXIC AREA  DOOR HANGER '],\n",
              " '21163': ['DO NOT TOUCH MY STUFF DOOR HANGER '],\n",
              " '21164': ['HOME SWEET HOME METAL SIGN '],\n",
              " '21165': ['BEWARE OF THE CAT METAL SIGN '],\n",
              " '21166': ['COOK WITH WINE METAL SIGN '],\n",
              " '21167': ['WHITE SAGE INCENSE'],\n",
              " '21169': [\"YOU'RE CONFUSING ME METAL SIGN \"],\n",
              " '21171': ['BATHROOM METAL SIGN '],\n",
              " '21172': ['PARTY METAL SIGN '],\n",
              " '21174': ['POTTERING IN THE SHED METAL SIGN'],\n",
              " '21175': ['GIN AND TONIC DIET METAL SIGN'],\n",
              " '21179': ['NO JUNK MAIL METAL SIGN'],\n",
              " '21181': ['PLEASE ONE PERSON METAL SIGN'],\n",
              " '21187': ['WHITE BELL HONEYCOMB PAPER GARLAND '],\n",
              " '21188': ['3D HEARTS  HONEYCOMB PAPER GARLAND'],\n",
              " '21189': ['WHITE HONEYCOMB PAPER GARLAND '],\n",
              " '21190': ['PINK HEARTS PAPER GARLAND'],\n",
              " '21191': ['LARGE WHITE HONEYCOMB PAPER BELL  '],\n",
              " '21192': ['WHITE BELL HONEYCOMB PAPER '],\n",
              " '21194': ['PINK  HONEYCOMB PAPER FAN'],\n",
              " '21195': ['PINK  HONEYCOMB PAPER BALL '],\n",
              " '21196': ['ROUND WHITE CONFETTI IN TUBE'],\n",
              " '21197': ['MULTICOLOUR  CONFETTI IN TUBE'],\n",
              " '21198': ['WHITE HEART CONFETTI IN TUBE'],\n",
              " '21199': ['PINK  HEART CONFETTI IN TUBE'],\n",
              " '21200': ['MULTICOLOUR HONEYCOMB PAPER GARLAND'],\n",
              " '21201': ['TROPICAL  HONEYCOMB PAPER GARLAND '],\n",
              " '21202': ['DOLLY HONEYCOMB GARLAND'],\n",
              " '21204': ['DAISIES  HONEYCOMB GARLAND '],\n",
              " '21205': ['MULTICOLOUR 3D BALLS GARLAND'],\n",
              " '21206': ['STRAWBERRY HONEYCOMB  GARLAND '],\n",
              " '21207': ['SKULL AND CROSSBONES  GARLAND '],\n",
              " '21208': ['PASTEL COLOUR HONEYCOMB FAN'],\n",
              " '21209': ['MULTICOLOUR HONEYCOMB FAN'],\n",
              " '21210': ['SET OF 72 RETROSPOT PAPER  DOILIES'],\n",
              " '21211': ['SET OF 72 SKULL PAPER  DOILIES'],\n",
              " '21212': ['PACK OF 72 RETROSPOT CAKE CASES'],\n",
              " '21213': ['PACK OF 72 SKULL CAKE CASES'],\n",
              " '21215': ['IVORY PAPER CUP CAKE CASES '],\n",
              " '21216': ['SET 3 RETROSPOT TEA,COFFEE,SUGAR'],\n",
              " '21217': ['RED RETROSPOT ROUND CAKE TINS'],\n",
              " '21218': ['RED SPOTTY BISCUIT TIN'],\n",
              " '21219': ['SET/4 BADGES BALLOON GIRL'],\n",
              " '21220': ['SET/4 BADGES DOGS'],\n",
              " '21221': ['SET/4 BADGES CUTE CREATURES'],\n",
              " '21222': ['SET/4 BADGES BEETLES'],\n",
              " '21224': ['SET/4 SKULL BADGES'],\n",
              " '21226': ['POCKET MIRROR WOODLAND'],\n",
              " '21228': ['POCKET MIRROR \"GLAMOROUS\"'],\n",
              " '21231': ['SWEETHEART CERAMIC TRINKET BOX'],\n",
              " '21232': ['STRAWBERRY CERAMIC TRINKET POT'],\n",
              " '21238': ['RED RETROSPOT CUP'],\n",
              " '21239': ['PINK  POLKADOT CUP'],\n",
              " '21240': ['BLUE POLKADOT CUP'],\n",
              " '21242': ['RED RETROSPOT PLATE '],\n",
              " '21243': ['PINK POLKADOT PLATE '],\n",
              " '21244': ['BLUE POLKADOT PLATE '],\n",
              " '21245': ['GREEN POLKADOT PLATE '],\n",
              " '21246': ['RED RETROSPOT BIG BOWL'],\n",
              " '21248': ['DOOR HANGER  MUM + DADS ROOM'],\n",
              " '21249': ['WOODLAND  HEIGHT CHART STICKERS '],\n",
              " '21250': ['SET OF SKULL WALL STICKERS'],\n",
              " '21251': ['DINOSAUR HEIGHT CHART STICKER SET'],\n",
              " '21253': ['SET OF PICTURE FRAME  STICKERS'],\n",
              " '21257': ['VICTORIAN SEWING BOX MEDIUM'],\n",
              " '21258': ['VICTORIAN SEWING BOX LARGE'],\n",
              " '21259': ['VICTORIAN SEWING BOX SMALL '],\n",
              " '21260': ['FIRST AID TIN'],\n",
              " '21261': ['GREEN GOOSE FEATHER CHRISTMAS TREE '],\n",
              " '21262': ['WHITE GOOSE FEATHER CHRISTMAS TREE '],\n",
              " '21263': ['GREEN GOOSE FEATHER TREE 60CM'],\n",
              " '21264': ['WHITE GOOSE FEATHER TREE 60CM '],\n",
              " '21265': ['PINK GOOSE FEATHER TREE 60CM'],\n",
              " '21269': ['ANTIQUE CREAM CUTLERY SHELF '],\n",
              " '21270': ['ANTIQUE CREAM CUTLERY CUPBOARD'],\n",
              " '21272': ['SALLE DE BAIN HOOK'],\n",
              " '21275': ['ZINC TOP  2 DOOR WOODEN SHELF '],\n",
              " '21277': ['FRENCH STYLE EMBOSSED HEART CABINET'],\n",
              " '21278': ['VINTAGE KITCHEN PRINT PUDDINGS'],\n",
              " '21279': ['VINTAGE KITCHEN PRINT FRUITS'],\n",
              " '21280': ['VINTAGE KITCHEN PRINT VEGETABLES'],\n",
              " '21281': ['VINTAGE KITCHEN PRINT SEAFOOD'],\n",
              " '21284': ['RETROSPOT CANDLE  SMALL'],\n",
              " '21285': ['RETROSPOT CANDLE  MEDIUM'],\n",
              " '21286': ['RETROSPOT CANDLE  LARGE'],\n",
              " '21287': ['SCENTED VELVET LOUNGE CANDLE '],\n",
              " '21288': ['STRIPEY CHOCOLATE NESTING BOXES'],\n",
              " '21289': ['LARGE STRIPES CHOCOLATE GIFT BAG'],\n",
              " '21291': ['SMALL POLKADOT CHOCOLATE GIFT BAG '],\n",
              " '21292': ['SMALL STRIPES CHOCOLATE GIFT BAG '],\n",
              " '21293': ['MIRRORED DOVE WALL DECORATION'],\n",
              " '21294': ['ETCHED GLASS COASTER'],\n",
              " '21306': ['SET/4 DAISY MIRROR MAGNETS'],\n",
              " '21307': ['SET/4 BUTTERFLY MIRROR MAGNETS'],\n",
              " '21310': ['CAPIZ CHANDELIER'],\n",
              " '21311': ['SET/4 BIRD MIRROR MAGNETS '],\n",
              " '21313': ['GLASS HEART T-LIGHT HOLDER '],\n",
              " '21314': ['SMALL GLASS HEART TRINKET POT'],\n",
              " '21316': ['SMALL CHUNKY GLASS ROMAN  BOWL'],\n",
              " '21317': ['GLASS SPHERE CANDLE STAND MEDIUM'],\n",
              " '21318': ['GLASS CHALICE BLUE SMALL '],\n",
              " '21319': ['GLASS CHALICE GREEN  SMALL '],\n",
              " '21320': ['GLASS CHALICE GREEN  LARGE '],\n",
              " '21324': ['HANGING MEDINA LANTERN SMALL'],\n",
              " '21326': ['AGED GLASS SILVER T-LIGHT HOLDER'],\n",
              " '21327': ['SKULLS WRITING SET '],\n",
              " '21328': ['BALLOONS  WRITING SET '],\n",
              " '21329': ['DINOSAURS  WRITING SET '],\n",
              " '21331': ['MOROCCAN BEATEN METAL DISH LARGE'],\n",
              " '21332': ['MOROCCAN BEATEN METAL MIRROR'],\n",
              " '21333': ['CLASSIC WHITE FRAME'],\n",
              " '21336': ['GOLD WASHBAG'],\n",
              " '21340': ['CLASSIC METAL BIRDCAGE PLANT HOLDER'],\n",
              " '21344': ['MOROCCAN BEATEN METAL DISH'],\n",
              " '21348': ['PINK SPOTS CHOCOLATE NESTING BOXES '],\n",
              " '21349': ['IVY HEART WREATH'],\n",
              " '21351': ['CINAMMON & ORANGE WREATH'],\n",
              " '21352': ['EUCALYPTUS & PINECONE  WREATH'],\n",
              " '21354': ['TOAST ITS - BEST MUM'],\n",
              " '21355': ['TOAST ITS - I LOVE YOU '],\n",
              " '21356': ['TOAST ITS - FAIRY FLOWER'],\n",
              " '21357': ['TOAST ITS - DINOSAUR'],\n",
              " '21358': ['TOAST ITS - HAPPY BIRTHDAY'],\n",
              " '21359': ['RELAX LARGE WOOD LETTERS'],\n",
              " '21360': ['JOY LARGE WOOD LETTERS'],\n",
              " '21361': ['LOVE LARGE WOOD LETTERS '],\n",
              " '21363': ['HOME SMALL WOOD LETTERS'],\n",
              " '21364': ['PEACE SMALL WOOD LETTERS'],\n",
              " '21365': ['MIRRORED WALL ART STARS'],\n",
              " '21366': ['MIRRORED WALL ART PHOTO FRAMES'],\n",
              " '21367': ['MIRRORED WALL ART GENTS'],\n",
              " '21368': ['MIRRORED WALL ART LADIES'],\n",
              " '21369': ['MIRRORED WALL ART SPLODGES'],\n",
              " '21370': ['MIRRORED WALL ART FOXY'],\n",
              " '21371': ['MIRRORED WALL ART POPPIES'],\n",
              " '21372': ['MIRRORED WALL ART TABLE LAMP'],\n",
              " '21373': ['MIRRORED WALL ART SNOWFLAKES'],\n",
              " '21374': ['MIRRORED WALL ART SKULLS'],\n",
              " '21375': ['LARGE CAMPHOR WOOD FIELD MUSHROOM '],\n",
              " '21376': ['LARGE  TALL CAMPHOR WOOD TOADSTOOL '],\n",
              " '21377': ['SMALL CAMPHOR WOOD FIELD  MUSHROOM'],\n",
              " '21378': ['SMALL TALL CAMPHOR WOOD TOADSTOOL'],\n",
              " '21379': ['CAMPHOR WOOD PORTOBELLO MUSHROOM'],\n",
              " '21380': ['WOODEN HAPPY BIRTHDAY GARLAND'],\n",
              " '21381': ['MINI WOODEN HAPPY BIRTHDAY GARLAND'],\n",
              " '21382': ['SET/4 SPRING FLOWER DECORATION'],\n",
              " '21383': ['PACK OF 12 STICKY BUNNIES'],\n",
              " '21385': ['IVORY HANGING DECORATION  HEART'],\n",
              " '21386': ['IVORY HANGING DECORATION  EGG'],\n",
              " '21389': ['IVORY HANGING DECORATION  BIRD'],\n",
              " '21390': ['FILIGRIS HEART WITH BUTTERFLY'],\n",
              " '21391': ['FRENCH LAVENDER SCENT HEART'],\n",
              " '21392': ['RED POLKADOT PUDDING BOWL'],\n",
              " '21393': ['BLUE POLKADOT PUDDING BOWL'],\n",
              " '21394': ['RED POLKADOT BEAKER '],\n",
              " '21395': ['BLUE POLKADOT BEAKER '],\n",
              " '21397': ['BLUE POLKADOT EGG CUP '],\n",
              " '21398': ['RED POLKADOT COFFEE  MUG'],\n",
              " '21399': ['BLUE POLKADOT COFFEE MUG'],\n",
              " '21400': ['RED PUDDING SPOON'],\n",
              " '21401': ['BLUE PUDDING SPOON'],\n",
              " '21402': ['RED  EGG  SPOON'],\n",
              " '21403': ['BLUE EGG  SPOON'],\n",
              " '21407': ['BROWN CHECK CAT DOORSTOP '],\n",
              " '21408': ['SPOTTY PINK DUCK DOORSTOP'],\n",
              " '21411': ['GINGHAM HEART  DOORSTOP RED'],\n",
              " '21412': ['VINTAGE GOLD TINSEL REEL'],\n",
              " '21413': ['PERIWINKLE T-LIGHT HOLDER'],\n",
              " '21414': ['SCALLOP SHELL SOAP DISH'],\n",
              " '21415': ['CLAM SHELL SMALL '],\n",
              " '21416': ['CLAM SHELL LARGE'],\n",
              " '21417': ['COCKLE SHELL DISH'],\n",
              " '21418': ['STARFISH SOAP DISH'],\n",
              " '21420': ['OYSTER TRINKET BOX'],\n",
              " '21421': ['PORCELAIN ROSE LARGE '],\n",
              " '21422': ['PORCELAIN ROSE SMALL'],\n",
              " '21424': ['WOODLAND STORAGE BOX LARGE '],\n",
              " '21425': ['SKULLS STORAGE BOX LARGE'],\n",
              " '21426': ['WOODLAND STORAGE BOX SMALL'],\n",
              " '21427': ['SKULLS STORAGE BOX SMALL'],\n",
              " '21428': ['SET3 BOOK BOX GREEN GINGHAM FLOWER '],\n",
              " '21429': ['RED GINGHAM ROSE JEWELLERY BOX'],\n",
              " '21430': ['SET/3 RED GINGHAM ROSE STORAGE BOX'],\n",
              " '21439': ['BASKET OF TOADSTOOLS'],\n",
              " '21441': ['BLUE BIRDHOUSE DECORATION'],\n",
              " '21442': ['GREEN BIRDHOUSE DECORATION'],\n",
              " '21445': ['12 PINK ROSE PEG PLACE SETTINGS'],\n",
              " '21446': ['12 RED ROSE PEG PLACE SETTINGS'],\n",
              " '21447': ['12 IVORY ROSE PEG PLACE SETTINGS'],\n",
              " '21448': ['12 DAISY PEGS IN WOOD BOX'],\n",
              " '21452': ['TOADSTOOL MONEY BOX'],\n",
              " '21454': ['PAINTED PINK RABBIT '],\n",
              " '21455': ['PAINTED YELLOW WOODEN DAISY'],\n",
              " '21456': ['2 PICTURE BOOK EGGS EASTER CHICKS'],\n",
              " '21457': ['2 PICTURE BOOK EGGS EASTER DUCKS'],\n",
              " '21458': ['2 PICTURE BOOK EGGS EASTER BUNNY'],\n",
              " '21459': ['YELLOW EASTER EGG HUNT START POST'],\n",
              " '21460': ['GREEN EASTER EGG HUNT START POST'],\n",
              " '21461': ['BLUE EASTER EGG HUNT START POST'],\n",
              " '21462': ['NURSERY A,B,C PAINTED LETTERS'],\n",
              " '21463': ['MIRRORED DISCO BALL '],\n",
              " '21464': ['DISCO BALL ROTATOR BATTERY OPERATED'],\n",
              " '21465': ['PINK FLOWER CROCHET FOOD COVER'],\n",
              " '21466': ['RED FLOWER CROCHET FOOD COVER'],\n",
              " '21467': ['CHERRY CROCHET FOOD COVER'],\n",
              " '21468': ['BUTTERFLY CROCHET FOOD COVER'],\n",
              " '21469': ['POLKA DOT RAFFIA FOOD COVER'],\n",
              " '21470': ['FLOWER VINE RAFFIA FOOD COVER'],\n",
              " '21471': ['STRAWBERRY RAFFIA FOOD COVER'],\n",
              " '21472': ['LADYBIRD + BEE RAFFIA FOOD COVER'],\n",
              " '21473': ['SWEETHEART CREAM STEEL TABLE RECT'],\n",
              " '21476': ['STEEL SWEETHEART ROUND TABLE CREAM'],\n",
              " '21479': ['WHITE SKULL HOT WATER BOTTLE '],\n",
              " '21481': ['FAWN BLUE HOT WATER BOTTLE'],\n",
              " '21484': ['CHICK GREY HOT WATER BOTTLE'],\n",
              " '21485': ['RETROSPOT HEART HOT WATER BOTTLE'],\n",
              " '21486': ['PINK HEART DOTS HOT WATER BOTTLE'],\n",
              " '21488': ['RED WHITE SCARF  HOT WATER BOTTLE'],\n",
              " '21494': ['ROTATING LEAVES T-LIGHT HOLDER'],\n",
              " '21495': ['SKULLS AND CROSSBONES WRAP'],\n",
              " '21497': ['FANCY FONTS BIRTHDAY WRAP'],\n",
              " '21498': ['RED RETROSPOT WRAP '],\n",
              " '21499': ['BLUE POLKADOT WRAP'],\n",
              " '21500': ['PINK POLKADOT WRAP '],\n",
              " '21503': ['TOYBOX  WRAP '],\n",
              " '21504': ['SKULLS GREETING CARD'],\n",
              " '21506': ['FANCY FONT BIRTHDAY CARD, '],\n",
              " '21507': ['ELEPHANT BIRTHDAY CARD '],\n",
              " '21508': ['VINTAGE KID DOLLY CARD '],\n",
              " '21509': ['COWBOYS AND INDIANS BIRTHDAY CARD '],\n",
              " '21518': ['BANK ACCOUNT  GREETING  CARD '],\n",
              " '21519': ['GIN & TONIC DIET GREETING CARD '],\n",
              " '21520': ['BOOZE & WOMEN GREETING CARD '],\n",
              " '21523': ['DOORMAT FANCY FONT HOME SWEET HOME'],\n",
              " '21524': ['DOORMAT SPOTTY HOME SWEET HOME'],\n",
              " '21527': ['RED RETROSPOT TRADITIONAL TEAPOT '],\n",
              " '21528': ['DAIRY MAID TRADITIONAL TEAPOT '],\n",
              " '21530': ['DAIRY MAID TOASTRACK'],\n",
              " '21531': ['RED RETROSPOT SUGAR JAM BOWL'],\n",
              " '21533': ['RETROSPOT LARGE MILK JUG'],\n",
              " '21534': ['DAIRY MAID LARGE MILK JUG'],\n",
              " '21535': ['RED RETROSPOT SMALL MILK JUG'],\n",
              " '21537': ['RED RETROSPOT PUDDING BOWL'],\n",
              " '21538': ['DAIRY MAID  PUDDING BOWL'],\n",
              " '21539': ['RED RETROSPOT BUTTER DISH'],\n",
              " '21544': ['SKULLS  WATER TRANSFER TATTOOS '],\n",
              " '21547': ['CERAMIC BIRDHOUSE CRESTED TIT SMALL'],\n",
              " '21555': ['CERAMIC STRAWBERRY TRINKET TRAY'],\n",
              " '21556': ['CERAMIC STRAWBERRY MONEY BOX'],\n",
              " '21557': ['SET OF 6 FUNKY BEAKERS'],\n",
              " '21558': ['SKULL LUNCH BOX WITH CUTLERY '],\n",
              " '21559': ['STRAWBERRY LUNCH BOX WITH CUTLERY'],\n",
              " '21561': ['DINOSAUR LUNCH BOX WITH CUTLERY'],\n",
              " '21562': ['HAWAIIAN GRASS SKIRT '],\n",
              " '21563': ['RED HEART SHAPE LOVE BUCKET '],\n",
              " '21564': ['PINK  HEART SHAPE LOVE BUCKET '],\n",
              " '21576': ['LETS GO SHOPPING COTTON TOTE BAG'],\n",
              " '21577': ['SAVE THE PLANET COTTON TOTE BAG'],\n",
              " '21578': ['WOODLAND DESIGN  COTTON TOTE BAG'],\n",
              " '21579': ['LOLITA  DESIGN  COTTON TOTE BAG'],\n",
              " '21580': ['RABBIT  DESIGN  COTTON TOTE BAG'],\n",
              " '21581': ['SKULLS  DESIGN  COTTON TOTE BAG'],\n",
              " '21584': ['RETROSPOT SMALL TUBE MATCHES'],\n",
              " '21586': ['KINGS CHOICE GIANT TUBE MATCHES'],\n",
              " '21587': ['COSY HOUR GIANT TUBE MATCHES'],\n",
              " '21588': ['RETROSPOT GIANT TUBE MATCHES'],\n",
              " '21591': ['COSY HOUR CIGAR BOX MATCHES '],\n",
              " '21592': ['RETROSPOT CIGAR BOX MATCHES '],\n",
              " '21609': ['SET 12 LAVENDER  BOTANICAL T-LIGHTS'],\n",
              " '21613': ['S/12 VANILLA  BOTANICAL T-LIGHTS'],\n",
              " '21614': ['SET OF 12 ROSE BOTANICAL T-LIGHTS'],\n",
              " '21615': ['4 LAVENDER BOTANICAL DINNER CANDLES'],\n",
              " '21616': ['4 PEAR BOTANICAL DINNER CANDLES'],\n",
              " '21617': ['4 LILY  BOTANICAL DINNER CANDLES'],\n",
              " '21618': ['4 WILDFLOWER BOTANICAL CANDLES'],\n",
              " '21619': ['4 VANILLA BOTANICAL CANDLES'],\n",
              " '21620': ['SET OF 4 ROSE BOTANICAL CANDLES'],\n",
              " '21621': ['VINTAGE UNION JACK BUNTING'],\n",
              " '21622': ['VINTAGE UNION JACK CUSHION COVER'],\n",
              " '21623': ['VINTAGE UNION JACK MEMOBOARD'],\n",
              " '21624': ['VINTAGE UNION JACK DOORSTOP'],\n",
              " '21625': ['VINTAGE UNION JACK APRON'],\n",
              " '21626': ['VINTAGE UNION JACK PENNANT'],\n",
              " '21627': ['ELEPHANT CARNIVAL POUFFE'],\n",
              " '21628': ['TRIANGULAR POUFFE VINTAGE '],\n",
              " '21629': ['SQUARE FLOOR CUSHION VINTAGE RED'],\n",
              " '21630': ['FLOOR CUSHION ELEPHANT CARNIVAL'],\n",
              " '21631': ['HIPPY CHIC DECORATIVE PARASOL'],\n",
              " '21632': ['VINTAGE PINK DECORATIVE PARASOL'],\n",
              " '21633': ['SUNFLOWER DECORATIVE PARASOL'],\n",
              " '21634': ['ASSORTED MINI MADRAS NOTEBOOK'],\n",
              " '21635': ['MADRAS NOTEBOOK LARGE '],\n",
              " '21636': ['MADRAS NOTEBOOK MEDIUM'],\n",
              " '21637': ['ASSORTED SANSKRIT MINI NOTEBOOK'],\n",
              " '21638': ['ASSORTED TUTTI FRUTTI NOTEBOOK'],\n",
              " '21640': ['ASSORTED TUTTI FRUTTI  FOB NOTEBOOK'],\n",
              " '21641': ['ASSORTED TUTTI FRUTTI KEYRING BALL'],\n",
              " '21642': ['ASSORTED TUTTI FRUTTI PEN'],\n",
              " '21643': ['ASSORTED TUTTI FRUTTI MIRROR'],\n",
              " '21644': ['ASSORTED TUTTI FRUTTI HEART BOX'],\n",
              " '21645': ['ASSORTED TUTTI FRUTTI ROUND BOX'],\n",
              " '21647': ['ASSORTED TUTTI FRUTTI LARGE PURSE'],\n",
              " '21648': ['ASSORTED TUTTI FRUTTI SMALL PURSE'],\n",
              " '21650': ['ASSORTED TUTTI FRUTTI BRACELET'],\n",
              " '21651': ['HANGING GLASS ETCHED TEALIGHT'],\n",
              " '21654': ['RIDGED GLASS FINGER BOWL'],\n",
              " '21655': ['HANGING RIDGE GLASS T-LIGHT HOLDER'],\n",
              " '21656': ['RIDGED GLASS POSY VASE '],\n",
              " '21657': ['MILK BOTTLE WITH GLASS STOPPER '],\n",
              " '21658': ['GLASS  BEURRE DISH'],\n",
              " '21661': ['VINTAGE GLASS TEA CADDY'],\n",
              " '21662': ['VINTAGE GLASS COFFEE CADDY'],\n",
              " '21664': ['RIDGED GLASS STORAGE JAR CREAM LID'],\n",
              " '21666': ['RIDGED GLASS T-LIGHT HOLDER'],\n",
              " '21667': ['GLASS CAKE COVER AND PLATE'],\n",
              " '21668': ['RED STRIPE CERAMIC DRAWER KNOB'],\n",
              " '21669': ['BLUE STRIPE CERAMIC DRAWER KNOB'],\n",
              " '21670': ['BLUE SPOT CERAMIC DRAWER KNOB'],\n",
              " '21671': ['RED SPOT CERAMIC DRAWER KNOB'],\n",
              " '21672': ['WHITE SPOT RED CERAMIC DRAWER KNOB'],\n",
              " '21673': ['WHITE SPOT BLUE CERAMIC DRAWER KNOB'],\n",
              " '21675': ['BUTTERFLIES STICKERS'],\n",
              " '21676': ['FLOWERS  STICKERS'],\n",
              " '21677': ['HEARTS  STICKERS'],\n",
              " '21678': ['PAISLEY PATTERN  STICKERS'],\n",
              " '21679': ['SKULLS  STICKERS'],\n",
              " '21680': ['WOODLAND  STICKERS'],\n",
              " '21681': ['GIANT MEDINA STAMPED METAL BOWL '],\n",
              " '21682': ['LARGE MEDINA STAMPED METAL BOWL '],\n",
              " '21683': ['MEDIUM MEDINA STAMPED METAL BOWL '],\n",
              " '21684': ['SMALL MEDINA STAMPED METAL BOWL '],\n",
              " '21686': ['MEDINA STAMPED METAL STOOL'],\n",
              " '21688': ['SILVER PLATE CANDLE BOWL SMALL'],\n",
              " '21689': ['SILVER VANILLA  FLOWER CANDLE POT'],\n",
              " '21690': ['SILVER  CANDLEPOT JARDIN '],\n",
              " '21692': ['SILVER LATTICE VANILLA CANDLE POT'],\n",
              " '21693': ['SMALL HAMMERED SILVER CANDLEPOT '],\n",
              " '21694': ['SMALL REGAL  SILVER CANDLEPOT '],\n",
              " '21695': ['SMALL SILVER FLOWER CANDLE POT'],\n",
              " '21696': ['SMALL SILVER TRELLIS CANDLEPOT'],\n",
              " '21698': ['MOCK LOBSTER FRIDGE MAGNET'],\n",
              " '21700': ['BIG DOUGHNUT FRIDGE MAGNETS'],\n",
              " '21703': ['BAG 125g SWIRLY MARBLES'],\n",
              " '21704': ['BAG 250g SWIRLY MARBLES'],\n",
              " '21705': ['BAG 500g SWIRLY MARBLES'],\n",
              " '21706': ['FOLDING UMBRELLA RED/WHITE POLKADOT'],\n",
              " '21707': ['FOLDING UMBRELLA BLACKBLUE POLKADOT'],\n",
              " '21708': ['FOLDING UMBRELLA CREAM POLKADOT'],\n",
              " '21709': ['FOLDING UMBRELLA CHOCOLATE POLKADOT'],\n",
              " '21710': ['FOLDING UMBRELLA PINKWHITE POLKADOT'],\n",
              " '21711': ['FOLDING UMBRELLA WHITE/RED POLKADOT'],\n",
              " '21713': ['CITRONELLA CANDLE FLOWERPOT'],\n",
              " '21714': ['CITRONELLA CANDLE GARDEN POT'],\n",
              " '21715': ['GIRLS VINTAGE TIN SEASIDE BUCKET'],\n",
              " '21716': ['BOYS VINTAGE TIN SEASIDE BUCKET'],\n",
              " '21717': ['EASTER TIN BUCKET'],\n",
              " '21718': ['RED METAL BEACH SPADE '],\n",
              " '21719': ['LOVELY BONBON STICKER SHEET'],\n",
              " '21720': ['CAKE SHOP  STICKER SHEET'],\n",
              " '21721': ['CANDY SHOP  STICKER SHEET'],\n",
              " '21722': ['SWEET PUDDING STICKER SHEET'],\n",
              " '21723': ['ALPHABET HEARTS STICKER SHEET'],\n",
              " '21724': ['PANDA AND BUNNIES STICKER SHEET'],\n",
              " '21725': ['SWEETIES  STICKERS'],\n",
              " '21726': ['MULTI HEARTS  STICKERS'],\n",
              " '21730': ['GLASS STAR FROSTED T-LIGHT HOLDER'],\n",
              " '21731': ['RED TOADSTOOL LED NIGHT LIGHT'],\n",
              " '21733': ['RED HANGING HEART T-LIGHT HOLDER'],\n",
              " '21735': ['TWO DOOR CURIO CABINET'],\n",
              " '21736': ['GOLD SCROLL GLASS T-LIGHT HOLDER'],\n",
              " '21738': ['COSY SLIPPER SHOES SMALL  RED '],\n",
              " '21739': ['COSY SLIPPER SHOES SMALL GREEN'],\n",
              " '21741': ['COSY SLIPPER SHOES LARGE GREEN'],\n",
              " '21742': ['LARGE ROUND WICKER PLATTER '],\n",
              " '21743': ['STAR PORTABLE TABLE LIGHT '],\n",
              " '21744': ['SNOWFLAKE PORTABLE TABLE LIGHT '],\n",
              " '21745': ['GAOLERS KEYS DECORATIVE GARDEN '],\n",
              " '21746': ['SMALL RED RETROSPOT WINDMILL'],\n",
              " '21747': ['SMALL SKULL WINDMILL'],\n",
              " '21749': ['LARGE RED RETROSPOT WINDMILL'],\n",
              " '21750': ['LARGE SKULL WINDMILL'],\n",
              " '21754': ['HOME BUILDING BLOCK WORD'],\n",
              " '21755': ['LOVE BUILDING BLOCK WORD'],\n",
              " '21756': ['BATH BUILDING BLOCK WORD'],\n",
              " '21757': ['LIGHTHOUSE PRINTED METAL SIGN'],\n",
              " '21758': ['VINTAGE SHELLS PRINT'],\n",
              " '21761': ['WOOD AND GLASS MEDICINE CABINET'],\n",
              " '21763': ['VINTAGE WOODEN BAR STOOL'],\n",
              " '21769': ['VINTAGE POST OFFICE CABINET'],\n",
              " '21770': ['OPEN CLOSED METAL SIGN'],\n",
              " '21773': ['DECORATIVE ROSE BATHROOM BOTTLE'],\n",
              " '21774': ['DECORATIVE CATS BATHROOM BOTTLE'],\n",
              " '21775': ['DECORATIVE FLORE BATHROOM BOTTLE'],\n",
              " '21777': ['RECIPE BOX WITH METAL HEART'],\n",
              " '21781': ['MA CAMPAGNE CUTLERY BOX'],\n",
              " '21784': ['SHOE SHINE BOX '],\n",
              " '21785': ['RAIN PONCHO '],\n",
              " '21786': ['POLKADOT RAIN HAT '],\n",
              " '21787': ['RAIN PONCHO RETROSPOT'],\n",
              " '21788': ['KIDS RAIN MAC BLUE'],\n",
              " '21789': ['KIDS RAIN MAC PINK'],\n",
              " '21790': ['VINTAGE SNAP CARDS'],\n",
              " '21791': ['VINTAGE HEADS AND TAILS CARD GAME '],\n",
              " '21792': ['CLASSIC FRENCH STYLE BASKET GREEN '],\n",
              " '21793': ['CLASSIC FRENCH STYLE BASKET BROWN'],\n",
              " '21794': ['CLASSIC FRENCH STYLE BASKET NATURAL'],\n",
              " '21801': ['CHRISTMAS TREE DECORATION WITH BELL'],\n",
              " '21802': ['CHRISTMAS TREE HEART DECORATION'],\n",
              " '21803': ['CHRISTMAS TREE STAR DECORATION'],\n",
              " '21804': ['WHITE CHRISTMAS GARLAND STARS TREES'],\n",
              " '21807': ['WHITE CHRISTMAS STAR DECORATION'],\n",
              " '21808': ['CHRISTMAS GARLAND STARS,TREES'],\n",
              " '21809': ['CHRISTMAS HANGING TREE WITH BELL'],\n",
              " '21810': ['CHRISTMAS HANGING STAR WITH BELL'],\n",
              " '21811': ['HANGING HEART WITH BELL'],\n",
              " '21812': ['GARLAND WITH HEARTS AND BELLS'],\n",
              " '21813': ['GARLAND WITH STARS AND BELLS'],\n",
              " '21814': ['HEART T-LIGHT HOLDER '],\n",
              " '21815': ['STAR  T-LIGHT HOLDER '],\n",
              " '21816': ['CHRISTMAS TREE T-LIGHT HOLDER'],\n",
              " '21817': ['GLITTER CHRISTMAS TREE'],\n",
              " '21818': ['GLITTER HEART DECORATION'],\n",
              " '21819': ['GLITTER CHRISTMAS STAR '],\n",
              " '21820': ['GLITTER HEART GARLAND WITH BELLS '],\n",
              " '21821': ['GLITTER STAR GARLAND WITH BELLS '],\n",
              " '21822': ['GLITTER CHRISTMAS TREE WITH BELLS'],\n",
              " '21823': ['PAINTED METAL HEART WITH HOLLY BELL'],\n",
              " '21824': ['PAINTED METAL STAR WITH HOLLY BELLS'],\n",
              " '21826': ['EIGHT PIECE DINOSAUR SET'],\n",
              " '21827': ['EIGHT PIECE CREEPY CRAWLIE SET'],\n",
              " '21828': ['EIGHT PIECE SNAKE  SET'],\n",
              " '21829': ['DINOSAUR KEYRINGS ASSORTED'],\n",
              " '21830': ['ASSORTED CREEPY CRAWLIES'],\n",
              " '21832': ['CHOCOLATE CALCULATOR'],\n",
              " '21833': ['CAMOUFLAGE LED TORCH'],\n",
              " '21836': ['GINGHAM OVEN GLOVE RED HEART '],\n",
              " '21839': ['MUMMY MOUSE RED GINGHAM RIBBON'],\n",
              " '21841': ['BABY MOUSE RED GINGHAM DRESS'],\n",
              " '21843': ['RED RETROSPOT CAKE STAND'],\n",
              " '21844': ['RED RETROSPOT MUG'],\n",
              " '21845': ['DAIRY MAID STRIPE MUG'],\n",
              " '21846': ['PINK DIAMANTE PEN IN GIFT BOX'],\n",
              " '21847': ['GREEN  DIAMANTE PEN IN GIFT BOX'],\n",
              " '21849': ['SILVER DIAMANTE PEN IN GIFT BOX'],\n",
              " '21850': ['BLUE  DIAMANTE PEN IN GIFT BOX'],\n",
              " '21851': ['LILAC DIAMANTE PEN IN GIFT BOX'],\n",
              " '21864': ['UNION JACK FLAG PASSPORT COVER '],\n",
              " '21865': ['PINK UNION JACK  PASSPORT COVER '],\n",
              " '21866': ['UNION JACK FLAG LUGGAGE TAG'],\n",
              " '21867': ['PINK UNION JACK  LUGGAGE TAG'],\n",
              " '21868': ['POTTING SHED TEA MUG'],\n",
              " '21870': ['I CAN ONLY PLEASE ONE PERSON MUG'],\n",
              " '21871': ['SAVE THE PLANET MUG'],\n",
              " '21872': ['GLAMOROUS  MUG'],\n",
              " '21873': [\"IF YOU CAN'T STAND THE HEAT MUG\"],\n",
              " '21874': ['GIN AND TONIC MUG'],\n",
              " '21875': ['KINGS CHOICE MUG'],\n",
              " '21876': ['POTTERING MUG'],\n",
              " '21877': ['HOME SWEET HOME MUG'],\n",
              " '21878': ['PACK OF 6 SANDCASTLE FLAGS ASSORTED'],\n",
              " '21879': ['HEARTS GIFT TAPE'],\n",
              " '21880': ['RED RETROSPOT TAPE'],\n",
              " '21881': ['CUTE CATS TAPE'],\n",
              " '21882': ['SKULLS TAPE'],\n",
              " '21883': ['STARS GIFT TAPE '],\n",
              " '21884': ['CAKES AND BOWS GIFT  TAPE'],\n",
              " '21888': ['BINGO SET'],\n",
              " '21889': ['WOODEN BOX OF DOMINOES'],\n",
              " '21890': ['S/6 WOODEN SKITTLES IN COTTON BAG'],\n",
              " '21891': ['TRADITIONAL WOODEN SKIPPING ROPE'],\n",
              " '21892': ['TRADITIONAL WOODEN CATCH CUP GAME '],\n",
              " '21894': ['POTTING SHED SEED ENVELOPES'],\n",
              " '21895': [\"POTTING SHED SOW 'N' GROW SET\"],\n",
              " '21896': ['POTTING SHED TWINE'],\n",
              " '21897': ['POTTING SHED CANDLE CITRONELLA'],\n",
              " '21898': ['POTTING SHED ROSE CANDLE'],\n",
              " '21899': ['GARAGE KEY FOB'],\n",
              " '21900': ['KEY FOB , SHED'],\n",
              " '21901': ['KEY FOB , BACK DOOR '],\n",
              " '21902': ['KEY FOB , FRONT  DOOR '],\n",
              " '21903': ['MAN FLU METAL SIGN'],\n",
              " '21904': ['HOUSE WRECKING METAL SIGN '],\n",
              " '21905': ['MORE BUTTER METAL SIGN '],\n",
              " '21906': ['PHARMACIE FIRST AID TIN'],\n",
              " '21907': [\"I'M ON HOLIDAY METAL SIGN\"],\n",
              " '21908': ['CHOCOLATE THIS WAY METAL SIGN'],\n",
              " '21910': ['WAY OUT METAL SIGN '],\n",
              " '21911': ['GARDEN METAL SIGN '],\n",
              " '21912': ['VINTAGE SNAKES & LADDERS'],\n",
              " '21913': ['VINTAGE SEASIDE JIGSAW PUZZLES'],\n",
              " '21914': ['BLUE HARMONICA IN BOX '],\n",
              " '21915': ['RED  HARMONICA IN BOX '],\n",
              " '21916': ['SET 12 RETRO WHITE CHALK STICKS'],\n",
              " '21917': ['SET 12 KIDS  WHITE CHALK STICKS'],\n",
              " '21918': ['SET 12 KIDS COLOUR  CHALK STICKS'],\n",
              " '21922': ['UNION STRIPE WITH FRINGE  HAMMOCK'],\n",
              " '21925': ['UNION STRIPE CUSHION COVER '],\n",
              " '21926': ['RED/CREAM STRIPE CUSHION COVER '],\n",
              " '21927': ['BLUE/CREAM STRIPE CUSHION COVER '],\n",
              " '21928': ['JUMBO BAG SCANDINAVIAN BLUE PAISLEY'],\n",
              " '21929': ['JUMBO BAG PINK VINTAGE PAISLEY'],\n",
              " '21930': ['JUMBO STORAGE BAG SKULLS'],\n",
              " '21931': ['JUMBO STORAGE BAG SUKI'],\n",
              " '21932': ['SCANDINAVIAN PAISLEY PICNIC BAG'],\n",
              " '21933': ['PINK VINTAGE PAISLEY PICNIC BAG'],\n",
              " '21934': ['SKULL SHOULDER BAG'],\n",
              " '21935': ['SUKI  SHOULDER BAG'],\n",
              " '21936': ['RED RETROSPOT PICNIC BAG'],\n",
              " '21937': ['STRAWBERRY   PICNIC BAG'],\n",
              " '21942': ['SKULLS DESIGN FLANNEL'],\n",
              " '21943': ['CAKES AND RABBITS DESIGN FLANNEL '],\n",
              " '21944': ['KITTENS DESIGN FLANNEL'],\n",
              " '21945': ['STRAWBERRIES  DESIGN FLANNEL '],\n",
              " '21946': ['PARTY TIME DESIGN FLANNEL'],\n",
              " '21947': ['SET OF 6 HEART CHOPSTICKS'],\n",
              " '21948': ['SET OF 6 CAKE CHOPSTICKS'],\n",
              " '21949': ['SET OF 6 STRAWBERRY CHOPSTICKS'],\n",
              " '21955': ['DOORMAT UNION JACK GUNS AND ROSES'],\n",
              " '21967': ['PACK OF 12 SKULL TISSUES'],\n",
              " '21972': ['SET OF 36 DINOSAUR PAPER DOILIES'],\n",
              " '21973': ['SET OF 36 MUSHROOM PAPER DOILIES'],\n",
              " '21974': ['SET OF 36 PAISLEY FLOWER DOILIES'],\n",
              " '21975': ['PACK OF 60 DINOSAUR CAKE CASES'],\n",
              " '21976': ['PACK OF 60 MUSHROOM CAKE CASES'],\n",
              " '21977': ['PACK OF 60 PINK PAISLEY CAKE CASES'],\n",
              " '21980': ['PACK OF 12 RED RETROSPOT TISSUES '],\n",
              " '21981': ['PACK OF 12 WOODLAND TISSUES '],\n",
              " '21982': ['PACK OF 12 SUKI TISSUES '],\n",
              " '21983': ['PACK OF 12 BLUE PAISLEY TISSUES '],\n",
              " '21984': ['PACK OF 12 PINK PAISLEY TISSUES '],\n",
              " '21985': ['PACK OF 12 HEARTS DESIGN TISSUES '],\n",
              " '21986': ['PACK OF 12 PINK POLKADOT TISSUES'],\n",
              " '21987': ['PACK OF 6 SKULL PAPER CUPS'],\n",
              " '21988': ['PACK OF 6 SKULL PAPER PLATES'],\n",
              " '21989': ['PACK OF 20 SKULL PAPER NAPKINS'],\n",
              " '21990': ['MODERN FLORAL STATIONERY SET'],\n",
              " '21991': ['BOHEMIAN COLLAGE STATIONERY SET'],\n",
              " '21992': ['VINTAGE PAISLEY STATIONERY SET'],\n",
              " '21993': ['FLORAL FOLK STATIONERY SET'],\n",
              " '22021': ['BLUE FELT EASTER EGG BASKET'],\n",
              " '22023': ['EMPIRE BIRTHDAY CARD'],\n",
              " '22024': ['RAINY LADIES BIRTHDAY CARD'],\n",
              " '22025': ['RING OF ROSES BIRTHDAY CARD'],\n",
              " '22026': ['BANQUET BIRTHDAY  CARD  '],\n",
              " '22027': ['TEA PARTY BIRTHDAY CARD'],\n",
              " '22028': ['PENNY FARTHING BIRTHDAY CARD'],\n",
              " '22029': ['SPACEBOY BIRTHDAY CARD'],\n",
              " '22030': ['SWALLOWS GREETING CARD'],\n",
              " '22031': ['BOTANICAL LAVENDER BIRTHDAY CARD'],\n",
              " '22032': ['BOTANICAL LILY GREETING CARD'],\n",
              " '22033': ['BOTANICAL ROSE GREETING CARD'],\n",
              " '22034': ['ROBIN CHRISTMAS CARD'],\n",
              " '22035': ['VINTAGE CARAVAN GREETING CARD '],\n",
              " '22037': ['ROBOT BIRTHDAY CARD'],\n",
              " '22038': ['BOTANICAL LAVENDER GIFT WRAP '],\n",
              " '22039': ['BOTANICAL LILY GIFT WRAP'],\n",
              " '22040': ['BOTANICAL ROSE GIFT WRAP'],\n",
              " '22041': ['RECORD FRAME 7\" SINGLE SIZE '],\n",
              " '22042': ['CHRISTMAS CARD SINGING ANGEL'],\n",
              " '22043': ['CHRISTMAS CARD SCREEN PRINT '],\n",
              " '22044': ['CHRISTMAS CARD STACK OF PRESENTS'],\n",
              " '22045': ['SPACEBOY GIFT WRAP'],\n",
              " '22046': ['TEA PARTY  WRAPPING PAPER '],\n",
              " '22047': ['EMPIRE GIFT WRAP'],\n",
              " '22048': ['BIRTHDAY BANQUET GIFT WRAP'],\n",
              " '22049': ['WRAP CHRISTMAS SCREEN PRINT'],\n",
              " '22050': ['PINK PAISLEY ROSE GIFT WRAP'],\n",
              " '22051': ['BLUE SCANDINAVIAN PAISLEY WRAP'],\n",
              " '22052': ['VINTAGE CARAVAN GIFT WRAP'],\n",
              " '22053': ['EMPIRE DESIGN ROSETTE'],\n",
              " '22055': ['MINI CAKE STAND  HANGING STRAWBERY'],\n",
              " '22057': ['CERAMIC PLATE STRAWBERRY DESIGN'],\n",
              " '22059': ['CERAMIC STRAWBERRY DESIGN MUG'],\n",
              " '22060': ['LARGE CAKE STAND HANGING HEARTS'],\n",
              " '22061': ['LARGE CAKE STAND  HANGING STRAWBERY'],\n",
              " '22062': ['CERAMIC BOWL WITH LOVE HEART DESIGN'],\n",
              " '22063': ['CERAMIC BOWL WITH STRAWBERRY DESIGN'],\n",
              " '22064': ['PINK DOUGHNUT TRINKET POT '],\n",
              " '22065': ['CHRISTMAS PUDDING TRINKET POT '],\n",
              " '22066': ['LOVE HEART TRINKET POT'],\n",
              " '22067': ['CHOC TRUFFLE GOLD TRINKET POT '],\n",
              " '22068': ['BLACK PIRATE TREASURE CHEST'],\n",
              " '22069': ['BROWN  PIRATE TREASURE CHEST '],\n",
              " '22070': ['SMALL RED RETROSPOT MUG IN BOX '],\n",
              " '22071': ['SMALL WHITE RETROSPOT MUG IN BOX '],\n",
              " '22072': ['RED RETROSPOT TEA CUP AND SAUCER '],\n",
              " '22073': ['RED RETROSPOT STORAGE JAR'],\n",
              " '22074': ['6 RIBBONS SHIMMERING PINKS '],\n",
              " '22075': ['6 RIBBONS ELEGANT CHRISTMAS '],\n",
              " '22076': ['6 RIBBONS EMPIRE  '],\n",
              " '22077': ['6 RIBBONS RUSTIC CHARM'],\n",
              " '22078': ['RIBBON REEL LACE DESIGN '],\n",
              " '22079': ['RIBBON REEL HEARTS DESIGN '],\n",
              " '22080': ['RIBBON REEL POLKADOTS '],\n",
              " '22081': ['RIBBON REEL FLORA + FAUNA '],\n",
              " '22082': ['RIBBON REEL STRIPES DESIGN '],\n",
              " '22083': ['PAPER CHAIN KIT RETROSPOT'],\n",
              " '22084': ['PAPER CHAIN KIT EMPIRE'],\n",
              " '22085': ['PAPER CHAIN KIT SKULLS '],\n",
              " '22086': [\"PAPER CHAIN KIT 50'S CHRISTMAS \"],\n",
              " '22087': ['PAPER BUNTING WHITE LACE'],\n",
              " '22088': ['PAPER BUNTING COLOURED LACE'],\n",
              " '22089': ['PAPER BUNTING VINTAGE PAISLEY'],\n",
              " '22090': ['PAPER BUNTING RETROSPOT'],\n",
              " '22091': ['EMPIRE TISSUE BOX'],\n",
              " '22092': ['BLUE PAISLEY TISSUE BOX'],\n",
              " '22093': ['MOTORING TISSUE BOX'],\n",
              " '22094': ['RED RETROSPOT TISSUE BOX'],\n",
              " '22095': ['LADS ONLY TISSUE BOX'],\n",
              " '22096': ['PINK PAISLEY SQUARE TISSUE BOX '],\n",
              " '22097': ['SWALLOW SQUARE TISSUE BOX'],\n",
              " '22098': ['BOUDOIR SQUARE TISSUE BOX'],\n",
              " '22099': ['CARAVAN SQUARE TISSUE BOX'],\n",
              " ...}"
            ]
          },
          "metadata": {
            "tags": []
          },
          "execution_count": 50
        }
      ]
    },
    {
      "cell_type": "code",
      "metadata": {
        "id": "Bts2wn6oR_ZY",
        "colab_type": "code",
        "colab": {
          "base_uri": "https://localhost:8080/",
          "height": 34
        },
        "outputId": "e0a79276-3de8-42a8-d1fb-597f717af40a"
      },
      "source": [
        "#Test the dictionary\n",
        "products_dict['16162L']"
      ],
      "execution_count": null,
      "outputs": [
        {
          "output_type": "execute_result",
          "data": {
            "text/plain": [
              "['THE KING GIFT BAG']"
            ]
          },
          "metadata": {
            "tags": []
          },
          "execution_count": 51
        }
      ]
    },
    {
      "cell_type": "code",
      "metadata": {
        "id": "fgSKivdrirxG",
        "colab_type": "code",
        "colab": {}
      },
      "source": [
        "#Define the top 6  similar products for fasttext model\n",
        "def similar_products(v,n=6):\n",
        "    ms=model_ft.similar_by_vector(v,topn=n+1)\n",
        "    return ms\n",
        "    #extract the name and similarity\n",
        "    #new_ms=[]\n",
        "    #for j in ms:\n",
        "        #pair=(products_dict[j[0][0],j[1]])\n",
        "        #new_ms.append(pair)\n",
        "    #return new_ms\n",
        "    "
      ],
      "execution_count": null,
      "outputs": []
    },
    {
      "cell_type": "code",
      "metadata": {
        "id": "6SC7seTFiyMT",
        "colab_type": "code",
        "colab": {
          "base_uri": "https://localhost:8080/",
          "height": 136
        },
        "outputId": "d13dd0b4-45ff-4eae-af53-24820b62733a"
      },
      "source": [
        "similar_products(model_ft['17109D'])"
      ],
      "execution_count": null,
      "outputs": [
        {
          "output_type": "execute_result",
          "data": {
            "text/plain": [
              "[('17109D', 1.0),\n",
              " ('17107D', 0.7641779184341431),\n",
              " ('22769', 0.7364847660064697),\n",
              " ('21112', 0.6938855648040771),\n",
              " ('85103', 0.6911485195159912),\n",
              " ('35915C', 0.6852931976318359),\n",
              " ('35915B', 0.6817309856414795)]"
            ]
          },
          "metadata": {
            "tags": []
          },
          "execution_count": 53
        }
      ]
    },
    {
      "cell_type": "code",
      "metadata": {
        "id": "xttVADQBR_Zk",
        "colab_type": "code",
        "colab": {}
      },
      "source": [
        "from gensim.models import Doc2Vec"
      ],
      "execution_count": 13,
      "outputs": []
    },
    {
      "cell_type": "code",
      "metadata": {
        "id": "VS347dnntMVC",
        "colab_type": "code",
        "colab": {}
      },
      "source": [
        "import logging\n",
        "logging.basicConfig(format='%(asctime)s %(message)s', datefmt='%m/%d/%Y %I:%M:%S %p')\n",
        "logging.info()"
      ],
      "execution_count": null,
      "outputs": []
    },
    {
      "cell_type": "code",
      "metadata": {
        "id": "7I-N9BwubmCX",
        "colab_type": "code",
        "colab": {}
      },
      "source": [
        "#dm - 1 means distributed memory similar to Word2vec CBOW\n",
        "#Distributed Memory model preserves the word order in a document \n",
        "#100 dime vector for embedding ( size = 50)\n",
        "#epochs = 50\n",
        "#min_count =2 indicates words that should appear in minimum of 2 documents - less occurance would be discarded\n",
        "#'alpha' is learning-rate,"
      ],
      "execution_count": null,
      "outputs": []
    },
    {
      "cell_type": "code",
      "metadata": {
        "id": "hVBN8QKhbhf6",
        "colab_type": "code",
        "colab": {}
      },
      "source": [
        "Docmodel = Doc2Vec(size=100,\n",
        "                alpha=0.025, \n",
        "                min_alpha=0.00025,\n",
        "                min_count=2,\n",
        "                dm =1)"
      ],
      "execution_count": 14,
      "outputs": []
    },
    {
      "cell_type": "code",
      "metadata": {
        "id": "qgfxuLoXfoMc",
        "colab_type": "code",
        "colab": {
          "base_uri": "https://localhost:8080/",
          "height": 34
        },
        "outputId": "0c228aaf-0472-4ca6-fc10-46039698a793"
      },
      "source": [
        "print(Docmodel)"
      ],
      "execution_count": null,
      "outputs": [
        {
          "output_type": "stream",
          "text": [
            "Doc2Vec(dm/m,d100,n5,w5,mc2,s0.001,t3)\n"
          ],
          "name": "stdout"
        }
      ]
    },
    {
      "cell_type": "code",
      "metadata": {
        "id": "KaWU1SGsiCWO",
        "colab_type": "code",
        "colab": {}
      },
      "source": [
        "#Doc2vec requires the documents in tagged documents form\n",
        "from gensim.models.doc2vec import TaggedDocument"
      ],
      "execution_count": 41,
      "outputs": []
    },
    {
      "cell_type": "code",
      "metadata": {
        "id": "hkPfSGjXUWzR",
        "colab_type": "code",
        "colab": {
          "base_uri": "https://localhost:8080/",
          "height": 163
        },
        "outputId": "3a337e99-8379-4097-fc81-d73e9285ac79"
      },
      "source": [
        "train_text=[TaggedDocument(words=sent , tags=[index]) for index,sent in enumerate(purchases_train) ]"
      ],
      "execution_count": 42,
      "outputs": [
        {
          "output_type": "error",
          "ename": "NameError",
          "evalue": "ignored",
          "traceback": [
            "\u001b[0;31m---------------------------------------------------------------------------\u001b[0m",
            "\u001b[0;31mNameError\u001b[0m                                 Traceback (most recent call last)",
            "\u001b[0;32m<ipython-input-42-68429ba92ae1>\u001b[0m in \u001b[0;36m<module>\u001b[0;34m()\u001b[0m\n\u001b[0;32m----> 1\u001b[0;31m \u001b[0mtrain_text\u001b[0m\u001b[0;34m=\u001b[0m\u001b[0;34m[\u001b[0m\u001b[0mTaggedDocument\u001b[0m\u001b[0;34m(\u001b[0m\u001b[0mwords\u001b[0m\u001b[0;34m=\u001b[0m\u001b[0msent\u001b[0m \u001b[0;34m,\u001b[0m \u001b[0mtags\u001b[0m\u001b[0;34m=\u001b[0m\u001b[0;34m[\u001b[0m\u001b[0mindex\u001b[0m\u001b[0;34m]\u001b[0m\u001b[0;34m)\u001b[0m \u001b[0;32mfor\u001b[0m \u001b[0mindex\u001b[0m\u001b[0;34m,\u001b[0m\u001b[0msent\u001b[0m \u001b[0;32min\u001b[0m \u001b[0menumerate\u001b[0m\u001b[0;34m(\u001b[0m\u001b[0mpurchases_train\u001b[0m\u001b[0;34m)\u001b[0m \u001b[0;34m]\u001b[0m\u001b[0;34m\u001b[0m\u001b[0;34m\u001b[0m\u001b[0m\n\u001b[0m",
            "\u001b[0;31mNameError\u001b[0m: name 'purchases_train' is not defined"
          ]
        }
      ]
    },
    {
      "cell_type": "code",
      "metadata": {
        "id": "L8zJvWh8lVMD",
        "colab_type": "code",
        "colab": {
          "base_uri": "https://localhost:8080/",
          "height": 54
        },
        "outputId": "ff40336d-4bab-427e-e0ce-c801e1913ca2"
      },
      "source": [
        "#assign a setnce \n",
        "train_text[2]"
      ],
      "execution_count": null,
      "outputs": [
        {
          "output_type": "execute_result",
          "data": {
            "text/plain": [
              "TaggedDocument(words=['20996', '21993', '22161', '35651', '35923', '22457', '22716', '84879', '22081', '22079', '22082', '85087', '84919', '23108', '23108', '85087', '84951A', '85078', '16169E', '23352', '23210', '23145', '23211', '23212', '23213', '23311', '23318', '23319', '23432', '23431', '23550', '21373', '22096', '23354', '85048', '22186', '22823', '22554', '21981', '35953', '85048', '22943', '22835', '22112', '21744', '23240', '23236', '22722', '23243', '23245', '22720', '22969'], tags=[2])"
            ]
          },
          "metadata": {
            "tags": []
          },
          "execution_count": 28
        }
      ]
    },
    {
      "cell_type": "code",
      "metadata": {
        "id": "FegFqwBgmFqj",
        "colab_type": "code",
        "colab": {
          "base_uri": "https://localhost:8080/",
          "height": 901
        },
        "outputId": "e1572b34-97bb-4ad7-b74b-022314b9d0a6"
      },
      "source": [
        "#assign a sample \n",
        "sample_test= train_text[2][0]\n",
        "#print\n",
        "sample_test"
      ],
      "execution_count": null,
      "outputs": [
        {
          "output_type": "execute_result",
          "data": {
            "text/plain": [
              "['20996',\n",
              " '21993',\n",
              " '22161',\n",
              " '35651',\n",
              " '35923',\n",
              " '22457',\n",
              " '22716',\n",
              " '84879',\n",
              " '22081',\n",
              " '22079',\n",
              " '22082',\n",
              " '85087',\n",
              " '84919',\n",
              " '23108',\n",
              " '23108',\n",
              " '85087',\n",
              " '84951A',\n",
              " '85078',\n",
              " '16169E',\n",
              " '23352',\n",
              " '23210',\n",
              " '23145',\n",
              " '23211',\n",
              " '23212',\n",
              " '23213',\n",
              " '23311',\n",
              " '23318',\n",
              " '23319',\n",
              " '23432',\n",
              " '23431',\n",
              " '23550',\n",
              " '21373',\n",
              " '22096',\n",
              " '23354',\n",
              " '85048',\n",
              " '22186',\n",
              " '22823',\n",
              " '22554',\n",
              " '21981',\n",
              " '35953',\n",
              " '85048',\n",
              " '22943',\n",
              " '22835',\n",
              " '22112',\n",
              " '21744',\n",
              " '23240',\n",
              " '23236',\n",
              " '22722',\n",
              " '23243',\n",
              " '23245',\n",
              " '22720',\n",
              " '22969']"
            ]
          },
          "metadata": {
            "tags": []
          },
          "execution_count": 29
        }
      ]
    },
    {
      "cell_type": "code",
      "metadata": {
        "id": "LMV-TvFIVvLz",
        "colab_type": "code",
        "colab": {
          "base_uri": "https://localhost:8080/",
          "height": 54
        },
        "outputId": "ae3cbbf7-edf5-43d8-f35e-028a5aad1ec0"
      },
      "source": [
        "print(train_text[0:2])"
      ],
      "execution_count": null,
      "outputs": [
        {
          "output_type": "stream",
          "text": [
            "[TaggedDocument(words=['84879', '22745', '22748', '22749', '22310', '84969', '22623', '22622', '21754', '21755', '21777', '48187', '22960', '22913', '22912', '22914', '21756', '22274', '16161P', '22766', '22708', '23231', '85015', '85016', '22829', '22722', '22960', '22961', '22969', '22720', '22549', '20972', '22743', '84969', '22622', '21658', '21756', '21754', '21755', '48184', '22692', '22748', '22745', '22749', '22960', '22722', '22720', '20972', '22274', '84969', '22623', '22499', '22607', '21658', '47566', '21756', '21754', '21755', '21902', '21901', '21899', '21900', '22077', '85123A', '84969', '21658', '22969', '23152', '23182', '23161', '23160', '23163', '23162', '23164', '23177', '23176', '23006', '22996', '23070', '23126', '23299', '84969', '21658', '22423', '47566', '21621', '21658', '23126', '23092', '23112', '23110', '23111', '23118', '23093', '23089', '23168', '23236', '23240', '23175', '23173', '23245', '23032', '23031', '23029', '23028', '85053', '22090', '22089', '22088', '85123A', '21755', '47566', '22423', '84969', '23126', '20972', '22720', '23152', '23162', '23163', '23245', '23236', '23110', '23118', '22423', '23028', '22720', '23029', '85123A', '23111', '23112', '22623', '16161P', '21754', '21755', '21901', '21900', '48187', '23112', '23111', '23110', '23093', '23028', '23245', '23240', '23173', '23236', '23182', '23161', '23160', '22960', '23546', '23545', '23231', '22720', '22708', '22986', '23160', '23160', '22739', '23435', '22960', '22722', '22720', '20972', '22621', '48188', '48184', '48187', '23032', '23031', '85053', '23245', '22899', '22367', '23514', '23513', '23511', '23198', '23294', '23295', '23025', '23470', '23397', '23096', '23487', '23109', '23434', '22086', '85049E', '23245', '23198', '23031', '23487', 'M', 'M'], tags=[0]), TaggedDocument(words=['20682', '22722', '22993', '23052', '21584', '22721', '22807', '22980', '22176', '22979', '22989', '22990', '22907', '21929', '21928', '22356', '22386', '85099F', '20712', '22895', '21578', '47566', '23207', '20719', '23206', '22355', '23208', '84375', '21088', '22353', '21559', '22084', '22963', '22962', '22607', '22626', '22847', '23169', '23168', '22624', '22627', '21528', '21217', '23236', '23237', '23239', '23326', '23242', '23241', '23240', '23243', '23293', '23307', '23296', '23295', '23294', '23091', '22666', '23245', '22895', '22895', '22349', '84991', '23307', '23308', '22720', '22961', '23235', '23167', '23166', '23165', '21558', '23287', '22352', '22328', '22326', '22327', '23286', '23287', '23288', '23285', '85135C', '85136A', '22993', '23306', '22076', '85049C', '22077', '85049F', '85049E', '85049G', '47566', '23298', '23206', '20726', '23207', '23209', '23200', '23199', '21928', '20712', '23203', '23202', '22411', '85071C', '23191', '22910', '22086', '23247', '23234', '23344', '23343', '23313', '23298', '22138', '20981', '23100', '22421', '23500', '23167', '22082', '22966', '23497', '22993', '22630', '22722', '23190', '22991', '22992', '22561', '23188', '23236', '23240', '23241', '23242', '48187', '20723', '22356', '23209', '23204', '22661', '20719', '23293', '23203', '23582', '20718', '20723', '22355', '20719', '23469', '21200', '22885', '22882', '22866', '23167', '23313', '23340', '22966', '23510', '21790', '23504', '22993', '23497', '23502', '23507', '22943', '23570', '21889', '22993', '23497', '23510', '23507', '23508', '23510', '10135', '23372', '23370'], tags=[1])]\n"
          ],
          "name": "stdout"
        }
      ]
    },
    {
      "cell_type": "code",
      "metadata": {
        "id": "sDmIxHv33Lci",
        "colab_type": "code",
        "colab": {}
      },
      "source": [
        "#build vocabulary for the  model\n",
        "Docmodel.build_vocab(train_text)"
      ],
      "execution_count": null,
      "outputs": []
    },
    {
      "cell_type": "code",
      "metadata": {
        "id": "f6sht_QqDkdU",
        "colab_type": "code",
        "colab": {
          "base_uri": "https://localhost:8080/",
          "height": 163
        },
        "outputId": "5c2cfd24-83de-4d05-a6d8-2762348caedd"
      },
      "source": [
        "print(len(train_text))"
      ],
      "execution_count": 40,
      "outputs": [
        {
          "output_type": "error",
          "ename": "NameError",
          "evalue": "ignored",
          "traceback": [
            "\u001b[0;31m---------------------------------------------------------------------------\u001b[0m",
            "\u001b[0;31mNameError\u001b[0m                                 Traceback (most recent call last)",
            "\u001b[0;32m<ipython-input-40-3f746d534556>\u001b[0m in \u001b[0;36m<module>\u001b[0;34m()\u001b[0m\n\u001b[0;32m----> 1\u001b[0;31m \u001b[0mprint\u001b[0m\u001b[0;34m(\u001b[0m\u001b[0mlen\u001b[0m\u001b[0;34m(\u001b[0m\u001b[0mtrain_text\u001b[0m\u001b[0;34m)\u001b[0m\u001b[0;34m)\u001b[0m\u001b[0;34m\u001b[0m\u001b[0;34m\u001b[0m\u001b[0m\n\u001b[0m",
            "\u001b[0;31mNameError\u001b[0m: name 'train_text' is not defined"
          ]
        }
      ]
    },
    {
      "cell_type": "code",
      "metadata": {
        "id": "aix2463b47al",
        "colab_type": "code",
        "colab": {
          "base_uri": "https://localhost:8080/",
          "height": 34
        },
        "outputId": "d525c2ff-e1f5-4370-96ad-4c1335e79a37"
      },
      "source": [
        "print(Docmodel.corpus_count)"
      ],
      "execution_count": null,
      "outputs": [
        {
          "output_type": "stream",
          "text": [
            "3935\n"
          ],
          "name": "stdout"
        }
      ]
    },
    {
      "cell_type": "code",
      "metadata": {
        "id": "umNctm_b4oyd",
        "colab_type": "code",
        "colab": {}
      },
      "source": [
        "#Train the model\n",
        "Docmodel.train(train_text,total_examples=Docmodel.corpus_count,epochs=5,report_delay=1)"
      ],
      "execution_count": null,
      "outputs": []
    },
    {
      "cell_type": "code",
      "metadata": {
        "id": "n-WIFUdXY3e-",
        "colab_type": "code",
        "colab": {}
      },
      "source": [
        "#save the model\n",
        "Docmodel.save('/content/drive/My Drive/NLP/Doc2vec-ProductRecommendation.model')"
      ],
      "execution_count": null,
      "outputs": []
    },
    {
      "cell_type": "code",
      "metadata": {
        "id": "J0ZTpAbUZNSi",
        "colab_type": "code",
        "colab": {
          "base_uri": "https://localhost:8080/",
          "height": 119
        },
        "outputId": "55dce227-ff72-4eea-f579-b5e5d42db535"
      },
      "source": [
        "docmodel_1=Doc2Vec.load('/content/drive/My Drive/NLP/Doc2vec-ProductRecommendation.model')"
      ],
      "execution_count": 15,
      "outputs": [
        {
          "output_type": "stream",
          "text": [
            "07/17/2020 07:09:41 AM loading Doc2Vec object from /content/drive/My Drive/NLP/Doc2vec-ProductRecommendation.model\n",
            "07/17/2020 07:09:42 AM loading vocabulary recursively from /content/drive/My Drive/NLP/Doc2vec-ProductRecommendation.model.vocabulary.* with mmap=None\n",
            "07/17/2020 07:09:42 AM loading trainables recursively from /content/drive/My Drive/NLP/Doc2vec-ProductRecommendation.model.trainables.* with mmap=None\n",
            "07/17/2020 07:09:42 AM loading wv recursively from /content/drive/My Drive/NLP/Doc2vec-ProductRecommendation.model.wv.* with mmap=None\n",
            "07/17/2020 07:09:42 AM loading docvecs recursively from /content/drive/My Drive/NLP/Doc2vec-ProductRecommendation.model.docvecs.* with mmap=None\n",
            "07/17/2020 07:09:42 AM loaded /content/drive/My Drive/NLP/Doc2vec-ProductRecommendation.model\n"
          ],
          "name": "stdout"
        }
      ]
    },
    {
      "cell_type": "code",
      "metadata": {
        "id": "GUTGrDS_ZguL",
        "colab_type": "code",
        "colab": {
          "base_uri": "https://localhost:8080/",
          "height": 238
        },
        "outputId": "611d4805-6b66-4ad4-d2cc-32805c3b1f70"
      },
      "source": [
        "#Retrieve the vectors for the model\n",
        "docmodel_1.wv.vectors"
      ],
      "execution_count": 16,
      "outputs": [
        {
          "output_type": "execute_result",
          "data": {
            "text/plain": [
              "array([[ 0.65055907,  0.75412697,  0.75339526, ...,  0.48260182,\n",
              "        -0.844358  , -0.69295985],\n",
              "       [-0.80731124,  0.63153774, -0.41522557, ...,  0.27193677,\n",
              "         0.28824317, -0.41195416],\n",
              "       [-0.23228322,  1.2209187 , -0.18106905, ..., -0.45493317,\n",
              "        -0.39474556,  0.14014646],\n",
              "       ...,\n",
              "       [-0.0111066 ,  0.00964599, -0.00202635, ..., -0.01015447,\n",
              "        -0.01109613, -0.02493961],\n",
              "       [-0.06410803,  0.07010985, -0.0333432 , ..., -0.03099911,\n",
              "        -0.00861119, -0.02187861],\n",
              "       [-0.08403932,  0.11332393, -0.05102785, ..., -0.06139354,\n",
              "        -0.00382461, -0.01660842]], dtype=float32)"
            ]
          },
          "metadata": {
            "tags": []
          },
          "execution_count": 16
        }
      ]
    },
    {
      "cell_type": "code",
      "metadata": {
        "id": "D_UpUVrn_2Xg",
        "colab_type": "code",
        "colab": {
          "base_uri": "https://localhost:8080/",
          "height": 34
        },
        "outputId": "c0bd3028-5bb5-46f2-e17b-ea8a868cd7fa"
      },
      "source": [
        "#Visualize the embeddings\n",
        "#use tsne\n",
        "docvec_tnse=docmodel_1.wv.vectors\n",
        "from sklearn.manifold import TSNE\n",
        "tsne_doc=TSNE(n_components=2).fit_transform(docvec_tnse)\n",
        "tsne_doc.shape"
      ],
      "execution_count": 33,
      "outputs": [
        {
          "output_type": "execute_result",
          "data": {
            "text/plain": [
              "(3469, 2)"
            ]
          },
          "metadata": {
            "tags": []
          },
          "execution_count": 33
        }
      ]
    },
    {
      "cell_type": "code",
      "metadata": {
        "id": "x7AVa6J2AdiQ",
        "colab_type": "code",
        "colab": {}
      },
      "source": [
        "vocab2=list(docmodel_1.wv.vocab)\n",
        "df3 = pd.DataFrame(tsne, index=vocab2,columns=['X','Y'])"
      ],
      "execution_count": 37,
      "outputs": []
    },
    {
      "cell_type": "code",
      "metadata": {
        "id": "Xs0X2_9yA68z",
        "colab_type": "code",
        "colab": {
          "base_uri": "https://localhost:8080/",
          "height": 265
        },
        "outputId": "2e417188-882c-49b5-bdd2-fb1ca4e8c300"
      },
      "source": [
        "#Visualize the TSNE plot\n",
        "import matplotlib.pyplot as plt\n",
        "fig=plt.figure()\n",
        "ax=fig.add_subplot(111)\n",
        "#%matplotlib inline\n",
        "ax.scatter(df3['X'],df3['Y'],c=df3['X'],cmap='Spectral')\n",
        "#label the data\n",
        "#ax.set_xlim(-40,40)\n",
        "#ax.set_ylim(-30,30)\n",
        "plt.show()"
      ],
      "execution_count": 38,
      "outputs": [
        {
          "output_type": "display_data",
          "data": {
            "image/png": "[encoded data removed]",
            "text/plain": [
              "<Figure size 432x288 with 1 Axes>"
            ]
          },
          "metadata": {
            "tags": [],
            "needs_background": "light"
          }
        }
      ]
    },
    {
      "cell_type": "code",
      "metadata": {
        "id": "-qPB-s3HkfmU",
        "colab_type": "code",
        "colab": {
          "base_uri": "https://localhost:8080/",
          "height": 34
        },
        "outputId": "f21f7f1b-6a60-4087-9514-53b9a8161e70"
      },
      "source": [
        "docmodel_1.wv.vectors.shape"
      ],
      "execution_count": 17,
      "outputs": [
        {
          "output_type": "execute_result",
          "data": {
            "text/plain": [
              "(3469, 100)"
            ]
          },
          "metadata": {
            "tags": []
          },
          "execution_count": 17
        }
      ]
    },
    {
      "cell_type": "code",
      "metadata": {
        "id": "ghYkKnFa0oNO",
        "colab_type": "code",
        "colab": {
          "base_uri": "https://localhost:8080/",
          "height": 459
        },
        "outputId": "778d49c1-8079-4939-eff2-22afc3ecc2a1"
      },
      "source": [
        "#the paragrpah vectors learnt during the training process\n",
        "docmodel_1.docvecs[2]"
      ],
      "execution_count": 18,
      "outputs": [
        {
          "output_type": "execute_result",
          "data": {
            "text/plain": [
              "array([-1.99772879e-01,  2.32261315e-01, -3.15092839e-02, -1.62578765e-02,\n",
              "       -3.59969735e-01,  9.63180587e-02,  2.21447945e-01, -7.34413117e-02,\n",
              "        5.90637885e-02, -1.08563341e-01, -1.61556810e-01, -4.16821893e-03,\n",
              "        9.81738344e-02,  8.16979781e-02,  1.65056959e-01, -2.07825191e-02,\n",
              "        7.66004249e-02,  4.15873617e-01, -3.13161314e-02,  1.87133417e-01,\n",
              "       -1.46958813e-01, -2.49525979e-01,  3.22574750e-02, -1.19536959e-01,\n",
              "       -4.99954857e-02, -1.38929591e-01, -1.58848956e-01,  3.63480747e-02,\n",
              "        2.56329805e-01,  4.06800881e-02,  5.50919212e-02, -1.24772200e-02,\n",
              "       -7.76661886e-03, -1.76645905e-01,  1.33952960e-01,  2.43737265e-01,\n",
              "        1.26912683e-01, -2.36248150e-01,  6.26264438e-02, -2.81651467e-01,\n",
              "       -8.32208842e-02, -9.65625569e-02,  1.26850992e-01,  7.90116340e-02,\n",
              "        8.72962698e-02, -1.47525202e-02,  1.58111110e-01, -1.43926427e-01,\n",
              "        4.01554793e-01,  8.37288946e-02, -1.30527452e-01, -2.01357268e-02,\n",
              "       -3.16757001e-02,  8.53263885e-02,  9.16136205e-02,  5.37854545e-02,\n",
              "       -1.27161190e-01, -2.32670143e-01,  2.07204949e-02,  7.74679407e-02,\n",
              "       -1.64097786e-01, -1.77452266e-01,  1.91170964e-02, -1.32689789e-01,\n",
              "        4.29808199e-02,  3.68886255e-02, -2.03472450e-01,  1.35397077e-01,\n",
              "       -9.91468951e-02, -1.17811058e-02, -5.73405623e-03,  1.23100333e-01,\n",
              "       -5.30877076e-02, -2.87842005e-02, -1.52372941e-01,  1.67617559e-01,\n",
              "       -1.95000052e-01,  1.36643648e-01,  6.85759187e-02, -1.48712024e-01,\n",
              "        5.36304638e-02, -1.18384518e-01,  1.52209952e-01, -5.22868037e-02,\n",
              "       -1.89311460e-01, -8.67363960e-02, -2.67940044e-01, -1.62512884e-02,\n",
              "        1.28182307e-01,  1.75666273e-01, -2.75637619e-02, -1.07608698e-01,\n",
              "       -3.24502558e-01, -1.24269269e-01, -9.83981192e-02,  1.11583344e-04,\n",
              "       -2.27038711e-02,  8.21927190e-02,  2.66634822e-02, -1.86746299e-01],\n",
              "      dtype=float32)"
            ]
          },
          "metadata": {
            "tags": []
          },
          "execution_count": 18
        }
      ]
    },
    {
      "cell_type": "code",
      "metadata": {
        "id": "Q_RMfQGaEFuD",
        "colab_type": "code",
        "colab": {}
      },
      "source": [
        "sample1=docmodel_1.docvecs[1]"
      ],
      "execution_count": 20,
      "outputs": []
    },
    {
      "cell_type": "code",
      "metadata": {
        "id": "j-qMfydU9SxJ",
        "colab_type": "code",
        "colab": {
          "base_uri": "https://localhost:8080/",
          "height": 102
        },
        "outputId": "e3a235e1-3c53-4f81-92ed-f1273b59da6e"
      },
      "source": [
        "docmodel_1.docvecs.most_similar(positive=[sample1],topn=5)"
      ],
      "execution_count": 22,
      "outputs": [
        {
          "output_type": "execute_result",
          "data": {
            "text/plain": [
              "[(1, 1.0),\n",
              " (2368, 0.9573182463645935),\n",
              " (935, 0.947066068649292),\n",
              " (2992, 0.9464515447616577),\n",
              " (124, 0.9400618076324463)]"
            ]
          },
          "metadata": {
            "tags": []
          },
          "execution_count": 22
        }
      ]
    },
    {
      "cell_type": "code",
      "metadata": {
        "id": "kpfblx1s-MVP",
        "colab_type": "code",
        "colab": {}
      },
      "source": [
        "#unknown combination \n",
        "sample_test=['85116','21171']"
      ],
      "execution_count": 24,
      "outputs": []
    },
    {
      "cell_type": "code",
      "metadata": {
        "id": "LAjOf4Bmn82-",
        "colab_type": "code",
        "colab": {
          "base_uri": "https://localhost:8080/",
          "height": 374
        },
        "outputId": "740436d6-7493-458f-8a7c-4cbb1621a00b"
      },
      "source": [
        "#infer the vector from the given token list\n",
        "ivec = docmodel_1.infer_vector(doc_words=sample_test,steps=10,alpha=0.025)\n",
        "#print the vector\n",
        "ivec"
      ],
      "execution_count": 25,
      "outputs": [
        {
          "output_type": "execute_result",
          "data": {
            "text/plain": [
              "array([-0.00884245,  0.02677261, -0.00482867, -0.0391798 , -0.026711  ,\n",
              "        0.01055582, -0.01147585, -0.02208339,  0.00500552, -0.01462597,\n",
              "        0.00794282, -0.00260677,  0.0171824 ,  0.03181852, -0.00321285,\n",
              "       -0.02970753, -0.0180833 ,  0.05834262,  0.0139974 ,  0.00905318,\n",
              "       -0.0262955 , -0.02284593,  0.01238911, -0.00635663,  0.00332743,\n",
              "       -0.01650503, -0.04849815,  0.00375884,  0.02589556,  0.01286025,\n",
              "       -0.01281874, -0.01149977, -0.00592371,  0.00278061,  0.02268706,\n",
              "        0.02786839, -0.00661711, -0.02825448, -0.0309907 , -0.03520583,\n",
              "        0.00631134, -0.00469229, -0.00435015,  0.00394286,  0.00127773,\n",
              "        0.00780185,  0.0073917 , -0.00463056,  0.0387722 ,  0.01826871,\n",
              "       -0.02057819, -0.00101473, -0.00250909, -0.02092419,  0.03859093,\n",
              "        0.03021396,  0.03626089, -0.02499929, -0.0046505 , -0.01607798,\n",
              "        0.01720735, -0.02782298, -0.0016507 , -0.04014146, -0.00889118,\n",
              "        0.01603428, -0.00152423,  0.00800425,  0.01990888,  0.01396052,\n",
              "       -0.00108676,  0.00225149,  0.0156401 ,  0.02561945, -0.01080067,\n",
              "       -0.01299247, -0.0062581 ,  0.03460691,  0.01389724,  0.01135309,\n",
              "        0.00774682,  0.01296193,  0.01972358, -0.0173463 , -0.0121753 ,\n",
              "        0.007572  , -0.03629706,  0.00540435,  0.00486883,  0.00546516,\n",
              "        0.02999436, -0.01411893, -0.04502978,  0.00119861, -0.0592086 ,\n",
              "        0.01005157,  0.00485356,  0.01202619, -0.00310751, -0.01793934],\n",
              "      dtype=float32)"
            ]
          },
          "metadata": {
            "tags": []
          },
          "execution_count": 25
        }
      ]
    },
    {
      "cell_type": "code",
      "metadata": {
        "id": "QNgXZqiImgTi",
        "colab_type": "code",
        "colab": {
          "base_uri": "https://localhost:8080/",
          "height": 102
        },
        "outputId": "42e558cd-25e6-4384-bade-5331b5004885"
      },
      "source": [
        " #use the most_similar utility to find the most similar documents.\n",
        "docmodel_1.docvecs.most_similar(positive=[ivec],topn=5)\n"
      ],
      "execution_count": 26,
      "outputs": [
        {
          "output_type": "execute_result",
          "data": {
            "text/plain": [
              "[(3531, 0.9329303503036499),\n",
              " (2641, 0.9282349348068237),\n",
              " (937, 0.923004686832428),\n",
              " (3251, 0.9198874235153198),\n",
              " (1035, 0.9177699685096741)]"
            ]
          },
          "metadata": {
            "tags": []
          },
          "execution_count": 26
        }
      ]
    },
    {
      "cell_type": "code",
      "metadata": {
        "id": "zFn9g5ia_O7m",
        "colab_type": "code",
        "colab": {}
      },
      "source": [
        "#unknown combination \n",
        "sample_test2=['12345']"
      ],
      "execution_count": 28,
      "outputs": []
    },
    {
      "cell_type": "code",
      "metadata": {
        "id": "OILR5a3LtaPV",
        "colab_type": "code",
        "colab": {
          "base_uri": "https://localhost:8080/",
          "height": 459
        },
        "outputId": "0af04521-362d-427f-d898-d4580c6c6aaf"
      },
      "source": [
        "#infer the vector from the given token list\n",
        "ivec = docmodel_1.infer_vector(doc_words=sample_test2,steps=10,alpha=0.025)\n",
        "#print the vector\n",
        "ivec"
      ],
      "execution_count": 30,
      "outputs": [
        {
          "output_type": "execute_result",
          "data": {
            "text/plain": [
              "array([-8.8115502e-04, -1.8525552e-03,  2.0557570e-03,  3.9933147e-03,\n",
              "        1.4572243e-04,  2.7701638e-03,  4.0641632e-03, -2.4705844e-03,\n",
              "        6.3002037e-05, -2.2710913e-03,  3.8941840e-03,  1.4516573e-05,\n",
              "       -2.9413095e-03,  4.5014569e-03, -1.9152458e-03, -1.3832700e-03,\n",
              "        2.4619498e-03, -4.4001122e-03, -4.2090733e-03,  4.9548346e-04,\n",
              "       -3.4397647e-03, -2.6755854e-03,  7.3118368e-04, -2.9515261e-03,\n",
              "        4.8349798e-03,  3.3717223e-03, -4.3754629e-03, -3.9012949e-03,\n",
              "       -3.2404491e-03,  4.1739913e-03,  4.9900752e-03, -2.2359909e-03,\n",
              "        6.7802006e-04,  2.1655424e-04, -3.4877532e-03,  1.8668710e-03,\n",
              "       -1.1946940e-03,  2.7455580e-03, -1.7343558e-03, -3.1309703e-04,\n",
              "        3.4094311e-03, -4.6428605e-03, -7.7772286e-04,  2.0690940e-03,\n",
              "       -2.1346211e-03,  4.7781039e-03, -3.4869038e-03,  2.9427398e-03,\n",
              "        1.6213310e-03, -2.5666384e-03,  2.8811037e-04, -3.7913001e-03,\n",
              "        1.2616697e-03, -4.4075004e-03, -1.8354278e-03,  3.5134121e-03,\n",
              "        3.3737207e-03, -4.9506652e-04, -2.3617514e-03,  3.2428801e-03,\n",
              "        6.2068133e-04, -2.0996875e-03, -3.6798408e-03, -4.3919048e-04,\n",
              "        1.1920268e-03, -2.6758106e-03, -3.4186286e-03, -1.9749913e-04,\n",
              "        2.2586861e-03, -2.9523179e-03, -2.2018250e-04,  1.9049656e-03,\n",
              "        8.3811081e-04, -2.2560912e-03,  3.1149029e-03, -1.2865234e-03,\n",
              "        4.0385121e-04, -7.9087360e-04,  2.1592621e-03, -1.5828719e-04,\n",
              "       -3.1464573e-03,  1.4182327e-03, -2.6821517e-03, -3.8717014e-03,\n",
              "       -1.3087718e-03,  4.3289056e-03,  2.7484058e-03, -2.9130923e-03,\n",
              "       -5.7139929e-04, -2.9514953e-03, -1.1047095e-03, -1.1576526e-03,\n",
              "        2.2973337e-03, -4.4226749e-03,  7.5775686e-05, -4.8887497e-03,\n",
              "       -3.5347580e-03, -2.6591745e-04, -1.9851434e-03,  4.2450218e-03],\n",
              "      dtype=float32)"
            ]
          },
          "metadata": {
            "tags": []
          },
          "execution_count": 30
        }
      ]
    },
    {
      "cell_type": "code",
      "metadata": {
        "id": "acbI0QbclMn0",
        "colab_type": "code",
        "colab": {
          "base_uri": "https://localhost:8080/",
          "height": 102
        },
        "outputId": "5c756143-c3f7-437b-ba74-0325f6fe8269"
      },
      "source": [
        " #use the most_similar utility to find the most similar documents.\n",
        "docmodel_1.docvecs.most_similar(positive=[ivec],topn=5)"
      ],
      "execution_count": 31,
      "outputs": [
        {
          "output_type": "execute_result",
          "data": {
            "text/plain": [
              "[(2302, 0.3161966800689697),\n",
              " (2827, 0.26799094676971436),\n",
              " (426, 0.24871395528316498),\n",
              " (3379, 0.2482748031616211),\n",
              " (251, 0.24622048437595367)]"
            ]
          },
          "metadata": {
            "tags": []
          },
          "execution_count": 31
        }
      ]
    },
    {
      "cell_type": "markdown",
      "metadata": {
        "id": "eQfyrJMeZZsp",
        "colab_type": "text"
      },
      "source": [
        ""
      ]
    }
  ]
}